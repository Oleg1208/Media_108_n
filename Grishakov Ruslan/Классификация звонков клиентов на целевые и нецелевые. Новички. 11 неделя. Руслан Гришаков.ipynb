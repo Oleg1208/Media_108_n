{
  "nbformat": 4,
  "nbformat_minor": 0,
  "metadata": {
    "colab": {
      "provenance": [],
      "collapsed_sections": [
        "CIgT9kE4KHqe",
        "pTohUadq_HUC",
        "ec6D0c_ueUPs",
        "SRtVWsD6eUPt",
        "kbc1ff-1eUPv",
        "22vlkN0beUPw",
        "hyBXBxv6eUPy",
        "rVDYF0C9YQcB",
        "Vc-723j884jb",
        "wgzJoDNDczVj",
        "y1MmYHYtWcV3",
        "q26aAb2b6Ikx",
        "rah04-ZDCK3_"
      ],
      "gpuType": "T4"
    },
    "kernelspec": {
      "name": "python3",
      "display_name": "Python 3"
    },
    "language_info": {
      "name": "python"
    },
    "accelerator": "GPU"
  },
  "cells": [
    {
      "cell_type": "markdown",
      "source": [
        "# [Техническое задание](https://docs.google.com/document/d/1ZIu6daXZRuDR796AHjKCku643hlM3xgYxW9E84DBJFc/edit?usp=sharing)"
      ],
      "metadata": {
        "id": "CIgT9kE4KHqe"
      }
    },
    {
      "cell_type": "markdown",
      "source": [
        "**Проект:** Классификация аудиозвонков на целевые и нецелевые."
      ],
      "metadata": {
        "id": "FaaxUmqWKHqt"
      }
    },
    {
      "cell_type": "markdown",
      "source": [
        "**Цель проекта:** Разработать нейронную сеть, способную классифицировать аудиозвонки на целевые и нецелевые на основе предоставленной базы данных и csv-таблицы с описаниями и метками классов."
      ],
      "metadata": {
        "id": "GQSHmPOcKHq0"
      }
    },
    {
      "cell_type": "markdown",
      "source": [
        "**Введение:**\n",
        "\n",
        "Входной набор данных представляет из себя два набора файлов:\n",
        "\n",
        "> a)\t[Первый набор файлов](https://drive.google.com/drive/folders/1cQWMpQkscZJbbOTxiJNy0o3nuaeIiB1P?usp=sharing) - это выгрузки в формате `CSV` с информацией по звонкам, а так же с проставленным статусом `“целевой/нецелевой”` в отдельном столбце (обратите внимание, что по проекту `“Павелецкая сити”` две выгрузки - эти наборы данных отличаются и относятся к разным наборам клиентов внутри одного и того же проекта).\n",
        "\n",
        "> b)\t[Второй набор файлов](https://drive.google.com/drive/folders/1K3jGCH60uzFcsI3aj89VIXOOFEXvZxD6?usp=sharing) - аудиозаписи звонков. Они хранятся в корневом каталоге в одноимённых папках. К примеру, в папке `“Записи звонков_павелецкая сити”` лежат записи звонков по проекту `“Павелецкая Сити”`."
      ],
      "metadata": {
        "id": "-UhJ6TikKHq1"
      }
    },
    {
      "cell_type": "markdown",
      "source": [
        "**Требования:**\n",
        "\n",
        "1.   Нейронная сеть должна быть спроектирована и обучена для точной классификации аудиозвонков на два класса: целевые и нецелевые (с точностью `90+%`).\n",
        "2.   Необходимо обеспечить интеграцию модели через `API`.\n",
        "3.   Модель должна быть оптимизирована для обработки большого объёма данных.\n",
        "4.   Код должен быть написан с соблюдением стандартов кодирования, и должна быть составлена подробная техническая документация.\n",
        "5.   Код должен включать в себя систему журналирования для фиксации ошибок.\n",
        "6.   Код должен принимать на вход регулярное выражение, по которому будет осуществляться проверка столбца `“теги”` в выгрузках `CSV` для определения статуса звонка `“целевой/нецелевой”`:\n",
        "\n",
        ">> a)\tпо проектам `“Примавера”` и `“Павелецкая сити”` наличие в столбце с тегами подстроки `“Целевой_М108“` будет равняться тому, что данный звонок целевой (пример регулярного выражения: `.*Целевой_М108.*`);\n",
        "\n",
        ">> b)\tпо проекту `“Хедлайнер”` - наличие в столбце с тегами подстроки `“первичный целевой“` будет равняться тому, что данный звонок целевой.\n",
        "\n",
        "7.   После реализации необходимо иметь возможность получения поддержки по предоставленному решению в течение `2 месяцев`."
      ],
      "metadata": {
        "id": "13vIGhs0KHq4"
      }
    },
    {
      "cell_type": "markdown",
      "source": [
        "Список рекомендуемых параметров для звуковой записи (данный список носит информационный характер и не является обязательным):\n",
        "\n",
        "*   Эмоция (базовые 11: радость; печаль; гнев; отвращение; удивление; страдание (горе); волнение (интерес); презрение; смущение; стыд; вина).\n",
        "*   Пол.\n",
        "*   Возраст.\n",
        "*   Семантический анализ диалога (по конкретным ключевым словам и/или по тематикам диалогов).\n",
        "*   Характеристики, присутствующие в `CSV`/`XLSX` таблицах."
      ],
      "metadata": {
        "id": "seG9MxfuKHq6"
      }
    },
    {
      "cell_type": "markdown",
      "source": [
        "# Критерии классификации"
      ],
      "metadata": {
        "id": "pTohUadq_HUC"
      }
    },
    {
      "cell_type": "markdown",
      "source": [
        "Критерии `уникально-целевого` обращения:\n",
        "1. Длительность звонка должна быть не менее `75 секунд`;\n",
        "2. Телефонный номер абонента должен быть `уникальным`, т. е. его не должно быть в `CRM` заказчика. Либо, по нему не должно быть активности за последние `90 дней`. Исключение составляют `топовые площадки`, работающие по своим критериям (`ЦИАН`, `Яндекс.Недвижимость`, `Авито`, и т. д.);\n",
        "3. Клиент должен знать минимальную информацию об объекте (понимать, куда он звонит): название `ЖК`, расположение, ценовую политику;\n",
        "4. Номер абонента должен быть доступен в течение `15 дней` после совершённого звонка (при этом со стороны заказчика должно быть обеспечено `2 попытки` исходящего звонка в течение указанного срока);\n",
        "5. Клиент должен быть `«адекватным»`. Не общаться на повышенных тонах, не употреблять ненормативную лексику и т. д.;\n",
        "6. Клиент не должен быть повторным. Например, клиент `уже` купил квартиру и через `90 дней` решил купить машиноместо;\n",
        "7. Заявка. В заявке должен быть указан номер телефона, а абонент при контакте с менеджером должен соответствовать всем критериям `уникально-целевого` обращения, перечисленным выше;\n",
        "8. Озвученный общий бюджет покупки не должен быть `ниже 90%` от стоимости квартиры или коммерческого помещения, соответствующих площади/комнатности на момент обращения;\n",
        "9. В случае, если клиент является уникальным, интересуется покупкой недвижимости, не является представителем партнёров или исполнителей и изъявил желание посетить офис продаж. При этом не обязательна фиксация уровня знания клиента об объекте в диалоге. При этом источник не должен относиться к каналам `«лидогенерация»` или `«тематические площадки»`;\n",
        "10. Основной целью звонка клиента не должна являться покупка/аренда исключительно нежилого помещения, если это не являлось целью проводимой рекламной кампании.\n",
        "\n",
        "Критерии НЕ `уникально-целевого` (вторичного) обращения:\n",
        "1. Клиент позвонил повторно менее чем через `3 месяца` (`90 дней`) с момента последнего обращения;\n",
        "2. Клиент, либо члены его семьи, уже купил (купили) `квартиру`/`машиноместо`/`кладовое помещение`, и хочет (хотят) совершить ещё одну покупку. В данном случае клиент относится к показателю `LTV` (показатель прибыли, которую компания получает от одного клиента за всё время работы с ним)."
      ],
      "metadata": {
        "id": "F1Im0SOi_S8W"
      }
    },
    {
      "cell_type": "markdown",
      "source": [
        "# [Датафреймы](https://drive.google.com/drive/folders/111abiHt33Q-SV48pBPhEgDCZDI5KshnF?usp=sharing)"
      ],
      "metadata": {
        "id": "ec6D0c_ueUPs"
      }
    },
    {
      "cell_type": "markdown",
      "source": [
        "## Headliner"
      ],
      "metadata": {
        "id": "SRtVWsD6eUPt"
      }
    },
    {
      "cell_type": "markdown",
      "source": [
        "*   [`Headliner_df.pkl` Информация о звонках `Headliner`](https://drive.google.com/file/d/13mUHwvx79O4P-AucRdjBYkN5ha8LnCSp/view?usp=sharing)\n",
        "*   [`Headliner_new_df.pkl` Информация о новых звонках `Headliner`](https://drive.google.com/file/d/1-Q1BxLbot7svY5hiqOquHRFvSOcwtpKS/view?usp=sharing)"
      ],
      "metadata": {
        "id": "D0b4r_r_eUPt"
      }
    },
    {
      "cell_type": "markdown",
      "source": [
        "*   [`Headliner_calls_df.pkl` Файлы записей звонков `Headliner`](https://drive.google.com/file/d/13pmGEYacsEHjYsIsYgf6fg4MUHAw509y/view?usp=sharing)\n",
        "*   [`Headliner_new_calls_df.pkl` Файлы записей новых звонков `Headliner`](https://drive.google.com/file/d/1-Ke1q42th_NV0og0e01_-mvJ8HL8JzfS/view?usp=sharing)\n",
        "*   [`Headliner_transcriptions_df` Файлы транскрибации записей звонков `Headliner`](https://drive.google.com/file/d/1ThU49xWSv3T-HK61jRykOR3UDvOVeO4i/view?usp=sharing)\n",
        "*   [`Headliner_new_transcriptions_df.pkl` Файлы транскрибации новых записей звонков `Headliner`](https://drive.google.com/file/d/1-BSmmymyVo8VYyvDXsO1ybXldOJ5eUaH/view?usp=sharing)"
      ],
      "metadata": {
        "id": "oRkYDvvyeUPu"
      }
    },
    {
      "cell_type": "markdown",
      "source": [
        "*   [`Headliner_all_df.pkl` Информация о всех звонках `Headliner`](https://drive.google.com/file/d/1857LwaVtJ364yFMpXemILSuVu84YEPPw/view?usp=sharing)\n",
        "*   [`Headliner_work_df.pkl` Рабочий датафрейм с информацией о всех звонках `Headliner`](https://drive.google.com/file/d/1-HOWuSAngv9dXYiMlyRXX0kmVVAAT4sV/view?usp=sharing)\n",
        "*   [`Headliner_targets_df.pkl` Целевые звонки `Headliner`](https://drive.google.com/file/d/1-J1gcgb2mrNDx3R_3l12kq0htS8PTkSv/view?usp=sharing)\n",
        "*   [`Headliner_not_targets_df.pkl` Нецелевые звонки `Headliner`](https://drive.google.com/file/d/1dGf3UrVeQg0VfFhBL_lZfm-gaczPYBnL/view?usp=sharing)\n",
        "*   [`Headliner_moot_df.pkl` Спорные звонки `Headliner`](https://drive.google.com/file/d/1-7vtN8vJNWgWfY8JE8bqoRXkUpvRE_og/view?usp=sharing)"
      ],
      "metadata": {
        "id": "mDL3pxvjeUPu"
      }
    },
    {
      "cell_type": "markdown",
      "source": [
        "*   [`Headliner_targets_train_df.pkl` Целевые звонки `Headliner` для обучающей выборки](https://drive.google.com/file/d/1mXwujIDOQ_wbP68pl60mEkPVm6dYJf9Y/view?usp=sharing)\n",
        "*   [`Headliner_not_targets_train_df.pkl` Нецелевые звонки `Headliner` для обучающей выборки](https://drive.google.com/file/d/1-CvhJxwCVooN5_OcXUJAl519m76JOvbN/view?usp=sharing)\n",
        "*   [`Headliner_moot_train_df.pkl` Спорные звонки `Headliner` для обучающей выборки](https://drive.google.com/file/d/1-KwRSk9Jrf5Get1dwFvHECmb26QDdhRa/view?usp=sharing)"
      ],
      "metadata": {
        "id": "bVtpCEngH-8W"
      }
    },
    {
      "cell_type": "markdown",
      "source": [
        "*   [`Headliner_targets_test_df.pkl` Целевые звонки `Headliner` для тестовой выборки](https://drive.google.com/file/d/1-3bxOkIwEoSAXNjzE7wjZ8AhM4Z1-xfN/view?usp=sharing)\n",
        "*   [`Headliner_not_targets_test_df.pkl` Нецелевые звонки `Headliner`для тестовой выборки](https://drive.google.com/file/d/1-DAv-KEY8APguoXgIgaonsb1fQ4rrMag/view?usp=sharing)\n",
        "*   [`Headliner_moot_test_df.pkl` Спорные звонки `Headliner`для тестовой выборки](https://drive.google.com/file/d/1-Q-VwKTqoPZohQxBCZRFL-BvZXB7SJhc/view?usp=sharing)"
      ],
      "metadata": {
        "id": "D868cWsyID-Q"
      }
    },
    {
      "cell_type": "markdown",
      "source": [
        "## Primavera"
      ],
      "metadata": {
        "id": "kbc1ff-1eUPv"
      }
    },
    {
      "cell_type": "markdown",
      "source": [
        "*   [`Primavera_df.pkl` Информация о звонках `Primavera`](https://drive.google.com/file/d/1-3csPnjIJXviKJzvbpCfOm29nBgl8L4Q/view?usp=sharing)\n",
        "*   [`Primavera_new_df.pkl` Информация о новых звонках `Primavera`](https://drive.google.com/file/d/1-QmWkabU2_cyrXPeVaiHSt2e6sLuiCtp/view?usp=sharing)"
      ],
      "metadata": {
        "id": "qVHFTfk4eUPv"
      }
    },
    {
      "cell_type": "markdown",
      "source": [
        "*   [`Primavera_calls_df.pkl` Файлы записей звонков `Primavera`](https://drive.google.com/file/d/1-CLRfPyaGSc61OopNuFRlWTG-CBCaM1F/view?usp=sharing)\n",
        "*   [`Primavera_new_calls_df.pkl` Файлы записей новых звонков `Primavera`](https://drive.google.com/file/d/1-Lxa0KifMiByareL94rdEzEpvvMj4D1T/view?usp=sharing)\n",
        "*   [`Primavera_transcriptions_df` Файлы транскрибации записей звонков `Primavera`](https://drive.google.com/file/d/1-21AcHmdkRhKmL0uwWOJ0jHyY8sj1tME/view?usp=sharing)\n",
        "*   [`Primavera_new_transcriptions_df.pkl` Файлы транскрибации новых записей звонков `Primavera`](https://drive.google.com/file/d/1-BtSBVH2JXol5JDA0GKV4NOIz5WUnUd5/view?usp=sharing)"
      ],
      "metadata": {
        "id": "isfUjkQdeUPv"
      }
    },
    {
      "cell_type": "markdown",
      "source": [
        "*   [`Primavera_all_df.pkl` Информация о всех звонках `Primavera`](https://drive.google.com/file/d/1-2-RlxkKHj5e6RkvbrN7_vs1h5aVXJFk/view?usp=sharing)\n",
        "*   [`Primavera_work_df.pkl` Рабочий датафрейм с информацией о всех звонках `Primavera`](https://drive.google.com/file/d/1-INI9JsU9jsOkPDiGMKhftt18KXgF6-K/view?usp=sharing)\n",
        "*   [`Primavera_targets_df.pkl` Целевые звонки `Primavera`](https://drive.google.com/file/d/1-JVtM9fOr6XoM7MVxkoVsYfwdZ6GQ--i/view?usp=sharing)\n",
        "*   [`Primavera_not_targets_df.pkl` Нецелевые звонки `Primavera`](https://drive.google.com/file/d/1-KwG8M-0wEn-5C4ta-B8_xYGCXDOhpnH/view?usp=sharing)"
      ],
      "metadata": {
        "id": "65OiaZuleUPw"
      }
    },
    {
      "cell_type": "markdown",
      "source": [
        "*   [`Primavera_targets_train_df.pkl` Целевые звонки `Primavera` для обучающей выборки](https://drive.google.com/file/d/1WY910LSwTDTf_m7vtFk3z9FqXao0FhZX/view?usp=sharing)\n",
        "*   [`Primavera_not_targets_train_df.pkl` Нецелевые звонки `Primavera` для обучающей выборки](https://drive.google.com/file/d/1-5TvmSizrXJHNXnfdbBafq8CjG65AiMG/view?usp=sharing)"
      ],
      "metadata": {
        "id": "jBoDVYilJfKe"
      }
    },
    {
      "cell_type": "markdown",
      "source": [
        "*   [`Primavera_targets_test_df.pkl` Целевые звонки `Primavera` для тестовой выборки](https://drive.google.com/file/d/1-4s9BrHxpT_fzyXe4E03_GqGIFPZf9Io/view?usp=sharing)\n",
        "*   [`Primavera_not_targets_test_df.pkl` Нецелевые звонки `Primavera`для тестовой выборки](https://drive.google.com/file/d/1-EOHhmMQ7SFhS51_rIh7UCwm68W18twC/view?usp=sharing)"
      ],
      "metadata": {
        "id": "IjBqZg8mJhyT"
      }
    },
    {
      "cell_type": "markdown",
      "source": [
        "## Paveletskaya_city"
      ],
      "metadata": {
        "id": "22vlkN0beUPw"
      }
    },
    {
      "cell_type": "markdown",
      "source": [
        "*   [`Paveletskaya_city_df.pkl` Информация о звонках `Paveletskaya_city`](https://drive.google.com/file/d/1-99dLkSvU3wdwjkGJpwpYUXQjxx8dwEu/view?usp=sharing)\n",
        "*   [`Paveletskaya_df.pkl` Информация о звонках `Paveletskaya_city`](https://drive.google.com/file/d/1-D6LlCFXQBMHceujvnq9H8rlx2jAnzmT/view?usp=sharing)\n",
        "*   [`Paveletskaya_city_new_df.pkl` Информация о новых звонках `Paveletskaya_city`](https://drive.google.com/file/d/1-Rtw9a1no3mKatUjc_FNv_bgUBdNrs_d/view?usp=sharing)"
      ],
      "metadata": {
        "id": "dqdBIi9teUPw"
      }
    },
    {
      "cell_type": "markdown",
      "source": [
        "*   [`Paveletskaya_city_calls_df.pkl` Файлы записей звонков `Paveletskaya_city`](https://drive.google.com/file/d/1-JevsfOpxzLNZmSs34qrswhGzhPwf69S/view?usp=sharing)\n",
        "*   [`Paveletskaya_city_new_calls_df.pkl` Файлы записей новых звонков `Paveletskaya_city`](https://drive.google.com/file/d/1-ODEeFLv15DN5bfLlwyrTx8D3yxydhP9/view?usp=sharing)\n",
        "*   [`Paveletskaya_city_transcriptions_df` Файлы транскрибации записей звонков `Paveletskaya_city`](https://drive.google.com/file/d/1-2kqmIGIraP70ekXB6LBqNjwaTnoxyk5/view?usp=sharing)\n",
        "*   [`Paveletskaya_city_new_transcriptions_df.pkl` Файлы транскрибации новых записей звонков `Paveletskaya_city`](https://drive.google.com/file/d/1-EfA8ZCpGNQk__puhiv1FuxoZC0rXxpj/view?usp=sharing)"
      ],
      "metadata": {
        "id": "LDBkuBxyeUPx"
      }
    },
    {
      "cell_type": "markdown",
      "source": [
        "*   [`Paveletskaya_city_all_df.pkl` Информация о всех звонках `Paveletskaya_city`](https://drive.google.com/file/d/1-Cy78DqRZ3sbIHkg25wzVWPL-lST5oQa/view?usp=sharing)\n",
        "*   [`Paveletskaya_city_work_df.pkl` Рабочий датафрейм с информацией о всех звонках `Paveletskaya_city`](https://drive.google.com/file/d/1-J1BoALFH4-HRdVXjnkyr-fExmtQpUc7/view?usp=sharing)\n",
        "*   [`Paveletskaya_city_targets_df.pkl` Целевые звонки `Paveletskaya_city`](https://drive.google.com/file/d/1-MrjnBHDj65CEjJxLfPnp-hq07V_wtZK/view?usp=sharing)\n",
        "*   [`Paveletskaya_city_not_targets_df.pkl` Нецелевые звонки `Paveletskaya_city`](https://drive.google.com/file/d/1-WCCyYaorHkBYoh5ugNsCkD7cb1PKH6D/view?usp=sharing)"
      ],
      "metadata": {
        "id": "8sY31zxleUPx"
      }
    },
    {
      "cell_type": "markdown",
      "source": [
        "*   [`Paveletskaya_city_targets_train_df.pkl` Целевые звонки `Paveletskaya_city` для обучающей выборки](https://drive.google.com/file/d/1-E_xfQcc9vaGxEJSiUeiEp5fbxn-1bxZ/view?usp=sharing)\n",
        "*   [`Paveletskaya_city_not_targets_train_df.pkl` Нецелевые звонки `Paveletskaya_city` для обучающей выборки](https://drive.google.com/file/d/1-XqcAK06ppsTLagZGpeXX96e2yhDt-iz/view?usp=sharing)"
      ],
      "metadata": {
        "id": "MN_bZUdMKWzC"
      }
    },
    {
      "cell_type": "markdown",
      "source": [
        "*   [`Paveletskaya_city_targets_test_df.pkl` Целевые звонки `Paveletskaya_city` для тестовой выборки](https://drive.google.com/file/d/1-VUl5bcPpEoEsQfyEQZyYy_ESrbx-sR1/view?usp=sharing)\n",
        "*   [`Paveletskaya_city_not_targets_test_df.pkl` Нецелевые звонки `Paveletskaya_city`для тестовой выборки](https://drive.google.com/file/d/1-dCaZZ2NtvODY2KWwsEgwUOhdqD0Szkv/view?usp=sharing)"
      ],
      "metadata": {
        "id": "rfNOFCFyKZKo"
      }
    },
    {
      "cell_type": "markdown",
      "source": [
        "## Сводные датафреймы"
      ],
      "metadata": {
        "id": "hyBXBxv6eUPy"
      }
    },
    {
      "cell_type": "markdown",
      "source": [
        "*   [`total_df.pkl` Сводный датафрейм с информацией о всех звонках](https://drive.google.com/file/d/15ijhw62sp2JNH6pryqZtM5akQHUnsTzi/view?usp=sharing)\n",
        "*   [`total_work_df.pkl` Сводный рабочий датафрейм с информацией о всех звонках](https://drive.google.com/file/d/1-056tLrjP5yRQW8yRtwutvXs3zmPulW7/view?usp=sharing)"
      ],
      "metadata": {
        "id": "ArIV377meUPy"
      }
    },
    {
      "cell_type": "markdown",
      "source": [
        "*   [`train_df.pkl` Обучающая выборка](https://drive.google.com/file/d/1-nipawwiXKNPeMIE2nxlAOZCVK_5N89B/view?usp=sharing)\n",
        "*   [`test_df.pkl` Тестовая выборка](https://drive.google.com/file/d/1-sLBh5rMAhVI7ps68eiSMEVfwjB7PNdT/view?usp=sharing)"
      ],
      "metadata": {
        "id": "lc8ZhhsELA5r"
      }
    },
    {
      "cell_type": "markdown",
      "source": [
        "# 11 неделя"
      ],
      "metadata": {
        "id": "rVDYF0C9YQcB"
      }
    },
    {
      "cell_type": "markdown",
      "source": [
        "## Демонстрация интеграции в `prod`"
      ],
      "metadata": {
        "id": "Vc-723j884jb"
      }
    },
    {
      "cell_type": "markdown",
      "source": [
        "### head-liner.ru"
      ],
      "metadata": {
        "id": "wgzJoDNDczVj"
      }
    },
    {
      "cell_type": "code",
      "source": [
        "# Загрузка токенайзера\n",
        "import gdown\n",
        "url = 'https://drive.google.com/file/d/1-cPqoIlY56nNjeCVFN-j3YO-aTf8NdkS/view?usp=sharing'\n",
        "gdown.download(url, quiet=True, fuzzy=True)"
      ],
      "metadata": {
        "colab": {
          "base_uri": "https://localhost:8080/",
          "height": 35
        },
        "id": "g86XpWmBk80u",
        "outputId": "c98c75d8-f894-4c0b-cea1-db77f9c5719b"
      },
      "execution_count": null,
      "outputs": [
        {
          "output_type": "execute_result",
          "data": {
            "text/plain": [
              "'tokenizer.pkl'"
            ],
            "application/vnd.google.colaboratory.intrinsic+json": {
              "type": "string"
            }
          },
          "metadata": {},
          "execution_count": 1
        }
      ]
    },
    {
      "cell_type": "code",
      "source": [
        "# Загрузка модели нейронной сети\n",
        "url = 'https://drive.google.com/file/d/1-czQCHQMtlxdtdQVTla9LTGCFdVcX3JM/view?usp=sharing'\n",
        "gdown.download(url, quiet=True, fuzzy=True)"
      ],
      "metadata": {
        "colab": {
          "base_uri": "https://localhost:8080/",
          "height": 35
        },
        "id": "70tHnc0dghT8",
        "outputId": "d8fc1ab7-1a93-4c8d-f3a7-0f858b61c972"
      },
      "execution_count": null,
      "outputs": [
        {
          "output_type": "execute_result",
          "data": {
            "text/plain": [
              "'model_BoW.keras'"
            ],
            "application/vnd.google.colaboratory.intrinsic+json": {
              "type": "string"
            }
          },
          "metadata": {},
          "execution_count": 2
        }
      ]
    },
    {
      "cell_type": "code",
      "source": [
        "# Загрузка информации о звонках\n",
        "import pandas as pd\n",
        "url = 'https://drive.google.com/file/d/1A3iuMNcDI_J7BlNvERDlmj90WMvMcPcR/view?usp=drive_link'\n",
        "df = pd.read_csv('https://drive.google.com/uc?id=' + url.split('/')[-2],\n",
        "                 skiprows=4,\n",
        "                 sep=';',\n",
        "                 on_bad_lines='skip')\n",
        "df.shape"
      ],
      "metadata": {
        "colab": {
          "base_uri": "https://localhost:8080/"
        },
        "id": "2wKX4tf7f4q2",
        "outputId": "267972b2-725b-462c-952e-79f7098794b5"
      },
      "execution_count": null,
      "outputs": [
        {
          "output_type": "execute_result",
          "data": {
            "text/plain": [
              "(4752, 72)"
            ]
          },
          "metadata": {},
          "execution_count": 3
        }
      ]
    },
    {
      "cell_type": "code",
      "source": [
        "# Загрузка записей звонков\n",
        "url = 'https://drive.google.com/drive/folders/1ynAu-3i0f1tS6UGqapmPGDFcJZLoCrAQ?usp=drive_link'\n",
        "gdown.download_folder(url, quiet=True, remaining_ok=True)"
      ],
      "metadata": {
        "colab": {
          "base_uri": "https://localhost:8080/"
        },
        "id": "X6Vb3UARWBSU",
        "outputId": "511fbf9a-5230-4235-9c83-d78f92277832"
      },
      "execution_count": null,
      "outputs": [
        {
          "output_type": "execute_result",
          "data": {
            "text/plain": [
              "['/content/Записи звонков_хедлайнер/2023-05-08_10-41-56.911054_from_79250817178_to_74959339929_session_2928050751_talk.mp3',\n",
              " '/content/Записи звонков_хедлайнер/2023-05-08_11-43-52.513973_from_79827693228_to_0188880_session_2937971588_talk.mp3',\n",
              " '/content/Записи звонков_хедлайнер/2023-05-08_12-34-46.730988_from_79622801999_to_0188880_session_2928807121_talk.mp3',\n",
              " '/content/Записи звонков_хедлайнер/2023-05-08_12-35-55.567230_from_79622801999_to_0188880_session_2938080128_talk.mp3',\n",
              " '/content/Записи звонков_хедлайнер/2023-05-08_12-51-38.868213_from_74997040921_to_0188880_session_2928283255_talk.mp3',\n",
              " '/content/Записи звонков_хедлайнер/2023-05-08_13-50-28.475837_from_79279152761_to_79191089861_session_2928935657_talk.mp3',\n",
              " '/content/Записи звонков_хедлайнер/2023-05-08_13-52-16.157543_from_79279152761_to_79191089861_session_2928938049_talk.mp3',\n",
              " '/content/Записи звонков_хедлайнер/2023-05-08_14-16-30.536713_from_79261116646_to_0188880_session_2928975097_talk.mp3',\n",
              " '/content/Записи звонков_хедлайнер/2023-05-08_14-47-04.517454_from_79282143214_to_0188880_session_2938333136_talk.mp3',\n",
              " '/content/Записи звонков_хедлайнер/2023-05-08_16-14-10.247769_from_74955199580_to_74997552563_session_2918538922_talk.mp3',\n",
              " '/content/Записи звонков_хедлайнер/2023-05-08_18-50-13.838052_from_74954174271_to_0188880_session_2929370545_talk.mp3',\n",
              " '/content/Записи звонков_хедлайнер/2023-05-09_10-32-18.366336_from_79508730557_to_0188880_session_2939148092_talk.mp3',\n",
              " '/content/Записи звонков_хедлайнер/2023-05-09_11-53-48.291185_from_79910665524_to_74997552563_session_2919161802_talk.mp3',\n",
              " '/content/Записи звонков_хедлайнер/2023-05-09_12-17-32.617113_from_79064011000_to_74959339902_session_2929311247_talk.mp3',\n",
              " '/content/Записи звонков_хедлайнер/2023-05-09_13-10-50.367190_from_74992419775_to_0188880_session_2929372379_talk.mp3',\n",
              " '/content/Записи звонков_хедлайнер/2023-05-09_13-58-58.773808_from_79823830002_to_74997552563_session_2939439048_talk.mp3',\n",
              " '/content/Записи звонков_хедлайнер/2023-05-09_14-30-38.161392_from_79096321475_to_74957898990_session_2929465891_talk.mp3',\n",
              " '/content/Записи звонков_хедлайнер/2023-05-09_14-50-18.968938_from_79777980969_to_74957898990_session_2939506208_talk.mp3',\n",
              " '/content/Записи звонков_хедлайнер/2023-05-09_16-37-17.090565_from_79274430921_to_0188880_session_2939644136_talk.mp3',\n",
              " '/content/Записи звонков_хедлайнер/2023-05-09_16-55-59.935127_from_79274430921_to_0188880_session_2929623235_talk.mp3',\n",
              " '/content/Записи звонков_хедлайнер/2023-05-09_17-03-41.886158_from_79258813188_to_0188880_session_2930211973_talk.mp3',\n",
              " '/content/Записи звонков_хедлайнер/2023-05-09_17-37-05.805616_from_79274431194_to_0188880_session_2939712644_talk.mp3',\n",
              " '/content/Записи звонков_хедлайнер/2023-05-09_17-39-02.495114_from_79031412453_to_74997552563_session_2930249245_talk.mp3',\n",
              " '/content/Записи звонков_хедлайнер/2023-05-09_17-51-30.193682_from_79670165153_to_0188880_session_2919520238_talk.mp3',\n",
              " '/content/Записи звонков_хедлайнер/2023-05-09_18-34-04.371381_from_79274431546_to_74997552563_session_2919550530_talk.mp3',\n",
              " '/content/Записи звонков_хедлайнер/2023-05-09_20-19-21.050197_from_79274432048_to_74997552563_session_2919615074_talk.mp3',\n",
              " '/content/Записи звонков_хедлайнер/2023-05-10_09-46-49.632110_from_79115639000_to_0188880_session_2930217007_talk.mp3',\n",
              " '/content/Записи звонков_хедлайнер/2023-05-10_10-09-17.271771_from_79663447052_to_0188880_session_2920087786_talk.mp3',\n",
              " '/content/Записи звонков_хедлайнер/2023-05-10_10-45-26.907399_from_79639641553_to_0188880_session_2920207590_talk.mp3',\n",
              " '/content/Записи звонков_хедлайнер/2023-05-10_10-57-09.082275_from_79633409369_to_74957898990_session_2920243890_talk.mp3',\n",
              " '/content/Записи звонков_хедлайнер/2023-05-10_10-58-13.824596_from_79336668096_to_74957898990_session_2931066829_talk.mp3',\n",
              " '/content/Записи звонков_хедлайнер/2023-05-10_11-35-13.054375_from_79167542257_to_74997552563_session_2931126469_talk.mp3',\n",
              " '/content/Записи звонков_хедлайнер/2023-05-10_11-56-49.809252_from_79639641553_to_0188880_session_2940892544_talk.mp3',\n",
              " '/content/Записи звонков_хедлайнер/2023-05-10_12-04-01.602916_from_79264597706_to_0188880_session_2930744767_talk.mp3',\n",
              " '/content/Записи звонков_хедлайнер/2023-05-10_12-18-13.490067_from_79268458847_to_0188880_session_2931380841_talk.mp3',\n",
              " '/content/Записи звонков_хедлайнер/2023-05-10_12-29-50.389904_from_79160640610_to_74959339902_session_2930835239_talk.mp3',\n",
              " '/content/Записи звонков_хедлайнер/2023-05-10_12-30-44.828361_from_79261991702_to_0188880_session_2930842543_talk.mp3',\n",
              " '/content/Записи звонков_хедлайнер/2023-05-10_12-45-52.597185_from_79262946005_to_74959339929_session_2931495869_talk.mp3',\n",
              " '/content/Записи звонков_хедлайнер/2023-05-10_13-33-11.389371_from_79857216036_to_79154084359_session_2931067143_talk.mp3',\n",
              " '/content/Записи звонков_хедлайнер/2023-05-10_13-36-53.604277_from_79857216036_to_79191089861_session_2941298624_talk.mp3',\n",
              " '/content/Записи звонков_хедлайнер/2023-05-10_14-39-40.846623_from_79256261275_to_0188880_session_2920974222_talk.mp3',\n",
              " '/content/Записи звонков_хедлайнер/2023-05-10_14-41-41.751866_from_79035679376_to_79191089861_session_2941565172_talk.mp3',\n",
              " '/content/Записи звонков_хедлайнер/2023-05-10_14-45-40.026570_from_79823830002_to_74997552563_session_2920990562_talk.mp3',\n",
              " '/content/Записи звонков_хедлайнер/2023-05-10_14-54-56.479785_from_79264597706_to_0188880_session_2931941177_talk.mp3',\n",
              " '/content/Записи звонков_хедлайнер/2023-05-10_15-00-19.626284_from_79263608103_to_0188880_session_2931953205_talk.mp3',\n",
              " '/content/Записи звонков_хедлайнер/2023-05-10_15-00-57.316539_from_79263608103_to_0188880_session_2931957661_talk.mp3',\n",
              " '/content/Записи звонков_хедлайнер/2023-05-10_15-02-35.118332_from_79852613834_to_0188880_session_2931384623_talk.mp3',\n",
              " '/content/Записи звонков_хедлайнер/2023-05-10_15-41-10.970727_from_79255890397_to_0188880_session_2921167086_talk.mp3',\n",
              " '/content/Записи звонков_хедлайнер/2023-05-10_15-58-20.766372_from_79091597661_to_0188880_session_2941752812_talk.mp3',\n",
              " '/content/Записи звонков_хедлайнер/2023-05-10_16-05-49.015072_from_79851934089_to_0188880_session_2932192025_talk.mp3']"
            ]
          },
          "metadata": {},
          "execution_count": 4
        }
      ]
    },
    {
      "cell_type": "code",
      "source": [
        "# Добавление в датафрейм с информацией о звонках столбцов 'Файл записи звонка' и 'Проект'\n",
        "import os\n",
        "df = df.astype({'Идентификатор сессии звонка': int})\n",
        "for sample_file in os.listdir('Записи звонков_хедлайнер'):\n",
        "  df.loc[df[df['Идентификатор сессии звонка'] == int(sample_file.split('_')[-2])].index, 'Файл записи звонка'] = 'Записи звонков_хедлайнер/' + sample_file\n",
        "  df.loc[df[df['Идентификатор сессии звонка'] == int(sample_file.split('_')[-2])].index, 'Проект'] = 'head-liner.ru'"
      ],
      "metadata": {
        "id": "DJYLMz5NKc8S"
      },
      "execution_count": null,
      "outputs": []
    },
    {
      "cell_type": "code",
      "source": [
        "# Выбор столбцов, необходимых для инференса модели нейронной сети и оценки\n",
        "df = df[['Идентификатор сессии звонка',\n",
        "         'Файл записи звонка',\n",
        "         'Проект',\n",
        "         'Теги']][df['Проект'] == 'head-liner.ru']\n",
        "df.shape"
      ],
      "metadata": {
        "colab": {
          "base_uri": "https://localhost:8080/"
        },
        "id": "4T_tL66SQkqO",
        "outputId": "54bae909-8eb0-4ee1-fc2b-ebfa6015b736"
      },
      "execution_count": null,
      "outputs": [
        {
          "output_type": "execute_result",
          "data": {
            "text/plain": [
              "(50, 4)"
            ]
          },
          "metadata": {},
          "execution_count": 6
        }
      ]
    },
    {
      "cell_type": "code",
      "source": [
        "df.head()"
      ],
      "metadata": {
        "colab": {
          "base_uri": "https://localhost:8080/",
          "height": 206
        },
        "id": "jgLiYikE2jHK",
        "outputId": "eeb458d5-9e2e-4830-e215-e055e56c85c0"
      },
      "execution_count": null,
      "outputs": [
        {
          "output_type": "execute_result",
          "data": {
            "text/plain": [
              "      Идентификатор сессии звонка  \\\n",
              "4296                   2932192025   \n",
              "4297                   2941752812   \n",
              "4298                   2921167086   \n",
              "4301                   2931384623   \n",
              "4302                   2931957661   \n",
              "\n",
              "                                     Файл записи звонка         Проект  \\\n",
              "4296  Записи звонков_хедлайнер/2023-05-10_16-05-49.0...  head-liner.ru   \n",
              "4297  Записи звонков_хедлайнер/2023-05-10_15-58-20.7...  head-liner.ru   \n",
              "4298  Записи звонков_хедлайнер/2023-05-10_15-41-10.9...  head-liner.ru   \n",
              "4301  Записи звонков_хедлайнер/2023-05-10_15-02-35.1...  head-liner.ru   \n",
              "4302  Записи звонков_хедлайнер/2023-05-10_15-00-57.3...  head-liner.ru   \n",
              "\n",
              "                                           Теги  \n",
              "4296                   спорный - нет соединения  \n",
              "4297                                       Спам  \n",
              "4298                   спорный - нет соединения  \n",
              "4301  Лид - 3 очередь - 2-ком - Условно целевой  \n",
              "4302                  Нецелевой звонок - ошибка  "
            ],
            "text/html": [
              "\n",
              "  <div id=\"df-4a7561c6-cbe8-4328-941d-8ac5d9aa914e\" class=\"colab-df-container\">\n",
              "    <div>\n",
              "<style scoped>\n",
              "    .dataframe tbody tr th:only-of-type {\n",
              "        vertical-align: middle;\n",
              "    }\n",
              "\n",
              "    .dataframe tbody tr th {\n",
              "        vertical-align: top;\n",
              "    }\n",
              "\n",
              "    .dataframe thead th {\n",
              "        text-align: right;\n",
              "    }\n",
              "</style>\n",
              "<table border=\"1\" class=\"dataframe\">\n",
              "  <thead>\n",
              "    <tr style=\"text-align: right;\">\n",
              "      <th></th>\n",
              "      <th>Идентификатор сессии звонка</th>\n",
              "      <th>Файл записи звонка</th>\n",
              "      <th>Проект</th>\n",
              "      <th>Теги</th>\n",
              "    </tr>\n",
              "  </thead>\n",
              "  <tbody>\n",
              "    <tr>\n",
              "      <th>4296</th>\n",
              "      <td>2932192025</td>\n",
              "      <td>Записи звонков_хедлайнер/2023-05-10_16-05-49.0...</td>\n",
              "      <td>head-liner.ru</td>\n",
              "      <td>спорный - нет соединения</td>\n",
              "    </tr>\n",
              "    <tr>\n",
              "      <th>4297</th>\n",
              "      <td>2941752812</td>\n",
              "      <td>Записи звонков_хедлайнер/2023-05-10_15-58-20.7...</td>\n",
              "      <td>head-liner.ru</td>\n",
              "      <td>Спам</td>\n",
              "    </tr>\n",
              "    <tr>\n",
              "      <th>4298</th>\n",
              "      <td>2921167086</td>\n",
              "      <td>Записи звонков_хедлайнер/2023-05-10_15-41-10.9...</td>\n",
              "      <td>head-liner.ru</td>\n",
              "      <td>спорный - нет соединения</td>\n",
              "    </tr>\n",
              "    <tr>\n",
              "      <th>4301</th>\n",
              "      <td>2931384623</td>\n",
              "      <td>Записи звонков_хедлайнер/2023-05-10_15-02-35.1...</td>\n",
              "      <td>head-liner.ru</td>\n",
              "      <td>Лид - 3 очередь - 2-ком - Условно целевой</td>\n",
              "    </tr>\n",
              "    <tr>\n",
              "      <th>4302</th>\n",
              "      <td>2931957661</td>\n",
              "      <td>Записи звонков_хедлайнер/2023-05-10_15-00-57.3...</td>\n",
              "      <td>head-liner.ru</td>\n",
              "      <td>Нецелевой звонок - ошибка</td>\n",
              "    </tr>\n",
              "  </tbody>\n",
              "</table>\n",
              "</div>\n",
              "    <div class=\"colab-df-buttons\">\n",
              "\n",
              "  <div class=\"colab-df-container\">\n",
              "    <button class=\"colab-df-convert\" onclick=\"convertToInteractive('df-4a7561c6-cbe8-4328-941d-8ac5d9aa914e')\"\n",
              "            title=\"Convert this dataframe to an interactive table.\"\n",
              "            style=\"display:none;\">\n",
              "\n",
              "  <svg xmlns=\"http://www.w3.org/2000/svg\" height=\"24px\" viewBox=\"0 -960 960 960\">\n",
              "    <path d=\"M120-120v-720h720v720H120Zm60-500h600v-160H180v160Zm220 220h160v-160H400v160Zm0 220h160v-160H400v160ZM180-400h160v-160H180v160Zm440 0h160v-160H620v160ZM180-180h160v-160H180v160Zm440 0h160v-160H620v160Z\"/>\n",
              "  </svg>\n",
              "    </button>\n",
              "\n",
              "  <style>\n",
              "    .colab-df-container {\n",
              "      display:flex;\n",
              "      gap: 12px;\n",
              "    }\n",
              "\n",
              "    .colab-df-convert {\n",
              "      background-color: #E8F0FE;\n",
              "      border: none;\n",
              "      border-radius: 50%;\n",
              "      cursor: pointer;\n",
              "      display: none;\n",
              "      fill: #1967D2;\n",
              "      height: 32px;\n",
              "      padding: 0 0 0 0;\n",
              "      width: 32px;\n",
              "    }\n",
              "\n",
              "    .colab-df-convert:hover {\n",
              "      background-color: #E2EBFA;\n",
              "      box-shadow: 0px 1px 2px rgba(60, 64, 67, 0.3), 0px 1px 3px 1px rgba(60, 64, 67, 0.15);\n",
              "      fill: #174EA6;\n",
              "    }\n",
              "\n",
              "    .colab-df-buttons div {\n",
              "      margin-bottom: 4px;\n",
              "    }\n",
              "\n",
              "    [theme=dark] .colab-df-convert {\n",
              "      background-color: #3B4455;\n",
              "      fill: #D2E3FC;\n",
              "    }\n",
              "\n",
              "    [theme=dark] .colab-df-convert:hover {\n",
              "      background-color: #434B5C;\n",
              "      box-shadow: 0px 1px 3px 1px rgba(0, 0, 0, 0.15);\n",
              "      filter: drop-shadow(0px 1px 2px rgba(0, 0, 0, 0.3));\n",
              "      fill: #FFFFFF;\n",
              "    }\n",
              "  </style>\n",
              "\n",
              "    <script>\n",
              "      const buttonEl =\n",
              "        document.querySelector('#df-4a7561c6-cbe8-4328-941d-8ac5d9aa914e button.colab-df-convert');\n",
              "      buttonEl.style.display =\n",
              "        google.colab.kernel.accessAllowed ? 'block' : 'none';\n",
              "\n",
              "      async function convertToInteractive(key) {\n",
              "        const element = document.querySelector('#df-4a7561c6-cbe8-4328-941d-8ac5d9aa914e');\n",
              "        const dataTable =\n",
              "          await google.colab.kernel.invokeFunction('convertToInteractive',\n",
              "                                                    [key], {});\n",
              "        if (!dataTable) return;\n",
              "\n",
              "        const docLinkHtml = 'Like what you see? Visit the ' +\n",
              "          '<a target=\"_blank\" href=https://colab.research.google.com/notebooks/data_table.ipynb>data table notebook</a>'\n",
              "          + ' to learn more about interactive tables.';\n",
              "        element.innerHTML = '';\n",
              "        dataTable['output_type'] = 'display_data';\n",
              "        await google.colab.output.renderOutput(dataTable, element);\n",
              "        const docLink = document.createElement('div');\n",
              "        docLink.innerHTML = docLinkHtml;\n",
              "        element.appendChild(docLink);\n",
              "      }\n",
              "    </script>\n",
              "  </div>\n",
              "\n",
              "\n",
              "<div id=\"df-b3194ef1-eba0-475a-896a-aed2c4799a4e\">\n",
              "  <button class=\"colab-df-quickchart\" onclick=\"quickchart('df-b3194ef1-eba0-475a-896a-aed2c4799a4e')\"\n",
              "            title=\"Suggest charts\"\n",
              "            style=\"display:none;\">\n",
              "\n",
              "<svg xmlns=\"http://www.w3.org/2000/svg\" height=\"24px\"viewBox=\"0 0 24 24\"\n",
              "     width=\"24px\">\n",
              "    <g>\n",
              "        <path d=\"M19 3H5c-1.1 0-2 .9-2 2v14c0 1.1.9 2 2 2h14c1.1 0 2-.9 2-2V5c0-1.1-.9-2-2-2zM9 17H7v-7h2v7zm4 0h-2V7h2v10zm4 0h-2v-4h2v4z\"/>\n",
              "    </g>\n",
              "</svg>\n",
              "  </button>\n",
              "\n",
              "<style>\n",
              "  .colab-df-quickchart {\n",
              "      --bg-color: #E8F0FE;\n",
              "      --fill-color: #1967D2;\n",
              "      --hover-bg-color: #E2EBFA;\n",
              "      --hover-fill-color: #174EA6;\n",
              "      --disabled-fill-color: #AAA;\n",
              "      --disabled-bg-color: #DDD;\n",
              "  }\n",
              "\n",
              "  [theme=dark] .colab-df-quickchart {\n",
              "      --bg-color: #3B4455;\n",
              "      --fill-color: #D2E3FC;\n",
              "      --hover-bg-color: #434B5C;\n",
              "      --hover-fill-color: #FFFFFF;\n",
              "      --disabled-bg-color: #3B4455;\n",
              "      --disabled-fill-color: #666;\n",
              "  }\n",
              "\n",
              "  .colab-df-quickchart {\n",
              "    background-color: var(--bg-color);\n",
              "    border: none;\n",
              "    border-radius: 50%;\n",
              "    cursor: pointer;\n",
              "    display: none;\n",
              "    fill: var(--fill-color);\n",
              "    height: 32px;\n",
              "    padding: 0;\n",
              "    width: 32px;\n",
              "  }\n",
              "\n",
              "  .colab-df-quickchart:hover {\n",
              "    background-color: var(--hover-bg-color);\n",
              "    box-shadow: 0 1px 2px rgba(60, 64, 67, 0.3), 0 1px 3px 1px rgba(60, 64, 67, 0.15);\n",
              "    fill: var(--button-hover-fill-color);\n",
              "  }\n",
              "\n",
              "  .colab-df-quickchart-complete:disabled,\n",
              "  .colab-df-quickchart-complete:disabled:hover {\n",
              "    background-color: var(--disabled-bg-color);\n",
              "    fill: var(--disabled-fill-color);\n",
              "    box-shadow: none;\n",
              "  }\n",
              "\n",
              "  .colab-df-spinner {\n",
              "    border: 2px solid var(--fill-color);\n",
              "    border-color: transparent;\n",
              "    border-bottom-color: var(--fill-color);\n",
              "    animation:\n",
              "      spin 1s steps(1) infinite;\n",
              "  }\n",
              "\n",
              "  @keyframes spin {\n",
              "    0% {\n",
              "      border-color: transparent;\n",
              "      border-bottom-color: var(--fill-color);\n",
              "      border-left-color: var(--fill-color);\n",
              "    }\n",
              "    20% {\n",
              "      border-color: transparent;\n",
              "      border-left-color: var(--fill-color);\n",
              "      border-top-color: var(--fill-color);\n",
              "    }\n",
              "    30% {\n",
              "      border-color: transparent;\n",
              "      border-left-color: var(--fill-color);\n",
              "      border-top-color: var(--fill-color);\n",
              "      border-right-color: var(--fill-color);\n",
              "    }\n",
              "    40% {\n",
              "      border-color: transparent;\n",
              "      border-right-color: var(--fill-color);\n",
              "      border-top-color: var(--fill-color);\n",
              "    }\n",
              "    60% {\n",
              "      border-color: transparent;\n",
              "      border-right-color: var(--fill-color);\n",
              "    }\n",
              "    80% {\n",
              "      border-color: transparent;\n",
              "      border-right-color: var(--fill-color);\n",
              "      border-bottom-color: var(--fill-color);\n",
              "    }\n",
              "    90% {\n",
              "      border-color: transparent;\n",
              "      border-bottom-color: var(--fill-color);\n",
              "    }\n",
              "  }\n",
              "</style>\n",
              "\n",
              "  <script>\n",
              "    async function quickchart(key) {\n",
              "      const quickchartButtonEl =\n",
              "        document.querySelector('#' + key + ' button');\n",
              "      quickchartButtonEl.disabled = true;  // To prevent multiple clicks.\n",
              "      quickchartButtonEl.classList.add('colab-df-spinner');\n",
              "      try {\n",
              "        const charts = await google.colab.kernel.invokeFunction(\n",
              "            'suggestCharts', [key], {});\n",
              "      } catch (error) {\n",
              "        console.error('Error during call to suggestCharts:', error);\n",
              "      }\n",
              "      quickchartButtonEl.classList.remove('colab-df-spinner');\n",
              "      quickchartButtonEl.classList.add('colab-df-quickchart-complete');\n",
              "    }\n",
              "    (() => {\n",
              "      let quickchartButtonEl =\n",
              "        document.querySelector('#df-b3194ef1-eba0-475a-896a-aed2c4799a4e button');\n",
              "      quickchartButtonEl.style.display =\n",
              "        google.colab.kernel.accessAllowed ? 'block' : 'none';\n",
              "    })();\n",
              "  </script>\n",
              "</div>\n",
              "    </div>\n",
              "  </div>\n"
            ]
          },
          "metadata": {},
          "execution_count": 7
        }
      ]
    },
    {
      "cell_type": "code",
      "source": [
        "# Сохранение в json\n",
        "df.to_json('input.json', orient='records', force_ascii=False)"
      ],
      "metadata": {
        "id": "Lo_1Vx_NVUK-"
      },
      "execution_count": null,
      "outputs": []
    },
    {
      "cell_type": "code",
      "source": [
        "# Установка cohere, openai и tiktoken\n",
        "!pip -q install cohere openai==1.2.3 tiktoken==0.5.1"
      ],
      "metadata": {
        "colab": {
          "base_uri": "https://localhost:8080/"
        },
        "id": "UwOqdvHdc9c7",
        "outputId": "9f1ea5a1-189a-4b3c-a113-5879ba314eb0"
      },
      "execution_count": null,
      "outputs": [
        {
          "output_type": "stream",
          "name": "stdout",
          "text": [
            "\u001b[?25l     \u001b[90m━━━━━━━━━━━━━━━━━━━━━━━━━━━━━━━━━━━━━━━━\u001b[0m \u001b[32m0.0/51.7 kB\u001b[0m \u001b[31m?\u001b[0m eta \u001b[36m-:--:--\u001b[0m\r\u001b[2K     \u001b[90m━━━━━━━━━━━━━━━━━━━━━━━━━━━━━━━━━━━━━━━━\u001b[0m \u001b[32m51.7/51.7 kB\u001b[0m \u001b[31m1.2 MB/s\u001b[0m eta \u001b[36m0:00:00\u001b[0m\n",
            "\u001b[2K     \u001b[90m━━━━━━━━━━━━━━━━━━━━━━━━━━━━━━━━━━━━━━━━\u001b[0m \u001b[32m220.3/220.3 kB\u001b[0m \u001b[31m8.3 MB/s\u001b[0m eta \u001b[36m0:00:00\u001b[0m\n",
            "\u001b[2K     \u001b[90m━━━━━━━━━━━━━━━━━━━━━━━━━━━━━━━━━━━━━━━━\u001b[0m \u001b[32m2.0/2.0 MB\u001b[0m \u001b[31m47.3 MB/s\u001b[0m eta \u001b[36m0:00:00\u001b[0m\n",
            "\u001b[2K     \u001b[90m━━━━━━━━━━━━━━━━━━━━━━━━━━━━━━━━━━━━━━━━\u001b[0m \u001b[32m75.9/75.9 kB\u001b[0m \u001b[31m9.1 MB/s\u001b[0m eta \u001b[36m0:00:00\u001b[0m\n",
            "\u001b[2K     \u001b[90m━━━━━━━━━━━━━━━━━━━━━━━━━━━━━━━━━━━━━━━━\u001b[0m \u001b[32m3.1/3.1 MB\u001b[0m \u001b[31m84.9 MB/s\u001b[0m eta \u001b[36m0:00:00\u001b[0m\n",
            "\u001b[2K     \u001b[90m━━━━━━━━━━━━━━━━━━━━━━━━━━━━━━━━━━━━━━━━\u001b[0m \u001b[32m76.9/76.9 kB\u001b[0m \u001b[31m10.5 MB/s\u001b[0m eta \u001b[36m0:00:00\u001b[0m\n",
            "\u001b[2K     \u001b[90m━━━━━━━━━━━━━━━━━━━━━━━━━━━━━━━━━━━━━━━━\u001b[0m \u001b[32m58.3/58.3 kB\u001b[0m \u001b[31m8.1 MB/s\u001b[0m eta \u001b[36m0:00:00\u001b[0m\n",
            "\u001b[?25h"
          ]
        }
      ]
    },
    {
      "cell_type": "code",
      "source": [
        "# Установка openai-whisper\n",
        "!pip -q install openai-whisper"
      ],
      "metadata": {
        "colab": {
          "base_uri": "https://localhost:8080/"
        },
        "id": "rRCNfsVdc-z4",
        "outputId": "2781bc85-b247-4c39-c3df-7cdf4cafa781"
      },
      "execution_count": null,
      "outputs": [
        {
          "output_type": "stream",
          "name": "stdout",
          "text": [
            "\u001b[?25l     \u001b[90m━━━━━━━━━━━━━━━━━━━━━━━━━━━━━━━━━━━━━━━━\u001b[0m \u001b[32m0.0/798.6 kB\u001b[0m \u001b[31m?\u001b[0m eta \u001b[36m-:--:--\u001b[0m\r\u001b[2K     \u001b[91m━━━\u001b[0m\u001b[90m╺\u001b[0m\u001b[90m━━━━━━━━━━━━━━━━━━━━━━━━━━━━━━━━━━━━\u001b[0m \u001b[32m61.4/798.6 kB\u001b[0m \u001b[31m1.7 MB/s\u001b[0m eta \u001b[36m0:00:01\u001b[0m\r\u001b[2K     \u001b[91m━━━━━━━━━━━━━━━━━━━━━━━━━━━━━━━\u001b[0m\u001b[90m╺\u001b[0m\u001b[90m━━━━━━━━\u001b[0m \u001b[32m624.6/798.6 kB\u001b[0m \u001b[31m8.9 MB/s\u001b[0m eta \u001b[36m0:00:01\u001b[0m\r\u001b[2K     \u001b[90m━━━━━━━━━━━━━━━━━━━━━━━━━━━━━━━━━━━━━━━━\u001b[0m \u001b[32m798.6/798.6 kB\u001b[0m \u001b[31m8.7 MB/s\u001b[0m eta \u001b[36m0:00:00\u001b[0m\n",
            "\u001b[?25h  Installing build dependencies ... \u001b[?25l\u001b[?25hdone\n",
            "  Getting requirements to build wheel ... \u001b[?25l\u001b[?25hdone\n",
            "  Preparing metadata (pyproject.toml) ... \u001b[?25l\u001b[?25hdone\n",
            "  Building wheel for openai-whisper (pyproject.toml) ... \u001b[?25l\u001b[?25hdone\n"
          ]
        }
      ]
    },
    {
      "cell_type": "code",
      "source": [
        "# Установка fastapi и дополнительных библиотек\n",
        "!pip -q install fastapi uvicorn python-multipart typing-extensions==4.5.0 kaleido"
      ],
      "metadata": {
        "colab": {
          "base_uri": "https://localhost:8080/"
        },
        "id": "MUhoQYHCdYqE",
        "outputId": "2c0e157f-a210-4726-bf18-fc23fa6038e3"
      },
      "execution_count": null,
      "outputs": [
        {
          "output_type": "stream",
          "name": "stdout",
          "text": [
            "\u001b[2K     \u001b[90m━━━━━━━━━━━━━━━━━━━━━━━━━━━━━━━━━━━━━━━━\u001b[0m \u001b[32m92.0/92.0 kB\u001b[0m \u001b[31m1.5 MB/s\u001b[0m eta \u001b[36m0:00:00\u001b[0m\n",
            "\u001b[2K     \u001b[90m━━━━━━━━━━━━━━━━━━━━━━━━━━━━━━━━━━━━━━━━\u001b[0m \u001b[32m60.3/60.3 kB\u001b[0m \u001b[31m5.7 MB/s\u001b[0m eta \u001b[36m0:00:00\u001b[0m\n",
            "\u001b[2K     \u001b[90m━━━━━━━━━━━━━━━━━━━━━━━━━━━━━━━━━━━━━━━━\u001b[0m \u001b[32m45.7/45.7 kB\u001b[0m \u001b[31m4.6 MB/s\u001b[0m eta \u001b[36m0:00:00\u001b[0m\n",
            "\u001b[2K     \u001b[90m━━━━━━━━━━━━━━━━━━━━━━━━━━━━━━━━━━━━━━━━\u001b[0m \u001b[32m79.9/79.9 MB\u001b[0m \u001b[31m6.7 MB/s\u001b[0m eta \u001b[36m0:00:00\u001b[0m\n",
            "\u001b[2K     \u001b[90m━━━━━━━━━━━━━━━━━━━━━━━━━━━━━━━━━━━━━━━━\u001b[0m \u001b[32m70.0/70.0 kB\u001b[0m \u001b[31m9.5 MB/s\u001b[0m eta \u001b[36m0:00:00\u001b[0m\n",
            "\u001b[2K     \u001b[90m━━━━━━━━━━━━━━━━━━━━━━━━━━━━━━━━━━━━━━━━\u001b[0m \u001b[32m92.1/92.1 kB\u001b[0m \u001b[31m13.1 MB/s\u001b[0m eta \u001b[36m0:00:00\u001b[0m\n",
            "\u001b[2K     \u001b[90m━━━━━━━━━━━━━━━━━━━━━━━━━━━━━━━━━━━━━━━━\u001b[0m \u001b[32m68.9/68.9 kB\u001b[0m \u001b[31m9.9 MB/s\u001b[0m eta \u001b[36m0:00:00\u001b[0m\n",
            "\u001b[2K     \u001b[90m━━━━━━━━━━━━━━━━━━━━━━━━━━━━━━━━━━━━━━━━\u001b[0m \u001b[32m92.1/92.1 kB\u001b[0m \u001b[31m12.8 MB/s\u001b[0m eta \u001b[36m0:00:00\u001b[0m\n",
            "\u001b[2K     \u001b[90m━━━━━━━━━━━━━━━━━━━━━━━━━━━━━━━━━━━━━━━━\u001b[0m \u001b[32m67.0/67.0 kB\u001b[0m \u001b[31m7.6 MB/s\u001b[0m eta \u001b[36m0:00:00\u001b[0m\n",
            "\u001b[2K     \u001b[90m━━━━━━━━━━━━━━━━━━━━━━━━━━━━━━━━━━━━━━━━\u001b[0m \u001b[32m93.1/93.1 kB\u001b[0m \u001b[31m13.2 MB/s\u001b[0m eta \u001b[36m0:00:00\u001b[0m\n",
            "\u001b[2K     \u001b[90m━━━━━━━━━━━━━━━━━━━━━━━━━━━━━━━━━━━━━━━━\u001b[0m \u001b[32m92.9/92.9 kB\u001b[0m \u001b[31m12.0 MB/s\u001b[0m eta \u001b[36m0:00:00\u001b[0m\n",
            "\u001b[2K     \u001b[90m━━━━━━━━━━━━━━━━━━━━━━━━━━━━━━━━━━━━━━━━\u001b[0m \u001b[32m92.9/92.9 kB\u001b[0m \u001b[31m13.3 MB/s\u001b[0m eta \u001b[36m0:00:00\u001b[0m\n",
            "\u001b[2K     \u001b[90m━━━━━━━━━━━━━━━━━━━━━━━━━━━━━━━━━━━━━━━━\u001b[0m \u001b[32m66.3/66.3 kB\u001b[0m \u001b[31m8.7 MB/s\u001b[0m eta \u001b[36m0:00:00\u001b[0m\n",
            "\u001b[?25h"
          ]
        }
      ]
    },
    {
      "cell_type": "code",
      "source": [
        "!pip -q install tensorflow==2.14.0"
      ],
      "metadata": {
        "colab": {
          "base_uri": "https://localhost:8080/"
        },
        "id": "NVHjjTcY5tzX",
        "outputId": "269b6c91-8217-4857-8199-fd225eda48c9"
      },
      "execution_count": null,
      "outputs": [
        {
          "output_type": "stream",
          "name": "stdout",
          "text": [
            "\u001b[2K     \u001b[90m━━━━━━━━━━━━━━━━━━━━━━━━━━━━━━━━━━━━━━━━\u001b[0m \u001b[32m489.8/489.8 MB\u001b[0m \u001b[31m1.7 MB/s\u001b[0m eta \u001b[36m0:00:00\u001b[0m\n",
            "\u001b[2K     \u001b[90m━━━━━━━━━━━━━━━━━━━━━━━━━━━━━━━━━━━━━━━━\u001b[0m \u001b[32m5.5/5.5 MB\u001b[0m \u001b[31m99.1 MB/s\u001b[0m eta \u001b[36m0:00:00\u001b[0m\n",
            "\u001b[2K     \u001b[90m━━━━━━━━━━━━━━━━━━━━━━━━━━━━━━━━━━━━━━━━\u001b[0m \u001b[32m440.7/440.7 kB\u001b[0m \u001b[31m43.0 MB/s\u001b[0m eta \u001b[36m0:00:00\u001b[0m\n",
            "\u001b[2K     \u001b[90m━━━━━━━━━━━━━━━━━━━━━━━━━━━━━━━━━━━━━━━━\u001b[0m \u001b[32m1.7/1.7 MB\u001b[0m \u001b[31m87.0 MB/s\u001b[0m eta \u001b[36m0:00:00\u001b[0m\n",
            "\u001b[?25h"
          ]
        }
      ]
    },
    {
      "cell_type": "code",
      "source": [
        "import tensorflow as tf\n",
        "tf.__version__"
      ],
      "metadata": {
        "colab": {
          "base_uri": "https://localhost:8080/",
          "height": 35
        },
        "id": "-hrE_TqV5G0F",
        "outputId": "096f898a-bddc-43ad-b9d7-4e622ed45fcf"
      },
      "execution_count": null,
      "outputs": [
        {
          "output_type": "execute_result",
          "data": {
            "text/plain": [
              "'2.14.0'"
            ],
            "application/vnd.google.colaboratory.intrinsic+json": {
              "type": "string"
            }
          },
          "metadata": {},
          "execution_count": 13
        }
      ]
    },
    {
      "cell_type": "code",
      "source": [
        "# Эндпойнт\n",
        "main_file = '''\n",
        "import re\n",
        "import whisper\n",
        "import numpy as np\n",
        "import pandas as pd\n",
        "import pickle as pkl\n",
        "from io import BytesIO\n",
        "from fastapi import FastAPI, File\n",
        "from tensorflow.keras.saving import load_model\n",
        "\n",
        "whisper_model = whisper.load_model('medium')\n",
        "model = load_model('model_BoW.keras')\n",
        "\n",
        "with open('tokenizer.pkl', 'rb') as f:\n",
        "  tokenizer = pkl.load(f)\n",
        "\n",
        "app = FastAPI()\n",
        "\n",
        "@app.post('/predict')\n",
        "async def predict(json_file: bytes = File(...)):\n",
        "\n",
        "  df = pd.read_json(BytesIO(json_file))\n",
        "\n",
        "  for i in df.index:\n",
        "    df.loc[i,'Транскрибация файла записи звонка'] = whisper_model.transcribe(df.loc[i,'Файл записи звонка'], language='ru')['text']\n",
        "  df['Транскрибация файла записи звонка'] = df['Транскрибация файла записи звонка'].fillna('безответа')\n",
        "  df['Транскрибация файла записи звонка'] = df['Транскрибация файла записи звонка'].apply(lambda s: re.sub('[^А-Яа-я0-9 ]', '', s.lower()))\n",
        "  df['Транскрибация файла записи звонка'] = df['Транскрибация файла записи звонка'].apply(lambda s: s.strip())\n",
        "  df['Транскрибация файла записи звонка'] = np.where(df['Транскрибация файла записи звонка'].str.len() < 5, 'безответа', df['Транскрибация файла записи звонка'])\n",
        "  df['Транскрибация файла записи звонка'] = df['Транскрибация файла записи звонка'].str.replace('ё', 'е', regex=False)\n",
        "\n",
        "  x_textdata_01 = tokenizer.texts_to_matrix(df['Транскрибация файла записи звонка'].tolist())\n",
        "\n",
        "  y_predict = model.predict(x_textdata_01)\n",
        "  for i in range(df.shape[0]):\n",
        "    df.loc[i,'Предсказание класса'] = 'Целевой' if round(y_predict[i][0]) else 'Нецелевой'\n",
        "\n",
        "  df[['Проект', 'Идентификатор сессии звонка', 'Теги', 'Предсказание класса', 'Транскрибация файла записи звонка']].to_json('output.json', orient='records', force_ascii=False)\n",
        "\n",
        "  return {'result': 'output.json'}\n",
        "'''\n",
        "with open('main.py', 'w') as f:\n",
        "  f.write(main_file)"
      ],
      "metadata": {
        "id": "duoNedDSeDDw"
      },
      "execution_count": null,
      "outputs": []
    },
    {
      "cell_type": "code",
      "source": [
        "# Запуск uvicorn\n",
        "!nohup uvicorn main:app --reload &"
      ],
      "metadata": {
        "colab": {
          "base_uri": "https://localhost:8080/"
        },
        "id": "GqPpUEKEeMjY",
        "outputId": "7c642f54-59cb-4a69-cb65-74042175475b"
      },
      "execution_count": null,
      "outputs": [
        {
          "output_type": "stream",
          "name": "stdout",
          "text": [
            "nohup: appending output to 'nohup.out'\n"
          ]
        }
      ]
    },
    {
      "cell_type": "code",
      "source": [
        "# Лог\n",
        "!cat nohup.out"
      ],
      "metadata": {
        "colab": {
          "base_uri": "https://localhost:8080/"
        },
        "id": "m-HWAMEzeQrn",
        "outputId": "695022ed-ab5e-46bf-b254-399b535fc26d"
      },
      "execution_count": null,
      "outputs": [
        {
          "output_type": "stream",
          "name": "stdout",
          "text": [
            "INFO:     Will watch for changes in these directories: ['/content']\n",
            "INFO:     Uvicorn running on http://127.0.0.1:8000 (Press CTRL+C to quit)\n",
            "INFO:     Started reloader process [3375] using StatReload\n"
          ]
        }
      ]
    },
    {
      "cell_type": "code",
      "source": [
        "import requests\n",
        "files = {'json_file': open('input.json','rb')}\n",
        "response = requests.post('http://127.0.0.1:8000/predict', files=files)\n",
        "print(response.text)"
      ],
      "metadata": {
        "colab": {
          "base_uri": "https://localhost:8080/"
        },
        "id": "JN0i5zAReeSe",
        "outputId": "1de64933-d249-4f36-deed-b5fcfbaa64b2"
      },
      "execution_count": null,
      "outputs": [
        {
          "output_type": "stream",
          "name": "stdout",
          "text": [
            "{\"result\":\"output.json\"}\n"
          ]
        }
      ]
    },
    {
      "cell_type": "code",
      "source": [
        "# Лог\n",
        "!cat nohup.out"
      ],
      "metadata": {
        "colab": {
          "base_uri": "https://localhost:8080/"
        },
        "id": "fSm7CTWCfFr-",
        "outputId": "a873d7d6-8c5a-4c2a-a73b-7967996ea4cf"
      },
      "execution_count": null,
      "outputs": [
        {
          "output_type": "stream",
          "name": "stdout",
          "text": [
            "INFO:     Will watch for changes in these directories: ['/content']\n",
            "INFO:     Uvicorn running on http://127.0.0.1:8000 (Press CTRL+C to quit)\n",
            "INFO:     Started reloader process [3375] using StatReload\n",
            "2023-12-27 16:29:25.012214: E tensorflow/compiler/xla/stream_executor/cuda/cuda_dnn.cc:9342] Unable to register cuDNN factory: Attempting to register factory for plugin cuDNN when one has already been registered\n",
            "2023-12-27 16:29:25.012261: E tensorflow/compiler/xla/stream_executor/cuda/cuda_fft.cc:609] Unable to register cuFFT factory: Attempting to register factory for plugin cuFFT when one has already been registered\n",
            "2023-12-27 16:29:25.012290: E tensorflow/compiler/xla/stream_executor/cuda/cuda_blas.cc:1518] Unable to register cuBLAS factory: Attempting to register factory for plugin cuBLAS when one has already been registered\n",
            "2023-12-27 16:29:26.644065: W tensorflow/compiler/tf2tensorrt/utils/py_utils.cc:38] TF-TRT Warning: Could not find TensorRT\n",
            "\r  0%|                                              | 0.00/1.42G [00:00<?, ?iB/s]\r  1%|▏                                    | 7.53M/1.42G [00:00<00:19, 78.7MiB/s]\r  1%|▍                                    | 15.0M/1.42G [00:00<00:21, 71.2MiB/s]\r  2%|▌                                    | 24.5M/1.42G [00:00<00:18, 83.2MiB/s]\r  2%|▉                                    | 35.5M/1.42G [00:00<00:15, 94.7MiB/s]\r  3%|█▏                                   | 45.9M/1.42G [00:00<00:14, 99.7MiB/s]\r  4%|█▍                                    | 56.4M/1.42G [00:00<00:14, 103MiB/s]\r  5%|█▋                                   | 66.3M/1.42G [00:00<00:15, 95.2MiB/s]\r  6%|██                                    | 80.2M/1.42G [00:00<00:13, 109MiB/s]\r  6%|██▍                                   | 91.5M/1.42G [00:00<00:12, 112MiB/s]\r  7%|██▋                                   | 102M/1.42G [00:01<00:16, 87.8MiB/s]\r  8%|███                                   | 115M/1.42G [00:01<00:14, 99.5MiB/s]\r  9%|███▍                                   | 128M/1.42G [00:01<00:12, 109MiB/s]\r 10%|███▋                                   | 139M/1.42G [00:01<00:13, 102MiB/s]\r 10%|████                                   | 151M/1.42G [00:01<00:12, 107MiB/s]\r 11%|████▎                                  | 162M/1.42G [00:01<00:12, 105MiB/s]\r 12%|████▌                                  | 172M/1.42G [00:01<00:13, 101MiB/s]\r 13%|████▉                                  | 184M/1.42G [00:01<00:12, 108MiB/s]\r 14%|█████▎                                 | 199M/1.42G [00:02<00:11, 120MiB/s]\r 15%|█████▋                                 | 213M/1.42G [00:02<00:10, 127MiB/s]\r 15%|██████                                 | 225M/1.42G [00:02<00:11, 109MiB/s]\r 16%|██████▎                                | 236M/1.42G [00:02<00:12, 105MiB/s]\r 17%|██████▍                               | 246M/1.42G [00:02<00:14, 90.4MiB/s]\r 18%|██████▋                               | 255M/1.42G [00:02<00:14, 85.5MiB/s]\r 18%|██████▉                               | 268M/1.42G [00:02<00:13, 95.6MiB/s]\r 19%|███████▏                              | 277M/1.42G [00:02<00:13, 94.3MiB/s]\r 20%|███████▍                              | 287M/1.42G [00:02<00:12, 97.4MiB/s]\r 20%|███████▊                              | 297M/1.42G [00:03<00:12, 99.2MiB/s]\r 21%|████████▎                              | 310M/1.42G [00:03<00:11, 107MiB/s]\r 22%|████████▌                              | 322M/1.42G [00:03<00:10, 113MiB/s]\r 23%|████████▉                              | 333M/1.42G [00:03<00:10, 112MiB/s]\r 24%|█████████▏                             | 345M/1.42G [00:03<00:10, 116MiB/s]\r 25%|█████████▌                             | 357M/1.42G [00:03<00:09, 117MiB/s]\r 26%|█████████▉                             | 372M/1.42G [00:03<00:08, 128MiB/s]\r 27%|██████████▎                            | 387M/1.42G [00:03<00:08, 137MiB/s]\r 27%|██████████▋                            | 400M/1.42G [00:04<00:10, 104MiB/s]\r 28%|███████████                            | 412M/1.42G [00:04<00:10, 109MiB/s]\r 29%|███████████▎                           | 424M/1.42G [00:04<00:09, 112MiB/s]\r 30%|███████████▊                           | 440M/1.42G [00:04<00:08, 126MiB/s]\r 31%|███████████▊                          | 452M/1.42G [00:05<00:43, 24.2MiB/s]\r 32%|████████████▏                         | 469M/1.42G [00:06<00:30, 34.4MiB/s]\r 33%|████████████▌                         | 481M/1.42G [00:06<00:23, 43.0MiB/s]\r 34%|████████████▊                         | 492M/1.42G [00:06<00:19, 51.4MiB/s]\r 35%|█████████████▏                        | 504M/1.42G [00:06<00:16, 59.7MiB/s]\r 35%|█████████████▍                        | 517M/1.42G [00:06<00:13, 72.0MiB/s]\r 36%|█████████████▊                        | 528M/1.42G [00:06<00:12, 78.9MiB/s]\r 37%|██████████████                        | 539M/1.42G [00:06<00:11, 85.5MiB/s]\r 38%|██████████████▎                       | 550M/1.42G [00:06<00:10, 92.3MiB/s]\r 39%|███████████████▏                       | 566M/1.42G [00:06<00:08, 111MiB/s]\r 40%|███████████████▍                       | 579M/1.42G [00:07<00:08, 108MiB/s]\r 41%|███████████████▊                       | 590M/1.42G [00:07<00:08, 112MiB/s]\r 41%|████████████████                       | 602M/1.42G [00:07<00:07, 114MiB/s]\r 42%|████████████████▍                      | 614M/1.42G [00:07<00:07, 117MiB/s]\r 43%|████████████████▋                      | 625M/1.42G [00:07<00:07, 115MiB/s]\r 44%|█████████████████                      | 637M/1.42G [00:07<00:07, 111MiB/s]\r 44%|████████████████▉                     | 648M/1.42G [00:07<00:11, 77.1MiB/s]\r 45%|█████████████████                     | 656M/1.42G [00:07<00:10, 78.2MiB/s]\r 46%|█████████████████▎                    | 665M/1.42G [00:08<00:10, 81.6MiB/s]\r 46%|█████████████████▌                    | 674M/1.42G [00:08<00:11, 73.0MiB/s]\r 47%|█████████████████▊                    | 682M/1.42G [00:08<00:10, 74.2MiB/s]\r 47%|█████████████████▉                    | 689M/1.42G [00:08<00:15, 51.5MiB/s]\r 48%|██████████████████▏                   | 697M/1.42G [00:08<00:14, 56.6MiB/s]\r 49%|██████████████████▍                   | 707M/1.42G [00:08<00:11, 68.0MiB/s]\r 49%|██████████████████▋                   | 716M/1.42G [00:08<00:10, 75.4MiB/s]\r 50%|██████████████████▉                   | 728M/1.42G [00:09<00:08, 86.9MiB/s]\r 51%|███████████████████▏                  | 738M/1.42G [00:09<00:08, 91.1MiB/s]\r 51%|███████████████████▍                  | 747M/1.42G [00:09<00:08, 88.2MiB/s]\r 52%|███████████████████▋                  | 757M/1.42G [00:09<00:07, 91.9MiB/s]\r 53%|███████████████████▉                  | 766M/1.42G [00:09<00:07, 91.2MiB/s]\r 53%|████████████████████▏                 | 775M/1.42G [00:09<00:07, 92.6MiB/s]\r 54%|████████████████████▍                 | 786M/1.42G [00:09<00:07, 98.4MiB/s]\r 55%|████████████████████▋                 | 796M/1.42G [00:09<00:07, 95.0MiB/s]\r 55%|████████████████████▉                 | 805M/1.42G [00:09<00:07, 91.3MiB/s]\r 56%|█████████████████████▏                | 814M/1.42G [00:10<00:09, 71.0MiB/s]\r 57%|█████████████████████▍                | 824M/1.42G [00:10<00:08, 80.1MiB/s]\r 57%|█████████████████████▊                | 835M/1.42G [00:10<00:07, 88.0MiB/s]\r 58%|██████████████████████                | 845M/1.42G [00:10<00:06, 91.9MiB/s]\r 59%|██████████████████████▎               | 855M/1.42G [00:10<00:06, 95.3MiB/s]\r 60%|███████████████████████▏               | 867M/1.42G [00:10<00:05, 107MiB/s]\r 60%|███████████████████████▍               | 878M/1.42G [00:10<00:05, 101MiB/s]\r 61%|███████████████████████▊               | 889M/1.42G [00:10<00:05, 105MiB/s]\r 62%|███████████████████████▍              | 899M/1.42G [00:10<00:06, 92.5MiB/s]\r 62%|███████████████████████▋              | 910M/1.42G [00:11<00:05, 97.0MiB/s]\r 63%|████████████████████████▋              | 923M/1.42G [00:11<00:05, 108MiB/s]\r 64%|████████████████████████▉              | 933M/1.42G [00:11<00:05, 107MiB/s]\r 65%|█████████████████████████▎             | 944M/1.42G [00:11<00:05, 104MiB/s]\r 66%|█████████████████████████▌             | 957M/1.42G [00:11<00:04, 114MiB/s]\r 66%|█████████████████████████▉             | 968M/1.42G [00:11<00:04, 112MiB/s]\r 67%|██████████████████████████▏            | 979M/1.42G [00:11<00:04, 107MiB/s]\r 68%|██████████████████████████▍            | 990M/1.42G [00:11<00:04, 109MiB/s]\r 69%|█████████████████████████▍           | 0.98G/1.42G [00:11<00:05, 83.8MiB/s]\r 69%|█████████████████████████▋           | 0.99G/1.42G [00:12<00:05, 88.7MiB/s]\r 70%|█████████████████████████▉           | 1.00G/1.42G [00:12<00:05, 86.4MiB/s]\r 71%|██████████████████████████           | 1.00G/1.42G [00:12<00:05, 81.6MiB/s]\r 71%|██████████████████████████▎          | 1.01G/1.42G [00:12<00:06, 72.6MiB/s]\r 72%|██████████████████████████▍          | 1.02G/1.42G [00:12<00:06, 68.4MiB/s]\r 72%|██████████████████████████▋          | 1.03G/1.42G [00:12<00:07, 59.1MiB/s]\r 73%|██████████████████████████▉          | 1.03G/1.42G [00:12<00:06, 66.0MiB/s]\r 73%|███████████████████████████          | 1.04G/1.42G [00:12<00:05, 69.0MiB/s]\r 74%|███████████████████████████▎         | 1.05G/1.42G [00:13<00:04, 80.6MiB/s]\r 74%|███████████████████████████▌         | 1.06G/1.42G [00:13<00:04, 81.6MiB/s]\r 75%|███████████████████████████▊         | 1.07G/1.42G [00:13<00:04, 89.5MiB/s]\r 76%|████████████████████████████▉         | 1.08G/1.42G [00:13<00:03, 101MiB/s]\r 77%|████████████████████████████▍        | 1.09G/1.42G [00:13<00:03, 97.9MiB/s]\r 77%|████████████████████████████▋        | 1.10G/1.42G [00:14<00:09, 37.3MiB/s]\r 78%|████████████████████████████▊        | 1.11G/1.42G [00:14<00:07, 44.8MiB/s]\r 79%|█████████████████████████████        | 1.12G/1.42G [00:14<00:06, 47.4MiB/s]\r 79%|█████████████████████████████▎       | 1.13G/1.42G [00:14<00:05, 53.4MiB/s]\r 80%|█████████████████████████████▍       | 1.13G/1.42G [00:14<00:05, 57.8MiB/s]\r 80%|█████████████████████████████▌       | 1.14G/1.42G [00:14<00:05, 57.4MiB/s]\r 81%|█████████████████████████████▊       | 1.15G/1.42G [00:14<00:06, 47.2MiB/s]\r 81%|█████████████████████████████▉       | 1.15G/1.42G [00:15<00:05, 53.7MiB/s]\r 82%|██████████████████████████████▏      | 1.16G/1.42G [00:15<00:04, 59.9MiB/s]\r 82%|██████████████████████████████▍      | 1.17G/1.42G [00:15<00:04, 65.3MiB/s]\r 83%|██████████████████████████████▌      | 1.18G/1.42G [00:15<00:04, 59.6MiB/s]\r 83%|██████████████████████████████▋      | 1.18G/1.42G [00:15<00:04, 64.2MiB/s]\r 84%|██████████████████████████████▉      | 1.19G/1.42G [00:15<00:03, 65.2MiB/s]\r 84%|███████████████████████████████      | 1.20G/1.42G [00:15<00:03, 66.4MiB/s]\r 85%|███████████████████████████████▎     | 1.21G/1.42G [00:15<00:02, 79.2MiB/s]\r 85%|███████████████████████████████▌     | 1.22G/1.42G [00:15<00:02, 87.9MiB/s]\r 86%|███████████████████████████████▊     | 1.22G/1.42G [00:16<00:02, 85.0MiB/s]\r 87%|████████████████████████████████▏    | 1.24G/1.42G [00:16<00:02, 96.1MiB/s]\r 88%|████████████████████████████████▍    | 1.25G/1.42G [00:16<00:01, 99.2MiB/s]\r 88%|████████████████████████████████▋    | 1.26G/1.42G [00:16<00:01, 94.3MiB/s]\r 89%|████████████████████████████████▉    | 1.26G/1.42G [00:16<00:02, 84.0MiB/s]\r 89%|█████████████████████████████████    | 1.27G/1.42G [00:16<00:01, 84.1MiB/s]\r 90%|█████████████████████████████████▎   | 1.28G/1.42G [00:16<00:01, 89.0MiB/s]\r 91%|█████████████████████████████████▋   | 1.29G/1.42G [00:16<00:01, 98.6MiB/s]\r 92%|██████████████████████████████████▊   | 1.30G/1.42G [00:16<00:01, 103MiB/s]\r 92%|██████████████████████████████████▏  | 1.31G/1.42G [00:17<00:01, 94.2MiB/s]\r 93%|███████████████████████████████████▍  | 1.33G/1.42G [00:17<00:00, 105MiB/s]\r 94%|███████████████████████████████████▋  | 1.34G/1.42G [00:17<00:00, 112MiB/s]\r 95%|████████████████████████████████████  | 1.35G/1.42G [00:17<00:00, 113MiB/s]\r 96%|████████████████████████████████████▎ | 1.36G/1.42G [00:17<00:00, 115MiB/s]\r 96%|███████████████████████████████████▋ | 1.37G/1.42G [00:17<00:00, 99.5MiB/s]\r 97%|███████████████████████████████████▉ | 1.38G/1.42G [00:17<00:00, 96.5MiB/s]\r 98%|█████████████████████████████████████▏| 1.39G/1.42G [00:17<00:00, 101MiB/s]\r 99%|████████████████████████████████████▍| 1.40G/1.42G [00:17<00:00, 96.3MiB/s]\r 99%|████████████████████████████████████▋| 1.41G/1.42G [00:18<00:00, 98.5MiB/s]\r100%|█████████████████████████████████████▉| 1.42G/1.42G [00:18<00:00, 101MiB/s]\r100%|█████████████████████████████████████| 1.42G/1.42G [00:18<00:00, 84.1MiB/s]\n",
            "2023-12-27 16:30:04.575480: W tensorflow/core/common_runtime/gpu/gpu_device.cc:2211] Cannot dlopen some GPU libraries. Please make sure the missing libraries mentioned above are installed properly if you would like to use GPU. Follow the guide at https://www.tensorflow.org/install/gpu for how to download and setup the required libraries for your platform.\n",
            "Skipping registering GPU devices...\n",
            "INFO:     Started server process [3381]\n",
            "INFO:     Waiting for application startup.\n",
            "INFO:     Application startup complete.\n",
            "\r1/2 [==============>...............] - ETA: 0s\b\b\b\b\b\b\b\b\b\b\b\b\b\b\b\b\b\b\b\b\b\b\b\b\b\b\b\b\b\b\b\b\b\b\b\b\b\b\b\b\b\b\b\b\b\b\r2/2 [==============================] - 0s 21ms/step\n",
            "INFO:     127.0.0.1:37916 - \"POST /predict HTTP/1.1\" 200 OK\n"
          ]
        }
      ]
    },
    {
      "cell_type": "code",
      "source": [
        "df = pd.read_json('output.json')\n",
        "df.shape"
      ],
      "metadata": {
        "colab": {
          "base_uri": "https://localhost:8080/"
        },
        "id": "HBrQY0R8fIcl",
        "outputId": "0a8e1b70-0541-4cd7-dbb9-8acd7c8c69d2"
      },
      "execution_count": null,
      "outputs": [
        {
          "output_type": "execute_result",
          "data": {
            "text/plain": [
              "(50, 5)"
            ]
          },
          "metadata": {},
          "execution_count": 29
        }
      ]
    },
    {
      "cell_type": "code",
      "source": [
        "df"
      ],
      "metadata": {
        "colab": {
          "base_uri": "https://localhost:8080/",
          "height": 1000
        },
        "id": "l0xfZcnK-0ea",
        "outputId": "bcb1979d-cd83-4744-a149-8e320c9e6a59"
      },
      "execution_count": null,
      "outputs": [
        {
          "output_type": "execute_result",
          "data": {
            "text/plain": [
              "           Проект  Идентификатор сессии звонка  \\\n",
              "0   head-liner.ru                   2932192025   \n",
              "1   head-liner.ru                   2941752812   \n",
              "2   head-liner.ru                   2921167086   \n",
              "3   head-liner.ru                   2931384623   \n",
              "4   head-liner.ru                   2931957661   \n",
              "5   head-liner.ru                   2931953205   \n",
              "6   head-liner.ru                   2931941177   \n",
              "7   head-liner.ru                   2920990562   \n",
              "8   head-liner.ru                   2941565172   \n",
              "9   head-liner.ru                   2920974222   \n",
              "10  head-liner.ru                   2941298624   \n",
              "11  head-liner.ru                   2931067143   \n",
              "12  head-liner.ru                   2931495869   \n",
              "13  head-liner.ru                   2930842543   \n",
              "14  head-liner.ru                   2930835239   \n",
              "15  head-liner.ru                   2931380841   \n",
              "16  head-liner.ru                   2930744767   \n",
              "17  head-liner.ru                   2940892544   \n",
              "18  head-liner.ru                   2931126469   \n",
              "19  head-liner.ru                   2931066829   \n",
              "20  head-liner.ru                   2920243890   \n",
              "21  head-liner.ru                   2920207590   \n",
              "22  head-liner.ru                   2920087786   \n",
              "23  head-liner.ru                   2930217007   \n",
              "24  head-liner.ru                   2919615074   \n",
              "25  head-liner.ru                   2919550530   \n",
              "26  head-liner.ru                   2919520238   \n",
              "27  head-liner.ru                   2930249245   \n",
              "28  head-liner.ru                   2939712644   \n",
              "29  head-liner.ru                   2930211973   \n",
              "30  head-liner.ru                   2929623235   \n",
              "31  head-liner.ru                   2939644136   \n",
              "32  head-liner.ru                   2939506208   \n",
              "33  head-liner.ru                   2929465891   \n",
              "34  head-liner.ru                   2939439048   \n",
              "35  head-liner.ru                   2929372379   \n",
              "36  head-liner.ru                   2929311247   \n",
              "37  head-liner.ru                   2919161802   \n",
              "38  head-liner.ru                   2939148092   \n",
              "39  head-liner.ru                   2929370545   \n",
              "40  head-liner.ru                   2918538922   \n",
              "41  head-liner.ru                   2938333136   \n",
              "42  head-liner.ru                   2928975097   \n",
              "43  head-liner.ru                   2928938049   \n",
              "44  head-liner.ru                   2928935657   \n",
              "45  head-liner.ru                   2928283255   \n",
              "46  head-liner.ru                   2938080128   \n",
              "47  head-liner.ru                   2928807121   \n",
              "48  head-liner.ru                   2937971588   \n",
              "49  head-liner.ru                   2928050751   \n",
              "\n",
              "                                                 Теги Предсказание класса  \\\n",
              "0                            спорный - нет соединения           Нецелевой   \n",
              "1                                                Спам           Нецелевой   \n",
              "2                            спорный - нет соединения           Нецелевой   \n",
              "3           Лид - 3 очередь - 2-ком - Условно целевой           Нецелевой   \n",
              "4                           Нецелевой звонок - ошибка           Нецелевой   \n",
              "5                            спорный - нет соединения           Нецелевой   \n",
              "6      постпродажное обслуживание - Вторичный целевой           Нецелевой   \n",
              "7   Лид - 2 очередь - 3 очередь - 2-ком - Условно ...           Нецелевой   \n",
              "8      постпродажное обслуживание - Вторичный целевой           Нецелевой   \n",
              "9                            спорный - нет соединения           Нецелевой   \n",
              "10     постпродажное обслуживание - Вторичный целевой           Нецелевой   \n",
              "11     постпродажное обслуживание - Вторичный целевой           Нецелевой   \n",
              "12                           спорный - нет соединения           Нецелевой   \n",
              "13                           спорный - нет соединения           Нецелевой   \n",
              "14  Первичный целевой - 2 очередь - 3 очередь - 4-...             Целевой   \n",
              "15  Первичный целевой - 3 очередь - 2-ком - 2 квар...             Целевой   \n",
              "16     постпродажное обслуживание - Вторичный целевой           Нецелевой   \n",
              "17                  Нецелевой звонок - сотрудничество           Нецелевой   \n",
              "18                    Лид - Первичный целевой - 1-ком           Нецелевой   \n",
              "19                                               Спам           Нецелевой   \n",
              "20                           спорный - нет соединения           Нецелевой   \n",
              "21                           спорный - нет соединения           Нецелевой   \n",
              "22                          Нецелевой звонок - ошибка           Нецелевой   \n",
              "23             Вторичный целевой - поиск офиса продаж           Нецелевой   \n",
              "24                           спорный - нет соединения           Нецелевой   \n",
              "25                           спорный - нет соединения           Нецелевой   \n",
              "26  Лид - Вторичный целевой - 2 очередь - 3 очеред...           Нецелевой   \n",
              "27  Первичный целевой - запись на просмотр - не оп...             Целевой   \n",
              "28                           спорный - нет соединения           Нецелевой   \n",
              "29              Первичный целевой - 2 очередь - 3-ком             Целевой   \n",
              "30                           спорный - нет соединения           Нецелевой   \n",
              "31                           спорный - нет соединения           Нецелевой   \n",
              "32                           спорный - нет соединения           Нецелевой   \n",
              "33  Лид - Первичный целевой - интересует рассрочка...             Целевой   \n",
              "34                   Лид - спорный - связь прервалась           Нецелевой   \n",
              "35                           спорный - нет соединения           Нецелевой   \n",
              "36     постпродажное обслуживание - Вторичный целевой           Нецелевой   \n",
              "37                                               Спам           Нецелевой   \n",
              "38     Первичный целевой - студия - 3 очередь - 1-ком             Целевой   \n",
              "39                           спорный - нет соединения           Нецелевой   \n",
              "40                          Нецелевой звонок - ошибка           Нецелевой   \n",
              "41  Лид - спорный - студия - связь прервалась - 1-ком           Нецелевой   \n",
              "42              Первичный целевой - 2 очередь - 3-ком             Целевой   \n",
              "43     постпродажное обслуживание - Вторичный целевой           Нецелевой   \n",
              "44     постпродажное обслуживание - Вторичный целевой           Нецелевой   \n",
              "45                           спорный - нет соединения           Нецелевой   \n",
              "46  Лид - 3 очередь - Условно целевой - 3-ком - от...           Нецелевой   \n",
              "47                           спорный - нет соединения           Нецелевой   \n",
              "48   Первичный целевой - ипотека - студия - 3 очередь             Целевой   \n",
              "49                           спорный - нет соединения           Нецелевой   \n",
              "\n",
              "                    Транскрибация файла записи звонка  \n",
              "0   здравствуйте выпуску внею группу компании карт...  \n",
              "1   здравствуйте вы позвонили в группу компании  б...  \n",
              "2                  здравствуйте вы туда не ел в грунт  \n",
              "3   здравствуйте вы позвонили в группу компании  б...  \n",
              "4   здравствуйте вы позвонили в группу компании ка...  \n",
              "5   здравствуйте вы позвонили в группу компании ка...  \n",
              "6   здравствуйте вы позвонили в группу компании ка...  \n",
              "7   взява комплекса  меня зовут наталья здравствуй...  \n",
              "8   здравствуйте скажите пожалуйста я переоформила...  \n",
              "9                         здравствуйте вы позвонили в  \n",
              "10  хэрлайнер роки заселение добрый день здравству...  \n",
              "11  хэдлайнер отчисления здравствуйте вы знаете я ...  \n",
              "12  телефонный звонок телефонный звонок телефонный...  \n",
              "13                           здравствуйте вы туганили  \n",
              "14  вы позвонили в группу компании  благодарим вас...  \n",
              "15  здравствуйте вы позвонили в группу компании ка...  \n",
              "16  здравствуйте вы позвонили в группу компании ка...  \n",
              "17  здравствуйте вы позвонили в группу компании ка...  \n",
              "18  компания анитика и клиента шот одна комната на...  \n",
              "19                                  а вот добрый день  \n",
              "20    станислав вы комплекс как бы я не разлп продашь  \n",
              "21  здравствуйте вы позвонили в группу компании ка...  \n",
              "22  здравствуйте вы позвонили в группу компании  б...  \n",
              "23  здравствуйте вы позвонили в группу компании  б...  \n",
              "24  звонок в дверь живой комплекс  наталья здравст...  \n",
              "25                                  телефонный звонок  \n",
              "26  здравствуйте вы позвонили в группу компании  б...  \n",
              "27  жилый комплекс  меня зовут наталья здравствуйт...  \n",
              "28                                       здравствуйте  \n",
              "29  здравствуйте вы позвонили в группу компании  б...  \n",
              "30                                       здравствуйте  \n",
              "31                                              вкими  \n",
              "32  аликси звонок по объявлению разговор может быт...  \n",
              "33  день добрый здравствуйте здравствуйте портал г...  \n",
              "34  телефон звонит желаю областью звонить меня зов...  \n",
              "35  здравствуйте вы позвонили в группу компании  б...  \n",
              "36  здравствуйте вы позвонили в группу компании ка...  \n",
              "37  авика звонок по объявлению разговор может быть...  \n",
              "38  здравствуйте вы позвонили в группу компании  б...  \n",
              "39  здравствуйте вы позвонили в группу компании  б...  \n",
              "40      расскажите пожалуйста фотоаппарат кэннен а603  \n",
              "41  здравствуйте вы позвонили в группу компании  б...  \n",
              "42  здравствуйте вы позвонили в группу компании  б...  \n",
              "43  алло да да я сейчас разговаривала с девушкой д...  \n",
              "44  добрый день девушка вот скажите пожалуйста я п...  \n",
              "45  здравствуйте вы позвонили в группу компании ка...  \n",
              "46  здравствуйте вы позвонили в группу компании  б...  \n",
              "47  здравствуйте вы позвонили в группу компании  б...  \n",
              "48  здравствуйте вы позвонили в группу компании  б...  \n",
              "49  телефонный звонок телефонный звонок телефонный...  "
            ],
            "text/html": [
              "\n",
              "  <div id=\"df-15eb2927-2de6-492d-9795-c26d52a1a1af\" class=\"colab-df-container\">\n",
              "    <div>\n",
              "<style scoped>\n",
              "    .dataframe tbody tr th:only-of-type {\n",
              "        vertical-align: middle;\n",
              "    }\n",
              "\n",
              "    .dataframe tbody tr th {\n",
              "        vertical-align: top;\n",
              "    }\n",
              "\n",
              "    .dataframe thead th {\n",
              "        text-align: right;\n",
              "    }\n",
              "</style>\n",
              "<table border=\"1\" class=\"dataframe\">\n",
              "  <thead>\n",
              "    <tr style=\"text-align: right;\">\n",
              "      <th></th>\n",
              "      <th>Проект</th>\n",
              "      <th>Идентификатор сессии звонка</th>\n",
              "      <th>Теги</th>\n",
              "      <th>Предсказание класса</th>\n",
              "      <th>Транскрибация файла записи звонка</th>\n",
              "    </tr>\n",
              "  </thead>\n",
              "  <tbody>\n",
              "    <tr>\n",
              "      <th>0</th>\n",
              "      <td>head-liner.ru</td>\n",
              "      <td>2932192025</td>\n",
              "      <td>спорный - нет соединения</td>\n",
              "      <td>Нецелевой</td>\n",
              "      <td>здравствуйте выпуску внею группу компании карт...</td>\n",
              "    </tr>\n",
              "    <tr>\n",
              "      <th>1</th>\n",
              "      <td>head-liner.ru</td>\n",
              "      <td>2941752812</td>\n",
              "      <td>Спам</td>\n",
              "      <td>Нецелевой</td>\n",
              "      <td>здравствуйте вы позвонили в группу компании  б...</td>\n",
              "    </tr>\n",
              "    <tr>\n",
              "      <th>2</th>\n",
              "      <td>head-liner.ru</td>\n",
              "      <td>2921167086</td>\n",
              "      <td>спорный - нет соединения</td>\n",
              "      <td>Нецелевой</td>\n",
              "      <td>здравствуйте вы туда не ел в грунт</td>\n",
              "    </tr>\n",
              "    <tr>\n",
              "      <th>3</th>\n",
              "      <td>head-liner.ru</td>\n",
              "      <td>2931384623</td>\n",
              "      <td>Лид - 3 очередь - 2-ком - Условно целевой</td>\n",
              "      <td>Нецелевой</td>\n",
              "      <td>здравствуйте вы позвонили в группу компании  б...</td>\n",
              "    </tr>\n",
              "    <tr>\n",
              "      <th>4</th>\n",
              "      <td>head-liner.ru</td>\n",
              "      <td>2931957661</td>\n",
              "      <td>Нецелевой звонок - ошибка</td>\n",
              "      <td>Нецелевой</td>\n",
              "      <td>здравствуйте вы позвонили в группу компании ка...</td>\n",
              "    </tr>\n",
              "    <tr>\n",
              "      <th>5</th>\n",
              "      <td>head-liner.ru</td>\n",
              "      <td>2931953205</td>\n",
              "      <td>спорный - нет соединения</td>\n",
              "      <td>Нецелевой</td>\n",
              "      <td>здравствуйте вы позвонили в группу компании ка...</td>\n",
              "    </tr>\n",
              "    <tr>\n",
              "      <th>6</th>\n",
              "      <td>head-liner.ru</td>\n",
              "      <td>2931941177</td>\n",
              "      <td>постпродажное обслуживание - Вторичный целевой</td>\n",
              "      <td>Нецелевой</td>\n",
              "      <td>здравствуйте вы позвонили в группу компании ка...</td>\n",
              "    </tr>\n",
              "    <tr>\n",
              "      <th>7</th>\n",
              "      <td>head-liner.ru</td>\n",
              "      <td>2920990562</td>\n",
              "      <td>Лид - 2 очередь - 3 очередь - 2-ком - Условно ...</td>\n",
              "      <td>Нецелевой</td>\n",
              "      <td>взява комплекса  меня зовут наталья здравствуй...</td>\n",
              "    </tr>\n",
              "    <tr>\n",
              "      <th>8</th>\n",
              "      <td>head-liner.ru</td>\n",
              "      <td>2941565172</td>\n",
              "      <td>постпродажное обслуживание - Вторичный целевой</td>\n",
              "      <td>Нецелевой</td>\n",
              "      <td>здравствуйте скажите пожалуйста я переоформила...</td>\n",
              "    </tr>\n",
              "    <tr>\n",
              "      <th>9</th>\n",
              "      <td>head-liner.ru</td>\n",
              "      <td>2920974222</td>\n",
              "      <td>спорный - нет соединения</td>\n",
              "      <td>Нецелевой</td>\n",
              "      <td>здравствуйте вы позвонили в</td>\n",
              "    </tr>\n",
              "    <tr>\n",
              "      <th>10</th>\n",
              "      <td>head-liner.ru</td>\n",
              "      <td>2941298624</td>\n",
              "      <td>постпродажное обслуживание - Вторичный целевой</td>\n",
              "      <td>Нецелевой</td>\n",
              "      <td>хэрлайнер роки заселение добрый день здравству...</td>\n",
              "    </tr>\n",
              "    <tr>\n",
              "      <th>11</th>\n",
              "      <td>head-liner.ru</td>\n",
              "      <td>2931067143</td>\n",
              "      <td>постпродажное обслуживание - Вторичный целевой</td>\n",
              "      <td>Нецелевой</td>\n",
              "      <td>хэдлайнер отчисления здравствуйте вы знаете я ...</td>\n",
              "    </tr>\n",
              "    <tr>\n",
              "      <th>12</th>\n",
              "      <td>head-liner.ru</td>\n",
              "      <td>2931495869</td>\n",
              "      <td>спорный - нет соединения</td>\n",
              "      <td>Нецелевой</td>\n",
              "      <td>телефонный звонок телефонный звонок телефонный...</td>\n",
              "    </tr>\n",
              "    <tr>\n",
              "      <th>13</th>\n",
              "      <td>head-liner.ru</td>\n",
              "      <td>2930842543</td>\n",
              "      <td>спорный - нет соединения</td>\n",
              "      <td>Нецелевой</td>\n",
              "      <td>здравствуйте вы туганили</td>\n",
              "    </tr>\n",
              "    <tr>\n",
              "      <th>14</th>\n",
              "      <td>head-liner.ru</td>\n",
              "      <td>2930835239</td>\n",
              "      <td>Первичный целевой - 2 очередь - 3 очередь - 4-...</td>\n",
              "      <td>Целевой</td>\n",
              "      <td>вы позвонили в группу компании  благодарим вас...</td>\n",
              "    </tr>\n",
              "    <tr>\n",
              "      <th>15</th>\n",
              "      <td>head-liner.ru</td>\n",
              "      <td>2931380841</td>\n",
              "      <td>Первичный целевой - 3 очередь - 2-ком - 2 квар...</td>\n",
              "      <td>Целевой</td>\n",
              "      <td>здравствуйте вы позвонили в группу компании ка...</td>\n",
              "    </tr>\n",
              "    <tr>\n",
              "      <th>16</th>\n",
              "      <td>head-liner.ru</td>\n",
              "      <td>2930744767</td>\n",
              "      <td>постпродажное обслуживание - Вторичный целевой</td>\n",
              "      <td>Нецелевой</td>\n",
              "      <td>здравствуйте вы позвонили в группу компании ка...</td>\n",
              "    </tr>\n",
              "    <tr>\n",
              "      <th>17</th>\n",
              "      <td>head-liner.ru</td>\n",
              "      <td>2940892544</td>\n",
              "      <td>Нецелевой звонок - сотрудничество</td>\n",
              "      <td>Нецелевой</td>\n",
              "      <td>здравствуйте вы позвонили в группу компании ка...</td>\n",
              "    </tr>\n",
              "    <tr>\n",
              "      <th>18</th>\n",
              "      <td>head-liner.ru</td>\n",
              "      <td>2931126469</td>\n",
              "      <td>Лид - Первичный целевой - 1-ком</td>\n",
              "      <td>Нецелевой</td>\n",
              "      <td>компания анитика и клиента шот одна комната на...</td>\n",
              "    </tr>\n",
              "    <tr>\n",
              "      <th>19</th>\n",
              "      <td>head-liner.ru</td>\n",
              "      <td>2931066829</td>\n",
              "      <td>Спам</td>\n",
              "      <td>Нецелевой</td>\n",
              "      <td>а вот добрый день</td>\n",
              "    </tr>\n",
              "    <tr>\n",
              "      <th>20</th>\n",
              "      <td>head-liner.ru</td>\n",
              "      <td>2920243890</td>\n",
              "      <td>спорный - нет соединения</td>\n",
              "      <td>Нецелевой</td>\n",
              "      <td>станислав вы комплекс как бы я не разлп продашь</td>\n",
              "    </tr>\n",
              "    <tr>\n",
              "      <th>21</th>\n",
              "      <td>head-liner.ru</td>\n",
              "      <td>2920207590</td>\n",
              "      <td>спорный - нет соединения</td>\n",
              "      <td>Нецелевой</td>\n",
              "      <td>здравствуйте вы позвонили в группу компании ка...</td>\n",
              "    </tr>\n",
              "    <tr>\n",
              "      <th>22</th>\n",
              "      <td>head-liner.ru</td>\n",
              "      <td>2920087786</td>\n",
              "      <td>Нецелевой звонок - ошибка</td>\n",
              "      <td>Нецелевой</td>\n",
              "      <td>здравствуйте вы позвонили в группу компании  б...</td>\n",
              "    </tr>\n",
              "    <tr>\n",
              "      <th>23</th>\n",
              "      <td>head-liner.ru</td>\n",
              "      <td>2930217007</td>\n",
              "      <td>Вторичный целевой - поиск офиса продаж</td>\n",
              "      <td>Нецелевой</td>\n",
              "      <td>здравствуйте вы позвонили в группу компании  б...</td>\n",
              "    </tr>\n",
              "    <tr>\n",
              "      <th>24</th>\n",
              "      <td>head-liner.ru</td>\n",
              "      <td>2919615074</td>\n",
              "      <td>спорный - нет соединения</td>\n",
              "      <td>Нецелевой</td>\n",
              "      <td>звонок в дверь живой комплекс  наталья здравст...</td>\n",
              "    </tr>\n",
              "    <tr>\n",
              "      <th>25</th>\n",
              "      <td>head-liner.ru</td>\n",
              "      <td>2919550530</td>\n",
              "      <td>спорный - нет соединения</td>\n",
              "      <td>Нецелевой</td>\n",
              "      <td>телефонный звонок</td>\n",
              "    </tr>\n",
              "    <tr>\n",
              "      <th>26</th>\n",
              "      <td>head-liner.ru</td>\n",
              "      <td>2919520238</td>\n",
              "      <td>Лид - Вторичный целевой - 2 очередь - 3 очеред...</td>\n",
              "      <td>Нецелевой</td>\n",
              "      <td>здравствуйте вы позвонили в группу компании  б...</td>\n",
              "    </tr>\n",
              "    <tr>\n",
              "      <th>27</th>\n",
              "      <td>head-liner.ru</td>\n",
              "      <td>2930249245</td>\n",
              "      <td>Первичный целевой - запись на просмотр - не оп...</td>\n",
              "      <td>Целевой</td>\n",
              "      <td>жилый комплекс  меня зовут наталья здравствуйт...</td>\n",
              "    </tr>\n",
              "    <tr>\n",
              "      <th>28</th>\n",
              "      <td>head-liner.ru</td>\n",
              "      <td>2939712644</td>\n",
              "      <td>спорный - нет соединения</td>\n",
              "      <td>Нецелевой</td>\n",
              "      <td>здравствуйте</td>\n",
              "    </tr>\n",
              "    <tr>\n",
              "      <th>29</th>\n",
              "      <td>head-liner.ru</td>\n",
              "      <td>2930211973</td>\n",
              "      <td>Первичный целевой - 2 очередь - 3-ком</td>\n",
              "      <td>Целевой</td>\n",
              "      <td>здравствуйте вы позвонили в группу компании  б...</td>\n",
              "    </tr>\n",
              "    <tr>\n",
              "      <th>30</th>\n",
              "      <td>head-liner.ru</td>\n",
              "      <td>2929623235</td>\n",
              "      <td>спорный - нет соединения</td>\n",
              "      <td>Нецелевой</td>\n",
              "      <td>здравствуйте</td>\n",
              "    </tr>\n",
              "    <tr>\n",
              "      <th>31</th>\n",
              "      <td>head-liner.ru</td>\n",
              "      <td>2939644136</td>\n",
              "      <td>спорный - нет соединения</td>\n",
              "      <td>Нецелевой</td>\n",
              "      <td>вкими</td>\n",
              "    </tr>\n",
              "    <tr>\n",
              "      <th>32</th>\n",
              "      <td>head-liner.ru</td>\n",
              "      <td>2939506208</td>\n",
              "      <td>спорный - нет соединения</td>\n",
              "      <td>Нецелевой</td>\n",
              "      <td>аликси звонок по объявлению разговор может быт...</td>\n",
              "    </tr>\n",
              "    <tr>\n",
              "      <th>33</th>\n",
              "      <td>head-liner.ru</td>\n",
              "      <td>2929465891</td>\n",
              "      <td>Лид - Первичный целевой - интересует рассрочка...</td>\n",
              "      <td>Целевой</td>\n",
              "      <td>день добрый здравствуйте здравствуйте портал г...</td>\n",
              "    </tr>\n",
              "    <tr>\n",
              "      <th>34</th>\n",
              "      <td>head-liner.ru</td>\n",
              "      <td>2939439048</td>\n",
              "      <td>Лид - спорный - связь прервалась</td>\n",
              "      <td>Нецелевой</td>\n",
              "      <td>телефон звонит желаю областью звонить меня зов...</td>\n",
              "    </tr>\n",
              "    <tr>\n",
              "      <th>35</th>\n",
              "      <td>head-liner.ru</td>\n",
              "      <td>2929372379</td>\n",
              "      <td>спорный - нет соединения</td>\n",
              "      <td>Нецелевой</td>\n",
              "      <td>здравствуйте вы позвонили в группу компании  б...</td>\n",
              "    </tr>\n",
              "    <tr>\n",
              "      <th>36</th>\n",
              "      <td>head-liner.ru</td>\n",
              "      <td>2929311247</td>\n",
              "      <td>постпродажное обслуживание - Вторичный целевой</td>\n",
              "      <td>Нецелевой</td>\n",
              "      <td>здравствуйте вы позвонили в группу компании ка...</td>\n",
              "    </tr>\n",
              "    <tr>\n",
              "      <th>37</th>\n",
              "      <td>head-liner.ru</td>\n",
              "      <td>2919161802</td>\n",
              "      <td>Спам</td>\n",
              "      <td>Нецелевой</td>\n",
              "      <td>авика звонок по объявлению разговор может быть...</td>\n",
              "    </tr>\n",
              "    <tr>\n",
              "      <th>38</th>\n",
              "      <td>head-liner.ru</td>\n",
              "      <td>2939148092</td>\n",
              "      <td>Первичный целевой - студия - 3 очередь - 1-ком</td>\n",
              "      <td>Целевой</td>\n",
              "      <td>здравствуйте вы позвонили в группу компании  б...</td>\n",
              "    </tr>\n",
              "    <tr>\n",
              "      <th>39</th>\n",
              "      <td>head-liner.ru</td>\n",
              "      <td>2929370545</td>\n",
              "      <td>спорный - нет соединения</td>\n",
              "      <td>Нецелевой</td>\n",
              "      <td>здравствуйте вы позвонили в группу компании  б...</td>\n",
              "    </tr>\n",
              "    <tr>\n",
              "      <th>40</th>\n",
              "      <td>head-liner.ru</td>\n",
              "      <td>2918538922</td>\n",
              "      <td>Нецелевой звонок - ошибка</td>\n",
              "      <td>Нецелевой</td>\n",
              "      <td>расскажите пожалуйста фотоаппарат кэннен а603</td>\n",
              "    </tr>\n",
              "    <tr>\n",
              "      <th>41</th>\n",
              "      <td>head-liner.ru</td>\n",
              "      <td>2938333136</td>\n",
              "      <td>Лид - спорный - студия - связь прервалась - 1-ком</td>\n",
              "      <td>Нецелевой</td>\n",
              "      <td>здравствуйте вы позвонили в группу компании  б...</td>\n",
              "    </tr>\n",
              "    <tr>\n",
              "      <th>42</th>\n",
              "      <td>head-liner.ru</td>\n",
              "      <td>2928975097</td>\n",
              "      <td>Первичный целевой - 2 очередь - 3-ком</td>\n",
              "      <td>Целевой</td>\n",
              "      <td>здравствуйте вы позвонили в группу компании  б...</td>\n",
              "    </tr>\n",
              "    <tr>\n",
              "      <th>43</th>\n",
              "      <td>head-liner.ru</td>\n",
              "      <td>2928938049</td>\n",
              "      <td>постпродажное обслуживание - Вторичный целевой</td>\n",
              "      <td>Нецелевой</td>\n",
              "      <td>алло да да я сейчас разговаривала с девушкой д...</td>\n",
              "    </tr>\n",
              "    <tr>\n",
              "      <th>44</th>\n",
              "      <td>head-liner.ru</td>\n",
              "      <td>2928935657</td>\n",
              "      <td>постпродажное обслуживание - Вторичный целевой</td>\n",
              "      <td>Нецелевой</td>\n",
              "      <td>добрый день девушка вот скажите пожалуйста я п...</td>\n",
              "    </tr>\n",
              "    <tr>\n",
              "      <th>45</th>\n",
              "      <td>head-liner.ru</td>\n",
              "      <td>2928283255</td>\n",
              "      <td>спорный - нет соединения</td>\n",
              "      <td>Нецелевой</td>\n",
              "      <td>здравствуйте вы позвонили в группу компании ка...</td>\n",
              "    </tr>\n",
              "    <tr>\n",
              "      <th>46</th>\n",
              "      <td>head-liner.ru</td>\n",
              "      <td>2938080128</td>\n",
              "      <td>Лид - 3 очередь - Условно целевой - 3-ком - от...</td>\n",
              "      <td>Нецелевой</td>\n",
              "      <td>здравствуйте вы позвонили в группу компании  б...</td>\n",
              "    </tr>\n",
              "    <tr>\n",
              "      <th>47</th>\n",
              "      <td>head-liner.ru</td>\n",
              "      <td>2928807121</td>\n",
              "      <td>спорный - нет соединения</td>\n",
              "      <td>Нецелевой</td>\n",
              "      <td>здравствуйте вы позвонили в группу компании  б...</td>\n",
              "    </tr>\n",
              "    <tr>\n",
              "      <th>48</th>\n",
              "      <td>head-liner.ru</td>\n",
              "      <td>2937971588</td>\n",
              "      <td>Первичный целевой - ипотека - студия - 3 очередь</td>\n",
              "      <td>Целевой</td>\n",
              "      <td>здравствуйте вы позвонили в группу компании  б...</td>\n",
              "    </tr>\n",
              "    <tr>\n",
              "      <th>49</th>\n",
              "      <td>head-liner.ru</td>\n",
              "      <td>2928050751</td>\n",
              "      <td>спорный - нет соединения</td>\n",
              "      <td>Нецелевой</td>\n",
              "      <td>телефонный звонок телефонный звонок телефонный...</td>\n",
              "    </tr>\n",
              "  </tbody>\n",
              "</table>\n",
              "</div>\n",
              "    <div class=\"colab-df-buttons\">\n",
              "\n",
              "  <div class=\"colab-df-container\">\n",
              "    <button class=\"colab-df-convert\" onclick=\"convertToInteractive('df-15eb2927-2de6-492d-9795-c26d52a1a1af')\"\n",
              "            title=\"Convert this dataframe to an interactive table.\"\n",
              "            style=\"display:none;\">\n",
              "\n",
              "  <svg xmlns=\"http://www.w3.org/2000/svg\" height=\"24px\" viewBox=\"0 -960 960 960\">\n",
              "    <path d=\"M120-120v-720h720v720H120Zm60-500h600v-160H180v160Zm220 220h160v-160H400v160Zm0 220h160v-160H400v160ZM180-400h160v-160H180v160Zm440 0h160v-160H620v160ZM180-180h160v-160H180v160Zm440 0h160v-160H620v160Z\"/>\n",
              "  </svg>\n",
              "    </button>\n",
              "\n",
              "  <style>\n",
              "    .colab-df-container {\n",
              "      display:flex;\n",
              "      gap: 12px;\n",
              "    }\n",
              "\n",
              "    .colab-df-convert {\n",
              "      background-color: #E8F0FE;\n",
              "      border: none;\n",
              "      border-radius: 50%;\n",
              "      cursor: pointer;\n",
              "      display: none;\n",
              "      fill: #1967D2;\n",
              "      height: 32px;\n",
              "      padding: 0 0 0 0;\n",
              "      width: 32px;\n",
              "    }\n",
              "\n",
              "    .colab-df-convert:hover {\n",
              "      background-color: #E2EBFA;\n",
              "      box-shadow: 0px 1px 2px rgba(60, 64, 67, 0.3), 0px 1px 3px 1px rgba(60, 64, 67, 0.15);\n",
              "      fill: #174EA6;\n",
              "    }\n",
              "\n",
              "    .colab-df-buttons div {\n",
              "      margin-bottom: 4px;\n",
              "    }\n",
              "\n",
              "    [theme=dark] .colab-df-convert {\n",
              "      background-color: #3B4455;\n",
              "      fill: #D2E3FC;\n",
              "    }\n",
              "\n",
              "    [theme=dark] .colab-df-convert:hover {\n",
              "      background-color: #434B5C;\n",
              "      box-shadow: 0px 1px 3px 1px rgba(0, 0, 0, 0.15);\n",
              "      filter: drop-shadow(0px 1px 2px rgba(0, 0, 0, 0.3));\n",
              "      fill: #FFFFFF;\n",
              "    }\n",
              "  </style>\n",
              "\n",
              "    <script>\n",
              "      const buttonEl =\n",
              "        document.querySelector('#df-15eb2927-2de6-492d-9795-c26d52a1a1af button.colab-df-convert');\n",
              "      buttonEl.style.display =\n",
              "        google.colab.kernel.accessAllowed ? 'block' : 'none';\n",
              "\n",
              "      async function convertToInteractive(key) {\n",
              "        const element = document.querySelector('#df-15eb2927-2de6-492d-9795-c26d52a1a1af');\n",
              "        const dataTable =\n",
              "          await google.colab.kernel.invokeFunction('convertToInteractive',\n",
              "                                                    [key], {});\n",
              "        if (!dataTable) return;\n",
              "\n",
              "        const docLinkHtml = 'Like what you see? Visit the ' +\n",
              "          '<a target=\"_blank\" href=https://colab.research.google.com/notebooks/data_table.ipynb>data table notebook</a>'\n",
              "          + ' to learn more about interactive tables.';\n",
              "        element.innerHTML = '';\n",
              "        dataTable['output_type'] = 'display_data';\n",
              "        await google.colab.output.renderOutput(dataTable, element);\n",
              "        const docLink = document.createElement('div');\n",
              "        docLink.innerHTML = docLinkHtml;\n",
              "        element.appendChild(docLink);\n",
              "      }\n",
              "    </script>\n",
              "  </div>\n",
              "\n",
              "\n",
              "<div id=\"df-c087f26a-0aec-4dd6-b56b-726fd8b61f0d\">\n",
              "  <button class=\"colab-df-quickchart\" onclick=\"quickchart('df-c087f26a-0aec-4dd6-b56b-726fd8b61f0d')\"\n",
              "            title=\"Suggest charts\"\n",
              "            style=\"display:none;\">\n",
              "\n",
              "<svg xmlns=\"http://www.w3.org/2000/svg\" height=\"24px\"viewBox=\"0 0 24 24\"\n",
              "     width=\"24px\">\n",
              "    <g>\n",
              "        <path d=\"M19 3H5c-1.1 0-2 .9-2 2v14c0 1.1.9 2 2 2h14c1.1 0 2-.9 2-2V5c0-1.1-.9-2-2-2zM9 17H7v-7h2v7zm4 0h-2V7h2v10zm4 0h-2v-4h2v4z\"/>\n",
              "    </g>\n",
              "</svg>\n",
              "  </button>\n",
              "\n",
              "<style>\n",
              "  .colab-df-quickchart {\n",
              "      --bg-color: #E8F0FE;\n",
              "      --fill-color: #1967D2;\n",
              "      --hover-bg-color: #E2EBFA;\n",
              "      --hover-fill-color: #174EA6;\n",
              "      --disabled-fill-color: #AAA;\n",
              "      --disabled-bg-color: #DDD;\n",
              "  }\n",
              "\n",
              "  [theme=dark] .colab-df-quickchart {\n",
              "      --bg-color: #3B4455;\n",
              "      --fill-color: #D2E3FC;\n",
              "      --hover-bg-color: #434B5C;\n",
              "      --hover-fill-color: #FFFFFF;\n",
              "      --disabled-bg-color: #3B4455;\n",
              "      --disabled-fill-color: #666;\n",
              "  }\n",
              "\n",
              "  .colab-df-quickchart {\n",
              "    background-color: var(--bg-color);\n",
              "    border: none;\n",
              "    border-radius: 50%;\n",
              "    cursor: pointer;\n",
              "    display: none;\n",
              "    fill: var(--fill-color);\n",
              "    height: 32px;\n",
              "    padding: 0;\n",
              "    width: 32px;\n",
              "  }\n",
              "\n",
              "  .colab-df-quickchart:hover {\n",
              "    background-color: var(--hover-bg-color);\n",
              "    box-shadow: 0 1px 2px rgba(60, 64, 67, 0.3), 0 1px 3px 1px rgba(60, 64, 67, 0.15);\n",
              "    fill: var(--button-hover-fill-color);\n",
              "  }\n",
              "\n",
              "  .colab-df-quickchart-complete:disabled,\n",
              "  .colab-df-quickchart-complete:disabled:hover {\n",
              "    background-color: var(--disabled-bg-color);\n",
              "    fill: var(--disabled-fill-color);\n",
              "    box-shadow: none;\n",
              "  }\n",
              "\n",
              "  .colab-df-spinner {\n",
              "    border: 2px solid var(--fill-color);\n",
              "    border-color: transparent;\n",
              "    border-bottom-color: var(--fill-color);\n",
              "    animation:\n",
              "      spin 1s steps(1) infinite;\n",
              "  }\n",
              "\n",
              "  @keyframes spin {\n",
              "    0% {\n",
              "      border-color: transparent;\n",
              "      border-bottom-color: var(--fill-color);\n",
              "      border-left-color: var(--fill-color);\n",
              "    }\n",
              "    20% {\n",
              "      border-color: transparent;\n",
              "      border-left-color: var(--fill-color);\n",
              "      border-top-color: var(--fill-color);\n",
              "    }\n",
              "    30% {\n",
              "      border-color: transparent;\n",
              "      border-left-color: var(--fill-color);\n",
              "      border-top-color: var(--fill-color);\n",
              "      border-right-color: var(--fill-color);\n",
              "    }\n",
              "    40% {\n",
              "      border-color: transparent;\n",
              "      border-right-color: var(--fill-color);\n",
              "      border-top-color: var(--fill-color);\n",
              "    }\n",
              "    60% {\n",
              "      border-color: transparent;\n",
              "      border-right-color: var(--fill-color);\n",
              "    }\n",
              "    80% {\n",
              "      border-color: transparent;\n",
              "      border-right-color: var(--fill-color);\n",
              "      border-bottom-color: var(--fill-color);\n",
              "    }\n",
              "    90% {\n",
              "      border-color: transparent;\n",
              "      border-bottom-color: var(--fill-color);\n",
              "    }\n",
              "  }\n",
              "</style>\n",
              "\n",
              "  <script>\n",
              "    async function quickchart(key) {\n",
              "      const quickchartButtonEl =\n",
              "        document.querySelector('#' + key + ' button');\n",
              "      quickchartButtonEl.disabled = true;  // To prevent multiple clicks.\n",
              "      quickchartButtonEl.classList.add('colab-df-spinner');\n",
              "      try {\n",
              "        const charts = await google.colab.kernel.invokeFunction(\n",
              "            'suggestCharts', [key], {});\n",
              "      } catch (error) {\n",
              "        console.error('Error during call to suggestCharts:', error);\n",
              "      }\n",
              "      quickchartButtonEl.classList.remove('colab-df-spinner');\n",
              "      quickchartButtonEl.classList.add('colab-df-quickchart-complete');\n",
              "    }\n",
              "    (() => {\n",
              "      let quickchartButtonEl =\n",
              "        document.querySelector('#df-c087f26a-0aec-4dd6-b56b-726fd8b61f0d button');\n",
              "      quickchartButtonEl.style.display =\n",
              "        google.colab.kernel.accessAllowed ? 'block' : 'none';\n",
              "    })();\n",
              "  </script>\n",
              "</div>\n",
              "    </div>\n",
              "  </div>\n"
            ]
          },
          "metadata": {},
          "execution_count": 30
        }
      ]
    },
    {
      "cell_type": "code",
      "source": [
        "!mv output.json head-liner.ru_output.json"
      ],
      "metadata": {
        "id": "FrKhbZAQwRMi"
      },
      "execution_count": 1,
      "outputs": []
    },
    {
      "cell_type": "markdown",
      "source": [
        "### pavcity.turbo.site"
      ],
      "metadata": {
        "id": "y1MmYHYtWcV3"
      }
    },
    {
      "cell_type": "code",
      "source": [
        "# Загрузка токенайзера\n",
        "import gdown\n",
        "url = 'https://drive.google.com/file/d/1-cPqoIlY56nNjeCVFN-j3YO-aTf8NdkS/view?usp=sharing'\n",
        "gdown.download(url, quiet=True, fuzzy=True)"
      ],
      "metadata": {
        "colab": {
          "base_uri": "https://localhost:8080/",
          "height": 36
        },
        "outputId": "9983c1b3-39c9-4dc1-f19f-e50ca94f9a04",
        "id": "2Fs-3tS_7SLK"
      },
      "execution_count": 2,
      "outputs": [
        {
          "output_type": "execute_result",
          "data": {
            "text/plain": [
              "'tokenizer.pkl'"
            ],
            "application/vnd.google.colaboratory.intrinsic+json": {
              "type": "string"
            }
          },
          "metadata": {},
          "execution_count": 2
        }
      ]
    },
    {
      "cell_type": "code",
      "source": [
        "# Загрузка модели нейронной сети\n",
        "url = 'https://drive.google.com/file/d/1-czQCHQMtlxdtdQVTla9LTGCFdVcX3JM/view?usp=sharing'\n",
        "gdown.download(url, quiet=True, fuzzy=True)"
      ],
      "metadata": {
        "colab": {
          "base_uri": "https://localhost:8080/",
          "height": 36
        },
        "outputId": "0d1b008b-1438-4382-cb3c-111c54ed30ee",
        "id": "zjtNa5X87Yxa"
      },
      "execution_count": 3,
      "outputs": [
        {
          "output_type": "execute_result",
          "data": {
            "text/plain": [
              "'model_BoW.keras'"
            ],
            "application/vnd.google.colaboratory.intrinsic+json": {
              "type": "string"
            }
          },
          "metadata": {},
          "execution_count": 3
        }
      ]
    },
    {
      "cell_type": "code",
      "source": [
        "# Загрузка информации о звонках\n",
        "import pandas as pd\n",
        "url = 'https://drive.google.com/file/d/1c4jlkuw2zWdeqr5FgBfHt4KaKtoMWQi0/view?usp=drive_link'\n",
        "df = pd.read_csv('https://drive.google.com/uc?id=' + url.split('/')[-2],\n",
        "                 skiprows=4,\n",
        "                 sep=';',\n",
        "                 on_bad_lines='skip')\n",
        "df.shape"
      ],
      "metadata": {
        "colab": {
          "base_uri": "https://localhost:8080/"
        },
        "outputId": "a7fb221d-d375-44ac-febb-9c31cddda139",
        "id": "iCXSNUicWcWM"
      },
      "execution_count": 4,
      "outputs": [
        {
          "output_type": "execute_result",
          "data": {
            "text/plain": [
              "(1211, 74)"
            ]
          },
          "metadata": {},
          "execution_count": 4
        }
      ]
    },
    {
      "cell_type": "code",
      "source": [
        "# Загрузка записей звонков\n",
        "url = 'https://drive.google.com/drive/folders/1XwaXRApFWaqBSe0PGEkaMGT-EHH7OMtj?usp=drive_link'\n",
        "gdown.download_folder(url, quiet=True, remaining_ok=True)"
      ],
      "metadata": {
        "colab": {
          "base_uri": "https://localhost:8080/"
        },
        "outputId": "a6b6ad7c-21fe-4ef9-efce-58f6cdeddb2d",
        "id": "x9JG_H-yWcWN"
      },
      "execution_count": 5,
      "outputs": [
        {
          "output_type": "execute_result",
          "data": {
            "text/plain": [
              "['/content/Записи звонков_павелецкая сити/2023-06-17_12-54-28.210462_from_79803286601_to_74950216267_session_3029638181_talk.mp3',\n",
              " '/content/Записи звонков_павелецкая сити/2023-06-17_13-44-17.539114_from_79066743768_to_74950216267_session_3029352265_talk.mp3',\n",
              " '/content/Записи звонков_павелецкая сити/2023-06-17_14-08-51.827169_from_74993205445_to_74955141111_session_3029390475_talk.mp3',\n",
              " '/content/Записи звонков_павелецкая сити/2023-06-17_14-21-31.493157_from_79259041087_to_74950216267_session_3029730813_talk.mp3',\n",
              " '/content/Записи звонков_павелецкая сити/2023-06-17_16-16-05.571252_from_79680303488_to_74950216267_session_3029596520_talk.mp3',\n",
              " '/content/Записи звонков_павелецкая сити/2023-06-17_17-21-57.195548_from_79094690999_to_74955141111_session_3030126641_talk.mp3',\n",
              " '/content/Записи звонков_павелецкая сити/2023-06-17_19-11-06.505605_from_74950326372_to_0155649_session_3030256809_talk.mp3',\n",
              " '/content/Записи звонков_павелецкая сити/2023-06-18_09-01-03.303353_from_74950326372_to_0155649_session_3030549204_talk.mp3',\n",
              " '/content/Записи звонков_павелецкая сити/2023-06-18_09-22-52.207865_from_79651805758_to_74955141111_session_3030554159_talk.mp3',\n",
              " '/content/Записи звонков_павелецкая сити/2023-06-18_10-07-09.396588_from_79151900879_to_74950216267_session_3030608659_talk.mp3',\n",
              " '/content/Записи звонков_павелецкая сити/2023-06-18_10-36-22.310087_from_79671034159_to_74955141111_session_3030649979_talk.mp3',\n",
              " '/content/Записи звонков_павелецкая сити/2023-06-18_10-48-11.070497_from_79221093735_to_74950216267_session_3030810737_talk.mp3',\n",
              " '/content/Записи звонков_павелецкая сити/2023-06-18_10-56-51.904109_from_79645040572_to_74955141111_session_3030623683_talk.mp3',\n",
              " '/content/Записи звонков_павелецкая сити/2023-06-18_11-25-38.241315_from_79854127684_to_74955141111_session_3030870962_talk.mp3',\n",
              " '/content/Записи звонков_павелецкая сити/2023-06-18_12-23-21.133140_from_79139127673_to_74950216267_session_3030815699_talk.mp3',\n",
              " '/content/Записи звонков_павелецкая сити/2023-06-18_12-25-02.742799_from_79660057569_to_74955141111_session_3030846086_talk.mp3',\n",
              " '/content/Записи звонков_павелецкая сити/2023-06-18_12-46-57.826869_from_79036235042_to_74955141111_session_3030786763_talk.mp3',\n",
              " '/content/Записи звонков_павелецкая сити/2023-06-18_13-03-15.004666_from_79274843267_to_74950216267_session_3031027717_talk.mp3',\n",
              " '/content/Записи звонков_павелецкая сити/2023-06-18_13-21-21.314056_from_79164825580_to_74955141111_session_3030904744_talk.mp3',\n",
              " '/content/Записи звонков_павелецкая сити/2023-06-18_13-49-07.465157_from_79269090190_to_74955141111_session_3030853628_talk.mp3',\n",
              " '/content/Записи звонков_павелецкая сити/2023-06-18_14-35-25.096497_from_79519099298_to_74955141111_session_3030974296_talk.mp3',\n",
              " '/content/Записи звонков_павелецкая сити/2023-06-18_15-02-01.473156_from_79682079335_to_74950216267_session_3031223322_talk.mp3',\n",
              " '/content/Записи звонков_павелецкая сити/2023-06-18_15-26-26.487296_from_79250468024_to_74950216267_session_3030567890_talk.mp3',\n",
              " '/content/Записи звонков_павелецкая сити/2023-06-18_15-44-27.861587_from_79107482069_to_74950216267_session_3031126709_talk.mp3',\n",
              " '/content/Записи звонков_павелецкая сити/2023-06-18_15-59-20.666700_from_79265805599_to_74955141111_session_3031073688_talk.mp3',\n",
              " '/content/Записи звонков_павелецкая сити/2023-06-18_16-05-54.155297_from_79852671888_to_74955141111_session_3030619720_talk.mp3',\n",
              " '/content/Записи звонков_павелецкая сити/2023-06-18_17-41-38.718386_from_79051570440_to_74950216267_session_3031456882_talk.mp3',\n",
              " '/content/Записи звонков_павелецкая сити/2023-06-18_17-50-08.307656_from_79067778858_to_74955141111_session_3031466787_talk.mp3',\n",
              " '/content/Записи звонков_павелецкая сити/2023-06-18_18-04-56.248883_from_79031012817_to_74955141111_session_3031316834_talk.mp3',\n",
              " '/content/Записи звонков_павелецкая сити/2023-06-18_18-09-35.177730_from_79107876076_to_74955141111_session_3030767375_talk.mp3',\n",
              " '/content/Записи звонков_павелецкая сити/2023-06-18_19-25-38.489238_from_79654392820_to_74950216267_session_3031429591_talk.mp3',\n",
              " '/content/Записи звонков_павелецкая сити/2023-06-19_10-47-17.706090_from_79136281109_to_74950216267_session_3032022083_talk.mp3',\n",
              " '/content/Записи звонков_павелецкая сити/2023-06-19_10-53-44.520624_from_79684035656_to_74955141111_session_3032341357_talk.mp3',\n",
              " '/content/Записи звонков_павелецкая сити/2023-06-19_11-04-05.286756_from_79260084182_to_74950216267_session_3032207796_talk.mp3',\n",
              " '/content/Записи звонков_павелецкая сити/2023-06-19_11-23-17.040128_from_79813389541_to_74950216267_session_3032271261_talk.mp3',\n",
              " '/content/Записи звонков_павелецкая сити/2023-06-19_11-27-46.734461_from_79781935179_to_74955141111_session_3032161583_talk.mp3',\n",
              " '/content/Записи звонков_павелецкая сити/2023-06-19_12-12-40.350431_from_79104429469_to_74955141111_session_3032677423_talk.mp3',\n",
              " '/content/Записи звонков_павелецкая сити/2023-06-19_12-26-58.386574_from_79250189982_to_74950216267_session_3031640590_talk.mp3',\n",
              " '/content/Записи звонков_павелецкая сити/2023-06-19_12-38-08.398862_from_79501466664_to_74950216267_session_3032483204_talk.mp3',\n",
              " '/content/Записи звонков_павелецкая сити/2023-06-19_12-57-33.574655_from_79636865864_to_74955141111_session_3032896177_talk.mp3',\n",
              " '/content/Записи звонков_павелецкая сити/2023-06-19_13-12-07.125542_from_79101658988_to_74950216267_session_3032179333_talk.mp3',\n",
              " '/content/Записи звонков_павелецкая сити/2023-06-19_13-14-49.436106_from_74992700663_to_74950216267_session_3032775068_talk.mp3',\n",
              " '/content/Записи звонков_павелецкая сити/2023-06-19_13-17-13.730161_from_79169209180_to_74955141111_session_3031875985_talk.mp3',\n",
              " '/content/Записи звонков_павелецкая сити/2023-06-19_13-41-47.633298_from_79269260970_to_74955141111_session_3032237258_talk.mp3',\n",
              " '/content/Записи звонков_павелецкая сити/2023-06-19_14-46-35.874105_from_79175826749_to_74950216267_session_3031650945_talk.mp3',\n",
              " '/content/Записи звонков_павелецкая сити/2023-06-19_15-11-32.468224_from_79031566838_to_74950216267_session_3034046623_talk.mp3',\n",
              " '/content/Записи звонков_павелецкая сити/2023-06-19_15-25-36.353632_from_79687067959_to_74955141111_session_3032007610_talk.mp3',\n",
              " '/content/Записи звонков_павелецкая сити/2023-06-19_15-30-14.561778_from_79175929175_to_74955141111_session_3034442627_talk.mp3',\n",
              " '/content/Записи звонков_павелецкая сити/2023-06-19_15-59-53.239894_from_79990352825_to_74955141111_session_3032485270_talk.mp3',\n",
              " '/content/Записи звонков_павелецкая сити/2023-06-19_16-25-10.470057_from_79153673050_to_74950216267_session_3032998743_talk.mp3']"
            ]
          },
          "metadata": {},
          "execution_count": 5
        }
      ]
    },
    {
      "cell_type": "code",
      "source": [
        "# Добавление в датафрейм с информацией о звонках столбцов 'Файл записи звонка' и 'Проект'\n",
        "import os\n",
        "df = df.astype({'Идентификатор сессии звонка': int})\n",
        "for sample_file in os.listdir('Записи звонков_павелецкая сити'):\n",
        "  df.loc[df[df['Идентификатор сессии звонка'] == int(sample_file.split('_')[-2])].index, 'Файл записи звонка'] = 'Записи звонков_павелецкая сити/' + sample_file\n",
        "  df.loc[df[df['Идентификатор сессии звонка'] == int(sample_file.split('_')[-2])].index, 'Проект'] = 'pavcity.turbo.site'"
      ],
      "metadata": {
        "id": "l7p2sqnPWcWN"
      },
      "execution_count": 6,
      "outputs": []
    },
    {
      "cell_type": "code",
      "source": [
        "# Выбор столбцов, необходимых для инференса модели нейронной сети и оценки\n",
        "df = df[['Идентификатор сессии звонка',\n",
        "         'Файл записи звонка',\n",
        "         'Проект',\n",
        "         'Теги']][df['Проект'] == 'pavcity.turbo.site']\n",
        "df.shape"
      ],
      "metadata": {
        "colab": {
          "base_uri": "https://localhost:8080/"
        },
        "outputId": "3c0fd372-fb14-4c09-d588-75e2e8780f0a",
        "id": "DV8sugeD7nxq"
      },
      "execution_count": 7,
      "outputs": [
        {
          "output_type": "execute_result",
          "data": {
            "text/plain": [
              "(1, 4)"
            ]
          },
          "metadata": {},
          "execution_count": 7
        }
      ]
    },
    {
      "cell_type": "code",
      "source": [
        "df.head()"
      ],
      "metadata": {
        "colab": {
          "base_uri": "https://localhost:8080/",
          "height": 81
        },
        "outputId": "2ee94e40-03d9-4da4-a8e4-3287ae29ef41",
        "id": "8Yp0Hu2O7yiD"
      },
      "execution_count": 8,
      "outputs": [
        {
          "output_type": "execute_result",
          "data": {
            "text/plain": [
              "    Идентификатор сессии звонка  \\\n",
              "11                   3032161583   \n",
              "\n",
              "                                   Файл записи звонка              Проект Теги  \n",
              "11  Записи звонков_павелецкая сити/2023-06-19_11-2...  pavcity.turbo.site  NaN  "
            ],
            "text/html": [
              "\n",
              "  <div id=\"df-a5b34ba2-5659-484f-8bbf-35bbeab48404\" class=\"colab-df-container\">\n",
              "    <div>\n",
              "<style scoped>\n",
              "    .dataframe tbody tr th:only-of-type {\n",
              "        vertical-align: middle;\n",
              "    }\n",
              "\n",
              "    .dataframe tbody tr th {\n",
              "        vertical-align: top;\n",
              "    }\n",
              "\n",
              "    .dataframe thead th {\n",
              "        text-align: right;\n",
              "    }\n",
              "</style>\n",
              "<table border=\"1\" class=\"dataframe\">\n",
              "  <thead>\n",
              "    <tr style=\"text-align: right;\">\n",
              "      <th></th>\n",
              "      <th>Идентификатор сессии звонка</th>\n",
              "      <th>Файл записи звонка</th>\n",
              "      <th>Проект</th>\n",
              "      <th>Теги</th>\n",
              "    </tr>\n",
              "  </thead>\n",
              "  <tbody>\n",
              "    <tr>\n",
              "      <th>11</th>\n",
              "      <td>3032161583</td>\n",
              "      <td>Записи звонков_павелецкая сити/2023-06-19_11-2...</td>\n",
              "      <td>pavcity.turbo.site</td>\n",
              "      <td>NaN</td>\n",
              "    </tr>\n",
              "  </tbody>\n",
              "</table>\n",
              "</div>\n",
              "    <div class=\"colab-df-buttons\">\n",
              "\n",
              "  <div class=\"colab-df-container\">\n",
              "    <button class=\"colab-df-convert\" onclick=\"convertToInteractive('df-a5b34ba2-5659-484f-8bbf-35bbeab48404')\"\n",
              "            title=\"Convert this dataframe to an interactive table.\"\n",
              "            style=\"display:none;\">\n",
              "\n",
              "  <svg xmlns=\"http://www.w3.org/2000/svg\" height=\"24px\" viewBox=\"0 -960 960 960\">\n",
              "    <path d=\"M120-120v-720h720v720H120Zm60-500h600v-160H180v160Zm220 220h160v-160H400v160Zm0 220h160v-160H400v160ZM180-400h160v-160H180v160Zm440 0h160v-160H620v160ZM180-180h160v-160H180v160Zm440 0h160v-160H620v160Z\"/>\n",
              "  </svg>\n",
              "    </button>\n",
              "\n",
              "  <style>\n",
              "    .colab-df-container {\n",
              "      display:flex;\n",
              "      gap: 12px;\n",
              "    }\n",
              "\n",
              "    .colab-df-convert {\n",
              "      background-color: #E8F0FE;\n",
              "      border: none;\n",
              "      border-radius: 50%;\n",
              "      cursor: pointer;\n",
              "      display: none;\n",
              "      fill: #1967D2;\n",
              "      height: 32px;\n",
              "      padding: 0 0 0 0;\n",
              "      width: 32px;\n",
              "    }\n",
              "\n",
              "    .colab-df-convert:hover {\n",
              "      background-color: #E2EBFA;\n",
              "      box-shadow: 0px 1px 2px rgba(60, 64, 67, 0.3), 0px 1px 3px 1px rgba(60, 64, 67, 0.15);\n",
              "      fill: #174EA6;\n",
              "    }\n",
              "\n",
              "    .colab-df-buttons div {\n",
              "      margin-bottom: 4px;\n",
              "    }\n",
              "\n",
              "    [theme=dark] .colab-df-convert {\n",
              "      background-color: #3B4455;\n",
              "      fill: #D2E3FC;\n",
              "    }\n",
              "\n",
              "    [theme=dark] .colab-df-convert:hover {\n",
              "      background-color: #434B5C;\n",
              "      box-shadow: 0px 1px 3px 1px rgba(0, 0, 0, 0.15);\n",
              "      filter: drop-shadow(0px 1px 2px rgba(0, 0, 0, 0.3));\n",
              "      fill: #FFFFFF;\n",
              "    }\n",
              "  </style>\n",
              "\n",
              "    <script>\n",
              "      const buttonEl =\n",
              "        document.querySelector('#df-a5b34ba2-5659-484f-8bbf-35bbeab48404 button.colab-df-convert');\n",
              "      buttonEl.style.display =\n",
              "        google.colab.kernel.accessAllowed ? 'block' : 'none';\n",
              "\n",
              "      async function convertToInteractive(key) {\n",
              "        const element = document.querySelector('#df-a5b34ba2-5659-484f-8bbf-35bbeab48404');\n",
              "        const dataTable =\n",
              "          await google.colab.kernel.invokeFunction('convertToInteractive',\n",
              "                                                    [key], {});\n",
              "        if (!dataTable) return;\n",
              "\n",
              "        const docLinkHtml = 'Like what you see? Visit the ' +\n",
              "          '<a target=\"_blank\" href=https://colab.research.google.com/notebooks/data_table.ipynb>data table notebook</a>'\n",
              "          + ' to learn more about interactive tables.';\n",
              "        element.innerHTML = '';\n",
              "        dataTable['output_type'] = 'display_data';\n",
              "        await google.colab.output.renderOutput(dataTable, element);\n",
              "        const docLink = document.createElement('div');\n",
              "        docLink.innerHTML = docLinkHtml;\n",
              "        element.appendChild(docLink);\n",
              "      }\n",
              "    </script>\n",
              "  </div>\n",
              "\n",
              "    </div>\n",
              "  </div>\n"
            ]
          },
          "metadata": {},
          "execution_count": 8
        }
      ]
    },
    {
      "cell_type": "code",
      "source": [
        "# Сохранение в json\n",
        "df.to_json('input.json', orient='records', force_ascii=False)"
      ],
      "metadata": {
        "id": "-9Bz6yBJWcWP"
      },
      "execution_count": 9,
      "outputs": []
    },
    {
      "cell_type": "code",
      "source": [
        "# Установка cohere, openai и tiktoken\n",
        "!pip -q install cohere openai==1.2.3 tiktoken==0.5.1"
      ],
      "metadata": {
        "colab": {
          "base_uri": "https://localhost:8080/"
        },
        "outputId": "7d9c18cc-a892-4393-f9ea-c6983a9208d4",
        "id": "ZP33N5V1762B"
      },
      "execution_count": 10,
      "outputs": [
        {
          "output_type": "stream",
          "name": "stdout",
          "text": [
            "\u001b[?25l     \u001b[90m━━━━━━━━━━━━━━━━━━━━━━━━━━━━━━━━━━━━━━━━\u001b[0m \u001b[32m0.0/51.7 kB\u001b[0m \u001b[31m?\u001b[0m eta \u001b[36m-:--:--\u001b[0m\r\u001b[2K     \u001b[90m━━━━━━━━━━━━━━━━━━━━━━━━━━━━━━━━━━━━━━━━\u001b[0m \u001b[32m51.7/51.7 kB\u001b[0m \u001b[31m1.7 MB/s\u001b[0m eta \u001b[36m0:00:00\u001b[0m\n",
            "\u001b[2K     \u001b[90m━━━━━━━━━━━━━━━━━━━━━━━━━━━━━━━━━━━━━━━━\u001b[0m \u001b[32m220.3/220.3 kB\u001b[0m \u001b[31m7.0 MB/s\u001b[0m eta \u001b[36m0:00:00\u001b[0m\n",
            "\u001b[2K     \u001b[90m━━━━━━━━━━━━━━━━━━━━━━━━━━━━━━━━━━━━━━━━\u001b[0m \u001b[32m2.0/2.0 MB\u001b[0m \u001b[31m15.1 MB/s\u001b[0m eta \u001b[36m0:00:00\u001b[0m\n",
            "\u001b[2K     \u001b[90m━━━━━━━━━━━━━━━━━━━━━━━━━━━━━━━━━━━━━━━━\u001b[0m \u001b[32m75.9/75.9 kB\u001b[0m \u001b[31m10.3 MB/s\u001b[0m eta \u001b[36m0:00:00\u001b[0m\n",
            "\u001b[2K     \u001b[90m━━━━━━━━━━━━━━━━━━━━━━━━━━━━━━━━━━━━━━━━\u001b[0m \u001b[32m3.1/3.1 MB\u001b[0m \u001b[31m24.9 MB/s\u001b[0m eta \u001b[36m0:00:00\u001b[0m\n",
            "\u001b[2K     \u001b[90m━━━━━━━━━━━━━━━━━━━━━━━━━━━━━━━━━━━━━━━━\u001b[0m \u001b[32m76.9/76.9 kB\u001b[0m \u001b[31m8.7 MB/s\u001b[0m eta \u001b[36m0:00:00\u001b[0m\n",
            "\u001b[2K     \u001b[90m━━━━━━━━━━━━━━━━━━━━━━━━━━━━━━━━━━━━━━━━\u001b[0m \u001b[32m58.3/58.3 kB\u001b[0m \u001b[31m7.6 MB/s\u001b[0m eta \u001b[36m0:00:00\u001b[0m\n",
            "\u001b[?25h"
          ]
        }
      ]
    },
    {
      "cell_type": "code",
      "source": [
        "# Установка openai-whisper\n",
        "!pip -q install openai-whisper"
      ],
      "metadata": {
        "colab": {
          "base_uri": "https://localhost:8080/"
        },
        "outputId": "dab7c7a1-ddab-4691-e463-cc2b7e3e04e5",
        "id": "U1jwqL4BWcWQ"
      },
      "execution_count": 11,
      "outputs": [
        {
          "output_type": "stream",
          "name": "stdout",
          "text": [
            "\u001b[?25l     \u001b[90m━━━━━━━━━━━━━━━━━━━━━━━━━━━━━━━━━━━━━━━━\u001b[0m \u001b[32m0.0/798.6 kB\u001b[0m \u001b[31m?\u001b[0m eta \u001b[36m-:--:--\u001b[0m\r\u001b[2K     \u001b[91m━━━━━━\u001b[0m\u001b[90m╺\u001b[0m\u001b[90m━━━━━━━━━━━━━━━━━━━━━━━━━━━━━━━━━\u001b[0m \u001b[32m122.9/798.6 kB\u001b[0m \u001b[31m3.6 MB/s\u001b[0m eta \u001b[36m0:00:01\u001b[0m\r\u001b[2K     \u001b[91m━━━━━━━━━━━━━━━━━━━━━━━\u001b[0m\u001b[90m╺\u001b[0m\u001b[90m━━━━━━━━━━━━━━━━\u001b[0m \u001b[32m460.8/798.6 kB\u001b[0m \u001b[31m6.6 MB/s\u001b[0m eta \u001b[36m0:00:01\u001b[0m\r\u001b[2K     \u001b[91m━━━━━━━━━━━━━━━━━━━━━━━━━━━━━━━━━━━━━━━\u001b[0m\u001b[90m╺\u001b[0m \u001b[32m788.5/798.6 kB\u001b[0m \u001b[31m8.2 MB/s\u001b[0m eta \u001b[36m0:00:01\u001b[0m\r\u001b[2K     \u001b[90m━━━━━━━━━━━━━━━━━━━━━━━━━━━━━━━━━━━━━━━━\u001b[0m \u001b[32m798.6/798.6 kB\u001b[0m \u001b[31m7.3 MB/s\u001b[0m eta \u001b[36m0:00:00\u001b[0m\n",
            "\u001b[?25h  Installing build dependencies ... \u001b[?25l\u001b[?25hdone\n",
            "  Getting requirements to build wheel ... \u001b[?25l\u001b[?25hdone\n",
            "  Preparing metadata (pyproject.toml) ... \u001b[?25l\u001b[?25hdone\n",
            "  Building wheel for openai-whisper (pyproject.toml) ... \u001b[?25l\u001b[?25hdone\n"
          ]
        }
      ]
    },
    {
      "cell_type": "code",
      "source": [
        "# Установка fastapi и дополнительных библиотек\n",
        "!pip -q install fastapi uvicorn python-multipart typing-extensions==4.5.0 kaleido"
      ],
      "metadata": {
        "colab": {
          "base_uri": "https://localhost:8080/"
        },
        "outputId": "fe6a4a9a-e5af-4d39-eb95-2932c807231f",
        "id": "7hbQfs31WcWR"
      },
      "execution_count": 12,
      "outputs": [
        {
          "output_type": "stream",
          "name": "stdout",
          "text": [
            "\u001b[2K     \u001b[90m━━━━━━━━━━━━━━━━━━━━━━━━━━━━━━━━━━━━━━━━\u001b[0m \u001b[32m92.0/92.0 kB\u001b[0m \u001b[31m2.8 MB/s\u001b[0m eta \u001b[36m0:00:00\u001b[0m\n",
            "\u001b[2K     \u001b[90m━━━━━━━━━━━━━━━━━━━━━━━━━━━━━━━━━━━━━━━━\u001b[0m \u001b[32m60.3/60.3 kB\u001b[0m \u001b[31m6.7 MB/s\u001b[0m eta \u001b[36m0:00:00\u001b[0m\n",
            "\u001b[2K     \u001b[90m━━━━━━━━━━━━━━━━━━━━━━━━━━━━━━━━━━━━━━━━\u001b[0m \u001b[32m45.7/45.7 kB\u001b[0m \u001b[31m6.3 MB/s\u001b[0m eta \u001b[36m0:00:00\u001b[0m\n",
            "\u001b[2K     \u001b[90m━━━━━━━━━━━━━━━━━━━━━━━━━━━━━━━━━━━━━━━━\u001b[0m \u001b[32m79.9/79.9 MB\u001b[0m \u001b[31m7.9 MB/s\u001b[0m eta \u001b[36m0:00:00\u001b[0m\n",
            "\u001b[2K     \u001b[90m━━━━━━━━━━━━━━━━━━━━━━━━━━━━━━━━━━━━━━━━\u001b[0m \u001b[32m70.0/70.0 kB\u001b[0m \u001b[31m4.0 MB/s\u001b[0m eta \u001b[36m0:00:00\u001b[0m\n",
            "\u001b[2K     \u001b[90m━━━━━━━━━━━━━━━━━━━━━━━━━━━━━━━━━━━━━━━━\u001b[0m \u001b[32m92.1/92.1 kB\u001b[0m \u001b[31m9.6 MB/s\u001b[0m eta \u001b[36m0:00:00\u001b[0m\n",
            "\u001b[2K     \u001b[90m━━━━━━━━━━━━━━━━━━━━━━━━━━━━━━━━━━━━━━━━\u001b[0m \u001b[32m68.9/68.9 kB\u001b[0m \u001b[31m7.9 MB/s\u001b[0m eta \u001b[36m0:00:00\u001b[0m\n",
            "\u001b[2K     \u001b[90m━━━━━━━━━━━━━━━━━━━━━━━━━━━━━━━━━━━━━━━━\u001b[0m \u001b[32m92.1/92.1 kB\u001b[0m \u001b[31m9.0 MB/s\u001b[0m eta \u001b[36m0:00:00\u001b[0m\n",
            "\u001b[2K     \u001b[90m━━━━━━━━━━━━━━━━━━━━━━━━━━━━━━━━━━━━━━━━\u001b[0m \u001b[32m67.0/67.0 kB\u001b[0m \u001b[31m7.5 MB/s\u001b[0m eta \u001b[36m0:00:00\u001b[0m\n",
            "\u001b[2K     \u001b[90m━━━━━━━━━━━━━━━━━━━━━━━━━━━━━━━━━━━━━━━━\u001b[0m \u001b[32m93.1/93.1 kB\u001b[0m \u001b[31m10.3 MB/s\u001b[0m eta \u001b[36m0:00:00\u001b[0m\n",
            "\u001b[2K     \u001b[90m━━━━━━━━━━━━━━━━━━━━━━━━━━━━━━━━━━━━━━━━\u001b[0m \u001b[32m92.9/92.9 kB\u001b[0m \u001b[31m10.8 MB/s\u001b[0m eta \u001b[36m0:00:00\u001b[0m\n",
            "\u001b[2K     \u001b[90m━━━━━━━━━━━━━━━━━━━━━━━━━━━━━━━━━━━━━━━━\u001b[0m \u001b[32m92.9/92.9 kB\u001b[0m \u001b[31m6.8 MB/s\u001b[0m eta \u001b[36m0:00:00\u001b[0m\n",
            "\u001b[2K     \u001b[90m━━━━━━━━━━━━━━━━━━━━━━━━━━━━━━━━━━━━━━━━\u001b[0m \u001b[32m66.3/66.3 kB\u001b[0m \u001b[31m8.0 MB/s\u001b[0m eta \u001b[36m0:00:00\u001b[0m\n",
            "\u001b[?25h"
          ]
        }
      ]
    },
    {
      "cell_type": "code",
      "source": [
        "!pip -q install tensorflow==2.14.0"
      ],
      "metadata": {
        "colab": {
          "base_uri": "https://localhost:8080/"
        },
        "outputId": "8a08c8c2-3acd-4fae-ef70-43fbd112b304",
        "id": "S2HS2g_z8UKn"
      },
      "execution_count": 13,
      "outputs": [
        {
          "output_type": "stream",
          "name": "stdout",
          "text": [
            "\u001b[2K     \u001b[90m━━━━━━━━━━━━━━━━━━━━━━━━━━━━━━━━━━━━━━━━\u001b[0m \u001b[32m489.8/489.8 MB\u001b[0m \u001b[31m3.3 MB/s\u001b[0m eta \u001b[36m0:00:00\u001b[0m\n",
            "\u001b[2K     \u001b[90m━━━━━━━━━━━━━━━━━━━━━━━━━━━━━━━━━━━━━━━━\u001b[0m \u001b[32m5.5/5.5 MB\u001b[0m \u001b[31m93.5 MB/s\u001b[0m eta \u001b[36m0:00:00\u001b[0m\n",
            "\u001b[2K     \u001b[90m━━━━━━━━━━━━━━━━━━━━━━━━━━━━━━━━━━━━━━━━\u001b[0m \u001b[32m440.7/440.7 kB\u001b[0m \u001b[31m45.0 MB/s\u001b[0m eta \u001b[36m0:00:00\u001b[0m\n",
            "\u001b[2K     \u001b[90m━━━━━━━━━━━━━━━━━━━━━━━━━━━━━━━━━━━━━━━━\u001b[0m \u001b[32m1.7/1.7 MB\u001b[0m \u001b[31m83.9 MB/s\u001b[0m eta \u001b[36m0:00:00\u001b[0m\n",
            "\u001b[?25h"
          ]
        }
      ]
    },
    {
      "cell_type": "code",
      "source": [
        "import tensorflow as tf\n",
        "tf.__version__"
      ],
      "metadata": {
        "colab": {
          "base_uri": "https://localhost:8080/",
          "height": 36
        },
        "outputId": "f48ee5e2-c064-46f1-e92b-9a5dfb99c6d7",
        "id": "njm13yZu8ejm"
      },
      "execution_count": 14,
      "outputs": [
        {
          "output_type": "execute_result",
          "data": {
            "text/plain": [
              "'2.14.0'"
            ],
            "application/vnd.google.colaboratory.intrinsic+json": {
              "type": "string"
            }
          },
          "metadata": {},
          "execution_count": 14
        }
      ]
    },
    {
      "cell_type": "code",
      "source": [
        "# Эндпойнт\n",
        "main_file = '''\n",
        "import re\n",
        "import whisper\n",
        "import numpy as np\n",
        "import pandas as pd\n",
        "import pickle as pkl\n",
        "from io import BytesIO\n",
        "from fastapi import FastAPI, File\n",
        "from tensorflow.keras.saving import load_model\n",
        "\n",
        "whisper_model = whisper.load_model('medium')\n",
        "model = load_model('model_BoW.keras')\n",
        "\n",
        "with open('tokenizer.pkl', 'rb') as f:\n",
        "  tokenizer = pkl.load(f)\n",
        "\n",
        "app = FastAPI()\n",
        "\n",
        "@app.post('/predict')\n",
        "async def predict(json_file: bytes = File(...)):\n",
        "\n",
        "  df = pd.read_json(BytesIO(json_file))\n",
        "\n",
        "  for i in df.index:\n",
        "    df.loc[i,'Транскрибация файла записи звонка'] = whisper_model.transcribe(df.loc[i,'Файл записи звонка'], language='ru')['text']\n",
        "  df['Транскрибация файла записи звонка'] = df['Транскрибация файла записи звонка'].fillna('безответа')\n",
        "  df['Транскрибация файла записи звонка'] = df['Транскрибация файла записи звонка'].apply(lambda s: re.sub('[^А-Яа-я0-9 ]', '', s.lower()))\n",
        "  df['Транскрибация файла записи звонка'] = df['Транскрибация файла записи звонка'].apply(lambda s: s.strip())\n",
        "  df['Транскрибация файла записи звонка'] = np.where(df['Транскрибация файла записи звонка'].str.len() < 5, 'безответа', df['Транскрибация файла записи звонка'])\n",
        "  df['Транскрибация файла записи звонка'] = df['Транскрибация файла записи звонка'].str.replace('ё', 'е', regex=False)\n",
        "\n",
        "  x_textdata_01 = tokenizer.texts_to_matrix(df['Транскрибация файла записи звонка'].tolist())\n",
        "\n",
        "  y_predict = model.predict(x_textdata_01)\n",
        "  for i in range(df.shape[0]):\n",
        "    df.loc[i,'Предсказание класса'] = 'Целевой' if round(y_predict[i][0]) else 'Нецелевой'\n",
        "\n",
        "  df[['Проект', 'Идентификатор сессии звонка', 'Теги', 'Предсказание класса', 'Транскрибация файла записи звонка']].to_json('output.json', orient='records', force_ascii=False)\n",
        "\n",
        "  return {'result': 'output.json'}\n",
        "'''\n",
        "with open('main.py', 'w') as f:\n",
        "  f.write(main_file)"
      ],
      "metadata": {
        "id": "-bnVq2hYCq0R"
      },
      "execution_count": 15,
      "outputs": []
    },
    {
      "cell_type": "code",
      "source": [
        "# Запуск uvicorn\n",
        "!nohup uvicorn main:app --reload &"
      ],
      "metadata": {
        "colab": {
          "base_uri": "https://localhost:8080/"
        },
        "outputId": "ae940a16-620c-4720-e059-39e0612de880",
        "id": "AK1OHjV9WcWS"
      },
      "execution_count": 16,
      "outputs": [
        {
          "output_type": "stream",
          "name": "stdout",
          "text": [
            "nohup: appending output to 'nohup.out'\n"
          ]
        }
      ]
    },
    {
      "cell_type": "code",
      "source": [
        "# Лог\n",
        "!cat nohup.out"
      ],
      "metadata": {
        "colab": {
          "base_uri": "https://localhost:8080/"
        },
        "outputId": "8c213608-e3cc-4686-eddd-6d9601b37b1f",
        "id": "Nv3Pv8z1WcWS"
      },
      "execution_count": 17,
      "outputs": [
        {
          "output_type": "stream",
          "name": "stdout",
          "text": [
            "INFO:     Will watch for changes in these directories: ['/content']\n",
            "INFO:     Uvicorn running on http://127.0.0.1:8000 (Press CTRL+C to quit)\n",
            "INFO:     Started reloader process [3155] using StatReload\n"
          ]
        }
      ]
    },
    {
      "cell_type": "code",
      "source": [
        "import requests\n",
        "files = {'json_file': open('input.json','rb')}\n",
        "response = requests.post('http://127.0.0.1:8000/predict', files=files)\n",
        "print(response.text)"
      ],
      "metadata": {
        "colab": {
          "base_uri": "https://localhost:8080/"
        },
        "outputId": "e2c01464-e27f-4746-8899-a800902f6e5c",
        "id": "ep0ExgnPWcWS"
      },
      "execution_count": 27,
      "outputs": [
        {
          "output_type": "stream",
          "name": "stdout",
          "text": [
            "{\"result\":\"output.json\"}\n"
          ]
        }
      ]
    },
    {
      "cell_type": "code",
      "source": [
        "# Лог\n",
        "!cat nohup.out"
      ],
      "metadata": {
        "colab": {
          "base_uri": "https://localhost:8080/"
        },
        "outputId": "2efc269c-70db-4492-ba95-5171914557ca",
        "id": "F7X8mZu2WcWT"
      },
      "execution_count": 28,
      "outputs": [
        {
          "output_type": "stream",
          "name": "stdout",
          "text": [
            "INFO:     Will watch for changes in these directories: ['/content']\n",
            "INFO:     Uvicorn running on http://127.0.0.1:8000 (Press CTRL+C to quit)\n",
            "INFO:     Started reloader process [3155] using StatReload\n",
            "2023-12-28 04:56:23.273242: E tensorflow/compiler/xla/stream_executor/cuda/cuda_dnn.cc:9342] Unable to register cuDNN factory: Attempting to register factory for plugin cuDNN when one has already been registered\n",
            "2023-12-28 04:56:23.273312: E tensorflow/compiler/xla/stream_executor/cuda/cuda_fft.cc:609] Unable to register cuFFT factory: Attempting to register factory for plugin cuFFT when one has already been registered\n",
            "2023-12-28 04:56:23.273349: E tensorflow/compiler/xla/stream_executor/cuda/cuda_blas.cc:1518] Unable to register cuBLAS factory: Attempting to register factory for plugin cuBLAS when one has already been registered\n",
            "2023-12-28 04:56:25.088435: W tensorflow/compiler/tf2tensorrt/utils/py_utils.cc:38] TF-TRT Warning: Could not find TensorRT\n",
            "\r  0%|                                              | 0.00/1.42G [00:00<?, ?iB/s]\r  1%|▏                                    | 8.72M/1.42G [00:00<00:17, 87.4MiB/s]\r  1%|▍                                    | 18.0M/1.42G [00:00<00:16, 92.9MiB/s]\r  2%|▋                                    | 26.8M/1.42G [00:00<00:32, 46.1MiB/s]\r  2%|▊                                    | 32.9M/1.42G [00:00<00:42, 34.9MiB/s]\r  3%|▉                                    | 37.4M/1.42G [00:01<00:48, 30.8MiB/s]\r  3%|█                                    | 41.1M/1.42G [00:01<00:50, 29.3MiB/s]\r  3%|█▏                                   | 44.4M/1.42G [00:01<00:48, 30.2MiB/s]\r  3%|█▏                                   | 47.6M/1.42G [00:01<00:49, 30.2MiB/s]\r  4%|█▎                                   | 51.4M/1.42G [00:01<00:45, 32.3MiB/s]\r  4%|█▍                                   | 55.1M/1.42G [00:01<00:43, 33.8MiB/s]\r  4%|█▍                                   | 58.5M/1.42G [00:01<00:44, 33.1MiB/s]\r  5%|█▊                                   | 70.5M/1.42G [00:01<00:25, 57.6MiB/s]\r  6%|██                                   | 81.3M/1.42G [00:01<00:19, 72.8MiB/s]\r  6%|██▎                                  | 91.6M/1.42G [00:02<00:17, 82.8MiB/s]\r  7%|██▋                                   | 102M/1.42G [00:02<00:15, 89.8MiB/s]\r  8%|██▉                                   | 114M/1.42G [00:02<00:14, 99.4MiB/s]\r  8%|███▎                                   | 124M/1.42G [00:02<00:13, 102MiB/s]\r  9%|███▌                                   | 134M/1.42G [00:02<00:13, 104MiB/s]\r 10%|███▊                                  | 145M/1.42G [00:02<00:14, 94.1MiB/s]\r 11%|████                                  | 154M/1.42G [00:02<00:15, 90.3MiB/s]\r 11%|████▎                                 | 163M/1.42G [00:02<00:14, 92.2MiB/s]\r 12%|████▍                                 | 172M/1.42G [00:02<00:15, 85.5MiB/s]\r 13%|████▊                                 | 184M/1.42G [00:02<00:14, 94.2MiB/s]\r 13%|█████                                 | 194M/1.42G [00:03<00:13, 97.1MiB/s]\r 14%|█████▌                                 | 209M/1.42G [00:03<00:11, 115MiB/s]\r 15%|█████▉                                 | 220M/1.42G [00:03<00:11, 112MiB/s]\r 16%|██████                                | 231M/1.42G [00:03<00:14, 91.8MiB/s]\r 16%|██████▎                               | 240M/1.42G [00:03<00:14, 86.8MiB/s]\r 17%|██████▌                               | 251M/1.42G [00:03<00:13, 92.8MiB/s]\r 18%|██████▊                               | 261M/1.42G [00:03<00:13, 95.3MiB/s]\r 19%|███████                               | 270M/1.42G [00:03<00:14, 87.8MiB/s]\r 19%|███████▎                              | 279M/1.42G [00:04<00:14, 84.0MiB/s]\r 20%|███████▍                              | 287M/1.42G [00:05<01:15, 16.2MiB/s]\r 21%|███████▊                              | 299M/1.42G [00:05<00:51, 23.7MiB/s]\r 21%|████████                              | 310M/1.42G [00:05<00:38, 31.3MiB/s]\r 22%|████████▍                             | 323M/1.42G [00:06<00:27, 42.9MiB/s]\r 23%|████████▋                             | 335M/1.42G [00:06<00:21, 54.8MiB/s]\r 24%|█████████                             | 347M/1.42G [00:06<00:17, 65.7MiB/s]\r 25%|█████████▎                            | 359M/1.42G [00:06<00:14, 77.3MiB/s]\r 25%|█████████▋                            | 370M/1.42G [00:06<00:13, 84.3MiB/s]\r 26%|█████████▉                            | 383M/1.42G [00:06<00:11, 94.5MiB/s]\r 27%|██████████▎                           | 394M/1.42G [00:06<00:11, 95.6MiB/s]\r 28%|██████████▌                           | 405M/1.42G [00:06<00:12, 88.0MiB/s]\r 28%|██████████▊                           | 415M/1.42G [00:06<00:12, 89.9MiB/s]\r 29%|███████████                           | 425M/1.42G [00:07<00:11, 94.9MiB/s]\r 30%|███████████▎                          | 435M/1.42G [00:07<00:11, 93.4MiB/s]\r 30%|███████████▌                          | 444M/1.42G [00:07<00:11, 92.9MiB/s]\r 31%|███████████▊                          | 453M/1.42G [00:07<00:16, 63.2MiB/s]\r 32%|████████████                          | 461M/1.42G [00:07<00:21, 48.0MiB/s]\r 32%|████████████▏                         | 468M/1.42G [00:07<00:19, 52.2MiB/s]\r 33%|████████████▍                         | 478M/1.42G [00:08<00:16, 62.6MiB/s]\r 33%|████████████▋                         | 486M/1.42G [00:08<00:14, 68.1MiB/s]\r 34%|████████████▉                         | 496M/1.42G [00:08<00:13, 76.9MiB/s]\r 35%|█████████████▏                        | 506M/1.42G [00:08<00:11, 85.3MiB/s]\r 35%|█████████████▍                        | 515M/1.42G [00:08<00:11, 85.5MiB/s]\r 36%|█████████████▋                        | 525M/1.42G [00:08<00:10, 90.0MiB/s]\r 37%|█████████████▉                        | 535M/1.42G [00:08<00:10, 95.0MiB/s]\r 37%|██████████████▏                       | 545M/1.42G [00:08<00:10, 95.5MiB/s]\r 38%|██████████████▉                        | 556M/1.42G [00:08<00:09, 103MiB/s]\r 39%|███████████████▏                       | 567M/1.42G [00:08<00:08, 105MiB/s]\r 40%|███████████████                       | 577M/1.42G [00:09<00:09, 98.2MiB/s]\r 40%|███████████████▊                       | 589M/1.42G [00:09<00:08, 105MiB/s]\r 41%|████████████████                       | 599M/1.42G [00:09<00:08, 106MiB/s]\r 42%|████████████████▎                      | 610M/1.42G [00:09<00:08, 107MiB/s]\r 43%|████████████████▌                      | 620M/1.42G [00:09<00:08, 103MiB/s]\r 43%|████████████████▍                     | 630M/1.42G [00:09<00:08, 98.4MiB/s]\r 44%|█████████████████▏                     | 643M/1.42G [00:09<00:07, 111MiB/s]\r 45%|█████████████████▌                     | 657M/1.42G [00:09<00:07, 120MiB/s]\r 46%|█████████████████▉                     | 670M/1.42G [00:09<00:06, 124MiB/s]\r 47%|██████████████████▏                    | 682M/1.42G [00:10<00:06, 121MiB/s]\r 48%|██████████████████▌                    | 693M/1.42G [00:10<00:06, 118MiB/s]\r 48%|██████████████████▉                    | 707M/1.42G [00:10<00:06, 125MiB/s]\r 49%|███████████████████▏                   | 719M/1.42G [00:10<00:06, 116MiB/s]\r 50%|███████████████████▌                   | 730M/1.42G [00:10<00:06, 109MiB/s]\r 51%|███████████████████▊                   | 742M/1.42G [00:10<00:06, 113MiB/s]\r 52%|████████████████████▏                  | 754M/1.42G [00:10<00:06, 118MiB/s]\r 53%|████████████████████▍                  | 765M/1.42G [00:10<00:06, 108MiB/s]\r 53%|████████████████████▊                  | 778M/1.42G [00:10<00:06, 115MiB/s]\r 54%|█████████████████████▏                 | 789M/1.42G [00:11<00:06, 109MiB/s]\r 55%|█████████████████████▍                 | 800M/1.42G [00:11<00:06, 106MiB/s]\r 56%|█████████████████████▋                 | 810M/1.42G [00:11<00:06, 107MiB/s]\r 56%|█████████████████████▉                 | 821M/1.42G [00:11<00:06, 105MiB/s]\r 57%|█████████████████████▋                | 831M/1.42G [00:11<00:06, 99.7MiB/s]\r 58%|██████████████████████▌                | 841M/1.42G [00:11<00:06, 101MiB/s]\r 58%|██████████████████████▏               | 850M/1.42G [00:11<00:06, 96.0MiB/s]\r 59%|███████████████████████                | 861M/1.42G [00:11<00:06, 101MiB/s]\r 60%|███████████████████████▎               | 872M/1.42G [00:11<00:05, 105MiB/s]\r 61%|███████████████████████               | 883M/1.42G [00:12<00:06, 92.5MiB/s]\r 61%|███████████████████████▎              | 892M/1.42G [00:12<00:07, 80.0MiB/s]\r 62%|███████████████████████▍              | 900M/1.42G [00:12<00:07, 79.4MiB/s]\r 62%|███████████████████████▋              | 909M/1.42G [00:12<00:06, 85.2MiB/s]\r 63%|███████████████████████▉              | 919M/1.42G [00:12<00:06, 90.3MiB/s]\r 64%|████████████████████████▎             | 931M/1.42G [00:12<00:05, 98.6MiB/s]\r 65%|████████████████████████▌             | 941M/1.42G [00:12<00:05, 96.8MiB/s]\r 65%|████████████████████████▊             | 950M/1.42G [00:12<00:05, 96.5MiB/s]\r 66%|█████████████████████████             | 961M/1.42G [00:12<00:05, 99.8MiB/s]\r 67%|█████████████████████████▎            | 970M/1.42G [00:13<00:05, 99.8MiB/s]\r 67%|██████████████████████████▎            | 982M/1.42G [00:13<00:04, 107MiB/s]\r 68%|██████████████████████████▌            | 992M/1.42G [00:13<00:04, 100MiB/s]\r 69%|██████████████████████████▏           | 0.98G/1.42G [00:13<00:04, 109MiB/s]\r 70%|█████████████████████████▊           | 0.99G/1.42G [00:13<00:04, 94.7MiB/s]\r 70%|██████████████████████████           | 1.00G/1.42G [00:13<00:05, 88.3MiB/s]\r 71%|██████████████████████████▎          | 1.01G/1.42G [00:13<00:04, 91.4MiB/s]\r 72%|██████████████████████████▌          | 1.02G/1.42G [00:13<00:04, 92.5MiB/s]\r 72%|██████████████████████████▊          | 1.03G/1.42G [00:13<00:04, 97.2MiB/s]\r 73%|███████████████████████████▊          | 1.04G/1.42G [00:14<00:03, 104MiB/s]\r 74%|████████████████████████████          | 1.05G/1.42G [00:14<00:03, 106MiB/s]\r 75%|████████████████████████████▎         | 1.06G/1.42G [00:14<00:03, 100MiB/s]\r 75%|████████████████████████████▌         | 1.07G/1.42G [00:14<00:03, 101MiB/s]\r 76%|████████████████████████████▉         | 1.08G/1.42G [00:14<00:03, 108MiB/s]\r 77%|█████████████████████████████▏        | 1.09G/1.42G [00:14<00:03, 111MiB/s]\r 78%|█████████████████████████████▍        | 1.10G/1.42G [00:14<00:03, 109MiB/s]\r 78%|█████████████████████████████▋        | 1.11G/1.42G [00:14<00:03, 105MiB/s]\r 79%|██████████████████████████████        | 1.12G/1.42G [00:14<00:02, 108MiB/s]\r 80%|██████████████████████████████▎       | 1.13G/1.42G [00:15<00:02, 108MiB/s]\r 80%|██████████████████████████████▌       | 1.15G/1.42G [00:15<00:02, 109MiB/s]\r 81%|██████████████████████████████▉       | 1.16G/1.42G [00:15<00:02, 113MiB/s]\r 82%|███████████████████████████████▏      | 1.17G/1.42G [00:15<00:02, 110MiB/s]\r 83%|███████████████████████████████▍      | 1.18G/1.42G [00:15<00:02, 117MiB/s]\r 84%|███████████████████████████████▊      | 1.19G/1.42G [00:15<00:02, 102MiB/s]\r 84%|████████████████████████████████      | 1.20G/1.42G [00:15<00:02, 109MiB/s]\r 85%|███████████████████████████████▌     | 1.21G/1.42G [00:16<00:04, 54.0MiB/s]\r 86%|███████████████████████████████▉     | 1.23G/1.42G [00:16<00:02, 74.8MiB/s]\r 87%|████████████████████████████████▏    | 1.24G/1.42G [00:16<00:02, 82.3MiB/s]\r 88%|████████████████████████████████▌    | 1.25G/1.42G [00:16<00:01, 92.5MiB/s]\r 89%|█████████████████████████████████▊    | 1.27G/1.42G [00:16<00:01, 104MiB/s]\r 90%|██████████████████████████████████▏   | 1.28G/1.42G [00:16<00:01, 115MiB/s]\r 91%|██████████████████████████████████▍   | 1.29G/1.42G [00:16<00:01, 118MiB/s]\r 92%|██████████████████████████████████▊   | 1.30G/1.42G [00:16<00:01, 123MiB/s]\r 93%|███████████████████████████████████▏  | 1.32G/1.42G [00:16<00:00, 120MiB/s]\r 93%|███████████████████████████████████▌  | 1.33G/1.42G [00:17<00:00, 124MiB/s]\r 94%|███████████████████████████████████▊  | 1.34G/1.42G [00:17<00:00, 108MiB/s]\r 95%|████████████████████████████████████  | 1.35G/1.42G [00:17<00:00, 109MiB/s]\r 96%|████████████████████████████████████▍ | 1.36G/1.42G [00:17<00:00, 102MiB/s]\r 96%|███████████████████████████████████▋ | 1.37G/1.42G [00:17<00:00, 80.9MiB/s]\r 97%|███████████████████████████████████▉ | 1.38G/1.42G [00:17<00:00, 85.5MiB/s]\r 98%|████████████████████████████████████▏| 1.39G/1.42G [00:17<00:00, 92.5MiB/s]\r 99%|█████████████████████████████████████▌| 1.41G/1.42G [00:17<00:00, 105MiB/s]\r100%|█████████████████████████████████████▉| 1.42G/1.42G [00:18<00:00, 113MiB/s]\r100%|█████████████████████████████████████| 1.42G/1.42G [00:18<00:00, 84.3MiB/s]\n",
            "2023-12-28 04:57:02.170625: W tensorflow/core/common_runtime/gpu/gpu_device.cc:2211] Cannot dlopen some GPU libraries. Please make sure the missing libraries mentioned above are installed properly if you would like to use GPU. Follow the guide at https://www.tensorflow.org/install/gpu for how to download and setup the required libraries for your platform.\n",
            "Skipping registering GPU devices...\n",
            "INFO:     Started server process [3157]\n",
            "INFO:     Waiting for application startup.\n",
            "INFO:     Application startup complete.\n",
            "\r1/1 [==============================] - ETA: 0s\b\b\b\b\b\b\b\b\b\b\b\b\b\b\b\b\b\b\b\b\b\b\b\b\b\b\b\b\b\b\b\b\b\b\b\b\b\b\b\b\b\b\b\b\b\b\r1/1 [==============================] - 0s 222ms/step\n",
            "INFO:     127.0.0.1:44886 - \"POST /predict HTTP/1.1\" 200 OK\n"
          ]
        }
      ]
    },
    {
      "cell_type": "code",
      "source": [
        "df = pd.read_json('output.json')\n",
        "df.shape"
      ],
      "metadata": {
        "colab": {
          "base_uri": "https://localhost:8080/"
        },
        "outputId": "1e0928ad-caf2-403e-86fd-7847b569e5b3",
        "id": "9kDRX40rWcWT"
      },
      "execution_count": 29,
      "outputs": [
        {
          "output_type": "execute_result",
          "data": {
            "text/plain": [
              "(1, 5)"
            ]
          },
          "metadata": {},
          "execution_count": 29
        }
      ]
    },
    {
      "cell_type": "code",
      "source": [
        "df"
      ],
      "metadata": {
        "colab": {
          "base_uri": "https://localhost:8080/",
          "height": 81
        },
        "outputId": "64f942f6-1677-4672-bcb0-5e98cd8d5e15",
        "id": "vrfNkc1AWcWT"
      },
      "execution_count": 30,
      "outputs": [
        {
          "output_type": "execute_result",
          "data": {
            "text/plain": [
              "               Проект  Идентификатор сессии звонка  Теги Предсказание класса  \\\n",
              "0  pavcity.turbo.site                   3032161583   NaN           Нецелевой   \n",
              "\n",
              "                   Транскрибация файла записи звонка  \n",
              "0  здравствуйте вы позвонили в компанию   пожалуй...  "
            ],
            "text/html": [
              "\n",
              "  <div id=\"df-b9465fdd-0943-4cbe-aed0-c53fe0704479\" class=\"colab-df-container\">\n",
              "    <div>\n",
              "<style scoped>\n",
              "    .dataframe tbody tr th:only-of-type {\n",
              "        vertical-align: middle;\n",
              "    }\n",
              "\n",
              "    .dataframe tbody tr th {\n",
              "        vertical-align: top;\n",
              "    }\n",
              "\n",
              "    .dataframe thead th {\n",
              "        text-align: right;\n",
              "    }\n",
              "</style>\n",
              "<table border=\"1\" class=\"dataframe\">\n",
              "  <thead>\n",
              "    <tr style=\"text-align: right;\">\n",
              "      <th></th>\n",
              "      <th>Проект</th>\n",
              "      <th>Идентификатор сессии звонка</th>\n",
              "      <th>Теги</th>\n",
              "      <th>Предсказание класса</th>\n",
              "      <th>Транскрибация файла записи звонка</th>\n",
              "    </tr>\n",
              "  </thead>\n",
              "  <tbody>\n",
              "    <tr>\n",
              "      <th>0</th>\n",
              "      <td>pavcity.turbo.site</td>\n",
              "      <td>3032161583</td>\n",
              "      <td>NaN</td>\n",
              "      <td>Нецелевой</td>\n",
              "      <td>здравствуйте вы позвонили в компанию   пожалуй...</td>\n",
              "    </tr>\n",
              "  </tbody>\n",
              "</table>\n",
              "</div>\n",
              "    <div class=\"colab-df-buttons\">\n",
              "\n",
              "  <div class=\"colab-df-container\">\n",
              "    <button class=\"colab-df-convert\" onclick=\"convertToInteractive('df-b9465fdd-0943-4cbe-aed0-c53fe0704479')\"\n",
              "            title=\"Convert this dataframe to an interactive table.\"\n",
              "            style=\"display:none;\">\n",
              "\n",
              "  <svg xmlns=\"http://www.w3.org/2000/svg\" height=\"24px\" viewBox=\"0 -960 960 960\">\n",
              "    <path d=\"M120-120v-720h720v720H120Zm60-500h600v-160H180v160Zm220 220h160v-160H400v160Zm0 220h160v-160H400v160ZM180-400h160v-160H180v160Zm440 0h160v-160H620v160ZM180-180h160v-160H180v160Zm440 0h160v-160H620v160Z\"/>\n",
              "  </svg>\n",
              "    </button>\n",
              "\n",
              "  <style>\n",
              "    .colab-df-container {\n",
              "      display:flex;\n",
              "      gap: 12px;\n",
              "    }\n",
              "\n",
              "    .colab-df-convert {\n",
              "      background-color: #E8F0FE;\n",
              "      border: none;\n",
              "      border-radius: 50%;\n",
              "      cursor: pointer;\n",
              "      display: none;\n",
              "      fill: #1967D2;\n",
              "      height: 32px;\n",
              "      padding: 0 0 0 0;\n",
              "      width: 32px;\n",
              "    }\n",
              "\n",
              "    .colab-df-convert:hover {\n",
              "      background-color: #E2EBFA;\n",
              "      box-shadow: 0px 1px 2px rgba(60, 64, 67, 0.3), 0px 1px 3px 1px rgba(60, 64, 67, 0.15);\n",
              "      fill: #174EA6;\n",
              "    }\n",
              "\n",
              "    .colab-df-buttons div {\n",
              "      margin-bottom: 4px;\n",
              "    }\n",
              "\n",
              "    [theme=dark] .colab-df-convert {\n",
              "      background-color: #3B4455;\n",
              "      fill: #D2E3FC;\n",
              "    }\n",
              "\n",
              "    [theme=dark] .colab-df-convert:hover {\n",
              "      background-color: #434B5C;\n",
              "      box-shadow: 0px 1px 3px 1px rgba(0, 0, 0, 0.15);\n",
              "      filter: drop-shadow(0px 1px 2px rgba(0, 0, 0, 0.3));\n",
              "      fill: #FFFFFF;\n",
              "    }\n",
              "  </style>\n",
              "\n",
              "    <script>\n",
              "      const buttonEl =\n",
              "        document.querySelector('#df-b9465fdd-0943-4cbe-aed0-c53fe0704479 button.colab-df-convert');\n",
              "      buttonEl.style.display =\n",
              "        google.colab.kernel.accessAllowed ? 'block' : 'none';\n",
              "\n",
              "      async function convertToInteractive(key) {\n",
              "        const element = document.querySelector('#df-b9465fdd-0943-4cbe-aed0-c53fe0704479');\n",
              "        const dataTable =\n",
              "          await google.colab.kernel.invokeFunction('convertToInteractive',\n",
              "                                                    [key], {});\n",
              "        if (!dataTable) return;\n",
              "\n",
              "        const docLinkHtml = 'Like what you see? Visit the ' +\n",
              "          '<a target=\"_blank\" href=https://colab.research.google.com/notebooks/data_table.ipynb>data table notebook</a>'\n",
              "          + ' to learn more about interactive tables.';\n",
              "        element.innerHTML = '';\n",
              "        dataTable['output_type'] = 'display_data';\n",
              "        await google.colab.output.renderOutput(dataTable, element);\n",
              "        const docLink = document.createElement('div');\n",
              "        docLink.innerHTML = docLinkHtml;\n",
              "        element.appendChild(docLink);\n",
              "      }\n",
              "    </script>\n",
              "  </div>\n",
              "\n",
              "    </div>\n",
              "  </div>\n"
            ]
          },
          "metadata": {},
          "execution_count": 30
        }
      ]
    },
    {
      "cell_type": "code",
      "source": [
        "!mv output.json pavcity.turbo.site_output.json"
      ],
      "metadata": {
        "id": "bKlcxqu-yZPP"
      },
      "execution_count": 31,
      "outputs": []
    },
    {
      "cell_type": "markdown",
      "source": [
        "### pavcity.ru"
      ],
      "metadata": {
        "id": "q26aAb2b6Ikx"
      }
    },
    {
      "cell_type": "code",
      "source": [
        "# Загрузка токенайзера\n",
        "import gdown\n",
        "url = 'https://drive.google.com/file/d/1-cPqoIlY56nNjeCVFN-j3YO-aTf8NdkS/view?usp=sharing'\n",
        "gdown.download(url, quiet=True, fuzzy=True)"
      ],
      "metadata": {
        "id": "a5-SxLMH86Mw",
        "colab": {
          "base_uri": "https://localhost:8080/",
          "height": 36
        },
        "outputId": "b16882f8-6cfe-4118-a7bc-2b2c76af0c5c"
      },
      "execution_count": 1,
      "outputs": [
        {
          "output_type": "execute_result",
          "data": {
            "text/plain": [
              "'tokenizer.pkl'"
            ],
            "application/vnd.google.colaboratory.intrinsic+json": {
              "type": "string"
            }
          },
          "metadata": {},
          "execution_count": 1
        }
      ]
    },
    {
      "cell_type": "code",
      "source": [
        "# Загрузка модели нейронной сети\n",
        "url = 'https://drive.google.com/file/d/1-czQCHQMtlxdtdQVTla9LTGCFdVcX3JM/view?usp=sharing'\n",
        "gdown.download(url, quiet=True, fuzzy=True)"
      ],
      "metadata": {
        "id": "QFbk3O1I9BOt",
        "colab": {
          "base_uri": "https://localhost:8080/",
          "height": 36
        },
        "outputId": "78e039b5-3676-4b1d-da85-5393285afd4a"
      },
      "execution_count": 2,
      "outputs": [
        {
          "output_type": "execute_result",
          "data": {
            "text/plain": [
              "'model_BoW.keras'"
            ],
            "application/vnd.google.colaboratory.intrinsic+json": {
              "type": "string"
            }
          },
          "metadata": {},
          "execution_count": 2
        }
      ]
    },
    {
      "cell_type": "code",
      "source": [
        "# Загрузка информации о звонках\n",
        "import pandas as pd\n",
        "url = 'https://drive.google.com/file/d/1wC6aUm3Cq3G5EsQWnuVjc_-11wgJEaVl/view?usp=drive_link'\n",
        "df = pd.read_csv('https://drive.google.com/uc?id=' + url.split('/')[-2],\n",
        "                 skiprows=4,\n",
        "                 sep=';',\n",
        "                 on_bad_lines='skip')\n",
        "df.shape"
      ],
      "metadata": {
        "id": "Bi-pFq1F6IlB",
        "colab": {
          "base_uri": "https://localhost:8080/"
        },
        "outputId": "dbfa0bb0-5ed0-429a-d224-f9c595278b3d"
      },
      "execution_count": 3,
      "outputs": [
        {
          "output_type": "execute_result",
          "data": {
            "text/plain": [
              "(9318, 74)"
            ]
          },
          "metadata": {},
          "execution_count": 3
        }
      ]
    },
    {
      "cell_type": "code",
      "source": [
        "# Загрузка записей звонков\n",
        "url = 'https://drive.google.com/drive/folders/1XwaXRApFWaqBSe0PGEkaMGT-EHH7OMtj?usp=drive_link'\n",
        "gdown.download_folder(url, quiet=True, remaining_ok=True)"
      ],
      "metadata": {
        "id": "gt4R3bbr6IlB",
        "colab": {
          "base_uri": "https://localhost:8080/"
        },
        "outputId": "40305b41-de75-40ad-f5fe-12f4dab8ff25"
      },
      "execution_count": 4,
      "outputs": [
        {
          "output_type": "execute_result",
          "data": {
            "text/plain": [
              "['/content/Записи звонков_павелецкая сити/2023-06-17_12-54-28.210462_from_79803286601_to_74950216267_session_3029638181_talk.mp3',\n",
              " '/content/Записи звонков_павелецкая сити/2023-06-17_13-44-17.539114_from_79066743768_to_74950216267_session_3029352265_talk.mp3',\n",
              " '/content/Записи звонков_павелецкая сити/2023-06-17_14-08-51.827169_from_74993205445_to_74955141111_session_3029390475_talk.mp3',\n",
              " '/content/Записи звонков_павелецкая сити/2023-06-17_14-21-31.493157_from_79259041087_to_74950216267_session_3029730813_talk.mp3',\n",
              " '/content/Записи звонков_павелецкая сити/2023-06-17_16-16-05.571252_from_79680303488_to_74950216267_session_3029596520_talk.mp3',\n",
              " '/content/Записи звонков_павелецкая сити/2023-06-17_17-21-57.195548_from_79094690999_to_74955141111_session_3030126641_talk.mp3',\n",
              " '/content/Записи звонков_павелецкая сити/2023-06-17_19-11-06.505605_from_74950326372_to_0155649_session_3030256809_talk.mp3',\n",
              " '/content/Записи звонков_павелецкая сити/2023-06-18_09-01-03.303353_from_74950326372_to_0155649_session_3030549204_talk.mp3',\n",
              " '/content/Записи звонков_павелецкая сити/2023-06-18_09-22-52.207865_from_79651805758_to_74955141111_session_3030554159_talk.mp3',\n",
              " '/content/Записи звонков_павелецкая сити/2023-06-18_10-07-09.396588_from_79151900879_to_74950216267_session_3030608659_talk.mp3',\n",
              " '/content/Записи звонков_павелецкая сити/2023-06-18_10-36-22.310087_from_79671034159_to_74955141111_session_3030649979_talk.mp3',\n",
              " '/content/Записи звонков_павелецкая сити/2023-06-18_10-48-11.070497_from_79221093735_to_74950216267_session_3030810737_talk.mp3',\n",
              " '/content/Записи звонков_павелецкая сити/2023-06-18_10-56-51.904109_from_79645040572_to_74955141111_session_3030623683_talk.mp3',\n",
              " '/content/Записи звонков_павелецкая сити/2023-06-18_11-25-38.241315_from_79854127684_to_74955141111_session_3030870962_talk.mp3',\n",
              " '/content/Записи звонков_павелецкая сити/2023-06-18_12-23-21.133140_from_79139127673_to_74950216267_session_3030815699_talk.mp3',\n",
              " '/content/Записи звонков_павелецкая сити/2023-06-18_12-25-02.742799_from_79660057569_to_74955141111_session_3030846086_talk.mp3',\n",
              " '/content/Записи звонков_павелецкая сити/2023-06-18_12-46-57.826869_from_79036235042_to_74955141111_session_3030786763_talk.mp3',\n",
              " '/content/Записи звонков_павелецкая сити/2023-06-18_13-03-15.004666_from_79274843267_to_74950216267_session_3031027717_talk.mp3',\n",
              " '/content/Записи звонков_павелецкая сити/2023-06-18_13-21-21.314056_from_79164825580_to_74955141111_session_3030904744_talk.mp3',\n",
              " '/content/Записи звонков_павелецкая сити/2023-06-18_13-49-07.465157_from_79269090190_to_74955141111_session_3030853628_talk.mp3',\n",
              " '/content/Записи звонков_павелецкая сити/2023-06-18_14-35-25.096497_from_79519099298_to_74955141111_session_3030974296_talk.mp3',\n",
              " '/content/Записи звонков_павелецкая сити/2023-06-18_15-02-01.473156_from_79682079335_to_74950216267_session_3031223322_talk.mp3',\n",
              " '/content/Записи звонков_павелецкая сити/2023-06-18_15-26-26.487296_from_79250468024_to_74950216267_session_3030567890_talk.mp3',\n",
              " '/content/Записи звонков_павелецкая сити/2023-06-18_15-44-27.861587_from_79107482069_to_74950216267_session_3031126709_talk.mp3',\n",
              " '/content/Записи звонков_павелецкая сити/2023-06-18_15-59-20.666700_from_79265805599_to_74955141111_session_3031073688_talk.mp3',\n",
              " '/content/Записи звонков_павелецкая сити/2023-06-18_16-05-54.155297_from_79852671888_to_74955141111_session_3030619720_talk.mp3',\n",
              " '/content/Записи звонков_павелецкая сити/2023-06-18_17-41-38.718386_from_79051570440_to_74950216267_session_3031456882_talk.mp3',\n",
              " '/content/Записи звонков_павелецкая сити/2023-06-18_17-50-08.307656_from_79067778858_to_74955141111_session_3031466787_talk.mp3',\n",
              " '/content/Записи звонков_павелецкая сити/2023-06-18_18-04-56.248883_from_79031012817_to_74955141111_session_3031316834_talk.mp3',\n",
              " '/content/Записи звонков_павелецкая сити/2023-06-18_18-09-35.177730_from_79107876076_to_74955141111_session_3030767375_talk.mp3',\n",
              " '/content/Записи звонков_павелецкая сити/2023-06-18_19-25-38.489238_from_79654392820_to_74950216267_session_3031429591_talk.mp3',\n",
              " '/content/Записи звонков_павелецкая сити/2023-06-19_10-47-17.706090_from_79136281109_to_74950216267_session_3032022083_talk.mp3',\n",
              " '/content/Записи звонков_павелецкая сити/2023-06-19_10-53-44.520624_from_79684035656_to_74955141111_session_3032341357_talk.mp3',\n",
              " '/content/Записи звонков_павелецкая сити/2023-06-19_11-04-05.286756_from_79260084182_to_74950216267_session_3032207796_talk.mp3',\n",
              " '/content/Записи звонков_павелецкая сити/2023-06-19_11-23-17.040128_from_79813389541_to_74950216267_session_3032271261_talk.mp3',\n",
              " '/content/Записи звонков_павелецкая сити/2023-06-19_11-27-46.734461_from_79781935179_to_74955141111_session_3032161583_talk.mp3',\n",
              " '/content/Записи звонков_павелецкая сити/2023-06-19_12-12-40.350431_from_79104429469_to_74955141111_session_3032677423_talk.mp3',\n",
              " '/content/Записи звонков_павелецкая сити/2023-06-19_12-26-58.386574_from_79250189982_to_74950216267_session_3031640590_talk.mp3',\n",
              " '/content/Записи звонков_павелецкая сити/2023-06-19_12-38-08.398862_from_79501466664_to_74950216267_session_3032483204_talk.mp3',\n",
              " '/content/Записи звонков_павелецкая сити/2023-06-19_12-57-33.574655_from_79636865864_to_74955141111_session_3032896177_talk.mp3',\n",
              " '/content/Записи звонков_павелецкая сити/2023-06-19_13-12-07.125542_from_79101658988_to_74950216267_session_3032179333_talk.mp3',\n",
              " '/content/Записи звонков_павелецкая сити/2023-06-19_13-14-49.436106_from_74992700663_to_74950216267_session_3032775068_talk.mp3',\n",
              " '/content/Записи звонков_павелецкая сити/2023-06-19_13-17-13.730161_from_79169209180_to_74955141111_session_3031875985_talk.mp3',\n",
              " '/content/Записи звонков_павелецкая сити/2023-06-19_13-41-47.633298_from_79269260970_to_74955141111_session_3032237258_talk.mp3',\n",
              " '/content/Записи звонков_павелецкая сити/2023-06-19_14-46-35.874105_from_79175826749_to_74950216267_session_3031650945_talk.mp3',\n",
              " '/content/Записи звонков_павелецкая сити/2023-06-19_15-11-32.468224_from_79031566838_to_74950216267_session_3034046623_talk.mp3',\n",
              " '/content/Записи звонков_павелецкая сити/2023-06-19_15-25-36.353632_from_79687067959_to_74955141111_session_3032007610_talk.mp3',\n",
              " '/content/Записи звонков_павелецкая сити/2023-06-19_15-30-14.561778_from_79175929175_to_74955141111_session_3034442627_talk.mp3',\n",
              " '/content/Записи звонков_павелецкая сити/2023-06-19_15-59-53.239894_from_79990352825_to_74955141111_session_3032485270_talk.mp3',\n",
              " '/content/Записи звонков_павелецкая сити/2023-06-19_16-25-10.470057_from_79153673050_to_74950216267_session_3032998743_talk.mp3']"
            ]
          },
          "metadata": {},
          "execution_count": 4
        }
      ]
    },
    {
      "cell_type": "code",
      "source": [
        "# Добавление в датафрейм с информацией о звонках столбцов 'Файл записи звонка' и 'Проект'\n",
        "import os\n",
        "df = df.astype({'Идентификатор сессии звонка': int})\n",
        "for sample_file in os.listdir('Записи звонков_павелецкая сити'):\n",
        "  df.loc[df[df['Идентификатор сессии звонка'] == int(sample_file.split('_')[-2])].index, 'Файл записи звонка'] = 'Записи звонков_павелецкая сити/' + sample_file\n",
        "  df.loc[df[df['Идентификатор сессии звонка'] == int(sample_file.split('_')[-2])].index, 'Проект'] = 'pavcity.ru'"
      ],
      "metadata": {
        "id": "wn2hMqN-6IlB"
      },
      "execution_count": 5,
      "outputs": []
    },
    {
      "cell_type": "code",
      "source": [
        "# Выбор столбцов, необходимых для инференса модели нейронной сети и оценки\n",
        "df = df[['Идентификатор сессии звонка',\n",
        "         'Файл записи звонка',\n",
        "         'Проект',\n",
        "         'Теги']][df['Проект'] == 'pavcity.ru']\n",
        "df.shape"
      ],
      "metadata": {
        "id": "LJpHU9tJ9Ta2",
        "colab": {
          "base_uri": "https://localhost:8080/"
        },
        "outputId": "084b077d-38d2-4ad4-dfe3-009243fb1d0e"
      },
      "execution_count": 6,
      "outputs": [
        {
          "output_type": "execute_result",
          "data": {
            "text/plain": [
              "(49, 4)"
            ]
          },
          "metadata": {},
          "execution_count": 6
        }
      ]
    },
    {
      "cell_type": "code",
      "source": [
        "df.head()"
      ],
      "metadata": {
        "id": "iDZGJQAh9cW7",
        "colab": {
          "base_uri": "https://localhost:8080/",
          "height": 206
        },
        "outputId": "3e0c2ac3-deed-4ef2-a6ed-e1a5b5653f79"
      },
      "execution_count": 7,
      "outputs": [
        {
          "output_type": "execute_result",
          "data": {
            "text/plain": [
              "      Идентификатор сессии звонка  \\\n",
              "1394                   3032998743   \n",
              "1395                   3032485270   \n",
              "1396                   3034442627   \n",
              "1397                   3032007610   \n",
              "1398                   3034046623   \n",
              "\n",
              "                                     Файл записи звонка      Проект  \\\n",
              "1394  Записи звонков_павелецкая сити/2023-06-19_16-2...  pavcity.ru   \n",
              "1395  Записи звонков_павелецкая сити/2023-06-19_15-5...  pavcity.ru   \n",
              "1396  Записи звонков_павелецкая сити/2023-06-19_15-3...  pavcity.ru   \n",
              "1397  Записи звонков_павелецкая сити/2023-06-19_15-2...  pavcity.ru   \n",
              "1398  Записи звонков_павелецкая сити/2023-06-19_15-1...  pavcity.ru   \n",
              "\n",
              "              Теги  \n",
              "1394  Целевой_М108  \n",
              "1395  Целевой_М108  \n",
              "1396           NaN  \n",
              "1397           NaN  \n",
              "1398           NaN  "
            ],
            "text/html": [
              "\n",
              "  <div id=\"df-dad43df0-047c-4b95-a6b3-24f726cd6386\" class=\"colab-df-container\">\n",
              "    <div>\n",
              "<style scoped>\n",
              "    .dataframe tbody tr th:only-of-type {\n",
              "        vertical-align: middle;\n",
              "    }\n",
              "\n",
              "    .dataframe tbody tr th {\n",
              "        vertical-align: top;\n",
              "    }\n",
              "\n",
              "    .dataframe thead th {\n",
              "        text-align: right;\n",
              "    }\n",
              "</style>\n",
              "<table border=\"1\" class=\"dataframe\">\n",
              "  <thead>\n",
              "    <tr style=\"text-align: right;\">\n",
              "      <th></th>\n",
              "      <th>Идентификатор сессии звонка</th>\n",
              "      <th>Файл записи звонка</th>\n",
              "      <th>Проект</th>\n",
              "      <th>Теги</th>\n",
              "    </tr>\n",
              "  </thead>\n",
              "  <tbody>\n",
              "    <tr>\n",
              "      <th>1394</th>\n",
              "      <td>3032998743</td>\n",
              "      <td>Записи звонков_павелецкая сити/2023-06-19_16-2...</td>\n",
              "      <td>pavcity.ru</td>\n",
              "      <td>Целевой_М108</td>\n",
              "    </tr>\n",
              "    <tr>\n",
              "      <th>1395</th>\n",
              "      <td>3032485270</td>\n",
              "      <td>Записи звонков_павелецкая сити/2023-06-19_15-5...</td>\n",
              "      <td>pavcity.ru</td>\n",
              "      <td>Целевой_М108</td>\n",
              "    </tr>\n",
              "    <tr>\n",
              "      <th>1396</th>\n",
              "      <td>3034442627</td>\n",
              "      <td>Записи звонков_павелецкая сити/2023-06-19_15-3...</td>\n",
              "      <td>pavcity.ru</td>\n",
              "      <td>NaN</td>\n",
              "    </tr>\n",
              "    <tr>\n",
              "      <th>1397</th>\n",
              "      <td>3032007610</td>\n",
              "      <td>Записи звонков_павелецкая сити/2023-06-19_15-2...</td>\n",
              "      <td>pavcity.ru</td>\n",
              "      <td>NaN</td>\n",
              "    </tr>\n",
              "    <tr>\n",
              "      <th>1398</th>\n",
              "      <td>3034046623</td>\n",
              "      <td>Записи звонков_павелецкая сити/2023-06-19_15-1...</td>\n",
              "      <td>pavcity.ru</td>\n",
              "      <td>NaN</td>\n",
              "    </tr>\n",
              "  </tbody>\n",
              "</table>\n",
              "</div>\n",
              "    <div class=\"colab-df-buttons\">\n",
              "\n",
              "  <div class=\"colab-df-container\">\n",
              "    <button class=\"colab-df-convert\" onclick=\"convertToInteractive('df-dad43df0-047c-4b95-a6b3-24f726cd6386')\"\n",
              "            title=\"Convert this dataframe to an interactive table.\"\n",
              "            style=\"display:none;\">\n",
              "\n",
              "  <svg xmlns=\"http://www.w3.org/2000/svg\" height=\"24px\" viewBox=\"0 -960 960 960\">\n",
              "    <path d=\"M120-120v-720h720v720H120Zm60-500h600v-160H180v160Zm220 220h160v-160H400v160Zm0 220h160v-160H400v160ZM180-400h160v-160H180v160Zm440 0h160v-160H620v160ZM180-180h160v-160H180v160Zm440 0h160v-160H620v160Z\"/>\n",
              "  </svg>\n",
              "    </button>\n",
              "\n",
              "  <style>\n",
              "    .colab-df-container {\n",
              "      display:flex;\n",
              "      gap: 12px;\n",
              "    }\n",
              "\n",
              "    .colab-df-convert {\n",
              "      background-color: #E8F0FE;\n",
              "      border: none;\n",
              "      border-radius: 50%;\n",
              "      cursor: pointer;\n",
              "      display: none;\n",
              "      fill: #1967D2;\n",
              "      height: 32px;\n",
              "      padding: 0 0 0 0;\n",
              "      width: 32px;\n",
              "    }\n",
              "\n",
              "    .colab-df-convert:hover {\n",
              "      background-color: #E2EBFA;\n",
              "      box-shadow: 0px 1px 2px rgba(60, 64, 67, 0.3), 0px 1px 3px 1px rgba(60, 64, 67, 0.15);\n",
              "      fill: #174EA6;\n",
              "    }\n",
              "\n",
              "    .colab-df-buttons div {\n",
              "      margin-bottom: 4px;\n",
              "    }\n",
              "\n",
              "    [theme=dark] .colab-df-convert {\n",
              "      background-color: #3B4455;\n",
              "      fill: #D2E3FC;\n",
              "    }\n",
              "\n",
              "    [theme=dark] .colab-df-convert:hover {\n",
              "      background-color: #434B5C;\n",
              "      box-shadow: 0px 1px 3px 1px rgba(0, 0, 0, 0.15);\n",
              "      filter: drop-shadow(0px 1px 2px rgba(0, 0, 0, 0.3));\n",
              "      fill: #FFFFFF;\n",
              "    }\n",
              "  </style>\n",
              "\n",
              "    <script>\n",
              "      const buttonEl =\n",
              "        document.querySelector('#df-dad43df0-047c-4b95-a6b3-24f726cd6386 button.colab-df-convert');\n",
              "      buttonEl.style.display =\n",
              "        google.colab.kernel.accessAllowed ? 'block' : 'none';\n",
              "\n",
              "      async function convertToInteractive(key) {\n",
              "        const element = document.querySelector('#df-dad43df0-047c-4b95-a6b3-24f726cd6386');\n",
              "        const dataTable =\n",
              "          await google.colab.kernel.invokeFunction('convertToInteractive',\n",
              "                                                    [key], {});\n",
              "        if (!dataTable) return;\n",
              "\n",
              "        const docLinkHtml = 'Like what you see? Visit the ' +\n",
              "          '<a target=\"_blank\" href=https://colab.research.google.com/notebooks/data_table.ipynb>data table notebook</a>'\n",
              "          + ' to learn more about interactive tables.';\n",
              "        element.innerHTML = '';\n",
              "        dataTable['output_type'] = 'display_data';\n",
              "        await google.colab.output.renderOutput(dataTable, element);\n",
              "        const docLink = document.createElement('div');\n",
              "        docLink.innerHTML = docLinkHtml;\n",
              "        element.appendChild(docLink);\n",
              "      }\n",
              "    </script>\n",
              "  </div>\n",
              "\n",
              "\n",
              "<div id=\"df-251a763c-e92d-4464-b991-e20ceb951911\">\n",
              "  <button class=\"colab-df-quickchart\" onclick=\"quickchart('df-251a763c-e92d-4464-b991-e20ceb951911')\"\n",
              "            title=\"Suggest charts\"\n",
              "            style=\"display:none;\">\n",
              "\n",
              "<svg xmlns=\"http://www.w3.org/2000/svg\" height=\"24px\"viewBox=\"0 0 24 24\"\n",
              "     width=\"24px\">\n",
              "    <g>\n",
              "        <path d=\"M19 3H5c-1.1 0-2 .9-2 2v14c0 1.1.9 2 2 2h14c1.1 0 2-.9 2-2V5c0-1.1-.9-2-2-2zM9 17H7v-7h2v7zm4 0h-2V7h2v10zm4 0h-2v-4h2v4z\"/>\n",
              "    </g>\n",
              "</svg>\n",
              "  </button>\n",
              "\n",
              "<style>\n",
              "  .colab-df-quickchart {\n",
              "      --bg-color: #E8F0FE;\n",
              "      --fill-color: #1967D2;\n",
              "      --hover-bg-color: #E2EBFA;\n",
              "      --hover-fill-color: #174EA6;\n",
              "      --disabled-fill-color: #AAA;\n",
              "      --disabled-bg-color: #DDD;\n",
              "  }\n",
              "\n",
              "  [theme=dark] .colab-df-quickchart {\n",
              "      --bg-color: #3B4455;\n",
              "      --fill-color: #D2E3FC;\n",
              "      --hover-bg-color: #434B5C;\n",
              "      --hover-fill-color: #FFFFFF;\n",
              "      --disabled-bg-color: #3B4455;\n",
              "      --disabled-fill-color: #666;\n",
              "  }\n",
              "\n",
              "  .colab-df-quickchart {\n",
              "    background-color: var(--bg-color);\n",
              "    border: none;\n",
              "    border-radius: 50%;\n",
              "    cursor: pointer;\n",
              "    display: none;\n",
              "    fill: var(--fill-color);\n",
              "    height: 32px;\n",
              "    padding: 0;\n",
              "    width: 32px;\n",
              "  }\n",
              "\n",
              "  .colab-df-quickchart:hover {\n",
              "    background-color: var(--hover-bg-color);\n",
              "    box-shadow: 0 1px 2px rgba(60, 64, 67, 0.3), 0 1px 3px 1px rgba(60, 64, 67, 0.15);\n",
              "    fill: var(--button-hover-fill-color);\n",
              "  }\n",
              "\n",
              "  .colab-df-quickchart-complete:disabled,\n",
              "  .colab-df-quickchart-complete:disabled:hover {\n",
              "    background-color: var(--disabled-bg-color);\n",
              "    fill: var(--disabled-fill-color);\n",
              "    box-shadow: none;\n",
              "  }\n",
              "\n",
              "  .colab-df-spinner {\n",
              "    border: 2px solid var(--fill-color);\n",
              "    border-color: transparent;\n",
              "    border-bottom-color: var(--fill-color);\n",
              "    animation:\n",
              "      spin 1s steps(1) infinite;\n",
              "  }\n",
              "\n",
              "  @keyframes spin {\n",
              "    0% {\n",
              "      border-color: transparent;\n",
              "      border-bottom-color: var(--fill-color);\n",
              "      border-left-color: var(--fill-color);\n",
              "    }\n",
              "    20% {\n",
              "      border-color: transparent;\n",
              "      border-left-color: var(--fill-color);\n",
              "      border-top-color: var(--fill-color);\n",
              "    }\n",
              "    30% {\n",
              "      border-color: transparent;\n",
              "      border-left-color: var(--fill-color);\n",
              "      border-top-color: var(--fill-color);\n",
              "      border-right-color: var(--fill-color);\n",
              "    }\n",
              "    40% {\n",
              "      border-color: transparent;\n",
              "      border-right-color: var(--fill-color);\n",
              "      border-top-color: var(--fill-color);\n",
              "    }\n",
              "    60% {\n",
              "      border-color: transparent;\n",
              "      border-right-color: var(--fill-color);\n",
              "    }\n",
              "    80% {\n",
              "      border-color: transparent;\n",
              "      border-right-color: var(--fill-color);\n",
              "      border-bottom-color: var(--fill-color);\n",
              "    }\n",
              "    90% {\n",
              "      border-color: transparent;\n",
              "      border-bottom-color: var(--fill-color);\n",
              "    }\n",
              "  }\n",
              "</style>\n",
              "\n",
              "  <script>\n",
              "    async function quickchart(key) {\n",
              "      const quickchartButtonEl =\n",
              "        document.querySelector('#' + key + ' button');\n",
              "      quickchartButtonEl.disabled = true;  // To prevent multiple clicks.\n",
              "      quickchartButtonEl.classList.add('colab-df-spinner');\n",
              "      try {\n",
              "        const charts = await google.colab.kernel.invokeFunction(\n",
              "            'suggestCharts', [key], {});\n",
              "      } catch (error) {\n",
              "        console.error('Error during call to suggestCharts:', error);\n",
              "      }\n",
              "      quickchartButtonEl.classList.remove('colab-df-spinner');\n",
              "      quickchartButtonEl.classList.add('colab-df-quickchart-complete');\n",
              "    }\n",
              "    (() => {\n",
              "      let quickchartButtonEl =\n",
              "        document.querySelector('#df-251a763c-e92d-4464-b991-e20ceb951911 button');\n",
              "      quickchartButtonEl.style.display =\n",
              "        google.colab.kernel.accessAllowed ? 'block' : 'none';\n",
              "    })();\n",
              "  </script>\n",
              "</div>\n",
              "    </div>\n",
              "  </div>\n"
            ]
          },
          "metadata": {},
          "execution_count": 7
        }
      ]
    },
    {
      "cell_type": "code",
      "source": [
        "# Сохранение в json\n",
        "df.to_json('input.json', orient='records', force_ascii=False)"
      ],
      "metadata": {
        "id": "N7iWT6fS6IlB"
      },
      "execution_count": 8,
      "outputs": []
    },
    {
      "cell_type": "code",
      "source": [
        "# Установка cohere, openai и tiktoken\n",
        "!pip -q install cohere openai==1.2.3 tiktoken==0.5.1"
      ],
      "metadata": {
        "id": "JwYeQs819jw3",
        "colab": {
          "base_uri": "https://localhost:8080/"
        },
        "outputId": "c78ad684-a130-4206-868c-3772c769ed58"
      },
      "execution_count": 9,
      "outputs": [
        {
          "output_type": "stream",
          "name": "stdout",
          "text": [
            "\u001b[2K     \u001b[90m━━━━━━━━━━━━━━━━━━━━━━━━━━━━━━━━━━━━━━━━\u001b[0m \u001b[32m51.7/51.7 kB\u001b[0m \u001b[31m1.2 MB/s\u001b[0m eta \u001b[36m0:00:00\u001b[0m\n",
            "\u001b[2K     \u001b[90m━━━━━━━━━━━━━━━━━━━━━━━━━━━━━━━━━━━━━━━━\u001b[0m \u001b[32m220.3/220.3 kB\u001b[0m \u001b[31m8.6 MB/s\u001b[0m eta \u001b[36m0:00:00\u001b[0m\n",
            "\u001b[2K     \u001b[90m━━━━━━━━━━━━━━━━━━━━━━━━━━━━━━━━━━━━━━━━\u001b[0m \u001b[32m2.0/2.0 MB\u001b[0m \u001b[31m52.4 MB/s\u001b[0m eta \u001b[36m0:00:00\u001b[0m\n",
            "\u001b[2K     \u001b[90m━━━━━━━━━━━━━━━━━━━━━━━━━━━━━━━━━━━━━━━━\u001b[0m \u001b[32m75.9/75.9 kB\u001b[0m \u001b[31m9.1 MB/s\u001b[0m eta \u001b[36m0:00:00\u001b[0m\n",
            "\u001b[2K     \u001b[90m━━━━━━━━━━━━━━━━━━━━━━━━━━━━━━━━━━━━━━━━\u001b[0m \u001b[32m3.1/3.1 MB\u001b[0m \u001b[31m46.4 MB/s\u001b[0m eta \u001b[36m0:00:00\u001b[0m\n",
            "\u001b[2K     \u001b[90m━━━━━━━━━━━━━━━━━━━━━━━━━━━━━━━━━━━━━━━━\u001b[0m \u001b[32m76.9/76.9 kB\u001b[0m \u001b[31m10.7 MB/s\u001b[0m eta \u001b[36m0:00:00\u001b[0m\n",
            "\u001b[2K     \u001b[90m━━━━━━━━━━━━━━━━━━━━━━━━━━━━━━━━━━━━━━━━\u001b[0m \u001b[32m58.3/58.3 kB\u001b[0m \u001b[31m8.4 MB/s\u001b[0m eta \u001b[36m0:00:00\u001b[0m\n",
            "\u001b[?25h"
          ]
        }
      ]
    },
    {
      "cell_type": "code",
      "source": [
        "# Установка openai-whisper\n",
        "!pip -q install openai-whisper"
      ],
      "metadata": {
        "id": "Fyh7v7E96IlB",
        "colab": {
          "base_uri": "https://localhost:8080/"
        },
        "outputId": "d77dbbff-11d6-4a72-dc30-d38e3c3ba4a6"
      },
      "execution_count": 10,
      "outputs": [
        {
          "output_type": "stream",
          "name": "stdout",
          "text": [
            "\u001b[?25l     \u001b[90m━━━━━━━━━━━━━━━━━━━━━━━━━━━━━━━━━━━━━━━━\u001b[0m \u001b[32m0.0/798.6 kB\u001b[0m \u001b[31m?\u001b[0m eta \u001b[36m-:--:--\u001b[0m\r\u001b[2K     \u001b[91m━━\u001b[0m\u001b[90m╺\u001b[0m\u001b[90m━━━━━━━━━━━━━━━━━━━━━━━━━━━━━━━━━━━━━\u001b[0m \u001b[32m41.0/798.6 kB\u001b[0m \u001b[31m1.1 MB/s\u001b[0m eta \u001b[36m0:00:01\u001b[0m\r\u001b[2K     \u001b[91m━━━━━━━━━━━━━━━━━━━━━━━━━━━━━━━━━━━━\u001b[0m\u001b[90m╺\u001b[0m\u001b[90m━━━\u001b[0m \u001b[32m727.0/798.6 kB\u001b[0m \u001b[31m10.7 MB/s\u001b[0m eta \u001b[36m0:00:01\u001b[0m\r\u001b[2K     \u001b[90m━━━━━━━━━━━━━━━━━━━━━━━━━━━━━━━━━━━━━━━━\u001b[0m \u001b[32m798.6/798.6 kB\u001b[0m \u001b[31m9.8 MB/s\u001b[0m eta \u001b[36m0:00:00\u001b[0m\n",
            "\u001b[?25h  Installing build dependencies ... \u001b[?25l\u001b[?25hdone\n",
            "  Getting requirements to build wheel ... \u001b[?25l\u001b[?25hdone\n",
            "  Preparing metadata (pyproject.toml) ... \u001b[?25l\u001b[?25hdone\n",
            "  Building wheel for openai-whisper (pyproject.toml) ... \u001b[?25l\u001b[?25hdone\n"
          ]
        }
      ]
    },
    {
      "cell_type": "code",
      "source": [
        "# Установка fastapi и дополнительных библиотек\n",
        "!pip -q install fastapi uvicorn python-multipart typing-extensions==4.5.0 kaleido"
      ],
      "metadata": {
        "id": "2uQjb3LH6IlB",
        "colab": {
          "base_uri": "https://localhost:8080/"
        },
        "outputId": "7a992389-9a92-4997-a0e7-2ebea8ace472"
      },
      "execution_count": 11,
      "outputs": [
        {
          "output_type": "stream",
          "name": "stdout",
          "text": [
            "\u001b[2K     \u001b[90m━━━━━━━━━━━━━━━━━━━━━━━━━━━━━━━━━━━━━━━━\u001b[0m \u001b[32m92.0/92.0 kB\u001b[0m \u001b[31m1.2 MB/s\u001b[0m eta \u001b[36m0:00:00\u001b[0m\n",
            "\u001b[2K     \u001b[90m━━━━━━━━━━━━━━━━━━━━━━━━━━━━━━━━━━━━━━━━\u001b[0m \u001b[32m60.3/60.3 kB\u001b[0m \u001b[31m5.2 MB/s\u001b[0m eta \u001b[36m0:00:00\u001b[0m\n",
            "\u001b[2K     \u001b[90m━━━━━━━━━━━━━━━━━━━━━━━━━━━━━━━━━━━━━━━━\u001b[0m \u001b[32m45.7/45.7 kB\u001b[0m \u001b[31m4.1 MB/s\u001b[0m eta \u001b[36m0:00:00\u001b[0m\n",
            "\u001b[2K     \u001b[90m━━━━━━━━━━━━━━━━━━━━━━━━━━━━━━━━━━━━━━━━\u001b[0m \u001b[32m79.9/79.9 MB\u001b[0m \u001b[31m7.7 MB/s\u001b[0m eta \u001b[36m0:00:00\u001b[0m\n",
            "\u001b[2K     \u001b[90m━━━━━━━━━━━━━━━━━━━━━━━━━━━━━━━━━━━━━━━━\u001b[0m \u001b[32m70.0/70.0 kB\u001b[0m \u001b[31m8.8 MB/s\u001b[0m eta \u001b[36m0:00:00\u001b[0m\n",
            "\u001b[2K     \u001b[90m━━━━━━━━━━━━━━━━━━━━━━━━━━━━━━━━━━━━━━━━\u001b[0m \u001b[32m92.1/92.1 kB\u001b[0m \u001b[31m10.4 MB/s\u001b[0m eta \u001b[36m0:00:00\u001b[0m\n",
            "\u001b[2K     \u001b[90m━━━━━━━━━━━━━━━━━━━━━━━━━━━━━━━━━━━━━━━━\u001b[0m \u001b[32m68.9/68.9 kB\u001b[0m \u001b[31m9.6 MB/s\u001b[0m eta \u001b[36m0:00:00\u001b[0m\n",
            "\u001b[2K     \u001b[90m━━━━━━━━━━━━━━━━━━━━━━━━━━━━━━━━━━━━━━━━\u001b[0m \u001b[32m92.1/92.1 kB\u001b[0m \u001b[31m14.1 MB/s\u001b[0m eta \u001b[36m0:00:00\u001b[0m\n",
            "\u001b[2K     \u001b[90m━━━━━━━━━━━━━━━━━━━━━━━━━━━━━━━━━━━━━━━━\u001b[0m \u001b[32m67.0/67.0 kB\u001b[0m \u001b[31m9.5 MB/s\u001b[0m eta \u001b[36m0:00:00\u001b[0m\n",
            "\u001b[2K     \u001b[90m━━━━━━━━━━━━━━━━━━━━━━━━━━━━━━━━━━━━━━━━\u001b[0m \u001b[32m93.1/93.1 kB\u001b[0m \u001b[31m13.4 MB/s\u001b[0m eta \u001b[36m0:00:00\u001b[0m\n",
            "\u001b[2K     \u001b[90m━━━━━━━━━━━━━━━━━━━━━━━━━━━━━━━━━━━━━━━━\u001b[0m \u001b[32m92.9/92.9 kB\u001b[0m \u001b[31m13.4 MB/s\u001b[0m eta \u001b[36m0:00:00\u001b[0m\n",
            "\u001b[2K     \u001b[90m━━━━━━━━━━━━━━━━━━━━━━━━━━━━━━━━━━━━━━━━\u001b[0m \u001b[32m92.9/92.9 kB\u001b[0m \u001b[31m14.4 MB/s\u001b[0m eta \u001b[36m0:00:00\u001b[0m\n",
            "\u001b[2K     \u001b[90m━━━━━━━━━━━━━━━━━━━━━━━━━━━━━━━━━━━━━━━━\u001b[0m \u001b[32m66.3/66.3 kB\u001b[0m \u001b[31m9.3 MB/s\u001b[0m eta \u001b[36m0:00:00\u001b[0m\n",
            "\u001b[?25h"
          ]
        }
      ]
    },
    {
      "cell_type": "code",
      "source": [
        "!pip -q install tensorflow==2.14.0"
      ],
      "metadata": {
        "id": "XLYZNOQy9tmn",
        "colab": {
          "base_uri": "https://localhost:8080/"
        },
        "outputId": "e19d4bab-191d-44b3-9186-c08a39f392ee"
      },
      "execution_count": 12,
      "outputs": [
        {
          "output_type": "stream",
          "name": "stdout",
          "text": [
            "\u001b[2K     \u001b[90m━━━━━━━━━━━━━━━━━━━━━━━━━━━━━━━━━━━━━━━━\u001b[0m \u001b[32m489.8/489.8 MB\u001b[0m \u001b[31m2.1 MB/s\u001b[0m eta \u001b[36m0:00:00\u001b[0m\n",
            "\u001b[2K     \u001b[90m━━━━━━━━━━━━━━━━━━━━━━━━━━━━━━━━━━━━━━━━\u001b[0m \u001b[32m5.5/5.5 MB\u001b[0m \u001b[31m96.0 MB/s\u001b[0m eta \u001b[36m0:00:00\u001b[0m\n",
            "\u001b[2K     \u001b[90m━━━━━━━━━━━━━━━━━━━━━━━━━━━━━━━━━━━━━━━━\u001b[0m \u001b[32m440.7/440.7 kB\u001b[0m \u001b[31m50.0 MB/s\u001b[0m eta \u001b[36m0:00:00\u001b[0m\n",
            "\u001b[2K     \u001b[90m━━━━━━━━━━━━━━━━━━━━━━━━━━━━━━━━━━━━━━━━\u001b[0m \u001b[32m1.7/1.7 MB\u001b[0m \u001b[31m89.0 MB/s\u001b[0m eta \u001b[36m0:00:00\u001b[0m\n",
            "\u001b[?25h"
          ]
        }
      ]
    },
    {
      "cell_type": "code",
      "source": [
        "import tensorflow as tf\n",
        "tf.__version__"
      ],
      "metadata": {
        "id": "NClIEjmL9yeM",
        "colab": {
          "base_uri": "https://localhost:8080/",
          "height": 36
        },
        "outputId": "c3f8ab27-e8ad-4e6f-cc4d-a19b2cf0d2ee"
      },
      "execution_count": 13,
      "outputs": [
        {
          "output_type": "execute_result",
          "data": {
            "text/plain": [
              "'2.14.0'"
            ],
            "application/vnd.google.colaboratory.intrinsic+json": {
              "type": "string"
            }
          },
          "metadata": {},
          "execution_count": 13
        }
      ]
    },
    {
      "cell_type": "code",
      "source": [
        "# Эндпойнт\n",
        "main_file = '''\n",
        "import re\n",
        "import whisper\n",
        "import numpy as np\n",
        "import pandas as pd\n",
        "import pickle as pkl\n",
        "from io import BytesIO\n",
        "from fastapi import FastAPI, File\n",
        "from tensorflow.keras.saving import load_model\n",
        "\n",
        "whisper_model = whisper.load_model('medium')\n",
        "model = load_model('model_BoW.keras')\n",
        "\n",
        "with open('tokenizer.pkl', 'rb') as f:\n",
        "  tokenizer = pkl.load(f)\n",
        "\n",
        "app = FastAPI()\n",
        "\n",
        "@app.post('/predict')\n",
        "async def predict(json_file: bytes = File(...)):\n",
        "\n",
        "  df = pd.read_json(BytesIO(json_file))\n",
        "\n",
        "  for i in df.index:\n",
        "    df.loc[i,'Транскрибация файла записи звонка'] = whisper_model.transcribe(df.loc[i,'Файл записи звонка'], language='ru')['text']\n",
        "  df['Транскрибация файла записи звонка'] = df['Транскрибация файла записи звонка'].fillna('безответа')\n",
        "  df['Транскрибация файла записи звонка'] = df['Транскрибация файла записи звонка'].apply(lambda s: re.sub('[^А-Яа-я0-9 ]', '', s.lower()))\n",
        "  df['Транскрибация файла записи звонка'] = df['Транскрибация файла записи звонка'].apply(lambda s: s.strip())\n",
        "  df['Транскрибация файла записи звонка'] = np.where(df['Транскрибация файла записи звонка'].str.len() < 5, 'безответа', df['Транскрибация файла записи звонка'])\n",
        "  df['Транскрибация файла записи звонка'] = df['Транскрибация файла записи звонка'].str.replace('ё', 'е', regex=False)\n",
        "\n",
        "  x_textdata_01 = tokenizer.texts_to_matrix(df['Транскрибация файла записи звонка'].tolist())\n",
        "\n",
        "  y_predict = model.predict(x_textdata_01)\n",
        "  for i in range(df.shape[0]):\n",
        "    df.loc[i,'Предсказание класса'] = 'Целевой' if round(y_predict[i][0]) else 'Нецелевой'\n",
        "\n",
        "  df[['Проект', 'Идентификатор сессии звонка', 'Теги', 'Предсказание класса', 'Транскрибация файла записи звонка']].to_json('output.json', orient='records', force_ascii=False)\n",
        "\n",
        "  return {'result': 'output.json'}\n",
        "'''\n",
        "with open('main.py', 'w') as f:\n",
        "  f.write(main_file)"
      ],
      "metadata": {
        "id": "8bNxio-7CvFz"
      },
      "execution_count": 14,
      "outputs": []
    },
    {
      "cell_type": "code",
      "source": [
        "# Запуск uvicorn\n",
        "!nohup uvicorn main:app --reload &"
      ],
      "metadata": {
        "id": "NU60UDLu6IlB",
        "colab": {
          "base_uri": "https://localhost:8080/"
        },
        "outputId": "22a5042e-9ba9-4a41-fc75-f7662a1c5d43"
      },
      "execution_count": 15,
      "outputs": [
        {
          "output_type": "stream",
          "name": "stdout",
          "text": [
            "nohup: appending output to 'nohup.out'\n"
          ]
        }
      ]
    },
    {
      "cell_type": "code",
      "source": [
        "# Лог\n",
        "!cat nohup.out"
      ],
      "metadata": {
        "id": "8uvqnbgf6IlB",
        "colab": {
          "base_uri": "https://localhost:8080/"
        },
        "outputId": "50818c86-8f33-4c96-dcc5-93a328dba829"
      },
      "execution_count": 17,
      "outputs": [
        {
          "output_type": "stream",
          "name": "stdout",
          "text": [
            "INFO:     Will watch for changes in these directories: ['/content']\n",
            "INFO:     Uvicorn running on http://127.0.0.1:8000 (Press CTRL+C to quit)\n",
            "INFO:     Started reloader process [2327] using StatReload\n",
            "2023-12-28 05:23:58.556289: E tensorflow/compiler/xla/stream_executor/cuda/cuda_dnn.cc:9342] Unable to register cuDNN factory: Attempting to register factory for plugin cuDNN when one has already been registered\n",
            "2023-12-28 05:23:58.556346: E tensorflow/compiler/xla/stream_executor/cuda/cuda_fft.cc:609] Unable to register cuFFT factory: Attempting to register factory for plugin cuFFT when one has already been registered\n",
            "2023-12-28 05:23:58.556372: E tensorflow/compiler/xla/stream_executor/cuda/cuda_blas.cc:1518] Unable to register cuBLAS factory: Attempting to register factory for plugin cuBLAS when one has already been registered\n",
            "2023-12-28 05:23:59.735776: W tensorflow/compiler/tf2tensorrt/utils/py_utils.cc:38] TF-TRT Warning: Could not find TensorRT\n",
            "\r  0%|                                              | 0.00/1.42G [00:00<?, ?iB/s]\r  1%|▏                                    | 9.51M/1.42G [00:00<00:15, 99.7MiB/s]\r  1%|▌                                     | 20.1M/1.42G [00:00<00:14, 106MiB/s]\r  2%|▊                                     | 31.1M/1.42G [00:00<00:13, 110MiB/s]\r  3%|█                                     | 42.4M/1.42G [00:00<00:13, 113MiB/s]\r  4%|█▍                                    | 53.2M/1.42G [00:00<00:13, 112MiB/s]\r  4%|█▋                                    | 63.8M/1.42G [00:00<00:13, 109MiB/s]\r  5%|█▉                                    | 74.3M/1.42G [00:00<00:13, 109MiB/s]\r  6%|██▏                                   | 85.1M/1.42G [00:00<00:12, 111MiB/s]\r  7%|██▍                                   | 95.7M/1.42G [00:00<00:12, 110MiB/s]\r  7%|██▊                                    | 106M/1.42G [00:01<00:13, 103MiB/s]\r  8%|███                                    | 116M/1.42G [00:01<00:13, 103MiB/s]\r  9%|███▍                                   | 127M/1.42G [00:01<00:13, 105MiB/s]\r  9%|███▋                                   | 137M/1.42G [00:01<00:13, 106MiB/s]\r 10%|███▉                                   | 148M/1.42G [00:01<00:12, 108MiB/s]\r 11%|████▎                                  | 159M/1.42G [00:01<00:12, 111MiB/s]\r 12%|████▌                                  | 170M/1.42G [00:01<00:12, 110MiB/s]\r 12%|████▊                                  | 180M/1.42G [00:01<00:12, 109MiB/s]\r 13%|█████▏                                 | 192M/1.42G [00:01<00:11, 112MiB/s]\r 14%|█████▍                                 | 203M/1.42G [00:01<00:11, 114MiB/s]\r 15%|█████▋                                 | 214M/1.42G [00:02<00:11, 114MiB/s]\r 15%|██████                                 | 225M/1.42G [00:02<00:11, 115MiB/s]\r 16%|██████▎                                | 236M/1.42G [00:02<00:11, 115MiB/s]\r 17%|██████▋                                | 248M/1.42G [00:02<00:10, 116MiB/s]\r 18%|██████▉                                | 261M/1.42G [00:02<00:10, 122MiB/s]\r 19%|███████▎                               | 273M/1.42G [00:02<00:10, 119MiB/s]\r 19%|███████▌                               | 284M/1.42G [00:02<00:10, 118MiB/s]\r 20%|███████▉                               | 295M/1.42G [00:02<00:10, 118MiB/s]\r 21%|████████▏                              | 306M/1.42G [00:02<00:11, 110MiB/s]\r 22%|████████▍                              | 317M/1.42G [00:02<00:10, 110MiB/s]\r 22%|████████▊                              | 328M/1.42G [00:03<00:10, 108MiB/s]\r 23%|█████████                              | 339M/1.42G [00:03<00:10, 110MiB/s]\r 24%|█████████▎                             | 350M/1.42G [00:03<00:10, 113MiB/s]\r 25%|█████████▋                             | 361M/1.42G [00:03<00:10, 114MiB/s]\r 26%|█████████▉                             | 372M/1.42G [00:03<00:10, 112MiB/s]\r 26%|██████████▏                            | 383M/1.42G [00:03<00:10, 111MiB/s]\r 27%|██████████▌                            | 393M/1.42G [00:03<00:10, 103MiB/s]\r 28%|██████████▊                            | 404M/1.42G [00:03<00:10, 104MiB/s]\r 28%|███████████                            | 414M/1.42G [00:03<00:10, 106MiB/s]\r 29%|███████████▍                           | 425M/1.42G [00:04<00:09, 109MiB/s]\r 30%|███████████▋                           | 436M/1.42G [00:04<00:09, 110MiB/s]\r 31%|███████████▉                           | 447M/1.42G [00:04<00:09, 111MiB/s]\r 31%|████████████▎                          | 458M/1.42G [00:04<00:09, 113MiB/s]\r 32%|████████████▌                          | 469M/1.42G [00:04<00:09, 110MiB/s]\r 33%|████████████▊                          | 480M/1.42G [00:04<00:09, 107MiB/s]\r 34%|█████████████▏                         | 491M/1.42G [00:04<00:09, 110MiB/s]\r 34%|█████████████▍                         | 502M/1.42G [00:04<00:09, 111MiB/s]\r 35%|█████████████▋                         | 512M/1.42G [00:04<00:09, 108MiB/s]\r 36%|█████████████▉                         | 523M/1.42G [00:04<00:09, 108MiB/s]\r 37%|██████████████▎                        | 533M/1.42G [00:05<00:09, 108MiB/s]\r 37%|██████████████▌                        | 543M/1.42G [00:05<00:08, 107MiB/s]\r 38%|██████████████▊                        | 553M/1.42G [00:05<00:08, 105MiB/s]\r 39%|███████████████                        | 563M/1.42G [00:05<00:09, 103MiB/s]\r 39%|███████████████▎                       | 573M/1.42G [00:05<00:08, 104MiB/s]\r 40%|███████████████▌                       | 583M/1.42G [00:05<00:08, 104MiB/s]\r 41%|███████████████▍                      | 593M/1.42G [00:07<00:43, 20.7MiB/s]\r 42%|███████████████▊                      | 606M/1.42G [00:07<00:30, 29.5MiB/s]\r 42%|████████████████                      | 616M/1.42G [00:07<00:24, 36.1MiB/s]\r 43%|████████████████▎                     | 625M/1.42G [00:07<00:20, 42.7MiB/s]\r 44%|████████████████▌                     | 635M/1.42G [00:07<00:16, 53.0MiB/s]\r 44%|████████████████▊                     | 646M/1.42G [00:07<00:13, 62.7MiB/s]\r 45%|█████████████████                     | 656M/1.42G [00:07<00:12, 69.1MiB/s]\r 46%|█████████████████▎                    | 665M/1.42G [00:07<00:11, 73.8MiB/s]\r 46%|█████████████████▋                    | 677M/1.42G [00:07<00:09, 84.0MiB/s]\r 47%|█████████████████▉                    | 687M/1.42G [00:07<00:08, 90.3MiB/s]\r 48%|██████████████████▏                   | 697M/1.42G [00:08<00:08, 93.9MiB/s]\r 49%|██████████████████▍                   | 707M/1.42G [00:08<00:08, 97.3MiB/s]\r 49%|███████████████████▏                   | 718M/1.42G [00:08<00:07, 100MiB/s]\r 50%|███████████████████▌                   | 729M/1.42G [00:08<00:07, 105MiB/s]\r 51%|███████████████████▊                   | 741M/1.42G [00:08<00:06, 110MiB/s]\r 52%|████████████████████                   | 751M/1.42G [00:08<00:06, 108MiB/s]\r 52%|████████████████████▍                  | 762M/1.42G [00:08<00:07, 104MiB/s]\r 53%|████████████████████▋                  | 773M/1.42G [00:08<00:06, 106MiB/s]\r 54%|████████████████████▉                  | 783M/1.42G [00:08<00:06, 107MiB/s]\r 54%|█████████████████████▏                 | 794M/1.42G [00:09<00:06, 109MiB/s]\r 55%|█████████████████████▌                 | 805M/1.42G [00:09<00:06, 110MiB/s]\r 56%|█████████████████████▊                 | 815M/1.42G [00:09<00:06, 107MiB/s]\r 57%|██████████████████████                 | 826M/1.42G [00:09<00:06, 107MiB/s]\r 57%|██████████████████████▎                | 836M/1.42G [00:09<00:06, 107MiB/s]\r 58%|██████████████████████▋                | 847M/1.42G [00:09<00:05, 109MiB/s]\r 59%|██████████████████████▉                | 857M/1.42G [00:09<00:05, 109MiB/s]\r 60%|███████████████████████▏               | 868M/1.42G [00:09<00:05, 109MiB/s]\r 60%|███████████████████████▌               | 878M/1.42G [00:09<00:05, 108MiB/s]\r 61%|███████████████████████▊               | 889M/1.42G [00:09<00:05, 107MiB/s]\r 62%|████████████████████████               | 899M/1.42G [00:10<00:05, 108MiB/s]\r 62%|████████████████████████▎              | 909M/1.42G [00:10<00:05, 101MiB/s]\r 63%|████████████████████████▌              | 920M/1.42G [00:10<00:05, 103MiB/s]\r 64%|████████████████████████▉              | 930M/1.42G [00:10<00:05, 103MiB/s]\r 64%|█████████████████████████▏             | 940M/1.42G [00:10<00:05, 104MiB/s]\r 65%|█████████████████████████▍             | 951M/1.42G [00:10<00:04, 107MiB/s]\r 66%|█████████████████████████▋             | 961M/1.42G [00:10<00:04, 108MiB/s]\r 67%|██████████████████████████             | 972M/1.42G [00:10<00:04, 109MiB/s]\r 67%|██████████████████████████▎            | 983M/1.42G [00:10<00:04, 109MiB/s]\r 68%|██████████████████████████▌            | 993M/1.42G [00:10<00:04, 103MiB/s]\r 69%|██████████████████████████▏           | 0.98G/1.42G [00:11<00:04, 107MiB/s]\r 70%|██████████████████████████▍           | 0.99G/1.42G [00:11<00:04, 110MiB/s]\r 70%|██████████████████████████▊           | 1.00G/1.42G [00:11<00:04, 112MiB/s]\r 71%|███████████████████████████           | 1.01G/1.42G [00:11<00:03, 113MiB/s]\r 72%|███████████████████████████▎          | 1.02G/1.42G [00:11<00:03, 116MiB/s]\r 73%|███████████████████████████▋          | 1.04G/1.42G [00:11<00:03, 115MiB/s]\r 74%|███████████████████████████▉          | 1.05G/1.42G [00:11<00:03, 113MiB/s]\r 74%|████████████████████████████▎         | 1.06G/1.42G [00:11<00:03, 116MiB/s]\r 75%|████████████████████████████▌         | 1.07G/1.42G [00:11<00:03, 114MiB/s]\r 76%|████████████████████████████▊         | 1.08G/1.42G [00:12<00:03, 113MiB/s]\r 77%|█████████████████████████████         | 1.09G/1.42G [00:12<00:03, 115MiB/s]\r 77%|█████████████████████████████▍        | 1.10G/1.42G [00:12<00:02, 119MiB/s]\r 78%|█████████████████████████████▋        | 1.11G/1.42G [00:12<00:02, 119MiB/s]\r 79%|██████████████████████████████        | 1.12G/1.42G [00:12<00:02, 115MiB/s]\r 80%|██████████████████████████████▎       | 1.14G/1.42G [00:12<00:02, 112MiB/s]\r 81%|██████████████████████████████▌       | 1.15G/1.42G [00:12<00:02, 112MiB/s]\r 81%|██████████████████████████████▉       | 1.16G/1.42G [00:12<00:02, 109MiB/s]\r 82%|███████████████████████████████▏      | 1.17G/1.42G [00:12<00:02, 106MiB/s]\r 83%|███████████████████████████████▍      | 1.18G/1.42G [00:12<00:02, 106MiB/s]\r 83%|███████████████████████████████▋      | 1.19G/1.42G [00:13<00:02, 108MiB/s]\r 84%|███████████████████████████████▉      | 1.20G/1.42G [00:13<00:02, 110MiB/s]\r 85%|████████████████████████████████▎     | 1.21G/1.42G [00:13<00:02, 111MiB/s]\r 86%|████████████████████████████████▌     | 1.22G/1.42G [00:13<00:01, 112MiB/s]\r 86%|████████████████████████████████▊     | 1.23G/1.42G [00:13<00:01, 110MiB/s]\r 87%|█████████████████████████████████     | 1.24G/1.42G [00:13<00:01, 109MiB/s]\r 88%|█████████████████████████████████▍    | 1.25G/1.42G [00:13<00:01, 112MiB/s]\r 89%|█████████████████████████████████▋    | 1.26G/1.42G [00:13<00:01, 111MiB/s]\r 89%|█████████████████████████████████▉    | 1.27G/1.42G [00:13<00:01, 111MiB/s]\r 90%|██████████████████████████████████▏   | 1.28G/1.42G [00:13<00:01, 110MiB/s]\r 91%|██████████████████████████████████▌   | 1.29G/1.42G [00:14<00:01, 112MiB/s]\r 92%|██████████████████████████████████▊   | 1.30G/1.42G [00:14<00:01, 109MiB/s]\r 92%|███████████████████████████████████   | 1.31G/1.42G [00:14<00:01, 109MiB/s]\r 93%|███████████████████████████████████▎  | 1.32G/1.42G [00:14<00:00, 110MiB/s]\r 94%|███████████████████████████████████▋  | 1.33G/1.42G [00:14<00:00, 110MiB/s]\r 94%|███████████████████████████████████▉  | 1.34G/1.42G [00:14<00:00, 109MiB/s]\r 95%|████████████████████████████████████▏ | 1.36G/1.42G [00:14<00:00, 110MiB/s]\r 96%|████████████████████████████████████▍ | 1.37G/1.42G [00:14<00:00, 109MiB/s]\r 97%|████████████████████████████████████▋ | 1.38G/1.42G [00:14<00:00, 108MiB/s]\r 97%|█████████████████████████████████████ | 1.39G/1.42G [00:15<00:00, 107MiB/s]\r 98%|█████████████████████████████████████▎| 1.40G/1.42G [00:15<00:00, 108MiB/s]\r 99%|█████████████████████████████████████▌| 1.41G/1.42G [00:15<00:00, 113MiB/s]\r100%|█████████████████████████████████████▉| 1.42G/1.42G [00:15<00:00, 114MiB/s]\r100%|█████████████████████████████████████| 1.42G/1.42G [00:15<00:00, 99.5MiB/s]\n",
            "2023-12-28 05:24:33.280449: W tensorflow/core/common_runtime/gpu/gpu_device.cc:2211] Cannot dlopen some GPU libraries. Please make sure the missing libraries mentioned above are installed properly if you would like to use GPU. Follow the guide at https://www.tensorflow.org/install/gpu for how to download and setup the required libraries for your platform.\n",
            "Skipping registering GPU devices...\n",
            "INFO:     Started server process [2329]\n",
            "INFO:     Waiting for application startup.\n",
            "INFO:     Application startup complete.\n"
          ]
        }
      ]
    },
    {
      "cell_type": "code",
      "source": [
        "import requests\n",
        "files = {'json_file': open('input.json','rb')}\n",
        "response = requests.post('http://127.0.0.1:8000/predict', files=files)\n",
        "print(response.text)"
      ],
      "metadata": {
        "id": "OR7BYbSb6IlB",
        "colab": {
          "base_uri": "https://localhost:8080/"
        },
        "outputId": "76eb73c5-3f26-4d4b-e327-ef3dc0962ec6"
      },
      "execution_count": 18,
      "outputs": [
        {
          "output_type": "stream",
          "name": "stdout",
          "text": [
            "{\"result\":\"output.json\"}\n"
          ]
        }
      ]
    },
    {
      "cell_type": "code",
      "source": [
        "# Лог\n",
        "!cat nohup.out"
      ],
      "metadata": {
        "id": "YpH4oz1G6IlB",
        "colab": {
          "base_uri": "https://localhost:8080/"
        },
        "outputId": "ccaba7ce-c368-42eb-baf6-f275792fdd57"
      },
      "execution_count": 19,
      "outputs": [
        {
          "output_type": "stream",
          "name": "stdout",
          "text": [
            "INFO:     Will watch for changes in these directories: ['/content']\n",
            "INFO:     Uvicorn running on http://127.0.0.1:8000 (Press CTRL+C to quit)\n",
            "INFO:     Started reloader process [2327] using StatReload\n",
            "2023-12-28 05:23:58.556289: E tensorflow/compiler/xla/stream_executor/cuda/cuda_dnn.cc:9342] Unable to register cuDNN factory: Attempting to register factory for plugin cuDNN when one has already been registered\n",
            "2023-12-28 05:23:58.556346: E tensorflow/compiler/xla/stream_executor/cuda/cuda_fft.cc:609] Unable to register cuFFT factory: Attempting to register factory for plugin cuFFT when one has already been registered\n",
            "2023-12-28 05:23:58.556372: E tensorflow/compiler/xla/stream_executor/cuda/cuda_blas.cc:1518] Unable to register cuBLAS factory: Attempting to register factory for plugin cuBLAS when one has already been registered\n",
            "2023-12-28 05:23:59.735776: W tensorflow/compiler/tf2tensorrt/utils/py_utils.cc:38] TF-TRT Warning: Could not find TensorRT\n",
            "\r  0%|                                              | 0.00/1.42G [00:00<?, ?iB/s]\r  1%|▏                                    | 9.51M/1.42G [00:00<00:15, 99.7MiB/s]\r  1%|▌                                     | 20.1M/1.42G [00:00<00:14, 106MiB/s]\r  2%|▊                                     | 31.1M/1.42G [00:00<00:13, 110MiB/s]\r  3%|█                                     | 42.4M/1.42G [00:00<00:13, 113MiB/s]\r  4%|█▍                                    | 53.2M/1.42G [00:00<00:13, 112MiB/s]\r  4%|█▋                                    | 63.8M/1.42G [00:00<00:13, 109MiB/s]\r  5%|█▉                                    | 74.3M/1.42G [00:00<00:13, 109MiB/s]\r  6%|██▏                                   | 85.1M/1.42G [00:00<00:12, 111MiB/s]\r  7%|██▍                                   | 95.7M/1.42G [00:00<00:12, 110MiB/s]\r  7%|██▊                                    | 106M/1.42G [00:01<00:13, 103MiB/s]\r  8%|███                                    | 116M/1.42G [00:01<00:13, 103MiB/s]\r  9%|███▍                                   | 127M/1.42G [00:01<00:13, 105MiB/s]\r  9%|███▋                                   | 137M/1.42G [00:01<00:13, 106MiB/s]\r 10%|███▉                                   | 148M/1.42G [00:01<00:12, 108MiB/s]\r 11%|████▎                                  | 159M/1.42G [00:01<00:12, 111MiB/s]\r 12%|████▌                                  | 170M/1.42G [00:01<00:12, 110MiB/s]\r 12%|████▊                                  | 180M/1.42G [00:01<00:12, 109MiB/s]\r 13%|█████▏                                 | 192M/1.42G [00:01<00:11, 112MiB/s]\r 14%|█████▍                                 | 203M/1.42G [00:01<00:11, 114MiB/s]\r 15%|█████▋                                 | 214M/1.42G [00:02<00:11, 114MiB/s]\r 15%|██████                                 | 225M/1.42G [00:02<00:11, 115MiB/s]\r 16%|██████▎                                | 236M/1.42G [00:02<00:11, 115MiB/s]\r 17%|██████▋                                | 248M/1.42G [00:02<00:10, 116MiB/s]\r 18%|██████▉                                | 261M/1.42G [00:02<00:10, 122MiB/s]\r 19%|███████▎                               | 273M/1.42G [00:02<00:10, 119MiB/s]\r 19%|███████▌                               | 284M/1.42G [00:02<00:10, 118MiB/s]\r 20%|███████▉                               | 295M/1.42G [00:02<00:10, 118MiB/s]\r 21%|████████▏                              | 306M/1.42G [00:02<00:11, 110MiB/s]\r 22%|████████▍                              | 317M/1.42G [00:02<00:10, 110MiB/s]\r 22%|████████▊                              | 328M/1.42G [00:03<00:10, 108MiB/s]\r 23%|█████████                              | 339M/1.42G [00:03<00:10, 110MiB/s]\r 24%|█████████▎                             | 350M/1.42G [00:03<00:10, 113MiB/s]\r 25%|█████████▋                             | 361M/1.42G [00:03<00:10, 114MiB/s]\r 26%|█████████▉                             | 372M/1.42G [00:03<00:10, 112MiB/s]\r 26%|██████████▏                            | 383M/1.42G [00:03<00:10, 111MiB/s]\r 27%|██████████▌                            | 393M/1.42G [00:03<00:10, 103MiB/s]\r 28%|██████████▊                            | 404M/1.42G [00:03<00:10, 104MiB/s]\r 28%|███████████                            | 414M/1.42G [00:03<00:10, 106MiB/s]\r 29%|███████████▍                           | 425M/1.42G [00:04<00:09, 109MiB/s]\r 30%|███████████▋                           | 436M/1.42G [00:04<00:09, 110MiB/s]\r 31%|███████████▉                           | 447M/1.42G [00:04<00:09, 111MiB/s]\r 31%|████████████▎                          | 458M/1.42G [00:04<00:09, 113MiB/s]\r 32%|████████████▌                          | 469M/1.42G [00:04<00:09, 110MiB/s]\r 33%|████████████▊                          | 480M/1.42G [00:04<00:09, 107MiB/s]\r 34%|█████████████▏                         | 491M/1.42G [00:04<00:09, 110MiB/s]\r 34%|█████████████▍                         | 502M/1.42G [00:04<00:09, 111MiB/s]\r 35%|█████████████▋                         | 512M/1.42G [00:04<00:09, 108MiB/s]\r 36%|█████████████▉                         | 523M/1.42G [00:04<00:09, 108MiB/s]\r 37%|██████████████▎                        | 533M/1.42G [00:05<00:09, 108MiB/s]\r 37%|██████████████▌                        | 543M/1.42G [00:05<00:08, 107MiB/s]\r 38%|██████████████▊                        | 553M/1.42G [00:05<00:08, 105MiB/s]\r 39%|███████████████                        | 563M/1.42G [00:05<00:09, 103MiB/s]\r 39%|███████████████▎                       | 573M/1.42G [00:05<00:08, 104MiB/s]\r 40%|███████████████▌                       | 583M/1.42G [00:05<00:08, 104MiB/s]\r 41%|███████████████▍                      | 593M/1.42G [00:07<00:43, 20.7MiB/s]\r 42%|███████████████▊                      | 606M/1.42G [00:07<00:30, 29.5MiB/s]\r 42%|████████████████                      | 616M/1.42G [00:07<00:24, 36.1MiB/s]\r 43%|████████████████▎                     | 625M/1.42G [00:07<00:20, 42.7MiB/s]\r 44%|████████████████▌                     | 635M/1.42G [00:07<00:16, 53.0MiB/s]\r 44%|████████████████▊                     | 646M/1.42G [00:07<00:13, 62.7MiB/s]\r 45%|█████████████████                     | 656M/1.42G [00:07<00:12, 69.1MiB/s]\r 46%|█████████████████▎                    | 665M/1.42G [00:07<00:11, 73.8MiB/s]\r 46%|█████████████████▋                    | 677M/1.42G [00:07<00:09, 84.0MiB/s]\r 47%|█████████████████▉                    | 687M/1.42G [00:07<00:08, 90.3MiB/s]\r 48%|██████████████████▏                   | 697M/1.42G [00:08<00:08, 93.9MiB/s]\r 49%|██████████████████▍                   | 707M/1.42G [00:08<00:08, 97.3MiB/s]\r 49%|███████████████████▏                   | 718M/1.42G [00:08<00:07, 100MiB/s]\r 50%|███████████████████▌                   | 729M/1.42G [00:08<00:07, 105MiB/s]\r 51%|███████████████████▊                   | 741M/1.42G [00:08<00:06, 110MiB/s]\r 52%|████████████████████                   | 751M/1.42G [00:08<00:06, 108MiB/s]\r 52%|████████████████████▍                  | 762M/1.42G [00:08<00:07, 104MiB/s]\r 53%|████████████████████▋                  | 773M/1.42G [00:08<00:06, 106MiB/s]\r 54%|████████████████████▉                  | 783M/1.42G [00:08<00:06, 107MiB/s]\r 54%|█████████████████████▏                 | 794M/1.42G [00:09<00:06, 109MiB/s]\r 55%|█████████████████████▌                 | 805M/1.42G [00:09<00:06, 110MiB/s]\r 56%|█████████████████████▊                 | 815M/1.42G [00:09<00:06, 107MiB/s]\r 57%|██████████████████████                 | 826M/1.42G [00:09<00:06, 107MiB/s]\r 57%|██████████████████████▎                | 836M/1.42G [00:09<00:06, 107MiB/s]\r 58%|██████████████████████▋                | 847M/1.42G [00:09<00:05, 109MiB/s]\r 59%|██████████████████████▉                | 857M/1.42G [00:09<00:05, 109MiB/s]\r 60%|███████████████████████▏               | 868M/1.42G [00:09<00:05, 109MiB/s]\r 60%|███████████████████████▌               | 878M/1.42G [00:09<00:05, 108MiB/s]\r 61%|███████████████████████▊               | 889M/1.42G [00:09<00:05, 107MiB/s]\r 62%|████████████████████████               | 899M/1.42G [00:10<00:05, 108MiB/s]\r 62%|████████████████████████▎              | 909M/1.42G [00:10<00:05, 101MiB/s]\r 63%|████████████████████████▌              | 920M/1.42G [00:10<00:05, 103MiB/s]\r 64%|████████████████████████▉              | 930M/1.42G [00:10<00:05, 103MiB/s]\r 64%|█████████████████████████▏             | 940M/1.42G [00:10<00:05, 104MiB/s]\r 65%|█████████████████████████▍             | 951M/1.42G [00:10<00:04, 107MiB/s]\r 66%|█████████████████████████▋             | 961M/1.42G [00:10<00:04, 108MiB/s]\r 67%|██████████████████████████             | 972M/1.42G [00:10<00:04, 109MiB/s]\r 67%|██████████████████████████▎            | 983M/1.42G [00:10<00:04, 109MiB/s]\r 68%|██████████████████████████▌            | 993M/1.42G [00:10<00:04, 103MiB/s]\r 69%|██████████████████████████▏           | 0.98G/1.42G [00:11<00:04, 107MiB/s]\r 70%|██████████████████████████▍           | 0.99G/1.42G [00:11<00:04, 110MiB/s]\r 70%|██████████████████████████▊           | 1.00G/1.42G [00:11<00:04, 112MiB/s]\r 71%|███████████████████████████           | 1.01G/1.42G [00:11<00:03, 113MiB/s]\r 72%|███████████████████████████▎          | 1.02G/1.42G [00:11<00:03, 116MiB/s]\r 73%|███████████████████████████▋          | 1.04G/1.42G [00:11<00:03, 115MiB/s]\r 74%|███████████████████████████▉          | 1.05G/1.42G [00:11<00:03, 113MiB/s]\r 74%|████████████████████████████▎         | 1.06G/1.42G [00:11<00:03, 116MiB/s]\r 75%|████████████████████████████▌         | 1.07G/1.42G [00:11<00:03, 114MiB/s]\r 76%|████████████████████████████▊         | 1.08G/1.42G [00:12<00:03, 113MiB/s]\r 77%|█████████████████████████████         | 1.09G/1.42G [00:12<00:03, 115MiB/s]\r 77%|█████████████████████████████▍        | 1.10G/1.42G [00:12<00:02, 119MiB/s]\r 78%|█████████████████████████████▋        | 1.11G/1.42G [00:12<00:02, 119MiB/s]\r 79%|██████████████████████████████        | 1.12G/1.42G [00:12<00:02, 115MiB/s]\r 80%|██████████████████████████████▎       | 1.14G/1.42G [00:12<00:02, 112MiB/s]\r 81%|██████████████████████████████▌       | 1.15G/1.42G [00:12<00:02, 112MiB/s]\r 81%|██████████████████████████████▉       | 1.16G/1.42G [00:12<00:02, 109MiB/s]\r 82%|███████████████████████████████▏      | 1.17G/1.42G [00:12<00:02, 106MiB/s]\r 83%|███████████████████████████████▍      | 1.18G/1.42G [00:12<00:02, 106MiB/s]\r 83%|███████████████████████████████▋      | 1.19G/1.42G [00:13<00:02, 108MiB/s]\r 84%|███████████████████████████████▉      | 1.20G/1.42G [00:13<00:02, 110MiB/s]\r 85%|████████████████████████████████▎     | 1.21G/1.42G [00:13<00:02, 111MiB/s]\r 86%|████████████████████████████████▌     | 1.22G/1.42G [00:13<00:01, 112MiB/s]\r 86%|████████████████████████████████▊     | 1.23G/1.42G [00:13<00:01, 110MiB/s]\r 87%|█████████████████████████████████     | 1.24G/1.42G [00:13<00:01, 109MiB/s]\r 88%|█████████████████████████████████▍    | 1.25G/1.42G [00:13<00:01, 112MiB/s]\r 89%|█████████████████████████████████▋    | 1.26G/1.42G [00:13<00:01, 111MiB/s]\r 89%|█████████████████████████████████▉    | 1.27G/1.42G [00:13<00:01, 111MiB/s]\r 90%|██████████████████████████████████▏   | 1.28G/1.42G [00:13<00:01, 110MiB/s]\r 91%|██████████████████████████████████▌   | 1.29G/1.42G [00:14<00:01, 112MiB/s]\r 92%|██████████████████████████████████▊   | 1.30G/1.42G [00:14<00:01, 109MiB/s]\r 92%|███████████████████████████████████   | 1.31G/1.42G [00:14<00:01, 109MiB/s]\r 93%|███████████████████████████████████▎  | 1.32G/1.42G [00:14<00:00, 110MiB/s]\r 94%|███████████████████████████████████▋  | 1.33G/1.42G [00:14<00:00, 110MiB/s]\r 94%|███████████████████████████████████▉  | 1.34G/1.42G [00:14<00:00, 109MiB/s]\r 95%|████████████████████████████████████▏ | 1.36G/1.42G [00:14<00:00, 110MiB/s]\r 96%|████████████████████████████████████▍ | 1.37G/1.42G [00:14<00:00, 109MiB/s]\r 97%|████████████████████████████████████▋ | 1.38G/1.42G [00:14<00:00, 108MiB/s]\r 97%|█████████████████████████████████████ | 1.39G/1.42G [00:15<00:00, 107MiB/s]\r 98%|█████████████████████████████████████▎| 1.40G/1.42G [00:15<00:00, 108MiB/s]\r 99%|█████████████████████████████████████▌| 1.41G/1.42G [00:15<00:00, 113MiB/s]\r100%|█████████████████████████████████████▉| 1.42G/1.42G [00:15<00:00, 114MiB/s]\r100%|█████████████████████████████████████| 1.42G/1.42G [00:15<00:00, 99.5MiB/s]\n",
            "2023-12-28 05:24:33.280449: W tensorflow/core/common_runtime/gpu/gpu_device.cc:2211] Cannot dlopen some GPU libraries. Please make sure the missing libraries mentioned above are installed properly if you would like to use GPU. Follow the guide at https://www.tensorflow.org/install/gpu for how to download and setup the required libraries for your platform.\n",
            "Skipping registering GPU devices...\n",
            "INFO:     Started server process [2329]\n",
            "INFO:     Waiting for application startup.\n",
            "INFO:     Application startup complete.\n",
            "\r1/2 [==============>...............] - ETA: 0s\b\b\b\b\b\b\b\b\b\b\b\b\b\b\b\b\b\b\b\b\b\b\b\b\b\b\b\b\b\b\b\b\b\b\b\b\b\b\b\b\b\b\b\b\b\b\r2/2 [==============================] - 0s 19ms/step\n",
            "INFO:     127.0.0.1:33010 - \"POST /predict HTTP/1.1\" 200 OK\n"
          ]
        }
      ]
    },
    {
      "cell_type": "code",
      "source": [
        "df = pd.read_json('output.json')\n",
        "df.shape"
      ],
      "metadata": {
        "id": "xZxX0Bg_6IlB",
        "colab": {
          "base_uri": "https://localhost:8080/"
        },
        "outputId": "cb5992a0-3e5f-4475-a8ce-b6803c032fc9"
      },
      "execution_count": 20,
      "outputs": [
        {
          "output_type": "execute_result",
          "data": {
            "text/plain": [
              "(49, 5)"
            ]
          },
          "metadata": {},
          "execution_count": 20
        }
      ]
    },
    {
      "cell_type": "code",
      "source": [
        "df"
      ],
      "metadata": {
        "id": "ZdpRatN06IlB",
        "colab": {
          "base_uri": "https://localhost:8080/",
          "height": 1000
        },
        "outputId": "016d0367-ff7e-4d82-8df8-65ffb959bb31"
      },
      "execution_count": 21,
      "outputs": [
        {
          "output_type": "execute_result",
          "data": {
            "text/plain": [
              "        Проект  Идентификатор сессии звонка                    Теги  \\\n",
              "0   pavcity.ru                   3032998743            Целевой_М108   \n",
              "1   pavcity.ru                   3032485270            Целевой_М108   \n",
              "2   pavcity.ru                   3034442627                    None   \n",
              "3   pavcity.ru                   3032007610                    None   \n",
              "4   pavcity.ru                   3034046623                    None   \n",
              "5   pavcity.ru                   3031650945  Коммерция_целевой_М108   \n",
              "6   pavcity.ru                   3032237258                    None   \n",
              "7   pavcity.ru                   3031875985                    None   \n",
              "8   pavcity.ru                   3032775068                    None   \n",
              "9   pavcity.ru                   3032179333            Целевой_М108   \n",
              "10  pavcity.ru                   3032896177                    None   \n",
              "11  pavcity.ru                   3032483204                    None   \n",
              "12  pavcity.ru                   3031640590            Целевой_М108   \n",
              "13  pavcity.ru                   3032677423                    None   \n",
              "14  pavcity.ru                   3032271261       Нецелевой контакт   \n",
              "15  pavcity.ru                   3032207796                    None   \n",
              "16  pavcity.ru                   3032341357                    None   \n",
              "17  pavcity.ru                   3032022083            Целевой_М108   \n",
              "18  pavcity.ru                   3031429591                    None   \n",
              "19  pavcity.ru                   3030767375                    None   \n",
              "20  pavcity.ru                   3031316834       Нецелевой контакт   \n",
              "21  pavcity.ru                   3031466787            Целевой_М108   \n",
              "22  pavcity.ru                   3031456882                    None   \n",
              "23  pavcity.ru                   3030619720            Целевой_М108   \n",
              "24  pavcity.ru                   3031073688                    None   \n",
              "25  pavcity.ru                   3031126709                    None   \n",
              "26  pavcity.ru                   3030567890            Целевой_М108   \n",
              "27  pavcity.ru                   3031223322                    None   \n",
              "28  pavcity.ru                   3030974296            Целевой_М108   \n",
              "29  pavcity.ru                   3030853628                    None   \n",
              "30  pavcity.ru                   3030904744                    None   \n",
              "31  pavcity.ru                   3031027717       Нецелевой контакт   \n",
              "32  pavcity.ru                   3030786763       Нецелевой контакт   \n",
              "33  pavcity.ru                   3030846086       Нецелевой контакт   \n",
              "34  pavcity.ru                   3030815699            Целевой_М108   \n",
              "35  pavcity.ru                   3030870962                    None   \n",
              "36  pavcity.ru                   3030623683       Нецелевой контакт   \n",
              "37  pavcity.ru                   3030810737                    None   \n",
              "38  pavcity.ru                   3030649979       Нецелевой контакт   \n",
              "39  pavcity.ru                   3030608659            Целевой_М108   \n",
              "40  pavcity.ru                   3030554159       Нецелевой контакт   \n",
              "41  pavcity.ru                   3030549204                    None   \n",
              "42  pavcity.ru                   3030256809                    None   \n",
              "43  pavcity.ru                   3030126641       Нецелевой контакт   \n",
              "44  pavcity.ru                   3029596520            Целевой_М108   \n",
              "45  pavcity.ru                   3029730813                    None   \n",
              "46  pavcity.ru                   3029390475                    None   \n",
              "47  pavcity.ru                   3029352265            Целевой_М108   \n",
              "48  pavcity.ru                   3029638181            Целевой_М108   \n",
              "\n",
              "   Предсказание класса                  Транскрибация файла записи звонка  \n",
              "0              Целевой  здравствуйте вы позвонили в компанию   пожалуй...  \n",
              "1              Целевой  здравствуйте вы позвонили в компанию   пожалуй...  \n",
              "2            Нецелевой  здравствуйте вы позвонили в компанию   пожалуй...  \n",
              "3              Целевой  здравствуйте вы позвонили в компанию   пожалуй...  \n",
              "4            Нецелевой  здравствуйте вы позвонили в компанию   пожалуй...  \n",
              "5              Целевой  здравствуйте вы позвонили в компанию энерго по...  \n",
              "6            Нецелевой  здравствуйте вы позвонили в компанию   пожалуй...  \n",
              "7              Целевой  здравствуйте вы позвонили в компанию   пожалуй...  \n",
              "8            Нецелевой  здравствуйте вы позвонили в компанию   пожалуй...  \n",
              "9              Целевой  здравствуйте вы позвонили в компанию   пожалуй...  \n",
              "10           Нецелевой  здравствуйте вы позвонили в компанию   пожалуй...  \n",
              "11           Нецелевой  здравствуйте вы позвонили в компанию   пожалуй...  \n",
              "12             Целевой  здравствуйте вы позвонили в компанию   пожалуй...  \n",
              "13           Нецелевой  здравствуйте вы позвонили в компанию   пожалуй...  \n",
              "14           Нецелевой               здравствуйте вы позвонили в компанию  \n",
              "15           Нецелевой  улучшения качества обслуживания клиентов все р...  \n",
              "16             Целевой  здравствуйте вы позвонили в компанию   пожалуй...  \n",
              "17             Целевой  здравствуйте вы позвонили в компанию   пожалуй...  \n",
              "18             Целевой  здравствуйте вы позвонили в компанию   пожалуй...  \n",
              "19           Нецелевой  здравствуйте вы позвонили в компанию   пожалуй...  \n",
              "20           Нецелевой                                       здравствуйте  \n",
              "21             Целевой  здравствуйте вы позвонили в компанию   пожалуй...  \n",
              "22           Нецелевой  здравствуйте вы звоните разговоры может додать...  \n",
              "23             Целевой  здравствуйте вы позвонили в компанию   пожалуй...  \n",
              "24             Целевой  здравствуйте вы позвонили в компанию   пожалуй...  \n",
              "25             Целевой  здравствуйте вы позвонили в компанию   пожалуй...  \n",
              "26             Целевой  вам звонок в сайтответе в целях улучшения опыт...  \n",
              "27           Нецелевой  здравствуйте вы позвонили в компанию эмергрупп...  \n",
              "28             Целевой  здравствуйте вы позвонили в компанию   пожалуй...  \n",
              "29           Нецелевой  здравствуйте вы позвонили в компанию   пожалуй...  \n",
              "30             Целевой  здравствуйте вы позвонили в компанию   пожалуй...  \n",
              "31           Нецелевой  обращаем внимание что в целях выживания и каче...  \n",
              "32           Нецелевой  здравствуйте вы позвонили в компанию   пожалуй...  \n",
              "33           Нецелевой                                       здравствуйте  \n",
              "34             Целевой  здравствуйте вы позвонили в компанию   пожалуй...  \n",
              "35             Целевой  здравствуйте вы позвонили в компанию   пожалуй...  \n",
              "36           Нецелевой                          здравствуйте вы позвонили  \n",
              "37             Целевой  здравствуйте вы позвонили в компанию   пожалуй...  \n",
              "38           Нецелевой                          здравствуйте вы позвонили  \n",
              "39             Целевой  здравствуйте вы позвонили в компанию   пожалуй...  \n",
              "40           Нецелевой  здравствуйте я айсель семанкова компания энерг...  \n",
              "41           Нецелевой  здравствуйте продолжаю вызов не расслышала что...  \n",
              "42           Нецелевой  вызываемый абонент недоступен ваш звонок был п...  \n",
              "43           Нецелевой  здравствуйте вы позвонили в компанию эмергрупп...  \n",
              "44             Целевой  здравствуйте вы позвонили в компанию   пожалуй...  \n",
              "45             Целевой  здравствуйте вы позвонили в компанию   пожалуй...  \n",
              "46             Целевой  здравствуйте вы позвонили в компанию   пожалуй...  \n",
              "47             Целевой  здравствуйте вы позвонили в компанию   пожалуй...  \n",
              "48             Целевой  здравствуйте вы позвонили в компанию   пожалуй...  "
            ],
            "text/html": [
              "\n",
              "  <div id=\"df-1f0bbb6b-6e83-4c47-9daf-2f3ea1cd539c\" class=\"colab-df-container\">\n",
              "    <div>\n",
              "<style scoped>\n",
              "    .dataframe tbody tr th:only-of-type {\n",
              "        vertical-align: middle;\n",
              "    }\n",
              "\n",
              "    .dataframe tbody tr th {\n",
              "        vertical-align: top;\n",
              "    }\n",
              "\n",
              "    .dataframe thead th {\n",
              "        text-align: right;\n",
              "    }\n",
              "</style>\n",
              "<table border=\"1\" class=\"dataframe\">\n",
              "  <thead>\n",
              "    <tr style=\"text-align: right;\">\n",
              "      <th></th>\n",
              "      <th>Проект</th>\n",
              "      <th>Идентификатор сессии звонка</th>\n",
              "      <th>Теги</th>\n",
              "      <th>Предсказание класса</th>\n",
              "      <th>Транскрибация файла записи звонка</th>\n",
              "    </tr>\n",
              "  </thead>\n",
              "  <tbody>\n",
              "    <tr>\n",
              "      <th>0</th>\n",
              "      <td>pavcity.ru</td>\n",
              "      <td>3032998743</td>\n",
              "      <td>Целевой_М108</td>\n",
              "      <td>Целевой</td>\n",
              "      <td>здравствуйте вы позвонили в компанию   пожалуй...</td>\n",
              "    </tr>\n",
              "    <tr>\n",
              "      <th>1</th>\n",
              "      <td>pavcity.ru</td>\n",
              "      <td>3032485270</td>\n",
              "      <td>Целевой_М108</td>\n",
              "      <td>Целевой</td>\n",
              "      <td>здравствуйте вы позвонили в компанию   пожалуй...</td>\n",
              "    </tr>\n",
              "    <tr>\n",
              "      <th>2</th>\n",
              "      <td>pavcity.ru</td>\n",
              "      <td>3034442627</td>\n",
              "      <td>None</td>\n",
              "      <td>Нецелевой</td>\n",
              "      <td>здравствуйте вы позвонили в компанию   пожалуй...</td>\n",
              "    </tr>\n",
              "    <tr>\n",
              "      <th>3</th>\n",
              "      <td>pavcity.ru</td>\n",
              "      <td>3032007610</td>\n",
              "      <td>None</td>\n",
              "      <td>Целевой</td>\n",
              "      <td>здравствуйте вы позвонили в компанию   пожалуй...</td>\n",
              "    </tr>\n",
              "    <tr>\n",
              "      <th>4</th>\n",
              "      <td>pavcity.ru</td>\n",
              "      <td>3034046623</td>\n",
              "      <td>None</td>\n",
              "      <td>Нецелевой</td>\n",
              "      <td>здравствуйте вы позвонили в компанию   пожалуй...</td>\n",
              "    </tr>\n",
              "    <tr>\n",
              "      <th>5</th>\n",
              "      <td>pavcity.ru</td>\n",
              "      <td>3031650945</td>\n",
              "      <td>Коммерция_целевой_М108</td>\n",
              "      <td>Целевой</td>\n",
              "      <td>здравствуйте вы позвонили в компанию энерго по...</td>\n",
              "    </tr>\n",
              "    <tr>\n",
              "      <th>6</th>\n",
              "      <td>pavcity.ru</td>\n",
              "      <td>3032237258</td>\n",
              "      <td>None</td>\n",
              "      <td>Нецелевой</td>\n",
              "      <td>здравствуйте вы позвонили в компанию   пожалуй...</td>\n",
              "    </tr>\n",
              "    <tr>\n",
              "      <th>7</th>\n",
              "      <td>pavcity.ru</td>\n",
              "      <td>3031875985</td>\n",
              "      <td>None</td>\n",
              "      <td>Целевой</td>\n",
              "      <td>здравствуйте вы позвонили в компанию   пожалуй...</td>\n",
              "    </tr>\n",
              "    <tr>\n",
              "      <th>8</th>\n",
              "      <td>pavcity.ru</td>\n",
              "      <td>3032775068</td>\n",
              "      <td>None</td>\n",
              "      <td>Нецелевой</td>\n",
              "      <td>здравствуйте вы позвонили в компанию   пожалуй...</td>\n",
              "    </tr>\n",
              "    <tr>\n",
              "      <th>9</th>\n",
              "      <td>pavcity.ru</td>\n",
              "      <td>3032179333</td>\n",
              "      <td>Целевой_М108</td>\n",
              "      <td>Целевой</td>\n",
              "      <td>здравствуйте вы позвонили в компанию   пожалуй...</td>\n",
              "    </tr>\n",
              "    <tr>\n",
              "      <th>10</th>\n",
              "      <td>pavcity.ru</td>\n",
              "      <td>3032896177</td>\n",
              "      <td>None</td>\n",
              "      <td>Нецелевой</td>\n",
              "      <td>здравствуйте вы позвонили в компанию   пожалуй...</td>\n",
              "    </tr>\n",
              "    <tr>\n",
              "      <th>11</th>\n",
              "      <td>pavcity.ru</td>\n",
              "      <td>3032483204</td>\n",
              "      <td>None</td>\n",
              "      <td>Нецелевой</td>\n",
              "      <td>здравствуйте вы позвонили в компанию   пожалуй...</td>\n",
              "    </tr>\n",
              "    <tr>\n",
              "      <th>12</th>\n",
              "      <td>pavcity.ru</td>\n",
              "      <td>3031640590</td>\n",
              "      <td>Целевой_М108</td>\n",
              "      <td>Целевой</td>\n",
              "      <td>здравствуйте вы позвонили в компанию   пожалуй...</td>\n",
              "    </tr>\n",
              "    <tr>\n",
              "      <th>13</th>\n",
              "      <td>pavcity.ru</td>\n",
              "      <td>3032677423</td>\n",
              "      <td>None</td>\n",
              "      <td>Нецелевой</td>\n",
              "      <td>здравствуйте вы позвонили в компанию   пожалуй...</td>\n",
              "    </tr>\n",
              "    <tr>\n",
              "      <th>14</th>\n",
              "      <td>pavcity.ru</td>\n",
              "      <td>3032271261</td>\n",
              "      <td>Нецелевой контакт</td>\n",
              "      <td>Нецелевой</td>\n",
              "      <td>здравствуйте вы позвонили в компанию</td>\n",
              "    </tr>\n",
              "    <tr>\n",
              "      <th>15</th>\n",
              "      <td>pavcity.ru</td>\n",
              "      <td>3032207796</td>\n",
              "      <td>None</td>\n",
              "      <td>Нецелевой</td>\n",
              "      <td>улучшения качества обслуживания клиентов все р...</td>\n",
              "    </tr>\n",
              "    <tr>\n",
              "      <th>16</th>\n",
              "      <td>pavcity.ru</td>\n",
              "      <td>3032341357</td>\n",
              "      <td>None</td>\n",
              "      <td>Целевой</td>\n",
              "      <td>здравствуйте вы позвонили в компанию   пожалуй...</td>\n",
              "    </tr>\n",
              "    <tr>\n",
              "      <th>17</th>\n",
              "      <td>pavcity.ru</td>\n",
              "      <td>3032022083</td>\n",
              "      <td>Целевой_М108</td>\n",
              "      <td>Целевой</td>\n",
              "      <td>здравствуйте вы позвонили в компанию   пожалуй...</td>\n",
              "    </tr>\n",
              "    <tr>\n",
              "      <th>18</th>\n",
              "      <td>pavcity.ru</td>\n",
              "      <td>3031429591</td>\n",
              "      <td>None</td>\n",
              "      <td>Целевой</td>\n",
              "      <td>здравствуйте вы позвонили в компанию   пожалуй...</td>\n",
              "    </tr>\n",
              "    <tr>\n",
              "      <th>19</th>\n",
              "      <td>pavcity.ru</td>\n",
              "      <td>3030767375</td>\n",
              "      <td>None</td>\n",
              "      <td>Нецелевой</td>\n",
              "      <td>здравствуйте вы позвонили в компанию   пожалуй...</td>\n",
              "    </tr>\n",
              "    <tr>\n",
              "      <th>20</th>\n",
              "      <td>pavcity.ru</td>\n",
              "      <td>3031316834</td>\n",
              "      <td>Нецелевой контакт</td>\n",
              "      <td>Нецелевой</td>\n",
              "      <td>здравствуйте</td>\n",
              "    </tr>\n",
              "    <tr>\n",
              "      <th>21</th>\n",
              "      <td>pavcity.ru</td>\n",
              "      <td>3031466787</td>\n",
              "      <td>Целевой_М108</td>\n",
              "      <td>Целевой</td>\n",
              "      <td>здравствуйте вы позвонили в компанию   пожалуй...</td>\n",
              "    </tr>\n",
              "    <tr>\n",
              "      <th>22</th>\n",
              "      <td>pavcity.ru</td>\n",
              "      <td>3031456882</td>\n",
              "      <td>None</td>\n",
              "      <td>Нецелевой</td>\n",
              "      <td>здравствуйте вы звоните разговоры может додать...</td>\n",
              "    </tr>\n",
              "    <tr>\n",
              "      <th>23</th>\n",
              "      <td>pavcity.ru</td>\n",
              "      <td>3030619720</td>\n",
              "      <td>Целевой_М108</td>\n",
              "      <td>Целевой</td>\n",
              "      <td>здравствуйте вы позвонили в компанию   пожалуй...</td>\n",
              "    </tr>\n",
              "    <tr>\n",
              "      <th>24</th>\n",
              "      <td>pavcity.ru</td>\n",
              "      <td>3031073688</td>\n",
              "      <td>None</td>\n",
              "      <td>Целевой</td>\n",
              "      <td>здравствуйте вы позвонили в компанию   пожалуй...</td>\n",
              "    </tr>\n",
              "    <tr>\n",
              "      <th>25</th>\n",
              "      <td>pavcity.ru</td>\n",
              "      <td>3031126709</td>\n",
              "      <td>None</td>\n",
              "      <td>Целевой</td>\n",
              "      <td>здравствуйте вы позвонили в компанию   пожалуй...</td>\n",
              "    </tr>\n",
              "    <tr>\n",
              "      <th>26</th>\n",
              "      <td>pavcity.ru</td>\n",
              "      <td>3030567890</td>\n",
              "      <td>Целевой_М108</td>\n",
              "      <td>Целевой</td>\n",
              "      <td>вам звонок в сайтответе в целях улучшения опыт...</td>\n",
              "    </tr>\n",
              "    <tr>\n",
              "      <th>27</th>\n",
              "      <td>pavcity.ru</td>\n",
              "      <td>3031223322</td>\n",
              "      <td>None</td>\n",
              "      <td>Нецелевой</td>\n",
              "      <td>здравствуйте вы позвонили в компанию эмергрупп...</td>\n",
              "    </tr>\n",
              "    <tr>\n",
              "      <th>28</th>\n",
              "      <td>pavcity.ru</td>\n",
              "      <td>3030974296</td>\n",
              "      <td>Целевой_М108</td>\n",
              "      <td>Целевой</td>\n",
              "      <td>здравствуйте вы позвонили в компанию   пожалуй...</td>\n",
              "    </tr>\n",
              "    <tr>\n",
              "      <th>29</th>\n",
              "      <td>pavcity.ru</td>\n",
              "      <td>3030853628</td>\n",
              "      <td>None</td>\n",
              "      <td>Нецелевой</td>\n",
              "      <td>здравствуйте вы позвонили в компанию   пожалуй...</td>\n",
              "    </tr>\n",
              "    <tr>\n",
              "      <th>30</th>\n",
              "      <td>pavcity.ru</td>\n",
              "      <td>3030904744</td>\n",
              "      <td>None</td>\n",
              "      <td>Целевой</td>\n",
              "      <td>здравствуйте вы позвонили в компанию   пожалуй...</td>\n",
              "    </tr>\n",
              "    <tr>\n",
              "      <th>31</th>\n",
              "      <td>pavcity.ru</td>\n",
              "      <td>3031027717</td>\n",
              "      <td>Нецелевой контакт</td>\n",
              "      <td>Нецелевой</td>\n",
              "      <td>обращаем внимание что в целях выживания и каче...</td>\n",
              "    </tr>\n",
              "    <tr>\n",
              "      <th>32</th>\n",
              "      <td>pavcity.ru</td>\n",
              "      <td>3030786763</td>\n",
              "      <td>Нецелевой контакт</td>\n",
              "      <td>Нецелевой</td>\n",
              "      <td>здравствуйте вы позвонили в компанию   пожалуй...</td>\n",
              "    </tr>\n",
              "    <tr>\n",
              "      <th>33</th>\n",
              "      <td>pavcity.ru</td>\n",
              "      <td>3030846086</td>\n",
              "      <td>Нецелевой контакт</td>\n",
              "      <td>Нецелевой</td>\n",
              "      <td>здравствуйте</td>\n",
              "    </tr>\n",
              "    <tr>\n",
              "      <th>34</th>\n",
              "      <td>pavcity.ru</td>\n",
              "      <td>3030815699</td>\n",
              "      <td>Целевой_М108</td>\n",
              "      <td>Целевой</td>\n",
              "      <td>здравствуйте вы позвонили в компанию   пожалуй...</td>\n",
              "    </tr>\n",
              "    <tr>\n",
              "      <th>35</th>\n",
              "      <td>pavcity.ru</td>\n",
              "      <td>3030870962</td>\n",
              "      <td>None</td>\n",
              "      <td>Целевой</td>\n",
              "      <td>здравствуйте вы позвонили в компанию   пожалуй...</td>\n",
              "    </tr>\n",
              "    <tr>\n",
              "      <th>36</th>\n",
              "      <td>pavcity.ru</td>\n",
              "      <td>3030623683</td>\n",
              "      <td>Нецелевой контакт</td>\n",
              "      <td>Нецелевой</td>\n",
              "      <td>здравствуйте вы позвонили</td>\n",
              "    </tr>\n",
              "    <tr>\n",
              "      <th>37</th>\n",
              "      <td>pavcity.ru</td>\n",
              "      <td>3030810737</td>\n",
              "      <td>None</td>\n",
              "      <td>Целевой</td>\n",
              "      <td>здравствуйте вы позвонили в компанию   пожалуй...</td>\n",
              "    </tr>\n",
              "    <tr>\n",
              "      <th>38</th>\n",
              "      <td>pavcity.ru</td>\n",
              "      <td>3030649979</td>\n",
              "      <td>Нецелевой контакт</td>\n",
              "      <td>Нецелевой</td>\n",
              "      <td>здравствуйте вы позвонили</td>\n",
              "    </tr>\n",
              "    <tr>\n",
              "      <th>39</th>\n",
              "      <td>pavcity.ru</td>\n",
              "      <td>3030608659</td>\n",
              "      <td>Целевой_М108</td>\n",
              "      <td>Целевой</td>\n",
              "      <td>здравствуйте вы позвонили в компанию   пожалуй...</td>\n",
              "    </tr>\n",
              "    <tr>\n",
              "      <th>40</th>\n",
              "      <td>pavcity.ru</td>\n",
              "      <td>3030554159</td>\n",
              "      <td>Нецелевой контакт</td>\n",
              "      <td>Нецелевой</td>\n",
              "      <td>здравствуйте я айсель семанкова компания энерг...</td>\n",
              "    </tr>\n",
              "    <tr>\n",
              "      <th>41</th>\n",
              "      <td>pavcity.ru</td>\n",
              "      <td>3030549204</td>\n",
              "      <td>None</td>\n",
              "      <td>Нецелевой</td>\n",
              "      <td>здравствуйте продолжаю вызов не расслышала что...</td>\n",
              "    </tr>\n",
              "    <tr>\n",
              "      <th>42</th>\n",
              "      <td>pavcity.ru</td>\n",
              "      <td>3030256809</td>\n",
              "      <td>None</td>\n",
              "      <td>Нецелевой</td>\n",
              "      <td>вызываемый абонент недоступен ваш звонок был п...</td>\n",
              "    </tr>\n",
              "    <tr>\n",
              "      <th>43</th>\n",
              "      <td>pavcity.ru</td>\n",
              "      <td>3030126641</td>\n",
              "      <td>Нецелевой контакт</td>\n",
              "      <td>Нецелевой</td>\n",
              "      <td>здравствуйте вы позвонили в компанию эмергрупп...</td>\n",
              "    </tr>\n",
              "    <tr>\n",
              "      <th>44</th>\n",
              "      <td>pavcity.ru</td>\n",
              "      <td>3029596520</td>\n",
              "      <td>Целевой_М108</td>\n",
              "      <td>Целевой</td>\n",
              "      <td>здравствуйте вы позвонили в компанию   пожалуй...</td>\n",
              "    </tr>\n",
              "    <tr>\n",
              "      <th>45</th>\n",
              "      <td>pavcity.ru</td>\n",
              "      <td>3029730813</td>\n",
              "      <td>None</td>\n",
              "      <td>Целевой</td>\n",
              "      <td>здравствуйте вы позвонили в компанию   пожалуй...</td>\n",
              "    </tr>\n",
              "    <tr>\n",
              "      <th>46</th>\n",
              "      <td>pavcity.ru</td>\n",
              "      <td>3029390475</td>\n",
              "      <td>None</td>\n",
              "      <td>Целевой</td>\n",
              "      <td>здравствуйте вы позвонили в компанию   пожалуй...</td>\n",
              "    </tr>\n",
              "    <tr>\n",
              "      <th>47</th>\n",
              "      <td>pavcity.ru</td>\n",
              "      <td>3029352265</td>\n",
              "      <td>Целевой_М108</td>\n",
              "      <td>Целевой</td>\n",
              "      <td>здравствуйте вы позвонили в компанию   пожалуй...</td>\n",
              "    </tr>\n",
              "    <tr>\n",
              "      <th>48</th>\n",
              "      <td>pavcity.ru</td>\n",
              "      <td>3029638181</td>\n",
              "      <td>Целевой_М108</td>\n",
              "      <td>Целевой</td>\n",
              "      <td>здравствуйте вы позвонили в компанию   пожалуй...</td>\n",
              "    </tr>\n",
              "  </tbody>\n",
              "</table>\n",
              "</div>\n",
              "    <div class=\"colab-df-buttons\">\n",
              "\n",
              "  <div class=\"colab-df-container\">\n",
              "    <button class=\"colab-df-convert\" onclick=\"convertToInteractive('df-1f0bbb6b-6e83-4c47-9daf-2f3ea1cd539c')\"\n",
              "            title=\"Convert this dataframe to an interactive table.\"\n",
              "            style=\"display:none;\">\n",
              "\n",
              "  <svg xmlns=\"http://www.w3.org/2000/svg\" height=\"24px\" viewBox=\"0 -960 960 960\">\n",
              "    <path d=\"M120-120v-720h720v720H120Zm60-500h600v-160H180v160Zm220 220h160v-160H400v160Zm0 220h160v-160H400v160ZM180-400h160v-160H180v160Zm440 0h160v-160H620v160ZM180-180h160v-160H180v160Zm440 0h160v-160H620v160Z\"/>\n",
              "  </svg>\n",
              "    </button>\n",
              "\n",
              "  <style>\n",
              "    .colab-df-container {\n",
              "      display:flex;\n",
              "      gap: 12px;\n",
              "    }\n",
              "\n",
              "    .colab-df-convert {\n",
              "      background-color: #E8F0FE;\n",
              "      border: none;\n",
              "      border-radius: 50%;\n",
              "      cursor: pointer;\n",
              "      display: none;\n",
              "      fill: #1967D2;\n",
              "      height: 32px;\n",
              "      padding: 0 0 0 0;\n",
              "      width: 32px;\n",
              "    }\n",
              "\n",
              "    .colab-df-convert:hover {\n",
              "      background-color: #E2EBFA;\n",
              "      box-shadow: 0px 1px 2px rgba(60, 64, 67, 0.3), 0px 1px 3px 1px rgba(60, 64, 67, 0.15);\n",
              "      fill: #174EA6;\n",
              "    }\n",
              "\n",
              "    .colab-df-buttons div {\n",
              "      margin-bottom: 4px;\n",
              "    }\n",
              "\n",
              "    [theme=dark] .colab-df-convert {\n",
              "      background-color: #3B4455;\n",
              "      fill: #D2E3FC;\n",
              "    }\n",
              "\n",
              "    [theme=dark] .colab-df-convert:hover {\n",
              "      background-color: #434B5C;\n",
              "      box-shadow: 0px 1px 3px 1px rgba(0, 0, 0, 0.15);\n",
              "      filter: drop-shadow(0px 1px 2px rgba(0, 0, 0, 0.3));\n",
              "      fill: #FFFFFF;\n",
              "    }\n",
              "  </style>\n",
              "\n",
              "    <script>\n",
              "      const buttonEl =\n",
              "        document.querySelector('#df-1f0bbb6b-6e83-4c47-9daf-2f3ea1cd539c button.colab-df-convert');\n",
              "      buttonEl.style.display =\n",
              "        google.colab.kernel.accessAllowed ? 'block' : 'none';\n",
              "\n",
              "      async function convertToInteractive(key) {\n",
              "        const element = document.querySelector('#df-1f0bbb6b-6e83-4c47-9daf-2f3ea1cd539c');\n",
              "        const dataTable =\n",
              "          await google.colab.kernel.invokeFunction('convertToInteractive',\n",
              "                                                    [key], {});\n",
              "        if (!dataTable) return;\n",
              "\n",
              "        const docLinkHtml = 'Like what you see? Visit the ' +\n",
              "          '<a target=\"_blank\" href=https://colab.research.google.com/notebooks/data_table.ipynb>data table notebook</a>'\n",
              "          + ' to learn more about interactive tables.';\n",
              "        element.innerHTML = '';\n",
              "        dataTable['output_type'] = 'display_data';\n",
              "        await google.colab.output.renderOutput(dataTable, element);\n",
              "        const docLink = document.createElement('div');\n",
              "        docLink.innerHTML = docLinkHtml;\n",
              "        element.appendChild(docLink);\n",
              "      }\n",
              "    </script>\n",
              "  </div>\n",
              "\n",
              "\n",
              "<div id=\"df-3a545e0b-efdd-4504-b8e8-926bd0b81cbb\">\n",
              "  <button class=\"colab-df-quickchart\" onclick=\"quickchart('df-3a545e0b-efdd-4504-b8e8-926bd0b81cbb')\"\n",
              "            title=\"Suggest charts\"\n",
              "            style=\"display:none;\">\n",
              "\n",
              "<svg xmlns=\"http://www.w3.org/2000/svg\" height=\"24px\"viewBox=\"0 0 24 24\"\n",
              "     width=\"24px\">\n",
              "    <g>\n",
              "        <path d=\"M19 3H5c-1.1 0-2 .9-2 2v14c0 1.1.9 2 2 2h14c1.1 0 2-.9 2-2V5c0-1.1-.9-2-2-2zM9 17H7v-7h2v7zm4 0h-2V7h2v10zm4 0h-2v-4h2v4z\"/>\n",
              "    </g>\n",
              "</svg>\n",
              "  </button>\n",
              "\n",
              "<style>\n",
              "  .colab-df-quickchart {\n",
              "      --bg-color: #E8F0FE;\n",
              "      --fill-color: #1967D2;\n",
              "      --hover-bg-color: #E2EBFA;\n",
              "      --hover-fill-color: #174EA6;\n",
              "      --disabled-fill-color: #AAA;\n",
              "      --disabled-bg-color: #DDD;\n",
              "  }\n",
              "\n",
              "  [theme=dark] .colab-df-quickchart {\n",
              "      --bg-color: #3B4455;\n",
              "      --fill-color: #D2E3FC;\n",
              "      --hover-bg-color: #434B5C;\n",
              "      --hover-fill-color: #FFFFFF;\n",
              "      --disabled-bg-color: #3B4455;\n",
              "      --disabled-fill-color: #666;\n",
              "  }\n",
              "\n",
              "  .colab-df-quickchart {\n",
              "    background-color: var(--bg-color);\n",
              "    border: none;\n",
              "    border-radius: 50%;\n",
              "    cursor: pointer;\n",
              "    display: none;\n",
              "    fill: var(--fill-color);\n",
              "    height: 32px;\n",
              "    padding: 0;\n",
              "    width: 32px;\n",
              "  }\n",
              "\n",
              "  .colab-df-quickchart:hover {\n",
              "    background-color: var(--hover-bg-color);\n",
              "    box-shadow: 0 1px 2px rgba(60, 64, 67, 0.3), 0 1px 3px 1px rgba(60, 64, 67, 0.15);\n",
              "    fill: var(--button-hover-fill-color);\n",
              "  }\n",
              "\n",
              "  .colab-df-quickchart-complete:disabled,\n",
              "  .colab-df-quickchart-complete:disabled:hover {\n",
              "    background-color: var(--disabled-bg-color);\n",
              "    fill: var(--disabled-fill-color);\n",
              "    box-shadow: none;\n",
              "  }\n",
              "\n",
              "  .colab-df-spinner {\n",
              "    border: 2px solid var(--fill-color);\n",
              "    border-color: transparent;\n",
              "    border-bottom-color: var(--fill-color);\n",
              "    animation:\n",
              "      spin 1s steps(1) infinite;\n",
              "  }\n",
              "\n",
              "  @keyframes spin {\n",
              "    0% {\n",
              "      border-color: transparent;\n",
              "      border-bottom-color: var(--fill-color);\n",
              "      border-left-color: var(--fill-color);\n",
              "    }\n",
              "    20% {\n",
              "      border-color: transparent;\n",
              "      border-left-color: var(--fill-color);\n",
              "      border-top-color: var(--fill-color);\n",
              "    }\n",
              "    30% {\n",
              "      border-color: transparent;\n",
              "      border-left-color: var(--fill-color);\n",
              "      border-top-color: var(--fill-color);\n",
              "      border-right-color: var(--fill-color);\n",
              "    }\n",
              "    40% {\n",
              "      border-color: transparent;\n",
              "      border-right-color: var(--fill-color);\n",
              "      border-top-color: var(--fill-color);\n",
              "    }\n",
              "    60% {\n",
              "      border-color: transparent;\n",
              "      border-right-color: var(--fill-color);\n",
              "    }\n",
              "    80% {\n",
              "      border-color: transparent;\n",
              "      border-right-color: var(--fill-color);\n",
              "      border-bottom-color: var(--fill-color);\n",
              "    }\n",
              "    90% {\n",
              "      border-color: transparent;\n",
              "      border-bottom-color: var(--fill-color);\n",
              "    }\n",
              "  }\n",
              "</style>\n",
              "\n",
              "  <script>\n",
              "    async function quickchart(key) {\n",
              "      const quickchartButtonEl =\n",
              "        document.querySelector('#' + key + ' button');\n",
              "      quickchartButtonEl.disabled = true;  // To prevent multiple clicks.\n",
              "      quickchartButtonEl.classList.add('colab-df-spinner');\n",
              "      try {\n",
              "        const charts = await google.colab.kernel.invokeFunction(\n",
              "            'suggestCharts', [key], {});\n",
              "      } catch (error) {\n",
              "        console.error('Error during call to suggestCharts:', error);\n",
              "      }\n",
              "      quickchartButtonEl.classList.remove('colab-df-spinner');\n",
              "      quickchartButtonEl.classList.add('colab-df-quickchart-complete');\n",
              "    }\n",
              "    (() => {\n",
              "      let quickchartButtonEl =\n",
              "        document.querySelector('#df-3a545e0b-efdd-4504-b8e8-926bd0b81cbb button');\n",
              "      quickchartButtonEl.style.display =\n",
              "        google.colab.kernel.accessAllowed ? 'block' : 'none';\n",
              "    })();\n",
              "  </script>\n",
              "</div>\n",
              "    </div>\n",
              "  </div>\n"
            ]
          },
          "metadata": {},
          "execution_count": 21
        }
      ]
    },
    {
      "cell_type": "code",
      "source": [
        "!mv output.json pavcity.ru_output.json"
      ],
      "metadata": {
        "id": "aDPvAT2A2cDW"
      },
      "execution_count": 22,
      "outputs": []
    },
    {
      "cell_type": "markdown",
      "source": [
        "### primavera.moscow"
      ],
      "metadata": {
        "id": "rah04-ZDCK3_"
      }
    },
    {
      "cell_type": "code",
      "source": [
        "# Загрузка токенайзера\n",
        "import gdown\n",
        "url = 'https://drive.google.com/file/d/1-cPqoIlY56nNjeCVFN-j3YO-aTf8NdkS/view?usp=sharing'\n",
        "gdown.download(url, quiet=True, fuzzy=True)"
      ],
      "metadata": {
        "id": "_n2GoB1i-FhX",
        "colab": {
          "base_uri": "https://localhost:8080/",
          "height": 36
        },
        "outputId": "0a61e863-3c03-45ba-8ff0-83f7e6e57724"
      },
      "execution_count": 1,
      "outputs": [
        {
          "output_type": "execute_result",
          "data": {
            "text/plain": [
              "'tokenizer.pkl'"
            ],
            "application/vnd.google.colaboratory.intrinsic+json": {
              "type": "string"
            }
          },
          "metadata": {},
          "execution_count": 1
        }
      ]
    },
    {
      "cell_type": "code",
      "source": [
        "# Загрузка модели нейронной сети\n",
        "url = 'https://drive.google.com/file/d/1-czQCHQMtlxdtdQVTla9LTGCFdVcX3JM/view?usp=sharing'\n",
        "gdown.download(url, quiet=True, fuzzy=True)"
      ],
      "metadata": {
        "id": "MMg-VHgY-K7R",
        "colab": {
          "base_uri": "https://localhost:8080/",
          "height": 36
        },
        "outputId": "06b97c2a-5f6d-4269-9a04-258a0ed54ac4"
      },
      "execution_count": 2,
      "outputs": [
        {
          "output_type": "execute_result",
          "data": {
            "text/plain": [
              "'model_BoW.keras'"
            ],
            "application/vnd.google.colaboratory.intrinsic+json": {
              "type": "string"
            }
          },
          "metadata": {},
          "execution_count": 2
        }
      ]
    },
    {
      "cell_type": "code",
      "source": [
        "# Загрузка информации о звонках\n",
        "import pandas as pd\n",
        "url = 'https://drive.google.com/file/d/1_z2v1tNzn2fJgrpOPjQvNaCuZwX_xaQx/view?usp=drive_link'\n",
        "df = pd.read_csv('https://drive.google.com/uc?id=' + url.split('/')[-2],\n",
        "                 skiprows=4,\n",
        "                 sep=';',\n",
        "                 on_bad_lines='skip')\n",
        "df.shape"
      ],
      "metadata": {
        "id": "LANHFUPLCK4A",
        "colab": {
          "base_uri": "https://localhost:8080/"
        },
        "outputId": "8789b771-c10e-465f-ccde-c86a3c5b6132"
      },
      "execution_count": 3,
      "outputs": [
        {
          "output_type": "execute_result",
          "data": {
            "text/plain": [
              "(3425, 74)"
            ]
          },
          "metadata": {},
          "execution_count": 3
        }
      ]
    },
    {
      "cell_type": "code",
      "source": [
        "# Загрузка записей звонков\n",
        "url = 'https://drive.google.com/drive/folders/185a1TyrQqJn-awPRDhkSt84mrqbbh2YF?usp=drive_link'\n",
        "gdown.download_folder(url, quiet=True, remaining_ok=True)"
      ],
      "metadata": {
        "id": "XV-4_KzoCK4B",
        "colab": {
          "base_uri": "https://localhost:8080/"
        },
        "outputId": "2822eb24-affc-491c-aa37-7bfb5e609379"
      },
      "execution_count": 4,
      "outputs": [
        {
          "output_type": "execute_result",
          "data": {
            "text/plain": [
              "['/content/Записи звонков_primavera/2023-04-07_08-37-12.159811_from_79169245539_to_0197872_session_2861446698_talk.mp3',\n",
              " '/content/Записи звонков_primavera/2023-04-07_09-00-04.708382_from_79687460888_to_0111639_session_2865154265_talk.mp3',\n",
              " '/content/Записи звонков_primavera/2023-04-07_09-28-27.928753_from_74950210291_to_0111639_session_2867801356_talk.mp3',\n",
              " '/content/Записи звонков_primavera/2023-04-07_09-36-01.910854_from_79175728295_to_0197879_session_2864741695_talk.mp3',\n",
              " '/content/Записи звонков_primavera/2023-04-07_09-43-00.262473_from_74950210291_to_0111631_session_2867843688_talk.mp3',\n",
              " '/content/Записи звонков_primavera/2023-04-07_10-17-04.570643_from_79150421943_to_0150111_session_2867948972_talk.mp3',\n",
              " '/content/Записи звонков_primavera/2023-04-07_11-11-00.578033_from_79168630327_to_0197872_session_2861874202_talk.mp3',\n",
              " '/content/Записи звонков_primavera/2023-04-07_11-39-20.205581_from_79168630327_to_0197878_session_2861973030_talk.mp3',\n",
              " '/content/Записи звонков_primavera/2023-04-07_12-51-05.562042_from_79265292224_to_0111642_session_2865503407_talk.mp3',\n",
              " '/content/Записи звонков_primavera/2023-04-07_13-04-35.391727_from_74950210291_to_0150108_session_2868673264_talk.mp3',\n",
              " '/content/Записи звонков_primavera/2023-04-07_13-16-04.805425_from_79017716131_to_0197878_session_2862271810_talk.mp3',\n",
              " '/content/Записи звонков_primavera/2023-04-07_13-25-57.123114_from_74950210291_to_0150108_session_2868746252_talk.mp3',\n",
              " '/content/Записи звонков_primavera/2023-04-07_14-10-36.794693_from_74950210291_to_0111639_session_2868915324_talk.mp3',\n",
              " '/content/Записи звонков_primavera/2023-04-07_14-52-00.113170_from_79278322944_to_0197878_session_2869043896_talk.mp3',\n",
              " '/content/Записи звонков_primavera/2023-04-07_15-06-47.669158_from_79251823056_to_0111642_session_2862592034_talk.mp3',\n",
              " '/content/Записи звонков_primavera/2023-04-07_15-12-18.635946_from_79251823056_to_0111639_session_2862605738_talk.mp3',\n",
              " '/content/Записи звонков_primavera/2023-04-07_15-14-26.286472_from_79035861746_to_0197872_session_2865992215_talk.mp3',\n",
              " '/content/Записи звонков_primavera/2023-04-07_16-05-43.603671_from_79652797279_to_0150108_session_2866661097_talk.mp3',\n",
              " '/content/Записи звонков_primavera/2023-04-07_16-12-36.577531_from_74842540615_to_0150111_session_2866678697_talk.mp3',\n",
              " '/content/Записи звонков_primavera/2023-04-07_16-19-49.683504_from_79032729180_to_0197879_session_2866204003_talk.mp3',\n",
              " '/content/Записи звонков_primavera/2023-04-07_17-56-34.584886_from_79033288548_to_0197879_session_2866973193_talk.mp3',\n",
              " '/content/Записи звонков_primavera/2023-04-07_18-24-51.035785_from_79165050055_to_0111639_session_2863054758_talk.mp3',\n",
              " '/content/Записи звонков_primavera/2023-04-07_18-25-46.218872_from_79165050055_to_0111639_session_2867030845_talk.mp3',\n",
              " '/content/Записи звонков_primavera/2023-04-08_09-59-04.752058_from_79917881682_to_0197872_session_2866975791_talk.mp3',\n",
              " '/content/Записи звонков_primavera/2023-04-08_10-03-59.428379_from_79104136845_to_0111639_session_2867508373_talk.mp3',\n",
              " '/content/Записи звонков_primavera/2023-04-08_11-58-49.920677_from_79022897012_to_0111631_session_2867714477_talk.mp3',\n",
              " '/content/Записи звонков_primavera/2023-04-08_12-04-56.068231_from_79999291973_to_0150108_session_2867721581_talk.mp3',\n",
              " '/content/Записи звонков_primavera/2023-04-08_12-09-23.151390_from_79039688199_to_0111642_session_2863702930_talk.mp3',\n",
              " '/content/Записи звонков_primavera/2023-04-08_12-11-54.830390_from_79165956869_to_0197872_session_2867214243_talk.mp3',\n",
              " '/content/Записи звонков_primavera/2023-04-08_12-38-20.816535_from_79771397095_to_0111639_session_2867264995_talk.mp3',\n",
              " '/content/Записи звонков_primavera/2023-04-08_13-03-17.904505_from_79290270757_to_0150108_session_2867310623_talk.mp3',\n",
              " '/content/Записи звонков_primavera/2023-04-08_15-01-22.436993_from_420212282913_to_0111639_session_2863966934_talk.mp3',\n",
              " '/content/Записи звонков_primavera/2023-04-08_18-47-53.279953_from_79675554979_to_0197872_session_2871099180_talk.mp3',\n",
              " '/content/Записи звонков_primavera/2023-04-08_18-48-17.208377_from_79675554979_to_0197872_session_2867820695_talk.mp3',\n",
              " '/content/Записи звонков_primavera/2023-04-08_18-55-12.720717_from_79061934295_to_0111639_session_2871104648_talk.mp3',\n",
              " '/content/Записи звонков_primavera/2023-04-09_11-14-57.304723_from_74950210291_to_0197877_session_2871634600_talk.mp3',\n",
              " '/content/Записи звонков_primavera/2023-04-09_11-23-06.783222_from_79259294806_to_0150113_session_2864677594_talk.mp3',\n",
              " '/content/Записи звонков_primavera/2023-04-09_12-36-16.667809_from_79153481280_to_0197877_session_2868416035_talk.mp3',\n",
              " '/content/Записи звонков_primavera/2023-04-09_13-00-34.243636_from_79030019720_to_0111652_session_2864809282_talk.mp3',\n",
              " '/content/Записи звонков_primavera/2023-04-09_13-23-15.901359_from_79671795235_to_0150113_session_2868990557_talk.mp3',\n",
              " '/content/Записи звонков_primavera/2023-04-09_13-44-31.486472_from_79852763432_to_0197872_session_2871850172_talk.mp3',\n",
              " '/content/Записи звонков_primavera/2023-04-09_15-19-28.128262_from_79268827002_to_0197872_session_2869145377_talk.mp3',\n",
              " '/content/Записи звонков_primavera/2023-04-09_15-51-24.731868_from_79259992408_to_0111652_session_2865015974_talk.mp3',\n",
              " '/content/Записи звонков_primavera/2023-04-09_16-12-41.184328_from_79675622871_to_0197872_session_2869222273_talk.mp3',\n",
              " '/content/Записи звонков_primavera/2023-04-09_16-40-10.513635_from_79265960289_to_0150113_session_2872111512_talk.mp3',\n",
              " '/content/Записи звонков_primavera/2023-04-09_17-11-34.316265_from_79099660003_to_0111642_session_2868794503_talk.mp3',\n",
              " '/content/Записи звонков_primavera/2023-04-09_17-17-38.017021_from_79162948022_to_0173695_session_2865105950_talk.mp3',\n",
              " '/content/Записи звонков_primavera/2023-04-09_17-30-35.871150_from_79671795235_to_0150113_session_2869317077_talk.mp3',\n",
              " '/content/Записи звонков_primavera/2023-04-09_17-33-54.186273_from_74954322480_to_0197872_session_2872204368_talk.mp3',\n",
              " '/content/Записи звонков_primavera/2023-04-09_18-41-32.681544_from_79039686861_to_0197872_session_2868887767_talk.mp3']"
            ]
          },
          "metadata": {},
          "execution_count": 4
        }
      ]
    },
    {
      "cell_type": "code",
      "source": [
        "# Добавление в датафрейм с информацией о звонках столбцов 'Файл записи звонка' и 'Проект', а также добавление отсутствующей информации о звонках из имени файла\n",
        "import os\n",
        "from datetime import datetime\n",
        "df = df.astype({'Идентификатор сессии звонка': int})\n",
        "for sample_file in os.listdir('Записи звонков_primavera'):\n",
        "  if df['Идентификатор сессии звонка'][df['Идентификатор сессии звонка'] == int(sample_file.split('_')[-2])].count():\n",
        "    df.loc[df[df['Идентификатор сессии звонка'] == int(sample_file.split('_')[-2])].index, 'Файл записи звонка'] = 'Записи звонков_primavera/' + sample_file\n",
        "    df.loc[df[df['Идентификатор сессии звонка'] == int(sample_file.split('_')[-2])].index, 'Проект'] = 'primavera.moscow'\n",
        "  else:\n",
        "    df.loc[len(df.index), ['Дата и время',\n",
        "                           'Номер абонента',\n",
        "                           'Номер сотрудника',\n",
        "                           'Идентификатор сессии звонка',\n",
        "                           'Файл записи звонка',\n",
        "                           'Проект']] = [datetime.strptime(sample_file.split('_')[-9] + ' ' + sample_file.split('_')[-8], '%Y-%m-%d %H-%M-%S.%f'),\n",
        "                                         int(sample_file.split('_')[-6]),\n",
        "                                         int(sample_file.split('_')[-4]),\n",
        "                                         int(sample_file.split('_')[-2]),\n",
        "                                         'Записи звонков_primavera/' + sample_file,\n",
        "                                         'primavera.moscow']\n",
        "df['Дата и время'] = pd.to_datetime(df['Дата и время'])\n",
        "df['Номер абонента'] = df['Номер абонента'].astype('int')\n",
        "df['Номер сотрудника'] = df['Номер сотрудника'].fillna(0)\n",
        "df['Номер сотрудника'] = df['Номер сотрудника'].astype('int')\n",
        "df['Идентификатор сессии звонка'] = df['Идентификатор сессии звонка'].astype('int')\n",
        "df['Тип посетителя'] = df['Тип посетителя'].astype('str')"
      ],
      "metadata": {
        "id": "O_Lf41o7CK4B"
      },
      "execution_count": 5,
      "outputs": []
    },
    {
      "cell_type": "code",
      "source": [
        "df.loc[df[df['Проект'] == 'primavera.moscow'].index, ['Дата и время',\n",
        "                                                      'Номер абонента',\n",
        "                                                      'Номер сотрудника',\n",
        "                                                      'Идентификатор сессии звонка',\n",
        "                                                      'Файл записи звонка',\n",
        "                                                      'Проект']].head()"
      ],
      "metadata": {
        "id": "2zZFwb3VCK4C",
        "colab": {
          "base_uri": "https://localhost:8080/",
          "height": 206
        },
        "outputId": "4f0eef5c-1463-46e9-ec81-6b4c5d47cb1f"
      },
      "execution_count": 6,
      "outputs": [
        {
          "output_type": "execute_result",
          "data": {
            "text/plain": [
              "                   Дата и время  Номер абонента  Номер сотрудника  \\\n",
              "3425 2023-04-07 13:16:04.805425     79017716131            197878   \n",
              "3426 2023-04-09 11:23:06.783222     79259294806            150113   \n",
              "3427 2023-04-09 15:19:28.128262     79268827002            197872   \n",
              "3428 2023-04-09 11:14:57.304723     74950210291            197877   \n",
              "3429 2023-04-08 12:38:20.816535     79771397095            111639   \n",
              "\n",
              "      Идентификатор сессии звонка  \\\n",
              "3425                   2862271810   \n",
              "3426                   2864677594   \n",
              "3427                   2869145377   \n",
              "3428                   2871634600   \n",
              "3429                   2867264995   \n",
              "\n",
              "                                     Файл записи звонка            Проект  \n",
              "3425  Записи звонков_primavera/2023-04-07_13-16-04.8...  primavera.moscow  \n",
              "3426  Записи звонков_primavera/2023-04-09_11-23-06.7...  primavera.moscow  \n",
              "3427  Записи звонков_primavera/2023-04-09_15-19-28.1...  primavera.moscow  \n",
              "3428  Записи звонков_primavera/2023-04-09_11-14-57.3...  primavera.moscow  \n",
              "3429  Записи звонков_primavera/2023-04-08_12-38-20.8...  primavera.moscow  "
            ],
            "text/html": [
              "\n",
              "  <div id=\"df-68ebb091-3263-43b3-9b96-e7ee7659365e\" class=\"colab-df-container\">\n",
              "    <div>\n",
              "<style scoped>\n",
              "    .dataframe tbody tr th:only-of-type {\n",
              "        vertical-align: middle;\n",
              "    }\n",
              "\n",
              "    .dataframe tbody tr th {\n",
              "        vertical-align: top;\n",
              "    }\n",
              "\n",
              "    .dataframe thead th {\n",
              "        text-align: right;\n",
              "    }\n",
              "</style>\n",
              "<table border=\"1\" class=\"dataframe\">\n",
              "  <thead>\n",
              "    <tr style=\"text-align: right;\">\n",
              "      <th></th>\n",
              "      <th>Дата и время</th>\n",
              "      <th>Номер абонента</th>\n",
              "      <th>Номер сотрудника</th>\n",
              "      <th>Идентификатор сессии звонка</th>\n",
              "      <th>Файл записи звонка</th>\n",
              "      <th>Проект</th>\n",
              "    </tr>\n",
              "  </thead>\n",
              "  <tbody>\n",
              "    <tr>\n",
              "      <th>3425</th>\n",
              "      <td>2023-04-07 13:16:04.805425</td>\n",
              "      <td>79017716131</td>\n",
              "      <td>197878</td>\n",
              "      <td>2862271810</td>\n",
              "      <td>Записи звонков_primavera/2023-04-07_13-16-04.8...</td>\n",
              "      <td>primavera.moscow</td>\n",
              "    </tr>\n",
              "    <tr>\n",
              "      <th>3426</th>\n",
              "      <td>2023-04-09 11:23:06.783222</td>\n",
              "      <td>79259294806</td>\n",
              "      <td>150113</td>\n",
              "      <td>2864677594</td>\n",
              "      <td>Записи звонков_primavera/2023-04-09_11-23-06.7...</td>\n",
              "      <td>primavera.moscow</td>\n",
              "    </tr>\n",
              "    <tr>\n",
              "      <th>3427</th>\n",
              "      <td>2023-04-09 15:19:28.128262</td>\n",
              "      <td>79268827002</td>\n",
              "      <td>197872</td>\n",
              "      <td>2869145377</td>\n",
              "      <td>Записи звонков_primavera/2023-04-09_15-19-28.1...</td>\n",
              "      <td>primavera.moscow</td>\n",
              "    </tr>\n",
              "    <tr>\n",
              "      <th>3428</th>\n",
              "      <td>2023-04-09 11:14:57.304723</td>\n",
              "      <td>74950210291</td>\n",
              "      <td>197877</td>\n",
              "      <td>2871634600</td>\n",
              "      <td>Записи звонков_primavera/2023-04-09_11-14-57.3...</td>\n",
              "      <td>primavera.moscow</td>\n",
              "    </tr>\n",
              "    <tr>\n",
              "      <th>3429</th>\n",
              "      <td>2023-04-08 12:38:20.816535</td>\n",
              "      <td>79771397095</td>\n",
              "      <td>111639</td>\n",
              "      <td>2867264995</td>\n",
              "      <td>Записи звонков_primavera/2023-04-08_12-38-20.8...</td>\n",
              "      <td>primavera.moscow</td>\n",
              "    </tr>\n",
              "  </tbody>\n",
              "</table>\n",
              "</div>\n",
              "    <div class=\"colab-df-buttons\">\n",
              "\n",
              "  <div class=\"colab-df-container\">\n",
              "    <button class=\"colab-df-convert\" onclick=\"convertToInteractive('df-68ebb091-3263-43b3-9b96-e7ee7659365e')\"\n",
              "            title=\"Convert this dataframe to an interactive table.\"\n",
              "            style=\"display:none;\">\n",
              "\n",
              "  <svg xmlns=\"http://www.w3.org/2000/svg\" height=\"24px\" viewBox=\"0 -960 960 960\">\n",
              "    <path d=\"M120-120v-720h720v720H120Zm60-500h600v-160H180v160Zm220 220h160v-160H400v160Zm0 220h160v-160H400v160ZM180-400h160v-160H180v160Zm440 0h160v-160H620v160ZM180-180h160v-160H180v160Zm440 0h160v-160H620v160Z\"/>\n",
              "  </svg>\n",
              "    </button>\n",
              "\n",
              "  <style>\n",
              "    .colab-df-container {\n",
              "      display:flex;\n",
              "      gap: 12px;\n",
              "    }\n",
              "\n",
              "    .colab-df-convert {\n",
              "      background-color: #E8F0FE;\n",
              "      border: none;\n",
              "      border-radius: 50%;\n",
              "      cursor: pointer;\n",
              "      display: none;\n",
              "      fill: #1967D2;\n",
              "      height: 32px;\n",
              "      padding: 0 0 0 0;\n",
              "      width: 32px;\n",
              "    }\n",
              "\n",
              "    .colab-df-convert:hover {\n",
              "      background-color: #E2EBFA;\n",
              "      box-shadow: 0px 1px 2px rgba(60, 64, 67, 0.3), 0px 1px 3px 1px rgba(60, 64, 67, 0.15);\n",
              "      fill: #174EA6;\n",
              "    }\n",
              "\n",
              "    .colab-df-buttons div {\n",
              "      margin-bottom: 4px;\n",
              "    }\n",
              "\n",
              "    [theme=dark] .colab-df-convert {\n",
              "      background-color: #3B4455;\n",
              "      fill: #D2E3FC;\n",
              "    }\n",
              "\n",
              "    [theme=dark] .colab-df-convert:hover {\n",
              "      background-color: #434B5C;\n",
              "      box-shadow: 0px 1px 3px 1px rgba(0, 0, 0, 0.15);\n",
              "      filter: drop-shadow(0px 1px 2px rgba(0, 0, 0, 0.3));\n",
              "      fill: #FFFFFF;\n",
              "    }\n",
              "  </style>\n",
              "\n",
              "    <script>\n",
              "      const buttonEl =\n",
              "        document.querySelector('#df-68ebb091-3263-43b3-9b96-e7ee7659365e button.colab-df-convert');\n",
              "      buttonEl.style.display =\n",
              "        google.colab.kernel.accessAllowed ? 'block' : 'none';\n",
              "\n",
              "      async function convertToInteractive(key) {\n",
              "        const element = document.querySelector('#df-68ebb091-3263-43b3-9b96-e7ee7659365e');\n",
              "        const dataTable =\n",
              "          await google.colab.kernel.invokeFunction('convertToInteractive',\n",
              "                                                    [key], {});\n",
              "        if (!dataTable) return;\n",
              "\n",
              "        const docLinkHtml = 'Like what you see? Visit the ' +\n",
              "          '<a target=\"_blank\" href=https://colab.research.google.com/notebooks/data_table.ipynb>data table notebook</a>'\n",
              "          + ' to learn more about interactive tables.';\n",
              "        element.innerHTML = '';\n",
              "        dataTable['output_type'] = 'display_data';\n",
              "        await google.colab.output.renderOutput(dataTable, element);\n",
              "        const docLink = document.createElement('div');\n",
              "        docLink.innerHTML = docLinkHtml;\n",
              "        element.appendChild(docLink);\n",
              "      }\n",
              "    </script>\n",
              "  </div>\n",
              "\n",
              "\n",
              "<div id=\"df-78e57ad4-ddc0-4a42-8fce-8ef5fa1d4a63\">\n",
              "  <button class=\"colab-df-quickchart\" onclick=\"quickchart('df-78e57ad4-ddc0-4a42-8fce-8ef5fa1d4a63')\"\n",
              "            title=\"Suggest charts\"\n",
              "            style=\"display:none;\">\n",
              "\n",
              "<svg xmlns=\"http://www.w3.org/2000/svg\" height=\"24px\"viewBox=\"0 0 24 24\"\n",
              "     width=\"24px\">\n",
              "    <g>\n",
              "        <path d=\"M19 3H5c-1.1 0-2 .9-2 2v14c0 1.1.9 2 2 2h14c1.1 0 2-.9 2-2V5c0-1.1-.9-2-2-2zM9 17H7v-7h2v7zm4 0h-2V7h2v10zm4 0h-2v-4h2v4z\"/>\n",
              "    </g>\n",
              "</svg>\n",
              "  </button>\n",
              "\n",
              "<style>\n",
              "  .colab-df-quickchart {\n",
              "      --bg-color: #E8F0FE;\n",
              "      --fill-color: #1967D2;\n",
              "      --hover-bg-color: #E2EBFA;\n",
              "      --hover-fill-color: #174EA6;\n",
              "      --disabled-fill-color: #AAA;\n",
              "      --disabled-bg-color: #DDD;\n",
              "  }\n",
              "\n",
              "  [theme=dark] .colab-df-quickchart {\n",
              "      --bg-color: #3B4455;\n",
              "      --fill-color: #D2E3FC;\n",
              "      --hover-bg-color: #434B5C;\n",
              "      --hover-fill-color: #FFFFFF;\n",
              "      --disabled-bg-color: #3B4455;\n",
              "      --disabled-fill-color: #666;\n",
              "  }\n",
              "\n",
              "  .colab-df-quickchart {\n",
              "    background-color: var(--bg-color);\n",
              "    border: none;\n",
              "    border-radius: 50%;\n",
              "    cursor: pointer;\n",
              "    display: none;\n",
              "    fill: var(--fill-color);\n",
              "    height: 32px;\n",
              "    padding: 0;\n",
              "    width: 32px;\n",
              "  }\n",
              "\n",
              "  .colab-df-quickchart:hover {\n",
              "    background-color: var(--hover-bg-color);\n",
              "    box-shadow: 0 1px 2px rgba(60, 64, 67, 0.3), 0 1px 3px 1px rgba(60, 64, 67, 0.15);\n",
              "    fill: var(--button-hover-fill-color);\n",
              "  }\n",
              "\n",
              "  .colab-df-quickchart-complete:disabled,\n",
              "  .colab-df-quickchart-complete:disabled:hover {\n",
              "    background-color: var(--disabled-bg-color);\n",
              "    fill: var(--disabled-fill-color);\n",
              "    box-shadow: none;\n",
              "  }\n",
              "\n",
              "  .colab-df-spinner {\n",
              "    border: 2px solid var(--fill-color);\n",
              "    border-color: transparent;\n",
              "    border-bottom-color: var(--fill-color);\n",
              "    animation:\n",
              "      spin 1s steps(1) infinite;\n",
              "  }\n",
              "\n",
              "  @keyframes spin {\n",
              "    0% {\n",
              "      border-color: transparent;\n",
              "      border-bottom-color: var(--fill-color);\n",
              "      border-left-color: var(--fill-color);\n",
              "    }\n",
              "    20% {\n",
              "      border-color: transparent;\n",
              "      border-left-color: var(--fill-color);\n",
              "      border-top-color: var(--fill-color);\n",
              "    }\n",
              "    30% {\n",
              "      border-color: transparent;\n",
              "      border-left-color: var(--fill-color);\n",
              "      border-top-color: var(--fill-color);\n",
              "      border-right-color: var(--fill-color);\n",
              "    }\n",
              "    40% {\n",
              "      border-color: transparent;\n",
              "      border-right-color: var(--fill-color);\n",
              "      border-top-color: var(--fill-color);\n",
              "    }\n",
              "    60% {\n",
              "      border-color: transparent;\n",
              "      border-right-color: var(--fill-color);\n",
              "    }\n",
              "    80% {\n",
              "      border-color: transparent;\n",
              "      border-right-color: var(--fill-color);\n",
              "      border-bottom-color: var(--fill-color);\n",
              "    }\n",
              "    90% {\n",
              "      border-color: transparent;\n",
              "      border-bottom-color: var(--fill-color);\n",
              "    }\n",
              "  }\n",
              "</style>\n",
              "\n",
              "  <script>\n",
              "    async function quickchart(key) {\n",
              "      const quickchartButtonEl =\n",
              "        document.querySelector('#' + key + ' button');\n",
              "      quickchartButtonEl.disabled = true;  // To prevent multiple clicks.\n",
              "      quickchartButtonEl.classList.add('colab-df-spinner');\n",
              "      try {\n",
              "        const charts = await google.colab.kernel.invokeFunction(\n",
              "            'suggestCharts', [key], {});\n",
              "      } catch (error) {\n",
              "        console.error('Error during call to suggestCharts:', error);\n",
              "      }\n",
              "      quickchartButtonEl.classList.remove('colab-df-spinner');\n",
              "      quickchartButtonEl.classList.add('colab-df-quickchart-complete');\n",
              "    }\n",
              "    (() => {\n",
              "      let quickchartButtonEl =\n",
              "        document.querySelector('#df-78e57ad4-ddc0-4a42-8fce-8ef5fa1d4a63 button');\n",
              "      quickchartButtonEl.style.display =\n",
              "        google.colab.kernel.accessAllowed ? 'block' : 'none';\n",
              "    })();\n",
              "  </script>\n",
              "</div>\n",
              "    </div>\n",
              "  </div>\n"
            ]
          },
          "metadata": {},
          "execution_count": 6
        }
      ]
    },
    {
      "cell_type": "code",
      "source": [
        "# Выбор столбцов, необходимых для инференса модели нейронной сети и оценки\n",
        "df = df[['Идентификатор сессии звонка',\n",
        "         'Файл записи звонка',\n",
        "         'Проект',\n",
        "         'Теги']][df['Проект'] == 'primavera.moscow']\n",
        "df.shape"
      ],
      "metadata": {
        "id": "7AypGd1R-gAS",
        "colab": {
          "base_uri": "https://localhost:8080/"
        },
        "outputId": "526e03c1-729e-4ad5-c5d0-cf662d08a1a1"
      },
      "execution_count": 7,
      "outputs": [
        {
          "output_type": "execute_result",
          "data": {
            "text/plain": [
              "(50, 4)"
            ]
          },
          "metadata": {},
          "execution_count": 7
        }
      ]
    },
    {
      "cell_type": "code",
      "source": [
        "df.head()"
      ],
      "metadata": {
        "id": "oEtgzIgn-0hD",
        "colab": {
          "base_uri": "https://localhost:8080/",
          "height": 206
        },
        "outputId": "37e95b41-a232-4676-c44c-90d06cfe5228"
      },
      "execution_count": 8,
      "outputs": [
        {
          "output_type": "execute_result",
          "data": {
            "text/plain": [
              "      Идентификатор сессии звонка  \\\n",
              "3425                   2862271810   \n",
              "3426                   2864677594   \n",
              "3427                   2869145377   \n",
              "3428                   2871634600   \n",
              "3429                   2867264995   \n",
              "\n",
              "                                     Файл записи звонка            Проект Теги  \n",
              "3425  Записи звонков_primavera/2023-04-07_13-16-04.8...  primavera.moscow  NaN  \n",
              "3426  Записи звонков_primavera/2023-04-09_11-23-06.7...  primavera.moscow  NaN  \n",
              "3427  Записи звонков_primavera/2023-04-09_15-19-28.1...  primavera.moscow  NaN  \n",
              "3428  Записи звонков_primavera/2023-04-09_11-14-57.3...  primavera.moscow  NaN  \n",
              "3429  Записи звонков_primavera/2023-04-08_12-38-20.8...  primavera.moscow  NaN  "
            ],
            "text/html": [
              "\n",
              "  <div id=\"df-32f70e78-02ec-43ae-b412-2f92168d57b9\" class=\"colab-df-container\">\n",
              "    <div>\n",
              "<style scoped>\n",
              "    .dataframe tbody tr th:only-of-type {\n",
              "        vertical-align: middle;\n",
              "    }\n",
              "\n",
              "    .dataframe tbody tr th {\n",
              "        vertical-align: top;\n",
              "    }\n",
              "\n",
              "    .dataframe thead th {\n",
              "        text-align: right;\n",
              "    }\n",
              "</style>\n",
              "<table border=\"1\" class=\"dataframe\">\n",
              "  <thead>\n",
              "    <tr style=\"text-align: right;\">\n",
              "      <th></th>\n",
              "      <th>Идентификатор сессии звонка</th>\n",
              "      <th>Файл записи звонка</th>\n",
              "      <th>Проект</th>\n",
              "      <th>Теги</th>\n",
              "    </tr>\n",
              "  </thead>\n",
              "  <tbody>\n",
              "    <tr>\n",
              "      <th>3425</th>\n",
              "      <td>2862271810</td>\n",
              "      <td>Записи звонков_primavera/2023-04-07_13-16-04.8...</td>\n",
              "      <td>primavera.moscow</td>\n",
              "      <td>NaN</td>\n",
              "    </tr>\n",
              "    <tr>\n",
              "      <th>3426</th>\n",
              "      <td>2864677594</td>\n",
              "      <td>Записи звонков_primavera/2023-04-09_11-23-06.7...</td>\n",
              "      <td>primavera.moscow</td>\n",
              "      <td>NaN</td>\n",
              "    </tr>\n",
              "    <tr>\n",
              "      <th>3427</th>\n",
              "      <td>2869145377</td>\n",
              "      <td>Записи звонков_primavera/2023-04-09_15-19-28.1...</td>\n",
              "      <td>primavera.moscow</td>\n",
              "      <td>NaN</td>\n",
              "    </tr>\n",
              "    <tr>\n",
              "      <th>3428</th>\n",
              "      <td>2871634600</td>\n",
              "      <td>Записи звонков_primavera/2023-04-09_11-14-57.3...</td>\n",
              "      <td>primavera.moscow</td>\n",
              "      <td>NaN</td>\n",
              "    </tr>\n",
              "    <tr>\n",
              "      <th>3429</th>\n",
              "      <td>2867264995</td>\n",
              "      <td>Записи звонков_primavera/2023-04-08_12-38-20.8...</td>\n",
              "      <td>primavera.moscow</td>\n",
              "      <td>NaN</td>\n",
              "    </tr>\n",
              "  </tbody>\n",
              "</table>\n",
              "</div>\n",
              "    <div class=\"colab-df-buttons\">\n",
              "\n",
              "  <div class=\"colab-df-container\">\n",
              "    <button class=\"colab-df-convert\" onclick=\"convertToInteractive('df-32f70e78-02ec-43ae-b412-2f92168d57b9')\"\n",
              "            title=\"Convert this dataframe to an interactive table.\"\n",
              "            style=\"display:none;\">\n",
              "\n",
              "  <svg xmlns=\"http://www.w3.org/2000/svg\" height=\"24px\" viewBox=\"0 -960 960 960\">\n",
              "    <path d=\"M120-120v-720h720v720H120Zm60-500h600v-160H180v160Zm220 220h160v-160H400v160Zm0 220h160v-160H400v160ZM180-400h160v-160H180v160Zm440 0h160v-160H620v160ZM180-180h160v-160H180v160Zm440 0h160v-160H620v160Z\"/>\n",
              "  </svg>\n",
              "    </button>\n",
              "\n",
              "  <style>\n",
              "    .colab-df-container {\n",
              "      display:flex;\n",
              "      gap: 12px;\n",
              "    }\n",
              "\n",
              "    .colab-df-convert {\n",
              "      background-color: #E8F0FE;\n",
              "      border: none;\n",
              "      border-radius: 50%;\n",
              "      cursor: pointer;\n",
              "      display: none;\n",
              "      fill: #1967D2;\n",
              "      height: 32px;\n",
              "      padding: 0 0 0 0;\n",
              "      width: 32px;\n",
              "    }\n",
              "\n",
              "    .colab-df-convert:hover {\n",
              "      background-color: #E2EBFA;\n",
              "      box-shadow: 0px 1px 2px rgba(60, 64, 67, 0.3), 0px 1px 3px 1px rgba(60, 64, 67, 0.15);\n",
              "      fill: #174EA6;\n",
              "    }\n",
              "\n",
              "    .colab-df-buttons div {\n",
              "      margin-bottom: 4px;\n",
              "    }\n",
              "\n",
              "    [theme=dark] .colab-df-convert {\n",
              "      background-color: #3B4455;\n",
              "      fill: #D2E3FC;\n",
              "    }\n",
              "\n",
              "    [theme=dark] .colab-df-convert:hover {\n",
              "      background-color: #434B5C;\n",
              "      box-shadow: 0px 1px 3px 1px rgba(0, 0, 0, 0.15);\n",
              "      filter: drop-shadow(0px 1px 2px rgba(0, 0, 0, 0.3));\n",
              "      fill: #FFFFFF;\n",
              "    }\n",
              "  </style>\n",
              "\n",
              "    <script>\n",
              "      const buttonEl =\n",
              "        document.querySelector('#df-32f70e78-02ec-43ae-b412-2f92168d57b9 button.colab-df-convert');\n",
              "      buttonEl.style.display =\n",
              "        google.colab.kernel.accessAllowed ? 'block' : 'none';\n",
              "\n",
              "      async function convertToInteractive(key) {\n",
              "        const element = document.querySelector('#df-32f70e78-02ec-43ae-b412-2f92168d57b9');\n",
              "        const dataTable =\n",
              "          await google.colab.kernel.invokeFunction('convertToInteractive',\n",
              "                                                    [key], {});\n",
              "        if (!dataTable) return;\n",
              "\n",
              "        const docLinkHtml = 'Like what you see? Visit the ' +\n",
              "          '<a target=\"_blank\" href=https://colab.research.google.com/notebooks/data_table.ipynb>data table notebook</a>'\n",
              "          + ' to learn more about interactive tables.';\n",
              "        element.innerHTML = '';\n",
              "        dataTable['output_type'] = 'display_data';\n",
              "        await google.colab.output.renderOutput(dataTable, element);\n",
              "        const docLink = document.createElement('div');\n",
              "        docLink.innerHTML = docLinkHtml;\n",
              "        element.appendChild(docLink);\n",
              "      }\n",
              "    </script>\n",
              "  </div>\n",
              "\n",
              "\n",
              "<div id=\"df-28806435-d32f-4c05-a464-6976f9294239\">\n",
              "  <button class=\"colab-df-quickchart\" onclick=\"quickchart('df-28806435-d32f-4c05-a464-6976f9294239')\"\n",
              "            title=\"Suggest charts\"\n",
              "            style=\"display:none;\">\n",
              "\n",
              "<svg xmlns=\"http://www.w3.org/2000/svg\" height=\"24px\"viewBox=\"0 0 24 24\"\n",
              "     width=\"24px\">\n",
              "    <g>\n",
              "        <path d=\"M19 3H5c-1.1 0-2 .9-2 2v14c0 1.1.9 2 2 2h14c1.1 0 2-.9 2-2V5c0-1.1-.9-2-2-2zM9 17H7v-7h2v7zm4 0h-2V7h2v10zm4 0h-2v-4h2v4z\"/>\n",
              "    </g>\n",
              "</svg>\n",
              "  </button>\n",
              "\n",
              "<style>\n",
              "  .colab-df-quickchart {\n",
              "      --bg-color: #E8F0FE;\n",
              "      --fill-color: #1967D2;\n",
              "      --hover-bg-color: #E2EBFA;\n",
              "      --hover-fill-color: #174EA6;\n",
              "      --disabled-fill-color: #AAA;\n",
              "      --disabled-bg-color: #DDD;\n",
              "  }\n",
              "\n",
              "  [theme=dark] .colab-df-quickchart {\n",
              "      --bg-color: #3B4455;\n",
              "      --fill-color: #D2E3FC;\n",
              "      --hover-bg-color: #434B5C;\n",
              "      --hover-fill-color: #FFFFFF;\n",
              "      --disabled-bg-color: #3B4455;\n",
              "      --disabled-fill-color: #666;\n",
              "  }\n",
              "\n",
              "  .colab-df-quickchart {\n",
              "    background-color: var(--bg-color);\n",
              "    border: none;\n",
              "    border-radius: 50%;\n",
              "    cursor: pointer;\n",
              "    display: none;\n",
              "    fill: var(--fill-color);\n",
              "    height: 32px;\n",
              "    padding: 0;\n",
              "    width: 32px;\n",
              "  }\n",
              "\n",
              "  .colab-df-quickchart:hover {\n",
              "    background-color: var(--hover-bg-color);\n",
              "    box-shadow: 0 1px 2px rgba(60, 64, 67, 0.3), 0 1px 3px 1px rgba(60, 64, 67, 0.15);\n",
              "    fill: var(--button-hover-fill-color);\n",
              "  }\n",
              "\n",
              "  .colab-df-quickchart-complete:disabled,\n",
              "  .colab-df-quickchart-complete:disabled:hover {\n",
              "    background-color: var(--disabled-bg-color);\n",
              "    fill: var(--disabled-fill-color);\n",
              "    box-shadow: none;\n",
              "  }\n",
              "\n",
              "  .colab-df-spinner {\n",
              "    border: 2px solid var(--fill-color);\n",
              "    border-color: transparent;\n",
              "    border-bottom-color: var(--fill-color);\n",
              "    animation:\n",
              "      spin 1s steps(1) infinite;\n",
              "  }\n",
              "\n",
              "  @keyframes spin {\n",
              "    0% {\n",
              "      border-color: transparent;\n",
              "      border-bottom-color: var(--fill-color);\n",
              "      border-left-color: var(--fill-color);\n",
              "    }\n",
              "    20% {\n",
              "      border-color: transparent;\n",
              "      border-left-color: var(--fill-color);\n",
              "      border-top-color: var(--fill-color);\n",
              "    }\n",
              "    30% {\n",
              "      border-color: transparent;\n",
              "      border-left-color: var(--fill-color);\n",
              "      border-top-color: var(--fill-color);\n",
              "      border-right-color: var(--fill-color);\n",
              "    }\n",
              "    40% {\n",
              "      border-color: transparent;\n",
              "      border-right-color: var(--fill-color);\n",
              "      border-top-color: var(--fill-color);\n",
              "    }\n",
              "    60% {\n",
              "      border-color: transparent;\n",
              "      border-right-color: var(--fill-color);\n",
              "    }\n",
              "    80% {\n",
              "      border-color: transparent;\n",
              "      border-right-color: var(--fill-color);\n",
              "      border-bottom-color: var(--fill-color);\n",
              "    }\n",
              "    90% {\n",
              "      border-color: transparent;\n",
              "      border-bottom-color: var(--fill-color);\n",
              "    }\n",
              "  }\n",
              "</style>\n",
              "\n",
              "  <script>\n",
              "    async function quickchart(key) {\n",
              "      const quickchartButtonEl =\n",
              "        document.querySelector('#' + key + ' button');\n",
              "      quickchartButtonEl.disabled = true;  // To prevent multiple clicks.\n",
              "      quickchartButtonEl.classList.add('colab-df-spinner');\n",
              "      try {\n",
              "        const charts = await google.colab.kernel.invokeFunction(\n",
              "            'suggestCharts', [key], {});\n",
              "      } catch (error) {\n",
              "        console.error('Error during call to suggestCharts:', error);\n",
              "      }\n",
              "      quickchartButtonEl.classList.remove('colab-df-spinner');\n",
              "      quickchartButtonEl.classList.add('colab-df-quickchart-complete');\n",
              "    }\n",
              "    (() => {\n",
              "      let quickchartButtonEl =\n",
              "        document.querySelector('#df-28806435-d32f-4c05-a464-6976f9294239 button');\n",
              "      quickchartButtonEl.style.display =\n",
              "        google.colab.kernel.accessAllowed ? 'block' : 'none';\n",
              "    })();\n",
              "  </script>\n",
              "</div>\n",
              "    </div>\n",
              "  </div>\n"
            ]
          },
          "metadata": {},
          "execution_count": 8
        }
      ]
    },
    {
      "cell_type": "code",
      "source": [
        "# Сохранение в json\n",
        "df.to_json('input.json', orient='records', force_ascii=False)"
      ],
      "metadata": {
        "id": "OOG6JJLjCK4D"
      },
      "execution_count": 9,
      "outputs": []
    },
    {
      "cell_type": "code",
      "source": [
        "# Установка cohere, openai и tiktoken\n",
        "!pip -q install cohere openai==1.2.3 tiktoken==0.5.1"
      ],
      "metadata": {
        "id": "bnK8pvJp-56F",
        "colab": {
          "base_uri": "https://localhost:8080/"
        },
        "outputId": "72a78bb2-9bca-4978-c393-d8f003676553"
      },
      "execution_count": 10,
      "outputs": [
        {
          "output_type": "stream",
          "name": "stdout",
          "text": [
            "\u001b[2K     \u001b[90m━━━━━━━━━━━━━━━━━━━━━━━━━━━━━━━━━━━━━━━━\u001b[0m \u001b[32m51.7/51.7 kB\u001b[0m \u001b[31m959.0 kB/s\u001b[0m eta \u001b[36m0:00:00\u001b[0m\n",
            "\u001b[2K     \u001b[90m━━━━━━━━━━━━━━━━━━━━━━━━━━━━━━━━━━━━━━━━\u001b[0m \u001b[32m220.3/220.3 kB\u001b[0m \u001b[31m5.0 MB/s\u001b[0m eta \u001b[36m0:00:00\u001b[0m\n",
            "\u001b[2K     \u001b[90m━━━━━━━━━━━━━━━━━━━━━━━━━━━━━━━━━━━━━━━━\u001b[0m \u001b[32m2.0/2.0 MB\u001b[0m \u001b[31m62.6 MB/s\u001b[0m eta \u001b[36m0:00:00\u001b[0m\n",
            "\u001b[2K     \u001b[90m━━━━━━━━━━━━━━━━━━━━━━━━━━━━━━━━━━━━━━━━\u001b[0m \u001b[32m75.9/75.9 kB\u001b[0m \u001b[31m10.2 MB/s\u001b[0m eta \u001b[36m0:00:00\u001b[0m\n",
            "\u001b[2K     \u001b[90m━━━━━━━━━━━━━━━━━━━━━━━━━━━━━━━━━━━━━━━━\u001b[0m \u001b[32m3.1/3.1 MB\u001b[0m \u001b[31m87.1 MB/s\u001b[0m eta \u001b[36m0:00:00\u001b[0m\n",
            "\u001b[2K     \u001b[90m━━━━━━━━━━━━━━━━━━━━━━━━━━━━━━━━━━━━━━━━\u001b[0m \u001b[32m76.9/76.9 kB\u001b[0m \u001b[31m11.1 MB/s\u001b[0m eta \u001b[36m0:00:00\u001b[0m\n",
            "\u001b[2K     \u001b[90m━━━━━━━━━━━━━━━━━━━━━━━━━━━━━━━━━━━━━━━━\u001b[0m \u001b[32m58.3/58.3 kB\u001b[0m \u001b[31m8.5 MB/s\u001b[0m eta \u001b[36m0:00:00\u001b[0m\n",
            "\u001b[?25h"
          ]
        }
      ]
    },
    {
      "cell_type": "code",
      "source": [
        "# Установка openai-whisper\n",
        "!pip -q install openai-whisper"
      ],
      "metadata": {
        "id": "9O-y5hWNCK4F",
        "colab": {
          "base_uri": "https://localhost:8080/"
        },
        "outputId": "0d4c8513-489b-4ca9-abe8-1d5c285b260d"
      },
      "execution_count": 11,
      "outputs": [
        {
          "output_type": "stream",
          "name": "stdout",
          "text": [
            "\u001b[?25l     \u001b[90m━━━━━━━━━━━━━━━━━━━━━━━━━━━━━━━━━━━━━━━━\u001b[0m \u001b[32m0.0/798.6 kB\u001b[0m \u001b[31m?\u001b[0m eta \u001b[36m-:--:--\u001b[0m\r\u001b[2K     \u001b[91m━\u001b[0m\u001b[91m╸\u001b[0m\u001b[90m━━━━━━━━━━━━━━━━━━━━━━━━━━━━━━━━━━━━━━\u001b[0m \u001b[32m30.7/798.6 kB\u001b[0m \u001b[31m1.3 MB/s\u001b[0m eta \u001b[36m0:00:01\u001b[0m\r\u001b[2K     \u001b[91m━━━━━━━━━━━\u001b[0m\u001b[90m╺\u001b[0m\u001b[90m━━━━━━━━━━━━━━━━━━━━━━━━━━━━\u001b[0m \u001b[32m225.3/798.6 kB\u001b[0m \u001b[31m3.6 MB/s\u001b[0m eta \u001b[36m0:00:01\u001b[0m\r\u001b[2K     \u001b[90m━━━━━━━━━━━━━━━━━━━━━━━━━━━━━━━━━━━━━━━━\u001b[0m \u001b[32m798.6/798.6 kB\u001b[0m \u001b[31m9.7 MB/s\u001b[0m eta \u001b[36m0:00:00\u001b[0m\n",
            "\u001b[?25h  Installing build dependencies ... \u001b[?25l\u001b[?25hdone\n",
            "  Getting requirements to build wheel ... \u001b[?25l\u001b[?25hdone\n",
            "  Preparing metadata (pyproject.toml) ... \u001b[?25l\u001b[?25hdone\n",
            "  Building wheel for openai-whisper (pyproject.toml) ... \u001b[?25l\u001b[?25hdone\n"
          ]
        }
      ]
    },
    {
      "cell_type": "code",
      "source": [
        "# Установка fastapi и дополнительных библиотек\n",
        "!pip -q install fastapi uvicorn python-multipart typing-extensions==4.5.0 kaleido"
      ],
      "metadata": {
        "id": "fsH1AqqWCK4G",
        "colab": {
          "base_uri": "https://localhost:8080/"
        },
        "outputId": "cc94bfe7-5611-4260-95ea-c1659ded29c1"
      },
      "execution_count": 12,
      "outputs": [
        {
          "output_type": "stream",
          "name": "stdout",
          "text": [
            "\u001b[?25l     \u001b[90m━━━━━━━━━━━━━━━━━━━━━━━━━━━━━━━━━━━━━━━━\u001b[0m \u001b[32m0.0/92.0 kB\u001b[0m \u001b[31m?\u001b[0m eta \u001b[36m-:--:--\u001b[0m\r\u001b[2K     \u001b[91m━━━━━━━━━━━━━━━━━━━━━━━━━━━━━━━━━━━\u001b[0m\u001b[91m╸\u001b[0m\u001b[90m━━━━\u001b[0m \u001b[32m81.9/92.0 kB\u001b[0m \u001b[31m2.2 MB/s\u001b[0m eta \u001b[36m0:00:01\u001b[0m\r\u001b[2K     \u001b[90m━━━━━━━━━━━━━━━━━━━━━━━━━━━━━━━━━━━━━━━━\u001b[0m \u001b[32m92.0/92.0 kB\u001b[0m \u001b[31m1.9 MB/s\u001b[0m eta \u001b[36m0:00:00\u001b[0m\n",
            "\u001b[2K     \u001b[90m━━━━━━━━━━━━━━━━━━━━━━━━━━━━━━━━━━━━━━━━\u001b[0m \u001b[32m60.3/60.3 kB\u001b[0m \u001b[31m7.7 MB/s\u001b[0m eta \u001b[36m0:00:00\u001b[0m\n",
            "\u001b[2K     \u001b[90m━━━━━━━━━━━━━━━━━━━━━━━━━━━━━━━━━━━━━━━━\u001b[0m \u001b[32m45.7/45.7 kB\u001b[0m \u001b[31m5.8 MB/s\u001b[0m eta \u001b[36m0:00:00\u001b[0m\n",
            "\u001b[2K     \u001b[90m━━━━━━━━━━━━━━━━━━━━━━━━━━━━━━━━━━━━━━━━\u001b[0m \u001b[32m79.9/79.9 MB\u001b[0m \u001b[31m6.9 MB/s\u001b[0m eta \u001b[36m0:00:00\u001b[0m\n",
            "\u001b[2K     \u001b[90m━━━━━━━━━━━━━━━━━━━━━━━━━━━━━━━━━━━━━━━━\u001b[0m \u001b[32m70.0/70.0 kB\u001b[0m \u001b[31m3.7 MB/s\u001b[0m eta \u001b[36m0:00:00\u001b[0m\n",
            "\u001b[2K     \u001b[90m━━━━━━━━━━━━━━━━━━━━━━━━━━━━━━━━━━━━━━━━\u001b[0m \u001b[32m92.1/92.1 kB\u001b[0m \u001b[31m10.3 MB/s\u001b[0m eta \u001b[36m0:00:00\u001b[0m\n",
            "\u001b[2K     \u001b[90m━━━━━━━━━━━━━━━━━━━━━━━━━━━━━━━━━━━━━━━━\u001b[0m \u001b[32m68.9/68.9 kB\u001b[0m \u001b[31m7.9 MB/s\u001b[0m eta \u001b[36m0:00:00\u001b[0m\n",
            "\u001b[2K     \u001b[90m━━━━━━━━━━━━━━━━━━━━━━━━━━━━━━━━━━━━━━━━\u001b[0m \u001b[32m92.1/92.1 kB\u001b[0m \u001b[31m10.1 MB/s\u001b[0m eta \u001b[36m0:00:00\u001b[0m\n",
            "\u001b[2K     \u001b[90m━━━━━━━━━━━━━━━━━━━━━━━━━━━━━━━━━━━━━━━━\u001b[0m \u001b[32m67.0/67.0 kB\u001b[0m \u001b[31m7.1 MB/s\u001b[0m eta \u001b[36m0:00:00\u001b[0m\n",
            "\u001b[2K     \u001b[90m━━━━━━━━━━━━━━━━━━━━━━━━━━━━━━━━━━━━━━━━\u001b[0m \u001b[32m93.1/93.1 kB\u001b[0m \u001b[31m8.9 MB/s\u001b[0m eta \u001b[36m0:00:00\u001b[0m\n",
            "\u001b[2K     \u001b[90m━━━━━━━━━━━━━━━━━━━━━━━━━━━━━━━━━━━━━━━━\u001b[0m \u001b[32m92.9/92.9 kB\u001b[0m \u001b[31m11.7 MB/s\u001b[0m eta \u001b[36m0:00:00\u001b[0m\n",
            "\u001b[2K     \u001b[90m━━━━━━━━━━━━━━━━━━━━━━━━━━━━━━━━━━━━━━━━\u001b[0m \u001b[32m92.9/92.9 kB\u001b[0m \u001b[31m13.3 MB/s\u001b[0m eta \u001b[36m0:00:00\u001b[0m\n",
            "\u001b[2K     \u001b[90m━━━━━━━━━━━━━━━━━━━━━━━━━━━━━━━━━━━━━━━━\u001b[0m \u001b[32m66.3/66.3 kB\u001b[0m \u001b[31m7.9 MB/s\u001b[0m eta \u001b[36m0:00:00\u001b[0m\n",
            "\u001b[?25h"
          ]
        }
      ]
    },
    {
      "cell_type": "code",
      "source": [
        "!pip -q install tensorflow==2.14.0"
      ],
      "metadata": {
        "id": "nY-kZlKg_Cqu",
        "colab": {
          "base_uri": "https://localhost:8080/"
        },
        "outputId": "c9e4c9ae-5c8f-4335-f32c-bd07622d2d02"
      },
      "execution_count": 13,
      "outputs": [
        {
          "output_type": "stream",
          "name": "stdout",
          "text": [
            "\u001b[2K     \u001b[90m━━━━━━━━━━━━━━━━━━━━━━━━━━━━━━━━━━━━━━━━\u001b[0m \u001b[32m489.8/489.8 MB\u001b[0m \u001b[31m1.9 MB/s\u001b[0m eta \u001b[36m0:00:00\u001b[0m\n",
            "\u001b[2K     \u001b[90m━━━━━━━━━━━━━━━━━━━━━━━━━━━━━━━━━━━━━━━━\u001b[0m \u001b[32m5.5/5.5 MB\u001b[0m \u001b[31m100.6 MB/s\u001b[0m eta \u001b[36m0:00:00\u001b[0m\n",
            "\u001b[2K     \u001b[90m━━━━━━━━━━━━━━━━━━━━━━━━━━━━━━━━━━━━━━━━\u001b[0m \u001b[32m440.7/440.7 kB\u001b[0m \u001b[31m44.2 MB/s\u001b[0m eta \u001b[36m0:00:00\u001b[0m\n",
            "\u001b[2K     \u001b[90m━━━━━━━━━━━━━━━━━━━━━━━━━━━━━━━━━━━━━━━━\u001b[0m \u001b[32m1.7/1.7 MB\u001b[0m \u001b[31m61.8 MB/s\u001b[0m eta \u001b[36m0:00:00\u001b[0m\n",
            "\u001b[?25h"
          ]
        }
      ]
    },
    {
      "cell_type": "code",
      "source": [
        "import tensorflow as tf\n",
        "tf.__version__"
      ],
      "metadata": {
        "id": "geebGlSc_Ha3",
        "colab": {
          "base_uri": "https://localhost:8080/",
          "height": 36
        },
        "outputId": "a7eb9754-9842-47f1-a355-34b3595bb72d"
      },
      "execution_count": 14,
      "outputs": [
        {
          "output_type": "execute_result",
          "data": {
            "text/plain": [
              "'2.14.0'"
            ],
            "application/vnd.google.colaboratory.intrinsic+json": {
              "type": "string"
            }
          },
          "metadata": {},
          "execution_count": 14
        }
      ]
    },
    {
      "cell_type": "code",
      "source": [
        "# Эндпойнт\n",
        "main_file = '''\n",
        "import re\n",
        "import whisper\n",
        "import numpy as np\n",
        "import pandas as pd\n",
        "import pickle as pkl\n",
        "from io import BytesIO\n",
        "from fastapi import FastAPI, File\n",
        "from tensorflow.keras.saving import load_model\n",
        "\n",
        "whisper_model = whisper.load_model('medium')\n",
        "model = load_model('model_BoW.keras')\n",
        "\n",
        "with open('tokenizer.pkl', 'rb') as f:\n",
        "  tokenizer = pkl.load(f)\n",
        "\n",
        "app = FastAPI()\n",
        "\n",
        "@app.post('/predict')\n",
        "async def predict(json_file: bytes = File(...)):\n",
        "\n",
        "  df = pd.read_json(BytesIO(json_file))\n",
        "\n",
        "  for i in df.index:\n",
        "    df.loc[i,'Транскрибация файла записи звонка'] = whisper_model.transcribe(df.loc[i,'Файл записи звонка'], language='ru')['text']\n",
        "  df['Транскрибация файла записи звонка'] = df['Транскрибация файла записи звонка'].fillna('безответа')\n",
        "  df['Транскрибация файла записи звонка'] = df['Транскрибация файла записи звонка'].apply(lambda s: re.sub('[^А-Яа-я0-9 ]', '', s.lower()))\n",
        "  df['Транскрибация файла записи звонка'] = df['Транскрибация файла записи звонка'].apply(lambda s: s.strip())\n",
        "  df['Транскрибация файла записи звонка'] = np.where(df['Транскрибация файла записи звонка'].str.len() < 5, 'безответа', df['Транскрибация файла записи звонка'])\n",
        "  df['Транскрибация файла записи звонка'] = df['Транскрибация файла записи звонка'].str.replace('ё', 'е', regex=False)\n",
        "\n",
        "  x_textdata_01 = tokenizer.texts_to_matrix(df['Транскрибация файла записи звонка'].tolist())\n",
        "\n",
        "  y_predict = model.predict(x_textdata_01)\n",
        "  for i in range(df.shape[0]):\n",
        "    df.loc[i,'Предсказание класса'] = 'Целевой' if round(y_predict[i][0]) else 'Нецелевой'\n",
        "\n",
        "  df[['Проект', 'Идентификатор сессии звонка', 'Теги', 'Предсказание класса', 'Транскрибация файла записи звонка']].to_json('output.json', orient='records', force_ascii=False)\n",
        "\n",
        "  return {'result': 'output.json'}\n",
        "'''\n",
        "with open('main.py', 'w') as f:\n",
        "  f.write(main_file)"
      ],
      "metadata": {
        "id": "DcOEXdvMC1FW"
      },
      "execution_count": 15,
      "outputs": []
    },
    {
      "cell_type": "code",
      "source": [
        "# Запуск uvicorn\n",
        "!nohup uvicorn main:app --reload &"
      ],
      "metadata": {
        "id": "C5PHMmz3CK4H",
        "colab": {
          "base_uri": "https://localhost:8080/"
        },
        "outputId": "e27bde53-5f00-457c-f1d5-4b49a0f9c63b"
      },
      "execution_count": 16,
      "outputs": [
        {
          "output_type": "stream",
          "name": "stdout",
          "text": [
            "nohup: appending output to 'nohup.out'\n"
          ]
        }
      ]
    },
    {
      "cell_type": "code",
      "source": [
        "# Лог\n",
        "!cat nohup.out"
      ],
      "metadata": {
        "id": "G4INIX-dCK4I",
        "colab": {
          "base_uri": "https://localhost:8080/"
        },
        "outputId": "10979869-60da-4bae-ac16-1d87b249f9af"
      },
      "execution_count": 17,
      "outputs": [
        {
          "output_type": "stream",
          "name": "stdout",
          "text": [
            "INFO:     Will watch for changes in these directories: ['/content']\n",
            "INFO:     Uvicorn running on http://127.0.0.1:8000 (Press CTRL+C to quit)\n",
            "INFO:     Started reloader process [5013] using StatReload\n"
          ]
        }
      ]
    },
    {
      "cell_type": "code",
      "source": [
        "import requests\n",
        "files = {'json_file': open('input.json','rb')}\n",
        "response = requests.post('http://127.0.0.1:8000/predict', files=files)\n",
        "print(response.text)"
      ],
      "metadata": {
        "id": "GIFT8_I1CK4J",
        "colab": {
          "base_uri": "https://localhost:8080/"
        },
        "outputId": "9cc6b7b2-8c82-4924-f857-870e84c47beb"
      },
      "execution_count": 37,
      "outputs": [
        {
          "output_type": "stream",
          "name": "stdout",
          "text": [
            "{\"result\":\"output.json\"}\n"
          ]
        }
      ]
    },
    {
      "cell_type": "code",
      "source": [
        "# Лог\n",
        "!cat nohup.out"
      ],
      "metadata": {
        "id": "bUGqgWbVCK4K",
        "colab": {
          "base_uri": "https://localhost:8080/"
        },
        "outputId": "47eb2928-0fc5-4345-8268-647201d27c63"
      },
      "execution_count": 38,
      "outputs": [
        {
          "output_type": "stream",
          "name": "stdout",
          "text": [
            "INFO:     Will watch for changes in these directories: ['/content']\n",
            "INFO:     Uvicorn running on http://127.0.0.1:8000 (Press CTRL+C to quit)\n",
            "INFO:     Started reloader process [5013] using StatReload\n",
            "2023-12-28 06:13:38.308259: E tensorflow/compiler/xla/stream_executor/cuda/cuda_dnn.cc:9342] Unable to register cuDNN factory: Attempting to register factory for plugin cuDNN when one has already been registered\n",
            "2023-12-28 06:13:38.308315: E tensorflow/compiler/xla/stream_executor/cuda/cuda_fft.cc:609] Unable to register cuFFT factory: Attempting to register factory for plugin cuFFT when one has already been registered\n",
            "2023-12-28 06:13:38.308344: E tensorflow/compiler/xla/stream_executor/cuda/cuda_blas.cc:1518] Unable to register cuBLAS factory: Attempting to register factory for plugin cuBLAS when one has already been registered\n",
            "2023-12-28 06:13:39.770183: W tensorflow/compiler/tf2tensorrt/utils/py_utils.cc:38] TF-TRT Warning: Could not find TensorRT\n",
            "\r  0%|                                              | 0.00/1.42G [00:00<?, ?iB/s]\r  1%|▏                                    | 8.58M/1.42G [00:00<00:16, 89.9MiB/s]\r  1%|▍                                    | 17.2M/1.42G [00:03<05:52, 4.29MiB/s]\r  1%|▌                                    | 20.8M/1.42G [00:04<06:26, 3.90MiB/s]\r  2%|▌                                    | 23.0M/1.42G [00:05<06:05, 4.11MiB/s]\r  2%|▌                                    | 24.5M/1.42G [00:05<05:40, 4.42MiB/s]\r  3%|▉                                    | 36.5M/1.42G [00:05<02:09, 11.5MiB/s]\r  3%|█▏                                   | 48.9M/1.42G [00:05<01:12, 20.5MiB/s]\r  4%|█▌                                   | 60.5M/1.42G [00:05<00:48, 30.4MiB/s]\r  5%|█▊                                   | 72.8M/1.42G [00:05<00:34, 42.5MiB/s]\r  6%|██▏                                  | 85.9M/1.42G [00:05<00:25, 56.7MiB/s]\r  7%|██▍                                  | 97.1M/1.42G [00:06<00:21, 67.5MiB/s]\r  7%|██▊                                   | 109M/1.42G [00:06<00:18, 77.8MiB/s]\r  8%|███▏                                  | 120M/1.42G [00:06<00:16, 87.3MiB/s]\r  9%|███▍                                  | 131M/1.42G [00:06<00:14, 94.8MiB/s]\r 10%|███▊                                   | 143M/1.42G [00:06<00:13, 100MiB/s]\r 11%|████▏                                  | 154M/1.42G [00:06<00:12, 105MiB/s]\r 11%|████▍                                  | 166M/1.42G [00:06<00:12, 110MiB/s]\r 12%|████▋                                  | 177M/1.42G [00:06<00:12, 109MiB/s]\r 13%|████▉                                 | 188M/1.42G [00:10<02:14, 9.93MiB/s]\r 13%|█████                                 | 196M/1.42G [00:15<04:31, 4.87MiB/s]\r 14%|█████▏                                | 201M/1.42G [00:15<04:15, 5.16MiB/s]\r 15%|█████▌                                | 214M/1.42G [00:15<02:38, 8.21MiB/s]\r 16%|█████▉                                | 226M/1.42G [00:16<01:46, 12.1MiB/s]\r 16%|██████▏                               | 235M/1.42G [00:16<01:22, 15.5MiB/s]\r 17%|██████▎                               | 244M/1.42G [00:16<01:04, 19.9MiB/s]\r 18%|██████▊                               | 260M/1.42G [00:16<00:39, 31.8MiB/s]\r 19%|███████                               | 272M/1.42G [00:16<00:30, 40.8MiB/s]\r 19%|███████▍                              | 283M/1.42G [00:16<00:24, 49.7MiB/s]\r 20%|███████▋                              | 296M/1.42G [00:16<00:19, 62.7MiB/s]\r 21%|████████                              | 307M/1.42G [00:16<00:16, 71.8MiB/s]\r 22%|████████▎                             | 320M/1.42G [00:16<00:14, 82.8MiB/s]\r 23%|████████▋                             | 331M/1.42G [00:16<00:12, 91.0MiB/s]\r 23%|████████▉                             | 342M/1.42G [00:17<00:11, 97.9MiB/s]\r 24%|█████████▏                            | 354M/1.42G [00:17<00:11, 98.4MiB/s]\r 25%|█████████▊                             | 365M/1.42G [00:17<00:11, 104MiB/s]\r 26%|██████████                             | 377M/1.42G [00:17<00:10, 107MiB/s]\r 27%|██████████▍                            | 388M/1.42G [00:17<00:10, 111MiB/s]\r 27%|██████████▋                            | 400M/1.42G [00:17<00:09, 114MiB/s]\r 28%|███████████                            | 412M/1.42G [00:17<00:09, 116MiB/s]\r 29%|███████████▎                           | 425M/1.42G [00:17<00:08, 123MiB/s]\r 30%|███████████▋                           | 437M/1.42G [00:17<00:08, 120MiB/s]\r 31%|███████████▉                           | 448M/1.42G [00:18<00:09, 113MiB/s]\r 32%|████████████▎                          | 461M/1.42G [00:18<00:08, 119MiB/s]\r 32%|████████████▋                          | 474M/1.42G [00:18<00:08, 122MiB/s]\r 33%|████████████▉                          | 485M/1.42G [00:18<00:08, 120MiB/s]\r 34%|████████████▉                         | 497M/1.42G [00:22<01:48, 9.25MiB/s]\r 35%|█████████████▎                        | 508M/1.42G [00:22<01:18, 12.7MiB/s]\r 36%|█████████████▌                        | 520M/1.42G [00:24<01:33, 10.5MiB/s]\r 36%|█████████████▋                        | 527M/1.42G [00:26<02:27, 6.64MiB/s]\r 36%|█████████████▊                        | 531M/1.42G [00:27<02:09, 7.49MiB/s]\r 37%|██████████████▏                       | 543M/1.42G [00:27<01:22, 11.6MiB/s]\r 38%|██████████████▍                       | 555M/1.42G [00:27<00:57, 16.5MiB/s]\r 39%|██████████████▊                       | 566M/1.42G [00:27<00:40, 23.0MiB/s]\r 40%|███████████████                       | 577M/1.42G [00:27<00:29, 31.0MiB/s]\r 40%|███████████████▎                      | 587M/1.42G [00:27<00:23, 38.3MiB/s]\r 41%|███████████████▌                      | 599M/1.42G [00:27<00:18, 49.0MiB/s]\r 42%|███████████████▉                      | 610M/1.42G [00:27<00:14, 59.4MiB/s]\r 43%|████████████████▏                     | 621M/1.42G [00:28<00:12, 70.7MiB/s]\r 43%|████████████████▍                     | 632M/1.42G [00:29<00:45, 19.1MiB/s]\r 44%|████████████████▋                     | 640M/1.42G [00:32<01:55, 7.45MiB/s]\r 45%|████████████████▉                     | 652M/1.42G [00:33<01:17, 10.9MiB/s]\r 46%|█████████████████▎                    | 664M/1.42G [00:33<00:53, 15.7MiB/s]\r 46%|█████████████████▋                    | 676M/1.42G [00:33<00:37, 21.8MiB/s]\r 47%|█████████████████▉                    | 687M/1.42G [00:33<00:27, 28.9MiB/s]\r 48%|██████████████████▏                   | 698M/1.42G [00:33<00:21, 37.0MiB/s]\r 49%|██████████████████▌                   | 710M/1.42G [00:33<00:16, 46.3MiB/s]\r 49%|██████████████████▊                   | 721M/1.42G [00:33<00:13, 56.4MiB/s]\r 50%|███████████████████                   | 732M/1.42G [00:33<00:11, 67.6MiB/s]\r 51%|███████████████████▍                  | 744M/1.42G [00:33<00:09, 77.9MiB/s]\r 52%|███████████████████▋                  | 755M/1.42G [00:33<00:08, 87.5MiB/s]\r 53%|███████████████████▉                  | 767M/1.42G [00:34<00:07, 93.6MiB/s]\r 53%|████████████████████▊                  | 779M/1.42G [00:34<00:07, 101MiB/s]\r 54%|█████████████████████▏                 | 791M/1.42G [00:34<00:06, 108MiB/s]\r 55%|████████████████████▉                 | 802M/1.42G [00:38<01:22, 8.32MiB/s]\r 56%|█████████████████████▏                | 814M/1.42G [00:39<00:59, 11.4MiB/s]\r 57%|█████████████████████▌                | 826M/1.42G [00:39<00:41, 16.0MiB/s]\r 57%|█████████████████████▊                | 837M/1.42G [00:39<00:30, 21.4MiB/s]\r 58%|██████████████████████▏               | 850M/1.42G [00:39<00:21, 29.0MiB/s]\r 59%|██████████████████████▍               | 862M/1.42G [00:39<00:16, 38.3MiB/s]\r 60%|██████████████████████▊               | 874M/1.42G [00:39<00:12, 48.1MiB/s]\r 61%|███████████████████████               | 886M/1.42G [00:39<00:10, 58.8MiB/s]\r 62%|███████████████████████▍              | 898M/1.42G [00:39<00:08, 69.5MiB/s]\r 62%|███████████████████████▋              | 909M/1.42G [00:39<00:07, 79.2MiB/s]\r 63%|████████████████████████              | 921M/1.42G [00:39<00:06, 84.4MiB/s]\r 64%|████████████████████████▎             | 932M/1.42G [00:40<00:06, 91.6MiB/s]\r 65%|████████████████████████▌             | 943M/1.42G [00:40<00:05, 98.2MiB/s]\r 66%|█████████████████████████▌             | 956M/1.42G [00:40<00:04, 105MiB/s]\r 66%|█████████████████████████▉             | 967M/1.42G [00:40<00:04, 111MiB/s]\r 67%|██████████████████████████▏            | 979M/1.42G [00:40<00:04, 114MiB/s]\r 68%|██████████████████████████▌            | 991M/1.42G [00:40<00:04, 118MiB/s]\r 69%|██████████████████████████▏           | 0.98G/1.42G [00:40<00:03, 121MiB/s]\r 70%|█████████████████████████▊           | 0.99G/1.42G [00:41<00:16, 27.9MiB/s]\r 71%|██████████████████████████           | 1.00G/1.42G [00:41<00:12, 36.0MiB/s]\r 71%|██████████████████████████▍          | 1.01G/1.42G [00:42<00:09, 45.5MiB/s]\r 72%|██████████████████████████▋          | 1.03G/1.42G [00:42<00:07, 58.3MiB/s]\r 73%|███████████████████████████          | 1.04G/1.42G [00:42<00:05, 68.9MiB/s]\r 74%|███████████████████████████▎         | 1.05G/1.42G [00:42<00:04, 80.1MiB/s]\r 75%|███████████████████████████▋         | 1.06G/1.42G [00:42<00:04, 89.0MiB/s]\r 75%|███████████████████████████▉         | 1.07G/1.42G [00:42<00:03, 96.2MiB/s]\r 76%|████████████████████████████▉         | 1.09G/1.42G [00:42<00:03, 103MiB/s]\r 77%|█████████████████████████████▎        | 1.10G/1.42G [00:42<00:03, 110MiB/s]\r 78%|█████████████████████████████▋        | 1.11G/1.42G [00:42<00:02, 116MiB/s]\r 79%|█████████████████████████████▉        | 1.12G/1.42G [00:43<00:02, 117MiB/s]\r 80%|█████████████████████████████▍       | 1.13G/1.42G [00:43<00:04, 69.0MiB/s]\r 80%|█████████████████████████████▋       | 1.14G/1.42G [00:44<00:09, 30.8MiB/s]\r 81%|█████████████████████████████▉       | 1.15G/1.42G [00:44<00:07, 38.3MiB/s]\r 82%|██████████████████████████████▏      | 1.16G/1.42G [00:44<00:05, 48.1MiB/s]\r 82%|██████████████████████████████▌      | 1.17G/1.42G [00:44<00:04, 58.1MiB/s]\r 83%|██████████████████████████████▊      | 1.18G/1.42G [00:44<00:03, 67.5MiB/s]\r 84%|███████████████████████████████      | 1.19G/1.42G [00:49<00:35, 6.98MiB/s]\r 84%|███████████████████████████████▏     | 1.20G/1.42G [00:49<00:28, 8.34MiB/s]\r 85%|███████████████████████████████▌     | 1.21G/1.42G [00:49<00:18, 12.3MiB/s]\r 86%|███████████████████████████████▋     | 1.22G/1.42G [00:51<00:26, 8.19MiB/s]\r 86%|███████████████████████████████▊     | 1.22G/1.42G [00:53<00:37, 5.68MiB/s]\r 86%|███████████████████████████████▉     | 1.23G/1.42G [00:54<00:36, 5.81MiB/s]\r 87%|████████████████████████████████▏    | 1.24G/1.42G [00:54<00:20, 9.75MiB/s]\r 88%|████████████████████████████████▍    | 1.25G/1.42G [00:54<00:13, 13.8MiB/s]\r 89%|████████████████████████████████▊    | 1.26G/1.42G [00:54<00:08, 20.6MiB/s]\r 89%|█████████████████████████████████    | 1.27G/1.42G [00:54<00:05, 29.0MiB/s]\r 90%|█████████████████████████████████▎   | 1.28G/1.42G [00:55<00:04, 37.9MiB/s]\r 91%|█████████████████████████████████▌   | 1.29G/1.42G [00:55<00:05, 25.6MiB/s]\r 91%|█████████████████████████████████▊   | 1.30G/1.42G [00:56<00:07, 17.8MiB/s]\r 92%|██████████████████████████████████   | 1.31G/1.42G [00:56<00:05, 24.2MiB/s]\r 93%|██████████████████████████████████▎  | 1.32G/1.42G [00:56<00:03, 33.6MiB/s]\r 94%|██████████████████████████████████▋  | 1.33G/1.42G [00:56<00:02, 46.2MiB/s]\r 94%|██████████████████████████████████▉  | 1.34G/1.42G [00:57<00:01, 56.1MiB/s]\r 95%|███████████████████████████████████▏ | 1.35G/1.42G [00:57<00:01, 64.4MiB/s]\r 96%|███████████████████████████████████▍ | 1.36G/1.42G [00:57<00:00, 72.5MiB/s]\r 96%|███████████████████████████████████▋ | 1.37G/1.42G [00:57<00:00, 77.7MiB/s]\r 97%|███████████████████████████████████▉ | 1.38G/1.42G [00:57<00:00, 84.7MiB/s]\r 98%|████████████████████████████████████▏| 1.39G/1.42G [00:57<00:00, 91.9MiB/s]\r 99%|████████████████████████████████████▍| 1.40G/1.42G [00:58<00:00, 30.1MiB/s]\r 99%|████████████████████████████████████▋| 1.41G/1.42G [00:58<00:00, 30.4MiB/s]\r100%|████████████████████████████████████▉| 1.42G/1.42G [00:58<00:00, 40.0MiB/s]\r100%|█████████████████████████████████████| 1.42G/1.42G [00:58<00:00, 26.0MiB/s]\n",
            "2023-12-28 06:14:58.397092: W tensorflow/core/common_runtime/gpu/gpu_device.cc:2211] Cannot dlopen some GPU libraries. Please make sure the missing libraries mentioned above are installed properly if you would like to use GPU. Follow the guide at https://www.tensorflow.org/install/gpu for how to download and setup the required libraries for your platform.\n",
            "Skipping registering GPU devices...\n",
            "INFO:     Started server process [5015]\n",
            "INFO:     Waiting for application startup.\n",
            "INFO:     Application startup complete.\n",
            "\r1/2 [==============>...............] - ETA: 0s\b\b\b\b\b\b\b\b\b\b\b\b\b\b\b\b\b\b\b\b\b\b\b\b\b\b\b\b\b\b\b\b\b\b\b\b\b\b\b\b\b\b\b\b\b\b\r2/2 [==============================] - 0s 20ms/step\n",
            "INFO:     127.0.0.1:53324 - \"POST /predict HTTP/1.1\" 200 OK\n"
          ]
        }
      ]
    },
    {
      "cell_type": "code",
      "source": [
        "df = pd.read_json('output.json')\n",
        "df.shape"
      ],
      "metadata": {
        "id": "gwW_JC9jCK4K",
        "colab": {
          "base_uri": "https://localhost:8080/"
        },
        "outputId": "fa7f6d97-0ad2-409d-9dec-21e5486bcd94"
      },
      "execution_count": 39,
      "outputs": [
        {
          "output_type": "execute_result",
          "data": {
            "text/plain": [
              "(50, 5)"
            ]
          },
          "metadata": {},
          "execution_count": 39
        }
      ]
    },
    {
      "cell_type": "code",
      "source": [
        "df"
      ],
      "metadata": {
        "id": "fLBjrC2wCK4L",
        "colab": {
          "base_uri": "https://localhost:8080/",
          "height": 1000
        },
        "outputId": "5b93bda7-e86d-4f1d-c905-6eb2a03b70a0"
      },
      "execution_count": 40,
      "outputs": [
        {
          "output_type": "execute_result",
          "data": {
            "text/plain": [
              "              Проект  Идентификатор сессии звонка  Теги Предсказание класса  \\\n",
              "0   primavera.moscow                   2862271810   NaN           Нецелевой   \n",
              "1   primavera.moscow                   2864677594   NaN             Целевой   \n",
              "2   primavera.moscow                   2869145377   NaN             Целевой   \n",
              "3   primavera.moscow                   2871634600   NaN           Нецелевой   \n",
              "4   primavera.moscow                   2867264995   NaN             Целевой   \n",
              "5   primavera.moscow                   2866661097   NaN             Целевой   \n",
              "6   primavera.moscow                   2869222273   NaN             Целевой   \n",
              "7   primavera.moscow                   2867030845   NaN             Целевой   \n",
              "8   primavera.moscow                   2862605738   NaN             Целевой   \n",
              "9   primavera.moscow                   2871099180   NaN           Нецелевой   \n",
              "10  primavera.moscow                   2869043896   NaN           Нецелевой   \n",
              "11  primavera.moscow                   2863702930   NaN             Целевой   \n",
              "12  primavera.moscow                   2872111512   NaN           Нецелевой   \n",
              "13  primavera.moscow                   2869317077   NaN           Нецелевой   \n",
              "14  primavera.moscow                   2867843688   NaN           Нецелевой   \n",
              "15  primavera.moscow                   2868673264   NaN             Целевой   \n",
              "16  primavera.moscow                   2868887767   NaN             Целевой   \n",
              "17  primavera.moscow                   2868746252   NaN           Нецелевой   \n",
              "18  primavera.moscow                   2871104648   NaN           Нецелевой   \n",
              "19  primavera.moscow                   2868990557   NaN             Целевой   \n",
              "20  primavera.moscow                   2868794503   NaN             Целевой   \n",
              "21  primavera.moscow                   2872204368   NaN           Нецелевой   \n",
              "22  primavera.moscow                   2865992215   NaN           Нецелевой   \n",
              "23  primavera.moscow                   2863966934   NaN           Нецелевой   \n",
              "24  primavera.moscow                   2871850172   NaN             Целевой   \n",
              "25  primavera.moscow                   2867310623   NaN           Нецелевой   \n",
              "26  primavera.moscow                   2868915324   NaN             Целевой   \n",
              "27  primavera.moscow                   2867714477   NaN             Целевой   \n",
              "28  primavera.moscow                   2861874202   NaN             Целевой   \n",
              "29  primavera.moscow                   2865154265   NaN           Нецелевой   \n",
              "30  primavera.moscow                   2866975791   NaN           Нецелевой   \n",
              "31  primavera.moscow                   2865015974   NaN             Целевой   \n",
              "32  primavera.moscow                   2867721581   NaN           Нецелевой   \n",
              "33  primavera.moscow                   2865105950   NaN           Нецелевой   \n",
              "34  primavera.moscow                   2862592034   NaN             Целевой   \n",
              "35  primavera.moscow                   2867948972   NaN           Нецелевой   \n",
              "36  primavera.moscow                   2867214243   NaN             Целевой   \n",
              "37  primavera.moscow                   2863054758   NaN           Нецелевой   \n",
              "38  primavera.moscow                   2861446698   NaN           Нецелевой   \n",
              "39  primavera.moscow                   2866204003   NaN           Нецелевой   \n",
              "40  primavera.moscow                   2865503407   NaN             Целевой   \n",
              "41  primavera.moscow                   2867820695   NaN           Нецелевой   \n",
              "42  primavera.moscow                   2868416035   NaN             Целевой   \n",
              "43  primavera.moscow                   2867801356   NaN           Нецелевой   \n",
              "44  primavera.moscow                   2866678697   NaN           Нецелевой   \n",
              "45  primavera.moscow                   2864809282   NaN             Целевой   \n",
              "46  primavera.moscow                   2866973193   NaN           Нецелевой   \n",
              "47  primavera.moscow                   2861973030   NaN             Целевой   \n",
              "48  primavera.moscow                   2864741695   NaN           Нецелевой   \n",
              "49  primavera.moscow                   2867508373   NaN             Целевой   \n",
              "\n",
              "                    Транскрибация файла записи звонка  \n",
              "0   добрый день глубный город на рейсте примавера ...  \n",
              "1   здравствуйте юлия нас интересует живой комплек...  \n",
              "2   клубный город на реке примавеера татьяна добры...  \n",
              "3   доброе утро клубный город на реке примавера св...  \n",
              "4   клубный город на реке примавер меня зовут ната...  \n",
              "5   добрый день на линии клиент михаил бюджет до 2...  \n",
              "6   клубный город на реке примоверда татьяна добры...  \n",
              "7   клубный город на реке примаверо меня зовут нат...  \n",
              "8   глубный город на реке примавер меня зовут ната...  \n",
              "9   добрый вечер клубный город на реке фрамовера л...  \n",
              "10  добрый день глубный город на реке примоверга з...  \n",
              "11  крубный город на реке примавыра на атаре добры...  \n",
              "12  добрый день здравствуйте вы в тушину находитес...  \n",
              "13  ало  юля  да  добрый день мы с вами к начальни...  \n",
              "14  клубный город на реке примоваре меня зовут нат...  \n",
              "15  добрый день здравствуйте меня зовут елена я хо...  \n",
              "16  кудный город на реке примавеера татьяна добрый...  \n",
              "17  клубногорский примовер юлия добрый день юлия д...  \n",
              "18      меня зовут лина мне очень приятно перезвонить  \n",
              "19  клубный город примовер меня зовут юлия добрый ...  \n",
              "20  клубный город на реке примаверми меня зовут ол...  \n",
              "21  пожалуйста говорите после звукового сигнала до...  \n",
              "22  добрый день колобный город я прямоверная слуша...  \n",
              "23  главный гордость смовр меня зовут наталья здра...  \n",
              "24  главный город на реке примавыра татьяна добрый...  \n",
              "25  кузнагород на реке примовар юлия добрый день ю...  \n",
              "26  здравствуйте наталья я изучаю варианты в вашем...  \n",
              "27  клубный город на реке примавер меня зовут ната...  \n",
              "28  доброе утро клубный город на реке примаверо ли...  \n",
              "29  вам поступил звонок с сайта новостройм ожидайт...  \n",
              "30  доброе утро город тереке доброе утро город тер...  \n",
              "31  здравствуйте анастасия  здравствуйте анастасия...  \n",
              "32  вомна городной реки примоваро юлия здравствуйт...  \n",
              "33  главный город на реке тримовера меня зовут ели...  \n",
              "34  клубный город на реке примавыра наталья добрый...  \n",
              "35  если да вы нажмите клавишу 1 и мы связываемся ...  \n",
              "36  добрый день кубный город на реке примовера лил...  \n",
              "37  клубный город на реке примаверо меня зовут нат...  \n",
              "38  натерпо доброе утро доброе утро расскажите пож...  \n",
              "39  глубный город на реке примовера надежда добрый...  \n",
              "40  клубный город на реке примоверна наталья добры...  \n",
              "41  добрый вечер клубный город на реке промовера л...  \n",
              "42  добрый день клубный город на реке примавера св...  \n",
              "43  глубный город на реке примавер меня зовут ната...  \n",
              "44  добрый день я могу связаться с отделом закупок...  \n",
              "45  главный город на реке петмабыро здравствуйте а...  \n",
              "46  клубный город на реке примовера надежда добрый...  \n",
              "47  добрый день голубный город на реке примаверо о...  \n",
              "48     клубный город на реке примаверон дежда от утра  \n",
              "49  клубный город на реке примавер меня зовут ната...  "
            ],
            "text/html": [
              "\n",
              "  <div id=\"df-39a3a881-9cc0-4350-beaa-18c9b387917d\" class=\"colab-df-container\">\n",
              "    <div>\n",
              "<style scoped>\n",
              "    .dataframe tbody tr th:only-of-type {\n",
              "        vertical-align: middle;\n",
              "    }\n",
              "\n",
              "    .dataframe tbody tr th {\n",
              "        vertical-align: top;\n",
              "    }\n",
              "\n",
              "    .dataframe thead th {\n",
              "        text-align: right;\n",
              "    }\n",
              "</style>\n",
              "<table border=\"1\" class=\"dataframe\">\n",
              "  <thead>\n",
              "    <tr style=\"text-align: right;\">\n",
              "      <th></th>\n",
              "      <th>Проект</th>\n",
              "      <th>Идентификатор сессии звонка</th>\n",
              "      <th>Теги</th>\n",
              "      <th>Предсказание класса</th>\n",
              "      <th>Транскрибация файла записи звонка</th>\n",
              "    </tr>\n",
              "  </thead>\n",
              "  <tbody>\n",
              "    <tr>\n",
              "      <th>0</th>\n",
              "      <td>primavera.moscow</td>\n",
              "      <td>2862271810</td>\n",
              "      <td>NaN</td>\n",
              "      <td>Нецелевой</td>\n",
              "      <td>добрый день глубный город на рейсте примавера ...</td>\n",
              "    </tr>\n",
              "    <tr>\n",
              "      <th>1</th>\n",
              "      <td>primavera.moscow</td>\n",
              "      <td>2864677594</td>\n",
              "      <td>NaN</td>\n",
              "      <td>Целевой</td>\n",
              "      <td>здравствуйте юлия нас интересует живой комплек...</td>\n",
              "    </tr>\n",
              "    <tr>\n",
              "      <th>2</th>\n",
              "      <td>primavera.moscow</td>\n",
              "      <td>2869145377</td>\n",
              "      <td>NaN</td>\n",
              "      <td>Целевой</td>\n",
              "      <td>клубный город на реке примавеера татьяна добры...</td>\n",
              "    </tr>\n",
              "    <tr>\n",
              "      <th>3</th>\n",
              "      <td>primavera.moscow</td>\n",
              "      <td>2871634600</td>\n",
              "      <td>NaN</td>\n",
              "      <td>Нецелевой</td>\n",
              "      <td>доброе утро клубный город на реке примавера св...</td>\n",
              "    </tr>\n",
              "    <tr>\n",
              "      <th>4</th>\n",
              "      <td>primavera.moscow</td>\n",
              "      <td>2867264995</td>\n",
              "      <td>NaN</td>\n",
              "      <td>Целевой</td>\n",
              "      <td>клубный город на реке примавер меня зовут ната...</td>\n",
              "    </tr>\n",
              "    <tr>\n",
              "      <th>5</th>\n",
              "      <td>primavera.moscow</td>\n",
              "      <td>2866661097</td>\n",
              "      <td>NaN</td>\n",
              "      <td>Целевой</td>\n",
              "      <td>добрый день на линии клиент михаил бюджет до 2...</td>\n",
              "    </tr>\n",
              "    <tr>\n",
              "      <th>6</th>\n",
              "      <td>primavera.moscow</td>\n",
              "      <td>2869222273</td>\n",
              "      <td>NaN</td>\n",
              "      <td>Целевой</td>\n",
              "      <td>клубный город на реке примоверда татьяна добры...</td>\n",
              "    </tr>\n",
              "    <tr>\n",
              "      <th>7</th>\n",
              "      <td>primavera.moscow</td>\n",
              "      <td>2867030845</td>\n",
              "      <td>NaN</td>\n",
              "      <td>Целевой</td>\n",
              "      <td>клубный город на реке примаверо меня зовут нат...</td>\n",
              "    </tr>\n",
              "    <tr>\n",
              "      <th>8</th>\n",
              "      <td>primavera.moscow</td>\n",
              "      <td>2862605738</td>\n",
              "      <td>NaN</td>\n",
              "      <td>Целевой</td>\n",
              "      <td>глубный город на реке примавер меня зовут ната...</td>\n",
              "    </tr>\n",
              "    <tr>\n",
              "      <th>9</th>\n",
              "      <td>primavera.moscow</td>\n",
              "      <td>2871099180</td>\n",
              "      <td>NaN</td>\n",
              "      <td>Нецелевой</td>\n",
              "      <td>добрый вечер клубный город на реке фрамовера л...</td>\n",
              "    </tr>\n",
              "    <tr>\n",
              "      <th>10</th>\n",
              "      <td>primavera.moscow</td>\n",
              "      <td>2869043896</td>\n",
              "      <td>NaN</td>\n",
              "      <td>Нецелевой</td>\n",
              "      <td>добрый день глубный город на реке примоверга з...</td>\n",
              "    </tr>\n",
              "    <tr>\n",
              "      <th>11</th>\n",
              "      <td>primavera.moscow</td>\n",
              "      <td>2863702930</td>\n",
              "      <td>NaN</td>\n",
              "      <td>Целевой</td>\n",
              "      <td>крубный город на реке примавыра на атаре добры...</td>\n",
              "    </tr>\n",
              "    <tr>\n",
              "      <th>12</th>\n",
              "      <td>primavera.moscow</td>\n",
              "      <td>2872111512</td>\n",
              "      <td>NaN</td>\n",
              "      <td>Нецелевой</td>\n",
              "      <td>добрый день здравствуйте вы в тушину находитес...</td>\n",
              "    </tr>\n",
              "    <tr>\n",
              "      <th>13</th>\n",
              "      <td>primavera.moscow</td>\n",
              "      <td>2869317077</td>\n",
              "      <td>NaN</td>\n",
              "      <td>Нецелевой</td>\n",
              "      <td>ало  юля  да  добрый день мы с вами к начальни...</td>\n",
              "    </tr>\n",
              "    <tr>\n",
              "      <th>14</th>\n",
              "      <td>primavera.moscow</td>\n",
              "      <td>2867843688</td>\n",
              "      <td>NaN</td>\n",
              "      <td>Нецелевой</td>\n",
              "      <td>клубный город на реке примоваре меня зовут нат...</td>\n",
              "    </tr>\n",
              "    <tr>\n",
              "      <th>15</th>\n",
              "      <td>primavera.moscow</td>\n",
              "      <td>2868673264</td>\n",
              "      <td>NaN</td>\n",
              "      <td>Целевой</td>\n",
              "      <td>добрый день здравствуйте меня зовут елена я хо...</td>\n",
              "    </tr>\n",
              "    <tr>\n",
              "      <th>16</th>\n",
              "      <td>primavera.moscow</td>\n",
              "      <td>2868887767</td>\n",
              "      <td>NaN</td>\n",
              "      <td>Целевой</td>\n",
              "      <td>кудный город на реке примавеера татьяна добрый...</td>\n",
              "    </tr>\n",
              "    <tr>\n",
              "      <th>17</th>\n",
              "      <td>primavera.moscow</td>\n",
              "      <td>2868746252</td>\n",
              "      <td>NaN</td>\n",
              "      <td>Нецелевой</td>\n",
              "      <td>клубногорский примовер юлия добрый день юлия д...</td>\n",
              "    </tr>\n",
              "    <tr>\n",
              "      <th>18</th>\n",
              "      <td>primavera.moscow</td>\n",
              "      <td>2871104648</td>\n",
              "      <td>NaN</td>\n",
              "      <td>Нецелевой</td>\n",
              "      <td>меня зовут лина мне очень приятно перезвонить</td>\n",
              "    </tr>\n",
              "    <tr>\n",
              "      <th>19</th>\n",
              "      <td>primavera.moscow</td>\n",
              "      <td>2868990557</td>\n",
              "      <td>NaN</td>\n",
              "      <td>Целевой</td>\n",
              "      <td>клубный город примовер меня зовут юлия добрый ...</td>\n",
              "    </tr>\n",
              "    <tr>\n",
              "      <th>20</th>\n",
              "      <td>primavera.moscow</td>\n",
              "      <td>2868794503</td>\n",
              "      <td>NaN</td>\n",
              "      <td>Целевой</td>\n",
              "      <td>клубный город на реке примаверми меня зовут ол...</td>\n",
              "    </tr>\n",
              "    <tr>\n",
              "      <th>21</th>\n",
              "      <td>primavera.moscow</td>\n",
              "      <td>2872204368</td>\n",
              "      <td>NaN</td>\n",
              "      <td>Нецелевой</td>\n",
              "      <td>пожалуйста говорите после звукового сигнала до...</td>\n",
              "    </tr>\n",
              "    <tr>\n",
              "      <th>22</th>\n",
              "      <td>primavera.moscow</td>\n",
              "      <td>2865992215</td>\n",
              "      <td>NaN</td>\n",
              "      <td>Нецелевой</td>\n",
              "      <td>добрый день колобный город я прямоверная слуша...</td>\n",
              "    </tr>\n",
              "    <tr>\n",
              "      <th>23</th>\n",
              "      <td>primavera.moscow</td>\n",
              "      <td>2863966934</td>\n",
              "      <td>NaN</td>\n",
              "      <td>Нецелевой</td>\n",
              "      <td>главный гордость смовр меня зовут наталья здра...</td>\n",
              "    </tr>\n",
              "    <tr>\n",
              "      <th>24</th>\n",
              "      <td>primavera.moscow</td>\n",
              "      <td>2871850172</td>\n",
              "      <td>NaN</td>\n",
              "      <td>Целевой</td>\n",
              "      <td>главный город на реке примавыра татьяна добрый...</td>\n",
              "    </tr>\n",
              "    <tr>\n",
              "      <th>25</th>\n",
              "      <td>primavera.moscow</td>\n",
              "      <td>2867310623</td>\n",
              "      <td>NaN</td>\n",
              "      <td>Нецелевой</td>\n",
              "      <td>кузнагород на реке примовар юлия добрый день ю...</td>\n",
              "    </tr>\n",
              "    <tr>\n",
              "      <th>26</th>\n",
              "      <td>primavera.moscow</td>\n",
              "      <td>2868915324</td>\n",
              "      <td>NaN</td>\n",
              "      <td>Целевой</td>\n",
              "      <td>здравствуйте наталья я изучаю варианты в вашем...</td>\n",
              "    </tr>\n",
              "    <tr>\n",
              "      <th>27</th>\n",
              "      <td>primavera.moscow</td>\n",
              "      <td>2867714477</td>\n",
              "      <td>NaN</td>\n",
              "      <td>Целевой</td>\n",
              "      <td>клубный город на реке примавер меня зовут ната...</td>\n",
              "    </tr>\n",
              "    <tr>\n",
              "      <th>28</th>\n",
              "      <td>primavera.moscow</td>\n",
              "      <td>2861874202</td>\n",
              "      <td>NaN</td>\n",
              "      <td>Целевой</td>\n",
              "      <td>доброе утро клубный город на реке примаверо ли...</td>\n",
              "    </tr>\n",
              "    <tr>\n",
              "      <th>29</th>\n",
              "      <td>primavera.moscow</td>\n",
              "      <td>2865154265</td>\n",
              "      <td>NaN</td>\n",
              "      <td>Нецелевой</td>\n",
              "      <td>вам поступил звонок с сайта новостройм ожидайт...</td>\n",
              "    </tr>\n",
              "    <tr>\n",
              "      <th>30</th>\n",
              "      <td>primavera.moscow</td>\n",
              "      <td>2866975791</td>\n",
              "      <td>NaN</td>\n",
              "      <td>Нецелевой</td>\n",
              "      <td>доброе утро город тереке доброе утро город тер...</td>\n",
              "    </tr>\n",
              "    <tr>\n",
              "      <th>31</th>\n",
              "      <td>primavera.moscow</td>\n",
              "      <td>2865015974</td>\n",
              "      <td>NaN</td>\n",
              "      <td>Целевой</td>\n",
              "      <td>здравствуйте анастасия  здравствуйте анастасия...</td>\n",
              "    </tr>\n",
              "    <tr>\n",
              "      <th>32</th>\n",
              "      <td>primavera.moscow</td>\n",
              "      <td>2867721581</td>\n",
              "      <td>NaN</td>\n",
              "      <td>Нецелевой</td>\n",
              "      <td>вомна городной реки примоваро юлия здравствуйт...</td>\n",
              "    </tr>\n",
              "    <tr>\n",
              "      <th>33</th>\n",
              "      <td>primavera.moscow</td>\n",
              "      <td>2865105950</td>\n",
              "      <td>NaN</td>\n",
              "      <td>Нецелевой</td>\n",
              "      <td>главный город на реке тримовера меня зовут ели...</td>\n",
              "    </tr>\n",
              "    <tr>\n",
              "      <th>34</th>\n",
              "      <td>primavera.moscow</td>\n",
              "      <td>2862592034</td>\n",
              "      <td>NaN</td>\n",
              "      <td>Целевой</td>\n",
              "      <td>клубный город на реке примавыра наталья добрый...</td>\n",
              "    </tr>\n",
              "    <tr>\n",
              "      <th>35</th>\n",
              "      <td>primavera.moscow</td>\n",
              "      <td>2867948972</td>\n",
              "      <td>NaN</td>\n",
              "      <td>Нецелевой</td>\n",
              "      <td>если да вы нажмите клавишу 1 и мы связываемся ...</td>\n",
              "    </tr>\n",
              "    <tr>\n",
              "      <th>36</th>\n",
              "      <td>primavera.moscow</td>\n",
              "      <td>2867214243</td>\n",
              "      <td>NaN</td>\n",
              "      <td>Целевой</td>\n",
              "      <td>добрый день кубный город на реке примовера лил...</td>\n",
              "    </tr>\n",
              "    <tr>\n",
              "      <th>37</th>\n",
              "      <td>primavera.moscow</td>\n",
              "      <td>2863054758</td>\n",
              "      <td>NaN</td>\n",
              "      <td>Нецелевой</td>\n",
              "      <td>клубный город на реке примаверо меня зовут нат...</td>\n",
              "    </tr>\n",
              "    <tr>\n",
              "      <th>38</th>\n",
              "      <td>primavera.moscow</td>\n",
              "      <td>2861446698</td>\n",
              "      <td>NaN</td>\n",
              "      <td>Нецелевой</td>\n",
              "      <td>натерпо доброе утро доброе утро расскажите пож...</td>\n",
              "    </tr>\n",
              "    <tr>\n",
              "      <th>39</th>\n",
              "      <td>primavera.moscow</td>\n",
              "      <td>2866204003</td>\n",
              "      <td>NaN</td>\n",
              "      <td>Нецелевой</td>\n",
              "      <td>глубный город на реке примовера надежда добрый...</td>\n",
              "    </tr>\n",
              "    <tr>\n",
              "      <th>40</th>\n",
              "      <td>primavera.moscow</td>\n",
              "      <td>2865503407</td>\n",
              "      <td>NaN</td>\n",
              "      <td>Целевой</td>\n",
              "      <td>клубный город на реке примоверна наталья добры...</td>\n",
              "    </tr>\n",
              "    <tr>\n",
              "      <th>41</th>\n",
              "      <td>primavera.moscow</td>\n",
              "      <td>2867820695</td>\n",
              "      <td>NaN</td>\n",
              "      <td>Нецелевой</td>\n",
              "      <td>добрый вечер клубный город на реке промовера л...</td>\n",
              "    </tr>\n",
              "    <tr>\n",
              "      <th>42</th>\n",
              "      <td>primavera.moscow</td>\n",
              "      <td>2868416035</td>\n",
              "      <td>NaN</td>\n",
              "      <td>Целевой</td>\n",
              "      <td>добрый день клубный город на реке примавера св...</td>\n",
              "    </tr>\n",
              "    <tr>\n",
              "      <th>43</th>\n",
              "      <td>primavera.moscow</td>\n",
              "      <td>2867801356</td>\n",
              "      <td>NaN</td>\n",
              "      <td>Нецелевой</td>\n",
              "      <td>глубный город на реке примавер меня зовут ната...</td>\n",
              "    </tr>\n",
              "    <tr>\n",
              "      <th>44</th>\n",
              "      <td>primavera.moscow</td>\n",
              "      <td>2866678697</td>\n",
              "      <td>NaN</td>\n",
              "      <td>Нецелевой</td>\n",
              "      <td>добрый день я могу связаться с отделом закупок...</td>\n",
              "    </tr>\n",
              "    <tr>\n",
              "      <th>45</th>\n",
              "      <td>primavera.moscow</td>\n",
              "      <td>2864809282</td>\n",
              "      <td>NaN</td>\n",
              "      <td>Целевой</td>\n",
              "      <td>главный город на реке петмабыро здравствуйте а...</td>\n",
              "    </tr>\n",
              "    <tr>\n",
              "      <th>46</th>\n",
              "      <td>primavera.moscow</td>\n",
              "      <td>2866973193</td>\n",
              "      <td>NaN</td>\n",
              "      <td>Нецелевой</td>\n",
              "      <td>клубный город на реке примовера надежда добрый...</td>\n",
              "    </tr>\n",
              "    <tr>\n",
              "      <th>47</th>\n",
              "      <td>primavera.moscow</td>\n",
              "      <td>2861973030</td>\n",
              "      <td>NaN</td>\n",
              "      <td>Целевой</td>\n",
              "      <td>добрый день голубный город на реке примаверо о...</td>\n",
              "    </tr>\n",
              "    <tr>\n",
              "      <th>48</th>\n",
              "      <td>primavera.moscow</td>\n",
              "      <td>2864741695</td>\n",
              "      <td>NaN</td>\n",
              "      <td>Нецелевой</td>\n",
              "      <td>клубный город на реке примаверон дежда от утра</td>\n",
              "    </tr>\n",
              "    <tr>\n",
              "      <th>49</th>\n",
              "      <td>primavera.moscow</td>\n",
              "      <td>2867508373</td>\n",
              "      <td>NaN</td>\n",
              "      <td>Целевой</td>\n",
              "      <td>клубный город на реке примавер меня зовут ната...</td>\n",
              "    </tr>\n",
              "  </tbody>\n",
              "</table>\n",
              "</div>\n",
              "    <div class=\"colab-df-buttons\">\n",
              "\n",
              "  <div class=\"colab-df-container\">\n",
              "    <button class=\"colab-df-convert\" onclick=\"convertToInteractive('df-39a3a881-9cc0-4350-beaa-18c9b387917d')\"\n",
              "            title=\"Convert this dataframe to an interactive table.\"\n",
              "            style=\"display:none;\">\n",
              "\n",
              "  <svg xmlns=\"http://www.w3.org/2000/svg\" height=\"24px\" viewBox=\"0 -960 960 960\">\n",
              "    <path d=\"M120-120v-720h720v720H120Zm60-500h600v-160H180v160Zm220 220h160v-160H400v160Zm0 220h160v-160H400v160ZM180-400h160v-160H180v160Zm440 0h160v-160H620v160ZM180-180h160v-160H180v160Zm440 0h160v-160H620v160Z\"/>\n",
              "  </svg>\n",
              "    </button>\n",
              "\n",
              "  <style>\n",
              "    .colab-df-container {\n",
              "      display:flex;\n",
              "      gap: 12px;\n",
              "    }\n",
              "\n",
              "    .colab-df-convert {\n",
              "      background-color: #E8F0FE;\n",
              "      border: none;\n",
              "      border-radius: 50%;\n",
              "      cursor: pointer;\n",
              "      display: none;\n",
              "      fill: #1967D2;\n",
              "      height: 32px;\n",
              "      padding: 0 0 0 0;\n",
              "      width: 32px;\n",
              "    }\n",
              "\n",
              "    .colab-df-convert:hover {\n",
              "      background-color: #E2EBFA;\n",
              "      box-shadow: 0px 1px 2px rgba(60, 64, 67, 0.3), 0px 1px 3px 1px rgba(60, 64, 67, 0.15);\n",
              "      fill: #174EA6;\n",
              "    }\n",
              "\n",
              "    .colab-df-buttons div {\n",
              "      margin-bottom: 4px;\n",
              "    }\n",
              "\n",
              "    [theme=dark] .colab-df-convert {\n",
              "      background-color: #3B4455;\n",
              "      fill: #D2E3FC;\n",
              "    }\n",
              "\n",
              "    [theme=dark] .colab-df-convert:hover {\n",
              "      background-color: #434B5C;\n",
              "      box-shadow: 0px 1px 3px 1px rgba(0, 0, 0, 0.15);\n",
              "      filter: drop-shadow(0px 1px 2px rgba(0, 0, 0, 0.3));\n",
              "      fill: #FFFFFF;\n",
              "    }\n",
              "  </style>\n",
              "\n",
              "    <script>\n",
              "      const buttonEl =\n",
              "        document.querySelector('#df-39a3a881-9cc0-4350-beaa-18c9b387917d button.colab-df-convert');\n",
              "      buttonEl.style.display =\n",
              "        google.colab.kernel.accessAllowed ? 'block' : 'none';\n",
              "\n",
              "      async function convertToInteractive(key) {\n",
              "        const element = document.querySelector('#df-39a3a881-9cc0-4350-beaa-18c9b387917d');\n",
              "        const dataTable =\n",
              "          await google.colab.kernel.invokeFunction('convertToInteractive',\n",
              "                                                    [key], {});\n",
              "        if (!dataTable) return;\n",
              "\n",
              "        const docLinkHtml = 'Like what you see? Visit the ' +\n",
              "          '<a target=\"_blank\" href=https://colab.research.google.com/notebooks/data_table.ipynb>data table notebook</a>'\n",
              "          + ' to learn more about interactive tables.';\n",
              "        element.innerHTML = '';\n",
              "        dataTable['output_type'] = 'display_data';\n",
              "        await google.colab.output.renderOutput(dataTable, element);\n",
              "        const docLink = document.createElement('div');\n",
              "        docLink.innerHTML = docLinkHtml;\n",
              "        element.appendChild(docLink);\n",
              "      }\n",
              "    </script>\n",
              "  </div>\n",
              "\n",
              "\n",
              "<div id=\"df-903e1ef2-8f4c-40e3-b0e9-4921fabd7b5e\">\n",
              "  <button class=\"colab-df-quickchart\" onclick=\"quickchart('df-903e1ef2-8f4c-40e3-b0e9-4921fabd7b5e')\"\n",
              "            title=\"Suggest charts\"\n",
              "            style=\"display:none;\">\n",
              "\n",
              "<svg xmlns=\"http://www.w3.org/2000/svg\" height=\"24px\"viewBox=\"0 0 24 24\"\n",
              "     width=\"24px\">\n",
              "    <g>\n",
              "        <path d=\"M19 3H5c-1.1 0-2 .9-2 2v14c0 1.1.9 2 2 2h14c1.1 0 2-.9 2-2V5c0-1.1-.9-2-2-2zM9 17H7v-7h2v7zm4 0h-2V7h2v10zm4 0h-2v-4h2v4z\"/>\n",
              "    </g>\n",
              "</svg>\n",
              "  </button>\n",
              "\n",
              "<style>\n",
              "  .colab-df-quickchart {\n",
              "      --bg-color: #E8F0FE;\n",
              "      --fill-color: #1967D2;\n",
              "      --hover-bg-color: #E2EBFA;\n",
              "      --hover-fill-color: #174EA6;\n",
              "      --disabled-fill-color: #AAA;\n",
              "      --disabled-bg-color: #DDD;\n",
              "  }\n",
              "\n",
              "  [theme=dark] .colab-df-quickchart {\n",
              "      --bg-color: #3B4455;\n",
              "      --fill-color: #D2E3FC;\n",
              "      --hover-bg-color: #434B5C;\n",
              "      --hover-fill-color: #FFFFFF;\n",
              "      --disabled-bg-color: #3B4455;\n",
              "      --disabled-fill-color: #666;\n",
              "  }\n",
              "\n",
              "  .colab-df-quickchart {\n",
              "    background-color: var(--bg-color);\n",
              "    border: none;\n",
              "    border-radius: 50%;\n",
              "    cursor: pointer;\n",
              "    display: none;\n",
              "    fill: var(--fill-color);\n",
              "    height: 32px;\n",
              "    padding: 0;\n",
              "    width: 32px;\n",
              "  }\n",
              "\n",
              "  .colab-df-quickchart:hover {\n",
              "    background-color: var(--hover-bg-color);\n",
              "    box-shadow: 0 1px 2px rgba(60, 64, 67, 0.3), 0 1px 3px 1px rgba(60, 64, 67, 0.15);\n",
              "    fill: var(--button-hover-fill-color);\n",
              "  }\n",
              "\n",
              "  .colab-df-quickchart-complete:disabled,\n",
              "  .colab-df-quickchart-complete:disabled:hover {\n",
              "    background-color: var(--disabled-bg-color);\n",
              "    fill: var(--disabled-fill-color);\n",
              "    box-shadow: none;\n",
              "  }\n",
              "\n",
              "  .colab-df-spinner {\n",
              "    border: 2px solid var(--fill-color);\n",
              "    border-color: transparent;\n",
              "    border-bottom-color: var(--fill-color);\n",
              "    animation:\n",
              "      spin 1s steps(1) infinite;\n",
              "  }\n",
              "\n",
              "  @keyframes spin {\n",
              "    0% {\n",
              "      border-color: transparent;\n",
              "      border-bottom-color: var(--fill-color);\n",
              "      border-left-color: var(--fill-color);\n",
              "    }\n",
              "    20% {\n",
              "      border-color: transparent;\n",
              "      border-left-color: var(--fill-color);\n",
              "      border-top-color: var(--fill-color);\n",
              "    }\n",
              "    30% {\n",
              "      border-color: transparent;\n",
              "      border-left-color: var(--fill-color);\n",
              "      border-top-color: var(--fill-color);\n",
              "      border-right-color: var(--fill-color);\n",
              "    }\n",
              "    40% {\n",
              "      border-color: transparent;\n",
              "      border-right-color: var(--fill-color);\n",
              "      border-top-color: var(--fill-color);\n",
              "    }\n",
              "    60% {\n",
              "      border-color: transparent;\n",
              "      border-right-color: var(--fill-color);\n",
              "    }\n",
              "    80% {\n",
              "      border-color: transparent;\n",
              "      border-right-color: var(--fill-color);\n",
              "      border-bottom-color: var(--fill-color);\n",
              "    }\n",
              "    90% {\n",
              "      border-color: transparent;\n",
              "      border-bottom-color: var(--fill-color);\n",
              "    }\n",
              "  }\n",
              "</style>\n",
              "\n",
              "  <script>\n",
              "    async function quickchart(key) {\n",
              "      const quickchartButtonEl =\n",
              "        document.querySelector('#' + key + ' button');\n",
              "      quickchartButtonEl.disabled = true;  // To prevent multiple clicks.\n",
              "      quickchartButtonEl.classList.add('colab-df-spinner');\n",
              "      try {\n",
              "        const charts = await google.colab.kernel.invokeFunction(\n",
              "            'suggestCharts', [key], {});\n",
              "      } catch (error) {\n",
              "        console.error('Error during call to suggestCharts:', error);\n",
              "      }\n",
              "      quickchartButtonEl.classList.remove('colab-df-spinner');\n",
              "      quickchartButtonEl.classList.add('colab-df-quickchart-complete');\n",
              "    }\n",
              "    (() => {\n",
              "      let quickchartButtonEl =\n",
              "        document.querySelector('#df-903e1ef2-8f4c-40e3-b0e9-4921fabd7b5e button');\n",
              "      quickchartButtonEl.style.display =\n",
              "        google.colab.kernel.accessAllowed ? 'block' : 'none';\n",
              "    })();\n",
              "  </script>\n",
              "</div>\n",
              "    </div>\n",
              "  </div>\n"
            ]
          },
          "metadata": {},
          "execution_count": 40
        }
      ]
    },
    {
      "cell_type": "code",
      "source": [
        "!mv output.json primavera.moscow_output.json"
      ],
      "metadata": {
        "id": "aFlv8td72eKl"
      },
      "execution_count": 41,
      "outputs": []
    }
  ]
}