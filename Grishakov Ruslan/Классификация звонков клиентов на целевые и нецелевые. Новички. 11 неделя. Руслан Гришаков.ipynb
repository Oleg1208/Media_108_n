{
  "nbformat": 4,
  "nbformat_minor": 0,
  "metadata": {
    "colab": {
      "provenance": [],
      "collapsed_sections": [
        "CIgT9kE4KHqe",
        "pTohUadq_HUC",
        "ec6D0c_ueUPs",
        "SRtVWsD6eUPt",
        "kbc1ff-1eUPv",
        "22vlkN0beUPw",
        "hyBXBxv6eUPy",
        "rVDYF0C9YQcB",
        "Vc-723j884jb",
        "wgzJoDNDczVj",
        "y1MmYHYtWcV3",
        "q26aAb2b6Ikx",
        "rah04-ZDCK3_"
      ],
      "gpuType": "T4"
    },
    "kernelspec": {
      "name": "python3",
      "display_name": "Python 3"
    },
    "language_info": {
      "name": "python"
    },
    "accelerator": "GPU"
  },
  "cells": [
    {
      "cell_type": "markdown",
      "source": [
        "# [Техническое задание](https://docs.google.com/document/d/1ZIu6daXZRuDR796AHjKCku643hlM3xgYxW9E84DBJFc/edit?usp=sharing)"
      ],
      "metadata": {
        "id": "CIgT9kE4KHqe"
      }
    },
    {
      "cell_type": "markdown",
      "source": [
        "**Проект:** Классификация аудиозвонков на целевые и нецелевые."
      ],
      "metadata": {
        "id": "FaaxUmqWKHqt"
      }
    },
    {
      "cell_type": "markdown",
      "source": [
        "**Цель проекта:** Разработать нейронную сеть, способную классифицировать аудиозвонки на целевые и нецелевые на основе предоставленной базы данных и csv-таблицы с описаниями и метками классов."
      ],
      "metadata": {
        "id": "GQSHmPOcKHq0"
      }
    },
    {
      "cell_type": "markdown",
      "source": [
        "**Введение:**\n",
        "\n",
        "Входной набор данных представляет из себя два набора файлов:\n",
        "\n",
        "> a)\t[Первый набор файлов](https://drive.google.com/drive/folders/1cQWMpQkscZJbbOTxiJNy0o3nuaeIiB1P?usp=sharing) - это выгрузки в формате `CSV` с информацией по звонкам, а так же с проставленным статусом `“целевой/нецелевой”` в отдельном столбце (обратите внимание, что по проекту `“Павелецкая сити”` две выгрузки - эти наборы данных отличаются и относятся к разным наборам клиентов внутри одного и того же проекта).\n",
        "\n",
        "> b)\t[Второй набор файлов](https://drive.google.com/drive/folders/1K3jGCH60uzFcsI3aj89VIXOOFEXvZxD6?usp=sharing) - аудиозаписи звонков. Они хранятся в корневом каталоге в одноимённых папках. К примеру, в папке `“Записи звонков_павелецкая сити”` лежат записи звонков по проекту `“Павелецкая Сити”`."
      ],
      "metadata": {
        "id": "-UhJ6TikKHq1"
      }
    },
    {
      "cell_type": "markdown",
      "source": [
        "**Требования:**\n",
        "\n",
        "1.   Нейронная сеть должна быть спроектирована и обучена для точной классификации аудиозвонков на два класса: целевые и нецелевые (с точностью `90+%`).\n",
        "2.   Необходимо обеспечить интеграцию модели через `API`.\n",
        "3.   Модель должна быть оптимизирована для обработки большого объёма данных.\n",
        "4.   Код должен быть написан с соблюдением стандартов кодирования, и должна быть составлена подробная техническая документация.\n",
        "5.   Код должен включать в себя систему журналирования для фиксации ошибок.\n",
        "6.   Код должен принимать на вход регулярное выражение, по которому будет осуществляться проверка столбца `“теги”` в выгрузках `CSV` для определения статуса звонка `“целевой/нецелевой”`:\n",
        "\n",
        ">> a)\tпо проектам `“Примавера”` и `“Павелецкая сити”` наличие в столбце с тегами подстроки `“Целевой_М108“` будет равняться тому, что данный звонок целевой (пример регулярного выражения: `.*Целевой_М108.*`);\n",
        "\n",
        ">> b)\tпо проекту `“Хедлайнер”` - наличие в столбце с тегами подстроки `“первичный целевой“` будет равняться тому, что данный звонок целевой.\n",
        "\n",
        "7.   После реализации необходимо иметь возможность получения поддержки по предоставленному решению в течение `2 месяцев`."
      ],
      "metadata": {
        "id": "13vIGhs0KHq4"
      }
    },
    {
      "cell_type": "markdown",
      "source": [
        "Список рекомендуемых параметров для звуковой записи (данный список носит информационный характер и не является обязательным):\n",
        "\n",
        "*   Эмоция (базовые 11: радость; печаль; гнев; отвращение; удивление; страдание (горе); волнение (интерес); презрение; смущение; стыд; вина).\n",
        "*   Пол.\n",
        "*   Возраст.\n",
        "*   Семантический анализ диалога (по конкретным ключевым словам и/или по тематикам диалогов).\n",
        "*   Характеристики, присутствующие в `CSV`/`XLSX` таблицах."
      ],
      "metadata": {
        "id": "seG9MxfuKHq6"
      }
    },
    {
      "cell_type": "markdown",
      "source": [
        "# Критерии классификации"
      ],
      "metadata": {
        "id": "pTohUadq_HUC"
      }
    },
    {
      "cell_type": "markdown",
      "source": [
        "Критерии `уникально-целевого` обращения:\n",
        "1. Длительность звонка должна быть не менее `75 секунд`;\n",
        "2. Телефонный номер абонента должен быть `уникальным`, т. е. его не должно быть в `CRM` заказчика. Либо, по нему не должно быть активности за последние `90 дней`. Исключение составляют `топовые площадки`, работающие по своим критериям (`ЦИАН`, `Яндекс.Недвижимость`, `Авито`, и т. д.);\n",
        "3. Клиент должен знать минимальную информацию об объекте (понимать, куда он звонит): название `ЖК`, расположение, ценовую политику;\n",
        "4. Номер абонента должен быть доступен в течение `15 дней` после совершённого звонка (при этом со стороны заказчика должно быть обеспечено `2 попытки` исходящего звонка в течение указанного срока);\n",
        "5. Клиент должен быть `«адекватным»`. Не общаться на повышенных тонах, не употреблять ненормативную лексику и т. д.;\n",
        "6. Клиент не должен быть повторным. Например, клиент `уже` купил квартиру и через `90 дней` решил купить машиноместо;\n",
        "7. Заявка. В заявке должен быть указан номер телефона, а абонент при контакте с менеджером должен соответствовать всем критериям `уникально-целевого` обращения, перечисленным выше;\n",
        "8. Озвученный общий бюджет покупки не должен быть `ниже 90%` от стоимости квартиры или коммерческого помещения, соответствующих площади/комнатности на момент обращения;\n",
        "9. В случае, если клиент является уникальным, интересуется покупкой недвижимости, не является представителем партнёров или исполнителей и изъявил желание посетить офис продаж. При этом не обязательна фиксация уровня знания клиента об объекте в диалоге. При этом источник не должен относиться к каналам `«лидогенерация»` или `«тематические площадки»`;\n",
        "10. Основной целью звонка клиента не должна являться покупка/аренда исключительно нежилого помещения, если это не являлось целью проводимой рекламной кампании.\n",
        "\n",
        "Критерии НЕ `уникально-целевого` (вторичного) обращения:\n",
        "1. Клиент позвонил повторно менее чем через `3 месяца` (`90 дней`) с момента последнего обращения;\n",
        "2. Клиент, либо члены его семьи, уже купил (купили) `квартиру`/`машиноместо`/`кладовое помещение`, и хочет (хотят) совершить ещё одну покупку. В данном случае клиент относится к показателю `LTV` (показатель прибыли, которую компания получает от одного клиента за всё время работы с ним)."
      ],
      "metadata": {
        "id": "F1Im0SOi_S8W"
      }
    },
    {
      "cell_type": "markdown",
      "source": [
        "# [Датафреймы](https://drive.google.com/drive/folders/111abiHt33Q-SV48pBPhEgDCZDI5KshnF?usp=sharing)"
      ],
      "metadata": {
        "id": "ec6D0c_ueUPs"
      }
    },
    {
      "cell_type": "markdown",
      "source": [
        "## Headliner"
      ],
      "metadata": {
        "id": "SRtVWsD6eUPt"
      }
    },
    {
      "cell_type": "markdown",
      "source": [
        "*   [`Headliner_df.pkl` Информация о звонках `Headliner`](https://drive.google.com/file/d/13mUHwvx79O4P-AucRdjBYkN5ha8LnCSp/view?usp=sharing)\n",
        "*   [`Headliner_new_df.pkl` Информация о новых звонках `Headliner`](https://drive.google.com/file/d/1-Q1BxLbot7svY5hiqOquHRFvSOcwtpKS/view?usp=sharing)"
      ],
      "metadata": {
        "id": "D0b4r_r_eUPt"
      }
    },
    {
      "cell_type": "markdown",
      "source": [
        "*   [`Headliner_calls_df.pkl` Файлы записей звонков `Headliner`](https://drive.google.com/file/d/13pmGEYacsEHjYsIsYgf6fg4MUHAw509y/view?usp=sharing)\n",
        "*   [`Headliner_new_calls_df.pkl` Файлы записей новых звонков `Headliner`](https://drive.google.com/file/d/1-Ke1q42th_NV0og0e01_-mvJ8HL8JzfS/view?usp=sharing)\n",
        "*   [`Headliner_transcriptions_df` Файлы транскрибации записей звонков `Headliner`](https://drive.google.com/file/d/1ThU49xWSv3T-HK61jRykOR3UDvOVeO4i/view?usp=sharing)\n",
        "*   [`Headliner_new_transcriptions_df.pkl` Файлы транскрибации новых записей звонков `Headliner`](https://drive.google.com/file/d/1-BSmmymyVo8VYyvDXsO1ybXldOJ5eUaH/view?usp=sharing)"
      ],
      "metadata": {
        "id": "oRkYDvvyeUPu"
      }
    },
    {
      "cell_type": "markdown",
      "source": [
        "*   [`Headliner_all_df.pkl` Информация о всех звонках `Headliner`](https://drive.google.com/file/d/1857LwaVtJ364yFMpXemILSuVu84YEPPw/view?usp=sharing)\n",
        "*   [`Headliner_work_df.pkl` Рабочий датафрейм с информацией о всех звонках `Headliner`](https://drive.google.com/file/d/1-HOWuSAngv9dXYiMlyRXX0kmVVAAT4sV/view?usp=sharing)\n",
        "*   [`Headliner_targets_df.pkl` Целевые звонки `Headliner`](https://drive.google.com/file/d/1-J1gcgb2mrNDx3R_3l12kq0htS8PTkSv/view?usp=sharing)\n",
        "*   [`Headliner_not_targets_df.pkl` Нецелевые звонки `Headliner`](https://drive.google.com/file/d/1dGf3UrVeQg0VfFhBL_lZfm-gaczPYBnL/view?usp=sharing)\n",
        "*   [`Headliner_moot_df.pkl` Спорные звонки `Headliner`](https://drive.google.com/file/d/1-7vtN8vJNWgWfY8JE8bqoRXkUpvRE_og/view?usp=sharing)"
      ],
      "metadata": {
        "id": "mDL3pxvjeUPu"
      }
    },
    {
      "cell_type": "markdown",
      "source": [
        "*   [`Headliner_targets_train_df.pkl` Целевые звонки `Headliner` для обучающей выборки](https://drive.google.com/file/d/1mXwujIDOQ_wbP68pl60mEkPVm6dYJf9Y/view?usp=sharing)\n",
        "*   [`Headliner_not_targets_train_df.pkl` Нецелевые звонки `Headliner` для обучающей выборки](https://drive.google.com/file/d/1-CvhJxwCVooN5_OcXUJAl519m76JOvbN/view?usp=sharing)\n",
        "*   [`Headliner_moot_train_df.pkl` Спорные звонки `Headliner` для обучающей выборки](https://drive.google.com/file/d/1-KwRSk9Jrf5Get1dwFvHECmb26QDdhRa/view?usp=sharing)"
      ],
      "metadata": {
        "id": "bVtpCEngH-8W"
      }
    },
    {
      "cell_type": "markdown",
      "source": [
        "*   [`Headliner_targets_test_df.pkl` Целевые звонки `Headliner` для тестовой выборки](https://drive.google.com/file/d/1-3bxOkIwEoSAXNjzE7wjZ8AhM4Z1-xfN/view?usp=sharing)\n",
        "*   [`Headliner_not_targets_test_df.pkl` Нецелевые звонки `Headliner`для тестовой выборки](https://drive.google.com/file/d/1-DAv-KEY8APguoXgIgaonsb1fQ4rrMag/view?usp=sharing)\n",
        "*   [`Headliner_moot_test_df.pkl` Спорные звонки `Headliner`для тестовой выборки](https://drive.google.com/file/d/1-Q-VwKTqoPZohQxBCZRFL-BvZXB7SJhc/view?usp=sharing)"
      ],
      "metadata": {
        "id": "D868cWsyID-Q"
      }
    },
    {
      "cell_type": "markdown",
      "source": [
        "## Primavera"
      ],
      "metadata": {
        "id": "kbc1ff-1eUPv"
      }
    },
    {
      "cell_type": "markdown",
      "source": [
        "*   [`Primavera_df.pkl` Информация о звонках `Primavera`](https://drive.google.com/file/d/1-3csPnjIJXviKJzvbpCfOm29nBgl8L4Q/view?usp=sharing)\n",
        "*   [`Primavera_new_df.pkl` Информация о новых звонках `Primavera`](https://drive.google.com/file/d/1-QmWkabU2_cyrXPeVaiHSt2e6sLuiCtp/view?usp=sharing)"
      ],
      "metadata": {
        "id": "qVHFTfk4eUPv"
      }
    },
    {
      "cell_type": "markdown",
      "source": [
        "*   [`Primavera_calls_df.pkl` Файлы записей звонков `Primavera`](https://drive.google.com/file/d/1-CLRfPyaGSc61OopNuFRlWTG-CBCaM1F/view?usp=sharing)\n",
        "*   [`Primavera_new_calls_df.pkl` Файлы записей новых звонков `Primavera`](https://drive.google.com/file/d/1-Lxa0KifMiByareL94rdEzEpvvMj4D1T/view?usp=sharing)\n",
        "*   [`Primavera_transcriptions_df` Файлы транскрибации записей звонков `Primavera`](https://drive.google.com/file/d/1-21AcHmdkRhKmL0uwWOJ0jHyY8sj1tME/view?usp=sharing)\n",
        "*   [`Primavera_new_transcriptions_df.pkl` Файлы транскрибации новых записей звонков `Primavera`](https://drive.google.com/file/d/1-BtSBVH2JXol5JDA0GKV4NOIz5WUnUd5/view?usp=sharing)"
      ],
      "metadata": {
        "id": "isfUjkQdeUPv"
      }
    },
    {
      "cell_type": "markdown",
      "source": [
        "*   [`Primavera_all_df.pkl` Информация о всех звонках `Primavera`](https://drive.google.com/file/d/1-2-RlxkKHj5e6RkvbrN7_vs1h5aVXJFk/view?usp=sharing)\n",
        "*   [`Primavera_work_df.pkl` Рабочий датафрейм с информацией о всех звонках `Primavera`](https://drive.google.com/file/d/1-INI9JsU9jsOkPDiGMKhftt18KXgF6-K/view?usp=sharing)\n",
        "*   [`Primavera_targets_df.pkl` Целевые звонки `Primavera`](https://drive.google.com/file/d/1-JVtM9fOr6XoM7MVxkoVsYfwdZ6GQ--i/view?usp=sharing)\n",
        "*   [`Primavera_not_targets_df.pkl` Нецелевые звонки `Primavera`](https://drive.google.com/file/d/1-KwG8M-0wEn-5C4ta-B8_xYGCXDOhpnH/view?usp=sharing)"
      ],
      "metadata": {
        "id": "65OiaZuleUPw"
      }
    },
    {
      "cell_type": "markdown",
      "source": [
        "*   [`Primavera_targets_train_df.pkl` Целевые звонки `Primavera` для обучающей выборки](https://drive.google.com/file/d/1WY910LSwTDTf_m7vtFk3z9FqXao0FhZX/view?usp=sharing)\n",
        "*   [`Primavera_not_targets_train_df.pkl` Нецелевые звонки `Primavera` для обучающей выборки](https://drive.google.com/file/d/1-5TvmSizrXJHNXnfdbBafq8CjG65AiMG/view?usp=sharing)"
      ],
      "metadata": {
        "id": "jBoDVYilJfKe"
      }
    },
    {
      "cell_type": "markdown",
      "source": [
        "*   [`Primavera_targets_test_df.pkl` Целевые звонки `Primavera` для тестовой выборки](https://drive.google.com/file/d/1-4s9BrHxpT_fzyXe4E03_GqGIFPZf9Io/view?usp=sharing)\n",
        "*   [`Primavera_not_targets_test_df.pkl` Нецелевые звонки `Primavera`для тестовой выборки](https://drive.google.com/file/d/1-EOHhmMQ7SFhS51_rIh7UCwm68W18twC/view?usp=sharing)"
      ],
      "metadata": {
        "id": "IjBqZg8mJhyT"
      }
    },
    {
      "cell_type": "markdown",
      "source": [
        "## Paveletskaya_city"
      ],
      "metadata": {
        "id": "22vlkN0beUPw"
      }
    },
    {
      "cell_type": "markdown",
      "source": [
        "*   [`Paveletskaya_city_df.pkl` Информация о звонках `Paveletskaya_city`](https://drive.google.com/file/d/1-99dLkSvU3wdwjkGJpwpYUXQjxx8dwEu/view?usp=sharing)\n",
        "*   [`Paveletskaya_df.pkl` Информация о звонках `Paveletskaya_city`](https://drive.google.com/file/d/1-D6LlCFXQBMHceujvnq9H8rlx2jAnzmT/view?usp=sharing)\n",
        "*   [`Paveletskaya_city_new_df.pkl` Информация о новых звонках `Paveletskaya_city`](https://drive.google.com/file/d/1-Rtw9a1no3mKatUjc_FNv_bgUBdNrs_d/view?usp=sharing)"
      ],
      "metadata": {
        "id": "dqdBIi9teUPw"
      }
    },
    {
      "cell_type": "markdown",
      "source": [
        "*   [`Paveletskaya_city_calls_df.pkl` Файлы записей звонков `Paveletskaya_city`](https://drive.google.com/file/d/1-JevsfOpxzLNZmSs34qrswhGzhPwf69S/view?usp=sharing)\n",
        "*   [`Paveletskaya_city_new_calls_df.pkl` Файлы записей новых звонков `Paveletskaya_city`](https://drive.google.com/file/d/1-ODEeFLv15DN5bfLlwyrTx8D3yxydhP9/view?usp=sharing)\n",
        "*   [`Paveletskaya_city_transcriptions_df` Файлы транскрибации записей звонков `Paveletskaya_city`](https://drive.google.com/file/d/1-2kqmIGIraP70ekXB6LBqNjwaTnoxyk5/view?usp=sharing)\n",
        "*   [`Paveletskaya_city_new_transcriptions_df.pkl` Файлы транскрибации новых записей звонков `Paveletskaya_city`](https://drive.google.com/file/d/1-EfA8ZCpGNQk__puhiv1FuxoZC0rXxpj/view?usp=sharing)"
      ],
      "metadata": {
        "id": "LDBkuBxyeUPx"
      }
    },
    {
      "cell_type": "markdown",
      "source": [
        "*   [`Paveletskaya_city_all_df.pkl` Информация о всех звонках `Paveletskaya_city`](https://drive.google.com/file/d/1-Cy78DqRZ3sbIHkg25wzVWPL-lST5oQa/view?usp=sharing)\n",
        "*   [`Paveletskaya_city_work_df.pkl` Рабочий датафрейм с информацией о всех звонках `Paveletskaya_city`](https://drive.google.com/file/d/1-J1BoALFH4-HRdVXjnkyr-fExmtQpUc7/view?usp=sharing)\n",
        "*   [`Paveletskaya_city_targets_df.pkl` Целевые звонки `Paveletskaya_city`](https://drive.google.com/file/d/1-MrjnBHDj65CEjJxLfPnp-hq07V_wtZK/view?usp=sharing)\n",
        "*   [`Paveletskaya_city_not_targets_df.pkl` Нецелевые звонки `Paveletskaya_city`](https://drive.google.com/file/d/1-WCCyYaorHkBYoh5ugNsCkD7cb1PKH6D/view?usp=sharing)"
      ],
      "metadata": {
        "id": "8sY31zxleUPx"
      }
    },
    {
      "cell_type": "markdown",
      "source": [
        "*   [`Paveletskaya_city_targets_train_df.pkl` Целевые звонки `Paveletskaya_city` для обучающей выборки](https://drive.google.com/file/d/1-E_xfQcc9vaGxEJSiUeiEp5fbxn-1bxZ/view?usp=sharing)\n",
        "*   [`Paveletskaya_city_not_targets_train_df.pkl` Нецелевые звонки `Paveletskaya_city` для обучающей выборки](https://drive.google.com/file/d/1-XqcAK06ppsTLagZGpeXX96e2yhDt-iz/view?usp=sharing)"
      ],
      "metadata": {
        "id": "MN_bZUdMKWzC"
      }
    },
    {
      "cell_type": "markdown",
      "source": [
        "*   [`Paveletskaya_city_targets_test_df.pkl` Целевые звонки `Paveletskaya_city` для тестовой выборки](https://drive.google.com/file/d/1-VUl5bcPpEoEsQfyEQZyYy_ESrbx-sR1/view?usp=sharing)\n",
        "*   [`Paveletskaya_city_not_targets_test_df.pkl` Нецелевые звонки `Paveletskaya_city`для тестовой выборки](https://drive.google.com/file/d/1-dCaZZ2NtvODY2KWwsEgwUOhdqD0Szkv/view?usp=sharing)"
      ],
      "metadata": {
        "id": "rfNOFCFyKZKo"
      }
    },
    {
      "cell_type": "markdown",
      "source": [
        "## Сводные датафреймы"
      ],
      "metadata": {
        "id": "hyBXBxv6eUPy"
      }
    },
    {
      "cell_type": "markdown",
      "source": [
        "*   [`total_df.pkl` Сводный датафрейм с информацией о всех звонках](https://drive.google.com/file/d/15ijhw62sp2JNH6pryqZtM5akQHUnsTzi/view?usp=sharing)\n",
        "*   [`total_work_df.pkl` Сводный рабочий датафрейм с информацией о всех звонках](https://drive.google.com/file/d/1-056tLrjP5yRQW8yRtwutvXs3zmPulW7/view?usp=sharing)"
      ],
      "metadata": {
        "id": "ArIV377meUPy"
      }
    },
    {
      "cell_type": "markdown",
      "source": [
        "*   [`train_df.pkl` Обучающая выборка](https://drive.google.com/file/d/1-nipawwiXKNPeMIE2nxlAOZCVK_5N89B/view?usp=sharing)\n",
        "*   [`test_df.pkl` Тестовая выборка](https://drive.google.com/file/d/1-sLBh5rMAhVI7ps68eiSMEVfwjB7PNdT/view?usp=sharing)"
      ],
      "metadata": {
        "id": "lc8ZhhsELA5r"
      }
    },
    {
      "cell_type": "markdown",
      "source": [
        "# 11 неделя"
      ],
      "metadata": {
        "id": "rVDYF0C9YQcB"
      }
    },
    {
      "cell_type": "markdown",
      "source": [
        "## Демонстрация интеграции в `prod`"
      ],
      "metadata": {
        "id": "Vc-723j884jb"
      }
    },
    {
      "cell_type": "markdown",
      "source": [
        "### head-liner.ru"
      ],
      "metadata": {
        "id": "wgzJoDNDczVj"
      }
    },
    {
      "cell_type": "code",
      "source": [
        "# Загрузка токенайзера\n",
        "import gdown\n",
        "url = 'https://drive.google.com/file/d/1-cPqoIlY56nNjeCVFN-j3YO-aTf8NdkS/view?usp=sharing'\n",
        "gdown.download(url, quiet=True, fuzzy=True)"
      ],
      "metadata": {
        "colab": {
          "base_uri": "https://localhost:8080/",
          "height": 35
        },
        "id": "g86XpWmBk80u",
        "outputId": "c98c75d8-f894-4c0b-cea1-db77f9c5719b"
      },
      "execution_count": 1,
      "outputs": [
        {
          "output_type": "execute_result",
          "data": {
            "text/plain": [
              "'tokenizer.pkl'"
            ],
            "application/vnd.google.colaboratory.intrinsic+json": {
              "type": "string"
            }
          },
          "metadata": {},
          "execution_count": 1
        }
      ]
    },
    {
      "cell_type": "code",
      "source": [
        "# Загрузка модели нейронной сети\n",
        "url = 'https://drive.google.com/file/d/1-czQCHQMtlxdtdQVTla9LTGCFdVcX3JM/view?usp=sharing'\n",
        "gdown.download(url, quiet=True, fuzzy=True)"
      ],
      "metadata": {
        "colab": {
          "base_uri": "https://localhost:8080/",
          "height": 35
        },
        "id": "70tHnc0dghT8",
        "outputId": "d8fc1ab7-1a93-4c8d-f3a7-0f858b61c972"
      },
      "execution_count": 2,
      "outputs": [
        {
          "output_type": "execute_result",
          "data": {
            "text/plain": [
              "'model_BoW.keras'"
            ],
            "application/vnd.google.colaboratory.intrinsic+json": {
              "type": "string"
            }
          },
          "metadata": {},
          "execution_count": 2
        }
      ]
    },
    {
      "cell_type": "code",
      "source": [
        "# Загрузка информации о звонках\n",
        "import pandas as pd\n",
        "url = 'https://drive.google.com/file/d/1A3iuMNcDI_J7BlNvERDlmj90WMvMcPcR/view?usp=drive_link'\n",
        "df = pd.read_csv('https://drive.google.com/uc?id=' + url.split('/')[-2],\n",
        "                 skiprows=4,\n",
        "                 sep=';',\n",
        "                 on_bad_lines='skip')\n",
        "df.shape"
      ],
      "metadata": {
        "colab": {
          "base_uri": "https://localhost:8080/"
        },
        "id": "2wKX4tf7f4q2",
        "outputId": "267972b2-725b-462c-952e-79f7098794b5"
      },
      "execution_count": 3,
      "outputs": [
        {
          "output_type": "execute_result",
          "data": {
            "text/plain": [
              "(4752, 72)"
            ]
          },
          "metadata": {},
          "execution_count": 3
        }
      ]
    },
    {
      "cell_type": "code",
      "source": [
        "# Загрузка записей звонков\n",
        "url = 'https://drive.google.com/drive/folders/1ynAu-3i0f1tS6UGqapmPGDFcJZLoCrAQ?usp=drive_link'\n",
        "gdown.download_folder(url, quiet=True, remaining_ok=True)"
      ],
      "metadata": {
        "colab": {
          "base_uri": "https://localhost:8080/"
        },
        "id": "X6Vb3UARWBSU",
        "outputId": "511fbf9a-5230-4235-9c83-d78f92277832"
      },
      "execution_count": 4,
      "outputs": [
        {
          "output_type": "execute_result",
          "data": {
            "text/plain": [
              "['/content/Записи звонков_хедлайнер/2023-05-08_10-41-56.911054_from_79250817178_to_74959339929_session_2928050751_talk.mp3',\n",
              " '/content/Записи звонков_хедлайнер/2023-05-08_11-43-52.513973_from_79827693228_to_0188880_session_2937971588_talk.mp3',\n",
              " '/content/Записи звонков_хедлайнер/2023-05-08_12-34-46.730988_from_79622801999_to_0188880_session_2928807121_talk.mp3',\n",
              " '/content/Записи звонков_хедлайнер/2023-05-08_12-35-55.567230_from_79622801999_to_0188880_session_2938080128_talk.mp3',\n",
              " '/content/Записи звонков_хедлайнер/2023-05-08_12-51-38.868213_from_74997040921_to_0188880_session_2928283255_talk.mp3',\n",
              " '/content/Записи звонков_хедлайнер/2023-05-08_13-50-28.475837_from_79279152761_to_79191089861_session_2928935657_talk.mp3',\n",
              " '/content/Записи звонков_хедлайнер/2023-05-08_13-52-16.157543_from_79279152761_to_79191089861_session_2928938049_talk.mp3',\n",
              " '/content/Записи звонков_хедлайнер/2023-05-08_14-16-30.536713_from_79261116646_to_0188880_session_2928975097_talk.mp3',\n",
              " '/content/Записи звонков_хедлайнер/2023-05-08_14-47-04.517454_from_79282143214_to_0188880_session_2938333136_talk.mp3',\n",
              " '/content/Записи звонков_хедлайнер/2023-05-08_16-14-10.247769_from_74955199580_to_74997552563_session_2918538922_talk.mp3',\n",
              " '/content/Записи звонков_хедлайнер/2023-05-08_18-50-13.838052_from_74954174271_to_0188880_session_2929370545_talk.mp3',\n",
              " '/content/Записи звонков_хедлайнер/2023-05-09_10-32-18.366336_from_79508730557_to_0188880_session_2939148092_talk.mp3',\n",
              " '/content/Записи звонков_хедлайнер/2023-05-09_11-53-48.291185_from_79910665524_to_74997552563_session_2919161802_talk.mp3',\n",
              " '/content/Записи звонков_хедлайнер/2023-05-09_12-17-32.617113_from_79064011000_to_74959339902_session_2929311247_talk.mp3',\n",
              " '/content/Записи звонков_хедлайнер/2023-05-09_13-10-50.367190_from_74992419775_to_0188880_session_2929372379_talk.mp3',\n",
              " '/content/Записи звонков_хедлайнер/2023-05-09_13-58-58.773808_from_79823830002_to_74997552563_session_2939439048_talk.mp3',\n",
              " '/content/Записи звонков_хедлайнер/2023-05-09_14-30-38.161392_from_79096321475_to_74957898990_session_2929465891_talk.mp3',\n",
              " '/content/Записи звонков_хедлайнер/2023-05-09_14-50-18.968938_from_79777980969_to_74957898990_session_2939506208_talk.mp3',\n",
              " '/content/Записи звонков_хедлайнер/2023-05-09_16-37-17.090565_from_79274430921_to_0188880_session_2939644136_talk.mp3',\n",
              " '/content/Записи звонков_хедлайнер/2023-05-09_16-55-59.935127_from_79274430921_to_0188880_session_2929623235_talk.mp3',\n",
              " '/content/Записи звонков_хедлайнер/2023-05-09_17-03-41.886158_from_79258813188_to_0188880_session_2930211973_talk.mp3',\n",
              " '/content/Записи звонков_хедлайнер/2023-05-09_17-37-05.805616_from_79274431194_to_0188880_session_2939712644_talk.mp3',\n",
              " '/content/Записи звонков_хедлайнер/2023-05-09_17-39-02.495114_from_79031412453_to_74997552563_session_2930249245_talk.mp3',\n",
              " '/content/Записи звонков_хедлайнер/2023-05-09_17-51-30.193682_from_79670165153_to_0188880_session_2919520238_talk.mp3',\n",
              " '/content/Записи звонков_хедлайнер/2023-05-09_18-34-04.371381_from_79274431546_to_74997552563_session_2919550530_talk.mp3',\n",
              " '/content/Записи звонков_хедлайнер/2023-05-09_20-19-21.050197_from_79274432048_to_74997552563_session_2919615074_talk.mp3',\n",
              " '/content/Записи звонков_хедлайнер/2023-05-10_09-46-49.632110_from_79115639000_to_0188880_session_2930217007_talk.mp3',\n",
              " '/content/Записи звонков_хедлайнер/2023-05-10_10-09-17.271771_from_79663447052_to_0188880_session_2920087786_talk.mp3',\n",
              " '/content/Записи звонков_хедлайнер/2023-05-10_10-45-26.907399_from_79639641553_to_0188880_session_2920207590_talk.mp3',\n",
              " '/content/Записи звонков_хедлайнер/2023-05-10_10-57-09.082275_from_79633409369_to_74957898990_session_2920243890_talk.mp3',\n",
              " '/content/Записи звонков_хедлайнер/2023-05-10_10-58-13.824596_from_79336668096_to_74957898990_session_2931066829_talk.mp3',\n",
              " '/content/Записи звонков_хедлайнер/2023-05-10_11-35-13.054375_from_79167542257_to_74997552563_session_2931126469_talk.mp3',\n",
              " '/content/Записи звонков_хедлайнер/2023-05-10_11-56-49.809252_from_79639641553_to_0188880_session_2940892544_talk.mp3',\n",
              " '/content/Записи звонков_хедлайнер/2023-05-10_12-04-01.602916_from_79264597706_to_0188880_session_2930744767_talk.mp3',\n",
              " '/content/Записи звонков_хедлайнер/2023-05-10_12-18-13.490067_from_79268458847_to_0188880_session_2931380841_talk.mp3',\n",
              " '/content/Записи звонков_хедлайнер/2023-05-10_12-29-50.389904_from_79160640610_to_74959339902_session_2930835239_talk.mp3',\n",
              " '/content/Записи звонков_хедлайнер/2023-05-10_12-30-44.828361_from_79261991702_to_0188880_session_2930842543_talk.mp3',\n",
              " '/content/Записи звонков_хедлайнер/2023-05-10_12-45-52.597185_from_79262946005_to_74959339929_session_2931495869_talk.mp3',\n",
              " '/content/Записи звонков_хедлайнер/2023-05-10_13-33-11.389371_from_79857216036_to_79154084359_session_2931067143_talk.mp3',\n",
              " '/content/Записи звонков_хедлайнер/2023-05-10_13-36-53.604277_from_79857216036_to_79191089861_session_2941298624_talk.mp3',\n",
              " '/content/Записи звонков_хедлайнер/2023-05-10_14-39-40.846623_from_79256261275_to_0188880_session_2920974222_talk.mp3',\n",
              " '/content/Записи звонков_хедлайнер/2023-05-10_14-41-41.751866_from_79035679376_to_79191089861_session_2941565172_talk.mp3',\n",
              " '/content/Записи звонков_хедлайнер/2023-05-10_14-45-40.026570_from_79823830002_to_74997552563_session_2920990562_talk.mp3',\n",
              " '/content/Записи звонков_хедлайнер/2023-05-10_14-54-56.479785_from_79264597706_to_0188880_session_2931941177_talk.mp3',\n",
              " '/content/Записи звонков_хедлайнер/2023-05-10_15-00-19.626284_from_79263608103_to_0188880_session_2931953205_talk.mp3',\n",
              " '/content/Записи звонков_хедлайнер/2023-05-10_15-00-57.316539_from_79263608103_to_0188880_session_2931957661_talk.mp3',\n",
              " '/content/Записи звонков_хедлайнер/2023-05-10_15-02-35.118332_from_79852613834_to_0188880_session_2931384623_talk.mp3',\n",
              " '/content/Записи звонков_хедлайнер/2023-05-10_15-41-10.970727_from_79255890397_to_0188880_session_2921167086_talk.mp3',\n",
              " '/content/Записи звонков_хедлайнер/2023-05-10_15-58-20.766372_from_79091597661_to_0188880_session_2941752812_talk.mp3',\n",
              " '/content/Записи звонков_хедлайнер/2023-05-10_16-05-49.015072_from_79851934089_to_0188880_session_2932192025_talk.mp3']"
            ]
          },
          "metadata": {},
          "execution_count": 4
        }
      ]
    },
    {
      "cell_type": "code",
      "source": [
        "# Добавление в датафрейм с информацией о звонках столбцов 'Файл записи звонка' и 'Проект'\n",
        "import os\n",
        "df = df.astype({'Идентификатор сессии звонка': int})\n",
        "for sample_file in os.listdir('Записи звонков_хедлайнер'):\n",
        "  df.loc[df[df['Идентификатор сессии звонка'] == int(sample_file.split('_')[-2])].index, 'Файл записи звонка'] = 'Записи звонков_хедлайнер/' + sample_file\n",
        "  df.loc[df[df['Идентификатор сессии звонка'] == int(sample_file.split('_')[-2])].index, 'Проект'] = 'head-liner.ru'"
      ],
      "metadata": {
        "id": "DJYLMz5NKc8S"
      },
      "execution_count": 5,
      "outputs": []
    },
    {
      "cell_type": "code",
      "source": [
        "# Выбор столбцов, необходимых для инференса модели нейронной сети и оценки\n",
        "df = df[['Идентификатор сессии звонка',\n",
        "         'Файл записи звонка',\n",
        "         'Проект',\n",
        "         'Теги']][df['Проект'] == 'head-liner.ru']\n",
        "df.shape"
      ],
      "metadata": {
        "colab": {
          "base_uri": "https://localhost:8080/"
        },
        "id": "4T_tL66SQkqO",
        "outputId": "54bae909-8eb0-4ee1-fc2b-ebfa6015b736"
      },
      "execution_count": 6,
      "outputs": [
        {
          "output_type": "execute_result",
          "data": {
            "text/plain": [
              "(50, 4)"
            ]
          },
          "metadata": {},
          "execution_count": 6
        }
      ]
    },
    {
      "cell_type": "code",
      "source": [
        "df.head()"
      ],
      "metadata": {
        "colab": {
          "base_uri": "https://localhost:8080/",
          "height": 206
        },
        "id": "jgLiYikE2jHK",
        "outputId": "eeb458d5-9e2e-4830-e215-e055e56c85c0"
      },
      "execution_count": 7,
      "outputs": [
        {
          "output_type": "execute_result",
          "data": {
            "text/plain": [
              "      Идентификатор сессии звонка  \\\n",
              "4296                   2932192025   \n",
              "4297                   2941752812   \n",
              "4298                   2921167086   \n",
              "4301                   2931384623   \n",
              "4302                   2931957661   \n",
              "\n",
              "                                     Файл записи звонка         Проект  \\\n",
              "4296  Записи звонков_хедлайнер/2023-05-10_16-05-49.0...  head-liner.ru   \n",
              "4297  Записи звонков_хедлайнер/2023-05-10_15-58-20.7...  head-liner.ru   \n",
              "4298  Записи звонков_хедлайнер/2023-05-10_15-41-10.9...  head-liner.ru   \n",
              "4301  Записи звонков_хедлайнер/2023-05-10_15-02-35.1...  head-liner.ru   \n",
              "4302  Записи звонков_хедлайнер/2023-05-10_15-00-57.3...  head-liner.ru   \n",
              "\n",
              "                                           Теги  \n",
              "4296                   спорный - нет соединения  \n",
              "4297                                       Спам  \n",
              "4298                   спорный - нет соединения  \n",
              "4301  Лид - 3 очередь - 2-ком - Условно целевой  \n",
              "4302                  Нецелевой звонок - ошибка  "
            ],
            "text/html": [
              "\n",
              "  <div id=\"df-4a7561c6-cbe8-4328-941d-8ac5d9aa914e\" class=\"colab-df-container\">\n",
              "    <div>\n",
              "<style scoped>\n",
              "    .dataframe tbody tr th:only-of-type {\n",
              "        vertical-align: middle;\n",
              "    }\n",
              "\n",
              "    .dataframe tbody tr th {\n",
              "        vertical-align: top;\n",
              "    }\n",
              "\n",
              "    .dataframe thead th {\n",
              "        text-align: right;\n",
              "    }\n",
              "</style>\n",
              "<table border=\"1\" class=\"dataframe\">\n",
              "  <thead>\n",
              "    <tr style=\"text-align: right;\">\n",
              "      <th></th>\n",
              "      <th>Идентификатор сессии звонка</th>\n",
              "      <th>Файл записи звонка</th>\n",
              "      <th>Проект</th>\n",
              "      <th>Теги</th>\n",
              "    </tr>\n",
              "  </thead>\n",
              "  <tbody>\n",
              "    <tr>\n",
              "      <th>4296</th>\n",
              "      <td>2932192025</td>\n",
              "      <td>Записи звонков_хедлайнер/2023-05-10_16-05-49.0...</td>\n",
              "      <td>head-liner.ru</td>\n",
              "      <td>спорный - нет соединения</td>\n",
              "    </tr>\n",
              "    <tr>\n",
              "      <th>4297</th>\n",
              "      <td>2941752812</td>\n",
              "      <td>Записи звонков_хедлайнер/2023-05-10_15-58-20.7...</td>\n",
              "      <td>head-liner.ru</td>\n",
              "      <td>Спам</td>\n",
              "    </tr>\n",
              "    <tr>\n",
              "      <th>4298</th>\n",
              "      <td>2921167086</td>\n",
              "      <td>Записи звонков_хедлайнер/2023-05-10_15-41-10.9...</td>\n",
              "      <td>head-liner.ru</td>\n",
              "      <td>спорный - нет соединения</td>\n",
              "    </tr>\n",
              "    <tr>\n",
              "      <th>4301</th>\n",
              "      <td>2931384623</td>\n",
              "      <td>Записи звонков_хедлайнер/2023-05-10_15-02-35.1...</td>\n",
              "      <td>head-liner.ru</td>\n",
              "      <td>Лид - 3 очередь - 2-ком - Условно целевой</td>\n",
              "    </tr>\n",
              "    <tr>\n",
              "      <th>4302</th>\n",
              "      <td>2931957661</td>\n",
              "      <td>Записи звонков_хедлайнер/2023-05-10_15-00-57.3...</td>\n",
              "      <td>head-liner.ru</td>\n",
              "      <td>Нецелевой звонок - ошибка</td>\n",
              "    </tr>\n",
              "  </tbody>\n",
              "</table>\n",
              "</div>\n",
              "    <div class=\"colab-df-buttons\">\n",
              "\n",
              "  <div class=\"colab-df-container\">\n",
              "    <button class=\"colab-df-convert\" onclick=\"convertToInteractive('df-4a7561c6-cbe8-4328-941d-8ac5d9aa914e')\"\n",
              "            title=\"Convert this dataframe to an interactive table.\"\n",
              "            style=\"display:none;\">\n",
              "\n",
              "  <svg xmlns=\"http://www.w3.org/2000/svg\" height=\"24px\" viewBox=\"0 -960 960 960\">\n",
              "    <path d=\"M120-120v-720h720v720H120Zm60-500h600v-160H180v160Zm220 220h160v-160H400v160Zm0 220h160v-160H400v160ZM180-400h160v-160H180v160Zm440 0h160v-160H620v160ZM180-180h160v-160H180v160Zm440 0h160v-160H620v160Z\"/>\n",
              "  </svg>\n",
              "    </button>\n",
              "\n",
              "  <style>\n",
              "    .colab-df-container {\n",
              "      display:flex;\n",
              "      gap: 12px;\n",
              "    }\n",
              "\n",
              "    .colab-df-convert {\n",
              "      background-color: #E8F0FE;\n",
              "      border: none;\n",
              "      border-radius: 50%;\n",
              "      cursor: pointer;\n",
              "      display: none;\n",
              "      fill: #1967D2;\n",
              "      height: 32px;\n",
              "      padding: 0 0 0 0;\n",
              "      width: 32px;\n",
              "    }\n",
              "\n",
              "    .colab-df-convert:hover {\n",
              "      background-color: #E2EBFA;\n",
              "      box-shadow: 0px 1px 2px rgba(60, 64, 67, 0.3), 0px 1px 3px 1px rgba(60, 64, 67, 0.15);\n",
              "      fill: #174EA6;\n",
              "    }\n",
              "\n",
              "    .colab-df-buttons div {\n",
              "      margin-bottom: 4px;\n",
              "    }\n",
              "\n",
              "    [theme=dark] .colab-df-convert {\n",
              "      background-color: #3B4455;\n",
              "      fill: #D2E3FC;\n",
              "    }\n",
              "\n",
              "    [theme=dark] .colab-df-convert:hover {\n",
              "      background-color: #434B5C;\n",
              "      box-shadow: 0px 1px 3px 1px rgba(0, 0, 0, 0.15);\n",
              "      filter: drop-shadow(0px 1px 2px rgba(0, 0, 0, 0.3));\n",
              "      fill: #FFFFFF;\n",
              "    }\n",
              "  </style>\n",
              "\n",
              "    <script>\n",
              "      const buttonEl =\n",
              "        document.querySelector('#df-4a7561c6-cbe8-4328-941d-8ac5d9aa914e button.colab-df-convert');\n",
              "      buttonEl.style.display =\n",
              "        google.colab.kernel.accessAllowed ? 'block' : 'none';\n",
              "\n",
              "      async function convertToInteractive(key) {\n",
              "        const element = document.querySelector('#df-4a7561c6-cbe8-4328-941d-8ac5d9aa914e');\n",
              "        const dataTable =\n",
              "          await google.colab.kernel.invokeFunction('convertToInteractive',\n",
              "                                                    [key], {});\n",
              "        if (!dataTable) return;\n",
              "\n",
              "        const docLinkHtml = 'Like what you see? Visit the ' +\n",
              "          '<a target=\"_blank\" href=https://colab.research.google.com/notebooks/data_table.ipynb>data table notebook</a>'\n",
              "          + ' to learn more about interactive tables.';\n",
              "        element.innerHTML = '';\n",
              "        dataTable['output_type'] = 'display_data';\n",
              "        await google.colab.output.renderOutput(dataTable, element);\n",
              "        const docLink = document.createElement('div');\n",
              "        docLink.innerHTML = docLinkHtml;\n",
              "        element.appendChild(docLink);\n",
              "      }\n",
              "    </script>\n",
              "  </div>\n",
              "\n",
              "\n",
              "<div id=\"df-b3194ef1-eba0-475a-896a-aed2c4799a4e\">\n",
              "  <button class=\"colab-df-quickchart\" onclick=\"quickchart('df-b3194ef1-eba0-475a-896a-aed2c4799a4e')\"\n",
              "            title=\"Suggest charts\"\n",
              "            style=\"display:none;\">\n",
              "\n",
              "<svg xmlns=\"http://www.w3.org/2000/svg\" height=\"24px\"viewBox=\"0 0 24 24\"\n",
              "     width=\"24px\">\n",
              "    <g>\n",
              "        <path d=\"M19 3H5c-1.1 0-2 .9-2 2v14c0 1.1.9 2 2 2h14c1.1 0 2-.9 2-2V5c0-1.1-.9-2-2-2zM9 17H7v-7h2v7zm4 0h-2V7h2v10zm4 0h-2v-4h2v4z\"/>\n",
              "    </g>\n",
              "</svg>\n",
              "  </button>\n",
              "\n",
              "<style>\n",
              "  .colab-df-quickchart {\n",
              "      --bg-color: #E8F0FE;\n",
              "      --fill-color: #1967D2;\n",
              "      --hover-bg-color: #E2EBFA;\n",
              "      --hover-fill-color: #174EA6;\n",
              "      --disabled-fill-color: #AAA;\n",
              "      --disabled-bg-color: #DDD;\n",
              "  }\n",
              "\n",
              "  [theme=dark] .colab-df-quickchart {\n",
              "      --bg-color: #3B4455;\n",
              "      --fill-color: #D2E3FC;\n",
              "      --hover-bg-color: #434B5C;\n",
              "      --hover-fill-color: #FFFFFF;\n",
              "      --disabled-bg-color: #3B4455;\n",
              "      --disabled-fill-color: #666;\n",
              "  }\n",
              "\n",
              "  .colab-df-quickchart {\n",
              "    background-color: var(--bg-color);\n",
              "    border: none;\n",
              "    border-radius: 50%;\n",
              "    cursor: pointer;\n",
              "    display: none;\n",
              "    fill: var(--fill-color);\n",
              "    height: 32px;\n",
              "    padding: 0;\n",
              "    width: 32px;\n",
              "  }\n",
              "\n",
              "  .colab-df-quickchart:hover {\n",
              "    background-color: var(--hover-bg-color);\n",
              "    box-shadow: 0 1px 2px rgba(60, 64, 67, 0.3), 0 1px 3px 1px rgba(60, 64, 67, 0.15);\n",
              "    fill: var(--button-hover-fill-color);\n",
              "  }\n",
              "\n",
              "  .colab-df-quickchart-complete:disabled,\n",
              "  .colab-df-quickchart-complete:disabled:hover {\n",
              "    background-color: var(--disabled-bg-color);\n",
              "    fill: var(--disabled-fill-color);\n",
              "    box-shadow: none;\n",
              "  }\n",
              "\n",
              "  .colab-df-spinner {\n",
              "    border: 2px solid var(--fill-color);\n",
              "    border-color: transparent;\n",
              "    border-bottom-color: var(--fill-color);\n",
              "    animation:\n",
              "      spin 1s steps(1) infinite;\n",
              "  }\n",
              "\n",
              "  @keyframes spin {\n",
              "    0% {\n",
              "      border-color: transparent;\n",
              "      border-bottom-color: var(--fill-color);\n",
              "      border-left-color: var(--fill-color);\n",
              "    }\n",
              "    20% {\n",
              "      border-color: transparent;\n",
              "      border-left-color: var(--fill-color);\n",
              "      border-top-color: var(--fill-color);\n",
              "    }\n",
              "    30% {\n",
              "      border-color: transparent;\n",
              "      border-left-color: var(--fill-color);\n",
              "      border-top-color: var(--fill-color);\n",
              "      border-right-color: var(--fill-color);\n",
              "    }\n",
              "    40% {\n",
              "      border-color: transparent;\n",
              "      border-right-color: var(--fill-color);\n",
              "      border-top-color: var(--fill-color);\n",
              "    }\n",
              "    60% {\n",
              "      border-color: transparent;\n",
              "      border-right-color: var(--fill-color);\n",
              "    }\n",
              "    80% {\n",
              "      border-color: transparent;\n",
              "      border-right-color: var(--fill-color);\n",
              "      border-bottom-color: var(--fill-color);\n",
              "    }\n",
              "    90% {\n",
              "      border-color: transparent;\n",
              "      border-bottom-color: var(--fill-color);\n",
              "    }\n",
              "  }\n",
              "</style>\n",
              "\n",
              "  <script>\n",
              "    async function quickchart(key) {\n",
              "      const quickchartButtonEl =\n",
              "        document.querySelector('#' + key + ' button');\n",
              "      quickchartButtonEl.disabled = true;  // To prevent multiple clicks.\n",
              "      quickchartButtonEl.classList.add('colab-df-spinner');\n",
              "      try {\n",
              "        const charts = await google.colab.kernel.invokeFunction(\n",
              "            'suggestCharts', [key], {});\n",
              "      } catch (error) {\n",
              "        console.error('Error during call to suggestCharts:', error);\n",
              "      }\n",
              "      quickchartButtonEl.classList.remove('colab-df-spinner');\n",
              "      quickchartButtonEl.classList.add('colab-df-quickchart-complete');\n",
              "    }\n",
              "    (() => {\n",
              "      let quickchartButtonEl =\n",
              "        document.querySelector('#df-b3194ef1-eba0-475a-896a-aed2c4799a4e button');\n",
              "      quickchartButtonEl.style.display =\n",
              "        google.colab.kernel.accessAllowed ? 'block' : 'none';\n",
              "    })();\n",
              "  </script>\n",
              "</div>\n",
              "    </div>\n",
              "  </div>\n"
            ]
          },
          "metadata": {},
          "execution_count": 7
        }
      ]
    },
    {
      "cell_type": "code",
      "source": [
        "# Сохранение в json\n",
        "df.to_json('input.json', orient='records', force_ascii=False)"
      ],
      "metadata": {
        "id": "Lo_1Vx_NVUK-"
      },
      "execution_count": 8,
      "outputs": []
    },
    {
      "cell_type": "code",
      "source": [
        "# Установка cohere, openai и tiktoken\n",
        "!pip -q install cohere openai==1.2.3 tiktoken==0.5.1"
      ],
      "metadata": {
        "colab": {
          "base_uri": "https://localhost:8080/"
        },
        "id": "UwOqdvHdc9c7",
        "outputId": "9f1ea5a1-189a-4b3c-a113-5879ba314eb0"
      },
      "execution_count": 9,
      "outputs": [
        {
          "output_type": "stream",
          "name": "stdout",
          "text": [
            "\u001b[?25l     \u001b[90m━━━━━━━━━━━━━━━━━━━━━━━━━━━━━━━━━━━━━━━━\u001b[0m \u001b[32m0.0/51.7 kB\u001b[0m \u001b[31m?\u001b[0m eta \u001b[36m-:--:--\u001b[0m\r\u001b[2K     \u001b[90m━━━━━━━━━━━━━━━━━━━━━━━━━━━━━━━━━━━━━━━━\u001b[0m \u001b[32m51.7/51.7 kB\u001b[0m \u001b[31m1.2 MB/s\u001b[0m eta \u001b[36m0:00:00\u001b[0m\n",
            "\u001b[2K     \u001b[90m━━━━━━━━━━━━━━━━━━━━━━━━━━━━━━━━━━━━━━━━\u001b[0m \u001b[32m220.3/220.3 kB\u001b[0m \u001b[31m8.3 MB/s\u001b[0m eta \u001b[36m0:00:00\u001b[0m\n",
            "\u001b[2K     \u001b[90m━━━━━━━━━━━━━━━━━━━━━━━━━━━━━━━━━━━━━━━━\u001b[0m \u001b[32m2.0/2.0 MB\u001b[0m \u001b[31m47.3 MB/s\u001b[0m eta \u001b[36m0:00:00\u001b[0m\n",
            "\u001b[2K     \u001b[90m━━━━━━━━━━━━━━━━━━━━━━━━━━━━━━━━━━━━━━━━\u001b[0m \u001b[32m75.9/75.9 kB\u001b[0m \u001b[31m9.1 MB/s\u001b[0m eta \u001b[36m0:00:00\u001b[0m\n",
            "\u001b[2K     \u001b[90m━━━━━━━━━━━━━━━━━━━━━━━━━━━━━━━━━━━━━━━━\u001b[0m \u001b[32m3.1/3.1 MB\u001b[0m \u001b[31m84.9 MB/s\u001b[0m eta \u001b[36m0:00:00\u001b[0m\n",
            "\u001b[2K     \u001b[90m━━━━━━━━━━━━━━━━━━━━━━━━━━━━━━━━━━━━━━━━\u001b[0m \u001b[32m76.9/76.9 kB\u001b[0m \u001b[31m10.5 MB/s\u001b[0m eta \u001b[36m0:00:00\u001b[0m\n",
            "\u001b[2K     \u001b[90m━━━━━━━━━━━━━━━━━━━━━━━━━━━━━━━━━━━━━━━━\u001b[0m \u001b[32m58.3/58.3 kB\u001b[0m \u001b[31m8.1 MB/s\u001b[0m eta \u001b[36m0:00:00\u001b[0m\n",
            "\u001b[?25h"
          ]
        }
      ]
    },
    {
      "cell_type": "code",
      "source": [
        "# Установка openai-whisper\n",
        "!pip -q install openai-whisper"
      ],
      "metadata": {
        "colab": {
          "base_uri": "https://localhost:8080/"
        },
        "id": "rRCNfsVdc-z4",
        "outputId": "2781bc85-b247-4c39-c3df-7cdf4cafa781"
      },
      "execution_count": 10,
      "outputs": [
        {
          "output_type": "stream",
          "name": "stdout",
          "text": [
            "\u001b[?25l     \u001b[90m━━━━━━━━━━━━━━━━━━━━━━━━━━━━━━━━━━━━━━━━\u001b[0m \u001b[32m0.0/798.6 kB\u001b[0m \u001b[31m?\u001b[0m eta \u001b[36m-:--:--\u001b[0m\r\u001b[2K     \u001b[91m━━━\u001b[0m\u001b[90m╺\u001b[0m\u001b[90m━━━━━━━━━━━━━━━━━━━━━━━━━━━━━━━━━━━━\u001b[0m \u001b[32m61.4/798.6 kB\u001b[0m \u001b[31m1.7 MB/s\u001b[0m eta \u001b[36m0:00:01\u001b[0m\r\u001b[2K     \u001b[91m━━━━━━━━━━━━━━━━━━━━━━━━━━━━━━━\u001b[0m\u001b[90m╺\u001b[0m\u001b[90m━━━━━━━━\u001b[0m \u001b[32m624.6/798.6 kB\u001b[0m \u001b[31m8.9 MB/s\u001b[0m eta \u001b[36m0:00:01\u001b[0m\r\u001b[2K     \u001b[90m━━━━━━━━━━━━━━━━━━━━━━━━━━━━━━━━━━━━━━━━\u001b[0m \u001b[32m798.6/798.6 kB\u001b[0m \u001b[31m8.7 MB/s\u001b[0m eta \u001b[36m0:00:00\u001b[0m\n",
            "\u001b[?25h  Installing build dependencies ... \u001b[?25l\u001b[?25hdone\n",
            "  Getting requirements to build wheel ... \u001b[?25l\u001b[?25hdone\n",
            "  Preparing metadata (pyproject.toml) ... \u001b[?25l\u001b[?25hdone\n",
            "  Building wheel for openai-whisper (pyproject.toml) ... \u001b[?25l\u001b[?25hdone\n"
          ]
        }
      ]
    },
    {
      "cell_type": "code",
      "source": [
        "# Установка fastapi и дополнительных библиотек\n",
        "!pip -q install fastapi uvicorn python-multipart typing-extensions==4.5.0 kaleido"
      ],
      "metadata": {
        "colab": {
          "base_uri": "https://localhost:8080/"
        },
        "id": "MUhoQYHCdYqE",
        "outputId": "2c0e157f-a210-4726-bf18-fc23fa6038e3"
      },
      "execution_count": 11,
      "outputs": [
        {
          "output_type": "stream",
          "name": "stdout",
          "text": [
            "\u001b[2K     \u001b[90m━━━━━━━━━━━━━━━━━━━━━━━━━━━━━━━━━━━━━━━━\u001b[0m \u001b[32m92.0/92.0 kB\u001b[0m \u001b[31m1.5 MB/s\u001b[0m eta \u001b[36m0:00:00\u001b[0m\n",
            "\u001b[2K     \u001b[90m━━━━━━━━━━━━━━━━━━━━━━━━━━━━━━━━━━━━━━━━\u001b[0m \u001b[32m60.3/60.3 kB\u001b[0m \u001b[31m5.7 MB/s\u001b[0m eta \u001b[36m0:00:00\u001b[0m\n",
            "\u001b[2K     \u001b[90m━━━━━━━━━━━━━━━━━━━━━━━━━━━━━━━━━━━━━━━━\u001b[0m \u001b[32m45.7/45.7 kB\u001b[0m \u001b[31m4.6 MB/s\u001b[0m eta \u001b[36m0:00:00\u001b[0m\n",
            "\u001b[2K     \u001b[90m━━━━━━━━━━━━━━━━━━━━━━━━━━━━━━━━━━━━━━━━\u001b[0m \u001b[32m79.9/79.9 MB\u001b[0m \u001b[31m6.7 MB/s\u001b[0m eta \u001b[36m0:00:00\u001b[0m\n",
            "\u001b[2K     \u001b[90m━━━━━━━━━━━━━━━━━━━━━━━━━━━━━━━━━━━━━━━━\u001b[0m \u001b[32m70.0/70.0 kB\u001b[0m \u001b[31m9.5 MB/s\u001b[0m eta \u001b[36m0:00:00\u001b[0m\n",
            "\u001b[2K     \u001b[90m━━━━━━━━━━━━━━━━━━━━━━━━━━━━━━━━━━━━━━━━\u001b[0m \u001b[32m92.1/92.1 kB\u001b[0m \u001b[31m13.1 MB/s\u001b[0m eta \u001b[36m0:00:00\u001b[0m\n",
            "\u001b[2K     \u001b[90m━━━━━━━━━━━━━━━━━━━━━━━━━━━━━━━━━━━━━━━━\u001b[0m \u001b[32m68.9/68.9 kB\u001b[0m \u001b[31m9.9 MB/s\u001b[0m eta \u001b[36m0:00:00\u001b[0m\n",
            "\u001b[2K     \u001b[90m━━━━━━━━━━━━━━━━━━━━━━━━━━━━━━━━━━━━━━━━\u001b[0m \u001b[32m92.1/92.1 kB\u001b[0m \u001b[31m12.8 MB/s\u001b[0m eta \u001b[36m0:00:00\u001b[0m\n",
            "\u001b[2K     \u001b[90m━━━━━━━━━━━━━━━━━━━━━━━━━━━━━━━━━━━━━━━━\u001b[0m \u001b[32m67.0/67.0 kB\u001b[0m \u001b[31m7.6 MB/s\u001b[0m eta \u001b[36m0:00:00\u001b[0m\n",
            "\u001b[2K     \u001b[90m━━━━━━━━━━━━━━━━━━━━━━━━━━━━━━━━━━━━━━━━\u001b[0m \u001b[32m93.1/93.1 kB\u001b[0m \u001b[31m13.2 MB/s\u001b[0m eta \u001b[36m0:00:00\u001b[0m\n",
            "\u001b[2K     \u001b[90m━━━━━━━━━━━━━━━━━━━━━━━━━━━━━━━━━━━━━━━━\u001b[0m \u001b[32m92.9/92.9 kB\u001b[0m \u001b[31m12.0 MB/s\u001b[0m eta \u001b[36m0:00:00\u001b[0m\n",
            "\u001b[2K     \u001b[90m━━━━━━━━━━━━━━━━━━━━━━━━━━━━━━━━━━━━━━━━\u001b[0m \u001b[32m92.9/92.9 kB\u001b[0m \u001b[31m13.3 MB/s\u001b[0m eta \u001b[36m0:00:00\u001b[0m\n",
            "\u001b[2K     \u001b[90m━━━━━━━━━━━━━━━━━━━━━━━━━━━━━━━━━━━━━━━━\u001b[0m \u001b[32m66.3/66.3 kB\u001b[0m \u001b[31m8.7 MB/s\u001b[0m eta \u001b[36m0:00:00\u001b[0m\n",
            "\u001b[?25h"
          ]
        }
      ]
    },
    {
      "cell_type": "code",
      "source": [
        "!pip -q install tensorflow==2.14.0"
      ],
      "metadata": {
        "colab": {
          "base_uri": "https://localhost:8080/"
        },
        "id": "NVHjjTcY5tzX",
        "outputId": "269b6c91-8217-4857-8199-fd225eda48c9"
      },
      "execution_count": 12,
      "outputs": [
        {
          "output_type": "stream",
          "name": "stdout",
          "text": [
            "\u001b[2K     \u001b[90m━━━━━━━━━━━━━━━━━━━━━━━━━━━━━━━━━━━━━━━━\u001b[0m \u001b[32m489.8/489.8 MB\u001b[0m \u001b[31m1.7 MB/s\u001b[0m eta \u001b[36m0:00:00\u001b[0m\n",
            "\u001b[2K     \u001b[90m━━━━━━━━━━━━━━━━━━━━━━━━━━━━━━━━━━━━━━━━\u001b[0m \u001b[32m5.5/5.5 MB\u001b[0m \u001b[31m99.1 MB/s\u001b[0m eta \u001b[36m0:00:00\u001b[0m\n",
            "\u001b[2K     \u001b[90m━━━━━━━━━━━━━━━━━━━━━━━━━━━━━━━━━━━━━━━━\u001b[0m \u001b[32m440.7/440.7 kB\u001b[0m \u001b[31m43.0 MB/s\u001b[0m eta \u001b[36m0:00:00\u001b[0m\n",
            "\u001b[2K     \u001b[90m━━━━━━━━━━━━━━━━━━━━━━━━━━━━━━━━━━━━━━━━\u001b[0m \u001b[32m1.7/1.7 MB\u001b[0m \u001b[31m87.0 MB/s\u001b[0m eta \u001b[36m0:00:00\u001b[0m\n",
            "\u001b[?25h"
          ]
        }
      ]
    },
    {
      "cell_type": "code",
      "source": [
        "import tensorflow as tf\n",
        "tf.__version__"
      ],
      "metadata": {
        "colab": {
          "base_uri": "https://localhost:8080/",
          "height": 35
        },
        "id": "-hrE_TqV5G0F",
        "outputId": "096f898a-bddc-43ad-b9d7-4e622ed45fcf"
      },
      "execution_count": 13,
      "outputs": [
        {
          "output_type": "execute_result",
          "data": {
            "text/plain": [
              "'2.14.0'"
            ],
            "application/vnd.google.colaboratory.intrinsic+json": {
              "type": "string"
            }
          },
          "metadata": {},
          "execution_count": 13
        }
      ]
    },
    {
      "cell_type": "code",
      "source": [
        "# Эндпойнт\n",
        "main_file = '''\n",
        "import re\n",
        "import whisper\n",
        "import numpy as np\n",
        "import pandas as pd\n",
        "import pickle as pkl\n",
        "from io import BytesIO\n",
        "from fastapi import FastAPI, File\n",
        "from tensorflow.keras.saving import load_model\n",
        "\n",
        "whisper_model = whisper.load_model('medium')\n",
        "model = load_model('model_BoW.keras')\n",
        "\n",
        "with open('tokenizer.pkl', 'rb') as f:\n",
        "  tokenizer = pkl.load(f)\n",
        "\n",
        "app = FastAPI()\n",
        "\n",
        "@app.post('/predict')\n",
        "async def predict(json_file: bytes = File(...)):\n",
        "\n",
        "  df = pd.read_json(BytesIO(json_file))\n",
        "\n",
        "  for i in df.index:\n",
        "    df.loc[i,'Транскрибация файла записи звонка'] = whisper_model.transcribe(df.loc[i,'Файл записи звонка'], language='ru')['text']\n",
        "  df['Транскрибация файла записи звонка'] = df['Транскрибация файла записи звонка'].fillna('безответа')\n",
        "  df['Транскрибация файла записи звонка'] = df['Транскрибация файла записи звонка'].apply(lambda s: re.sub('[^А-Яа-я0-9 ]', '', s.lower()))\n",
        "  df['Транскрибация файла записи звонка'] = df['Транскрибация файла записи звонка'].apply(lambda s: s.strip())\n",
        "  df['Транскрибация файла записи звонка'] = np.where(df['Транскрибация файла записи звонка'].str.len() < 5, 'безответа', df['Транскрибация файла записи звонка'])\n",
        "  df['Транскрибация файла записи звонка'] = df['Транскрибация файла записи звонка'].str.replace('ё', 'е', regex=False)\n",
        "\n",
        "  x_textdata_01 = tokenizer.texts_to_matrix(df['Транскрибация файла записи звонка'].tolist())\n",
        "\n",
        "  y_predict = model.predict(x_textdata_01)\n",
        "  for i in range(df.shape[0]):\n",
        "    df.loc[i,'Предсказание класса'] = 'Целевой' if round(y_predict[i][0]) else 'Нецелевой'\n",
        "\n",
        "  df[['Проект', 'Идентификатор сессии звонка', 'Теги', 'Предсказание класса', 'Транскрибация файла записи звонка']].to_json('output.json', orient='records', force_ascii=False)\n",
        "\n",
        "  return {'result': 'output.json'}\n",
        "'''\n",
        "with open('main.py', 'w') as f:\n",
        "  f.write(main_file)"
      ],
      "metadata": {
        "id": "duoNedDSeDDw"
      },
      "execution_count": 14,
      "outputs": []
    },
    {
      "cell_type": "code",
      "source": [
        "# Запуск uvicorn\n",
        "!nohup uvicorn main:app --reload &"
      ],
      "metadata": {
        "colab": {
          "base_uri": "https://localhost:8080/"
        },
        "id": "GqPpUEKEeMjY",
        "outputId": "7c642f54-59cb-4a69-cb65-74042175475b"
      },
      "execution_count": 15,
      "outputs": [
        {
          "output_type": "stream",
          "name": "stdout",
          "text": [
            "nohup: appending output to 'nohup.out'\n"
          ]
        }
      ]
    },
    {
      "cell_type": "code",
      "source": [
        "# Лог\n",
        "!cat nohup.out"
      ],
      "metadata": {
        "colab": {
          "base_uri": "https://localhost:8080/"
        },
        "id": "m-HWAMEzeQrn",
        "outputId": "695022ed-ab5e-46bf-b254-399b535fc26d"
      },
      "execution_count": 16,
      "outputs": [
        {
          "output_type": "stream",
          "name": "stdout",
          "text": [
            "INFO:     Will watch for changes in these directories: ['/content']\n",
            "INFO:     Uvicorn running on http://127.0.0.1:8000 (Press CTRL+C to quit)\n",
            "INFO:     Started reloader process [3375] using StatReload\n"
          ]
        }
      ]
    },
    {
      "cell_type": "code",
      "source": [
        "import requests\n",
        "files = {'json_file': open('input.json','rb')}\n",
        "response = requests.post('http://127.0.0.1:8000/predict', files=files)\n",
        "print(response.text)"
      ],
      "metadata": {
        "colab": {
          "base_uri": "https://localhost:8080/"
        },
        "id": "JN0i5zAReeSe",
        "outputId": "1de64933-d249-4f36-deed-b5fcfbaa64b2"
      },
      "execution_count": 27,
      "outputs": [
        {
          "output_type": "stream",
          "name": "stdout",
          "text": [
            "{\"result\":\"output.json\"}\n"
          ]
        }
      ]
    },
    {
      "cell_type": "code",
      "source": [
        "# Лог\n",
        "!cat nohup.out"
      ],
      "metadata": {
        "colab": {
          "base_uri": "https://localhost:8080/"
        },
        "id": "fSm7CTWCfFr-",
        "outputId": "a873d7d6-8c5a-4c2a-a73b-7967996ea4cf"
      },
      "execution_count": 28,
      "outputs": [
        {
          "output_type": "stream",
          "name": "stdout",
          "text": [
            "INFO:     Will watch for changes in these directories: ['/content']\n",
            "INFO:     Uvicorn running on http://127.0.0.1:8000 (Press CTRL+C to quit)\n",
            "INFO:     Started reloader process [3375] using StatReload\n",
            "2023-12-27 16:29:25.012214: E tensorflow/compiler/xla/stream_executor/cuda/cuda_dnn.cc:9342] Unable to register cuDNN factory: Attempting to register factory for plugin cuDNN when one has already been registered\n",
            "2023-12-27 16:29:25.012261: E tensorflow/compiler/xla/stream_executor/cuda/cuda_fft.cc:609] Unable to register cuFFT factory: Attempting to register factory for plugin cuFFT when one has already been registered\n",
            "2023-12-27 16:29:25.012290: E tensorflow/compiler/xla/stream_executor/cuda/cuda_blas.cc:1518] Unable to register cuBLAS factory: Attempting to register factory for plugin cuBLAS when one has already been registered\n",
            "2023-12-27 16:29:26.644065: W tensorflow/compiler/tf2tensorrt/utils/py_utils.cc:38] TF-TRT Warning: Could not find TensorRT\n",
            "\r  0%|                                              | 0.00/1.42G [00:00<?, ?iB/s]\r  1%|▏                                    | 7.53M/1.42G [00:00<00:19, 78.7MiB/s]\r  1%|▍                                    | 15.0M/1.42G [00:00<00:21, 71.2MiB/s]\r  2%|▌                                    | 24.5M/1.42G [00:00<00:18, 83.2MiB/s]\r  2%|▉                                    | 35.5M/1.42G [00:00<00:15, 94.7MiB/s]\r  3%|█▏                                   | 45.9M/1.42G [00:00<00:14, 99.7MiB/s]\r  4%|█▍                                    | 56.4M/1.42G [00:00<00:14, 103MiB/s]\r  5%|█▋                                   | 66.3M/1.42G [00:00<00:15, 95.2MiB/s]\r  6%|██                                    | 80.2M/1.42G [00:00<00:13, 109MiB/s]\r  6%|██▍                                   | 91.5M/1.42G [00:00<00:12, 112MiB/s]\r  7%|██▋                                   | 102M/1.42G [00:01<00:16, 87.8MiB/s]\r  8%|███                                   | 115M/1.42G [00:01<00:14, 99.5MiB/s]\r  9%|███▍                                   | 128M/1.42G [00:01<00:12, 109MiB/s]\r 10%|███▋                                   | 139M/1.42G [00:01<00:13, 102MiB/s]\r 10%|████                                   | 151M/1.42G [00:01<00:12, 107MiB/s]\r 11%|████▎                                  | 162M/1.42G [00:01<00:12, 105MiB/s]\r 12%|████▌                                  | 172M/1.42G [00:01<00:13, 101MiB/s]\r 13%|████▉                                  | 184M/1.42G [00:01<00:12, 108MiB/s]\r 14%|█████▎                                 | 199M/1.42G [00:02<00:11, 120MiB/s]\r 15%|█████▋                                 | 213M/1.42G [00:02<00:10, 127MiB/s]\r 15%|██████                                 | 225M/1.42G [00:02<00:11, 109MiB/s]\r 16%|██████▎                                | 236M/1.42G [00:02<00:12, 105MiB/s]\r 17%|██████▍                               | 246M/1.42G [00:02<00:14, 90.4MiB/s]\r 18%|██████▋                               | 255M/1.42G [00:02<00:14, 85.5MiB/s]\r 18%|██████▉                               | 268M/1.42G [00:02<00:13, 95.6MiB/s]\r 19%|███████▏                              | 277M/1.42G [00:02<00:13, 94.3MiB/s]\r 20%|███████▍                              | 287M/1.42G [00:02<00:12, 97.4MiB/s]\r 20%|███████▊                              | 297M/1.42G [00:03<00:12, 99.2MiB/s]\r 21%|████████▎                              | 310M/1.42G [00:03<00:11, 107MiB/s]\r 22%|████████▌                              | 322M/1.42G [00:03<00:10, 113MiB/s]\r 23%|████████▉                              | 333M/1.42G [00:03<00:10, 112MiB/s]\r 24%|█████████▏                             | 345M/1.42G [00:03<00:10, 116MiB/s]\r 25%|█████████▌                             | 357M/1.42G [00:03<00:09, 117MiB/s]\r 26%|█████████▉                             | 372M/1.42G [00:03<00:08, 128MiB/s]\r 27%|██████████▎                            | 387M/1.42G [00:03<00:08, 137MiB/s]\r 27%|██████████▋                            | 400M/1.42G [00:04<00:10, 104MiB/s]\r 28%|███████████                            | 412M/1.42G [00:04<00:10, 109MiB/s]\r 29%|███████████▎                           | 424M/1.42G [00:04<00:09, 112MiB/s]\r 30%|███████████▊                           | 440M/1.42G [00:04<00:08, 126MiB/s]\r 31%|███████████▊                          | 452M/1.42G [00:05<00:43, 24.2MiB/s]\r 32%|████████████▏                         | 469M/1.42G [00:06<00:30, 34.4MiB/s]\r 33%|████████████▌                         | 481M/1.42G [00:06<00:23, 43.0MiB/s]\r 34%|████████████▊                         | 492M/1.42G [00:06<00:19, 51.4MiB/s]\r 35%|█████████████▏                        | 504M/1.42G [00:06<00:16, 59.7MiB/s]\r 35%|█████████████▍                        | 517M/1.42G [00:06<00:13, 72.0MiB/s]\r 36%|█████████████▊                        | 528M/1.42G [00:06<00:12, 78.9MiB/s]\r 37%|██████████████                        | 539M/1.42G [00:06<00:11, 85.5MiB/s]\r 38%|██████████████▎                       | 550M/1.42G [00:06<00:10, 92.3MiB/s]\r 39%|███████████████▏                       | 566M/1.42G [00:06<00:08, 111MiB/s]\r 40%|███████████████▍                       | 579M/1.42G [00:07<00:08, 108MiB/s]\r 41%|███████████████▊                       | 590M/1.42G [00:07<00:08, 112MiB/s]\r 41%|████████████████                       | 602M/1.42G [00:07<00:07, 114MiB/s]\r 42%|████████████████▍                      | 614M/1.42G [00:07<00:07, 117MiB/s]\r 43%|████████████████▋                      | 625M/1.42G [00:07<00:07, 115MiB/s]\r 44%|█████████████████                      | 637M/1.42G [00:07<00:07, 111MiB/s]\r 44%|████████████████▉                     | 648M/1.42G [00:07<00:11, 77.1MiB/s]\r 45%|█████████████████                     | 656M/1.42G [00:07<00:10, 78.2MiB/s]\r 46%|█████████████████▎                    | 665M/1.42G [00:08<00:10, 81.6MiB/s]\r 46%|█████████████████▌                    | 674M/1.42G [00:08<00:11, 73.0MiB/s]\r 47%|█████████████████▊                    | 682M/1.42G [00:08<00:10, 74.2MiB/s]\r 47%|█████████████████▉                    | 689M/1.42G [00:08<00:15, 51.5MiB/s]\r 48%|██████████████████▏                   | 697M/1.42G [00:08<00:14, 56.6MiB/s]\r 49%|██████████████████▍                   | 707M/1.42G [00:08<00:11, 68.0MiB/s]\r 49%|██████████████████▋                   | 716M/1.42G [00:08<00:10, 75.4MiB/s]\r 50%|██████████████████▉                   | 728M/1.42G [00:09<00:08, 86.9MiB/s]\r 51%|███████████████████▏                  | 738M/1.42G [00:09<00:08, 91.1MiB/s]\r 51%|███████████████████▍                  | 747M/1.42G [00:09<00:08, 88.2MiB/s]\r 52%|███████████████████▋                  | 757M/1.42G [00:09<00:07, 91.9MiB/s]\r 53%|███████████████████▉                  | 766M/1.42G [00:09<00:07, 91.2MiB/s]\r 53%|████████████████████▏                 | 775M/1.42G [00:09<00:07, 92.6MiB/s]\r 54%|████████████████████▍                 | 786M/1.42G [00:09<00:07, 98.4MiB/s]\r 55%|████████████████████▋                 | 796M/1.42G [00:09<00:07, 95.0MiB/s]\r 55%|████████████████████▉                 | 805M/1.42G [00:09<00:07, 91.3MiB/s]\r 56%|█████████████████████▏                | 814M/1.42G [00:10<00:09, 71.0MiB/s]\r 57%|█████████████████████▍                | 824M/1.42G [00:10<00:08, 80.1MiB/s]\r 57%|█████████████████████▊                | 835M/1.42G [00:10<00:07, 88.0MiB/s]\r 58%|██████████████████████                | 845M/1.42G [00:10<00:06, 91.9MiB/s]\r 59%|██████████████████████▎               | 855M/1.42G [00:10<00:06, 95.3MiB/s]\r 60%|███████████████████████▏               | 867M/1.42G [00:10<00:05, 107MiB/s]\r 60%|███████████████████████▍               | 878M/1.42G [00:10<00:05, 101MiB/s]\r 61%|███████████████████████▊               | 889M/1.42G [00:10<00:05, 105MiB/s]\r 62%|███████████████████████▍              | 899M/1.42G [00:10<00:06, 92.5MiB/s]\r 62%|███████████████████████▋              | 910M/1.42G [00:11<00:05, 97.0MiB/s]\r 63%|████████████████████████▋              | 923M/1.42G [00:11<00:05, 108MiB/s]\r 64%|████████████████████████▉              | 933M/1.42G [00:11<00:05, 107MiB/s]\r 65%|█████████████████████████▎             | 944M/1.42G [00:11<00:05, 104MiB/s]\r 66%|█████████████████████████▌             | 957M/1.42G [00:11<00:04, 114MiB/s]\r 66%|█████████████████████████▉             | 968M/1.42G [00:11<00:04, 112MiB/s]\r 67%|██████████████████████████▏            | 979M/1.42G [00:11<00:04, 107MiB/s]\r 68%|██████████████████████████▍            | 990M/1.42G [00:11<00:04, 109MiB/s]\r 69%|█████████████████████████▍           | 0.98G/1.42G [00:11<00:05, 83.8MiB/s]\r 69%|█████████████████████████▋           | 0.99G/1.42G [00:12<00:05, 88.7MiB/s]\r 70%|█████████████████████████▉           | 1.00G/1.42G [00:12<00:05, 86.4MiB/s]\r 71%|██████████████████████████           | 1.00G/1.42G [00:12<00:05, 81.6MiB/s]\r 71%|██████████████████████████▎          | 1.01G/1.42G [00:12<00:06, 72.6MiB/s]\r 72%|██████████████████████████▍          | 1.02G/1.42G [00:12<00:06, 68.4MiB/s]\r 72%|██████████████████████████▋          | 1.03G/1.42G [00:12<00:07, 59.1MiB/s]\r 73%|██████████████████████████▉          | 1.03G/1.42G [00:12<00:06, 66.0MiB/s]\r 73%|███████████████████████████          | 1.04G/1.42G [00:12<00:05, 69.0MiB/s]\r 74%|███████████████████████████▎         | 1.05G/1.42G [00:13<00:04, 80.6MiB/s]\r 74%|███████████████████████████▌         | 1.06G/1.42G [00:13<00:04, 81.6MiB/s]\r 75%|███████████████████████████▊         | 1.07G/1.42G [00:13<00:04, 89.5MiB/s]\r 76%|████████████████████████████▉         | 1.08G/1.42G [00:13<00:03, 101MiB/s]\r 77%|████████████████████████████▍        | 1.09G/1.42G [00:13<00:03, 97.9MiB/s]\r 77%|████████████████████████████▋        | 1.10G/1.42G [00:14<00:09, 37.3MiB/s]\r 78%|████████████████████████████▊        | 1.11G/1.42G [00:14<00:07, 44.8MiB/s]\r 79%|█████████████████████████████        | 1.12G/1.42G [00:14<00:06, 47.4MiB/s]\r 79%|█████████████████████████████▎       | 1.13G/1.42G [00:14<00:05, 53.4MiB/s]\r 80%|█████████████████████████████▍       | 1.13G/1.42G [00:14<00:05, 57.8MiB/s]\r 80%|█████████████████████████████▌       | 1.14G/1.42G [00:14<00:05, 57.4MiB/s]\r 81%|█████████████████████████████▊       | 1.15G/1.42G [00:14<00:06, 47.2MiB/s]\r 81%|█████████████████████████████▉       | 1.15G/1.42G [00:15<00:05, 53.7MiB/s]\r 82%|██████████████████████████████▏      | 1.16G/1.42G [00:15<00:04, 59.9MiB/s]\r 82%|██████████████████████████████▍      | 1.17G/1.42G [00:15<00:04, 65.3MiB/s]\r 83%|██████████████████████████████▌      | 1.18G/1.42G [00:15<00:04, 59.6MiB/s]\r 83%|██████████████████████████████▋      | 1.18G/1.42G [00:15<00:04, 64.2MiB/s]\r 84%|██████████████████████████████▉      | 1.19G/1.42G [00:15<00:03, 65.2MiB/s]\r 84%|███████████████████████████████      | 1.20G/1.42G [00:15<00:03, 66.4MiB/s]\r 85%|███████████████████████████████▎     | 1.21G/1.42G [00:15<00:02, 79.2MiB/s]\r 85%|███████████████████████████████▌     | 1.22G/1.42G [00:15<00:02, 87.9MiB/s]\r 86%|███████████████████████████████▊     | 1.22G/1.42G [00:16<00:02, 85.0MiB/s]\r 87%|████████████████████████████████▏    | 1.24G/1.42G [00:16<00:02, 96.1MiB/s]\r 88%|████████████████████████████████▍    | 1.25G/1.42G [00:16<00:01, 99.2MiB/s]\r 88%|████████████████████████████████▋    | 1.26G/1.42G [00:16<00:01, 94.3MiB/s]\r 89%|████████████████████████████████▉    | 1.26G/1.42G [00:16<00:02, 84.0MiB/s]\r 89%|█████████████████████████████████    | 1.27G/1.42G [00:16<00:01, 84.1MiB/s]\r 90%|█████████████████████████████████▎   | 1.28G/1.42G [00:16<00:01, 89.0MiB/s]\r 91%|█████████████████████████████████▋   | 1.29G/1.42G [00:16<00:01, 98.6MiB/s]\r 92%|██████████████████████████████████▊   | 1.30G/1.42G [00:16<00:01, 103MiB/s]\r 92%|██████████████████████████████████▏  | 1.31G/1.42G [00:17<00:01, 94.2MiB/s]\r 93%|███████████████████████████████████▍  | 1.33G/1.42G [00:17<00:00, 105MiB/s]\r 94%|███████████████████████████████████▋  | 1.34G/1.42G [00:17<00:00, 112MiB/s]\r 95%|████████████████████████████████████  | 1.35G/1.42G [00:17<00:00, 113MiB/s]\r 96%|████████████████████████████████████▎ | 1.36G/1.42G [00:17<00:00, 115MiB/s]\r 96%|███████████████████████████████████▋ | 1.37G/1.42G [00:17<00:00, 99.5MiB/s]\r 97%|███████████████████████████████████▉ | 1.38G/1.42G [00:17<00:00, 96.5MiB/s]\r 98%|█████████████████████████████████████▏| 1.39G/1.42G [00:17<00:00, 101MiB/s]\r 99%|████████████████████████████████████▍| 1.40G/1.42G [00:17<00:00, 96.3MiB/s]\r 99%|████████████████████████████████████▋| 1.41G/1.42G [00:18<00:00, 98.5MiB/s]\r100%|█████████████████████████████████████▉| 1.42G/1.42G [00:18<00:00, 101MiB/s]\r100%|█████████████████████████████████████| 1.42G/1.42G [00:18<00:00, 84.1MiB/s]\n",
            "2023-12-27 16:30:04.575480: W tensorflow/core/common_runtime/gpu/gpu_device.cc:2211] Cannot dlopen some GPU libraries. Please make sure the missing libraries mentioned above are installed properly if you would like to use GPU. Follow the guide at https://www.tensorflow.org/install/gpu for how to download and setup the required libraries for your platform.\n",
            "Skipping registering GPU devices...\n",
            "INFO:     Started server process [3381]\n",
            "INFO:     Waiting for application startup.\n",
            "INFO:     Application startup complete.\n",
            "\r1/2 [==============>...............] - ETA: 0s\b\b\b\b\b\b\b\b\b\b\b\b\b\b\b\b\b\b\b\b\b\b\b\b\b\b\b\b\b\b\b\b\b\b\b\b\b\b\b\b\b\b\b\b\b\b\r2/2 [==============================] - 0s 21ms/step\n",
            "INFO:     127.0.0.1:37916 - \"POST /predict HTTP/1.1\" 200 OK\n"
          ]
        }
      ]
    },
    {
      "cell_type": "code",
      "source": [
        "df = pd.read_json('output.json')\n",
        "df.shape"
      ],
      "metadata": {
        "colab": {
          "base_uri": "https://localhost:8080/"
        },
        "id": "HBrQY0R8fIcl",
        "outputId": "0a8e1b70-0541-4cd7-dbb9-8acd7c8c69d2"
      },
      "execution_count": 29,
      "outputs": [
        {
          "output_type": "execute_result",
          "data": {
            "text/plain": [
              "(50, 5)"
            ]
          },
          "metadata": {},
          "execution_count": 29
        }
      ]
    },
    {
      "cell_type": "code",
      "source": [
        "df"
      ],
      "metadata": {
        "colab": {
          "base_uri": "https://localhost:8080/",
          "height": 1000
        },
        "id": "l0xfZcnK-0ea",
        "outputId": "bcb1979d-cd83-4744-a149-8e320c9e6a59"
      },
      "execution_count": 30,
      "outputs": [
        {
          "output_type": "execute_result",
          "data": {
            "text/plain": [
              "           Проект  Идентификатор сессии звонка  \\\n",
              "0   head-liner.ru                   2932192025   \n",
              "1   head-liner.ru                   2941752812   \n",
              "2   head-liner.ru                   2921167086   \n",
              "3   head-liner.ru                   2931384623   \n",
              "4   head-liner.ru                   2931957661   \n",
              "5   head-liner.ru                   2931953205   \n",
              "6   head-liner.ru                   2931941177   \n",
              "7   head-liner.ru                   2920990562   \n",
              "8   head-liner.ru                   2941565172   \n",
              "9   head-liner.ru                   2920974222   \n",
              "10  head-liner.ru                   2941298624   \n",
              "11  head-liner.ru                   2931067143   \n",
              "12  head-liner.ru                   2931495869   \n",
              "13  head-liner.ru                   2930842543   \n",
              "14  head-liner.ru                   2930835239   \n",
              "15  head-liner.ru                   2931380841   \n",
              "16  head-liner.ru                   2930744767   \n",
              "17  head-liner.ru                   2940892544   \n",
              "18  head-liner.ru                   2931126469   \n",
              "19  head-liner.ru                   2931066829   \n",
              "20  head-liner.ru                   2920243890   \n",
              "21  head-liner.ru                   2920207590   \n",
              "22  head-liner.ru                   2920087786   \n",
              "23  head-liner.ru                   2930217007   \n",
              "24  head-liner.ru                   2919615074   \n",
              "25  head-liner.ru                   2919550530   \n",
              "26  head-liner.ru                   2919520238   \n",
              "27  head-liner.ru                   2930249245   \n",
              "28  head-liner.ru                   2939712644   \n",
              "29  head-liner.ru                   2930211973   \n",
              "30  head-liner.ru                   2929623235   \n",
              "31  head-liner.ru                   2939644136   \n",
              "32  head-liner.ru                   2939506208   \n",
              "33  head-liner.ru                   2929465891   \n",
              "34  head-liner.ru                   2939439048   \n",
              "35  head-liner.ru                   2929372379   \n",
              "36  head-liner.ru                   2929311247   \n",
              "37  head-liner.ru                   2919161802   \n",
              "38  head-liner.ru                   2939148092   \n",
              "39  head-liner.ru                   2929370545   \n",
              "40  head-liner.ru                   2918538922   \n",
              "41  head-liner.ru                   2938333136   \n",
              "42  head-liner.ru                   2928975097   \n",
              "43  head-liner.ru                   2928938049   \n",
              "44  head-liner.ru                   2928935657   \n",
              "45  head-liner.ru                   2928283255   \n",
              "46  head-liner.ru                   2938080128   \n",
              "47  head-liner.ru                   2928807121   \n",
              "48  head-liner.ru                   2937971588   \n",
              "49  head-liner.ru                   2928050751   \n",
              "\n",
              "                                                 Теги Предсказание класса  \\\n",
              "0                            спорный - нет соединения           Нецелевой   \n",
              "1                                                Спам           Нецелевой   \n",
              "2                            спорный - нет соединения           Нецелевой   \n",
              "3           Лид - 3 очередь - 2-ком - Условно целевой           Нецелевой   \n",
              "4                           Нецелевой звонок - ошибка           Нецелевой   \n",
              "5                            спорный - нет соединения           Нецелевой   \n",
              "6      постпродажное обслуживание - Вторичный целевой           Нецелевой   \n",
              "7   Лид - 2 очередь - 3 очередь - 2-ком - Условно ...           Нецелевой   \n",
              "8      постпродажное обслуживание - Вторичный целевой           Нецелевой   \n",
              "9                            спорный - нет соединения           Нецелевой   \n",
              "10     постпродажное обслуживание - Вторичный целевой           Нецелевой   \n",
              "11     постпродажное обслуживание - Вторичный целевой           Нецелевой   \n",
              "12                           спорный - нет соединения           Нецелевой   \n",
              "13                           спорный - нет соединения           Нецелевой   \n",
              "14  Первичный целевой - 2 очередь - 3 очередь - 4-...             Целевой   \n",
              "15  Первичный целевой - 3 очередь - 2-ком - 2 квар...             Целевой   \n",
              "16     постпродажное обслуживание - Вторичный целевой           Нецелевой   \n",
              "17                  Нецелевой звонок - сотрудничество           Нецелевой   \n",
              "18                    Лид - Первичный целевой - 1-ком           Нецелевой   \n",
              "19                                               Спам           Нецелевой   \n",
              "20                           спорный - нет соединения           Нецелевой   \n",
              "21                           спорный - нет соединения           Нецелевой   \n",
              "22                          Нецелевой звонок - ошибка           Нецелевой   \n",
              "23             Вторичный целевой - поиск офиса продаж           Нецелевой   \n",
              "24                           спорный - нет соединения           Нецелевой   \n",
              "25                           спорный - нет соединения           Нецелевой   \n",
              "26  Лид - Вторичный целевой - 2 очередь - 3 очеред...           Нецелевой   \n",
              "27  Первичный целевой - запись на просмотр - не оп...             Целевой   \n",
              "28                           спорный - нет соединения           Нецелевой   \n",
              "29              Первичный целевой - 2 очередь - 3-ком             Целевой   \n",
              "30                           спорный - нет соединения           Нецелевой   \n",
              "31                           спорный - нет соединения           Нецелевой   \n",
              "32                           спорный - нет соединения           Нецелевой   \n",
              "33  Лид - Первичный целевой - интересует рассрочка...             Целевой   \n",
              "34                   Лид - спорный - связь прервалась           Нецелевой   \n",
              "35                           спорный - нет соединения           Нецелевой   \n",
              "36     постпродажное обслуживание - Вторичный целевой           Нецелевой   \n",
              "37                                               Спам           Нецелевой   \n",
              "38     Первичный целевой - студия - 3 очередь - 1-ком             Целевой   \n",
              "39                           спорный - нет соединения           Нецелевой   \n",
              "40                          Нецелевой звонок - ошибка           Нецелевой   \n",
              "41  Лид - спорный - студия - связь прервалась - 1-ком           Нецелевой   \n",
              "42              Первичный целевой - 2 очередь - 3-ком             Целевой   \n",
              "43     постпродажное обслуживание - Вторичный целевой           Нецелевой   \n",
              "44     постпродажное обслуживание - Вторичный целевой           Нецелевой   \n",
              "45                           спорный - нет соединения           Нецелевой   \n",
              "46  Лид - 3 очередь - Условно целевой - 3-ком - от...           Нецелевой   \n",
              "47                           спорный - нет соединения           Нецелевой   \n",
              "48   Первичный целевой - ипотека - студия - 3 очередь             Целевой   \n",
              "49                           спорный - нет соединения           Нецелевой   \n",
              "\n",
              "                    Транскрибация файла записи звонка  \n",
              "0   здравствуйте выпуску внею группу компании карт...  \n",
              "1   здравствуйте вы позвонили в группу компании  б...  \n",
              "2                  здравствуйте вы туда не ел в грунт  \n",
              "3   здравствуйте вы позвонили в группу компании  б...  \n",
              "4   здравствуйте вы позвонили в группу компании ка...  \n",
              "5   здравствуйте вы позвонили в группу компании ка...  \n",
              "6   здравствуйте вы позвонили в группу компании ка...  \n",
              "7   взява комплекса  меня зовут наталья здравствуй...  \n",
              "8   здравствуйте скажите пожалуйста я переоформила...  \n",
              "9                         здравствуйте вы позвонили в  \n",
              "10  хэрлайнер роки заселение добрый день здравству...  \n",
              "11  хэдлайнер отчисления здравствуйте вы знаете я ...  \n",
              "12  телефонный звонок телефонный звонок телефонный...  \n",
              "13                           здравствуйте вы туганили  \n",
              "14  вы позвонили в группу компании  благодарим вас...  \n",
              "15  здравствуйте вы позвонили в группу компании ка...  \n",
              "16  здравствуйте вы позвонили в группу компании ка...  \n",
              "17  здравствуйте вы позвонили в группу компании ка...  \n",
              "18  компания анитика и клиента шот одна комната на...  \n",
              "19                                  а вот добрый день  \n",
              "20    станислав вы комплекс как бы я не разлп продашь  \n",
              "21  здравствуйте вы позвонили в группу компании ка...  \n",
              "22  здравствуйте вы позвонили в группу компании  б...  \n",
              "23  здравствуйте вы позвонили в группу компании  б...  \n",
              "24  звонок в дверь живой комплекс  наталья здравст...  \n",
              "25                                  телефонный звонок  \n",
              "26  здравствуйте вы позвонили в группу компании  б...  \n",
              "27  жилый комплекс  меня зовут наталья здравствуйт...  \n",
              "28                                       здравствуйте  \n",
              "29  здравствуйте вы позвонили в группу компании  б...  \n",
              "30                                       здравствуйте  \n",
              "31                                              вкими  \n",
              "32  аликси звонок по объявлению разговор может быт...  \n",
              "33  день добрый здравствуйте здравствуйте портал г...  \n",
              "34  телефон звонит желаю областью звонить меня зов...  \n",
              "35  здравствуйте вы позвонили в группу компании  б...  \n",
              "36  здравствуйте вы позвонили в группу компании ка...  \n",
              "37  авика звонок по объявлению разговор может быть...  \n",
              "38  здравствуйте вы позвонили в группу компании  б...  \n",
              "39  здравствуйте вы позвонили в группу компании  б...  \n",
              "40      расскажите пожалуйста фотоаппарат кэннен а603  \n",
              "41  здравствуйте вы позвонили в группу компании  б...  \n",
              "42  здравствуйте вы позвонили в группу компании  б...  \n",
              "43  алло да да я сейчас разговаривала с девушкой д...  \n",
              "44  добрый день девушка вот скажите пожалуйста я п...  \n",
              "45  здравствуйте вы позвонили в группу компании ка...  \n",
              "46  здравствуйте вы позвонили в группу компании  б...  \n",
              "47  здравствуйте вы позвонили в группу компании  б...  \n",
              "48  здравствуйте вы позвонили в группу компании  б...  \n",
              "49  телефонный звонок телефонный звонок телефонный...  "
            ],
            "text/html": [
              "\n",
              "  <div id=\"df-15eb2927-2de6-492d-9795-c26d52a1a1af\" class=\"colab-df-container\">\n",
              "    <div>\n",
              "<style scoped>\n",
              "    .dataframe tbody tr th:only-of-type {\n",
              "        vertical-align: middle;\n",
              "    }\n",
              "\n",
              "    .dataframe tbody tr th {\n",
              "        vertical-align: top;\n",
              "    }\n",
              "\n",
              "    .dataframe thead th {\n",
              "        text-align: right;\n",
              "    }\n",
              "</style>\n",
              "<table border=\"1\" class=\"dataframe\">\n",
              "  <thead>\n",
              "    <tr style=\"text-align: right;\">\n",
              "      <th></th>\n",
              "      <th>Проект</th>\n",
              "      <th>Идентификатор сессии звонка</th>\n",
              "      <th>Теги</th>\n",
              "      <th>Предсказание класса</th>\n",
              "      <th>Транскрибация файла записи звонка</th>\n",
              "    </tr>\n",
              "  </thead>\n",
              "  <tbody>\n",
              "    <tr>\n",
              "      <th>0</th>\n",
              "      <td>head-liner.ru</td>\n",
              "      <td>2932192025</td>\n",
              "      <td>спорный - нет соединения</td>\n",
              "      <td>Нецелевой</td>\n",
              "      <td>здравствуйте выпуску внею группу компании карт...</td>\n",
              "    </tr>\n",
              "    <tr>\n",
              "      <th>1</th>\n",
              "      <td>head-liner.ru</td>\n",
              "      <td>2941752812</td>\n",
              "      <td>Спам</td>\n",
              "      <td>Нецелевой</td>\n",
              "      <td>здравствуйте вы позвонили в группу компании  б...</td>\n",
              "    </tr>\n",
              "    <tr>\n",
              "      <th>2</th>\n",
              "      <td>head-liner.ru</td>\n",
              "      <td>2921167086</td>\n",
              "      <td>спорный - нет соединения</td>\n",
              "      <td>Нецелевой</td>\n",
              "      <td>здравствуйте вы туда не ел в грунт</td>\n",
              "    </tr>\n",
              "    <tr>\n",
              "      <th>3</th>\n",
              "      <td>head-liner.ru</td>\n",
              "      <td>2931384623</td>\n",
              "      <td>Лид - 3 очередь - 2-ком - Условно целевой</td>\n",
              "      <td>Нецелевой</td>\n",
              "      <td>здравствуйте вы позвонили в группу компании  б...</td>\n",
              "    </tr>\n",
              "    <tr>\n",
              "      <th>4</th>\n",
              "      <td>head-liner.ru</td>\n",
              "      <td>2931957661</td>\n",
              "      <td>Нецелевой звонок - ошибка</td>\n",
              "      <td>Нецелевой</td>\n",
              "      <td>здравствуйте вы позвонили в группу компании ка...</td>\n",
              "    </tr>\n",
              "    <tr>\n",
              "      <th>5</th>\n",
              "      <td>head-liner.ru</td>\n",
              "      <td>2931953205</td>\n",
              "      <td>спорный - нет соединения</td>\n",
              "      <td>Нецелевой</td>\n",
              "      <td>здравствуйте вы позвонили в группу компании ка...</td>\n",
              "    </tr>\n",
              "    <tr>\n",
              "      <th>6</th>\n",
              "      <td>head-liner.ru</td>\n",
              "      <td>2931941177</td>\n",
              "      <td>постпродажное обслуживание - Вторичный целевой</td>\n",
              "      <td>Нецелевой</td>\n",
              "      <td>здравствуйте вы позвонили в группу компании ка...</td>\n",
              "    </tr>\n",
              "    <tr>\n",
              "      <th>7</th>\n",
              "      <td>head-liner.ru</td>\n",
              "      <td>2920990562</td>\n",
              "      <td>Лид - 2 очередь - 3 очередь - 2-ком - Условно ...</td>\n",
              "      <td>Нецелевой</td>\n",
              "      <td>взява комплекса  меня зовут наталья здравствуй...</td>\n",
              "    </tr>\n",
              "    <tr>\n",
              "      <th>8</th>\n",
              "      <td>head-liner.ru</td>\n",
              "      <td>2941565172</td>\n",
              "      <td>постпродажное обслуживание - Вторичный целевой</td>\n",
              "      <td>Нецелевой</td>\n",
              "      <td>здравствуйте скажите пожалуйста я переоформила...</td>\n",
              "    </tr>\n",
              "    <tr>\n",
              "      <th>9</th>\n",
              "      <td>head-liner.ru</td>\n",
              "      <td>2920974222</td>\n",
              "      <td>спорный - нет соединения</td>\n",
              "      <td>Нецелевой</td>\n",
              "      <td>здравствуйте вы позвонили в</td>\n",
              "    </tr>\n",
              "    <tr>\n",
              "      <th>10</th>\n",
              "      <td>head-liner.ru</td>\n",
              "      <td>2941298624</td>\n",
              "      <td>постпродажное обслуживание - Вторичный целевой</td>\n",
              "      <td>Нецелевой</td>\n",
              "      <td>хэрлайнер роки заселение добрый день здравству...</td>\n",
              "    </tr>\n",
              "    <tr>\n",
              "      <th>11</th>\n",
              "      <td>head-liner.ru</td>\n",
              "      <td>2931067143</td>\n",
              "      <td>постпродажное обслуживание - Вторичный целевой</td>\n",
              "      <td>Нецелевой</td>\n",
              "      <td>хэдлайнер отчисления здравствуйте вы знаете я ...</td>\n",
              "    </tr>\n",
              "    <tr>\n",
              "      <th>12</th>\n",
              "      <td>head-liner.ru</td>\n",
              "      <td>2931495869</td>\n",
              "      <td>спорный - нет соединения</td>\n",
              "      <td>Нецелевой</td>\n",
              "      <td>телефонный звонок телефонный звонок телефонный...</td>\n",
              "    </tr>\n",
              "    <tr>\n",
              "      <th>13</th>\n",
              "      <td>head-liner.ru</td>\n",
              "      <td>2930842543</td>\n",
              "      <td>спорный - нет соединения</td>\n",
              "      <td>Нецелевой</td>\n",
              "      <td>здравствуйте вы туганили</td>\n",
              "    </tr>\n",
              "    <tr>\n",
              "      <th>14</th>\n",
              "      <td>head-liner.ru</td>\n",
              "      <td>2930835239</td>\n",
              "      <td>Первичный целевой - 2 очередь - 3 очередь - 4-...</td>\n",
              "      <td>Целевой</td>\n",
              "      <td>вы позвонили в группу компании  благодарим вас...</td>\n",
              "    </tr>\n",
              "    <tr>\n",
              "      <th>15</th>\n",
              "      <td>head-liner.ru</td>\n",
              "      <td>2931380841</td>\n",
              "      <td>Первичный целевой - 3 очередь - 2-ком - 2 квар...</td>\n",
              "      <td>Целевой</td>\n",
              "      <td>здравствуйте вы позвонили в группу компании ка...</td>\n",
              "    </tr>\n",
              "    <tr>\n",
              "      <th>16</th>\n",
              "      <td>head-liner.ru</td>\n",
              "      <td>2930744767</td>\n",
              "      <td>постпродажное обслуживание - Вторичный целевой</td>\n",
              "      <td>Нецелевой</td>\n",
              "      <td>здравствуйте вы позвонили в группу компании ка...</td>\n",
              "    </tr>\n",
              "    <tr>\n",
              "      <th>17</th>\n",
              "      <td>head-liner.ru</td>\n",
              "      <td>2940892544</td>\n",
              "      <td>Нецелевой звонок - сотрудничество</td>\n",
              "      <td>Нецелевой</td>\n",
              "      <td>здравствуйте вы позвонили в группу компании ка...</td>\n",
              "    </tr>\n",
              "    <tr>\n",
              "      <th>18</th>\n",
              "      <td>head-liner.ru</td>\n",
              "      <td>2931126469</td>\n",
              "      <td>Лид - Первичный целевой - 1-ком</td>\n",
              "      <td>Нецелевой</td>\n",
              "      <td>компания анитика и клиента шот одна комната на...</td>\n",
              "    </tr>\n",
              "    <tr>\n",
              "      <th>19</th>\n",
              "      <td>head-liner.ru</td>\n",
              "      <td>2931066829</td>\n",
              "      <td>Спам</td>\n",
              "      <td>Нецелевой</td>\n",
              "      <td>а вот добрый день</td>\n",
              "    </tr>\n",
              "    <tr>\n",
              "      <th>20</th>\n",
              "      <td>head-liner.ru</td>\n",
              "      <td>2920243890</td>\n",
              "      <td>спорный - нет соединения</td>\n",
              "      <td>Нецелевой</td>\n",
              "      <td>станислав вы комплекс как бы я не разлп продашь</td>\n",
              "    </tr>\n",
              "    <tr>\n",
              "      <th>21</th>\n",
              "      <td>head-liner.ru</td>\n",
              "      <td>2920207590</td>\n",
              "      <td>спорный - нет соединения</td>\n",
              "      <td>Нецелевой</td>\n",
              "      <td>здравствуйте вы позвонили в группу компании ка...</td>\n",
              "    </tr>\n",
              "    <tr>\n",
              "      <th>22</th>\n",
              "      <td>head-liner.ru</td>\n",
              "      <td>2920087786</td>\n",
              "      <td>Нецелевой звонок - ошибка</td>\n",
              "      <td>Нецелевой</td>\n",
              "      <td>здравствуйте вы позвонили в группу компании  б...</td>\n",
              "    </tr>\n",
              "    <tr>\n",
              "      <th>23</th>\n",
              "      <td>head-liner.ru</td>\n",
              "      <td>2930217007</td>\n",
              "      <td>Вторичный целевой - поиск офиса продаж</td>\n",
              "      <td>Нецелевой</td>\n",
              "      <td>здравствуйте вы позвонили в группу компании  б...</td>\n",
              "    </tr>\n",
              "    <tr>\n",
              "      <th>24</th>\n",
              "      <td>head-liner.ru</td>\n",
              "      <td>2919615074</td>\n",
              "      <td>спорный - нет соединения</td>\n",
              "      <td>Нецелевой</td>\n",
              "      <td>звонок в дверь живой комплекс  наталья здравст...</td>\n",
              "    </tr>\n",
              "    <tr>\n",
              "      <th>25</th>\n",
              "      <td>head-liner.ru</td>\n",
              "      <td>2919550530</td>\n",
              "      <td>спорный - нет соединения</td>\n",
              "      <td>Нецелевой</td>\n",
              "      <td>телефонный звонок</td>\n",
              "    </tr>\n",
              "    <tr>\n",
              "      <th>26</th>\n",
              "      <td>head-liner.ru</td>\n",
              "      <td>2919520238</td>\n",
              "      <td>Лид - Вторичный целевой - 2 очередь - 3 очеред...</td>\n",
              "      <td>Нецелевой</td>\n",
              "      <td>здравствуйте вы позвонили в группу компании  б...</td>\n",
              "    </tr>\n",
              "    <tr>\n",
              "      <th>27</th>\n",
              "      <td>head-liner.ru</td>\n",
              "      <td>2930249245</td>\n",
              "      <td>Первичный целевой - запись на просмотр - не оп...</td>\n",
              "      <td>Целевой</td>\n",
              "      <td>жилый комплекс  меня зовут наталья здравствуйт...</td>\n",
              "    </tr>\n",
              "    <tr>\n",
              "      <th>28</th>\n",
              "      <td>head-liner.ru</td>\n",
              "      <td>2939712644</td>\n",
              "      <td>спорный - нет соединения</td>\n",
              "      <td>Нецелевой</td>\n",
              "      <td>здравствуйте</td>\n",
              "    </tr>\n",
              "    <tr>\n",
              "      <th>29</th>\n",
              "      <td>head-liner.ru</td>\n",
              "      <td>2930211973</td>\n",
              "      <td>Первичный целевой - 2 очередь - 3-ком</td>\n",
              "      <td>Целевой</td>\n",
              "      <td>здравствуйте вы позвонили в группу компании  б...</td>\n",
              "    </tr>\n",
              "    <tr>\n",
              "      <th>30</th>\n",
              "      <td>head-liner.ru</td>\n",
              "      <td>2929623235</td>\n",
              "      <td>спорный - нет соединения</td>\n",
              "      <td>Нецелевой</td>\n",
              "      <td>здравствуйте</td>\n",
              "    </tr>\n",
              "    <tr>\n",
              "      <th>31</th>\n",
              "      <td>head-liner.ru</td>\n",
              "      <td>2939644136</td>\n",
              "      <td>спорный - нет соединения</td>\n",
              "      <td>Нецелевой</td>\n",
              "      <td>вкими</td>\n",
              "    </tr>\n",
              "    <tr>\n",
              "      <th>32</th>\n",
              "      <td>head-liner.ru</td>\n",
              "      <td>2939506208</td>\n",
              "      <td>спорный - нет соединения</td>\n",
              "      <td>Нецелевой</td>\n",
              "      <td>аликси звонок по объявлению разговор может быт...</td>\n",
              "    </tr>\n",
              "    <tr>\n",
              "      <th>33</th>\n",
              "      <td>head-liner.ru</td>\n",
              "      <td>2929465891</td>\n",
              "      <td>Лид - Первичный целевой - интересует рассрочка...</td>\n",
              "      <td>Целевой</td>\n",
              "      <td>день добрый здравствуйте здравствуйте портал г...</td>\n",
              "    </tr>\n",
              "    <tr>\n",
              "      <th>34</th>\n",
              "      <td>head-liner.ru</td>\n",
              "      <td>2939439048</td>\n",
              "      <td>Лид - спорный - связь прервалась</td>\n",
              "      <td>Нецелевой</td>\n",
              "      <td>телефон звонит желаю областью звонить меня зов...</td>\n",
              "    </tr>\n",
              "    <tr>\n",
              "      <th>35</th>\n",
              "      <td>head-liner.ru</td>\n",
              "      <td>2929372379</td>\n",
              "      <td>спорный - нет соединения</td>\n",
              "      <td>Нецелевой</td>\n",
              "      <td>здравствуйте вы позвонили в группу компании  б...</td>\n",
              "    </tr>\n",
              "    <tr>\n",
              "      <th>36</th>\n",
              "      <td>head-liner.ru</td>\n",
              "      <td>2929311247</td>\n",
              "      <td>постпродажное обслуживание - Вторичный целевой</td>\n",
              "      <td>Нецелевой</td>\n",
              "      <td>здравствуйте вы позвонили в группу компании ка...</td>\n",
              "    </tr>\n",
              "    <tr>\n",
              "      <th>37</th>\n",
              "      <td>head-liner.ru</td>\n",
              "      <td>2919161802</td>\n",
              "      <td>Спам</td>\n",
              "      <td>Нецелевой</td>\n",
              "      <td>авика звонок по объявлению разговор может быть...</td>\n",
              "    </tr>\n",
              "    <tr>\n",
              "      <th>38</th>\n",
              "      <td>head-liner.ru</td>\n",
              "      <td>2939148092</td>\n",
              "      <td>Первичный целевой - студия - 3 очередь - 1-ком</td>\n",
              "      <td>Целевой</td>\n",
              "      <td>здравствуйте вы позвонили в группу компании  б...</td>\n",
              "    </tr>\n",
              "    <tr>\n",
              "      <th>39</th>\n",
              "      <td>head-liner.ru</td>\n",
              "      <td>2929370545</td>\n",
              "      <td>спорный - нет соединения</td>\n",
              "      <td>Нецелевой</td>\n",
              "      <td>здравствуйте вы позвонили в группу компании  б...</td>\n",
              "    </tr>\n",
              "    <tr>\n",
              "      <th>40</th>\n",
              "      <td>head-liner.ru</td>\n",
              "      <td>2918538922</td>\n",
              "      <td>Нецелевой звонок - ошибка</td>\n",
              "      <td>Нецелевой</td>\n",
              "      <td>расскажите пожалуйста фотоаппарат кэннен а603</td>\n",
              "    </tr>\n",
              "    <tr>\n",
              "      <th>41</th>\n",
              "      <td>head-liner.ru</td>\n",
              "      <td>2938333136</td>\n",
              "      <td>Лид - спорный - студия - связь прервалась - 1-ком</td>\n",
              "      <td>Нецелевой</td>\n",
              "      <td>здравствуйте вы позвонили в группу компании  б...</td>\n",
              "    </tr>\n",
              "    <tr>\n",
              "      <th>42</th>\n",
              "      <td>head-liner.ru</td>\n",
              "      <td>2928975097</td>\n",
              "      <td>Первичный целевой - 2 очередь - 3-ком</td>\n",
              "      <td>Целевой</td>\n",
              "      <td>здравствуйте вы позвонили в группу компании  б...</td>\n",
              "    </tr>\n",
              "    <tr>\n",
              "      <th>43</th>\n",
              "      <td>head-liner.ru</td>\n",
              "      <td>2928938049</td>\n",
              "      <td>постпродажное обслуживание - Вторичный целевой</td>\n",
              "      <td>Нецелевой</td>\n",
              "      <td>алло да да я сейчас разговаривала с девушкой д...</td>\n",
              "    </tr>\n",
              "    <tr>\n",
              "      <th>44</th>\n",
              "      <td>head-liner.ru</td>\n",
              "      <td>2928935657</td>\n",
              "      <td>постпродажное обслуживание - Вторичный целевой</td>\n",
              "      <td>Нецелевой</td>\n",
              "      <td>добрый день девушка вот скажите пожалуйста я п...</td>\n",
              "    </tr>\n",
              "    <tr>\n",
              "      <th>45</th>\n",
              "      <td>head-liner.ru</td>\n",
              "      <td>2928283255</td>\n",
              "      <td>спорный - нет соединения</td>\n",
              "      <td>Нецелевой</td>\n",
              "      <td>здравствуйте вы позвонили в группу компании ка...</td>\n",
              "    </tr>\n",
              "    <tr>\n",
              "      <th>46</th>\n",
              "      <td>head-liner.ru</td>\n",
              "      <td>2938080128</td>\n",
              "      <td>Лид - 3 очередь - Условно целевой - 3-ком - от...</td>\n",
              "      <td>Нецелевой</td>\n",
              "      <td>здравствуйте вы позвонили в группу компании  б...</td>\n",
              "    </tr>\n",
              "    <tr>\n",
              "      <th>47</th>\n",
              "      <td>head-liner.ru</td>\n",
              "      <td>2928807121</td>\n",
              "      <td>спорный - нет соединения</td>\n",
              "      <td>Нецелевой</td>\n",
              "      <td>здравствуйте вы позвонили в группу компании  б...</td>\n",
              "    </tr>\n",
              "    <tr>\n",
              "      <th>48</th>\n",
              "      <td>head-liner.ru</td>\n",
              "      <td>2937971588</td>\n",
              "      <td>Первичный целевой - ипотека - студия - 3 очередь</td>\n",
              "      <td>Целевой</td>\n",
              "      <td>здравствуйте вы позвонили в группу компании  б...</td>\n",
              "    </tr>\n",
              "    <tr>\n",
              "      <th>49</th>\n",
              "      <td>head-liner.ru</td>\n",
              "      <td>2928050751</td>\n",
              "      <td>спорный - нет соединения</td>\n",
              "      <td>Нецелевой</td>\n",
              "      <td>телефонный звонок телефонный звонок телефонный...</td>\n",
              "    </tr>\n",
              "  </tbody>\n",
              "</table>\n",
              "</div>\n",
              "    <div class=\"colab-df-buttons\">\n",
              "\n",
              "  <div class=\"colab-df-container\">\n",
              "    <button class=\"colab-df-convert\" onclick=\"convertToInteractive('df-15eb2927-2de6-492d-9795-c26d52a1a1af')\"\n",
              "            title=\"Convert this dataframe to an interactive table.\"\n",
              "            style=\"display:none;\">\n",
              "\n",
              "  <svg xmlns=\"http://www.w3.org/2000/svg\" height=\"24px\" viewBox=\"0 -960 960 960\">\n",
              "    <path d=\"M120-120v-720h720v720H120Zm60-500h600v-160H180v160Zm220 220h160v-160H400v160Zm0 220h160v-160H400v160ZM180-400h160v-160H180v160Zm440 0h160v-160H620v160ZM180-180h160v-160H180v160Zm440 0h160v-160H620v160Z\"/>\n",
              "  </svg>\n",
              "    </button>\n",
              "\n",
              "  <style>\n",
              "    .colab-df-container {\n",
              "      display:flex;\n",
              "      gap: 12px;\n",
              "    }\n",
              "\n",
              "    .colab-df-convert {\n",
              "      background-color: #E8F0FE;\n",
              "      border: none;\n",
              "      border-radius: 50%;\n",
              "      cursor: pointer;\n",
              "      display: none;\n",
              "      fill: #1967D2;\n",
              "      height: 32px;\n",
              "      padding: 0 0 0 0;\n",
              "      width: 32px;\n",
              "    }\n",
              "\n",
              "    .colab-df-convert:hover {\n",
              "      background-color: #E2EBFA;\n",
              "      box-shadow: 0px 1px 2px rgba(60, 64, 67, 0.3), 0px 1px 3px 1px rgba(60, 64, 67, 0.15);\n",
              "      fill: #174EA6;\n",
              "    }\n",
              "\n",
              "    .colab-df-buttons div {\n",
              "      margin-bottom: 4px;\n",
              "    }\n",
              "\n",
              "    [theme=dark] .colab-df-convert {\n",
              "      background-color: #3B4455;\n",
              "      fill: #D2E3FC;\n",
              "    }\n",
              "\n",
              "    [theme=dark] .colab-df-convert:hover {\n",
              "      background-color: #434B5C;\n",
              "      box-shadow: 0px 1px 3px 1px rgba(0, 0, 0, 0.15);\n",
              "      filter: drop-shadow(0px 1px 2px rgba(0, 0, 0, 0.3));\n",
              "      fill: #FFFFFF;\n",
              "    }\n",
              "  </style>\n",
              "\n",
              "    <script>\n",
              "      const buttonEl =\n",
              "        document.querySelector('#df-15eb2927-2de6-492d-9795-c26d52a1a1af button.colab-df-convert');\n",
              "      buttonEl.style.display =\n",
              "        google.colab.kernel.accessAllowed ? 'block' : 'none';\n",
              "\n",
              "      async function convertToInteractive(key) {\n",
              "        const element = document.querySelector('#df-15eb2927-2de6-492d-9795-c26d52a1a1af');\n",
              "        const dataTable =\n",
              "          await google.colab.kernel.invokeFunction('convertToInteractive',\n",
              "                                                    [key], {});\n",
              "        if (!dataTable) return;\n",
              "\n",
              "        const docLinkHtml = 'Like what you see? Visit the ' +\n",
              "          '<a target=\"_blank\" href=https://colab.research.google.com/notebooks/data_table.ipynb>data table notebook</a>'\n",
              "          + ' to learn more about interactive tables.';\n",
              "        element.innerHTML = '';\n",
              "        dataTable['output_type'] = 'display_data';\n",
              "        await google.colab.output.renderOutput(dataTable, element);\n",
              "        const docLink = document.createElement('div');\n",
              "        docLink.innerHTML = docLinkHtml;\n",
              "        element.appendChild(docLink);\n",
              "      }\n",
              "    </script>\n",
              "  </div>\n",
              "\n",
              "\n",
              "<div id=\"df-c087f26a-0aec-4dd6-b56b-726fd8b61f0d\">\n",
              "  <button class=\"colab-df-quickchart\" onclick=\"quickchart('df-c087f26a-0aec-4dd6-b56b-726fd8b61f0d')\"\n",
              "            title=\"Suggest charts\"\n",
              "            style=\"display:none;\">\n",
              "\n",
              "<svg xmlns=\"http://www.w3.org/2000/svg\" height=\"24px\"viewBox=\"0 0 24 24\"\n",
              "     width=\"24px\">\n",
              "    <g>\n",
              "        <path d=\"M19 3H5c-1.1 0-2 .9-2 2v14c0 1.1.9 2 2 2h14c1.1 0 2-.9 2-2V5c0-1.1-.9-2-2-2zM9 17H7v-7h2v7zm4 0h-2V7h2v10zm4 0h-2v-4h2v4z\"/>\n",
              "    </g>\n",
              "</svg>\n",
              "  </button>\n",
              "\n",
              "<style>\n",
              "  .colab-df-quickchart {\n",
              "      --bg-color: #E8F0FE;\n",
              "      --fill-color: #1967D2;\n",
              "      --hover-bg-color: #E2EBFA;\n",
              "      --hover-fill-color: #174EA6;\n",
              "      --disabled-fill-color: #AAA;\n",
              "      --disabled-bg-color: #DDD;\n",
              "  }\n",
              "\n",
              "  [theme=dark] .colab-df-quickchart {\n",
              "      --bg-color: #3B4455;\n",
              "      --fill-color: #D2E3FC;\n",
              "      --hover-bg-color: #434B5C;\n",
              "      --hover-fill-color: #FFFFFF;\n",
              "      --disabled-bg-color: #3B4455;\n",
              "      --disabled-fill-color: #666;\n",
              "  }\n",
              "\n",
              "  .colab-df-quickchart {\n",
              "    background-color: var(--bg-color);\n",
              "    border: none;\n",
              "    border-radius: 50%;\n",
              "    cursor: pointer;\n",
              "    display: none;\n",
              "    fill: var(--fill-color);\n",
              "    height: 32px;\n",
              "    padding: 0;\n",
              "    width: 32px;\n",
              "  }\n",
              "\n",
              "  .colab-df-quickchart:hover {\n",
              "    background-color: var(--hover-bg-color);\n",
              "    box-shadow: 0 1px 2px rgba(60, 64, 67, 0.3), 0 1px 3px 1px rgba(60, 64, 67, 0.15);\n",
              "    fill: var(--button-hover-fill-color);\n",
              "  }\n",
              "\n",
              "  .colab-df-quickchart-complete:disabled,\n",
              "  .colab-df-quickchart-complete:disabled:hover {\n",
              "    background-color: var(--disabled-bg-color);\n",
              "    fill: var(--disabled-fill-color);\n",
              "    box-shadow: none;\n",
              "  }\n",
              "\n",
              "  .colab-df-spinner {\n",
              "    border: 2px solid var(--fill-color);\n",
              "    border-color: transparent;\n",
              "    border-bottom-color: var(--fill-color);\n",
              "    animation:\n",
              "      spin 1s steps(1) infinite;\n",
              "  }\n",
              "\n",
              "  @keyframes spin {\n",
              "    0% {\n",
              "      border-color: transparent;\n",
              "      border-bottom-color: var(--fill-color);\n",
              "      border-left-color: var(--fill-color);\n",
              "    }\n",
              "    20% {\n",
              "      border-color: transparent;\n",
              "      border-left-color: var(--fill-color);\n",
              "      border-top-color: var(--fill-color);\n",
              "    }\n",
              "    30% {\n",
              "      border-color: transparent;\n",
              "      border-left-color: var(--fill-color);\n",
              "      border-top-color: var(--fill-color);\n",
              "      border-right-color: var(--fill-color);\n",
              "    }\n",
              "    40% {\n",
              "      border-color: transparent;\n",
              "      border-right-color: var(--fill-color);\n",
              "      border-top-color: var(--fill-color);\n",
              "    }\n",
              "    60% {\n",
              "      border-color: transparent;\n",
              "      border-right-color: var(--fill-color);\n",
              "    }\n",
              "    80% {\n",
              "      border-color: transparent;\n",
              "      border-right-color: var(--fill-color);\n",
              "      border-bottom-color: var(--fill-color);\n",
              "    }\n",
              "    90% {\n",
              "      border-color: transparent;\n",
              "      border-bottom-color: var(--fill-color);\n",
              "    }\n",
              "  }\n",
              "</style>\n",
              "\n",
              "  <script>\n",
              "    async function quickchart(key) {\n",
              "      const quickchartButtonEl =\n",
              "        document.querySelector('#' + key + ' button');\n",
              "      quickchartButtonEl.disabled = true;  // To prevent multiple clicks.\n",
              "      quickchartButtonEl.classList.add('colab-df-spinner');\n",
              "      try {\n",
              "        const charts = await google.colab.kernel.invokeFunction(\n",
              "            'suggestCharts', [key], {});\n",
              "      } catch (error) {\n",
              "        console.error('Error during call to suggestCharts:', error);\n",
              "      }\n",
              "      quickchartButtonEl.classList.remove('colab-df-spinner');\n",
              "      quickchartButtonEl.classList.add('colab-df-quickchart-complete');\n",
              "    }\n",
              "    (() => {\n",
              "      let quickchartButtonEl =\n",
              "        document.querySelector('#df-c087f26a-0aec-4dd6-b56b-726fd8b61f0d button');\n",
              "      quickchartButtonEl.style.display =\n",
              "        google.colab.kernel.accessAllowed ? 'block' : 'none';\n",
              "    })();\n",
              "  </script>\n",
              "</div>\n",
              "    </div>\n",
              "  </div>\n"
            ]
          },
          "metadata": {},
          "execution_count": 30
        }
      ]
    },
    {
      "cell_type": "markdown",
      "source": [
        "### pavcity.turbo.site"
      ],
      "metadata": {
        "id": "y1MmYHYtWcV3"
      }
    },
    {
      "cell_type": "code",
      "source": [
        "# Загрузка токенайзера\n",
        "import gdown\n",
        "url = 'https://drive.google.com/file/d/1-cPqoIlY56nNjeCVFN-j3YO-aTf8NdkS/view?usp=sharing'\n",
        "gdown.download(url, quiet=True, fuzzy=True)"
      ],
      "metadata": {
        "colab": {
          "base_uri": "https://localhost:8080/",
          "height": 35
        },
        "outputId": "9eaa31a8-90ad-4170-82da-8867212473cb",
        "id": "2Fs-3tS_7SLK"
      },
      "execution_count": 1,
      "outputs": [
        {
          "output_type": "execute_result",
          "data": {
            "text/plain": [
              "'tokenizer.pkl'"
            ],
            "application/vnd.google.colaboratory.intrinsic+json": {
              "type": "string"
            }
          },
          "metadata": {},
          "execution_count": 1
        }
      ]
    },
    {
      "cell_type": "code",
      "source": [
        "# Загрузка модели нейронной сети\n",
        "url = 'https://drive.google.com/file/d/1-czQCHQMtlxdtdQVTla9LTGCFdVcX3JM/view?usp=sharing'\n",
        "gdown.download(url, quiet=True, fuzzy=True)"
      ],
      "metadata": {
        "colab": {
          "base_uri": "https://localhost:8080/",
          "height": 35
        },
        "outputId": "bc25133a-06b5-485f-f1cb-348cc4e8f21c",
        "id": "zjtNa5X87Yxa"
      },
      "execution_count": 2,
      "outputs": [
        {
          "output_type": "execute_result",
          "data": {
            "text/plain": [
              "'model_BoW.keras'"
            ],
            "application/vnd.google.colaboratory.intrinsic+json": {
              "type": "string"
            }
          },
          "metadata": {},
          "execution_count": 2
        }
      ]
    },
    {
      "cell_type": "code",
      "source": [
        "# Загрузка информации о звонках\n",
        "import pandas as pd\n",
        "url = 'https://drive.google.com/file/d/1c4jlkuw2zWdeqr5FgBfHt4KaKtoMWQi0/view?usp=drive_link'\n",
        "df = pd.read_csv('https://drive.google.com/uc?id=' + url.split('/')[-2],\n",
        "                 skiprows=4,\n",
        "                 sep=';',\n",
        "                 on_bad_lines='skip')\n",
        "df.shape"
      ],
      "metadata": {
        "colab": {
          "base_uri": "https://localhost:8080/"
        },
        "outputId": "aa798539-f0be-4c65-b6a7-5cae3eaba741",
        "id": "iCXSNUicWcWM"
      },
      "execution_count": 3,
      "outputs": [
        {
          "output_type": "execute_result",
          "data": {
            "text/plain": [
              "(1211, 74)"
            ]
          },
          "metadata": {},
          "execution_count": 3
        }
      ]
    },
    {
      "cell_type": "code",
      "source": [
        "# Загрузка записей звонков\n",
        "url = 'https://drive.google.com/drive/folders/1XwaXRApFWaqBSe0PGEkaMGT-EHH7OMtj?usp=drive_link'\n",
        "gdown.download_folder(url, quiet=True, remaining_ok=True)"
      ],
      "metadata": {
        "colab": {
          "base_uri": "https://localhost:8080/"
        },
        "outputId": "b9fc668d-8be5-4f18-e33b-f5f0f8dd8ae6",
        "id": "x9JG_H-yWcWN"
      },
      "execution_count": 4,
      "outputs": [
        {
          "output_type": "execute_result",
          "data": {
            "text/plain": [
              "['/content/Записи звонков_павелецкая сити/2023-06-17_12-54-28.210462_from_79803286601_to_74950216267_session_3029638181_talk.mp3',\n",
              " '/content/Записи звонков_павелецкая сити/2023-06-17_13-44-17.539114_from_79066743768_to_74950216267_session_3029352265_talk.mp3',\n",
              " '/content/Записи звонков_павелецкая сити/2023-06-17_14-08-51.827169_from_74993205445_to_74955141111_session_3029390475_talk.mp3',\n",
              " '/content/Записи звонков_павелецкая сити/2023-06-17_14-21-31.493157_from_79259041087_to_74950216267_session_3029730813_talk.mp3',\n",
              " '/content/Записи звонков_павелецкая сити/2023-06-17_16-16-05.571252_from_79680303488_to_74950216267_session_3029596520_talk.mp3',\n",
              " '/content/Записи звонков_павелецкая сити/2023-06-17_17-21-57.195548_from_79094690999_to_74955141111_session_3030126641_talk.mp3',\n",
              " '/content/Записи звонков_павелецкая сити/2023-06-17_19-11-06.505605_from_74950326372_to_0155649_session_3030256809_talk.mp3',\n",
              " '/content/Записи звонков_павелецкая сити/2023-06-18_09-01-03.303353_from_74950326372_to_0155649_session_3030549204_talk.mp3',\n",
              " '/content/Записи звонков_павелецкая сити/2023-06-18_09-22-52.207865_from_79651805758_to_74955141111_session_3030554159_talk.mp3',\n",
              " '/content/Записи звонков_павелецкая сити/2023-06-18_10-07-09.396588_from_79151900879_to_74950216267_session_3030608659_talk.mp3',\n",
              " '/content/Записи звонков_павелецкая сити/2023-06-18_10-36-22.310087_from_79671034159_to_74955141111_session_3030649979_talk.mp3',\n",
              " '/content/Записи звонков_павелецкая сити/2023-06-18_10-48-11.070497_from_79221093735_to_74950216267_session_3030810737_talk.mp3',\n",
              " '/content/Записи звонков_павелецкая сити/2023-06-18_10-56-51.904109_from_79645040572_to_74955141111_session_3030623683_talk.mp3',\n",
              " '/content/Записи звонков_павелецкая сити/2023-06-18_11-25-38.241315_from_79854127684_to_74955141111_session_3030870962_talk.mp3',\n",
              " '/content/Записи звонков_павелецкая сити/2023-06-18_12-23-21.133140_from_79139127673_to_74950216267_session_3030815699_talk.mp3',\n",
              " '/content/Записи звонков_павелецкая сити/2023-06-18_12-25-02.742799_from_79660057569_to_74955141111_session_3030846086_talk.mp3',\n",
              " '/content/Записи звонков_павелецкая сити/2023-06-18_12-46-57.826869_from_79036235042_to_74955141111_session_3030786763_talk.mp3',\n",
              " '/content/Записи звонков_павелецкая сити/2023-06-18_13-03-15.004666_from_79274843267_to_74950216267_session_3031027717_talk.mp3',\n",
              " '/content/Записи звонков_павелецкая сити/2023-06-18_13-21-21.314056_from_79164825580_to_74955141111_session_3030904744_talk.mp3',\n",
              " '/content/Записи звонков_павелецкая сити/2023-06-18_13-49-07.465157_from_79269090190_to_74955141111_session_3030853628_talk.mp3',\n",
              " '/content/Записи звонков_павелецкая сити/2023-06-18_14-35-25.096497_from_79519099298_to_74955141111_session_3030974296_talk.mp3',\n",
              " '/content/Записи звонков_павелецкая сити/2023-06-18_15-02-01.473156_from_79682079335_to_74950216267_session_3031223322_talk.mp3',\n",
              " '/content/Записи звонков_павелецкая сити/2023-06-18_15-26-26.487296_from_79250468024_to_74950216267_session_3030567890_talk.mp3',\n",
              " '/content/Записи звонков_павелецкая сити/2023-06-18_15-44-27.861587_from_79107482069_to_74950216267_session_3031126709_talk.mp3',\n",
              " '/content/Записи звонков_павелецкая сити/2023-06-18_15-59-20.666700_from_79265805599_to_74955141111_session_3031073688_talk.mp3',\n",
              " '/content/Записи звонков_павелецкая сити/2023-06-18_16-05-54.155297_from_79852671888_to_74955141111_session_3030619720_talk.mp3',\n",
              " '/content/Записи звонков_павелецкая сити/2023-06-18_17-41-38.718386_from_79051570440_to_74950216267_session_3031456882_talk.mp3',\n",
              " '/content/Записи звонков_павелецкая сити/2023-06-18_17-50-08.307656_from_79067778858_to_74955141111_session_3031466787_talk.mp3',\n",
              " '/content/Записи звонков_павелецкая сити/2023-06-18_18-04-56.248883_from_79031012817_to_74955141111_session_3031316834_talk.mp3',\n",
              " '/content/Записи звонков_павелецкая сити/2023-06-18_18-09-35.177730_from_79107876076_to_74955141111_session_3030767375_talk.mp3',\n",
              " '/content/Записи звонков_павелецкая сити/2023-06-18_19-25-38.489238_from_79654392820_to_74950216267_session_3031429591_talk.mp3',\n",
              " '/content/Записи звонков_павелецкая сити/2023-06-19_10-47-17.706090_from_79136281109_to_74950216267_session_3032022083_talk.mp3',\n",
              " '/content/Записи звонков_павелецкая сити/2023-06-19_10-53-44.520624_from_79684035656_to_74955141111_session_3032341357_talk.mp3',\n",
              " '/content/Записи звонков_павелецкая сити/2023-06-19_11-04-05.286756_from_79260084182_to_74950216267_session_3032207796_talk.mp3',\n",
              " '/content/Записи звонков_павелецкая сити/2023-06-19_11-23-17.040128_from_79813389541_to_74950216267_session_3032271261_talk.mp3',\n",
              " '/content/Записи звонков_павелецкая сити/2023-06-19_11-27-46.734461_from_79781935179_to_74955141111_session_3032161583_talk.mp3',\n",
              " '/content/Записи звонков_павелецкая сити/2023-06-19_12-12-40.350431_from_79104429469_to_74955141111_session_3032677423_talk.mp3',\n",
              " '/content/Записи звонков_павелецкая сити/2023-06-19_12-26-58.386574_from_79250189982_to_74950216267_session_3031640590_talk.mp3',\n",
              " '/content/Записи звонков_павелецкая сити/2023-06-19_12-38-08.398862_from_79501466664_to_74950216267_session_3032483204_talk.mp3',\n",
              " '/content/Записи звонков_павелецкая сити/2023-06-19_12-57-33.574655_from_79636865864_to_74955141111_session_3032896177_talk.mp3',\n",
              " '/content/Записи звонков_павелецкая сити/2023-06-19_13-12-07.125542_from_79101658988_to_74950216267_session_3032179333_talk.mp3',\n",
              " '/content/Записи звонков_павелецкая сити/2023-06-19_13-14-49.436106_from_74992700663_to_74950216267_session_3032775068_talk.mp3',\n",
              " '/content/Записи звонков_павелецкая сити/2023-06-19_13-17-13.730161_from_79169209180_to_74955141111_session_3031875985_talk.mp3',\n",
              " '/content/Записи звонков_павелецкая сити/2023-06-19_13-41-47.633298_from_79269260970_to_74955141111_session_3032237258_talk.mp3',\n",
              " '/content/Записи звонков_павелецкая сити/2023-06-19_14-46-35.874105_from_79175826749_to_74950216267_session_3031650945_talk.mp3',\n",
              " '/content/Записи звонков_павелецкая сити/2023-06-19_15-11-32.468224_from_79031566838_to_74950216267_session_3034046623_talk.mp3',\n",
              " '/content/Записи звонков_павелецкая сити/2023-06-19_15-25-36.353632_from_79687067959_to_74955141111_session_3032007610_talk.mp3',\n",
              " '/content/Записи звонков_павелецкая сити/2023-06-19_15-30-14.561778_from_79175929175_to_74955141111_session_3034442627_talk.mp3',\n",
              " '/content/Записи звонков_павелецкая сити/2023-06-19_15-59-53.239894_from_79990352825_to_74955141111_session_3032485270_talk.mp3',\n",
              " '/content/Записи звонков_павелецкая сити/2023-06-19_16-25-10.470057_from_79153673050_to_74950216267_session_3032998743_talk.mp3']"
            ]
          },
          "metadata": {},
          "execution_count": 4
        }
      ]
    },
    {
      "cell_type": "code",
      "source": [
        "# Добавление в датафрейм с информацией о звонках столбцов 'Файл записи звонка' и 'Проект'\n",
        "import os\n",
        "df = df.astype({'Идентификатор сессии звонка': int})\n",
        "for sample_file in os.listdir('Записи звонков_павелецкая сити'):\n",
        "  df.loc[df[df['Идентификатор сессии звонка'] == int(sample_file.split('_')[-2])].index, 'Файл записи звонка'] = 'Записи звонков_павелецкая сити/' + sample_file\n",
        "  df.loc[df[df['Идентификатор сессии звонка'] == int(sample_file.split('_')[-2])].index, 'Проект'] = 'pavcity.turbo.site'"
      ],
      "metadata": {
        "id": "l7p2sqnPWcWN"
      },
      "execution_count": 5,
      "outputs": []
    },
    {
      "cell_type": "code",
      "source": [
        "# Выбор столбцов, необходимых для инференса модели нейронной сети и оценки\n",
        "df = df[['Идентификатор сессии звонка',\n",
        "         'Файл записи звонка',\n",
        "         'Проект',\n",
        "         'Теги']][df['Проект'] == 'pavcity.turbo.site']\n",
        "df.shape"
      ],
      "metadata": {
        "colab": {
          "base_uri": "https://localhost:8080/"
        },
        "outputId": "d2be05e7-8ea4-470e-bae9-68807d4f6cd3",
        "id": "DV8sugeD7nxq"
      },
      "execution_count": 6,
      "outputs": [
        {
          "output_type": "execute_result",
          "data": {
            "text/plain": [
              "(1, 4)"
            ]
          },
          "metadata": {},
          "execution_count": 6
        }
      ]
    },
    {
      "cell_type": "code",
      "source": [
        "df.head()"
      ],
      "metadata": {
        "colab": {
          "base_uri": "https://localhost:8080/",
          "height": 81
        },
        "outputId": "c6a8bb6e-540a-4642-ac54-b32b40bbcf93",
        "id": "8Yp0Hu2O7yiD"
      },
      "execution_count": 7,
      "outputs": [
        {
          "output_type": "execute_result",
          "data": {
            "text/plain": [
              "    Идентификатор сессии звонка  \\\n",
              "11                   3032161583   \n",
              "\n",
              "                                   Файл записи звонка              Проект Теги  \n",
              "11  Записи звонков_павелецкая сити/2023-06-19_11-2...  pavcity.turbo.site  NaN  "
            ],
            "text/html": [
              "\n",
              "  <div id=\"df-bbb79bfa-1e96-4ff4-adea-99926da3fc93\" class=\"colab-df-container\">\n",
              "    <div>\n",
              "<style scoped>\n",
              "    .dataframe tbody tr th:only-of-type {\n",
              "        vertical-align: middle;\n",
              "    }\n",
              "\n",
              "    .dataframe tbody tr th {\n",
              "        vertical-align: top;\n",
              "    }\n",
              "\n",
              "    .dataframe thead th {\n",
              "        text-align: right;\n",
              "    }\n",
              "</style>\n",
              "<table border=\"1\" class=\"dataframe\">\n",
              "  <thead>\n",
              "    <tr style=\"text-align: right;\">\n",
              "      <th></th>\n",
              "      <th>Идентификатор сессии звонка</th>\n",
              "      <th>Файл записи звонка</th>\n",
              "      <th>Проект</th>\n",
              "      <th>Теги</th>\n",
              "    </tr>\n",
              "  </thead>\n",
              "  <tbody>\n",
              "    <tr>\n",
              "      <th>11</th>\n",
              "      <td>3032161583</td>\n",
              "      <td>Записи звонков_павелецкая сити/2023-06-19_11-2...</td>\n",
              "      <td>pavcity.turbo.site</td>\n",
              "      <td>NaN</td>\n",
              "    </tr>\n",
              "  </tbody>\n",
              "</table>\n",
              "</div>\n",
              "    <div class=\"colab-df-buttons\">\n",
              "\n",
              "  <div class=\"colab-df-container\">\n",
              "    <button class=\"colab-df-convert\" onclick=\"convertToInteractive('df-bbb79bfa-1e96-4ff4-adea-99926da3fc93')\"\n",
              "            title=\"Convert this dataframe to an interactive table.\"\n",
              "            style=\"display:none;\">\n",
              "\n",
              "  <svg xmlns=\"http://www.w3.org/2000/svg\" height=\"24px\" viewBox=\"0 -960 960 960\">\n",
              "    <path d=\"M120-120v-720h720v720H120Zm60-500h600v-160H180v160Zm220 220h160v-160H400v160Zm0 220h160v-160H400v160ZM180-400h160v-160H180v160Zm440 0h160v-160H620v160ZM180-180h160v-160H180v160Zm440 0h160v-160H620v160Z\"/>\n",
              "  </svg>\n",
              "    </button>\n",
              "\n",
              "  <style>\n",
              "    .colab-df-container {\n",
              "      display:flex;\n",
              "      gap: 12px;\n",
              "    }\n",
              "\n",
              "    .colab-df-convert {\n",
              "      background-color: #E8F0FE;\n",
              "      border: none;\n",
              "      border-radius: 50%;\n",
              "      cursor: pointer;\n",
              "      display: none;\n",
              "      fill: #1967D2;\n",
              "      height: 32px;\n",
              "      padding: 0 0 0 0;\n",
              "      width: 32px;\n",
              "    }\n",
              "\n",
              "    .colab-df-convert:hover {\n",
              "      background-color: #E2EBFA;\n",
              "      box-shadow: 0px 1px 2px rgba(60, 64, 67, 0.3), 0px 1px 3px 1px rgba(60, 64, 67, 0.15);\n",
              "      fill: #174EA6;\n",
              "    }\n",
              "\n",
              "    .colab-df-buttons div {\n",
              "      margin-bottom: 4px;\n",
              "    }\n",
              "\n",
              "    [theme=dark] .colab-df-convert {\n",
              "      background-color: #3B4455;\n",
              "      fill: #D2E3FC;\n",
              "    }\n",
              "\n",
              "    [theme=dark] .colab-df-convert:hover {\n",
              "      background-color: #434B5C;\n",
              "      box-shadow: 0px 1px 3px 1px rgba(0, 0, 0, 0.15);\n",
              "      filter: drop-shadow(0px 1px 2px rgba(0, 0, 0, 0.3));\n",
              "      fill: #FFFFFF;\n",
              "    }\n",
              "  </style>\n",
              "\n",
              "    <script>\n",
              "      const buttonEl =\n",
              "        document.querySelector('#df-bbb79bfa-1e96-4ff4-adea-99926da3fc93 button.colab-df-convert');\n",
              "      buttonEl.style.display =\n",
              "        google.colab.kernel.accessAllowed ? 'block' : 'none';\n",
              "\n",
              "      async function convertToInteractive(key) {\n",
              "        const element = document.querySelector('#df-bbb79bfa-1e96-4ff4-adea-99926da3fc93');\n",
              "        const dataTable =\n",
              "          await google.colab.kernel.invokeFunction('convertToInteractive',\n",
              "                                                    [key], {});\n",
              "        if (!dataTable) return;\n",
              "\n",
              "        const docLinkHtml = 'Like what you see? Visit the ' +\n",
              "          '<a target=\"_blank\" href=https://colab.research.google.com/notebooks/data_table.ipynb>data table notebook</a>'\n",
              "          + ' to learn more about interactive tables.';\n",
              "        element.innerHTML = '';\n",
              "        dataTable['output_type'] = 'display_data';\n",
              "        await google.colab.output.renderOutput(dataTable, element);\n",
              "        const docLink = document.createElement('div');\n",
              "        docLink.innerHTML = docLinkHtml;\n",
              "        element.appendChild(docLink);\n",
              "      }\n",
              "    </script>\n",
              "  </div>\n",
              "\n",
              "    </div>\n",
              "  </div>\n"
            ]
          },
          "metadata": {},
          "execution_count": 7
        }
      ]
    },
    {
      "cell_type": "code",
      "source": [
        "# Сохранение в json\n",
        "df.to_json('input.json', orient='records', force_ascii=False)"
      ],
      "metadata": {
        "id": "-9Bz6yBJWcWP"
      },
      "execution_count": 8,
      "outputs": []
    },
    {
      "cell_type": "code",
      "source": [
        "# Установка cohere, openai и tiktoken\n",
        "!pip -q install cohere openai==1.2.3 tiktoken==0.5.1"
      ],
      "metadata": {
        "colab": {
          "base_uri": "https://localhost:8080/"
        },
        "outputId": "70575c02-9549-41a9-d194-6822eac55e17",
        "id": "ZP33N5V1762B"
      },
      "execution_count": 9,
      "outputs": [
        {
          "output_type": "stream",
          "name": "stdout",
          "text": [
            "\u001b[?25l     \u001b[90m━━━━━━━━━━━━━━━━━━━━━━━━━━━━━━━━━━━━━━━━\u001b[0m \u001b[32m0.0/51.7 kB\u001b[0m \u001b[31m?\u001b[0m eta \u001b[36m-:--:--\u001b[0m\r\u001b[2K     \u001b[90m━━━━━━━━━━━━━━━━━━━━━━━━━━━━━━━━━━━━━━━━\u001b[0m \u001b[32m51.7/51.7 kB\u001b[0m \u001b[31m1.4 MB/s\u001b[0m eta \u001b[36m0:00:00\u001b[0m\n",
            "\u001b[2K     \u001b[90m━━━━━━━━━━━━━━━━━━━━━━━━━━━━━━━━━━━━━━━━\u001b[0m \u001b[32m220.3/220.3 kB\u001b[0m \u001b[31m10.2 MB/s\u001b[0m eta \u001b[36m0:00:00\u001b[0m\n",
            "\u001b[2K     \u001b[90m━━━━━━━━━━━━━━━━━━━━━━━━━━━━━━━━━━━━━━━━\u001b[0m \u001b[32m2.0/2.0 MB\u001b[0m \u001b[31m45.9 MB/s\u001b[0m eta \u001b[36m0:00:00\u001b[0m\n",
            "\u001b[2K     \u001b[90m━━━━━━━━━━━━━━━━━━━━━━━━━━━━━━━━━━━━━━━━\u001b[0m \u001b[32m75.9/75.9 kB\u001b[0m \u001b[31m8.6 MB/s\u001b[0m eta \u001b[36m0:00:00\u001b[0m\n",
            "\u001b[2K     \u001b[90m━━━━━━━━━━━━━━━━━━━━━━━━━━━━━━━━━━━━━━━━\u001b[0m \u001b[32m3.1/3.1 MB\u001b[0m \u001b[31m60.2 MB/s\u001b[0m eta \u001b[36m0:00:00\u001b[0m\n",
            "\u001b[2K     \u001b[90m━━━━━━━━━━━━━━━━━━━━━━━━━━━━━━━━━━━━━━━━\u001b[0m \u001b[32m76.9/76.9 kB\u001b[0m \u001b[31m8.6 MB/s\u001b[0m eta \u001b[36m0:00:00\u001b[0m\n",
            "\u001b[2K     \u001b[90m━━━━━━━━━━━━━━━━━━━━━━━━━━━━━━━━━━━━━━━━\u001b[0m \u001b[32m58.3/58.3 kB\u001b[0m \u001b[31m6.8 MB/s\u001b[0m eta \u001b[36m0:00:00\u001b[0m\n",
            "\u001b[?25h"
          ]
        }
      ]
    },
    {
      "cell_type": "code",
      "source": [
        "# Установка openai-whisper\n",
        "!pip -q install openai-whisper"
      ],
      "metadata": {
        "colab": {
          "base_uri": "https://localhost:8080/"
        },
        "outputId": "f85c2463-228a-400a-b1af-cdc43471831d",
        "id": "U1jwqL4BWcWQ"
      },
      "execution_count": 10,
      "outputs": [
        {
          "output_type": "stream",
          "name": "stdout",
          "text": [
            "\u001b[?25l     \u001b[90m━━━━━━━━━━━━━━━━━━━━━━━━━━━━━━━━━━━━━━━━\u001b[0m \u001b[32m0.0/798.6 kB\u001b[0m \u001b[31m?\u001b[0m eta \u001b[36m-:--:--\u001b[0m\r\u001b[2K     \u001b[91m━\u001b[0m\u001b[91m╸\u001b[0m\u001b[90m━━━━━━━━━━━━━━━━━━━━━━━━━━━━━━━━━━━━━━\u001b[0m \u001b[32m30.7/798.6 kB\u001b[0m \u001b[31m759.4 kB/s\u001b[0m eta \u001b[36m0:00:02\u001b[0m\r\u001b[2K     \u001b[91m━━━\u001b[0m\u001b[90m╺\u001b[0m\u001b[90m━━━━━━━━━━━━━━━━━━━━━━━━━━━━━━━━━━━━\u001b[0m \u001b[32m61.4/798.6 kB\u001b[0m \u001b[31m926.4 kB/s\u001b[0m eta \u001b[36m0:00:01\u001b[0m\r\u001b[2K     \u001b[91m━━━━━━\u001b[0m\u001b[90m╺\u001b[0m\u001b[90m━━━━━━━━━━━━━━━━━━━━━━━━━━━━━━━━━\u001b[0m \u001b[32m122.9/798.6 kB\u001b[0m \u001b[31m1.2 MB/s\u001b[0m eta \u001b[36m0:00:01\u001b[0m\r\u001b[2K     \u001b[91m━━━━━━━━━━━━━━━━━━\u001b[0m\u001b[90m╺\u001b[0m\u001b[90m━━━━━━━━━━━━━━━━━━━━━\u001b[0m \u001b[32m368.6/798.6 kB\u001b[0m \u001b[31m2.6 MB/s\u001b[0m eta \u001b[36m0:00:01\u001b[0m\r\u001b[2K     \u001b[90m━━━━━━━━━━━━━━━━━━━━━━━━━━━━━━━━━━━━━━━━\u001b[0m \u001b[32m798.6/798.6 kB\u001b[0m \u001b[31m4.7 MB/s\u001b[0m eta \u001b[36m0:00:00\u001b[0m\n",
            "\u001b[?25h  Installing build dependencies ... \u001b[?25l\u001b[?25hdone\n",
            "  Getting requirements to build wheel ... \u001b[?25l\u001b[?25hdone\n",
            "  Preparing metadata (pyproject.toml) ... \u001b[?25l\u001b[?25hdone\n",
            "  Building wheel for openai-whisper (pyproject.toml) ... \u001b[?25l\u001b[?25hdone\n"
          ]
        }
      ]
    },
    {
      "cell_type": "code",
      "source": [
        "# Установка fastapi и дополнительных библиотек\n",
        "!pip -q install fastapi uvicorn python-multipart typing-extensions==4.5.0 kaleido"
      ],
      "metadata": {
        "colab": {
          "base_uri": "https://localhost:8080/"
        },
        "outputId": "562d2b6f-9c65-431b-f20a-b31c76a16b30",
        "id": "7hbQfs31WcWR"
      },
      "execution_count": 11,
      "outputs": [
        {
          "output_type": "stream",
          "name": "stdout",
          "text": [
            "\u001b[?25l     \u001b[90m━━━━━━━━━━━━━━━━━━━━━━━━━━━━━━━━━━━━━━━━\u001b[0m \u001b[32m0.0/92.0 kB\u001b[0m \u001b[31m?\u001b[0m eta \u001b[36m-:--:--\u001b[0m\r\u001b[2K     \u001b[91m━━━━━━━━━━━━━━━━━━━━━━━━━━\u001b[0m\u001b[91m╸\u001b[0m\u001b[90m━━━━━━━━━━━━━\u001b[0m \u001b[32m61.4/92.0 kB\u001b[0m \u001b[31m1.6 MB/s\u001b[0m eta \u001b[36m0:00:01\u001b[0m\r\u001b[2K     \u001b[90m━━━━━━━━━━━━━━━━━━━━━━━━━━━━━━━━━━━━━━━━\u001b[0m \u001b[32m92.0/92.0 kB\u001b[0m \u001b[31m1.8 MB/s\u001b[0m eta \u001b[36m0:00:00\u001b[0m\n",
            "\u001b[?25h\u001b[?25l     \u001b[90m━━━━━━━━━━━━━━━━━━━━━━━━━━━━━━━━━━━━━━━━\u001b[0m \u001b[32m0.0/60.3 kB\u001b[0m \u001b[31m?\u001b[0m eta \u001b[36m-:--:--\u001b[0m\r\u001b[2K     \u001b[90m━━━━━━━━━━━━━━━━━━━━━━━━━━━━━━━━━━━━━━━━\u001b[0m \u001b[32m60.3/60.3 kB\u001b[0m \u001b[31m5.6 MB/s\u001b[0m eta \u001b[36m0:00:00\u001b[0m\n",
            "\u001b[2K     \u001b[90m━━━━━━━━━━━━━━━━━━━━━━━━━━━━━━━━━━━━━━━━\u001b[0m \u001b[32m45.7/45.7 kB\u001b[0m \u001b[31m4.7 MB/s\u001b[0m eta \u001b[36m0:00:00\u001b[0m\n",
            "\u001b[2K     \u001b[90m━━━━━━━━━━━━━━━━━━━━━━━━━━━━━━━━━━━━━━━━\u001b[0m \u001b[32m79.9/79.9 MB\u001b[0m \u001b[31m8.8 MB/s\u001b[0m eta \u001b[36m0:00:00\u001b[0m\n",
            "\u001b[2K     \u001b[90m━━━━━━━━━━━━━━━━━━━━━━━━━━━━━━━━━━━━━━━━\u001b[0m \u001b[32m70.0/70.0 kB\u001b[0m \u001b[31m8.4 MB/s\u001b[0m eta \u001b[36m0:00:00\u001b[0m\n",
            "\u001b[2K     \u001b[90m━━━━━━━━━━━━━━━━━━━━━━━━━━━━━━━━━━━━━━━━\u001b[0m \u001b[32m92.1/92.1 kB\u001b[0m \u001b[31m11.1 MB/s\u001b[0m eta \u001b[36m0:00:00\u001b[0m\n",
            "\u001b[2K     \u001b[90m━━━━━━━━━━━━━━━━━━━━━━━━━━━━━━━━━━━━━━━━\u001b[0m \u001b[32m68.9/68.9 kB\u001b[0m \u001b[31m7.6 MB/s\u001b[0m eta \u001b[36m0:00:00\u001b[0m\n",
            "\u001b[2K     \u001b[90m━━━━━━━━━━━━━━━━━━━━━━━━━━━━━━━━━━━━━━━━\u001b[0m \u001b[32m92.1/92.1 kB\u001b[0m \u001b[31m10.5 MB/s\u001b[0m eta \u001b[36m0:00:00\u001b[0m\n",
            "\u001b[2K     \u001b[90m━━━━━━━━━━━━━━━━━━━━━━━━━━━━━━━━━━━━━━━━\u001b[0m \u001b[32m67.0/67.0 kB\u001b[0m \u001b[31m7.4 MB/s\u001b[0m eta \u001b[36m0:00:00\u001b[0m\n",
            "\u001b[2K     \u001b[90m━━━━━━━━━━━━━━━━━━━━━━━━━━━━━━━━━━━━━━━━\u001b[0m \u001b[32m93.1/93.1 kB\u001b[0m \u001b[31m10.2 MB/s\u001b[0m eta \u001b[36m0:00:00\u001b[0m\n",
            "\u001b[2K     \u001b[90m━━━━━━━━━━━━━━━━━━━━━━━━━━━━━━━━━━━━━━━━\u001b[0m \u001b[32m92.9/92.9 kB\u001b[0m \u001b[31m7.6 MB/s\u001b[0m eta \u001b[36m0:00:00\u001b[0m\n",
            "\u001b[2K     \u001b[90m━━━━━━━━━━━━━━━━━━━━━━━━━━━━━━━━━━━━━━━━\u001b[0m \u001b[32m92.9/92.9 kB\u001b[0m \u001b[31m9.9 MB/s\u001b[0m eta \u001b[36m0:00:00\u001b[0m\n",
            "\u001b[2K     \u001b[90m━━━━━━━━━━━━━━━━━━━━━━━━━━━━━━━━━━━━━━━━\u001b[0m \u001b[32m66.3/66.3 kB\u001b[0m \u001b[31m6.7 MB/s\u001b[0m eta \u001b[36m0:00:00\u001b[0m\n",
            "\u001b[?25h"
          ]
        }
      ]
    },
    {
      "cell_type": "code",
      "source": [
        "!pip -q install tensorflow==2.14.0"
      ],
      "metadata": {
        "colab": {
          "base_uri": "https://localhost:8080/"
        },
        "outputId": "3a4e9de8-ff76-4839-fe56-f6f0423e0450",
        "id": "S2HS2g_z8UKn"
      },
      "execution_count": 12,
      "outputs": [
        {
          "output_type": "stream",
          "name": "stdout",
          "text": [
            "\u001b[2K     \u001b[90m━━━━━━━━━━━━━━━━━━━━━━━━━━━━━━━━━━━━━━━━\u001b[0m \u001b[32m489.8/489.8 MB\u001b[0m \u001b[31m2.1 MB/s\u001b[0m eta \u001b[36m0:00:00\u001b[0m\n",
            "\u001b[2K     \u001b[90m━━━━━━━━━━━━━━━━━━━━━━━━━━━━━━━━━━━━━━━━\u001b[0m \u001b[32m5.5/5.5 MB\u001b[0m \u001b[31m45.3 MB/s\u001b[0m eta \u001b[36m0:00:00\u001b[0m\n",
            "\u001b[2K     \u001b[90m━━━━━━━━━━━━━━━━━━━━━━━━━━━━━━━━━━━━━━━━\u001b[0m \u001b[32m440.7/440.7 kB\u001b[0m \u001b[31m8.9 MB/s\u001b[0m eta \u001b[36m0:00:00\u001b[0m\n",
            "\u001b[2K     \u001b[90m━━━━━━━━━━━━━━━━━━━━━━━━━━━━━━━━━━━━━━━━\u001b[0m \u001b[32m1.7/1.7 MB\u001b[0m \u001b[31m51.8 MB/s\u001b[0m eta \u001b[36m0:00:00\u001b[0m\n",
            "\u001b[?25h"
          ]
        }
      ]
    },
    {
      "cell_type": "code",
      "source": [
        "import tensorflow as tf\n",
        "tf.__version__"
      ],
      "metadata": {
        "colab": {
          "base_uri": "https://localhost:8080/",
          "height": 35
        },
        "outputId": "6284a9e2-62a1-4b47-f59e-a0e83aca1154",
        "id": "njm13yZu8ejm"
      },
      "execution_count": 13,
      "outputs": [
        {
          "output_type": "execute_result",
          "data": {
            "text/plain": [
              "'2.14.0'"
            ],
            "application/vnd.google.colaboratory.intrinsic+json": {
              "type": "string"
            }
          },
          "metadata": {},
          "execution_count": 13
        }
      ]
    },
    {
      "cell_type": "code",
      "source": [
        "# Эндпойнт\n",
        "main_file = '''\n",
        "import re\n",
        "import whisper\n",
        "import numpy as np\n",
        "import pandas as pd\n",
        "import pickle as pkl\n",
        "from io import BytesIO\n",
        "from fastapi import FastAPI, File\n",
        "from tensorflow.keras.saving import load_model\n",
        "\n",
        "whisper_model = whisper.load_model('medium')\n",
        "model = load_model('model_BoW.keras')\n",
        "\n",
        "with open('tokenizer.pkl', 'rb') as f:\n",
        "  tokenizer = pkl.load(f)\n",
        "\n",
        "app = FastAPI()\n",
        "\n",
        "@app.post('/predict')\n",
        "async def predict(json_file: bytes = File(...)):\n",
        "\n",
        "  df = pd.read_json(BytesIO(json_file))\n",
        "\n",
        "  for i in df.index:\n",
        "    df.loc[i,'Транскрибация файла записи звонка'] = whisper_model.transcribe(df.loc[i,'Файл записи звонка'], language='ru')['text']\n",
        "  df['Транскрибация файла записи звонка'] = df['Транскрибация файла записи звонка'].fillna('безответа')\n",
        "  df['Транскрибация файла записи звонка'] = df['Транскрибация файла записи звонка'].apply(lambda s: re.sub('[^А-Яа-я0-9 ]', '', s.lower()))\n",
        "  df['Транскрибация файла записи звонка'] = df['Транскрибация файла записи звонка'].apply(lambda s: s.strip())\n",
        "  df['Транскрибация файла записи звонка'] = np.where(df['Транскрибация файла записи звонка'].str.len() < 5, 'безответа', df['Транскрибация файла записи звонка'])\n",
        "  df['Транскрибация файла записи звонка'] = df['Транскрибация файла записи звонка'].str.replace('ё', 'е', regex=False)\n",
        "\n",
        "  x_textdata_01 = tokenizer.texts_to_matrix(df['Транскрибация файла записи звонка'].tolist())\n",
        "\n",
        "  y_predict = model.predict(x_textdata_01)\n",
        "  for i in range(df.shape[0]):\n",
        "    df.loc[i,'Предсказание класса'] = 'Целевой' if round(y_predict[i][0]) else 'Нецелевой'\n",
        "\n",
        "  df[['Проект', 'Идентификатор сессии звонка', 'Теги', 'Предсказание класса', 'Транскрибация файла записи звонка']].to_json('output.json', orient='records', force_ascii=False)\n",
        "\n",
        "  return {'result': 'output.json'}\n",
        "'''\n",
        "with open('main.py', 'w') as f:\n",
        "  f.write(main_file)"
      ],
      "metadata": {
        "id": "-bnVq2hYCq0R"
      },
      "execution_count": 14,
      "outputs": []
    },
    {
      "cell_type": "code",
      "source": [
        "# Запуск uvicorn\n",
        "!nohup uvicorn main:app --reload &"
      ],
      "metadata": {
        "colab": {
          "base_uri": "https://localhost:8080/"
        },
        "outputId": "f7c46b0d-7d2a-4993-91ca-0ff97150f9ca",
        "id": "AK1OHjV9WcWS"
      },
      "execution_count": 15,
      "outputs": [
        {
          "output_type": "stream",
          "name": "stdout",
          "text": [
            "nohup: appending output to 'nohup.out'\n"
          ]
        }
      ]
    },
    {
      "cell_type": "code",
      "source": [
        "# Лог\n",
        "!cat nohup.out"
      ],
      "metadata": {
        "colab": {
          "base_uri": "https://localhost:8080/"
        },
        "outputId": "62fe7ecd-831e-4cf5-8791-2b369598d347",
        "id": "Nv3Pv8z1WcWS"
      },
      "execution_count": 16,
      "outputs": [
        {
          "output_type": "stream",
          "name": "stdout",
          "text": [
            "INFO:     Will watch for changes in these directories: ['/content']\n",
            "INFO:     Uvicorn running on http://127.0.0.1:8000 (Press CTRL+C to quit)\n",
            "INFO:     Started reloader process [3126] using StatReload\n"
          ]
        }
      ]
    },
    {
      "cell_type": "code",
      "source": [
        "import requests\n",
        "files = {'json_file': open('input.json','rb')}\n",
        "response = requests.post('http://127.0.0.1:8000/predict', files=files)\n",
        "print(response.text)"
      ],
      "metadata": {
        "colab": {
          "base_uri": "https://localhost:8080/"
        },
        "outputId": "88ecaeb9-c38d-4b39-d083-399d9b1f34df",
        "id": "ep0ExgnPWcWS"
      },
      "execution_count": 26,
      "outputs": [
        {
          "output_type": "stream",
          "name": "stdout",
          "text": [
            "{\"result\":\"output.json\"}\n"
          ]
        }
      ]
    },
    {
      "cell_type": "code",
      "source": [
        "# Лог\n",
        "!cat nohup.out"
      ],
      "metadata": {
        "colab": {
          "base_uri": "https://localhost:8080/"
        },
        "outputId": "e53e4e96-0085-43d7-d71e-60e7cc8fe825",
        "id": "F7X8mZu2WcWT"
      },
      "execution_count": 27,
      "outputs": [
        {
          "output_type": "stream",
          "name": "stdout",
          "text": [
            "INFO:     Will watch for changes in these directories: ['/content']\n",
            "INFO:     Uvicorn running on http://127.0.0.1:8000 (Press CTRL+C to quit)\n",
            "INFO:     Started reloader process [3126] using StatReload\n",
            "2023-12-27 16:21:11.485759: E tensorflow/compiler/xla/stream_executor/cuda/cuda_dnn.cc:9342] Unable to register cuDNN factory: Attempting to register factory for plugin cuDNN when one has already been registered\n",
            "2023-12-27 16:21:11.485833: E tensorflow/compiler/xla/stream_executor/cuda/cuda_fft.cc:609] Unable to register cuFFT factory: Attempting to register factory for plugin cuFFT when one has already been registered\n",
            "2023-12-27 16:21:11.485873: E tensorflow/compiler/xla/stream_executor/cuda/cuda_blas.cc:1518] Unable to register cuBLAS factory: Attempting to register factory for plugin cuBLAS when one has already been registered\n",
            "2023-12-27 16:21:13.289769: W tensorflow/compiler/tf2tensorrt/utils/py_utils.cc:38] TF-TRT Warning: Could not find TensorRT\n",
            "\r  0%|                                              | 0.00/1.42G [00:00<?, ?iB/s]\r  1%|▏                                    | 8.59M/1.42G [00:00<00:17, 87.8MiB/s]\r  1%|▍                                    | 17.0M/1.42G [00:00<00:17, 85.5MiB/s]\r  2%|▋                                    | 27.0M/1.42G [00:00<00:15, 94.3MiB/s]\r  2%|▉                                    | 36.0M/1.42G [00:00<00:16, 92.8MiB/s]\r  3%|█▏                                   | 45.4M/1.42G [00:00<00:15, 94.6MiB/s]\r  4%|█▍                                    | 57.0M/1.42G [00:00<00:14, 103MiB/s]\r  5%|█▊                                    | 68.7M/1.42G [00:00<00:13, 110MiB/s]\r  5%|██                                    | 79.2M/1.42G [00:00<00:13, 107MiB/s]\r  6%|██▎                                   | 89.9M/1.42G [00:00<00:13, 108MiB/s]\r  7%|██▋                                    | 100M/1.42G [00:01<00:14, 101MiB/s]\r  8%|██▊                                   | 110M/1.42G [00:01<00:14, 94.9MiB/s]\r  8%|███▏                                  | 120M/1.42G [00:01<00:14, 97.7MiB/s]\r  9%|███▍                                  | 129M/1.42G [00:01<00:15, 88.1MiB/s]\r 10%|███▋                                  | 139M/1.42G [00:01<00:14, 92.2MiB/s]\r 10%|████                                   | 151M/1.42G [00:01<00:13, 100MiB/s]\r 11%|████▎                                  | 161M/1.42G [00:01<00:13, 102MiB/s]\r 12%|████▌                                  | 171M/1.42G [00:01<00:13, 101MiB/s]\r 12%|████▊                                  | 182M/1.42G [00:01<00:12, 103MiB/s]\r 13%|█████▏                                 | 192M/1.42G [00:02<00:12, 106MiB/s]\r 14%|█████▎                                | 202M/1.42G [00:02<00:13, 96.1MiB/s]\r 15%|█████▋                                 | 214M/1.42G [00:02<00:12, 103MiB/s]\r 15%|█████▉                                 | 224M/1.42G [00:02<00:12, 101MiB/s]\r 16%|██████                                | 234M/1.42G [00:02<00:13, 94.2MiB/s]\r 17%|██████▎                               | 244M/1.42G [00:02<00:13, 96.8MiB/s]\r 17%|██████▊                                | 254M/1.42G [00:02<00:12, 100MiB/s]\r 18%|███████                                | 265M/1.42G [00:02<00:12, 104MiB/s]\r 19%|███████▏                              | 275M/1.42G [00:02<00:12, 97.2MiB/s]\r 19%|███████▍                              | 284M/1.42G [00:03<00:12, 97.8MiB/s]\r 20%|███████▉                               | 295M/1.42G [00:03<00:11, 103MiB/s]\r 21%|████████▏                              | 307M/1.42G [00:03<00:10, 110MiB/s]\r 22%|████████▎                             | 318M/1.42G [00:03<00:12, 96.7MiB/s]\r 23%|████████▌                             | 328M/1.42G [00:03<00:11, 98.9MiB/s]\r 23%|████████▊                             | 338M/1.42G [00:03<00:11, 99.7MiB/s]\r 24%|█████████▎                             | 348M/1.42G [00:03<00:11, 101MiB/s]\r 25%|█████████▌                             | 359M/1.42G [00:03<00:10, 105MiB/s]\r 25%|█████████▊                             | 369M/1.42G [00:03<00:10, 105MiB/s]\r 26%|██████████▏                            | 379M/1.42G [00:03<00:11, 102MiB/s]\r 27%|██████████▏                           | 389M/1.42G [00:04<00:11, 94.0MiB/s]\r 27%|██████████▋                            | 401M/1.42G [00:04<00:10, 103MiB/s]\r 28%|███████████                            | 412M/1.42G [00:04<00:10, 109MiB/s]\r 29%|███████████▎                           | 424M/1.42G [00:04<00:09, 111MiB/s]\r 30%|███████████▋                           | 434M/1.42G [00:04<00:09, 112MiB/s]\r 31%|███████████▉                           | 447M/1.42G [00:04<00:09, 117MiB/s]\r 31%|████████████▎                          | 458M/1.42G [00:04<00:08, 119MiB/s]\r 32%|████████████▌                          | 470M/1.42G [00:04<00:09, 109MiB/s]\r 33%|████████████▉                          | 482M/1.42G [00:04<00:08, 114MiB/s]\r 34%|█████████████▏                         | 494M/1.42G [00:05<00:08, 117MiB/s]\r 35%|█████████████▌                         | 505M/1.42G [00:05<00:08, 117MiB/s]\r 35%|█████████████▊                         | 517M/1.42G [00:05<00:08, 113MiB/s]\r 36%|██████████████▏                        | 528M/1.42G [00:05<00:08, 115MiB/s]\r 37%|██████████████▍                        | 539M/1.42G [00:05<00:08, 108MiB/s]\r 38%|██████████████▋                        | 550M/1.42G [00:05<00:08, 107MiB/s]\r 38%|██████████████▌                       | 560M/1.42G [00:05<00:09, 95.0MiB/s]\r 39%|██████████████▊                       | 570M/1.42G [00:05<00:09, 97.1MiB/s]\r 40%|███████████████▌                       | 582M/1.42G [00:05<00:08, 106MiB/s]\r 41%|███████████████▊                       | 592M/1.42G [00:06<00:08, 104MiB/s]\r 41%|███████████████▋                      | 602M/1.42G [00:06<00:11, 79.2MiB/s]\r 42%|████████████████                      | 614M/1.42G [00:06<00:09, 88.5MiB/s]\r 43%|████████████████▎                     | 623M/1.42G [00:06<00:09, 91.7MiB/s]\r 43%|████████████████▌                     | 633M/1.42G [00:06<00:09, 94.6MiB/s]\r 44%|█████████████████▎                     | 645M/1.42G [00:06<00:08, 102MiB/s]\r 45%|█████████████████▌                     | 655M/1.42G [00:06<00:08, 103MiB/s]\r 46%|█████████████████▊                     | 665M/1.42G [00:06<00:08, 100MiB/s]\r 46%|██████████████████                     | 676M/1.42G [00:06<00:07, 104MiB/s]\r 47%|██████████████████▍                    | 688M/1.42G [00:07<00:07, 111MiB/s]\r 48%|██████████████████▋                    | 699M/1.42G [00:07<00:07, 111MiB/s]\r 49%|██████████████████▉                    | 710M/1.42G [00:07<00:07, 110MiB/s]\r 50%|███████████████████▎                   | 722M/1.42G [00:07<00:06, 115MiB/s]\r 50%|███████████████████▋                   | 733M/1.42G [00:07<00:06, 116MiB/s]\r 51%|███████████████████▉                   | 746M/1.42G [00:07<00:06, 120MiB/s]\r 52%|████████████████████▎                  | 757M/1.42G [00:07<00:06, 120MiB/s]\r 53%|████████████████████▌                  | 769M/1.42G [00:07<00:05, 121MiB/s]\r 54%|████████████████████▉                  | 780M/1.42G [00:07<00:05, 119MiB/s]\r 54%|█████████████████████▏                 | 792M/1.42G [00:08<00:06, 108MiB/s]\r 55%|████████████████████▉                 | 802M/1.42G [00:08<00:07, 98.0MiB/s]\r 56%|█████████████████████▏                | 812M/1.42G [00:08<00:06, 99.0MiB/s]\r 56%|██████████████████████                 | 822M/1.42G [00:08<00:06, 101MiB/s]\r 57%|██████████████████████▎                | 832M/1.42G [00:08<00:06, 101MiB/s]\r 58%|█████████████████████▉                | 842M/1.42G [00:08<00:06, 95.1MiB/s]\r 58%|██████████████████████▏               | 851M/1.42G [00:09<00:16, 38.2MiB/s]\r 59%|██████████████████████▌               | 864M/1.42G [00:09<00:12, 51.6MiB/s]\r 60%|██████████████████████▊               | 875M/1.42G [00:09<00:09, 61.8MiB/s]\r 61%|███████████████████████▏              | 889M/1.42G [00:09<00:07, 76.2MiB/s]\r 62%|███████████████████████▍              | 899M/1.42G [00:09<00:07, 74.1MiB/s]\r 62%|███████████████████████▋              | 910M/1.42G [00:09<00:07, 81.9MiB/s]\r 63%|████████████████████████              | 921M/1.42G [00:09<00:06, 90.2MiB/s]\r 64%|████████████████████████▎             | 933M/1.42G [00:09<00:05, 97.7MiB/s]\r 65%|████████████████████████▌             | 943M/1.42G [00:10<00:05, 96.7MiB/s]\r 65%|████████████████████████▊             | 953M/1.42G [00:10<00:06, 82.2MiB/s]\r 66%|█████████████████████████             | 963M/1.42G [00:10<00:05, 87.5MiB/s]\r 67%|█████████████████████████▎            | 972M/1.42G [00:10<00:06, 83.2MiB/s]\r 67%|█████████████████████████▌            | 981M/1.42G [00:10<00:06, 76.2MiB/s]\r 68%|█████████████████████████▊            | 991M/1.42G [00:10<00:06, 77.7MiB/s]\r 69%|█████████████████████████▍           | 0.98G/1.42G [00:10<00:05, 86.9MiB/s]\r 70%|█████████████████████████▋           | 0.99G/1.42G [00:10<00:05, 93.1MiB/s]\r 70%|█████████████████████████▉           | 1.00G/1.42G [00:11<00:04, 96.5MiB/s]\r 71%|██████████████████████████▏          | 1.01G/1.42G [00:11<00:04, 98.2MiB/s]\r 72%|██████████████████████████▍          | 1.02G/1.42G [00:11<00:04, 99.3MiB/s]\r 72%|███████████████████████████▍          | 1.03G/1.42G [00:11<00:04, 100MiB/s]\r 73%|███████████████████████████▋          | 1.04G/1.42G [00:11<00:03, 104MiB/s]\r 74%|███████████████████████████▎         | 1.05G/1.42G [00:11<00:04, 99.5MiB/s]\r 74%|████████████████████████████▎         | 1.06G/1.42G [00:11<00:03, 105MiB/s]\r 75%|████████████████████████████▌         | 1.07G/1.42G [00:11<00:03, 108MiB/s]\r 76%|████████████████████████████▊         | 1.08G/1.42G [00:11<00:03, 104MiB/s]\r 77%|█████████████████████████████         | 1.09G/1.42G [00:12<00:03, 103MiB/s]\r 77%|████████████████████████████▌        | 1.10G/1.42G [00:12<00:03, 88.4MiB/s]\r 78%|████████████████████████████▊        | 1.11G/1.42G [00:12<00:03, 92.2MiB/s]\r 79%|█████████████████████████████▉        | 1.12G/1.42G [00:12<00:03, 100MiB/s]\r 80%|██████████████████████████████▏       | 1.13G/1.42G [00:12<00:02, 104MiB/s]\r 80%|██████████████████████████████▍       | 1.14G/1.42G [00:12<00:02, 107MiB/s]\r 81%|██████████████████████████████▊       | 1.15G/1.42G [00:12<00:02, 106MiB/s]\r 82%|███████████████████████████████       | 1.16G/1.42G [00:12<00:02, 112MiB/s]\r 83%|███████████████████████████████▎      | 1.17G/1.42G [00:12<00:02, 107MiB/s]\r 83%|███████████████████████████████▋      | 1.18G/1.42G [00:13<00:02, 101MiB/s]\r 84%|███████████████████████████████      | 1.19G/1.42G [00:13<00:02, 90.7MiB/s]\r 85%|███████████████████████████████▎     | 1.20G/1.42G [00:13<00:02, 92.8MiB/s]\r 85%|███████████████████████████████▌     | 1.21G/1.42G [00:13<00:02, 97.8MiB/s]\r 86%|███████████████████████████████▊     | 1.22G/1.42G [00:13<00:02, 94.6MiB/s]\r 87%|████████████████████████████████     | 1.23G/1.42G [00:13<00:02, 99.5MiB/s]\r 87%|████████████████████████████████▎    | 1.24G/1.42G [00:13<00:01, 96.9MiB/s]\r 88%|████████████████████████████████▌    | 1.25G/1.42G [00:13<00:01, 99.5MiB/s]\r 89%|█████████████████████████████████▋    | 1.26G/1.42G [00:13<00:01, 100MiB/s]\r 90%|██████████████████████████████████    | 1.27G/1.42G [00:14<00:01, 106MiB/s]\r 90%|█████████████████████████████████▎   | 1.28G/1.42G [00:14<00:01, 83.6MiB/s]\r 91%|██████████████████████████████████▋   | 1.30G/1.42G [00:14<00:01, 106MiB/s]\r 92%|███████████████████████████████████   | 1.31G/1.42G [00:14<00:01, 111MiB/s]\r 93%|███████████████████████████████████▎  | 1.32G/1.42G [00:14<00:00, 117MiB/s]\r 94%|███████████████████████████████████▋  | 1.34G/1.42G [00:14<00:00, 121MiB/s]\r 95%|████████████████████████████████████  | 1.35G/1.42G [00:14<00:00, 126MiB/s]\r 96%|████████████████████████████████████▎ | 1.36G/1.42G [00:14<00:00, 130MiB/s]\r 97%|████████████████████████████████████▋ | 1.37G/1.42G [00:14<00:00, 127MiB/s]\r 97%|█████████████████████████████████████ | 1.39G/1.42G [00:15<00:00, 126MiB/s]\r 98%|█████████████████████████████████████▎| 1.40G/1.42G [00:15<00:00, 116MiB/s]\r 99%|█████████████████████████████████████▋| 1.41G/1.42G [00:15<00:00, 121MiB/s]\r100%|█████████████████████████████████████▉| 1.42G/1.42G [00:15<00:00, 121MiB/s]\r100%|█████████████████████████████████████| 1.42G/1.42G [00:15<00:00, 99.6MiB/s]\n",
            "2023-12-27 16:21:47.960583: W tensorflow/core/common_runtime/gpu/gpu_device.cc:2211] Cannot dlopen some GPU libraries. Please make sure the missing libraries mentioned above are installed properly if you would like to use GPU. Follow the guide at https://www.tensorflow.org/install/gpu for how to download and setup the required libraries for your platform.\n",
            "Skipping registering GPU devices...\n",
            "INFO:     Started server process [3128]\n",
            "INFO:     Waiting for application startup.\n",
            "INFO:     Application startup complete.\n",
            "\r1/1 [==============================] - ETA: 0s\b\b\b\b\b\b\b\b\b\b\b\b\b\b\b\b\b\b\b\b\b\b\b\b\b\b\b\b\b\b\b\b\b\b\b\b\b\b\b\b\b\b\b\b\b\b\r1/1 [==============================] - 0s 213ms/step\n",
            "INFO:     127.0.0.1:54426 - \"POST /predict HTTP/1.1\" 200 OK\n"
          ]
        }
      ]
    },
    {
      "cell_type": "code",
      "source": [
        "df = pd.read_json('output.json')\n",
        "df.shape"
      ],
      "metadata": {
        "colab": {
          "base_uri": "https://localhost:8080/"
        },
        "outputId": "9fd6281b-a2ba-4afa-e8bf-67d92b126b8c",
        "id": "9kDRX40rWcWT"
      },
      "execution_count": 28,
      "outputs": [
        {
          "output_type": "execute_result",
          "data": {
            "text/plain": [
              "(1, 5)"
            ]
          },
          "metadata": {},
          "execution_count": 28
        }
      ]
    },
    {
      "cell_type": "code",
      "source": [
        "df"
      ],
      "metadata": {
        "colab": {
          "base_uri": "https://localhost:8080/",
          "height": 81
        },
        "outputId": "3f9da808-a00e-48b1-ce95-c69aa13afad4",
        "id": "vrfNkc1AWcWT"
      },
      "execution_count": 29,
      "outputs": [
        {
          "output_type": "execute_result",
          "data": {
            "text/plain": [
              "               Проект  Идентификатор сессии звонка  Теги Предсказание класса  \\\n",
              "0  pavcity.turbo.site                   3032161583   NaN           Нецелевой   \n",
              "\n",
              "                   Транскрибация файла записи звонка  \n",
              "0  здравствуйте вы позвонили в компанию   пожалуй...  "
            ],
            "text/html": [
              "\n",
              "  <div id=\"df-9a13456d-c6b3-49a9-858b-5c0f4d0238b6\" class=\"colab-df-container\">\n",
              "    <div>\n",
              "<style scoped>\n",
              "    .dataframe tbody tr th:only-of-type {\n",
              "        vertical-align: middle;\n",
              "    }\n",
              "\n",
              "    .dataframe tbody tr th {\n",
              "        vertical-align: top;\n",
              "    }\n",
              "\n",
              "    .dataframe thead th {\n",
              "        text-align: right;\n",
              "    }\n",
              "</style>\n",
              "<table border=\"1\" class=\"dataframe\">\n",
              "  <thead>\n",
              "    <tr style=\"text-align: right;\">\n",
              "      <th></th>\n",
              "      <th>Проект</th>\n",
              "      <th>Идентификатор сессии звонка</th>\n",
              "      <th>Теги</th>\n",
              "      <th>Предсказание класса</th>\n",
              "      <th>Транскрибация файла записи звонка</th>\n",
              "    </tr>\n",
              "  </thead>\n",
              "  <tbody>\n",
              "    <tr>\n",
              "      <th>0</th>\n",
              "      <td>pavcity.turbo.site</td>\n",
              "      <td>3032161583</td>\n",
              "      <td>NaN</td>\n",
              "      <td>Нецелевой</td>\n",
              "      <td>здравствуйте вы позвонили в компанию   пожалуй...</td>\n",
              "    </tr>\n",
              "  </tbody>\n",
              "</table>\n",
              "</div>\n",
              "    <div class=\"colab-df-buttons\">\n",
              "\n",
              "  <div class=\"colab-df-container\">\n",
              "    <button class=\"colab-df-convert\" onclick=\"convertToInteractive('df-9a13456d-c6b3-49a9-858b-5c0f4d0238b6')\"\n",
              "            title=\"Convert this dataframe to an interactive table.\"\n",
              "            style=\"display:none;\">\n",
              "\n",
              "  <svg xmlns=\"http://www.w3.org/2000/svg\" height=\"24px\" viewBox=\"0 -960 960 960\">\n",
              "    <path d=\"M120-120v-720h720v720H120Zm60-500h600v-160H180v160Zm220 220h160v-160H400v160Zm0 220h160v-160H400v160ZM180-400h160v-160H180v160Zm440 0h160v-160H620v160ZM180-180h160v-160H180v160Zm440 0h160v-160H620v160Z\"/>\n",
              "  </svg>\n",
              "    </button>\n",
              "\n",
              "  <style>\n",
              "    .colab-df-container {\n",
              "      display:flex;\n",
              "      gap: 12px;\n",
              "    }\n",
              "\n",
              "    .colab-df-convert {\n",
              "      background-color: #E8F0FE;\n",
              "      border: none;\n",
              "      border-radius: 50%;\n",
              "      cursor: pointer;\n",
              "      display: none;\n",
              "      fill: #1967D2;\n",
              "      height: 32px;\n",
              "      padding: 0 0 0 0;\n",
              "      width: 32px;\n",
              "    }\n",
              "\n",
              "    .colab-df-convert:hover {\n",
              "      background-color: #E2EBFA;\n",
              "      box-shadow: 0px 1px 2px rgba(60, 64, 67, 0.3), 0px 1px 3px 1px rgba(60, 64, 67, 0.15);\n",
              "      fill: #174EA6;\n",
              "    }\n",
              "\n",
              "    .colab-df-buttons div {\n",
              "      margin-bottom: 4px;\n",
              "    }\n",
              "\n",
              "    [theme=dark] .colab-df-convert {\n",
              "      background-color: #3B4455;\n",
              "      fill: #D2E3FC;\n",
              "    }\n",
              "\n",
              "    [theme=dark] .colab-df-convert:hover {\n",
              "      background-color: #434B5C;\n",
              "      box-shadow: 0px 1px 3px 1px rgba(0, 0, 0, 0.15);\n",
              "      filter: drop-shadow(0px 1px 2px rgba(0, 0, 0, 0.3));\n",
              "      fill: #FFFFFF;\n",
              "    }\n",
              "  </style>\n",
              "\n",
              "    <script>\n",
              "      const buttonEl =\n",
              "        document.querySelector('#df-9a13456d-c6b3-49a9-858b-5c0f4d0238b6 button.colab-df-convert');\n",
              "      buttonEl.style.display =\n",
              "        google.colab.kernel.accessAllowed ? 'block' : 'none';\n",
              "\n",
              "      async function convertToInteractive(key) {\n",
              "        const element = document.querySelector('#df-9a13456d-c6b3-49a9-858b-5c0f4d0238b6');\n",
              "        const dataTable =\n",
              "          await google.colab.kernel.invokeFunction('convertToInteractive',\n",
              "                                                    [key], {});\n",
              "        if (!dataTable) return;\n",
              "\n",
              "        const docLinkHtml = 'Like what you see? Visit the ' +\n",
              "          '<a target=\"_blank\" href=https://colab.research.google.com/notebooks/data_table.ipynb>data table notebook</a>'\n",
              "          + ' to learn more about interactive tables.';\n",
              "        element.innerHTML = '';\n",
              "        dataTable['output_type'] = 'display_data';\n",
              "        await google.colab.output.renderOutput(dataTable, element);\n",
              "        const docLink = document.createElement('div');\n",
              "        docLink.innerHTML = docLinkHtml;\n",
              "        element.appendChild(docLink);\n",
              "      }\n",
              "    </script>\n",
              "  </div>\n",
              "\n",
              "    </div>\n",
              "  </div>\n"
            ]
          },
          "metadata": {},
          "execution_count": 29
        }
      ]
    },
    {
      "cell_type": "markdown",
      "source": [
        "### pavcity.ru"
      ],
      "metadata": {
        "id": "q26aAb2b6Ikx"
      }
    },
    {
      "cell_type": "code",
      "source": [
        "# Загрузка токенайзера\n",
        "import gdown\n",
        "url = 'https://drive.google.com/file/d/1-cPqoIlY56nNjeCVFN-j3YO-aTf8NdkS/view?usp=sharing'\n",
        "gdown.download(url, quiet=True, fuzzy=True)"
      ],
      "metadata": {
        "id": "a5-SxLMH86Mw"
      },
      "execution_count": null,
      "outputs": []
    },
    {
      "cell_type": "code",
      "source": [
        "# Загрузка модели нейронной сети\n",
        "url = 'https://drive.google.com/file/d/1-czQCHQMtlxdtdQVTla9LTGCFdVcX3JM/view?usp=sharing'\n",
        "gdown.download(url, quiet=True, fuzzy=True)"
      ],
      "metadata": {
        "id": "QFbk3O1I9BOt"
      },
      "execution_count": null,
      "outputs": []
    },
    {
      "cell_type": "code",
      "source": [
        "# Загрузка информации о звонках\n",
        "import pandas as pd\n",
        "url = 'https://drive.google.com/file/d/1wC6aUm3Cq3G5EsQWnuVjc_-11wgJEaVl/view?usp=drive_link'\n",
        "df = pd.read_csv('https://drive.google.com/uc?id=' + url.split('/')[-2],\n",
        "                 skiprows=4,\n",
        "                 sep=';',\n",
        "                 on_bad_lines='skip')\n",
        "df.shape"
      ],
      "metadata": {
        "id": "Bi-pFq1F6IlB"
      },
      "execution_count": null,
      "outputs": []
    },
    {
      "cell_type": "code",
      "source": [
        "# Загрузка записей звонков\n",
        "url = 'https://drive.google.com/drive/folders/1XwaXRApFWaqBSe0PGEkaMGT-EHH7OMtj?usp=drive_link'\n",
        "gdown.download_folder(url, quiet=True, remaining_ok=True)"
      ],
      "metadata": {
        "id": "gt4R3bbr6IlB"
      },
      "execution_count": null,
      "outputs": []
    },
    {
      "cell_type": "code",
      "source": [
        "# Добавление в датафрейм с информацией о звонках столбцов 'Файл записи звонка' и 'Проект'\n",
        "import os\n",
        "df = df.astype({'Идентификатор сессии звонка': int})\n",
        "for sample_file in os.listdir('Записи звонков_павелецкая сити'):\n",
        "  df.loc[df[df['Идентификатор сессии звонка'] == int(sample_file.split('_')[-2])].index, 'Файл записи звонка'] = 'Записи звонков_павелецкая сити/' + sample_file\n",
        "  df.loc[df[df['Идентификатор сессии звонка'] == int(sample_file.split('_')[-2])].index, 'Проект'] = 'pavcity.ru'"
      ],
      "metadata": {
        "id": "wn2hMqN-6IlB"
      },
      "execution_count": null,
      "outputs": []
    },
    {
      "cell_type": "code",
      "source": [
        "# Выбор столбцов, необходимых для инференса модели нейронной сети и оценки\n",
        "df = df[['Идентификатор сессии звонка',\n",
        "         'Файл записи звонка',\n",
        "         'Проект',\n",
        "         'Теги']][df['Проект'] == 'pavcity.ru']\n",
        "df.shape"
      ],
      "metadata": {
        "id": "LJpHU9tJ9Ta2"
      },
      "execution_count": null,
      "outputs": []
    },
    {
      "cell_type": "code",
      "source": [
        "df.head()"
      ],
      "metadata": {
        "id": "iDZGJQAh9cW7"
      },
      "execution_count": null,
      "outputs": []
    },
    {
      "cell_type": "code",
      "source": [
        "# Сохранение в json\n",
        "df.to_json('input.json', orient='records', force_ascii=False)"
      ],
      "metadata": {
        "id": "N7iWT6fS6IlB"
      },
      "execution_count": null,
      "outputs": []
    },
    {
      "cell_type": "code",
      "source": [
        "# Установка cohere, openai и tiktoken\n",
        "!pip -q install cohere openai==1.2.3 tiktoken==0.5.1"
      ],
      "metadata": {
        "id": "JwYeQs819jw3"
      },
      "execution_count": null,
      "outputs": []
    },
    {
      "cell_type": "code",
      "source": [
        "# Установка openai-whisper\n",
        "!pip -q install openai-whisper"
      ],
      "metadata": {
        "id": "Fyh7v7E96IlB"
      },
      "execution_count": null,
      "outputs": []
    },
    {
      "cell_type": "code",
      "source": [
        "# Установка fastapi и дополнительных библиотек\n",
        "!pip -q install fastapi uvicorn python-multipart typing-extensions==4.5.0 kaleido"
      ],
      "metadata": {
        "id": "2uQjb3LH6IlB"
      },
      "execution_count": null,
      "outputs": []
    },
    {
      "cell_type": "code",
      "source": [
        "!pip -q install tensorflow==2.14.0"
      ],
      "metadata": {
        "id": "XLYZNOQy9tmn"
      },
      "execution_count": null,
      "outputs": []
    },
    {
      "cell_type": "code",
      "source": [
        "import tensorflow as tf\n",
        "tf.__version__"
      ],
      "metadata": {
        "id": "NClIEjmL9yeM"
      },
      "execution_count": null,
      "outputs": []
    },
    {
      "cell_type": "code",
      "source": [
        "# Эндпойнт\n",
        "main_file = '''\n",
        "import re\n",
        "import whisper\n",
        "import numpy as np\n",
        "import pandas as pd\n",
        "import pickle as pkl\n",
        "from io import BytesIO\n",
        "from fastapi import FastAPI, File\n",
        "from tensorflow.keras.saving import load_model\n",
        "\n",
        "whisper_model = whisper.load_model('medium')\n",
        "model = load_model('model_BoW.keras')\n",
        "\n",
        "with open('tokenizer.pkl', 'rb') as f:\n",
        "  tokenizer = pkl.load(f)\n",
        "\n",
        "app = FastAPI()\n",
        "\n",
        "@app.post('/predict')\n",
        "async def predict(json_file: bytes = File(...)):\n",
        "\n",
        "  df = pd.read_json(BytesIO(json_file))\n",
        "\n",
        "  for i in df.index:\n",
        "    df.loc[i,'Транскрибация файла записи звонка'] = whisper_model.transcribe(df.loc[i,'Файл записи звонка'], language='ru')['text']\n",
        "  df['Транскрибация файла записи звонка'] = df['Транскрибация файла записи звонка'].fillna('безответа')\n",
        "  df['Транскрибация файла записи звонка'] = df['Транскрибация файла записи звонка'].apply(lambda s: re.sub('[^А-Яа-я0-9 ]', '', s.lower()))\n",
        "  df['Транскрибация файла записи звонка'] = df['Транскрибация файла записи звонка'].apply(lambda s: s.strip())\n",
        "  df['Транскрибация файла записи звонка'] = np.where(df['Транскрибация файла записи звонка'].str.len() < 5, 'безответа', df['Транскрибация файла записи звонка'])\n",
        "  df['Транскрибация файла записи звонка'] = df['Транскрибация файла записи звонка'].str.replace('ё', 'е', regex=False)\n",
        "\n",
        "  x_textdata_01 = tokenizer.texts_to_matrix(df['Транскрибация файла записи звонка'].tolist())\n",
        "\n",
        "  y_predict = model.predict(x_textdata_01)\n",
        "  for i in range(df.shape[0]):\n",
        "    df.loc[i,'Предсказание класса'] = 'Целевой' if round(y_predict[i][0]) else 'Нецелевой'\n",
        "\n",
        "  df[['Проект', 'Идентификатор сессии звонка', 'Теги', 'Предсказание класса', 'Транскрибация файла записи звонка']].to_json('output.json', orient='records', force_ascii=False)\n",
        "\n",
        "  return {'result': 'output.json'}\n",
        "'''\n",
        "with open('main.py', 'w') as f:\n",
        "  f.write(main_file)"
      ],
      "metadata": {
        "id": "8bNxio-7CvFz"
      },
      "execution_count": null,
      "outputs": []
    },
    {
      "cell_type": "code",
      "source": [
        "# Запуск uvicorn\n",
        "!nohup uvicorn main:app --reload &"
      ],
      "metadata": {
        "id": "NU60UDLu6IlB"
      },
      "execution_count": null,
      "outputs": []
    },
    {
      "cell_type": "code",
      "source": [
        "# Лог\n",
        "!cat nohup.out"
      ],
      "metadata": {
        "id": "8uvqnbgf6IlB"
      },
      "execution_count": null,
      "outputs": []
    },
    {
      "cell_type": "code",
      "source": [
        "import requests\n",
        "files = {'json_file': open('input.json','rb')}\n",
        "response = requests.post('http://127.0.0.1:8000/predict', files=files)\n",
        "print(response.text)"
      ],
      "metadata": {
        "id": "OR7BYbSb6IlB"
      },
      "execution_count": null,
      "outputs": []
    },
    {
      "cell_type": "code",
      "source": [
        "# Лог\n",
        "!cat nohup.out"
      ],
      "metadata": {
        "id": "YpH4oz1G6IlB"
      },
      "execution_count": null,
      "outputs": []
    },
    {
      "cell_type": "code",
      "source": [
        "df = pd.read_json('output.json')\n",
        "df.shape"
      ],
      "metadata": {
        "id": "xZxX0Bg_6IlB"
      },
      "execution_count": null,
      "outputs": []
    },
    {
      "cell_type": "code",
      "source": [
        "df"
      ],
      "metadata": {
        "id": "ZdpRatN06IlB"
      },
      "execution_count": null,
      "outputs": []
    },
    {
      "cell_type": "markdown",
      "source": [
        "### primavera.moscow"
      ],
      "metadata": {
        "id": "rah04-ZDCK3_"
      }
    },
    {
      "cell_type": "code",
      "source": [
        "# Загрузка токенайзера\n",
        "import gdown\n",
        "url = 'https://drive.google.com/file/d/1-cPqoIlY56nNjeCVFN-j3YO-aTf8NdkS/view?usp=sharing'\n",
        "gdown.download(url, quiet=True, fuzzy=True)"
      ],
      "metadata": {
        "id": "_n2GoB1i-FhX"
      },
      "execution_count": null,
      "outputs": []
    },
    {
      "cell_type": "code",
      "source": [
        "# Загрузка модели нейронной сети\n",
        "url = 'https://drive.google.com/file/d/1-czQCHQMtlxdtdQVTla9LTGCFdVcX3JM/view?usp=sharing'\n",
        "gdown.download(url, quiet=True, fuzzy=True)"
      ],
      "metadata": {
        "id": "MMg-VHgY-K7R"
      },
      "execution_count": null,
      "outputs": []
    },
    {
      "cell_type": "code",
      "source": [
        "# Загрузка информации о звонках\n",
        "import pandas as pd\n",
        "url = 'https://drive.google.com/file/d/1_z2v1tNzn2fJgrpOPjQvNaCuZwX_xaQx/view?usp=drive_link'\n",
        "df = pd.read_csv('https://drive.google.com/uc?id=' + url.split('/')[-2],\n",
        "                 skiprows=4,\n",
        "                 sep=';',\n",
        "                 on_bad_lines='skip')\n",
        "df.shape"
      ],
      "metadata": {
        "id": "LANHFUPLCK4A"
      },
      "execution_count": null,
      "outputs": []
    },
    {
      "cell_type": "code",
      "source": [
        "# Загрузка записей звонков\n",
        "url = 'https://drive.google.com/drive/folders/185a1TyrQqJn-awPRDhkSt84mrqbbh2YF?usp=drive_link'\n",
        "gdown.download_folder(url, quiet=True, remaining_ok=True)"
      ],
      "metadata": {
        "id": "XV-4_KzoCK4B"
      },
      "execution_count": null,
      "outputs": []
    },
    {
      "cell_type": "code",
      "source": [
        "# Добавление в датафрейм с информацией о звонках путей к файлам записей звонков\n",
        "import os\n",
        "from datetime import datetime\n",
        "df = df.astype({'Идентификатор сессии звонка': int})\n",
        "for sample_file in os.listdir('Записи звонков_primavera'):\n",
        "  if df['Идентификатор сессии звонка'][df['Идентификатор сессии звонка'] == int(sample_file.split('_')[-2])].count():\n",
        "    df.loc[df[df['Идентификатор сессии звонка'] == int(sample_file.split('_')[-2])].index, 'Файл записи звонка'] = 'Записи звонков_primavera/' + sample_file\n",
        "    df.loc[df[df['Идентификатор сессии звонка'] == int(sample_file.split('_')[-2])].index, 'Проект'] = 'primavera.moscow'\n",
        "  else:\n",
        "    df.loc[len(df.index), ['Дата и время',\n",
        "                           'Номер абонента',\n",
        "                           'Номер сотрудника',\n",
        "                           'Идентификатор сессии звонка',\n",
        "                           'Файл записи звонка',\n",
        "                           'Проект']] = [datetime.strptime(sample_file.split('_')[-9] + ' ' + sample_file.split('_')[-8], '%Y-%m-%d %H-%M-%S.%f'),\n",
        "                                         int(sample_file.split('_')[-6]),\n",
        "                                         int(sample_file.split('_')[-4]),\n",
        "                                         int(sample_file.split('_')[-2]),\n",
        "                                         'Записи звонков_primavera/' + sample_file,\n",
        "                                         'primavera.moscow']\n",
        "df['Дата и время'] = pd.to_datetime(df['Дата и время'])\n",
        "df['Номер абонента'] = df['Номер абонента'].astype('int')\n",
        "df['Номер сотрудника'] = df['Номер сотрудника'].fillna(0)\n",
        "df['Номер сотрудника'] = df['Номер сотрудника'].astype('int')\n",
        "df['Идентификатор сессии звонка'] = df['Идентификатор сессии звонка'].astype('int')\n",
        "df['Тип посетителя'] = df['Тип посетителя'].astype('str')"
      ],
      "metadata": {
        "id": "O_Lf41o7CK4B"
      },
      "execution_count": null,
      "outputs": []
    },
    {
      "cell_type": "code",
      "source": [
        "df.loc[df[df['Проект'] == 'primavera.moscow'].index, ['Дата и время',\n",
        "                                                      'Номер абонента',\n",
        "                                                      'Номер сотрудника',\n",
        "                                                      'Идентификатор сессии звонка',\n",
        "                                                      'Файл записи звонка',\n",
        "                                                      'Проект']].head()"
      ],
      "metadata": {
        "id": "2zZFwb3VCK4C"
      },
      "execution_count": null,
      "outputs": []
    },
    {
      "cell_type": "code",
      "source": [
        "# Выбор столбцов, необходимых для инференса модели нейронной сети и оценки\n",
        "df = df[['Идентификатор сессии звонка',\n",
        "         'Файл записи звонка',\n",
        "         'Проект',\n",
        "         'Теги']][df['Проект'] == 'primavera.moscow']\n",
        "df.shape"
      ],
      "metadata": {
        "id": "7AypGd1R-gAS"
      },
      "execution_count": null,
      "outputs": []
    },
    {
      "cell_type": "code",
      "source": [
        "df.head()"
      ],
      "metadata": {
        "id": "oEtgzIgn-0hD"
      },
      "execution_count": null,
      "outputs": []
    },
    {
      "cell_type": "code",
      "source": [
        "# Сохранение в json\n",
        "df.to_json('input.json', orient='records', force_ascii=False)"
      ],
      "metadata": {
        "id": "OOG6JJLjCK4D"
      },
      "execution_count": null,
      "outputs": []
    },
    {
      "cell_type": "code",
      "source": [
        "# Установка cohere, openai и tiktoken\n",
        "!pip -q install cohere openai==1.2.3 tiktoken==0.5.1"
      ],
      "metadata": {
        "id": "bnK8pvJp-56F"
      },
      "execution_count": null,
      "outputs": []
    },
    {
      "cell_type": "code",
      "source": [
        "# Установка openai-whisper\n",
        "!pip -q install openai-whisper"
      ],
      "metadata": {
        "id": "9O-y5hWNCK4F"
      },
      "execution_count": null,
      "outputs": []
    },
    {
      "cell_type": "code",
      "source": [
        "# Установка fastapi и дополнительных библиотек\n",
        "!pip -q install fastapi uvicorn python-multipart typing-extensions==4.5.0 kaleido"
      ],
      "metadata": {
        "id": "fsH1AqqWCK4G"
      },
      "execution_count": null,
      "outputs": []
    },
    {
      "cell_type": "code",
      "source": [
        "!pip -q install tensorflow==2.14.0"
      ],
      "metadata": {
        "id": "nY-kZlKg_Cqu"
      },
      "execution_count": null,
      "outputs": []
    },
    {
      "cell_type": "code",
      "source": [
        "import tensorflow as tf\n",
        "tf.__version__"
      ],
      "metadata": {
        "id": "geebGlSc_Ha3"
      },
      "execution_count": null,
      "outputs": []
    },
    {
      "cell_type": "code",
      "source": [
        "# Эндпойнт\n",
        "main_file = '''\n",
        "import re\n",
        "import whisper\n",
        "import numpy as np\n",
        "import pandas as pd\n",
        "import pickle as pkl\n",
        "from io import BytesIO\n",
        "from fastapi import FastAPI, File\n",
        "from tensorflow.keras.saving import load_model\n",
        "\n",
        "whisper_model = whisper.load_model('medium')\n",
        "model = load_model('model_BoW.keras')\n",
        "\n",
        "with open('tokenizer.pkl', 'rb') as f:\n",
        "  tokenizer = pkl.load(f)\n",
        "\n",
        "app = FastAPI()\n",
        "\n",
        "@app.post('/predict')\n",
        "async def predict(json_file: bytes = File(...)):\n",
        "\n",
        "  df = pd.read_json(BytesIO(json_file))\n",
        "\n",
        "  for i in df.index:\n",
        "    df.loc[i,'Транскрибация файла записи звонка'] = whisper_model.transcribe(df.loc[i,'Файл записи звонка'], language='ru')['text']\n",
        "  df['Транскрибация файла записи звонка'] = df['Транскрибация файла записи звонка'].fillna('безответа')\n",
        "  df['Транскрибация файла записи звонка'] = df['Транскрибация файла записи звонка'].apply(lambda s: re.sub('[^А-Яа-я0-9 ]', '', s.lower()))\n",
        "  df['Транскрибация файла записи звонка'] = df['Транскрибация файла записи звонка'].apply(lambda s: s.strip())\n",
        "  df['Транскрибация файла записи звонка'] = np.where(df['Транскрибация файла записи звонка'].str.len() < 5, 'безответа', df['Транскрибация файла записи звонка'])\n",
        "  df['Транскрибация файла записи звонка'] = df['Транскрибация файла записи звонка'].str.replace('ё', 'е', regex=False)\n",
        "\n",
        "  x_textdata_01 = tokenizer.texts_to_matrix(df['Транскрибация файла записи звонка'].tolist())\n",
        "\n",
        "  y_predict = model.predict(x_textdata_01)\n",
        "  for i in range(df.shape[0]):\n",
        "    df.loc[i,'Предсказание класса'] = 'Целевой' if round(y_predict[i][0]) else 'Нецелевой'\n",
        "\n",
        "  df[['Проект', 'Идентификатор сессии звонка', 'Теги', 'Предсказание класса', 'Транскрибация файла записи звонка']].to_json('output.json', orient='records', force_ascii=False)\n",
        "\n",
        "  return {'result': 'output.json'}\n",
        "'''\n",
        "with open('main.py', 'w') as f:\n",
        "  f.write(main_file)"
      ],
      "metadata": {
        "id": "DcOEXdvMC1FW"
      },
      "execution_count": null,
      "outputs": []
    },
    {
      "cell_type": "code",
      "source": [
        "# Запуск uvicorn\n",
        "!nohup uvicorn main:app --reload &"
      ],
      "metadata": {
        "id": "C5PHMmz3CK4H"
      },
      "execution_count": null,
      "outputs": []
    },
    {
      "cell_type": "code",
      "source": [
        "# Лог\n",
        "!cat nohup.out"
      ],
      "metadata": {
        "id": "G4INIX-dCK4I"
      },
      "execution_count": null,
      "outputs": []
    },
    {
      "cell_type": "code",
      "source": [
        "import requests\n",
        "files = {'json_file': open('input.json','rb')}\n",
        "response = requests.post('http://127.0.0.1:8000/predict', files=files)\n",
        "print(response.text)"
      ],
      "metadata": {
        "id": "GIFT8_I1CK4J"
      },
      "execution_count": null,
      "outputs": []
    },
    {
      "cell_type": "code",
      "source": [
        "# Лог\n",
        "!cat nohup.out"
      ],
      "metadata": {
        "id": "bUGqgWbVCK4K"
      },
      "execution_count": null,
      "outputs": []
    },
    {
      "cell_type": "code",
      "source": [
        "df = pd.read_json('output.json')\n",
        "df.shape"
      ],
      "metadata": {
        "id": "gwW_JC9jCK4K"
      },
      "execution_count": null,
      "outputs": []
    },
    {
      "cell_type": "code",
      "source": [
        "df"
      ],
      "metadata": {
        "id": "fLBjrC2wCK4L"
      },
      "execution_count": null,
      "outputs": []
    }
  ]
}