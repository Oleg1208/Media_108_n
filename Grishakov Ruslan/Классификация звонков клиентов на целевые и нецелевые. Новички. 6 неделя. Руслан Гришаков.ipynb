{
  "nbformat": 4,
  "nbformat_minor": 0,
  "metadata": {
    "colab": {
      "provenance": [],
      "collapsed_sections": [
        "CIgT9kE4KHqe",
        "pTohUadq_HUC",
        "ec6D0c_ueUPs",
        "SRtVWsD6eUPt",
        "kbc1ff-1eUPv",
        "22vlkN0beUPw",
        "hyBXBxv6eUPy",
        "rVDYF0C9YQcB",
        "shwe_q3BV8Vr",
        "XXcNF0p1ALIZ",
        "-TkTzxieElLW",
        "WWe47cxVRTHE",
        "igEXYw-8JAOg"
      ],
      "gpuType": "T4"
    },
    "kernelspec": {
      "name": "python3",
      "display_name": "Python 3"
    },
    "language_info": {
      "name": "python"
    },
    "accelerator": "GPU",
    "widgets": {
      "application/vnd.jupyter.widget-state+json": {
        "0ed32aa9b53240acac46827e466ff447": {
          "model_module": "@jupyter-widgets/controls",
          "model_name": "HBoxModel",
          "model_module_version": "1.5.0",
          "state": {
            "_dom_classes": [],
            "_model_module": "@jupyter-widgets/controls",
            "_model_module_version": "1.5.0",
            "_model_name": "HBoxModel",
            "_view_count": null,
            "_view_module": "@jupyter-widgets/controls",
            "_view_module_version": "1.5.0",
            "_view_name": "HBoxView",
            "box_style": "",
            "children": [
              "IPY_MODEL_8c3ff893fbaa464eb12d20c25cfa6aa0",
              "IPY_MODEL_04074c86257e41f4b9723dee01b887cc",
              "IPY_MODEL_a8ac3da6f258447eb00a2994a76b7cdf"
            ],
            "layout": "IPY_MODEL_0464a68388bc4edb9c5cc0ae1ccfe735"
          }
        },
        "8c3ff893fbaa464eb12d20c25cfa6aa0": {
          "model_module": "@jupyter-widgets/controls",
          "model_name": "HTMLModel",
          "model_module_version": "1.5.0",
          "state": {
            "_dom_classes": [],
            "_model_module": "@jupyter-widgets/controls",
            "_model_module_version": "1.5.0",
            "_model_name": "HTMLModel",
            "_view_count": null,
            "_view_module": "@jupyter-widgets/controls",
            "_view_module_version": "1.5.0",
            "_view_name": "HTMLView",
            "description": "",
            "description_tooltip": null,
            "layout": "IPY_MODEL_b0d8fcc3611c4ad199033de25c9eaef2",
            "placeholder": "​",
            "style": "IPY_MODEL_6e6353fa816c499c83ab1edb80836df3",
            "value": "tokenizer_config.json: 100%"
          }
        },
        "04074c86257e41f4b9723dee01b887cc": {
          "model_module": "@jupyter-widgets/controls",
          "model_name": "FloatProgressModel",
          "model_module_version": "1.5.0",
          "state": {
            "_dom_classes": [],
            "_model_module": "@jupyter-widgets/controls",
            "_model_module_version": "1.5.0",
            "_model_name": "FloatProgressModel",
            "_view_count": null,
            "_view_module": "@jupyter-widgets/controls",
            "_view_module_version": "1.5.0",
            "_view_name": "ProgressView",
            "bar_style": "success",
            "description": "",
            "description_tooltip": null,
            "layout": "IPY_MODEL_052dc87d2b9b4d8480357d54f877eab3",
            "max": 24,
            "min": 0,
            "orientation": "horizontal",
            "style": "IPY_MODEL_7646e4f315d349b393288cab38d1275d",
            "value": 24
          }
        },
        "a8ac3da6f258447eb00a2994a76b7cdf": {
          "model_module": "@jupyter-widgets/controls",
          "model_name": "HTMLModel",
          "model_module_version": "1.5.0",
          "state": {
            "_dom_classes": [],
            "_model_module": "@jupyter-widgets/controls",
            "_model_module_version": "1.5.0",
            "_model_name": "HTMLModel",
            "_view_count": null,
            "_view_module": "@jupyter-widgets/controls",
            "_view_module_version": "1.5.0",
            "_view_name": "HTMLView",
            "description": "",
            "description_tooltip": null,
            "layout": "IPY_MODEL_1a344c85adc54ca78763de16cf7b4804",
            "placeholder": "​",
            "style": "IPY_MODEL_18335ee01f904f82a193ce8d32c1cefb",
            "value": " 24.0/24.0 [00:00&lt;00:00, 1.57kB/s]"
          }
        },
        "0464a68388bc4edb9c5cc0ae1ccfe735": {
          "model_module": "@jupyter-widgets/base",
          "model_name": "LayoutModel",
          "model_module_version": "1.2.0",
          "state": {
            "_model_module": "@jupyter-widgets/base",
            "_model_module_version": "1.2.0",
            "_model_name": "LayoutModel",
            "_view_count": null,
            "_view_module": "@jupyter-widgets/base",
            "_view_module_version": "1.2.0",
            "_view_name": "LayoutView",
            "align_content": null,
            "align_items": null,
            "align_self": null,
            "border": null,
            "bottom": null,
            "display": null,
            "flex": null,
            "flex_flow": null,
            "grid_area": null,
            "grid_auto_columns": null,
            "grid_auto_flow": null,
            "grid_auto_rows": null,
            "grid_column": null,
            "grid_gap": null,
            "grid_row": null,
            "grid_template_areas": null,
            "grid_template_columns": null,
            "grid_template_rows": null,
            "height": null,
            "justify_content": null,
            "justify_items": null,
            "left": null,
            "margin": null,
            "max_height": null,
            "max_width": null,
            "min_height": null,
            "min_width": null,
            "object_fit": null,
            "object_position": null,
            "order": null,
            "overflow": null,
            "overflow_x": null,
            "overflow_y": null,
            "padding": null,
            "right": null,
            "top": null,
            "visibility": null,
            "width": null
          }
        },
        "b0d8fcc3611c4ad199033de25c9eaef2": {
          "model_module": "@jupyter-widgets/base",
          "model_name": "LayoutModel",
          "model_module_version": "1.2.0",
          "state": {
            "_model_module": "@jupyter-widgets/base",
            "_model_module_version": "1.2.0",
            "_model_name": "LayoutModel",
            "_view_count": null,
            "_view_module": "@jupyter-widgets/base",
            "_view_module_version": "1.2.0",
            "_view_name": "LayoutView",
            "align_content": null,
            "align_items": null,
            "align_self": null,
            "border": null,
            "bottom": null,
            "display": null,
            "flex": null,
            "flex_flow": null,
            "grid_area": null,
            "grid_auto_columns": null,
            "grid_auto_flow": null,
            "grid_auto_rows": null,
            "grid_column": null,
            "grid_gap": null,
            "grid_row": null,
            "grid_template_areas": null,
            "grid_template_columns": null,
            "grid_template_rows": null,
            "height": null,
            "justify_content": null,
            "justify_items": null,
            "left": null,
            "margin": null,
            "max_height": null,
            "max_width": null,
            "min_height": null,
            "min_width": null,
            "object_fit": null,
            "object_position": null,
            "order": null,
            "overflow": null,
            "overflow_x": null,
            "overflow_y": null,
            "padding": null,
            "right": null,
            "top": null,
            "visibility": null,
            "width": null
          }
        },
        "6e6353fa816c499c83ab1edb80836df3": {
          "model_module": "@jupyter-widgets/controls",
          "model_name": "DescriptionStyleModel",
          "model_module_version": "1.5.0",
          "state": {
            "_model_module": "@jupyter-widgets/controls",
            "_model_module_version": "1.5.0",
            "_model_name": "DescriptionStyleModel",
            "_view_count": null,
            "_view_module": "@jupyter-widgets/base",
            "_view_module_version": "1.2.0",
            "_view_name": "StyleView",
            "description_width": ""
          }
        },
        "052dc87d2b9b4d8480357d54f877eab3": {
          "model_module": "@jupyter-widgets/base",
          "model_name": "LayoutModel",
          "model_module_version": "1.2.0",
          "state": {
            "_model_module": "@jupyter-widgets/base",
            "_model_module_version": "1.2.0",
            "_model_name": "LayoutModel",
            "_view_count": null,
            "_view_module": "@jupyter-widgets/base",
            "_view_module_version": "1.2.0",
            "_view_name": "LayoutView",
            "align_content": null,
            "align_items": null,
            "align_self": null,
            "border": null,
            "bottom": null,
            "display": null,
            "flex": null,
            "flex_flow": null,
            "grid_area": null,
            "grid_auto_columns": null,
            "grid_auto_flow": null,
            "grid_auto_rows": null,
            "grid_column": null,
            "grid_gap": null,
            "grid_row": null,
            "grid_template_areas": null,
            "grid_template_columns": null,
            "grid_template_rows": null,
            "height": null,
            "justify_content": null,
            "justify_items": null,
            "left": null,
            "margin": null,
            "max_height": null,
            "max_width": null,
            "min_height": null,
            "min_width": null,
            "object_fit": null,
            "object_position": null,
            "order": null,
            "overflow": null,
            "overflow_x": null,
            "overflow_y": null,
            "padding": null,
            "right": null,
            "top": null,
            "visibility": null,
            "width": null
          }
        },
        "7646e4f315d349b393288cab38d1275d": {
          "model_module": "@jupyter-widgets/controls",
          "model_name": "ProgressStyleModel",
          "model_module_version": "1.5.0",
          "state": {
            "_model_module": "@jupyter-widgets/controls",
            "_model_module_version": "1.5.0",
            "_model_name": "ProgressStyleModel",
            "_view_count": null,
            "_view_module": "@jupyter-widgets/base",
            "_view_module_version": "1.2.0",
            "_view_name": "StyleView",
            "bar_color": null,
            "description_width": ""
          }
        },
        "1a344c85adc54ca78763de16cf7b4804": {
          "model_module": "@jupyter-widgets/base",
          "model_name": "LayoutModel",
          "model_module_version": "1.2.0",
          "state": {
            "_model_module": "@jupyter-widgets/base",
            "_model_module_version": "1.2.0",
            "_model_name": "LayoutModel",
            "_view_count": null,
            "_view_module": "@jupyter-widgets/base",
            "_view_module_version": "1.2.0",
            "_view_name": "LayoutView",
            "align_content": null,
            "align_items": null,
            "align_self": null,
            "border": null,
            "bottom": null,
            "display": null,
            "flex": null,
            "flex_flow": null,
            "grid_area": null,
            "grid_auto_columns": null,
            "grid_auto_flow": null,
            "grid_auto_rows": null,
            "grid_column": null,
            "grid_gap": null,
            "grid_row": null,
            "grid_template_areas": null,
            "grid_template_columns": null,
            "grid_template_rows": null,
            "height": null,
            "justify_content": null,
            "justify_items": null,
            "left": null,
            "margin": null,
            "max_height": null,
            "max_width": null,
            "min_height": null,
            "min_width": null,
            "object_fit": null,
            "object_position": null,
            "order": null,
            "overflow": null,
            "overflow_x": null,
            "overflow_y": null,
            "padding": null,
            "right": null,
            "top": null,
            "visibility": null,
            "width": null
          }
        },
        "18335ee01f904f82a193ce8d32c1cefb": {
          "model_module": "@jupyter-widgets/controls",
          "model_name": "DescriptionStyleModel",
          "model_module_version": "1.5.0",
          "state": {
            "_model_module": "@jupyter-widgets/controls",
            "_model_module_version": "1.5.0",
            "_model_name": "DescriptionStyleModel",
            "_view_count": null,
            "_view_module": "@jupyter-widgets/base",
            "_view_module_version": "1.2.0",
            "_view_name": "StyleView",
            "description_width": ""
          }
        },
        "970a56ee4097472084737d08640df13e": {
          "model_module": "@jupyter-widgets/controls",
          "model_name": "HBoxModel",
          "model_module_version": "1.5.0",
          "state": {
            "_dom_classes": [],
            "_model_module": "@jupyter-widgets/controls",
            "_model_module_version": "1.5.0",
            "_model_name": "HBoxModel",
            "_view_count": null,
            "_view_module": "@jupyter-widgets/controls",
            "_view_module_version": "1.5.0",
            "_view_name": "HBoxView",
            "box_style": "",
            "children": [
              "IPY_MODEL_5d2a59fbd9b04e8f8e2ab7974d93d026",
              "IPY_MODEL_a88f95b79cd7426ab0522a958092778a",
              "IPY_MODEL_bbc66599a4454626a3e299e08e135e0d"
            ],
            "layout": "IPY_MODEL_b073895442ef4a66bcc5f41d90d1d153"
          }
        },
        "5d2a59fbd9b04e8f8e2ab7974d93d026": {
          "model_module": "@jupyter-widgets/controls",
          "model_name": "HTMLModel",
          "model_module_version": "1.5.0",
          "state": {
            "_dom_classes": [],
            "_model_module": "@jupyter-widgets/controls",
            "_model_module_version": "1.5.0",
            "_model_name": "HTMLModel",
            "_view_count": null,
            "_view_module": "@jupyter-widgets/controls",
            "_view_module_version": "1.5.0",
            "_view_name": "HTMLView",
            "description": "",
            "description_tooltip": null,
            "layout": "IPY_MODEL_bd1c772f786c4d46a7cb3dab95c306bd",
            "placeholder": "​",
            "style": "IPY_MODEL_ab4ca549d9754e508e6f89f250515874",
            "value": "vocab.txt: 100%"
          }
        },
        "a88f95b79cd7426ab0522a958092778a": {
          "model_module": "@jupyter-widgets/controls",
          "model_name": "FloatProgressModel",
          "model_module_version": "1.5.0",
          "state": {
            "_dom_classes": [],
            "_model_module": "@jupyter-widgets/controls",
            "_model_module_version": "1.5.0",
            "_model_name": "FloatProgressModel",
            "_view_count": null,
            "_view_module": "@jupyter-widgets/controls",
            "_view_module_version": "1.5.0",
            "_view_name": "ProgressView",
            "bar_style": "success",
            "description": "",
            "description_tooltip": null,
            "layout": "IPY_MODEL_c21567b2bfd84499a7e52a1ff8469533",
            "max": 1649718,
            "min": 0,
            "orientation": "horizontal",
            "style": "IPY_MODEL_1a1b1d1bc53c4b5b863ade5919ea9f3f",
            "value": 1649718
          }
        },
        "bbc66599a4454626a3e299e08e135e0d": {
          "model_module": "@jupyter-widgets/controls",
          "model_name": "HTMLModel",
          "model_module_version": "1.5.0",
          "state": {
            "_dom_classes": [],
            "_model_module": "@jupyter-widgets/controls",
            "_model_module_version": "1.5.0",
            "_model_name": "HTMLModel",
            "_view_count": null,
            "_view_module": "@jupyter-widgets/controls",
            "_view_module_version": "1.5.0",
            "_view_name": "HTMLView",
            "description": "",
            "description_tooltip": null,
            "layout": "IPY_MODEL_d62619f7af464f7a8e6064727bc4ea96",
            "placeholder": "​",
            "style": "IPY_MODEL_9c53052cdbdc4aa4ac64c37de5ea9aeb",
            "value": " 1.65M/1.65M [00:00&lt;00:00, 20.5MB/s]"
          }
        },
        "b073895442ef4a66bcc5f41d90d1d153": {
          "model_module": "@jupyter-widgets/base",
          "model_name": "LayoutModel",
          "model_module_version": "1.2.0",
          "state": {
            "_model_module": "@jupyter-widgets/base",
            "_model_module_version": "1.2.0",
            "_model_name": "LayoutModel",
            "_view_count": null,
            "_view_module": "@jupyter-widgets/base",
            "_view_module_version": "1.2.0",
            "_view_name": "LayoutView",
            "align_content": null,
            "align_items": null,
            "align_self": null,
            "border": null,
            "bottom": null,
            "display": null,
            "flex": null,
            "flex_flow": null,
            "grid_area": null,
            "grid_auto_columns": null,
            "grid_auto_flow": null,
            "grid_auto_rows": null,
            "grid_column": null,
            "grid_gap": null,
            "grid_row": null,
            "grid_template_areas": null,
            "grid_template_columns": null,
            "grid_template_rows": null,
            "height": null,
            "justify_content": null,
            "justify_items": null,
            "left": null,
            "margin": null,
            "max_height": null,
            "max_width": null,
            "min_height": null,
            "min_width": null,
            "object_fit": null,
            "object_position": null,
            "order": null,
            "overflow": null,
            "overflow_x": null,
            "overflow_y": null,
            "padding": null,
            "right": null,
            "top": null,
            "visibility": null,
            "width": null
          }
        },
        "bd1c772f786c4d46a7cb3dab95c306bd": {
          "model_module": "@jupyter-widgets/base",
          "model_name": "LayoutModel",
          "model_module_version": "1.2.0",
          "state": {
            "_model_module": "@jupyter-widgets/base",
            "_model_module_version": "1.2.0",
            "_model_name": "LayoutModel",
            "_view_count": null,
            "_view_module": "@jupyter-widgets/base",
            "_view_module_version": "1.2.0",
            "_view_name": "LayoutView",
            "align_content": null,
            "align_items": null,
            "align_self": null,
            "border": null,
            "bottom": null,
            "display": null,
            "flex": null,
            "flex_flow": null,
            "grid_area": null,
            "grid_auto_columns": null,
            "grid_auto_flow": null,
            "grid_auto_rows": null,
            "grid_column": null,
            "grid_gap": null,
            "grid_row": null,
            "grid_template_areas": null,
            "grid_template_columns": null,
            "grid_template_rows": null,
            "height": null,
            "justify_content": null,
            "justify_items": null,
            "left": null,
            "margin": null,
            "max_height": null,
            "max_width": null,
            "min_height": null,
            "min_width": null,
            "object_fit": null,
            "object_position": null,
            "order": null,
            "overflow": null,
            "overflow_x": null,
            "overflow_y": null,
            "padding": null,
            "right": null,
            "top": null,
            "visibility": null,
            "width": null
          }
        },
        "ab4ca549d9754e508e6f89f250515874": {
          "model_module": "@jupyter-widgets/controls",
          "model_name": "DescriptionStyleModel",
          "model_module_version": "1.5.0",
          "state": {
            "_model_module": "@jupyter-widgets/controls",
            "_model_module_version": "1.5.0",
            "_model_name": "DescriptionStyleModel",
            "_view_count": null,
            "_view_module": "@jupyter-widgets/base",
            "_view_module_version": "1.2.0",
            "_view_name": "StyleView",
            "description_width": ""
          }
        },
        "c21567b2bfd84499a7e52a1ff8469533": {
          "model_module": "@jupyter-widgets/base",
          "model_name": "LayoutModel",
          "model_module_version": "1.2.0",
          "state": {
            "_model_module": "@jupyter-widgets/base",
            "_model_module_version": "1.2.0",
            "_model_name": "LayoutModel",
            "_view_count": null,
            "_view_module": "@jupyter-widgets/base",
            "_view_module_version": "1.2.0",
            "_view_name": "LayoutView",
            "align_content": null,
            "align_items": null,
            "align_self": null,
            "border": null,
            "bottom": null,
            "display": null,
            "flex": null,
            "flex_flow": null,
            "grid_area": null,
            "grid_auto_columns": null,
            "grid_auto_flow": null,
            "grid_auto_rows": null,
            "grid_column": null,
            "grid_gap": null,
            "grid_row": null,
            "grid_template_areas": null,
            "grid_template_columns": null,
            "grid_template_rows": null,
            "height": null,
            "justify_content": null,
            "justify_items": null,
            "left": null,
            "margin": null,
            "max_height": null,
            "max_width": null,
            "min_height": null,
            "min_width": null,
            "object_fit": null,
            "object_position": null,
            "order": null,
            "overflow": null,
            "overflow_x": null,
            "overflow_y": null,
            "padding": null,
            "right": null,
            "top": null,
            "visibility": null,
            "width": null
          }
        },
        "1a1b1d1bc53c4b5b863ade5919ea9f3f": {
          "model_module": "@jupyter-widgets/controls",
          "model_name": "ProgressStyleModel",
          "model_module_version": "1.5.0",
          "state": {
            "_model_module": "@jupyter-widgets/controls",
            "_model_module_version": "1.5.0",
            "_model_name": "ProgressStyleModel",
            "_view_count": null,
            "_view_module": "@jupyter-widgets/base",
            "_view_module_version": "1.2.0",
            "_view_name": "StyleView",
            "bar_color": null,
            "description_width": ""
          }
        },
        "d62619f7af464f7a8e6064727bc4ea96": {
          "model_module": "@jupyter-widgets/base",
          "model_name": "LayoutModel",
          "model_module_version": "1.2.0",
          "state": {
            "_model_module": "@jupyter-widgets/base",
            "_model_module_version": "1.2.0",
            "_model_name": "LayoutModel",
            "_view_count": null,
            "_view_module": "@jupyter-widgets/base",
            "_view_module_version": "1.2.0",
            "_view_name": "LayoutView",
            "align_content": null,
            "align_items": null,
            "align_self": null,
            "border": null,
            "bottom": null,
            "display": null,
            "flex": null,
            "flex_flow": null,
            "grid_area": null,
            "grid_auto_columns": null,
            "grid_auto_flow": null,
            "grid_auto_rows": null,
            "grid_column": null,
            "grid_gap": null,
            "grid_row": null,
            "grid_template_areas": null,
            "grid_template_columns": null,
            "grid_template_rows": null,
            "height": null,
            "justify_content": null,
            "justify_items": null,
            "left": null,
            "margin": null,
            "max_height": null,
            "max_width": null,
            "min_height": null,
            "min_width": null,
            "object_fit": null,
            "object_position": null,
            "order": null,
            "overflow": null,
            "overflow_x": null,
            "overflow_y": null,
            "padding": null,
            "right": null,
            "top": null,
            "visibility": null,
            "width": null
          }
        },
        "9c53052cdbdc4aa4ac64c37de5ea9aeb": {
          "model_module": "@jupyter-widgets/controls",
          "model_name": "DescriptionStyleModel",
          "model_module_version": "1.5.0",
          "state": {
            "_model_module": "@jupyter-widgets/controls",
            "_model_module_version": "1.5.0",
            "_model_name": "DescriptionStyleModel",
            "_view_count": null,
            "_view_module": "@jupyter-widgets/base",
            "_view_module_version": "1.2.0",
            "_view_name": "StyleView",
            "description_width": ""
          }
        },
        "1d80ea155ab743859676607d796903ba": {
          "model_module": "@jupyter-widgets/controls",
          "model_name": "HBoxModel",
          "model_module_version": "1.5.0",
          "state": {
            "_dom_classes": [],
            "_model_module": "@jupyter-widgets/controls",
            "_model_module_version": "1.5.0",
            "_model_name": "HBoxModel",
            "_view_count": null,
            "_view_module": "@jupyter-widgets/controls",
            "_view_module_version": "1.5.0",
            "_view_name": "HBoxView",
            "box_style": "",
            "children": [
              "IPY_MODEL_78a1739df77e40e398934c7dcf36b9a4",
              "IPY_MODEL_d60177432d8a4a17b5fcb8a59f29d997",
              "IPY_MODEL_3154b48ecf7e4dadb0ecb990344a27df"
            ],
            "layout": "IPY_MODEL_167c7b8aa2ce4c48980877bfe529b9b2"
          }
        },
        "78a1739df77e40e398934c7dcf36b9a4": {
          "model_module": "@jupyter-widgets/controls",
          "model_name": "HTMLModel",
          "model_module_version": "1.5.0",
          "state": {
            "_dom_classes": [],
            "_model_module": "@jupyter-widgets/controls",
            "_model_module_version": "1.5.0",
            "_model_name": "HTMLModel",
            "_view_count": null,
            "_view_module": "@jupyter-widgets/controls",
            "_view_module_version": "1.5.0",
            "_view_name": "HTMLView",
            "description": "",
            "description_tooltip": null,
            "layout": "IPY_MODEL_c07b5518b55e4749bc5450805a98ebe3",
            "placeholder": "​",
            "style": "IPY_MODEL_8885275b60c84f92b6b9d808d0809570",
            "value": "special_tokens_map.json: 100%"
          }
        },
        "d60177432d8a4a17b5fcb8a59f29d997": {
          "model_module": "@jupyter-widgets/controls",
          "model_name": "FloatProgressModel",
          "model_module_version": "1.5.0",
          "state": {
            "_dom_classes": [],
            "_model_module": "@jupyter-widgets/controls",
            "_model_module_version": "1.5.0",
            "_model_name": "FloatProgressModel",
            "_view_count": null,
            "_view_module": "@jupyter-widgets/controls",
            "_view_module_version": "1.5.0",
            "_view_name": "ProgressView",
            "bar_style": "success",
            "description": "",
            "description_tooltip": null,
            "layout": "IPY_MODEL_9d4e1017cdbc4cfcbeae697211fb2bfb",
            "max": 112,
            "min": 0,
            "orientation": "horizontal",
            "style": "IPY_MODEL_6b362f5a17a041918892a5690da0e6cd",
            "value": 112
          }
        },
        "3154b48ecf7e4dadb0ecb990344a27df": {
          "model_module": "@jupyter-widgets/controls",
          "model_name": "HTMLModel",
          "model_module_version": "1.5.0",
          "state": {
            "_dom_classes": [],
            "_model_module": "@jupyter-widgets/controls",
            "_model_module_version": "1.5.0",
            "_model_name": "HTMLModel",
            "_view_count": null,
            "_view_module": "@jupyter-widgets/controls",
            "_view_module_version": "1.5.0",
            "_view_name": "HTMLView",
            "description": "",
            "description_tooltip": null,
            "layout": "IPY_MODEL_66cf2e77c915487db2243cb320e39e78",
            "placeholder": "​",
            "style": "IPY_MODEL_fc6fd80c96214ae8a3dcf441f97b7204",
            "value": " 112/112 [00:00&lt;00:00, 6.19kB/s]"
          }
        },
        "167c7b8aa2ce4c48980877bfe529b9b2": {
          "model_module": "@jupyter-widgets/base",
          "model_name": "LayoutModel",
          "model_module_version": "1.2.0",
          "state": {
            "_model_module": "@jupyter-widgets/base",
            "_model_module_version": "1.2.0",
            "_model_name": "LayoutModel",
            "_view_count": null,
            "_view_module": "@jupyter-widgets/base",
            "_view_module_version": "1.2.0",
            "_view_name": "LayoutView",
            "align_content": null,
            "align_items": null,
            "align_self": null,
            "border": null,
            "bottom": null,
            "display": null,
            "flex": null,
            "flex_flow": null,
            "grid_area": null,
            "grid_auto_columns": null,
            "grid_auto_flow": null,
            "grid_auto_rows": null,
            "grid_column": null,
            "grid_gap": null,
            "grid_row": null,
            "grid_template_areas": null,
            "grid_template_columns": null,
            "grid_template_rows": null,
            "height": null,
            "justify_content": null,
            "justify_items": null,
            "left": null,
            "margin": null,
            "max_height": null,
            "max_width": null,
            "min_height": null,
            "min_width": null,
            "object_fit": null,
            "object_position": null,
            "order": null,
            "overflow": null,
            "overflow_x": null,
            "overflow_y": null,
            "padding": null,
            "right": null,
            "top": null,
            "visibility": null,
            "width": null
          }
        },
        "c07b5518b55e4749bc5450805a98ebe3": {
          "model_module": "@jupyter-widgets/base",
          "model_name": "LayoutModel",
          "model_module_version": "1.2.0",
          "state": {
            "_model_module": "@jupyter-widgets/base",
            "_model_module_version": "1.2.0",
            "_model_name": "LayoutModel",
            "_view_count": null,
            "_view_module": "@jupyter-widgets/base",
            "_view_module_version": "1.2.0",
            "_view_name": "LayoutView",
            "align_content": null,
            "align_items": null,
            "align_self": null,
            "border": null,
            "bottom": null,
            "display": null,
            "flex": null,
            "flex_flow": null,
            "grid_area": null,
            "grid_auto_columns": null,
            "grid_auto_flow": null,
            "grid_auto_rows": null,
            "grid_column": null,
            "grid_gap": null,
            "grid_row": null,
            "grid_template_areas": null,
            "grid_template_columns": null,
            "grid_template_rows": null,
            "height": null,
            "justify_content": null,
            "justify_items": null,
            "left": null,
            "margin": null,
            "max_height": null,
            "max_width": null,
            "min_height": null,
            "min_width": null,
            "object_fit": null,
            "object_position": null,
            "order": null,
            "overflow": null,
            "overflow_x": null,
            "overflow_y": null,
            "padding": null,
            "right": null,
            "top": null,
            "visibility": null,
            "width": null
          }
        },
        "8885275b60c84f92b6b9d808d0809570": {
          "model_module": "@jupyter-widgets/controls",
          "model_name": "DescriptionStyleModel",
          "model_module_version": "1.5.0",
          "state": {
            "_model_module": "@jupyter-widgets/controls",
            "_model_module_version": "1.5.0",
            "_model_name": "DescriptionStyleModel",
            "_view_count": null,
            "_view_module": "@jupyter-widgets/base",
            "_view_module_version": "1.2.0",
            "_view_name": "StyleView",
            "description_width": ""
          }
        },
        "9d4e1017cdbc4cfcbeae697211fb2bfb": {
          "model_module": "@jupyter-widgets/base",
          "model_name": "LayoutModel",
          "model_module_version": "1.2.0",
          "state": {
            "_model_module": "@jupyter-widgets/base",
            "_model_module_version": "1.2.0",
            "_model_name": "LayoutModel",
            "_view_count": null,
            "_view_module": "@jupyter-widgets/base",
            "_view_module_version": "1.2.0",
            "_view_name": "LayoutView",
            "align_content": null,
            "align_items": null,
            "align_self": null,
            "border": null,
            "bottom": null,
            "display": null,
            "flex": null,
            "flex_flow": null,
            "grid_area": null,
            "grid_auto_columns": null,
            "grid_auto_flow": null,
            "grid_auto_rows": null,
            "grid_column": null,
            "grid_gap": null,
            "grid_row": null,
            "grid_template_areas": null,
            "grid_template_columns": null,
            "grid_template_rows": null,
            "height": null,
            "justify_content": null,
            "justify_items": null,
            "left": null,
            "margin": null,
            "max_height": null,
            "max_width": null,
            "min_height": null,
            "min_width": null,
            "object_fit": null,
            "object_position": null,
            "order": null,
            "overflow": null,
            "overflow_x": null,
            "overflow_y": null,
            "padding": null,
            "right": null,
            "top": null,
            "visibility": null,
            "width": null
          }
        },
        "6b362f5a17a041918892a5690da0e6cd": {
          "model_module": "@jupyter-widgets/controls",
          "model_name": "ProgressStyleModel",
          "model_module_version": "1.5.0",
          "state": {
            "_model_module": "@jupyter-widgets/controls",
            "_model_module_version": "1.5.0",
            "_model_name": "ProgressStyleModel",
            "_view_count": null,
            "_view_module": "@jupyter-widgets/base",
            "_view_module_version": "1.2.0",
            "_view_name": "StyleView",
            "bar_color": null,
            "description_width": ""
          }
        },
        "66cf2e77c915487db2243cb320e39e78": {
          "model_module": "@jupyter-widgets/base",
          "model_name": "LayoutModel",
          "model_module_version": "1.2.0",
          "state": {
            "_model_module": "@jupyter-widgets/base",
            "_model_module_version": "1.2.0",
            "_model_name": "LayoutModel",
            "_view_count": null,
            "_view_module": "@jupyter-widgets/base",
            "_view_module_version": "1.2.0",
            "_view_name": "LayoutView",
            "align_content": null,
            "align_items": null,
            "align_self": null,
            "border": null,
            "bottom": null,
            "display": null,
            "flex": null,
            "flex_flow": null,
            "grid_area": null,
            "grid_auto_columns": null,
            "grid_auto_flow": null,
            "grid_auto_rows": null,
            "grid_column": null,
            "grid_gap": null,
            "grid_row": null,
            "grid_template_areas": null,
            "grid_template_columns": null,
            "grid_template_rows": null,
            "height": null,
            "justify_content": null,
            "justify_items": null,
            "left": null,
            "margin": null,
            "max_height": null,
            "max_width": null,
            "min_height": null,
            "min_width": null,
            "object_fit": null,
            "object_position": null,
            "order": null,
            "overflow": null,
            "overflow_x": null,
            "overflow_y": null,
            "padding": null,
            "right": null,
            "top": null,
            "visibility": null,
            "width": null
          }
        },
        "fc6fd80c96214ae8a3dcf441f97b7204": {
          "model_module": "@jupyter-widgets/controls",
          "model_name": "DescriptionStyleModel",
          "model_module_version": "1.5.0",
          "state": {
            "_model_module": "@jupyter-widgets/controls",
            "_model_module_version": "1.5.0",
            "_model_name": "DescriptionStyleModel",
            "_view_count": null,
            "_view_module": "@jupyter-widgets/base",
            "_view_module_version": "1.2.0",
            "_view_name": "StyleView",
            "description_width": ""
          }
        },
        "add370aabcdd4832b4a7b55acd9e1214": {
          "model_module": "@jupyter-widgets/controls",
          "model_name": "HBoxModel",
          "model_module_version": "1.5.0",
          "state": {
            "_dom_classes": [],
            "_model_module": "@jupyter-widgets/controls",
            "_model_module_version": "1.5.0",
            "_model_name": "HBoxModel",
            "_view_count": null,
            "_view_module": "@jupyter-widgets/controls",
            "_view_module_version": "1.5.0",
            "_view_name": "HBoxView",
            "box_style": "",
            "children": [
              "IPY_MODEL_cf707267074e4c908c1208aa54b71cd9",
              "IPY_MODEL_2c776c1438b94e0db03366a744f6875d",
              "IPY_MODEL_91cfcd49771149efbce60734ddf32f1b"
            ],
            "layout": "IPY_MODEL_952b8f3ab7b24463813646e0690caa26"
          }
        },
        "cf707267074e4c908c1208aa54b71cd9": {
          "model_module": "@jupyter-widgets/controls",
          "model_name": "HTMLModel",
          "model_module_version": "1.5.0",
          "state": {
            "_dom_classes": [],
            "_model_module": "@jupyter-widgets/controls",
            "_model_module_version": "1.5.0",
            "_model_name": "HTMLModel",
            "_view_count": null,
            "_view_module": "@jupyter-widgets/controls",
            "_view_module_version": "1.5.0",
            "_view_name": "HTMLView",
            "description": "",
            "description_tooltip": null,
            "layout": "IPY_MODEL_c0f808ccc866426bba75ecd4e2d07933",
            "placeholder": "​",
            "style": "IPY_MODEL_95430bddbe7b4232909b6882557585db",
            "value": "config.json: 100%"
          }
        },
        "2c776c1438b94e0db03366a744f6875d": {
          "model_module": "@jupyter-widgets/controls",
          "model_name": "FloatProgressModel",
          "model_module_version": "1.5.0",
          "state": {
            "_dom_classes": [],
            "_model_module": "@jupyter-widgets/controls",
            "_model_module_version": "1.5.0",
            "_model_name": "FloatProgressModel",
            "_view_count": null,
            "_view_module": "@jupyter-widgets/controls",
            "_view_module_version": "1.5.0",
            "_view_name": "ProgressView",
            "bar_style": "success",
            "description": "",
            "description_tooltip": null,
            "layout": "IPY_MODEL_a4fc74b8daa347f2938038875b8622e6",
            "max": 642,
            "min": 0,
            "orientation": "horizontal",
            "style": "IPY_MODEL_5ed7104a5d3a4c23b8bbeb5eecbeafd0",
            "value": 642
          }
        },
        "91cfcd49771149efbce60734ddf32f1b": {
          "model_module": "@jupyter-widgets/controls",
          "model_name": "HTMLModel",
          "model_module_version": "1.5.0",
          "state": {
            "_dom_classes": [],
            "_model_module": "@jupyter-widgets/controls",
            "_model_module_version": "1.5.0",
            "_model_name": "HTMLModel",
            "_view_count": null,
            "_view_module": "@jupyter-widgets/controls",
            "_view_module_version": "1.5.0",
            "_view_name": "HTMLView",
            "description": "",
            "description_tooltip": null,
            "layout": "IPY_MODEL_d2438cdb4f86412d9b73a2aefa97d2e1",
            "placeholder": "​",
            "style": "IPY_MODEL_56bf0c101fd14b52a9d123625034f1d4",
            "value": " 642/642 [00:00&lt;00:00, 33.9kB/s]"
          }
        },
        "952b8f3ab7b24463813646e0690caa26": {
          "model_module": "@jupyter-widgets/base",
          "model_name": "LayoutModel",
          "model_module_version": "1.2.0",
          "state": {
            "_model_module": "@jupyter-widgets/base",
            "_model_module_version": "1.2.0",
            "_model_name": "LayoutModel",
            "_view_count": null,
            "_view_module": "@jupyter-widgets/base",
            "_view_module_version": "1.2.0",
            "_view_name": "LayoutView",
            "align_content": null,
            "align_items": null,
            "align_self": null,
            "border": null,
            "bottom": null,
            "display": null,
            "flex": null,
            "flex_flow": null,
            "grid_area": null,
            "grid_auto_columns": null,
            "grid_auto_flow": null,
            "grid_auto_rows": null,
            "grid_column": null,
            "grid_gap": null,
            "grid_row": null,
            "grid_template_areas": null,
            "grid_template_columns": null,
            "grid_template_rows": null,
            "height": null,
            "justify_content": null,
            "justify_items": null,
            "left": null,
            "margin": null,
            "max_height": null,
            "max_width": null,
            "min_height": null,
            "min_width": null,
            "object_fit": null,
            "object_position": null,
            "order": null,
            "overflow": null,
            "overflow_x": null,
            "overflow_y": null,
            "padding": null,
            "right": null,
            "top": null,
            "visibility": null,
            "width": null
          }
        },
        "c0f808ccc866426bba75ecd4e2d07933": {
          "model_module": "@jupyter-widgets/base",
          "model_name": "LayoutModel",
          "model_module_version": "1.2.0",
          "state": {
            "_model_module": "@jupyter-widgets/base",
            "_model_module_version": "1.2.0",
            "_model_name": "LayoutModel",
            "_view_count": null,
            "_view_module": "@jupyter-widgets/base",
            "_view_module_version": "1.2.0",
            "_view_name": "LayoutView",
            "align_content": null,
            "align_items": null,
            "align_self": null,
            "border": null,
            "bottom": null,
            "display": null,
            "flex": null,
            "flex_flow": null,
            "grid_area": null,
            "grid_auto_columns": null,
            "grid_auto_flow": null,
            "grid_auto_rows": null,
            "grid_column": null,
            "grid_gap": null,
            "grid_row": null,
            "grid_template_areas": null,
            "grid_template_columns": null,
            "grid_template_rows": null,
            "height": null,
            "justify_content": null,
            "justify_items": null,
            "left": null,
            "margin": null,
            "max_height": null,
            "max_width": null,
            "min_height": null,
            "min_width": null,
            "object_fit": null,
            "object_position": null,
            "order": null,
            "overflow": null,
            "overflow_x": null,
            "overflow_y": null,
            "padding": null,
            "right": null,
            "top": null,
            "visibility": null,
            "width": null
          }
        },
        "95430bddbe7b4232909b6882557585db": {
          "model_module": "@jupyter-widgets/controls",
          "model_name": "DescriptionStyleModel",
          "model_module_version": "1.5.0",
          "state": {
            "_model_module": "@jupyter-widgets/controls",
            "_model_module_version": "1.5.0",
            "_model_name": "DescriptionStyleModel",
            "_view_count": null,
            "_view_module": "@jupyter-widgets/base",
            "_view_module_version": "1.2.0",
            "_view_name": "StyleView",
            "description_width": ""
          }
        },
        "a4fc74b8daa347f2938038875b8622e6": {
          "model_module": "@jupyter-widgets/base",
          "model_name": "LayoutModel",
          "model_module_version": "1.2.0",
          "state": {
            "_model_module": "@jupyter-widgets/base",
            "_model_module_version": "1.2.0",
            "_model_name": "LayoutModel",
            "_view_count": null,
            "_view_module": "@jupyter-widgets/base",
            "_view_module_version": "1.2.0",
            "_view_name": "LayoutView",
            "align_content": null,
            "align_items": null,
            "align_self": null,
            "border": null,
            "bottom": null,
            "display": null,
            "flex": null,
            "flex_flow": null,
            "grid_area": null,
            "grid_auto_columns": null,
            "grid_auto_flow": null,
            "grid_auto_rows": null,
            "grid_column": null,
            "grid_gap": null,
            "grid_row": null,
            "grid_template_areas": null,
            "grid_template_columns": null,
            "grid_template_rows": null,
            "height": null,
            "justify_content": null,
            "justify_items": null,
            "left": null,
            "margin": null,
            "max_height": null,
            "max_width": null,
            "min_height": null,
            "min_width": null,
            "object_fit": null,
            "object_position": null,
            "order": null,
            "overflow": null,
            "overflow_x": null,
            "overflow_y": null,
            "padding": null,
            "right": null,
            "top": null,
            "visibility": null,
            "width": null
          }
        },
        "5ed7104a5d3a4c23b8bbeb5eecbeafd0": {
          "model_module": "@jupyter-widgets/controls",
          "model_name": "ProgressStyleModel",
          "model_module_version": "1.5.0",
          "state": {
            "_model_module": "@jupyter-widgets/controls",
            "_model_module_version": "1.5.0",
            "_model_name": "ProgressStyleModel",
            "_view_count": null,
            "_view_module": "@jupyter-widgets/base",
            "_view_module_version": "1.2.0",
            "_view_name": "StyleView",
            "bar_color": null,
            "description_width": ""
          }
        },
        "d2438cdb4f86412d9b73a2aefa97d2e1": {
          "model_module": "@jupyter-widgets/base",
          "model_name": "LayoutModel",
          "model_module_version": "1.2.0",
          "state": {
            "_model_module": "@jupyter-widgets/base",
            "_model_module_version": "1.2.0",
            "_model_name": "LayoutModel",
            "_view_count": null,
            "_view_module": "@jupyter-widgets/base",
            "_view_module_version": "1.2.0",
            "_view_name": "LayoutView",
            "align_content": null,
            "align_items": null,
            "align_self": null,
            "border": null,
            "bottom": null,
            "display": null,
            "flex": null,
            "flex_flow": null,
            "grid_area": null,
            "grid_auto_columns": null,
            "grid_auto_flow": null,
            "grid_auto_rows": null,
            "grid_column": null,
            "grid_gap": null,
            "grid_row": null,
            "grid_template_areas": null,
            "grid_template_columns": null,
            "grid_template_rows": null,
            "height": null,
            "justify_content": null,
            "justify_items": null,
            "left": null,
            "margin": null,
            "max_height": null,
            "max_width": null,
            "min_height": null,
            "min_width": null,
            "object_fit": null,
            "object_position": null,
            "order": null,
            "overflow": null,
            "overflow_x": null,
            "overflow_y": null,
            "padding": null,
            "right": null,
            "top": null,
            "visibility": null,
            "width": null
          }
        },
        "56bf0c101fd14b52a9d123625034f1d4": {
          "model_module": "@jupyter-widgets/controls",
          "model_name": "DescriptionStyleModel",
          "model_module_version": "1.5.0",
          "state": {
            "_model_module": "@jupyter-widgets/controls",
            "_model_module_version": "1.5.0",
            "_model_name": "DescriptionStyleModel",
            "_view_count": null,
            "_view_module": "@jupyter-widgets/base",
            "_view_module_version": "1.2.0",
            "_view_name": "StyleView",
            "description_width": ""
          }
        },
        "eee3088b2cae4f36910a21fa69fd77c4": {
          "model_module": "@jupyter-widgets/controls",
          "model_name": "HBoxModel",
          "model_module_version": "1.5.0",
          "state": {
            "_dom_classes": [],
            "_model_module": "@jupyter-widgets/controls",
            "_model_module_version": "1.5.0",
            "_model_name": "HBoxModel",
            "_view_count": null,
            "_view_module": "@jupyter-widgets/controls",
            "_view_module_version": "1.5.0",
            "_view_name": "HBoxView",
            "box_style": "",
            "children": [
              "IPY_MODEL_a8961c0effe4454bbcc2f011e095f55a",
              "IPY_MODEL_76c8826c353d47e78ea7d02fbe530116",
              "IPY_MODEL_32375715a9fc4d82b277e59682ac38ce"
            ],
            "layout": "IPY_MODEL_f22142d3fb2e45f2a6236beb8c5cf8f5"
          }
        },
        "a8961c0effe4454bbcc2f011e095f55a": {
          "model_module": "@jupyter-widgets/controls",
          "model_name": "HTMLModel",
          "model_module_version": "1.5.0",
          "state": {
            "_dom_classes": [],
            "_model_module": "@jupyter-widgets/controls",
            "_model_module_version": "1.5.0",
            "_model_name": "HTMLModel",
            "_view_count": null,
            "_view_module": "@jupyter-widgets/controls",
            "_view_module_version": "1.5.0",
            "_view_name": "HTMLView",
            "description": "",
            "description_tooltip": null,
            "layout": "IPY_MODEL_61b26f58c1f34866a151e17e8449d76e",
            "placeholder": "​",
            "style": "IPY_MODEL_9df1b5e370e54651a3786a5f4017fa4e",
            "value": "pytorch_model.bin: 100%"
          }
        },
        "76c8826c353d47e78ea7d02fbe530116": {
          "model_module": "@jupyter-widgets/controls",
          "model_name": "FloatProgressModel",
          "model_module_version": "1.5.0",
          "state": {
            "_dom_classes": [],
            "_model_module": "@jupyter-widgets/controls",
            "_model_module_version": "1.5.0",
            "_model_name": "FloatProgressModel",
            "_view_count": null,
            "_view_module": "@jupyter-widgets/controls",
            "_view_module_version": "1.5.0",
            "_view_name": "ProgressView",
            "bar_style": "success",
            "description": "",
            "description_tooltip": null,
            "layout": "IPY_MODEL_2f5498205ebf47dfb098fa26bd83f0fe",
            "max": 711456784,
            "min": 0,
            "orientation": "horizontal",
            "style": "IPY_MODEL_73a7001155be45e1b90dd40fc7b8aac7",
            "value": 711456784
          }
        },
        "32375715a9fc4d82b277e59682ac38ce": {
          "model_module": "@jupyter-widgets/controls",
          "model_name": "HTMLModel",
          "model_module_version": "1.5.0",
          "state": {
            "_dom_classes": [],
            "_model_module": "@jupyter-widgets/controls",
            "_model_module_version": "1.5.0",
            "_model_name": "HTMLModel",
            "_view_count": null,
            "_view_module": "@jupyter-widgets/controls",
            "_view_module_version": "1.5.0",
            "_view_name": "HTMLView",
            "description": "",
            "description_tooltip": null,
            "layout": "IPY_MODEL_b88dfb72c1c44cf9adba59afccb2f6df",
            "placeholder": "​",
            "style": "IPY_MODEL_2a31e245d65a4d9daae534c81cb087fc",
            "value": " 711M/711M [00:06&lt;00:00, 229MB/s]"
          }
        },
        "f22142d3fb2e45f2a6236beb8c5cf8f5": {
          "model_module": "@jupyter-widgets/base",
          "model_name": "LayoutModel",
          "model_module_version": "1.2.0",
          "state": {
            "_model_module": "@jupyter-widgets/base",
            "_model_module_version": "1.2.0",
            "_model_name": "LayoutModel",
            "_view_count": null,
            "_view_module": "@jupyter-widgets/base",
            "_view_module_version": "1.2.0",
            "_view_name": "LayoutView",
            "align_content": null,
            "align_items": null,
            "align_self": null,
            "border": null,
            "bottom": null,
            "display": null,
            "flex": null,
            "flex_flow": null,
            "grid_area": null,
            "grid_auto_columns": null,
            "grid_auto_flow": null,
            "grid_auto_rows": null,
            "grid_column": null,
            "grid_gap": null,
            "grid_row": null,
            "grid_template_areas": null,
            "grid_template_columns": null,
            "grid_template_rows": null,
            "height": null,
            "justify_content": null,
            "justify_items": null,
            "left": null,
            "margin": null,
            "max_height": null,
            "max_width": null,
            "min_height": null,
            "min_width": null,
            "object_fit": null,
            "object_position": null,
            "order": null,
            "overflow": null,
            "overflow_x": null,
            "overflow_y": null,
            "padding": null,
            "right": null,
            "top": null,
            "visibility": null,
            "width": null
          }
        },
        "61b26f58c1f34866a151e17e8449d76e": {
          "model_module": "@jupyter-widgets/base",
          "model_name": "LayoutModel",
          "model_module_version": "1.2.0",
          "state": {
            "_model_module": "@jupyter-widgets/base",
            "_model_module_version": "1.2.0",
            "_model_name": "LayoutModel",
            "_view_count": null,
            "_view_module": "@jupyter-widgets/base",
            "_view_module_version": "1.2.0",
            "_view_name": "LayoutView",
            "align_content": null,
            "align_items": null,
            "align_self": null,
            "border": null,
            "bottom": null,
            "display": null,
            "flex": null,
            "flex_flow": null,
            "grid_area": null,
            "grid_auto_columns": null,
            "grid_auto_flow": null,
            "grid_auto_rows": null,
            "grid_column": null,
            "grid_gap": null,
            "grid_row": null,
            "grid_template_areas": null,
            "grid_template_columns": null,
            "grid_template_rows": null,
            "height": null,
            "justify_content": null,
            "justify_items": null,
            "left": null,
            "margin": null,
            "max_height": null,
            "max_width": null,
            "min_height": null,
            "min_width": null,
            "object_fit": null,
            "object_position": null,
            "order": null,
            "overflow": null,
            "overflow_x": null,
            "overflow_y": null,
            "padding": null,
            "right": null,
            "top": null,
            "visibility": null,
            "width": null
          }
        },
        "9df1b5e370e54651a3786a5f4017fa4e": {
          "model_module": "@jupyter-widgets/controls",
          "model_name": "DescriptionStyleModel",
          "model_module_version": "1.5.0",
          "state": {
            "_model_module": "@jupyter-widgets/controls",
            "_model_module_version": "1.5.0",
            "_model_name": "DescriptionStyleModel",
            "_view_count": null,
            "_view_module": "@jupyter-widgets/base",
            "_view_module_version": "1.2.0",
            "_view_name": "StyleView",
            "description_width": ""
          }
        },
        "2f5498205ebf47dfb098fa26bd83f0fe": {
          "model_module": "@jupyter-widgets/base",
          "model_name": "LayoutModel",
          "model_module_version": "1.2.0",
          "state": {
            "_model_module": "@jupyter-widgets/base",
            "_model_module_version": "1.2.0",
            "_model_name": "LayoutModel",
            "_view_count": null,
            "_view_module": "@jupyter-widgets/base",
            "_view_module_version": "1.2.0",
            "_view_name": "LayoutView",
            "align_content": null,
            "align_items": null,
            "align_self": null,
            "border": null,
            "bottom": null,
            "display": null,
            "flex": null,
            "flex_flow": null,
            "grid_area": null,
            "grid_auto_columns": null,
            "grid_auto_flow": null,
            "grid_auto_rows": null,
            "grid_column": null,
            "grid_gap": null,
            "grid_row": null,
            "grid_template_areas": null,
            "grid_template_columns": null,
            "grid_template_rows": null,
            "height": null,
            "justify_content": null,
            "justify_items": null,
            "left": null,
            "margin": null,
            "max_height": null,
            "max_width": null,
            "min_height": null,
            "min_width": null,
            "object_fit": null,
            "object_position": null,
            "order": null,
            "overflow": null,
            "overflow_x": null,
            "overflow_y": null,
            "padding": null,
            "right": null,
            "top": null,
            "visibility": null,
            "width": null
          }
        },
        "73a7001155be45e1b90dd40fc7b8aac7": {
          "model_module": "@jupyter-widgets/controls",
          "model_name": "ProgressStyleModel",
          "model_module_version": "1.5.0",
          "state": {
            "_model_module": "@jupyter-widgets/controls",
            "_model_module_version": "1.5.0",
            "_model_name": "ProgressStyleModel",
            "_view_count": null,
            "_view_module": "@jupyter-widgets/base",
            "_view_module_version": "1.2.0",
            "_view_name": "StyleView",
            "bar_color": null,
            "description_width": ""
          }
        },
        "b88dfb72c1c44cf9adba59afccb2f6df": {
          "model_module": "@jupyter-widgets/base",
          "model_name": "LayoutModel",
          "model_module_version": "1.2.0",
          "state": {
            "_model_module": "@jupyter-widgets/base",
            "_model_module_version": "1.2.0",
            "_model_name": "LayoutModel",
            "_view_count": null,
            "_view_module": "@jupyter-widgets/base",
            "_view_module_version": "1.2.0",
            "_view_name": "LayoutView",
            "align_content": null,
            "align_items": null,
            "align_self": null,
            "border": null,
            "bottom": null,
            "display": null,
            "flex": null,
            "flex_flow": null,
            "grid_area": null,
            "grid_auto_columns": null,
            "grid_auto_flow": null,
            "grid_auto_rows": null,
            "grid_column": null,
            "grid_gap": null,
            "grid_row": null,
            "grid_template_areas": null,
            "grid_template_columns": null,
            "grid_template_rows": null,
            "height": null,
            "justify_content": null,
            "justify_items": null,
            "left": null,
            "margin": null,
            "max_height": null,
            "max_width": null,
            "min_height": null,
            "min_width": null,
            "object_fit": null,
            "object_position": null,
            "order": null,
            "overflow": null,
            "overflow_x": null,
            "overflow_y": null,
            "padding": null,
            "right": null,
            "top": null,
            "visibility": null,
            "width": null
          }
        },
        "2a31e245d65a4d9daae534c81cb087fc": {
          "model_module": "@jupyter-widgets/controls",
          "model_name": "DescriptionStyleModel",
          "model_module_version": "1.5.0",
          "state": {
            "_model_module": "@jupyter-widgets/controls",
            "_model_module_version": "1.5.0",
            "_model_name": "DescriptionStyleModel",
            "_view_count": null,
            "_view_module": "@jupyter-widgets/base",
            "_view_module_version": "1.2.0",
            "_view_name": "StyleView",
            "description_width": ""
          }
        }
      }
    }
  },
  "cells": [
    {
      "cell_type": "markdown",
      "source": [
        "# [Техническое задание](https://docs.google.com/document/d/1ZIu6daXZRuDR796AHjKCku643hlM3xgYxW9E84DBJFc/edit?usp=sharing)"
      ],
      "metadata": {
        "id": "CIgT9kE4KHqe"
      }
    },
    {
      "cell_type": "markdown",
      "source": [
        "**Проект:** Классификация аудиозвонков на целевые и нецелевые."
      ],
      "metadata": {
        "id": "FaaxUmqWKHqt"
      }
    },
    {
      "cell_type": "markdown",
      "source": [
        "**Цель проекта:** Разработать нейронную сеть, способную классифицировать аудиозвонки на целевые и нецелевые на основе предоставленной базы данных и csv-таблицы с описаниями и метками классов."
      ],
      "metadata": {
        "id": "GQSHmPOcKHq0"
      }
    },
    {
      "cell_type": "markdown",
      "source": [
        "**Введение:**\n",
        "\n",
        "Входной набор данных представляет из себя два набора файлов:\n",
        "\n",
        "> a)\t[Первый набор файлов](https://drive.google.com/drive/folders/1cQWMpQkscZJbbOTxiJNy0o3nuaeIiB1P?usp=sharing) - это выгрузки в формате `CSV` с информацией по звонкам, а так же с проставленным статусом `“целевой/нецелевой”` в отдельном столбце (обратите внимание, что по проекту `“Павелецкая сити”` две выгрузки - эти наборы данных отличаются и относятся к разным наборам клиентов внутри одного и того же проекта).\n",
        "\n",
        "> b)\t[Второй набор файлов](https://drive.google.com/drive/folders/1K3jGCH60uzFcsI3aj89VIXOOFEXvZxD6?usp=sharing) - аудиозаписи звонков. Они хранятся в корневом каталоге в одноимённых папках. К примеру, в папке `“Записи звонков_павелецкая сити”` лежат записи звонков по проекту `“Павелецкая Сити”`."
      ],
      "metadata": {
        "id": "-UhJ6TikKHq1"
      }
    },
    {
      "cell_type": "markdown",
      "source": [
        "**Требования:**\n",
        "\n",
        "1.   Нейронная сеть должна быть спроектирована и обучена для точной классификации аудиозвонков на два класса: целевые и нецелевые (с точностью `90+%`).\n",
        "2.   Необходимо обеспечить интеграцию модели через `API`.\n",
        "3.   Модель должна быть оптимизирована для обработки большого объёма данных.\n",
        "4.   Код должен быть написан с соблюдением стандартов кодирования, и должна быть составлена подробная техническая документация.\n",
        "5.   Код должен включать в себя систему журналирования для фиксации ошибок.\n",
        "6.   Код должен принимать на вход регулярное выражение, по которому будет осуществляться проверка столбца `“теги”` в выгрузках `CSV` для определения статуса звонка `“целевой/нецелевой”`:\n",
        "\n",
        ">> a)\tпо проектам `“Примавера”` и `“Павелецкая сити”` наличие в столбце с тегами подстроки `“Целевой_М108“` будет равняться тому, что данный звонок целевой (пример регулярного выражения: `.*Целевой_М108.*`);\n",
        "\n",
        ">> b)\tпо проекту `“Хедлайнер”` - наличие в столбце с тегами подстроки `“первичный целевой“` будет равняться тому, что данный звонок целевой.\n",
        "\n",
        "7.   После реализации необходимо иметь возможность получения поддержки по предоставленному решению в течение `2 месяцев`."
      ],
      "metadata": {
        "id": "13vIGhs0KHq4"
      }
    },
    {
      "cell_type": "markdown",
      "source": [
        "Список рекомендуемых параметров для звуковой записи (данный список носит информационный характер и не является обязательным):\n",
        "\n",
        "*   Эмоция (базовые 11: радость; печаль; гнев; отвращение; удивление; страдание (горе); волнение (интерес); презрение; смущение; стыд; вина).\n",
        "*   Пол.\n",
        "*   Возраст.\n",
        "*   Семантический анализ диалога (по конкретным ключевым словам и/или по тематикам диалогов).\n",
        "*   Характеристики, присутствующие в `CSV`/`XLSX` таблицах."
      ],
      "metadata": {
        "id": "seG9MxfuKHq6"
      }
    },
    {
      "cell_type": "markdown",
      "source": [
        "# Критерии классификации"
      ],
      "metadata": {
        "id": "pTohUadq_HUC"
      }
    },
    {
      "cell_type": "markdown",
      "source": [
        "Критерии `уникально-целевого` обращения:\n",
        "1. Длительность звонка должна быть не менее `75 секунд`;\n",
        "2. Телефонный номер абонента должен быть `уникальным`, т. е. его не должно быть в `CRM` заказчика. Либо, по нему не должно быть активности за последние `90 дней`. Исключение составляют `топовые площадки`, работающие по своим критериям (`ЦИАН`, `Яндекс.Недвижимость`, `Авито`, и т. д.);\n",
        "3. Клиент должен знать минимальную информацию об объекте (понимать, куда он звонит): название `ЖК`, расположение, ценовую политику;\n",
        "4. Номер абонента должен быть доступен в течение `15 дней` после совершённого звонка (при этом со стороны заказчика должно быть обеспечено `2 попытки` исходящего звонка в течение указанного срока);\n",
        "5. Клиент должен быть `«адекватным»`. Не общаться на повышенных тонах, не употреблять ненормативную лексику и т. д.;\n",
        "6. Клиент не должен быть повторным. Например, клиент `уже` купил квартиру и через `90 дней` решил купить машиноместо;\n",
        "7. Заявка. В заявке должен быть указан номер телефона, а абонент при контакте с менеджером должен соответствовать всем критериям `уникально-целевого` обращения, перечисленным выше;\n",
        "8. Озвученный общий бюджет покупки не должен быть `ниже 90%` от стоимости квартиры или коммерческого помещения, соответствующих площади/комнатности на момент обращения;\n",
        "9. В случае, если клиент является уникальным, интересуется покупкой недвижимости, не является представителем партнёров или исполнителей и изъявил желание посетить офис продаж. При этом не обязательна фиксация уровня знания клиента об объекте в диалоге. При этом источник не должен относиться к каналам `«лидогенерация»` или `«тематические площадки»`;\n",
        "10. Основной целью звонка клиента не должна являться покупка/аренда исключительно нежилого помещения, если это не являлось целью проводимой рекламной кампании.\n",
        "\n",
        "Критерии НЕ `уникально-целевого` (вторичного) обращения:\n",
        "1. Клиент позвонил повторно менее чем через `3 месяца` (`90 дней`) с момента последнего обращения;\n",
        "2. Клиент, либо члены его семьи, уже купил (купили) `квартиру`/`машиноместо`/`кладовое помещение`, и хочет (хотят) совершить ещё одну покупку. В данном случае клиент относится к показателю `LTV` (показатель прибыли, которую компания получает от одного клиента за всё время работы с ним)."
      ],
      "metadata": {
        "id": "F1Im0SOi_S8W"
      }
    },
    {
      "cell_type": "markdown",
      "source": [
        "# [Датафреймы](https://drive.google.com/drive/folders/111abiHt33Q-SV48pBPhEgDCZDI5KshnF?usp=sharing)"
      ],
      "metadata": {
        "id": "ec6D0c_ueUPs"
      }
    },
    {
      "cell_type": "markdown",
      "source": [
        "## Headliner"
      ],
      "metadata": {
        "id": "SRtVWsD6eUPt"
      }
    },
    {
      "cell_type": "markdown",
      "source": [
        "*   [`Headliner_df.pkl` Информация о звонках `Headliner`](https://drive.google.com/file/d/13mUHwvx79O4P-AucRdjBYkN5ha8LnCSp/view?usp=sharing)\n",
        "*   [`Headliner_new_df.pkl` Информация о новых звонках `Headliner`](https://drive.google.com/file/d/1-Q1BxLbot7svY5hiqOquHRFvSOcwtpKS/view?usp=sharing)"
      ],
      "metadata": {
        "id": "D0b4r_r_eUPt"
      }
    },
    {
      "cell_type": "markdown",
      "source": [
        "*   [`Headliner_calls_df.pkl` Файлы записей звонков `Headliner`](https://drive.google.com/file/d/13pmGEYacsEHjYsIsYgf6fg4MUHAw509y/view?usp=sharing)\n",
        "*   [`Headliner_new_calls_df.pkl` Файлы записей новых звонков `Headliner`](https://drive.google.com/file/d/1-Ke1q42th_NV0og0e01_-mvJ8HL8JzfS/view?usp=sharing)\n",
        "*   [`Headliner_transcriptions_df` Файлы транскрибации записей звонков `Headliner`](https://drive.google.com/file/d/1ThU49xWSv3T-HK61jRykOR3UDvOVeO4i/view?usp=sharing)\n",
        "*   [`Headliner_new_transcriptions_df.pkl` Файлы транскрибации новых записей звонков `Headliner`](https://drive.google.com/file/d/1-BSmmymyVo8VYyvDXsO1ybXldOJ5eUaH/view?usp=sharing)"
      ],
      "metadata": {
        "id": "oRkYDvvyeUPu"
      }
    },
    {
      "cell_type": "markdown",
      "source": [
        "*   [`Headliner_all_df.pkl` Информация о всех звонках `Headliner`](https://drive.google.com/file/d/1857LwaVtJ364yFMpXemILSuVu84YEPPw/view?usp=sharing)\n",
        "*   [`Headliner_work_df.pkl` Рабочий датафрейм с информацией о всех звонках `Headliner`](https://drive.google.com/file/d/1-HOWuSAngv9dXYiMlyRXX0kmVVAAT4sV/view?usp=sharing)\n",
        "*   [`Headliner_targets_df.pkl` Целевые звонки `Headliner`](https://drive.google.com/file/d/1-J1gcgb2mrNDx3R_3l12kq0htS8PTkSv/view?usp=sharing)\n",
        "*   [`Headliner_not_targets_df.pkl` Нецелевые звонки `Headliner`](https://drive.google.com/file/d/1dGf3UrVeQg0VfFhBL_lZfm-gaczPYBnL/view?usp=sharing)\n",
        "*   [`Headliner_moot_df.pkl` Спорные звонки `Headliner`](https://drive.google.com/file/d/1-7vtN8vJNWgWfY8JE8bqoRXkUpvRE_og/view?usp=sharing)"
      ],
      "metadata": {
        "id": "mDL3pxvjeUPu"
      }
    },
    {
      "cell_type": "markdown",
      "source": [
        "## Primavera"
      ],
      "metadata": {
        "id": "kbc1ff-1eUPv"
      }
    },
    {
      "cell_type": "markdown",
      "source": [
        "*   [`Primavera_df.pkl` Информация о звонках `Primavera`](https://drive.google.com/file/d/1-3csPnjIJXviKJzvbpCfOm29nBgl8L4Q/view?usp=sharing)\n",
        "*   [`Primavera_new_df.pkl` Информация о новых звонках `Primavera`](https://drive.google.com/file/d/1-QmWkabU2_cyrXPeVaiHSt2e6sLuiCtp/view?usp=sharing)"
      ],
      "metadata": {
        "id": "qVHFTfk4eUPv"
      }
    },
    {
      "cell_type": "markdown",
      "source": [
        "*   [`Primavera_calls_df.pkl` Файлы записей звонков `Primavera`](https://drive.google.com/file/d/1-CLRfPyaGSc61OopNuFRlWTG-CBCaM1F/view?usp=sharing)\n",
        "*   [`Primavera_new_calls_df.pkl` Файлы записей новых звонков `Primavera`](https://drive.google.com/file/d/1-Lxa0KifMiByareL94rdEzEpvvMj4D1T/view?usp=sharing)\n",
        "*   [`Primavera_transcriptions_df` Файлы транскрибации записей звонков `Primavera`](https://drive.google.com/file/d/1-21AcHmdkRhKmL0uwWOJ0jHyY8sj1tME/view?usp=sharing)\n",
        "*   [`Primavera_new_transcriptions_df.pkl` Файлы транскрибации новых записей звонков `Primavera`](https://drive.google.com/file/d/1-BtSBVH2JXol5JDA0GKV4NOIz5WUnUd5/view?usp=sharing)"
      ],
      "metadata": {
        "id": "isfUjkQdeUPv"
      }
    },
    {
      "cell_type": "markdown",
      "source": [
        "*   [`Primavera_all_df.pkl` Информация о всех звонках `Primavera`](https://drive.google.com/file/d/1-2-RlxkKHj5e6RkvbrN7_vs1h5aVXJFk/view?usp=sharing)\n",
        "*   [`Primavera_work_df.pkl` Рабочий датафрейм с информацией о всех звонках `Primavera`](https://drive.google.com/file/d/1-INI9JsU9jsOkPDiGMKhftt18KXgF6-K/view?usp=sharing)\n",
        "*   [`Primavera_targets_df.pkl` Целевые звонки `Primavera`](https://drive.google.com/file/d/1-JVtM9fOr6XoM7MVxkoVsYfwdZ6GQ--i/view?usp=sharing)\n",
        "*   [`Primavera_not_targets_df.pkl` Нецелевые звонки `Primavera`](https://drive.google.com/file/d/1-KwG8M-0wEn-5C4ta-B8_xYGCXDOhpnH/view?usp=sharing)"
      ],
      "metadata": {
        "id": "65OiaZuleUPw"
      }
    },
    {
      "cell_type": "markdown",
      "source": [
        "## Paveletskaya_city"
      ],
      "metadata": {
        "id": "22vlkN0beUPw"
      }
    },
    {
      "cell_type": "markdown",
      "source": [
        "*   [`Paveletskaya_city_df.pkl` Информация о звонках `Paveletskaya_city`](https://drive.google.com/file/d/1-99dLkSvU3wdwjkGJpwpYUXQjxx8dwEu/view?usp=sharing)\n",
        "*   [`Paveletskaya_df.pkl` Информация о звонках `Paveletskaya_city`](https://drive.google.com/file/d/1-D6LlCFXQBMHceujvnq9H8rlx2jAnzmT/view?usp=sharing)\n",
        "*   [`Paveletskaya_city_new_df.pkl` Информация о новых звонках `Paveletskaya_city`](https://drive.google.com/file/d/1-Rtw9a1no3mKatUjc_FNv_bgUBdNrs_d/view?usp=sharing)"
      ],
      "metadata": {
        "id": "dqdBIi9teUPw"
      }
    },
    {
      "cell_type": "markdown",
      "source": [
        "*   [`Paveletskaya_city_calls_df.pkl` Файлы записей звонков `Paveletskaya_city`](https://drive.google.com/file/d/1-JevsfOpxzLNZmSs34qrswhGzhPwf69S/view?usp=sharing)\n",
        "*   [`Paveletskaya_city_new_calls_df.pkl` Файлы записей новых звонков `Paveletskaya_city`](https://drive.google.com/file/d/1-ODEeFLv15DN5bfLlwyrTx8D3yxydhP9/view?usp=sharing)\n",
        "*   [`Paveletskaya_city_transcriptions_df` Файлы транскрибации записей звонков `Paveletskaya_city`](https://drive.google.com/file/d/1-2kqmIGIraP70ekXB6LBqNjwaTnoxyk5/view?usp=sharing)\n",
        "*   [`Paveletskaya_city_new_transcriptions_df.pkl` Файлы транскрибации новых записей звонков `Paveletskaya_city`](https://drive.google.com/file/d/1-EfA8ZCpGNQk__puhiv1FuxoZC0rXxpj/view?usp=sharing)"
      ],
      "metadata": {
        "id": "LDBkuBxyeUPx"
      }
    },
    {
      "cell_type": "markdown",
      "source": [
        "*   [`Paveletskaya_city_all_df.pkl` Информация о всех звонках `Paveletskaya_city`](https://drive.google.com/file/d/1-Cy78DqRZ3sbIHkg25wzVWPL-lST5oQa/view?usp=sharing)\n",
        "*   [`Paveletskaya_city_work_df.pkl` Рабочий датафрейм с информацией о всех звонках `Paveletskaya_city`](https://drive.google.com/file/d/1-J1BoALFH4-HRdVXjnkyr-fExmtQpUc7/view?usp=sharing)\n",
        "*   [`Paveletskaya_city_targets_df.pkl` Целевые звонки `Paveletskaya_city`](https://drive.google.com/file/d/1-MrjnBHDj65CEjJxLfPnp-hq07V_wtZK/view?usp=sharing)\n",
        "*   [`Paveletskaya_city_not_targets_df.pkl` Нецелевые звонки `Paveletskaya_city`](https://drive.google.com/file/d/1-WCCyYaorHkBYoh5ugNsCkD7cb1PKH6D/view?usp=sharing)"
      ],
      "metadata": {
        "id": "8sY31zxleUPx"
      }
    },
    {
      "cell_type": "markdown",
      "source": [
        "## Сводные датафреймы"
      ],
      "metadata": {
        "id": "hyBXBxv6eUPy"
      }
    },
    {
      "cell_type": "markdown",
      "source": [
        "*   [`total_df.pkl` Сводный датафрейм с информацией о всех звонках](https://drive.google.com/file/d/15ijhw62sp2JNH6pryqZtM5akQHUnsTzi/view?usp=sharing)\n",
        "*   [`total_work_df.pkl` Сводный рабочий датафрейм с информацией о всех звонках](https://drive.google.com/file/d/1-056tLrjP5yRQW8yRtwutvXs3zmPulW7/view?usp=sharing)"
      ],
      "metadata": {
        "id": "ArIV377meUPy"
      }
    },
    {
      "cell_type": "markdown",
      "source": [
        "# 6 неделя"
      ],
      "metadata": {
        "id": "rVDYF0C9YQcB"
      }
    },
    {
      "cell_type": "code",
      "source": [
        "!rm -r sample_data"
      ],
      "metadata": {
        "id": "9KuUYa49Vo8A"
      },
      "execution_count": 1,
      "outputs": []
    },
    {
      "cell_type": "code",
      "source": [
        "# Подключаем google-диск\n",
        "from google.colab import drive\n",
        "drive.mount('/content/drive')\n",
        "my_drv_path = '/content/drive/MyDrive/'"
      ],
      "metadata": {
        "colab": {
          "base_uri": "https://localhost:8080/"
        },
        "id": "IOx_s0fIVwbK",
        "outputId": "e3cc681c-fd3f-4c15-d211-d9e44fcb15be"
      },
      "execution_count": 2,
      "outputs": [
        {
          "output_type": "stream",
          "name": "stdout",
          "text": [
            "Mounted at /content/drive\n"
          ]
        }
      ]
    },
    {
      "cell_type": "markdown",
      "source": [
        "## Библиотеки и переменные"
      ],
      "metadata": {
        "id": "shwe_q3BV8Vr"
      }
    },
    {
      "cell_type": "code",
      "source": [
        "import os            # для работы с операционной системой\n",
        "import pickle as pkl # для сохранения и загрузки переменных\n",
        "import pandas as pd  # для работы с таблицами\n",
        "import numpy  as np  # для работы с массивами\n",
        "import re            # для работы с регулярными выражениями\n",
        "\n",
        "# Параметры отображения датафреймов\n",
        "pd.options.display.max_rows     = 99\n",
        "pd.options.display.max_columns  = 99\n",
        "pd.options.display.max_colwidth = 999\n",
        "\n",
        "work_dir_path              = my_drv_path           + 'media108.ru/Новички/'                # путь к рабочей папке\n",
        "df_path                    = work_dir_path         + 'Датафреймы/'                         # путь к папке для датафреймов\n",
        "table_path                 = work_dir_path         + 'Таблицы/'                            # путь к папке для таблиц\n",
        "model_path                 = work_dir_path         + 'Модели/'                             # путь к папке для моделей нейронных сетей\n",
        "all_dataset_path           = work_dir_path         + 'Датасет/'                            # путь к папке всего датасета в целом\n",
        "dataset_path               = all_dataset_path      + 'Записи звонков/'                     # путь к записям звонков\n",
        "dataset_info_path          = dataset_path          + 'Информация о звонках/'               # путь к информации о звонках\n",
        "dataset_new_path           = all_dataset_path      + 'Новые записи звонков/'               # путь к новым записям звонков\n",
        "dataset_new_info_path      = dataset_new_path      + 'Информация о звонках/'               # путь к информации о новых звонках\n",
        "Headliner_path             = dataset_path          + 'Записи звонков_хедлайнер'            # путь к записям звонков проекта Headliner\n",
        "Headliner_info             = dataset_info_path     + 'Headliner.csv'                       # путь к информации о звонках проекта Headliner\n",
        "Headliner_new_path         = dataset_new_path      + 'Записи Headliner'                    # путь к записям новых звонков проекта Headliner\n",
        "Headliner_new_info         = dataset_new_info_path + 'Headliner.xlsx'                      # путь к информации о новых звонках проекта Headliner\n",
        "Primavera_path             = dataset_path          + 'Записи звонков_primavera'            # путь к записям звонков проекта Primavera\n",
        "Primavera_info             = dataset_info_path     + 'Primavera .csv'                      # путь к информации о звонках проекта Primavera\n",
        "Primavera_new_path         = dataset_new_path      + 'Записи Primavera'                    # путь к записям новых звонков проекта Primavera\n",
        "Primavera_new_info         = dataset_new_info_path + 'Примавера.xlsx'                      # путь к информации о новых звонках проекта Primavera\n",
        "Paveletskaya_city_path     = dataset_path          + 'Записи звонков_павелецкая сити'      # путь к записям звонков проекта Paveletskaya_city\n",
        "Paveletskaya_city_info     = dataset_info_path     + 'Павелецкая_ЖК_«Павелецкая_сити».csv' # путь к информации о звонках проекта Paveletskaya_city\n",
        "Paveletskaya_info          = dataset_info_path     + 'Павелецкая (pavcity.turbo.site).csv' # путь к информации о звонках проекта Paveletskaya_city\n",
        "Paveletskaya_city_new_path = dataset_new_path      + 'Записи Павелецкая сити'              # путь к записям новых звонков проекта Paveletskaya_city\n",
        "Paveletskaya_city_new_info = dataset_new_info_path + 'Павелецкая сити.xlsx'                # путь к информации о новых звонках проекта Paveletskaya_city"
      ],
      "metadata": {
        "id": "afuxbj6ibJz2"
      },
      "execution_count": 3,
      "outputs": []
    },
    {
      "cell_type": "markdown",
      "source": [
        "## [Классификация текста с использованием моделей трансформеров](https://habr.com/ru/articles/655517/)"
      ],
      "metadata": {
        "id": "XXcNF0p1ALIZ"
      }
    },
    {
      "cell_type": "code",
      "source": [
        "# Установка transformers\n",
        "!pip -q install transformers"
      ],
      "metadata": {
        "id": "oRbpD9jAGgz9"
      },
      "execution_count": 4,
      "outputs": []
    },
    {
      "cell_type": "markdown",
      "source": [
        "### Данные"
      ],
      "metadata": {
        "id": "-TkTzxieElLW"
      }
    },
    {
      "cell_type": "code",
      "source": [
        "# Загрузка датафрейма с данными о звонках\n",
        "with open(df_path + 'total_work_df.pkl', 'rb') as f:\n",
        "  total_work_df = pkl.load(f)\n",
        "total_work_df.shape"
      ],
      "metadata": {
        "id": "mwwZtO58PxM5",
        "colab": {
          "base_uri": "https://localhost:8080/"
        },
        "outputId": "7381be82-d607-49c8-e906-89a014d9498b"
      },
      "execution_count": 15,
      "outputs": [
        {
          "output_type": "execute_result",
          "data": {
            "text/plain": [
              "(6924, 78)"
            ]
          },
          "metadata": {},
          "execution_count": 15
        }
      ]
    },
    {
      "cell_type": "code",
      "source": [
        "# Выборка с текстами транскрибации и классом звонка\n",
        "df = total_work_df[['Текст whisper-транскрибации записи звонка', 'Класс']][total_work_df['Файл записи звонка'] != 'нет файла']\n",
        "df.shape"
      ],
      "metadata": {
        "id": "gFJkG5ru3Ib8",
        "colab": {
          "base_uri": "https://localhost:8080/"
        },
        "outputId": "abc67e76-3460-444c-b673-f06024f174f8"
      },
      "execution_count": 16,
      "outputs": [
        {
          "output_type": "execute_result",
          "data": {
            "text/plain": [
              "(6924, 2)"
            ]
          },
          "metadata": {},
          "execution_count": 16
        }
      ]
    },
    {
      "cell_type": "code",
      "source": [
        "# Соотношение классов\n",
        "df['Класс'].value_counts().plot.bar()"
      ],
      "metadata": {
        "colab": {
          "base_uri": "https://localhost:8080/",
          "height": 513
        },
        "id": "8d-XQwAVzQOr",
        "outputId": "0a12da97-7f6b-4f4e-9a25-6a9ff6fddc49"
      },
      "execution_count": 17,
      "outputs": [
        {
          "output_type": "execute_result",
          "data": {
            "text/plain": [
              "<Axes: >"
            ]
          },
          "metadata": {},
          "execution_count": 17
        },
        {
          "output_type": "display_data",
          "data": {
            "text/plain": [
              "<Figure size 640x480 with 1 Axes>"
            ],
            "image/png": "[encoded data removed]"
          },
          "metadata": {}
        }
      ]
    },
    {
      "cell_type": "code",
      "source": [
        "# Преобразуем значения класса в число\n",
        "df['Класс'] = df['Класс'].apply(lambda x: 1 if x == 'Целевой' else 0)"
      ],
      "metadata": {
        "id": "KuQEo3rXkX0H"
      },
      "execution_count": 18,
      "outputs": []
    },
    {
      "cell_type": "code",
      "source": [
        "# Соотношение классов\n",
        "df['Класс'].value_counts().plot.bar()"
      ],
      "metadata": {
        "colab": {
          "base_uri": "https://localhost:8080/",
          "height": 442
        },
        "id": "1J1VWl6bzy1q",
        "outputId": "a2a46d39-ce9a-46e7-80b3-bdf4a5ad8e98"
      },
      "execution_count": 19,
      "outputs": [
        {
          "output_type": "execute_result",
          "data": {
            "text/plain": [
              "<Axes: >"
            ]
          },
          "metadata": {},
          "execution_count": 19
        },
        {
          "output_type": "display_data",
          "data": {
            "text/plain": [
              "<Figure size 640x480 with 1 Axes>"
            ],
            "image/png": "[encoded data removed]"
          },
          "metadata": {}
        }
      ]
    },
    {
      "cell_type": "code",
      "source": [
        "# Разделение датасета на обучающую, проверочную и тестовую выборки\n",
        "from sklearn.model_selection import train_test_split\n",
        "tr_df, val_df     = train_test_split(df,    test_size=0.2,  random_state=42, stratify=df['Класс'])\n",
        "train_df, test_df = train_test_split(tr_df, test_size=0.25, random_state=42, stratify=tr_df['Класс'])\n",
        "train_df.shape[0], val_df.shape[0], test_df.shape[0]"
      ],
      "metadata": {
        "colab": {
          "base_uri": "https://localhost:8080/"
        },
        "id": "ncgk68sgT7uP",
        "outputId": "a59d2a43-5b92-4ce6-d082-a47401b197a5"
      },
      "execution_count": 20,
      "outputs": [
        {
          "output_type": "execute_result",
          "data": {
            "text/plain": [
              "(4154, 1385, 1385)"
            ]
          },
          "metadata": {},
          "execution_count": 20
        }
      ]
    },
    {
      "cell_type": "code",
      "source": [
        "# Токенизируем тексты, передаём в тензоры и загружаем в функцию DataLoader, которая будет по частям подавать данные для обучения и валидации в модель\n",
        "import torch\n",
        "from   torch.utils.data import TensorDataset, RandomSampler, DataLoader, SequentialSampler\n",
        "from   transformers     import BertTokenizer\n",
        "\n",
        "train_text       = train_df['Текст whisper-транскрибации записи звонка'].astype('str')\n",
        "train_labels     = train_df['Класс']\n",
        "val_text         = val_df  ['Текст whisper-транскрибации записи звонка'].astype('str')\n",
        "val_labels       = val_df  ['Класс']\n",
        "test_text        = test_df ['Текст whisper-транскрибации записи звонка'].astype('str')\n",
        "test_labels      = test_df ['Класс']\n",
        "\n",
        "tokenizer        = BertTokenizer.from_pretrained('DeepPavlov/rubert-base-cased-sentence')\n",
        "\n",
        "tokens_train     = tokenizer.batch_encode_plus(train_text.values,\n",
        "                                           max_length=512,\n",
        "                                           padding='max_length',\n",
        "                                           truncation=True)\n",
        "\n",
        "tokens_val       = tokenizer.batch_encode_plus(val_text.values,\n",
        "                                           max_length=512,\n",
        "                                           padding='max_length',\n",
        "                                           truncation=True)\n",
        "\n",
        "tokens_test      = tokenizer.batch_encode_plus(test_text.values,\n",
        "                                           max_length=512,\n",
        "                                           padding='max_length',\n",
        "                                           truncation=True)\n",
        "\n",
        "train_seq        = torch.tensor(tokens_train['input_ids'])\n",
        "train_mask       = torch.tensor(tokens_train['attention_mask'])\n",
        "train_y          = torch.tensor(train_labels.values)\n",
        "\n",
        "val_seq          = torch.tensor(tokens_val['input_ids'])\n",
        "val_mask         = torch.tensor(tokens_val['attention_mask'])\n",
        "val_y            = torch.tensor(val_labels.values)\n",
        "\n",
        "test_seq         = torch.tensor(tokens_test['input_ids'])\n",
        "test_mask        = torch.tensor(tokens_test['attention_mask'])\n",
        "test_y           = torch.tensor(test_labels.values)\n",
        "\n",
        "batch_size       = 8\n",
        "\n",
        "train_data       = TensorDataset(train_seq, train_mask, train_y)\n",
        "train_sampler    = RandomSampler(train_data)\n",
        "train_dataloader = DataLoader(train_data, sampler = train_sampler, batch_size = batch_size)\n",
        "\n",
        "val_data         = TensorDataset(val_seq, val_mask, val_y)\n",
        "val_sampler      = SequentialSampler(val_data)\n",
        "val_dataloader   = DataLoader(val_data, sampler = val_sampler, batch_size = batch_size)"
      ],
      "metadata": {
        "colab": {
          "base_uri": "https://localhost:8080/",
          "height": 145,
          "referenced_widgets": [
            "0ed32aa9b53240acac46827e466ff447",
            "8c3ff893fbaa464eb12d20c25cfa6aa0",
            "04074c86257e41f4b9723dee01b887cc",
            "a8ac3da6f258447eb00a2994a76b7cdf",
            "0464a68388bc4edb9c5cc0ae1ccfe735",
            "b0d8fcc3611c4ad199033de25c9eaef2",
            "6e6353fa816c499c83ab1edb80836df3",
            "052dc87d2b9b4d8480357d54f877eab3",
            "7646e4f315d349b393288cab38d1275d",
            "1a344c85adc54ca78763de16cf7b4804",
            "18335ee01f904f82a193ce8d32c1cefb",
            "970a56ee4097472084737d08640df13e",
            "5d2a59fbd9b04e8f8e2ab7974d93d026",
            "a88f95b79cd7426ab0522a958092778a",
            "bbc66599a4454626a3e299e08e135e0d",
            "b073895442ef4a66bcc5f41d90d1d153",
            "bd1c772f786c4d46a7cb3dab95c306bd",
            "ab4ca549d9754e508e6f89f250515874",
            "c21567b2bfd84499a7e52a1ff8469533",
            "1a1b1d1bc53c4b5b863ade5919ea9f3f",
            "d62619f7af464f7a8e6064727bc4ea96",
            "9c53052cdbdc4aa4ac64c37de5ea9aeb",
            "1d80ea155ab743859676607d796903ba",
            "78a1739df77e40e398934c7dcf36b9a4",
            "d60177432d8a4a17b5fcb8a59f29d997",
            "3154b48ecf7e4dadb0ecb990344a27df",
            "167c7b8aa2ce4c48980877bfe529b9b2",
            "c07b5518b55e4749bc5450805a98ebe3",
            "8885275b60c84f92b6b9d808d0809570",
            "9d4e1017cdbc4cfcbeae697211fb2bfb",
            "6b362f5a17a041918892a5690da0e6cd",
            "66cf2e77c915487db2243cb320e39e78",
            "fc6fd80c96214ae8a3dcf441f97b7204",
            "add370aabcdd4832b4a7b55acd9e1214",
            "cf707267074e4c908c1208aa54b71cd9",
            "2c776c1438b94e0db03366a744f6875d",
            "91cfcd49771149efbce60734ddf32f1b",
            "952b8f3ab7b24463813646e0690caa26",
            "c0f808ccc866426bba75ecd4e2d07933",
            "95430bddbe7b4232909b6882557585db",
            "a4fc74b8daa347f2938038875b8622e6",
            "5ed7104a5d3a4c23b8bbeb5eecbeafd0",
            "d2438cdb4f86412d9b73a2aefa97d2e1",
            "56bf0c101fd14b52a9d123625034f1d4"
          ]
        },
        "id": "_HwvbfuEEqxF",
        "outputId": "f9885c18-574c-4669-e8d9-805c3b67656d"
      },
      "execution_count": 21,
      "outputs": [
        {
          "output_type": "display_data",
          "data": {
            "text/plain": [
              "tokenizer_config.json:   0%|          | 0.00/24.0 [00:00<?, ?B/s]"
            ],
            "application/vnd.jupyter.widget-view+json": {
              "version_major": 2,
              "version_minor": 0,
              "model_id": "0ed32aa9b53240acac46827e466ff447"
            }
          },
          "metadata": {}
        },
        {
          "output_type": "display_data",
          "data": {
            "text/plain": [
              "vocab.txt:   0%|          | 0.00/1.65M [00:00<?, ?B/s]"
            ],
            "application/vnd.jupyter.widget-view+json": {
              "version_major": 2,
              "version_minor": 0,
              "model_id": "970a56ee4097472084737d08640df13e"
            }
          },
          "metadata": {}
        },
        {
          "output_type": "display_data",
          "data": {
            "text/plain": [
              "special_tokens_map.json:   0%|          | 0.00/112 [00:00<?, ?B/s]"
            ],
            "application/vnd.jupyter.widget-view+json": {
              "version_major": 2,
              "version_minor": 0,
              "model_id": "1d80ea155ab743859676607d796903ba"
            }
          },
          "metadata": {}
        },
        {
          "output_type": "display_data",
          "data": {
            "text/plain": [
              "config.json:   0%|          | 0.00/642 [00:00<?, ?B/s]"
            ],
            "application/vnd.jupyter.widget-view+json": {
              "version_major": 2,
              "version_minor": 0,
              "model_id": "add370aabcdd4832b4a7b55acd9e1214"
            }
          },
          "metadata": {}
        }
      ]
    },
    {
      "cell_type": "code",
      "source": [
        "# Гистограмма длины текстов\n",
        "seq_len = [len(str(i).split()) for i in train_text]\n",
        "pd.Series(seq_len).hist(bins = 50)"
      ],
      "metadata": {
        "colab": {
          "base_uri": "https://localhost:8080/",
          "height": 449
        },
        "id": "iClirpi3YTFh",
        "outputId": "860469ba-2dcb-4a27-d6d3-6cfef46c325a"
      },
      "execution_count": 22,
      "outputs": [
        {
          "output_type": "execute_result",
          "data": {
            "text/plain": [
              "<Axes: >"
            ]
          },
          "metadata": {},
          "execution_count": 22
        },
        {
          "output_type": "display_data",
          "data": {
            "text/plain": [
              "<Figure size 640x480 with 1 Axes>"
            ],
            "image/png": "[encoded data removed]"
          },
          "metadata": {}
        }
      ]
    },
    {
      "cell_type": "markdown",
      "source": [
        "### Модель"
      ],
      "metadata": {
        "id": "WWe47cxVRTHE"
      }
    },
    {
      "cell_type": "code",
      "source": [
        "# Импортируем предобученную модель\n",
        "from transformers import AutoModel\n",
        "bert = AutoModel.from_pretrained('DeepPavlov/rubert-base-cased-sentence')"
      ],
      "metadata": {
        "colab": {
          "base_uri": "https://localhost:8080/",
          "height": 49,
          "referenced_widgets": [
            "eee3088b2cae4f36910a21fa69fd77c4",
            "a8961c0effe4454bbcc2f011e095f55a",
            "76c8826c353d47e78ea7d02fbe530116",
            "32375715a9fc4d82b277e59682ac38ce",
            "f22142d3fb2e45f2a6236beb8c5cf8f5",
            "61b26f58c1f34866a151e17e8449d76e",
            "9df1b5e370e54651a3786a5f4017fa4e",
            "2f5498205ebf47dfb098fa26bd83f0fe",
            "73a7001155be45e1b90dd40fc7b8aac7",
            "b88dfb72c1c44cf9adba59afccb2f6df",
            "2a31e245d65a4d9daae534c81cb087fc"
          ]
        },
        "id": "O4hRNhsmRXwY",
        "outputId": "1cd5a1ef-4816-4136-89f2-a1bc74dddea2"
      },
      "execution_count": 23,
      "outputs": [
        {
          "output_type": "display_data",
          "data": {
            "text/plain": [
              "pytorch_model.bin:   0%|          | 0.00/711M [00:00<?, ?B/s]"
            ],
            "application/vnd.jupyter.widget-view+json": {
              "version_major": 2,
              "version_minor": 0,
              "model_id": "eee3088b2cae4f36910a21fa69fd77c4"
            }
          },
          "metadata": {}
        }
      ]
    },
    {
      "cell_type": "code",
      "source": [
        "# Архитектура\n",
        "bert.cuda()"
      ],
      "metadata": {
        "colab": {
          "base_uri": "https://localhost:8080/"
        },
        "id": "dTIkgLH7cu1-",
        "outputId": "5ac3989e-0830-4796-f378-1a56150562f5"
      },
      "execution_count": 24,
      "outputs": [
        {
          "output_type": "execute_result",
          "data": {
            "text/plain": [
              "BertModel(\n",
              "  (embeddings): BertEmbeddings(\n",
              "    (word_embeddings): Embedding(119547, 768, padding_idx=0)\n",
              "    (position_embeddings): Embedding(512, 768)\n",
              "    (token_type_embeddings): Embedding(2, 768)\n",
              "    (LayerNorm): LayerNorm((768,), eps=1e-12, elementwise_affine=True)\n",
              "    (dropout): Dropout(p=0.1, inplace=False)\n",
              "  )\n",
              "  (encoder): BertEncoder(\n",
              "    (layer): ModuleList(\n",
              "      (0-11): 12 x BertLayer(\n",
              "        (attention): BertAttention(\n",
              "          (self): BertSelfAttention(\n",
              "            (query): Linear(in_features=768, out_features=768, bias=True)\n",
              "            (key): Linear(in_features=768, out_features=768, bias=True)\n",
              "            (value): Linear(in_features=768, out_features=768, bias=True)\n",
              "            (dropout): Dropout(p=0.1, inplace=False)\n",
              "          )\n",
              "          (output): BertSelfOutput(\n",
              "            (dense): Linear(in_features=768, out_features=768, bias=True)\n",
              "            (LayerNorm): LayerNorm((768,), eps=1e-12, elementwise_affine=True)\n",
              "            (dropout): Dropout(p=0.1, inplace=False)\n",
              "          )\n",
              "        )\n",
              "        (intermediate): BertIntermediate(\n",
              "          (dense): Linear(in_features=768, out_features=3072, bias=True)\n",
              "          (intermediate_act_fn): GELUActivation()\n",
              "        )\n",
              "        (output): BertOutput(\n",
              "          (dense): Linear(in_features=3072, out_features=768, bias=True)\n",
              "          (LayerNorm): LayerNorm((768,), eps=1e-12, elementwise_affine=True)\n",
              "          (dropout): Dropout(p=0.1, inplace=False)\n",
              "        )\n",
              "      )\n",
              "    )\n",
              "  )\n",
              "  (pooler): BertPooler(\n",
              "    (dense): Linear(in_features=768, out_features=768, bias=True)\n",
              "    (activation): Tanh()\n",
              "  )\n",
              ")"
            ]
          },
          "metadata": {},
          "execution_count": 24
        }
      ]
    },
    {
      "cell_type": "code",
      "source": [
        "# Сам BERT обучать не будем, добавим к его выходу свои слои, которые и будем обучать\n",
        "for param in bert.parameters():\n",
        "  param.requires_grad = False\n",
        "\n",
        "import torch.nn as nn\n",
        "class BERT_Arch(nn.Module):\n",
        "  def __init__(self, bert):\n",
        "    super(BERT_Arch, self).__init__()\n",
        "    self.bert = bert\n",
        "    self.dropout = nn.Dropout(0.1)\n",
        "    self.relu = nn.ReLU()\n",
        "    self.fc1 = nn.Linear(768,512)\n",
        "    self.fc2 = nn.Linear(512,2)\n",
        "    self.softmax = nn.LogSoftmax(dim = 1)\n",
        "  def forward(self, sent_id, mask):\n",
        "    _, cls_hs = self.bert(sent_id, attention_mask = mask, return_dict = False)\n",
        "    x = self.fc1(cls_hs)\n",
        "    x = self.relu(x)\n",
        "    x = self.dropout(x)\n",
        "    x = self.fc2(x)\n",
        "    x = self.softmax(x)\n",
        "    return x"
      ],
      "metadata": {
        "id": "JCUh9r66YtYD"
      },
      "execution_count": 25,
      "outputs": []
    },
    {
      "cell_type": "code",
      "source": [
        "# Объявляем модель и загружаем её в GPU\n",
        "device = torch.device('cuda')\n",
        "model  = BERT_Arch(bert)\n",
        "model  = model.to(device)"
      ],
      "metadata": {
        "id": "UjLIQ_UZZhpk"
      },
      "execution_count": 26,
      "outputs": []
    },
    {
      "cell_type": "code",
      "source": [
        "# Для борьбы с дисбалансом классов используем следующий подход\n",
        "import numpy as np\n",
        "from   sklearn.utils.class_weight import compute_class_weight\n",
        "class_weights = compute_class_weight('balanced', classes=np.unique(train_labels), y=train_labels)\n",
        "weights = torch.tensor(class_weights, dtype = torch.float)\n",
        "weights = weights.to(device)\n",
        "cross_entropy = nn.CrossEntropyLoss()\n",
        "epochs = 25\n",
        "print(class_weights)"
      ],
      "metadata": {
        "colab": {
          "base_uri": "https://localhost:8080/"
        },
        "id": "F5VeYsX3aAmQ",
        "outputId": "3070eedd-7a2a-435a-a7da-e8cf4241dccf"
      },
      "execution_count": 27,
      "outputs": [
        {
          "output_type": "stream",
          "name": "stdout",
          "text": [
            "[0.7492785  1.50289436]\n"
          ]
        }
      ]
    },
    {
      "cell_type": "code",
      "source": [
        "# Импортируем оптимизатор\n",
        "from torch.optim import AdamW\n",
        "optimizer = AdamW(model.parameters(), lr=1e-3)"
      ],
      "metadata": {
        "id": "WuFuw7yHabtx"
      },
      "execution_count": 28,
      "outputs": []
    },
    {
      "cell_type": "code",
      "source": [
        "# Функция для обучения модели\n",
        "from tqdm import tqdm\n",
        "def train():\n",
        "  model.train()\n",
        "  total_loss, total_accuracy = 0, 0\n",
        "  total_preds = []\n",
        "\n",
        "  for step, batch in tqdm(enumerate(train_dataloader), total = len(train_dataloader)):\n",
        "    batch = [r.to(device) for r in batch]\n",
        "    sent_id,mask,labels = batch\n",
        "    model.zero_grad()\n",
        "    preds = model(sent_id, mask)\n",
        "    loss = cross_entropy(preds, labels)\n",
        "    total_loss += loss.item()\n",
        "    loss.backward()\n",
        "    torch.nn.utils.clip_grad_norm_(model.parameters(), 1.0)\n",
        "    optimizer.step()\n",
        "    preds = preds.detach().cpu().numpy()\n",
        "    total_preds.append(preds)\n",
        "\n",
        "  avg_loss = total_loss / len(train_dataloader)\n",
        "  total_preds = np.concatenate(total_preds, axis = 0)\n",
        "\n",
        "  return avg_loss, total_preds"
      ],
      "metadata": {
        "id": "ERenGkTaaVXs"
      },
      "execution_count": 29,
      "outputs": []
    },
    {
      "cell_type": "code",
      "source": [
        "# Функция валидации\n",
        "def evaluate():\n",
        "  model.eval()\n",
        "  total_loss, total_accuracy = 0,0\n",
        "  total_preds = []\n",
        "\n",
        "  for step, batch in tqdm(enumerate(val_dataloader), total = len(val_dataloader)):\n",
        "    batch = [t.to(device) for t in batch]\n",
        "    sent_id, mask, labels = batch\n",
        "\n",
        "    with torch.no_grad():\n",
        "      preds = model(sent_id, mask)\n",
        "      loss = cross_entropy(preds, labels)\n",
        "      total_loss = total_loss + loss.item()\n",
        "      preds = preds.detach().cpu().numpy()\n",
        "      total_preds.append(preds)\n",
        "\n",
        "  avg_loss = total_loss / len(val_dataloader)\n",
        "  total_preds = np.concatenate(total_preds, axis = 0)\n",
        "\n",
        "  return avg_loss, total_preds"
      ],
      "metadata": {
        "id": "hbYZUxtzdj88"
      },
      "execution_count": 30,
      "outputs": []
    },
    {
      "cell_type": "code",
      "source": [
        "# Обучаем, для лучшей метрики на валидации сохраняем веса\n",
        "best_valid_loss = float('inf')\n",
        "best_loss       = float('inf')\n",
        "\n",
        "train_losses    = []\n",
        "valid_losses    = []\n",
        "\n",
        "for epoch in range(epochs):\n",
        "  print('\\n Epoch{:} / {:}'.format(epoch+1, epochs))\n",
        "\n",
        "  train_loss, _ = train()\n",
        "  valid_loss, _ = evaluate()\n",
        "\n",
        "  if valid_loss < best_valid_loss:\n",
        "    best_valid_loss = valid_loss\n",
        "    torch.save(model.state_dict(), '/content/drive/MyDrive/media108.ru/Модели/bert_saved_weights.pt')\n",
        "\n",
        "  if valid_loss == best_valid_loss:\n",
        "    if train_loss < best_loss:\n",
        "      best_loss = train_loss\n",
        "      torch.save(model.state_dict(), '/content/drive/MyDrive/media108.ru/Модели/bert_saved_weights.pt')\n",
        "\n",
        "  train_losses.append(train_loss)\n",
        "  valid_losses.append(valid_loss)\n",
        "  print(f'\\nTraining loss: {train_loss:.3f}')\n",
        "  print(f'Validation loss: {valid_loss:.3f}')"
      ],
      "metadata": {
        "colab": {
          "base_uri": "https://localhost:8080/"
        },
        "id": "JIgpdmdcc96f",
        "outputId": "98fb876b-5b23-4cdd-aa8c-069fbf7f22c1"
      },
      "execution_count": 31,
      "outputs": [
        {
          "output_type": "stream",
          "name": "stdout",
          "text": [
            "\n",
            " Epoch1 / 25\n"
          ]
        },
        {
          "output_type": "stream",
          "name": "stderr",
          "text": [
            "100%|██████████| 520/520 [02:13<00:00,  3.88it/s]\n",
            "100%|██████████| 174/174 [00:43<00:00,  3.99it/s]\n"
          ]
        },
        {
          "output_type": "stream",
          "name": "stdout",
          "text": [
            "\n",
            "Training loss: 0.374\n",
            "Validation loss: 0.405\n",
            "\n",
            " Epoch2 / 25\n"
          ]
        },
        {
          "output_type": "stream",
          "name": "stderr",
          "text": [
            "100%|██████████| 520/520 [02:21<00:00,  3.67it/s]\n",
            "100%|██████████| 174/174 [00:46<00:00,  3.77it/s]\n"
          ]
        },
        {
          "output_type": "stream",
          "name": "stdout",
          "text": [
            "\n",
            "Training loss: 0.364\n",
            "Validation loss: 0.351\n",
            "\n",
            " Epoch3 / 25\n"
          ]
        },
        {
          "output_type": "stream",
          "name": "stderr",
          "text": [
            "100%|██████████| 520/520 [02:24<00:00,  3.60it/s]\n",
            "100%|██████████| 174/174 [00:45<00:00,  3.79it/s]\n"
          ]
        },
        {
          "output_type": "stream",
          "name": "stdout",
          "text": [
            "\n",
            "Training loss: 0.340\n",
            "Validation loss: 0.353\n",
            "\n",
            " Epoch4 / 25\n"
          ]
        },
        {
          "output_type": "stream",
          "name": "stderr",
          "text": [
            "100%|██████████| 520/520 [02:24<00:00,  3.59it/s]\n",
            "100%|██████████| 174/174 [00:46<00:00,  3.77it/s]\n"
          ]
        },
        {
          "output_type": "stream",
          "name": "stdout",
          "text": [
            "\n",
            "Training loss: 0.339\n",
            "Validation loss: 0.344\n",
            "\n",
            " Epoch5 / 25\n"
          ]
        },
        {
          "output_type": "stream",
          "name": "stderr",
          "text": [
            "100%|██████████| 520/520 [02:25<00:00,  3.58it/s]\n",
            "100%|██████████| 174/174 [00:46<00:00,  3.77it/s]\n"
          ]
        },
        {
          "output_type": "stream",
          "name": "stdout",
          "text": [
            "\n",
            "Training loss: 0.335\n",
            "Validation loss: 0.344\n",
            "\n",
            " Epoch6 / 25\n"
          ]
        },
        {
          "output_type": "stream",
          "name": "stderr",
          "text": [
            "100%|██████████| 520/520 [02:24<00:00,  3.59it/s]\n",
            "100%|██████████| 174/174 [00:45<00:00,  3.79it/s]\n"
          ]
        },
        {
          "output_type": "stream",
          "name": "stdout",
          "text": [
            "\n",
            "Training loss: 0.322\n",
            "Validation loss: 0.358\n",
            "\n",
            " Epoch7 / 25\n"
          ]
        },
        {
          "output_type": "stream",
          "name": "stderr",
          "text": [
            "100%|██████████| 520/520 [02:24<00:00,  3.60it/s]\n",
            "100%|██████████| 174/174 [00:45<00:00,  3.79it/s]\n"
          ]
        },
        {
          "output_type": "stream",
          "name": "stdout",
          "text": [
            "\n",
            "Training loss: 0.324\n",
            "Validation loss: 0.354\n",
            "\n",
            " Epoch8 / 25\n"
          ]
        },
        {
          "output_type": "stream",
          "name": "stderr",
          "text": [
            "100%|██████████| 520/520 [02:24<00:00,  3.59it/s]\n",
            "100%|██████████| 174/174 [00:46<00:00,  3.78it/s]\n"
          ]
        },
        {
          "output_type": "stream",
          "name": "stdout",
          "text": [
            "\n",
            "Training loss: 0.330\n",
            "Validation loss: 0.330\n",
            "\n",
            " Epoch9 / 25\n"
          ]
        },
        {
          "output_type": "stream",
          "name": "stderr",
          "text": [
            "100%|██████████| 520/520 [02:24<00:00,  3.59it/s]\n",
            "100%|██████████| 174/174 [00:46<00:00,  3.77it/s]\n"
          ]
        },
        {
          "output_type": "stream",
          "name": "stdout",
          "text": [
            "\n",
            "Training loss: 0.316\n",
            "Validation loss: 0.439\n",
            "\n",
            " Epoch10 / 25\n"
          ]
        },
        {
          "output_type": "stream",
          "name": "stderr",
          "text": [
            "100%|██████████| 520/520 [02:24<00:00,  3.60it/s]\n",
            "100%|██████████| 174/174 [00:46<00:00,  3.78it/s]\n"
          ]
        },
        {
          "output_type": "stream",
          "name": "stdout",
          "text": [
            "\n",
            "Training loss: 0.315\n",
            "Validation loss: 0.345\n",
            "\n",
            " Epoch11 / 25\n"
          ]
        },
        {
          "output_type": "stream",
          "name": "stderr",
          "text": [
            "100%|██████████| 520/520 [02:24<00:00,  3.60it/s]\n",
            "100%|██████████| 174/174 [00:45<00:00,  3.79it/s]\n"
          ]
        },
        {
          "output_type": "stream",
          "name": "stdout",
          "text": [
            "\n",
            "Training loss: 0.317\n",
            "Validation loss: 0.353\n",
            "\n",
            " Epoch12 / 25\n"
          ]
        },
        {
          "output_type": "stream",
          "name": "stderr",
          "text": [
            "100%|██████████| 520/520 [02:24<00:00,  3.59it/s]\n",
            "100%|██████████| 174/174 [00:46<00:00,  3.78it/s]\n"
          ]
        },
        {
          "output_type": "stream",
          "name": "stdout",
          "text": [
            "\n",
            "Training loss: 0.312\n",
            "Validation loss: 0.333\n",
            "\n",
            " Epoch13 / 25\n"
          ]
        },
        {
          "output_type": "stream",
          "name": "stderr",
          "text": [
            "100%|██████████| 520/520 [02:24<00:00,  3.60it/s]\n",
            "100%|██████████| 174/174 [00:45<00:00,  3.80it/s]\n"
          ]
        },
        {
          "output_type": "stream",
          "name": "stdout",
          "text": [
            "\n",
            "Training loss: 0.306\n",
            "Validation loss: 0.326\n",
            "\n",
            " Epoch14 / 25\n"
          ]
        },
        {
          "output_type": "stream",
          "name": "stderr",
          "text": [
            "100%|██████████| 520/520 [02:25<00:00,  3.58it/s]\n",
            "100%|██████████| 174/174 [00:45<00:00,  3.80it/s]\n"
          ]
        },
        {
          "output_type": "stream",
          "name": "stdout",
          "text": [
            "\n",
            "Training loss: 0.302\n",
            "Validation loss: 0.338\n",
            "\n",
            " Epoch15 / 25\n"
          ]
        },
        {
          "output_type": "stream",
          "name": "stderr",
          "text": [
            "100%|██████████| 520/520 [02:24<00:00,  3.59it/s]\n",
            "100%|██████████| 174/174 [00:46<00:00,  3.77it/s]\n"
          ]
        },
        {
          "output_type": "stream",
          "name": "stdout",
          "text": [
            "\n",
            "Training loss: 0.300\n",
            "Validation loss: 0.392\n",
            "\n",
            " Epoch16 / 25\n"
          ]
        },
        {
          "output_type": "stream",
          "name": "stderr",
          "text": [
            "100%|██████████| 520/520 [02:25<00:00,  3.58it/s]\n",
            "100%|██████████| 174/174 [00:46<00:00,  3.77it/s]\n"
          ]
        },
        {
          "output_type": "stream",
          "name": "stdout",
          "text": [
            "\n",
            "Training loss: 0.297\n",
            "Validation loss: 0.379\n",
            "\n",
            " Epoch17 / 25\n"
          ]
        },
        {
          "output_type": "stream",
          "name": "stderr",
          "text": [
            "100%|██████████| 520/520 [02:24<00:00,  3.59it/s]\n",
            "100%|██████████| 174/174 [00:45<00:00,  3.79it/s]\n"
          ]
        },
        {
          "output_type": "stream",
          "name": "stdout",
          "text": [
            "\n",
            "Training loss: 0.304\n",
            "Validation loss: 0.322\n",
            "\n",
            " Epoch18 / 25\n"
          ]
        },
        {
          "output_type": "stream",
          "name": "stderr",
          "text": [
            "100%|██████████| 520/520 [02:24<00:00,  3.59it/s]\n",
            "100%|██████████| 174/174 [00:46<00:00,  3.77it/s]\n"
          ]
        },
        {
          "output_type": "stream",
          "name": "stdout",
          "text": [
            "\n",
            "Training loss: 0.305\n",
            "Validation loss: 0.324\n",
            "\n",
            " Epoch19 / 25\n"
          ]
        },
        {
          "output_type": "stream",
          "name": "stderr",
          "text": [
            "100%|██████████| 520/520 [02:24<00:00,  3.59it/s]\n",
            "100%|██████████| 174/174 [00:45<00:00,  3.79it/s]\n"
          ]
        },
        {
          "output_type": "stream",
          "name": "stdout",
          "text": [
            "\n",
            "Training loss: 0.299\n",
            "Validation loss: 0.317\n",
            "\n",
            " Epoch20 / 25\n"
          ]
        },
        {
          "output_type": "stream",
          "name": "stderr",
          "text": [
            "100%|██████████| 520/520 [02:24<00:00,  3.59it/s]\n",
            "100%|██████████| 174/174 [00:46<00:00,  3.77it/s]\n"
          ]
        },
        {
          "output_type": "stream",
          "name": "stdout",
          "text": [
            "\n",
            "Training loss: 0.295\n",
            "Validation loss: 0.349\n",
            "\n",
            " Epoch21 / 25\n"
          ]
        },
        {
          "output_type": "stream",
          "name": "stderr",
          "text": [
            "100%|██████████| 520/520 [02:25<00:00,  3.58it/s]\n",
            "100%|██████████| 174/174 [00:46<00:00,  3.78it/s]\n"
          ]
        },
        {
          "output_type": "stream",
          "name": "stdout",
          "text": [
            "\n",
            "Training loss: 0.296\n",
            "Validation loss: 0.345\n",
            "\n",
            " Epoch22 / 25\n"
          ]
        },
        {
          "output_type": "stream",
          "name": "stderr",
          "text": [
            "100%|██████████| 520/520 [02:24<00:00,  3.59it/s]\n",
            "100%|██████████| 174/174 [00:46<00:00,  3.78it/s]\n"
          ]
        },
        {
          "output_type": "stream",
          "name": "stdout",
          "text": [
            "\n",
            "Training loss: 0.292\n",
            "Validation loss: 0.406\n",
            "\n",
            " Epoch23 / 25\n"
          ]
        },
        {
          "output_type": "stream",
          "name": "stderr",
          "text": [
            "100%|██████████| 520/520 [02:25<00:00,  3.58it/s]\n",
            "100%|██████████| 174/174 [00:46<00:00,  3.77it/s]\n"
          ]
        },
        {
          "output_type": "stream",
          "name": "stdout",
          "text": [
            "\n",
            "Training loss: 0.296\n",
            "Validation loss: 0.317\n",
            "\n",
            " Epoch24 / 25\n"
          ]
        },
        {
          "output_type": "stream",
          "name": "stderr",
          "text": [
            "100%|██████████| 520/520 [02:24<00:00,  3.59it/s]\n",
            "100%|██████████| 174/174 [00:45<00:00,  3.79it/s]\n"
          ]
        },
        {
          "output_type": "stream",
          "name": "stdout",
          "text": [
            "\n",
            "Training loss: 0.290\n",
            "Validation loss: 0.323\n",
            "\n",
            " Epoch25 / 25\n"
          ]
        },
        {
          "output_type": "stream",
          "name": "stderr",
          "text": [
            "100%|██████████| 520/520 [02:24<00:00,  3.60it/s]\n",
            "100%|██████████| 174/174 [00:46<00:00,  3.77it/s]"
          ]
        },
        {
          "output_type": "stream",
          "name": "stdout",
          "text": [
            "\n",
            "Training loss: 0.293\n",
            "Validation loss: 0.324\n"
          ]
        },
        {
          "output_type": "stream",
          "name": "stderr",
          "text": [
            "\n"
          ]
        }
      ]
    },
    {
      "cell_type": "markdown",
      "source": [
        "### Тест"
      ],
      "metadata": {
        "id": "igEXYw-8JAOg"
      }
    },
    {
      "cell_type": "code",
      "source": [
        "# Загрузим лучшие веса для модели\n",
        "model.load_state_dict(torch.load('/content/drive/MyDrive/media108.ru/Модели/bert_saved_weights.pt'))"
      ],
      "metadata": {
        "colab": {
          "base_uri": "https://localhost:8080/"
        },
        "id": "SWRhqnzh0qgZ",
        "outputId": "98e1c45a-6363-47ff-bf32-5a644534b0d3"
      },
      "execution_count": 32,
      "outputs": [
        {
          "output_type": "execute_result",
          "data": {
            "text/plain": [
              "<All keys matched successfully>"
            ]
          },
          "metadata": {},
          "execution_count": 32
        }
      ]
    },
    {
      "cell_type": "code",
      "source": [
        "# Видеопамяти не хватает для хранения всего, что в неё передано, поэтому разобьём тестовые данные на части и будем отправлять на предсказание по частям\n",
        "import gc\n",
        "gc.collect()\n",
        "torch.cuda.empty_cache()\n",
        "\n",
        "list_seq  = np.array_split(test_seq, 50)\n",
        "list_mask = np.array_split(test_mask, 50)\n",
        "\n",
        "predictions = []\n",
        "for num, elem in enumerate(list_seq):\n",
        "  with torch.no_grad():\n",
        "    preds = model(elem.to(device), list_mask[num].to(device))\n",
        "    predictions.append(preds.detach().cpu().numpy())"
      ],
      "metadata": {
        "id": "2FM5D3glE4YI"
      },
      "execution_count": 33,
      "outputs": []
    },
    {
      "cell_type": "code",
      "source": [
        "# Преобразуем полученные предсказания в один список, нормализуем данные и запишем в отдельный столбец\n",
        "flat_preds = [item[1] for sublist in predictions for item in sublist]\n",
        "flat_preds = (flat_preds - min(flat_preds)) / (max(flat_preds) - min(flat_preds))\n",
        "test_df['confidence'] = flat_preds\n",
        "# На выходе мы получаем значение с плавающей точкой от 0 до 1, меняя порог, мы сможем предсказать финальный класс"
      ],
      "metadata": {
        "id": "eiHuIXtN1Npr"
      },
      "execution_count": 34,
      "outputs": []
    },
    {
      "cell_type": "code",
      "source": [
        "# Порог 0.95\n",
        "from sklearn.metrics import classification_report\n",
        "test_df['Предсказание класса'] = test_df['confidence'].apply(lambda x: 1 if x > 0.95 else 0)\n",
        "print(classification_report(test_df['Класс'], test_df['Предсказание класса']))"
      ],
      "metadata": {
        "colab": {
          "base_uri": "https://localhost:8080/"
        },
        "id": "THycGY8h1q-M",
        "outputId": "411fec4e-b714-430a-f012-f6976d9fbad9"
      },
      "execution_count": 35,
      "outputs": [
        {
          "output_type": "stream",
          "name": "stdout",
          "text": [
            "              precision    recall  f1-score   support\n",
            "\n",
            "           0       0.88      0.92      0.90       924\n",
            "           1       0.83      0.76      0.79       461\n",
            "\n",
            "    accuracy                           0.87      1385\n",
            "   macro avg       0.86      0.84      0.85      1385\n",
            "weighted avg       0.86      0.87      0.86      1385\n",
            "\n"
          ]
        }
      ]
    },
    {
      "cell_type": "code",
      "source": [
        "test_df"
      ],
      "metadata": {
        "colab": {
          "base_uri": "https://localhost:8080/",
          "height": 1000
        },
        "id": "QAnwC6pXuiLy",
        "outputId": "2ee80eb6-b133-4652-f253-f20e389ab1d5"
      },
      "execution_count": 36,
      "outputs": [
        {
          "output_type": "execute_result",
          "data": {
            "text/plain": [
              "                                                                                                                                                                                                                                                                                                                                                                                                                                                                                                                                                                                                                                                                                                                                                                                                                                                                                                                                                                                                   Текст whisper-транскрибации записи звонка  \\\n",
              "3822  Клубный город на реке Примавая. Меня зовут Светлана. Здравствуйте. Здравствуйте. А вот как же комплекс интересует? Как обращаться к вам? Марина Алексеевна. Марина Алексеевна, вас менеджер проконсультирует подробнее. Активность на ли проекте не расскажете? Ну, как бы я ищу в интернете. Спасибо. Сыграю вас. Слух, разговор может быть записан. Марина Алексеевна, добрый день. Меня зовут Павел. Клубный город на реке Примавера. Что может быть полезен? Срок сдачи, стоимость, есть или нет отделка до метро, доступность, шаговая какая, как бы все это. Значит, давайте с местоположения начнем. Это район Покровская-Стрешнова, северо-западный административный округ. Территория себя представляет полуостров, и в центре этого полуострова находится станция метро «Спартак» Паганск-Краснопресненская линия. То есть спешная доступность до места застройки от 7 до 10 минут в зависимости от выбранного корпуса. В целом в проекте несколько очередей, на сегодняшний момент доступно две очереди. Ближайшие сроки...   \n",
              "6100                                                                                                                                                                                                                                                                                                                                                                                                                                                                                                                                                                                                                                                                                                                                                                                                                                                                                                                                                                                                                           Здравствуйте.   \n",
              "2654  Здравствуйте, вы позвонили в группу компании «Картроф». Благодарим вас за звонок. Пожалуйста, дождитесь ответа оператора. Я не помню, какой номер объекта. 92 помню, а номер квартиры... 237, что ли? Добрый день, живой комплекс «Хедлайнер». Меня зовут Любовь. Любовь, подскажите, пожалуйста, как мне записаться на просмотр объекта? Вы уже приобрели квартиру, верно? Да. Так, оставайтесь на линии. Соединяю вас с отделом выдачи ключей. Как могу... Ну, там не выдача ключей. Там у меня еще он не сдан. Ключи еще не выдают. Просто мне надо посмотреть объект. Ну, в общем-то, он еще не достроен. Так, я уточню информацию. Уточню информацию, минуту. Хорошо. По-моему, 237. Почему у меня 237? Пожалуйста. Прошу. Михаил, добрый день. Меня зовут Антон, слушаю вас. Чем могу помочь, Михаил? Антон, подскажите, а мне бы посмотреть объект. Сказали, что можно записаться на просмотр. Так, какой объект? Что хотят посмотреть? Квартиру свою, которую приобрел. Только единственное, я сейчас вспоминаю, какой там ...   \n",
              "3308  Добрый вечер, клиент Андрей, комплекс Римовера рассматривает покупку однокомнатной квартиры бюджетом до 27 миллионов. Покупка ближайшие 3 месяца проживает Москва, последняя цифра номера 9245. Соединяю? Да, Андрей, да, комплекс клиента? Да, да. Спасибо, создайте. Алло, Андрей, добрый день, меня зовут Шилиан. Добрый день. Да, коллега с вами соединилась, сказала, что вы рассматриваете наш проект Римовера в качестве покупки и заинтересовались однокомнатной квартирой. Да, да, да, есть такое. Отлично, скажите, пожалуйста, вы хотели бы к нам в офис подъехать уже пообщаться, или какая-то информация о новой помещении вам нужна по поводу покупки? Да, да, да, конечно. Я уже подъехал. Я уже подъехал. Я уже подъехал. Я уже подъехал. Я уже подъехал. Я уже подъехал. А вы что думаете по проекту? Пока я рассматриваю несколько вариантов. Думаю, ваш посмотрел еще на сайте пока, очень красиво. Есть несколько вопросов. На сайте посмотрел? Да. Даже квартиры несколько, несколько этих посмотрел. Вот, как...   \n",
              "4256  Клубный город на реке Примавера. Меня зовут Татьяна. Здравствуйте. Добрый день. Клиента зовут Алин. Интересует однокомнатная квартира бюджетом 19 миллионов в клубном городе на реке Примавера. Соединяю вас? Соединяйте. Алин, здравствуйте. Отдел продаж. Оставайтесь, пожалуйста, на линии. Соединяюсь с менеджером. Да. Обращаем ваше внимание, что в целях контроля качества услуг разговор может быть записан. Обращаем ваше внимание... Спасибо. Алло. Алин, добрый день. Меня зовут Юлия. Менеджер проекта «Клубный город на реке Примавера». Если могу, будь полезна. Добрый. Значит, ваши коллеги мне предложили в вашем комплексе жилье. Вот хотел несколько вопросов задать. И переключу на вас. С удовольствием, что подскажу. Алин, какие вопросы? Да. Вот вопрос, значит, по ипотеке. Насколько миллионов мне обойдется однокомнатная квартира и сколько этажей в доме? Отделка, безотделки, какие там планировки, возможно ли свободная планировка? Да. Алин, тогда смотрите, прям по вопросам сразу пройдемся. У н...   \n",
              "...                                                                                                                                                                                                                                                                                                                                                                                                                                                                                                                                                                                                                                                                                                                                                                                                                                                                                                                                                                                                                                      ...   \n",
              "469   Алло. Алло, здравствуйте. Да, добрый день. У нас была приемка 2 апреля. Прошло больше полтора месяца, скоро два месяца. У нас ничего не делается в квартире, вот эти технические всякие исправления. А номер квартиры сколько? 194. Сейчас, минуточку, глянем. Я уже несколько раз звонила. Почему ничего не делается, я не понимаю. Ну, пока в работе с подрядчиком. Пока? В смысле пока? Почти два месяца прошло. Подождите, ну, смотри, там зависит от того, что... Я вам не могу ответить, да как подрядчик сделает, соответственно, он передает... А когда он сделает? Кто должен с подрядчиком говорить? Дайте номер тогда подрядчика или кого. Когда до нас зайдет очередь? Там столько работы, там и красить надо, там 7 стеклотахеток... Вы вчера звонили, насколько я помню, по вашей квартире. Мы не перезвонили. Мы потому что передали подрядчику и сказали, что она в работе. Ничего не в работе, ничего не делается, даже никто не заглядывал даже. Вообще ничего не делается. Где в работе? Вы понимаете, дайте ном...   \n",
              "3840                                                                                                                                                                                                                                                                                                                                                                        Главный госпиталь Белавыра, Наталья, здравствуйте. Это рефлекшн, на линии клиент не представился, интересует рассматривать трёхкомнатную квартиру, также не представился, не уточнял по бюджету. Консультация менеджера. Соединяйте. Отлично вам послали, мы поможем. Прencedhall.ru Примавера клубный imminent. company то они уже с нами соединяют. А вы кто? Мы представители застройщика, который продает премиальный комплекс Примавера, который находится в Покровском Срешневе на первой набережной Дороговой линии. Понятно. А вы, представители застройщика, как называетесь? Мы компания Метриум. Хорошо. Спасибо большое. До свидания. Так, а я могу?   \n",
              "6086                                                                                                                                                                                                                                                                                                                                                                                                                                                                                                                                                                                                                                                                                                                                                                                                                                                                                                                                                                                                                     Здравствуйте! Вы...   \n",
              "5885  Здравствуйте! Вы позвонили в компанию Эмергрупп. Пожалуйста, дождитесь ответа нашего специалиста. Обращаем ваше внимание, что в целях улучшения качества обслуживания клиентов все разговоры записываются. Продолжая разговор, вы соглашаетесь на обработку ваших персональных данных. В компании Эмергрупп, Татьяна, здравствуйте! Здравствуйте! Меня жилой комплекс Павелецкой, как вас интересует? Вас интересует покупка жилой недвижимости, правильно? Да, да. Хорошо, я вас переключу на менеджера. Как могу представить? Дарья. Дарья, переключаю. По окончании разговора, пожалуйста, оцените качество обслуживания. Дарья, здравствуйте! Меня зовут Марина, менеджер отдела продаж в Леское Сити. Чем могу быть полезна? Здравствуйте! Я хотела бы квартиру приобрести. Меня интересуют подробности и, по-моему, однокомнатная квартира. Однокомнатная квартира. Прекрасно. Дарья, ожидайте время для общения, чтобы мы были предметно с вами обсудили. Да. Хорошо. Вы рассматриваете однокомнатную квартиру. А вообще для...   \n",
              "338                                                                                                                                                                                                                                                                                                                                                                                                                                                                                                                                                                                                                                                                                                                                                                                                                                    Хедлайнер, Татьяна. Здравствуйте. Здравствуйте, скажите пожалуйста, мне нужна труба 273 на 5. Наверное ошиблись, не туда позвонили. Вы позвонили в отдел продаж, недвижимость. Я поняла, до свидания.   \n",
              "\n",
              "      Класс  confidence  Предсказание класса  \n",
              "3822      0    0.973555                    1  \n",
              "6100      0    0.396917                    0  \n",
              "2654      0    0.775183                    0  \n",
              "3308      1    0.982282                    1  \n",
              "4256      0    0.984821                    1  \n",
              "...     ...         ...                  ...  \n",
              "469       0    0.423434                    0  \n",
              "3840      0    0.856710                    0  \n",
              "6086      0    0.388865                    0  \n",
              "5885      1    0.999740                    1  \n",
              "338       0    0.393581                    0  \n",
              "\n",
              "[1385 rows x 4 columns]"
            ],
            "text/html": [
              "\n",
              "  <div id=\"df-589242f0-276e-47a3-b7b5-7c0666e7791f\" class=\"colab-df-container\">\n",
              "    <div>\n",
              "<style scoped>\n",
              "    .dataframe tbody tr th:only-of-type {\n",
              "        vertical-align: middle;\n",
              "    }\n",
              "\n",
              "    .dataframe tbody tr th {\n",
              "        vertical-align: top;\n",
              "    }\n",
              "\n",
              "    .dataframe thead th {\n",
              "        text-align: right;\n",
              "    }\n",
              "</style>\n",
              "<table border=\"1\" class=\"dataframe\">\n",
              "  <thead>\n",
              "    <tr style=\"text-align: right;\">\n",
              "      <th></th>\n",
              "      <th>Текст whisper-транскрибации записи звонка</th>\n",
              "      <th>Класс</th>\n",
              "      <th>confidence</th>\n",
              "      <th>Предсказание класса</th>\n",
              "    </tr>\n",
              "  </thead>\n",
              "  <tbody>\n",
              "    <tr>\n",
              "      <th>3822</th>\n",
              "      <td>Клубный город на реке Примавая. Меня зовут Светлана. Здравствуйте. Здравствуйте. А вот как же комплекс интересует? Как обращаться к вам? Марина Алексеевна. Марина Алексеевна, вас менеджер проконсультирует подробнее. Активность на ли проекте не расскажете? Ну, как бы я ищу в интернете. Спасибо. Сыграю вас. Слух, разговор может быть записан. Марина Алексеевна, добрый день. Меня зовут Павел. Клубный город на реке Примавера. Что может быть полезен? Срок сдачи, стоимость, есть или нет отделка до метро, доступность, шаговая какая, как бы все это. Значит, давайте с местоположения начнем. Это район Покровская-Стрешнова, северо-западный административный округ. Территория себя представляет полуостров, и в центре этого полуострова находится станция метро «Спартак» Паганск-Краснопресненская линия. То есть спешная доступность до места застройки от 7 до 10 минут в зависимости от выбранного корпуса. В целом в проекте несколько очередей, на сегодняшний момент доступно две очереди. Ближайшие сроки...</td>\n",
              "      <td>0</td>\n",
              "      <td>0.973555</td>\n",
              "      <td>1</td>\n",
              "    </tr>\n",
              "    <tr>\n",
              "      <th>6100</th>\n",
              "      <td>Здравствуйте.</td>\n",
              "      <td>0</td>\n",
              "      <td>0.396917</td>\n",
              "      <td>0</td>\n",
              "    </tr>\n",
              "    <tr>\n",
              "      <th>2654</th>\n",
              "      <td>Здравствуйте, вы позвонили в группу компании «Картроф». Благодарим вас за звонок. Пожалуйста, дождитесь ответа оператора. Я не помню, какой номер объекта. 92 помню, а номер квартиры... 237, что ли? Добрый день, живой комплекс «Хедлайнер». Меня зовут Любовь. Любовь, подскажите, пожалуйста, как мне записаться на просмотр объекта? Вы уже приобрели квартиру, верно? Да. Так, оставайтесь на линии. Соединяю вас с отделом выдачи ключей. Как могу... Ну, там не выдача ключей. Там у меня еще он не сдан. Ключи еще не выдают. Просто мне надо посмотреть объект. Ну, в общем-то, он еще не достроен. Так, я уточню информацию. Уточню информацию, минуту. Хорошо. По-моему, 237. Почему у меня 237? Пожалуйста. Прошу. Михаил, добрый день. Меня зовут Антон, слушаю вас. Чем могу помочь, Михаил? Антон, подскажите, а мне бы посмотреть объект. Сказали, что можно записаться на просмотр. Так, какой объект? Что хотят посмотреть? Квартиру свою, которую приобрел. Только единственное, я сейчас вспоминаю, какой там ...</td>\n",
              "      <td>0</td>\n",
              "      <td>0.775183</td>\n",
              "      <td>0</td>\n",
              "    </tr>\n",
              "    <tr>\n",
              "      <th>3308</th>\n",
              "      <td>Добрый вечер, клиент Андрей, комплекс Римовера рассматривает покупку однокомнатной квартиры бюджетом до 27 миллионов. Покупка ближайшие 3 месяца проживает Москва, последняя цифра номера 9245. Соединяю? Да, Андрей, да, комплекс клиента? Да, да. Спасибо, создайте. Алло, Андрей, добрый день, меня зовут Шилиан. Добрый день. Да, коллега с вами соединилась, сказала, что вы рассматриваете наш проект Римовера в качестве покупки и заинтересовались однокомнатной квартирой. Да, да, да, есть такое. Отлично, скажите, пожалуйста, вы хотели бы к нам в офис подъехать уже пообщаться, или какая-то информация о новой помещении вам нужна по поводу покупки? Да, да, да, конечно. Я уже подъехал. Я уже подъехал. Я уже подъехал. Я уже подъехал. Я уже подъехал. Я уже подъехал. А вы что думаете по проекту? Пока я рассматриваю несколько вариантов. Думаю, ваш посмотрел еще на сайте пока, очень красиво. Есть несколько вопросов. На сайте посмотрел? Да. Даже квартиры несколько, несколько этих посмотрел. Вот, как...</td>\n",
              "      <td>1</td>\n",
              "      <td>0.982282</td>\n",
              "      <td>1</td>\n",
              "    </tr>\n",
              "    <tr>\n",
              "      <th>4256</th>\n",
              "      <td>Клубный город на реке Примавера. Меня зовут Татьяна. Здравствуйте. Добрый день. Клиента зовут Алин. Интересует однокомнатная квартира бюджетом 19 миллионов в клубном городе на реке Примавера. Соединяю вас? Соединяйте. Алин, здравствуйте. Отдел продаж. Оставайтесь, пожалуйста, на линии. Соединяюсь с менеджером. Да. Обращаем ваше внимание, что в целях контроля качества услуг разговор может быть записан. Обращаем ваше внимание... Спасибо. Алло. Алин, добрый день. Меня зовут Юлия. Менеджер проекта «Клубный город на реке Примавера». Если могу, будь полезна. Добрый. Значит, ваши коллеги мне предложили в вашем комплексе жилье. Вот хотел несколько вопросов задать. И переключу на вас. С удовольствием, что подскажу. Алин, какие вопросы? Да. Вот вопрос, значит, по ипотеке. Насколько миллионов мне обойдется однокомнатная квартира и сколько этажей в доме? Отделка, безотделки, какие там планировки, возможно ли свободная планировка? Да. Алин, тогда смотрите, прям по вопросам сразу пройдемся. У н...</td>\n",
              "      <td>0</td>\n",
              "      <td>0.984821</td>\n",
              "      <td>1</td>\n",
              "    </tr>\n",
              "    <tr>\n",
              "      <th>...</th>\n",
              "      <td>...</td>\n",
              "      <td>...</td>\n",
              "      <td>...</td>\n",
              "      <td>...</td>\n",
              "    </tr>\n",
              "    <tr>\n",
              "      <th>469</th>\n",
              "      <td>Алло. Алло, здравствуйте. Да, добрый день. У нас была приемка 2 апреля. Прошло больше полтора месяца, скоро два месяца. У нас ничего не делается в квартире, вот эти технические всякие исправления. А номер квартиры сколько? 194. Сейчас, минуточку, глянем. Я уже несколько раз звонила. Почему ничего не делается, я не понимаю. Ну, пока в работе с подрядчиком. Пока? В смысле пока? Почти два месяца прошло. Подождите, ну, смотри, там зависит от того, что... Я вам не могу ответить, да как подрядчик сделает, соответственно, он передает... А когда он сделает? Кто должен с подрядчиком говорить? Дайте номер тогда подрядчика или кого. Когда до нас зайдет очередь? Там столько работы, там и красить надо, там 7 стеклотахеток... Вы вчера звонили, насколько я помню, по вашей квартире. Мы не перезвонили. Мы потому что передали подрядчику и сказали, что она в работе. Ничего не в работе, ничего не делается, даже никто не заглядывал даже. Вообще ничего не делается. Где в работе? Вы понимаете, дайте ном...</td>\n",
              "      <td>0</td>\n",
              "      <td>0.423434</td>\n",
              "      <td>0</td>\n",
              "    </tr>\n",
              "    <tr>\n",
              "      <th>3840</th>\n",
              "      <td>Главный госпиталь Белавыра, Наталья, здравствуйте. Это рефлекшн, на линии клиент не представился, интересует рассматривать трёхкомнатную квартиру, также не представился, не уточнял по бюджету. Консультация менеджера. Соединяйте. Отлично вам послали, мы поможем. Прencedhall.ru Примавера клубный imminent. company то они уже с нами соединяют. А вы кто? Мы представители застройщика, который продает премиальный комплекс Примавера, который находится в Покровском Срешневе на первой набережной Дороговой линии. Понятно. А вы, представители застройщика, как называетесь? Мы компания Метриум. Хорошо. Спасибо большое. До свидания. Так, а я могу?</td>\n",
              "      <td>0</td>\n",
              "      <td>0.856710</td>\n",
              "      <td>0</td>\n",
              "    </tr>\n",
              "    <tr>\n",
              "      <th>6086</th>\n",
              "      <td>Здравствуйте! Вы...</td>\n",
              "      <td>0</td>\n",
              "      <td>0.388865</td>\n",
              "      <td>0</td>\n",
              "    </tr>\n",
              "    <tr>\n",
              "      <th>5885</th>\n",
              "      <td>Здравствуйте! Вы позвонили в компанию Эмергрупп. Пожалуйста, дождитесь ответа нашего специалиста. Обращаем ваше внимание, что в целях улучшения качества обслуживания клиентов все разговоры записываются. Продолжая разговор, вы соглашаетесь на обработку ваших персональных данных. В компании Эмергрупп, Татьяна, здравствуйте! Здравствуйте! Меня жилой комплекс Павелецкой, как вас интересует? Вас интересует покупка жилой недвижимости, правильно? Да, да. Хорошо, я вас переключу на менеджера. Как могу представить? Дарья. Дарья, переключаю. По окончании разговора, пожалуйста, оцените качество обслуживания. Дарья, здравствуйте! Меня зовут Марина, менеджер отдела продаж в Леское Сити. Чем могу быть полезна? Здравствуйте! Я хотела бы квартиру приобрести. Меня интересуют подробности и, по-моему, однокомнатная квартира. Однокомнатная квартира. Прекрасно. Дарья, ожидайте время для общения, чтобы мы были предметно с вами обсудили. Да. Хорошо. Вы рассматриваете однокомнатную квартиру. А вообще для...</td>\n",
              "      <td>1</td>\n",
              "      <td>0.999740</td>\n",
              "      <td>1</td>\n",
              "    </tr>\n",
              "    <tr>\n",
              "      <th>338</th>\n",
              "      <td>Хедлайнер, Татьяна. Здравствуйте. Здравствуйте, скажите пожалуйста, мне нужна труба 273 на 5. Наверное ошиблись, не туда позвонили. Вы позвонили в отдел продаж, недвижимость. Я поняла, до свидания.</td>\n",
              "      <td>0</td>\n",
              "      <td>0.393581</td>\n",
              "      <td>0</td>\n",
              "    </tr>\n",
              "  </tbody>\n",
              "</table>\n",
              "<p>1385 rows × 4 columns</p>\n",
              "</div>\n",
              "    <div class=\"colab-df-buttons\">\n",
              "\n",
              "  <div class=\"colab-df-container\">\n",
              "    <button class=\"colab-df-convert\" onclick=\"convertToInteractive('df-589242f0-276e-47a3-b7b5-7c0666e7791f')\"\n",
              "            title=\"Convert this dataframe to an interactive table.\"\n",
              "            style=\"display:none;\">\n",
              "\n",
              "  <svg xmlns=\"http://www.w3.org/2000/svg\" height=\"24px\" viewBox=\"0 -960 960 960\">\n",
              "    <path d=\"M120-120v-720h720v720H120Zm60-500h600v-160H180v160Zm220 220h160v-160H400v160Zm0 220h160v-160H400v160ZM180-400h160v-160H180v160Zm440 0h160v-160H620v160ZM180-180h160v-160H180v160Zm440 0h160v-160H620v160Z\"/>\n",
              "  </svg>\n",
              "    </button>\n",
              "\n",
              "  <style>\n",
              "    .colab-df-container {\n",
              "      display:flex;\n",
              "      gap: 12px;\n",
              "    }\n",
              "\n",
              "    .colab-df-convert {\n",
              "      background-color: #E8F0FE;\n",
              "      border: none;\n",
              "      border-radius: 50%;\n",
              "      cursor: pointer;\n",
              "      display: none;\n",
              "      fill: #1967D2;\n",
              "      height: 32px;\n",
              "      padding: 0 0 0 0;\n",
              "      width: 32px;\n",
              "    }\n",
              "\n",
              "    .colab-df-convert:hover {\n",
              "      background-color: #E2EBFA;\n",
              "      box-shadow: 0px 1px 2px rgba(60, 64, 67, 0.3), 0px 1px 3px 1px rgba(60, 64, 67, 0.15);\n",
              "      fill: #174EA6;\n",
              "    }\n",
              "\n",
              "    .colab-df-buttons div {\n",
              "      margin-bottom: 4px;\n",
              "    }\n",
              "\n",
              "    [theme=dark] .colab-df-convert {\n",
              "      background-color: #3B4455;\n",
              "      fill: #D2E3FC;\n",
              "    }\n",
              "\n",
              "    [theme=dark] .colab-df-convert:hover {\n",
              "      background-color: #434B5C;\n",
              "      box-shadow: 0px 1px 3px 1px rgba(0, 0, 0, 0.15);\n",
              "      filter: drop-shadow(0px 1px 2px rgba(0, 0, 0, 0.3));\n",
              "      fill: #FFFFFF;\n",
              "    }\n",
              "  </style>\n",
              "\n",
              "    <script>\n",
              "      const buttonEl =\n",
              "        document.querySelector('#df-589242f0-276e-47a3-b7b5-7c0666e7791f button.colab-df-convert');\n",
              "      buttonEl.style.display =\n",
              "        google.colab.kernel.accessAllowed ? 'block' : 'none';\n",
              "\n",
              "      async function convertToInteractive(key) {\n",
              "        const element = document.querySelector('#df-589242f0-276e-47a3-b7b5-7c0666e7791f');\n",
              "        const dataTable =\n",
              "          await google.colab.kernel.invokeFunction('convertToInteractive',\n",
              "                                                    [key], {});\n",
              "        if (!dataTable) return;\n",
              "\n",
              "        const docLinkHtml = 'Like what you see? Visit the ' +\n",
              "          '<a target=\"_blank\" href=https://colab.research.google.com/notebooks/data_table.ipynb>data table notebook</a>'\n",
              "          + ' to learn more about interactive tables.';\n",
              "        element.innerHTML = '';\n",
              "        dataTable['output_type'] = 'display_data';\n",
              "        await google.colab.output.renderOutput(dataTable, element);\n",
              "        const docLink = document.createElement('div');\n",
              "        docLink.innerHTML = docLinkHtml;\n",
              "        element.appendChild(docLink);\n",
              "      }\n",
              "    </script>\n",
              "  </div>\n",
              "\n",
              "\n",
              "<div id=\"df-e4e6c109-c303-483f-b86f-852f18733018\">\n",
              "  <button class=\"colab-df-quickchart\" onclick=\"quickchart('df-e4e6c109-c303-483f-b86f-852f18733018')\"\n",
              "            title=\"Suggest charts\"\n",
              "            style=\"display:none;\">\n",
              "\n",
              "<svg xmlns=\"http://www.w3.org/2000/svg\" height=\"24px\"viewBox=\"0 0 24 24\"\n",
              "     width=\"24px\">\n",
              "    <g>\n",
              "        <path d=\"M19 3H5c-1.1 0-2 .9-2 2v14c0 1.1.9 2 2 2h14c1.1 0 2-.9 2-2V5c0-1.1-.9-2-2-2zM9 17H7v-7h2v7zm4 0h-2V7h2v10zm4 0h-2v-4h2v4z\"/>\n",
              "    </g>\n",
              "</svg>\n",
              "  </button>\n",
              "\n",
              "<style>\n",
              "  .colab-df-quickchart {\n",
              "      --bg-color: #E8F0FE;\n",
              "      --fill-color: #1967D2;\n",
              "      --hover-bg-color: #E2EBFA;\n",
              "      --hover-fill-color: #174EA6;\n",
              "      --disabled-fill-color: #AAA;\n",
              "      --disabled-bg-color: #DDD;\n",
              "  }\n",
              "\n",
              "  [theme=dark] .colab-df-quickchart {\n",
              "      --bg-color: #3B4455;\n",
              "      --fill-color: #D2E3FC;\n",
              "      --hover-bg-color: #434B5C;\n",
              "      --hover-fill-color: #FFFFFF;\n",
              "      --disabled-bg-color: #3B4455;\n",
              "      --disabled-fill-color: #666;\n",
              "  }\n",
              "\n",
              "  .colab-df-quickchart {\n",
              "    background-color: var(--bg-color);\n",
              "    border: none;\n",
              "    border-radius: 50%;\n",
              "    cursor: pointer;\n",
              "    display: none;\n",
              "    fill: var(--fill-color);\n",
              "    height: 32px;\n",
              "    padding: 0;\n",
              "    width: 32px;\n",
              "  }\n",
              "\n",
              "  .colab-df-quickchart:hover {\n",
              "    background-color: var(--hover-bg-color);\n",
              "    box-shadow: 0 1px 2px rgba(60, 64, 67, 0.3), 0 1px 3px 1px rgba(60, 64, 67, 0.15);\n",
              "    fill: var(--button-hover-fill-color);\n",
              "  }\n",
              "\n",
              "  .colab-df-quickchart-complete:disabled,\n",
              "  .colab-df-quickchart-complete:disabled:hover {\n",
              "    background-color: var(--disabled-bg-color);\n",
              "    fill: var(--disabled-fill-color);\n",
              "    box-shadow: none;\n",
              "  }\n",
              "\n",
              "  .colab-df-spinner {\n",
              "    border: 2px solid var(--fill-color);\n",
              "    border-color: transparent;\n",
              "    border-bottom-color: var(--fill-color);\n",
              "    animation:\n",
              "      spin 1s steps(1) infinite;\n",
              "  }\n",
              "\n",
              "  @keyframes spin {\n",
              "    0% {\n",
              "      border-color: transparent;\n",
              "      border-bottom-color: var(--fill-color);\n",
              "      border-left-color: var(--fill-color);\n",
              "    }\n",
              "    20% {\n",
              "      border-color: transparent;\n",
              "      border-left-color: var(--fill-color);\n",
              "      border-top-color: var(--fill-color);\n",
              "    }\n",
              "    30% {\n",
              "      border-color: transparent;\n",
              "      border-left-color: var(--fill-color);\n",
              "      border-top-color: var(--fill-color);\n",
              "      border-right-color: var(--fill-color);\n",
              "    }\n",
              "    40% {\n",
              "      border-color: transparent;\n",
              "      border-right-color: var(--fill-color);\n",
              "      border-top-color: var(--fill-color);\n",
              "    }\n",
              "    60% {\n",
              "      border-color: transparent;\n",
              "      border-right-color: var(--fill-color);\n",
              "    }\n",
              "    80% {\n",
              "      border-color: transparent;\n",
              "      border-right-color: var(--fill-color);\n",
              "      border-bottom-color: var(--fill-color);\n",
              "    }\n",
              "    90% {\n",
              "      border-color: transparent;\n",
              "      border-bottom-color: var(--fill-color);\n",
              "    }\n",
              "  }\n",
              "</style>\n",
              "\n",
              "  <script>\n",
              "    async function quickchart(key) {\n",
              "      const quickchartButtonEl =\n",
              "        document.querySelector('#' + key + ' button');\n",
              "      quickchartButtonEl.disabled = true;  // To prevent multiple clicks.\n",
              "      quickchartButtonEl.classList.add('colab-df-spinner');\n",
              "      try {\n",
              "        const charts = await google.colab.kernel.invokeFunction(\n",
              "            'suggestCharts', [key], {});\n",
              "      } catch (error) {\n",
              "        console.error('Error during call to suggestCharts:', error);\n",
              "      }\n",
              "      quickchartButtonEl.classList.remove('colab-df-spinner');\n",
              "      quickchartButtonEl.classList.add('colab-df-quickchart-complete');\n",
              "    }\n",
              "    (() => {\n",
              "      let quickchartButtonEl =\n",
              "        document.querySelector('#df-e4e6c109-c303-483f-b86f-852f18733018 button');\n",
              "      quickchartButtonEl.style.display =\n",
              "        google.colab.kernel.accessAllowed ? 'block' : 'none';\n",
              "    })();\n",
              "  </script>\n",
              "</div>\n",
              "    </div>\n",
              "  </div>\n"
            ]
          },
          "metadata": {},
          "execution_count": 36
        }
      ]
    },
    {
      "cell_type": "code",
      "source": [
        "# Порог 0.93\n",
        "test_df['Предсказание класса'] = test_df['confidence'].apply(lambda x: 1 if x > 0.93 else 0)\n",
        "print(classification_report(test_df['Класс'], test_df['Предсказание класса']))"
      ],
      "metadata": {
        "colab": {
          "base_uri": "https://localhost:8080/"
        },
        "id": "vQN-swf72plh",
        "outputId": "c3155215-25ee-41f1-fad6-0fa05502d7e8"
      },
      "execution_count": 37,
      "outputs": [
        {
          "output_type": "stream",
          "name": "stdout",
          "text": [
            "              precision    recall  f1-score   support\n",
            "\n",
            "           0       0.91      0.90      0.90       924\n",
            "           1       0.80      0.81      0.81       461\n",
            "\n",
            "    accuracy                           0.87      1385\n",
            "   macro avg       0.85      0.86      0.85      1385\n",
            "weighted avg       0.87      0.87      0.87      1385\n",
            "\n"
          ]
        }
      ]
    },
    {
      "cell_type": "code",
      "source": [
        "test_df"
      ],
      "metadata": {
        "colab": {
          "base_uri": "https://localhost:8080/",
          "height": 1000
        },
        "id": "SHrGevqFujJg",
        "outputId": "f4d10779-f1c8-4c1c-b1db-e05ce6800546"
      },
      "execution_count": 38,
      "outputs": [
        {
          "output_type": "execute_result",
          "data": {
            "text/plain": [
              "                                                                                                                                                                                                                                                                                                                                                                                                                                                                                                                                                                                                                                                                                                                                                                                                                                                                                                                                                                                                   Текст whisper-транскрибации записи звонка  \\\n",
              "3822  Клубный город на реке Примавая. Меня зовут Светлана. Здравствуйте. Здравствуйте. А вот как же комплекс интересует? Как обращаться к вам? Марина Алексеевна. Марина Алексеевна, вас менеджер проконсультирует подробнее. Активность на ли проекте не расскажете? Ну, как бы я ищу в интернете. Спасибо. Сыграю вас. Слух, разговор может быть записан. Марина Алексеевна, добрый день. Меня зовут Павел. Клубный город на реке Примавера. Что может быть полезен? Срок сдачи, стоимость, есть или нет отделка до метро, доступность, шаговая какая, как бы все это. Значит, давайте с местоположения начнем. Это район Покровская-Стрешнова, северо-западный административный округ. Территория себя представляет полуостров, и в центре этого полуострова находится станция метро «Спартак» Паганск-Краснопресненская линия. То есть спешная доступность до места застройки от 7 до 10 минут в зависимости от выбранного корпуса. В целом в проекте несколько очередей, на сегодняшний момент доступно две очереди. Ближайшие сроки...   \n",
              "6100                                                                                                                                                                                                                                                                                                                                                                                                                                                                                                                                                                                                                                                                                                                                                                                                                                                                                                                                                                                                                           Здравствуйте.   \n",
              "2654  Здравствуйте, вы позвонили в группу компании «Картроф». Благодарим вас за звонок. Пожалуйста, дождитесь ответа оператора. Я не помню, какой номер объекта. 92 помню, а номер квартиры... 237, что ли? Добрый день, живой комплекс «Хедлайнер». Меня зовут Любовь. Любовь, подскажите, пожалуйста, как мне записаться на просмотр объекта? Вы уже приобрели квартиру, верно? Да. Так, оставайтесь на линии. Соединяю вас с отделом выдачи ключей. Как могу... Ну, там не выдача ключей. Там у меня еще он не сдан. Ключи еще не выдают. Просто мне надо посмотреть объект. Ну, в общем-то, он еще не достроен. Так, я уточню информацию. Уточню информацию, минуту. Хорошо. По-моему, 237. Почему у меня 237? Пожалуйста. Прошу. Михаил, добрый день. Меня зовут Антон, слушаю вас. Чем могу помочь, Михаил? Антон, подскажите, а мне бы посмотреть объект. Сказали, что можно записаться на просмотр. Так, какой объект? Что хотят посмотреть? Квартиру свою, которую приобрел. Только единственное, я сейчас вспоминаю, какой там ...   \n",
              "3308  Добрый вечер, клиент Андрей, комплекс Римовера рассматривает покупку однокомнатной квартиры бюджетом до 27 миллионов. Покупка ближайшие 3 месяца проживает Москва, последняя цифра номера 9245. Соединяю? Да, Андрей, да, комплекс клиента? Да, да. Спасибо, создайте. Алло, Андрей, добрый день, меня зовут Шилиан. Добрый день. Да, коллега с вами соединилась, сказала, что вы рассматриваете наш проект Римовера в качестве покупки и заинтересовались однокомнатной квартирой. Да, да, да, есть такое. Отлично, скажите, пожалуйста, вы хотели бы к нам в офис подъехать уже пообщаться, или какая-то информация о новой помещении вам нужна по поводу покупки? Да, да, да, конечно. Я уже подъехал. Я уже подъехал. Я уже подъехал. Я уже подъехал. Я уже подъехал. Я уже подъехал. А вы что думаете по проекту? Пока я рассматриваю несколько вариантов. Думаю, ваш посмотрел еще на сайте пока, очень красиво. Есть несколько вопросов. На сайте посмотрел? Да. Даже квартиры несколько, несколько этих посмотрел. Вот, как...   \n",
              "4256  Клубный город на реке Примавера. Меня зовут Татьяна. Здравствуйте. Добрый день. Клиента зовут Алин. Интересует однокомнатная квартира бюджетом 19 миллионов в клубном городе на реке Примавера. Соединяю вас? Соединяйте. Алин, здравствуйте. Отдел продаж. Оставайтесь, пожалуйста, на линии. Соединяюсь с менеджером. Да. Обращаем ваше внимание, что в целях контроля качества услуг разговор может быть записан. Обращаем ваше внимание... Спасибо. Алло. Алин, добрый день. Меня зовут Юлия. Менеджер проекта «Клубный город на реке Примавера». Если могу, будь полезна. Добрый. Значит, ваши коллеги мне предложили в вашем комплексе жилье. Вот хотел несколько вопросов задать. И переключу на вас. С удовольствием, что подскажу. Алин, какие вопросы? Да. Вот вопрос, значит, по ипотеке. Насколько миллионов мне обойдется однокомнатная квартира и сколько этажей в доме? Отделка, безотделки, какие там планировки, возможно ли свободная планировка? Да. Алин, тогда смотрите, прям по вопросам сразу пройдемся. У н...   \n",
              "...                                                                                                                                                                                                                                                                                                                                                                                                                                                                                                                                                                                                                                                                                                                                                                                                                                                                                                                                                                                                                                      ...   \n",
              "469   Алло. Алло, здравствуйте. Да, добрый день. У нас была приемка 2 апреля. Прошло больше полтора месяца, скоро два месяца. У нас ничего не делается в квартире, вот эти технические всякие исправления. А номер квартиры сколько? 194. Сейчас, минуточку, глянем. Я уже несколько раз звонила. Почему ничего не делается, я не понимаю. Ну, пока в работе с подрядчиком. Пока? В смысле пока? Почти два месяца прошло. Подождите, ну, смотри, там зависит от того, что... Я вам не могу ответить, да как подрядчик сделает, соответственно, он передает... А когда он сделает? Кто должен с подрядчиком говорить? Дайте номер тогда подрядчика или кого. Когда до нас зайдет очередь? Там столько работы, там и красить надо, там 7 стеклотахеток... Вы вчера звонили, насколько я помню, по вашей квартире. Мы не перезвонили. Мы потому что передали подрядчику и сказали, что она в работе. Ничего не в работе, ничего не делается, даже никто не заглядывал даже. Вообще ничего не делается. Где в работе? Вы понимаете, дайте ном...   \n",
              "3840                                                                                                                                                                                                                                                                                                                                                                        Главный госпиталь Белавыра, Наталья, здравствуйте. Это рефлекшн, на линии клиент не представился, интересует рассматривать трёхкомнатную квартиру, также не представился, не уточнял по бюджету. Консультация менеджера. Соединяйте. Отлично вам послали, мы поможем. Прencedhall.ru Примавера клубный imminent. company то они уже с нами соединяют. А вы кто? Мы представители застройщика, который продает премиальный комплекс Примавера, который находится в Покровском Срешневе на первой набережной Дороговой линии. Понятно. А вы, представители застройщика, как называетесь? Мы компания Метриум. Хорошо. Спасибо большое. До свидания. Так, а я могу?   \n",
              "6086                                                                                                                                                                                                                                                                                                                                                                                                                                                                                                                                                                                                                                                                                                                                                                                                                                                                                                                                                                                                                     Здравствуйте! Вы...   \n",
              "5885  Здравствуйте! Вы позвонили в компанию Эмергрупп. Пожалуйста, дождитесь ответа нашего специалиста. Обращаем ваше внимание, что в целях улучшения качества обслуживания клиентов все разговоры записываются. Продолжая разговор, вы соглашаетесь на обработку ваших персональных данных. В компании Эмергрупп, Татьяна, здравствуйте! Здравствуйте! Меня жилой комплекс Павелецкой, как вас интересует? Вас интересует покупка жилой недвижимости, правильно? Да, да. Хорошо, я вас переключу на менеджера. Как могу представить? Дарья. Дарья, переключаю. По окончании разговора, пожалуйста, оцените качество обслуживания. Дарья, здравствуйте! Меня зовут Марина, менеджер отдела продаж в Леское Сити. Чем могу быть полезна? Здравствуйте! Я хотела бы квартиру приобрести. Меня интересуют подробности и, по-моему, однокомнатная квартира. Однокомнатная квартира. Прекрасно. Дарья, ожидайте время для общения, чтобы мы были предметно с вами обсудили. Да. Хорошо. Вы рассматриваете однокомнатную квартиру. А вообще для...   \n",
              "338                                                                                                                                                                                                                                                                                                                                                                                                                                                                                                                                                                                                                                                                                                                                                                                                                                    Хедлайнер, Татьяна. Здравствуйте. Здравствуйте, скажите пожалуйста, мне нужна труба 273 на 5. Наверное ошиблись, не туда позвонили. Вы позвонили в отдел продаж, недвижимость. Я поняла, до свидания.   \n",
              "\n",
              "      Класс  confidence  Предсказание класса  \n",
              "3822      0    0.973555                    1  \n",
              "6100      0    0.396917                    0  \n",
              "2654      0    0.775183                    0  \n",
              "3308      1    0.982282                    1  \n",
              "4256      0    0.984821                    1  \n",
              "...     ...         ...                  ...  \n",
              "469       0    0.423434                    0  \n",
              "3840      0    0.856710                    0  \n",
              "6086      0    0.388865                    0  \n",
              "5885      1    0.999740                    1  \n",
              "338       0    0.393581                    0  \n",
              "\n",
              "[1385 rows x 4 columns]"
            ],
            "text/html": [
              "\n",
              "  <div id=\"df-cca1efdb-6596-41cc-b933-b10bfadd7c9c\" class=\"colab-df-container\">\n",
              "    <div>\n",
              "<style scoped>\n",
              "    .dataframe tbody tr th:only-of-type {\n",
              "        vertical-align: middle;\n",
              "    }\n",
              "\n",
              "    .dataframe tbody tr th {\n",
              "        vertical-align: top;\n",
              "    }\n",
              "\n",
              "    .dataframe thead th {\n",
              "        text-align: right;\n",
              "    }\n",
              "</style>\n",
              "<table border=\"1\" class=\"dataframe\">\n",
              "  <thead>\n",
              "    <tr style=\"text-align: right;\">\n",
              "      <th></th>\n",
              "      <th>Текст whisper-транскрибации записи звонка</th>\n",
              "      <th>Класс</th>\n",
              "      <th>confidence</th>\n",
              "      <th>Предсказание класса</th>\n",
              "    </tr>\n",
              "  </thead>\n",
              "  <tbody>\n",
              "    <tr>\n",
              "      <th>3822</th>\n",
              "      <td>Клубный город на реке Примавая. Меня зовут Светлана. Здравствуйте. Здравствуйте. А вот как же комплекс интересует? Как обращаться к вам? Марина Алексеевна. Марина Алексеевна, вас менеджер проконсультирует подробнее. Активность на ли проекте не расскажете? Ну, как бы я ищу в интернете. Спасибо. Сыграю вас. Слух, разговор может быть записан. Марина Алексеевна, добрый день. Меня зовут Павел. Клубный город на реке Примавера. Что может быть полезен? Срок сдачи, стоимость, есть или нет отделка до метро, доступность, шаговая какая, как бы все это. Значит, давайте с местоположения начнем. Это район Покровская-Стрешнова, северо-западный административный округ. Территория себя представляет полуостров, и в центре этого полуострова находится станция метро «Спартак» Паганск-Краснопресненская линия. То есть спешная доступность до места застройки от 7 до 10 минут в зависимости от выбранного корпуса. В целом в проекте несколько очередей, на сегодняшний момент доступно две очереди. Ближайшие сроки...</td>\n",
              "      <td>0</td>\n",
              "      <td>0.973555</td>\n",
              "      <td>1</td>\n",
              "    </tr>\n",
              "    <tr>\n",
              "      <th>6100</th>\n",
              "      <td>Здравствуйте.</td>\n",
              "      <td>0</td>\n",
              "      <td>0.396917</td>\n",
              "      <td>0</td>\n",
              "    </tr>\n",
              "    <tr>\n",
              "      <th>2654</th>\n",
              "      <td>Здравствуйте, вы позвонили в группу компании «Картроф». Благодарим вас за звонок. Пожалуйста, дождитесь ответа оператора. Я не помню, какой номер объекта. 92 помню, а номер квартиры... 237, что ли? Добрый день, живой комплекс «Хедлайнер». Меня зовут Любовь. Любовь, подскажите, пожалуйста, как мне записаться на просмотр объекта? Вы уже приобрели квартиру, верно? Да. Так, оставайтесь на линии. Соединяю вас с отделом выдачи ключей. Как могу... Ну, там не выдача ключей. Там у меня еще он не сдан. Ключи еще не выдают. Просто мне надо посмотреть объект. Ну, в общем-то, он еще не достроен. Так, я уточню информацию. Уточню информацию, минуту. Хорошо. По-моему, 237. Почему у меня 237? Пожалуйста. Прошу. Михаил, добрый день. Меня зовут Антон, слушаю вас. Чем могу помочь, Михаил? Антон, подскажите, а мне бы посмотреть объект. Сказали, что можно записаться на просмотр. Так, какой объект? Что хотят посмотреть? Квартиру свою, которую приобрел. Только единственное, я сейчас вспоминаю, какой там ...</td>\n",
              "      <td>0</td>\n",
              "      <td>0.775183</td>\n",
              "      <td>0</td>\n",
              "    </tr>\n",
              "    <tr>\n",
              "      <th>3308</th>\n",
              "      <td>Добрый вечер, клиент Андрей, комплекс Римовера рассматривает покупку однокомнатной квартиры бюджетом до 27 миллионов. Покупка ближайшие 3 месяца проживает Москва, последняя цифра номера 9245. Соединяю? Да, Андрей, да, комплекс клиента? Да, да. Спасибо, создайте. Алло, Андрей, добрый день, меня зовут Шилиан. Добрый день. Да, коллега с вами соединилась, сказала, что вы рассматриваете наш проект Римовера в качестве покупки и заинтересовались однокомнатной квартирой. Да, да, да, есть такое. Отлично, скажите, пожалуйста, вы хотели бы к нам в офис подъехать уже пообщаться, или какая-то информация о новой помещении вам нужна по поводу покупки? Да, да, да, конечно. Я уже подъехал. Я уже подъехал. Я уже подъехал. Я уже подъехал. Я уже подъехал. Я уже подъехал. А вы что думаете по проекту? Пока я рассматриваю несколько вариантов. Думаю, ваш посмотрел еще на сайте пока, очень красиво. Есть несколько вопросов. На сайте посмотрел? Да. Даже квартиры несколько, несколько этих посмотрел. Вот, как...</td>\n",
              "      <td>1</td>\n",
              "      <td>0.982282</td>\n",
              "      <td>1</td>\n",
              "    </tr>\n",
              "    <tr>\n",
              "      <th>4256</th>\n",
              "      <td>Клубный город на реке Примавера. Меня зовут Татьяна. Здравствуйте. Добрый день. Клиента зовут Алин. Интересует однокомнатная квартира бюджетом 19 миллионов в клубном городе на реке Примавера. Соединяю вас? Соединяйте. Алин, здравствуйте. Отдел продаж. Оставайтесь, пожалуйста, на линии. Соединяюсь с менеджером. Да. Обращаем ваше внимание, что в целях контроля качества услуг разговор может быть записан. Обращаем ваше внимание... Спасибо. Алло. Алин, добрый день. Меня зовут Юлия. Менеджер проекта «Клубный город на реке Примавера». Если могу, будь полезна. Добрый. Значит, ваши коллеги мне предложили в вашем комплексе жилье. Вот хотел несколько вопросов задать. И переключу на вас. С удовольствием, что подскажу. Алин, какие вопросы? Да. Вот вопрос, значит, по ипотеке. Насколько миллионов мне обойдется однокомнатная квартира и сколько этажей в доме? Отделка, безотделки, какие там планировки, возможно ли свободная планировка? Да. Алин, тогда смотрите, прям по вопросам сразу пройдемся. У н...</td>\n",
              "      <td>0</td>\n",
              "      <td>0.984821</td>\n",
              "      <td>1</td>\n",
              "    </tr>\n",
              "    <tr>\n",
              "      <th>...</th>\n",
              "      <td>...</td>\n",
              "      <td>...</td>\n",
              "      <td>...</td>\n",
              "      <td>...</td>\n",
              "    </tr>\n",
              "    <tr>\n",
              "      <th>469</th>\n",
              "      <td>Алло. Алло, здравствуйте. Да, добрый день. У нас была приемка 2 апреля. Прошло больше полтора месяца, скоро два месяца. У нас ничего не делается в квартире, вот эти технические всякие исправления. А номер квартиры сколько? 194. Сейчас, минуточку, глянем. Я уже несколько раз звонила. Почему ничего не делается, я не понимаю. Ну, пока в работе с подрядчиком. Пока? В смысле пока? Почти два месяца прошло. Подождите, ну, смотри, там зависит от того, что... Я вам не могу ответить, да как подрядчик сделает, соответственно, он передает... А когда он сделает? Кто должен с подрядчиком говорить? Дайте номер тогда подрядчика или кого. Когда до нас зайдет очередь? Там столько работы, там и красить надо, там 7 стеклотахеток... Вы вчера звонили, насколько я помню, по вашей квартире. Мы не перезвонили. Мы потому что передали подрядчику и сказали, что она в работе. Ничего не в работе, ничего не делается, даже никто не заглядывал даже. Вообще ничего не делается. Где в работе? Вы понимаете, дайте ном...</td>\n",
              "      <td>0</td>\n",
              "      <td>0.423434</td>\n",
              "      <td>0</td>\n",
              "    </tr>\n",
              "    <tr>\n",
              "      <th>3840</th>\n",
              "      <td>Главный госпиталь Белавыра, Наталья, здравствуйте. Это рефлекшн, на линии клиент не представился, интересует рассматривать трёхкомнатную квартиру, также не представился, не уточнял по бюджету. Консультация менеджера. Соединяйте. Отлично вам послали, мы поможем. Прencedhall.ru Примавера клубный imminent. company то они уже с нами соединяют. А вы кто? Мы представители застройщика, который продает премиальный комплекс Примавера, который находится в Покровском Срешневе на первой набережной Дороговой линии. Понятно. А вы, представители застройщика, как называетесь? Мы компания Метриум. Хорошо. Спасибо большое. До свидания. Так, а я могу?</td>\n",
              "      <td>0</td>\n",
              "      <td>0.856710</td>\n",
              "      <td>0</td>\n",
              "    </tr>\n",
              "    <tr>\n",
              "      <th>6086</th>\n",
              "      <td>Здравствуйте! Вы...</td>\n",
              "      <td>0</td>\n",
              "      <td>0.388865</td>\n",
              "      <td>0</td>\n",
              "    </tr>\n",
              "    <tr>\n",
              "      <th>5885</th>\n",
              "      <td>Здравствуйте! Вы позвонили в компанию Эмергрупп. Пожалуйста, дождитесь ответа нашего специалиста. Обращаем ваше внимание, что в целях улучшения качества обслуживания клиентов все разговоры записываются. Продолжая разговор, вы соглашаетесь на обработку ваших персональных данных. В компании Эмергрупп, Татьяна, здравствуйте! Здравствуйте! Меня жилой комплекс Павелецкой, как вас интересует? Вас интересует покупка жилой недвижимости, правильно? Да, да. Хорошо, я вас переключу на менеджера. Как могу представить? Дарья. Дарья, переключаю. По окончании разговора, пожалуйста, оцените качество обслуживания. Дарья, здравствуйте! Меня зовут Марина, менеджер отдела продаж в Леское Сити. Чем могу быть полезна? Здравствуйте! Я хотела бы квартиру приобрести. Меня интересуют подробности и, по-моему, однокомнатная квартира. Однокомнатная квартира. Прекрасно. Дарья, ожидайте время для общения, чтобы мы были предметно с вами обсудили. Да. Хорошо. Вы рассматриваете однокомнатную квартиру. А вообще для...</td>\n",
              "      <td>1</td>\n",
              "      <td>0.999740</td>\n",
              "      <td>1</td>\n",
              "    </tr>\n",
              "    <tr>\n",
              "      <th>338</th>\n",
              "      <td>Хедлайнер, Татьяна. Здравствуйте. Здравствуйте, скажите пожалуйста, мне нужна труба 273 на 5. Наверное ошиблись, не туда позвонили. Вы позвонили в отдел продаж, недвижимость. Я поняла, до свидания.</td>\n",
              "      <td>0</td>\n",
              "      <td>0.393581</td>\n",
              "      <td>0</td>\n",
              "    </tr>\n",
              "  </tbody>\n",
              "</table>\n",
              "<p>1385 rows × 4 columns</p>\n",
              "</div>\n",
              "    <div class=\"colab-df-buttons\">\n",
              "\n",
              "  <div class=\"colab-df-container\">\n",
              "    <button class=\"colab-df-convert\" onclick=\"convertToInteractive('df-cca1efdb-6596-41cc-b933-b10bfadd7c9c')\"\n",
              "            title=\"Convert this dataframe to an interactive table.\"\n",
              "            style=\"display:none;\">\n",
              "\n",
              "  <svg xmlns=\"http://www.w3.org/2000/svg\" height=\"24px\" viewBox=\"0 -960 960 960\">\n",
              "    <path d=\"M120-120v-720h720v720H120Zm60-500h600v-160H180v160Zm220 220h160v-160H400v160Zm0 220h160v-160H400v160ZM180-400h160v-160H180v160Zm440 0h160v-160H620v160ZM180-180h160v-160H180v160Zm440 0h160v-160H620v160Z\"/>\n",
              "  </svg>\n",
              "    </button>\n",
              "\n",
              "  <style>\n",
              "    .colab-df-container {\n",
              "      display:flex;\n",
              "      gap: 12px;\n",
              "    }\n",
              "\n",
              "    .colab-df-convert {\n",
              "      background-color: #E8F0FE;\n",
              "      border: none;\n",
              "      border-radius: 50%;\n",
              "      cursor: pointer;\n",
              "      display: none;\n",
              "      fill: #1967D2;\n",
              "      height: 32px;\n",
              "      padding: 0 0 0 0;\n",
              "      width: 32px;\n",
              "    }\n",
              "\n",
              "    .colab-df-convert:hover {\n",
              "      background-color: #E2EBFA;\n",
              "      box-shadow: 0px 1px 2px rgba(60, 64, 67, 0.3), 0px 1px 3px 1px rgba(60, 64, 67, 0.15);\n",
              "      fill: #174EA6;\n",
              "    }\n",
              "\n",
              "    .colab-df-buttons div {\n",
              "      margin-bottom: 4px;\n",
              "    }\n",
              "\n",
              "    [theme=dark] .colab-df-convert {\n",
              "      background-color: #3B4455;\n",
              "      fill: #D2E3FC;\n",
              "    }\n",
              "\n",
              "    [theme=dark] .colab-df-convert:hover {\n",
              "      background-color: #434B5C;\n",
              "      box-shadow: 0px 1px 3px 1px rgba(0, 0, 0, 0.15);\n",
              "      filter: drop-shadow(0px 1px 2px rgba(0, 0, 0, 0.3));\n",
              "      fill: #FFFFFF;\n",
              "    }\n",
              "  </style>\n",
              "\n",
              "    <script>\n",
              "      const buttonEl =\n",
              "        document.querySelector('#df-cca1efdb-6596-41cc-b933-b10bfadd7c9c button.colab-df-convert');\n",
              "      buttonEl.style.display =\n",
              "        google.colab.kernel.accessAllowed ? 'block' : 'none';\n",
              "\n",
              "      async function convertToInteractive(key) {\n",
              "        const element = document.querySelector('#df-cca1efdb-6596-41cc-b933-b10bfadd7c9c');\n",
              "        const dataTable =\n",
              "          await google.colab.kernel.invokeFunction('convertToInteractive',\n",
              "                                                    [key], {});\n",
              "        if (!dataTable) return;\n",
              "\n",
              "        const docLinkHtml = 'Like what you see? Visit the ' +\n",
              "          '<a target=\"_blank\" href=https://colab.research.google.com/notebooks/data_table.ipynb>data table notebook</a>'\n",
              "          + ' to learn more about interactive tables.';\n",
              "        element.innerHTML = '';\n",
              "        dataTable['output_type'] = 'display_data';\n",
              "        await google.colab.output.renderOutput(dataTable, element);\n",
              "        const docLink = document.createElement('div');\n",
              "        docLink.innerHTML = docLinkHtml;\n",
              "        element.appendChild(docLink);\n",
              "      }\n",
              "    </script>\n",
              "  </div>\n",
              "\n",
              "\n",
              "<div id=\"df-e0f7bcf3-8a0b-45c0-95d0-c607f14ad003\">\n",
              "  <button class=\"colab-df-quickchart\" onclick=\"quickchart('df-e0f7bcf3-8a0b-45c0-95d0-c607f14ad003')\"\n",
              "            title=\"Suggest charts\"\n",
              "            style=\"display:none;\">\n",
              "\n",
              "<svg xmlns=\"http://www.w3.org/2000/svg\" height=\"24px\"viewBox=\"0 0 24 24\"\n",
              "     width=\"24px\">\n",
              "    <g>\n",
              "        <path d=\"M19 3H5c-1.1 0-2 .9-2 2v14c0 1.1.9 2 2 2h14c1.1 0 2-.9 2-2V5c0-1.1-.9-2-2-2zM9 17H7v-7h2v7zm4 0h-2V7h2v10zm4 0h-2v-4h2v4z\"/>\n",
              "    </g>\n",
              "</svg>\n",
              "  </button>\n",
              "\n",
              "<style>\n",
              "  .colab-df-quickchart {\n",
              "      --bg-color: #E8F0FE;\n",
              "      --fill-color: #1967D2;\n",
              "      --hover-bg-color: #E2EBFA;\n",
              "      --hover-fill-color: #174EA6;\n",
              "      --disabled-fill-color: #AAA;\n",
              "      --disabled-bg-color: #DDD;\n",
              "  }\n",
              "\n",
              "  [theme=dark] .colab-df-quickchart {\n",
              "      --bg-color: #3B4455;\n",
              "      --fill-color: #D2E3FC;\n",
              "      --hover-bg-color: #434B5C;\n",
              "      --hover-fill-color: #FFFFFF;\n",
              "      --disabled-bg-color: #3B4455;\n",
              "      --disabled-fill-color: #666;\n",
              "  }\n",
              "\n",
              "  .colab-df-quickchart {\n",
              "    background-color: var(--bg-color);\n",
              "    border: none;\n",
              "    border-radius: 50%;\n",
              "    cursor: pointer;\n",
              "    display: none;\n",
              "    fill: var(--fill-color);\n",
              "    height: 32px;\n",
              "    padding: 0;\n",
              "    width: 32px;\n",
              "  }\n",
              "\n",
              "  .colab-df-quickchart:hover {\n",
              "    background-color: var(--hover-bg-color);\n",
              "    box-shadow: 0 1px 2px rgba(60, 64, 67, 0.3), 0 1px 3px 1px rgba(60, 64, 67, 0.15);\n",
              "    fill: var(--button-hover-fill-color);\n",
              "  }\n",
              "\n",
              "  .colab-df-quickchart-complete:disabled,\n",
              "  .colab-df-quickchart-complete:disabled:hover {\n",
              "    background-color: var(--disabled-bg-color);\n",
              "    fill: var(--disabled-fill-color);\n",
              "    box-shadow: none;\n",
              "  }\n",
              "\n",
              "  .colab-df-spinner {\n",
              "    border: 2px solid var(--fill-color);\n",
              "    border-color: transparent;\n",
              "    border-bottom-color: var(--fill-color);\n",
              "    animation:\n",
              "      spin 1s steps(1) infinite;\n",
              "  }\n",
              "\n",
              "  @keyframes spin {\n",
              "    0% {\n",
              "      border-color: transparent;\n",
              "      border-bottom-color: var(--fill-color);\n",
              "      border-left-color: var(--fill-color);\n",
              "    }\n",
              "    20% {\n",
              "      border-color: transparent;\n",
              "      border-left-color: var(--fill-color);\n",
              "      border-top-color: var(--fill-color);\n",
              "    }\n",
              "    30% {\n",
              "      border-color: transparent;\n",
              "      border-left-color: var(--fill-color);\n",
              "      border-top-color: var(--fill-color);\n",
              "      border-right-color: var(--fill-color);\n",
              "    }\n",
              "    40% {\n",
              "      border-color: transparent;\n",
              "      border-right-color: var(--fill-color);\n",
              "      border-top-color: var(--fill-color);\n",
              "    }\n",
              "    60% {\n",
              "      border-color: transparent;\n",
              "      border-right-color: var(--fill-color);\n",
              "    }\n",
              "    80% {\n",
              "      border-color: transparent;\n",
              "      border-right-color: var(--fill-color);\n",
              "      border-bottom-color: var(--fill-color);\n",
              "    }\n",
              "    90% {\n",
              "      border-color: transparent;\n",
              "      border-bottom-color: var(--fill-color);\n",
              "    }\n",
              "  }\n",
              "</style>\n",
              "\n",
              "  <script>\n",
              "    async function quickchart(key) {\n",
              "      const quickchartButtonEl =\n",
              "        document.querySelector('#' + key + ' button');\n",
              "      quickchartButtonEl.disabled = true;  // To prevent multiple clicks.\n",
              "      quickchartButtonEl.classList.add('colab-df-spinner');\n",
              "      try {\n",
              "        const charts = await google.colab.kernel.invokeFunction(\n",
              "            'suggestCharts', [key], {});\n",
              "      } catch (error) {\n",
              "        console.error('Error during call to suggestCharts:', error);\n",
              "      }\n",
              "      quickchartButtonEl.classList.remove('colab-df-spinner');\n",
              "      quickchartButtonEl.classList.add('colab-df-quickchart-complete');\n",
              "    }\n",
              "    (() => {\n",
              "      let quickchartButtonEl =\n",
              "        document.querySelector('#df-e0f7bcf3-8a0b-45c0-95d0-c607f14ad003 button');\n",
              "      quickchartButtonEl.style.display =\n",
              "        google.colab.kernel.accessAllowed ? 'block' : 'none';\n",
              "    })();\n",
              "  </script>\n",
              "</div>\n",
              "    </div>\n",
              "  </div>\n"
            ]
          },
          "metadata": {},
          "execution_count": 38
        }
      ]
    }
  ]
}