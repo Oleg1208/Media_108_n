{
  "nbformat": 4,
  "nbformat_minor": 0,
  "metadata": {
    "colab": {
      "provenance": [],
      "collapsed_sections": [
        "CIgT9kE4KHqe",
        "pTohUadq_HUC",
        "ec6D0c_ueUPs",
        "SRtVWsD6eUPt",
        "kbc1ff-1eUPv",
        "22vlkN0beUPw",
        "hyBXBxv6eUPy",
        "rVDYF0C9YQcB",
        "shwe_q3BV8Vr",
        "33bQhd7FyjW5",
        "Hf1JGD7iywW6",
        "NsU4RcEB0Vl8",
        "MrMbZhEeJ0F9",
        "oUSTMdlGPqt0",
        "xrVlH6fZRJYg",
        "KnuxT0O9TE9z",
        "ZonigCW83bnB",
        "x377J2Lc4oDs",
        "cZjR0rdC9dNU",
        "GjOuRgU29dNV",
        "4SYdjQIS9dNW",
        "t87ZVV8U9dNY",
        "Hd91wyBO9dNa",
        "hqgoyocs9dNc",
        "JKKuN_Jq_oPO",
        "feJ6lyKH_oPe",
        "lWRjcELe_oPe",
        "8cC2SAEC_oPu",
        "zAg3JzSb_oPu",
        "lW3JApwl_oPu",
        "SJezevuznNn1",
        "QQHG4oVFmk3f",
        "Y2fD0Nofu72J",
        "hkIgtfqzOXrD",
        "ozlVEYrviCDe",
        "OxJtDxyWiKe9",
        "kXv7RGtuiauF",
        "xgyM-bTvuX1l",
        "yZknGNTrjNEL",
        "RGLadFBijRiT"
      ]
    },
    "kernelspec": {
      "name": "python3",
      "display_name": "Python 3"
    },
    "language_info": {
      "name": "python"
    },
    "widgets": {
      "application/vnd.jupyter.widget-state+json": {
        "942732b5b6ce4d6cb28f29caa9fdb587": {
          "model_module": "@jupyter-widgets/controls",
          "model_name": "HBoxModel",
          "model_module_version": "1.5.0",
          "state": {
            "_dom_classes": [],
            "_model_module": "@jupyter-widgets/controls",
            "_model_module_version": "1.5.0",
            "_model_name": "HBoxModel",
            "_view_count": null,
            "_view_module": "@jupyter-widgets/controls",
            "_view_module_version": "1.5.0",
            "_view_name": "HBoxView",
            "box_style": "",
            "children": [
              "IPY_MODEL_f67f1fa8d4aa4349b0f4a51087fa7ddf",
              "IPY_MODEL_695fa312d5f84f588036a36df0429f34",
              "IPY_MODEL_a06476ad1a094daaa0666e4e01fbfd91"
            ],
            "layout": "IPY_MODEL_fb840764da6f462eb604f5b4cd45624b"
          }
        },
        "f67f1fa8d4aa4349b0f4a51087fa7ddf": {
          "model_module": "@jupyter-widgets/controls",
          "model_name": "HTMLModel",
          "model_module_version": "1.5.0",
          "state": {
            "_dom_classes": [],
            "_model_module": "@jupyter-widgets/controls",
            "_model_module_version": "1.5.0",
            "_model_name": "HTMLModel",
            "_view_count": null,
            "_view_module": "@jupyter-widgets/controls",
            "_view_module_version": "1.5.0",
            "_view_name": "HTMLView",
            "description": "",
            "description_tooltip": null,
            "layout": "IPY_MODEL_920e75736926484db122ff94eea41062",
            "placeholder": "​",
            "style": "IPY_MODEL_f69fe052125649ea87fdfbb8ecce6d9d",
            "value": "Done! Use &#x27;show&#x27; commands to display/save.   "
          }
        },
        "695fa312d5f84f588036a36df0429f34": {
          "model_module": "@jupyter-widgets/controls",
          "model_name": "FloatProgressModel",
          "model_module_version": "1.5.0",
          "state": {
            "_dom_classes": [],
            "_model_module": "@jupyter-widgets/controls",
            "_model_module_version": "1.5.0",
            "_model_name": "FloatProgressModel",
            "_view_count": null,
            "_view_module": "@jupyter-widgets/controls",
            "_view_module_version": "1.5.0",
            "_view_name": "ProgressView",
            "bar_style": "success",
            "description": "",
            "description_tooltip": null,
            "layout": "IPY_MODEL_f40d0c645f0a404bbcf73ea0e99e11c9",
            "max": 1,
            "min": 0,
            "orientation": "horizontal",
            "style": "IPY_MODEL_f908324fd0344236831543d5af36544e",
            "value": 1
          }
        },
        "a06476ad1a094daaa0666e4e01fbfd91": {
          "model_module": "@jupyter-widgets/controls",
          "model_name": "HTMLModel",
          "model_module_version": "1.5.0",
          "state": {
            "_dom_classes": [],
            "_model_module": "@jupyter-widgets/controls",
            "_model_module_version": "1.5.0",
            "_model_name": "HTMLModel",
            "_view_count": null,
            "_view_module": "@jupyter-widgets/controls",
            "_view_module_version": "1.5.0",
            "_view_name": "HTMLView",
            "description": "",
            "description_tooltip": null,
            "layout": "IPY_MODEL_1b7edfcc4d704b299d58675f25ba785c",
            "placeholder": "​",
            "style": "IPY_MODEL_917e0d22b954491191d65e4172be8027",
            "value": " [100%]   00:08 -&gt; (00:00 left)"
          }
        },
        "fb840764da6f462eb604f5b4cd45624b": {
          "model_module": "@jupyter-widgets/base",
          "model_name": "LayoutModel",
          "model_module_version": "1.2.0",
          "state": {
            "_model_module": "@jupyter-widgets/base",
            "_model_module_version": "1.2.0",
            "_model_name": "LayoutModel",
            "_view_count": null,
            "_view_module": "@jupyter-widgets/base",
            "_view_module_version": "1.2.0",
            "_view_name": "LayoutView",
            "align_content": null,
            "align_items": null,
            "align_self": null,
            "border": null,
            "bottom": null,
            "display": "inline-flex",
            "flex": null,
            "flex_flow": "row wrap",
            "grid_area": null,
            "grid_auto_columns": null,
            "grid_auto_flow": null,
            "grid_auto_rows": null,
            "grid_column": null,
            "grid_gap": null,
            "grid_row": null,
            "grid_template_areas": null,
            "grid_template_columns": null,
            "grid_template_rows": null,
            "height": null,
            "justify_content": null,
            "justify_items": null,
            "left": null,
            "margin": null,
            "max_height": null,
            "max_width": null,
            "min_height": null,
            "min_width": null,
            "object_fit": null,
            "object_position": null,
            "order": null,
            "overflow": null,
            "overflow_x": null,
            "overflow_y": null,
            "padding": null,
            "right": null,
            "top": null,
            "visibility": null,
            "width": "100%"
          }
        },
        "920e75736926484db122ff94eea41062": {
          "model_module": "@jupyter-widgets/base",
          "model_name": "LayoutModel",
          "model_module_version": "1.2.0",
          "state": {
            "_model_module": "@jupyter-widgets/base",
            "_model_module_version": "1.2.0",
            "_model_name": "LayoutModel",
            "_view_count": null,
            "_view_module": "@jupyter-widgets/base",
            "_view_module_version": "1.2.0",
            "_view_name": "LayoutView",
            "align_content": null,
            "align_items": null,
            "align_self": null,
            "border": null,
            "bottom": null,
            "display": null,
            "flex": null,
            "flex_flow": null,
            "grid_area": null,
            "grid_auto_columns": null,
            "grid_auto_flow": null,
            "grid_auto_rows": null,
            "grid_column": null,
            "grid_gap": null,
            "grid_row": null,
            "grid_template_areas": null,
            "grid_template_columns": null,
            "grid_template_rows": null,
            "height": null,
            "justify_content": null,
            "justify_items": null,
            "left": null,
            "margin": null,
            "max_height": null,
            "max_width": null,
            "min_height": null,
            "min_width": null,
            "object_fit": null,
            "object_position": null,
            "order": null,
            "overflow": null,
            "overflow_x": null,
            "overflow_y": null,
            "padding": null,
            "right": null,
            "top": null,
            "visibility": null,
            "width": null
          }
        },
        "f69fe052125649ea87fdfbb8ecce6d9d": {
          "model_module": "@jupyter-widgets/controls",
          "model_name": "DescriptionStyleModel",
          "model_module_version": "1.5.0",
          "state": {
            "_model_module": "@jupyter-widgets/controls",
            "_model_module_version": "1.5.0",
            "_model_name": "DescriptionStyleModel",
            "_view_count": null,
            "_view_module": "@jupyter-widgets/base",
            "_view_module_version": "1.2.0",
            "_view_name": "StyleView",
            "description_width": ""
          }
        },
        "f40d0c645f0a404bbcf73ea0e99e11c9": {
          "model_module": "@jupyter-widgets/base",
          "model_name": "LayoutModel",
          "model_module_version": "1.2.0",
          "state": {
            "_model_module": "@jupyter-widgets/base",
            "_model_module_version": "1.2.0",
            "_model_name": "LayoutModel",
            "_view_count": null,
            "_view_module": "@jupyter-widgets/base",
            "_view_module_version": "1.2.0",
            "_view_name": "LayoutView",
            "align_content": null,
            "align_items": null,
            "align_self": null,
            "border": null,
            "bottom": null,
            "display": null,
            "flex": "2",
            "flex_flow": null,
            "grid_area": null,
            "grid_auto_columns": null,
            "grid_auto_flow": null,
            "grid_auto_rows": null,
            "grid_column": null,
            "grid_gap": null,
            "grid_row": null,
            "grid_template_areas": null,
            "grid_template_columns": null,
            "grid_template_rows": null,
            "height": null,
            "justify_content": null,
            "justify_items": null,
            "left": null,
            "margin": null,
            "max_height": null,
            "max_width": null,
            "min_height": null,
            "min_width": null,
            "object_fit": null,
            "object_position": null,
            "order": null,
            "overflow": null,
            "overflow_x": null,
            "overflow_y": null,
            "padding": null,
            "right": null,
            "top": null,
            "visibility": null,
            "width": null
          }
        },
        "f908324fd0344236831543d5af36544e": {
          "model_module": "@jupyter-widgets/controls",
          "model_name": "ProgressStyleModel",
          "model_module_version": "1.5.0",
          "state": {
            "_model_module": "@jupyter-widgets/controls",
            "_model_module_version": "1.5.0",
            "_model_name": "ProgressStyleModel",
            "_view_count": null,
            "_view_module": "@jupyter-widgets/base",
            "_view_module_version": "1.2.0",
            "_view_name": "StyleView",
            "bar_color": null,
            "description_width": ""
          }
        },
        "1b7edfcc4d704b299d58675f25ba785c": {
          "model_module": "@jupyter-widgets/base",
          "model_name": "LayoutModel",
          "model_module_version": "1.2.0",
          "state": {
            "_model_module": "@jupyter-widgets/base",
            "_model_module_version": "1.2.0",
            "_model_name": "LayoutModel",
            "_view_count": null,
            "_view_module": "@jupyter-widgets/base",
            "_view_module_version": "1.2.0",
            "_view_name": "LayoutView",
            "align_content": null,
            "align_items": null,
            "align_self": null,
            "border": null,
            "bottom": null,
            "display": null,
            "flex": null,
            "flex_flow": null,
            "grid_area": null,
            "grid_auto_columns": null,
            "grid_auto_flow": null,
            "grid_auto_rows": null,
            "grid_column": null,
            "grid_gap": null,
            "grid_row": null,
            "grid_template_areas": null,
            "grid_template_columns": null,
            "grid_template_rows": null,
            "height": null,
            "justify_content": null,
            "justify_items": null,
            "left": null,
            "margin": null,
            "max_height": null,
            "max_width": null,
            "min_height": null,
            "min_width": null,
            "object_fit": null,
            "object_position": null,
            "order": null,
            "overflow": null,
            "overflow_x": null,
            "overflow_y": null,
            "padding": null,
            "right": null,
            "top": null,
            "visibility": null,
            "width": null
          }
        },
        "917e0d22b954491191d65e4172be8027": {
          "model_module": "@jupyter-widgets/controls",
          "model_name": "DescriptionStyleModel",
          "model_module_version": "1.5.0",
          "state": {
            "_model_module": "@jupyter-widgets/controls",
            "_model_module_version": "1.5.0",
            "_model_name": "DescriptionStyleModel",
            "_view_count": null,
            "_view_module": "@jupyter-widgets/base",
            "_view_module_version": "1.2.0",
            "_view_name": "StyleView",
            "description_width": ""
          }
        },
        "9dcad36df28941159abb18c6d3447ca2": {
          "model_module": "@jupyter-widgets/controls",
          "model_name": "HBoxModel",
          "model_module_version": "1.5.0",
          "state": {
            "_dom_classes": [],
            "_model_module": "@jupyter-widgets/controls",
            "_model_module_version": "1.5.0",
            "_model_name": "HBoxModel",
            "_view_count": null,
            "_view_module": "@jupyter-widgets/controls",
            "_view_module_version": "1.5.0",
            "_view_name": "HBoxView",
            "box_style": "",
            "children": [
              "IPY_MODEL_8e5617a754fe45bca8cce2bf55dec25e",
              "IPY_MODEL_a1fa064231854ddf83daf2de9329ac03",
              "IPY_MODEL_dbc84be22db049aaa4938c926e8775ec"
            ],
            "layout": "IPY_MODEL_abc89a2a51714ad4a0c26e73fa34a635"
          }
        },
        "8e5617a754fe45bca8cce2bf55dec25e": {
          "model_module": "@jupyter-widgets/controls",
          "model_name": "HTMLModel",
          "model_module_version": "1.5.0",
          "state": {
            "_dom_classes": [],
            "_model_module": "@jupyter-widgets/controls",
            "_model_module_version": "1.5.0",
            "_model_name": "HTMLModel",
            "_view_count": null,
            "_view_module": "@jupyter-widgets/controls",
            "_view_module_version": "1.5.0",
            "_view_name": "HTMLView",
            "description": "",
            "description_tooltip": null,
            "layout": "IPY_MODEL_46c17febf64f4504914a60534094cc24",
            "placeholder": "​",
            "style": "IPY_MODEL_16411ea32ab245cdbb149a4956dacafb",
            "value": "Done! Use &#x27;show&#x27; commands to display/save.   "
          }
        },
        "a1fa064231854ddf83daf2de9329ac03": {
          "model_module": "@jupyter-widgets/controls",
          "model_name": "FloatProgressModel",
          "model_module_version": "1.5.0",
          "state": {
            "_dom_classes": [],
            "_model_module": "@jupyter-widgets/controls",
            "_model_module_version": "1.5.0",
            "_model_name": "FloatProgressModel",
            "_view_count": null,
            "_view_module": "@jupyter-widgets/controls",
            "_view_module_version": "1.5.0",
            "_view_name": "ProgressView",
            "bar_style": "success",
            "description": "",
            "description_tooltip": null,
            "layout": "IPY_MODEL_0fea8eefa46e448a81d9530447419eb7",
            "max": 1,
            "min": 0,
            "orientation": "horizontal",
            "style": "IPY_MODEL_ad71a7cceaf64cba81802d05a3dd4495",
            "value": 1
          }
        },
        "dbc84be22db049aaa4938c926e8775ec": {
          "model_module": "@jupyter-widgets/controls",
          "model_name": "HTMLModel",
          "model_module_version": "1.5.0",
          "state": {
            "_dom_classes": [],
            "_model_module": "@jupyter-widgets/controls",
            "_model_module_version": "1.5.0",
            "_model_name": "HTMLModel",
            "_view_count": null,
            "_view_module": "@jupyter-widgets/controls",
            "_view_module_version": "1.5.0",
            "_view_name": "HTMLView",
            "description": "",
            "description_tooltip": null,
            "layout": "IPY_MODEL_ed4563996cba442a861b48d770811481",
            "placeholder": "​",
            "style": "IPY_MODEL_17dd7737afff48d8a54a9fee34f77913",
            "value": " [100%]   00:07 -&gt; (00:00 left)"
          }
        },
        "abc89a2a51714ad4a0c26e73fa34a635": {
          "model_module": "@jupyter-widgets/base",
          "model_name": "LayoutModel",
          "model_module_version": "1.2.0",
          "state": {
            "_model_module": "@jupyter-widgets/base",
            "_model_module_version": "1.2.0",
            "_model_name": "LayoutModel",
            "_view_count": null,
            "_view_module": "@jupyter-widgets/base",
            "_view_module_version": "1.2.0",
            "_view_name": "LayoutView",
            "align_content": null,
            "align_items": null,
            "align_self": null,
            "border": null,
            "bottom": null,
            "display": "inline-flex",
            "flex": null,
            "flex_flow": "row wrap",
            "grid_area": null,
            "grid_auto_columns": null,
            "grid_auto_flow": null,
            "grid_auto_rows": null,
            "grid_column": null,
            "grid_gap": null,
            "grid_row": null,
            "grid_template_areas": null,
            "grid_template_columns": null,
            "grid_template_rows": null,
            "height": null,
            "justify_content": null,
            "justify_items": null,
            "left": null,
            "margin": null,
            "max_height": null,
            "max_width": null,
            "min_height": null,
            "min_width": null,
            "object_fit": null,
            "object_position": null,
            "order": null,
            "overflow": null,
            "overflow_x": null,
            "overflow_y": null,
            "padding": null,
            "right": null,
            "top": null,
            "visibility": null,
            "width": "100%"
          }
        },
        "46c17febf64f4504914a60534094cc24": {
          "model_module": "@jupyter-widgets/base",
          "model_name": "LayoutModel",
          "model_module_version": "1.2.0",
          "state": {
            "_model_module": "@jupyter-widgets/base",
            "_model_module_version": "1.2.0",
            "_model_name": "LayoutModel",
            "_view_count": null,
            "_view_module": "@jupyter-widgets/base",
            "_view_module_version": "1.2.0",
            "_view_name": "LayoutView",
            "align_content": null,
            "align_items": null,
            "align_self": null,
            "border": null,
            "bottom": null,
            "display": null,
            "flex": null,
            "flex_flow": null,
            "grid_area": null,
            "grid_auto_columns": null,
            "grid_auto_flow": null,
            "grid_auto_rows": null,
            "grid_column": null,
            "grid_gap": null,
            "grid_row": null,
            "grid_template_areas": null,
            "grid_template_columns": null,
            "grid_template_rows": null,
            "height": null,
            "justify_content": null,
            "justify_items": null,
            "left": null,
            "margin": null,
            "max_height": null,
            "max_width": null,
            "min_height": null,
            "min_width": null,
            "object_fit": null,
            "object_position": null,
            "order": null,
            "overflow": null,
            "overflow_x": null,
            "overflow_y": null,
            "padding": null,
            "right": null,
            "top": null,
            "visibility": null,
            "width": null
          }
        },
        "16411ea32ab245cdbb149a4956dacafb": {
          "model_module": "@jupyter-widgets/controls",
          "model_name": "DescriptionStyleModel",
          "model_module_version": "1.5.0",
          "state": {
            "_model_module": "@jupyter-widgets/controls",
            "_model_module_version": "1.5.0",
            "_model_name": "DescriptionStyleModel",
            "_view_count": null,
            "_view_module": "@jupyter-widgets/base",
            "_view_module_version": "1.2.0",
            "_view_name": "StyleView",
            "description_width": ""
          }
        },
        "0fea8eefa46e448a81d9530447419eb7": {
          "model_module": "@jupyter-widgets/base",
          "model_name": "LayoutModel",
          "model_module_version": "1.2.0",
          "state": {
            "_model_module": "@jupyter-widgets/base",
            "_model_module_version": "1.2.0",
            "_model_name": "LayoutModel",
            "_view_count": null,
            "_view_module": "@jupyter-widgets/base",
            "_view_module_version": "1.2.0",
            "_view_name": "LayoutView",
            "align_content": null,
            "align_items": null,
            "align_self": null,
            "border": null,
            "bottom": null,
            "display": null,
            "flex": "2",
            "flex_flow": null,
            "grid_area": null,
            "grid_auto_columns": null,
            "grid_auto_flow": null,
            "grid_auto_rows": null,
            "grid_column": null,
            "grid_gap": null,
            "grid_row": null,
            "grid_template_areas": null,
            "grid_template_columns": null,
            "grid_template_rows": null,
            "height": null,
            "justify_content": null,
            "justify_items": null,
            "left": null,
            "margin": null,
            "max_height": null,
            "max_width": null,
            "min_height": null,
            "min_width": null,
            "object_fit": null,
            "object_position": null,
            "order": null,
            "overflow": null,
            "overflow_x": null,
            "overflow_y": null,
            "padding": null,
            "right": null,
            "top": null,
            "visibility": null,
            "width": null
          }
        },
        "ad71a7cceaf64cba81802d05a3dd4495": {
          "model_module": "@jupyter-widgets/controls",
          "model_name": "ProgressStyleModel",
          "model_module_version": "1.5.0",
          "state": {
            "_model_module": "@jupyter-widgets/controls",
            "_model_module_version": "1.5.0",
            "_model_name": "ProgressStyleModel",
            "_view_count": null,
            "_view_module": "@jupyter-widgets/base",
            "_view_module_version": "1.2.0",
            "_view_name": "StyleView",
            "bar_color": null,
            "description_width": ""
          }
        },
        "ed4563996cba442a861b48d770811481": {
          "model_module": "@jupyter-widgets/base",
          "model_name": "LayoutModel",
          "model_module_version": "1.2.0",
          "state": {
            "_model_module": "@jupyter-widgets/base",
            "_model_module_version": "1.2.0",
            "_model_name": "LayoutModel",
            "_view_count": null,
            "_view_module": "@jupyter-widgets/base",
            "_view_module_version": "1.2.0",
            "_view_name": "LayoutView",
            "align_content": null,
            "align_items": null,
            "align_self": null,
            "border": null,
            "bottom": null,
            "display": null,
            "flex": null,
            "flex_flow": null,
            "grid_area": null,
            "grid_auto_columns": null,
            "grid_auto_flow": null,
            "grid_auto_rows": null,
            "grid_column": null,
            "grid_gap": null,
            "grid_row": null,
            "grid_template_areas": null,
            "grid_template_columns": null,
            "grid_template_rows": null,
            "height": null,
            "justify_content": null,
            "justify_items": null,
            "left": null,
            "margin": null,
            "max_height": null,
            "max_width": null,
            "min_height": null,
            "min_width": null,
            "object_fit": null,
            "object_position": null,
            "order": null,
            "overflow": null,
            "overflow_x": null,
            "overflow_y": null,
            "padding": null,
            "right": null,
            "top": null,
            "visibility": null,
            "width": null
          }
        },
        "17dd7737afff48d8a54a9fee34f77913": {
          "model_module": "@jupyter-widgets/controls",
          "model_name": "DescriptionStyleModel",
          "model_module_version": "1.5.0",
          "state": {
            "_model_module": "@jupyter-widgets/controls",
            "_model_module_version": "1.5.0",
            "_model_name": "DescriptionStyleModel",
            "_view_count": null,
            "_view_module": "@jupyter-widgets/base",
            "_view_module_version": "1.2.0",
            "_view_name": "StyleView",
            "description_width": ""
          }
        }
      }
    }
  },
  "cells": [
    {
      "cell_type": "markdown",
      "source": [
        "# [Техническое задание](https://docs.google.com/document/d/1ZIu6daXZRuDR796AHjKCku643hlM3xgYxW9E84DBJFc/edit?usp=sharing)"
      ],
      "metadata": {
        "id": "CIgT9kE4KHqe"
      }
    },
    {
      "cell_type": "markdown",
      "source": [
        "**Проект:** Классификация аудиозвонков на целевые и нецелевые."
      ],
      "metadata": {
        "id": "FaaxUmqWKHqt"
      }
    },
    {
      "cell_type": "markdown",
      "source": [
        "**Цель проекта:** Разработать нейронную сеть, способную классифицировать аудиозвонки на целевые и нецелевые на основе предоставленной базы данных и csv-таблицы с описаниями и метками классов."
      ],
      "metadata": {
        "id": "GQSHmPOcKHq0"
      }
    },
    {
      "cell_type": "markdown",
      "source": [
        "**Введение:**\n",
        "\n",
        "Входной набор данных представляет из себя два набора файлов:\n",
        "\n",
        "> a)\t[Первый набор файлов](https://drive.google.com/drive/folders/1cQWMpQkscZJbbOTxiJNy0o3nuaeIiB1P?usp=sharing) - это выгрузки в формате `CSV` с информацией по звонкам, а так же с проставленным статусом `“целевой/нецелевой”` в отдельном столбце (обратите внимание, что по проекту `“Павелецкая сити”` две выгрузки - эти наборы данных отличаются и относятся к разным наборам клиентов внутри одного и того же проекта).\n",
        "\n",
        "> b)\t[Второй набор файлов](https://drive.google.com/drive/folders/1K3jGCH60uzFcsI3aj89VIXOOFEXvZxD6?usp=sharing) - аудиозаписи звонков. Они хранятся в корневом каталоге в одноимённых папках. К примеру, в папке `“Записи звонков_павелецкая сити”` лежат записи звонков по проекту `“Павелецкая Сити”`."
      ],
      "metadata": {
        "id": "-UhJ6TikKHq1"
      }
    },
    {
      "cell_type": "markdown",
      "source": [
        "**Требования:**\n",
        "\n",
        "1.   Нейронная сеть должна быть спроектирована и обучена для точной классификации аудиозвонков на два класса: целевые и нецелевые (с точностью `90+%`).\n",
        "2.   Необходимо обеспечить интеграцию модели через `API`.\n",
        "3.   Модель должна быть оптимизирована для обработки большого объёма данных.\n",
        "4.   Код должен быть написан с соблюдением стандартов кодирования, и должна быть составлена подробная техническая документация.\n",
        "5.   Код должен включать в себя систему журналирования для фиксации ошибок.\n",
        "6.   Код должен принимать на вход регулярное выражение, по которому будет осуществляться проверка столбца `“теги”` в выгрузках `CSV` для определения статуса звонка `“целевой/нецелевой”`:\n",
        "\n",
        ">> a)\tпо проектам `“Примавера”` и `“Павелецкая сити”` наличие в столбце с тегами подстроки `“Целевой_М108“` будет равняться тому, что данный звонок целевой (пример регулярного выражения: `.*Целевой_М108.*`);\n",
        "\n",
        ">> b)\tпо проекту `“Хедлайнер”` - наличие в столбце с тегами подстроки `“первичный целевой“` будет равняться тому, что данный звонок целевой.\n",
        "\n",
        "7.   После реализации необходимо иметь возможность получения поддержки по предоставленному решению в течение `2 месяцев`."
      ],
      "metadata": {
        "id": "13vIGhs0KHq4"
      }
    },
    {
      "cell_type": "markdown",
      "source": [
        "Список рекомендуемых параметров для звуковой записи (данный список носит информационный характер и не является обязательным):\n",
        "\n",
        "*   Эмоция (базовые 11: радость; печаль; гнев; отвращение; удивление; страдание (горе); волнение (интерес); презрение; смущение; стыд; вина).\n",
        "*   Пол.\n",
        "*   Возраст.\n",
        "*   Семантический анализ диалога (по конкретным ключевым словам и/или по тематикам диалогов).\n",
        "*   Характеристики, присутствующие в `CSV`/`XLSX` таблицах."
      ],
      "metadata": {
        "id": "seG9MxfuKHq6"
      }
    },
    {
      "cell_type": "markdown",
      "source": [
        "# Критерии классификации"
      ],
      "metadata": {
        "id": "pTohUadq_HUC"
      }
    },
    {
      "cell_type": "markdown",
      "source": [
        "Критерии `уникально-целевого` обращения:\n",
        "1. Длительность звонка должна быть не менее `75 секунд`;\n",
        "2. Телефонный номер абонента должен быть `уникальным`, т. е. его не должно быть в `CRM` заказчика. Либо, по нему не должно быть активности за последние `90 дней`. Исключение составляют `топовые площадки`, работающие по своим критериям (`ЦИАН`, `Яндекс.Недвижимость`, `Авито`, и т. д.);\n",
        "3. Клиент должен знать минимальную информацию об объекте (понимать, куда он звонит): название `ЖК`, расположение, ценовую политику;\n",
        "4. Номер абонента должен быть доступен в течение `15 дней` после совершённого звонка (при этом со стороны заказчика должно быть обеспечено `2 попытки` исходящего звонка в течение указанного срока);\n",
        "5. Клиент должен быть `«адекватным»`. Не общаться на повышенных тонах, не употреблять ненормативную лексику и т. д.;\n",
        "6. Клиент не должен быть повторным. Например, клиент `уже` купил квартиру и через `90 дней` решил купить машиноместо;\n",
        "7. Заявка. В заявке должен быть указан номер телефона, а абонент при контакте с менеджером должен соответствовать всем критериям `уникально-целевого` обращения, перечисленным выше;\n",
        "8. Озвученный общий бюджет покупки не должен быть `ниже 90%` от стоимости квартиры или коммерческого помещения, соответствующих площади/комнатности на момент обращения;\n",
        "9. В случае, если клиент является уникальным, интересуется покупкой недвижимости, не является представителем партнёров или исполнителей и изъявил желание посетить офис продаж. При этом не обязательна фиксация уровня знания клиента об объекте в диалоге. При этом источник не должен относиться к каналам `«лидогенерация»` или `«тематические площадки»`;\n",
        "10. Основной целью звонка клиента не должна являться покупка/аренда исключительно нежилого помещения, если это не являлось целью проводимой рекламной кампании.\n",
        "\n",
        "Критерии НЕ `уникально-целевого` (вторичного) обращения:\n",
        "1. Клиент позвонил повторно менее чем через `3 месяца` (`90 дней`) с момента последнего обращения;\n",
        "2. Клиент, либо члены его семьи, уже купил (купили) `квартиру`/`машиноместо`/`кладовое помещение`, и хочет (хотят) совершить ещё одну покупку. В данном случае клиент относится к показателю `LTV` (показатель прибыли, которую компания получает от одного клиента за всё время работы с ним)."
      ],
      "metadata": {
        "id": "F1Im0SOi_S8W"
      }
    },
    {
      "cell_type": "markdown",
      "source": [
        "# [Датафреймы](https://drive.google.com/drive/folders/111abiHt33Q-SV48pBPhEgDCZDI5KshnF?usp=sharing)"
      ],
      "metadata": {
        "id": "ec6D0c_ueUPs"
      }
    },
    {
      "cell_type": "markdown",
      "source": [
        "## Headliner"
      ],
      "metadata": {
        "id": "SRtVWsD6eUPt"
      }
    },
    {
      "cell_type": "markdown",
      "source": [
        "*   [`Headliner_df.pkl` Информация о звонках `Headliner`](https://drive.google.com/file/d/13mUHwvx79O4P-AucRdjBYkN5ha8LnCSp/view?usp=sharing)\n",
        "*   [`Headliner_new_df.pkl` Информация о новых звонках `Headliner`](https://drive.google.com/file/d/1-Q1BxLbot7svY5hiqOquHRFvSOcwtpKS/view?usp=sharing)"
      ],
      "metadata": {
        "id": "D0b4r_r_eUPt"
      }
    },
    {
      "cell_type": "markdown",
      "source": [
        "*   [`Headliner_calls_df.pkl` Файлы записей звонков `Headliner`](https://drive.google.com/file/d/13pmGEYacsEHjYsIsYgf6fg4MUHAw509y/view?usp=sharing)\n",
        "*   [`Headliner_new_calls_df.pkl` Файлы записей новых звонков `Headliner`](https://drive.google.com/file/d/1-Ke1q42th_NV0og0e01_-mvJ8HL8JzfS/view?usp=sharing)\n",
        "*   [`Headliner_transcriptions_df` Файлы транскрибации записей звонков `Headliner`](https://drive.google.com/file/d/1ThU49xWSv3T-HK61jRykOR3UDvOVeO4i/view?usp=sharing)\n",
        "*   [`Headliner_new_transcriptions_df.pkl` Файлы транскрибации новых записей звонков `Headliner`](https://drive.google.com/file/d/1-BSmmymyVo8VYyvDXsO1ybXldOJ5eUaH/view?usp=sharing)"
      ],
      "metadata": {
        "id": "oRkYDvvyeUPu"
      }
    },
    {
      "cell_type": "markdown",
      "source": [
        "*   [`Headliner_all_df.pkl` Информация о всех звонках `Headliner`](https://drive.google.com/file/d/1857LwaVtJ364yFMpXemILSuVu84YEPPw/view?usp=sharing)\n",
        "*   [`Headliner_work_df.pkl` Рабочий датафрейм с информацией о всех звонках `Headliner`](https://drive.google.com/file/d/1-HOWuSAngv9dXYiMlyRXX0kmVVAAT4sV/view?usp=sharing)\n",
        "*   [`Headliner_targets_df.pkl` Целевые звонки `Headliner`](https://drive.google.com/file/d/1-J1gcgb2mrNDx3R_3l12kq0htS8PTkSv/view?usp=sharing)\n",
        "*   [`Headliner_not_targets_df.pkl` Нецелевые звонки `Headliner`](https://drive.google.com/file/d/1dGf3UrVeQg0VfFhBL_lZfm-gaczPYBnL/view?usp=sharing)\n",
        "*   [`Headliner_moot_df.pkl` Спорные звонки `Headliner`](https://drive.google.com/file/d/1-7vtN8vJNWgWfY8JE8bqoRXkUpvRE_og/view?usp=sharing)"
      ],
      "metadata": {
        "id": "mDL3pxvjeUPu"
      }
    },
    {
      "cell_type": "markdown",
      "source": [
        "*   [`Headliner_targets_train_df.pkl` Целевые звонки `Headliner` для обучающей выборки](https://drive.google.com/file/d/1mXwujIDOQ_wbP68pl60mEkPVm6dYJf9Y/view?usp=sharing)\n",
        "*   [`Headliner_not_targets_train_df.pkl` Нецелевые звонки `Headliner` для обучающей выборки](https://drive.google.com/file/d/1-CvhJxwCVooN5_OcXUJAl519m76JOvbN/view?usp=sharing)\n",
        "*   [`Headliner_moot_train_df.pkl` Спорные звонки `Headliner` для обучающей выборки](https://drive.google.com/file/d/1-KwRSk9Jrf5Get1dwFvHECmb26QDdhRa/view?usp=sharing)"
      ],
      "metadata": {
        "id": "bVtpCEngH-8W"
      }
    },
    {
      "cell_type": "markdown",
      "source": [
        "*   [`Headliner_targets_test_df.pkl` Целевые звонки `Headliner` для тестовой выборки](https://drive.google.com/file/d/1-3bxOkIwEoSAXNjzE7wjZ8AhM4Z1-xfN/view?usp=sharing)\n",
        "*   [`Headliner_not_targets_test_df.pkl` Нецелевые звонки `Headliner`для тестовой выборки](https://drive.google.com/file/d/1-DAv-KEY8APguoXgIgaonsb1fQ4rrMag/view?usp=sharing)\n",
        "*   [`Headliner_moot_test_df.pkl` Спорные звонки `Headliner`для тестовой выборки](https://drive.google.com/file/d/1-Q-VwKTqoPZohQxBCZRFL-BvZXB7SJhc/view?usp=sharing)"
      ],
      "metadata": {
        "id": "D868cWsyID-Q"
      }
    },
    {
      "cell_type": "markdown",
      "source": [
        "## Primavera"
      ],
      "metadata": {
        "id": "kbc1ff-1eUPv"
      }
    },
    {
      "cell_type": "markdown",
      "source": [
        "*   [`Primavera_df.pkl` Информация о звонках `Primavera`](https://drive.google.com/file/d/1-3csPnjIJXviKJzvbpCfOm29nBgl8L4Q/view?usp=sharing)\n",
        "*   [`Primavera_new_df.pkl` Информация о новых звонках `Primavera`](https://drive.google.com/file/d/1-QmWkabU2_cyrXPeVaiHSt2e6sLuiCtp/view?usp=sharing)"
      ],
      "metadata": {
        "id": "qVHFTfk4eUPv"
      }
    },
    {
      "cell_type": "markdown",
      "source": [
        "*   [`Primavera_calls_df.pkl` Файлы записей звонков `Primavera`](https://drive.google.com/file/d/1-CLRfPyaGSc61OopNuFRlWTG-CBCaM1F/view?usp=sharing)\n",
        "*   [`Primavera_new_calls_df.pkl` Файлы записей новых звонков `Primavera`](https://drive.google.com/file/d/1-Lxa0KifMiByareL94rdEzEpvvMj4D1T/view?usp=sharing)\n",
        "*   [`Primavera_transcriptions_df` Файлы транскрибации записей звонков `Primavera`](https://drive.google.com/file/d/1-21AcHmdkRhKmL0uwWOJ0jHyY8sj1tME/view?usp=sharing)\n",
        "*   [`Primavera_new_transcriptions_df.pkl` Файлы транскрибации новых записей звонков `Primavera`](https://drive.google.com/file/d/1-BtSBVH2JXol5JDA0GKV4NOIz5WUnUd5/view?usp=sharing)"
      ],
      "metadata": {
        "id": "isfUjkQdeUPv"
      }
    },
    {
      "cell_type": "markdown",
      "source": [
        "*   [`Primavera_all_df.pkl` Информация о всех звонках `Primavera`](https://drive.google.com/file/d/1-2-RlxkKHj5e6RkvbrN7_vs1h5aVXJFk/view?usp=sharing)\n",
        "*   [`Primavera_work_df.pkl` Рабочий датафрейм с информацией о всех звонках `Primavera`](https://drive.google.com/file/d/1-INI9JsU9jsOkPDiGMKhftt18KXgF6-K/view?usp=sharing)\n",
        "*   [`Primavera_targets_df.pkl` Целевые звонки `Primavera`](https://drive.google.com/file/d/1-JVtM9fOr6XoM7MVxkoVsYfwdZ6GQ--i/view?usp=sharing)\n",
        "*   [`Primavera_not_targets_df.pkl` Нецелевые звонки `Primavera`](https://drive.google.com/file/d/1-KwG8M-0wEn-5C4ta-B8_xYGCXDOhpnH/view?usp=sharing)"
      ],
      "metadata": {
        "id": "65OiaZuleUPw"
      }
    },
    {
      "cell_type": "markdown",
      "source": [
        "*   [`Primavera_targets_train_df.pkl` Целевые звонки `Primavera` для обучающей выборки](https://drive.google.com/file/d/1WY910LSwTDTf_m7vtFk3z9FqXao0FhZX/view?usp=sharing)\n",
        "*   [`Primavera_not_targets_train_df.pkl` Нецелевые звонки `Primavera` для обучающей выборки](https://drive.google.com/file/d/1-5TvmSizrXJHNXnfdbBafq8CjG65AiMG/view?usp=sharing)"
      ],
      "metadata": {
        "id": "jBoDVYilJfKe"
      }
    },
    {
      "cell_type": "markdown",
      "source": [
        "*   [`Primavera_targets_test_df.pkl` Целевые звонки `Primavera` для тестовой выборки](https://drive.google.com/file/d/1-4s9BrHxpT_fzyXe4E03_GqGIFPZf9Io/view?usp=sharing)\n",
        "*   [`Primavera_not_targets_test_df.pkl` Нецелевые звонки `Primavera`для тестовой выборки](https://drive.google.com/file/d/1-EOHhmMQ7SFhS51_rIh7UCwm68W18twC/view?usp=sharing)"
      ],
      "metadata": {
        "id": "IjBqZg8mJhyT"
      }
    },
    {
      "cell_type": "markdown",
      "source": [
        "## Paveletskaya_city"
      ],
      "metadata": {
        "id": "22vlkN0beUPw"
      }
    },
    {
      "cell_type": "markdown",
      "source": [
        "*   [`Paveletskaya_city_df.pkl` Информация о звонках `Paveletskaya_city`](https://drive.google.com/file/d/1-99dLkSvU3wdwjkGJpwpYUXQjxx8dwEu/view?usp=sharing)\n",
        "*   [`Paveletskaya_df.pkl` Информация о звонках `Paveletskaya_city`](https://drive.google.com/file/d/1-D6LlCFXQBMHceujvnq9H8rlx2jAnzmT/view?usp=sharing)\n",
        "*   [`Paveletskaya_city_new_df.pkl` Информация о новых звонках `Paveletskaya_city`](https://drive.google.com/file/d/1-Rtw9a1no3mKatUjc_FNv_bgUBdNrs_d/view?usp=sharing)"
      ],
      "metadata": {
        "id": "dqdBIi9teUPw"
      }
    },
    {
      "cell_type": "markdown",
      "source": [
        "*   [`Paveletskaya_city_calls_df.pkl` Файлы записей звонков `Paveletskaya_city`](https://drive.google.com/file/d/1-JevsfOpxzLNZmSs34qrswhGzhPwf69S/view?usp=sharing)\n",
        "*   [`Paveletskaya_city_new_calls_df.pkl` Файлы записей новых звонков `Paveletskaya_city`](https://drive.google.com/file/d/1-ODEeFLv15DN5bfLlwyrTx8D3yxydhP9/view?usp=sharing)\n",
        "*   [`Paveletskaya_city_transcriptions_df` Файлы транскрибации записей звонков `Paveletskaya_city`](https://drive.google.com/file/d/1-2kqmIGIraP70ekXB6LBqNjwaTnoxyk5/view?usp=sharing)\n",
        "*   [`Paveletskaya_city_new_transcriptions_df.pkl` Файлы транскрибации новых записей звонков `Paveletskaya_city`](https://drive.google.com/file/d/1-EfA8ZCpGNQk__puhiv1FuxoZC0rXxpj/view?usp=sharing)"
      ],
      "metadata": {
        "id": "LDBkuBxyeUPx"
      }
    },
    {
      "cell_type": "markdown",
      "source": [
        "*   [`Paveletskaya_city_all_df.pkl` Информация о всех звонках `Paveletskaya_city`](https://drive.google.com/file/d/1-Cy78DqRZ3sbIHkg25wzVWPL-lST5oQa/view?usp=sharing)\n",
        "*   [`Paveletskaya_city_work_df.pkl` Рабочий датафрейм с информацией о всех звонках `Paveletskaya_city`](https://drive.google.com/file/d/1-J1BoALFH4-HRdVXjnkyr-fExmtQpUc7/view?usp=sharing)\n",
        "*   [`Paveletskaya_city_targets_df.pkl` Целевые звонки `Paveletskaya_city`](https://drive.google.com/file/d/1-MrjnBHDj65CEjJxLfPnp-hq07V_wtZK/view?usp=sharing)\n",
        "*   [`Paveletskaya_city_not_targets_df.pkl` Нецелевые звонки `Paveletskaya_city`](https://drive.google.com/file/d/1-WCCyYaorHkBYoh5ugNsCkD7cb1PKH6D/view?usp=sharing)"
      ],
      "metadata": {
        "id": "8sY31zxleUPx"
      }
    },
    {
      "cell_type": "markdown",
      "source": [
        "*   [`Paveletskaya_city_targets_train_df.pkl` Целевые звонки `Paveletskaya_city` для обучающей выборки](https://drive.google.com/file/d/1-E_xfQcc9vaGxEJSiUeiEp5fbxn-1bxZ/view?usp=sharing)\n",
        "*   [`Paveletskaya_city_not_targets_train_df.pkl` Нецелевые звонки `Paveletskaya_city` для обучающей выборки](https://drive.google.com/file/d/1-XqcAK06ppsTLagZGpeXX96e2yhDt-iz/view?usp=sharing)"
      ],
      "metadata": {
        "id": "MN_bZUdMKWzC"
      }
    },
    {
      "cell_type": "markdown",
      "source": [
        "*   [`Paveletskaya_city_targets_test_df.pkl` Целевые звонки `Paveletskaya_city` для тестовой выборки](https://drive.google.com/file/d/1-VUl5bcPpEoEsQfyEQZyYy_ESrbx-sR1/view?usp=sharing)\n",
        "*   [`Paveletskaya_city_not_targets_test_df.pkl` Нецелевые звонки `Paveletskaya_city`для тестовой выборки](https://drive.google.com/file/d/1-dCaZZ2NtvODY2KWwsEgwUOhdqD0Szkv/view?usp=sharing)"
      ],
      "metadata": {
        "id": "rfNOFCFyKZKo"
      }
    },
    {
      "cell_type": "markdown",
      "source": [
        "## Сводные датафреймы"
      ],
      "metadata": {
        "id": "hyBXBxv6eUPy"
      }
    },
    {
      "cell_type": "markdown",
      "source": [
        "*   [`total_df.pkl` Сводный датафрейм с информацией о всех звонках](https://drive.google.com/file/d/15ijhw62sp2JNH6pryqZtM5akQHUnsTzi/view?usp=sharing)\n",
        "*   [`total_work_df.pkl` Сводный рабочий датафрейм с информацией о всех звонках](https://drive.google.com/file/d/1-056tLrjP5yRQW8yRtwutvXs3zmPulW7/view?usp=sharing)"
      ],
      "metadata": {
        "id": "ArIV377meUPy"
      }
    },
    {
      "cell_type": "markdown",
      "source": [
        "*   [`train_df.pkl` Обучающая выборка](https://drive.google.com/file/d/1-nipawwiXKNPeMIE2nxlAOZCVK_5N89B/view?usp=sharing)\n",
        "*   [`test_df.pkl` Тестовая выборка](https://drive.google.com/file/d/1-sLBh5rMAhVI7ps68eiSMEVfwjB7PNdT/view?usp=sharing)"
      ],
      "metadata": {
        "id": "lc8ZhhsELA5r"
      }
    },
    {
      "cell_type": "markdown",
      "source": [
        "# 7 неделя"
      ],
      "metadata": {
        "id": "rVDYF0C9YQcB"
      }
    },
    {
      "cell_type": "code",
      "source": [
        "!rm -r sample_data"
      ],
      "metadata": {
        "id": "9KuUYa49Vo8A"
      },
      "execution_count": 1,
      "outputs": []
    },
    {
      "cell_type": "code",
      "source": [
        "# Подключаем google-диск\n",
        "from google.colab import drive\n",
        "drive.mount('/content/drive')\n",
        "my_drv_path = '/content/drive/MyDrive/'"
      ],
      "metadata": {
        "colab": {
          "base_uri": "https://localhost:8080/"
        },
        "id": "IOx_s0fIVwbK",
        "outputId": "247dd8bc-f4c5-476e-f4eb-2764f8b96c18"
      },
      "execution_count": 2,
      "outputs": [
        {
          "output_type": "stream",
          "name": "stdout",
          "text": [
            "Mounted at /content/drive\n"
          ]
        }
      ]
    },
    {
      "cell_type": "markdown",
      "source": [
        "## Библиотеки и переменные"
      ],
      "metadata": {
        "id": "shwe_q3BV8Vr"
      }
    },
    {
      "cell_type": "code",
      "source": [
        "# Установка sweetviz\n",
        "!pip install -q sweetviz"
      ],
      "metadata": {
        "colab": {
          "base_uri": "https://localhost:8080/"
        },
        "id": "jRQG2lSK0Syx",
        "outputId": "388821fc-b6b7-4775-c32a-a50f8a324072"
      },
      "execution_count": 3,
      "outputs": [
        {
          "output_type": "stream",
          "name": "stdout",
          "text": [
            "\u001b[2K     \u001b[90m━━━━━━━━━━━━━━━━━━━━━━━━━━━━━━━━━━━━━━━━\u001b[0m \u001b[32m15.1/15.1 MB\u001b[0m \u001b[31m31.8 MB/s\u001b[0m eta \u001b[36m0:00:00\u001b[0m\n",
            "\u001b[?25h"
          ]
        }
      ]
    },
    {
      "cell_type": "code",
      "source": [
        "import os             # для работы с операционной системой\n",
        "import pickle as pkl  # для сохранения и загрузки переменных\n",
        "import pandas as pd   # для работы с таблицами\n",
        "import numpy  as np   # для работы с массивами\n",
        "import re             # для работы с регулярными выражениями\n",
        "import sweetviz as sv # для анализа данных\n",
        "\n",
        "# Параметры отображения датафреймов\n",
        "pd.options.display.max_rows     = 99\n",
        "pd.options.display.max_columns  = 99\n",
        "pd.options.display.max_colwidth = 999\n",
        "\n",
        "work_dir_path              = my_drv_path           + 'media108.ru/Новички/'                # путь к рабочей папке\n",
        "df_path                    = work_dir_path         + 'Датафреймы/'                         # путь к папке для датафреймов\n",
        "table_path                 = work_dir_path         + 'Таблицы/'                            # путь к папке для таблиц\n",
        "model_path                 = work_dir_path         + 'Модели/'                             # путь к папке для моделей нейронных сетей\n",
        "all_dataset_path           = work_dir_path         + 'Датасет/'                            # путь к папке всего датасета в целом\n",
        "dataset_path               = all_dataset_path      + 'Записи звонков/'                     # путь к записям звонков\n",
        "dataset_info_path          = dataset_path          + 'Информация о звонках/'               # путь к информации о звонках\n",
        "dataset_new_path           = all_dataset_path      + 'Новые записи звонков/'               # путь к новым записям звонков\n",
        "dataset_new_info_path      = dataset_new_path      + 'Информация о звонках/'               # путь к информации о новых звонках\n",
        "Headliner_path             = dataset_path          + 'Записи звонков_хедлайнер'            # путь к записям звонков проекта Headliner\n",
        "Headliner_info             = dataset_info_path     + 'Headliner.csv'                       # путь к информации о звонках проекта Headliner\n",
        "Headliner_new_path         = dataset_new_path      + 'Записи Headliner'                    # путь к записям новых звонков проекта Headliner\n",
        "Headliner_new_info         = dataset_new_info_path + 'Headliner.xlsx'                      # путь к информации о новых звонках проекта Headliner\n",
        "Primavera_path             = dataset_path          + 'Записи звонков_primavera'            # путь к записям звонков проекта Primavera\n",
        "Primavera_info             = dataset_info_path     + 'Primavera .csv'                      # путь к информации о звонках проекта Primavera\n",
        "Primavera_new_path         = dataset_new_path      + 'Записи Primavera'                    # путь к записям новых звонков проекта Primavera\n",
        "Primavera_new_info         = dataset_new_info_path + 'Примавера.xlsx'                      # путь к информации о новых звонках проекта Primavera\n",
        "Paveletskaya_city_path     = dataset_path          + 'Записи звонков_павелецкая сити'      # путь к записям звонков проекта Paveletskaya_city\n",
        "Paveletskaya_city_info     = dataset_info_path     + 'Павелецкая_ЖК_«Павелецкая_сити».csv' # путь к информации о звонках проекта Paveletskaya_city\n",
        "Paveletskaya_info          = dataset_info_path     + 'Павелецкая (pavcity.turbo.site).csv' # путь к информации о звонках проекта Paveletskaya_city\n",
        "Paveletskaya_city_new_path = dataset_new_path      + 'Записи Павелецкая сити'              # путь к записям новых звонков проекта Paveletskaya_city\n",
        "Paveletskaya_city_new_info = dataset_new_info_path + 'Павелецкая сити.xlsx'                # путь к информации о новых звонках проекта Paveletskaya_city"
      ],
      "metadata": {
        "id": "afuxbj6ibJz2"
      },
      "execution_count": 4,
      "outputs": []
    },
    {
      "cell_type": "markdown",
      "source": [
        "## Разделение датасета на обучающую и тестовую выборки"
      ],
      "metadata": {
        "id": "33bQhd7FyjW5"
      }
    },
    {
      "cell_type": "markdown",
      "source": [
        "### Headliner"
      ],
      "metadata": {
        "id": "Hf1JGD7iywW6"
      }
    },
    {
      "cell_type": "markdown",
      "source": [
        "#### Загрузка датафреймов"
      ],
      "metadata": {
        "id": "NsU4RcEB0Vl8"
      }
    },
    {
      "cell_type": "code",
      "source": [
        "# Загрузка Headliner_targets_df\n",
        "with open(df_path + 'Headliner_targets_df.pkl', 'rb') as f:\n",
        "  Headliner_targets_df = pkl.load(f)\n",
        "\n",
        "# Загрузка Headliner_not_targets_df\n",
        "with open(df_path + 'Headliner_not_targets_df.pkl', 'rb') as f:\n",
        "  Headliner_not_targets_df = pkl.load(f)\n",
        "\n",
        "# Загрузка Headliner_moot_df\n",
        "with open(df_path + 'Headliner_moot_df.pkl', 'rb') as f:\n",
        "  Headliner_moot_df = pkl.load(f)"
      ],
      "metadata": {
        "id": "KXWwSK9czK6I"
      },
      "execution_count": null,
      "outputs": []
    },
    {
      "cell_type": "markdown",
      "source": [
        "#### `Headliner_targets_train_df`"
      ],
      "metadata": {
        "id": "MrMbZhEeJ0F9"
      }
    },
    {
      "cell_type": "code",
      "source": [
        "print(Headliner_targets_df.shape)"
      ],
      "metadata": {
        "colab": {
          "base_uri": "https://localhost:8080/"
        },
        "outputId": "f887ae7b-df22-473a-f0c3-bc2c3f2454dd",
        "id": "CFillvjOJ0F-"
      },
      "execution_count": null,
      "outputs": [
        {
          "output_type": "stream",
          "name": "stdout",
          "text": [
            "(549, 78)\n"
          ]
        }
      ]
    },
    {
      "cell_type": "code",
      "source": [
        "Headliner_targets_train_df = Headliner_targets_df[:494]\n",
        "Headliner_targets_train_df.index = range(Headliner_targets_train_df.shape[0])\n",
        "Headliner_targets_train_df.shape"
      ],
      "metadata": {
        "colab": {
          "base_uri": "https://localhost:8080/"
        },
        "outputId": "d85d5e6d-c08e-4b3b-b74e-37ab3ea5fc35",
        "id": "vS6C7SahJ0F_"
      },
      "execution_count": null,
      "outputs": [
        {
          "output_type": "execute_result",
          "data": {
            "text/plain": [
              "(494, 78)"
            ]
          },
          "metadata": {},
          "execution_count": 6
        }
      ]
    },
    {
      "cell_type": "code",
      "source": [
        "# Сохраняем Headliner_targets_train_df в pkl\n",
        "with open(df_path + 'Headliner_targets_train_df.pkl', 'wb') as f:\n",
        "  pkl.dump(Headliner_targets_train_df, f)"
      ],
      "metadata": {
        "id": "DQ0YzK_iJ0GL"
      },
      "execution_count": null,
      "outputs": []
    },
    {
      "cell_type": "markdown",
      "source": [
        "#### `Headliner_targets_test_df`"
      ],
      "metadata": {
        "id": "oUSTMdlGPqt0"
      }
    },
    {
      "cell_type": "code",
      "source": [
        "print(Headliner_targets_df.shape)"
      ],
      "metadata": {
        "colab": {
          "base_uri": "https://localhost:8080/"
        },
        "outputId": "7f4bb23d-fe95-49e7-a72e-1b2bcbe13852",
        "id": "3RevsYt1Pqt2"
      },
      "execution_count": null,
      "outputs": [
        {
          "output_type": "stream",
          "name": "stdout",
          "text": [
            "(549, 78)\n"
          ]
        }
      ]
    },
    {
      "cell_type": "code",
      "source": [
        "Headliner_targets_test_df = Headliner_targets_df[494:]\n",
        "Headliner_targets_test_df.index = range(Headliner_targets_test_df.shape[0])\n",
        "Headliner_targets_test_df.shape"
      ],
      "metadata": {
        "colab": {
          "base_uri": "https://localhost:8080/"
        },
        "outputId": "f93de997-776f-4ba3-dc02-c840cf0d0501",
        "id": "uKezP-tQPquD"
      },
      "execution_count": null,
      "outputs": [
        {
          "output_type": "execute_result",
          "data": {
            "text/plain": [
              "(55, 78)"
            ]
          },
          "metadata": {},
          "execution_count": 9
        }
      ]
    },
    {
      "cell_type": "code",
      "source": [
        "# Сохраняем Headliner_targets_test_df в pkl\n",
        "with open(df_path + 'Headliner_targets_test_df.pkl', 'wb') as f:\n",
        "  pkl.dump(Headliner_targets_test_df, f)"
      ],
      "metadata": {
        "id": "ufXxOeHrPquE"
      },
      "execution_count": null,
      "outputs": []
    },
    {
      "cell_type": "markdown",
      "source": [
        "#### `Headliner_not_targets_train_df`"
      ],
      "metadata": {
        "id": "xrVlH6fZRJYg"
      }
    },
    {
      "cell_type": "code",
      "source": [
        "print(Headliner_not_targets_df.shape)"
      ],
      "metadata": {
        "colab": {
          "base_uri": "https://localhost:8080/"
        },
        "outputId": "ceedf954-1e99-4cbf-b475-f41d3c3818ca",
        "id": "KjasmH6hRJYi"
      },
      "execution_count": null,
      "outputs": [
        {
          "output_type": "stream",
          "name": "stdout",
          "text": [
            "(1082, 78)\n"
          ]
        }
      ]
    },
    {
      "cell_type": "code",
      "source": [
        "Headliner_not_targets_train_df = Headliner_not_targets_df[:974]\n",
        "Headliner_not_targets_train_df.index = range(Headliner_not_targets_train_df.shape[0])\n",
        "Headliner_not_targets_train_df.shape"
      ],
      "metadata": {
        "colab": {
          "base_uri": "https://localhost:8080/"
        },
        "outputId": "85a9eadd-3710-4dd9-f04f-06a906605121",
        "id": "LZwOOOIzRJYk"
      },
      "execution_count": null,
      "outputs": [
        {
          "output_type": "execute_result",
          "data": {
            "text/plain": [
              "(974, 78)"
            ]
          },
          "metadata": {},
          "execution_count": 12
        }
      ]
    },
    {
      "cell_type": "code",
      "source": [
        "# Сохраняем Headliner_not_targets_train_df в pkl\n",
        "with open(df_path + 'Headliner_not_targets_train_df.pkl', 'wb') as f:\n",
        "  pkl.dump(Headliner_not_targets_train_df, f)"
      ],
      "metadata": {
        "id": "G8ZXCl8iRJYy"
      },
      "execution_count": null,
      "outputs": []
    },
    {
      "cell_type": "markdown",
      "source": [
        "#### `Headliner_not_targets_test_df`"
      ],
      "metadata": {
        "id": "KnuxT0O9TE9z"
      }
    },
    {
      "cell_type": "code",
      "source": [
        "print(Headliner_not_targets_df.shape)"
      ],
      "metadata": {
        "colab": {
          "base_uri": "https://localhost:8080/"
        },
        "outputId": "ad357291-8926-4cea-d3e4-5eea7acc527a",
        "id": "qWKqva_NTE90"
      },
      "execution_count": null,
      "outputs": [
        {
          "output_type": "stream",
          "name": "stdout",
          "text": [
            "(1082, 78)\n"
          ]
        }
      ]
    },
    {
      "cell_type": "code",
      "source": [
        "Headliner_not_targets_test_df = Headliner_not_targets_df[974:]\n",
        "Headliner_not_targets_test_df.index = range(Headliner_not_targets_test_df.shape[0])\n",
        "Headliner_not_targets_test_df.shape"
      ],
      "metadata": {
        "colab": {
          "base_uri": "https://localhost:8080/"
        },
        "outputId": "fb481e9b-b047-482c-d47f-55973bda8acd",
        "id": "EcBHmUJeTE-D"
      },
      "execution_count": null,
      "outputs": [
        {
          "output_type": "execute_result",
          "data": {
            "text/plain": [
              "(108, 78)"
            ]
          },
          "metadata": {},
          "execution_count": 15
        }
      ]
    },
    {
      "cell_type": "code",
      "source": [
        "# Сохраняем Headliner_not_targets_test_df в pkl\n",
        "with open(df_path + 'Headliner_not_targets_test_df.pkl', 'wb') as f:\n",
        "  pkl.dump(Headliner_not_targets_test_df, f)"
      ],
      "metadata": {
        "id": "D9ZvOQxyTE-E"
      },
      "execution_count": null,
      "outputs": []
    },
    {
      "cell_type": "markdown",
      "source": [
        "#### `Headliner_moot_train_df`"
      ],
      "metadata": {
        "id": "ZonigCW83bnB"
      }
    },
    {
      "cell_type": "code",
      "source": [
        "print(Headliner_moot_df.shape)"
      ],
      "metadata": {
        "colab": {
          "base_uri": "https://localhost:8080/"
        },
        "outputId": "c763b938-c4e5-4331-ae14-3df94fe0cd22",
        "id": "HDp0DrFh3bnR"
      },
      "execution_count": null,
      "outputs": [
        {
          "output_type": "stream",
          "name": "stdout",
          "text": [
            "(1633, 78)\n"
          ]
        }
      ]
    },
    {
      "cell_type": "code",
      "source": [
        "Headliner_moot_train_df = Headliner_moot_df[:1470]\n",
        "Headliner_moot_train_df.index = range(Headliner_moot_train_df.shape[0])\n",
        "Headliner_moot_train_df.shape"
      ],
      "metadata": {
        "colab": {
          "base_uri": "https://localhost:8080/"
        },
        "outputId": "a0aee7e6-5793-4abd-eec8-5d3a04cc4486",
        "id": "C7MFCxFB3bnR"
      },
      "execution_count": null,
      "outputs": [
        {
          "output_type": "execute_result",
          "data": {
            "text/plain": [
              "(1470, 78)"
            ]
          },
          "metadata": {},
          "execution_count": 19
        }
      ]
    },
    {
      "cell_type": "code",
      "source": [
        "# Сохраняем Headliner_moot_train_df в pkl\n",
        "with open(df_path + 'Headliner_moot_train_df.pkl', 'wb') as f:\n",
        "  pkl.dump(Headliner_moot_train_df, f)"
      ],
      "metadata": {
        "id": "LtYD3t293bnR"
      },
      "execution_count": null,
      "outputs": []
    },
    {
      "cell_type": "markdown",
      "source": [
        "#### `Headliner_moot_test_df`"
      ],
      "metadata": {
        "id": "x377J2Lc4oDs"
      }
    },
    {
      "cell_type": "code",
      "source": [
        "print(Headliner_moot_df.shape)"
      ],
      "metadata": {
        "colab": {
          "base_uri": "https://localhost:8080/"
        },
        "outputId": "0714435e-ae3f-4024-cf68-031afaab1a10",
        "id": "XYvM2SSM4oDs"
      },
      "execution_count": null,
      "outputs": [
        {
          "output_type": "stream",
          "name": "stdout",
          "text": [
            "(1633, 78)\n"
          ]
        }
      ]
    },
    {
      "cell_type": "code",
      "source": [
        "Headliner_moot_test_df = Headliner_moot_df[1470:]\n",
        "Headliner_moot_test_df.index = range(Headliner_moot_test_df.shape[0])\n",
        "Headliner_moot_test_df.shape"
      ],
      "metadata": {
        "colab": {
          "base_uri": "https://localhost:8080/"
        },
        "outputId": "c649b176-1303-468f-d14f-a5b6f380310c",
        "id": "WGohAg074oDs"
      },
      "execution_count": null,
      "outputs": [
        {
          "output_type": "execute_result",
          "data": {
            "text/plain": [
              "(163, 78)"
            ]
          },
          "metadata": {},
          "execution_count": 22
        }
      ]
    },
    {
      "cell_type": "code",
      "source": [
        "# Сохраняем Headliner_moot_test_df в pkl\n",
        "with open(df_path + 'Headliner_moot_test_df.pkl', 'wb') as f:\n",
        "  pkl.dump(Headliner_moot_test_df, f)"
      ],
      "metadata": {
        "id": "Ax8Ew5w64oDs"
      },
      "execution_count": null,
      "outputs": []
    },
    {
      "cell_type": "markdown",
      "source": [
        "### Primavera"
      ],
      "metadata": {
        "id": "cZjR0rdC9dNU"
      }
    },
    {
      "cell_type": "markdown",
      "source": [
        "#### Загрузка датафреймов"
      ],
      "metadata": {
        "id": "GjOuRgU29dNV"
      }
    },
    {
      "cell_type": "code",
      "source": [
        "# Загрузка Primavera_targets_df\n",
        "with open(df_path + 'Primavera_targets_df.pkl', 'rb') as f:\n",
        "  Primavera_targets_df = pkl.load(f)\n",
        "\n",
        "# Загрузка Primavera_not_targets_df\n",
        "with open(df_path + 'Primavera_not_targets_df.pkl', 'rb') as f:\n",
        "  Primavera_not_targets_df = pkl.load(f)"
      ],
      "metadata": {
        "id": "RzA5RLW19dNW"
      },
      "execution_count": null,
      "outputs": []
    },
    {
      "cell_type": "markdown",
      "source": [
        "#### `Primavera_targets_train_df`"
      ],
      "metadata": {
        "id": "4SYdjQIS9dNW"
      }
    },
    {
      "cell_type": "code",
      "source": [
        "print(Primavera_targets_df.shape)"
      ],
      "metadata": {
        "colab": {
          "base_uri": "https://localhost:8080/"
        },
        "outputId": "4b22c3fb-c24d-4d06-afda-5848c9ef8858",
        "id": "oYniI-E49dNW"
      },
      "execution_count": null,
      "outputs": [
        {
          "output_type": "stream",
          "name": "stdout",
          "text": [
            "(969, 78)\n"
          ]
        }
      ]
    },
    {
      "cell_type": "code",
      "source": [
        "Primavera_targets_train_df = Primavera_targets_df[:872]\n",
        "Primavera_targets_train_df.index = range(Primavera_targets_train_df.shape[0])\n",
        "Primavera_targets_train_df.shape"
      ],
      "metadata": {
        "colab": {
          "base_uri": "https://localhost:8080/"
        },
        "outputId": "54aaa598-0783-4567-8fde-f8f62e2c2761",
        "id": "n2DkVDZZ9dNX"
      },
      "execution_count": null,
      "outputs": [
        {
          "output_type": "execute_result",
          "data": {
            "text/plain": [
              "(872, 78)"
            ]
          },
          "metadata": {},
          "execution_count": 6
        }
      ]
    },
    {
      "cell_type": "code",
      "source": [
        "# Сохраняем Primavera_targets_train_df в pkl\n",
        "with open(df_path + 'Primavera_targets_train_df.pkl', 'wb') as f:\n",
        "  pkl.dump(Primavera_targets_train_df, f)"
      ],
      "metadata": {
        "id": "68wInn1-9dNY"
      },
      "execution_count": null,
      "outputs": []
    },
    {
      "cell_type": "markdown",
      "source": [
        "#### `Primavera_targets_test_df`"
      ],
      "metadata": {
        "id": "t87ZVV8U9dNY"
      }
    },
    {
      "cell_type": "code",
      "source": [
        "print(Primavera_targets_df.shape)"
      ],
      "metadata": {
        "colab": {
          "base_uri": "https://localhost:8080/"
        },
        "outputId": "266cb5eb-7dae-4189-88d6-a3c9a073766c",
        "id": "HA50_pa29dNY"
      },
      "execution_count": null,
      "outputs": [
        {
          "output_type": "stream",
          "name": "stdout",
          "text": [
            "(969, 78)\n"
          ]
        }
      ]
    },
    {
      "cell_type": "code",
      "source": [
        "Primavera_targets_test_df = Primavera_targets_df[872:]\n",
        "Primavera_targets_test_df.index = range(Primavera_targets_test_df.shape[0])\n",
        "Primavera_targets_test_df.shape"
      ],
      "metadata": {
        "colab": {
          "base_uri": "https://localhost:8080/"
        },
        "outputId": "d2ea4381-aa55-47a5-c308-aefa98598ef1",
        "id": "u3k--aj49dNZ"
      },
      "execution_count": null,
      "outputs": [
        {
          "output_type": "execute_result",
          "data": {
            "text/plain": [
              "(97, 78)"
            ]
          },
          "metadata": {},
          "execution_count": 9
        }
      ]
    },
    {
      "cell_type": "code",
      "source": [
        "# Сохраняем Primavera_targets_test_df в pkl\n",
        "with open(df_path + 'Primavera_targets_test_df.pkl', 'wb') as f:\n",
        "  pkl.dump(Primavera_targets_test_df, f)"
      ],
      "metadata": {
        "id": "jWLOC1ut9dNZ"
      },
      "execution_count": null,
      "outputs": []
    },
    {
      "cell_type": "markdown",
      "source": [
        "#### `Primavera_not_targets_train_df`"
      ],
      "metadata": {
        "id": "Hd91wyBO9dNa"
      }
    },
    {
      "cell_type": "code",
      "source": [
        "print(Primavera_not_targets_df.shape)"
      ],
      "metadata": {
        "colab": {
          "base_uri": "https://localhost:8080/"
        },
        "outputId": "b3972df1-95d1-4461-adab-0c54876420a5",
        "id": "aOh9q87I9dNa"
      },
      "execution_count": null,
      "outputs": [
        {
          "output_type": "stream",
          "name": "stdout",
          "text": [
            "(1303, 78)\n"
          ]
        }
      ]
    },
    {
      "cell_type": "code",
      "source": [
        "Primavera_not_targets_train_df = Primavera_not_targets_df[:1173]\n",
        "Primavera_not_targets_train_df.index = range(Primavera_not_targets_train_df.shape[0])\n",
        "Primavera_not_targets_train_df.shape"
      ],
      "metadata": {
        "colab": {
          "base_uri": "https://localhost:8080/"
        },
        "outputId": "093f223c-7006-4389-ae99-0b87fd7c55be",
        "id": "uISbEpVr9dNb"
      },
      "execution_count": null,
      "outputs": [
        {
          "output_type": "execute_result",
          "data": {
            "text/plain": [
              "(1173, 78)"
            ]
          },
          "metadata": {},
          "execution_count": 12
        }
      ]
    },
    {
      "cell_type": "code",
      "source": [
        "# Сохраняем Primavera_not_targets_train_df в pkl\n",
        "with open(df_path + 'Primavera_not_targets_train_df.pkl', 'wb') as f:\n",
        "  pkl.dump(Primavera_not_targets_train_df, f)"
      ],
      "metadata": {
        "id": "4R-QVfj_9dNb"
      },
      "execution_count": null,
      "outputs": []
    },
    {
      "cell_type": "markdown",
      "source": [
        "#### `Primavera_not_targets_test_df`"
      ],
      "metadata": {
        "id": "hqgoyocs9dNc"
      }
    },
    {
      "cell_type": "code",
      "source": [
        "print(Primavera_not_targets_df.shape)"
      ],
      "metadata": {
        "colab": {
          "base_uri": "https://localhost:8080/"
        },
        "outputId": "79ecffbb-a616-4feb-a779-e2379577c243",
        "id": "w_LQA0JC9dNc"
      },
      "execution_count": null,
      "outputs": [
        {
          "output_type": "stream",
          "name": "stdout",
          "text": [
            "(1303, 78)\n"
          ]
        }
      ]
    },
    {
      "cell_type": "code",
      "source": [
        "Primavera_not_targets_test_df = Primavera_not_targets_df[1173:]\n",
        "Primavera_not_targets_test_df.index = range(Primavera_not_targets_test_df.shape[0])\n",
        "Primavera_not_targets_test_df.shape"
      ],
      "metadata": {
        "colab": {
          "base_uri": "https://localhost:8080/"
        },
        "outputId": "c65cb525-9b84-4b89-a9ee-dcb2f3d4b576",
        "id": "04jB6Jdx9dNd"
      },
      "execution_count": null,
      "outputs": [
        {
          "output_type": "execute_result",
          "data": {
            "text/plain": [
              "(130, 78)"
            ]
          },
          "metadata": {},
          "execution_count": 15
        }
      ]
    },
    {
      "cell_type": "code",
      "source": [
        "# Сохраняем Primavera_not_targets_test_df в pkl\n",
        "with open(df_path + 'Primavera_not_targets_test_df.pkl', 'wb') as f:\n",
        "  pkl.dump(Primavera_not_targets_test_df, f)"
      ],
      "metadata": {
        "id": "-3jgOSUU9dNd"
      },
      "execution_count": null,
      "outputs": []
    },
    {
      "cell_type": "markdown",
      "source": [
        "### Paveletskaya_city"
      ],
      "metadata": {
        "id": "JKKuN_Jq_oPO"
      }
    },
    {
      "cell_type": "markdown",
      "source": [
        "#### Загрузка датафреймов"
      ],
      "metadata": {
        "id": "feJ6lyKH_oPe"
      }
    },
    {
      "cell_type": "code",
      "source": [
        "# Загрузка Paveletskaya_city_targets_df\n",
        "with open(df_path + 'Paveletskaya_city_targets_df.pkl', 'rb') as f:\n",
        "  Paveletskaya_city_targets_df = pkl.load(f)\n",
        "\n",
        "# Загрузка Paveletskaya_city_not_targets_df\n",
        "with open(df_path + 'Paveletskaya_city_not_targets_df.pkl', 'rb') as f:\n",
        "  Paveletskaya_city_not_targets_df = pkl.load(f)"
      ],
      "metadata": {
        "id": "XFhSmdSY_oPe"
      },
      "execution_count": null,
      "outputs": []
    },
    {
      "cell_type": "markdown",
      "source": [
        "#### `Paveletskaya_city_targets_train_df`"
      ],
      "metadata": {
        "id": "lWRjcELe_oPe"
      }
    },
    {
      "cell_type": "code",
      "source": [
        "print(Paveletskaya_city_targets_df.shape)"
      ],
      "metadata": {
        "colab": {
          "base_uri": "https://localhost:8080/"
        },
        "outputId": "4192dcf6-1efc-495a-b8da-8f1cd1e54ed9",
        "id": "qNLqJMCT_oPe"
      },
      "execution_count": null,
      "outputs": [
        {
          "output_type": "stream",
          "name": "stdout",
          "text": [
            "(786, 78)\n"
          ]
        }
      ]
    },
    {
      "cell_type": "code",
      "source": [
        "Paveletskaya_city_targets_train_df = Paveletskaya_city_targets_df[:708]\n",
        "Paveletskaya_city_targets_train_df.index = range(Paveletskaya_city_targets_train_df.shape[0])\n",
        "Paveletskaya_city_targets_train_df.shape"
      ],
      "metadata": {
        "colab": {
          "base_uri": "https://localhost:8080/"
        },
        "outputId": "c0bd48c3-96c2-4531-e79f-e1c922346b06",
        "id": "kBeGh--I_oPu"
      },
      "execution_count": null,
      "outputs": [
        {
          "output_type": "execute_result",
          "data": {
            "text/plain": [
              "(708, 78)"
            ]
          },
          "metadata": {},
          "execution_count": 20
        }
      ]
    },
    {
      "cell_type": "code",
      "source": [
        "# Сохраняем Paveletskaya_city_targets_train_df в pkl\n",
        "with open(df_path + 'Paveletskaya_city_targets_train_df.pkl', 'wb') as f:\n",
        "  pkl.dump(Paveletskaya_city_targets_train_df, f)"
      ],
      "metadata": {
        "id": "h8_-yV1g_oPu"
      },
      "execution_count": null,
      "outputs": []
    },
    {
      "cell_type": "markdown",
      "source": [
        "#### `Paveletskaya_city_targets_test_df`"
      ],
      "metadata": {
        "id": "8cC2SAEC_oPu"
      }
    },
    {
      "cell_type": "code",
      "source": [
        "print(Paveletskaya_city_targets_df.shape)"
      ],
      "metadata": {
        "colab": {
          "base_uri": "https://localhost:8080/"
        },
        "outputId": "9697f768-093e-45a4-ee5d-61ab232fa2b5",
        "id": "pxIPXaMr_oPu"
      },
      "execution_count": null,
      "outputs": [
        {
          "output_type": "stream",
          "name": "stdout",
          "text": [
            "(786, 78)\n"
          ]
        }
      ]
    },
    {
      "cell_type": "code",
      "source": [
        "Paveletskaya_city_targets_test_df = Paveletskaya_city_targets_df[708:]\n",
        "Paveletskaya_city_targets_test_df.index = range(Paveletskaya_city_targets_test_df.shape[0])\n",
        "Paveletskaya_city_targets_test_df.shape"
      ],
      "metadata": {
        "colab": {
          "base_uri": "https://localhost:8080/"
        },
        "outputId": "027d3518-4d69-4cc0-8eb4-9b1ff542f71a",
        "id": "jdNNz90Q_oPu"
      },
      "execution_count": null,
      "outputs": [
        {
          "output_type": "execute_result",
          "data": {
            "text/plain": [
              "(78, 78)"
            ]
          },
          "metadata": {},
          "execution_count": 23
        }
      ]
    },
    {
      "cell_type": "code",
      "source": [
        "# Сохраняем Paveletskaya_city_targets_test_df в pkl\n",
        "with open(df_path + 'Paveletskaya_city_targets_test_df.pkl', 'wb') as f:\n",
        "  pkl.dump(Paveletskaya_city_targets_test_df, f)"
      ],
      "metadata": {
        "id": "yAPlKDT8_oPu"
      },
      "execution_count": null,
      "outputs": []
    },
    {
      "cell_type": "markdown",
      "source": [
        "#### `Paveletskaya_city_not_targets_train_df`"
      ],
      "metadata": {
        "id": "zAg3JzSb_oPu"
      }
    },
    {
      "cell_type": "code",
      "source": [
        "print(Paveletskaya_city_not_targets_df.shape)"
      ],
      "metadata": {
        "colab": {
          "base_uri": "https://localhost:8080/"
        },
        "outputId": "845e4773-2f9a-4dcc-86a3-b9e79966b5a3",
        "id": "kE4Sarky_oPu"
      },
      "execution_count": null,
      "outputs": [
        {
          "output_type": "stream",
          "name": "stdout",
          "text": [
            "(602, 78)\n"
          ]
        }
      ]
    },
    {
      "cell_type": "code",
      "source": [
        "Paveletskaya_city_not_targets_train_df = Paveletskaya_city_not_targets_df[:542]\n",
        "Paveletskaya_city_not_targets_train_df.index = range(Paveletskaya_city_not_targets_train_df.shape[0])\n",
        "Paveletskaya_city_not_targets_train_df.shape"
      ],
      "metadata": {
        "colab": {
          "base_uri": "https://localhost:8080/"
        },
        "outputId": "3721852b-4bc5-4853-cdaf-372d45ee7e42",
        "id": "XRGwuPil_oPu"
      },
      "execution_count": null,
      "outputs": [
        {
          "output_type": "execute_result",
          "data": {
            "text/plain": [
              "(542, 78)"
            ]
          },
          "metadata": {},
          "execution_count": 26
        }
      ]
    },
    {
      "cell_type": "code",
      "source": [
        "# Сохраняем Paveletskaya_city_not_targets_train_df в pkl\n",
        "with open(df_path + 'Paveletskaya_city_not_targets_train_df.pkl', 'wb') as f:\n",
        "  pkl.dump(Paveletskaya_city_not_targets_train_df, f)"
      ],
      "metadata": {
        "id": "INZIN6xm_oPu"
      },
      "execution_count": null,
      "outputs": []
    },
    {
      "cell_type": "markdown",
      "source": [
        "#### `Paveletskaya_city_not_targets_test_df`"
      ],
      "metadata": {
        "id": "lW3JApwl_oPu"
      }
    },
    {
      "cell_type": "code",
      "source": [
        "print(Paveletskaya_city_not_targets_df.shape)"
      ],
      "metadata": {
        "colab": {
          "base_uri": "https://localhost:8080/"
        },
        "outputId": "01c0bcd4-3064-4e8a-f746-93d293a37b2a",
        "id": "lQ7VyGlU_oPu"
      },
      "execution_count": null,
      "outputs": [
        {
          "output_type": "stream",
          "name": "stdout",
          "text": [
            "(602, 78)\n"
          ]
        }
      ]
    },
    {
      "cell_type": "code",
      "source": [
        "Paveletskaya_city_not_targets_test_df = Paveletskaya_city_not_targets_df[542:]\n",
        "Paveletskaya_city_not_targets_test_df.index = range(Paveletskaya_city_not_targets_test_df.shape[0])\n",
        "Paveletskaya_city_not_targets_test_df.shape"
      ],
      "metadata": {
        "colab": {
          "base_uri": "https://localhost:8080/"
        },
        "outputId": "d2acc58a-23d2-4a6c-d56f-1a7810eaa8ec",
        "id": "UGFZ4BFK_oPu"
      },
      "execution_count": null,
      "outputs": [
        {
          "output_type": "execute_result",
          "data": {
            "text/plain": [
              "(60, 78)"
            ]
          },
          "metadata": {},
          "execution_count": 29
        }
      ]
    },
    {
      "cell_type": "code",
      "source": [
        "# Сохраняем Paveletskaya_city_not_targets_test_df в pkl\n",
        "with open(df_path + 'Paveletskaya_city_not_targets_test_df.pkl', 'wb') as f:\n",
        "  pkl.dump(Paveletskaya_city_not_targets_test_df, f)"
      ],
      "metadata": {
        "id": "FOxxHr20_oPu"
      },
      "execution_count": null,
      "outputs": []
    },
    {
      "cell_type": "markdown",
      "source": [
        "### Соединение датафреймов проектов"
      ],
      "metadata": {
        "id": "o-wSTHJybHOT"
      }
    },
    {
      "cell_type": "markdown",
      "source": [
        "#### Загрузка датафреймов"
      ],
      "metadata": {
        "id": "SJezevuznNn1"
      }
    },
    {
      "cell_type": "code",
      "source": [
        "# Загрузка Headliner_targets_train_df\n",
        "with open(df_path + 'Headliner_targets_train_df.pkl', 'rb') as f:\n",
        "  Headliner_targets_train_df = pkl.load(f)\n",
        "\n",
        "# Загрузка Headliner_targets_test_df\n",
        "with open(df_path + 'Headliner_targets_test_df.pkl', 'rb') as f:\n",
        "  Headliner_targets_test_df = pkl.load(f)\n",
        "\n",
        "# Загрузка Headliner_not_targets_train_df\n",
        "with open(df_path + 'Headliner_not_targets_train_df.pkl', 'rb') as f:\n",
        "  Headliner_not_targets_train_df = pkl.load(f)\n",
        "\n",
        "# Загрузка Headliner_not_targets_test_df\n",
        "with open(df_path + 'Headliner_not_targets_test_df.pkl', 'rb') as f:\n",
        "  Headliner_not_targets_test_df = pkl.load(f)\n",
        "\n",
        "# Загрузка Headliner_moot_train_df\n",
        "with open(df_path + 'Headliner_moot_train_df.pkl', 'rb') as f:\n",
        "  Headliner_moot_train_df = pkl.load(f)\n",
        "\n",
        "# Загрузка Headliner_moot_test_df\n",
        "with open(df_path + 'Headliner_moot_test_df.pkl', 'rb') as f:\n",
        "  Headliner_moot_test_df = pkl.load(f)"
      ],
      "metadata": {
        "id": "-76QGnmRnNoU"
      },
      "execution_count": null,
      "outputs": []
    },
    {
      "cell_type": "code",
      "source": [
        "# Загрузка Primavera_targets_train_df\n",
        "with open(df_path + 'Primavera_targets_train_df.pkl', 'rb') as f:\n",
        "  Primavera_targets_train_df = pkl.load(f)\n",
        "\n",
        "# Загрузка Primavera_targets_test_df\n",
        "with open(df_path + 'Primavera_targets_test_df.pkl', 'rb') as f:\n",
        "  Primavera_targets_test_df = pkl.load(f)\n",
        "\n",
        "# Загрузка Primavera_not_targets_train_df\n",
        "with open(df_path + 'Primavera_not_targets_train_df.pkl', 'rb') as f:\n",
        "  Primavera_not_targets_train_df = pkl.load(f)\n",
        "\n",
        "# Загрузка Primavera_not_targets_test_df\n",
        "with open(df_path + 'Primavera_not_targets_test_df.pkl', 'rb') as f:\n",
        "  Primavera_not_targets_test_df = pkl.load(f)"
      ],
      "metadata": {
        "id": "bwXZseQJo81a"
      },
      "execution_count": null,
      "outputs": []
    },
    {
      "cell_type": "code",
      "source": [
        "# Загрузка Paveletskaya_city_targets_train_df\n",
        "with open(df_path + 'Paveletskaya_city_targets_train_df.pkl', 'rb') as f:\n",
        "  Paveletskaya_city_targets_train_df = pkl.load(f)\n",
        "\n",
        "# Загрузка Paveletskaya_city_targets_test_df\n",
        "with open(df_path + 'Paveletskaya_city_targets_test_df.pkl', 'rb') as f:\n",
        "  Paveletskaya_city_targets_test_df = pkl.load(f)\n",
        "\n",
        "# Загрузка Paveletskaya_city_not_targets_train_df\n",
        "with open(df_path + 'Paveletskaya_city_not_targets_train_df.pkl', 'rb') as f:\n",
        "  Paveletskaya_city_not_targets_train_df = pkl.load(f)\n",
        "\n",
        "# Загрузка Paveletskaya_city_not_targets_test_df\n",
        "with open(df_path + 'Paveletskaya_city_not_targets_test_df.pkl', 'rb') as f:\n",
        "  Paveletskaya_city_not_targets_test_df = pkl.load(f)"
      ],
      "metadata": {
        "id": "OwantQCKplGe"
      },
      "execution_count": null,
      "outputs": []
    },
    {
      "cell_type": "markdown",
      "source": [
        "#### `train_df`"
      ],
      "metadata": {
        "id": "QQHG4oVFmk3f"
      }
    },
    {
      "cell_type": "code",
      "source": [
        "# Смотрим размеры датафреймов\n",
        "print(Headliner_targets_train_df.shape)\n",
        "print(Headliner_not_targets_train_df.shape)\n",
        "print(Headliner_moot_train_df.shape)\n",
        "print(Primavera_targets_train_df.shape)\n",
        "print(Primavera_not_targets_train_df.shape)\n",
        "print(Paveletskaya_city_targets_train_df.shape)\n",
        "print(Paveletskaya_city_not_targets_train_df.shape)"
      ],
      "metadata": {
        "colab": {
          "base_uri": "https://localhost:8080/"
        },
        "id": "QIUHjZdhnGY6",
        "outputId": "ef8cc345-107e-40c0-d41f-0da729585748"
      },
      "execution_count": null,
      "outputs": [
        {
          "output_type": "stream",
          "name": "stdout",
          "text": [
            "(494, 78)\n",
            "(974, 78)\n",
            "(1470, 78)\n",
            "(872, 78)\n",
            "(1173, 78)\n",
            "(708, 78)\n",
            "(542, 78)\n"
          ]
        }
      ]
    },
    {
      "cell_type": "code",
      "source": [
        "# Соединяем датафреймы\n",
        "train_df = pd.concat([Headliner_targets_train_df,\n",
        "                      Headliner_not_targets_train_df,\n",
        "                      Headliner_moot_train_df,\n",
        "                      Primavera_targets_train_df,\n",
        "                      Primavera_not_targets_train_df,\n",
        "                      Paveletskaya_city_targets_train_df,\n",
        "                      Paveletskaya_city_not_targets_train_df])\n",
        "train_df.index = range(train_df.shape[0])\n",
        "train_df.shape"
      ],
      "metadata": {
        "colab": {
          "base_uri": "https://localhost:8080/"
        },
        "id": "yzecyoMeuCMB",
        "outputId": "ae3f6029-ccb3-4ada-9cf1-f8467fbb8c4a"
      },
      "execution_count": null,
      "outputs": [
        {
          "output_type": "execute_result",
          "data": {
            "text/plain": [
              "(6233, 78)"
            ]
          },
          "metadata": {},
          "execution_count": 35
        }
      ]
    },
    {
      "cell_type": "code",
      "source": [
        "# Сохраняем train_df в pkl\n",
        "with open(df_path + 'train_df.pkl', 'wb') as f:\n",
        "  pkl.dump(train_df, f)"
      ],
      "metadata": {
        "id": "JTUp3yCIvqFZ"
      },
      "execution_count": null,
      "outputs": []
    },
    {
      "cell_type": "code",
      "source": [
        "# Соотношение классов\n",
        "train_df['Класс'].value_counts().plot.bar()"
      ],
      "metadata": {
        "colab": {
          "base_uri": "https://localhost:8080/",
          "height": 513
        },
        "id": "SP3f_yWErjQV",
        "outputId": "35a33b86-3a22-43f0-f8ed-b3b19b3615d7"
      },
      "execution_count": null,
      "outputs": [
        {
          "output_type": "execute_result",
          "data": {
            "text/plain": [
              "<Axes: >"
            ]
          },
          "metadata": {},
          "execution_count": 5
        },
        {
          "output_type": "display_data",
          "data": {
            "text/plain": [
              "<Figure size 640x480 with 1 Axes>"
            ],
            "image/png": "[encoded data removed]"
          },
          "metadata": {}
        }
      ]
    },
    {
      "cell_type": "code",
      "source": [
        "# Соотношение классов\n",
        "print(f\"Нецелевой: {train_df.loc[train_df[train_df['Класс'] == 'Нецелевой'].index, 'Класс'].count()}\")\n",
        "print(f\"  Целевой: {train_df.loc[train_df[train_df['Класс'] == 'Целевой'].index, 'Класс'].count()}\")\n",
        "print(f\"  Спорный: {train_df.loc[train_df[train_df['Класс'] == 'Спорный'].index, 'Класс'].count()}\")\n",
        "print('-'*15)\n",
        "print(f\"    Всего: {train_df['Класс'].count()}\")"
      ],
      "metadata": {
        "colab": {
          "base_uri": "https://localhost:8080/"
        },
        "id": "OY8fxD7pscVb",
        "outputId": "2f5215de-c158-4110-895b-7006d64efa0a"
      },
      "execution_count": null,
      "outputs": [
        {
          "output_type": "stream",
          "name": "stdout",
          "text": [
            "Нецелевой: 2689\n",
            "  Целевой: 2074\n",
            "  Спорный: 1470\n",
            "---------------\n",
            "    Всего: 6233\n"
          ]
        }
      ]
    },
    {
      "cell_type": "code",
      "source": [
        "# Описательные статистики по длине текстов транскрибации звонков\n",
        "pd.concat([train_df.loc[train_df[train_df['Класс'] == 'Нецелевой'].index, 'Текст whisper-транскрибации записи звонка'].apply(lambda x: len(x.split(' '))).describe(),\n",
        "           train_df.loc[train_df[train_df['Класс'] == 'Целевой'].index, 'Текст whisper-транскрибации записи звонка'].apply(lambda x: len(x.split(' '))).describe(),\n",
        "           train_df.loc[train_df[train_df['Класс'] == 'Спорный'].index, 'Текст whisper-транскрибации записи звонка'].apply(lambda x: len(x.split(' '))).describe()],\n",
        "          axis=1,\n",
        "          keys=['Нецелевые звонки',\n",
        "                'Целевые звонки',\n",
        "                'Спорные звонки'])"
      ],
      "metadata": {
        "colab": {
          "base_uri": "https://localhost:8080/",
          "height": 300
        },
        "id": "VbzT-gVGsJbU",
        "outputId": "269ce5f6-5c1b-42e9-c39a-8f551885a3c9"
      },
      "execution_count": null,
      "outputs": [
        {
          "output_type": "execute_result",
          "data": {
            "text/plain": [
              "       Нецелевые звонки  Целевые звонки  Спорные звонки\n",
              "count       2689.000000     2074.000000     1470.000000\n",
              "mean         181.085906      700.303761       43.498639\n",
              "std          373.524044      617.232404       85.138583\n",
              "min            1.000000        1.000000        1.000000\n",
              "25%           13.000000      276.250000        6.250000\n",
              "50%           42.000000      571.500000       17.000000\n",
              "75%          191.000000      938.500000       53.000000\n",
              "max         7482.000000     7296.000000     1712.000000"
            ],
            "text/html": [
              "\n",
              "  <div id=\"df-7c079a63-d23e-4e18-9730-d42e51ce6b1b\" class=\"colab-df-container\">\n",
              "    <div>\n",
              "<style scoped>\n",
              "    .dataframe tbody tr th:only-of-type {\n",
              "        vertical-align: middle;\n",
              "    }\n",
              "\n",
              "    .dataframe tbody tr th {\n",
              "        vertical-align: top;\n",
              "    }\n",
              "\n",
              "    .dataframe thead th {\n",
              "        text-align: right;\n",
              "    }\n",
              "</style>\n",
              "<table border=\"1\" class=\"dataframe\">\n",
              "  <thead>\n",
              "    <tr style=\"text-align: right;\">\n",
              "      <th></th>\n",
              "      <th>Нецелевые звонки</th>\n",
              "      <th>Целевые звонки</th>\n",
              "      <th>Спорные звонки</th>\n",
              "    </tr>\n",
              "  </thead>\n",
              "  <tbody>\n",
              "    <tr>\n",
              "      <th>count</th>\n",
              "      <td>2689.000000</td>\n",
              "      <td>2074.000000</td>\n",
              "      <td>1470.000000</td>\n",
              "    </tr>\n",
              "    <tr>\n",
              "      <th>mean</th>\n",
              "      <td>181.085906</td>\n",
              "      <td>700.303761</td>\n",
              "      <td>43.498639</td>\n",
              "    </tr>\n",
              "    <tr>\n",
              "      <th>std</th>\n",
              "      <td>373.524044</td>\n",
              "      <td>617.232404</td>\n",
              "      <td>85.138583</td>\n",
              "    </tr>\n",
              "    <tr>\n",
              "      <th>min</th>\n",
              "      <td>1.000000</td>\n",
              "      <td>1.000000</td>\n",
              "      <td>1.000000</td>\n",
              "    </tr>\n",
              "    <tr>\n",
              "      <th>25%</th>\n",
              "      <td>13.000000</td>\n",
              "      <td>276.250000</td>\n",
              "      <td>6.250000</td>\n",
              "    </tr>\n",
              "    <tr>\n",
              "      <th>50%</th>\n",
              "      <td>42.000000</td>\n",
              "      <td>571.500000</td>\n",
              "      <td>17.000000</td>\n",
              "    </tr>\n",
              "    <tr>\n",
              "      <th>75%</th>\n",
              "      <td>191.000000</td>\n",
              "      <td>938.500000</td>\n",
              "      <td>53.000000</td>\n",
              "    </tr>\n",
              "    <tr>\n",
              "      <th>max</th>\n",
              "      <td>7482.000000</td>\n",
              "      <td>7296.000000</td>\n",
              "      <td>1712.000000</td>\n",
              "    </tr>\n",
              "  </tbody>\n",
              "</table>\n",
              "</div>\n",
              "    <div class=\"colab-df-buttons\">\n",
              "\n",
              "  <div class=\"colab-df-container\">\n",
              "    <button class=\"colab-df-convert\" onclick=\"convertToInteractive('df-7c079a63-d23e-4e18-9730-d42e51ce6b1b')\"\n",
              "            title=\"Convert this dataframe to an interactive table.\"\n",
              "            style=\"display:none;\">\n",
              "\n",
              "  <svg xmlns=\"http://www.w3.org/2000/svg\" height=\"24px\" viewBox=\"0 -960 960 960\">\n",
              "    <path d=\"M120-120v-720h720v720H120Zm60-500h600v-160H180v160Zm220 220h160v-160H400v160Zm0 220h160v-160H400v160ZM180-400h160v-160H180v160Zm440 0h160v-160H620v160ZM180-180h160v-160H180v160Zm440 0h160v-160H620v160Z\"/>\n",
              "  </svg>\n",
              "    </button>\n",
              "\n",
              "  <style>\n",
              "    .colab-df-container {\n",
              "      display:flex;\n",
              "      gap: 12px;\n",
              "    }\n",
              "\n",
              "    .colab-df-convert {\n",
              "      background-color: #E8F0FE;\n",
              "      border: none;\n",
              "      border-radius: 50%;\n",
              "      cursor: pointer;\n",
              "      display: none;\n",
              "      fill: #1967D2;\n",
              "      height: 32px;\n",
              "      padding: 0 0 0 0;\n",
              "      width: 32px;\n",
              "    }\n",
              "\n",
              "    .colab-df-convert:hover {\n",
              "      background-color: #E2EBFA;\n",
              "      box-shadow: 0px 1px 2px rgba(60, 64, 67, 0.3), 0px 1px 3px 1px rgba(60, 64, 67, 0.15);\n",
              "      fill: #174EA6;\n",
              "    }\n",
              "\n",
              "    .colab-df-buttons div {\n",
              "      margin-bottom: 4px;\n",
              "    }\n",
              "\n",
              "    [theme=dark] .colab-df-convert {\n",
              "      background-color: #3B4455;\n",
              "      fill: #D2E3FC;\n",
              "    }\n",
              "\n",
              "    [theme=dark] .colab-df-convert:hover {\n",
              "      background-color: #434B5C;\n",
              "      box-shadow: 0px 1px 3px 1px rgba(0, 0, 0, 0.15);\n",
              "      filter: drop-shadow(0px 1px 2px rgba(0, 0, 0, 0.3));\n",
              "      fill: #FFFFFF;\n",
              "    }\n",
              "  </style>\n",
              "\n",
              "    <script>\n",
              "      const buttonEl =\n",
              "        document.querySelector('#df-7c079a63-d23e-4e18-9730-d42e51ce6b1b button.colab-df-convert');\n",
              "      buttonEl.style.display =\n",
              "        google.colab.kernel.accessAllowed ? 'block' : 'none';\n",
              "\n",
              "      async function convertToInteractive(key) {\n",
              "        const element = document.querySelector('#df-7c079a63-d23e-4e18-9730-d42e51ce6b1b');\n",
              "        const dataTable =\n",
              "          await google.colab.kernel.invokeFunction('convertToInteractive',\n",
              "                                                    [key], {});\n",
              "        if (!dataTable) return;\n",
              "\n",
              "        const docLinkHtml = 'Like what you see? Visit the ' +\n",
              "          '<a target=\"_blank\" href=https://colab.research.google.com/notebooks/data_table.ipynb>data table notebook</a>'\n",
              "          + ' to learn more about interactive tables.';\n",
              "        element.innerHTML = '';\n",
              "        dataTable['output_type'] = 'display_data';\n",
              "        await google.colab.output.renderOutput(dataTable, element);\n",
              "        const docLink = document.createElement('div');\n",
              "        docLink.innerHTML = docLinkHtml;\n",
              "        element.appendChild(docLink);\n",
              "      }\n",
              "    </script>\n",
              "  </div>\n",
              "\n",
              "\n",
              "<div id=\"df-356c5944-6c1e-453e-a1d2-a58ddad5c799\">\n",
              "  <button class=\"colab-df-quickchart\" onclick=\"quickchart('df-356c5944-6c1e-453e-a1d2-a58ddad5c799')\"\n",
              "            title=\"Suggest charts\"\n",
              "            style=\"display:none;\">\n",
              "\n",
              "<svg xmlns=\"http://www.w3.org/2000/svg\" height=\"24px\"viewBox=\"0 0 24 24\"\n",
              "     width=\"24px\">\n",
              "    <g>\n",
              "        <path d=\"M19 3H5c-1.1 0-2 .9-2 2v14c0 1.1.9 2 2 2h14c1.1 0 2-.9 2-2V5c0-1.1-.9-2-2-2zM9 17H7v-7h2v7zm4 0h-2V7h2v10zm4 0h-2v-4h2v4z\"/>\n",
              "    </g>\n",
              "</svg>\n",
              "  </button>\n",
              "\n",
              "<style>\n",
              "  .colab-df-quickchart {\n",
              "      --bg-color: #E8F0FE;\n",
              "      --fill-color: #1967D2;\n",
              "      --hover-bg-color: #E2EBFA;\n",
              "      --hover-fill-color: #174EA6;\n",
              "      --disabled-fill-color: #AAA;\n",
              "      --disabled-bg-color: #DDD;\n",
              "  }\n",
              "\n",
              "  [theme=dark] .colab-df-quickchart {\n",
              "      --bg-color: #3B4455;\n",
              "      --fill-color: #D2E3FC;\n",
              "      --hover-bg-color: #434B5C;\n",
              "      --hover-fill-color: #FFFFFF;\n",
              "      --disabled-bg-color: #3B4455;\n",
              "      --disabled-fill-color: #666;\n",
              "  }\n",
              "\n",
              "  .colab-df-quickchart {\n",
              "    background-color: var(--bg-color);\n",
              "    border: none;\n",
              "    border-radius: 50%;\n",
              "    cursor: pointer;\n",
              "    display: none;\n",
              "    fill: var(--fill-color);\n",
              "    height: 32px;\n",
              "    padding: 0;\n",
              "    width: 32px;\n",
              "  }\n",
              "\n",
              "  .colab-df-quickchart:hover {\n",
              "    background-color: var(--hover-bg-color);\n",
              "    box-shadow: 0 1px 2px rgba(60, 64, 67, 0.3), 0 1px 3px 1px rgba(60, 64, 67, 0.15);\n",
              "    fill: var(--button-hover-fill-color);\n",
              "  }\n",
              "\n",
              "  .colab-df-quickchart-complete:disabled,\n",
              "  .colab-df-quickchart-complete:disabled:hover {\n",
              "    background-color: var(--disabled-bg-color);\n",
              "    fill: var(--disabled-fill-color);\n",
              "    box-shadow: none;\n",
              "  }\n",
              "\n",
              "  .colab-df-spinner {\n",
              "    border: 2px solid var(--fill-color);\n",
              "    border-color: transparent;\n",
              "    border-bottom-color: var(--fill-color);\n",
              "    animation:\n",
              "      spin 1s steps(1) infinite;\n",
              "  }\n",
              "\n",
              "  @keyframes spin {\n",
              "    0% {\n",
              "      border-color: transparent;\n",
              "      border-bottom-color: var(--fill-color);\n",
              "      border-left-color: var(--fill-color);\n",
              "    }\n",
              "    20% {\n",
              "      border-color: transparent;\n",
              "      border-left-color: var(--fill-color);\n",
              "      border-top-color: var(--fill-color);\n",
              "    }\n",
              "    30% {\n",
              "      border-color: transparent;\n",
              "      border-left-color: var(--fill-color);\n",
              "      border-top-color: var(--fill-color);\n",
              "      border-right-color: var(--fill-color);\n",
              "    }\n",
              "    40% {\n",
              "      border-color: transparent;\n",
              "      border-right-color: var(--fill-color);\n",
              "      border-top-color: var(--fill-color);\n",
              "    }\n",
              "    60% {\n",
              "      border-color: transparent;\n",
              "      border-right-color: var(--fill-color);\n",
              "    }\n",
              "    80% {\n",
              "      border-color: transparent;\n",
              "      border-right-color: var(--fill-color);\n",
              "      border-bottom-color: var(--fill-color);\n",
              "    }\n",
              "    90% {\n",
              "      border-color: transparent;\n",
              "      border-bottom-color: var(--fill-color);\n",
              "    }\n",
              "  }\n",
              "</style>\n",
              "\n",
              "  <script>\n",
              "    async function quickchart(key) {\n",
              "      const quickchartButtonEl =\n",
              "        document.querySelector('#' + key + ' button');\n",
              "      quickchartButtonEl.disabled = true;  // To prevent multiple clicks.\n",
              "      quickchartButtonEl.classList.add('colab-df-spinner');\n",
              "      try {\n",
              "        const charts = await google.colab.kernel.invokeFunction(\n",
              "            'suggestCharts', [key], {});\n",
              "      } catch (error) {\n",
              "        console.error('Error during call to suggestCharts:', error);\n",
              "      }\n",
              "      quickchartButtonEl.classList.remove('colab-df-spinner');\n",
              "      quickchartButtonEl.classList.add('colab-df-quickchart-complete');\n",
              "    }\n",
              "    (() => {\n",
              "      let quickchartButtonEl =\n",
              "        document.querySelector('#df-356c5944-6c1e-453e-a1d2-a58ddad5c799 button');\n",
              "      quickchartButtonEl.style.display =\n",
              "        google.colab.kernel.accessAllowed ? 'block' : 'none';\n",
              "    })();\n",
              "  </script>\n",
              "</div>\n",
              "    </div>\n",
              "  </div>\n"
            ]
          },
          "metadata": {},
          "execution_count": 35
        }
      ]
    },
    {
      "cell_type": "markdown",
      "source": [
        "#### `test_df`"
      ],
      "metadata": {
        "id": "Y2fD0Nofu72J"
      }
    },
    {
      "cell_type": "code",
      "source": [
        "# Смотрим размеры датафреймов\n",
        "print(Headliner_targets_test_df.shape)\n",
        "print(Headliner_not_targets_test_df.shape)\n",
        "print(Headliner_moot_test_df.shape)\n",
        "print(Primavera_targets_test_df.shape)\n",
        "print(Primavera_not_targets_test_df.shape)\n",
        "print(Paveletskaya_city_targets_test_df.shape)\n",
        "print(Paveletskaya_city_not_targets_test_df.shape)"
      ],
      "metadata": {
        "colab": {
          "base_uri": "https://localhost:8080/"
        },
        "id": "uir_VaVwu72Y",
        "outputId": "dac36d87-27d7-46ae-bea9-5936f92662ba"
      },
      "execution_count": null,
      "outputs": [
        {
          "output_type": "stream",
          "name": "stdout",
          "text": [
            "(55, 78)\n",
            "(108, 78)\n",
            "(163, 78)\n",
            "(97, 78)\n",
            "(130, 78)\n",
            "(78, 78)\n",
            "(60, 78)\n"
          ]
        }
      ]
    },
    {
      "cell_type": "code",
      "source": [
        "# Соединяем датафреймы\n",
        "test_df = pd.concat([Headliner_targets_test_df,\n",
        "                     Headliner_not_targets_test_df,\n",
        "                     Headliner_moot_test_df,\n",
        "                     Primavera_targets_test_df,\n",
        "                     Primavera_not_targets_test_df,\n",
        "                     Paveletskaya_city_targets_test_df,\n",
        "                     Paveletskaya_city_not_targets_test_df])\n",
        "test_df.index = range(test_df.shape[0])\n",
        "test_df.shape"
      ],
      "metadata": {
        "colab": {
          "base_uri": "https://localhost:8080/"
        },
        "id": "ss8auy3Nu72Y",
        "outputId": "bf418e4a-634e-46bd-fb2e-e5a0d95ede1b"
      },
      "execution_count": null,
      "outputs": [
        {
          "output_type": "execute_result",
          "data": {
            "text/plain": [
              "(691, 78)"
            ]
          },
          "metadata": {},
          "execution_count": 38
        }
      ]
    },
    {
      "cell_type": "code",
      "source": [
        "# Сохраняем test_df в pkl\n",
        "with open(df_path + 'test_df.pkl', 'wb') as f:\n",
        "  pkl.dump(test_df, f)"
      ],
      "metadata": {
        "id": "S3MwkPRfwKKT"
      },
      "execution_count": null,
      "outputs": []
    },
    {
      "cell_type": "code",
      "source": [
        "# Соотношение классов\n",
        "test_df['Класс'].value_counts().plot.bar()"
      ],
      "metadata": {
        "colab": {
          "base_uri": "https://localhost:8080/",
          "height": 513
        },
        "id": "N_ZyT4CBr7LY",
        "outputId": "3b46891c-5f7c-43a5-f70a-05bc9b94bdf2"
      },
      "execution_count": null,
      "outputs": [
        {
          "output_type": "execute_result",
          "data": {
            "text/plain": [
              "<Axes: >"
            ]
          },
          "metadata": {},
          "execution_count": 36
        },
        {
          "output_type": "display_data",
          "data": {
            "text/plain": [
              "<Figure size 640x480 with 1 Axes>"
            ],
            "image/png": "[encoded data removed]"
          },
          "metadata": {}
        }
      ]
    },
    {
      "cell_type": "code",
      "source": [
        "# Соотношение классов\n",
        "print(f\"Нецелевой: {test_df.loc[test_df[test_df['Класс'] == 'Нецелевой'].index, 'Класс'].count()}\")\n",
        "print(f\"  Целевой: {test_df.loc[test_df[test_df['Класс'] == 'Целевой'].index, 'Класс'].count()}\")\n",
        "print(f\"  Спорный: {test_df.loc[test_df[test_df['Класс'] == 'Спорный'].index, 'Класс'].count()}\")\n",
        "print('-'*14)\n",
        "print(f\"    Всего: {test_df['Класс'].count()}\")"
      ],
      "metadata": {
        "colab": {
          "base_uri": "https://localhost:8080/"
        },
        "id": "Z-mwC1LByt6d",
        "outputId": "40f3c4ac-8099-473b-f9f4-2e2a178ebaf0"
      },
      "execution_count": null,
      "outputs": [
        {
          "output_type": "stream",
          "name": "stdout",
          "text": [
            "Нецелевой: 298\n",
            "  Целевой: 230\n",
            "  Спорный: 163\n",
            "--------------\n",
            "    Всего: 691\n"
          ]
        }
      ]
    },
    {
      "cell_type": "code",
      "source": [
        "# Описательные статистики по длине текстов транскрибации звонков\n",
        "pd.concat([test_df.loc[test_df[test_df['Класс'] == 'Нецелевой'].index, 'Текст whisper-транскрибации записи звонка'].apply(lambda x: len(x.split(' '))).describe(),\n",
        "           test_df.loc[test_df[test_df['Класс'] == 'Целевой'].index, 'Текст whisper-транскрибации записи звонка'].apply(lambda x: len(x.split(' '))).describe(),\n",
        "           test_df.loc[test_df[test_df['Класс'] == 'Спорный'].index, 'Текст whisper-транскрибации записи звонка'].apply(lambda x: len(x.split(' '))).describe()],\n",
        "          axis=1,\n",
        "          keys=['Нецелевые звонки',\n",
        "                'Целевые звонки',\n",
        "                'Спорные звонки'])"
      ],
      "metadata": {
        "colab": {
          "base_uri": "https://localhost:8080/",
          "height": 300
        },
        "id": "qyuc5nWFyzKS",
        "outputId": "6d77727b-1059-497e-9575-e3c563d811a7"
      },
      "execution_count": null,
      "outputs": [
        {
          "output_type": "execute_result",
          "data": {
            "text/plain": [
              "       Нецелевые звонки  Целевые звонки  Спорные звонки\n",
              "count        298.000000      230.000000      163.000000\n",
              "mean         147.231544      660.617391       52.840491\n",
              "std          249.696617      609.940545       66.575301\n",
              "min            1.000000        1.000000        1.000000\n",
              "25%           10.000000      265.250000        9.500000\n",
              "50%           48.000000      464.000000       23.000000\n",
              "75%          169.000000      833.000000       81.000000\n",
              "max         2001.000000     4100.000000      447.000000"
            ],
            "text/html": [
              "\n",
              "  <div id=\"df-754a420b-18c8-4488-bd96-38c86d6ff11a\" class=\"colab-df-container\">\n",
              "    <div>\n",
              "<style scoped>\n",
              "    .dataframe tbody tr th:only-of-type {\n",
              "        vertical-align: middle;\n",
              "    }\n",
              "\n",
              "    .dataframe tbody tr th {\n",
              "        vertical-align: top;\n",
              "    }\n",
              "\n",
              "    .dataframe thead th {\n",
              "        text-align: right;\n",
              "    }\n",
              "</style>\n",
              "<table border=\"1\" class=\"dataframe\">\n",
              "  <thead>\n",
              "    <tr style=\"text-align: right;\">\n",
              "      <th></th>\n",
              "      <th>Нецелевые звонки</th>\n",
              "      <th>Целевые звонки</th>\n",
              "      <th>Спорные звонки</th>\n",
              "    </tr>\n",
              "  </thead>\n",
              "  <tbody>\n",
              "    <tr>\n",
              "      <th>count</th>\n",
              "      <td>298.000000</td>\n",
              "      <td>230.000000</td>\n",
              "      <td>163.000000</td>\n",
              "    </tr>\n",
              "    <tr>\n",
              "      <th>mean</th>\n",
              "      <td>147.231544</td>\n",
              "      <td>660.617391</td>\n",
              "      <td>52.840491</td>\n",
              "    </tr>\n",
              "    <tr>\n",
              "      <th>std</th>\n",
              "      <td>249.696617</td>\n",
              "      <td>609.940545</td>\n",
              "      <td>66.575301</td>\n",
              "    </tr>\n",
              "    <tr>\n",
              "      <th>min</th>\n",
              "      <td>1.000000</td>\n",
              "      <td>1.000000</td>\n",
              "      <td>1.000000</td>\n",
              "    </tr>\n",
              "    <tr>\n",
              "      <th>25%</th>\n",
              "      <td>10.000000</td>\n",
              "      <td>265.250000</td>\n",
              "      <td>9.500000</td>\n",
              "    </tr>\n",
              "    <tr>\n",
              "      <th>50%</th>\n",
              "      <td>48.000000</td>\n",
              "      <td>464.000000</td>\n",
              "      <td>23.000000</td>\n",
              "    </tr>\n",
              "    <tr>\n",
              "      <th>75%</th>\n",
              "      <td>169.000000</td>\n",
              "      <td>833.000000</td>\n",
              "      <td>81.000000</td>\n",
              "    </tr>\n",
              "    <tr>\n",
              "      <th>max</th>\n",
              "      <td>2001.000000</td>\n",
              "      <td>4100.000000</td>\n",
              "      <td>447.000000</td>\n",
              "    </tr>\n",
              "  </tbody>\n",
              "</table>\n",
              "</div>\n",
              "    <div class=\"colab-df-buttons\">\n",
              "\n",
              "  <div class=\"colab-df-container\">\n",
              "    <button class=\"colab-df-convert\" onclick=\"convertToInteractive('df-754a420b-18c8-4488-bd96-38c86d6ff11a')\"\n",
              "            title=\"Convert this dataframe to an interactive table.\"\n",
              "            style=\"display:none;\">\n",
              "\n",
              "  <svg xmlns=\"http://www.w3.org/2000/svg\" height=\"24px\" viewBox=\"0 -960 960 960\">\n",
              "    <path d=\"M120-120v-720h720v720H120Zm60-500h600v-160H180v160Zm220 220h160v-160H400v160Zm0 220h160v-160H400v160ZM180-400h160v-160H180v160Zm440 0h160v-160H620v160ZM180-180h160v-160H180v160Zm440 0h160v-160H620v160Z\"/>\n",
              "  </svg>\n",
              "    </button>\n",
              "\n",
              "  <style>\n",
              "    .colab-df-container {\n",
              "      display:flex;\n",
              "      gap: 12px;\n",
              "    }\n",
              "\n",
              "    .colab-df-convert {\n",
              "      background-color: #E8F0FE;\n",
              "      border: none;\n",
              "      border-radius: 50%;\n",
              "      cursor: pointer;\n",
              "      display: none;\n",
              "      fill: #1967D2;\n",
              "      height: 32px;\n",
              "      padding: 0 0 0 0;\n",
              "      width: 32px;\n",
              "    }\n",
              "\n",
              "    .colab-df-convert:hover {\n",
              "      background-color: #E2EBFA;\n",
              "      box-shadow: 0px 1px 2px rgba(60, 64, 67, 0.3), 0px 1px 3px 1px rgba(60, 64, 67, 0.15);\n",
              "      fill: #174EA6;\n",
              "    }\n",
              "\n",
              "    .colab-df-buttons div {\n",
              "      margin-bottom: 4px;\n",
              "    }\n",
              "\n",
              "    [theme=dark] .colab-df-convert {\n",
              "      background-color: #3B4455;\n",
              "      fill: #D2E3FC;\n",
              "    }\n",
              "\n",
              "    [theme=dark] .colab-df-convert:hover {\n",
              "      background-color: #434B5C;\n",
              "      box-shadow: 0px 1px 3px 1px rgba(0, 0, 0, 0.15);\n",
              "      filter: drop-shadow(0px 1px 2px rgba(0, 0, 0, 0.3));\n",
              "      fill: #FFFFFF;\n",
              "    }\n",
              "  </style>\n",
              "\n",
              "    <script>\n",
              "      const buttonEl =\n",
              "        document.querySelector('#df-754a420b-18c8-4488-bd96-38c86d6ff11a button.colab-df-convert');\n",
              "      buttonEl.style.display =\n",
              "        google.colab.kernel.accessAllowed ? 'block' : 'none';\n",
              "\n",
              "      async function convertToInteractive(key) {\n",
              "        const element = document.querySelector('#df-754a420b-18c8-4488-bd96-38c86d6ff11a');\n",
              "        const dataTable =\n",
              "          await google.colab.kernel.invokeFunction('convertToInteractive',\n",
              "                                                    [key], {});\n",
              "        if (!dataTable) return;\n",
              "\n",
              "        const docLinkHtml = 'Like what you see? Visit the ' +\n",
              "          '<a target=\"_blank\" href=https://colab.research.google.com/notebooks/data_table.ipynb>data table notebook</a>'\n",
              "          + ' to learn more about interactive tables.';\n",
              "        element.innerHTML = '';\n",
              "        dataTable['output_type'] = 'display_data';\n",
              "        await google.colab.output.renderOutput(dataTable, element);\n",
              "        const docLink = document.createElement('div');\n",
              "        docLink.innerHTML = docLinkHtml;\n",
              "        element.appendChild(docLink);\n",
              "      }\n",
              "    </script>\n",
              "  </div>\n",
              "\n",
              "\n",
              "<div id=\"df-31020461-bacf-46c7-b8f3-99719f7f9fba\">\n",
              "  <button class=\"colab-df-quickchart\" onclick=\"quickchart('df-31020461-bacf-46c7-b8f3-99719f7f9fba')\"\n",
              "            title=\"Suggest charts\"\n",
              "            style=\"display:none;\">\n",
              "\n",
              "<svg xmlns=\"http://www.w3.org/2000/svg\" height=\"24px\"viewBox=\"0 0 24 24\"\n",
              "     width=\"24px\">\n",
              "    <g>\n",
              "        <path d=\"M19 3H5c-1.1 0-2 .9-2 2v14c0 1.1.9 2 2 2h14c1.1 0 2-.9 2-2V5c0-1.1-.9-2-2-2zM9 17H7v-7h2v7zm4 0h-2V7h2v10zm4 0h-2v-4h2v4z\"/>\n",
              "    </g>\n",
              "</svg>\n",
              "  </button>\n",
              "\n",
              "<style>\n",
              "  .colab-df-quickchart {\n",
              "      --bg-color: #E8F0FE;\n",
              "      --fill-color: #1967D2;\n",
              "      --hover-bg-color: #E2EBFA;\n",
              "      --hover-fill-color: #174EA6;\n",
              "      --disabled-fill-color: #AAA;\n",
              "      --disabled-bg-color: #DDD;\n",
              "  }\n",
              "\n",
              "  [theme=dark] .colab-df-quickchart {\n",
              "      --bg-color: #3B4455;\n",
              "      --fill-color: #D2E3FC;\n",
              "      --hover-bg-color: #434B5C;\n",
              "      --hover-fill-color: #FFFFFF;\n",
              "      --disabled-bg-color: #3B4455;\n",
              "      --disabled-fill-color: #666;\n",
              "  }\n",
              "\n",
              "  .colab-df-quickchart {\n",
              "    background-color: var(--bg-color);\n",
              "    border: none;\n",
              "    border-radius: 50%;\n",
              "    cursor: pointer;\n",
              "    display: none;\n",
              "    fill: var(--fill-color);\n",
              "    height: 32px;\n",
              "    padding: 0;\n",
              "    width: 32px;\n",
              "  }\n",
              "\n",
              "  .colab-df-quickchart:hover {\n",
              "    background-color: var(--hover-bg-color);\n",
              "    box-shadow: 0 1px 2px rgba(60, 64, 67, 0.3), 0 1px 3px 1px rgba(60, 64, 67, 0.15);\n",
              "    fill: var(--button-hover-fill-color);\n",
              "  }\n",
              "\n",
              "  .colab-df-quickchart-complete:disabled,\n",
              "  .colab-df-quickchart-complete:disabled:hover {\n",
              "    background-color: var(--disabled-bg-color);\n",
              "    fill: var(--disabled-fill-color);\n",
              "    box-shadow: none;\n",
              "  }\n",
              "\n",
              "  .colab-df-spinner {\n",
              "    border: 2px solid var(--fill-color);\n",
              "    border-color: transparent;\n",
              "    border-bottom-color: var(--fill-color);\n",
              "    animation:\n",
              "      spin 1s steps(1) infinite;\n",
              "  }\n",
              "\n",
              "  @keyframes spin {\n",
              "    0% {\n",
              "      border-color: transparent;\n",
              "      border-bottom-color: var(--fill-color);\n",
              "      border-left-color: var(--fill-color);\n",
              "    }\n",
              "    20% {\n",
              "      border-color: transparent;\n",
              "      border-left-color: var(--fill-color);\n",
              "      border-top-color: var(--fill-color);\n",
              "    }\n",
              "    30% {\n",
              "      border-color: transparent;\n",
              "      border-left-color: var(--fill-color);\n",
              "      border-top-color: var(--fill-color);\n",
              "      border-right-color: var(--fill-color);\n",
              "    }\n",
              "    40% {\n",
              "      border-color: transparent;\n",
              "      border-right-color: var(--fill-color);\n",
              "      border-top-color: var(--fill-color);\n",
              "    }\n",
              "    60% {\n",
              "      border-color: transparent;\n",
              "      border-right-color: var(--fill-color);\n",
              "    }\n",
              "    80% {\n",
              "      border-color: transparent;\n",
              "      border-right-color: var(--fill-color);\n",
              "      border-bottom-color: var(--fill-color);\n",
              "    }\n",
              "    90% {\n",
              "      border-color: transparent;\n",
              "      border-bottom-color: var(--fill-color);\n",
              "    }\n",
              "  }\n",
              "</style>\n",
              "\n",
              "  <script>\n",
              "    async function quickchart(key) {\n",
              "      const quickchartButtonEl =\n",
              "        document.querySelector('#' + key + ' button');\n",
              "      quickchartButtonEl.disabled = true;  // To prevent multiple clicks.\n",
              "      quickchartButtonEl.classList.add('colab-df-spinner');\n",
              "      try {\n",
              "        const charts = await google.colab.kernel.invokeFunction(\n",
              "            'suggestCharts', [key], {});\n",
              "      } catch (error) {\n",
              "        console.error('Error during call to suggestCharts:', error);\n",
              "      }\n",
              "      quickchartButtonEl.classList.remove('colab-df-spinner');\n",
              "      quickchartButtonEl.classList.add('colab-df-quickchart-complete');\n",
              "    }\n",
              "    (() => {\n",
              "      let quickchartButtonEl =\n",
              "        document.querySelector('#df-31020461-bacf-46c7-b8f3-99719f7f9fba button');\n",
              "      quickchartButtonEl.style.display =\n",
              "        google.colab.kernel.accessAllowed ? 'block' : 'none';\n",
              "    })();\n",
              "  </script>\n",
              "</div>\n",
              "    </div>\n",
              "  </div>\n"
            ]
          },
          "metadata": {},
          "execution_count": 39
        }
      ]
    },
    {
      "cell_type": "markdown",
      "source": [
        "## [Анализ данных](https://habr.com/ru/companies/otus/articles/752434/) с помощью [`sweetviz`](https://habr.com/ru/articles/564172/)"
      ],
      "metadata": {
        "id": "hkIgtfqzOXrD"
      }
    },
    {
      "cell_type": "markdown",
      "source": [
        "### Загрузка датафреймов"
      ],
      "metadata": {
        "id": "ozlVEYrviCDe"
      }
    },
    {
      "cell_type": "code",
      "source": [
        "# Загрузка train_df\n",
        "with open(df_path + 'train_df.pkl', 'rb') as f:\n",
        "  train_df = pkl.load(f)\n",
        "\n",
        "# Загрузка test_df\n",
        "with open(df_path + 'test_df.pkl', 'rb') as f:\n",
        "  test_df = pkl.load(f)"
      ],
      "metadata": {
        "id": "r7GRSEllTFGd"
      },
      "execution_count": 5,
      "outputs": []
    },
    {
      "cell_type": "markdown",
      "source": [
        "### Предобработка датафреймов"
      ],
      "metadata": {
        "id": "OxJtDxyWiKe9"
      }
    },
    {
      "cell_type": "markdown",
      "source": [
        "#### `train_df`"
      ],
      "metadata": {
        "id": "kXv7RGtuiauF"
      }
    },
    {
      "cell_type": "code",
      "source": [
        "# Типы данных\n",
        "train_df.dtypes"
      ],
      "metadata": {
        "colab": {
          "base_uri": "https://localhost:8080/"
        },
        "id": "ODQIorH7hXbI",
        "outputId": "c4fed943-f059-4c94-df73-b6d6a22aa1fe"
      },
      "execution_count": null,
      "outputs": [
        {
          "output_type": "execute_result",
          "data": {
            "text/plain": [
              "Статус                                               object\n",
              "Тип                                                  object\n",
              "Дата и время                                 datetime64[ns]\n",
              "Номер абонента                                       object\n",
              "Рекламная кампания                                   object\n",
              "Длительность звонка                                 float64\n",
              "Длительность ожидания ответа                        float64\n",
              "Сотрудник                                            object\n",
              "UTM-метка Campaign                                   object\n",
              "Теги                                                 object\n",
              "Номер обращения                                     float64\n",
              "UTM-метка Term                                       object\n",
              "Причина завершения                                   object\n",
              "Виртуальный номер                                    object\n",
              "UTM-метка Source                                     object\n",
              "UTM-метка Medium                                     object\n",
              "UTM-метка Content                                    object\n",
              "Client ID Яндекс.Метрика                             object\n",
              "Первая рекламная кампания                            object\n",
              "ID посетителя                                       float64\n",
              "Страна номера абонента                               object\n",
              "Регион номера абонента                               object\n",
              "Идентификатор звонка во внешней системе              object\n",
              "Тип устройства                                       object\n",
              "URL страницы обращения                               object\n",
              "Город                                                object\n",
              "Страна                                               object\n",
              "Сайт                                                 object\n",
              "Оценка сотрудника                                    object\n",
              "Номер сотрудника                                     object\n",
              "Трансфер                                             object\n",
              "Внутренний звонок                                    object\n",
              "ФИО контакта                                         object\n",
              "Имя тренера                                          object\n",
              "Сценарий                                             object\n",
              "Операции                                             object\n",
              "Идентификатор сессии звонка                           int64\n",
              "Группа, выбранная посетителем                        object\n",
              "Длительность обработки                              float64\n",
              "Комментарий                                          object\n",
              "Контакт из CRM                                       object\n",
              "Поисковая система                                    object\n",
              "Поисковый запрос                                     object\n",
              "Реферер                                              object\n",
              "Домен реферера                                       object\n",
              "Область                                              object\n",
              "Посадочная страница                                  object\n",
              "Количество посещений                                float64\n",
              "Тип посетителя                                       object\n",
              "Client ID Google Analytics                           object\n",
              "ID ресурса Google Analytics                          object\n",
              "ID счетчика Яндекс.Метрика                           object\n",
              "UTM-метка Referrer                                   object\n",
              "UTM-метка Expid                                      object\n",
              "AdLense-метка ef_id                                  object\n",
              "Метка yclid                                          object\n",
              "Метка ymclid                                         object\n",
              "Метка gclid                                          object\n",
              "Метка from                                           object\n",
              "Длительность разговора                              float64\n",
              "Длительность постобработки                          float64\n",
              "Чистая длительность разговора                       float64\n",
              "Полная длительность ожидания                        float64\n",
              "Расширенная UTM-метка Source                         object\n",
              "Расширенная UTM-метка Campaign                       object\n",
              "Расширенная UTM-метка Medium                         object\n",
              "Расширенная UTM-метка Content                        object\n",
              "Расширенная UTM-метка Term                           object\n",
              "Расширенная UTM-метка Referrer                       object\n",
              "Расширенная UTM-метка Expid                          object\n",
              "OS-метка service-name                                object\n",
              "OS-метка campaign-id                                 object\n",
              "OS-метка ad-id                                       object\n",
              "OS-метка source-id                                   object\n",
              "Файл записи звонка                                   object\n",
              "Класс                                                object\n",
              "Проект                                               object\n",
              "Текст whisper-транскрибации записи звонка            object\n",
              "dtype: object"
            ]
          },
          "metadata": {},
          "execution_count": 12
        }
      ]
    },
    {
      "cell_type": "code",
      "source": [
        "# Количество непустых записей в числовых данных\n",
        "print(train_df['Длительность звонка'].count())\n",
        "print(train_df['Длительность ожидания ответа'].count())\n",
        "print(train_df['Номер обращения'].count())\n",
        "print(train_df['ID посетителя'].count())\n",
        "print(train_df['Идентификатор сессии звонка'].count())\n",
        "print(train_df['Длительность обработки'].count())\n",
        "print(train_df['Количество посещений'].count())\n",
        "print(train_df['Длительность разговора'].count())\n",
        "print(train_df['Длительность постобработки'].count())\n",
        "print(train_df['Чистая длительность разговора'].count())\n",
        "print(train_df['Полная длительность ожидания'].count())"
      ],
      "metadata": {
        "colab": {
          "base_uri": "https://localhost:8080/"
        },
        "id": "3fMhJAs5hcxu",
        "outputId": "9769a78e-34ee-4f87-8c9d-8e3d6f4a4dc3"
      },
      "execution_count": null,
      "outputs": [
        {
          "output_type": "stream",
          "name": "stdout",
          "text": [
            "6233\n",
            "5705\n",
            "6233\n",
            "2175\n",
            "6233\n",
            "1\n",
            "1619\n",
            "6233\n",
            "6233\n",
            "6233\n",
            "6233\n"
          ]
        }
      ]
    },
    {
      "cell_type": "code",
      "source": [
        "# Заполняем пустоты в числовых данных\n",
        "for column in ['Длительность ожидания ответа',\n",
        "               'ID посетителя',\n",
        "               'Длительность обработки',\n",
        "               'Количество посещений']:\n",
        "  train_df[column] = train_df[column].fillna(0)"
      ],
      "metadata": {
        "id": "bTbDQXV5r1k7"
      },
      "execution_count": null,
      "outputs": []
    },
    {
      "cell_type": "code",
      "source": [
        "# Количество непустых записей в числовых данных\n",
        "print(train_df['Длительность звонка'].count())\n",
        "print(train_df['Длительность ожидания ответа'].count())\n",
        "print(train_df['Номер обращения'].count())\n",
        "print(train_df['ID посетителя'].count())\n",
        "print(train_df['Идентификатор сессии звонка'].count())\n",
        "print(train_df['Длительность обработки'].count())\n",
        "print(train_df['Количество посещений'].count())\n",
        "print(train_df['Длительность разговора'].count())\n",
        "print(train_df['Длительность постобработки'].count())\n",
        "print(train_df['Чистая длительность разговора'].count())\n",
        "print(train_df['Полная длительность ожидания'].count())"
      ],
      "metadata": {
        "colab": {
          "base_uri": "https://localhost:8080/"
        },
        "id": "AzYTbD92tMiz",
        "outputId": "c25a9e20-433e-47e1-f445-472ced436f6d"
      },
      "execution_count": null,
      "outputs": [
        {
          "output_type": "stream",
          "name": "stdout",
          "text": [
            "6233\n",
            "6233\n",
            "6233\n",
            "6233\n",
            "6233\n",
            "6233\n",
            "6233\n",
            "6233\n",
            "6233\n",
            "6233\n",
            "6233\n"
          ]
        }
      ]
    },
    {
      "cell_type": "code",
      "source": [
        "# Типы числовых данных\n",
        "train_df[['Длительность звонка',\n",
        "          'Длительность ожидания ответа',\n",
        "          'Номер обращения',\n",
        "          'ID посетителя',\n",
        "          'Идентификатор сессии звонка',\n",
        "          'Длительность обработки',\n",
        "          'Количество посещений',\n",
        "          'Длительность разговора',\n",
        "          'Длительность постобработки',\n",
        "          'Чистая длительность разговора',\n",
        "          'Полная длительность ожидания']].dtypes"
      ],
      "metadata": {
        "colab": {
          "base_uri": "https://localhost:8080/"
        },
        "id": "GIiMsX9otZcg",
        "outputId": "f227c5ca-fdd2-4376-fa3a-a94a3b138fac"
      },
      "execution_count": null,
      "outputs": [
        {
          "output_type": "execute_result",
          "data": {
            "text/plain": [
              "Длительность звонка              float64\n",
              "Длительность ожидания ответа     float64\n",
              "Номер обращения                  float64\n",
              "ID посетителя                    float64\n",
              "Идентификатор сессии звонка        int64\n",
              "Длительность обработки           float64\n",
              "Количество посещений             float64\n",
              "Длительность разговора           float64\n",
              "Длительность постобработки       float64\n",
              "Чистая длительность разговора    float64\n",
              "Полная длительность ожидания     float64\n",
              "dtype: object"
            ]
          },
          "metadata": {},
          "execution_count": 16
        }
      ]
    },
    {
      "cell_type": "code",
      "source": [
        "# Приводим числовые данные к типу int\n",
        "for column in ['Длительность звонка',\n",
        "               'Длительность ожидания ответа',\n",
        "               'Номер обращения',\n",
        "               'ID посетителя',\n",
        "               'Длительность обработки',\n",
        "               'Количество посещений',\n",
        "               'Длительность разговора',\n",
        "               'Длительность постобработки',\n",
        "               'Чистая длительность разговора',\n",
        "               'Полная длительность ожидания']:\n",
        "  train_df[column] = train_df[column].astype('int')"
      ],
      "metadata": {
        "id": "iQXfnpJ9urdr"
      },
      "execution_count": null,
      "outputs": []
    },
    {
      "cell_type": "code",
      "source": [
        "# Типы числовых данных\n",
        "train_df[['Длительность звонка',\n",
        "          'Длительность ожидания ответа',\n",
        "          'Номер обращения',\n",
        "          'ID посетителя',\n",
        "          'Идентификатор сессии звонка',\n",
        "          'Длительность обработки',\n",
        "          'Количество посещений',\n",
        "          'Длительность разговора',\n",
        "          'Длительность постобработки',\n",
        "          'Чистая длительность разговора',\n",
        "          'Полная длительность ожидания']].dtypes"
      ],
      "metadata": {
        "colab": {
          "base_uri": "https://localhost:8080/"
        },
        "id": "z8g1WYLkvooH",
        "outputId": "f0114d8a-705a-4071-f15b-20323b5efcaa"
      },
      "execution_count": null,
      "outputs": [
        {
          "output_type": "execute_result",
          "data": {
            "text/plain": [
              "Длительность звонка              int64\n",
              "Длительность ожидания ответа     int64\n",
              "Номер обращения                  int64\n",
              "ID посетителя                    int64\n",
              "Идентификатор сессии звонка      int64\n",
              "Длительность обработки           int64\n",
              "Количество посещений             int64\n",
              "Длительность разговора           int64\n",
              "Длительность постобработки       int64\n",
              "Чистая длительность разговора    int64\n",
              "Полная длительность ожидания     int64\n",
              "dtype: object"
            ]
          },
          "metadata": {},
          "execution_count": 18
        }
      ]
    },
    {
      "cell_type": "code",
      "source": [
        "# Количество непустых записей\n",
        "train_df.count()"
      ],
      "metadata": {
        "colab": {
          "base_uri": "https://localhost:8080/"
        },
        "id": "fSAjFLFHwVj4",
        "outputId": "a89f8dcc-d839-4dd3-e825-164ed48d96dc"
      },
      "execution_count": null,
      "outputs": [
        {
          "output_type": "execute_result",
          "data": {
            "text/plain": [
              "Статус                                       6233\n",
              "Тип                                          6233\n",
              "Дата и время                                 6233\n",
              "Номер абонента                               6233\n",
              "Рекламная кампания                           6233\n",
              "Длительность звонка                          6233\n",
              "Длительность ожидания ответа                 6233\n",
              "Сотрудник                                    6233\n",
              "UTM-метка Campaign                           1044\n",
              "Теги                                         6233\n",
              "Номер обращения                              6233\n",
              "UTM-метка Term                                697\n",
              "Причина завершения                           5705\n",
              "Виртуальный номер                            6233\n",
              "UTM-метка Source                             1071\n",
              "UTM-метка Medium                             1063\n",
              "UTM-метка Content                            1003\n",
              "Client ID Яндекс.Метрика                     6233\n",
              "Первая рекламная кампания                    6233\n",
              "ID посетителя                                6233\n",
              "Страна номера абонента                       6233\n",
              "Регион номера абонента                       6233\n",
              "Идентификатор звонка во внешней системе        11\n",
              "Тип устройства                               6233\n",
              "URL страницы обращения                       1583\n",
              "Город                                        1350\n",
              "Страна                                       1488\n",
              "Сайт                                         6233\n",
              "Оценка сотрудника                              14\n",
              "Номер сотрудника                             6233\n",
              "Трансфер                                     6233\n",
              "Внутренний звонок                            6233\n",
              "ФИО контакта                                   14\n",
              "Имя тренера                                    14\n",
              "Сценарий                                     6233\n",
              "Операции                                     6214\n",
              "Идентификатор сессии звонка                  6233\n",
              "Группа, выбранная посетителем                  14\n",
              "Длительность обработки                       6233\n",
              "Комментарий                                    14\n",
              "Контакт из CRM                                 14\n",
              "Поисковая система                             678\n",
              "Поисковый запрос                             1079\n",
              "Реферер                                      1097\n",
              "Домен реферера                               1097\n",
              "Область                                      1361\n",
              "Посадочная страница                          1535\n",
              "Количество посещений                         6233\n",
              "Тип посетителя                               6233\n",
              "Client ID Google Analytics                   6233\n",
              "ID ресурса Google Analytics                  1584\n",
              "ID счетчика Яндекс.Метрика                   6233\n",
              "UTM-метка Referrer                             14\n",
              "UTM-метка Expid                                14\n",
              "AdLense-метка ef_id                            14\n",
              "Метка yclid                                  2861\n",
              "Метка ymclid                                   14\n",
              "Метка gclid                                    19\n",
              "Метка from                                     14\n",
              "Длительность разговора                       6233\n",
              "Длительность постобработки                   6233\n",
              "Чистая длительность разговора                6233\n",
              "Полная длительность ожидания                 6233\n",
              "Расширенная UTM-метка Source                 1420\n",
              "Расширенная UTM-метка Campaign               1044\n",
              "Расширенная UTM-метка Medium                 1219\n",
              "Расширенная UTM-метка Content                1003\n",
              "Расширенная UTM-метка Term                    697\n",
              "Расширенная UTM-метка Referrer                 14\n",
              "Расширенная UTM-метка Expid                    14\n",
              "OS-метка service-name                          51\n",
              "OS-метка campaign-id                         6233\n",
              "OS-метка ad-id                               6233\n",
              "OS-метка source-id                             51\n",
              "Файл записи звонка                           6233\n",
              "Класс                                        6233\n",
              "Проект                                       6233\n",
              "Текст whisper-транскрибации записи звонка    6233\n",
              "dtype: int64"
            ]
          },
          "metadata": {},
          "execution_count": 22
        }
      ]
    },
    {
      "cell_type": "code",
      "source": [
        "# Заполняем пустоты в числовых данных\n",
        "for column in ['Идентификатор звонка во внешней системе',\n",
        "               'UTM-метка Referrer',\n",
        "               'UTM-метка Expid',\n",
        "               'AdLense-метка ef_id',\n",
        "               'Метка yclid',\n",
        "               'Метка ymclid']:\n",
        "  train_df[column] = train_df[column].fillna('0')"
      ],
      "metadata": {
        "id": "Cq29GtvoxjEz"
      },
      "execution_count": null,
      "outputs": []
    },
    {
      "cell_type": "code",
      "source": [
        "# Приводим числовые данные к типу int\n",
        "for column in ['Номер абонента',\n",
        "               'Виртуальный номер',\n",
        "               'Идентификатор звонка во внешней системе',\n",
        "               'Номер сотрудника',\n",
        "               'UTM-метка Referrer',\n",
        "               'UTM-метка Expid',\n",
        "               'AdLense-метка ef_id',\n",
        "               'Метка ymclid']:\n",
        "  train_df[column] = train_df[column].astype('int')"
      ],
      "metadata": {
        "id": "qGD_DIq924VK"
      },
      "execution_count": null,
      "outputs": []
    },
    {
      "cell_type": "code",
      "source": [
        "# Заполняем оставшиеся пустоты\n",
        "train_df = train_df.fillna('nan')"
      ],
      "metadata": {
        "id": "x0_AkoHcw599"
      },
      "execution_count": null,
      "outputs": []
    },
    {
      "cell_type": "code",
      "source": [
        "# Меняем '' на 'nan' для однообразия\n",
        "for column in train_df.columns.values:\n",
        "  train_df[column] = train_df[column].apply(lambda x: 'nan' if x == '' else x)"
      ],
      "metadata": {
        "id": "YllIEZCDDl6z"
      },
      "execution_count": null,
      "outputs": []
    },
    {
      "cell_type": "code",
      "source": [
        "# Количество непустых записей\n",
        "train_df.count()"
      ],
      "metadata": {
        "colab": {
          "base_uri": "https://localhost:8080/"
        },
        "id": "pU4XhjYSEpKf",
        "outputId": "e8f4a4ec-9836-44a5-c29b-4580bf312a45"
      },
      "execution_count": 6,
      "outputs": [
        {
          "output_type": "execute_result",
          "data": {
            "text/plain": [
              "Статус                                       6233\n",
              "Тип                                          6233\n",
              "Дата и время                                 6233\n",
              "Номер абонента                               6233\n",
              "Рекламная кампания                           6233\n",
              "Длительность звонка                          6233\n",
              "Длительность ожидания ответа                 6233\n",
              "Сотрудник                                    6233\n",
              "UTM-метка Campaign                           6233\n",
              "Теги                                         6233\n",
              "Номер обращения                              6233\n",
              "UTM-метка Term                               6233\n",
              "Причина завершения                           6233\n",
              "Виртуальный номер                            6233\n",
              "UTM-метка Source                             6233\n",
              "UTM-метка Medium                             6233\n",
              "UTM-метка Content                            6233\n",
              "Client ID Яндекс.Метрика                     6233\n",
              "Первая рекламная кампания                    6233\n",
              "ID посетителя                                6233\n",
              "Страна номера абонента                       6233\n",
              "Регион номера абонента                       6233\n",
              "Идентификатор звонка во внешней системе      6233\n",
              "Тип устройства                               6233\n",
              "URL страницы обращения                       6233\n",
              "Город                                        6233\n",
              "Страна                                       6233\n",
              "Сайт                                         6233\n",
              "Оценка сотрудника                            6233\n",
              "Номер сотрудника                             6233\n",
              "Трансфер                                     6233\n",
              "Внутренний звонок                            6233\n",
              "ФИО контакта                                 6233\n",
              "Имя тренера                                  6233\n",
              "Сценарий                                     6233\n",
              "Операции                                     6233\n",
              "Идентификатор сессии звонка                  6233\n",
              "Группа, выбранная посетителем                6233\n",
              "Длительность обработки                       6233\n",
              "Комментарий                                  6233\n",
              "Контакт из CRM                               6233\n",
              "Поисковая система                            6233\n",
              "Поисковый запрос                             6233\n",
              "Реферер                                      6233\n",
              "Домен реферера                               6233\n",
              "Область                                      6233\n",
              "Посадочная страница                          6233\n",
              "Количество посещений                         6233\n",
              "Тип посетителя                               6233\n",
              "Client ID Google Analytics                   6233\n",
              "ID ресурса Google Analytics                  6233\n",
              "ID счетчика Яндекс.Метрика                   6233\n",
              "UTM-метка Referrer                           6233\n",
              "UTM-метка Expid                              6233\n",
              "AdLense-метка ef_id                          6233\n",
              "Метка yclid                                  6233\n",
              "Метка ymclid                                 6233\n",
              "Метка gclid                                  6233\n",
              "Метка from                                   6233\n",
              "Длительность разговора                       6233\n",
              "Длительность постобработки                   6233\n",
              "Чистая длительность разговора                6233\n",
              "Полная длительность ожидания                 6233\n",
              "Расширенная UTM-метка Source                 6233\n",
              "Расширенная UTM-метка Campaign               6233\n",
              "Расширенная UTM-метка Medium                 6233\n",
              "Расширенная UTM-метка Content                6233\n",
              "Расширенная UTM-метка Term                   6233\n",
              "Расширенная UTM-метка Referrer               6233\n",
              "Расширенная UTM-метка Expid                  6233\n",
              "OS-метка service-name                        6233\n",
              "OS-метка campaign-id                         6233\n",
              "OS-метка ad-id                               6233\n",
              "OS-метка source-id                           6233\n",
              "Файл записи звонка                           6233\n",
              "Класс                                        6233\n",
              "Проект                                       6233\n",
              "Текст whisper-транскрибации записи звонка    6233\n",
              "dtype: int64"
            ]
          },
          "metadata": {},
          "execution_count": 6
        }
      ]
    },
    {
      "cell_type": "code",
      "source": [
        "# Меняем 'nan' на '0' в числовых данных\n",
        "for column in ['Client ID Яндекс.Метрика',\n",
        "               'Client ID Google Analytics',\n",
        "               'ID счетчика Яндекс.Метрика',\n",
        "               'UTM-метка Referrer',\n",
        "               'UTM-метка Expid',\n",
        "               'AdLense-метка ef_id',\n",
        "               'Метка yclid',\n",
        "               'Метка ymclid',\n",
        "               'OS-метка campaign-id',\n",
        "               'OS-метка ad-id']:\n",
        "  train_df[column] = train_df[column].apply(lambda x: '0' if x == 'nan' else x)"
      ],
      "metadata": {
        "id": "p5fPBh_Riw87"
      },
      "execution_count": 42,
      "outputs": []
    },
    {
      "cell_type": "code",
      "source": [
        "# Очистка от '{}' в числовых данных\n",
        "for column in ['Client ID Яндекс.Метрика',\n",
        "               'Client ID Google Analytics',\n",
        "               'ID счетчика Яндекс.Метрика',\n",
        "               'UTM-метка Referrer',\n",
        "               'UTM-метка Expid',\n",
        "               'AdLense-метка ef_id',\n",
        "               'Метка yclid',\n",
        "               'Метка ymclid',\n",
        "               'OS-метка campaign-id',\n",
        "               'OS-метка ad-id']:\n",
        "  train_df[column] = train_df[column].apply(lambda x: x.strip('{}'))"
      ],
      "metadata": {
        "id": "3PXYMCZokuP5"
      },
      "execution_count": 46,
      "outputs": []
    },
    {
      "cell_type": "code",
      "source": [
        "# Приводим числовые данные к типу float\n",
        "for column in ['Client ID Яндекс.Метрика',\n",
        "               'Client ID Google Analytics',\n",
        "               'ID счетчика Яндекс.Метрика',\n",
        "               'UTM-метка Referrer',\n",
        "               'UTM-метка Expid',\n",
        "               'AdLense-метка ef_id',\n",
        "               'Метка yclid',\n",
        "               'Метка ymclid',\n",
        "               'OS-метка campaign-id',\n",
        "               'OS-метка ad-id']:\n",
        "  train_df[column] = train_df[column].astype('float')"
      ],
      "metadata": {
        "id": "4VYsiESyj2Me"
      },
      "execution_count": 47,
      "outputs": []
    },
    {
      "cell_type": "code",
      "source": [
        "train_df.dtypes"
      ],
      "metadata": {
        "colab": {
          "base_uri": "https://localhost:8080/"
        },
        "id": "KKceH_fScaZu",
        "outputId": "a2b45dee-bca3-4670-c45c-f284addb3069"
      },
      "execution_count": 48,
      "outputs": [
        {
          "output_type": "execute_result",
          "data": {
            "text/plain": [
              "Статус                                               object\n",
              "Тип                                                  object\n",
              "Дата и время                                 datetime64[ns]\n",
              "Номер абонента                                        int64\n",
              "Рекламная кампания                                   object\n",
              "Длительность звонка                                   int64\n",
              "Длительность ожидания ответа                          int64\n",
              "Сотрудник                                            object\n",
              "UTM-метка Campaign                                   object\n",
              "Теги                                                 object\n",
              "Номер обращения                                       int64\n",
              "UTM-метка Term                                       object\n",
              "Причина завершения                                   object\n",
              "Виртуальный номер                                     int64\n",
              "UTM-метка Source                                     object\n",
              "UTM-метка Medium                                     object\n",
              "UTM-метка Content                                    object\n",
              "Client ID Яндекс.Метрика                            float64\n",
              "Первая рекламная кампания                            object\n",
              "ID посетителя                                         int64\n",
              "Страна номера абонента                               object\n",
              "Регион номера абонента                               object\n",
              "Идентификатор звонка во внешней системе               int64\n",
              "Тип устройства                                       object\n",
              "URL страницы обращения                               object\n",
              "Город                                                object\n",
              "Страна                                               object\n",
              "Сайт                                                 object\n",
              "Оценка сотрудника                                    object\n",
              "Номер сотрудника                                      int64\n",
              "Трансфер                                             object\n",
              "Внутренний звонок                                    object\n",
              "ФИО контакта                                         object\n",
              "Имя тренера                                          object\n",
              "Сценарий                                             object\n",
              "Операции                                             object\n",
              "Идентификатор сессии звонка                           int64\n",
              "Группа, выбранная посетителем                        object\n",
              "Длительность обработки                                int64\n",
              "Комментарий                                          object\n",
              "Контакт из CRM                                       object\n",
              "Поисковая система                                    object\n",
              "Поисковый запрос                                     object\n",
              "Реферер                                              object\n",
              "Домен реферера                                       object\n",
              "Область                                              object\n",
              "Посадочная страница                                  object\n",
              "Количество посещений                                  int64\n",
              "Тип посетителя                                       object\n",
              "Client ID Google Analytics                          float64\n",
              "ID ресурса Google Analytics                          object\n",
              "ID счетчика Яндекс.Метрика                          float64\n",
              "UTM-метка Referrer                                  float64\n",
              "UTM-метка Expid                                     float64\n",
              "AdLense-метка ef_id                                 float64\n",
              "Метка yclid                                         float64\n",
              "Метка ymclid                                        float64\n",
              "Метка gclid                                          object\n",
              "Метка from                                           object\n",
              "Длительность разговора                                int64\n",
              "Длительность постобработки                            int64\n",
              "Чистая длительность разговора                         int64\n",
              "Полная длительность ожидания                          int64\n",
              "Расширенная UTM-метка Source                         object\n",
              "Расширенная UTM-метка Campaign                       object\n",
              "Расширенная UTM-метка Medium                         object\n",
              "Расширенная UTM-метка Content                        object\n",
              "Расширенная UTM-метка Term                           object\n",
              "Расширенная UTM-метка Referrer                       object\n",
              "Расширенная UTM-метка Expid                          object\n",
              "OS-метка service-name                                object\n",
              "OS-метка campaign-id                                float64\n",
              "OS-метка ad-id                                      float64\n",
              "OS-метка source-id                                   object\n",
              "Файл записи звонка                                   object\n",
              "Класс                                                object\n",
              "Проект                                               object\n",
              "Текст whisper-транскрибации записи звонка            object\n",
              "dtype: object"
            ]
          },
          "metadata": {},
          "execution_count": 48
        }
      ]
    },
    {
      "cell_type": "markdown",
      "source": [
        "#### `test_df`"
      ],
      "metadata": {
        "id": "xgyM-bTvuX1l"
      }
    },
    {
      "cell_type": "code",
      "source": [
        "# Типы данных\n",
        "test_df.dtypes"
      ],
      "metadata": {
        "colab": {
          "base_uri": "https://localhost:8080/"
        },
        "outputId": "6997b0fa-078b-49f3-ce20-308444ad3db9",
        "id": "82VKCBaRuX11"
      },
      "execution_count": 6,
      "outputs": [
        {
          "output_type": "execute_result",
          "data": {
            "text/plain": [
              "Статус                                               object\n",
              "Тип                                                  object\n",
              "Дата и время                                 datetime64[ns]\n",
              "Номер абонента                                       object\n",
              "Рекламная кампания                                   object\n",
              "Длительность звонка                                 float64\n",
              "Длительность ожидания ответа                        float64\n",
              "Сотрудник                                            object\n",
              "UTM-метка Campaign                                   object\n",
              "Теги                                                 object\n",
              "Номер обращения                                     float64\n",
              "UTM-метка Term                                       object\n",
              "Причина завершения                                   object\n",
              "Виртуальный номер                                    object\n",
              "UTM-метка Source                                     object\n",
              "UTM-метка Medium                                     object\n",
              "UTM-метка Content                                    object\n",
              "Client ID Яндекс.Метрика                             object\n",
              "Первая рекламная кампания                            object\n",
              "ID посетителя                                       float64\n",
              "Страна номера абонента                               object\n",
              "Регион номера абонента                               object\n",
              "Идентификатор звонка во внешней системе              object\n",
              "Тип устройства                                       object\n",
              "URL страницы обращения                               object\n",
              "Город                                                object\n",
              "Страна                                               object\n",
              "Сайт                                                 object\n",
              "Оценка сотрудника                                    object\n",
              "Номер сотрудника                                     object\n",
              "Трансфер                                             object\n",
              "Внутренний звонок                                    object\n",
              "ФИО контакта                                         object\n",
              "Имя тренера                                          object\n",
              "Сценарий                                             object\n",
              "Операции                                             object\n",
              "Идентификатор сессии звонка                           int64\n",
              "Группа, выбранная посетителем                        object\n",
              "Длительность обработки                              float64\n",
              "Комментарий                                          object\n",
              "Контакт из CRM                                       object\n",
              "Поисковая система                                    object\n",
              "Поисковый запрос                                     object\n",
              "Реферер                                              object\n",
              "Домен реферера                                       object\n",
              "Область                                              object\n",
              "Посадочная страница                                  object\n",
              "Количество посещений                                float64\n",
              "Тип посетителя                                       object\n",
              "Client ID Google Analytics                           object\n",
              "ID ресурса Google Analytics                          object\n",
              "ID счетчика Яндекс.Метрика                           object\n",
              "UTM-метка Referrer                                   object\n",
              "UTM-метка Expid                                      object\n",
              "AdLense-метка ef_id                                  object\n",
              "Метка yclid                                          object\n",
              "Метка ymclid                                         object\n",
              "Метка gclid                                          object\n",
              "Метка from                                           object\n",
              "Длительность разговора                              float64\n",
              "Длительность постобработки                          float64\n",
              "Чистая длительность разговора                       float64\n",
              "Полная длительность ожидания                        float64\n",
              "Расширенная UTM-метка Source                         object\n",
              "Расширенная UTM-метка Campaign                       object\n",
              "Расширенная UTM-метка Medium                         object\n",
              "Расширенная UTM-метка Content                        object\n",
              "Расширенная UTM-метка Term                           object\n",
              "Расширенная UTM-метка Referrer                       object\n",
              "Расширенная UTM-метка Expid                          object\n",
              "OS-метка service-name                                object\n",
              "OS-метка campaign-id                                 object\n",
              "OS-метка ad-id                                       object\n",
              "OS-метка source-id                                   object\n",
              "Файл записи звонка                                   object\n",
              "Класс                                                object\n",
              "Проект                                               object\n",
              "Текст whisper-транскрибации записи звонка            object\n",
              "dtype: object"
            ]
          },
          "metadata": {},
          "execution_count": 6
        }
      ]
    },
    {
      "cell_type": "code",
      "source": [
        "# Количество непустых записей\n",
        "for column in test_df.columns.values:\n",
        "  if test_df[column].count() < 691:  print(test_df[column].count(), '\\t', test_df[column].dtype, '\\t', column)"
      ],
      "metadata": {
        "colab": {
          "base_uri": "https://localhost:8080/"
        },
        "outputId": "fa07d781-9fbf-47c9-be5d-e01e2bfe9867",
        "id": "-s3U82eYuX11"
      },
      "execution_count": 7,
      "outputs": [
        {
          "output_type": "stream",
          "name": "stdout",
          "text": [
            "464 \t float64 \t Длительность ожидания ответа\n",
            "137 \t object \t UTM-метка Campaign\n",
            "95 \t object \t UTM-метка Term\n",
            "464 \t object \t Причина завершения\n",
            "138 \t object \t UTM-метка Source\n",
            "138 \t object \t UTM-метка Medium\n",
            "128 \t object \t UTM-метка Content\n",
            "284 \t float64 \t ID посетителя\n",
            "0 \t object \t Идентификатор звонка во внешней системе\n",
            "236 \t object \t URL страницы обращения\n",
            "200 \t object \t Город\n",
            "221 \t object \t Страна\n",
            "0 \t object \t Оценка сотрудника\n",
            "0 \t object \t ФИО контакта\n",
            "0 \t object \t Имя тренера\n",
            "687 \t object \t Операции\n",
            "0 \t object \t Группа, выбранная посетителем\n",
            "1 \t float64 \t Длительность обработки\n",
            "0 \t object \t Комментарий\n",
            "0 \t object \t Контакт из CRM\n",
            "117 \t object \t Поисковая система\n",
            "146 \t object \t Поисковый запрос\n",
            "186 \t object \t Реферер\n",
            "186 \t object \t Домен реферера\n",
            "203 \t object \t Область\n",
            "228 \t object \t Посадочная страница\n",
            "235 \t float64 \t Количество посещений\n",
            "235 \t object \t ID ресурса Google Analytics\n",
            "0 \t object \t UTM-метка Referrer\n",
            "0 \t object \t UTM-метка Expid\n",
            "0 \t object \t AdLense-метка ef_id\n",
            "124 \t object \t Метка yclid\n",
            "0 \t object \t Метка ymclid\n",
            "0 \t object \t Метка gclid\n",
            "0 \t object \t Метка from\n",
            "173 \t object \t Расширенная UTM-метка Source\n",
            "137 \t object \t Расширенная UTM-метка Campaign\n",
            "159 \t object \t Расширенная UTM-метка Medium\n",
            "128 \t object \t Расширенная UTM-метка Content\n",
            "95 \t object \t Расширенная UTM-метка Term\n",
            "0 \t object \t Расширенная UTM-метка Referrer\n",
            "0 \t object \t Расширенная UTM-метка Expid\n",
            "0 \t object \t OS-метка service-name\n",
            "0 \t object \t OS-метка source-id\n"
          ]
        }
      ]
    },
    {
      "cell_type": "code",
      "source": [
        "# Заполняем пустоты в числовых данных\n",
        "for column in ['Длительность ожидания ответа',\n",
        "               'Идентификатор звонка во внешней системе',\n",
        "               'ID посетителя',\n",
        "               'Длительность обработки',\n",
        "               'Количество посещений']:\n",
        "  test_df[column] = test_df[column].fillna(0)"
      ],
      "metadata": {
        "id": "l561yUiJuX11"
      },
      "execution_count": 8,
      "outputs": []
    },
    {
      "cell_type": "code",
      "source": [
        "# Приводим числовые данные к типу int\n",
        "for column in ['Длительность звонка',\n",
        "               'Длительность ожидания ответа',\n",
        "               'Идентификатор звонка во внешней системе',\n",
        "               'Номер обращения',\n",
        "               'ID посетителя',\n",
        "               'Длительность обработки',\n",
        "               'Количество посещений',\n",
        "               'Длительность разговора',\n",
        "               'Длительность постобработки',\n",
        "               'Чистая длительность разговора',\n",
        "               'Полная длительность ожидания']:\n",
        "  test_df[column] = test_df[column].astype('int')"
      ],
      "metadata": {
        "id": "R11epiZZuX11"
      },
      "execution_count": 9,
      "outputs": []
    },
    {
      "cell_type": "code",
      "source": [
        "# Типы числовых данных\n",
        "test_df[['Длительность звонка',\n",
        "          'Длительность ожидания ответа',\n",
        "         'Идентификатор звонка во внешней системе',\n",
        "          'Номер обращения',\n",
        "          'ID посетителя',\n",
        "          'Идентификатор сессии звонка',\n",
        "          'Длительность обработки',\n",
        "          'Количество посещений',\n",
        "          'Длительность разговора',\n",
        "          'Длительность постобработки',\n",
        "          'Чистая длительность разговора',\n",
        "          'Полная длительность ожидания']].dtypes"
      ],
      "metadata": {
        "colab": {
          "base_uri": "https://localhost:8080/"
        },
        "outputId": "96981763-78ad-4c45-9628-620528b4037e",
        "id": "gm8HiqkguX11"
      },
      "execution_count": 10,
      "outputs": [
        {
          "output_type": "execute_result",
          "data": {
            "text/plain": [
              "Длительность звонка                        int64\n",
              "Длительность ожидания ответа               int64\n",
              "Идентификатор звонка во внешней системе    int64\n",
              "Номер обращения                            int64\n",
              "ID посетителя                              int64\n",
              "Идентификатор сессии звонка                int64\n",
              "Длительность обработки                     int64\n",
              "Количество посещений                       int64\n",
              "Длительность разговора                     int64\n",
              "Длительность постобработки                 int64\n",
              "Чистая длительность разговора              int64\n",
              "Полная длительность ожидания               int64\n",
              "dtype: object"
            ]
          },
          "metadata": {},
          "execution_count": 10
        }
      ]
    },
    {
      "cell_type": "code",
      "source": [
        "# Заполняем оставшиеся пустоты\n",
        "test_df = test_df.fillna('nan')"
      ],
      "metadata": {
        "id": "Pp0FMi9QuX2E"
      },
      "execution_count": 11,
      "outputs": []
    },
    {
      "cell_type": "code",
      "source": [
        "# Меняем '' на 'nan' для однообразия\n",
        "for column in test_df.columns.values:\n",
        "  test_df[column] = test_df[column].apply(lambda x: 'nan' if x == '' else x)"
      ],
      "metadata": {
        "id": "J8I3e4fSuX2E"
      },
      "execution_count": 12,
      "outputs": []
    },
    {
      "cell_type": "code",
      "source": [
        "# Количество непустых записей\n",
        "test_df.count()"
      ],
      "metadata": {
        "colab": {
          "base_uri": "https://localhost:8080/"
        },
        "outputId": "89a4db1d-71a4-4447-e7bd-2a5b3df32744",
        "id": "8dq7ABuuuX2E"
      },
      "execution_count": 13,
      "outputs": [
        {
          "output_type": "execute_result",
          "data": {
            "text/plain": [
              "Статус                                       691\n",
              "Тип                                          691\n",
              "Дата и время                                 691\n",
              "Номер абонента                               691\n",
              "Рекламная кампания                           691\n",
              "Длительность звонка                          691\n",
              "Длительность ожидания ответа                 691\n",
              "Сотрудник                                    691\n",
              "UTM-метка Campaign                           691\n",
              "Теги                                         691\n",
              "Номер обращения                              691\n",
              "UTM-метка Term                               691\n",
              "Причина завершения                           691\n",
              "Виртуальный номер                            691\n",
              "UTM-метка Source                             691\n",
              "UTM-метка Medium                             691\n",
              "UTM-метка Content                            691\n",
              "Client ID Яндекс.Метрика                     691\n",
              "Первая рекламная кампания                    691\n",
              "ID посетителя                                691\n",
              "Страна номера абонента                       691\n",
              "Регион номера абонента                       691\n",
              "Идентификатор звонка во внешней системе      691\n",
              "Тип устройства                               691\n",
              "URL страницы обращения                       691\n",
              "Город                                        691\n",
              "Страна                                       691\n",
              "Сайт                                         691\n",
              "Оценка сотрудника                            691\n",
              "Номер сотрудника                             691\n",
              "Трансфер                                     691\n",
              "Внутренний звонок                            691\n",
              "ФИО контакта                                 691\n",
              "Имя тренера                                  691\n",
              "Сценарий                                     691\n",
              "Операции                                     691\n",
              "Идентификатор сессии звонка                  691\n",
              "Группа, выбранная посетителем                691\n",
              "Длительность обработки                       691\n",
              "Комментарий                                  691\n",
              "Контакт из CRM                               691\n",
              "Поисковая система                            691\n",
              "Поисковый запрос                             691\n",
              "Реферер                                      691\n",
              "Домен реферера                               691\n",
              "Область                                      691\n",
              "Посадочная страница                          691\n",
              "Количество посещений                         691\n",
              "Тип посетителя                               691\n",
              "Client ID Google Analytics                   691\n",
              "ID ресурса Google Analytics                  691\n",
              "ID счетчика Яндекс.Метрика                   691\n",
              "UTM-метка Referrer                           691\n",
              "UTM-метка Expid                              691\n",
              "AdLense-метка ef_id                          691\n",
              "Метка yclid                                  691\n",
              "Метка ymclid                                 691\n",
              "Метка gclid                                  691\n",
              "Метка from                                   691\n",
              "Длительность разговора                       691\n",
              "Длительность постобработки                   691\n",
              "Чистая длительность разговора                691\n",
              "Полная длительность ожидания                 691\n",
              "Расширенная UTM-метка Source                 691\n",
              "Расширенная UTM-метка Campaign               691\n",
              "Расширенная UTM-метка Medium                 691\n",
              "Расширенная UTM-метка Content                691\n",
              "Расширенная UTM-метка Term                   691\n",
              "Расширенная UTM-метка Referrer               691\n",
              "Расширенная UTM-метка Expid                  691\n",
              "OS-метка service-name                        691\n",
              "OS-метка campaign-id                         691\n",
              "OS-метка ad-id                               691\n",
              "OS-метка source-id                           691\n",
              "Файл записи звонка                           691\n",
              "Класс                                        691\n",
              "Проект                                       691\n",
              "Текст whisper-транскрибации записи звонка    691\n",
              "dtype: int64"
            ]
          },
          "metadata": {},
          "execution_count": 13
        }
      ]
    },
    {
      "cell_type": "code",
      "source": [
        "# Меняем 'nan' на '0' в числовых данных\n",
        "for column in ['Client ID Яндекс.Метрика',\n",
        "               'Client ID Google Analytics',\n",
        "               'ID счетчика Яндекс.Метрика',\n",
        "               'UTM-метка Referrer',\n",
        "               'UTM-метка Expid',\n",
        "               'AdLense-метка ef_id',\n",
        "               'Метка yclid',\n",
        "               'Метка ymclid',\n",
        "               'OS-метка campaign-id',\n",
        "               'OS-метка ad-id']:\n",
        "  test_df[column] = test_df[column].apply(lambda x: '0' if x == 'nan' else x)"
      ],
      "metadata": {
        "id": "47Kzv3t-uX2E"
      },
      "execution_count": 14,
      "outputs": []
    },
    {
      "cell_type": "code",
      "source": [
        "# Очистка от '{}' в числовых данных\n",
        "for column in ['Client ID Яндекс.Метрика',\n",
        "               'Client ID Google Analytics',\n",
        "               'ID счетчика Яндекс.Метрика',\n",
        "               'UTM-метка Referrer',\n",
        "               'UTM-метка Expid',\n",
        "               'AdLense-метка ef_id',\n",
        "               'Метка yclid',\n",
        "               'Метка ymclid',\n",
        "               'OS-метка campaign-id',\n",
        "               'OS-метка ad-id']:\n",
        "  test_df[column] = test_df[column].apply(lambda x: x.strip('{}'))"
      ],
      "metadata": {
        "id": "aGfM1p8cuX2E"
      },
      "execution_count": 15,
      "outputs": []
    },
    {
      "cell_type": "code",
      "source": [
        "# Приводим числовые данные к типу float\n",
        "for column in ['Client ID Яндекс.Метрика',\n",
        "               'Client ID Google Analytics',\n",
        "               'ID счетчика Яндекс.Метрика',\n",
        "               'UTM-метка Referrer',\n",
        "               'UTM-метка Expid',\n",
        "               'AdLense-метка ef_id',\n",
        "               'Метка yclid',\n",
        "               'Метка ymclid',\n",
        "               'OS-метка campaign-id',\n",
        "               'OS-метка ad-id']:\n",
        "  test_df[column] = test_df[column].astype('float')"
      ],
      "metadata": {
        "id": "C7w1I_eKuX2E"
      },
      "execution_count": 16,
      "outputs": []
    },
    {
      "cell_type": "code",
      "source": [
        "test_df.dtypes"
      ],
      "metadata": {
        "colab": {
          "base_uri": "https://localhost:8080/"
        },
        "outputId": "45d4b591-ca70-4740-b1b4-fe467a53585e",
        "id": "uqIzYuituX2E"
      },
      "execution_count": 17,
      "outputs": [
        {
          "output_type": "execute_result",
          "data": {
            "text/plain": [
              "Статус                                               object\n",
              "Тип                                                  object\n",
              "Дата и время                                 datetime64[ns]\n",
              "Номер абонента                                       object\n",
              "Рекламная кампания                                   object\n",
              "Длительность звонка                                   int64\n",
              "Длительность ожидания ответа                          int64\n",
              "Сотрудник                                            object\n",
              "UTM-метка Campaign                                   object\n",
              "Теги                                                 object\n",
              "Номер обращения                                       int64\n",
              "UTM-метка Term                                       object\n",
              "Причина завершения                                   object\n",
              "Виртуальный номер                                    object\n",
              "UTM-метка Source                                     object\n",
              "UTM-метка Medium                                     object\n",
              "UTM-метка Content                                    object\n",
              "Client ID Яндекс.Метрика                            float64\n",
              "Первая рекламная кампания                            object\n",
              "ID посетителя                                         int64\n",
              "Страна номера абонента                               object\n",
              "Регион номера абонента                               object\n",
              "Идентификатор звонка во внешней системе               int64\n",
              "Тип устройства                                       object\n",
              "URL страницы обращения                               object\n",
              "Город                                                object\n",
              "Страна                                               object\n",
              "Сайт                                                 object\n",
              "Оценка сотрудника                                    object\n",
              "Номер сотрудника                                     object\n",
              "Трансфер                                             object\n",
              "Внутренний звонок                                    object\n",
              "ФИО контакта                                         object\n",
              "Имя тренера                                          object\n",
              "Сценарий                                             object\n",
              "Операции                                             object\n",
              "Идентификатор сессии звонка                           int64\n",
              "Группа, выбранная посетителем                        object\n",
              "Длительность обработки                                int64\n",
              "Комментарий                                          object\n",
              "Контакт из CRM                                       object\n",
              "Поисковая система                                    object\n",
              "Поисковый запрос                                     object\n",
              "Реферер                                              object\n",
              "Домен реферера                                       object\n",
              "Область                                              object\n",
              "Посадочная страница                                  object\n",
              "Количество посещений                                  int64\n",
              "Тип посетителя                                       object\n",
              "Client ID Google Analytics                          float64\n",
              "ID ресурса Google Analytics                          object\n",
              "ID счетчика Яндекс.Метрика                          float64\n",
              "UTM-метка Referrer                                  float64\n",
              "UTM-метка Expid                                     float64\n",
              "AdLense-метка ef_id                                 float64\n",
              "Метка yclid                                         float64\n",
              "Метка ymclid                                        float64\n",
              "Метка gclid                                          object\n",
              "Метка from                                           object\n",
              "Длительность разговора                                int64\n",
              "Длительность постобработки                            int64\n",
              "Чистая длительность разговора                         int64\n",
              "Полная длительность ожидания                          int64\n",
              "Расширенная UTM-метка Source                         object\n",
              "Расширенная UTM-метка Campaign                       object\n",
              "Расширенная UTM-метка Medium                         object\n",
              "Расширенная UTM-метка Content                        object\n",
              "Расширенная UTM-метка Term                           object\n",
              "Расширенная UTM-метка Referrer                       object\n",
              "Расширенная UTM-метка Expid                          object\n",
              "OS-метка service-name                                object\n",
              "OS-метка campaign-id                                float64\n",
              "OS-метка ad-id                                      float64\n",
              "OS-метка source-id                                   object\n",
              "Файл записи звонка                                   object\n",
              "Класс                                                object\n",
              "Проект                                               object\n",
              "Текст whisper-транскрибации записи звонка            object\n",
              "dtype: object"
            ]
          },
          "metadata": {},
          "execution_count": 17
        }
      ]
    },
    {
      "cell_type": "markdown",
      "source": [
        "### Сохранение датафреймов"
      ],
      "metadata": {
        "id": "yZknGNTrjNEL"
      }
    },
    {
      "cell_type": "code",
      "source": [
        "# Сохраняем train_df в pkl\n",
        "with open(df_path + 'train_df.pkl', 'wb') as f:\n",
        "  pkl.dump(train_df, f)\n",
        "\n",
        "# Сохраняем test_df в pkl\n",
        "with open(df_path + 'test_df.pkl', 'wb') as f:\n",
        "  pkl.dump(test_df, f)"
      ],
      "metadata": {
        "id": "rf-bVx6qjQp7"
      },
      "execution_count": 18,
      "outputs": []
    },
    {
      "cell_type": "markdown",
      "source": [
        "### Отчёты"
      ],
      "metadata": {
        "id": "RGLadFBijRiT"
      }
    },
    {
      "cell_type": "code",
      "source": [
        "# Отчёт по train_df\n",
        "report = sv.analyze([train_df, 'Анализ train_df'])\n",
        "report.show_html(df_path + 'train_df.html')"
      ],
      "metadata": {
        "id": "z0vsiU-4P1Vz",
        "colab": {
          "base_uri": "https://localhost:8080/",
          "height": 156,
          "referenced_widgets": [
            "942732b5b6ce4d6cb28f29caa9fdb587",
            "f67f1fa8d4aa4349b0f4a51087fa7ddf",
            "695fa312d5f84f588036a36df0429f34",
            "a06476ad1a094daaa0666e4e01fbfd91",
            "fb840764da6f462eb604f5b4cd45624b",
            "920e75736926484db122ff94eea41062",
            "f69fe052125649ea87fdfbb8ecce6d9d",
            "f40d0c645f0a404bbcf73ea0e99e11c9",
            "f908324fd0344236831543d5af36544e",
            "1b7edfcc4d704b299d58675f25ba785c",
            "917e0d22b954491191d65e4172be8027"
          ]
        },
        "outputId": "9a326522-f011-4171-e91a-6abf8aba513d"
      },
      "execution_count": 51,
      "outputs": [
        {
          "output_type": "display_data",
          "data": {
            "text/plain": [
              "                                             |          | [  0%]   00:00 -> (? left)"
            ],
            "application/vnd.jupyter.widget-view+json": {
              "version_major": 2,
              "version_minor": 0,
              "model_id": "942732b5b6ce4d6cb28f29caa9fdb587"
            }
          },
          "metadata": {}
        },
        {
          "output_type": "stream",
          "name": "stderr",
          "text": [
            "/usr/local/lib/python3.10/dist-packages/sweetviz/graph.py:33: UserWarning: Glyph 774 (\\N{COMBINING BREVE}) missing from current font.\n",
            "  figure.savefig(as_raw_bytes, format='png', transparent=True)\n",
            "/usr/local/lib/python3.10/dist-packages/sweetviz/graph.py:33: UserWarning: Glyph 774 (\\N{COMBINING BREVE}) missing from current font.\n",
            "  figure.savefig(as_raw_bytes, format='png', transparent=True)\n"
          ]
        },
        {
          "output_type": "stream",
          "name": "stdout",
          "text": [
            "Report /content/drive/MyDrive/media108.ru/Новички/Датафреймы/train_df.html was generated! NOTEBOOK/COLAB USERS: the web browser MAY not pop up, regardless, the report IS saved in your notebook/colab files.\n"
          ]
        }
      ]
    },
    {
      "cell_type": "markdown",
      "source": [
        "[Отчёт по train_df](https://drive.google.com/file/d/1m9KOTV5z8I088FxCo9F0KHRGw5AQqiGe/view?usp=sharing)"
      ],
      "metadata": {
        "id": "zYWioHWdmBdP"
      }
    },
    {
      "cell_type": "code",
      "source": [
        "# Отчёт по test_df\n",
        "report = sv.analyze([test_df, 'Анализ test_df'])\n",
        "report.show_html(df_path + 'test_df.html')"
      ],
      "metadata": {
        "colab": {
          "base_uri": "https://localhost:8080/",
          "height": 156,
          "referenced_widgets": [
            "9dcad36df28941159abb18c6d3447ca2",
            "8e5617a754fe45bca8cce2bf55dec25e",
            "a1fa064231854ddf83daf2de9329ac03",
            "dbc84be22db049aaa4938c926e8775ec",
            "abc89a2a51714ad4a0c26e73fa34a635",
            "46c17febf64f4504914a60534094cc24",
            "16411ea32ab245cdbb149a4956dacafb",
            "0fea8eefa46e448a81d9530447419eb7",
            "ad71a7cceaf64cba81802d05a3dd4495",
            "ed4563996cba442a861b48d770811481",
            "17dd7737afff48d8a54a9fee34f77913"
          ]
        },
        "id": "BMuNZoyJA_AE",
        "outputId": "9e277eb7-03ef-4a3d-91be-c2d33a472873"
      },
      "execution_count": 19,
      "outputs": [
        {
          "output_type": "display_data",
          "data": {
            "text/plain": [
              "                                             |          | [  0%]   00:00 -> (? left)"
            ],
            "application/vnd.jupyter.widget-view+json": {
              "version_major": 2,
              "version_minor": 0,
              "model_id": "9dcad36df28941159abb18c6d3447ca2"
            }
          },
          "metadata": {}
        },
        {
          "output_type": "stream",
          "name": "stderr",
          "text": [
            "/usr/local/lib/python3.10/dist-packages/sweetviz/graph.py:33: UserWarning: Glyph 774 (\\N{COMBINING BREVE}) missing from current font.\n",
            "  figure.savefig(as_raw_bytes, format='png', transparent=True)\n",
            "/usr/local/lib/python3.10/dist-packages/sweetviz/graph.py:33: UserWarning: Glyph 774 (\\N{COMBINING BREVE}) missing from current font.\n",
            "  figure.savefig(as_raw_bytes, format='png', transparent=True)\n"
          ]
        },
        {
          "output_type": "stream",
          "name": "stdout",
          "text": [
            "Report /content/drive/MyDrive/media108.ru/Новички/Датафреймы/test_df.html was generated! NOTEBOOK/COLAB USERS: the web browser MAY not pop up, regardless, the report IS saved in your notebook/colab files.\n"
          ]
        }
      ]
    },
    {
      "cell_type": "markdown",
      "source": [
        "[Отчёт по test_df](https://drive.google.com/file/d/1onH5Vsuv80wBI6pV4ztAr5AI3Z8nRf8X/view?usp=sharing)"
      ],
      "metadata": {
        "id": "PwrbK5ZJBaK_"
      }
    }
  ]
}