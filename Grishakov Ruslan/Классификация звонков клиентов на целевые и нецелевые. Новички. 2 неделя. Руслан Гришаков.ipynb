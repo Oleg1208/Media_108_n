{
  "nbformat": 4,
  "nbformat_minor": 0,
  "metadata": {
    "colab": {
      "provenance": [],
      "collapsed_sections": [
        "aBJs7ceAFaOm",
        "pTohUadq_HUC",
        "GeEu96leTaL6",
        "KXdYsYQmr1Aq",
        "4BipOv18sV2n",
        "1PeeinuNtAEe",
        "rVDYF0C9YQcB",
        "shwe_q3BV8Vr",
        "FgkKPxSftYwE",
        "p-tO8i5IyJK4",
        "hLQc-dtPyJK8",
        "9saXOfuKyJLz",
        "lHJoSY_dyJLz",
        "xTN9Xgx5yJMj",
        "Dxr5eTPayJMj",
        "1XrNgyhoyJMk",
        "ByP6oo3NyJMn",
        "yLHWTCjVyJMp",
        "vjsa6uTqyJNS",
        "GZQfAf1tyJNU",
        "hGxYQ7KOyJNi",
        "vpjCmAy8yJNj",
        "SJfmU3hVyJNk",
        "ciSo_g5vyJNo",
        "TDRfh5YAyJNo",
        "rt1IkSMfyJNq",
        "h4xJTWVVyJOe",
        "hcx3vtahyJOg",
        "wp9B5JIFyJO9",
        "EgJLin2SyJO_",
        "YscPe5fGyJPA",
        "77U1RbUJyJPB",
        "c03YZpvUyJPO",
        "3wDi00rAyJPR",
        "2msKjkd5yJPS",
        "h-5yX-wCyJPU",
        "IPXFy7dSyJPw",
        "ESZpFODnyJP2",
        "xHkOr67ayJQR",
        "wi8gJHqOyJQS",
        "dslQJlmJyJQU",
        "sWyoHQUgXUyY",
        "Fa8bDQdEXsWu",
        "TUAVeDSMYfAQ",
        "iujyX6k9awrH",
        "tA_IYXhlbdgV",
        "XZOF7ZdTcuQO",
        "7_Aw_h0SdDu4",
        "eDI3Uf2odbo3",
        "yQPmAfE8dnzm",
        "QI0TzB5Gd14a",
        "85lkDfpfePxc",
        "auzvw99qv4Cn",
        "KoS6KcIsz7h7",
        "5fEBLpxBz7h_",
        "ynajeOFwz7iT",
        "pdDqEujvz7iU",
        "WyFGsoXCz7iX",
        "4ENc7JlVz7ib",
        "8JmDNybpz7io",
        "JNdtdmR3z7is",
        "quvmcgCAz7iu",
        "DFtZUAhFz7i-",
        "Srkk52AE3PW_",
        "wnU0Bi_h3PXB",
        "Eflex-Ym3PXO",
        "8WzHjEkk3PXP",
        "ANH90jqZ3PXV",
        "sN6uiGvQ3PXY",
        "5JTCUk-63PXb",
        "CSIAnH7j3PXf",
        "NX4KOgSG3PXi",
        "Rztw8wT03PXj"
      ]
    },
    "kernelspec": {
      "name": "python3",
      "display_name": "Python 3"
    },
    "language_info": {
      "name": "python"
    }
  },
  "cells": [
    {
      "cell_type": "markdown",
      "source": [
        "# [Техническое задание](https://docs.google.com/document/d/1ZIu6daXZRuDR796AHjKCku643hlM3xgYxW9E84DBJFc/edit?usp=sharing)"
      ],
      "metadata": {
        "id": "aBJs7ceAFaOm"
      }
    },
    {
      "cell_type": "markdown",
      "source": [
        "**Проект:** Классификация аудиозвонков на целевые и нецелевые."
      ],
      "metadata": {
        "id": "fDXpUnSRFi-I"
      }
    },
    {
      "cell_type": "markdown",
      "source": [
        "**Цель проекта:** Разработать нейронную сеть, способную классифицировать аудиозвонки на целевые и нецелевые на основе предоставленной базы данных и csv-таблицы с описаниями и метками классов."
      ],
      "metadata": {
        "id": "k54M7rKpGVPo"
      }
    },
    {
      "cell_type": "markdown",
      "source": [
        "**Введение:**\n",
        "\n",
        "Входной набор данных представляет из себя два набора файлов:\n",
        "\n",
        "> a)\t[Первый набор файлов](https://drive.google.com/drive/folders/1cQWMpQkscZJbbOTxiJNy0o3nuaeIiB1P?usp=sharing) - это выгрузки в формате `CSV` с информацией по звонкам, а так же с проставленным статусом `“целевой/нецелевой”` в отдельном столбце (обратите внимание, что по проекту `“Павелецкая сити”` две выгрузки - эти наборы данных отличаются и относятся к разным наборам клиентов внутри одного и того же проекта).\n",
        "\n",
        "> b)\t[Второй набор файлов](https://drive.google.com/drive/folders/1K3jGCH60uzFcsI3aj89VIXOOFEXvZxD6?usp=sharing) - аудиозаписи звонков. Они хранятся в корневом каталоге в одноимённых папках. К примеру, в папке `“Записи звонков_павелецкая сити”` лежат записи звонков по проекту `“Павелецкая Сити”`."
      ],
      "metadata": {
        "id": "S2SK4ESIGo32"
      }
    },
    {
      "cell_type": "markdown",
      "source": [
        "**Требования:**\n",
        "\n",
        "1.   Нейронная сеть должна быть спроектирована и обучена для точной классификации аудиозвонков на два класса: целевые и нецелевые (с точностью `90+%`).\n",
        "2.   Необходимо обеспечить интеграцию модели через `API`.\n",
        "3.   Модель должна быть оптимизирована для обработки большого объёма данных.\n",
        "4.   Код должен быть написан с соблюдением стандартов кодирования, и должна быть составлена подробная техническая документация.\n",
        "5.   Код должен включать в себя систему журналирования для фиксации ошибок.\n",
        "6.   Код должен принимать на вход регулярное выражение, по которому будет осуществляться проверка столбца `“теги”` в выгрузках `CSV` для определения статуса звонка `“целевой/нецелевой”`:\n",
        "\n",
        ">> a)\tпо проектам `“Примавера”` и `“Павелецкая сити”` наличие в столбце с тегами подстроки `“Целевой_М108“` будет равняться тому, что данный звонок целевой (пример регулярного выражения: `.*Целевой_М108.*`);\n",
        "\n",
        ">> b)\tпо проекту `“Хедлайнер”` - наличие в столбце с тегами подстроки `“первичный целевой“` будет равняться тому, что данный звонок целевой.\n",
        "\n",
        "7.   После реализации необходимо иметь возможность получения поддержки по предоставленному решению в течение `2 месяцев`."
      ],
      "metadata": {
        "id": "LF_Sa4cXI-pc"
      }
    },
    {
      "cell_type": "markdown",
      "source": [
        "Список рекомендуемых параметров для звуковой записи (данный список носит информационный характер и не является обязательным):\n",
        "\n",
        "*   Эмоция (базовые 11: радость; печаль; гнев; отвращение; удивление; страдание (горе); волнение (интерес); презрение; смущение; стыд; вина).\n",
        "*   Пол.\n",
        "*   Возраст.\n",
        "*   Семантический анализ диалога (по конкретным ключевым словам и/или по тематикам диалогов).\n",
        "*   Характеристики, присутствующие в `CSV`/`XLSX` таблицах."
      ],
      "metadata": {
        "id": "Mln9SW_iNwmm"
      }
    },
    {
      "cell_type": "markdown",
      "source": [
        "# Критерии классификации"
      ],
      "metadata": {
        "id": "pTohUadq_HUC"
      }
    },
    {
      "cell_type": "markdown",
      "source": [
        "Критерии `уникально-целевого` обращения:\n",
        "1. Длительность звонка должна быть не менее `75 секунд`;\n",
        "2. Телефонный номер абонента должен быть `уникальным`, т. е. его не должно быть в `CRM` заказчика. Либо, по нему не должно быть активности за последние `90 дней`. Исключение составляют `топовые площадки`, работающие по своим критериям (`ЦИАН`, `Яндекс.Недвижимость`, `Авито`, и т. д.);\n",
        "3. Клиент должен знать минимальную информацию об объекте (понимать, куда он звонит): название `ЖК`, расположение, ценовую политику;\n",
        "4. Номер абонента должен быть доступен в течение `15 дней` после совершённого звонка (при этом со стороны заказчика должно быть обеспечено `2 попытки` исходящего звонка в течение указанного срока);\n",
        "5. Клиент должен быть `«адекватным»`. Не общаться на повышенных тонах, не употреблять ненормативную лексику и т. д.;\n",
        "6. Клиент не должен быть повторным. Например, клиент `уже` купил квартиру и через `90 дней` решил купить машиноместо;\n",
        "7. Заявка. В заявке должен быть указан номер телефона, а абонент при контакте с менеджером должен соответствовать всем критериям `уникально-целевого` обращения, перечисленным выше;\n",
        "8. Озвученный общий бюджет покупки не должен быть `ниже 90%` от стоимости квартиры или коммерческого помещения, соответствующих площади/комнатности на момент обращения;\n",
        "9. В случае, если клиент является уникальным, интересуется покупкой недвижимости, не является представителем партнёров или исполнителей и изъявил желание посетить офис продаж. При этом не обязательна фиксация уровня знания клиента об объекте в диалоге. При этом источник не должен относиться к каналам `«лидогенерация»` или `«тематические площадки»`;\n",
        "10. Основной целью звонка клиента не должна являться покупка/аренда исключительно нежилого помещения, если это не являлось целью проводимой рекламной кампании.\n",
        "\n",
        "Критерии НЕ `уникально-целевого` (вторичного) обращения:\n",
        "1. Клиент позвонил повторно менее чем через `3 месяца` (`90 дней`) с момента последнего обращения;\n",
        "2. Клиент, либо члены его семьи, уже купил (купили) `квартиру`/`машиноместо`/`кладовое помещение`, и хочет (хотят) совершить ещё одну покупку. В данном случае клиент относится к показателю `LTV` (показатель прибыли, которую компания получает от одного клиента за всё время работы с ним)."
      ],
      "metadata": {
        "id": "F1Im0SOi_S8W"
      }
    },
    {
      "cell_type": "markdown",
      "source": [
        "# [Датафреймы](https://drive.google.com/drive/folders/111abiHt33Q-SV48pBPhEgDCZDI5KshnF?usp=sharing)"
      ],
      "metadata": {
        "id": "GeEu96leTaL6"
      }
    },
    {
      "cell_type": "markdown",
      "source": [
        "## Headliner"
      ],
      "metadata": {
        "id": "KXdYsYQmr1Aq"
      }
    },
    {
      "cell_type": "markdown",
      "source": [
        "*   [`Headliner_calls_df.pkl` Файлы записей звонков `Headliner`](https://drive.google.com/file/d/13pmGEYacsEHjYsIsYgf6fg4MUHAw509y/view?usp=sharing)\n",
        "*   [`Headliner_new_calls_df.pkl` Файлы записей новых звонков `Headliner`](https://drive.google.com/file/d/1-Ke1q42th_NV0og0e01_-mvJ8HL8JzfS/view?usp=sharing)"
      ],
      "metadata": {
        "id": "to-Y1bSQr-4P"
      }
    },
    {
      "cell_type": "markdown",
      "source": [
        "## Primavera"
      ],
      "metadata": {
        "id": "4BipOv18sV2n"
      }
    },
    {
      "cell_type": "markdown",
      "source": [
        "*   [`Primavera_calls_df.pkl` Файлы записей звонков `Primavera`](https://drive.google.com/file/d/1-CLRfPyaGSc61OopNuFRlWTG-CBCaM1F/view?usp=sharing)\n",
        "*   [`Primavera_new_calls_df.pkl` Файлы записей новых звонков `Primavera`](https://drive.google.com/file/d/1-Lxa0KifMiByareL94rdEzEpvvMj4D1T/view?usp=sharing)"
      ],
      "metadata": {
        "id": "ODp0MWUysgH-"
      }
    },
    {
      "cell_type": "markdown",
      "source": [
        "## Paveletskaya_city"
      ],
      "metadata": {
        "id": "1PeeinuNtAEe"
      }
    },
    {
      "cell_type": "markdown",
      "source": [
        "*   [`Paveletskaya_city_calls_df.pkl` Файлы записей звонков `Paveletskaya_city`](https://drive.google.com/file/d/1-JevsfOpxzLNZmSs34qrswhGzhPwf69S/view?usp=sharing)\n",
        "*   [`Paveletskaya_city_new_calls_df.pkl` Файлы записей новых звонков `Paveletskaya_city`](https://drive.google.com/file/d/1-ODEeFLv15DN5bfLlwyrTx8D3yxydhP9/view?usp=sharing)"
      ],
      "metadata": {
        "id": "N2krmwIptKI9"
      }
    },
    {
      "cell_type": "markdown",
      "source": [
        "# 2 неделя"
      ],
      "metadata": {
        "id": "rVDYF0C9YQcB"
      }
    },
    {
      "cell_type": "code",
      "source": [
        "!rm -r sample_data"
      ],
      "metadata": {
        "id": "6F_wknKtVq65"
      },
      "execution_count": null,
      "outputs": []
    },
    {
      "cell_type": "code",
      "source": [
        "# Подключаем google-диск\n",
        "from google.colab import drive\n",
        "drive.mount('/content/drive')\n",
        "my_drv_path = '/content/drive/MyDrive/'"
      ],
      "metadata": {
        "id": "OtvczWB8Vy4r",
        "colab": {
          "base_uri": "https://localhost:8080/"
        },
        "outputId": "f6be5839-4f1c-433c-b3c8-618319bfc06b"
      },
      "execution_count": null,
      "outputs": [
        {
          "output_type": "stream",
          "name": "stdout",
          "text": [
            "Mounted at /content/drive\n"
          ]
        }
      ]
    },
    {
      "cell_type": "markdown",
      "source": [
        "## Библиотеки и переменные"
      ],
      "metadata": {
        "id": "shwe_q3BV8Vr"
      }
    },
    {
      "cell_type": "code",
      "source": [
        "import os            # для работы с операционной системой\n",
        "import pickle as pkl # для сохранения и загрузки переменных\n",
        "import pandas as pd  # для работы с таблицами\n",
        "import numpy  as np  # для работы с массивами\n",
        "import re            # для работы с регулярными выражениями\n",
        "\n",
        "# Параметры отображения датафреймов\n",
        "pd.options.display.max_rows     = 99\n",
        "pd.options.display.max_columns  = 99\n",
        "pd.options.display.max_colwidth = 999\n",
        "\n",
        "work_dir_path              = my_drv_path           + 'media108.ru/Новички/'                # путь к рабочей папке\n",
        "df_path                    = work_dir_path         + 'Датафреймы/'                         # путь к папке для датафреймов\n",
        "table_path                 = work_dir_path         + 'Таблицы/'                            # путь к папке для таблиц\n",
        "model_path                 = work_dir_path         + 'Модели/'                             # путь к папке для моделей нейронных сетей\n",
        "all_dataset_path           = work_dir_path         + 'Датасет/'                            # путь к папке всего датасета в целом\n",
        "dataset_path               = all_dataset_path      + 'Записи звонков/'                     # путь к записям звонков\n",
        "dataset_info_path          = dataset_path          + 'Информация о звонках/'               # путь к информации о звонках\n",
        "dataset_new_path           = all_dataset_path      + 'Новые записи звонков/'               # путь к новым записям звонков\n",
        "dataset_new_info_path      = dataset_new_path      + 'Информация о звонках/'               # путь к информации о новых звонках\n",
        "Headliner_path             = dataset_path          + 'Записи звонков_хедлайнер'            # путь к записям звонков проекта Headliner\n",
        "Headliner_info             = dataset_info_path     + 'Headliner.csv'                       # путь к информации о звонках проекта Headliner\n",
        "Headliner_new_path         = dataset_new_path      + 'Записи Headliner'                    # путь к записям новых звонков проекта Headliner\n",
        "Headliner_new_info         = dataset_new_info_path + 'Headliner.xlsx'                      # путь к информации о новых звонках проекта Headliner\n",
        "Primavera_path             = dataset_path          + 'Записи звонков_primavera'            # путь к записям звонков проекта Primavera\n",
        "Primavera_info             = dataset_info_path     + 'Primavera .csv'                      # путь к информации о звонках проекта Primavera\n",
        "Primavera_new_path         = dataset_new_path      + 'Записи Primavera'                    # путь к записям новых звонков проекта Primavera\n",
        "Primavera_new_info         = dataset_new_info_path + 'Примавера.xlsx'                      # путь к информации о новых звонках проекта Primavera\n",
        "Paveletskaya_city_path     = dataset_path          + 'Записи звонков_павелецкая сити'      # путь к записям звонков проекта Paveletskaya_city\n",
        "Paveletskaya_city_info     = dataset_info_path     + 'Павелецкая_ЖК_«Павелецкая_сити».csv' # путь к информации о звонках проекта Paveletskaya_city\n",
        "Paveletskaya_info          = dataset_info_path     + 'Павелецкая (pavcity.turbo.site).csv' # путь к информации о звонках проекта Paveletskaya_city\n",
        "Paveletskaya_city_new_path = dataset_new_path      + 'Записи Павелецкая сити'              # путь к записям новых звонков проекта Paveletskaya_city\n",
        "Paveletskaya_city_new_info = dataset_new_info_path + 'Павелецкая сити.xlsx'                # путь к информации о новых звонках проекта Paveletskaya_city"
      ],
      "metadata": {
        "id": "afuxbj6ibJz2"
      },
      "execution_count": null,
      "outputs": []
    },
    {
      "cell_type": "markdown",
      "source": [
        "## Функции"
      ],
      "metadata": {
        "id": "FgkKPxSftYwE"
      }
    },
    {
      "cell_type": "code",
      "source": [
        "# Функция для создания датафрейма из списка записей звонков\n",
        "def calls_list_to_df(calls_list):\n",
        "\n",
        "  datetime_list    = [] # список для 'Дата и время'\n",
        "  from_number_list = [] # список для 'Номер абонента'\n",
        "  to_number_list   = [] # список для 'Номер сотрудника'\n",
        "  session_list     = [] # список для 'Идентификатор сессии звонка'\n",
        "\n",
        "  # Проходим по списку записей звонков\n",
        "  for call in calls_list:\n",
        "\n",
        "    call_item_list = call.split('_')\n",
        "    time_item_list = call_item_list[1].split('-')\n",
        "\n",
        "    # Заполняем списки для столбцов\n",
        "    datetime_list.append(call_item_list[0] + ' ' + time_item_list[0] + ':' + time_item_list[1] + ':' + time_item_list[2])\n",
        "    from_number_list.append(call_item_list[3])\n",
        "    to_number_list.append(call_item_list[5])\n",
        "    session_list.append(call_item_list[7])\n",
        "\n",
        "  # Собираем созданные списки в словарь\n",
        "  calls_dict = dict.fromkeys(['Дата и время', 'Номер абонента', 'Номер сотрудника', 'Идентификатор сессии звонка', 'Файл записи звонка'], [])\n",
        "  calls_dict['Дата и время']                = datetime_list\n",
        "  calls_dict['Номер абонента']              = from_number_list\n",
        "  calls_dict['Номер сотрудника']            = to_number_list\n",
        "  calls_dict['Идентификатор сессии звонка'] = session_list\n",
        "  calls_dict['Файл записи звонка']          = calls_list\n",
        "\n",
        "  # Возвращаем датафрейм\n",
        "  return pd.DataFrame(calls_dict)"
      ],
      "metadata": {
        "id": "Dti7DEY7ucFZ"
      },
      "execution_count": null,
      "outputs": []
    },
    {
      "cell_type": "markdown",
      "source": [
        "## [Записи звонков](https://drive.google.com/drive/folders/1K3jGCH60uzFcsI3aj89VIXOOFEXvZxD6?usp=sharing)"
      ],
      "metadata": {
        "id": "p-tO8i5IyJK4"
      }
    },
    {
      "cell_type": "code",
      "source": [
        "# Записи звонков\n",
        "os.listdir(dataset_path)"
      ],
      "metadata": {
        "colab": {
          "base_uri": "https://localhost:8080/"
        },
        "outputId": "0555cd4b-049e-42f9-8174-c78a0af450e1",
        "id": "g9cXb3OyyJK7"
      },
      "execution_count": null,
      "outputs": [
        {
          "output_type": "execute_result",
          "data": {
            "text/plain": [
              "['Записи звонков_primavera',\n",
              " 'Записи звонков_хедлайнер',\n",
              " 'Информация о звонках',\n",
              " 'Записи звонков_павелецкая сити']"
            ]
          },
          "metadata": {},
          "execution_count": 5
        }
      ]
    },
    {
      "cell_type": "markdown",
      "source": [
        "### Файлы записей звонков"
      ],
      "metadata": {
        "id": "hLQc-dtPyJK8"
      }
    },
    {
      "cell_type": "code",
      "source": [
        "# Записи Headliner\n",
        "os.listdir(Headliner_path)[:10]"
      ],
      "metadata": {
        "colab": {
          "base_uri": "https://localhost:8080/"
        },
        "outputId": "6a38b901-8ce8-4877-81e8-f69f66f0e6c0",
        "id": "mk40b4-7yJLu"
      },
      "execution_count": null,
      "outputs": [
        {
          "output_type": "execute_result",
          "data": {
            "text/plain": [
              "['2023-06-14_15-07-40.938632_from_79050768875_to_0188880_session_3003489531_talk.mp3',\n",
              " '2023-06-14_13-30-42.804946_from_74957457444_to_74959339929_session_3022411736_talk.mp3',\n",
              " '2023-06-14_15-58-58.400913_from_79269312016_to_74957898990_session_3003674963_talk.mp3',\n",
              " '2023-06-14_14-57-40.708736_from_79774768303_to_74959339929_session_3004166049_talk.mp3',\n",
              " '2023-06-14_13-45-55.847701_from_79062755811_to_74957898990_session_2985577658_talk.mp3',\n",
              " '2023-06-14_14-56-36.113671_from_79032889731_to_74959339929_session_2985803162_talk.mp3',\n",
              " '2023-06-14_15-30-55.184317_from_79667390327_to_74957898990_session_3004302373_talk.mp3',\n",
              " '2023-06-14_15-18-46.621317_from_79774768303_to_74959339929_session_3004252065_talk.mp3',\n",
              " '2023-06-14_15-08-36.282681_from_79031403616_to_74959339902_session_3003490011_talk.mp3',\n",
              " '2023-06-14_13-09-46.405193_from_74957457444_to_74959339929_session_2985464550_talk.mp3']"
            ]
          },
          "metadata": {},
          "execution_count": 6
        }
      ]
    },
    {
      "cell_type": "code",
      "source": [
        "# Записи Primavera\n",
        "os.listdir(Primavera_path)[:10]"
      ],
      "metadata": {
        "colab": {
          "base_uri": "https://localhost:8080/"
        },
        "outputId": "92b5d08f-c820-4004-a87c-2cd6ef61738e",
        "id": "lMZ__JZhyJLv"
      },
      "execution_count": null,
      "outputs": [
        {
          "output_type": "execute_result",
          "data": {
            "text/plain": [
              "['2023-05-22_14-31-25.831818_from_79005731071_to_0197875_session_2955870551_talk.mp3',\n",
              " '2023-05-22_16-25-39.290501_from_79634709412_to_0111642_session_2969621584_talk.mp3',\n",
              " '2023-05-21_17-39-50.256947_from_79210517035_to_0111651_session_2967199164_talk.mp3',\n",
              " '2023-05-22_11-39-36.568332_from_79265589095_to_0111639_session_2955163371_talk.mp3',\n",
              " '2023-05-22_14-45-50.919004_from_74959906134_to_0111642_session_2955923735_talk.mp3',\n",
              " '2023-05-21_17-17-38.369907_from_74950210291_to_0197879_session_2967187840_talk.mp3',\n",
              " '2023-05-21_10-21-22.058033_from_79091690998_to_0111639_session_2953966361_talk.mp3',\n",
              " '2023-05-22_12-16-10.253584_from_79854636456_to_0111639_session_2955827081_talk.mp3',\n",
              " '2023-05-20_20-44-08.680958_from_79218635931_to_0197872_session_2966077916_talk.mp3',\n",
              " '2023-05-22_11-38-44.274801_from_79265589095_to_0111639_session_2955694793_talk.mp3']"
            ]
          },
          "metadata": {},
          "execution_count": 7
        }
      ]
    },
    {
      "cell_type": "code",
      "source": [
        "# Записи Paveletskaya_city\n",
        "os.listdir(Paveletskaya_city_path)[:10]"
      ],
      "metadata": {
        "colab": {
          "base_uri": "https://localhost:8080/"
        },
        "outputId": "93d9a3c8-3efd-4637-f2c8-04b5b6a8ec66",
        "id": "-JJdWsg_yJLx"
      },
      "execution_count": null,
      "outputs": [
        {
          "output_type": "execute_result",
          "data": {
            "text/plain": [
              "['2023-07-18_20-21-20.571562_from_79169541011_to_74955141111_session_3096295994_talk.mp3',\n",
              " '2023-07-15_12-59-48.136717_from_74958266788_to_74950216267_session_3089988186_talk.mp3',\n",
              " '2023-07-14_12-25-51.010774_from_79023252958_to_74955141111_session_3089855767_talk.mp3',\n",
              " '2023-07-18_12-16-33.916259_from_79151079235_to_74955141111_session_3095485421_talk.mp3',\n",
              " '2023-07-13_18-43-05.740474_from_79172743421_to_74955141111_session_3088607912_talk.mp3',\n",
              " '2023-07-17_16-36-51.623658_from_79023252958_to_74955141111_session_3093331369_talk.mp3',\n",
              " '2023-07-18_12-26-00.501196_from_79153200606_to_74955141111_session_3094691113_talk.mp3',\n",
              " '2023-07-14_14-45-58.067755_from_79282737573_to_74950216267_session_3088442076_talk.mp3',\n",
              " '2023-07-19_13-33-47.219580_from_79056804383_to_74950216267_session_3097633704_talk.mp3',\n",
              " '2023-07-16_09-21-01.204283_from_79257972733_to_74955141111_session_3097619245_talk.mp3']"
            ]
          },
          "metadata": {},
          "execution_count": 8
        }
      ]
    },
    {
      "cell_type": "code",
      "source": [
        "# Количество записей звонков по проектам\n",
        "print(f\"        Headliner: {len(os.listdir(Headliner_path)):4d} записей\")\n",
        "print(f\"        Primavera: {len(os.listdir(Primavera_path)):4d} записей\")\n",
        "print(f\"Paveletskaya_city: {len(os.listdir(Paveletskaya_city_path)):4d} записей\")"
      ],
      "metadata": {
        "colab": {
          "base_uri": "https://localhost:8080/"
        },
        "outputId": "2ee7e0b5-12ee-4861-dddd-69923d59177f",
        "id": "tQPNRUIIyJLy"
      },
      "execution_count": null,
      "outputs": [
        {
          "output_type": "stream",
          "name": "stdout",
          "text": [
            "        Headliner: 2055 записей\n",
            "        Primavera: 1983 записей\n",
            "Paveletskaya_city: 1000 записей\n"
          ]
        }
      ]
    },
    {
      "cell_type": "markdown",
      "source": [
        "### Headliner"
      ],
      "metadata": {
        "id": "9saXOfuKyJLz"
      }
    },
    {
      "cell_type": "markdown",
      "source": [
        "#### Создание датафрейма"
      ],
      "metadata": {
        "id": "lHJoSY_dyJLz"
      }
    },
    {
      "cell_type": "code",
      "source": [
        "# Создаём датафрейм из списка записей звонков\n",
        "Headliner_calls_df = calls_list_to_df(os.listdir(Headliner_path))\n",
        "Headliner_calls_df.shape"
      ],
      "metadata": {
        "colab": {
          "base_uri": "https://localhost:8080/"
        },
        "outputId": "21661aea-daa2-48ca-a0d2-7009a0750627",
        "id": "8RYFeyRgyJL0"
      },
      "execution_count": null,
      "outputs": [
        {
          "output_type": "execute_result",
          "data": {
            "text/plain": [
              "(2055, 5)"
            ]
          },
          "metadata": {},
          "execution_count": 11
        }
      ]
    },
    {
      "cell_type": "code",
      "source": [
        "Headliner_calls_df.head()"
      ],
      "metadata": {
        "colab": {
          "base_uri": "https://localhost:8080/",
          "height": 206
        },
        "outputId": "35132448-a149-4b67-b11d-051481520370",
        "id": "Kyg08qtPyJL0"
      },
      "execution_count": null,
      "outputs": [
        {
          "output_type": "execute_result",
          "data": {
            "text/plain": [
              "                 Дата и время Номер абонента Номер сотрудника  \\\n",
              "0  2023-06-14 15:07:40.938632    79050768875          0188880   \n",
              "1  2023-06-14 13:30:42.804946    74957457444      74959339929   \n",
              "2  2023-06-14 15:58:58.400913    79269312016      74957898990   \n",
              "3  2023-06-14 14:57:40.708736    79774768303      74959339929   \n",
              "4  2023-06-14 13:45:55.847701    79062755811      74957898990   \n",
              "\n",
              "  Идентификатор сессии звонка  \\\n",
              "0                  3003489531   \n",
              "1                  3022411736   \n",
              "2                  3003674963   \n",
              "3                  3004166049   \n",
              "4                  2985577658   \n",
              "\n",
              "                                                                       Файл записи звонка  \n",
              "0      2023-06-14_15-07-40.938632_from_79050768875_to_0188880_session_3003489531_talk.mp3  \n",
              "1  2023-06-14_13-30-42.804946_from_74957457444_to_74959339929_session_3022411736_talk.mp3  \n",
              "2  2023-06-14_15-58-58.400913_from_79269312016_to_74957898990_session_3003674963_talk.mp3  \n",
              "3  2023-06-14_14-57-40.708736_from_79774768303_to_74959339929_session_3004166049_talk.mp3  \n",
              "4  2023-06-14_13-45-55.847701_from_79062755811_to_74957898990_session_2985577658_talk.mp3  "
            ],
            "text/html": [
              "\n",
              "  <div id=\"df-597d30b1-1051-4acc-af18-709402564d95\" class=\"colab-df-container\">\n",
              "    <div>\n",
              "<style scoped>\n",
              "    .dataframe tbody tr th:only-of-type {\n",
              "        vertical-align: middle;\n",
              "    }\n",
              "\n",
              "    .dataframe tbody tr th {\n",
              "        vertical-align: top;\n",
              "    }\n",
              "\n",
              "    .dataframe thead th {\n",
              "        text-align: right;\n",
              "    }\n",
              "</style>\n",
              "<table border=\"1\" class=\"dataframe\">\n",
              "  <thead>\n",
              "    <tr style=\"text-align: right;\">\n",
              "      <th></th>\n",
              "      <th>Дата и время</th>\n",
              "      <th>Номер абонента</th>\n",
              "      <th>Номер сотрудника</th>\n",
              "      <th>Идентификатор сессии звонка</th>\n",
              "      <th>Файл записи звонка</th>\n",
              "    </tr>\n",
              "  </thead>\n",
              "  <tbody>\n",
              "    <tr>\n",
              "      <th>0</th>\n",
              "      <td>2023-06-14 15:07:40.938632</td>\n",
              "      <td>79050768875</td>\n",
              "      <td>0188880</td>\n",
              "      <td>3003489531</td>\n",
              "      <td>2023-06-14_15-07-40.938632_from_79050768875_to_0188880_session_3003489531_talk.mp3</td>\n",
              "    </tr>\n",
              "    <tr>\n",
              "      <th>1</th>\n",
              "      <td>2023-06-14 13:30:42.804946</td>\n",
              "      <td>74957457444</td>\n",
              "      <td>74959339929</td>\n",
              "      <td>3022411736</td>\n",
              "      <td>2023-06-14_13-30-42.804946_from_74957457444_to_74959339929_session_3022411736_talk.mp3</td>\n",
              "    </tr>\n",
              "    <tr>\n",
              "      <th>2</th>\n",
              "      <td>2023-06-14 15:58:58.400913</td>\n",
              "      <td>79269312016</td>\n",
              "      <td>74957898990</td>\n",
              "      <td>3003674963</td>\n",
              "      <td>2023-06-14_15-58-58.400913_from_79269312016_to_74957898990_session_3003674963_talk.mp3</td>\n",
              "    </tr>\n",
              "    <tr>\n",
              "      <th>3</th>\n",
              "      <td>2023-06-14 14:57:40.708736</td>\n",
              "      <td>79774768303</td>\n",
              "      <td>74959339929</td>\n",
              "      <td>3004166049</td>\n",
              "      <td>2023-06-14_14-57-40.708736_from_79774768303_to_74959339929_session_3004166049_talk.mp3</td>\n",
              "    </tr>\n",
              "    <tr>\n",
              "      <th>4</th>\n",
              "      <td>2023-06-14 13:45:55.847701</td>\n",
              "      <td>79062755811</td>\n",
              "      <td>74957898990</td>\n",
              "      <td>2985577658</td>\n",
              "      <td>2023-06-14_13-45-55.847701_from_79062755811_to_74957898990_session_2985577658_talk.mp3</td>\n",
              "    </tr>\n",
              "  </tbody>\n",
              "</table>\n",
              "</div>\n",
              "    <div class=\"colab-df-buttons\">\n",
              "\n",
              "  <div class=\"colab-df-container\">\n",
              "    <button class=\"colab-df-convert\" onclick=\"convertToInteractive('df-597d30b1-1051-4acc-af18-709402564d95')\"\n",
              "            title=\"Convert this dataframe to an interactive table.\"\n",
              "            style=\"display:none;\">\n",
              "\n",
              "  <svg xmlns=\"http://www.w3.org/2000/svg\" height=\"24px\" viewBox=\"0 -960 960 960\">\n",
              "    <path d=\"M120-120v-720h720v720H120Zm60-500h600v-160H180v160Zm220 220h160v-160H400v160Zm0 220h160v-160H400v160ZM180-400h160v-160H180v160Zm440 0h160v-160H620v160ZM180-180h160v-160H180v160Zm440 0h160v-160H620v160Z\"/>\n",
              "  </svg>\n",
              "    </button>\n",
              "\n",
              "  <style>\n",
              "    .colab-df-container {\n",
              "      display:flex;\n",
              "      gap: 12px;\n",
              "    }\n",
              "\n",
              "    .colab-df-convert {\n",
              "      background-color: #E8F0FE;\n",
              "      border: none;\n",
              "      border-radius: 50%;\n",
              "      cursor: pointer;\n",
              "      display: none;\n",
              "      fill: #1967D2;\n",
              "      height: 32px;\n",
              "      padding: 0 0 0 0;\n",
              "      width: 32px;\n",
              "    }\n",
              "\n",
              "    .colab-df-convert:hover {\n",
              "      background-color: #E2EBFA;\n",
              "      box-shadow: 0px 1px 2px rgba(60, 64, 67, 0.3), 0px 1px 3px 1px rgba(60, 64, 67, 0.15);\n",
              "      fill: #174EA6;\n",
              "    }\n",
              "\n",
              "    .colab-df-buttons div {\n",
              "      margin-bottom: 4px;\n",
              "    }\n",
              "\n",
              "    [theme=dark] .colab-df-convert {\n",
              "      background-color: #3B4455;\n",
              "      fill: #D2E3FC;\n",
              "    }\n",
              "\n",
              "    [theme=dark] .colab-df-convert:hover {\n",
              "      background-color: #434B5C;\n",
              "      box-shadow: 0px 1px 3px 1px rgba(0, 0, 0, 0.15);\n",
              "      filter: drop-shadow(0px 1px 2px rgba(0, 0, 0, 0.3));\n",
              "      fill: #FFFFFF;\n",
              "    }\n",
              "  </style>\n",
              "\n",
              "    <script>\n",
              "      const buttonEl =\n",
              "        document.querySelector('#df-597d30b1-1051-4acc-af18-709402564d95 button.colab-df-convert');\n",
              "      buttonEl.style.display =\n",
              "        google.colab.kernel.accessAllowed ? 'block' : 'none';\n",
              "\n",
              "      async function convertToInteractive(key) {\n",
              "        const element = document.querySelector('#df-597d30b1-1051-4acc-af18-709402564d95');\n",
              "        const dataTable =\n",
              "          await google.colab.kernel.invokeFunction('convertToInteractive',\n",
              "                                                    [key], {});\n",
              "        if (!dataTable) return;\n",
              "\n",
              "        const docLinkHtml = 'Like what you see? Visit the ' +\n",
              "          '<a target=\"_blank\" href=https://colab.research.google.com/notebooks/data_table.ipynb>data table notebook</a>'\n",
              "          + ' to learn more about interactive tables.';\n",
              "        element.innerHTML = '';\n",
              "        dataTable['output_type'] = 'display_data';\n",
              "        await google.colab.output.renderOutput(dataTable, element);\n",
              "        const docLink = document.createElement('div');\n",
              "        docLink.innerHTML = docLinkHtml;\n",
              "        element.appendChild(docLink);\n",
              "      }\n",
              "    </script>\n",
              "  </div>\n",
              "\n",
              "\n",
              "<div id=\"df-56eff155-8ce2-4c7a-9183-6a9e770fffa4\">\n",
              "  <button class=\"colab-df-quickchart\" onclick=\"quickchart('df-56eff155-8ce2-4c7a-9183-6a9e770fffa4')\"\n",
              "            title=\"Suggest charts.\"\n",
              "            style=\"display:none;\">\n",
              "\n",
              "<svg xmlns=\"http://www.w3.org/2000/svg\" height=\"24px\"viewBox=\"0 0 24 24\"\n",
              "     width=\"24px\">\n",
              "    <g>\n",
              "        <path d=\"M19 3H5c-1.1 0-2 .9-2 2v14c0 1.1.9 2 2 2h14c1.1 0 2-.9 2-2V5c0-1.1-.9-2-2-2zM9 17H7v-7h2v7zm4 0h-2V7h2v10zm4 0h-2v-4h2v4z\"/>\n",
              "    </g>\n",
              "</svg>\n",
              "  </button>\n",
              "\n",
              "<style>\n",
              "  .colab-df-quickchart {\n",
              "      --bg-color: #E8F0FE;\n",
              "      --fill-color: #1967D2;\n",
              "      --hover-bg-color: #E2EBFA;\n",
              "      --hover-fill-color: #174EA6;\n",
              "      --disabled-fill-color: #AAA;\n",
              "      --disabled-bg-color: #DDD;\n",
              "  }\n",
              "\n",
              "  [theme=dark] .colab-df-quickchart {\n",
              "      --bg-color: #3B4455;\n",
              "      --fill-color: #D2E3FC;\n",
              "      --hover-bg-color: #434B5C;\n",
              "      --hover-fill-color: #FFFFFF;\n",
              "      --disabled-bg-color: #3B4455;\n",
              "      --disabled-fill-color: #666;\n",
              "  }\n",
              "\n",
              "  .colab-df-quickchart {\n",
              "    background-color: var(--bg-color);\n",
              "    border: none;\n",
              "    border-radius: 50%;\n",
              "    cursor: pointer;\n",
              "    display: none;\n",
              "    fill: var(--fill-color);\n",
              "    height: 32px;\n",
              "    padding: 0;\n",
              "    width: 32px;\n",
              "  }\n",
              "\n",
              "  .colab-df-quickchart:hover {\n",
              "    background-color: var(--hover-bg-color);\n",
              "    box-shadow: 0 1px 2px rgba(60, 64, 67, 0.3), 0 1px 3px 1px rgba(60, 64, 67, 0.15);\n",
              "    fill: var(--button-hover-fill-color);\n",
              "  }\n",
              "\n",
              "  .colab-df-quickchart-complete:disabled,\n",
              "  .colab-df-quickchart-complete:disabled:hover {\n",
              "    background-color: var(--disabled-bg-color);\n",
              "    fill: var(--disabled-fill-color);\n",
              "    box-shadow: none;\n",
              "  }\n",
              "\n",
              "  .colab-df-spinner {\n",
              "    border: 2px solid var(--fill-color);\n",
              "    border-color: transparent;\n",
              "    border-bottom-color: var(--fill-color);\n",
              "    animation:\n",
              "      spin 1s steps(1) infinite;\n",
              "  }\n",
              "\n",
              "  @keyframes spin {\n",
              "    0% {\n",
              "      border-color: transparent;\n",
              "      border-bottom-color: var(--fill-color);\n",
              "      border-left-color: var(--fill-color);\n",
              "    }\n",
              "    20% {\n",
              "      border-color: transparent;\n",
              "      border-left-color: var(--fill-color);\n",
              "      border-top-color: var(--fill-color);\n",
              "    }\n",
              "    30% {\n",
              "      border-color: transparent;\n",
              "      border-left-color: var(--fill-color);\n",
              "      border-top-color: var(--fill-color);\n",
              "      border-right-color: var(--fill-color);\n",
              "    }\n",
              "    40% {\n",
              "      border-color: transparent;\n",
              "      border-right-color: var(--fill-color);\n",
              "      border-top-color: var(--fill-color);\n",
              "    }\n",
              "    60% {\n",
              "      border-color: transparent;\n",
              "      border-right-color: var(--fill-color);\n",
              "    }\n",
              "    80% {\n",
              "      border-color: transparent;\n",
              "      border-right-color: var(--fill-color);\n",
              "      border-bottom-color: var(--fill-color);\n",
              "    }\n",
              "    90% {\n",
              "      border-color: transparent;\n",
              "      border-bottom-color: var(--fill-color);\n",
              "    }\n",
              "  }\n",
              "</style>\n",
              "\n",
              "  <script>\n",
              "    async function quickchart(key) {\n",
              "      const quickchartButtonEl =\n",
              "        document.querySelector('#' + key + ' button');\n",
              "      quickchartButtonEl.disabled = true;  // To prevent multiple clicks.\n",
              "      quickchartButtonEl.classList.add('colab-df-spinner');\n",
              "      try {\n",
              "        const charts = await google.colab.kernel.invokeFunction(\n",
              "            'suggestCharts', [key], {});\n",
              "      } catch (error) {\n",
              "        console.error('Error during call to suggestCharts:', error);\n",
              "      }\n",
              "      quickchartButtonEl.classList.remove('colab-df-spinner');\n",
              "      quickchartButtonEl.classList.add('colab-df-quickchart-complete');\n",
              "    }\n",
              "    (() => {\n",
              "      let quickchartButtonEl =\n",
              "        document.querySelector('#df-56eff155-8ce2-4c7a-9183-6a9e770fffa4 button');\n",
              "      quickchartButtonEl.style.display =\n",
              "        google.colab.kernel.accessAllowed ? 'block' : 'none';\n",
              "    })();\n",
              "  </script>\n",
              "</div>\n",
              "    </div>\n",
              "  </div>\n"
            ]
          },
          "metadata": {},
          "execution_count": 12
        }
      ]
    },
    {
      "cell_type": "code",
      "source": [
        "# Проверяем количество строк\n",
        "print(len(os.listdir(Headliner_path)))\n",
        "print(Headliner_calls_df.shape[0])"
      ],
      "metadata": {
        "colab": {
          "base_uri": "https://localhost:8080/"
        },
        "outputId": "72d71e4c-4bc2-4a78-8e89-ae297e5bd81e",
        "id": "so32DMjpyJMh"
      },
      "execution_count": null,
      "outputs": [
        {
          "output_type": "stream",
          "name": "stdout",
          "text": [
            "2055\n",
            "2055\n"
          ]
        }
      ]
    },
    {
      "cell_type": "code",
      "source": [
        "print(Headliner_calls_df.count())"
      ],
      "metadata": {
        "colab": {
          "base_uri": "https://localhost:8080/"
        },
        "outputId": "2924e1dc-7c0c-4fdb-a740-8b3830a88d14",
        "id": "inGMwf7VyJMi"
      },
      "execution_count": null,
      "outputs": [
        {
          "output_type": "stream",
          "name": "stdout",
          "text": [
            "Дата и время                   2055\n",
            "Номер абонента                 2055\n",
            "Номер сотрудника               2055\n",
            "Идентификатор сессии звонка    2055\n",
            "Файл записи звонка             2055\n",
            "dtype: int64\n"
          ]
        }
      ]
    },
    {
      "cell_type": "code",
      "source": [
        "# Количество уникальных значений столбца 'Идентификатор сессии звонка'\n",
        "Headliner_calls_df['Идентификатор сессии звонка'].nunique()"
      ],
      "metadata": {
        "colab": {
          "base_uri": "https://localhost:8080/"
        },
        "id": "KjfaJqiA090K",
        "outputId": "5fcabb77-40ff-455b-88f1-1bf44f69a610"
      },
      "execution_count": null,
      "outputs": [
        {
          "output_type": "execute_result",
          "data": {
            "text/plain": [
              "2045"
            ]
          },
          "metadata": {},
          "execution_count": 20
        }
      ]
    },
    {
      "cell_type": "code",
      "source": [
        "# Количество дубликатов в столбце 'Идентификатор сессии звонка'\n",
        "print(Headliner_calls_df[Headliner_calls_df['Идентификатор сессии звонка'].duplicated(keep='last')].shape[0])\n",
        "print(Headliner_calls_df[Headliner_calls_df['Идентификатор сессии звонка'].duplicated()].shape[0])"
      ],
      "metadata": {
        "colab": {
          "base_uri": "https://localhost:8080/"
        },
        "id": "I2PY7h0G0KDD",
        "outputId": "359a3519-b134-4bfd-97c8-287cb9c77def"
      },
      "execution_count": null,
      "outputs": [
        {
          "output_type": "stream",
          "name": "stdout",
          "text": [
            "10\n",
            "10\n"
          ]
        }
      ]
    },
    {
      "cell_type": "code",
      "source": [
        "# Смотрим дубликаты в столбце 'Идентификатор сессии звонка'\n",
        "pd.concat([Headliner_calls_df[Headliner_calls_df['Идентификатор сессии звонка'].duplicated(keep='last')],\n",
        "           Headliner_calls_df[Headliner_calls_df['Идентификатор сессии звонка'].duplicated()]])"
      ],
      "metadata": {
        "colab": {
          "base_uri": "https://localhost:8080/",
          "height": 677
        },
        "id": "1fR6bxNn1LDX",
        "outputId": "0b4e7590-6b19-4e8b-8ef1-18393945e1bb"
      },
      "execution_count": null,
      "outputs": [
        {
          "output_type": "execute_result",
          "data": {
            "text/plain": [
              "                    Дата и время Номер абонента Номер сотрудника  \\\n",
              "25    2023-06-09 20:36:38.855885    74951626925      74997552563   \n",
              "33    2023-06-09 16:51:36.409159    79999835117      74959339929   \n",
              "1857  2023-06-10 12:51:20.873488    74957457444      74959339929   \n",
              "1859  2023-06-10 12:41:39.438371    79932311337      74997552563   \n",
              "1860  2023-06-10 12:19:27.677250    79855320219      74959339902   \n",
              "1861  2023-06-10 12:50:13.808032    79057912134      74997552563   \n",
              "1866  2023-06-10 12:20:01.703751    79855320219      74959339902   \n",
              "1872  2023-06-10 17:21:35.269125    79015530030      74959339929   \n",
              "1874  2023-06-10 17:09:27.282329    79636310102      74997552563   \n",
              "1879  2023-06-10 14:03:42.287232    74957457444      74959339929   \n",
              "29    2023-06-09 20:36:38.855885    74951626925      74997552563   \n",
              "38    2023-06-09 16:51:36.409159    79999835117      74959339929   \n",
              "1858  2023-06-10 12:51:20.873488    74957457444      74959339929   \n",
              "1868  2023-06-10 12:50:13.808032    79057912134      74997552563   \n",
              "1873  2023-06-10 17:21:35.269125    79015530030      74959339929   \n",
              "1876  2023-06-10 12:20:01.703751    79855320219      74959339902   \n",
              "1883  2023-06-10 12:41:39.438371    79932311337      74997552563   \n",
              "1884  2023-06-10 12:19:27.677250    79855320219      74959339902   \n",
              "1887  2023-06-10 14:03:42.287232    74957457444      74959339929   \n",
              "1888  2023-06-10 17:09:27.282329    79636310102      74997552563   \n",
              "\n",
              "     Идентификатор сессии звонка  \\\n",
              "25                    3014157308   \n",
              "33                    3013731244   \n",
              "1857                  2996988633   \n",
              "1859                  3014808800   \n",
              "1860                  2996201671   \n",
              "1861                  2996260363   \n",
              "1866                  2996196943   \n",
              "1872                  2996704435   \n",
              "1874                  2979780790   \n",
              "1879                  2979520234   \n",
              "29                    3014157308   \n",
              "38                    3013731244   \n",
              "1858                  2996988633   \n",
              "1868                  2996260363   \n",
              "1873                  2996704435   \n",
              "1876                  2996196943   \n",
              "1883                  3014808800   \n",
              "1884                  2996201671   \n",
              "1887                  2979520234   \n",
              "1888                  2979780790   \n",
              "\n",
              "                                                                              Файл записи звонка  \n",
              "25    2023-06-09_20-36-38.855885_from_74951626925_to_74997552563_session_3014157308_talk (1).mp3  \n",
              "33    2023-06-09_16-51-36.409159_from_79999835117_to_74959339929_session_3013731244_talk (1).mp3  \n",
              "1857  2023-06-10_12-51-20.873488_from_74957457444_to_74959339929_session_2996988633_talk (1).mp3  \n",
              "1859  2023-06-10_12-41-39.438371_from_79932311337_to_74997552563_session_3014808800_talk (1).mp3  \n",
              "1860  2023-06-10_12-19-27.677250_from_79855320219_to_74959339902_session_2996201671_talk (1).mp3  \n",
              "1861  2023-06-10_12-50-13.808032_from_79057912134_to_74997552563_session_2996260363_talk (1).mp3  \n",
              "1866  2023-06-10_12-20-01.703751_from_79855320219_to_74959339902_session_2996196943_talk (1).mp3  \n",
              "1872  2023-06-10_17-21-35.269125_from_79015530030_to_74959339929_session_2996704435_talk (1).mp3  \n",
              "1874  2023-06-10_17-09-27.282329_from_79636310102_to_74997552563_session_2979780790_talk (1).mp3  \n",
              "1879  2023-06-10_14-03-42.287232_from_74957457444_to_74959339929_session_2979520234_talk (1).mp3  \n",
              "29        2023-06-09_20-36-38.855885_from_74951626925_to_74997552563_session_3014157308_talk.mp3  \n",
              "38        2023-06-09_16-51-36.409159_from_79999835117_to_74959339929_session_3013731244_talk.mp3  \n",
              "1858      2023-06-10_12-51-20.873488_from_74957457444_to_74959339929_session_2996988633_talk.mp3  \n",
              "1868      2023-06-10_12-50-13.808032_from_79057912134_to_74997552563_session_2996260363_talk.mp3  \n",
              "1873      2023-06-10_17-21-35.269125_from_79015530030_to_74959339929_session_2996704435_talk.mp3  \n",
              "1876      2023-06-10_12-20-01.703751_from_79855320219_to_74959339902_session_2996196943_talk.mp3  \n",
              "1883      2023-06-10_12-41-39.438371_from_79932311337_to_74997552563_session_3014808800_talk.mp3  \n",
              "1884      2023-06-10_12-19-27.677250_from_79855320219_to_74959339902_session_2996201671_talk.mp3  \n",
              "1887      2023-06-10_14-03-42.287232_from_74957457444_to_74959339929_session_2979520234_talk.mp3  \n",
              "1888      2023-06-10_17-09-27.282329_from_79636310102_to_74997552563_session_2979780790_talk.mp3  "
            ],
            "text/html": [
              "\n",
              "  <div id=\"df-fbd7df26-2245-4b38-a1b3-1afe578ccc01\" class=\"colab-df-container\">\n",
              "    <div>\n",
              "<style scoped>\n",
              "    .dataframe tbody tr th:only-of-type {\n",
              "        vertical-align: middle;\n",
              "    }\n",
              "\n",
              "    .dataframe tbody tr th {\n",
              "        vertical-align: top;\n",
              "    }\n",
              "\n",
              "    .dataframe thead th {\n",
              "        text-align: right;\n",
              "    }\n",
              "</style>\n",
              "<table border=\"1\" class=\"dataframe\">\n",
              "  <thead>\n",
              "    <tr style=\"text-align: right;\">\n",
              "      <th></th>\n",
              "      <th>Дата и время</th>\n",
              "      <th>Номер абонента</th>\n",
              "      <th>Номер сотрудника</th>\n",
              "      <th>Идентификатор сессии звонка</th>\n",
              "      <th>Файл записи звонка</th>\n",
              "    </tr>\n",
              "  </thead>\n",
              "  <tbody>\n",
              "    <tr>\n",
              "      <th>25</th>\n",
              "      <td>2023-06-09 20:36:38.855885</td>\n",
              "      <td>74951626925</td>\n",
              "      <td>74997552563</td>\n",
              "      <td>3014157308</td>\n",
              "      <td>2023-06-09_20-36-38.855885_from_74951626925_to_74997552563_session_3014157308_talk (1).mp3</td>\n",
              "    </tr>\n",
              "    <tr>\n",
              "      <th>33</th>\n",
              "      <td>2023-06-09 16:51:36.409159</td>\n",
              "      <td>79999835117</td>\n",
              "      <td>74959339929</td>\n",
              "      <td>3013731244</td>\n",
              "      <td>2023-06-09_16-51-36.409159_from_79999835117_to_74959339929_session_3013731244_talk (1).mp3</td>\n",
              "    </tr>\n",
              "    <tr>\n",
              "      <th>1857</th>\n",
              "      <td>2023-06-10 12:51:20.873488</td>\n",
              "      <td>74957457444</td>\n",
              "      <td>74959339929</td>\n",
              "      <td>2996988633</td>\n",
              "      <td>2023-06-10_12-51-20.873488_from_74957457444_to_74959339929_session_2996988633_talk (1).mp3</td>\n",
              "    </tr>\n",
              "    <tr>\n",
              "      <th>1859</th>\n",
              "      <td>2023-06-10 12:41:39.438371</td>\n",
              "      <td>79932311337</td>\n",
              "      <td>74997552563</td>\n",
              "      <td>3014808800</td>\n",
              "      <td>2023-06-10_12-41-39.438371_from_79932311337_to_74997552563_session_3014808800_talk (1).mp3</td>\n",
              "    </tr>\n",
              "    <tr>\n",
              "      <th>1860</th>\n",
              "      <td>2023-06-10 12:19:27.677250</td>\n",
              "      <td>79855320219</td>\n",
              "      <td>74959339902</td>\n",
              "      <td>2996201671</td>\n",
              "      <td>2023-06-10_12-19-27.677250_from_79855320219_to_74959339902_session_2996201671_talk (1).mp3</td>\n",
              "    </tr>\n",
              "    <tr>\n",
              "      <th>1861</th>\n",
              "      <td>2023-06-10 12:50:13.808032</td>\n",
              "      <td>79057912134</td>\n",
              "      <td>74997552563</td>\n",
              "      <td>2996260363</td>\n",
              "      <td>2023-06-10_12-50-13.808032_from_79057912134_to_74997552563_session_2996260363_talk (1).mp3</td>\n",
              "    </tr>\n",
              "    <tr>\n",
              "      <th>1866</th>\n",
              "      <td>2023-06-10 12:20:01.703751</td>\n",
              "      <td>79855320219</td>\n",
              "      <td>74959339902</td>\n",
              "      <td>2996196943</td>\n",
              "      <td>2023-06-10_12-20-01.703751_from_79855320219_to_74959339902_session_2996196943_talk (1).mp3</td>\n",
              "    </tr>\n",
              "    <tr>\n",
              "      <th>1872</th>\n",
              "      <td>2023-06-10 17:21:35.269125</td>\n",
              "      <td>79015530030</td>\n",
              "      <td>74959339929</td>\n",
              "      <td>2996704435</td>\n",
              "      <td>2023-06-10_17-21-35.269125_from_79015530030_to_74959339929_session_2996704435_talk (1).mp3</td>\n",
              "    </tr>\n",
              "    <tr>\n",
              "      <th>1874</th>\n",
              "      <td>2023-06-10 17:09:27.282329</td>\n",
              "      <td>79636310102</td>\n",
              "      <td>74997552563</td>\n",
              "      <td>2979780790</td>\n",
              "      <td>2023-06-10_17-09-27.282329_from_79636310102_to_74997552563_session_2979780790_talk (1).mp3</td>\n",
              "    </tr>\n",
              "    <tr>\n",
              "      <th>1879</th>\n",
              "      <td>2023-06-10 14:03:42.287232</td>\n",
              "      <td>74957457444</td>\n",
              "      <td>74959339929</td>\n",
              "      <td>2979520234</td>\n",
              "      <td>2023-06-10_14-03-42.287232_from_74957457444_to_74959339929_session_2979520234_talk (1).mp3</td>\n",
              "    </tr>\n",
              "    <tr>\n",
              "      <th>29</th>\n",
              "      <td>2023-06-09 20:36:38.855885</td>\n",
              "      <td>74951626925</td>\n",
              "      <td>74997552563</td>\n",
              "      <td>3014157308</td>\n",
              "      <td>2023-06-09_20-36-38.855885_from_74951626925_to_74997552563_session_3014157308_talk.mp3</td>\n",
              "    </tr>\n",
              "    <tr>\n",
              "      <th>38</th>\n",
              "      <td>2023-06-09 16:51:36.409159</td>\n",
              "      <td>79999835117</td>\n",
              "      <td>74959339929</td>\n",
              "      <td>3013731244</td>\n",
              "      <td>2023-06-09_16-51-36.409159_from_79999835117_to_74959339929_session_3013731244_talk.mp3</td>\n",
              "    </tr>\n",
              "    <tr>\n",
              "      <th>1858</th>\n",
              "      <td>2023-06-10 12:51:20.873488</td>\n",
              "      <td>74957457444</td>\n",
              "      <td>74959339929</td>\n",
              "      <td>2996988633</td>\n",
              "      <td>2023-06-10_12-51-20.873488_from_74957457444_to_74959339929_session_2996988633_talk.mp3</td>\n",
              "    </tr>\n",
              "    <tr>\n",
              "      <th>1868</th>\n",
              "      <td>2023-06-10 12:50:13.808032</td>\n",
              "      <td>79057912134</td>\n",
              "      <td>74997552563</td>\n",
              "      <td>2996260363</td>\n",
              "      <td>2023-06-10_12-50-13.808032_from_79057912134_to_74997552563_session_2996260363_talk.mp3</td>\n",
              "    </tr>\n",
              "    <tr>\n",
              "      <th>1873</th>\n",
              "      <td>2023-06-10 17:21:35.269125</td>\n",
              "      <td>79015530030</td>\n",
              "      <td>74959339929</td>\n",
              "      <td>2996704435</td>\n",
              "      <td>2023-06-10_17-21-35.269125_from_79015530030_to_74959339929_session_2996704435_talk.mp3</td>\n",
              "    </tr>\n",
              "    <tr>\n",
              "      <th>1876</th>\n",
              "      <td>2023-06-10 12:20:01.703751</td>\n",
              "      <td>79855320219</td>\n",
              "      <td>74959339902</td>\n",
              "      <td>2996196943</td>\n",
              "      <td>2023-06-10_12-20-01.703751_from_79855320219_to_74959339902_session_2996196943_talk.mp3</td>\n",
              "    </tr>\n",
              "    <tr>\n",
              "      <th>1883</th>\n",
              "      <td>2023-06-10 12:41:39.438371</td>\n",
              "      <td>79932311337</td>\n",
              "      <td>74997552563</td>\n",
              "      <td>3014808800</td>\n",
              "      <td>2023-06-10_12-41-39.438371_from_79932311337_to_74997552563_session_3014808800_talk.mp3</td>\n",
              "    </tr>\n",
              "    <tr>\n",
              "      <th>1884</th>\n",
              "      <td>2023-06-10 12:19:27.677250</td>\n",
              "      <td>79855320219</td>\n",
              "      <td>74959339902</td>\n",
              "      <td>2996201671</td>\n",
              "      <td>2023-06-10_12-19-27.677250_from_79855320219_to_74959339902_session_2996201671_talk.mp3</td>\n",
              "    </tr>\n",
              "    <tr>\n",
              "      <th>1887</th>\n",
              "      <td>2023-06-10 14:03:42.287232</td>\n",
              "      <td>74957457444</td>\n",
              "      <td>74959339929</td>\n",
              "      <td>2979520234</td>\n",
              "      <td>2023-06-10_14-03-42.287232_from_74957457444_to_74959339929_session_2979520234_talk.mp3</td>\n",
              "    </tr>\n",
              "    <tr>\n",
              "      <th>1888</th>\n",
              "      <td>2023-06-10 17:09:27.282329</td>\n",
              "      <td>79636310102</td>\n",
              "      <td>74997552563</td>\n",
              "      <td>2979780790</td>\n",
              "      <td>2023-06-10_17-09-27.282329_from_79636310102_to_74997552563_session_2979780790_talk.mp3</td>\n",
              "    </tr>\n",
              "  </tbody>\n",
              "</table>\n",
              "</div>\n",
              "    <div class=\"colab-df-buttons\">\n",
              "\n",
              "  <div class=\"colab-df-container\">\n",
              "    <button class=\"colab-df-convert\" onclick=\"convertToInteractive('df-fbd7df26-2245-4b38-a1b3-1afe578ccc01')\"\n",
              "            title=\"Convert this dataframe to an interactive table.\"\n",
              "            style=\"display:none;\">\n",
              "\n",
              "  <svg xmlns=\"http://www.w3.org/2000/svg\" height=\"24px\" viewBox=\"0 -960 960 960\">\n",
              "    <path d=\"M120-120v-720h720v720H120Zm60-500h600v-160H180v160Zm220 220h160v-160H400v160Zm0 220h160v-160H400v160ZM180-400h160v-160H180v160Zm440 0h160v-160H620v160ZM180-180h160v-160H180v160Zm440 0h160v-160H620v160Z\"/>\n",
              "  </svg>\n",
              "    </button>\n",
              "\n",
              "  <style>\n",
              "    .colab-df-container {\n",
              "      display:flex;\n",
              "      gap: 12px;\n",
              "    }\n",
              "\n",
              "    .colab-df-convert {\n",
              "      background-color: #E8F0FE;\n",
              "      border: none;\n",
              "      border-radius: 50%;\n",
              "      cursor: pointer;\n",
              "      display: none;\n",
              "      fill: #1967D2;\n",
              "      height: 32px;\n",
              "      padding: 0 0 0 0;\n",
              "      width: 32px;\n",
              "    }\n",
              "\n",
              "    .colab-df-convert:hover {\n",
              "      background-color: #E2EBFA;\n",
              "      box-shadow: 0px 1px 2px rgba(60, 64, 67, 0.3), 0px 1px 3px 1px rgba(60, 64, 67, 0.15);\n",
              "      fill: #174EA6;\n",
              "    }\n",
              "\n",
              "    .colab-df-buttons div {\n",
              "      margin-bottom: 4px;\n",
              "    }\n",
              "\n",
              "    [theme=dark] .colab-df-convert {\n",
              "      background-color: #3B4455;\n",
              "      fill: #D2E3FC;\n",
              "    }\n",
              "\n",
              "    [theme=dark] .colab-df-convert:hover {\n",
              "      background-color: #434B5C;\n",
              "      box-shadow: 0px 1px 3px 1px rgba(0, 0, 0, 0.15);\n",
              "      filter: drop-shadow(0px 1px 2px rgba(0, 0, 0, 0.3));\n",
              "      fill: #FFFFFF;\n",
              "    }\n",
              "  </style>\n",
              "\n",
              "    <script>\n",
              "      const buttonEl =\n",
              "        document.querySelector('#df-fbd7df26-2245-4b38-a1b3-1afe578ccc01 button.colab-df-convert');\n",
              "      buttonEl.style.display =\n",
              "        google.colab.kernel.accessAllowed ? 'block' : 'none';\n",
              "\n",
              "      async function convertToInteractive(key) {\n",
              "        const element = document.querySelector('#df-fbd7df26-2245-4b38-a1b3-1afe578ccc01');\n",
              "        const dataTable =\n",
              "          await google.colab.kernel.invokeFunction('convertToInteractive',\n",
              "                                                    [key], {});\n",
              "        if (!dataTable) return;\n",
              "\n",
              "        const docLinkHtml = 'Like what you see? Visit the ' +\n",
              "          '<a target=\"_blank\" href=https://colab.research.google.com/notebooks/data_table.ipynb>data table notebook</a>'\n",
              "          + ' to learn more about interactive tables.';\n",
              "        element.innerHTML = '';\n",
              "        dataTable['output_type'] = 'display_data';\n",
              "        await google.colab.output.renderOutput(dataTable, element);\n",
              "        const docLink = document.createElement('div');\n",
              "        docLink.innerHTML = docLinkHtml;\n",
              "        element.appendChild(docLink);\n",
              "      }\n",
              "    </script>\n",
              "  </div>\n",
              "\n",
              "\n",
              "<div id=\"df-c838e76c-7182-4763-89fc-62246b64121e\">\n",
              "  <button class=\"colab-df-quickchart\" onclick=\"quickchart('df-c838e76c-7182-4763-89fc-62246b64121e')\"\n",
              "            title=\"Suggest charts.\"\n",
              "            style=\"display:none;\">\n",
              "\n",
              "<svg xmlns=\"http://www.w3.org/2000/svg\" height=\"24px\"viewBox=\"0 0 24 24\"\n",
              "     width=\"24px\">\n",
              "    <g>\n",
              "        <path d=\"M19 3H5c-1.1 0-2 .9-2 2v14c0 1.1.9 2 2 2h14c1.1 0 2-.9 2-2V5c0-1.1-.9-2-2-2zM9 17H7v-7h2v7zm4 0h-2V7h2v10zm4 0h-2v-4h2v4z\"/>\n",
              "    </g>\n",
              "</svg>\n",
              "  </button>\n",
              "\n",
              "<style>\n",
              "  .colab-df-quickchart {\n",
              "      --bg-color: #E8F0FE;\n",
              "      --fill-color: #1967D2;\n",
              "      --hover-bg-color: #E2EBFA;\n",
              "      --hover-fill-color: #174EA6;\n",
              "      --disabled-fill-color: #AAA;\n",
              "      --disabled-bg-color: #DDD;\n",
              "  }\n",
              "\n",
              "  [theme=dark] .colab-df-quickchart {\n",
              "      --bg-color: #3B4455;\n",
              "      --fill-color: #D2E3FC;\n",
              "      --hover-bg-color: #434B5C;\n",
              "      --hover-fill-color: #FFFFFF;\n",
              "      --disabled-bg-color: #3B4455;\n",
              "      --disabled-fill-color: #666;\n",
              "  }\n",
              "\n",
              "  .colab-df-quickchart {\n",
              "    background-color: var(--bg-color);\n",
              "    border: none;\n",
              "    border-radius: 50%;\n",
              "    cursor: pointer;\n",
              "    display: none;\n",
              "    fill: var(--fill-color);\n",
              "    height: 32px;\n",
              "    padding: 0;\n",
              "    width: 32px;\n",
              "  }\n",
              "\n",
              "  .colab-df-quickchart:hover {\n",
              "    background-color: var(--hover-bg-color);\n",
              "    box-shadow: 0 1px 2px rgba(60, 64, 67, 0.3), 0 1px 3px 1px rgba(60, 64, 67, 0.15);\n",
              "    fill: var(--button-hover-fill-color);\n",
              "  }\n",
              "\n",
              "  .colab-df-quickchart-complete:disabled,\n",
              "  .colab-df-quickchart-complete:disabled:hover {\n",
              "    background-color: var(--disabled-bg-color);\n",
              "    fill: var(--disabled-fill-color);\n",
              "    box-shadow: none;\n",
              "  }\n",
              "\n",
              "  .colab-df-spinner {\n",
              "    border: 2px solid var(--fill-color);\n",
              "    border-color: transparent;\n",
              "    border-bottom-color: var(--fill-color);\n",
              "    animation:\n",
              "      spin 1s steps(1) infinite;\n",
              "  }\n",
              "\n",
              "  @keyframes spin {\n",
              "    0% {\n",
              "      border-color: transparent;\n",
              "      border-bottom-color: var(--fill-color);\n",
              "      border-left-color: var(--fill-color);\n",
              "    }\n",
              "    20% {\n",
              "      border-color: transparent;\n",
              "      border-left-color: var(--fill-color);\n",
              "      border-top-color: var(--fill-color);\n",
              "    }\n",
              "    30% {\n",
              "      border-color: transparent;\n",
              "      border-left-color: var(--fill-color);\n",
              "      border-top-color: var(--fill-color);\n",
              "      border-right-color: var(--fill-color);\n",
              "    }\n",
              "    40% {\n",
              "      border-color: transparent;\n",
              "      border-right-color: var(--fill-color);\n",
              "      border-top-color: var(--fill-color);\n",
              "    }\n",
              "    60% {\n",
              "      border-color: transparent;\n",
              "      border-right-color: var(--fill-color);\n",
              "    }\n",
              "    80% {\n",
              "      border-color: transparent;\n",
              "      border-right-color: var(--fill-color);\n",
              "      border-bottom-color: var(--fill-color);\n",
              "    }\n",
              "    90% {\n",
              "      border-color: transparent;\n",
              "      border-bottom-color: var(--fill-color);\n",
              "    }\n",
              "  }\n",
              "</style>\n",
              "\n",
              "  <script>\n",
              "    async function quickchart(key) {\n",
              "      const quickchartButtonEl =\n",
              "        document.querySelector('#' + key + ' button');\n",
              "      quickchartButtonEl.disabled = true;  // To prevent multiple clicks.\n",
              "      quickchartButtonEl.classList.add('colab-df-spinner');\n",
              "      try {\n",
              "        const charts = await google.colab.kernel.invokeFunction(\n",
              "            'suggestCharts', [key], {});\n",
              "      } catch (error) {\n",
              "        console.error('Error during call to suggestCharts:', error);\n",
              "      }\n",
              "      quickchartButtonEl.classList.remove('colab-df-spinner');\n",
              "      quickchartButtonEl.classList.add('colab-df-quickchart-complete');\n",
              "    }\n",
              "    (() => {\n",
              "      let quickchartButtonEl =\n",
              "        document.querySelector('#df-c838e76c-7182-4763-89fc-62246b64121e button');\n",
              "      quickchartButtonEl.style.display =\n",
              "        google.colab.kernel.accessAllowed ? 'block' : 'none';\n",
              "    })();\n",
              "  </script>\n",
              "</div>\n",
              "    </div>\n",
              "  </div>\n"
            ]
          },
          "metadata": {},
          "execution_count": 23
        }
      ]
    },
    {
      "cell_type": "code",
      "source": [
        "# Удаляем дубликаты\n",
        "Headliner_calls_df = Headliner_calls_df.drop_duplicates(subset=['Идентификатор сессии звонка'])\n",
        "Headliner_calls_df.shape"
      ],
      "metadata": {
        "colab": {
          "base_uri": "https://localhost:8080/"
        },
        "id": "6f2LaAhS1zr2",
        "outputId": "bf968ed4-a8d5-46c7-cffe-92ff855ccda6"
      },
      "execution_count": null,
      "outputs": [
        {
          "output_type": "execute_result",
          "data": {
            "text/plain": [
              "(2045, 5)"
            ]
          },
          "metadata": {},
          "execution_count": 24
        }
      ]
    },
    {
      "cell_type": "code",
      "source": [
        "print(Headliner_calls_df.count())"
      ],
      "metadata": {
        "colab": {
          "base_uri": "https://localhost:8080/"
        },
        "id": "_7aVRF5i2BeL",
        "outputId": "44b0150c-03ee-4fa4-f1f4-42c4be5a15ff"
      },
      "execution_count": null,
      "outputs": [
        {
          "output_type": "stream",
          "name": "stdout",
          "text": [
            "Дата и время                   2045\n",
            "Номер абонента                 2045\n",
            "Номер сотрудника               2045\n",
            "Идентификатор сессии звонка    2045\n",
            "Файл записи звонка             2045\n",
            "dtype: int64\n"
          ]
        }
      ]
    },
    {
      "cell_type": "markdown",
      "source": [
        "#### Предобработка"
      ],
      "metadata": {
        "id": "xTN9Xgx5yJMj"
      }
    },
    {
      "cell_type": "markdown",
      "source": [
        "##### 0. Дата и время"
      ],
      "metadata": {
        "id": "Dxr5eTPayJMj"
      }
    },
    {
      "cell_type": "code",
      "source": [
        "Headliner_calls_df['Дата и время'].head()"
      ],
      "metadata": {
        "colab": {
          "base_uri": "https://localhost:8080/"
        },
        "outputId": "792ca588-5646-4dfa-b1c8-96e66fc41ca4",
        "id": "8iOjIyqfyJMj"
      },
      "execution_count": null,
      "outputs": [
        {
          "output_type": "execute_result",
          "data": {
            "text/plain": [
              "0    2023-06-14 15:07:40.938632\n",
              "1    2023-06-14 13:30:42.804946\n",
              "2    2023-06-14 15:58:58.400913\n",
              "3    2023-06-14 14:57:40.708736\n",
              "4    2023-06-14 13:45:55.847701\n",
              "Name: Дата и время, dtype: object"
            ]
          },
          "metadata": {},
          "execution_count": 26
        }
      ]
    },
    {
      "cell_type": "code",
      "source": [
        "# Приводим тип данных столбца 'Дата и время'\n",
        "Headliner_calls_df['Дата и время'] = pd.to_datetime(Headliner_calls_df['Дата и время'])"
      ],
      "metadata": {
        "id": "BrOLVXB1yJMk"
      },
      "execution_count": null,
      "outputs": []
    },
    {
      "cell_type": "code",
      "source": [
        "Headliner_calls_df['Дата и время'].tail()"
      ],
      "metadata": {
        "colab": {
          "base_uri": "https://localhost:8080/"
        },
        "outputId": "b5204855-e969-411e-ab69-41434b51e16d",
        "id": "8exF4Vv2yJMk"
      },
      "execution_count": null,
      "outputs": [
        {
          "output_type": "execute_result",
          "data": {
            "text/plain": [
              "2050   2023-07-19 10:23:33.505397\n",
              "2051   2023-07-19 14:14:01.541579\n",
              "2052   2023-07-19 10:28:35.079523\n",
              "2053   2023-07-19 11:57:07.584861\n",
              "2054   2023-07-19 14:49:35.818543\n",
              "Name: Дата и время, dtype: datetime64[ns]"
            ]
          },
          "metadata": {},
          "execution_count": 28
        }
      ]
    },
    {
      "cell_type": "markdown",
      "source": [
        "##### 1. Номер абонента"
      ],
      "metadata": {
        "id": "1XrNgyhoyJMk"
      }
    },
    {
      "cell_type": "code",
      "source": [
        "Headliner_calls_df['Номер абонента'].head()"
      ],
      "metadata": {
        "colab": {
          "base_uri": "https://localhost:8080/"
        },
        "outputId": "fbc2fb07-d1da-49fb-fdb1-cbb005269984",
        "id": "fRm3-A47yJMl"
      },
      "execution_count": null,
      "outputs": [
        {
          "output_type": "execute_result",
          "data": {
            "text/plain": [
              "0    79050768875\n",
              "1    74957457444\n",
              "2    79269312016\n",
              "3    79774768303\n",
              "4    79062755811\n",
              "Name: Номер абонента, dtype: object"
            ]
          },
          "metadata": {},
          "execution_count": 29
        }
      ]
    },
    {
      "cell_type": "code",
      "source": [
        "# Приводим тип данных столбца 'Номер абонента'\n",
        "Headliner_calls_df = Headliner_calls_df.astype({'Номер абонента': int})"
      ],
      "metadata": {
        "id": "bB1vHeikyJMm"
      },
      "execution_count": null,
      "outputs": []
    },
    {
      "cell_type": "code",
      "source": [
        "Headliner_calls_df['Номер абонента'].tail()"
      ],
      "metadata": {
        "colab": {
          "base_uri": "https://localhost:8080/"
        },
        "outputId": "0f156c24-e6d0-4656-860f-4f2a3abd4200",
        "id": "4hXBNi6XyJMn"
      },
      "execution_count": null,
      "outputs": [
        {
          "output_type": "execute_result",
          "data": {
            "text/plain": [
              "2050    79268876842\n",
              "2051    79851322547\n",
              "2052    79250364306\n",
              "2053    79151406411\n",
              "2054    74951626925\n",
              "Name: Номер абонента, dtype: int64"
            ]
          },
          "metadata": {},
          "execution_count": 31
        }
      ]
    },
    {
      "cell_type": "markdown",
      "source": [
        "##### 2. Номер сотрудника"
      ],
      "metadata": {
        "id": "ByP6oo3NyJMn"
      }
    },
    {
      "cell_type": "code",
      "source": [
        "Headliner_calls_df['Номер сотрудника'].head()"
      ],
      "metadata": {
        "colab": {
          "base_uri": "https://localhost:8080/"
        },
        "outputId": "53c68c61-6aa2-42c1-f9de-98cdb1782f13",
        "id": "qJiMNxQhyJMn"
      },
      "execution_count": null,
      "outputs": [
        {
          "output_type": "execute_result",
          "data": {
            "text/plain": [
              "0        0188880\n",
              "1    74959339929\n",
              "2    74957898990\n",
              "3    74959339929\n",
              "4    74957898990\n",
              "Name: Номер сотрудника, dtype: object"
            ]
          },
          "metadata": {},
          "execution_count": 32
        }
      ]
    },
    {
      "cell_type": "code",
      "source": [
        "# Приводим тип данных столбца 'Номер сотрудника'\n",
        "Headliner_calls_df = Headliner_calls_df.astype({'Номер сотрудника': int})"
      ],
      "metadata": {
        "id": "a27nBDs9yJMo"
      },
      "execution_count": null,
      "outputs": []
    },
    {
      "cell_type": "code",
      "source": [
        "Headliner_calls_df['Номер сотрудника'].tail()"
      ],
      "metadata": {
        "colab": {
          "base_uri": "https://localhost:8080/"
        },
        "outputId": "6baa3be6-666d-4742-bb81-04d8920c18fd",
        "id": "_Sa0f02hyJMo"
      },
      "execution_count": null,
      "outputs": [
        {
          "output_type": "execute_result",
          "data": {
            "text/plain": [
              "2050    74959339929\n",
              "2051    74959339929\n",
              "2052    74959339929\n",
              "2053         188880\n",
              "2054         188880\n",
              "Name: Номер сотрудника, dtype: int64"
            ]
          },
          "metadata": {},
          "execution_count": 34
        }
      ]
    },
    {
      "cell_type": "markdown",
      "source": [
        "##### 3. Идентификатор сессии звонка"
      ],
      "metadata": {
        "id": "yLHWTCjVyJMp"
      }
    },
    {
      "cell_type": "code",
      "source": [
        "Headliner_calls_df['Идентификатор сессии звонка'].head()"
      ],
      "metadata": {
        "colab": {
          "base_uri": "https://localhost:8080/"
        },
        "outputId": "6f61e3ff-a52d-46b9-9509-eda8936146ca",
        "id": "wmz03NvvyJMp"
      },
      "execution_count": null,
      "outputs": [
        {
          "output_type": "execute_result",
          "data": {
            "text/plain": [
              "0    3003489531\n",
              "1    3022411736\n",
              "2    3003674963\n",
              "3    3004166049\n",
              "4    2985577658\n",
              "Name: Идентификатор сессии звонка, dtype: object"
            ]
          },
          "metadata": {},
          "execution_count": 35
        }
      ]
    },
    {
      "cell_type": "code",
      "source": [
        "# Приводим тип данных столбца 'Идентификатор сессии звонка'\n",
        "Headliner_calls_df = Headliner_calls_df.astype({'Идентификатор сессии звонка': int})"
      ],
      "metadata": {
        "id": "a7MbmrwJyJMq"
      },
      "execution_count": null,
      "outputs": []
    },
    {
      "cell_type": "code",
      "source": [
        "Headliner_calls_df['Идентификатор сессии звонка'].tail()"
      ],
      "metadata": {
        "colab": {
          "base_uri": "https://localhost:8080/"
        },
        "outputId": "7060bd35-7a0f-487f-b34b-5f45957deb0d",
        "id": "8VHR_CpRyJMr"
      },
      "execution_count": null,
      "outputs": [
        {
          "output_type": "execute_result",
          "data": {
            "text/plain": [
              "2050    3096900794\n",
              "2051    3097535013\n",
              "2052    3096681333\n",
              "2053    3097273754\n",
              "2054    3100904407\n",
              "Name: Идентификатор сессии звонка, dtype: int64"
            ]
          },
          "metadata": {},
          "execution_count": 37
        }
      ]
    },
    {
      "cell_type": "markdown",
      "source": [
        "##### 4. Файл записи звонка"
      ],
      "metadata": {
        "id": "vjsa6uTqyJNS"
      }
    },
    {
      "cell_type": "code",
      "source": [
        "Headliner_calls_df['Файл записи звонка'].head()"
      ],
      "metadata": {
        "colab": {
          "base_uri": "https://localhost:8080/"
        },
        "outputId": "f1d58023-931a-431c-e8e6-d02814843de7",
        "id": "XCUhBfLSyJNS"
      },
      "execution_count": null,
      "outputs": [
        {
          "output_type": "execute_result",
          "data": {
            "text/plain": [
              "0        2023-06-14_15-07-40.938632_from_79050768875_to_0188880_session_3003489531_talk.mp3\n",
              "1    2023-06-14_13-30-42.804946_from_74957457444_to_74959339929_session_3022411736_talk.mp3\n",
              "2    2023-06-14_15-58-58.400913_from_79269312016_to_74957898990_session_3003674963_talk.mp3\n",
              "3    2023-06-14_14-57-40.708736_from_79774768303_to_74959339929_session_3004166049_talk.mp3\n",
              "4    2023-06-14_13-45-55.847701_from_79062755811_to_74957898990_session_2985577658_talk.mp3\n",
              "Name: Файл записи звонка, dtype: object"
            ]
          },
          "metadata": {},
          "execution_count": 39
        }
      ]
    },
    {
      "cell_type": "code",
      "source": [
        "# Добавляем к файлам относительные пути\n",
        "Headliner_calls_df['Файл записи звонка'] = Headliner_calls_df['Файл записи звонка'].apply(lambda x: 'Записи звонков/Записи звонков_хедлайнер/' + x)"
      ],
      "metadata": {
        "id": "4QzC9jNoyJNU"
      },
      "execution_count": null,
      "outputs": []
    },
    {
      "cell_type": "code",
      "source": [
        "Headliner_calls_df['Файл записи звонка'].tail()"
      ],
      "metadata": {
        "colab": {
          "base_uri": "https://localhost:8080/"
        },
        "outputId": "fea21cee-b4ed-4f86-e0db-1be50a680b11",
        "id": "PIddZaMwyJNU"
      },
      "execution_count": null,
      "outputs": [
        {
          "output_type": "execute_result",
          "data": {
            "text/plain": [
              "2050    Записи звонков/Записи звонков_хедлайнер/2023-07-19_10-23-33.505397_from_79268876842_to_74959339929_session_3096900794_talk.mp3\n",
              "2051    Записи звонков/Записи звонков_хедлайнер/2023-07-19_14-14-01.541579_from_79851322547_to_74959339929_session_3097535013_talk.mp3\n",
              "2052    Записи звонков/Записи звонков_хедлайнер/2023-07-19_10-28-35.079523_from_79250364306_to_74959339929_session_3096681333_talk.mp3\n",
              "2053        Записи звонков/Записи звонков_хедлайнер/2023-07-19_11-57-07.584861_from_79151406411_to_0188880_session_3097273754_talk.mp3\n",
              "2054        Записи звонков/Записи звонков_хедлайнер/2023-07-19_14-49-35.818543_from_74951626925_to_0188880_session_3100904407_talk.mp3\n",
              "Name: Файл записи звонка, dtype: object"
            ]
          },
          "metadata": {},
          "execution_count": 41
        }
      ]
    },
    {
      "cell_type": "markdown",
      "source": [
        "#### Типы данных"
      ],
      "metadata": {
        "id": "GZQfAf1tyJNU"
      }
    },
    {
      "cell_type": "code",
      "source": [
        "# Смотрим типы данных\n",
        "Headliner_calls_df.dtypes"
      ],
      "metadata": {
        "colab": {
          "base_uri": "https://localhost:8080/"
        },
        "outputId": "ae6796f4-f28c-42b3-db1b-f278a443bd55",
        "id": "5Tl3T9PjyJNV"
      },
      "execution_count": null,
      "outputs": [
        {
          "output_type": "execute_result",
          "data": {
            "text/plain": [
              "Дата и время                   datetime64[ns]\n",
              "Номер абонента                          int64\n",
              "Номер сотрудника                        int64\n",
              "Идентификатор сессии звонка             int64\n",
              "Файл записи звонка                     object\n",
              "dtype: object"
            ]
          },
          "metadata": {},
          "execution_count": 42
        }
      ]
    },
    {
      "cell_type": "code",
      "source": [
        "print(Headliner_calls_df.count())"
      ],
      "metadata": {
        "colab": {
          "base_uri": "https://localhost:8080/"
        },
        "outputId": "75f4ddb6-ee56-421a-f8bf-9bbcf7197576",
        "id": "ejWTmgAKyJNW"
      },
      "execution_count": null,
      "outputs": [
        {
          "output_type": "stream",
          "name": "stdout",
          "text": [
            "Дата и время                   2045\n",
            "Номер абонента                 2045\n",
            "Номер сотрудника               2045\n",
            "Идентификатор сессии звонка    2045\n",
            "Файл записи звонка             2045\n",
            "dtype: int64\n"
          ]
        }
      ]
    },
    {
      "cell_type": "markdown",
      "source": [
        "#### Сохранение датафрейма"
      ],
      "metadata": {
        "id": "hGxYQ7KOyJNi"
      }
    },
    {
      "cell_type": "code",
      "source": [
        "Headliner_calls_df.index = range(Headliner_calls_df.shape[0])"
      ],
      "metadata": {
        "id": "8Kb03d3MArqS"
      },
      "execution_count": null,
      "outputs": []
    },
    {
      "cell_type": "code",
      "source": [
        "# Сохраняем Headliner_calls_df в pkl\n",
        "with open(df_path + 'Headliner_calls_df.pkl', 'wb') as f:\n",
        "  pkl.dump(Headliner_calls_df, f)"
      ],
      "metadata": {
        "id": "alMjV98TyJNi"
      },
      "execution_count": null,
      "outputs": []
    },
    {
      "cell_type": "markdown",
      "source": [
        "### Primavera"
      ],
      "metadata": {
        "id": "vpjCmAy8yJNj"
      }
    },
    {
      "cell_type": "markdown",
      "source": [
        "#### Создание датафрейма"
      ],
      "metadata": {
        "id": "SJfmU3hVyJNk"
      }
    },
    {
      "cell_type": "code",
      "source": [
        "# Создаём датафрейм из списка записей звонков\n",
        "Primavera_calls_df = calls_list_to_df(os.listdir(Primavera_path))\n",
        "Primavera_calls_df.shape"
      ],
      "metadata": {
        "colab": {
          "base_uri": "https://localhost:8080/"
        },
        "outputId": "6a720b6e-6b1a-4ffc-9eff-df2f29724e07",
        "id": "ZVlGNx1-yJNk"
      },
      "execution_count": null,
      "outputs": [
        {
          "output_type": "execute_result",
          "data": {
            "text/plain": [
              "(1983, 5)"
            ]
          },
          "metadata": {},
          "execution_count": 45
        }
      ]
    },
    {
      "cell_type": "code",
      "source": [
        "Primavera_calls_df.head()"
      ],
      "metadata": {
        "colab": {
          "base_uri": "https://localhost:8080/",
          "height": 206
        },
        "outputId": "9040c87a-4a0f-45b1-89a2-bed4648d1297",
        "id": "pzjtxQARyJNl"
      },
      "execution_count": null,
      "outputs": [
        {
          "output_type": "execute_result",
          "data": {
            "text/plain": [
              "                 Дата и время Номер абонента Номер сотрудника  \\\n",
              "0  2023-05-22 14:31:25.831818    79005731071          0197875   \n",
              "1  2023-05-22 16:25:39.290501    79634709412          0111642   \n",
              "2  2023-05-21 17:39:50.256947    79210517035          0111651   \n",
              "3  2023-05-22 11:39:36.568332    79265589095          0111639   \n",
              "4  2023-05-22 14:45:50.919004    74959906134          0111642   \n",
              "\n",
              "  Идентификатор сессии звонка  \\\n",
              "0                  2955870551   \n",
              "1                  2969621584   \n",
              "2                  2967199164   \n",
              "3                  2955163371   \n",
              "4                  2955923735   \n",
              "\n",
              "                                                                   Файл записи звонка  \n",
              "0  2023-05-22_14-31-25.831818_from_79005731071_to_0197875_session_2955870551_talk.mp3  \n",
              "1  2023-05-22_16-25-39.290501_from_79634709412_to_0111642_session_2969621584_talk.mp3  \n",
              "2  2023-05-21_17-39-50.256947_from_79210517035_to_0111651_session_2967199164_talk.mp3  \n",
              "3  2023-05-22_11-39-36.568332_from_79265589095_to_0111639_session_2955163371_talk.mp3  \n",
              "4  2023-05-22_14-45-50.919004_from_74959906134_to_0111642_session_2955923735_talk.mp3  "
            ],
            "text/html": [
              "\n",
              "  <div id=\"df-065169c5-e2f3-4cfe-81b8-ec9b664b8cef\" class=\"colab-df-container\">\n",
              "    <div>\n",
              "<style scoped>\n",
              "    .dataframe tbody tr th:only-of-type {\n",
              "        vertical-align: middle;\n",
              "    }\n",
              "\n",
              "    .dataframe tbody tr th {\n",
              "        vertical-align: top;\n",
              "    }\n",
              "\n",
              "    .dataframe thead th {\n",
              "        text-align: right;\n",
              "    }\n",
              "</style>\n",
              "<table border=\"1\" class=\"dataframe\">\n",
              "  <thead>\n",
              "    <tr style=\"text-align: right;\">\n",
              "      <th></th>\n",
              "      <th>Дата и время</th>\n",
              "      <th>Номер абонента</th>\n",
              "      <th>Номер сотрудника</th>\n",
              "      <th>Идентификатор сессии звонка</th>\n",
              "      <th>Файл записи звонка</th>\n",
              "    </tr>\n",
              "  </thead>\n",
              "  <tbody>\n",
              "    <tr>\n",
              "      <th>0</th>\n",
              "      <td>2023-05-22 14:31:25.831818</td>\n",
              "      <td>79005731071</td>\n",
              "      <td>0197875</td>\n",
              "      <td>2955870551</td>\n",
              "      <td>2023-05-22_14-31-25.831818_from_79005731071_to_0197875_session_2955870551_talk.mp3</td>\n",
              "    </tr>\n",
              "    <tr>\n",
              "      <th>1</th>\n",
              "      <td>2023-05-22 16:25:39.290501</td>\n",
              "      <td>79634709412</td>\n",
              "      <td>0111642</td>\n",
              "      <td>2969621584</td>\n",
              "      <td>2023-05-22_16-25-39.290501_from_79634709412_to_0111642_session_2969621584_talk.mp3</td>\n",
              "    </tr>\n",
              "    <tr>\n",
              "      <th>2</th>\n",
              "      <td>2023-05-21 17:39:50.256947</td>\n",
              "      <td>79210517035</td>\n",
              "      <td>0111651</td>\n",
              "      <td>2967199164</td>\n",
              "      <td>2023-05-21_17-39-50.256947_from_79210517035_to_0111651_session_2967199164_talk.mp3</td>\n",
              "    </tr>\n",
              "    <tr>\n",
              "      <th>3</th>\n",
              "      <td>2023-05-22 11:39:36.568332</td>\n",
              "      <td>79265589095</td>\n",
              "      <td>0111639</td>\n",
              "      <td>2955163371</td>\n",
              "      <td>2023-05-22_11-39-36.568332_from_79265589095_to_0111639_session_2955163371_talk.mp3</td>\n",
              "    </tr>\n",
              "    <tr>\n",
              "      <th>4</th>\n",
              "      <td>2023-05-22 14:45:50.919004</td>\n",
              "      <td>74959906134</td>\n",
              "      <td>0111642</td>\n",
              "      <td>2955923735</td>\n",
              "      <td>2023-05-22_14-45-50.919004_from_74959906134_to_0111642_session_2955923735_talk.mp3</td>\n",
              "    </tr>\n",
              "  </tbody>\n",
              "</table>\n",
              "</div>\n",
              "    <div class=\"colab-df-buttons\">\n",
              "\n",
              "  <div class=\"colab-df-container\">\n",
              "    <button class=\"colab-df-convert\" onclick=\"convertToInteractive('df-065169c5-e2f3-4cfe-81b8-ec9b664b8cef')\"\n",
              "            title=\"Convert this dataframe to an interactive table.\"\n",
              "            style=\"display:none;\">\n",
              "\n",
              "  <svg xmlns=\"http://www.w3.org/2000/svg\" height=\"24px\" viewBox=\"0 -960 960 960\">\n",
              "    <path d=\"M120-120v-720h720v720H120Zm60-500h600v-160H180v160Zm220 220h160v-160H400v160Zm0 220h160v-160H400v160ZM180-400h160v-160H180v160Zm440 0h160v-160H620v160ZM180-180h160v-160H180v160Zm440 0h160v-160H620v160Z\"/>\n",
              "  </svg>\n",
              "    </button>\n",
              "\n",
              "  <style>\n",
              "    .colab-df-container {\n",
              "      display:flex;\n",
              "      gap: 12px;\n",
              "    }\n",
              "\n",
              "    .colab-df-convert {\n",
              "      background-color: #E8F0FE;\n",
              "      border: none;\n",
              "      border-radius: 50%;\n",
              "      cursor: pointer;\n",
              "      display: none;\n",
              "      fill: #1967D2;\n",
              "      height: 32px;\n",
              "      padding: 0 0 0 0;\n",
              "      width: 32px;\n",
              "    }\n",
              "\n",
              "    .colab-df-convert:hover {\n",
              "      background-color: #E2EBFA;\n",
              "      box-shadow: 0px 1px 2px rgba(60, 64, 67, 0.3), 0px 1px 3px 1px rgba(60, 64, 67, 0.15);\n",
              "      fill: #174EA6;\n",
              "    }\n",
              "\n",
              "    .colab-df-buttons div {\n",
              "      margin-bottom: 4px;\n",
              "    }\n",
              "\n",
              "    [theme=dark] .colab-df-convert {\n",
              "      background-color: #3B4455;\n",
              "      fill: #D2E3FC;\n",
              "    }\n",
              "\n",
              "    [theme=dark] .colab-df-convert:hover {\n",
              "      background-color: #434B5C;\n",
              "      box-shadow: 0px 1px 3px 1px rgba(0, 0, 0, 0.15);\n",
              "      filter: drop-shadow(0px 1px 2px rgba(0, 0, 0, 0.3));\n",
              "      fill: #FFFFFF;\n",
              "    }\n",
              "  </style>\n",
              "\n",
              "    <script>\n",
              "      const buttonEl =\n",
              "        document.querySelector('#df-065169c5-e2f3-4cfe-81b8-ec9b664b8cef button.colab-df-convert');\n",
              "      buttonEl.style.display =\n",
              "        google.colab.kernel.accessAllowed ? 'block' : 'none';\n",
              "\n",
              "      async function convertToInteractive(key) {\n",
              "        const element = document.querySelector('#df-065169c5-e2f3-4cfe-81b8-ec9b664b8cef');\n",
              "        const dataTable =\n",
              "          await google.colab.kernel.invokeFunction('convertToInteractive',\n",
              "                                                    [key], {});\n",
              "        if (!dataTable) return;\n",
              "\n",
              "        const docLinkHtml = 'Like what you see? Visit the ' +\n",
              "          '<a target=\"_blank\" href=https://colab.research.google.com/notebooks/data_table.ipynb>data table notebook</a>'\n",
              "          + ' to learn more about interactive tables.';\n",
              "        element.innerHTML = '';\n",
              "        dataTable['output_type'] = 'display_data';\n",
              "        await google.colab.output.renderOutput(dataTable, element);\n",
              "        const docLink = document.createElement('div');\n",
              "        docLink.innerHTML = docLinkHtml;\n",
              "        element.appendChild(docLink);\n",
              "      }\n",
              "    </script>\n",
              "  </div>\n",
              "\n",
              "\n",
              "<div id=\"df-7877d1cc-5f13-432c-8857-9fa4185d9d52\">\n",
              "  <button class=\"colab-df-quickchart\" onclick=\"quickchart('df-7877d1cc-5f13-432c-8857-9fa4185d9d52')\"\n",
              "            title=\"Suggest charts.\"\n",
              "            style=\"display:none;\">\n",
              "\n",
              "<svg xmlns=\"http://www.w3.org/2000/svg\" height=\"24px\"viewBox=\"0 0 24 24\"\n",
              "     width=\"24px\">\n",
              "    <g>\n",
              "        <path d=\"M19 3H5c-1.1 0-2 .9-2 2v14c0 1.1.9 2 2 2h14c1.1 0 2-.9 2-2V5c0-1.1-.9-2-2-2zM9 17H7v-7h2v7zm4 0h-2V7h2v10zm4 0h-2v-4h2v4z\"/>\n",
              "    </g>\n",
              "</svg>\n",
              "  </button>\n",
              "\n",
              "<style>\n",
              "  .colab-df-quickchart {\n",
              "      --bg-color: #E8F0FE;\n",
              "      --fill-color: #1967D2;\n",
              "      --hover-bg-color: #E2EBFA;\n",
              "      --hover-fill-color: #174EA6;\n",
              "      --disabled-fill-color: #AAA;\n",
              "      --disabled-bg-color: #DDD;\n",
              "  }\n",
              "\n",
              "  [theme=dark] .colab-df-quickchart {\n",
              "      --bg-color: #3B4455;\n",
              "      --fill-color: #D2E3FC;\n",
              "      --hover-bg-color: #434B5C;\n",
              "      --hover-fill-color: #FFFFFF;\n",
              "      --disabled-bg-color: #3B4455;\n",
              "      --disabled-fill-color: #666;\n",
              "  }\n",
              "\n",
              "  .colab-df-quickchart {\n",
              "    background-color: var(--bg-color);\n",
              "    border: none;\n",
              "    border-radius: 50%;\n",
              "    cursor: pointer;\n",
              "    display: none;\n",
              "    fill: var(--fill-color);\n",
              "    height: 32px;\n",
              "    padding: 0;\n",
              "    width: 32px;\n",
              "  }\n",
              "\n",
              "  .colab-df-quickchart:hover {\n",
              "    background-color: var(--hover-bg-color);\n",
              "    box-shadow: 0 1px 2px rgba(60, 64, 67, 0.3), 0 1px 3px 1px rgba(60, 64, 67, 0.15);\n",
              "    fill: var(--button-hover-fill-color);\n",
              "  }\n",
              "\n",
              "  .colab-df-quickchart-complete:disabled,\n",
              "  .colab-df-quickchart-complete:disabled:hover {\n",
              "    background-color: var(--disabled-bg-color);\n",
              "    fill: var(--disabled-fill-color);\n",
              "    box-shadow: none;\n",
              "  }\n",
              "\n",
              "  .colab-df-spinner {\n",
              "    border: 2px solid var(--fill-color);\n",
              "    border-color: transparent;\n",
              "    border-bottom-color: var(--fill-color);\n",
              "    animation:\n",
              "      spin 1s steps(1) infinite;\n",
              "  }\n",
              "\n",
              "  @keyframes spin {\n",
              "    0% {\n",
              "      border-color: transparent;\n",
              "      border-bottom-color: var(--fill-color);\n",
              "      border-left-color: var(--fill-color);\n",
              "    }\n",
              "    20% {\n",
              "      border-color: transparent;\n",
              "      border-left-color: var(--fill-color);\n",
              "      border-top-color: var(--fill-color);\n",
              "    }\n",
              "    30% {\n",
              "      border-color: transparent;\n",
              "      border-left-color: var(--fill-color);\n",
              "      border-top-color: var(--fill-color);\n",
              "      border-right-color: var(--fill-color);\n",
              "    }\n",
              "    40% {\n",
              "      border-color: transparent;\n",
              "      border-right-color: var(--fill-color);\n",
              "      border-top-color: var(--fill-color);\n",
              "    }\n",
              "    60% {\n",
              "      border-color: transparent;\n",
              "      border-right-color: var(--fill-color);\n",
              "    }\n",
              "    80% {\n",
              "      border-color: transparent;\n",
              "      border-right-color: var(--fill-color);\n",
              "      border-bottom-color: var(--fill-color);\n",
              "    }\n",
              "    90% {\n",
              "      border-color: transparent;\n",
              "      border-bottom-color: var(--fill-color);\n",
              "    }\n",
              "  }\n",
              "</style>\n",
              "\n",
              "  <script>\n",
              "    async function quickchart(key) {\n",
              "      const quickchartButtonEl =\n",
              "        document.querySelector('#' + key + ' button');\n",
              "      quickchartButtonEl.disabled = true;  // To prevent multiple clicks.\n",
              "      quickchartButtonEl.classList.add('colab-df-spinner');\n",
              "      try {\n",
              "        const charts = await google.colab.kernel.invokeFunction(\n",
              "            'suggestCharts', [key], {});\n",
              "      } catch (error) {\n",
              "        console.error('Error during call to suggestCharts:', error);\n",
              "      }\n",
              "      quickchartButtonEl.classList.remove('colab-df-spinner');\n",
              "      quickchartButtonEl.classList.add('colab-df-quickchart-complete');\n",
              "    }\n",
              "    (() => {\n",
              "      let quickchartButtonEl =\n",
              "        document.querySelector('#df-7877d1cc-5f13-432c-8857-9fa4185d9d52 button');\n",
              "      quickchartButtonEl.style.display =\n",
              "        google.colab.kernel.accessAllowed ? 'block' : 'none';\n",
              "    })();\n",
              "  </script>\n",
              "</div>\n",
              "    </div>\n",
              "  </div>\n"
            ]
          },
          "metadata": {},
          "execution_count": 46
        }
      ]
    },
    {
      "cell_type": "code",
      "source": [
        "# Проверяем количество строк\n",
        "print(len(os.listdir(Primavera_path)))\n",
        "print(Primavera_calls_df.shape[0])"
      ],
      "metadata": {
        "colab": {
          "base_uri": "https://localhost:8080/"
        },
        "outputId": "ce08c5e1-dc1c-4e5f-d1bc-15c9b647aec7",
        "id": "d_8lrujtyJNl"
      },
      "execution_count": null,
      "outputs": [
        {
          "output_type": "stream",
          "name": "stdout",
          "text": [
            "1983\n",
            "1983\n"
          ]
        }
      ]
    },
    {
      "cell_type": "code",
      "source": [
        "print(Primavera_calls_df.count())"
      ],
      "metadata": {
        "colab": {
          "base_uri": "https://localhost:8080/"
        },
        "outputId": "ce250a3d-4da6-4e48-d9bb-6ef38b5bad46",
        "id": "euEG5N1GyJNm"
      },
      "execution_count": null,
      "outputs": [
        {
          "output_type": "stream",
          "name": "stdout",
          "text": [
            "Дата и время                   1983\n",
            "Номер абонента                 1983\n",
            "Номер сотрудника               1983\n",
            "Идентификатор сессии звонка    1983\n",
            "Файл записи звонка             1983\n",
            "dtype: int64\n"
          ]
        }
      ]
    },
    {
      "cell_type": "code",
      "source": [
        "# Количество уникальных значений столбца 'Идентификатор сессии звонка'\n",
        "Primavera_calls_df['Идентификатор сессии звонка'].nunique()"
      ],
      "metadata": {
        "colab": {
          "base_uri": "https://localhost:8080/"
        },
        "id": "YX3EEQQN7-8m",
        "outputId": "b66e43db-e782-4d19-ed00-0fd3b2e00e4e"
      },
      "execution_count": null,
      "outputs": [
        {
          "output_type": "execute_result",
          "data": {
            "text/plain": [
              "1983"
            ]
          },
          "metadata": {},
          "execution_count": 50
        }
      ]
    },
    {
      "cell_type": "markdown",
      "source": [
        "#### Предобработка"
      ],
      "metadata": {
        "id": "ciSo_g5vyJNo"
      }
    },
    {
      "cell_type": "markdown",
      "source": [
        "##### 0. Дата и время"
      ],
      "metadata": {
        "id": "TDRfh5YAyJNo"
      }
    },
    {
      "cell_type": "code",
      "source": [
        "Primavera_calls_df['Дата и время'].head()"
      ],
      "metadata": {
        "colab": {
          "base_uri": "https://localhost:8080/"
        },
        "outputId": "4a4b9bbd-7578-4809-a797-582767771d4c",
        "id": "qgTqgt0EyJNp"
      },
      "execution_count": null,
      "outputs": [
        {
          "output_type": "execute_result",
          "data": {
            "text/plain": [
              "0    2023-05-22 14:31:25.831818\n",
              "1    2023-05-22 16:25:39.290501\n",
              "2    2023-05-21 17:39:50.256947\n",
              "3    2023-05-22 11:39:36.568332\n",
              "4    2023-05-22 14:45:50.919004\n",
              "Name: Дата и время, dtype: object"
            ]
          },
          "metadata": {},
          "execution_count": 51
        }
      ]
    },
    {
      "cell_type": "code",
      "source": [
        "# Приводим тип данных столбца 'Дата и время'\n",
        "Primavera_calls_df['Дата и время'] = pd.to_datetime(Primavera_calls_df['Дата и время'])"
      ],
      "metadata": {
        "id": "cwciG9OGyJNp"
      },
      "execution_count": null,
      "outputs": []
    },
    {
      "cell_type": "code",
      "source": [
        "Primavera_calls_df['Дата и время'].tail()"
      ],
      "metadata": {
        "colab": {
          "base_uri": "https://localhost:8080/"
        },
        "outputId": "43e12d50-ad13-4ae2-f24f-1b9d3f098f49",
        "id": "QA4_9LXjyJNq"
      },
      "execution_count": null,
      "outputs": [
        {
          "output_type": "execute_result",
          "data": {
            "text/plain": [
              "1978   2023-05-22 12:44:13.465397\n",
              "1979   2023-05-22 15:09:36.245926\n",
              "1980   2023-05-22 14:57:04.953223\n",
              "1981   2023-05-21 11:47:32.443859\n",
              "1982   2023-05-22 11:32:49.969374\n",
              "Name: Дата и время, dtype: datetime64[ns]"
            ]
          },
          "metadata": {},
          "execution_count": 53
        }
      ]
    },
    {
      "cell_type": "markdown",
      "source": [
        "##### 1. Номер абонента"
      ],
      "metadata": {
        "id": "rt1IkSMfyJNq"
      }
    },
    {
      "cell_type": "code",
      "source": [
        "Primavera_calls_df['Номер абонента'].head()"
      ],
      "metadata": {
        "colab": {
          "base_uri": "https://localhost:8080/"
        },
        "outputId": "d6de10a4-65c2-47e9-9204-f1b078c17a8b",
        "id": "2RjXJ2TqyJNr"
      },
      "execution_count": null,
      "outputs": [
        {
          "output_type": "execute_result",
          "data": {
            "text/plain": [
              "0    79005731071\n",
              "1    79634709412\n",
              "2    79210517035\n",
              "3    79265589095\n",
              "4    74959906134\n",
              "Name: Номер абонента, dtype: object"
            ]
          },
          "metadata": {},
          "execution_count": 54
        }
      ]
    },
    {
      "cell_type": "code",
      "source": [
        "# Приводим тип данных столбца 'Номер абонента'\n",
        "Primavera_calls_df = Primavera_calls_df.astype({'Номер абонента': int})"
      ],
      "metadata": {
        "id": "0PsKCOiXyJNr"
      },
      "execution_count": null,
      "outputs": []
    },
    {
      "cell_type": "code",
      "source": [
        "Primavera_calls_df['Номер абонента'].tail()"
      ],
      "metadata": {
        "colab": {
          "base_uri": "https://localhost:8080/"
        },
        "outputId": "accb98e8-a729-4db5-80a3-2f7bad9ddd78",
        "id": "_mjGFyvVyJOe"
      },
      "execution_count": null,
      "outputs": [
        {
          "output_type": "execute_result",
          "data": {
            "text/plain": [
              "1978    79165220654\n",
              "1979    79162064759\n",
              "1980    79037334944\n",
              "1981    79835255067\n",
              "1982    79152031109\n",
              "Name: Номер абонента, dtype: int64"
            ]
          },
          "metadata": {},
          "execution_count": 56
        }
      ]
    },
    {
      "cell_type": "markdown",
      "source": [
        "##### 2. Номер сотрудника"
      ],
      "metadata": {
        "id": "h4xJTWVVyJOe"
      }
    },
    {
      "cell_type": "code",
      "source": [
        "Primavera_calls_df['Номер сотрудника'].head()"
      ],
      "metadata": {
        "colab": {
          "base_uri": "https://localhost:8080/"
        },
        "outputId": "56a3ca56-404e-42e6-92d1-0a49cdb76b51",
        "id": "d0cvRZawyJOf"
      },
      "execution_count": null,
      "outputs": [
        {
          "output_type": "execute_result",
          "data": {
            "text/plain": [
              "0    0197875\n",
              "1    0111642\n",
              "2    0111651\n",
              "3    0111639\n",
              "4    0111642\n",
              "Name: Номер сотрудника, dtype: object"
            ]
          },
          "metadata": {},
          "execution_count": 57
        }
      ]
    },
    {
      "cell_type": "code",
      "source": [
        "# Приводим тип данных столбца 'Номер сотрудника'\n",
        "Primavera_calls_df = Primavera_calls_df.astype({'Номер сотрудника': int})"
      ],
      "metadata": {
        "id": "9nInGRJXyJOf"
      },
      "execution_count": null,
      "outputs": []
    },
    {
      "cell_type": "code",
      "source": [
        "Primavera_calls_df['Номер сотрудника'].tail()"
      ],
      "metadata": {
        "colab": {
          "base_uri": "https://localhost:8080/"
        },
        "outputId": "3fb17299-beae-48e7-ec57-ddbdc75d2a5c",
        "id": "Uxc1oXxQyJOg"
      },
      "execution_count": null,
      "outputs": [
        {
          "output_type": "execute_result",
          "data": {
            "text/plain": [
              "1978    111639\n",
              "1979    197872\n",
              "1980    150113\n",
              "1981    197872\n",
              "1982    197878\n",
              "Name: Номер сотрудника, dtype: int64"
            ]
          },
          "metadata": {},
          "execution_count": 59
        }
      ]
    },
    {
      "cell_type": "markdown",
      "source": [
        "##### 3. Идентификатор сессии звонка"
      ],
      "metadata": {
        "id": "hcx3vtahyJOg"
      }
    },
    {
      "cell_type": "code",
      "source": [
        "Primavera_calls_df['Идентификатор сессии звонка'].head()"
      ],
      "metadata": {
        "colab": {
          "base_uri": "https://localhost:8080/"
        },
        "outputId": "d715d426-e829-45d1-fd79-faa56ed412b7",
        "id": "QDr7IWA5yJOh"
      },
      "execution_count": null,
      "outputs": [
        {
          "output_type": "execute_result",
          "data": {
            "text/plain": [
              "0    2955870551\n",
              "1    2969621584\n",
              "2    2967199164\n",
              "3    2955163371\n",
              "4    2955923735\n",
              "Name: Идентификатор сессии звонка, dtype: object"
            ]
          },
          "metadata": {},
          "execution_count": 60
        }
      ]
    },
    {
      "cell_type": "code",
      "source": [
        "# Приводим тип данных столбца 'Идентификатор сессии звонка'\n",
        "Primavera_calls_df = Primavera_calls_df.astype({'Идентификатор сессии звонка': int})"
      ],
      "metadata": {
        "id": "rgdyiyrUyJO6"
      },
      "execution_count": null,
      "outputs": []
    },
    {
      "cell_type": "code",
      "source": [
        "Primavera_calls_df['Идентификатор сессии звонка'].tail()"
      ],
      "metadata": {
        "colab": {
          "base_uri": "https://localhost:8080/"
        },
        "outputId": "fa8204b0-c397-4d14-d9fc-478f26812b10",
        "id": "M4VhXs6dyJO6"
      },
      "execution_count": null,
      "outputs": [
        {
          "output_type": "execute_result",
          "data": {
            "text/plain": [
              "1978    2955174659\n",
              "1979    2943106794\n",
              "1980    2943071546\n",
              "1981    2953611467\n",
              "1982    2955159919\n",
              "Name: Идентификатор сессии звонка, dtype: int64"
            ]
          },
          "metadata": {},
          "execution_count": 62
        }
      ]
    },
    {
      "cell_type": "markdown",
      "source": [
        "##### 4. Файл записи звонка"
      ],
      "metadata": {
        "id": "wp9B5JIFyJO9"
      }
    },
    {
      "cell_type": "code",
      "source": [
        "Primavera_calls_df['Файл записи звонка'].head()"
      ],
      "metadata": {
        "colab": {
          "base_uri": "https://localhost:8080/"
        },
        "outputId": "2ce05c00-65b0-4d7c-a18a-99492b884ddb",
        "id": "y7k6OvStyJO9"
      },
      "execution_count": null,
      "outputs": [
        {
          "output_type": "execute_result",
          "data": {
            "text/plain": [
              "0    2023-05-22_14-31-25.831818_from_79005731071_to_0197875_session_2955870551_talk.mp3\n",
              "1    2023-05-22_16-25-39.290501_from_79634709412_to_0111642_session_2969621584_talk.mp3\n",
              "2    2023-05-21_17-39-50.256947_from_79210517035_to_0111651_session_2967199164_talk.mp3\n",
              "3    2023-05-22_11-39-36.568332_from_79265589095_to_0111639_session_2955163371_talk.mp3\n",
              "4    2023-05-22_14-45-50.919004_from_74959906134_to_0111642_session_2955923735_talk.mp3\n",
              "Name: Файл записи звонка, dtype: object"
            ]
          },
          "metadata": {},
          "execution_count": 64
        }
      ]
    },
    {
      "cell_type": "code",
      "source": [
        "# Добавляем к файлам относительные пути\n",
        "Primavera_calls_df['Файл записи звонка'] = Primavera_calls_df['Файл записи звонка'].apply(lambda x: 'Записи звонков/Записи звонков_primavera/' + x)"
      ],
      "metadata": {
        "id": "4PtflTC_yJO-"
      },
      "execution_count": null,
      "outputs": []
    },
    {
      "cell_type": "code",
      "source": [
        "Primavera_calls_df['Файл записи звонка'].tail()"
      ],
      "metadata": {
        "colab": {
          "base_uri": "https://localhost:8080/"
        },
        "outputId": "bb08abfd-aff2-44dd-b93b-b575fd3fa790",
        "id": "yeQLqwCqyJO-"
      },
      "execution_count": null,
      "outputs": [
        {
          "output_type": "execute_result",
          "data": {
            "text/plain": [
              "1978    Записи звонков/Записи звонков_primavera/2023-05-22_12-44-13.465397_from_79165220654_to_0111639_session_2955174659_talk.mp3\n",
              "1979    Записи звонков/Записи звонков_primavera/2023-05-22_15-09-36.245926_from_79162064759_to_0197872_session_2943106794_talk.mp3\n",
              "1980    Записи звонков/Записи звонков_primavera/2023-05-22_14-57-04.953223_from_79037334944_to_0150113_session_2943071546_talk.mp3\n",
              "1981    Записи звонков/Записи звонков_primavera/2023-05-21_11-47-32.443859_from_79835255067_to_0197872_session_2953611467_talk.mp3\n",
              "1982    Записи звонков/Записи звонков_primavera/2023-05-22_11-32-49.969374_from_79152031109_to_0197878_session_2955159919_talk.mp3\n",
              "Name: Файл записи звонка, dtype: object"
            ]
          },
          "metadata": {},
          "execution_count": 66
        }
      ]
    },
    {
      "cell_type": "markdown",
      "source": [
        "#### Типы данных"
      ],
      "metadata": {
        "id": "EgJLin2SyJO_"
      }
    },
    {
      "cell_type": "code",
      "source": [
        "# Смотрим типы данных\n",
        "Primavera_calls_df.dtypes"
      ],
      "metadata": {
        "colab": {
          "base_uri": "https://localhost:8080/"
        },
        "outputId": "6d2bf7ed-a128-4e8b-c7fd-1e85f3fdcf43",
        "id": "U_phUYHGyJO_"
      },
      "execution_count": null,
      "outputs": [
        {
          "output_type": "execute_result",
          "data": {
            "text/plain": [
              "Дата и время                   datetime64[ns]\n",
              "Номер абонента                          int64\n",
              "Номер сотрудника                        int64\n",
              "Идентификатор сессии звонка             int64\n",
              "Файл записи звонка                     object\n",
              "dtype: object"
            ]
          },
          "metadata": {},
          "execution_count": 67
        }
      ]
    },
    {
      "cell_type": "code",
      "source": [
        "print(Primavera_calls_df.count())"
      ],
      "metadata": {
        "colab": {
          "base_uri": "https://localhost:8080/"
        },
        "outputId": "f18e54d7-816d-41c6-d623-6b09143bb6ee",
        "id": "E_o3kGzlyJO_"
      },
      "execution_count": null,
      "outputs": [
        {
          "output_type": "stream",
          "name": "stdout",
          "text": [
            "Дата и время                   1983\n",
            "Номер абонента                 1983\n",
            "Номер сотрудника               1983\n",
            "Идентификатор сессии звонка    1983\n",
            "Файл записи звонка             1983\n",
            "dtype: int64\n"
          ]
        }
      ]
    },
    {
      "cell_type": "markdown",
      "source": [
        "#### Сохранение датафрейма"
      ],
      "metadata": {
        "id": "YscPe5fGyJPA"
      }
    },
    {
      "cell_type": "code",
      "source": [
        "Primavera_calls_df.index = range(Primavera_calls_df.shape[0])"
      ],
      "metadata": {
        "id": "htkoZmEiA9wr"
      },
      "execution_count": null,
      "outputs": []
    },
    {
      "cell_type": "code",
      "source": [
        "# Сохраняем Primavera_calls_df в pkl\n",
        "with open(df_path + 'Primavera_calls_df.pkl', 'wb') as f:\n",
        "  pkl.dump(Primavera_calls_df, f)"
      ],
      "metadata": {
        "id": "Kq3_Z-YxyJPA"
      },
      "execution_count": null,
      "outputs": []
    },
    {
      "cell_type": "markdown",
      "source": [
        "### Paveletskaya_city"
      ],
      "metadata": {
        "id": "77U1RbUJyJPB"
      }
    },
    {
      "cell_type": "markdown",
      "source": [
        "#### Создание датафрейма"
      ],
      "metadata": {
        "id": "c03YZpvUyJPO"
      }
    },
    {
      "cell_type": "code",
      "source": [
        "# Создаём датафрейм из списка записей звонков\n",
        "Paveletskaya_city_calls_df = calls_list_to_df(os.listdir(Paveletskaya_city_path))\n",
        "Paveletskaya_city_calls_df.shape"
      ],
      "metadata": {
        "colab": {
          "base_uri": "https://localhost:8080/"
        },
        "outputId": "651ec288-465a-472b-8522-dc812e6edc50",
        "id": "K3WQcaMoyJPO"
      },
      "execution_count": null,
      "outputs": [
        {
          "output_type": "execute_result",
          "data": {
            "text/plain": [
              "(1000, 5)"
            ]
          },
          "metadata": {},
          "execution_count": 70
        }
      ]
    },
    {
      "cell_type": "code",
      "source": [
        "Paveletskaya_city_calls_df.head()"
      ],
      "metadata": {
        "colab": {
          "base_uri": "https://localhost:8080/",
          "height": 206
        },
        "outputId": "e2b0e925-0470-4c11-c148-b6a82bcb8d2f",
        "id": "aLvxM2zyyJPP"
      },
      "execution_count": null,
      "outputs": [
        {
          "output_type": "execute_result",
          "data": {
            "text/plain": [
              "                 Дата и время Номер абонента Номер сотрудника  \\\n",
              "0  2023-07-18 20:21:20.571562    79169541011      74955141111   \n",
              "1  2023-07-15 12:59:48.136717    74958266788      74950216267   \n",
              "2  2023-07-14 12:25:51.010774    79023252958      74955141111   \n",
              "3  2023-07-18 12:16:33.916259    79151079235      74955141111   \n",
              "4  2023-07-13 18:43:05.740474    79172743421      74955141111   \n",
              "\n",
              "  Идентификатор сессии звонка  \\\n",
              "0                  3096295994   \n",
              "1                  3089988186   \n",
              "2                  3089855767   \n",
              "3                  3095485421   \n",
              "4                  3088607912   \n",
              "\n",
              "                                                                       Файл записи звонка  \n",
              "0  2023-07-18_20-21-20.571562_from_79169541011_to_74955141111_session_3096295994_talk.mp3  \n",
              "1  2023-07-15_12-59-48.136717_from_74958266788_to_74950216267_session_3089988186_talk.mp3  \n",
              "2  2023-07-14_12-25-51.010774_from_79023252958_to_74955141111_session_3089855767_talk.mp3  \n",
              "3  2023-07-18_12-16-33.916259_from_79151079235_to_74955141111_session_3095485421_talk.mp3  \n",
              "4  2023-07-13_18-43-05.740474_from_79172743421_to_74955141111_session_3088607912_talk.mp3  "
            ],
            "text/html": [
              "\n",
              "  <div id=\"df-d4ad6fc5-3ac9-42f8-b3fe-18693f08d604\" class=\"colab-df-container\">\n",
              "    <div>\n",
              "<style scoped>\n",
              "    .dataframe tbody tr th:only-of-type {\n",
              "        vertical-align: middle;\n",
              "    }\n",
              "\n",
              "    .dataframe tbody tr th {\n",
              "        vertical-align: top;\n",
              "    }\n",
              "\n",
              "    .dataframe thead th {\n",
              "        text-align: right;\n",
              "    }\n",
              "</style>\n",
              "<table border=\"1\" class=\"dataframe\">\n",
              "  <thead>\n",
              "    <tr style=\"text-align: right;\">\n",
              "      <th></th>\n",
              "      <th>Дата и время</th>\n",
              "      <th>Номер абонента</th>\n",
              "      <th>Номер сотрудника</th>\n",
              "      <th>Идентификатор сессии звонка</th>\n",
              "      <th>Файл записи звонка</th>\n",
              "    </tr>\n",
              "  </thead>\n",
              "  <tbody>\n",
              "    <tr>\n",
              "      <th>0</th>\n",
              "      <td>2023-07-18 20:21:20.571562</td>\n",
              "      <td>79169541011</td>\n",
              "      <td>74955141111</td>\n",
              "      <td>3096295994</td>\n",
              "      <td>2023-07-18_20-21-20.571562_from_79169541011_to_74955141111_session_3096295994_talk.mp3</td>\n",
              "    </tr>\n",
              "    <tr>\n",
              "      <th>1</th>\n",
              "      <td>2023-07-15 12:59:48.136717</td>\n",
              "      <td>74958266788</td>\n",
              "      <td>74950216267</td>\n",
              "      <td>3089988186</td>\n",
              "      <td>2023-07-15_12-59-48.136717_from_74958266788_to_74950216267_session_3089988186_talk.mp3</td>\n",
              "    </tr>\n",
              "    <tr>\n",
              "      <th>2</th>\n",
              "      <td>2023-07-14 12:25:51.010774</td>\n",
              "      <td>79023252958</td>\n",
              "      <td>74955141111</td>\n",
              "      <td>3089855767</td>\n",
              "      <td>2023-07-14_12-25-51.010774_from_79023252958_to_74955141111_session_3089855767_talk.mp3</td>\n",
              "    </tr>\n",
              "    <tr>\n",
              "      <th>3</th>\n",
              "      <td>2023-07-18 12:16:33.916259</td>\n",
              "      <td>79151079235</td>\n",
              "      <td>74955141111</td>\n",
              "      <td>3095485421</td>\n",
              "      <td>2023-07-18_12-16-33.916259_from_79151079235_to_74955141111_session_3095485421_talk.mp3</td>\n",
              "    </tr>\n",
              "    <tr>\n",
              "      <th>4</th>\n",
              "      <td>2023-07-13 18:43:05.740474</td>\n",
              "      <td>79172743421</td>\n",
              "      <td>74955141111</td>\n",
              "      <td>3088607912</td>\n",
              "      <td>2023-07-13_18-43-05.740474_from_79172743421_to_74955141111_session_3088607912_talk.mp3</td>\n",
              "    </tr>\n",
              "  </tbody>\n",
              "</table>\n",
              "</div>\n",
              "    <div class=\"colab-df-buttons\">\n",
              "\n",
              "  <div class=\"colab-df-container\">\n",
              "    <button class=\"colab-df-convert\" onclick=\"convertToInteractive('df-d4ad6fc5-3ac9-42f8-b3fe-18693f08d604')\"\n",
              "            title=\"Convert this dataframe to an interactive table.\"\n",
              "            style=\"display:none;\">\n",
              "\n",
              "  <svg xmlns=\"http://www.w3.org/2000/svg\" height=\"24px\" viewBox=\"0 -960 960 960\">\n",
              "    <path d=\"M120-120v-720h720v720H120Zm60-500h600v-160H180v160Zm220 220h160v-160H400v160Zm0 220h160v-160H400v160ZM180-400h160v-160H180v160Zm440 0h160v-160H620v160ZM180-180h160v-160H180v160Zm440 0h160v-160H620v160Z\"/>\n",
              "  </svg>\n",
              "    </button>\n",
              "\n",
              "  <style>\n",
              "    .colab-df-container {\n",
              "      display:flex;\n",
              "      gap: 12px;\n",
              "    }\n",
              "\n",
              "    .colab-df-convert {\n",
              "      background-color: #E8F0FE;\n",
              "      border: none;\n",
              "      border-radius: 50%;\n",
              "      cursor: pointer;\n",
              "      display: none;\n",
              "      fill: #1967D2;\n",
              "      height: 32px;\n",
              "      padding: 0 0 0 0;\n",
              "      width: 32px;\n",
              "    }\n",
              "\n",
              "    .colab-df-convert:hover {\n",
              "      background-color: #E2EBFA;\n",
              "      box-shadow: 0px 1px 2px rgba(60, 64, 67, 0.3), 0px 1px 3px 1px rgba(60, 64, 67, 0.15);\n",
              "      fill: #174EA6;\n",
              "    }\n",
              "\n",
              "    .colab-df-buttons div {\n",
              "      margin-bottom: 4px;\n",
              "    }\n",
              "\n",
              "    [theme=dark] .colab-df-convert {\n",
              "      background-color: #3B4455;\n",
              "      fill: #D2E3FC;\n",
              "    }\n",
              "\n",
              "    [theme=dark] .colab-df-convert:hover {\n",
              "      background-color: #434B5C;\n",
              "      box-shadow: 0px 1px 3px 1px rgba(0, 0, 0, 0.15);\n",
              "      filter: drop-shadow(0px 1px 2px rgba(0, 0, 0, 0.3));\n",
              "      fill: #FFFFFF;\n",
              "    }\n",
              "  </style>\n",
              "\n",
              "    <script>\n",
              "      const buttonEl =\n",
              "        document.querySelector('#df-d4ad6fc5-3ac9-42f8-b3fe-18693f08d604 button.colab-df-convert');\n",
              "      buttonEl.style.display =\n",
              "        google.colab.kernel.accessAllowed ? 'block' : 'none';\n",
              "\n",
              "      async function convertToInteractive(key) {\n",
              "        const element = document.querySelector('#df-d4ad6fc5-3ac9-42f8-b3fe-18693f08d604');\n",
              "        const dataTable =\n",
              "          await google.colab.kernel.invokeFunction('convertToInteractive',\n",
              "                                                    [key], {});\n",
              "        if (!dataTable) return;\n",
              "\n",
              "        const docLinkHtml = 'Like what you see? Visit the ' +\n",
              "          '<a target=\"_blank\" href=https://colab.research.google.com/notebooks/data_table.ipynb>data table notebook</a>'\n",
              "          + ' to learn more about interactive tables.';\n",
              "        element.innerHTML = '';\n",
              "        dataTable['output_type'] = 'display_data';\n",
              "        await google.colab.output.renderOutput(dataTable, element);\n",
              "        const docLink = document.createElement('div');\n",
              "        docLink.innerHTML = docLinkHtml;\n",
              "        element.appendChild(docLink);\n",
              "      }\n",
              "    </script>\n",
              "  </div>\n",
              "\n",
              "\n",
              "<div id=\"df-cf37b826-ada7-478a-b4f6-9e6cd6fdc07f\">\n",
              "  <button class=\"colab-df-quickchart\" onclick=\"quickchart('df-cf37b826-ada7-478a-b4f6-9e6cd6fdc07f')\"\n",
              "            title=\"Suggest charts.\"\n",
              "            style=\"display:none;\">\n",
              "\n",
              "<svg xmlns=\"http://www.w3.org/2000/svg\" height=\"24px\"viewBox=\"0 0 24 24\"\n",
              "     width=\"24px\">\n",
              "    <g>\n",
              "        <path d=\"M19 3H5c-1.1 0-2 .9-2 2v14c0 1.1.9 2 2 2h14c1.1 0 2-.9 2-2V5c0-1.1-.9-2-2-2zM9 17H7v-7h2v7zm4 0h-2V7h2v10zm4 0h-2v-4h2v4z\"/>\n",
              "    </g>\n",
              "</svg>\n",
              "  </button>\n",
              "\n",
              "<style>\n",
              "  .colab-df-quickchart {\n",
              "      --bg-color: #E8F0FE;\n",
              "      --fill-color: #1967D2;\n",
              "      --hover-bg-color: #E2EBFA;\n",
              "      --hover-fill-color: #174EA6;\n",
              "      --disabled-fill-color: #AAA;\n",
              "      --disabled-bg-color: #DDD;\n",
              "  }\n",
              "\n",
              "  [theme=dark] .colab-df-quickchart {\n",
              "      --bg-color: #3B4455;\n",
              "      --fill-color: #D2E3FC;\n",
              "      --hover-bg-color: #434B5C;\n",
              "      --hover-fill-color: #FFFFFF;\n",
              "      --disabled-bg-color: #3B4455;\n",
              "      --disabled-fill-color: #666;\n",
              "  }\n",
              "\n",
              "  .colab-df-quickchart {\n",
              "    background-color: var(--bg-color);\n",
              "    border: none;\n",
              "    border-radius: 50%;\n",
              "    cursor: pointer;\n",
              "    display: none;\n",
              "    fill: var(--fill-color);\n",
              "    height: 32px;\n",
              "    padding: 0;\n",
              "    width: 32px;\n",
              "  }\n",
              "\n",
              "  .colab-df-quickchart:hover {\n",
              "    background-color: var(--hover-bg-color);\n",
              "    box-shadow: 0 1px 2px rgba(60, 64, 67, 0.3), 0 1px 3px 1px rgba(60, 64, 67, 0.15);\n",
              "    fill: var(--button-hover-fill-color);\n",
              "  }\n",
              "\n",
              "  .colab-df-quickchart-complete:disabled,\n",
              "  .colab-df-quickchart-complete:disabled:hover {\n",
              "    background-color: var(--disabled-bg-color);\n",
              "    fill: var(--disabled-fill-color);\n",
              "    box-shadow: none;\n",
              "  }\n",
              "\n",
              "  .colab-df-spinner {\n",
              "    border: 2px solid var(--fill-color);\n",
              "    border-color: transparent;\n",
              "    border-bottom-color: var(--fill-color);\n",
              "    animation:\n",
              "      spin 1s steps(1) infinite;\n",
              "  }\n",
              "\n",
              "  @keyframes spin {\n",
              "    0% {\n",
              "      border-color: transparent;\n",
              "      border-bottom-color: var(--fill-color);\n",
              "      border-left-color: var(--fill-color);\n",
              "    }\n",
              "    20% {\n",
              "      border-color: transparent;\n",
              "      border-left-color: var(--fill-color);\n",
              "      border-top-color: var(--fill-color);\n",
              "    }\n",
              "    30% {\n",
              "      border-color: transparent;\n",
              "      border-left-color: var(--fill-color);\n",
              "      border-top-color: var(--fill-color);\n",
              "      border-right-color: var(--fill-color);\n",
              "    }\n",
              "    40% {\n",
              "      border-color: transparent;\n",
              "      border-right-color: var(--fill-color);\n",
              "      border-top-color: var(--fill-color);\n",
              "    }\n",
              "    60% {\n",
              "      border-color: transparent;\n",
              "      border-right-color: var(--fill-color);\n",
              "    }\n",
              "    80% {\n",
              "      border-color: transparent;\n",
              "      border-right-color: var(--fill-color);\n",
              "      border-bottom-color: var(--fill-color);\n",
              "    }\n",
              "    90% {\n",
              "      border-color: transparent;\n",
              "      border-bottom-color: var(--fill-color);\n",
              "    }\n",
              "  }\n",
              "</style>\n",
              "\n",
              "  <script>\n",
              "    async function quickchart(key) {\n",
              "      const quickchartButtonEl =\n",
              "        document.querySelector('#' + key + ' button');\n",
              "      quickchartButtonEl.disabled = true;  // To prevent multiple clicks.\n",
              "      quickchartButtonEl.classList.add('colab-df-spinner');\n",
              "      try {\n",
              "        const charts = await google.colab.kernel.invokeFunction(\n",
              "            'suggestCharts', [key], {});\n",
              "      } catch (error) {\n",
              "        console.error('Error during call to suggestCharts:', error);\n",
              "      }\n",
              "      quickchartButtonEl.classList.remove('colab-df-spinner');\n",
              "      quickchartButtonEl.classList.add('colab-df-quickchart-complete');\n",
              "    }\n",
              "    (() => {\n",
              "      let quickchartButtonEl =\n",
              "        document.querySelector('#df-cf37b826-ada7-478a-b4f6-9e6cd6fdc07f button');\n",
              "      quickchartButtonEl.style.display =\n",
              "        google.colab.kernel.accessAllowed ? 'block' : 'none';\n",
              "    })();\n",
              "  </script>\n",
              "</div>\n",
              "    </div>\n",
              "  </div>\n"
            ]
          },
          "metadata": {},
          "execution_count": 71
        }
      ]
    },
    {
      "cell_type": "code",
      "source": [
        "# Проверяем количество строк\n",
        "print(len(os.listdir(Paveletskaya_city_path)))\n",
        "print(Paveletskaya_city_calls_df.shape[0])"
      ],
      "metadata": {
        "colab": {
          "base_uri": "https://localhost:8080/"
        },
        "outputId": "49c47b39-097f-4d33-b981-14446c8a3a73",
        "id": "KVEsK8djyJPQ"
      },
      "execution_count": null,
      "outputs": [
        {
          "output_type": "stream",
          "name": "stdout",
          "text": [
            "1000\n",
            "1000\n"
          ]
        }
      ]
    },
    {
      "cell_type": "code",
      "source": [
        "print(Paveletskaya_city_calls_df.count())"
      ],
      "metadata": {
        "colab": {
          "base_uri": "https://localhost:8080/"
        },
        "outputId": "45584a3d-95d5-4874-e2e0-61e26417d0d2",
        "id": "ypRy_F02yJPQ"
      },
      "execution_count": null,
      "outputs": [
        {
          "output_type": "stream",
          "name": "stdout",
          "text": [
            "Дата и время                   1000\n",
            "Номер абонента                 1000\n",
            "Номер сотрудника               1000\n",
            "Идентификатор сессии звонка    1000\n",
            "Файл записи звонка             1000\n",
            "dtype: int64\n"
          ]
        }
      ]
    },
    {
      "cell_type": "code",
      "source": [
        "# Количество уникальных значений столбца 'Идентификатор сессии звонка'\n",
        "Paveletskaya_city_calls_df['Идентификатор сессии звонка'].nunique()"
      ],
      "metadata": {
        "colab": {
          "base_uri": "https://localhost:8080/"
        },
        "id": "aVuGqYph-S8e",
        "outputId": "4ceb53b4-fe45-4865-dbfe-9a9b7f63481e"
      },
      "execution_count": null,
      "outputs": [
        {
          "output_type": "execute_result",
          "data": {
            "text/plain": [
              "1000"
            ]
          },
          "metadata": {},
          "execution_count": 74
        }
      ]
    },
    {
      "cell_type": "markdown",
      "source": [
        "#### Предобработка"
      ],
      "metadata": {
        "id": "3wDi00rAyJPR"
      }
    },
    {
      "cell_type": "markdown",
      "source": [
        "##### 0. Дата и время"
      ],
      "metadata": {
        "id": "2msKjkd5yJPS"
      }
    },
    {
      "cell_type": "code",
      "source": [
        "Paveletskaya_city_calls_df['Дата и время'].head()"
      ],
      "metadata": {
        "colab": {
          "base_uri": "https://localhost:8080/"
        },
        "outputId": "8b079275-10bb-45b9-ebb4-65239190645d",
        "id": "AGzVOYuTyJPS"
      },
      "execution_count": null,
      "outputs": [
        {
          "output_type": "execute_result",
          "data": {
            "text/plain": [
              "0    2023-07-18 20:21:20.571562\n",
              "1    2023-07-15 12:59:48.136717\n",
              "2    2023-07-14 12:25:51.010774\n",
              "3    2023-07-18 12:16:33.916259\n",
              "4    2023-07-13 18:43:05.740474\n",
              "Name: Дата и время, dtype: object"
            ]
          },
          "metadata": {},
          "execution_count": 75
        }
      ]
    },
    {
      "cell_type": "code",
      "source": [
        "# Приводим тип данных столбца 'Дата и время'\n",
        "Paveletskaya_city_calls_df['Дата и время'] = pd.to_datetime(Paveletskaya_city_calls_df['Дата и время'])"
      ],
      "metadata": {
        "id": "qWhM80MeyJPT"
      },
      "execution_count": null,
      "outputs": []
    },
    {
      "cell_type": "code",
      "source": [
        "Paveletskaya_city_calls_df['Дата и время'].tail()"
      ],
      "metadata": {
        "colab": {
          "base_uri": "https://localhost:8080/"
        },
        "outputId": "6a3e23b9-3afe-42b0-801d-972eac6b6bd5",
        "id": "I9GKPi49yJPU"
      },
      "execution_count": null,
      "outputs": [
        {
          "output_type": "execute_result",
          "data": {
            "text/plain": [
              "995   2023-06-21 12:52:28.101896\n",
              "996   2023-06-22 13:18:56.431860\n",
              "997   2023-06-23 08:36:46.032632\n",
              "998   2023-06-18 17:41:38.718386\n",
              "999   2023-06-19 12:12:40.350431\n",
              "Name: Дата и время, dtype: datetime64[ns]"
            ]
          },
          "metadata": {},
          "execution_count": 77
        }
      ]
    },
    {
      "cell_type": "markdown",
      "source": [
        "##### 1. Номер абонента"
      ],
      "metadata": {
        "id": "h-5yX-wCyJPU"
      }
    },
    {
      "cell_type": "code",
      "source": [
        "Paveletskaya_city_calls_df['Номер абонента'].head()"
      ],
      "metadata": {
        "colab": {
          "base_uri": "https://localhost:8080/"
        },
        "outputId": "eab76eaa-b4bc-4e6d-b552-8b5ad11d8052",
        "id": "hV3Vl6jCyJPV"
      },
      "execution_count": null,
      "outputs": [
        {
          "output_type": "execute_result",
          "data": {
            "text/plain": [
              "0    79169541011\n",
              "1    74958266788\n",
              "2    79023252958\n",
              "3    79151079235\n",
              "4    79172743421\n",
              "Name: Номер абонента, dtype: object"
            ]
          },
          "metadata": {},
          "execution_count": 78
        }
      ]
    },
    {
      "cell_type": "code",
      "source": [
        "# Приводим тип данных столбца 'Номер абонента'\n",
        "Paveletskaya_city_calls_df = Paveletskaya_city_calls_df.astype({'Номер абонента': int})"
      ],
      "metadata": {
        "id": "plQWB222yJPv"
      },
      "execution_count": null,
      "outputs": []
    },
    {
      "cell_type": "code",
      "source": [
        "Paveletskaya_city_calls_df['Номер абонента'].tail()"
      ],
      "metadata": {
        "colab": {
          "base_uri": "https://localhost:8080/"
        },
        "outputId": "332d0cf3-a71f-4268-cdf7-2a8309f10084",
        "id": "WrhQr6fTyJPw"
      },
      "execution_count": null,
      "outputs": [
        {
          "output_type": "execute_result",
          "data": {
            "text/plain": [
              "995    79035224370\n",
              "996    79169209180\n",
              "997    79165835574\n",
              "998    79051570440\n",
              "999    79104429469\n",
              "Name: Номер абонента, dtype: int64"
            ]
          },
          "metadata": {},
          "execution_count": 81
        }
      ]
    },
    {
      "cell_type": "markdown",
      "source": [
        "##### 2. Номер сотрудника"
      ],
      "metadata": {
        "id": "IPXFy7dSyJPw"
      }
    },
    {
      "cell_type": "code",
      "source": [
        "Paveletskaya_city_calls_df['Номер сотрудника'].head()"
      ],
      "metadata": {
        "colab": {
          "base_uri": "https://localhost:8080/"
        },
        "outputId": "4f85ce27-9179-439f-e4da-4dfff68a6507",
        "id": "T0lC7QA2yJPw"
      },
      "execution_count": null,
      "outputs": [
        {
          "output_type": "execute_result",
          "data": {
            "text/plain": [
              "0    74955141111\n",
              "1    74950216267\n",
              "2    74955141111\n",
              "3    74955141111\n",
              "4    74955141111\n",
              "Name: Номер сотрудника, dtype: object"
            ]
          },
          "metadata": {},
          "execution_count": 82
        }
      ]
    },
    {
      "cell_type": "code",
      "source": [
        "# Приводим тип данных столбца 'Номер сотрудника'\n",
        "Paveletskaya_city_calls_df = Paveletskaya_city_calls_df.astype({'Номер сотрудника': int})"
      ],
      "metadata": {
        "id": "Ukd9uAMqyJPx"
      },
      "execution_count": null,
      "outputs": []
    },
    {
      "cell_type": "code",
      "source": [
        "Paveletskaya_city_calls_df['Номер сотрудника'].tail()"
      ],
      "metadata": {
        "colab": {
          "base_uri": "https://localhost:8080/"
        },
        "outputId": "44fbdd9d-c33a-4eaa-d148-7637178a21a9",
        "id": "ebTupyUiyJPy"
      },
      "execution_count": null,
      "outputs": [
        {
          "output_type": "execute_result",
          "data": {
            "text/plain": [
              "995    74955141111\n",
              "996    74955141111\n",
              "997    74955141111\n",
              "998    74950216267\n",
              "999    74955141111\n",
              "Name: Номер сотрудника, dtype: int64"
            ]
          },
          "metadata": {},
          "execution_count": 84
        }
      ]
    },
    {
      "cell_type": "markdown",
      "source": [
        "##### 3. Идентификатор сессии звонка"
      ],
      "metadata": {
        "id": "ESZpFODnyJP2"
      }
    },
    {
      "cell_type": "code",
      "source": [
        "Paveletskaya_city_calls_df['Идентификатор сессии звонка'].head()"
      ],
      "metadata": {
        "colab": {
          "base_uri": "https://localhost:8080/"
        },
        "outputId": "3c27f936-c62c-4805-8a97-a9cf0e018bba",
        "id": "SKY1lpVKyJP2"
      },
      "execution_count": null,
      "outputs": [
        {
          "output_type": "execute_result",
          "data": {
            "text/plain": [
              "0    3096295994\n",
              "1    3089988186\n",
              "2    3089855767\n",
              "3    3095485421\n",
              "4    3088607912\n",
              "Name: Идентификатор сессии звонка, dtype: object"
            ]
          },
          "metadata": {},
          "execution_count": 85
        }
      ]
    },
    {
      "cell_type": "code",
      "source": [
        "# Приводим тип данных столбца 'Идентификатор сессии звонка'\n",
        "Paveletskaya_city_calls_df = Paveletskaya_city_calls_df.astype({'Идентификатор сессии звонка': int})"
      ],
      "metadata": {
        "id": "TPkGT-62yJQP"
      },
      "execution_count": null,
      "outputs": []
    },
    {
      "cell_type": "code",
      "source": [
        "Paveletskaya_city_calls_df['Идентификатор сессии звонка'].tail()"
      ],
      "metadata": {
        "colab": {
          "base_uri": "https://localhost:8080/"
        },
        "outputId": "42d5c57b-0378-40fe-831c-fb42d7bde95e",
        "id": "hW-Kq8ZPyJQP"
      },
      "execution_count": null,
      "outputs": [
        {
          "output_type": "execute_result",
          "data": {
            "text/plain": [
              "995    3037654279\n",
              "996    3040348411\n",
              "997    3042395962\n",
              "998    3031456882\n",
              "999    3032677423\n",
              "Name: Идентификатор сессии звонка, dtype: int64"
            ]
          },
          "metadata": {},
          "execution_count": 87
        }
      ]
    },
    {
      "cell_type": "markdown",
      "source": [
        "##### 4. Файл записи звонка"
      ],
      "metadata": {
        "id": "xHkOr67ayJQR"
      }
    },
    {
      "cell_type": "code",
      "source": [
        "Paveletskaya_city_calls_df['Файл записи звонка'].head()"
      ],
      "metadata": {
        "colab": {
          "base_uri": "https://localhost:8080/"
        },
        "outputId": "cb10b0f2-5002-4d40-9589-6e97ef7a09e7",
        "id": "jJGJh6L8yJQR"
      },
      "execution_count": null,
      "outputs": [
        {
          "output_type": "execute_result",
          "data": {
            "text/plain": [
              "0    2023-07-18_20-21-20.571562_from_79169541011_to_74955141111_session_3096295994_talk.mp3\n",
              "1    2023-07-15_12-59-48.136717_from_74958266788_to_74950216267_session_3089988186_talk.mp3\n",
              "2    2023-07-14_12-25-51.010774_from_79023252958_to_74955141111_session_3089855767_talk.mp3\n",
              "3    2023-07-18_12-16-33.916259_from_79151079235_to_74955141111_session_3095485421_talk.mp3\n",
              "4    2023-07-13_18-43-05.740474_from_79172743421_to_74955141111_session_3088607912_talk.mp3\n",
              "Name: Файл записи звонка, dtype: object"
            ]
          },
          "metadata": {},
          "execution_count": 89
        }
      ]
    },
    {
      "cell_type": "code",
      "source": [
        "# Добавляем к файлам относительные пути\n",
        "Paveletskaya_city_calls_df['Файл записи звонка'] = Paveletskaya_city_calls_df['Файл записи звонка'].apply(lambda x: 'Записи звонков/Записи звонков_павелецкая сити/' + x)"
      ],
      "metadata": {
        "id": "o17pllLMyJQR"
      },
      "execution_count": null,
      "outputs": []
    },
    {
      "cell_type": "code",
      "source": [
        "Paveletskaya_city_calls_df['Файл записи звонка'].tail()"
      ],
      "metadata": {
        "colab": {
          "base_uri": "https://localhost:8080/"
        },
        "outputId": "fdb2a15c-5a35-49eb-ff54-dd775a50965c",
        "id": "mpTDxbvyyJQS"
      },
      "execution_count": null,
      "outputs": [
        {
          "output_type": "execute_result",
          "data": {
            "text/plain": [
              "995    Записи звонков/Записи звонков_павелецкая сити/2023-06-21_12-52-28.101896_from_79035224370_to_74955141111_session_3037654279_talk.mp3\n",
              "996    Записи звонков/Записи звонков_павелецкая сити/2023-06-22_13-18-56.431860_from_79169209180_to_74955141111_session_3040348411_talk.mp3\n",
              "997    Записи звонков/Записи звонков_павелецкая сити/2023-06-23_08-36-46.032632_from_79165835574_to_74955141111_session_3042395962_talk.mp3\n",
              "998    Записи звонков/Записи звонков_павелецкая сити/2023-06-18_17-41-38.718386_from_79051570440_to_74950216267_session_3031456882_talk.mp3\n",
              "999    Записи звонков/Записи звонков_павелецкая сити/2023-06-19_12-12-40.350431_from_79104429469_to_74955141111_session_3032677423_talk.mp3\n",
              "Name: Файл записи звонка, dtype: object"
            ]
          },
          "metadata": {},
          "execution_count": 91
        }
      ]
    },
    {
      "cell_type": "markdown",
      "source": [
        "#### Типы данных"
      ],
      "metadata": {
        "id": "wi8gJHqOyJQS"
      }
    },
    {
      "cell_type": "code",
      "source": [
        "# Смотрим типы данных\n",
        "Paveletskaya_city_calls_df.dtypes"
      ],
      "metadata": {
        "colab": {
          "base_uri": "https://localhost:8080/"
        },
        "outputId": "7fdc64bc-2b91-4d8f-d353-bb6e8fe53553",
        "id": "g5FuWfRlyJQT"
      },
      "execution_count": null,
      "outputs": [
        {
          "output_type": "execute_result",
          "data": {
            "text/plain": [
              "Дата и время                   datetime64[ns]\n",
              "Номер абонента                          int64\n",
              "Номер сотрудника                        int64\n",
              "Идентификатор сессии звонка             int64\n",
              "Файл записи звонка                     object\n",
              "dtype: object"
            ]
          },
          "metadata": {},
          "execution_count": 92
        }
      ]
    },
    {
      "cell_type": "code",
      "source": [
        "print(Paveletskaya_city_calls_df.count())"
      ],
      "metadata": {
        "colab": {
          "base_uri": "https://localhost:8080/"
        },
        "outputId": "ae75039a-cfe2-45c4-bdd2-2bb624670834",
        "id": "jAW0pra_yJQU"
      },
      "execution_count": null,
      "outputs": [
        {
          "output_type": "stream",
          "name": "stdout",
          "text": [
            "Дата и время                   1000\n",
            "Номер абонента                 1000\n",
            "Номер сотрудника               1000\n",
            "Идентификатор сессии звонка    1000\n",
            "Файл записи звонка             1000\n",
            "dtype: int64\n"
          ]
        }
      ]
    },
    {
      "cell_type": "markdown",
      "source": [
        "#### Сохранение датафрейма"
      ],
      "metadata": {
        "id": "dslQJlmJyJQU"
      }
    },
    {
      "cell_type": "code",
      "source": [
        "Paveletskaya_city_calls_df.index = range(Paveletskaya_city_calls_df.shape[0])"
      ],
      "metadata": {
        "id": "xg2L2aZVBTe2"
      },
      "execution_count": null,
      "outputs": []
    },
    {
      "cell_type": "code",
      "source": [
        "# Сохраняем Paveletskaya_city_calls_df в pkl\n",
        "with open(df_path + 'Paveletskaya_city_calls_df.pkl', 'wb') as f:\n",
        "  pkl.dump(Paveletskaya_city_calls_df, f)"
      ],
      "metadata": {
        "id": "BbQTkJGOyJQU"
      },
      "execution_count": null,
      "outputs": []
    },
    {
      "cell_type": "markdown",
      "source": [
        "## [Новые записи звонков](https://drive.google.com/drive/folders/11aY9qpv301UnBuYvG8Iap1-Od28sQdMH?usp=sharing)"
      ],
      "metadata": {
        "id": "sWyoHQUgXUyY"
      }
    },
    {
      "cell_type": "code",
      "source": [
        "# Новые записи звонков\n",
        "os.listdir(dataset_new_path)"
      ],
      "metadata": {
        "colab": {
          "base_uri": "https://localhost:8080/"
        },
        "id": "XmEZshpxZC8a",
        "outputId": "d404e8f7-239e-454f-8a5f-4c910f64820e"
      },
      "execution_count": null,
      "outputs": [
        {
          "output_type": "execute_result",
          "data": {
            "text/plain": [
              "['Записи Headliner',\n",
              " 'Записи Primavera',\n",
              " 'Записи Павелецкая сити',\n",
              " 'Информация о звонках']"
            ]
          },
          "metadata": {},
          "execution_count": 101
        }
      ]
    },
    {
      "cell_type": "markdown",
      "source": [
        "### Файлы новых записей звонков"
      ],
      "metadata": {
        "id": "Fa8bDQdEXsWu"
      }
    },
    {
      "cell_type": "code",
      "source": [
        "# Записи Headliner\n",
        "os.listdir(Headliner_new_path)[:10]"
      ],
      "metadata": {
        "colab": {
          "base_uri": "https://localhost:8080/"
        },
        "id": "b_v9MN8_ivGz",
        "outputId": "0c316ecc-fd73-4b59-ebe7-1e39c50b3abe"
      },
      "execution_count": null,
      "outputs": [
        {
          "output_type": "execute_result",
          "data": {
            "text/plain": [
              "['2023-09-26_10-06-23.403699_from_79584153294_to_74959339902_session_3252459256_talk.mp3',\n",
              " '2023-09-21_18-54-50.120569_from_79951538090_to_0188880_session_3235156678_talk.mp3',\n",
              " '2023-09-27_16-10-52.316459_from_79853697070_to_0188880_session_3253840089_talk.mp3',\n",
              " '2023-09-25_09-12-02.428401_from_79858141531_to_74959339902_session_3249639806_talk.mp3',\n",
              " '2023-09-28_11-08-32.052586_from_79851881681_to_74959339902_session_3262172387_talk.mp3',\n",
              " '2023-09-26_14-03-03.889896_from_79164117555_to_74959339902_session_3237804050_talk.mp3',\n",
              " '2023-09-22_15-05-38.848815_from_79608617626_to_0188880_session_3243154724_talk.mp3',\n",
              " '2023-09-22_15-47-29.153917_from_79169869883_to_74959339902_session_3231248615_talk.mp3',\n",
              " '2023-09-25_15-33-38.734417_from_79025578055_to_74959339902_session_3251147526_talk.mp3',\n",
              " '2023-09-27_16-24-56.511269_from_79166279057_to_74959339902_session_3253891649_talk.mp3']"
            ]
          },
          "metadata": {},
          "execution_count": 102
        }
      ]
    },
    {
      "cell_type": "code",
      "source": [
        "# Записи Primavera\n",
        "os.listdir(Primavera_new_path)[:10]"
      ],
      "metadata": {
        "colab": {
          "base_uri": "https://localhost:8080/"
        },
        "id": "AjIRvqstjA38",
        "outputId": "db3fbf15-7512-42a9-9f8d-b92acea27396"
      },
      "execution_count": null,
      "outputs": [
        {
          "output_type": "execute_result",
          "data": {
            "text/plain": [
              "['2023-09-30_12-19-55.312627_from_79854305902_to_0253192_session_3263012391_talk.mp3',\n",
              " '2023-10-04_19-40-25.037187_from_74950210291_to_0253206_session_3276780397_talk.mp3',\n",
              " '2023-10-04_15-52-11.200324_from_79203810871_to_0253201_session_3276172302_talk.mp3',\n",
              " '2023-10-02_20-00-47.312686_from_74950210291_to_0150113_session_3271743567_talk.mp3',\n",
              " '2023-10-04_16-50-31.267655_from_79295237177_to_0111652_session_3269469074_talk.mp3',\n",
              " '2023-09-30_15-31-41.654688_from_79939041290_to_0253192_session_3263409766_talk.mp3',\n",
              " '2023-10-04_14-14-24.774719_from_74951201251_to_0253206_session_3268896004_talk.mp3',\n",
              " '2023-10-04_10-51-34.713659_from_79154098258_to_0111631_session_3262644468_talk.mp3',\n",
              " '2023-10-03_16-27-25.589891_from_79269050076_to_0253200_session_3251740160_talk.mp3',\n",
              " '2023-10-04_13-48-28.199593_from_79250269006_to_0111651_session_3271685686_talk.mp3']"
            ]
          },
          "metadata": {},
          "execution_count": 103
        }
      ]
    },
    {
      "cell_type": "code",
      "source": [
        "# Записи Paveletskaya_city\n",
        "os.listdir(Paveletskaya_city_new_path)[:10]"
      ],
      "metadata": {
        "colab": {
          "base_uri": "https://localhost:8080/"
        },
        "id": "WC1ZVMCJjYsY",
        "outputId": "aee96fdb-7135-47ee-8994-759c6614de34"
      },
      "execution_count": null,
      "outputs": [
        {
          "output_type": "execute_result",
          "data": {
            "text/plain": [
              "['2023-09-18_11-48-26.391636_from_74932482450_to_00288_session_3219964480_talk.mp3',\n",
              " '2023-09-18_12-54-18.603506_from_79160620083_to_00288_session_3220199190_talk.mp3',\n",
              " '2023-09-20_09-56-40.872148_from_905424768475_to_00288_session_3237457931_talk.mp3',\n",
              " '2023-09-19_13-53-47.892984_from_79037861965_to_00288_session_3222616640_talk.mp3',\n",
              " '2023-09-18_12-31-27.901544_from_79099465930_to_00288_session_3230778649_talk.mp3',\n",
              " '2023-09-17_17-31-02.604192_from_79165656567_to_00288_session_3225012783_talk.mp3',\n",
              " '2023-09-18_17-14-07.670764_from_79264028168_to_00288_session_3231837499_talk.mp3',\n",
              " '2023-09-17_15-30-32.547936_from_79033154042_to_00288_session_3218794065_talk.mp3',\n",
              " '2023-09-18_10-27-52.597249_from_79035129646_to_00288_session_3232383306_talk.mp3',\n",
              " '2023-09-16_17-35-42.402838_from_79607558395_to_00288_session_3230248941_talk.mp3']"
            ]
          },
          "metadata": {},
          "execution_count": 104
        }
      ]
    },
    {
      "cell_type": "code",
      "source": [
        "# Количество новых записей звонков по проектам\n",
        "print(f\"        Headliner: {len(os.listdir(Headliner_new_path)):4d} записей\")\n",
        "print(f\"        Primavera: {len(os.listdir(Primavera_new_path)):4d} записей\")\n",
        "print(f\"Paveletskaya_city: {len(os.listdir(Paveletskaya_city_new_path)):4d} записей\")"
      ],
      "metadata": {
        "colab": {
          "base_uri": "https://localhost:8080/"
        },
        "id": "FeLQhmiJDlrq",
        "outputId": "5d1afaa5-ea54-4df1-a30c-b2abd0712b52"
      },
      "execution_count": null,
      "outputs": [
        {
          "output_type": "stream",
          "name": "stdout",
          "text": [
            "        Headliner: 1226 записей\n",
            "        Primavera:  767 записей\n",
            "Paveletskaya_city: 1413 записей\n"
          ]
        }
      ]
    },
    {
      "cell_type": "markdown",
      "source": [
        "### Headliner"
      ],
      "metadata": {
        "id": "TUAVeDSMYfAQ"
      }
    },
    {
      "cell_type": "markdown",
      "source": [
        "#### Создание датафрейма"
      ],
      "metadata": {
        "id": "iujyX6k9awrH"
      }
    },
    {
      "cell_type": "code",
      "source": [
        "# Создаём датафрейм из списка записей звонков\n",
        "Headliner_calls_df = calls_list_to_df(os.listdir(Headliner_new_path))\n",
        "Headliner_calls_df.shape"
      ],
      "metadata": {
        "colab": {
          "base_uri": "https://localhost:8080/"
        },
        "id": "iTCRRYJzYEkF",
        "outputId": "261a971d-ec66-4718-ee1a-7432df95c7df"
      },
      "execution_count": null,
      "outputs": [
        {
          "output_type": "execute_result",
          "data": {
            "text/plain": [
              "(1226, 5)"
            ]
          },
          "metadata": {},
          "execution_count": 106
        }
      ]
    },
    {
      "cell_type": "code",
      "source": [
        "Headliner_calls_df.head()"
      ],
      "metadata": {
        "colab": {
          "base_uri": "https://localhost:8080/",
          "height": 206
        },
        "id": "60KVBdUCZefF",
        "outputId": "c0131eb2-7576-4696-f969-b46369b8d804"
      },
      "execution_count": null,
      "outputs": [
        {
          "output_type": "execute_result",
          "data": {
            "text/plain": [
              "                 Дата и время Номер абонента Номер сотрудника  \\\n",
              "0  2023-09-26 10:06:23.403699    79584153294      74959339902   \n",
              "1  2023-09-21 18:54:50.120569    79951538090          0188880   \n",
              "2  2023-09-27 16:10:52.316459    79853697070          0188880   \n",
              "3  2023-09-25 09:12:02.428401    79858141531      74959339902   \n",
              "4  2023-09-28 11:08:32.052586    79851881681      74959339902   \n",
              "\n",
              "  Идентификатор сессии звонка  \\\n",
              "0                  3252459256   \n",
              "1                  3235156678   \n",
              "2                  3253840089   \n",
              "3                  3249639806   \n",
              "4                  3262172387   \n",
              "\n",
              "                                                                       Файл записи звонка  \n",
              "0  2023-09-26_10-06-23.403699_from_79584153294_to_74959339902_session_3252459256_talk.mp3  \n",
              "1      2023-09-21_18-54-50.120569_from_79951538090_to_0188880_session_3235156678_talk.mp3  \n",
              "2      2023-09-27_16-10-52.316459_from_79853697070_to_0188880_session_3253840089_talk.mp3  \n",
              "3  2023-09-25_09-12-02.428401_from_79858141531_to_74959339902_session_3249639806_talk.mp3  \n",
              "4  2023-09-28_11-08-32.052586_from_79851881681_to_74959339902_session_3262172387_talk.mp3  "
            ],
            "text/html": [
              "\n",
              "  <div id=\"df-2a73e807-b1d9-4dde-aebd-2d6480653f9c\" class=\"colab-df-container\">\n",
              "    <div>\n",
              "<style scoped>\n",
              "    .dataframe tbody tr th:only-of-type {\n",
              "        vertical-align: middle;\n",
              "    }\n",
              "\n",
              "    .dataframe tbody tr th {\n",
              "        vertical-align: top;\n",
              "    }\n",
              "\n",
              "    .dataframe thead th {\n",
              "        text-align: right;\n",
              "    }\n",
              "</style>\n",
              "<table border=\"1\" class=\"dataframe\">\n",
              "  <thead>\n",
              "    <tr style=\"text-align: right;\">\n",
              "      <th></th>\n",
              "      <th>Дата и время</th>\n",
              "      <th>Номер абонента</th>\n",
              "      <th>Номер сотрудника</th>\n",
              "      <th>Идентификатор сессии звонка</th>\n",
              "      <th>Файл записи звонка</th>\n",
              "    </tr>\n",
              "  </thead>\n",
              "  <tbody>\n",
              "    <tr>\n",
              "      <th>0</th>\n",
              "      <td>2023-09-26 10:06:23.403699</td>\n",
              "      <td>79584153294</td>\n",
              "      <td>74959339902</td>\n",
              "      <td>3252459256</td>\n",
              "      <td>2023-09-26_10-06-23.403699_from_79584153294_to_74959339902_session_3252459256_talk.mp3</td>\n",
              "    </tr>\n",
              "    <tr>\n",
              "      <th>1</th>\n",
              "      <td>2023-09-21 18:54:50.120569</td>\n",
              "      <td>79951538090</td>\n",
              "      <td>0188880</td>\n",
              "      <td>3235156678</td>\n",
              "      <td>2023-09-21_18-54-50.120569_from_79951538090_to_0188880_session_3235156678_talk.mp3</td>\n",
              "    </tr>\n",
              "    <tr>\n",
              "      <th>2</th>\n",
              "      <td>2023-09-27 16:10:52.316459</td>\n",
              "      <td>79853697070</td>\n",
              "      <td>0188880</td>\n",
              "      <td>3253840089</td>\n",
              "      <td>2023-09-27_16-10-52.316459_from_79853697070_to_0188880_session_3253840089_talk.mp3</td>\n",
              "    </tr>\n",
              "    <tr>\n",
              "      <th>3</th>\n",
              "      <td>2023-09-25 09:12:02.428401</td>\n",
              "      <td>79858141531</td>\n",
              "      <td>74959339902</td>\n",
              "      <td>3249639806</td>\n",
              "      <td>2023-09-25_09-12-02.428401_from_79858141531_to_74959339902_session_3249639806_talk.mp3</td>\n",
              "    </tr>\n",
              "    <tr>\n",
              "      <th>4</th>\n",
              "      <td>2023-09-28 11:08:32.052586</td>\n",
              "      <td>79851881681</td>\n",
              "      <td>74959339902</td>\n",
              "      <td>3262172387</td>\n",
              "      <td>2023-09-28_11-08-32.052586_from_79851881681_to_74959339902_session_3262172387_talk.mp3</td>\n",
              "    </tr>\n",
              "  </tbody>\n",
              "</table>\n",
              "</div>\n",
              "    <div class=\"colab-df-buttons\">\n",
              "\n",
              "  <div class=\"colab-df-container\">\n",
              "    <button class=\"colab-df-convert\" onclick=\"convertToInteractive('df-2a73e807-b1d9-4dde-aebd-2d6480653f9c')\"\n",
              "            title=\"Convert this dataframe to an interactive table.\"\n",
              "            style=\"display:none;\">\n",
              "\n",
              "  <svg xmlns=\"http://www.w3.org/2000/svg\" height=\"24px\" viewBox=\"0 -960 960 960\">\n",
              "    <path d=\"M120-120v-720h720v720H120Zm60-500h600v-160H180v160Zm220 220h160v-160H400v160Zm0 220h160v-160H400v160ZM180-400h160v-160H180v160Zm440 0h160v-160H620v160ZM180-180h160v-160H180v160Zm440 0h160v-160H620v160Z\"/>\n",
              "  </svg>\n",
              "    </button>\n",
              "\n",
              "  <style>\n",
              "    .colab-df-container {\n",
              "      display:flex;\n",
              "      gap: 12px;\n",
              "    }\n",
              "\n",
              "    .colab-df-convert {\n",
              "      background-color: #E8F0FE;\n",
              "      border: none;\n",
              "      border-radius: 50%;\n",
              "      cursor: pointer;\n",
              "      display: none;\n",
              "      fill: #1967D2;\n",
              "      height: 32px;\n",
              "      padding: 0 0 0 0;\n",
              "      width: 32px;\n",
              "    }\n",
              "\n",
              "    .colab-df-convert:hover {\n",
              "      background-color: #E2EBFA;\n",
              "      box-shadow: 0px 1px 2px rgba(60, 64, 67, 0.3), 0px 1px 3px 1px rgba(60, 64, 67, 0.15);\n",
              "      fill: #174EA6;\n",
              "    }\n",
              "\n",
              "    .colab-df-buttons div {\n",
              "      margin-bottom: 4px;\n",
              "    }\n",
              "\n",
              "    [theme=dark] .colab-df-convert {\n",
              "      background-color: #3B4455;\n",
              "      fill: #D2E3FC;\n",
              "    }\n",
              "\n",
              "    [theme=dark] .colab-df-convert:hover {\n",
              "      background-color: #434B5C;\n",
              "      box-shadow: 0px 1px 3px 1px rgba(0, 0, 0, 0.15);\n",
              "      filter: drop-shadow(0px 1px 2px rgba(0, 0, 0, 0.3));\n",
              "      fill: #FFFFFF;\n",
              "    }\n",
              "  </style>\n",
              "\n",
              "    <script>\n",
              "      const buttonEl =\n",
              "        document.querySelector('#df-2a73e807-b1d9-4dde-aebd-2d6480653f9c button.colab-df-convert');\n",
              "      buttonEl.style.display =\n",
              "        google.colab.kernel.accessAllowed ? 'block' : 'none';\n",
              "\n",
              "      async function convertToInteractive(key) {\n",
              "        const element = document.querySelector('#df-2a73e807-b1d9-4dde-aebd-2d6480653f9c');\n",
              "        const dataTable =\n",
              "          await google.colab.kernel.invokeFunction('convertToInteractive',\n",
              "                                                    [key], {});\n",
              "        if (!dataTable) return;\n",
              "\n",
              "        const docLinkHtml = 'Like what you see? Visit the ' +\n",
              "          '<a target=\"_blank\" href=https://colab.research.google.com/notebooks/data_table.ipynb>data table notebook</a>'\n",
              "          + ' to learn more about interactive tables.';\n",
              "        element.innerHTML = '';\n",
              "        dataTable['output_type'] = 'display_data';\n",
              "        await google.colab.output.renderOutput(dataTable, element);\n",
              "        const docLink = document.createElement('div');\n",
              "        docLink.innerHTML = docLinkHtml;\n",
              "        element.appendChild(docLink);\n",
              "      }\n",
              "    </script>\n",
              "  </div>\n",
              "\n",
              "\n",
              "<div id=\"df-dd0b0bb6-329c-47ad-8a4f-bf9c753c2c19\">\n",
              "  <button class=\"colab-df-quickchart\" onclick=\"quickchart('df-dd0b0bb6-329c-47ad-8a4f-bf9c753c2c19')\"\n",
              "            title=\"Suggest charts.\"\n",
              "            style=\"display:none;\">\n",
              "\n",
              "<svg xmlns=\"http://www.w3.org/2000/svg\" height=\"24px\"viewBox=\"0 0 24 24\"\n",
              "     width=\"24px\">\n",
              "    <g>\n",
              "        <path d=\"M19 3H5c-1.1 0-2 .9-2 2v14c0 1.1.9 2 2 2h14c1.1 0 2-.9 2-2V5c0-1.1-.9-2-2-2zM9 17H7v-7h2v7zm4 0h-2V7h2v10zm4 0h-2v-4h2v4z\"/>\n",
              "    </g>\n",
              "</svg>\n",
              "  </button>\n",
              "\n",
              "<style>\n",
              "  .colab-df-quickchart {\n",
              "      --bg-color: #E8F0FE;\n",
              "      --fill-color: #1967D2;\n",
              "      --hover-bg-color: #E2EBFA;\n",
              "      --hover-fill-color: #174EA6;\n",
              "      --disabled-fill-color: #AAA;\n",
              "      --disabled-bg-color: #DDD;\n",
              "  }\n",
              "\n",
              "  [theme=dark] .colab-df-quickchart {\n",
              "      --bg-color: #3B4455;\n",
              "      --fill-color: #D2E3FC;\n",
              "      --hover-bg-color: #434B5C;\n",
              "      --hover-fill-color: #FFFFFF;\n",
              "      --disabled-bg-color: #3B4455;\n",
              "      --disabled-fill-color: #666;\n",
              "  }\n",
              "\n",
              "  .colab-df-quickchart {\n",
              "    background-color: var(--bg-color);\n",
              "    border: none;\n",
              "    border-radius: 50%;\n",
              "    cursor: pointer;\n",
              "    display: none;\n",
              "    fill: var(--fill-color);\n",
              "    height: 32px;\n",
              "    padding: 0;\n",
              "    width: 32px;\n",
              "  }\n",
              "\n",
              "  .colab-df-quickchart:hover {\n",
              "    background-color: var(--hover-bg-color);\n",
              "    box-shadow: 0 1px 2px rgba(60, 64, 67, 0.3), 0 1px 3px 1px rgba(60, 64, 67, 0.15);\n",
              "    fill: var(--button-hover-fill-color);\n",
              "  }\n",
              "\n",
              "  .colab-df-quickchart-complete:disabled,\n",
              "  .colab-df-quickchart-complete:disabled:hover {\n",
              "    background-color: var(--disabled-bg-color);\n",
              "    fill: var(--disabled-fill-color);\n",
              "    box-shadow: none;\n",
              "  }\n",
              "\n",
              "  .colab-df-spinner {\n",
              "    border: 2px solid var(--fill-color);\n",
              "    border-color: transparent;\n",
              "    border-bottom-color: var(--fill-color);\n",
              "    animation:\n",
              "      spin 1s steps(1) infinite;\n",
              "  }\n",
              "\n",
              "  @keyframes spin {\n",
              "    0% {\n",
              "      border-color: transparent;\n",
              "      border-bottom-color: var(--fill-color);\n",
              "      border-left-color: var(--fill-color);\n",
              "    }\n",
              "    20% {\n",
              "      border-color: transparent;\n",
              "      border-left-color: var(--fill-color);\n",
              "      border-top-color: var(--fill-color);\n",
              "    }\n",
              "    30% {\n",
              "      border-color: transparent;\n",
              "      border-left-color: var(--fill-color);\n",
              "      border-top-color: var(--fill-color);\n",
              "      border-right-color: var(--fill-color);\n",
              "    }\n",
              "    40% {\n",
              "      border-color: transparent;\n",
              "      border-right-color: var(--fill-color);\n",
              "      border-top-color: var(--fill-color);\n",
              "    }\n",
              "    60% {\n",
              "      border-color: transparent;\n",
              "      border-right-color: var(--fill-color);\n",
              "    }\n",
              "    80% {\n",
              "      border-color: transparent;\n",
              "      border-right-color: var(--fill-color);\n",
              "      border-bottom-color: var(--fill-color);\n",
              "    }\n",
              "    90% {\n",
              "      border-color: transparent;\n",
              "      border-bottom-color: var(--fill-color);\n",
              "    }\n",
              "  }\n",
              "</style>\n",
              "\n",
              "  <script>\n",
              "    async function quickchart(key) {\n",
              "      const quickchartButtonEl =\n",
              "        document.querySelector('#' + key + ' button');\n",
              "      quickchartButtonEl.disabled = true;  // To prevent multiple clicks.\n",
              "      quickchartButtonEl.classList.add('colab-df-spinner');\n",
              "      try {\n",
              "        const charts = await google.colab.kernel.invokeFunction(\n",
              "            'suggestCharts', [key], {});\n",
              "      } catch (error) {\n",
              "        console.error('Error during call to suggestCharts:', error);\n",
              "      }\n",
              "      quickchartButtonEl.classList.remove('colab-df-spinner');\n",
              "      quickchartButtonEl.classList.add('colab-df-quickchart-complete');\n",
              "    }\n",
              "    (() => {\n",
              "      let quickchartButtonEl =\n",
              "        document.querySelector('#df-dd0b0bb6-329c-47ad-8a4f-bf9c753c2c19 button');\n",
              "      quickchartButtonEl.style.display =\n",
              "        google.colab.kernel.accessAllowed ? 'block' : 'none';\n",
              "    })();\n",
              "  </script>\n",
              "</div>\n",
              "    </div>\n",
              "  </div>\n"
            ]
          },
          "metadata": {},
          "execution_count": 107
        }
      ]
    },
    {
      "cell_type": "code",
      "source": [
        "# Проверяем количество строк\n",
        "print(len(os.listdir(Headliner_new_path)))\n",
        "print(Headliner_calls_df.shape[0])"
      ],
      "metadata": {
        "colab": {
          "base_uri": "https://localhost:8080/"
        },
        "id": "Pm29J8T7a21W",
        "outputId": "4e2879bb-4dbc-474a-e1b6-8b4d2897464f"
      },
      "execution_count": null,
      "outputs": [
        {
          "output_type": "stream",
          "name": "stdout",
          "text": [
            "1226\n",
            "1226\n"
          ]
        }
      ]
    },
    {
      "cell_type": "code",
      "source": [
        "print(Headliner_calls_df.count())"
      ],
      "metadata": {
        "colab": {
          "base_uri": "https://localhost:8080/"
        },
        "id": "RShEHuj_fS0H",
        "outputId": "10f470f6-0c22-4354-f38d-4e31a85f6a20"
      },
      "execution_count": null,
      "outputs": [
        {
          "output_type": "stream",
          "name": "stdout",
          "text": [
            "Дата и время                   1226\n",
            "Номер абонента                 1226\n",
            "Номер сотрудника               1226\n",
            "Идентификатор сессии звонка    1226\n",
            "Файл записи звонка             1226\n",
            "dtype: int64\n"
          ]
        }
      ]
    },
    {
      "cell_type": "code",
      "source": [
        "# Количество уникальных значений столбца 'Идентификатор сессии звонка'\n",
        "Headliner_calls_df['Идентификатор сессии звонка'].nunique()"
      ],
      "metadata": {
        "colab": {
          "base_uri": "https://localhost:8080/"
        },
        "id": "9OI0JKfDEwsu",
        "outputId": "301a3f46-c8bc-48c6-8bfd-c4e1342c2750"
      },
      "execution_count": null,
      "outputs": [
        {
          "output_type": "execute_result",
          "data": {
            "text/plain": [
              "1226"
            ]
          },
          "metadata": {},
          "execution_count": 110
        }
      ]
    },
    {
      "cell_type": "markdown",
      "source": [
        "#### Предобработка"
      ],
      "metadata": {
        "id": "tA_IYXhlbdgV"
      }
    },
    {
      "cell_type": "markdown",
      "source": [
        "##### 0. Дата и время"
      ],
      "metadata": {
        "id": "XZOF7ZdTcuQO"
      }
    },
    {
      "cell_type": "code",
      "source": [
        "Headliner_calls_df['Дата и время'].head()"
      ],
      "metadata": {
        "colab": {
          "base_uri": "https://localhost:8080/"
        },
        "id": "p1Z7W8Aec04M",
        "outputId": "d56abb68-9b1b-476f-e8fd-0b398b56473d"
      },
      "execution_count": null,
      "outputs": [
        {
          "output_type": "execute_result",
          "data": {
            "text/plain": [
              "0    2023-09-26 10:06:23.403699\n",
              "1    2023-09-21 18:54:50.120569\n",
              "2    2023-09-27 16:10:52.316459\n",
              "3    2023-09-25 09:12:02.428401\n",
              "4    2023-09-28 11:08:32.052586\n",
              "Name: Дата и время, dtype: object"
            ]
          },
          "metadata": {},
          "execution_count": 111
        }
      ]
    },
    {
      "cell_type": "code",
      "source": [
        "# Приводим тип данных столбца 'Дата и время'\n",
        "Headliner_calls_df['Дата и время'] = pd.to_datetime(Headliner_calls_df['Дата и время'])"
      ],
      "metadata": {
        "id": "dGOVx6Jtfhai"
      },
      "execution_count": null,
      "outputs": []
    },
    {
      "cell_type": "code",
      "source": [
        "Headliner_calls_df['Дата и время'].tail()"
      ],
      "metadata": {
        "colab": {
          "base_uri": "https://localhost:8080/"
        },
        "id": "pjc2s3QQgRLq",
        "outputId": "6c513a80-611a-445e-b572-c2d90962ef91"
      },
      "execution_count": null,
      "outputs": [
        {
          "output_type": "execute_result",
          "data": {
            "text/plain": [
              "1221   2023-09-25 20:22:45.880054\n",
              "1222   2023-09-27 15:04:39.742280\n",
              "1223   2023-09-26 15:17:11.305534\n",
              "1224   2023-09-26 11:33:50.933882\n",
              "1225   2023-09-23 11:18:02.353443\n",
              "Name: Дата и время, dtype: datetime64[ns]"
            ]
          },
          "metadata": {},
          "execution_count": 113
        }
      ]
    },
    {
      "cell_type": "markdown",
      "source": [
        "##### 1. Номер абонента"
      ],
      "metadata": {
        "id": "7_Aw_h0SdDu4"
      }
    },
    {
      "cell_type": "code",
      "source": [
        "Headliner_calls_df['Номер абонента'].head()"
      ],
      "metadata": {
        "colab": {
          "base_uri": "https://localhost:8080/"
        },
        "id": "9rsaVDgCdI-V",
        "outputId": "24d74a27-c8c9-49ab-d28d-02edc9b795f9"
      },
      "execution_count": null,
      "outputs": [
        {
          "output_type": "execute_result",
          "data": {
            "text/plain": [
              "0    79584153294\n",
              "1    79951538090\n",
              "2    79853697070\n",
              "3    79858141531\n",
              "4    79851881681\n",
              "Name: Номер абонента, dtype: object"
            ]
          },
          "metadata": {},
          "execution_count": 114
        }
      ]
    },
    {
      "cell_type": "code",
      "source": [
        "# Приводим тип данных столбца 'Номер абонента'\n",
        "Headliner_calls_df = Headliner_calls_df.astype({'Номер абонента': int})"
      ],
      "metadata": {
        "id": "-AiVrQEJhlpd"
      },
      "execution_count": null,
      "outputs": []
    },
    {
      "cell_type": "code",
      "source": [
        "Headliner_calls_df['Номер абонента'].tail()"
      ],
      "metadata": {
        "colab": {
          "base_uri": "https://localhost:8080/"
        },
        "id": "x3UmN5sXirAW",
        "outputId": "8db2380d-81f3-4874-cf67-343dbb54b034"
      },
      "execution_count": null,
      "outputs": [
        {
          "output_type": "execute_result",
          "data": {
            "text/plain": [
              "1221    79039077310\n",
              "1222    79964425592\n",
              "1223    79199453103\n",
              "1224    79264649878\n",
              "1225    79224128180\n",
              "Name: Номер абонента, dtype: int64"
            ]
          },
          "metadata": {},
          "execution_count": 116
        }
      ]
    },
    {
      "cell_type": "markdown",
      "source": [
        "##### 2. Номер сотрудника"
      ],
      "metadata": {
        "id": "eDI3Uf2odbo3"
      }
    },
    {
      "cell_type": "code",
      "source": [
        "Headliner_calls_df['Номер сотрудника'].head()"
      ],
      "metadata": {
        "colab": {
          "base_uri": "https://localhost:8080/"
        },
        "id": "CXrJMqa2dgsi",
        "outputId": "653e3ef9-e44c-488d-9176-5161da8a96b6"
      },
      "execution_count": null,
      "outputs": [
        {
          "output_type": "execute_result",
          "data": {
            "text/plain": [
              "0    74959339902\n",
              "1        0188880\n",
              "2        0188880\n",
              "3    74959339902\n",
              "4    74959339902\n",
              "Name: Номер сотрудника, dtype: object"
            ]
          },
          "metadata": {},
          "execution_count": 117
        }
      ]
    },
    {
      "cell_type": "code",
      "source": [
        "# Приводим тип данных столбца 'Номер сотрудника'\n",
        "Headliner_calls_df = Headliner_calls_df.astype({'Номер сотрудника': int})"
      ],
      "metadata": {
        "id": "pQsnqUh5hiDF"
      },
      "execution_count": null,
      "outputs": []
    },
    {
      "cell_type": "code",
      "source": [
        "Headliner_calls_df['Номер сотрудника'].tail()"
      ],
      "metadata": {
        "colab": {
          "base_uri": "https://localhost:8080/"
        },
        "id": "aT4FPvvumzFY",
        "outputId": "6bea856c-d989-4552-9dbc-2de2a20fc2b4"
      },
      "execution_count": null,
      "outputs": [
        {
          "output_type": "execute_result",
          "data": {
            "text/plain": [
              "1221    74959339902\n",
              "1222    74959339902\n",
              "1223         188880\n",
              "1224    74959339902\n",
              "1225         188880\n",
              "Name: Номер сотрудника, dtype: int64"
            ]
          },
          "metadata": {},
          "execution_count": 119
        }
      ]
    },
    {
      "cell_type": "markdown",
      "source": [
        "##### 3. Идентификатор сессии звонка"
      ],
      "metadata": {
        "id": "yQPmAfE8dnzm"
      }
    },
    {
      "cell_type": "code",
      "source": [
        "Headliner_calls_df['Идентификатор сессии звонка'].head()"
      ],
      "metadata": {
        "colab": {
          "base_uri": "https://localhost:8080/"
        },
        "id": "AVk3S4mNdsMO",
        "outputId": "3a5c18d8-e226-403a-a6e3-60b2964bb9d7"
      },
      "execution_count": null,
      "outputs": [
        {
          "output_type": "execute_result",
          "data": {
            "text/plain": [
              "0    3252459256\n",
              "1    3235156678\n",
              "2    3253840089\n",
              "3    3249639806\n",
              "4    3262172387\n",
              "Name: Идентификатор сессии звонка, dtype: object"
            ]
          },
          "metadata": {},
          "execution_count": 120
        }
      ]
    },
    {
      "cell_type": "code",
      "source": [
        "# Приводим тип данных столбца 'Идентификатор сессии звонка'\n",
        "Headliner_calls_df = Headliner_calls_df.astype({'Идентификатор сессии звонка': int})"
      ],
      "metadata": {
        "id": "oqfDAMYpnxZw"
      },
      "execution_count": null,
      "outputs": []
    },
    {
      "cell_type": "code",
      "source": [
        "Headliner_calls_df['Идентификатор сессии звонка'].tail()"
      ],
      "metadata": {
        "colab": {
          "base_uri": "https://localhost:8080/"
        },
        "id": "gBHfbOZtn8cN",
        "outputId": "482b89dc-28c8-4cd1-b34e-babb5c895aa1"
      },
      "execution_count": null,
      "outputs": [
        {
          "output_type": "execute_result",
          "data": {
            "text/plain": [
              "1221    3244316548\n",
              "1222    3240209630\n",
              "1223    3246045878\n",
              "1224    3245199518\n",
              "1225    3251344342\n",
              "Name: Идентификатор сессии звонка, dtype: int64"
            ]
          },
          "metadata": {},
          "execution_count": 122
        }
      ]
    },
    {
      "cell_type": "markdown",
      "source": [
        "##### 4. Файл записи звонка"
      ],
      "metadata": {
        "id": "QI0TzB5Gd14a"
      }
    },
    {
      "cell_type": "code",
      "source": [
        "Headliner_calls_df['Файл записи звонка'].head()"
      ],
      "metadata": {
        "colab": {
          "base_uri": "https://localhost:8080/"
        },
        "id": "QlxAbCIwd6H3",
        "outputId": "ad1f6c3f-da90-49b2-ad83-13135ce8dcd6"
      },
      "execution_count": null,
      "outputs": [
        {
          "output_type": "execute_result",
          "data": {
            "text/plain": [
              "0    2023-09-26_10-06-23.403699_from_79584153294_to_74959339902_session_3252459256_talk.mp3\n",
              "1        2023-09-21_18-54-50.120569_from_79951538090_to_0188880_session_3235156678_talk.mp3\n",
              "2        2023-09-27_16-10-52.316459_from_79853697070_to_0188880_session_3253840089_talk.mp3\n",
              "3    2023-09-25_09-12-02.428401_from_79858141531_to_74959339902_session_3249639806_talk.mp3\n",
              "4    2023-09-28_11-08-32.052586_from_79851881681_to_74959339902_session_3262172387_talk.mp3\n",
              "Name: Файл записи звонка, dtype: object"
            ]
          },
          "metadata": {},
          "execution_count": 124
        }
      ]
    },
    {
      "cell_type": "code",
      "source": [
        "# Добавляем к файлам относительные пути\n",
        "Headliner_calls_df['Файл записи звонка'] = Headliner_calls_df['Файл записи звонка'].apply(lambda x: 'Новые записи звонков/Записи Headliner/' + x)"
      ],
      "metadata": {
        "id": "bs7lZ77kuVR9"
      },
      "execution_count": null,
      "outputs": []
    },
    {
      "cell_type": "code",
      "source": [
        "Headliner_calls_df['Файл записи звонка'].tail()"
      ],
      "metadata": {
        "colab": {
          "base_uri": "https://localhost:8080/"
        },
        "id": "uwfYcovQvgPW",
        "outputId": "2bd7f36e-62d6-4458-9255-32f612f807f4"
      },
      "execution_count": null,
      "outputs": [
        {
          "output_type": "execute_result",
          "data": {
            "text/plain": [
              "1221    Новые записи звонков/Записи Headliner/2023-09-25_20-22-45.880054_from_79039077310_to_74959339902_session_3244316548_talk.mp3\n",
              "1222    Новые записи звонков/Записи Headliner/2023-09-27_15-04-39.742280_from_79964425592_to_74959339902_session_3240209630_talk.mp3\n",
              "1223        Новые записи звонков/Записи Headliner/2023-09-26_15-17-11.305534_from_79199453103_to_0188880_session_3246045878_talk.mp3\n",
              "1224    Новые записи звонков/Записи Headliner/2023-09-26_11-33-50.933882_from_79264649878_to_74959339902_session_3245199518_talk.mp3\n",
              "1225        Новые записи звонков/Записи Headliner/2023-09-23_11-18-02.353443_from_79224128180_to_0188880_session_3251344342_talk.mp3\n",
              "Name: Файл записи звонка, dtype: object"
            ]
          },
          "metadata": {},
          "execution_count": 126
        }
      ]
    },
    {
      "cell_type": "markdown",
      "source": [
        "#### Типы данных"
      ],
      "metadata": {
        "id": "85lkDfpfePxc"
      }
    },
    {
      "cell_type": "code",
      "source": [
        "# Смотрим типы данных\n",
        "Headliner_calls_df.dtypes"
      ],
      "metadata": {
        "colab": {
          "base_uri": "https://localhost:8080/"
        },
        "id": "dE6rDOOSeR0E",
        "outputId": "5233c21e-9892-4449-a728-1e0a23a99425"
      },
      "execution_count": null,
      "outputs": [
        {
          "output_type": "execute_result",
          "data": {
            "text/plain": [
              "Дата и время                   datetime64[ns]\n",
              "Номер абонента                          int64\n",
              "Номер сотрудника                        int64\n",
              "Идентификатор сессии звонка             int64\n",
              "Файл записи звонка                     object\n",
              "dtype: object"
            ]
          },
          "metadata": {},
          "execution_count": 127
        }
      ]
    },
    {
      "cell_type": "code",
      "source": [
        "print(Headliner_calls_df.count())"
      ],
      "metadata": {
        "colab": {
          "base_uri": "https://localhost:8080/"
        },
        "id": "O1Ntpf1og047",
        "outputId": "2af09064-b363-4d57-a92f-a7bb831d1c87"
      },
      "execution_count": null,
      "outputs": [
        {
          "output_type": "stream",
          "name": "stdout",
          "text": [
            "Дата и время                   1226\n",
            "Номер абонента                 1226\n",
            "Номер сотрудника               1226\n",
            "Идентификатор сессии звонка    1226\n",
            "Файл записи звонка             1226\n",
            "dtype: int64\n"
          ]
        }
      ]
    },
    {
      "cell_type": "markdown",
      "source": [
        "#### Сохранение датафрейма"
      ],
      "metadata": {
        "id": "auzvw99qv4Cn"
      }
    },
    {
      "cell_type": "code",
      "source": [
        "Headliner_calls_df.index = range(Headliner_calls_df.shape[0])"
      ],
      "metadata": {
        "id": "0EbDpP_3FJDl"
      },
      "execution_count": null,
      "outputs": []
    },
    {
      "cell_type": "code",
      "source": [
        "# Сохраняем Headliner_calls_df в pkl\n",
        "with open(df_path + 'Headliner_new_calls_df.pkl', 'wb') as f:\n",
        "  pkl.dump(Headliner_calls_df, f)"
      ],
      "metadata": {
        "id": "XdF4IlL_v-dp"
      },
      "execution_count": null,
      "outputs": []
    },
    {
      "cell_type": "markdown",
      "source": [
        "### Primavera"
      ],
      "metadata": {
        "id": "KoS6KcIsz7h7"
      }
    },
    {
      "cell_type": "markdown",
      "source": [
        "#### Создание датафрейма"
      ],
      "metadata": {
        "id": "5fEBLpxBz7h_"
      }
    },
    {
      "cell_type": "code",
      "source": [
        "# Создаём датафрейм из списка записей звонков\n",
        "Primavera_calls_df = calls_list_to_df(os.listdir(Primavera_new_path))\n",
        "Primavera_calls_df.shape"
      ],
      "metadata": {
        "colab": {
          "base_uri": "https://localhost:8080/"
        },
        "outputId": "84cc4a94-41f0-41c2-d7d0-b2cba067bead",
        "id": "LtsG7D2_z7h_"
      },
      "execution_count": null,
      "outputs": [
        {
          "output_type": "execute_result",
          "data": {
            "text/plain": [
              "(767, 5)"
            ]
          },
          "metadata": {},
          "execution_count": 131
        }
      ]
    },
    {
      "cell_type": "code",
      "source": [
        "Primavera_calls_df.head()"
      ],
      "metadata": {
        "colab": {
          "base_uri": "https://localhost:8080/",
          "height": 206
        },
        "outputId": "7638519b-0291-4620-e4b6-a3b2e38174c3",
        "id": "K92HwJUvz7iC"
      },
      "execution_count": null,
      "outputs": [
        {
          "output_type": "execute_result",
          "data": {
            "text/plain": [
              "                 Дата и время Номер абонента Номер сотрудника  \\\n",
              "0  2023-09-30 12:19:55.312627    79854305902          0253192   \n",
              "1  2023-10-04 19:40:25.037187    74950210291          0253206   \n",
              "2  2023-10-04 15:52:11.200324    79203810871          0253201   \n",
              "3  2023-10-02 20:00:47.312686    74950210291          0150113   \n",
              "4  2023-10-04 16:50:31.267655    79295237177          0111652   \n",
              "\n",
              "  Идентификатор сессии звонка  \\\n",
              "0                  3263012391   \n",
              "1                  3276780397   \n",
              "2                  3276172302   \n",
              "3                  3271743567   \n",
              "4                  3269469074   \n",
              "\n",
              "                                                                   Файл записи звонка  \n",
              "0  2023-09-30_12-19-55.312627_from_79854305902_to_0253192_session_3263012391_talk.mp3  \n",
              "1  2023-10-04_19-40-25.037187_from_74950210291_to_0253206_session_3276780397_talk.mp3  \n",
              "2  2023-10-04_15-52-11.200324_from_79203810871_to_0253201_session_3276172302_talk.mp3  \n",
              "3  2023-10-02_20-00-47.312686_from_74950210291_to_0150113_session_3271743567_talk.mp3  \n",
              "4  2023-10-04_16-50-31.267655_from_79295237177_to_0111652_session_3269469074_talk.mp3  "
            ],
            "text/html": [
              "\n",
              "  <div id=\"df-26eb019d-11bf-4cac-bd55-0a1c2a79bbf3\" class=\"colab-df-container\">\n",
              "    <div>\n",
              "<style scoped>\n",
              "    .dataframe tbody tr th:only-of-type {\n",
              "        vertical-align: middle;\n",
              "    }\n",
              "\n",
              "    .dataframe tbody tr th {\n",
              "        vertical-align: top;\n",
              "    }\n",
              "\n",
              "    .dataframe thead th {\n",
              "        text-align: right;\n",
              "    }\n",
              "</style>\n",
              "<table border=\"1\" class=\"dataframe\">\n",
              "  <thead>\n",
              "    <tr style=\"text-align: right;\">\n",
              "      <th></th>\n",
              "      <th>Дата и время</th>\n",
              "      <th>Номер абонента</th>\n",
              "      <th>Номер сотрудника</th>\n",
              "      <th>Идентификатор сессии звонка</th>\n",
              "      <th>Файл записи звонка</th>\n",
              "    </tr>\n",
              "  </thead>\n",
              "  <tbody>\n",
              "    <tr>\n",
              "      <th>0</th>\n",
              "      <td>2023-09-30 12:19:55.312627</td>\n",
              "      <td>79854305902</td>\n",
              "      <td>0253192</td>\n",
              "      <td>3263012391</td>\n",
              "      <td>2023-09-30_12-19-55.312627_from_79854305902_to_0253192_session_3263012391_talk.mp3</td>\n",
              "    </tr>\n",
              "    <tr>\n",
              "      <th>1</th>\n",
              "      <td>2023-10-04 19:40:25.037187</td>\n",
              "      <td>74950210291</td>\n",
              "      <td>0253206</td>\n",
              "      <td>3276780397</td>\n",
              "      <td>2023-10-04_19-40-25.037187_from_74950210291_to_0253206_session_3276780397_talk.mp3</td>\n",
              "    </tr>\n",
              "    <tr>\n",
              "      <th>2</th>\n",
              "      <td>2023-10-04 15:52:11.200324</td>\n",
              "      <td>79203810871</td>\n",
              "      <td>0253201</td>\n",
              "      <td>3276172302</td>\n",
              "      <td>2023-10-04_15-52-11.200324_from_79203810871_to_0253201_session_3276172302_talk.mp3</td>\n",
              "    </tr>\n",
              "    <tr>\n",
              "      <th>3</th>\n",
              "      <td>2023-10-02 20:00:47.312686</td>\n",
              "      <td>74950210291</td>\n",
              "      <td>0150113</td>\n",
              "      <td>3271743567</td>\n",
              "      <td>2023-10-02_20-00-47.312686_from_74950210291_to_0150113_session_3271743567_talk.mp3</td>\n",
              "    </tr>\n",
              "    <tr>\n",
              "      <th>4</th>\n",
              "      <td>2023-10-04 16:50:31.267655</td>\n",
              "      <td>79295237177</td>\n",
              "      <td>0111652</td>\n",
              "      <td>3269469074</td>\n",
              "      <td>2023-10-04_16-50-31.267655_from_79295237177_to_0111652_session_3269469074_talk.mp3</td>\n",
              "    </tr>\n",
              "  </tbody>\n",
              "</table>\n",
              "</div>\n",
              "    <div class=\"colab-df-buttons\">\n",
              "\n",
              "  <div class=\"colab-df-container\">\n",
              "    <button class=\"colab-df-convert\" onclick=\"convertToInteractive('df-26eb019d-11bf-4cac-bd55-0a1c2a79bbf3')\"\n",
              "            title=\"Convert this dataframe to an interactive table.\"\n",
              "            style=\"display:none;\">\n",
              "\n",
              "  <svg xmlns=\"http://www.w3.org/2000/svg\" height=\"24px\" viewBox=\"0 -960 960 960\">\n",
              "    <path d=\"M120-120v-720h720v720H120Zm60-500h600v-160H180v160Zm220 220h160v-160H400v160Zm0 220h160v-160H400v160ZM180-400h160v-160H180v160Zm440 0h160v-160H620v160ZM180-180h160v-160H180v160Zm440 0h160v-160H620v160Z\"/>\n",
              "  </svg>\n",
              "    </button>\n",
              "\n",
              "  <style>\n",
              "    .colab-df-container {\n",
              "      display:flex;\n",
              "      gap: 12px;\n",
              "    }\n",
              "\n",
              "    .colab-df-convert {\n",
              "      background-color: #E8F0FE;\n",
              "      border: none;\n",
              "      border-radius: 50%;\n",
              "      cursor: pointer;\n",
              "      display: none;\n",
              "      fill: #1967D2;\n",
              "      height: 32px;\n",
              "      padding: 0 0 0 0;\n",
              "      width: 32px;\n",
              "    }\n",
              "\n",
              "    .colab-df-convert:hover {\n",
              "      background-color: #E2EBFA;\n",
              "      box-shadow: 0px 1px 2px rgba(60, 64, 67, 0.3), 0px 1px 3px 1px rgba(60, 64, 67, 0.15);\n",
              "      fill: #174EA6;\n",
              "    }\n",
              "\n",
              "    .colab-df-buttons div {\n",
              "      margin-bottom: 4px;\n",
              "    }\n",
              "\n",
              "    [theme=dark] .colab-df-convert {\n",
              "      background-color: #3B4455;\n",
              "      fill: #D2E3FC;\n",
              "    }\n",
              "\n",
              "    [theme=dark] .colab-df-convert:hover {\n",
              "      background-color: #434B5C;\n",
              "      box-shadow: 0px 1px 3px 1px rgba(0, 0, 0, 0.15);\n",
              "      filter: drop-shadow(0px 1px 2px rgba(0, 0, 0, 0.3));\n",
              "      fill: #FFFFFF;\n",
              "    }\n",
              "  </style>\n",
              "\n",
              "    <script>\n",
              "      const buttonEl =\n",
              "        document.querySelector('#df-26eb019d-11bf-4cac-bd55-0a1c2a79bbf3 button.colab-df-convert');\n",
              "      buttonEl.style.display =\n",
              "        google.colab.kernel.accessAllowed ? 'block' : 'none';\n",
              "\n",
              "      async function convertToInteractive(key) {\n",
              "        const element = document.querySelector('#df-26eb019d-11bf-4cac-bd55-0a1c2a79bbf3');\n",
              "        const dataTable =\n",
              "          await google.colab.kernel.invokeFunction('convertToInteractive',\n",
              "                                                    [key], {});\n",
              "        if (!dataTable) return;\n",
              "\n",
              "        const docLinkHtml = 'Like what you see? Visit the ' +\n",
              "          '<a target=\"_blank\" href=https://colab.research.google.com/notebooks/data_table.ipynb>data table notebook</a>'\n",
              "          + ' to learn more about interactive tables.';\n",
              "        element.innerHTML = '';\n",
              "        dataTable['output_type'] = 'display_data';\n",
              "        await google.colab.output.renderOutput(dataTable, element);\n",
              "        const docLink = document.createElement('div');\n",
              "        docLink.innerHTML = docLinkHtml;\n",
              "        element.appendChild(docLink);\n",
              "      }\n",
              "    </script>\n",
              "  </div>\n",
              "\n",
              "\n",
              "<div id=\"df-ba747faf-bf37-48fa-8f47-a05a17d23fed\">\n",
              "  <button class=\"colab-df-quickchart\" onclick=\"quickchart('df-ba747faf-bf37-48fa-8f47-a05a17d23fed')\"\n",
              "            title=\"Suggest charts.\"\n",
              "            style=\"display:none;\">\n",
              "\n",
              "<svg xmlns=\"http://www.w3.org/2000/svg\" height=\"24px\"viewBox=\"0 0 24 24\"\n",
              "     width=\"24px\">\n",
              "    <g>\n",
              "        <path d=\"M19 3H5c-1.1 0-2 .9-2 2v14c0 1.1.9 2 2 2h14c1.1 0 2-.9 2-2V5c0-1.1-.9-2-2-2zM9 17H7v-7h2v7zm4 0h-2V7h2v10zm4 0h-2v-4h2v4z\"/>\n",
              "    </g>\n",
              "</svg>\n",
              "  </button>\n",
              "\n",
              "<style>\n",
              "  .colab-df-quickchart {\n",
              "      --bg-color: #E8F0FE;\n",
              "      --fill-color: #1967D2;\n",
              "      --hover-bg-color: #E2EBFA;\n",
              "      --hover-fill-color: #174EA6;\n",
              "      --disabled-fill-color: #AAA;\n",
              "      --disabled-bg-color: #DDD;\n",
              "  }\n",
              "\n",
              "  [theme=dark] .colab-df-quickchart {\n",
              "      --bg-color: #3B4455;\n",
              "      --fill-color: #D2E3FC;\n",
              "      --hover-bg-color: #434B5C;\n",
              "      --hover-fill-color: #FFFFFF;\n",
              "      --disabled-bg-color: #3B4455;\n",
              "      --disabled-fill-color: #666;\n",
              "  }\n",
              "\n",
              "  .colab-df-quickchart {\n",
              "    background-color: var(--bg-color);\n",
              "    border: none;\n",
              "    border-radius: 50%;\n",
              "    cursor: pointer;\n",
              "    display: none;\n",
              "    fill: var(--fill-color);\n",
              "    height: 32px;\n",
              "    padding: 0;\n",
              "    width: 32px;\n",
              "  }\n",
              "\n",
              "  .colab-df-quickchart:hover {\n",
              "    background-color: var(--hover-bg-color);\n",
              "    box-shadow: 0 1px 2px rgba(60, 64, 67, 0.3), 0 1px 3px 1px rgba(60, 64, 67, 0.15);\n",
              "    fill: var(--button-hover-fill-color);\n",
              "  }\n",
              "\n",
              "  .colab-df-quickchart-complete:disabled,\n",
              "  .colab-df-quickchart-complete:disabled:hover {\n",
              "    background-color: var(--disabled-bg-color);\n",
              "    fill: var(--disabled-fill-color);\n",
              "    box-shadow: none;\n",
              "  }\n",
              "\n",
              "  .colab-df-spinner {\n",
              "    border: 2px solid var(--fill-color);\n",
              "    border-color: transparent;\n",
              "    border-bottom-color: var(--fill-color);\n",
              "    animation:\n",
              "      spin 1s steps(1) infinite;\n",
              "  }\n",
              "\n",
              "  @keyframes spin {\n",
              "    0% {\n",
              "      border-color: transparent;\n",
              "      border-bottom-color: var(--fill-color);\n",
              "      border-left-color: var(--fill-color);\n",
              "    }\n",
              "    20% {\n",
              "      border-color: transparent;\n",
              "      border-left-color: var(--fill-color);\n",
              "      border-top-color: var(--fill-color);\n",
              "    }\n",
              "    30% {\n",
              "      border-color: transparent;\n",
              "      border-left-color: var(--fill-color);\n",
              "      border-top-color: var(--fill-color);\n",
              "      border-right-color: var(--fill-color);\n",
              "    }\n",
              "    40% {\n",
              "      border-color: transparent;\n",
              "      border-right-color: var(--fill-color);\n",
              "      border-top-color: var(--fill-color);\n",
              "    }\n",
              "    60% {\n",
              "      border-color: transparent;\n",
              "      border-right-color: var(--fill-color);\n",
              "    }\n",
              "    80% {\n",
              "      border-color: transparent;\n",
              "      border-right-color: var(--fill-color);\n",
              "      border-bottom-color: var(--fill-color);\n",
              "    }\n",
              "    90% {\n",
              "      border-color: transparent;\n",
              "      border-bottom-color: var(--fill-color);\n",
              "    }\n",
              "  }\n",
              "</style>\n",
              "\n",
              "  <script>\n",
              "    async function quickchart(key) {\n",
              "      const quickchartButtonEl =\n",
              "        document.querySelector('#' + key + ' button');\n",
              "      quickchartButtonEl.disabled = true;  // To prevent multiple clicks.\n",
              "      quickchartButtonEl.classList.add('colab-df-spinner');\n",
              "      try {\n",
              "        const charts = await google.colab.kernel.invokeFunction(\n",
              "            'suggestCharts', [key], {});\n",
              "      } catch (error) {\n",
              "        console.error('Error during call to suggestCharts:', error);\n",
              "      }\n",
              "      quickchartButtonEl.classList.remove('colab-df-spinner');\n",
              "      quickchartButtonEl.classList.add('colab-df-quickchart-complete');\n",
              "    }\n",
              "    (() => {\n",
              "      let quickchartButtonEl =\n",
              "        document.querySelector('#df-ba747faf-bf37-48fa-8f47-a05a17d23fed button');\n",
              "      quickchartButtonEl.style.display =\n",
              "        google.colab.kernel.accessAllowed ? 'block' : 'none';\n",
              "    })();\n",
              "  </script>\n",
              "</div>\n",
              "    </div>\n",
              "  </div>\n"
            ]
          },
          "metadata": {},
          "execution_count": 132
        }
      ]
    },
    {
      "cell_type": "code",
      "source": [
        "# Проверяем количество строк\n",
        "print(len(os.listdir(Primavera_new_path)))\n",
        "print(Primavera_calls_df.shape[0])"
      ],
      "metadata": {
        "colab": {
          "base_uri": "https://localhost:8080/"
        },
        "outputId": "dd18a686-b905-4f1e-aef5-5b1e6b597e7e",
        "id": "lFni7wGfz7iD"
      },
      "execution_count": null,
      "outputs": [
        {
          "output_type": "stream",
          "name": "stdout",
          "text": [
            "767\n",
            "767\n"
          ]
        }
      ]
    },
    {
      "cell_type": "code",
      "source": [
        "print(Primavera_calls_df.count())"
      ],
      "metadata": {
        "colab": {
          "base_uri": "https://localhost:8080/"
        },
        "outputId": "81f1ae34-1974-4252-9c5a-53502017aada",
        "id": "2n05o_2_z7iS"
      },
      "execution_count": null,
      "outputs": [
        {
          "output_type": "stream",
          "name": "stdout",
          "text": [
            "Дата и время                   767\n",
            "Номер абонента                 767\n",
            "Номер сотрудника               767\n",
            "Идентификатор сессии звонка    767\n",
            "Файл записи звонка             767\n",
            "dtype: int64\n"
          ]
        }
      ]
    },
    {
      "cell_type": "code",
      "source": [
        "# Количество уникальных значений столбца 'Идентификатор сессии звонка'\n",
        "Primavera_calls_df['Идентификатор сессии звонка'].nunique()"
      ],
      "metadata": {
        "colab": {
          "base_uri": "https://localhost:8080/"
        },
        "id": "bYRnb_jXF34d",
        "outputId": "aa33d0c8-7a24-452e-c0ca-c6f051590f54"
      },
      "execution_count": null,
      "outputs": [
        {
          "output_type": "execute_result",
          "data": {
            "text/plain": [
              "767"
            ]
          },
          "metadata": {},
          "execution_count": 135
        }
      ]
    },
    {
      "cell_type": "markdown",
      "source": [
        "#### Предобработка"
      ],
      "metadata": {
        "id": "ynajeOFwz7iT"
      }
    },
    {
      "cell_type": "markdown",
      "source": [
        "##### 0. Дата и время"
      ],
      "metadata": {
        "id": "pdDqEujvz7iU"
      }
    },
    {
      "cell_type": "code",
      "source": [
        "Primavera_calls_df['Дата и время'].head()"
      ],
      "metadata": {
        "colab": {
          "base_uri": "https://localhost:8080/"
        },
        "outputId": "35b2d52b-44be-40e9-e80f-0cb8c1940f9f",
        "id": "W37zrnhSz7iV"
      },
      "execution_count": null,
      "outputs": [
        {
          "output_type": "execute_result",
          "data": {
            "text/plain": [
              "0    2023-09-30 12:19:55.312627\n",
              "1    2023-10-04 19:40:25.037187\n",
              "2    2023-10-04 15:52:11.200324\n",
              "3    2023-10-02 20:00:47.312686\n",
              "4    2023-10-04 16:50:31.267655\n",
              "Name: Дата и время, dtype: object"
            ]
          },
          "metadata": {},
          "execution_count": 136
        }
      ]
    },
    {
      "cell_type": "code",
      "source": [
        "# Приводим тип данных столбца 'Дата и время'\n",
        "Primavera_calls_df['Дата и время'] = pd.to_datetime(Primavera_calls_df['Дата и время'])"
      ],
      "metadata": {
        "id": "J4bT0IEKz7iW"
      },
      "execution_count": null,
      "outputs": []
    },
    {
      "cell_type": "code",
      "source": [
        "Primavera_calls_df['Дата и время'].tail()"
      ],
      "metadata": {
        "colab": {
          "base_uri": "https://localhost:8080/"
        },
        "outputId": "c360a661-54d4-4e99-a576-d1d829b2c3bd",
        "id": "Ri5td3UJz7iW"
      },
      "execution_count": null,
      "outputs": [
        {
          "output_type": "execute_result",
          "data": {
            "text/plain": [
              "762   2023-09-03 16:24:54.121808\n",
              "763   2023-09-02 17:12:27.813266\n",
              "764   2023-09-03 15:19:38.712929\n",
              "765   2023-09-02 17:49:06.100800\n",
              "766   2023-09-01 12:35:50.915379\n",
              "Name: Дата и время, dtype: datetime64[ns]"
            ]
          },
          "metadata": {},
          "execution_count": 138
        }
      ]
    },
    {
      "cell_type": "markdown",
      "source": [
        "##### 1. Номер абонента"
      ],
      "metadata": {
        "id": "WyFGsoXCz7iX"
      }
    },
    {
      "cell_type": "code",
      "source": [
        "Primavera_calls_df['Номер абонента'].head()"
      ],
      "metadata": {
        "colab": {
          "base_uri": "https://localhost:8080/"
        },
        "outputId": "d705281f-2a1a-4bdd-93e6-9d3a648a16b1",
        "id": "btFfn98uz7iY"
      },
      "execution_count": null,
      "outputs": [
        {
          "output_type": "execute_result",
          "data": {
            "text/plain": [
              "0    79854305902\n",
              "1    74950210291\n",
              "2    79203810871\n",
              "3    74950210291\n",
              "4    79295237177\n",
              "Name: Номер абонента, dtype: object"
            ]
          },
          "metadata": {},
          "execution_count": 139
        }
      ]
    },
    {
      "cell_type": "code",
      "source": [
        "# Приводим тип данных столбца 'Номер абонента'\n",
        "Primavera_calls_df = Primavera_calls_df.astype({'Номер абонента': int})"
      ],
      "metadata": {
        "id": "n0k3p9_Lz7ia"
      },
      "execution_count": null,
      "outputs": []
    },
    {
      "cell_type": "code",
      "source": [
        "Primavera_calls_df['Номер абонента'].tail()"
      ],
      "metadata": {
        "colab": {
          "base_uri": "https://localhost:8080/"
        },
        "outputId": "194dc12a-338f-4693-c235-2121fdadf176",
        "id": "8k8GkrnZz7ia"
      },
      "execution_count": null,
      "outputs": [
        {
          "output_type": "execute_result",
          "data": {
            "text/plain": [
              "762    74991918588\n",
              "763    79296548451\n",
              "764    79167387714\n",
              "765    74950210291\n",
              "766    79776807507\n",
              "Name: Номер абонента, dtype: int64"
            ]
          },
          "metadata": {},
          "execution_count": 141
        }
      ]
    },
    {
      "cell_type": "markdown",
      "source": [
        "##### 2. Номер сотрудника"
      ],
      "metadata": {
        "id": "4ENc7JlVz7ib"
      }
    },
    {
      "cell_type": "code",
      "source": [
        "Primavera_calls_df['Номер сотрудника'].head()"
      ],
      "metadata": {
        "colab": {
          "base_uri": "https://localhost:8080/"
        },
        "outputId": "07535d6a-3af0-4fdc-a159-2defed4047f6",
        "id": "OHNIdxACz7ib"
      },
      "execution_count": null,
      "outputs": [
        {
          "output_type": "execute_result",
          "data": {
            "text/plain": [
              "0    0253192\n",
              "1    0253206\n",
              "2    0253201\n",
              "3    0150113\n",
              "4    0111652\n",
              "Name: Номер сотрудника, dtype: object"
            ]
          },
          "metadata": {},
          "execution_count": 142
        }
      ]
    },
    {
      "cell_type": "code",
      "source": [
        "# Приводим тип данных столбца 'Номер сотрудника'\n",
        "Primavera_calls_df = Primavera_calls_df.astype({'Номер сотрудника': int})"
      ],
      "metadata": {
        "id": "j4TX2qsiz7in"
      },
      "execution_count": null,
      "outputs": []
    },
    {
      "cell_type": "code",
      "source": [
        "Primavera_calls_df['Номер сотрудника'].tail()"
      ],
      "metadata": {
        "colab": {
          "base_uri": "https://localhost:8080/"
        },
        "outputId": "d26172bc-d1c7-4b99-f28e-5a4995449e5c",
        "id": "8YWbVXO1z7io"
      },
      "execution_count": null,
      "outputs": [
        {
          "output_type": "execute_result",
          "data": {
            "text/plain": [
              "762    150108\n",
              "763    253208\n",
              "764    111642\n",
              "765    111639\n",
              "766    253211\n",
              "Name: Номер сотрудника, dtype: int64"
            ]
          },
          "metadata": {},
          "execution_count": 144
        }
      ]
    },
    {
      "cell_type": "markdown",
      "source": [
        "##### 3. Идентификатор сессии звонка"
      ],
      "metadata": {
        "id": "8JmDNybpz7io"
      }
    },
    {
      "cell_type": "code",
      "source": [
        "Primavera_calls_df['Идентификатор сессии звонка'].head()"
      ],
      "metadata": {
        "colab": {
          "base_uri": "https://localhost:8080/"
        },
        "outputId": "22c77782-1867-46e1-e12a-3e00812cd0e6",
        "id": "uBna5XfIz7iq"
      },
      "execution_count": null,
      "outputs": [
        {
          "output_type": "execute_result",
          "data": {
            "text/plain": [
              "0    3263012391\n",
              "1    3276780397\n",
              "2    3276172302\n",
              "3    3271743567\n",
              "4    3269469074\n",
              "Name: Идентификатор сессии звонка, dtype: object"
            ]
          },
          "metadata": {},
          "execution_count": 145
        }
      ]
    },
    {
      "cell_type": "code",
      "source": [
        "# Приводим тип данных столбца 'Идентификатор сессии звонка'\n",
        "Primavera_calls_df = Primavera_calls_df.astype({'Идентификатор сессии звонка': int})"
      ],
      "metadata": {
        "id": "qBdyq97Lz7iq"
      },
      "execution_count": null,
      "outputs": []
    },
    {
      "cell_type": "code",
      "source": [
        "Primavera_calls_df['Идентификатор сессии звонка'].tail()"
      ],
      "metadata": {
        "colab": {
          "base_uri": "https://localhost:8080/"
        },
        "outputId": "2187e75b-b8b2-4525-bb67-4fdf329fbdf7",
        "id": "VPqDKLRez7ir"
      },
      "execution_count": null,
      "outputs": [
        {
          "output_type": "execute_result",
          "data": {
            "text/plain": [
              "762    3195081143\n",
              "763    3197045974\n",
              "764    3198170594\n",
              "765    3204178922\n",
              "766    3188505725\n",
              "Name: Идентификатор сессии звонка, dtype: int64"
            ]
          },
          "metadata": {},
          "execution_count": 147
        }
      ]
    },
    {
      "cell_type": "markdown",
      "source": [
        "##### 4. Файл записи звонка"
      ],
      "metadata": {
        "id": "JNdtdmR3z7is"
      }
    },
    {
      "cell_type": "code",
      "source": [
        "Primavera_calls_df['Файл записи звонка'].head()"
      ],
      "metadata": {
        "colab": {
          "base_uri": "https://localhost:8080/"
        },
        "outputId": "eb322c9d-e6ab-4a65-d330-367c69f9c693",
        "id": "kWeeaTP0z7is"
      },
      "execution_count": null,
      "outputs": [
        {
          "output_type": "execute_result",
          "data": {
            "text/plain": [
              "0    2023-09-30_12-19-55.312627_from_79854305902_to_0253192_session_3263012391_talk.mp3\n",
              "1    2023-10-04_19-40-25.037187_from_74950210291_to_0253206_session_3276780397_talk.mp3\n",
              "2    2023-10-04_15-52-11.200324_from_79203810871_to_0253201_session_3276172302_talk.mp3\n",
              "3    2023-10-02_20-00-47.312686_from_74950210291_to_0150113_session_3271743567_talk.mp3\n",
              "4    2023-10-04_16-50-31.267655_from_79295237177_to_0111652_session_3269469074_talk.mp3\n",
              "Name: Файл записи звонка, dtype: object"
            ]
          },
          "metadata": {},
          "execution_count": 149
        }
      ]
    },
    {
      "cell_type": "code",
      "source": [
        "# Добавляем к файлам относительные пути\n",
        "Primavera_calls_df['Файл записи звонка'] = Primavera_calls_df['Файл записи звонка'].apply(lambda x: 'Новые записи звонков/Записи Primavera/' + x)"
      ],
      "metadata": {
        "id": "V76SwZ-4z7it"
      },
      "execution_count": null,
      "outputs": []
    },
    {
      "cell_type": "code",
      "source": [
        "Primavera_calls_df['Файл записи звонка'].tail()"
      ],
      "metadata": {
        "colab": {
          "base_uri": "https://localhost:8080/"
        },
        "outputId": "7d9a4ae8-26bc-4b28-bdb4-f97c5b0066a8",
        "id": "w91a6zZgz7iu"
      },
      "execution_count": null,
      "outputs": [
        {
          "output_type": "execute_result",
          "data": {
            "text/plain": [
              "762    Новые записи звонков/Записи Primavera/2023-09-03_16-24-54.121808_from_74991918588_to_0150108_session_3195081143_talk.mp3\n",
              "763    Новые записи звонков/Записи Primavera/2023-09-02_17-12-27.813266_from_79296548451_to_0253208_session_3197045974_talk.mp3\n",
              "764    Новые записи звонков/Записи Primavera/2023-09-03_15-19-38.712929_from_79167387714_to_0111642_session_3198170594_talk.mp3\n",
              "765    Новые записи звонков/Записи Primavera/2023-09-02_17-49-06.100800_from_74950210291_to_0111639_session_3204178922_talk.mp3\n",
              "766    Новые записи звонков/Записи Primavera/2023-09-01_12-35-50.915379_from_79776807507_to_0253211_session_3188505725_talk.mp3\n",
              "Name: Файл записи звонка, dtype: object"
            ]
          },
          "metadata": {},
          "execution_count": 151
        }
      ]
    },
    {
      "cell_type": "markdown",
      "source": [
        "#### Типы данных"
      ],
      "metadata": {
        "id": "quvmcgCAz7iu"
      }
    },
    {
      "cell_type": "code",
      "source": [
        "# Смотрим типы данных\n",
        "Primavera_calls_df.dtypes"
      ],
      "metadata": {
        "colab": {
          "base_uri": "https://localhost:8080/"
        },
        "outputId": "a1a05661-022d-44f3-e995-f71d2a7eb53a",
        "id": "jCRR-vW_z7iu"
      },
      "execution_count": null,
      "outputs": [
        {
          "output_type": "execute_result",
          "data": {
            "text/plain": [
              "Дата и время                   datetime64[ns]\n",
              "Номер абонента                          int64\n",
              "Номер сотрудника                        int64\n",
              "Идентификатор сессии звонка             int64\n",
              "Файл записи звонка                     object\n",
              "dtype: object"
            ]
          },
          "metadata": {},
          "execution_count": 152
        }
      ]
    },
    {
      "cell_type": "code",
      "source": [
        "print(Primavera_calls_df.count())"
      ],
      "metadata": {
        "colab": {
          "base_uri": "https://localhost:8080/"
        },
        "outputId": "e5be4f26-e1fd-452b-bdd0-29c97d235733",
        "id": "G22jcQPDz7i-"
      },
      "execution_count": null,
      "outputs": [
        {
          "output_type": "stream",
          "name": "stdout",
          "text": [
            "Дата и время                   767\n",
            "Номер абонента                 767\n",
            "Номер сотрудника               767\n",
            "Идентификатор сессии звонка    767\n",
            "Файл записи звонка             767\n",
            "dtype: int64\n"
          ]
        }
      ]
    },
    {
      "cell_type": "markdown",
      "source": [
        "#### Сохранение датафрейма"
      ],
      "metadata": {
        "id": "DFtZUAhFz7i-"
      }
    },
    {
      "cell_type": "code",
      "source": [
        "Primavera_calls_df.index = range(Primavera_calls_df.shape[0])"
      ],
      "metadata": {
        "id": "LzsuLVxnFW2d"
      },
      "execution_count": null,
      "outputs": []
    },
    {
      "cell_type": "code",
      "source": [
        "# Сохраняем Primavera_calls_df в pkl\n",
        "with open(df_path + 'Primavera_new_calls_df.pkl', 'wb') as f:\n",
        "  pkl.dump(Primavera_calls_df, f)"
      ],
      "metadata": {
        "id": "RAHSkOZez7i_"
      },
      "execution_count": null,
      "outputs": []
    },
    {
      "cell_type": "markdown",
      "source": [
        "### Paveletskaya_city"
      ],
      "metadata": {
        "id": "Srkk52AE3PW_"
      }
    },
    {
      "cell_type": "markdown",
      "source": [
        "#### Создание датафрейма"
      ],
      "metadata": {
        "id": "wnU0Bi_h3PXB"
      }
    },
    {
      "cell_type": "code",
      "source": [
        "# Создаём датафрейм из списка записей звонков\n",
        "Paveletskaya_city_calls_df = calls_list_to_df(os.listdir(Paveletskaya_city_new_path))\n",
        "Paveletskaya_city_calls_df.shape"
      ],
      "metadata": {
        "colab": {
          "base_uri": "https://localhost:8080/"
        },
        "outputId": "48beb089-6b7a-4e39-b565-46c9e8211b9b",
        "id": "Yks1j2DS3PXC"
      },
      "execution_count": null,
      "outputs": [
        {
          "output_type": "execute_result",
          "data": {
            "text/plain": [
              "(1413, 5)"
            ]
          },
          "metadata": {},
          "execution_count": 156
        }
      ]
    },
    {
      "cell_type": "code",
      "source": [
        "Paveletskaya_city_calls_df.head()"
      ],
      "metadata": {
        "colab": {
          "base_uri": "https://localhost:8080/",
          "height": 206
        },
        "outputId": "69bcb334-0eaa-412a-d9a1-63196d68e11d",
        "id": "o2fBvEvG3PXE"
      },
      "execution_count": null,
      "outputs": [
        {
          "output_type": "execute_result",
          "data": {
            "text/plain": [
              "                 Дата и время Номер абонента Номер сотрудника  \\\n",
              "0  2023-09-18 11:48:26.391636    74932482450            00288   \n",
              "1  2023-09-18 12:54:18.603506    79160620083            00288   \n",
              "2  2023-09-20 09:56:40.872148   905424768475            00288   \n",
              "3  2023-09-19 13:53:47.892984    79037861965            00288   \n",
              "4  2023-09-18 12:31:27.901544    79099465930            00288   \n",
              "\n",
              "  Идентификатор сессии звонка  \\\n",
              "0                  3219964480   \n",
              "1                  3220199190   \n",
              "2                  3237457931   \n",
              "3                  3222616640   \n",
              "4                  3230778649   \n",
              "\n",
              "                                                                  Файл записи звонка  \n",
              "0   2023-09-18_11-48-26.391636_from_74932482450_to_00288_session_3219964480_talk.mp3  \n",
              "1   2023-09-18_12-54-18.603506_from_79160620083_to_00288_session_3220199190_talk.mp3  \n",
              "2  2023-09-20_09-56-40.872148_from_905424768475_to_00288_session_3237457931_talk.mp3  \n",
              "3   2023-09-19_13-53-47.892984_from_79037861965_to_00288_session_3222616640_talk.mp3  \n",
              "4   2023-09-18_12-31-27.901544_from_79099465930_to_00288_session_3230778649_talk.mp3  "
            ],
            "text/html": [
              "\n",
              "  <div id=\"df-777a87f8-59c1-49a9-8c13-c86c543de609\" class=\"colab-df-container\">\n",
              "    <div>\n",
              "<style scoped>\n",
              "    .dataframe tbody tr th:only-of-type {\n",
              "        vertical-align: middle;\n",
              "    }\n",
              "\n",
              "    .dataframe tbody tr th {\n",
              "        vertical-align: top;\n",
              "    }\n",
              "\n",
              "    .dataframe thead th {\n",
              "        text-align: right;\n",
              "    }\n",
              "</style>\n",
              "<table border=\"1\" class=\"dataframe\">\n",
              "  <thead>\n",
              "    <tr style=\"text-align: right;\">\n",
              "      <th></th>\n",
              "      <th>Дата и время</th>\n",
              "      <th>Номер абонента</th>\n",
              "      <th>Номер сотрудника</th>\n",
              "      <th>Идентификатор сессии звонка</th>\n",
              "      <th>Файл записи звонка</th>\n",
              "    </tr>\n",
              "  </thead>\n",
              "  <tbody>\n",
              "    <tr>\n",
              "      <th>0</th>\n",
              "      <td>2023-09-18 11:48:26.391636</td>\n",
              "      <td>74932482450</td>\n",
              "      <td>00288</td>\n",
              "      <td>3219964480</td>\n",
              "      <td>2023-09-18_11-48-26.391636_from_74932482450_to_00288_session_3219964480_talk.mp3</td>\n",
              "    </tr>\n",
              "    <tr>\n",
              "      <th>1</th>\n",
              "      <td>2023-09-18 12:54:18.603506</td>\n",
              "      <td>79160620083</td>\n",
              "      <td>00288</td>\n",
              "      <td>3220199190</td>\n",
              "      <td>2023-09-18_12-54-18.603506_from_79160620083_to_00288_session_3220199190_talk.mp3</td>\n",
              "    </tr>\n",
              "    <tr>\n",
              "      <th>2</th>\n",
              "      <td>2023-09-20 09:56:40.872148</td>\n",
              "      <td>905424768475</td>\n",
              "      <td>00288</td>\n",
              "      <td>3237457931</td>\n",
              "      <td>2023-09-20_09-56-40.872148_from_905424768475_to_00288_session_3237457931_talk.mp3</td>\n",
              "    </tr>\n",
              "    <tr>\n",
              "      <th>3</th>\n",
              "      <td>2023-09-19 13:53:47.892984</td>\n",
              "      <td>79037861965</td>\n",
              "      <td>00288</td>\n",
              "      <td>3222616640</td>\n",
              "      <td>2023-09-19_13-53-47.892984_from_79037861965_to_00288_session_3222616640_talk.mp3</td>\n",
              "    </tr>\n",
              "    <tr>\n",
              "      <th>4</th>\n",
              "      <td>2023-09-18 12:31:27.901544</td>\n",
              "      <td>79099465930</td>\n",
              "      <td>00288</td>\n",
              "      <td>3230778649</td>\n",
              "      <td>2023-09-18_12-31-27.901544_from_79099465930_to_00288_session_3230778649_talk.mp3</td>\n",
              "    </tr>\n",
              "  </tbody>\n",
              "</table>\n",
              "</div>\n",
              "    <div class=\"colab-df-buttons\">\n",
              "\n",
              "  <div class=\"colab-df-container\">\n",
              "    <button class=\"colab-df-convert\" onclick=\"convertToInteractive('df-777a87f8-59c1-49a9-8c13-c86c543de609')\"\n",
              "            title=\"Convert this dataframe to an interactive table.\"\n",
              "            style=\"display:none;\">\n",
              "\n",
              "  <svg xmlns=\"http://www.w3.org/2000/svg\" height=\"24px\" viewBox=\"0 -960 960 960\">\n",
              "    <path d=\"M120-120v-720h720v720H120Zm60-500h600v-160H180v160Zm220 220h160v-160H400v160Zm0 220h160v-160H400v160ZM180-400h160v-160H180v160Zm440 0h160v-160H620v160ZM180-180h160v-160H180v160Zm440 0h160v-160H620v160Z\"/>\n",
              "  </svg>\n",
              "    </button>\n",
              "\n",
              "  <style>\n",
              "    .colab-df-container {\n",
              "      display:flex;\n",
              "      gap: 12px;\n",
              "    }\n",
              "\n",
              "    .colab-df-convert {\n",
              "      background-color: #E8F0FE;\n",
              "      border: none;\n",
              "      border-radius: 50%;\n",
              "      cursor: pointer;\n",
              "      display: none;\n",
              "      fill: #1967D2;\n",
              "      height: 32px;\n",
              "      padding: 0 0 0 0;\n",
              "      width: 32px;\n",
              "    }\n",
              "\n",
              "    .colab-df-convert:hover {\n",
              "      background-color: #E2EBFA;\n",
              "      box-shadow: 0px 1px 2px rgba(60, 64, 67, 0.3), 0px 1px 3px 1px rgba(60, 64, 67, 0.15);\n",
              "      fill: #174EA6;\n",
              "    }\n",
              "\n",
              "    .colab-df-buttons div {\n",
              "      margin-bottom: 4px;\n",
              "    }\n",
              "\n",
              "    [theme=dark] .colab-df-convert {\n",
              "      background-color: #3B4455;\n",
              "      fill: #D2E3FC;\n",
              "    }\n",
              "\n",
              "    [theme=dark] .colab-df-convert:hover {\n",
              "      background-color: #434B5C;\n",
              "      box-shadow: 0px 1px 3px 1px rgba(0, 0, 0, 0.15);\n",
              "      filter: drop-shadow(0px 1px 2px rgba(0, 0, 0, 0.3));\n",
              "      fill: #FFFFFF;\n",
              "    }\n",
              "  </style>\n",
              "\n",
              "    <script>\n",
              "      const buttonEl =\n",
              "        document.querySelector('#df-777a87f8-59c1-49a9-8c13-c86c543de609 button.colab-df-convert');\n",
              "      buttonEl.style.display =\n",
              "        google.colab.kernel.accessAllowed ? 'block' : 'none';\n",
              "\n",
              "      async function convertToInteractive(key) {\n",
              "        const element = document.querySelector('#df-777a87f8-59c1-49a9-8c13-c86c543de609');\n",
              "        const dataTable =\n",
              "          await google.colab.kernel.invokeFunction('convertToInteractive',\n",
              "                                                    [key], {});\n",
              "        if (!dataTable) return;\n",
              "\n",
              "        const docLinkHtml = 'Like what you see? Visit the ' +\n",
              "          '<a target=\"_blank\" href=https://colab.research.google.com/notebooks/data_table.ipynb>data table notebook</a>'\n",
              "          + ' to learn more about interactive tables.';\n",
              "        element.innerHTML = '';\n",
              "        dataTable['output_type'] = 'display_data';\n",
              "        await google.colab.output.renderOutput(dataTable, element);\n",
              "        const docLink = document.createElement('div');\n",
              "        docLink.innerHTML = docLinkHtml;\n",
              "        element.appendChild(docLink);\n",
              "      }\n",
              "    </script>\n",
              "  </div>\n",
              "\n",
              "\n",
              "<div id=\"df-0fd089ad-77a6-46f6-b54b-7de96984f4d5\">\n",
              "  <button class=\"colab-df-quickchart\" onclick=\"quickchart('df-0fd089ad-77a6-46f6-b54b-7de96984f4d5')\"\n",
              "            title=\"Suggest charts.\"\n",
              "            style=\"display:none;\">\n",
              "\n",
              "<svg xmlns=\"http://www.w3.org/2000/svg\" height=\"24px\"viewBox=\"0 0 24 24\"\n",
              "     width=\"24px\">\n",
              "    <g>\n",
              "        <path d=\"M19 3H5c-1.1 0-2 .9-2 2v14c0 1.1.9 2 2 2h14c1.1 0 2-.9 2-2V5c0-1.1-.9-2-2-2zM9 17H7v-7h2v7zm4 0h-2V7h2v10zm4 0h-2v-4h2v4z\"/>\n",
              "    </g>\n",
              "</svg>\n",
              "  </button>\n",
              "\n",
              "<style>\n",
              "  .colab-df-quickchart {\n",
              "      --bg-color: #E8F0FE;\n",
              "      --fill-color: #1967D2;\n",
              "      --hover-bg-color: #E2EBFA;\n",
              "      --hover-fill-color: #174EA6;\n",
              "      --disabled-fill-color: #AAA;\n",
              "      --disabled-bg-color: #DDD;\n",
              "  }\n",
              "\n",
              "  [theme=dark] .colab-df-quickchart {\n",
              "      --bg-color: #3B4455;\n",
              "      --fill-color: #D2E3FC;\n",
              "      --hover-bg-color: #434B5C;\n",
              "      --hover-fill-color: #FFFFFF;\n",
              "      --disabled-bg-color: #3B4455;\n",
              "      --disabled-fill-color: #666;\n",
              "  }\n",
              "\n",
              "  .colab-df-quickchart {\n",
              "    background-color: var(--bg-color);\n",
              "    border: none;\n",
              "    border-radius: 50%;\n",
              "    cursor: pointer;\n",
              "    display: none;\n",
              "    fill: var(--fill-color);\n",
              "    height: 32px;\n",
              "    padding: 0;\n",
              "    width: 32px;\n",
              "  }\n",
              "\n",
              "  .colab-df-quickchart:hover {\n",
              "    background-color: var(--hover-bg-color);\n",
              "    box-shadow: 0 1px 2px rgba(60, 64, 67, 0.3), 0 1px 3px 1px rgba(60, 64, 67, 0.15);\n",
              "    fill: var(--button-hover-fill-color);\n",
              "  }\n",
              "\n",
              "  .colab-df-quickchart-complete:disabled,\n",
              "  .colab-df-quickchart-complete:disabled:hover {\n",
              "    background-color: var(--disabled-bg-color);\n",
              "    fill: var(--disabled-fill-color);\n",
              "    box-shadow: none;\n",
              "  }\n",
              "\n",
              "  .colab-df-spinner {\n",
              "    border: 2px solid var(--fill-color);\n",
              "    border-color: transparent;\n",
              "    border-bottom-color: var(--fill-color);\n",
              "    animation:\n",
              "      spin 1s steps(1) infinite;\n",
              "  }\n",
              "\n",
              "  @keyframes spin {\n",
              "    0% {\n",
              "      border-color: transparent;\n",
              "      border-bottom-color: var(--fill-color);\n",
              "      border-left-color: var(--fill-color);\n",
              "    }\n",
              "    20% {\n",
              "      border-color: transparent;\n",
              "      border-left-color: var(--fill-color);\n",
              "      border-top-color: var(--fill-color);\n",
              "    }\n",
              "    30% {\n",
              "      border-color: transparent;\n",
              "      border-left-color: var(--fill-color);\n",
              "      border-top-color: var(--fill-color);\n",
              "      border-right-color: var(--fill-color);\n",
              "    }\n",
              "    40% {\n",
              "      border-color: transparent;\n",
              "      border-right-color: var(--fill-color);\n",
              "      border-top-color: var(--fill-color);\n",
              "    }\n",
              "    60% {\n",
              "      border-color: transparent;\n",
              "      border-right-color: var(--fill-color);\n",
              "    }\n",
              "    80% {\n",
              "      border-color: transparent;\n",
              "      border-right-color: var(--fill-color);\n",
              "      border-bottom-color: var(--fill-color);\n",
              "    }\n",
              "    90% {\n",
              "      border-color: transparent;\n",
              "      border-bottom-color: var(--fill-color);\n",
              "    }\n",
              "  }\n",
              "</style>\n",
              "\n",
              "  <script>\n",
              "    async function quickchart(key) {\n",
              "      const quickchartButtonEl =\n",
              "        document.querySelector('#' + key + ' button');\n",
              "      quickchartButtonEl.disabled = true;  // To prevent multiple clicks.\n",
              "      quickchartButtonEl.classList.add('colab-df-spinner');\n",
              "      try {\n",
              "        const charts = await google.colab.kernel.invokeFunction(\n",
              "            'suggestCharts', [key], {});\n",
              "      } catch (error) {\n",
              "        console.error('Error during call to suggestCharts:', error);\n",
              "      }\n",
              "      quickchartButtonEl.classList.remove('colab-df-spinner');\n",
              "      quickchartButtonEl.classList.add('colab-df-quickchart-complete');\n",
              "    }\n",
              "    (() => {\n",
              "      let quickchartButtonEl =\n",
              "        document.querySelector('#df-0fd089ad-77a6-46f6-b54b-7de96984f4d5 button');\n",
              "      quickchartButtonEl.style.display =\n",
              "        google.colab.kernel.accessAllowed ? 'block' : 'none';\n",
              "    })();\n",
              "  </script>\n",
              "</div>\n",
              "    </div>\n",
              "  </div>\n"
            ]
          },
          "metadata": {},
          "execution_count": 157
        }
      ]
    },
    {
      "cell_type": "code",
      "source": [
        "# Проверяем количество строк\n",
        "print(len(os.listdir(Paveletskaya_city_new_path)))\n",
        "print(Paveletskaya_city_calls_df.shape[0])"
      ],
      "metadata": {
        "colab": {
          "base_uri": "https://localhost:8080/"
        },
        "outputId": "8978f105-3a31-47ae-e29f-1c83c7e232c6",
        "id": "8WN5hTiz3PXF"
      },
      "execution_count": null,
      "outputs": [
        {
          "output_type": "stream",
          "name": "stdout",
          "text": [
            "1413\n",
            "1413\n"
          ]
        }
      ]
    },
    {
      "cell_type": "code",
      "source": [
        "print(Paveletskaya_city_calls_df.count())"
      ],
      "metadata": {
        "colab": {
          "base_uri": "https://localhost:8080/"
        },
        "outputId": "75e9c9f8-0854-4a01-b8eb-96a2697ec9bd",
        "id": "xqQbSiqF3PXN"
      },
      "execution_count": null,
      "outputs": [
        {
          "output_type": "stream",
          "name": "stdout",
          "text": [
            "Дата и время                   1413\n",
            "Номер абонента                 1413\n",
            "Номер сотрудника               1413\n",
            "Идентификатор сессии звонка    1413\n",
            "Файл записи звонка             1413\n",
            "dtype: int64\n"
          ]
        }
      ]
    },
    {
      "cell_type": "code",
      "source": [
        "# Количество уникальных значений столбца 'Идентификатор сессии звонка'\n",
        "Paveletskaya_city_calls_df['Идентификатор сессии звонка'].nunique()"
      ],
      "metadata": {
        "colab": {
          "base_uri": "https://localhost:8080/"
        },
        "id": "FKtrG633GOgM",
        "outputId": "66565383-ef13-4d8e-e942-4bfe4acf20a5"
      },
      "execution_count": null,
      "outputs": [
        {
          "output_type": "execute_result",
          "data": {
            "text/plain": [
              "1413"
            ]
          },
          "metadata": {},
          "execution_count": 160
        }
      ]
    },
    {
      "cell_type": "markdown",
      "source": [
        "#### Предобработка"
      ],
      "metadata": {
        "id": "Eflex-Ym3PXO"
      }
    },
    {
      "cell_type": "markdown",
      "source": [
        "##### 0. Дата и время"
      ],
      "metadata": {
        "id": "8WzHjEkk3PXP"
      }
    },
    {
      "cell_type": "code",
      "source": [
        "Paveletskaya_city_calls_df['Дата и время'].head()"
      ],
      "metadata": {
        "colab": {
          "base_uri": "https://localhost:8080/"
        },
        "outputId": "39276b35-e75d-4f10-c5c7-67d3bc63ed2b",
        "id": "4teMUdNH3PXQ"
      },
      "execution_count": null,
      "outputs": [
        {
          "output_type": "execute_result",
          "data": {
            "text/plain": [
              "0    2023-09-18 11:48:26.391636\n",
              "1    2023-09-18 12:54:18.603506\n",
              "2    2023-09-20 09:56:40.872148\n",
              "3    2023-09-19 13:53:47.892984\n",
              "4    2023-09-18 12:31:27.901544\n",
              "Name: Дата и время, dtype: object"
            ]
          },
          "metadata": {},
          "execution_count": 161
        }
      ]
    },
    {
      "cell_type": "code",
      "source": [
        "# Приводим тип данных столбца 'Дата и время'\n",
        "Paveletskaya_city_calls_df['Дата и время'] = pd.to_datetime(Paveletskaya_city_calls_df['Дата и время'])"
      ],
      "metadata": {
        "id": "0TUwaw2k3PXS"
      },
      "execution_count": null,
      "outputs": []
    },
    {
      "cell_type": "code",
      "source": [
        "Paveletskaya_city_calls_df['Дата и время'].tail()"
      ],
      "metadata": {
        "colab": {
          "base_uri": "https://localhost:8080/"
        },
        "outputId": "ab2f2a50-0298-4668-efd4-7904e1e82327",
        "id": "JKGxFfce3PXT"
      },
      "execution_count": null,
      "outputs": [
        {
          "output_type": "execute_result",
          "data": {
            "text/plain": [
              "1408   2023-09-18 14:28:39.076451\n",
              "1409   2023-09-18 11:08:55.388293\n",
              "1410   2023-09-21 10:36:24.096708\n",
              "1411   2023-09-21 11:59:49.268642\n",
              "1412   2023-09-18 12:14:11.254019\n",
              "Name: Дата и время, dtype: datetime64[ns]"
            ]
          },
          "metadata": {},
          "execution_count": 163
        }
      ]
    },
    {
      "cell_type": "markdown",
      "source": [
        "##### 1. Номер абонента"
      ],
      "metadata": {
        "id": "ANH90jqZ3PXV"
      }
    },
    {
      "cell_type": "code",
      "source": [
        "Paveletskaya_city_calls_df['Номер абонента'].head()"
      ],
      "metadata": {
        "colab": {
          "base_uri": "https://localhost:8080/"
        },
        "outputId": "d0efe5e1-2e62-48f0-db21-751ccabc0e53",
        "id": "qQcsnl_D3PXW"
      },
      "execution_count": null,
      "outputs": [
        {
          "output_type": "execute_result",
          "data": {
            "text/plain": [
              "0     74932482450\n",
              "1     79160620083\n",
              "2    905424768475\n",
              "3     79037861965\n",
              "4     79099465930\n",
              "Name: Номер абонента, dtype: object"
            ]
          },
          "metadata": {},
          "execution_count": 164
        }
      ]
    },
    {
      "cell_type": "code",
      "source": [
        "Paveletskaya_city_calls_df['Номер абонента'][Paveletskaya_city_calls_df['Номер абонента'] == ''].count()"
      ],
      "metadata": {
        "colab": {
          "base_uri": "https://localhost:8080/"
        },
        "id": "6Wl8J75Y7eSR",
        "outputId": "9b4e4139-b908-4d88-d612-cbffeb802ac0"
      },
      "execution_count": null,
      "outputs": [
        {
          "output_type": "execute_result",
          "data": {
            "text/plain": [
              "1"
            ]
          },
          "metadata": {},
          "execution_count": 165
        }
      ]
    },
    {
      "cell_type": "code",
      "source": [
        "# Меняем '' на '0' в столбце 'Номер абонента'\n",
        "Paveletskaya_city_calls_df['Номер абонента'] = Paveletskaya_city_calls_df['Номер абонента'].apply(lambda x: '0' if x == '' else x)"
      ],
      "metadata": {
        "id": "qEqd9cB47uUp"
      },
      "execution_count": null,
      "outputs": []
    },
    {
      "cell_type": "code",
      "source": [
        "# Приводим тип данных столбца 'Номер абонента'\n",
        "Paveletskaya_city_calls_df = Paveletskaya_city_calls_df.astype({'Номер абонента': int})"
      ],
      "metadata": {
        "id": "e5Tl1wOa3PXW"
      },
      "execution_count": null,
      "outputs": []
    },
    {
      "cell_type": "code",
      "source": [
        "Paveletskaya_city_calls_df['Номер абонента'].tail()"
      ],
      "metadata": {
        "colab": {
          "base_uri": "https://localhost:8080/"
        },
        "outputId": "2cb99960-233f-4769-c805-f349936e6db3",
        "id": "soCEtsbu3PXX"
      },
      "execution_count": null,
      "outputs": [
        {
          "output_type": "execute_result",
          "data": {
            "text/plain": [
              "1408    79646445150\n",
              "1409    79037846520\n",
              "1410    79160206095\n",
              "1411    74954871149\n",
              "1412    79067410826\n",
              "Name: Номер абонента, dtype: int64"
            ]
          },
          "metadata": {},
          "execution_count": 168
        }
      ]
    },
    {
      "cell_type": "markdown",
      "source": [
        "##### 2. Номер сотрудника"
      ],
      "metadata": {
        "id": "sN6uiGvQ3PXY"
      }
    },
    {
      "cell_type": "code",
      "source": [
        "Paveletskaya_city_calls_df['Номер сотрудника'].head()"
      ],
      "metadata": {
        "colab": {
          "base_uri": "https://localhost:8080/"
        },
        "outputId": "b18e0fe7-794c-4701-8b37-d7c8d83a1584",
        "id": "M-kaqmFV3PXZ"
      },
      "execution_count": null,
      "outputs": [
        {
          "output_type": "execute_result",
          "data": {
            "text/plain": [
              "0    00288\n",
              "1    00288\n",
              "2    00288\n",
              "3    00288\n",
              "4    00288\n",
              "Name: Номер сотрудника, dtype: object"
            ]
          },
          "metadata": {},
          "execution_count": 169
        }
      ]
    },
    {
      "cell_type": "code",
      "source": [
        "# Приводим тип данных столбца 'Номер сотрудника'\n",
        "Paveletskaya_city_calls_df = Paveletskaya_city_calls_df.astype({'Номер сотрудника': int})"
      ],
      "metadata": {
        "id": "O9AnBaqB3PXa"
      },
      "execution_count": null,
      "outputs": []
    },
    {
      "cell_type": "code",
      "source": [
        "Paveletskaya_city_calls_df['Номер сотрудника'].tail()"
      ],
      "metadata": {
        "colab": {
          "base_uri": "https://localhost:8080/"
        },
        "outputId": "406a50b6-6c5b-4e6e-f35e-ae24ab3275a2",
        "id": "zOhyJ6io3PXa"
      },
      "execution_count": null,
      "outputs": [
        {
          "output_type": "execute_result",
          "data": {
            "text/plain": [
              "1408    288\n",
              "1409    288\n",
              "1410    288\n",
              "1411    288\n",
              "1412    288\n",
              "Name: Номер сотрудника, dtype: int64"
            ]
          },
          "metadata": {},
          "execution_count": 171
        }
      ]
    },
    {
      "cell_type": "markdown",
      "source": [
        "##### 3. Идентификатор сессии звонка"
      ],
      "metadata": {
        "id": "5JTCUk-63PXb"
      }
    },
    {
      "cell_type": "code",
      "source": [
        "Paveletskaya_city_calls_df['Идентификатор сессии звонка'].head()"
      ],
      "metadata": {
        "colab": {
          "base_uri": "https://localhost:8080/"
        },
        "outputId": "56e8d29f-ca89-4b90-977f-bd0bc17d58c4",
        "id": "z8-nOwad3PXc"
      },
      "execution_count": null,
      "outputs": [
        {
          "output_type": "execute_result",
          "data": {
            "text/plain": [
              "0    3219964480\n",
              "1    3220199190\n",
              "2    3237457931\n",
              "3    3222616640\n",
              "4    3230778649\n",
              "Name: Идентификатор сессии звонка, dtype: object"
            ]
          },
          "metadata": {},
          "execution_count": 172
        }
      ]
    },
    {
      "cell_type": "code",
      "source": [
        "# Приводим тип данных столбца 'Идентификатор сессии звонка'\n",
        "Paveletskaya_city_calls_df = Paveletskaya_city_calls_df.astype({'Идентификатор сессии звонка': int})"
      ],
      "metadata": {
        "id": "RuSGw8v83PXd"
      },
      "execution_count": null,
      "outputs": []
    },
    {
      "cell_type": "code",
      "source": [
        "Paveletskaya_city_calls_df['Идентификатор сессии звонка'].tail()"
      ],
      "metadata": {
        "colab": {
          "base_uri": "https://localhost:8080/"
        },
        "outputId": "e97df5a1-a364-46ac-b457-e3645bf4a89e",
        "id": "z2h38_ZO3PXd"
      },
      "execution_count": null,
      "outputs": [
        {
          "output_type": "execute_result",
          "data": {
            "text/plain": [
              "1408    3233375546\n",
              "1409    3230415104\n",
              "1410    3240292806\n",
              "1411    3238346979\n",
              "1412    3230568859\n",
              "Name: Идентификатор сессии звонка, dtype: int64"
            ]
          },
          "metadata": {},
          "execution_count": 174
        }
      ]
    },
    {
      "cell_type": "markdown",
      "source": [
        "##### 4. Файл записи звонка"
      ],
      "metadata": {
        "id": "CSIAnH7j3PXf"
      }
    },
    {
      "cell_type": "code",
      "source": [
        "Paveletskaya_city_calls_df['Файл записи звонка'].head()"
      ],
      "metadata": {
        "colab": {
          "base_uri": "https://localhost:8080/"
        },
        "outputId": "c6254deb-aa1f-4f80-85f3-7c3baa167ab5",
        "id": "XswKZlLt3PXg"
      },
      "execution_count": null,
      "outputs": [
        {
          "output_type": "execute_result",
          "data": {
            "text/plain": [
              "0     2023-09-18_11-48-26.391636_from_74932482450_to_00288_session_3219964480_talk.mp3\n",
              "1     2023-09-18_12-54-18.603506_from_79160620083_to_00288_session_3220199190_talk.mp3\n",
              "2    2023-09-20_09-56-40.872148_from_905424768475_to_00288_session_3237457931_talk.mp3\n",
              "3     2023-09-19_13-53-47.892984_from_79037861965_to_00288_session_3222616640_talk.mp3\n",
              "4     2023-09-18_12-31-27.901544_from_79099465930_to_00288_session_3230778649_talk.mp3\n",
              "Name: Файл записи звонка, dtype: object"
            ]
          },
          "metadata": {},
          "execution_count": 176
        }
      ]
    },
    {
      "cell_type": "code",
      "source": [
        "# Добавляем к файлам относительные пути\n",
        "Paveletskaya_city_calls_df['Файл записи звонка'] = Paveletskaya_city_calls_df['Файл записи звонка'].apply(lambda x: 'Новые записи звонков/Записи Павелецкая сити/' + x)"
      ],
      "metadata": {
        "id": "29XioGcT3PXg"
      },
      "execution_count": null,
      "outputs": []
    },
    {
      "cell_type": "code",
      "source": [
        "Paveletskaya_city_calls_df['Файл записи звонка'].tail()"
      ],
      "metadata": {
        "colab": {
          "base_uri": "https://localhost:8080/"
        },
        "outputId": "896bdbb5-6c8f-43d6-fda5-ce4dec313552",
        "id": "varBv8dS3PXh"
      },
      "execution_count": null,
      "outputs": [
        {
          "output_type": "execute_result",
          "data": {
            "text/plain": [
              "1408    Новые записи звонков/Записи Павелецкая сити/2023-09-18_14-28-39.076451_from_79646445150_to_00288_session_3233375546_talk.mp3\n",
              "1409    Новые записи звонков/Записи Павелецкая сити/2023-09-18_11-08-55.388293_from_79037846520_to_00288_session_3230415104_talk.mp3\n",
              "1410    Новые записи звонков/Записи Павелецкая сити/2023-09-21_10-36-24.096708_from_79160206095_to_00288_session_3240292806_talk.mp3\n",
              "1411    Новые записи звонков/Записи Павелецкая сити/2023-09-21_11-59-49.268642_from_74954871149_to_00288_session_3238346979_talk.mp3\n",
              "1412    Новые записи звонков/Записи Павелецкая сити/2023-09-18_12-14-11.254019_from_79067410826_to_00288_session_3230568859_talk.mp3\n",
              "Name: Файл записи звонка, dtype: object"
            ]
          },
          "metadata": {},
          "execution_count": 178
        }
      ]
    },
    {
      "cell_type": "markdown",
      "source": [
        "#### Типы данных"
      ],
      "metadata": {
        "id": "NX4KOgSG3PXi"
      }
    },
    {
      "cell_type": "code",
      "source": [
        "# Смотрим типы данных\n",
        "Paveletskaya_city_calls_df.dtypes"
      ],
      "metadata": {
        "colab": {
          "base_uri": "https://localhost:8080/"
        },
        "outputId": "d8262399-21da-4693-8ffc-8d53212e3954",
        "id": "d2_Evtg63PXi"
      },
      "execution_count": null,
      "outputs": [
        {
          "output_type": "execute_result",
          "data": {
            "text/plain": [
              "Дата и время                   datetime64[ns]\n",
              "Номер абонента                          int64\n",
              "Номер сотрудника                        int64\n",
              "Идентификатор сессии звонка             int64\n",
              "Файл записи звонка                     object\n",
              "dtype: object"
            ]
          },
          "metadata": {},
          "execution_count": 179
        }
      ]
    },
    {
      "cell_type": "code",
      "source": [
        "print(Paveletskaya_city_calls_df.count())"
      ],
      "metadata": {
        "colab": {
          "base_uri": "https://localhost:8080/"
        },
        "outputId": "afd97a49-c637-4bd7-fb25-43cf4915b539",
        "id": "nLBDM5Kh3PXj"
      },
      "execution_count": null,
      "outputs": [
        {
          "output_type": "stream",
          "name": "stdout",
          "text": [
            "Дата и время                   1413\n",
            "Номер абонента                 1413\n",
            "Номер сотрудника               1413\n",
            "Идентификатор сессии звонка    1413\n",
            "Файл записи звонка             1413\n",
            "dtype: int64\n"
          ]
        }
      ]
    },
    {
      "cell_type": "markdown",
      "source": [
        "#### Сохранение датафрейма"
      ],
      "metadata": {
        "id": "Rztw8wT03PXj"
      }
    },
    {
      "cell_type": "code",
      "source": [
        "Paveletskaya_city_calls_df.index = range(Paveletskaya_city_calls_df.shape[0])"
      ],
      "metadata": {
        "id": "LkbSZuMHFmzZ"
      },
      "execution_count": null,
      "outputs": []
    },
    {
      "cell_type": "code",
      "source": [
        "# Сохраняем Paveletskaya_city_calls_df в pkl\n",
        "with open(df_path + 'Paveletskaya_city_new_calls_df.pkl', 'wb') as f:\n",
        "  pkl.dump(Paveletskaya_city_calls_df, f)"
      ],
      "metadata": {
        "id": "lzoJPg8m3PXj"
      },
      "execution_count": null,
      "outputs": []
    }
  ]
}