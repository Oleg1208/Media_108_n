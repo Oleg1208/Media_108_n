{
  "nbformat": 4,
  "nbformat_minor": 0,
  "metadata": {
    "colab": {
      "provenance": [],
      "collapsed_sections": [
        "aBJs7ceAFaOm",
        "pTohUadq_HUC",
        "rVDYF0C9YQcB",
        "shwe_q3BV8Vr",
        "FgkKPxSftYwE",
        "p-tO8i5IyJK4",
        "hLQc-dtPyJK8",
        "9saXOfuKyJLz",
        "lHJoSY_dyJLz",
        "xTN9Xgx5yJMj",
        "Dxr5eTPayJMj",
        "1XrNgyhoyJMk",
        "ByP6oo3NyJMn",
        "yLHWTCjVyJMp",
        "vjsa6uTqyJNS",
        "GZQfAf1tyJNU",
        "hGxYQ7KOyJNi",
        "vpjCmAy8yJNj",
        "SJfmU3hVyJNk",
        "ciSo_g5vyJNo",
        "TDRfh5YAyJNo",
        "rt1IkSMfyJNq",
        "h4xJTWVVyJOe",
        "hcx3vtahyJOg",
        "wp9B5JIFyJO9",
        "EgJLin2SyJO_",
        "YscPe5fGyJPA",
        "77U1RbUJyJPB",
        "c03YZpvUyJPO",
        "3wDi00rAyJPR",
        "2msKjkd5yJPS",
        "h-5yX-wCyJPU",
        "IPXFy7dSyJPw",
        "ESZpFODnyJP2",
        "xHkOr67ayJQR",
        "wi8gJHqOyJQS",
        "dslQJlmJyJQU",
        "sWyoHQUgXUyY",
        "Fa8bDQdEXsWu",
        "TUAVeDSMYfAQ",
        "iujyX6k9awrH",
        "tA_IYXhlbdgV",
        "XZOF7ZdTcuQO",
        "7_Aw_h0SdDu4",
        "eDI3Uf2odbo3",
        "yQPmAfE8dnzm",
        "QI0TzB5Gd14a",
        "85lkDfpfePxc",
        "auzvw99qv4Cn",
        "KoS6KcIsz7h7",
        "5fEBLpxBz7h_",
        "ynajeOFwz7iT",
        "pdDqEujvz7iU",
        "WyFGsoXCz7iX",
        "4ENc7JlVz7ib",
        "8JmDNybpz7io",
        "JNdtdmR3z7is",
        "quvmcgCAz7iu",
        "DFtZUAhFz7i-",
        "Srkk52AE3PW_",
        "wnU0Bi_h3PXB",
        "Eflex-Ym3PXO",
        "8WzHjEkk3PXP",
        "ANH90jqZ3PXV",
        "sN6uiGvQ3PXY",
        "5JTCUk-63PXb",
        "CSIAnH7j3PXf",
        "NX4KOgSG3PXi",
        "Rztw8wT03PXj"
      ]
    },
    "kernelspec": {
      "name": "python3",
      "display_name": "Python 3"
    },
    "language_info": {
      "name": "python"
    }
  },
  "cells": [
    {
      "cell_type": "markdown",
      "source": [
        "# Техническое задание"
      ],
      "metadata": {
        "id": "aBJs7ceAFaOm"
      }
    },
    {
      "cell_type": "markdown",
      "source": [
        "**Проект:** Классификация аудиозвонков на целевые и нецелевые."
      ],
      "metadata": {
        "id": "fDXpUnSRFi-I"
      }
    },
    {
      "cell_type": "markdown",
      "source": [
        "**Цель проекта:** Разработать нейронную сеть, способную классифицировать аудиозвонки на целевые и нецелевые на основе предоставленной базы данных и csv-таблицы с описаниями и метками классов."
      ],
      "metadata": {
        "id": "k54M7rKpGVPo"
      }
    },
    {
      "cell_type": "markdown",
      "source": [
        "**Введение:**\n",
        "\n",
        "Входной набор данных представляет из себя два набора файлов:\n",
        "\n",
        "> a)\t[Первый набор файлов](https://drive.google.com/drive/folders/1cQWMpQkscZJbbOTxiJNy0o3nuaeIiB1P?usp=sharing) - это выгрузки в формате `CSV` с информацией по звонкам, а так же с проставленным статусом `“целевой/нецелевой”` в отдельном столбце (обратите внимание, что по проекту `“Павелецкая сити”` две выгрузки - эти наборы данных отличаются и относятся к разным наборам клиентов внутри одного и того же проекта).\n",
        "\n",
        "> b)\t[Второй набор файлов](https://drive.google.com/drive/folders/1K3jGCH60uzFcsI3aj89VIXOOFEXvZxD6?usp=sharing) - аудиозаписи звонков. Они хранятся в корневом каталоге в одноимённых папках. К примеру, в папке `“Записи звонков_павелецкая сити”` лежат записи звонков по проекту `“Павелецкая Сити”`."
      ],
      "metadata": {
        "id": "S2SK4ESIGo32"
      }
    },
    {
      "cell_type": "markdown",
      "source": [
        "**Требования:**\n",
        "\n",
        "1.   Нейронная сеть должна быть спроектирована и обучена для точной классификации аудиозвонков на два класса: целевые и нецелевые (с точностью `90+%`).\n",
        "2.   Необходимо обеспечить интеграцию модели через `API`.\n",
        "3.   Модель должна быть оптимизирована для обработки большого объёма данных.\n",
        "4.   Код должен быть написан с соблюдением стандартов кодирования, и должна быть составлена подробная техническая документация.\n",
        "5.   Код должен включать в себя систему журналирования для фиксации ошибок.\n",
        "6.   Код должен принимать на вход регулярное выражение, по которому будет осуществляться проверка столбца `“теги”` в выгрузках `CSV` для определения статуса звонка `“целевой/нецелевой”`:\n",
        "\n",
        ">> a)\tпо проектам `“Примавера”` и `“Павелецкая сити”` наличие в столбце с тегами подстроки `“Целевой_М108“` будет равняться тому, что данный звонок целевой (пример регулярного выражения: `.*Целевой_М108.*`);\n",
        "\n",
        ">> b)\tпо проекту `“Хедлайнер”` - наличие в столбце с тегами подстроки `“первичный целевой“` будет равняться тому, что данный звонок целевой.\n",
        "\n",
        "7.   После реализации необходимо иметь возможность получения поддержки по предоставленному решению в течение `2 месяцев`."
      ],
      "metadata": {
        "id": "LF_Sa4cXI-pc"
      }
    },
    {
      "cell_type": "markdown",
      "source": [
        "Список рекомендуемых параметров для звуковой записи (данный список носит информационный характер и не является обязательным):\n",
        "\n",
        "*   Эмоция (базовые 11: радость; печаль; гнев; отвращение; удивление; страдание (горе); волнение (интерес); презрение; смущение; стыд; вина).\n",
        "*   Пол.\n",
        "*   Возраст.\n",
        "*   Семантический анализ диалога (по конкретным ключевым словам и/или по тематикам диалогов).\n",
        "*   Характеристики, присутствующие в `CSV`/`XLSX` таблицах."
      ],
      "metadata": {
        "id": "Mln9SW_iNwmm"
      }
    },
    {
      "cell_type": "markdown",
      "source": [
        "# Критерии классификации"
      ],
      "metadata": {
        "id": "pTohUadq_HUC"
      }
    },
    {
      "cell_type": "markdown",
      "source": [
        "Критерии `уникально-целевого` обращения:\n",
        "1. Длительность звонка должна быть не менее `75 секунд`;\n",
        "2. Телефонный номер абонента должен быть `уникальным`, т. е. его не должно быть в `CRM` заказчика. Либо, по нему не должно быть активности за последние `90 дней`. Исключение составляют `топовые площадки`, работающие по своим критериям (`ЦИАН`, `Яндекс.Недвижимость`, `Авито`, и т. д.);\n",
        "3. Клиент должен знать минимальную информацию об объекте (понимать, куда он звонит): название `ЖК`, расположение, ценовую политику;\n",
        "4. Номер абонента должен быть доступен в течение `15 дней` после совершённого звонка (при этом со стороны заказчика должно быть обеспечено `2 попытки` исходящего звонка в течение указанного срока);\n",
        "5. Клиент должен быть `«адекватным»`. Не общаться на повышенных тонах, не употреблять ненормативную лексику и т. д.;\n",
        "6. Клиент не должен быть повторным. Например, клиент `уже` купил квартиру и через `90 дней` решил купить машиноместо;\n",
        "7. Заявка. В заявке должен быть указан номер телефона, а абонент при контакте с менеджером должен соответствовать всем критериям `уникально-целевого` обращения, перечисленным выше;\n",
        "8. Озвученный общий бюджет покупки не должен быть `ниже 90%` от стоимости квартиры или коммерческого помещения, соответствующих площади/комнатности на момент обращения;\n",
        "9. В случае, если клиент является уникальным, интересуется покупкой недвижимости, не является представителем партнёров или исполнителей и изъявил желание посетить офис продаж. При этом не обязательна фиксация уровня знания клиента об объекте в диалоге. При этом источник не должен относиться к каналам `«лидогенерация»` или `«тематические площадки»`;\n",
        "10. Основной целью звонка клиента не должна являться покупка/аренда исключительно нежилого помещения, если это не являлось целью проводимой рекламной кампании.\n",
        "\n",
        "Критерии НЕ `уникально-целевого` (вторичного) обращения:\n",
        "1. Клиент позвонил повторно менее чем через `3 месяца` (`90 дней`) с момента последнего обращения;\n",
        "2. Клиент, либо члены его семьи, уже купил (купили) `квартиру`/`машиноместо`/`кладовое помещение`, и хочет (хотят) совершить ещё одну покупку. В данном случае клиент относится к показателю `LTV` (показатель прибыли, которую компания получает от одного клиента за всё время работы с ним)."
      ],
      "metadata": {
        "id": "F1Im0SOi_S8W"
      }
    },
    {
      "cell_type": "markdown",
      "source": [
        "# 2 неделя"
      ],
      "metadata": {
        "id": "rVDYF0C9YQcB"
      }
    },
    {
      "cell_type": "code",
      "source": [
        "!rm -r sample_data"
      ],
      "metadata": {
        "id": "6F_wknKtVq65"
      },
      "execution_count": null,
      "outputs": []
    },
    {
      "cell_type": "code",
      "source": [
        "# Подключаем google-диск\n",
        "from google.colab import drive\n",
        "drive.mount('/content/drive')\n",
        "my_drv_path = '/content/drive/MyDrive/'"
      ],
      "metadata": {
        "id": "OtvczWB8Vy4r"
      },
      "execution_count": null,
      "outputs": []
    },
    {
      "cell_type": "markdown",
      "source": [
        "## Библиотеки и переменные"
      ],
      "metadata": {
        "id": "shwe_q3BV8Vr"
      }
    },
    {
      "cell_type": "code",
      "source": [
        "import os            # для работы с операционной системой\n",
        "import pickle as pkl # для сохранения и загрузки переменных\n",
        "import pandas as pd  # для работы с таблицами\n",
        "import numpy  as np  # для работы с массивами\n",
        "import re            # для работы с регулярными выражениями\n",
        "\n",
        "# Параметры отображения датафреймов\n",
        "pd.options.display.max_rows     = 99\n",
        "pd.options.display.max_columns  = 99\n",
        "pd.options.display.max_colwidth = 999\n",
        "\n",
        "work_dir_path              = my_drv_path           + 'media108.ru/Новички/'                # путь к рабочей папке\n",
        "df_path                    = work_dir_path         + 'Датафреймы/'                         # путь к папке для датафреймов\n",
        "table_path                 = work_dir_path         + 'Таблицы/'                            # путь к папке для таблиц\n",
        "model_path                 = work_dir_path         + 'Модели/'                             # путь к папке для моделей нейронных сетей\n",
        "all_dataset_path           = work_dir_path         + 'Датасет/'                            # путь к папке всего датасета в целом\n",
        "dataset_path               = all_dataset_path      + 'Записи звонков/'                     # путь к записям звонков\n",
        "dataset_info_path          = dataset_path          + 'Информация о звонках/'               # путь к информации о звонках\n",
        "dataset_new_path           = all_dataset_path      + 'Новые записи звонков/'               # путь к новым записям звонков\n",
        "dataset_new_info_path      = dataset_new_path      + 'Информация о звонках/'               # путь к информации о новых звонках\n",
        "Headliner_path             = dataset_path          + 'Записи звонков_хедлайнер'            # путь к записям звонков проекта Headliner\n",
        "Headliner_new_path         = dataset_new_path      + 'Записи Headliner'                    # путь к записям новых звонков проекта Headliner\n",
        "Headliner_new_info         = dataset_new_info_path + 'Headliner.xlsx'                      # путь к информации о новых звонках проекта Headliner\n",
        "Primavera_path             = dataset_path          + 'Записи звонков_primavera'            # путь к записям звонков проекта Primavera\n",
        "Primavera_info             = dataset_info_path     + 'Primavera .csv'                      # путь к информации о звонках проекта Primavera\n",
        "Primavera_new_path         = dataset_new_path      + 'Записи Primavera'                    # путь к записям новых звонков проекта Primavera\n",
        "Primavera_new_info         = dataset_new_info_path + 'Примавера.xlsx'                      # путь к информации о новых звонках проекта Primavera\n",
        "Paveletskaya_city_path     = dataset_path          + 'Записи звонков_павелецкая сити'      # путь к записям звонков проекта Paveletskaya_city\n",
        "Paveletskaya_city_info     = dataset_info_path     + 'Павелецкая_ЖК_«Павелецкая_сити».csv' # путь к информации о звонках проекта Paveletskaya_city\n",
        "Paveletskaya_info          = dataset_info_path     + 'Павелецкая (pavcity.turbo.site).csv' # путь к информации о звонках проекта Paveletskaya_city\n",
        "Paveletskaya_city_new_path = dataset_new_path      + 'Записи Павелецкая сити'              # путь к записям новых звонков проекта Paveletskaya_city\n",
        "Paveletskaya_city_new_info = dataset_new_info_path + 'Павелецкая сити.xlsx'                # путь к информации о новых звонках проекта Paveletskaya_city"
      ],
      "metadata": {
        "id": "afuxbj6ibJz2"
      },
      "execution_count": null,
      "outputs": []
    },
    {
      "cell_type": "markdown",
      "source": [
        "## Функции"
      ],
      "metadata": {
        "id": "FgkKPxSftYwE"
      }
    },
    {
      "cell_type": "code",
      "source": [
        "# Функция для создания датафрейма из списка записей звонков\n",
        "def calls_list_to_df(calls_list):\n",
        "\n",
        "  datetime_list    = [] # список для 'Дата и время'\n",
        "  from_number_list = [] # список для 'Номер абонента'\n",
        "  to_number_list   = [] # список для 'Номер сотрудника'\n",
        "  session_list     = [] # список для 'Идентификатор сессии звонка'\n",
        "\n",
        "  # Проходим по списку записей звонков\n",
        "  for call in calls_list:\n",
        "\n",
        "    call_item_list = call.split('_')\n",
        "    time_item_list = call_item_list[1].split('.')\n",
        "    time_item_list = time_item_list[0].split('-')\n",
        "\n",
        "    # Заполняем списки для столбцов\n",
        "    datetime_list.append(call_item_list[0] + ' ' + time_item_list[0] + ':' + time_item_list[1] + ':' + time_item_list[2])\n",
        "    from_number_list.append(call_item_list[3])\n",
        "    to_number_list.append(call_item_list[5])\n",
        "    session_list.append(call_item_list[7])\n",
        "\n",
        "  # Собираем созданные списки в словарь\n",
        "  calls_dict = dict.fromkeys(['Дата и время', 'Номер абонента', 'Номер сотрудника', 'Идентификатор сессии звонка', 'Файл записи звонка'], [])\n",
        "  calls_dict['Дата и время']                = datetime_list\n",
        "  calls_dict['Номер абонента']              = from_number_list\n",
        "  calls_dict['Номер сотрудника']            = to_number_list\n",
        "  calls_dict['Идентификатор сессии звонка'] = session_list\n",
        "  calls_dict['Файл записи звонка']          = calls_list\n",
        "\n",
        "  # Возвращаем датафрейм\n",
        "  return pd.DataFrame(calls_dict)"
      ],
      "metadata": {
        "id": "Dti7DEY7ucFZ"
      },
      "execution_count": null,
      "outputs": []
    },
    {
      "cell_type": "markdown",
      "source": [
        "## [Записи звонков](https://drive.google.com/drive/folders/11aY9qpv301UnBuYvG8Iap1-Od28sQdMH?usp=sharing)"
      ],
      "metadata": {
        "id": "p-tO8i5IyJK4"
      }
    },
    {
      "cell_type": "code",
      "source": [
        "# Новые записи звонков\n",
        "os.listdir(new_dataset_path)"
      ],
      "metadata": {
        "colab": {
          "base_uri": "https://localhost:8080/"
        },
        "outputId": "66d64cd7-9dc6-416a-ce00-4bc26e38b073",
        "id": "g9cXb3OyyJK7"
      },
      "execution_count": null,
      "outputs": [
        {
          "output_type": "execute_result",
          "data": {
            "text/plain": [
              "['Записи Headliner',\n",
              " 'Записи Primavera',\n",
              " 'Записи Павелецкая сити',\n",
              " 'Информация о звонках']"
            ]
          },
          "metadata": {},
          "execution_count": 7
        }
      ]
    },
    {
      "cell_type": "markdown",
      "source": [
        "### Распаковка архивов и первичный анализ"
      ],
      "metadata": {
        "id": "hLQc-dtPyJK8"
      }
    },
    {
      "cell_type": "code",
      "source": [
        "# Установка unrar\n",
        "!pip install unrar"
      ],
      "metadata": {
        "colab": {
          "base_uri": "https://localhost:8080/"
        },
        "outputId": "f75246ef-92b2-4edb-84c2-0c3fc596913c",
        "id": "BLAFvO-6yJK-"
      },
      "execution_count": null,
      "outputs": [
        {
          "output_type": "stream",
          "name": "stdout",
          "text": [
            "Collecting unrar\n",
            "  Downloading unrar-0.4-py3-none-any.whl (25 kB)\n",
            "Installing collected packages: unrar\n",
            "Successfully installed unrar-0.4\n"
          ]
        }
      ]
    },
    {
      "cell_type": "code",
      "source": [
        "# Архивы новых записей звонков\n",
        "os.listdir(new_dataset_rar_path)"
      ],
      "metadata": {
        "colab": {
          "base_uri": "https://localhost:8080/"
        },
        "outputId": "66d4b7a0-7f0c-40ba-d843-f40759a5887e",
        "id": "edJ2ThBqyJLn"
      },
      "execution_count": null,
      "outputs": [
        {
          "output_type": "execute_result",
          "data": {
            "text/plain": [
              "['Записи Headliner.rar', 'Записи Primavera.rar', 'Записи Павелецкая сити.rar']"
            ]
          },
          "metadata": {},
          "execution_count": 4
        }
      ]
    },
    {
      "cell_type": "code",
      "source": [
        "# Распаковка 'Записи Headliner.rar'\n",
        "!unrar x '/content/drive/MyDrive/media108.ru/Новые записи звонков (rar)/Записи Headliner.rar' '/content/drive/MyDrive/media108.ru/Новые записи звонков/' > /dev/null"
      ],
      "metadata": {
        "id": "_QWuJkjmyJLp"
      },
      "execution_count": null,
      "outputs": []
    },
    {
      "cell_type": "code",
      "source": [
        "# Распаковка 'Записи Primavera.rar'\n",
        "!unrar x '/content/drive/MyDrive/media108.ru/Новые записи звонков (rar)/Записи Primavera.rar' '/content/drive/MyDrive/media108.ru/Новые записи звонков/' > /dev/null"
      ],
      "metadata": {
        "id": "pN9rlRWWyJLr"
      },
      "execution_count": null,
      "outputs": []
    },
    {
      "cell_type": "code",
      "source": [
        "# Распаковка 'Записи Павелецкая сити.rar'\n",
        "!unrar x '/content/drive/MyDrive/media108.ru/Новые записи звонков (rar)/Записи Павелецкая сити.rar' '/content/drive/MyDrive/media108.ru/Новые записи звонков/' > /dev/null"
      ],
      "metadata": {
        "id": "fs7nxwpOyJLs"
      },
      "execution_count": null,
      "outputs": []
    },
    {
      "cell_type": "code",
      "source": [
        "# Новые записи звонков\n",
        "os.listdir(new_dataset_path)"
      ],
      "metadata": {
        "colab": {
          "base_uri": "https://localhost:8080/"
        },
        "outputId": "5d15df38-8b45-46a1-cd21-eae2c30f429e",
        "id": "iq2v0IG0yJLt"
      },
      "execution_count": null,
      "outputs": [
        {
          "output_type": "execute_result",
          "data": {
            "text/plain": [
              "['Записи Headliner',\n",
              " 'Записи Primavera',\n",
              " 'Записи Павелецкая сити',\n",
              " 'Информация о звонках']"
            ]
          },
          "metadata": {},
          "execution_count": 8
        }
      ]
    },
    {
      "cell_type": "code",
      "source": [
        "# Записи Headliner\n",
        "os.listdir(new_dataset_path + 'Записи Headliner')[:10]"
      ],
      "metadata": {
        "colab": {
          "base_uri": "https://localhost:8080/"
        },
        "outputId": "3e972ecd-d7c3-4d16-8121-b933fcaf2192",
        "id": "mk40b4-7yJLu"
      },
      "execution_count": null,
      "outputs": [
        {
          "output_type": "execute_result",
          "data": {
            "text/plain": [
              "['2023-09-26_10-06-23.403699_from_79584153294_to_74959339902_session_3252459256_talk.mp3',\n",
              " '2023-09-21_18-54-50.120569_from_79951538090_to_0188880_session_3235156678_talk.mp3',\n",
              " '2023-09-27_16-10-52.316459_from_79853697070_to_0188880_session_3253840089_talk.mp3',\n",
              " '2023-09-25_09-12-02.428401_from_79858141531_to_74959339902_session_3249639806_talk.mp3',\n",
              " '2023-09-28_11-08-32.052586_from_79851881681_to_74959339902_session_3262172387_talk.mp3',\n",
              " '2023-09-26_14-03-03.889896_from_79164117555_to_74959339902_session_3237804050_talk.mp3',\n",
              " '2023-09-22_15-05-38.848815_from_79608617626_to_0188880_session_3243154724_talk.mp3',\n",
              " '2023-09-22_15-47-29.153917_from_79169869883_to_74959339902_session_3231248615_talk.mp3',\n",
              " '2023-09-25_15-33-38.734417_from_79025578055_to_74959339902_session_3251147526_talk.mp3',\n",
              " '2023-09-27_16-24-56.511269_from_79166279057_to_74959339902_session_3253891649_talk.mp3']"
            ]
          },
          "metadata": {},
          "execution_count": 9
        }
      ]
    },
    {
      "cell_type": "code",
      "source": [
        "# Записи Primavera\n",
        "os.listdir(new_dataset_path + 'Записи Primavera')[:10]"
      ],
      "metadata": {
        "colab": {
          "base_uri": "https://localhost:8080/"
        },
        "outputId": "b4c51406-7f7b-432a-81d7-1e07a5c683f9",
        "id": "lMZ__JZhyJLv"
      },
      "execution_count": null,
      "outputs": [
        {
          "output_type": "execute_result",
          "data": {
            "text/plain": [
              "['2023-09-30_12-19-55.312627_from_79854305902_to_0253192_session_3263012391_talk.mp3',\n",
              " '2023-10-04_19-40-25.037187_from_74950210291_to_0253206_session_3276780397_talk.mp3',\n",
              " '2023-10-04_15-52-11.200324_from_79203810871_to_0253201_session_3276172302_talk.mp3',\n",
              " '2023-10-02_20-00-47.312686_from_74950210291_to_0150113_session_3271743567_talk.mp3',\n",
              " '2023-10-04_16-50-31.267655_from_79295237177_to_0111652_session_3269469074_talk.mp3',\n",
              " '2023-09-30_15-31-41.654688_from_79939041290_to_0253192_session_3263409766_talk.mp3',\n",
              " '2023-10-04_14-14-24.774719_from_74951201251_to_0253206_session_3268896004_talk.mp3',\n",
              " '2023-10-04_10-51-34.713659_from_79154098258_to_0111631_session_3262644468_talk.mp3',\n",
              " '2023-10-03_16-27-25.589891_from_79269050076_to_0253200_session_3251740160_talk.mp3',\n",
              " '2023-10-04_13-48-28.199593_from_79250269006_to_0111651_session_3271685686_talk.mp3']"
            ]
          },
          "metadata": {},
          "execution_count": 10
        }
      ]
    },
    {
      "cell_type": "code",
      "source": [
        "# Записи Павелецкая сити\n",
        "os.listdir(new_dataset_path + 'Записи Павелецкая сити')[:10]"
      ],
      "metadata": {
        "colab": {
          "base_uri": "https://localhost:8080/"
        },
        "outputId": "0bfd574b-2392-4fa6-8e8b-e75a38d3d111",
        "id": "-JJdWsg_yJLx"
      },
      "execution_count": null,
      "outputs": [
        {
          "output_type": "execute_result",
          "data": {
            "text/plain": [
              "['2023-09-18_11-48-26.391636_from_74932482450_to_00288_session_3219964480_talk.mp3',\n",
              " '2023-09-18_12-54-18.603506_from_79160620083_to_00288_session_3220199190_talk.mp3',\n",
              " '2023-09-20_09-56-40.872148_from_905424768475_to_00288_session_3237457931_talk.mp3',\n",
              " '2023-09-19_13-53-47.892984_from_79037861965_to_00288_session_3222616640_talk.mp3',\n",
              " '2023-09-18_12-31-27.901544_from_79099465930_to_00288_session_3230778649_talk.mp3',\n",
              " '2023-09-17_17-31-02.604192_from_79165656567_to_00288_session_3225012783_talk.mp3',\n",
              " '2023-09-18_17-14-07.670764_from_79264028168_to_00288_session_3231837499_talk.mp3',\n",
              " '2023-09-17_15-30-32.547936_from_79033154042_to_00288_session_3218794065_talk.mp3',\n",
              " '2023-09-18_10-27-52.597249_from_79035129646_to_00288_session_3232383306_talk.mp3',\n",
              " '2023-09-16_17-35-42.402838_from_79607558395_to_00288_session_3230248941_talk.mp3']"
            ]
          },
          "metadata": {},
          "execution_count": 11
        }
      ]
    },
    {
      "cell_type": "code",
      "source": [
        "# Новые записи звонков\n",
        "print(f\"      Headliner: {len(os.listdir(new_dataset_path + 'Записи Headliner')):4d} записей\")\n",
        "print(f\"      Primavera: {len(os.listdir(new_dataset_path + 'Записи Primavera')):4d} записей\")\n",
        "print(f\"Павелецкая сити: {len(os.listdir(new_dataset_path + 'Записи Павелецкая сити')):4d} записей\")"
      ],
      "metadata": {
        "colab": {
          "base_uri": "https://localhost:8080/"
        },
        "outputId": "7c916a85-86c0-4b58-dc83-8acf6c6eb819",
        "id": "tQPNRUIIyJLy"
      },
      "execution_count": null,
      "outputs": [
        {
          "output_type": "stream",
          "name": "stdout",
          "text": [
            "      Headliner: 1226 записей\n",
            "      Primavera:  767 записей\n",
            "Павелецкая сити: 1413 записей\n"
          ]
        }
      ]
    },
    {
      "cell_type": "markdown",
      "source": [
        "### Headliner"
      ],
      "metadata": {
        "id": "9saXOfuKyJLz"
      }
    },
    {
      "cell_type": "markdown",
      "source": [
        "#### Создание датафрейма"
      ],
      "metadata": {
        "id": "lHJoSY_dyJLz"
      }
    },
    {
      "cell_type": "code",
      "source": [
        "# Создаём датафрейм из списка записей звонков\n",
        "Headliner_calls_df = calls_list_to_df(os.listdir(new_dataset_path + 'Записи Headliner'))\n",
        "Headliner_calls_df.shape"
      ],
      "metadata": {
        "colab": {
          "base_uri": "https://localhost:8080/"
        },
        "outputId": "d4a1aff9-089b-43c2-e916-2b48f6e5a364",
        "id": "8RYFeyRgyJL0"
      },
      "execution_count": null,
      "outputs": [
        {
          "output_type": "execute_result",
          "data": {
            "text/plain": [
              "(1226, 5)"
            ]
          },
          "metadata": {},
          "execution_count": 13
        }
      ]
    },
    {
      "cell_type": "code",
      "source": [
        "Headliner_calls_df.head()"
      ],
      "metadata": {
        "colab": {
          "base_uri": "https://localhost:8080/",
          "height": 310
        },
        "outputId": "4bb8adca-7a36-4f06-9e18-768d76b393c6",
        "id": "Kyg08qtPyJL0"
      },
      "execution_count": null,
      "outputs": [
        {
          "output_type": "execute_result",
          "data": {
            "text/plain": [
              "          Дата и время Номер абонента Номер сотрудника  \\\n",
              "0  2023-09-26 10:06:23    79584153294      74959339902   \n",
              "1  2023-09-21 18:54:50    79951538090          0188880   \n",
              "2  2023-09-27 16:10:52    79853697070          0188880   \n",
              "3  2023-09-25 09:12:02    79858141531      74959339902   \n",
              "4  2023-09-28 11:08:32    79851881681      74959339902   \n",
              "\n",
              "  Идентификатор сессии звонка  \\\n",
              "0                  3252459256   \n",
              "1                  3235156678   \n",
              "2                  3253840089   \n",
              "3                  3249639806   \n",
              "4                  3262172387   \n",
              "\n",
              "                                                                       Файл записи звонка  \n",
              "0  2023-09-26_10-06-23.403699_from_79584153294_to_74959339902_session_3252459256_talk.mp3  \n",
              "1      2023-09-21_18-54-50.120569_from_79951538090_to_0188880_session_3235156678_talk.mp3  \n",
              "2      2023-09-27_16-10-52.316459_from_79853697070_to_0188880_session_3253840089_talk.mp3  \n",
              "3  2023-09-25_09-12-02.428401_from_79858141531_to_74959339902_session_3249639806_talk.mp3  \n",
              "4  2023-09-28_11-08-32.052586_from_79851881681_to_74959339902_session_3262172387_talk.mp3  "
            ],
            "text/html": [
              "\n",
              "  <div id=\"df-df458d56-f27c-4991-aa82-1fed20fe2820\" class=\"colab-df-container\">\n",
              "    <div>\n",
              "<style scoped>\n",
              "    .dataframe tbody tr th:only-of-type {\n",
              "        vertical-align: middle;\n",
              "    }\n",
              "\n",
              "    .dataframe tbody tr th {\n",
              "        vertical-align: top;\n",
              "    }\n",
              "\n",
              "    .dataframe thead th {\n",
              "        text-align: right;\n",
              "    }\n",
              "</style>\n",
              "<table border=\"1\" class=\"dataframe\">\n",
              "  <thead>\n",
              "    <tr style=\"text-align: right;\">\n",
              "      <th></th>\n",
              "      <th>Дата и время</th>\n",
              "      <th>Номер абонента</th>\n",
              "      <th>Номер сотрудника</th>\n",
              "      <th>Идентификатор сессии звонка</th>\n",
              "      <th>Файл записи звонка</th>\n",
              "    </tr>\n",
              "  </thead>\n",
              "  <tbody>\n",
              "    <tr>\n",
              "      <th>0</th>\n",
              "      <td>2023-09-26 10:06:23</td>\n",
              "      <td>79584153294</td>\n",
              "      <td>74959339902</td>\n",
              "      <td>3252459256</td>\n",
              "      <td>2023-09-26_10-06-23.403699_from_79584153294_to_74959339902_session_3252459256_talk.mp3</td>\n",
              "    </tr>\n",
              "    <tr>\n",
              "      <th>1</th>\n",
              "      <td>2023-09-21 18:54:50</td>\n",
              "      <td>79951538090</td>\n",
              "      <td>0188880</td>\n",
              "      <td>3235156678</td>\n",
              "      <td>2023-09-21_18-54-50.120569_from_79951538090_to_0188880_session_3235156678_talk.mp3</td>\n",
              "    </tr>\n",
              "    <tr>\n",
              "      <th>2</th>\n",
              "      <td>2023-09-27 16:10:52</td>\n",
              "      <td>79853697070</td>\n",
              "      <td>0188880</td>\n",
              "      <td>3253840089</td>\n",
              "      <td>2023-09-27_16-10-52.316459_from_79853697070_to_0188880_session_3253840089_talk.mp3</td>\n",
              "    </tr>\n",
              "    <tr>\n",
              "      <th>3</th>\n",
              "      <td>2023-09-25 09:12:02</td>\n",
              "      <td>79858141531</td>\n",
              "      <td>74959339902</td>\n",
              "      <td>3249639806</td>\n",
              "      <td>2023-09-25_09-12-02.428401_from_79858141531_to_74959339902_session_3249639806_talk.mp3</td>\n",
              "    </tr>\n",
              "    <tr>\n",
              "      <th>4</th>\n",
              "      <td>2023-09-28 11:08:32</td>\n",
              "      <td>79851881681</td>\n",
              "      <td>74959339902</td>\n",
              "      <td>3262172387</td>\n",
              "      <td>2023-09-28_11-08-32.052586_from_79851881681_to_74959339902_session_3262172387_talk.mp3</td>\n",
              "    </tr>\n",
              "  </tbody>\n",
              "</table>\n",
              "</div>\n",
              "    <div class=\"colab-df-buttons\">\n",
              "\n",
              "  <div class=\"colab-df-container\">\n",
              "    <button class=\"colab-df-convert\" onclick=\"convertToInteractive('df-df458d56-f27c-4991-aa82-1fed20fe2820')\"\n",
              "            title=\"Convert this dataframe to an interactive table.\"\n",
              "            style=\"display:none;\">\n",
              "\n",
              "  <svg xmlns=\"http://www.w3.org/2000/svg\" height=\"24px\" viewBox=\"0 -960 960 960\">\n",
              "    <path d=\"M120-120v-720h720v720H120Zm60-500h600v-160H180v160Zm220 220h160v-160H400v160Zm0 220h160v-160H400v160ZM180-400h160v-160H180v160Zm440 0h160v-160H620v160ZM180-180h160v-160H180v160Zm440 0h160v-160H620v160Z\"/>\n",
              "  </svg>\n",
              "    </button>\n",
              "\n",
              "  <style>\n",
              "    .colab-df-container {\n",
              "      display:flex;\n",
              "      gap: 12px;\n",
              "    }\n",
              "\n",
              "    .colab-df-convert {\n",
              "      background-color: #E8F0FE;\n",
              "      border: none;\n",
              "      border-radius: 50%;\n",
              "      cursor: pointer;\n",
              "      display: none;\n",
              "      fill: #1967D2;\n",
              "      height: 32px;\n",
              "      padding: 0 0 0 0;\n",
              "      width: 32px;\n",
              "    }\n",
              "\n",
              "    .colab-df-convert:hover {\n",
              "      background-color: #E2EBFA;\n",
              "      box-shadow: 0px 1px 2px rgba(60, 64, 67, 0.3), 0px 1px 3px 1px rgba(60, 64, 67, 0.15);\n",
              "      fill: #174EA6;\n",
              "    }\n",
              "\n",
              "    .colab-df-buttons div {\n",
              "      margin-bottom: 4px;\n",
              "    }\n",
              "\n",
              "    [theme=dark] .colab-df-convert {\n",
              "      background-color: #3B4455;\n",
              "      fill: #D2E3FC;\n",
              "    }\n",
              "\n",
              "    [theme=dark] .colab-df-convert:hover {\n",
              "      background-color: #434B5C;\n",
              "      box-shadow: 0px 1px 3px 1px rgba(0, 0, 0, 0.15);\n",
              "      filter: drop-shadow(0px 1px 2px rgba(0, 0, 0, 0.3));\n",
              "      fill: #FFFFFF;\n",
              "    }\n",
              "  </style>\n",
              "\n",
              "    <script>\n",
              "      const buttonEl =\n",
              "        document.querySelector('#df-df458d56-f27c-4991-aa82-1fed20fe2820 button.colab-df-convert');\n",
              "      buttonEl.style.display =\n",
              "        google.colab.kernel.accessAllowed ? 'block' : 'none';\n",
              "\n",
              "      async function convertToInteractive(key) {\n",
              "        const element = document.querySelector('#df-df458d56-f27c-4991-aa82-1fed20fe2820');\n",
              "        const dataTable =\n",
              "          await google.colab.kernel.invokeFunction('convertToInteractive',\n",
              "                                                    [key], {});\n",
              "        if (!dataTable) return;\n",
              "\n",
              "        const docLinkHtml = 'Like what you see? Visit the ' +\n",
              "          '<a target=\"_blank\" href=https://colab.research.google.com/notebooks/data_table.ipynb>data table notebook</a>'\n",
              "          + ' to learn more about interactive tables.';\n",
              "        element.innerHTML = '';\n",
              "        dataTable['output_type'] = 'display_data';\n",
              "        await google.colab.output.renderOutput(dataTable, element);\n",
              "        const docLink = document.createElement('div');\n",
              "        docLink.innerHTML = docLinkHtml;\n",
              "        element.appendChild(docLink);\n",
              "      }\n",
              "    </script>\n",
              "  </div>\n",
              "\n",
              "\n",
              "<div id=\"df-6c8bc7e0-73e0-441d-ab9b-1e3029438b54\">\n",
              "  <button class=\"colab-df-quickchart\" onclick=\"quickchart('df-6c8bc7e0-73e0-441d-ab9b-1e3029438b54')\"\n",
              "            title=\"Suggest charts.\"\n",
              "            style=\"display:none;\">\n",
              "\n",
              "<svg xmlns=\"http://www.w3.org/2000/svg\" height=\"24px\"viewBox=\"0 0 24 24\"\n",
              "     width=\"24px\">\n",
              "    <g>\n",
              "        <path d=\"M19 3H5c-1.1 0-2 .9-2 2v14c0 1.1.9 2 2 2h14c1.1 0 2-.9 2-2V5c0-1.1-.9-2-2-2zM9 17H7v-7h2v7zm4 0h-2V7h2v10zm4 0h-2v-4h2v4z\"/>\n",
              "    </g>\n",
              "</svg>\n",
              "  </button>\n",
              "\n",
              "<style>\n",
              "  .colab-df-quickchart {\n",
              "      --bg-color: #E8F0FE;\n",
              "      --fill-color: #1967D2;\n",
              "      --hover-bg-color: #E2EBFA;\n",
              "      --hover-fill-color: #174EA6;\n",
              "      --disabled-fill-color: #AAA;\n",
              "      --disabled-bg-color: #DDD;\n",
              "  }\n",
              "\n",
              "  [theme=dark] .colab-df-quickchart {\n",
              "      --bg-color: #3B4455;\n",
              "      --fill-color: #D2E3FC;\n",
              "      --hover-bg-color: #434B5C;\n",
              "      --hover-fill-color: #FFFFFF;\n",
              "      --disabled-bg-color: #3B4455;\n",
              "      --disabled-fill-color: #666;\n",
              "  }\n",
              "\n",
              "  .colab-df-quickchart {\n",
              "    background-color: var(--bg-color);\n",
              "    border: none;\n",
              "    border-radius: 50%;\n",
              "    cursor: pointer;\n",
              "    display: none;\n",
              "    fill: var(--fill-color);\n",
              "    height: 32px;\n",
              "    padding: 0;\n",
              "    width: 32px;\n",
              "  }\n",
              "\n",
              "  .colab-df-quickchart:hover {\n",
              "    background-color: var(--hover-bg-color);\n",
              "    box-shadow: 0 1px 2px rgba(60, 64, 67, 0.3), 0 1px 3px 1px rgba(60, 64, 67, 0.15);\n",
              "    fill: var(--button-hover-fill-color);\n",
              "  }\n",
              "\n",
              "  .colab-df-quickchart-complete:disabled,\n",
              "  .colab-df-quickchart-complete:disabled:hover {\n",
              "    background-color: var(--disabled-bg-color);\n",
              "    fill: var(--disabled-fill-color);\n",
              "    box-shadow: none;\n",
              "  }\n",
              "\n",
              "  .colab-df-spinner {\n",
              "    border: 2px solid var(--fill-color);\n",
              "    border-color: transparent;\n",
              "    border-bottom-color: var(--fill-color);\n",
              "    animation:\n",
              "      spin 1s steps(1) infinite;\n",
              "  }\n",
              "\n",
              "  @keyframes spin {\n",
              "    0% {\n",
              "      border-color: transparent;\n",
              "      border-bottom-color: var(--fill-color);\n",
              "      border-left-color: var(--fill-color);\n",
              "    }\n",
              "    20% {\n",
              "      border-color: transparent;\n",
              "      border-left-color: var(--fill-color);\n",
              "      border-top-color: var(--fill-color);\n",
              "    }\n",
              "    30% {\n",
              "      border-color: transparent;\n",
              "      border-left-color: var(--fill-color);\n",
              "      border-top-color: var(--fill-color);\n",
              "      border-right-color: var(--fill-color);\n",
              "    }\n",
              "    40% {\n",
              "      border-color: transparent;\n",
              "      border-right-color: var(--fill-color);\n",
              "      border-top-color: var(--fill-color);\n",
              "    }\n",
              "    60% {\n",
              "      border-color: transparent;\n",
              "      border-right-color: var(--fill-color);\n",
              "    }\n",
              "    80% {\n",
              "      border-color: transparent;\n",
              "      border-right-color: var(--fill-color);\n",
              "      border-bottom-color: var(--fill-color);\n",
              "    }\n",
              "    90% {\n",
              "      border-color: transparent;\n",
              "      border-bottom-color: var(--fill-color);\n",
              "    }\n",
              "  }\n",
              "</style>\n",
              "\n",
              "  <script>\n",
              "    async function quickchart(key) {\n",
              "      const quickchartButtonEl =\n",
              "        document.querySelector('#' + key + ' button');\n",
              "      quickchartButtonEl.disabled = true;  // To prevent multiple clicks.\n",
              "      quickchartButtonEl.classList.add('colab-df-spinner');\n",
              "      try {\n",
              "        const charts = await google.colab.kernel.invokeFunction(\n",
              "            'suggestCharts', [key], {});\n",
              "      } catch (error) {\n",
              "        console.error('Error during call to suggestCharts:', error);\n",
              "      }\n",
              "      quickchartButtonEl.classList.remove('colab-df-spinner');\n",
              "      quickchartButtonEl.classList.add('colab-df-quickchart-complete');\n",
              "    }\n",
              "    (() => {\n",
              "      let quickchartButtonEl =\n",
              "        document.querySelector('#df-6c8bc7e0-73e0-441d-ab9b-1e3029438b54 button');\n",
              "      quickchartButtonEl.style.display =\n",
              "        google.colab.kernel.accessAllowed ? 'block' : 'none';\n",
              "    })();\n",
              "  </script>\n",
              "</div>\n",
              "    </div>\n",
              "  </div>\n"
            ]
          },
          "metadata": {},
          "execution_count": 14
        }
      ]
    },
    {
      "cell_type": "code",
      "source": [
        "# Проверяем количество строк\n",
        "print(len(os.listdir(new_dataset_path + 'Записи Headliner')))\n",
        "print(Headliner_calls_df.shape[0])"
      ],
      "metadata": {
        "colab": {
          "base_uri": "https://localhost:8080/"
        },
        "outputId": "c9ff1b7d-c25e-43f6-e7f0-9dad8557ea10",
        "id": "so32DMjpyJMh"
      },
      "execution_count": null,
      "outputs": [
        {
          "output_type": "stream",
          "name": "stdout",
          "text": [
            "1226\n",
            "1226\n"
          ]
        }
      ]
    },
    {
      "cell_type": "code",
      "source": [
        "print(Headliner_calls_df.count())"
      ],
      "metadata": {
        "colab": {
          "base_uri": "https://localhost:8080/"
        },
        "outputId": "794ad7aa-e46c-4be0-ae5f-e758d33151a7",
        "id": "inGMwf7VyJMi"
      },
      "execution_count": null,
      "outputs": [
        {
          "output_type": "stream",
          "name": "stdout",
          "text": [
            "Дата и время                   1226\n",
            "Номер абонента                 1226\n",
            "Номер сотрудника               1226\n",
            "Идентификатор сессии звонка    1226\n",
            "Файл записи звонка             1226\n",
            "dtype: int64\n"
          ]
        }
      ]
    },
    {
      "cell_type": "markdown",
      "source": [
        "#### Предобработка"
      ],
      "metadata": {
        "id": "xTN9Xgx5yJMj"
      }
    },
    {
      "cell_type": "markdown",
      "source": [
        "##### 0. Дата и время"
      ],
      "metadata": {
        "id": "Dxr5eTPayJMj"
      }
    },
    {
      "cell_type": "code",
      "source": [
        "Headliner_calls_df['Дата и время'].head()"
      ],
      "metadata": {
        "colab": {
          "base_uri": "https://localhost:8080/"
        },
        "outputId": "8764a7b5-c129-4b86-a94c-2529289824d6",
        "id": "8iOjIyqfyJMj"
      },
      "execution_count": null,
      "outputs": [
        {
          "output_type": "execute_result",
          "data": {
            "text/plain": [
              "0    2023-09-26 10:06:23\n",
              "1    2023-09-21 18:54:50\n",
              "2    2023-09-27 16:10:52\n",
              "3    2023-09-25 09:12:02\n",
              "4    2023-09-28 11:08:32\n",
              "Name: Дата и время, dtype: object"
            ]
          },
          "metadata": {},
          "execution_count": 17
        }
      ]
    },
    {
      "cell_type": "code",
      "source": [
        "# Приводим тип данных столбца 'Дата и время'\n",
        "Headliner_calls_df['Дата и время'] = pd.to_datetime(Headliner_calls_df['Дата и время'])"
      ],
      "metadata": {
        "id": "BrOLVXB1yJMk"
      },
      "execution_count": null,
      "outputs": []
    },
    {
      "cell_type": "code",
      "source": [
        "Headliner_calls_df['Дата и время'].tail()"
      ],
      "metadata": {
        "colab": {
          "base_uri": "https://localhost:8080/"
        },
        "outputId": "07e764cc-f91b-4e1a-ad90-79c00801d3b2",
        "id": "8exF4Vv2yJMk"
      },
      "execution_count": null,
      "outputs": [
        {
          "output_type": "execute_result",
          "data": {
            "text/plain": [
              "1221   2023-09-25 20:22:45\n",
              "1222   2023-09-27 15:04:39\n",
              "1223   2023-09-26 15:17:11\n",
              "1224   2023-09-26 11:33:50\n",
              "1225   2023-09-23 11:18:02\n",
              "Name: Дата и время, dtype: datetime64[ns]"
            ]
          },
          "metadata": {},
          "execution_count": 19
        }
      ]
    },
    {
      "cell_type": "markdown",
      "source": [
        "##### 1. Номер абонента"
      ],
      "metadata": {
        "id": "1XrNgyhoyJMk"
      }
    },
    {
      "cell_type": "code",
      "source": [
        "Headliner_calls_df['Номер абонента'].head()"
      ],
      "metadata": {
        "colab": {
          "base_uri": "https://localhost:8080/"
        },
        "outputId": "8c2661f5-7ba3-488a-eb9e-4c5a9713cd37",
        "id": "fRm3-A47yJMl"
      },
      "execution_count": null,
      "outputs": [
        {
          "output_type": "execute_result",
          "data": {
            "text/plain": [
              "0    79584153294\n",
              "1    79951538090\n",
              "2    79853697070\n",
              "3    79858141531\n",
              "4    79851881681\n",
              "Name: Номер абонента, dtype: object"
            ]
          },
          "metadata": {},
          "execution_count": 20
        }
      ]
    },
    {
      "cell_type": "code",
      "source": [
        "# Приводим тип данных столбца 'Номер абонента'\n",
        "Headliner_calls_df = Headliner_calls_df.astype({'Номер абонента': int})"
      ],
      "metadata": {
        "id": "bB1vHeikyJMm"
      },
      "execution_count": null,
      "outputs": []
    },
    {
      "cell_type": "code",
      "source": [
        "Headliner_calls_df['Номер абонента'].tail()"
      ],
      "metadata": {
        "colab": {
          "base_uri": "https://localhost:8080/"
        },
        "outputId": "94c574b8-57e8-4fbb-941b-500ecd1a5395",
        "id": "4hXBNi6XyJMn"
      },
      "execution_count": null,
      "outputs": [
        {
          "output_type": "execute_result",
          "data": {
            "text/plain": [
              "1221    79039077310\n",
              "1222    79964425592\n",
              "1223    79199453103\n",
              "1224    79264649878\n",
              "1225    79224128180\n",
              "Name: Номер абонента, dtype: int64"
            ]
          },
          "metadata": {},
          "execution_count": 22
        }
      ]
    },
    {
      "cell_type": "markdown",
      "source": [
        "##### 2. Номер сотрудника"
      ],
      "metadata": {
        "id": "ByP6oo3NyJMn"
      }
    },
    {
      "cell_type": "code",
      "source": [
        "Headliner_calls_df['Номер сотрудника'].head()"
      ],
      "metadata": {
        "colab": {
          "base_uri": "https://localhost:8080/"
        },
        "outputId": "78b285e7-713c-4f8f-d406-92bc4686570c",
        "id": "qJiMNxQhyJMn"
      },
      "execution_count": null,
      "outputs": [
        {
          "output_type": "execute_result",
          "data": {
            "text/plain": [
              "0    74959339902\n",
              "1        0188880\n",
              "2        0188880\n",
              "3    74959339902\n",
              "4    74959339902\n",
              "Name: Номер сотрудника, dtype: object"
            ]
          },
          "metadata": {},
          "execution_count": 23
        }
      ]
    },
    {
      "cell_type": "code",
      "source": [
        "# Приводим тип данных столбца 'Номер сотрудника'\n",
        "Headliner_calls_df = Headliner_calls_df.astype({'Номер сотрудника': int})"
      ],
      "metadata": {
        "id": "a27nBDs9yJMo"
      },
      "execution_count": null,
      "outputs": []
    },
    {
      "cell_type": "code",
      "source": [
        "Headliner_calls_df['Номер сотрудника'].tail()"
      ],
      "metadata": {
        "colab": {
          "base_uri": "https://localhost:8080/"
        },
        "outputId": "f97703f1-e902-4546-d1df-f058cf3995ab",
        "id": "_Sa0f02hyJMo"
      },
      "execution_count": null,
      "outputs": [
        {
          "output_type": "execute_result",
          "data": {
            "text/plain": [
              "1221    74959339902\n",
              "1222    74959339902\n",
              "1223         188880\n",
              "1224    74959339902\n",
              "1225         188880\n",
              "Name: Номер сотрудника, dtype: int64"
            ]
          },
          "metadata": {},
          "execution_count": 25
        }
      ]
    },
    {
      "cell_type": "markdown",
      "source": [
        "##### 3. Идентификатор сессии звонка"
      ],
      "metadata": {
        "id": "yLHWTCjVyJMp"
      }
    },
    {
      "cell_type": "code",
      "source": [
        "Headliner_calls_df['Идентификатор сессии звонка'].head()"
      ],
      "metadata": {
        "colab": {
          "base_uri": "https://localhost:8080/"
        },
        "outputId": "5a2e3f72-1cfd-4147-818a-3286c91fc204",
        "id": "wmz03NvvyJMp"
      },
      "execution_count": null,
      "outputs": [
        {
          "output_type": "execute_result",
          "data": {
            "text/plain": [
              "0    3252459256\n",
              "1    3235156678\n",
              "2    3253840089\n",
              "3    3249639806\n",
              "4    3262172387\n",
              "Name: Идентификатор сессии звонка, dtype: object"
            ]
          },
          "metadata": {},
          "execution_count": 26
        }
      ]
    },
    {
      "cell_type": "code",
      "source": [
        "# Приводим тип данных столбца 'Идентификатор сессии звонка'\n",
        "Headliner_calls_df = Headliner_calls_df.astype({'Идентификатор сессии звонка': int})"
      ],
      "metadata": {
        "id": "a7MbmrwJyJMq"
      },
      "execution_count": null,
      "outputs": []
    },
    {
      "cell_type": "code",
      "source": [
        "Headliner_calls_df['Идентификатор сессии звонка'].tail()"
      ],
      "metadata": {
        "colab": {
          "base_uri": "https://localhost:8080/"
        },
        "outputId": "16aefaf6-cf13-406a-c302-8b2ef16d056b",
        "id": "8VHR_CpRyJMr"
      },
      "execution_count": null,
      "outputs": [
        {
          "output_type": "execute_result",
          "data": {
            "text/plain": [
              "1221    3244316548\n",
              "1222    3240209630\n",
              "1223    3246045878\n",
              "1224    3245199518\n",
              "1225    3251344342\n",
              "Name: Идентификатор сессии звонка, dtype: int64"
            ]
          },
          "metadata": {},
          "execution_count": 28
        }
      ]
    },
    {
      "cell_type": "code",
      "source": [
        "# Смотрим количество уникальных значений столбца 'Идентификатор сессии звонка'\n",
        "Headliner_calls_df['Идентификатор сессии звонка'].nunique()"
      ],
      "metadata": {
        "colab": {
          "base_uri": "https://localhost:8080/"
        },
        "outputId": "09fc0a77-97b5-48e5-f8cd-d019e6a5b947",
        "id": "HyQnbqebyJNR"
      },
      "execution_count": null,
      "outputs": [
        {
          "output_type": "execute_result",
          "data": {
            "text/plain": [
              "1226"
            ]
          },
          "metadata": {},
          "execution_count": 29
        }
      ]
    },
    {
      "cell_type": "markdown",
      "source": [
        "##### 4. Файл записи звонка"
      ],
      "metadata": {
        "id": "vjsa6uTqyJNS"
      }
    },
    {
      "cell_type": "code",
      "source": [
        "Headliner_calls_df['Файл записи звонка'].head()"
      ],
      "metadata": {
        "colab": {
          "base_uri": "https://localhost:8080/"
        },
        "outputId": "cca4e88d-c84f-4b48-d766-c48772645da4",
        "id": "XCUhBfLSyJNS"
      },
      "execution_count": null,
      "outputs": [
        {
          "output_type": "execute_result",
          "data": {
            "text/plain": [
              "0    2023-09-26_10-06-23.403699_from_79584153294_to_74959339902_session_3252459256_talk.mp3\n",
              "1        2023-09-21_18-54-50.120569_from_79951538090_to_0188880_session_3235156678_talk.mp3\n",
              "2        2023-09-27_16-10-52.316459_from_79853697070_to_0188880_session_3253840089_talk.mp3\n",
              "3    2023-09-25_09-12-02.428401_from_79858141531_to_74959339902_session_3249639806_talk.mp3\n",
              "4    2023-09-28_11-08-32.052586_from_79851881681_to_74959339902_session_3262172387_talk.mp3\n",
              "Name: Файл записи звонка, dtype: object"
            ]
          },
          "metadata": {},
          "execution_count": 30
        }
      ]
    },
    {
      "cell_type": "code",
      "source": [
        "# Добавляем к файлам относительные пути\n",
        "Headliner_calls_df['Файл записи звонка'] = Headliner_calls_df['Файл записи звонка'].apply(lambda x: 'Новые записи звонков/Записи Headliner/' + x)"
      ],
      "metadata": {
        "id": "4QzC9jNoyJNU"
      },
      "execution_count": null,
      "outputs": []
    },
    {
      "cell_type": "code",
      "source": [
        "Headliner_calls_df['Файл записи звонка'].tail()"
      ],
      "metadata": {
        "colab": {
          "base_uri": "https://localhost:8080/"
        },
        "outputId": "ac855bee-8a1f-41ed-d2bd-091861aea853",
        "id": "PIddZaMwyJNU"
      },
      "execution_count": null,
      "outputs": [
        {
          "output_type": "execute_result",
          "data": {
            "text/plain": [
              "1221    Новые записи звонков/Записи Headliner/2023-09-25_20-22-45.880054_from_79039077310_to_74959339902_session_3244316548_talk.mp3\n",
              "1222    Новые записи звонков/Записи Headliner/2023-09-27_15-04-39.742280_from_79964425592_to_74959339902_session_3240209630_talk.mp3\n",
              "1223        Новые записи звонков/Записи Headliner/2023-09-26_15-17-11.305534_from_79199453103_to_0188880_session_3246045878_talk.mp3\n",
              "1224    Новые записи звонков/Записи Headliner/2023-09-26_11-33-50.933882_from_79264649878_to_74959339902_session_3245199518_talk.mp3\n",
              "1225        Новые записи звонков/Записи Headliner/2023-09-23_11-18-02.353443_from_79224128180_to_0188880_session_3251344342_talk.mp3\n",
              "Name: Файл записи звонка, dtype: object"
            ]
          },
          "metadata": {},
          "execution_count": 32
        }
      ]
    },
    {
      "cell_type": "markdown",
      "source": [
        "#### Типы данных"
      ],
      "metadata": {
        "id": "GZQfAf1tyJNU"
      }
    },
    {
      "cell_type": "code",
      "source": [
        "# Смотрим типы данных\n",
        "Headliner_calls_df.dtypes"
      ],
      "metadata": {
        "colab": {
          "base_uri": "https://localhost:8080/"
        },
        "outputId": "62c96d3c-b4ca-4377-f909-8319788d0d61",
        "id": "5Tl3T9PjyJNV"
      },
      "execution_count": null,
      "outputs": [
        {
          "output_type": "execute_result",
          "data": {
            "text/plain": [
              "Дата и время                   datetime64[ns]\n",
              "Номер абонента                          int64\n",
              "Номер сотрудника                        int64\n",
              "Идентификатор сессии звонка             int64\n",
              "Файл записи звонка                     object\n",
              "dtype: object"
            ]
          },
          "metadata": {},
          "execution_count": 33
        }
      ]
    },
    {
      "cell_type": "code",
      "source": [
        "print(Headliner_calls_df.count())"
      ],
      "metadata": {
        "colab": {
          "base_uri": "https://localhost:8080/"
        },
        "outputId": "a2a0a4f5-2221-4fb2-d096-d7ec57e86381",
        "id": "ejWTmgAKyJNW"
      },
      "execution_count": null,
      "outputs": [
        {
          "output_type": "stream",
          "name": "stdout",
          "text": [
            "Дата и время                   1226\n",
            "Номер абонента                 1226\n",
            "Номер сотрудника               1226\n",
            "Идентификатор сессии звонка    1226\n",
            "Файл записи звонка             1226\n",
            "dtype: int64\n"
          ]
        }
      ]
    },
    {
      "cell_type": "markdown",
      "source": [
        "#### Сохранение датафрейма"
      ],
      "metadata": {
        "id": "hGxYQ7KOyJNi"
      }
    },
    {
      "cell_type": "code",
      "source": [
        "# Сохраняем Headliner_calls_df в файл\n",
        "with open(df_path + 'Headliner_new_calls_df.pkl', 'wb') as f:\n",
        "  pkl.dump(Headliner_calls_df, f)"
      ],
      "metadata": {
        "id": "alMjV98TyJNi"
      },
      "execution_count": null,
      "outputs": []
    },
    {
      "cell_type": "markdown",
      "source": [
        "### Primavera"
      ],
      "metadata": {
        "id": "vpjCmAy8yJNj"
      }
    },
    {
      "cell_type": "markdown",
      "source": [
        "#### Создание датафрейма"
      ],
      "metadata": {
        "id": "SJfmU3hVyJNk"
      }
    },
    {
      "cell_type": "code",
      "source": [
        "# Создаём датафрейм из списка записей звонков\n",
        "Primavera_calls_df = calls_list_to_df(os.listdir(new_dataset_path + 'Записи Primavera'))\n",
        "Primavera_calls_df.shape"
      ],
      "metadata": {
        "colab": {
          "base_uri": "https://localhost:8080/"
        },
        "outputId": "c0c56319-aa17-42de-c19d-392b762ce13f",
        "id": "ZVlGNx1-yJNk"
      },
      "execution_count": null,
      "outputs": [
        {
          "output_type": "execute_result",
          "data": {
            "text/plain": [
              "(767, 5)"
            ]
          },
          "metadata": {},
          "execution_count": 36
        }
      ]
    },
    {
      "cell_type": "code",
      "source": [
        "Primavera_calls_df.head()"
      ],
      "metadata": {
        "colab": {
          "base_uri": "https://localhost:8080/",
          "height": 206
        },
        "outputId": "fc28fca1-3af7-45f9-9c9e-98e97bf13f4f",
        "id": "pzjtxQARyJNl"
      },
      "execution_count": null,
      "outputs": [
        {
          "output_type": "execute_result",
          "data": {
            "text/plain": [
              "          Дата и время Номер абонента Номер сотрудника  \\\n",
              "0  2023-09-30 12:19:55    79854305902          0253192   \n",
              "1  2023-10-04 19:40:25    74950210291          0253206   \n",
              "2  2023-10-04 15:52:11    79203810871          0253201   \n",
              "3  2023-10-02 20:00:47    74950210291          0150113   \n",
              "4  2023-10-04 16:50:31    79295237177          0111652   \n",
              "\n",
              "  Идентификатор сессии звонка  \\\n",
              "0                  3263012391   \n",
              "1                  3276780397   \n",
              "2                  3276172302   \n",
              "3                  3271743567   \n",
              "4                  3269469074   \n",
              "\n",
              "                                                                   Файл записи звонка  \n",
              "0  2023-09-30_12-19-55.312627_from_79854305902_to_0253192_session_3263012391_talk.mp3  \n",
              "1  2023-10-04_19-40-25.037187_from_74950210291_to_0253206_session_3276780397_talk.mp3  \n",
              "2  2023-10-04_15-52-11.200324_from_79203810871_to_0253201_session_3276172302_talk.mp3  \n",
              "3  2023-10-02_20-00-47.312686_from_74950210291_to_0150113_session_3271743567_talk.mp3  \n",
              "4  2023-10-04_16-50-31.267655_from_79295237177_to_0111652_session_3269469074_talk.mp3  "
            ],
            "text/html": [
              "\n",
              "  <div id=\"df-a29b4a8e-d1e4-4918-a71c-d5c7ec505719\" class=\"colab-df-container\">\n",
              "    <div>\n",
              "<style scoped>\n",
              "    .dataframe tbody tr th:only-of-type {\n",
              "        vertical-align: middle;\n",
              "    }\n",
              "\n",
              "    .dataframe tbody tr th {\n",
              "        vertical-align: top;\n",
              "    }\n",
              "\n",
              "    .dataframe thead th {\n",
              "        text-align: right;\n",
              "    }\n",
              "</style>\n",
              "<table border=\"1\" class=\"dataframe\">\n",
              "  <thead>\n",
              "    <tr style=\"text-align: right;\">\n",
              "      <th></th>\n",
              "      <th>Дата и время</th>\n",
              "      <th>Номер абонента</th>\n",
              "      <th>Номер сотрудника</th>\n",
              "      <th>Идентификатор сессии звонка</th>\n",
              "      <th>Файл записи звонка</th>\n",
              "    </tr>\n",
              "  </thead>\n",
              "  <tbody>\n",
              "    <tr>\n",
              "      <th>0</th>\n",
              "      <td>2023-09-30 12:19:55</td>\n",
              "      <td>79854305902</td>\n",
              "      <td>0253192</td>\n",
              "      <td>3263012391</td>\n",
              "      <td>2023-09-30_12-19-55.312627_from_79854305902_to_0253192_session_3263012391_talk.mp3</td>\n",
              "    </tr>\n",
              "    <tr>\n",
              "      <th>1</th>\n",
              "      <td>2023-10-04 19:40:25</td>\n",
              "      <td>74950210291</td>\n",
              "      <td>0253206</td>\n",
              "      <td>3276780397</td>\n",
              "      <td>2023-10-04_19-40-25.037187_from_74950210291_to_0253206_session_3276780397_talk.mp3</td>\n",
              "    </tr>\n",
              "    <tr>\n",
              "      <th>2</th>\n",
              "      <td>2023-10-04 15:52:11</td>\n",
              "      <td>79203810871</td>\n",
              "      <td>0253201</td>\n",
              "      <td>3276172302</td>\n",
              "      <td>2023-10-04_15-52-11.200324_from_79203810871_to_0253201_session_3276172302_talk.mp3</td>\n",
              "    </tr>\n",
              "    <tr>\n",
              "      <th>3</th>\n",
              "      <td>2023-10-02 20:00:47</td>\n",
              "      <td>74950210291</td>\n",
              "      <td>0150113</td>\n",
              "      <td>3271743567</td>\n",
              "      <td>2023-10-02_20-00-47.312686_from_74950210291_to_0150113_session_3271743567_talk.mp3</td>\n",
              "    </tr>\n",
              "    <tr>\n",
              "      <th>4</th>\n",
              "      <td>2023-10-04 16:50:31</td>\n",
              "      <td>79295237177</td>\n",
              "      <td>0111652</td>\n",
              "      <td>3269469074</td>\n",
              "      <td>2023-10-04_16-50-31.267655_from_79295237177_to_0111652_session_3269469074_talk.mp3</td>\n",
              "    </tr>\n",
              "  </tbody>\n",
              "</table>\n",
              "</div>\n",
              "    <div class=\"colab-df-buttons\">\n",
              "\n",
              "  <div class=\"colab-df-container\">\n",
              "    <button class=\"colab-df-convert\" onclick=\"convertToInteractive('df-a29b4a8e-d1e4-4918-a71c-d5c7ec505719')\"\n",
              "            title=\"Convert this dataframe to an interactive table.\"\n",
              "            style=\"display:none;\">\n",
              "\n",
              "  <svg xmlns=\"http://www.w3.org/2000/svg\" height=\"24px\" viewBox=\"0 -960 960 960\">\n",
              "    <path d=\"M120-120v-720h720v720H120Zm60-500h600v-160H180v160Zm220 220h160v-160H400v160Zm0 220h160v-160H400v160ZM180-400h160v-160H180v160Zm440 0h160v-160H620v160ZM180-180h160v-160H180v160Zm440 0h160v-160H620v160Z\"/>\n",
              "  </svg>\n",
              "    </button>\n",
              "\n",
              "  <style>\n",
              "    .colab-df-container {\n",
              "      display:flex;\n",
              "      gap: 12px;\n",
              "    }\n",
              "\n",
              "    .colab-df-convert {\n",
              "      background-color: #E8F0FE;\n",
              "      border: none;\n",
              "      border-radius: 50%;\n",
              "      cursor: pointer;\n",
              "      display: none;\n",
              "      fill: #1967D2;\n",
              "      height: 32px;\n",
              "      padding: 0 0 0 0;\n",
              "      width: 32px;\n",
              "    }\n",
              "\n",
              "    .colab-df-convert:hover {\n",
              "      background-color: #E2EBFA;\n",
              "      box-shadow: 0px 1px 2px rgba(60, 64, 67, 0.3), 0px 1px 3px 1px rgba(60, 64, 67, 0.15);\n",
              "      fill: #174EA6;\n",
              "    }\n",
              "\n",
              "    .colab-df-buttons div {\n",
              "      margin-bottom: 4px;\n",
              "    }\n",
              "\n",
              "    [theme=dark] .colab-df-convert {\n",
              "      background-color: #3B4455;\n",
              "      fill: #D2E3FC;\n",
              "    }\n",
              "\n",
              "    [theme=dark] .colab-df-convert:hover {\n",
              "      background-color: #434B5C;\n",
              "      box-shadow: 0px 1px 3px 1px rgba(0, 0, 0, 0.15);\n",
              "      filter: drop-shadow(0px 1px 2px rgba(0, 0, 0, 0.3));\n",
              "      fill: #FFFFFF;\n",
              "    }\n",
              "  </style>\n",
              "\n",
              "    <script>\n",
              "      const buttonEl =\n",
              "        document.querySelector('#df-a29b4a8e-d1e4-4918-a71c-d5c7ec505719 button.colab-df-convert');\n",
              "      buttonEl.style.display =\n",
              "        google.colab.kernel.accessAllowed ? 'block' : 'none';\n",
              "\n",
              "      async function convertToInteractive(key) {\n",
              "        const element = document.querySelector('#df-a29b4a8e-d1e4-4918-a71c-d5c7ec505719');\n",
              "        const dataTable =\n",
              "          await google.colab.kernel.invokeFunction('convertToInteractive',\n",
              "                                                    [key], {});\n",
              "        if (!dataTable) return;\n",
              "\n",
              "        const docLinkHtml = 'Like what you see? Visit the ' +\n",
              "          '<a target=\"_blank\" href=https://colab.research.google.com/notebooks/data_table.ipynb>data table notebook</a>'\n",
              "          + ' to learn more about interactive tables.';\n",
              "        element.innerHTML = '';\n",
              "        dataTable['output_type'] = 'display_data';\n",
              "        await google.colab.output.renderOutput(dataTable, element);\n",
              "        const docLink = document.createElement('div');\n",
              "        docLink.innerHTML = docLinkHtml;\n",
              "        element.appendChild(docLink);\n",
              "      }\n",
              "    </script>\n",
              "  </div>\n",
              "\n",
              "\n",
              "<div id=\"df-57b7f3c4-0c55-43aa-9c6b-7756cdbbfd64\">\n",
              "  <button class=\"colab-df-quickchart\" onclick=\"quickchart('df-57b7f3c4-0c55-43aa-9c6b-7756cdbbfd64')\"\n",
              "            title=\"Suggest charts.\"\n",
              "            style=\"display:none;\">\n",
              "\n",
              "<svg xmlns=\"http://www.w3.org/2000/svg\" height=\"24px\"viewBox=\"0 0 24 24\"\n",
              "     width=\"24px\">\n",
              "    <g>\n",
              "        <path d=\"M19 3H5c-1.1 0-2 .9-2 2v14c0 1.1.9 2 2 2h14c1.1 0 2-.9 2-2V5c0-1.1-.9-2-2-2zM9 17H7v-7h2v7zm4 0h-2V7h2v10zm4 0h-2v-4h2v4z\"/>\n",
              "    </g>\n",
              "</svg>\n",
              "  </button>\n",
              "\n",
              "<style>\n",
              "  .colab-df-quickchart {\n",
              "      --bg-color: #E8F0FE;\n",
              "      --fill-color: #1967D2;\n",
              "      --hover-bg-color: #E2EBFA;\n",
              "      --hover-fill-color: #174EA6;\n",
              "      --disabled-fill-color: #AAA;\n",
              "      --disabled-bg-color: #DDD;\n",
              "  }\n",
              "\n",
              "  [theme=dark] .colab-df-quickchart {\n",
              "      --bg-color: #3B4455;\n",
              "      --fill-color: #D2E3FC;\n",
              "      --hover-bg-color: #434B5C;\n",
              "      --hover-fill-color: #FFFFFF;\n",
              "      --disabled-bg-color: #3B4455;\n",
              "      --disabled-fill-color: #666;\n",
              "  }\n",
              "\n",
              "  .colab-df-quickchart {\n",
              "    background-color: var(--bg-color);\n",
              "    border: none;\n",
              "    border-radius: 50%;\n",
              "    cursor: pointer;\n",
              "    display: none;\n",
              "    fill: var(--fill-color);\n",
              "    height: 32px;\n",
              "    padding: 0;\n",
              "    width: 32px;\n",
              "  }\n",
              "\n",
              "  .colab-df-quickchart:hover {\n",
              "    background-color: var(--hover-bg-color);\n",
              "    box-shadow: 0 1px 2px rgba(60, 64, 67, 0.3), 0 1px 3px 1px rgba(60, 64, 67, 0.15);\n",
              "    fill: var(--button-hover-fill-color);\n",
              "  }\n",
              "\n",
              "  .colab-df-quickchart-complete:disabled,\n",
              "  .colab-df-quickchart-complete:disabled:hover {\n",
              "    background-color: var(--disabled-bg-color);\n",
              "    fill: var(--disabled-fill-color);\n",
              "    box-shadow: none;\n",
              "  }\n",
              "\n",
              "  .colab-df-spinner {\n",
              "    border: 2px solid var(--fill-color);\n",
              "    border-color: transparent;\n",
              "    border-bottom-color: var(--fill-color);\n",
              "    animation:\n",
              "      spin 1s steps(1) infinite;\n",
              "  }\n",
              "\n",
              "  @keyframes spin {\n",
              "    0% {\n",
              "      border-color: transparent;\n",
              "      border-bottom-color: var(--fill-color);\n",
              "      border-left-color: var(--fill-color);\n",
              "    }\n",
              "    20% {\n",
              "      border-color: transparent;\n",
              "      border-left-color: var(--fill-color);\n",
              "      border-top-color: var(--fill-color);\n",
              "    }\n",
              "    30% {\n",
              "      border-color: transparent;\n",
              "      border-left-color: var(--fill-color);\n",
              "      border-top-color: var(--fill-color);\n",
              "      border-right-color: var(--fill-color);\n",
              "    }\n",
              "    40% {\n",
              "      border-color: transparent;\n",
              "      border-right-color: var(--fill-color);\n",
              "      border-top-color: var(--fill-color);\n",
              "    }\n",
              "    60% {\n",
              "      border-color: transparent;\n",
              "      border-right-color: var(--fill-color);\n",
              "    }\n",
              "    80% {\n",
              "      border-color: transparent;\n",
              "      border-right-color: var(--fill-color);\n",
              "      border-bottom-color: var(--fill-color);\n",
              "    }\n",
              "    90% {\n",
              "      border-color: transparent;\n",
              "      border-bottom-color: var(--fill-color);\n",
              "    }\n",
              "  }\n",
              "</style>\n",
              "\n",
              "  <script>\n",
              "    async function quickchart(key) {\n",
              "      const quickchartButtonEl =\n",
              "        document.querySelector('#' + key + ' button');\n",
              "      quickchartButtonEl.disabled = true;  // To prevent multiple clicks.\n",
              "      quickchartButtonEl.classList.add('colab-df-spinner');\n",
              "      try {\n",
              "        const charts = await google.colab.kernel.invokeFunction(\n",
              "            'suggestCharts', [key], {});\n",
              "      } catch (error) {\n",
              "        console.error('Error during call to suggestCharts:', error);\n",
              "      }\n",
              "      quickchartButtonEl.classList.remove('colab-df-spinner');\n",
              "      quickchartButtonEl.classList.add('colab-df-quickchart-complete');\n",
              "    }\n",
              "    (() => {\n",
              "      let quickchartButtonEl =\n",
              "        document.querySelector('#df-57b7f3c4-0c55-43aa-9c6b-7756cdbbfd64 button');\n",
              "      quickchartButtonEl.style.display =\n",
              "        google.colab.kernel.accessAllowed ? 'block' : 'none';\n",
              "    })();\n",
              "  </script>\n",
              "</div>\n",
              "    </div>\n",
              "  </div>\n"
            ]
          },
          "metadata": {},
          "execution_count": 37
        }
      ]
    },
    {
      "cell_type": "code",
      "source": [
        "# Проверяем количество строк\n",
        "print(len(os.listdir(new_dataset_path + 'Записи Primavera')))\n",
        "print(Primavera_calls_df.shape[0])"
      ],
      "metadata": {
        "colab": {
          "base_uri": "https://localhost:8080/"
        },
        "outputId": "cfa26ceb-13cf-4edb-be4b-cf956d3e3f76",
        "id": "d_8lrujtyJNl"
      },
      "execution_count": null,
      "outputs": [
        {
          "output_type": "stream",
          "name": "stdout",
          "text": [
            "767\n",
            "767\n"
          ]
        }
      ]
    },
    {
      "cell_type": "code",
      "source": [
        "print(Primavera_calls_df.count())"
      ],
      "metadata": {
        "colab": {
          "base_uri": "https://localhost:8080/"
        },
        "outputId": "a99a38e4-391d-4768-e4b3-c12336353af2",
        "id": "euEG5N1GyJNm"
      },
      "execution_count": null,
      "outputs": [
        {
          "output_type": "stream",
          "name": "stdout",
          "text": [
            "Дата и время                   767\n",
            "Номер абонента                 767\n",
            "Номер сотрудника               767\n",
            "Идентификатор сессии звонка    767\n",
            "Файл записи звонка             767\n",
            "dtype: int64\n"
          ]
        }
      ]
    },
    {
      "cell_type": "markdown",
      "source": [
        "#### Предобработка"
      ],
      "metadata": {
        "id": "ciSo_g5vyJNo"
      }
    },
    {
      "cell_type": "markdown",
      "source": [
        "##### 0. Дата и время"
      ],
      "metadata": {
        "id": "TDRfh5YAyJNo"
      }
    },
    {
      "cell_type": "code",
      "source": [
        "Primavera_calls_df['Дата и время'].head()"
      ],
      "metadata": {
        "colab": {
          "base_uri": "https://localhost:8080/"
        },
        "outputId": "5c16598c-30fc-4c3e-e2d1-a951643cd8ca",
        "id": "qgTqgt0EyJNp"
      },
      "execution_count": null,
      "outputs": [
        {
          "output_type": "execute_result",
          "data": {
            "text/plain": [
              "0    2023-09-30 12:19:55\n",
              "1    2023-10-04 19:40:25\n",
              "2    2023-10-04 15:52:11\n",
              "3    2023-10-02 20:00:47\n",
              "4    2023-10-04 16:50:31\n",
              "Name: Дата и время, dtype: object"
            ]
          },
          "metadata": {},
          "execution_count": 40
        }
      ]
    },
    {
      "cell_type": "code",
      "source": [
        "# Приводим тип данных столбца 'Дата и время'\n",
        "Primavera_calls_df['Дата и время'] = pd.to_datetime(Primavera_calls_df['Дата и время'])"
      ],
      "metadata": {
        "id": "cwciG9OGyJNp"
      },
      "execution_count": null,
      "outputs": []
    },
    {
      "cell_type": "code",
      "source": [
        "Primavera_calls_df['Дата и время'].tail()"
      ],
      "metadata": {
        "colab": {
          "base_uri": "https://localhost:8080/"
        },
        "outputId": "5773ac52-7d61-40c1-ac6f-c33a151596e8",
        "id": "QA4_9LXjyJNq"
      },
      "execution_count": null,
      "outputs": [
        {
          "output_type": "execute_result",
          "data": {
            "text/plain": [
              "762   2023-09-03 16:24:54\n",
              "763   2023-09-02 17:12:27\n",
              "764   2023-09-03 15:19:38\n",
              "765   2023-09-02 17:49:06\n",
              "766   2023-09-01 12:35:50\n",
              "Name: Дата и время, dtype: datetime64[ns]"
            ]
          },
          "metadata": {},
          "execution_count": 42
        }
      ]
    },
    {
      "cell_type": "markdown",
      "source": [
        "##### 1. Номер абонента"
      ],
      "metadata": {
        "id": "rt1IkSMfyJNq"
      }
    },
    {
      "cell_type": "code",
      "source": [
        "Primavera_calls_df['Номер абонента'].head()"
      ],
      "metadata": {
        "colab": {
          "base_uri": "https://localhost:8080/"
        },
        "outputId": "0f172390-9ef5-4cc3-d8d0-6e7d961fb21a",
        "id": "2RjXJ2TqyJNr"
      },
      "execution_count": null,
      "outputs": [
        {
          "output_type": "execute_result",
          "data": {
            "text/plain": [
              "0    79854305902\n",
              "1    74950210291\n",
              "2    79203810871\n",
              "3    74950210291\n",
              "4    79295237177\n",
              "Name: Номер абонента, dtype: object"
            ]
          },
          "metadata": {},
          "execution_count": 43
        }
      ]
    },
    {
      "cell_type": "code",
      "source": [
        "# Приводим тип данных столбца 'Номер абонента'\n",
        "Primavera_calls_df = Primavera_calls_df.astype({'Номер абонента': int})"
      ],
      "metadata": {
        "id": "0PsKCOiXyJNr"
      },
      "execution_count": null,
      "outputs": []
    },
    {
      "cell_type": "code",
      "source": [
        "Primavera_calls_df['Номер абонента'].tail()"
      ],
      "metadata": {
        "colab": {
          "base_uri": "https://localhost:8080/"
        },
        "outputId": "52b67e28-5769-4786-c713-8cb27d7397ff",
        "id": "_mjGFyvVyJOe"
      },
      "execution_count": null,
      "outputs": [
        {
          "output_type": "execute_result",
          "data": {
            "text/plain": [
              "762    74991918588\n",
              "763    79296548451\n",
              "764    79167387714\n",
              "765    74950210291\n",
              "766    79776807507\n",
              "Name: Номер абонента, dtype: int64"
            ]
          },
          "metadata": {},
          "execution_count": 45
        }
      ]
    },
    {
      "cell_type": "markdown",
      "source": [
        "##### 2. Номер сотрудника"
      ],
      "metadata": {
        "id": "h4xJTWVVyJOe"
      }
    },
    {
      "cell_type": "code",
      "source": [
        "Primavera_calls_df['Номер сотрудника'].head()"
      ],
      "metadata": {
        "colab": {
          "base_uri": "https://localhost:8080/"
        },
        "outputId": "b415b3b7-8ac4-42a3-843f-e259284cc136",
        "id": "d0cvRZawyJOf"
      },
      "execution_count": null,
      "outputs": [
        {
          "output_type": "execute_result",
          "data": {
            "text/plain": [
              "0    0253192\n",
              "1    0253206\n",
              "2    0253201\n",
              "3    0150113\n",
              "4    0111652\n",
              "Name: Номер сотрудника, dtype: object"
            ]
          },
          "metadata": {},
          "execution_count": 46
        }
      ]
    },
    {
      "cell_type": "code",
      "source": [
        "# Приводим тип данных столбца 'Номер сотрудника'\n",
        "Primavera_calls_df = Primavera_calls_df.astype({'Номер сотрудника': int})"
      ],
      "metadata": {
        "id": "9nInGRJXyJOf"
      },
      "execution_count": null,
      "outputs": []
    },
    {
      "cell_type": "code",
      "source": [
        "Primavera_calls_df['Номер сотрудника'].tail()"
      ],
      "metadata": {
        "colab": {
          "base_uri": "https://localhost:8080/"
        },
        "outputId": "62b6fd19-b6ef-436f-852a-f668686af4cc",
        "id": "Uxc1oXxQyJOg"
      },
      "execution_count": null,
      "outputs": [
        {
          "output_type": "execute_result",
          "data": {
            "text/plain": [
              "762    150108\n",
              "763    253208\n",
              "764    111642\n",
              "765    111639\n",
              "766    253211\n",
              "Name: Номер сотрудника, dtype: int64"
            ]
          },
          "metadata": {},
          "execution_count": 48
        }
      ]
    },
    {
      "cell_type": "markdown",
      "source": [
        "##### 3. Идентификатор сессии звонка"
      ],
      "metadata": {
        "id": "hcx3vtahyJOg"
      }
    },
    {
      "cell_type": "code",
      "source": [
        "Primavera_calls_df['Идентификатор сессии звонка'].head()"
      ],
      "metadata": {
        "colab": {
          "base_uri": "https://localhost:8080/"
        },
        "outputId": "44dcb1c6-f91a-4d57-e1b4-21c7c08f7e6f",
        "id": "QDr7IWA5yJOh"
      },
      "execution_count": null,
      "outputs": [
        {
          "output_type": "execute_result",
          "data": {
            "text/plain": [
              "0    3263012391\n",
              "1    3276780397\n",
              "2    3276172302\n",
              "3    3271743567\n",
              "4    3269469074\n",
              "Name: Идентификатор сессии звонка, dtype: object"
            ]
          },
          "metadata": {},
          "execution_count": 49
        }
      ]
    },
    {
      "cell_type": "code",
      "source": [
        "# Приводим тип данных столбца 'Идентификатор сессии звонка'\n",
        "Primavera_calls_df = Primavera_calls_df.astype({'Идентификатор сессии звонка': int})"
      ],
      "metadata": {
        "id": "rgdyiyrUyJO6"
      },
      "execution_count": null,
      "outputs": []
    },
    {
      "cell_type": "code",
      "source": [
        "Primavera_calls_df['Идентификатор сессии звонка'].tail()"
      ],
      "metadata": {
        "colab": {
          "base_uri": "https://localhost:8080/"
        },
        "outputId": "da8075db-c2a5-4428-e78b-52e2b767d1bf",
        "id": "M4VhXs6dyJO6"
      },
      "execution_count": null,
      "outputs": [
        {
          "output_type": "execute_result",
          "data": {
            "text/plain": [
              "762    3195081143\n",
              "763    3197045974\n",
              "764    3198170594\n",
              "765    3204178922\n",
              "766    3188505725\n",
              "Name: Идентификатор сессии звонка, dtype: int64"
            ]
          },
          "metadata": {},
          "execution_count": 51
        }
      ]
    },
    {
      "cell_type": "code",
      "source": [
        "# Смотрим количество уникальных значений столбца 'Идентификатор сессии звонка'\n",
        "Primavera_calls_df['Идентификатор сессии звонка'].nunique()"
      ],
      "metadata": {
        "colab": {
          "base_uri": "https://localhost:8080/"
        },
        "outputId": "e5dbd7fa-f75e-4289-ed74-404ca9ead18e",
        "id": "YL16e8_pyJO8"
      },
      "execution_count": null,
      "outputs": [
        {
          "output_type": "execute_result",
          "data": {
            "text/plain": [
              "767"
            ]
          },
          "metadata": {},
          "execution_count": 52
        }
      ]
    },
    {
      "cell_type": "markdown",
      "source": [
        "##### 4. Файл записи звонка"
      ],
      "metadata": {
        "id": "wp9B5JIFyJO9"
      }
    },
    {
      "cell_type": "code",
      "source": [
        "Primavera_calls_df['Файл записи звонка'].head()"
      ],
      "metadata": {
        "colab": {
          "base_uri": "https://localhost:8080/"
        },
        "outputId": "49b0c1d2-5c30-4176-852c-32b0f92b3074",
        "id": "y7k6OvStyJO9"
      },
      "execution_count": null,
      "outputs": [
        {
          "output_type": "execute_result",
          "data": {
            "text/plain": [
              "0    2023-09-30_12-19-55.312627_from_79854305902_to_0253192_session_3263012391_talk.mp3\n",
              "1    2023-10-04_19-40-25.037187_from_74950210291_to_0253206_session_3276780397_talk.mp3\n",
              "2    2023-10-04_15-52-11.200324_from_79203810871_to_0253201_session_3276172302_talk.mp3\n",
              "3    2023-10-02_20-00-47.312686_from_74950210291_to_0150113_session_3271743567_talk.mp3\n",
              "4    2023-10-04_16-50-31.267655_from_79295237177_to_0111652_session_3269469074_talk.mp3\n",
              "Name: Файл записи звонка, dtype: object"
            ]
          },
          "metadata": {},
          "execution_count": 53
        }
      ]
    },
    {
      "cell_type": "code",
      "source": [
        "# Добавляем к файлам относительные пути\n",
        "Primavera_calls_df['Файл записи звонка'] = Primavera_calls_df['Файл записи звонка'].apply(lambda x: 'Новые записи звонков/Записи Primavera/' + x)"
      ],
      "metadata": {
        "id": "4PtflTC_yJO-"
      },
      "execution_count": null,
      "outputs": []
    },
    {
      "cell_type": "code",
      "source": [
        "Primavera_calls_df['Файл записи звонка'].tail()"
      ],
      "metadata": {
        "colab": {
          "base_uri": "https://localhost:8080/"
        },
        "outputId": "d6e319b6-0b55-46c7-ff14-e3c57ff64ed3",
        "id": "yeQLqwCqyJO-"
      },
      "execution_count": null,
      "outputs": [
        {
          "output_type": "execute_result",
          "data": {
            "text/plain": [
              "762    Новые записи звонков/Записи Primavera/2023-09-03_16-24-54.121808_from_74991918588_to_0150108_session_3195081143_talk.mp3\n",
              "763    Новые записи звонков/Записи Primavera/2023-09-02_17-12-27.813266_from_79296548451_to_0253208_session_3197045974_talk.mp3\n",
              "764    Новые записи звонков/Записи Primavera/2023-09-03_15-19-38.712929_from_79167387714_to_0111642_session_3198170594_talk.mp3\n",
              "765    Новые записи звонков/Записи Primavera/2023-09-02_17-49-06.100800_from_74950210291_to_0111639_session_3204178922_talk.mp3\n",
              "766    Новые записи звонков/Записи Primavera/2023-09-01_12-35-50.915379_from_79776807507_to_0253211_session_3188505725_talk.mp3\n",
              "Name: Файл записи звонка, dtype: object"
            ]
          },
          "metadata": {},
          "execution_count": 55
        }
      ]
    },
    {
      "cell_type": "markdown",
      "source": [
        "#### Типы данных"
      ],
      "metadata": {
        "id": "EgJLin2SyJO_"
      }
    },
    {
      "cell_type": "code",
      "source": [
        "# Смотрим типы данных\n",
        "Primavera_calls_df.dtypes"
      ],
      "metadata": {
        "colab": {
          "base_uri": "https://localhost:8080/"
        },
        "outputId": "c096d929-4971-4de9-9c40-581de8668ea8",
        "id": "U_phUYHGyJO_"
      },
      "execution_count": null,
      "outputs": [
        {
          "output_type": "execute_result",
          "data": {
            "text/plain": [
              "Дата и время                   datetime64[ns]\n",
              "Номер абонента                          int64\n",
              "Номер сотрудника                        int64\n",
              "Идентификатор сессии звонка             int64\n",
              "Файл записи звонка                     object\n",
              "dtype: object"
            ]
          },
          "metadata": {},
          "execution_count": 56
        }
      ]
    },
    {
      "cell_type": "code",
      "source": [
        "print(Primavera_calls_df.count())"
      ],
      "metadata": {
        "colab": {
          "base_uri": "https://localhost:8080/"
        },
        "outputId": "9fd2d691-7557-4598-d50f-956be0b426e4",
        "id": "E_o3kGzlyJO_"
      },
      "execution_count": null,
      "outputs": [
        {
          "output_type": "stream",
          "name": "stdout",
          "text": [
            "Дата и время                   767\n",
            "Номер абонента                 767\n",
            "Номер сотрудника               767\n",
            "Идентификатор сессии звонка    767\n",
            "Файл записи звонка             767\n",
            "dtype: int64\n"
          ]
        }
      ]
    },
    {
      "cell_type": "markdown",
      "source": [
        "#### Сохранение датафрейма"
      ],
      "metadata": {
        "id": "YscPe5fGyJPA"
      }
    },
    {
      "cell_type": "code",
      "source": [
        "# Сохраняем Primavera_calls_df в файл\n",
        "with open(df_path + 'Primavera_new_calls_df.pkl', 'wb') as f:\n",
        "  pkl.dump(Primavera_calls_df, f)"
      ],
      "metadata": {
        "id": "Kq3_Z-YxyJPA"
      },
      "execution_count": null,
      "outputs": []
    },
    {
      "cell_type": "markdown",
      "source": [
        "### Paveletskaya_city"
      ],
      "metadata": {
        "id": "77U1RbUJyJPB"
      }
    },
    {
      "cell_type": "markdown",
      "source": [
        "#### Создание датафрейма"
      ],
      "metadata": {
        "id": "c03YZpvUyJPO"
      }
    },
    {
      "cell_type": "code",
      "source": [
        "# Создаём датафрейм из списка записей звонков\n",
        "Paveletskaya_city_calls_df = calls_list_to_df(os.listdir(new_dataset_path + 'Записи Павелецкая сити'))\n",
        "Paveletskaya_city_calls_df.shape"
      ],
      "metadata": {
        "colab": {
          "base_uri": "https://localhost:8080/"
        },
        "outputId": "387c2acc-856f-4a82-b7d9-bf440aac67fd",
        "id": "K3WQcaMoyJPO"
      },
      "execution_count": null,
      "outputs": [
        {
          "output_type": "execute_result",
          "data": {
            "text/plain": [
              "(1413, 5)"
            ]
          },
          "metadata": {},
          "execution_count": 59
        }
      ]
    },
    {
      "cell_type": "code",
      "source": [
        "Paveletskaya_city_calls_df.head()"
      ],
      "metadata": {
        "colab": {
          "base_uri": "https://localhost:8080/",
          "height": 206
        },
        "outputId": "e65c733e-6d21-4dd1-8459-af88798e3faf",
        "id": "aLvxM2zyyJPP"
      },
      "execution_count": null,
      "outputs": [
        {
          "output_type": "execute_result",
          "data": {
            "text/plain": [
              "          Дата и время Номер абонента Номер сотрудника  \\\n",
              "0  2023-09-18 11:48:26    74932482450            00288   \n",
              "1  2023-09-18 12:54:18    79160620083            00288   \n",
              "2  2023-09-20 09:56:40   905424768475            00288   \n",
              "3  2023-09-19 13:53:47    79037861965            00288   \n",
              "4  2023-09-18 12:31:27    79099465930            00288   \n",
              "\n",
              "  Идентификатор сессии звонка  \\\n",
              "0                  3219964480   \n",
              "1                  3220199190   \n",
              "2                  3237457931   \n",
              "3                  3222616640   \n",
              "4                  3230778649   \n",
              "\n",
              "                                                                  Файл записи звонка  \n",
              "0   2023-09-18_11-48-26.391636_from_74932482450_to_00288_session_3219964480_talk.mp3  \n",
              "1   2023-09-18_12-54-18.603506_from_79160620083_to_00288_session_3220199190_talk.mp3  \n",
              "2  2023-09-20_09-56-40.872148_from_905424768475_to_00288_session_3237457931_talk.mp3  \n",
              "3   2023-09-19_13-53-47.892984_from_79037861965_to_00288_session_3222616640_talk.mp3  \n",
              "4   2023-09-18_12-31-27.901544_from_79099465930_to_00288_session_3230778649_talk.mp3  "
            ],
            "text/html": [
              "\n",
              "  <div id=\"df-35242263-f7ab-484a-af64-d0e58650c13e\" class=\"colab-df-container\">\n",
              "    <div>\n",
              "<style scoped>\n",
              "    .dataframe tbody tr th:only-of-type {\n",
              "        vertical-align: middle;\n",
              "    }\n",
              "\n",
              "    .dataframe tbody tr th {\n",
              "        vertical-align: top;\n",
              "    }\n",
              "\n",
              "    .dataframe thead th {\n",
              "        text-align: right;\n",
              "    }\n",
              "</style>\n",
              "<table border=\"1\" class=\"dataframe\">\n",
              "  <thead>\n",
              "    <tr style=\"text-align: right;\">\n",
              "      <th></th>\n",
              "      <th>Дата и время</th>\n",
              "      <th>Номер абонента</th>\n",
              "      <th>Номер сотрудника</th>\n",
              "      <th>Идентификатор сессии звонка</th>\n",
              "      <th>Файл записи звонка</th>\n",
              "    </tr>\n",
              "  </thead>\n",
              "  <tbody>\n",
              "    <tr>\n",
              "      <th>0</th>\n",
              "      <td>2023-09-18 11:48:26</td>\n",
              "      <td>74932482450</td>\n",
              "      <td>00288</td>\n",
              "      <td>3219964480</td>\n",
              "      <td>2023-09-18_11-48-26.391636_from_74932482450_to_00288_session_3219964480_talk.mp3</td>\n",
              "    </tr>\n",
              "    <tr>\n",
              "      <th>1</th>\n",
              "      <td>2023-09-18 12:54:18</td>\n",
              "      <td>79160620083</td>\n",
              "      <td>00288</td>\n",
              "      <td>3220199190</td>\n",
              "      <td>2023-09-18_12-54-18.603506_from_79160620083_to_00288_session_3220199190_talk.mp3</td>\n",
              "    </tr>\n",
              "    <tr>\n",
              "      <th>2</th>\n",
              "      <td>2023-09-20 09:56:40</td>\n",
              "      <td>905424768475</td>\n",
              "      <td>00288</td>\n",
              "      <td>3237457931</td>\n",
              "      <td>2023-09-20_09-56-40.872148_from_905424768475_to_00288_session_3237457931_talk.mp3</td>\n",
              "    </tr>\n",
              "    <tr>\n",
              "      <th>3</th>\n",
              "      <td>2023-09-19 13:53:47</td>\n",
              "      <td>79037861965</td>\n",
              "      <td>00288</td>\n",
              "      <td>3222616640</td>\n",
              "      <td>2023-09-19_13-53-47.892984_from_79037861965_to_00288_session_3222616640_talk.mp3</td>\n",
              "    </tr>\n",
              "    <tr>\n",
              "      <th>4</th>\n",
              "      <td>2023-09-18 12:31:27</td>\n",
              "      <td>79099465930</td>\n",
              "      <td>00288</td>\n",
              "      <td>3230778649</td>\n",
              "      <td>2023-09-18_12-31-27.901544_from_79099465930_to_00288_session_3230778649_talk.mp3</td>\n",
              "    </tr>\n",
              "  </tbody>\n",
              "</table>\n",
              "</div>\n",
              "    <div class=\"colab-df-buttons\">\n",
              "\n",
              "  <div class=\"colab-df-container\">\n",
              "    <button class=\"colab-df-convert\" onclick=\"convertToInteractive('df-35242263-f7ab-484a-af64-d0e58650c13e')\"\n",
              "            title=\"Convert this dataframe to an interactive table.\"\n",
              "            style=\"display:none;\">\n",
              "\n",
              "  <svg xmlns=\"http://www.w3.org/2000/svg\" height=\"24px\" viewBox=\"0 -960 960 960\">\n",
              "    <path d=\"M120-120v-720h720v720H120Zm60-500h600v-160H180v160Zm220 220h160v-160H400v160Zm0 220h160v-160H400v160ZM180-400h160v-160H180v160Zm440 0h160v-160H620v160ZM180-180h160v-160H180v160Zm440 0h160v-160H620v160Z\"/>\n",
              "  </svg>\n",
              "    </button>\n",
              "\n",
              "  <style>\n",
              "    .colab-df-container {\n",
              "      display:flex;\n",
              "      gap: 12px;\n",
              "    }\n",
              "\n",
              "    .colab-df-convert {\n",
              "      background-color: #E8F0FE;\n",
              "      border: none;\n",
              "      border-radius: 50%;\n",
              "      cursor: pointer;\n",
              "      display: none;\n",
              "      fill: #1967D2;\n",
              "      height: 32px;\n",
              "      padding: 0 0 0 0;\n",
              "      width: 32px;\n",
              "    }\n",
              "\n",
              "    .colab-df-convert:hover {\n",
              "      background-color: #E2EBFA;\n",
              "      box-shadow: 0px 1px 2px rgba(60, 64, 67, 0.3), 0px 1px 3px 1px rgba(60, 64, 67, 0.15);\n",
              "      fill: #174EA6;\n",
              "    }\n",
              "\n",
              "    .colab-df-buttons div {\n",
              "      margin-bottom: 4px;\n",
              "    }\n",
              "\n",
              "    [theme=dark] .colab-df-convert {\n",
              "      background-color: #3B4455;\n",
              "      fill: #D2E3FC;\n",
              "    }\n",
              "\n",
              "    [theme=dark] .colab-df-convert:hover {\n",
              "      background-color: #434B5C;\n",
              "      box-shadow: 0px 1px 3px 1px rgba(0, 0, 0, 0.15);\n",
              "      filter: drop-shadow(0px 1px 2px rgba(0, 0, 0, 0.3));\n",
              "      fill: #FFFFFF;\n",
              "    }\n",
              "  </style>\n",
              "\n",
              "    <script>\n",
              "      const buttonEl =\n",
              "        document.querySelector('#df-35242263-f7ab-484a-af64-d0e58650c13e button.colab-df-convert');\n",
              "      buttonEl.style.display =\n",
              "        google.colab.kernel.accessAllowed ? 'block' : 'none';\n",
              "\n",
              "      async function convertToInteractive(key) {\n",
              "        const element = document.querySelector('#df-35242263-f7ab-484a-af64-d0e58650c13e');\n",
              "        const dataTable =\n",
              "          await google.colab.kernel.invokeFunction('convertToInteractive',\n",
              "                                                    [key], {});\n",
              "        if (!dataTable) return;\n",
              "\n",
              "        const docLinkHtml = 'Like what you see? Visit the ' +\n",
              "          '<a target=\"_blank\" href=https://colab.research.google.com/notebooks/data_table.ipynb>data table notebook</a>'\n",
              "          + ' to learn more about interactive tables.';\n",
              "        element.innerHTML = '';\n",
              "        dataTable['output_type'] = 'display_data';\n",
              "        await google.colab.output.renderOutput(dataTable, element);\n",
              "        const docLink = document.createElement('div');\n",
              "        docLink.innerHTML = docLinkHtml;\n",
              "        element.appendChild(docLink);\n",
              "      }\n",
              "    </script>\n",
              "  </div>\n",
              "\n",
              "\n",
              "<div id=\"df-a89cba01-9f4b-4688-9347-af368ff9fd5b\">\n",
              "  <button class=\"colab-df-quickchart\" onclick=\"quickchart('df-a89cba01-9f4b-4688-9347-af368ff9fd5b')\"\n",
              "            title=\"Suggest charts.\"\n",
              "            style=\"display:none;\">\n",
              "\n",
              "<svg xmlns=\"http://www.w3.org/2000/svg\" height=\"24px\"viewBox=\"0 0 24 24\"\n",
              "     width=\"24px\">\n",
              "    <g>\n",
              "        <path d=\"M19 3H5c-1.1 0-2 .9-2 2v14c0 1.1.9 2 2 2h14c1.1 0 2-.9 2-2V5c0-1.1-.9-2-2-2zM9 17H7v-7h2v7zm4 0h-2V7h2v10zm4 0h-2v-4h2v4z\"/>\n",
              "    </g>\n",
              "</svg>\n",
              "  </button>\n",
              "\n",
              "<style>\n",
              "  .colab-df-quickchart {\n",
              "      --bg-color: #E8F0FE;\n",
              "      --fill-color: #1967D2;\n",
              "      --hover-bg-color: #E2EBFA;\n",
              "      --hover-fill-color: #174EA6;\n",
              "      --disabled-fill-color: #AAA;\n",
              "      --disabled-bg-color: #DDD;\n",
              "  }\n",
              "\n",
              "  [theme=dark] .colab-df-quickchart {\n",
              "      --bg-color: #3B4455;\n",
              "      --fill-color: #D2E3FC;\n",
              "      --hover-bg-color: #434B5C;\n",
              "      --hover-fill-color: #FFFFFF;\n",
              "      --disabled-bg-color: #3B4455;\n",
              "      --disabled-fill-color: #666;\n",
              "  }\n",
              "\n",
              "  .colab-df-quickchart {\n",
              "    background-color: var(--bg-color);\n",
              "    border: none;\n",
              "    border-radius: 50%;\n",
              "    cursor: pointer;\n",
              "    display: none;\n",
              "    fill: var(--fill-color);\n",
              "    height: 32px;\n",
              "    padding: 0;\n",
              "    width: 32px;\n",
              "  }\n",
              "\n",
              "  .colab-df-quickchart:hover {\n",
              "    background-color: var(--hover-bg-color);\n",
              "    box-shadow: 0 1px 2px rgba(60, 64, 67, 0.3), 0 1px 3px 1px rgba(60, 64, 67, 0.15);\n",
              "    fill: var(--button-hover-fill-color);\n",
              "  }\n",
              "\n",
              "  .colab-df-quickchart-complete:disabled,\n",
              "  .colab-df-quickchart-complete:disabled:hover {\n",
              "    background-color: var(--disabled-bg-color);\n",
              "    fill: var(--disabled-fill-color);\n",
              "    box-shadow: none;\n",
              "  }\n",
              "\n",
              "  .colab-df-spinner {\n",
              "    border: 2px solid var(--fill-color);\n",
              "    border-color: transparent;\n",
              "    border-bottom-color: var(--fill-color);\n",
              "    animation:\n",
              "      spin 1s steps(1) infinite;\n",
              "  }\n",
              "\n",
              "  @keyframes spin {\n",
              "    0% {\n",
              "      border-color: transparent;\n",
              "      border-bottom-color: var(--fill-color);\n",
              "      border-left-color: var(--fill-color);\n",
              "    }\n",
              "    20% {\n",
              "      border-color: transparent;\n",
              "      border-left-color: var(--fill-color);\n",
              "      border-top-color: var(--fill-color);\n",
              "    }\n",
              "    30% {\n",
              "      border-color: transparent;\n",
              "      border-left-color: var(--fill-color);\n",
              "      border-top-color: var(--fill-color);\n",
              "      border-right-color: var(--fill-color);\n",
              "    }\n",
              "    40% {\n",
              "      border-color: transparent;\n",
              "      border-right-color: var(--fill-color);\n",
              "      border-top-color: var(--fill-color);\n",
              "    }\n",
              "    60% {\n",
              "      border-color: transparent;\n",
              "      border-right-color: var(--fill-color);\n",
              "    }\n",
              "    80% {\n",
              "      border-color: transparent;\n",
              "      border-right-color: var(--fill-color);\n",
              "      border-bottom-color: var(--fill-color);\n",
              "    }\n",
              "    90% {\n",
              "      border-color: transparent;\n",
              "      border-bottom-color: var(--fill-color);\n",
              "    }\n",
              "  }\n",
              "</style>\n",
              "\n",
              "  <script>\n",
              "    async function quickchart(key) {\n",
              "      const quickchartButtonEl =\n",
              "        document.querySelector('#' + key + ' button');\n",
              "      quickchartButtonEl.disabled = true;  // To prevent multiple clicks.\n",
              "      quickchartButtonEl.classList.add('colab-df-spinner');\n",
              "      try {\n",
              "        const charts = await google.colab.kernel.invokeFunction(\n",
              "            'suggestCharts', [key], {});\n",
              "      } catch (error) {\n",
              "        console.error('Error during call to suggestCharts:', error);\n",
              "      }\n",
              "      quickchartButtonEl.classList.remove('colab-df-spinner');\n",
              "      quickchartButtonEl.classList.add('colab-df-quickchart-complete');\n",
              "    }\n",
              "    (() => {\n",
              "      let quickchartButtonEl =\n",
              "        document.querySelector('#df-a89cba01-9f4b-4688-9347-af368ff9fd5b button');\n",
              "      quickchartButtonEl.style.display =\n",
              "        google.colab.kernel.accessAllowed ? 'block' : 'none';\n",
              "    })();\n",
              "  </script>\n",
              "</div>\n",
              "    </div>\n",
              "  </div>\n"
            ]
          },
          "metadata": {},
          "execution_count": 60
        }
      ]
    },
    {
      "cell_type": "code",
      "source": [
        "# Проверяем количество строк\n",
        "print(len(os.listdir(new_dataset_path + 'Записи Павелецкая сити')))\n",
        "print(Paveletskaya_city_calls_df.shape[0])"
      ],
      "metadata": {
        "colab": {
          "base_uri": "https://localhost:8080/"
        },
        "outputId": "5533b144-7c7c-492d-e47d-9cb7e7dab74b",
        "id": "KVEsK8djyJPQ"
      },
      "execution_count": null,
      "outputs": [
        {
          "output_type": "stream",
          "name": "stdout",
          "text": [
            "1413\n",
            "1413\n"
          ]
        }
      ]
    },
    {
      "cell_type": "code",
      "source": [
        "print(Paveletskaya_city_calls_df.count())"
      ],
      "metadata": {
        "colab": {
          "base_uri": "https://localhost:8080/"
        },
        "outputId": "5e9cd079-11e2-452c-bafe-bc21d5623caf",
        "id": "ypRy_F02yJPQ"
      },
      "execution_count": null,
      "outputs": [
        {
          "output_type": "stream",
          "name": "stdout",
          "text": [
            "Дата и время                   1413\n",
            "Номер абонента                 1413\n",
            "Номер сотрудника               1413\n",
            "Идентификатор сессии звонка    1413\n",
            "Файл записи звонка             1413\n",
            "dtype: int64\n"
          ]
        }
      ]
    },
    {
      "cell_type": "markdown",
      "source": [
        "#### Предобработка"
      ],
      "metadata": {
        "id": "3wDi00rAyJPR"
      }
    },
    {
      "cell_type": "markdown",
      "source": [
        "##### 0. Дата и время"
      ],
      "metadata": {
        "id": "2msKjkd5yJPS"
      }
    },
    {
      "cell_type": "code",
      "source": [
        "Paveletskaya_city_calls_df['Дата и время'].head()"
      ],
      "metadata": {
        "colab": {
          "base_uri": "https://localhost:8080/"
        },
        "outputId": "7dee7fb6-d7ad-4b9d-d4eb-76d3afc3ad2f",
        "id": "AGzVOYuTyJPS"
      },
      "execution_count": null,
      "outputs": [
        {
          "output_type": "execute_result",
          "data": {
            "text/plain": [
              "0    2023-09-18 11:48:26\n",
              "1    2023-09-18 12:54:18\n",
              "2    2023-09-20 09:56:40\n",
              "3    2023-09-19 13:53:47\n",
              "4    2023-09-18 12:31:27\n",
              "Name: Дата и время, dtype: object"
            ]
          },
          "metadata": {},
          "execution_count": 63
        }
      ]
    },
    {
      "cell_type": "code",
      "source": [
        "# Приводим тип данных столбца 'Дата и время'\n",
        "Paveletskaya_city_calls_df['Дата и время'] = pd.to_datetime(Paveletskaya_city_calls_df['Дата и время'])"
      ],
      "metadata": {
        "id": "qWhM80MeyJPT"
      },
      "execution_count": null,
      "outputs": []
    },
    {
      "cell_type": "code",
      "source": [
        "Paveletskaya_city_calls_df['Дата и время'].tail()"
      ],
      "metadata": {
        "colab": {
          "base_uri": "https://localhost:8080/"
        },
        "outputId": "4cb7b28f-20ef-470e-b1e5-4bc0778da1b7",
        "id": "I9GKPi49yJPU"
      },
      "execution_count": null,
      "outputs": [
        {
          "output_type": "execute_result",
          "data": {
            "text/plain": [
              "1408   2023-09-18 14:28:39\n",
              "1409   2023-09-18 11:08:55\n",
              "1410   2023-09-21 10:36:24\n",
              "1411   2023-09-21 11:59:49\n",
              "1412   2023-09-18 12:14:11\n",
              "Name: Дата и время, dtype: datetime64[ns]"
            ]
          },
          "metadata": {},
          "execution_count": 65
        }
      ]
    },
    {
      "cell_type": "markdown",
      "source": [
        "##### 1. Номер абонента"
      ],
      "metadata": {
        "id": "h-5yX-wCyJPU"
      }
    },
    {
      "cell_type": "code",
      "source": [
        "Paveletskaya_city_calls_df['Номер абонента'].head()"
      ],
      "metadata": {
        "colab": {
          "base_uri": "https://localhost:8080/"
        },
        "outputId": "fc05a0b1-bcba-4fcd-f16b-1da7b3e770e5",
        "id": "hV3Vl6jCyJPV"
      },
      "execution_count": null,
      "outputs": [
        {
          "output_type": "execute_result",
          "data": {
            "text/plain": [
              "0     74932482450\n",
              "1     79160620083\n",
              "2    905424768475\n",
              "3     79037861965\n",
              "4     79099465930\n",
              "Name: Номер абонента, dtype: object"
            ]
          },
          "metadata": {},
          "execution_count": 66
        }
      ]
    },
    {
      "cell_type": "code",
      "source": [
        "Paveletskaya_city_calls_df['Номер абонента'][Paveletskaya_city_calls_df['Номер абонента'] == ''].count()"
      ],
      "metadata": {
        "colab": {
          "base_uri": "https://localhost:8080/"
        },
        "outputId": "66f54f85-831e-4a91-9344-9509ce355140",
        "id": "puQZMl9ZyJPX"
      },
      "execution_count": null,
      "outputs": [
        {
          "output_type": "execute_result",
          "data": {
            "text/plain": [
              "1"
            ]
          },
          "metadata": {},
          "execution_count": 67
        }
      ]
    },
    {
      "cell_type": "code",
      "source": [
        "# Меняем '' на '0' в столбце 'Номер абонента'\n",
        "Paveletskaya_city_calls_df['Номер абонента'] = Paveletskaya_city_calls_df['Номер абонента'].apply(lambda x: '0' if x == '' else x)"
      ],
      "metadata": {
        "id": "QfEFnRY-yJPX"
      },
      "execution_count": null,
      "outputs": []
    },
    {
      "cell_type": "code",
      "source": [
        "# Приводим тип данных столбца 'Номер абонента'\n",
        "Paveletskaya_city_calls_df = Paveletskaya_city_calls_df.astype({'Номер абонента': int})"
      ],
      "metadata": {
        "id": "plQWB222yJPv"
      },
      "execution_count": null,
      "outputs": []
    },
    {
      "cell_type": "code",
      "source": [
        "Paveletskaya_city_calls_df['Номер абонента'].tail()"
      ],
      "metadata": {
        "colab": {
          "base_uri": "https://localhost:8080/"
        },
        "outputId": "8e979cf3-0aa8-4463-bf3c-05752b4e2f55",
        "id": "WrhQr6fTyJPw"
      },
      "execution_count": null,
      "outputs": [
        {
          "output_type": "execute_result",
          "data": {
            "text/plain": [
              "1408    79646445150\n",
              "1409    79037846520\n",
              "1410    79160206095\n",
              "1411    74954871149\n",
              "1412    79067410826\n",
              "Name: Номер абонента, dtype: int64"
            ]
          },
          "metadata": {},
          "execution_count": 70
        }
      ]
    },
    {
      "cell_type": "markdown",
      "source": [
        "##### 2. Номер сотрудника"
      ],
      "metadata": {
        "id": "IPXFy7dSyJPw"
      }
    },
    {
      "cell_type": "code",
      "source": [
        "Paveletskaya_city_calls_df['Номер сотрудника'].head()"
      ],
      "metadata": {
        "colab": {
          "base_uri": "https://localhost:8080/"
        },
        "outputId": "a918edb1-05b6-4115-d3af-140727e89a81",
        "id": "T0lC7QA2yJPw"
      },
      "execution_count": null,
      "outputs": [
        {
          "output_type": "execute_result",
          "data": {
            "text/plain": [
              "0    00288\n",
              "1    00288\n",
              "2    00288\n",
              "3    00288\n",
              "4    00288\n",
              "Name: Номер сотрудника, dtype: object"
            ]
          },
          "metadata": {},
          "execution_count": 71
        }
      ]
    },
    {
      "cell_type": "code",
      "source": [
        "# Приводим тип данных столбца 'Номер сотрудника'\n",
        "Paveletskaya_city_calls_df = Paveletskaya_city_calls_df.astype({'Номер сотрудника': int})"
      ],
      "metadata": {
        "id": "Ukd9uAMqyJPx"
      },
      "execution_count": null,
      "outputs": []
    },
    {
      "cell_type": "code",
      "source": [
        "Paveletskaya_city_calls_df['Номер сотрудника'].tail()"
      ],
      "metadata": {
        "colab": {
          "base_uri": "https://localhost:8080/"
        },
        "outputId": "1b35273e-57dd-4674-ee26-9bfc0ca4aad3",
        "id": "ebTupyUiyJPy"
      },
      "execution_count": null,
      "outputs": [
        {
          "output_type": "execute_result",
          "data": {
            "text/plain": [
              "1408    288\n",
              "1409    288\n",
              "1410    288\n",
              "1411    288\n",
              "1412    288\n",
              "Name: Номер сотрудника, dtype: int64"
            ]
          },
          "metadata": {},
          "execution_count": 73
        }
      ]
    },
    {
      "cell_type": "markdown",
      "source": [
        "##### 3. Идентификатор сессии звонка"
      ],
      "metadata": {
        "id": "ESZpFODnyJP2"
      }
    },
    {
      "cell_type": "code",
      "source": [
        "Paveletskaya_city_calls_df['Идентификатор сессии звонка'].head()"
      ],
      "metadata": {
        "colab": {
          "base_uri": "https://localhost:8080/"
        },
        "outputId": "0374d44d-b8ea-4382-94ba-45519faa5ce0",
        "id": "SKY1lpVKyJP2"
      },
      "execution_count": null,
      "outputs": [
        {
          "output_type": "execute_result",
          "data": {
            "text/plain": [
              "0    3219964480\n",
              "1    3220199190\n",
              "2    3237457931\n",
              "3    3222616640\n",
              "4    3230778649\n",
              "Name: Идентификатор сессии звонка, dtype: object"
            ]
          },
          "metadata": {},
          "execution_count": 74
        }
      ]
    },
    {
      "cell_type": "code",
      "source": [
        "# Приводим тип данных столбца 'Идентификатор сессии звонка'\n",
        "Paveletskaya_city_calls_df = Paveletskaya_city_calls_df.astype({'Идентификатор сессии звонка': int})"
      ],
      "metadata": {
        "id": "TPkGT-62yJQP"
      },
      "execution_count": null,
      "outputs": []
    },
    {
      "cell_type": "code",
      "source": [
        "Paveletskaya_city_calls_df['Идентификатор сессии звонка'].tail()"
      ],
      "metadata": {
        "colab": {
          "base_uri": "https://localhost:8080/"
        },
        "outputId": "877afd72-706b-416e-81cd-bd461a682988",
        "id": "hW-Kq8ZPyJQP"
      },
      "execution_count": null,
      "outputs": [
        {
          "output_type": "execute_result",
          "data": {
            "text/plain": [
              "1408    3233375546\n",
              "1409    3230415104\n",
              "1410    3240292806\n",
              "1411    3238346979\n",
              "1412    3230568859\n",
              "Name: Идентификатор сессии звонка, dtype: int64"
            ]
          },
          "metadata": {},
          "execution_count": 76
        }
      ]
    },
    {
      "cell_type": "code",
      "source": [
        "# Смотрим количество уникальных значений столбца 'Идентификатор сессии звонка'\n",
        "Paveletskaya_city_calls_df['Идентификатор сессии звонка'].nunique()"
      ],
      "metadata": {
        "colab": {
          "base_uri": "https://localhost:8080/"
        },
        "outputId": "14eafb9c-dbd9-4761-e38a-651f411503e5",
        "id": "f4CHqj4_yJQQ"
      },
      "execution_count": null,
      "outputs": [
        {
          "output_type": "execute_result",
          "data": {
            "text/plain": [
              "1413"
            ]
          },
          "metadata": {},
          "execution_count": 77
        }
      ]
    },
    {
      "cell_type": "markdown",
      "source": [
        "##### 4. Файл записи звонка"
      ],
      "metadata": {
        "id": "xHkOr67ayJQR"
      }
    },
    {
      "cell_type": "code",
      "source": [
        "Paveletskaya_city_calls_df['Файл записи звонка'].head()"
      ],
      "metadata": {
        "colab": {
          "base_uri": "https://localhost:8080/"
        },
        "outputId": "072b7aab-bf54-49de-a776-23e19bf844e1",
        "id": "jJGJh6L8yJQR"
      },
      "execution_count": null,
      "outputs": [
        {
          "output_type": "execute_result",
          "data": {
            "text/plain": [
              "0     2023-09-18_11-48-26.391636_from_74932482450_to_00288_session_3219964480_talk.mp3\n",
              "1     2023-09-18_12-54-18.603506_from_79160620083_to_00288_session_3220199190_talk.mp3\n",
              "2    2023-09-20_09-56-40.872148_from_905424768475_to_00288_session_3237457931_talk.mp3\n",
              "3     2023-09-19_13-53-47.892984_from_79037861965_to_00288_session_3222616640_talk.mp3\n",
              "4     2023-09-18_12-31-27.901544_from_79099465930_to_00288_session_3230778649_talk.mp3\n",
              "Name: Файл записи звонка, dtype: object"
            ]
          },
          "metadata": {},
          "execution_count": 78
        }
      ]
    },
    {
      "cell_type": "code",
      "source": [
        "# Добавляем к файлам относительные пути\n",
        "Paveletskaya_city_calls_df['Файл записи звонка'] = Paveletskaya_city_calls_df['Файл записи звонка'].apply(lambda x: 'Новые записи звонков/Записи Павелецкая сити/' + x)"
      ],
      "metadata": {
        "id": "o17pllLMyJQR"
      },
      "execution_count": null,
      "outputs": []
    },
    {
      "cell_type": "code",
      "source": [
        "Paveletskaya_city_calls_df['Файл записи звонка'].tail()"
      ],
      "metadata": {
        "colab": {
          "base_uri": "https://localhost:8080/"
        },
        "outputId": "47efc0b6-ad97-45fa-852c-f3b9ffcd359e",
        "id": "mpTDxbvyyJQS"
      },
      "execution_count": null,
      "outputs": [
        {
          "output_type": "execute_result",
          "data": {
            "text/plain": [
              "1408    Новые записи звонков/Записи Павелецкая сити/2023-09-18_14-28-39.076451_from_79646445150_to_00288_session_3233375546_talk.mp3\n",
              "1409    Новые записи звонков/Записи Павелецкая сити/2023-09-18_11-08-55.388293_from_79037846520_to_00288_session_3230415104_talk.mp3\n",
              "1410    Новые записи звонков/Записи Павелецкая сити/2023-09-21_10-36-24.096708_from_79160206095_to_00288_session_3240292806_talk.mp3\n",
              "1411    Новые записи звонков/Записи Павелецкая сити/2023-09-21_11-59-49.268642_from_74954871149_to_00288_session_3238346979_talk.mp3\n",
              "1412    Новые записи звонков/Записи Павелецкая сити/2023-09-18_12-14-11.254019_from_79067410826_to_00288_session_3230568859_talk.mp3\n",
              "Name: Файл записи звонка, dtype: object"
            ]
          },
          "metadata": {},
          "execution_count": 80
        }
      ]
    },
    {
      "cell_type": "markdown",
      "source": [
        "#### Типы данных"
      ],
      "metadata": {
        "id": "wi8gJHqOyJQS"
      }
    },
    {
      "cell_type": "code",
      "source": [
        "# Смотрим типы данных\n",
        "Paveletskaya_city_calls_df.dtypes"
      ],
      "metadata": {
        "colab": {
          "base_uri": "https://localhost:8080/"
        },
        "outputId": "ba287a37-cd03-4faf-d637-4c97015757b1",
        "id": "g5FuWfRlyJQT"
      },
      "execution_count": null,
      "outputs": [
        {
          "output_type": "execute_result",
          "data": {
            "text/plain": [
              "Дата и время                   datetime64[ns]\n",
              "Номер абонента                          int64\n",
              "Номер сотрудника                        int64\n",
              "Идентификатор сессии звонка             int64\n",
              "Файл записи звонка                     object\n",
              "dtype: object"
            ]
          },
          "metadata": {},
          "execution_count": 81
        }
      ]
    },
    {
      "cell_type": "code",
      "source": [
        "print(Paveletskaya_city_calls_df.count())"
      ],
      "metadata": {
        "colab": {
          "base_uri": "https://localhost:8080/"
        },
        "outputId": "2b491141-80d2-4107-de25-2c971f50ff6f",
        "id": "jAW0pra_yJQU"
      },
      "execution_count": null,
      "outputs": [
        {
          "output_type": "stream",
          "name": "stdout",
          "text": [
            "Дата и время                   1413\n",
            "Номер абонента                 1413\n",
            "Номер сотрудника               1413\n",
            "Идентификатор сессии звонка    1413\n",
            "Файл записи звонка             1413\n",
            "dtype: int64\n"
          ]
        }
      ]
    },
    {
      "cell_type": "markdown",
      "source": [
        "#### Сохранение датафрейма"
      ],
      "metadata": {
        "id": "dslQJlmJyJQU"
      }
    },
    {
      "cell_type": "code",
      "source": [
        "# Сохраняем Paveletskaya_city_calls_df в файл\n",
        "with open(df_path + 'Paveletskaya_city_new_calls_df.pkl', 'wb') as f:\n",
        "  pkl.dump(Paveletskaya_city_calls_df, f)"
      ],
      "metadata": {
        "id": "BbQTkJGOyJQU"
      },
      "execution_count": null,
      "outputs": []
    },
    {
      "cell_type": "markdown",
      "source": [
        "## [Новые записи звонков](https://drive.google.com/drive/folders/11aY9qpv301UnBuYvG8Iap1-Od28sQdMH?usp=sharing)"
      ],
      "metadata": {
        "id": "sWyoHQUgXUyY"
      }
    },
    {
      "cell_type": "code",
      "source": [
        "# Новые записи звонков\n",
        "os.listdir(new_dataset_path)"
      ],
      "metadata": {
        "colab": {
          "base_uri": "https://localhost:8080/"
        },
        "id": "XmEZshpxZC8a",
        "outputId": "66d64cd7-9dc6-416a-ce00-4bc26e38b073"
      },
      "execution_count": null,
      "outputs": [
        {
          "output_type": "execute_result",
          "data": {
            "text/plain": [
              "['Записи Headliner',\n",
              " 'Записи Primavera',\n",
              " 'Записи Павелецкая сити',\n",
              " 'Информация о звонках']"
            ]
          },
          "metadata": {},
          "execution_count": 7
        }
      ]
    },
    {
      "cell_type": "markdown",
      "source": [
        "### Распаковка архивов и первичный анализ"
      ],
      "metadata": {
        "id": "Fa8bDQdEXsWu"
      }
    },
    {
      "cell_type": "code",
      "source": [
        "# Установка unrar\n",
        "!pip install unrar"
      ],
      "metadata": {
        "colab": {
          "base_uri": "https://localhost:8080/"
        },
        "id": "pXXv_9b3XX0H",
        "outputId": "f75246ef-92b2-4edb-84c2-0c3fc596913c"
      },
      "execution_count": null,
      "outputs": [
        {
          "output_type": "stream",
          "name": "stdout",
          "text": [
            "Collecting unrar\n",
            "  Downloading unrar-0.4-py3-none-any.whl (25 kB)\n",
            "Installing collected packages: unrar\n",
            "Successfully installed unrar-0.4\n"
          ]
        }
      ]
    },
    {
      "cell_type": "code",
      "source": [
        "# Архивы новых записей звонков\n",
        "os.listdir(new_dataset_rar_path)"
      ],
      "metadata": {
        "colab": {
          "base_uri": "https://localhost:8080/"
        },
        "id": "rqsJebD5b-KK",
        "outputId": "66d4b7a0-7f0c-40ba-d843-f40759a5887e"
      },
      "execution_count": null,
      "outputs": [
        {
          "output_type": "execute_result",
          "data": {
            "text/plain": [
              "['Записи Headliner.rar', 'Записи Primavera.rar', 'Записи Павелецкая сити.rar']"
            ]
          },
          "metadata": {},
          "execution_count": 4
        }
      ]
    },
    {
      "cell_type": "code",
      "source": [
        "# Распаковка 'Записи Headliner.rar'\n",
        "!unrar x '/content/drive/MyDrive/media108.ru/Новые записи звонков (rar)/Записи Headliner.rar' '/content/drive/MyDrive/media108.ru/Новые записи звонков/' > /dev/null"
      ],
      "metadata": {
        "id": "brylutqWZ-UX"
      },
      "execution_count": null,
      "outputs": []
    },
    {
      "cell_type": "code",
      "source": [
        "# Распаковка 'Записи Primavera.rar'\n",
        "!unrar x '/content/drive/MyDrive/media108.ru/Новые записи звонков (rar)/Записи Primavera.rar' '/content/drive/MyDrive/media108.ru/Новые записи звонков/' > /dev/null"
      ],
      "metadata": {
        "id": "UAYlYvqBeo-J"
      },
      "execution_count": null,
      "outputs": []
    },
    {
      "cell_type": "code",
      "source": [
        "# Распаковка 'Записи Павелецкая сити.rar'\n",
        "!unrar x '/content/drive/MyDrive/media108.ru/Новые записи звонков (rar)/Записи Павелецкая сити.rar' '/content/drive/MyDrive/media108.ru/Новые записи звонков/' > /dev/null"
      ],
      "metadata": {
        "id": "bUdNQRUSh2nA"
      },
      "execution_count": null,
      "outputs": []
    },
    {
      "cell_type": "code",
      "source": [
        "# Новые записи звонков\n",
        "os.listdir(new_dataset_path)"
      ],
      "metadata": {
        "colab": {
          "base_uri": "https://localhost:8080/"
        },
        "id": "MbYlpFhmhk5D",
        "outputId": "5d15df38-8b45-46a1-cd21-eae2c30f429e"
      },
      "execution_count": null,
      "outputs": [
        {
          "output_type": "execute_result",
          "data": {
            "text/plain": [
              "['Записи Headliner',\n",
              " 'Записи Primavera',\n",
              " 'Записи Павелецкая сити',\n",
              " 'Информация о звонках']"
            ]
          },
          "metadata": {},
          "execution_count": 8
        }
      ]
    },
    {
      "cell_type": "code",
      "source": [
        "# Записи Headliner\n",
        "os.listdir(new_dataset_path + 'Записи Headliner')[:10]"
      ],
      "metadata": {
        "colab": {
          "base_uri": "https://localhost:8080/"
        },
        "id": "b_v9MN8_ivGz",
        "outputId": "3e972ecd-d7c3-4d16-8121-b933fcaf2192"
      },
      "execution_count": null,
      "outputs": [
        {
          "output_type": "execute_result",
          "data": {
            "text/plain": [
              "['2023-09-26_10-06-23.403699_from_79584153294_to_74959339902_session_3252459256_talk.mp3',\n",
              " '2023-09-21_18-54-50.120569_from_79951538090_to_0188880_session_3235156678_talk.mp3',\n",
              " '2023-09-27_16-10-52.316459_from_79853697070_to_0188880_session_3253840089_talk.mp3',\n",
              " '2023-09-25_09-12-02.428401_from_79858141531_to_74959339902_session_3249639806_talk.mp3',\n",
              " '2023-09-28_11-08-32.052586_from_79851881681_to_74959339902_session_3262172387_talk.mp3',\n",
              " '2023-09-26_14-03-03.889896_from_79164117555_to_74959339902_session_3237804050_talk.mp3',\n",
              " '2023-09-22_15-05-38.848815_from_79608617626_to_0188880_session_3243154724_talk.mp3',\n",
              " '2023-09-22_15-47-29.153917_from_79169869883_to_74959339902_session_3231248615_talk.mp3',\n",
              " '2023-09-25_15-33-38.734417_from_79025578055_to_74959339902_session_3251147526_talk.mp3',\n",
              " '2023-09-27_16-24-56.511269_from_79166279057_to_74959339902_session_3253891649_talk.mp3']"
            ]
          },
          "metadata": {},
          "execution_count": 9
        }
      ]
    },
    {
      "cell_type": "code",
      "source": [
        "# Записи Primavera\n",
        "os.listdir(new_dataset_path + 'Записи Primavera')[:10]"
      ],
      "metadata": {
        "colab": {
          "base_uri": "https://localhost:8080/"
        },
        "id": "AjIRvqstjA38",
        "outputId": "b4c51406-7f7b-432a-81d7-1e07a5c683f9"
      },
      "execution_count": null,
      "outputs": [
        {
          "output_type": "execute_result",
          "data": {
            "text/plain": [
              "['2023-09-30_12-19-55.312627_from_79854305902_to_0253192_session_3263012391_talk.mp3',\n",
              " '2023-10-04_19-40-25.037187_from_74950210291_to_0253206_session_3276780397_talk.mp3',\n",
              " '2023-10-04_15-52-11.200324_from_79203810871_to_0253201_session_3276172302_talk.mp3',\n",
              " '2023-10-02_20-00-47.312686_from_74950210291_to_0150113_session_3271743567_talk.mp3',\n",
              " '2023-10-04_16-50-31.267655_from_79295237177_to_0111652_session_3269469074_talk.mp3',\n",
              " '2023-09-30_15-31-41.654688_from_79939041290_to_0253192_session_3263409766_talk.mp3',\n",
              " '2023-10-04_14-14-24.774719_from_74951201251_to_0253206_session_3268896004_talk.mp3',\n",
              " '2023-10-04_10-51-34.713659_from_79154098258_to_0111631_session_3262644468_talk.mp3',\n",
              " '2023-10-03_16-27-25.589891_from_79269050076_to_0253200_session_3251740160_talk.mp3',\n",
              " '2023-10-04_13-48-28.199593_from_79250269006_to_0111651_session_3271685686_talk.mp3']"
            ]
          },
          "metadata": {},
          "execution_count": 10
        }
      ]
    },
    {
      "cell_type": "code",
      "source": [
        "# Записи Павелецкая сити\n",
        "os.listdir(new_dataset_path + 'Записи Павелецкая сити')[:10]"
      ],
      "metadata": {
        "colab": {
          "base_uri": "https://localhost:8080/"
        },
        "id": "WC1ZVMCJjYsY",
        "outputId": "0bfd574b-2392-4fa6-8e8b-e75a38d3d111"
      },
      "execution_count": null,
      "outputs": [
        {
          "output_type": "execute_result",
          "data": {
            "text/plain": [
              "['2023-09-18_11-48-26.391636_from_74932482450_to_00288_session_3219964480_talk.mp3',\n",
              " '2023-09-18_12-54-18.603506_from_79160620083_to_00288_session_3220199190_talk.mp3',\n",
              " '2023-09-20_09-56-40.872148_from_905424768475_to_00288_session_3237457931_talk.mp3',\n",
              " '2023-09-19_13-53-47.892984_from_79037861965_to_00288_session_3222616640_talk.mp3',\n",
              " '2023-09-18_12-31-27.901544_from_79099465930_to_00288_session_3230778649_talk.mp3',\n",
              " '2023-09-17_17-31-02.604192_from_79165656567_to_00288_session_3225012783_talk.mp3',\n",
              " '2023-09-18_17-14-07.670764_from_79264028168_to_00288_session_3231837499_talk.mp3',\n",
              " '2023-09-17_15-30-32.547936_from_79033154042_to_00288_session_3218794065_talk.mp3',\n",
              " '2023-09-18_10-27-52.597249_from_79035129646_to_00288_session_3232383306_talk.mp3',\n",
              " '2023-09-16_17-35-42.402838_from_79607558395_to_00288_session_3230248941_talk.mp3']"
            ]
          },
          "metadata": {},
          "execution_count": 11
        }
      ]
    },
    {
      "cell_type": "code",
      "source": [
        "# Новые записи звонков\n",
        "print(f\"      Headliner: {len(os.listdir(new_dataset_path + 'Записи Headliner')):4d} записей\")\n",
        "print(f\"      Primavera: {len(os.listdir(new_dataset_path + 'Записи Primavera')):4d} записей\")\n",
        "print(f\"Павелецкая сити: {len(os.listdir(new_dataset_path + 'Записи Павелецкая сити')):4d} записей\")"
      ],
      "metadata": {
        "colab": {
          "base_uri": "https://localhost:8080/"
        },
        "id": "2QhbN2Dljp08",
        "outputId": "7c916a85-86c0-4b58-dc83-8acf6c6eb819"
      },
      "execution_count": null,
      "outputs": [
        {
          "output_type": "stream",
          "name": "stdout",
          "text": [
            "      Headliner: 1226 записей\n",
            "      Primavera:  767 записей\n",
            "Павелецкая сити: 1413 записей\n"
          ]
        }
      ]
    },
    {
      "cell_type": "markdown",
      "source": [
        "### Headliner"
      ],
      "metadata": {
        "id": "TUAVeDSMYfAQ"
      }
    },
    {
      "cell_type": "markdown",
      "source": [
        "#### Создание датафрейма"
      ],
      "metadata": {
        "id": "iujyX6k9awrH"
      }
    },
    {
      "cell_type": "code",
      "source": [
        "# Создаём датафрейм из списка записей звонков\n",
        "Headliner_calls_df = calls_list_to_df(os.listdir(new_dataset_path + 'Записи Headliner'))\n",
        "Headliner_calls_df.shape"
      ],
      "metadata": {
        "colab": {
          "base_uri": "https://localhost:8080/"
        },
        "id": "iTCRRYJzYEkF",
        "outputId": "d4a1aff9-089b-43c2-e916-2b48f6e5a364"
      },
      "execution_count": null,
      "outputs": [
        {
          "output_type": "execute_result",
          "data": {
            "text/plain": [
              "(1226, 5)"
            ]
          },
          "metadata": {},
          "execution_count": 13
        }
      ]
    },
    {
      "cell_type": "code",
      "source": [
        "Headliner_calls_df.head()"
      ],
      "metadata": {
        "colab": {
          "base_uri": "https://localhost:8080/",
          "height": 310
        },
        "id": "60KVBdUCZefF",
        "outputId": "4bb8adca-7a36-4f06-9e18-768d76b393c6"
      },
      "execution_count": null,
      "outputs": [
        {
          "output_type": "execute_result",
          "data": {
            "text/plain": [
              "          Дата и время Номер абонента Номер сотрудника  \\\n",
              "0  2023-09-26 10:06:23    79584153294      74959339902   \n",
              "1  2023-09-21 18:54:50    79951538090          0188880   \n",
              "2  2023-09-27 16:10:52    79853697070          0188880   \n",
              "3  2023-09-25 09:12:02    79858141531      74959339902   \n",
              "4  2023-09-28 11:08:32    79851881681      74959339902   \n",
              "\n",
              "  Идентификатор сессии звонка  \\\n",
              "0                  3252459256   \n",
              "1                  3235156678   \n",
              "2                  3253840089   \n",
              "3                  3249639806   \n",
              "4                  3262172387   \n",
              "\n",
              "                                                                       Файл записи звонка  \n",
              "0  2023-09-26_10-06-23.403699_from_79584153294_to_74959339902_session_3252459256_talk.mp3  \n",
              "1      2023-09-21_18-54-50.120569_from_79951538090_to_0188880_session_3235156678_talk.mp3  \n",
              "2      2023-09-27_16-10-52.316459_from_79853697070_to_0188880_session_3253840089_talk.mp3  \n",
              "3  2023-09-25_09-12-02.428401_from_79858141531_to_74959339902_session_3249639806_talk.mp3  \n",
              "4  2023-09-28_11-08-32.052586_from_79851881681_to_74959339902_session_3262172387_talk.mp3  "
            ],
            "text/html": [
              "\n",
              "  <div id=\"df-df458d56-f27c-4991-aa82-1fed20fe2820\" class=\"colab-df-container\">\n",
              "    <div>\n",
              "<style scoped>\n",
              "    .dataframe tbody tr th:only-of-type {\n",
              "        vertical-align: middle;\n",
              "    }\n",
              "\n",
              "    .dataframe tbody tr th {\n",
              "        vertical-align: top;\n",
              "    }\n",
              "\n",
              "    .dataframe thead th {\n",
              "        text-align: right;\n",
              "    }\n",
              "</style>\n",
              "<table border=\"1\" class=\"dataframe\">\n",
              "  <thead>\n",
              "    <tr style=\"text-align: right;\">\n",
              "      <th></th>\n",
              "      <th>Дата и время</th>\n",
              "      <th>Номер абонента</th>\n",
              "      <th>Номер сотрудника</th>\n",
              "      <th>Идентификатор сессии звонка</th>\n",
              "      <th>Файл записи звонка</th>\n",
              "    </tr>\n",
              "  </thead>\n",
              "  <tbody>\n",
              "    <tr>\n",
              "      <th>0</th>\n",
              "      <td>2023-09-26 10:06:23</td>\n",
              "      <td>79584153294</td>\n",
              "      <td>74959339902</td>\n",
              "      <td>3252459256</td>\n",
              "      <td>2023-09-26_10-06-23.403699_from_79584153294_to_74959339902_session_3252459256_talk.mp3</td>\n",
              "    </tr>\n",
              "    <tr>\n",
              "      <th>1</th>\n",
              "      <td>2023-09-21 18:54:50</td>\n",
              "      <td>79951538090</td>\n",
              "      <td>0188880</td>\n",
              "      <td>3235156678</td>\n",
              "      <td>2023-09-21_18-54-50.120569_from_79951538090_to_0188880_session_3235156678_talk.mp3</td>\n",
              "    </tr>\n",
              "    <tr>\n",
              "      <th>2</th>\n",
              "      <td>2023-09-27 16:10:52</td>\n",
              "      <td>79853697070</td>\n",
              "      <td>0188880</td>\n",
              "      <td>3253840089</td>\n",
              "      <td>2023-09-27_16-10-52.316459_from_79853697070_to_0188880_session_3253840089_talk.mp3</td>\n",
              "    </tr>\n",
              "    <tr>\n",
              "      <th>3</th>\n",
              "      <td>2023-09-25 09:12:02</td>\n",
              "      <td>79858141531</td>\n",
              "      <td>74959339902</td>\n",
              "      <td>3249639806</td>\n",
              "      <td>2023-09-25_09-12-02.428401_from_79858141531_to_74959339902_session_3249639806_talk.mp3</td>\n",
              "    </tr>\n",
              "    <tr>\n",
              "      <th>4</th>\n",
              "      <td>2023-09-28 11:08:32</td>\n",
              "      <td>79851881681</td>\n",
              "      <td>74959339902</td>\n",
              "      <td>3262172387</td>\n",
              "      <td>2023-09-28_11-08-32.052586_from_79851881681_to_74959339902_session_3262172387_talk.mp3</td>\n",
              "    </tr>\n",
              "  </tbody>\n",
              "</table>\n",
              "</div>\n",
              "    <div class=\"colab-df-buttons\">\n",
              "\n",
              "  <div class=\"colab-df-container\">\n",
              "    <button class=\"colab-df-convert\" onclick=\"convertToInteractive('df-df458d56-f27c-4991-aa82-1fed20fe2820')\"\n",
              "            title=\"Convert this dataframe to an interactive table.\"\n",
              "            style=\"display:none;\">\n",
              "\n",
              "  <svg xmlns=\"http://www.w3.org/2000/svg\" height=\"24px\" viewBox=\"0 -960 960 960\">\n",
              "    <path d=\"M120-120v-720h720v720H120Zm60-500h600v-160H180v160Zm220 220h160v-160H400v160Zm0 220h160v-160H400v160ZM180-400h160v-160H180v160Zm440 0h160v-160H620v160ZM180-180h160v-160H180v160Zm440 0h160v-160H620v160Z\"/>\n",
              "  </svg>\n",
              "    </button>\n",
              "\n",
              "  <style>\n",
              "    .colab-df-container {\n",
              "      display:flex;\n",
              "      gap: 12px;\n",
              "    }\n",
              "\n",
              "    .colab-df-convert {\n",
              "      background-color: #E8F0FE;\n",
              "      border: none;\n",
              "      border-radius: 50%;\n",
              "      cursor: pointer;\n",
              "      display: none;\n",
              "      fill: #1967D2;\n",
              "      height: 32px;\n",
              "      padding: 0 0 0 0;\n",
              "      width: 32px;\n",
              "    }\n",
              "\n",
              "    .colab-df-convert:hover {\n",
              "      background-color: #E2EBFA;\n",
              "      box-shadow: 0px 1px 2px rgba(60, 64, 67, 0.3), 0px 1px 3px 1px rgba(60, 64, 67, 0.15);\n",
              "      fill: #174EA6;\n",
              "    }\n",
              "\n",
              "    .colab-df-buttons div {\n",
              "      margin-bottom: 4px;\n",
              "    }\n",
              "\n",
              "    [theme=dark] .colab-df-convert {\n",
              "      background-color: #3B4455;\n",
              "      fill: #D2E3FC;\n",
              "    }\n",
              "\n",
              "    [theme=dark] .colab-df-convert:hover {\n",
              "      background-color: #434B5C;\n",
              "      box-shadow: 0px 1px 3px 1px rgba(0, 0, 0, 0.15);\n",
              "      filter: drop-shadow(0px 1px 2px rgba(0, 0, 0, 0.3));\n",
              "      fill: #FFFFFF;\n",
              "    }\n",
              "  </style>\n",
              "\n",
              "    <script>\n",
              "      const buttonEl =\n",
              "        document.querySelector('#df-df458d56-f27c-4991-aa82-1fed20fe2820 button.colab-df-convert');\n",
              "      buttonEl.style.display =\n",
              "        google.colab.kernel.accessAllowed ? 'block' : 'none';\n",
              "\n",
              "      async function convertToInteractive(key) {\n",
              "        const element = document.querySelector('#df-df458d56-f27c-4991-aa82-1fed20fe2820');\n",
              "        const dataTable =\n",
              "          await google.colab.kernel.invokeFunction('convertToInteractive',\n",
              "                                                    [key], {});\n",
              "        if (!dataTable) return;\n",
              "\n",
              "        const docLinkHtml = 'Like what you see? Visit the ' +\n",
              "          '<a target=\"_blank\" href=https://colab.research.google.com/notebooks/data_table.ipynb>data table notebook</a>'\n",
              "          + ' to learn more about interactive tables.';\n",
              "        element.innerHTML = '';\n",
              "        dataTable['output_type'] = 'display_data';\n",
              "        await google.colab.output.renderOutput(dataTable, element);\n",
              "        const docLink = document.createElement('div');\n",
              "        docLink.innerHTML = docLinkHtml;\n",
              "        element.appendChild(docLink);\n",
              "      }\n",
              "    </script>\n",
              "  </div>\n",
              "\n",
              "\n",
              "<div id=\"df-6c8bc7e0-73e0-441d-ab9b-1e3029438b54\">\n",
              "  <button class=\"colab-df-quickchart\" onclick=\"quickchart('df-6c8bc7e0-73e0-441d-ab9b-1e3029438b54')\"\n",
              "            title=\"Suggest charts.\"\n",
              "            style=\"display:none;\">\n",
              "\n",
              "<svg xmlns=\"http://www.w3.org/2000/svg\" height=\"24px\"viewBox=\"0 0 24 24\"\n",
              "     width=\"24px\">\n",
              "    <g>\n",
              "        <path d=\"M19 3H5c-1.1 0-2 .9-2 2v14c0 1.1.9 2 2 2h14c1.1 0 2-.9 2-2V5c0-1.1-.9-2-2-2zM9 17H7v-7h2v7zm4 0h-2V7h2v10zm4 0h-2v-4h2v4z\"/>\n",
              "    </g>\n",
              "</svg>\n",
              "  </button>\n",
              "\n",
              "<style>\n",
              "  .colab-df-quickchart {\n",
              "      --bg-color: #E8F0FE;\n",
              "      --fill-color: #1967D2;\n",
              "      --hover-bg-color: #E2EBFA;\n",
              "      --hover-fill-color: #174EA6;\n",
              "      --disabled-fill-color: #AAA;\n",
              "      --disabled-bg-color: #DDD;\n",
              "  }\n",
              "\n",
              "  [theme=dark] .colab-df-quickchart {\n",
              "      --bg-color: #3B4455;\n",
              "      --fill-color: #D2E3FC;\n",
              "      --hover-bg-color: #434B5C;\n",
              "      --hover-fill-color: #FFFFFF;\n",
              "      --disabled-bg-color: #3B4455;\n",
              "      --disabled-fill-color: #666;\n",
              "  }\n",
              "\n",
              "  .colab-df-quickchart {\n",
              "    background-color: var(--bg-color);\n",
              "    border: none;\n",
              "    border-radius: 50%;\n",
              "    cursor: pointer;\n",
              "    display: none;\n",
              "    fill: var(--fill-color);\n",
              "    height: 32px;\n",
              "    padding: 0;\n",
              "    width: 32px;\n",
              "  }\n",
              "\n",
              "  .colab-df-quickchart:hover {\n",
              "    background-color: var(--hover-bg-color);\n",
              "    box-shadow: 0 1px 2px rgba(60, 64, 67, 0.3), 0 1px 3px 1px rgba(60, 64, 67, 0.15);\n",
              "    fill: var(--button-hover-fill-color);\n",
              "  }\n",
              "\n",
              "  .colab-df-quickchart-complete:disabled,\n",
              "  .colab-df-quickchart-complete:disabled:hover {\n",
              "    background-color: var(--disabled-bg-color);\n",
              "    fill: var(--disabled-fill-color);\n",
              "    box-shadow: none;\n",
              "  }\n",
              "\n",
              "  .colab-df-spinner {\n",
              "    border: 2px solid var(--fill-color);\n",
              "    border-color: transparent;\n",
              "    border-bottom-color: var(--fill-color);\n",
              "    animation:\n",
              "      spin 1s steps(1) infinite;\n",
              "  }\n",
              "\n",
              "  @keyframes spin {\n",
              "    0% {\n",
              "      border-color: transparent;\n",
              "      border-bottom-color: var(--fill-color);\n",
              "      border-left-color: var(--fill-color);\n",
              "    }\n",
              "    20% {\n",
              "      border-color: transparent;\n",
              "      border-left-color: var(--fill-color);\n",
              "      border-top-color: var(--fill-color);\n",
              "    }\n",
              "    30% {\n",
              "      border-color: transparent;\n",
              "      border-left-color: var(--fill-color);\n",
              "      border-top-color: var(--fill-color);\n",
              "      border-right-color: var(--fill-color);\n",
              "    }\n",
              "    40% {\n",
              "      border-color: transparent;\n",
              "      border-right-color: var(--fill-color);\n",
              "      border-top-color: var(--fill-color);\n",
              "    }\n",
              "    60% {\n",
              "      border-color: transparent;\n",
              "      border-right-color: var(--fill-color);\n",
              "    }\n",
              "    80% {\n",
              "      border-color: transparent;\n",
              "      border-right-color: var(--fill-color);\n",
              "      border-bottom-color: var(--fill-color);\n",
              "    }\n",
              "    90% {\n",
              "      border-color: transparent;\n",
              "      border-bottom-color: var(--fill-color);\n",
              "    }\n",
              "  }\n",
              "</style>\n",
              "\n",
              "  <script>\n",
              "    async function quickchart(key) {\n",
              "      const quickchartButtonEl =\n",
              "        document.querySelector('#' + key + ' button');\n",
              "      quickchartButtonEl.disabled = true;  // To prevent multiple clicks.\n",
              "      quickchartButtonEl.classList.add('colab-df-spinner');\n",
              "      try {\n",
              "        const charts = await google.colab.kernel.invokeFunction(\n",
              "            'suggestCharts', [key], {});\n",
              "      } catch (error) {\n",
              "        console.error('Error during call to suggestCharts:', error);\n",
              "      }\n",
              "      quickchartButtonEl.classList.remove('colab-df-spinner');\n",
              "      quickchartButtonEl.classList.add('colab-df-quickchart-complete');\n",
              "    }\n",
              "    (() => {\n",
              "      let quickchartButtonEl =\n",
              "        document.querySelector('#df-6c8bc7e0-73e0-441d-ab9b-1e3029438b54 button');\n",
              "      quickchartButtonEl.style.display =\n",
              "        google.colab.kernel.accessAllowed ? 'block' : 'none';\n",
              "    })();\n",
              "  </script>\n",
              "</div>\n",
              "    </div>\n",
              "  </div>\n"
            ]
          },
          "metadata": {},
          "execution_count": 14
        }
      ]
    },
    {
      "cell_type": "code",
      "source": [
        "# Проверяем количество строк\n",
        "print(len(os.listdir(new_dataset_path + 'Записи Headliner')))\n",
        "print(Headliner_calls_df.shape[0])"
      ],
      "metadata": {
        "colab": {
          "base_uri": "https://localhost:8080/"
        },
        "id": "Pm29J8T7a21W",
        "outputId": "c9ff1b7d-c25e-43f6-e7f0-9dad8557ea10"
      },
      "execution_count": null,
      "outputs": [
        {
          "output_type": "stream",
          "name": "stdout",
          "text": [
            "1226\n",
            "1226\n"
          ]
        }
      ]
    },
    {
      "cell_type": "code",
      "source": [
        "print(Headliner_calls_df.count())"
      ],
      "metadata": {
        "colab": {
          "base_uri": "https://localhost:8080/"
        },
        "id": "RShEHuj_fS0H",
        "outputId": "794ad7aa-e46c-4be0-ae5f-e758d33151a7"
      },
      "execution_count": null,
      "outputs": [
        {
          "output_type": "stream",
          "name": "stdout",
          "text": [
            "Дата и время                   1226\n",
            "Номер абонента                 1226\n",
            "Номер сотрудника               1226\n",
            "Идентификатор сессии звонка    1226\n",
            "Файл записи звонка             1226\n",
            "dtype: int64\n"
          ]
        }
      ]
    },
    {
      "cell_type": "markdown",
      "source": [
        "#### Предобработка"
      ],
      "metadata": {
        "id": "tA_IYXhlbdgV"
      }
    },
    {
      "cell_type": "markdown",
      "source": [
        "##### 0. Дата и время"
      ],
      "metadata": {
        "id": "XZOF7ZdTcuQO"
      }
    },
    {
      "cell_type": "code",
      "source": [
        "Headliner_calls_df['Дата и время'].head()"
      ],
      "metadata": {
        "colab": {
          "base_uri": "https://localhost:8080/"
        },
        "id": "p1Z7W8Aec04M",
        "outputId": "8764a7b5-c129-4b86-a94c-2529289824d6"
      },
      "execution_count": null,
      "outputs": [
        {
          "output_type": "execute_result",
          "data": {
            "text/plain": [
              "0    2023-09-26 10:06:23\n",
              "1    2023-09-21 18:54:50\n",
              "2    2023-09-27 16:10:52\n",
              "3    2023-09-25 09:12:02\n",
              "4    2023-09-28 11:08:32\n",
              "Name: Дата и время, dtype: object"
            ]
          },
          "metadata": {},
          "execution_count": 17
        }
      ]
    },
    {
      "cell_type": "code",
      "source": [
        "# Приводим тип данных столбца 'Дата и время'\n",
        "Headliner_calls_df['Дата и время'] = pd.to_datetime(Headliner_calls_df['Дата и время'])"
      ],
      "metadata": {
        "id": "dGOVx6Jtfhai"
      },
      "execution_count": null,
      "outputs": []
    },
    {
      "cell_type": "code",
      "source": [
        "Headliner_calls_df['Дата и время'].tail()"
      ],
      "metadata": {
        "colab": {
          "base_uri": "https://localhost:8080/"
        },
        "id": "pjc2s3QQgRLq",
        "outputId": "07e764cc-f91b-4e1a-ad90-79c00801d3b2"
      },
      "execution_count": null,
      "outputs": [
        {
          "output_type": "execute_result",
          "data": {
            "text/plain": [
              "1221   2023-09-25 20:22:45\n",
              "1222   2023-09-27 15:04:39\n",
              "1223   2023-09-26 15:17:11\n",
              "1224   2023-09-26 11:33:50\n",
              "1225   2023-09-23 11:18:02\n",
              "Name: Дата и время, dtype: datetime64[ns]"
            ]
          },
          "metadata": {},
          "execution_count": 19
        }
      ]
    },
    {
      "cell_type": "markdown",
      "source": [
        "##### 1. Номер абонента"
      ],
      "metadata": {
        "id": "7_Aw_h0SdDu4"
      }
    },
    {
      "cell_type": "code",
      "source": [
        "Headliner_calls_df['Номер абонента'].head()"
      ],
      "metadata": {
        "colab": {
          "base_uri": "https://localhost:8080/"
        },
        "id": "9rsaVDgCdI-V",
        "outputId": "8c2661f5-7ba3-488a-eb9e-4c5a9713cd37"
      },
      "execution_count": null,
      "outputs": [
        {
          "output_type": "execute_result",
          "data": {
            "text/plain": [
              "0    79584153294\n",
              "1    79951538090\n",
              "2    79853697070\n",
              "3    79858141531\n",
              "4    79851881681\n",
              "Name: Номер абонента, dtype: object"
            ]
          },
          "metadata": {},
          "execution_count": 20
        }
      ]
    },
    {
      "cell_type": "code",
      "source": [
        "# Приводим тип данных столбца 'Номер абонента'\n",
        "Headliner_calls_df = Headliner_calls_df.astype({'Номер абонента': int})"
      ],
      "metadata": {
        "id": "-AiVrQEJhlpd"
      },
      "execution_count": null,
      "outputs": []
    },
    {
      "cell_type": "code",
      "source": [
        "Headliner_calls_df['Номер абонента'].tail()"
      ],
      "metadata": {
        "colab": {
          "base_uri": "https://localhost:8080/"
        },
        "id": "x3UmN5sXirAW",
        "outputId": "94c574b8-57e8-4fbb-941b-500ecd1a5395"
      },
      "execution_count": null,
      "outputs": [
        {
          "output_type": "execute_result",
          "data": {
            "text/plain": [
              "1221    79039077310\n",
              "1222    79964425592\n",
              "1223    79199453103\n",
              "1224    79264649878\n",
              "1225    79224128180\n",
              "Name: Номер абонента, dtype: int64"
            ]
          },
          "metadata": {},
          "execution_count": 22
        }
      ]
    },
    {
      "cell_type": "markdown",
      "source": [
        "##### 2. Номер сотрудника"
      ],
      "metadata": {
        "id": "eDI3Uf2odbo3"
      }
    },
    {
      "cell_type": "code",
      "source": [
        "Headliner_calls_df['Номер сотрудника'].head()"
      ],
      "metadata": {
        "colab": {
          "base_uri": "https://localhost:8080/"
        },
        "id": "CXrJMqa2dgsi",
        "outputId": "78b285e7-713c-4f8f-d406-92bc4686570c"
      },
      "execution_count": null,
      "outputs": [
        {
          "output_type": "execute_result",
          "data": {
            "text/plain": [
              "0    74959339902\n",
              "1        0188880\n",
              "2        0188880\n",
              "3    74959339902\n",
              "4    74959339902\n",
              "Name: Номер сотрудника, dtype: object"
            ]
          },
          "metadata": {},
          "execution_count": 23
        }
      ]
    },
    {
      "cell_type": "code",
      "source": [
        "# Приводим тип данных столбца 'Номер сотрудника'\n",
        "Headliner_calls_df = Headliner_calls_df.astype({'Номер сотрудника': int})"
      ],
      "metadata": {
        "id": "pQsnqUh5hiDF"
      },
      "execution_count": null,
      "outputs": []
    },
    {
      "cell_type": "code",
      "source": [
        "Headliner_calls_df['Номер сотрудника'].tail()"
      ],
      "metadata": {
        "colab": {
          "base_uri": "https://localhost:8080/"
        },
        "id": "aT4FPvvumzFY",
        "outputId": "f97703f1-e902-4546-d1df-f058cf3995ab"
      },
      "execution_count": null,
      "outputs": [
        {
          "output_type": "execute_result",
          "data": {
            "text/plain": [
              "1221    74959339902\n",
              "1222    74959339902\n",
              "1223         188880\n",
              "1224    74959339902\n",
              "1225         188880\n",
              "Name: Номер сотрудника, dtype: int64"
            ]
          },
          "metadata": {},
          "execution_count": 25
        }
      ]
    },
    {
      "cell_type": "markdown",
      "source": [
        "##### 3. Идентификатор сессии звонка"
      ],
      "metadata": {
        "id": "yQPmAfE8dnzm"
      }
    },
    {
      "cell_type": "code",
      "source": [
        "Headliner_calls_df['Идентификатор сессии звонка'].head()"
      ],
      "metadata": {
        "colab": {
          "base_uri": "https://localhost:8080/"
        },
        "id": "AVk3S4mNdsMO",
        "outputId": "5a2e3f72-1cfd-4147-818a-3286c91fc204"
      },
      "execution_count": null,
      "outputs": [
        {
          "output_type": "execute_result",
          "data": {
            "text/plain": [
              "0    3252459256\n",
              "1    3235156678\n",
              "2    3253840089\n",
              "3    3249639806\n",
              "4    3262172387\n",
              "Name: Идентификатор сессии звонка, dtype: object"
            ]
          },
          "metadata": {},
          "execution_count": 26
        }
      ]
    },
    {
      "cell_type": "code",
      "source": [
        "# Приводим тип данных столбца 'Идентификатор сессии звонка'\n",
        "Headliner_calls_df = Headliner_calls_df.astype({'Идентификатор сессии звонка': int})"
      ],
      "metadata": {
        "id": "oqfDAMYpnxZw"
      },
      "execution_count": null,
      "outputs": []
    },
    {
      "cell_type": "code",
      "source": [
        "Headliner_calls_df['Идентификатор сессии звонка'].tail()"
      ],
      "metadata": {
        "colab": {
          "base_uri": "https://localhost:8080/"
        },
        "id": "gBHfbOZtn8cN",
        "outputId": "16aefaf6-cf13-406a-c302-8b2ef16d056b"
      },
      "execution_count": null,
      "outputs": [
        {
          "output_type": "execute_result",
          "data": {
            "text/plain": [
              "1221    3244316548\n",
              "1222    3240209630\n",
              "1223    3246045878\n",
              "1224    3245199518\n",
              "1225    3251344342\n",
              "Name: Идентификатор сессии звонка, dtype: int64"
            ]
          },
          "metadata": {},
          "execution_count": 28
        }
      ]
    },
    {
      "cell_type": "code",
      "source": [
        "# Смотрим количество уникальных значений столбца 'Идентификатор сессии звонка'\n",
        "Headliner_calls_df['Идентификатор сессии звонка'].nunique()"
      ],
      "metadata": {
        "colab": {
          "base_uri": "https://localhost:8080/"
        },
        "id": "bWk8Kfoqt6QB",
        "outputId": "09fc0a77-97b5-48e5-f8cd-d019e6a5b947"
      },
      "execution_count": null,
      "outputs": [
        {
          "output_type": "execute_result",
          "data": {
            "text/plain": [
              "1226"
            ]
          },
          "metadata": {},
          "execution_count": 29
        }
      ]
    },
    {
      "cell_type": "markdown",
      "source": [
        "##### 4. Файл записи звонка"
      ],
      "metadata": {
        "id": "QI0TzB5Gd14a"
      }
    },
    {
      "cell_type": "code",
      "source": [
        "Headliner_calls_df['Файл записи звонка'].head()"
      ],
      "metadata": {
        "colab": {
          "base_uri": "https://localhost:8080/"
        },
        "id": "QlxAbCIwd6H3",
        "outputId": "cca4e88d-c84f-4b48-d766-c48772645da4"
      },
      "execution_count": null,
      "outputs": [
        {
          "output_type": "execute_result",
          "data": {
            "text/plain": [
              "0    2023-09-26_10-06-23.403699_from_79584153294_to_74959339902_session_3252459256_talk.mp3\n",
              "1        2023-09-21_18-54-50.120569_from_79951538090_to_0188880_session_3235156678_talk.mp3\n",
              "2        2023-09-27_16-10-52.316459_from_79853697070_to_0188880_session_3253840089_talk.mp3\n",
              "3    2023-09-25_09-12-02.428401_from_79858141531_to_74959339902_session_3249639806_talk.mp3\n",
              "4    2023-09-28_11-08-32.052586_from_79851881681_to_74959339902_session_3262172387_talk.mp3\n",
              "Name: Файл записи звонка, dtype: object"
            ]
          },
          "metadata": {},
          "execution_count": 30
        }
      ]
    },
    {
      "cell_type": "code",
      "source": [
        "# Добавляем к файлам относительные пути\n",
        "Headliner_calls_df['Файл записи звонка'] = Headliner_calls_df['Файл записи звонка'].apply(lambda x: 'Новые записи звонков/Записи Headliner/' + x)"
      ],
      "metadata": {
        "id": "bs7lZ77kuVR9"
      },
      "execution_count": null,
      "outputs": []
    },
    {
      "cell_type": "code",
      "source": [
        "Headliner_calls_df['Файл записи звонка'].tail()"
      ],
      "metadata": {
        "colab": {
          "base_uri": "https://localhost:8080/"
        },
        "id": "uwfYcovQvgPW",
        "outputId": "ac855bee-8a1f-41ed-d2bd-091861aea853"
      },
      "execution_count": null,
      "outputs": [
        {
          "output_type": "execute_result",
          "data": {
            "text/plain": [
              "1221    Новые записи звонков/Записи Headliner/2023-09-25_20-22-45.880054_from_79039077310_to_74959339902_session_3244316548_talk.mp3\n",
              "1222    Новые записи звонков/Записи Headliner/2023-09-27_15-04-39.742280_from_79964425592_to_74959339902_session_3240209630_talk.mp3\n",
              "1223        Новые записи звонков/Записи Headliner/2023-09-26_15-17-11.305534_from_79199453103_to_0188880_session_3246045878_talk.mp3\n",
              "1224    Новые записи звонков/Записи Headliner/2023-09-26_11-33-50.933882_from_79264649878_to_74959339902_session_3245199518_talk.mp3\n",
              "1225        Новые записи звонков/Записи Headliner/2023-09-23_11-18-02.353443_from_79224128180_to_0188880_session_3251344342_talk.mp3\n",
              "Name: Файл записи звонка, dtype: object"
            ]
          },
          "metadata": {},
          "execution_count": 32
        }
      ]
    },
    {
      "cell_type": "markdown",
      "source": [
        "#### Типы данных"
      ],
      "metadata": {
        "id": "85lkDfpfePxc"
      }
    },
    {
      "cell_type": "code",
      "source": [
        "# Смотрим типы данных\n",
        "Headliner_calls_df.dtypes"
      ],
      "metadata": {
        "colab": {
          "base_uri": "https://localhost:8080/"
        },
        "id": "dE6rDOOSeR0E",
        "outputId": "62c96d3c-b4ca-4377-f909-8319788d0d61"
      },
      "execution_count": null,
      "outputs": [
        {
          "output_type": "execute_result",
          "data": {
            "text/plain": [
              "Дата и время                   datetime64[ns]\n",
              "Номер абонента                          int64\n",
              "Номер сотрудника                        int64\n",
              "Идентификатор сессии звонка             int64\n",
              "Файл записи звонка                     object\n",
              "dtype: object"
            ]
          },
          "metadata": {},
          "execution_count": 33
        }
      ]
    },
    {
      "cell_type": "code",
      "source": [
        "print(Headliner_calls_df.count())"
      ],
      "metadata": {
        "colab": {
          "base_uri": "https://localhost:8080/"
        },
        "id": "O1Ntpf1og047",
        "outputId": "a2a0a4f5-2221-4fb2-d096-d7ec57e86381"
      },
      "execution_count": null,
      "outputs": [
        {
          "output_type": "stream",
          "name": "stdout",
          "text": [
            "Дата и время                   1226\n",
            "Номер абонента                 1226\n",
            "Номер сотрудника               1226\n",
            "Идентификатор сессии звонка    1226\n",
            "Файл записи звонка             1226\n",
            "dtype: int64\n"
          ]
        }
      ]
    },
    {
      "cell_type": "markdown",
      "source": [
        "#### Сохранение датафрейма"
      ],
      "metadata": {
        "id": "auzvw99qv4Cn"
      }
    },
    {
      "cell_type": "code",
      "source": [
        "# Сохраняем Headliner_calls_df в файл\n",
        "with open(df_path + 'Headliner_new_calls_df.pkl', 'wb') as f:\n",
        "  pkl.dump(Headliner_calls_df, f)"
      ],
      "metadata": {
        "id": "XdF4IlL_v-dp"
      },
      "execution_count": null,
      "outputs": []
    },
    {
      "cell_type": "markdown",
      "source": [
        "### Primavera"
      ],
      "metadata": {
        "id": "KoS6KcIsz7h7"
      }
    },
    {
      "cell_type": "markdown",
      "source": [
        "#### Создание датафрейма"
      ],
      "metadata": {
        "id": "5fEBLpxBz7h_"
      }
    },
    {
      "cell_type": "code",
      "source": [
        "# Создаём датафрейм из списка записей звонков\n",
        "Primavera_calls_df = calls_list_to_df(os.listdir(new_dataset_path + 'Записи Primavera'))\n",
        "Primavera_calls_df.shape"
      ],
      "metadata": {
        "colab": {
          "base_uri": "https://localhost:8080/"
        },
        "outputId": "c0c56319-aa17-42de-c19d-392b762ce13f",
        "id": "LtsG7D2_z7h_"
      },
      "execution_count": null,
      "outputs": [
        {
          "output_type": "execute_result",
          "data": {
            "text/plain": [
              "(767, 5)"
            ]
          },
          "metadata": {},
          "execution_count": 36
        }
      ]
    },
    {
      "cell_type": "code",
      "source": [
        "Primavera_calls_df.head()"
      ],
      "metadata": {
        "colab": {
          "base_uri": "https://localhost:8080/",
          "height": 206
        },
        "outputId": "fc28fca1-3af7-45f9-9c9e-98e97bf13f4f",
        "id": "K92HwJUvz7iC"
      },
      "execution_count": null,
      "outputs": [
        {
          "output_type": "execute_result",
          "data": {
            "text/plain": [
              "          Дата и время Номер абонента Номер сотрудника  \\\n",
              "0  2023-09-30 12:19:55    79854305902          0253192   \n",
              "1  2023-10-04 19:40:25    74950210291          0253206   \n",
              "2  2023-10-04 15:52:11    79203810871          0253201   \n",
              "3  2023-10-02 20:00:47    74950210291          0150113   \n",
              "4  2023-10-04 16:50:31    79295237177          0111652   \n",
              "\n",
              "  Идентификатор сессии звонка  \\\n",
              "0                  3263012391   \n",
              "1                  3276780397   \n",
              "2                  3276172302   \n",
              "3                  3271743567   \n",
              "4                  3269469074   \n",
              "\n",
              "                                                                   Файл записи звонка  \n",
              "0  2023-09-30_12-19-55.312627_from_79854305902_to_0253192_session_3263012391_talk.mp3  \n",
              "1  2023-10-04_19-40-25.037187_from_74950210291_to_0253206_session_3276780397_talk.mp3  \n",
              "2  2023-10-04_15-52-11.200324_from_79203810871_to_0253201_session_3276172302_talk.mp3  \n",
              "3  2023-10-02_20-00-47.312686_from_74950210291_to_0150113_session_3271743567_talk.mp3  \n",
              "4  2023-10-04_16-50-31.267655_from_79295237177_to_0111652_session_3269469074_talk.mp3  "
            ],
            "text/html": [
              "\n",
              "  <div id=\"df-a29b4a8e-d1e4-4918-a71c-d5c7ec505719\" class=\"colab-df-container\">\n",
              "    <div>\n",
              "<style scoped>\n",
              "    .dataframe tbody tr th:only-of-type {\n",
              "        vertical-align: middle;\n",
              "    }\n",
              "\n",
              "    .dataframe tbody tr th {\n",
              "        vertical-align: top;\n",
              "    }\n",
              "\n",
              "    .dataframe thead th {\n",
              "        text-align: right;\n",
              "    }\n",
              "</style>\n",
              "<table border=\"1\" class=\"dataframe\">\n",
              "  <thead>\n",
              "    <tr style=\"text-align: right;\">\n",
              "      <th></th>\n",
              "      <th>Дата и время</th>\n",
              "      <th>Номер абонента</th>\n",
              "      <th>Номер сотрудника</th>\n",
              "      <th>Идентификатор сессии звонка</th>\n",
              "      <th>Файл записи звонка</th>\n",
              "    </tr>\n",
              "  </thead>\n",
              "  <tbody>\n",
              "    <tr>\n",
              "      <th>0</th>\n",
              "      <td>2023-09-30 12:19:55</td>\n",
              "      <td>79854305902</td>\n",
              "      <td>0253192</td>\n",
              "      <td>3263012391</td>\n",
              "      <td>2023-09-30_12-19-55.312627_from_79854305902_to_0253192_session_3263012391_talk.mp3</td>\n",
              "    </tr>\n",
              "    <tr>\n",
              "      <th>1</th>\n",
              "      <td>2023-10-04 19:40:25</td>\n",
              "      <td>74950210291</td>\n",
              "      <td>0253206</td>\n",
              "      <td>3276780397</td>\n",
              "      <td>2023-10-04_19-40-25.037187_from_74950210291_to_0253206_session_3276780397_talk.mp3</td>\n",
              "    </tr>\n",
              "    <tr>\n",
              "      <th>2</th>\n",
              "      <td>2023-10-04 15:52:11</td>\n",
              "      <td>79203810871</td>\n",
              "      <td>0253201</td>\n",
              "      <td>3276172302</td>\n",
              "      <td>2023-10-04_15-52-11.200324_from_79203810871_to_0253201_session_3276172302_talk.mp3</td>\n",
              "    </tr>\n",
              "    <tr>\n",
              "      <th>3</th>\n",
              "      <td>2023-10-02 20:00:47</td>\n",
              "      <td>74950210291</td>\n",
              "      <td>0150113</td>\n",
              "      <td>3271743567</td>\n",
              "      <td>2023-10-02_20-00-47.312686_from_74950210291_to_0150113_session_3271743567_talk.mp3</td>\n",
              "    </tr>\n",
              "    <tr>\n",
              "      <th>4</th>\n",
              "      <td>2023-10-04 16:50:31</td>\n",
              "      <td>79295237177</td>\n",
              "      <td>0111652</td>\n",
              "      <td>3269469074</td>\n",
              "      <td>2023-10-04_16-50-31.267655_from_79295237177_to_0111652_session_3269469074_talk.mp3</td>\n",
              "    </tr>\n",
              "  </tbody>\n",
              "</table>\n",
              "</div>\n",
              "    <div class=\"colab-df-buttons\">\n",
              "\n",
              "  <div class=\"colab-df-container\">\n",
              "    <button class=\"colab-df-convert\" onclick=\"convertToInteractive('df-a29b4a8e-d1e4-4918-a71c-d5c7ec505719')\"\n",
              "            title=\"Convert this dataframe to an interactive table.\"\n",
              "            style=\"display:none;\">\n",
              "\n",
              "  <svg xmlns=\"http://www.w3.org/2000/svg\" height=\"24px\" viewBox=\"0 -960 960 960\">\n",
              "    <path d=\"M120-120v-720h720v720H120Zm60-500h600v-160H180v160Zm220 220h160v-160H400v160Zm0 220h160v-160H400v160ZM180-400h160v-160H180v160Zm440 0h160v-160H620v160ZM180-180h160v-160H180v160Zm440 0h160v-160H620v160Z\"/>\n",
              "  </svg>\n",
              "    </button>\n",
              "\n",
              "  <style>\n",
              "    .colab-df-container {\n",
              "      display:flex;\n",
              "      gap: 12px;\n",
              "    }\n",
              "\n",
              "    .colab-df-convert {\n",
              "      background-color: #E8F0FE;\n",
              "      border: none;\n",
              "      border-radius: 50%;\n",
              "      cursor: pointer;\n",
              "      display: none;\n",
              "      fill: #1967D2;\n",
              "      height: 32px;\n",
              "      padding: 0 0 0 0;\n",
              "      width: 32px;\n",
              "    }\n",
              "\n",
              "    .colab-df-convert:hover {\n",
              "      background-color: #E2EBFA;\n",
              "      box-shadow: 0px 1px 2px rgba(60, 64, 67, 0.3), 0px 1px 3px 1px rgba(60, 64, 67, 0.15);\n",
              "      fill: #174EA6;\n",
              "    }\n",
              "\n",
              "    .colab-df-buttons div {\n",
              "      margin-bottom: 4px;\n",
              "    }\n",
              "\n",
              "    [theme=dark] .colab-df-convert {\n",
              "      background-color: #3B4455;\n",
              "      fill: #D2E3FC;\n",
              "    }\n",
              "\n",
              "    [theme=dark] .colab-df-convert:hover {\n",
              "      background-color: #434B5C;\n",
              "      box-shadow: 0px 1px 3px 1px rgba(0, 0, 0, 0.15);\n",
              "      filter: drop-shadow(0px 1px 2px rgba(0, 0, 0, 0.3));\n",
              "      fill: #FFFFFF;\n",
              "    }\n",
              "  </style>\n",
              "\n",
              "    <script>\n",
              "      const buttonEl =\n",
              "        document.querySelector('#df-a29b4a8e-d1e4-4918-a71c-d5c7ec505719 button.colab-df-convert');\n",
              "      buttonEl.style.display =\n",
              "        google.colab.kernel.accessAllowed ? 'block' : 'none';\n",
              "\n",
              "      async function convertToInteractive(key) {\n",
              "        const element = document.querySelector('#df-a29b4a8e-d1e4-4918-a71c-d5c7ec505719');\n",
              "        const dataTable =\n",
              "          await google.colab.kernel.invokeFunction('convertToInteractive',\n",
              "                                                    [key], {});\n",
              "        if (!dataTable) return;\n",
              "\n",
              "        const docLinkHtml = 'Like what you see? Visit the ' +\n",
              "          '<a target=\"_blank\" href=https://colab.research.google.com/notebooks/data_table.ipynb>data table notebook</a>'\n",
              "          + ' to learn more about interactive tables.';\n",
              "        element.innerHTML = '';\n",
              "        dataTable['output_type'] = 'display_data';\n",
              "        await google.colab.output.renderOutput(dataTable, element);\n",
              "        const docLink = document.createElement('div');\n",
              "        docLink.innerHTML = docLinkHtml;\n",
              "        element.appendChild(docLink);\n",
              "      }\n",
              "    </script>\n",
              "  </div>\n",
              "\n",
              "\n",
              "<div id=\"df-57b7f3c4-0c55-43aa-9c6b-7756cdbbfd64\">\n",
              "  <button class=\"colab-df-quickchart\" onclick=\"quickchart('df-57b7f3c4-0c55-43aa-9c6b-7756cdbbfd64')\"\n",
              "            title=\"Suggest charts.\"\n",
              "            style=\"display:none;\">\n",
              "\n",
              "<svg xmlns=\"http://www.w3.org/2000/svg\" height=\"24px\"viewBox=\"0 0 24 24\"\n",
              "     width=\"24px\">\n",
              "    <g>\n",
              "        <path d=\"M19 3H5c-1.1 0-2 .9-2 2v14c0 1.1.9 2 2 2h14c1.1 0 2-.9 2-2V5c0-1.1-.9-2-2-2zM9 17H7v-7h2v7zm4 0h-2V7h2v10zm4 0h-2v-4h2v4z\"/>\n",
              "    </g>\n",
              "</svg>\n",
              "  </button>\n",
              "\n",
              "<style>\n",
              "  .colab-df-quickchart {\n",
              "      --bg-color: #E8F0FE;\n",
              "      --fill-color: #1967D2;\n",
              "      --hover-bg-color: #E2EBFA;\n",
              "      --hover-fill-color: #174EA6;\n",
              "      --disabled-fill-color: #AAA;\n",
              "      --disabled-bg-color: #DDD;\n",
              "  }\n",
              "\n",
              "  [theme=dark] .colab-df-quickchart {\n",
              "      --bg-color: #3B4455;\n",
              "      --fill-color: #D2E3FC;\n",
              "      --hover-bg-color: #434B5C;\n",
              "      --hover-fill-color: #FFFFFF;\n",
              "      --disabled-bg-color: #3B4455;\n",
              "      --disabled-fill-color: #666;\n",
              "  }\n",
              "\n",
              "  .colab-df-quickchart {\n",
              "    background-color: var(--bg-color);\n",
              "    border: none;\n",
              "    border-radius: 50%;\n",
              "    cursor: pointer;\n",
              "    display: none;\n",
              "    fill: var(--fill-color);\n",
              "    height: 32px;\n",
              "    padding: 0;\n",
              "    width: 32px;\n",
              "  }\n",
              "\n",
              "  .colab-df-quickchart:hover {\n",
              "    background-color: var(--hover-bg-color);\n",
              "    box-shadow: 0 1px 2px rgba(60, 64, 67, 0.3), 0 1px 3px 1px rgba(60, 64, 67, 0.15);\n",
              "    fill: var(--button-hover-fill-color);\n",
              "  }\n",
              "\n",
              "  .colab-df-quickchart-complete:disabled,\n",
              "  .colab-df-quickchart-complete:disabled:hover {\n",
              "    background-color: var(--disabled-bg-color);\n",
              "    fill: var(--disabled-fill-color);\n",
              "    box-shadow: none;\n",
              "  }\n",
              "\n",
              "  .colab-df-spinner {\n",
              "    border: 2px solid var(--fill-color);\n",
              "    border-color: transparent;\n",
              "    border-bottom-color: var(--fill-color);\n",
              "    animation:\n",
              "      spin 1s steps(1) infinite;\n",
              "  }\n",
              "\n",
              "  @keyframes spin {\n",
              "    0% {\n",
              "      border-color: transparent;\n",
              "      border-bottom-color: var(--fill-color);\n",
              "      border-left-color: var(--fill-color);\n",
              "    }\n",
              "    20% {\n",
              "      border-color: transparent;\n",
              "      border-left-color: var(--fill-color);\n",
              "      border-top-color: var(--fill-color);\n",
              "    }\n",
              "    30% {\n",
              "      border-color: transparent;\n",
              "      border-left-color: var(--fill-color);\n",
              "      border-top-color: var(--fill-color);\n",
              "      border-right-color: var(--fill-color);\n",
              "    }\n",
              "    40% {\n",
              "      border-color: transparent;\n",
              "      border-right-color: var(--fill-color);\n",
              "      border-top-color: var(--fill-color);\n",
              "    }\n",
              "    60% {\n",
              "      border-color: transparent;\n",
              "      border-right-color: var(--fill-color);\n",
              "    }\n",
              "    80% {\n",
              "      border-color: transparent;\n",
              "      border-right-color: var(--fill-color);\n",
              "      border-bottom-color: var(--fill-color);\n",
              "    }\n",
              "    90% {\n",
              "      border-color: transparent;\n",
              "      border-bottom-color: var(--fill-color);\n",
              "    }\n",
              "  }\n",
              "</style>\n",
              "\n",
              "  <script>\n",
              "    async function quickchart(key) {\n",
              "      const quickchartButtonEl =\n",
              "        document.querySelector('#' + key + ' button');\n",
              "      quickchartButtonEl.disabled = true;  // To prevent multiple clicks.\n",
              "      quickchartButtonEl.classList.add('colab-df-spinner');\n",
              "      try {\n",
              "        const charts = await google.colab.kernel.invokeFunction(\n",
              "            'suggestCharts', [key], {});\n",
              "      } catch (error) {\n",
              "        console.error('Error during call to suggestCharts:', error);\n",
              "      }\n",
              "      quickchartButtonEl.classList.remove('colab-df-spinner');\n",
              "      quickchartButtonEl.classList.add('colab-df-quickchart-complete');\n",
              "    }\n",
              "    (() => {\n",
              "      let quickchartButtonEl =\n",
              "        document.querySelector('#df-57b7f3c4-0c55-43aa-9c6b-7756cdbbfd64 button');\n",
              "      quickchartButtonEl.style.display =\n",
              "        google.colab.kernel.accessAllowed ? 'block' : 'none';\n",
              "    })();\n",
              "  </script>\n",
              "</div>\n",
              "    </div>\n",
              "  </div>\n"
            ]
          },
          "metadata": {},
          "execution_count": 37
        }
      ]
    },
    {
      "cell_type": "code",
      "source": [
        "# Проверяем количество строк\n",
        "print(len(os.listdir(new_dataset_path + 'Записи Primavera')))\n",
        "print(Primavera_calls_df.shape[0])"
      ],
      "metadata": {
        "colab": {
          "base_uri": "https://localhost:8080/"
        },
        "outputId": "cfa26ceb-13cf-4edb-be4b-cf956d3e3f76",
        "id": "lFni7wGfz7iD"
      },
      "execution_count": null,
      "outputs": [
        {
          "output_type": "stream",
          "name": "stdout",
          "text": [
            "767\n",
            "767\n"
          ]
        }
      ]
    },
    {
      "cell_type": "code",
      "source": [
        "print(Primavera_calls_df.count())"
      ],
      "metadata": {
        "colab": {
          "base_uri": "https://localhost:8080/"
        },
        "outputId": "a99a38e4-391d-4768-e4b3-c12336353af2",
        "id": "2n05o_2_z7iS"
      },
      "execution_count": null,
      "outputs": [
        {
          "output_type": "stream",
          "name": "stdout",
          "text": [
            "Дата и время                   767\n",
            "Номер абонента                 767\n",
            "Номер сотрудника               767\n",
            "Идентификатор сессии звонка    767\n",
            "Файл записи звонка             767\n",
            "dtype: int64\n"
          ]
        }
      ]
    },
    {
      "cell_type": "markdown",
      "source": [
        "#### Предобработка"
      ],
      "metadata": {
        "id": "ynajeOFwz7iT"
      }
    },
    {
      "cell_type": "markdown",
      "source": [
        "##### 0. Дата и время"
      ],
      "metadata": {
        "id": "pdDqEujvz7iU"
      }
    },
    {
      "cell_type": "code",
      "source": [
        "Primavera_calls_df['Дата и время'].head()"
      ],
      "metadata": {
        "colab": {
          "base_uri": "https://localhost:8080/"
        },
        "outputId": "5c16598c-30fc-4c3e-e2d1-a951643cd8ca",
        "id": "W37zrnhSz7iV"
      },
      "execution_count": null,
      "outputs": [
        {
          "output_type": "execute_result",
          "data": {
            "text/plain": [
              "0    2023-09-30 12:19:55\n",
              "1    2023-10-04 19:40:25\n",
              "2    2023-10-04 15:52:11\n",
              "3    2023-10-02 20:00:47\n",
              "4    2023-10-04 16:50:31\n",
              "Name: Дата и время, dtype: object"
            ]
          },
          "metadata": {},
          "execution_count": 40
        }
      ]
    },
    {
      "cell_type": "code",
      "source": [
        "# Приводим тип данных столбца 'Дата и время'\n",
        "Primavera_calls_df['Дата и время'] = pd.to_datetime(Primavera_calls_df['Дата и время'])"
      ],
      "metadata": {
        "id": "J4bT0IEKz7iW"
      },
      "execution_count": null,
      "outputs": []
    },
    {
      "cell_type": "code",
      "source": [
        "Primavera_calls_df['Дата и время'].tail()"
      ],
      "metadata": {
        "colab": {
          "base_uri": "https://localhost:8080/"
        },
        "outputId": "5773ac52-7d61-40c1-ac6f-c33a151596e8",
        "id": "Ri5td3UJz7iW"
      },
      "execution_count": null,
      "outputs": [
        {
          "output_type": "execute_result",
          "data": {
            "text/plain": [
              "762   2023-09-03 16:24:54\n",
              "763   2023-09-02 17:12:27\n",
              "764   2023-09-03 15:19:38\n",
              "765   2023-09-02 17:49:06\n",
              "766   2023-09-01 12:35:50\n",
              "Name: Дата и время, dtype: datetime64[ns]"
            ]
          },
          "metadata": {},
          "execution_count": 42
        }
      ]
    },
    {
      "cell_type": "markdown",
      "source": [
        "##### 1. Номер абонента"
      ],
      "metadata": {
        "id": "WyFGsoXCz7iX"
      }
    },
    {
      "cell_type": "code",
      "source": [
        "Primavera_calls_df['Номер абонента'].head()"
      ],
      "metadata": {
        "colab": {
          "base_uri": "https://localhost:8080/"
        },
        "outputId": "0f172390-9ef5-4cc3-d8d0-6e7d961fb21a",
        "id": "btFfn98uz7iY"
      },
      "execution_count": null,
      "outputs": [
        {
          "output_type": "execute_result",
          "data": {
            "text/plain": [
              "0    79854305902\n",
              "1    74950210291\n",
              "2    79203810871\n",
              "3    74950210291\n",
              "4    79295237177\n",
              "Name: Номер абонента, dtype: object"
            ]
          },
          "metadata": {},
          "execution_count": 43
        }
      ]
    },
    {
      "cell_type": "code",
      "source": [
        "# Приводим тип данных столбца 'Номер абонента'\n",
        "Primavera_calls_df = Primavera_calls_df.astype({'Номер абонента': int})"
      ],
      "metadata": {
        "id": "n0k3p9_Lz7ia"
      },
      "execution_count": null,
      "outputs": []
    },
    {
      "cell_type": "code",
      "source": [
        "Primavera_calls_df['Номер абонента'].tail()"
      ],
      "metadata": {
        "colab": {
          "base_uri": "https://localhost:8080/"
        },
        "outputId": "52b67e28-5769-4786-c713-8cb27d7397ff",
        "id": "8k8GkrnZz7ia"
      },
      "execution_count": null,
      "outputs": [
        {
          "output_type": "execute_result",
          "data": {
            "text/plain": [
              "762    74991918588\n",
              "763    79296548451\n",
              "764    79167387714\n",
              "765    74950210291\n",
              "766    79776807507\n",
              "Name: Номер абонента, dtype: int64"
            ]
          },
          "metadata": {},
          "execution_count": 45
        }
      ]
    },
    {
      "cell_type": "markdown",
      "source": [
        "##### 2. Номер сотрудника"
      ],
      "metadata": {
        "id": "4ENc7JlVz7ib"
      }
    },
    {
      "cell_type": "code",
      "source": [
        "Primavera_calls_df['Номер сотрудника'].head()"
      ],
      "metadata": {
        "colab": {
          "base_uri": "https://localhost:8080/"
        },
        "outputId": "b415b3b7-8ac4-42a3-843f-e259284cc136",
        "id": "OHNIdxACz7ib"
      },
      "execution_count": null,
      "outputs": [
        {
          "output_type": "execute_result",
          "data": {
            "text/plain": [
              "0    0253192\n",
              "1    0253206\n",
              "2    0253201\n",
              "3    0150113\n",
              "4    0111652\n",
              "Name: Номер сотрудника, dtype: object"
            ]
          },
          "metadata": {},
          "execution_count": 46
        }
      ]
    },
    {
      "cell_type": "code",
      "source": [
        "# Приводим тип данных столбца 'Номер сотрудника'\n",
        "Primavera_calls_df = Primavera_calls_df.astype({'Номер сотрудника': int})"
      ],
      "metadata": {
        "id": "j4TX2qsiz7in"
      },
      "execution_count": null,
      "outputs": []
    },
    {
      "cell_type": "code",
      "source": [
        "Primavera_calls_df['Номер сотрудника'].tail()"
      ],
      "metadata": {
        "colab": {
          "base_uri": "https://localhost:8080/"
        },
        "outputId": "62b6fd19-b6ef-436f-852a-f668686af4cc",
        "id": "8YWbVXO1z7io"
      },
      "execution_count": null,
      "outputs": [
        {
          "output_type": "execute_result",
          "data": {
            "text/plain": [
              "762    150108\n",
              "763    253208\n",
              "764    111642\n",
              "765    111639\n",
              "766    253211\n",
              "Name: Номер сотрудника, dtype: int64"
            ]
          },
          "metadata": {},
          "execution_count": 48
        }
      ]
    },
    {
      "cell_type": "markdown",
      "source": [
        "##### 3. Идентификатор сессии звонка"
      ],
      "metadata": {
        "id": "8JmDNybpz7io"
      }
    },
    {
      "cell_type": "code",
      "source": [
        "Primavera_calls_df['Идентификатор сессии звонка'].head()"
      ],
      "metadata": {
        "colab": {
          "base_uri": "https://localhost:8080/"
        },
        "outputId": "44dcb1c6-f91a-4d57-e1b4-21c7c08f7e6f",
        "id": "uBna5XfIz7iq"
      },
      "execution_count": null,
      "outputs": [
        {
          "output_type": "execute_result",
          "data": {
            "text/plain": [
              "0    3263012391\n",
              "1    3276780397\n",
              "2    3276172302\n",
              "3    3271743567\n",
              "4    3269469074\n",
              "Name: Идентификатор сессии звонка, dtype: object"
            ]
          },
          "metadata": {},
          "execution_count": 49
        }
      ]
    },
    {
      "cell_type": "code",
      "source": [
        "# Приводим тип данных столбца 'Идентификатор сессии звонка'\n",
        "Primavera_calls_df = Primavera_calls_df.astype({'Идентификатор сессии звонка': int})"
      ],
      "metadata": {
        "id": "qBdyq97Lz7iq"
      },
      "execution_count": null,
      "outputs": []
    },
    {
      "cell_type": "code",
      "source": [
        "Primavera_calls_df['Идентификатор сессии звонка'].tail()"
      ],
      "metadata": {
        "colab": {
          "base_uri": "https://localhost:8080/"
        },
        "outputId": "da8075db-c2a5-4428-e78b-52e2b767d1bf",
        "id": "VPqDKLRez7ir"
      },
      "execution_count": null,
      "outputs": [
        {
          "output_type": "execute_result",
          "data": {
            "text/plain": [
              "762    3195081143\n",
              "763    3197045974\n",
              "764    3198170594\n",
              "765    3204178922\n",
              "766    3188505725\n",
              "Name: Идентификатор сессии звонка, dtype: int64"
            ]
          },
          "metadata": {},
          "execution_count": 51
        }
      ]
    },
    {
      "cell_type": "code",
      "source": [
        "# Смотрим количество уникальных значений столбца 'Идентификатор сессии звонка'\n",
        "Primavera_calls_df['Идентификатор сессии звонка'].nunique()"
      ],
      "metadata": {
        "colab": {
          "base_uri": "https://localhost:8080/"
        },
        "outputId": "e5dbd7fa-f75e-4289-ed74-404ca9ead18e",
        "id": "IEX7rAd1z7ir"
      },
      "execution_count": null,
      "outputs": [
        {
          "output_type": "execute_result",
          "data": {
            "text/plain": [
              "767"
            ]
          },
          "metadata": {},
          "execution_count": 52
        }
      ]
    },
    {
      "cell_type": "markdown",
      "source": [
        "##### 4. Файл записи звонка"
      ],
      "metadata": {
        "id": "JNdtdmR3z7is"
      }
    },
    {
      "cell_type": "code",
      "source": [
        "Primavera_calls_df['Файл записи звонка'].head()"
      ],
      "metadata": {
        "colab": {
          "base_uri": "https://localhost:8080/"
        },
        "outputId": "49b0c1d2-5c30-4176-852c-32b0f92b3074",
        "id": "kWeeaTP0z7is"
      },
      "execution_count": null,
      "outputs": [
        {
          "output_type": "execute_result",
          "data": {
            "text/plain": [
              "0    2023-09-30_12-19-55.312627_from_79854305902_to_0253192_session_3263012391_talk.mp3\n",
              "1    2023-10-04_19-40-25.037187_from_74950210291_to_0253206_session_3276780397_talk.mp3\n",
              "2    2023-10-04_15-52-11.200324_from_79203810871_to_0253201_session_3276172302_talk.mp3\n",
              "3    2023-10-02_20-00-47.312686_from_74950210291_to_0150113_session_3271743567_talk.mp3\n",
              "4    2023-10-04_16-50-31.267655_from_79295237177_to_0111652_session_3269469074_talk.mp3\n",
              "Name: Файл записи звонка, dtype: object"
            ]
          },
          "metadata": {},
          "execution_count": 53
        }
      ]
    },
    {
      "cell_type": "code",
      "source": [
        "# Добавляем к файлам относительные пути\n",
        "Primavera_calls_df['Файл записи звонка'] = Primavera_calls_df['Файл записи звонка'].apply(lambda x: 'Новые записи звонков/Записи Primavera/' + x)"
      ],
      "metadata": {
        "id": "V76SwZ-4z7it"
      },
      "execution_count": null,
      "outputs": []
    },
    {
      "cell_type": "code",
      "source": [
        "Primavera_calls_df['Файл записи звонка'].tail()"
      ],
      "metadata": {
        "colab": {
          "base_uri": "https://localhost:8080/"
        },
        "outputId": "d6e319b6-0b55-46c7-ff14-e3c57ff64ed3",
        "id": "w91a6zZgz7iu"
      },
      "execution_count": null,
      "outputs": [
        {
          "output_type": "execute_result",
          "data": {
            "text/plain": [
              "762    Новые записи звонков/Записи Primavera/2023-09-03_16-24-54.121808_from_74991918588_to_0150108_session_3195081143_talk.mp3\n",
              "763    Новые записи звонков/Записи Primavera/2023-09-02_17-12-27.813266_from_79296548451_to_0253208_session_3197045974_talk.mp3\n",
              "764    Новые записи звонков/Записи Primavera/2023-09-03_15-19-38.712929_from_79167387714_to_0111642_session_3198170594_talk.mp3\n",
              "765    Новые записи звонков/Записи Primavera/2023-09-02_17-49-06.100800_from_74950210291_to_0111639_session_3204178922_talk.mp3\n",
              "766    Новые записи звонков/Записи Primavera/2023-09-01_12-35-50.915379_from_79776807507_to_0253211_session_3188505725_talk.mp3\n",
              "Name: Файл записи звонка, dtype: object"
            ]
          },
          "metadata": {},
          "execution_count": 55
        }
      ]
    },
    {
      "cell_type": "markdown",
      "source": [
        "#### Типы данных"
      ],
      "metadata": {
        "id": "quvmcgCAz7iu"
      }
    },
    {
      "cell_type": "code",
      "source": [
        "# Смотрим типы данных\n",
        "Primavera_calls_df.dtypes"
      ],
      "metadata": {
        "colab": {
          "base_uri": "https://localhost:8080/"
        },
        "outputId": "c096d929-4971-4de9-9c40-581de8668ea8",
        "id": "jCRR-vW_z7iu"
      },
      "execution_count": null,
      "outputs": [
        {
          "output_type": "execute_result",
          "data": {
            "text/plain": [
              "Дата и время                   datetime64[ns]\n",
              "Номер абонента                          int64\n",
              "Номер сотрудника                        int64\n",
              "Идентификатор сессии звонка             int64\n",
              "Файл записи звонка                     object\n",
              "dtype: object"
            ]
          },
          "metadata": {},
          "execution_count": 56
        }
      ]
    },
    {
      "cell_type": "code",
      "source": [
        "print(Primavera_calls_df.count())"
      ],
      "metadata": {
        "colab": {
          "base_uri": "https://localhost:8080/"
        },
        "outputId": "9fd2d691-7557-4598-d50f-956be0b426e4",
        "id": "G22jcQPDz7i-"
      },
      "execution_count": null,
      "outputs": [
        {
          "output_type": "stream",
          "name": "stdout",
          "text": [
            "Дата и время                   767\n",
            "Номер абонента                 767\n",
            "Номер сотрудника               767\n",
            "Идентификатор сессии звонка    767\n",
            "Файл записи звонка             767\n",
            "dtype: int64\n"
          ]
        }
      ]
    },
    {
      "cell_type": "markdown",
      "source": [
        "#### Сохранение датафрейма"
      ],
      "metadata": {
        "id": "DFtZUAhFz7i-"
      }
    },
    {
      "cell_type": "code",
      "source": [
        "# Сохраняем Primavera_calls_df в файл\n",
        "with open(df_path + 'Primavera_new_calls_df.pkl', 'wb') as f:\n",
        "  pkl.dump(Primavera_calls_df, f)"
      ],
      "metadata": {
        "id": "RAHSkOZez7i_"
      },
      "execution_count": null,
      "outputs": []
    },
    {
      "cell_type": "markdown",
      "source": [
        "### Paveletskaya_city"
      ],
      "metadata": {
        "id": "Srkk52AE3PW_"
      }
    },
    {
      "cell_type": "markdown",
      "source": [
        "#### Создание датафрейма"
      ],
      "metadata": {
        "id": "wnU0Bi_h3PXB"
      }
    },
    {
      "cell_type": "code",
      "source": [
        "# Создаём датафрейм из списка записей звонков\n",
        "Paveletskaya_city_calls_df = calls_list_to_df(os.listdir(new_dataset_path + 'Записи Павелецкая сити'))\n",
        "Paveletskaya_city_calls_df.shape"
      ],
      "metadata": {
        "colab": {
          "base_uri": "https://localhost:8080/"
        },
        "outputId": "387c2acc-856f-4a82-b7d9-bf440aac67fd",
        "id": "Yks1j2DS3PXC"
      },
      "execution_count": null,
      "outputs": [
        {
          "output_type": "execute_result",
          "data": {
            "text/plain": [
              "(1413, 5)"
            ]
          },
          "metadata": {},
          "execution_count": 59
        }
      ]
    },
    {
      "cell_type": "code",
      "source": [
        "Paveletskaya_city_calls_df.head()"
      ],
      "metadata": {
        "colab": {
          "base_uri": "https://localhost:8080/",
          "height": 206
        },
        "outputId": "e65c733e-6d21-4dd1-8459-af88798e3faf",
        "id": "o2fBvEvG3PXE"
      },
      "execution_count": null,
      "outputs": [
        {
          "output_type": "execute_result",
          "data": {
            "text/plain": [
              "          Дата и время Номер абонента Номер сотрудника  \\\n",
              "0  2023-09-18 11:48:26    74932482450            00288   \n",
              "1  2023-09-18 12:54:18    79160620083            00288   \n",
              "2  2023-09-20 09:56:40   905424768475            00288   \n",
              "3  2023-09-19 13:53:47    79037861965            00288   \n",
              "4  2023-09-18 12:31:27    79099465930            00288   \n",
              "\n",
              "  Идентификатор сессии звонка  \\\n",
              "0                  3219964480   \n",
              "1                  3220199190   \n",
              "2                  3237457931   \n",
              "3                  3222616640   \n",
              "4                  3230778649   \n",
              "\n",
              "                                                                  Файл записи звонка  \n",
              "0   2023-09-18_11-48-26.391636_from_74932482450_to_00288_session_3219964480_talk.mp3  \n",
              "1   2023-09-18_12-54-18.603506_from_79160620083_to_00288_session_3220199190_talk.mp3  \n",
              "2  2023-09-20_09-56-40.872148_from_905424768475_to_00288_session_3237457931_talk.mp3  \n",
              "3   2023-09-19_13-53-47.892984_from_79037861965_to_00288_session_3222616640_talk.mp3  \n",
              "4   2023-09-18_12-31-27.901544_from_79099465930_to_00288_session_3230778649_talk.mp3  "
            ],
            "text/html": [
              "\n",
              "  <div id=\"df-35242263-f7ab-484a-af64-d0e58650c13e\" class=\"colab-df-container\">\n",
              "    <div>\n",
              "<style scoped>\n",
              "    .dataframe tbody tr th:only-of-type {\n",
              "        vertical-align: middle;\n",
              "    }\n",
              "\n",
              "    .dataframe tbody tr th {\n",
              "        vertical-align: top;\n",
              "    }\n",
              "\n",
              "    .dataframe thead th {\n",
              "        text-align: right;\n",
              "    }\n",
              "</style>\n",
              "<table border=\"1\" class=\"dataframe\">\n",
              "  <thead>\n",
              "    <tr style=\"text-align: right;\">\n",
              "      <th></th>\n",
              "      <th>Дата и время</th>\n",
              "      <th>Номер абонента</th>\n",
              "      <th>Номер сотрудника</th>\n",
              "      <th>Идентификатор сессии звонка</th>\n",
              "      <th>Файл записи звонка</th>\n",
              "    </tr>\n",
              "  </thead>\n",
              "  <tbody>\n",
              "    <tr>\n",
              "      <th>0</th>\n",
              "      <td>2023-09-18 11:48:26</td>\n",
              "      <td>74932482450</td>\n",
              "      <td>00288</td>\n",
              "      <td>3219964480</td>\n",
              "      <td>2023-09-18_11-48-26.391636_from_74932482450_to_00288_session_3219964480_talk.mp3</td>\n",
              "    </tr>\n",
              "    <tr>\n",
              "      <th>1</th>\n",
              "      <td>2023-09-18 12:54:18</td>\n",
              "      <td>79160620083</td>\n",
              "      <td>00288</td>\n",
              "      <td>3220199190</td>\n",
              "      <td>2023-09-18_12-54-18.603506_from_79160620083_to_00288_session_3220199190_talk.mp3</td>\n",
              "    </tr>\n",
              "    <tr>\n",
              "      <th>2</th>\n",
              "      <td>2023-09-20 09:56:40</td>\n",
              "      <td>905424768475</td>\n",
              "      <td>00288</td>\n",
              "      <td>3237457931</td>\n",
              "      <td>2023-09-20_09-56-40.872148_from_905424768475_to_00288_session_3237457931_talk.mp3</td>\n",
              "    </tr>\n",
              "    <tr>\n",
              "      <th>3</th>\n",
              "      <td>2023-09-19 13:53:47</td>\n",
              "      <td>79037861965</td>\n",
              "      <td>00288</td>\n",
              "      <td>3222616640</td>\n",
              "      <td>2023-09-19_13-53-47.892984_from_79037861965_to_00288_session_3222616640_talk.mp3</td>\n",
              "    </tr>\n",
              "    <tr>\n",
              "      <th>4</th>\n",
              "      <td>2023-09-18 12:31:27</td>\n",
              "      <td>79099465930</td>\n",
              "      <td>00288</td>\n",
              "      <td>3230778649</td>\n",
              "      <td>2023-09-18_12-31-27.901544_from_79099465930_to_00288_session_3230778649_talk.mp3</td>\n",
              "    </tr>\n",
              "  </tbody>\n",
              "</table>\n",
              "</div>\n",
              "    <div class=\"colab-df-buttons\">\n",
              "\n",
              "  <div class=\"colab-df-container\">\n",
              "    <button class=\"colab-df-convert\" onclick=\"convertToInteractive('df-35242263-f7ab-484a-af64-d0e58650c13e')\"\n",
              "            title=\"Convert this dataframe to an interactive table.\"\n",
              "            style=\"display:none;\">\n",
              "\n",
              "  <svg xmlns=\"http://www.w3.org/2000/svg\" height=\"24px\" viewBox=\"0 -960 960 960\">\n",
              "    <path d=\"M120-120v-720h720v720H120Zm60-500h600v-160H180v160Zm220 220h160v-160H400v160Zm0 220h160v-160H400v160ZM180-400h160v-160H180v160Zm440 0h160v-160H620v160ZM180-180h160v-160H180v160Zm440 0h160v-160H620v160Z\"/>\n",
              "  </svg>\n",
              "    </button>\n",
              "\n",
              "  <style>\n",
              "    .colab-df-container {\n",
              "      display:flex;\n",
              "      gap: 12px;\n",
              "    }\n",
              "\n",
              "    .colab-df-convert {\n",
              "      background-color: #E8F0FE;\n",
              "      border: none;\n",
              "      border-radius: 50%;\n",
              "      cursor: pointer;\n",
              "      display: none;\n",
              "      fill: #1967D2;\n",
              "      height: 32px;\n",
              "      padding: 0 0 0 0;\n",
              "      width: 32px;\n",
              "    }\n",
              "\n",
              "    .colab-df-convert:hover {\n",
              "      background-color: #E2EBFA;\n",
              "      box-shadow: 0px 1px 2px rgba(60, 64, 67, 0.3), 0px 1px 3px 1px rgba(60, 64, 67, 0.15);\n",
              "      fill: #174EA6;\n",
              "    }\n",
              "\n",
              "    .colab-df-buttons div {\n",
              "      margin-bottom: 4px;\n",
              "    }\n",
              "\n",
              "    [theme=dark] .colab-df-convert {\n",
              "      background-color: #3B4455;\n",
              "      fill: #D2E3FC;\n",
              "    }\n",
              "\n",
              "    [theme=dark] .colab-df-convert:hover {\n",
              "      background-color: #434B5C;\n",
              "      box-shadow: 0px 1px 3px 1px rgba(0, 0, 0, 0.15);\n",
              "      filter: drop-shadow(0px 1px 2px rgba(0, 0, 0, 0.3));\n",
              "      fill: #FFFFFF;\n",
              "    }\n",
              "  </style>\n",
              "\n",
              "    <script>\n",
              "      const buttonEl =\n",
              "        document.querySelector('#df-35242263-f7ab-484a-af64-d0e58650c13e button.colab-df-convert');\n",
              "      buttonEl.style.display =\n",
              "        google.colab.kernel.accessAllowed ? 'block' : 'none';\n",
              "\n",
              "      async function convertToInteractive(key) {\n",
              "        const element = document.querySelector('#df-35242263-f7ab-484a-af64-d0e58650c13e');\n",
              "        const dataTable =\n",
              "          await google.colab.kernel.invokeFunction('convertToInteractive',\n",
              "                                                    [key], {});\n",
              "        if (!dataTable) return;\n",
              "\n",
              "        const docLinkHtml = 'Like what you see? Visit the ' +\n",
              "          '<a target=\"_blank\" href=https://colab.research.google.com/notebooks/data_table.ipynb>data table notebook</a>'\n",
              "          + ' to learn more about interactive tables.';\n",
              "        element.innerHTML = '';\n",
              "        dataTable['output_type'] = 'display_data';\n",
              "        await google.colab.output.renderOutput(dataTable, element);\n",
              "        const docLink = document.createElement('div');\n",
              "        docLink.innerHTML = docLinkHtml;\n",
              "        element.appendChild(docLink);\n",
              "      }\n",
              "    </script>\n",
              "  </div>\n",
              "\n",
              "\n",
              "<div id=\"df-a89cba01-9f4b-4688-9347-af368ff9fd5b\">\n",
              "  <button class=\"colab-df-quickchart\" onclick=\"quickchart('df-a89cba01-9f4b-4688-9347-af368ff9fd5b')\"\n",
              "            title=\"Suggest charts.\"\n",
              "            style=\"display:none;\">\n",
              "\n",
              "<svg xmlns=\"http://www.w3.org/2000/svg\" height=\"24px\"viewBox=\"0 0 24 24\"\n",
              "     width=\"24px\">\n",
              "    <g>\n",
              "        <path d=\"M19 3H5c-1.1 0-2 .9-2 2v14c0 1.1.9 2 2 2h14c1.1 0 2-.9 2-2V5c0-1.1-.9-2-2-2zM9 17H7v-7h2v7zm4 0h-2V7h2v10zm4 0h-2v-4h2v4z\"/>\n",
              "    </g>\n",
              "</svg>\n",
              "  </button>\n",
              "\n",
              "<style>\n",
              "  .colab-df-quickchart {\n",
              "      --bg-color: #E8F0FE;\n",
              "      --fill-color: #1967D2;\n",
              "      --hover-bg-color: #E2EBFA;\n",
              "      --hover-fill-color: #174EA6;\n",
              "      --disabled-fill-color: #AAA;\n",
              "      --disabled-bg-color: #DDD;\n",
              "  }\n",
              "\n",
              "  [theme=dark] .colab-df-quickchart {\n",
              "      --bg-color: #3B4455;\n",
              "      --fill-color: #D2E3FC;\n",
              "      --hover-bg-color: #434B5C;\n",
              "      --hover-fill-color: #FFFFFF;\n",
              "      --disabled-bg-color: #3B4455;\n",
              "      --disabled-fill-color: #666;\n",
              "  }\n",
              "\n",
              "  .colab-df-quickchart {\n",
              "    background-color: var(--bg-color);\n",
              "    border: none;\n",
              "    border-radius: 50%;\n",
              "    cursor: pointer;\n",
              "    display: none;\n",
              "    fill: var(--fill-color);\n",
              "    height: 32px;\n",
              "    padding: 0;\n",
              "    width: 32px;\n",
              "  }\n",
              "\n",
              "  .colab-df-quickchart:hover {\n",
              "    background-color: var(--hover-bg-color);\n",
              "    box-shadow: 0 1px 2px rgba(60, 64, 67, 0.3), 0 1px 3px 1px rgba(60, 64, 67, 0.15);\n",
              "    fill: var(--button-hover-fill-color);\n",
              "  }\n",
              "\n",
              "  .colab-df-quickchart-complete:disabled,\n",
              "  .colab-df-quickchart-complete:disabled:hover {\n",
              "    background-color: var(--disabled-bg-color);\n",
              "    fill: var(--disabled-fill-color);\n",
              "    box-shadow: none;\n",
              "  }\n",
              "\n",
              "  .colab-df-spinner {\n",
              "    border: 2px solid var(--fill-color);\n",
              "    border-color: transparent;\n",
              "    border-bottom-color: var(--fill-color);\n",
              "    animation:\n",
              "      spin 1s steps(1) infinite;\n",
              "  }\n",
              "\n",
              "  @keyframes spin {\n",
              "    0% {\n",
              "      border-color: transparent;\n",
              "      border-bottom-color: var(--fill-color);\n",
              "      border-left-color: var(--fill-color);\n",
              "    }\n",
              "    20% {\n",
              "      border-color: transparent;\n",
              "      border-left-color: var(--fill-color);\n",
              "      border-top-color: var(--fill-color);\n",
              "    }\n",
              "    30% {\n",
              "      border-color: transparent;\n",
              "      border-left-color: var(--fill-color);\n",
              "      border-top-color: var(--fill-color);\n",
              "      border-right-color: var(--fill-color);\n",
              "    }\n",
              "    40% {\n",
              "      border-color: transparent;\n",
              "      border-right-color: var(--fill-color);\n",
              "      border-top-color: var(--fill-color);\n",
              "    }\n",
              "    60% {\n",
              "      border-color: transparent;\n",
              "      border-right-color: var(--fill-color);\n",
              "    }\n",
              "    80% {\n",
              "      border-color: transparent;\n",
              "      border-right-color: var(--fill-color);\n",
              "      border-bottom-color: var(--fill-color);\n",
              "    }\n",
              "    90% {\n",
              "      border-color: transparent;\n",
              "      border-bottom-color: var(--fill-color);\n",
              "    }\n",
              "  }\n",
              "</style>\n",
              "\n",
              "  <script>\n",
              "    async function quickchart(key) {\n",
              "      const quickchartButtonEl =\n",
              "        document.querySelector('#' + key + ' button');\n",
              "      quickchartButtonEl.disabled = true;  // To prevent multiple clicks.\n",
              "      quickchartButtonEl.classList.add('colab-df-spinner');\n",
              "      try {\n",
              "        const charts = await google.colab.kernel.invokeFunction(\n",
              "            'suggestCharts', [key], {});\n",
              "      } catch (error) {\n",
              "        console.error('Error during call to suggestCharts:', error);\n",
              "      }\n",
              "      quickchartButtonEl.classList.remove('colab-df-spinner');\n",
              "      quickchartButtonEl.classList.add('colab-df-quickchart-complete');\n",
              "    }\n",
              "    (() => {\n",
              "      let quickchartButtonEl =\n",
              "        document.querySelector('#df-a89cba01-9f4b-4688-9347-af368ff9fd5b button');\n",
              "      quickchartButtonEl.style.display =\n",
              "        google.colab.kernel.accessAllowed ? 'block' : 'none';\n",
              "    })();\n",
              "  </script>\n",
              "</div>\n",
              "    </div>\n",
              "  </div>\n"
            ]
          },
          "metadata": {},
          "execution_count": 60
        }
      ]
    },
    {
      "cell_type": "code",
      "source": [
        "# Проверяем количество строк\n",
        "print(len(os.listdir(new_dataset_path + 'Записи Павелецкая сити')))\n",
        "print(Paveletskaya_city_calls_df.shape[0])"
      ],
      "metadata": {
        "colab": {
          "base_uri": "https://localhost:8080/"
        },
        "outputId": "5533b144-7c7c-492d-e47d-9cb7e7dab74b",
        "id": "8WN5hTiz3PXF"
      },
      "execution_count": null,
      "outputs": [
        {
          "output_type": "stream",
          "name": "stdout",
          "text": [
            "1413\n",
            "1413\n"
          ]
        }
      ]
    },
    {
      "cell_type": "code",
      "source": [
        "print(Paveletskaya_city_calls_df.count())"
      ],
      "metadata": {
        "colab": {
          "base_uri": "https://localhost:8080/"
        },
        "outputId": "5e9cd079-11e2-452c-bafe-bc21d5623caf",
        "id": "xqQbSiqF3PXN"
      },
      "execution_count": null,
      "outputs": [
        {
          "output_type": "stream",
          "name": "stdout",
          "text": [
            "Дата и время                   1413\n",
            "Номер абонента                 1413\n",
            "Номер сотрудника               1413\n",
            "Идентификатор сессии звонка    1413\n",
            "Файл записи звонка             1413\n",
            "dtype: int64\n"
          ]
        }
      ]
    },
    {
      "cell_type": "markdown",
      "source": [
        "#### Предобработка"
      ],
      "metadata": {
        "id": "Eflex-Ym3PXO"
      }
    },
    {
      "cell_type": "markdown",
      "source": [
        "##### 0. Дата и время"
      ],
      "metadata": {
        "id": "8WzHjEkk3PXP"
      }
    },
    {
      "cell_type": "code",
      "source": [
        "Paveletskaya_city_calls_df['Дата и время'].head()"
      ],
      "metadata": {
        "colab": {
          "base_uri": "https://localhost:8080/"
        },
        "outputId": "7dee7fb6-d7ad-4b9d-d4eb-76d3afc3ad2f",
        "id": "4teMUdNH3PXQ"
      },
      "execution_count": null,
      "outputs": [
        {
          "output_type": "execute_result",
          "data": {
            "text/plain": [
              "0    2023-09-18 11:48:26\n",
              "1    2023-09-18 12:54:18\n",
              "2    2023-09-20 09:56:40\n",
              "3    2023-09-19 13:53:47\n",
              "4    2023-09-18 12:31:27\n",
              "Name: Дата и время, dtype: object"
            ]
          },
          "metadata": {},
          "execution_count": 63
        }
      ]
    },
    {
      "cell_type": "code",
      "source": [
        "# Приводим тип данных столбца 'Дата и время'\n",
        "Paveletskaya_city_calls_df['Дата и время'] = pd.to_datetime(Paveletskaya_city_calls_df['Дата и время'])"
      ],
      "metadata": {
        "id": "0TUwaw2k3PXS"
      },
      "execution_count": null,
      "outputs": []
    },
    {
      "cell_type": "code",
      "source": [
        "Paveletskaya_city_calls_df['Дата и время'].tail()"
      ],
      "metadata": {
        "colab": {
          "base_uri": "https://localhost:8080/"
        },
        "outputId": "4cb7b28f-20ef-470e-b1e5-4bc0778da1b7",
        "id": "JKGxFfce3PXT"
      },
      "execution_count": null,
      "outputs": [
        {
          "output_type": "execute_result",
          "data": {
            "text/plain": [
              "1408   2023-09-18 14:28:39\n",
              "1409   2023-09-18 11:08:55\n",
              "1410   2023-09-21 10:36:24\n",
              "1411   2023-09-21 11:59:49\n",
              "1412   2023-09-18 12:14:11\n",
              "Name: Дата и время, dtype: datetime64[ns]"
            ]
          },
          "metadata": {},
          "execution_count": 65
        }
      ]
    },
    {
      "cell_type": "markdown",
      "source": [
        "##### 1. Номер абонента"
      ],
      "metadata": {
        "id": "ANH90jqZ3PXV"
      }
    },
    {
      "cell_type": "code",
      "source": [
        "Paveletskaya_city_calls_df['Номер абонента'].head()"
      ],
      "metadata": {
        "colab": {
          "base_uri": "https://localhost:8080/"
        },
        "outputId": "fc05a0b1-bcba-4fcd-f16b-1da7b3e770e5",
        "id": "qQcsnl_D3PXW"
      },
      "execution_count": null,
      "outputs": [
        {
          "output_type": "execute_result",
          "data": {
            "text/plain": [
              "0     74932482450\n",
              "1     79160620083\n",
              "2    905424768475\n",
              "3     79037861965\n",
              "4     79099465930\n",
              "Name: Номер абонента, dtype: object"
            ]
          },
          "metadata": {},
          "execution_count": 66
        }
      ]
    },
    {
      "cell_type": "code",
      "source": [
        "Paveletskaya_city_calls_df['Номер абонента'][Paveletskaya_city_calls_df['Номер абонента'] == ''].count()"
      ],
      "metadata": {
        "colab": {
          "base_uri": "https://localhost:8080/"
        },
        "id": "6Wl8J75Y7eSR",
        "outputId": "66f54f85-831e-4a91-9344-9509ce355140"
      },
      "execution_count": null,
      "outputs": [
        {
          "output_type": "execute_result",
          "data": {
            "text/plain": [
              "1"
            ]
          },
          "metadata": {},
          "execution_count": 67
        }
      ]
    },
    {
      "cell_type": "code",
      "source": [
        "# Меняем '' на '0' в столбце 'Номер абонента'\n",
        "Paveletskaya_city_calls_df['Номер абонента'] = Paveletskaya_city_calls_df['Номер абонента'].apply(lambda x: '0' if x == '' else x)"
      ],
      "metadata": {
        "id": "qEqd9cB47uUp"
      },
      "execution_count": null,
      "outputs": []
    },
    {
      "cell_type": "code",
      "source": [
        "# Приводим тип данных столбца 'Номер абонента'\n",
        "Paveletskaya_city_calls_df = Paveletskaya_city_calls_df.astype({'Номер абонента': int})"
      ],
      "metadata": {
        "id": "e5Tl1wOa3PXW"
      },
      "execution_count": null,
      "outputs": []
    },
    {
      "cell_type": "code",
      "source": [
        "Paveletskaya_city_calls_df['Номер абонента'].tail()"
      ],
      "metadata": {
        "colab": {
          "base_uri": "https://localhost:8080/"
        },
        "outputId": "8e979cf3-0aa8-4463-bf3c-05752b4e2f55",
        "id": "soCEtsbu3PXX"
      },
      "execution_count": null,
      "outputs": [
        {
          "output_type": "execute_result",
          "data": {
            "text/plain": [
              "1408    79646445150\n",
              "1409    79037846520\n",
              "1410    79160206095\n",
              "1411    74954871149\n",
              "1412    79067410826\n",
              "Name: Номер абонента, dtype: int64"
            ]
          },
          "metadata": {},
          "execution_count": 70
        }
      ]
    },
    {
      "cell_type": "markdown",
      "source": [
        "##### 2. Номер сотрудника"
      ],
      "metadata": {
        "id": "sN6uiGvQ3PXY"
      }
    },
    {
      "cell_type": "code",
      "source": [
        "Paveletskaya_city_calls_df['Номер сотрудника'].head()"
      ],
      "metadata": {
        "colab": {
          "base_uri": "https://localhost:8080/"
        },
        "outputId": "a918edb1-05b6-4115-d3af-140727e89a81",
        "id": "M-kaqmFV3PXZ"
      },
      "execution_count": null,
      "outputs": [
        {
          "output_type": "execute_result",
          "data": {
            "text/plain": [
              "0    00288\n",
              "1    00288\n",
              "2    00288\n",
              "3    00288\n",
              "4    00288\n",
              "Name: Номер сотрудника, dtype: object"
            ]
          },
          "metadata": {},
          "execution_count": 71
        }
      ]
    },
    {
      "cell_type": "code",
      "source": [
        "# Приводим тип данных столбца 'Номер сотрудника'\n",
        "Paveletskaya_city_calls_df = Paveletskaya_city_calls_df.astype({'Номер сотрудника': int})"
      ],
      "metadata": {
        "id": "O9AnBaqB3PXa"
      },
      "execution_count": null,
      "outputs": []
    },
    {
      "cell_type": "code",
      "source": [
        "Paveletskaya_city_calls_df['Номер сотрудника'].tail()"
      ],
      "metadata": {
        "colab": {
          "base_uri": "https://localhost:8080/"
        },
        "outputId": "1b35273e-57dd-4674-ee26-9bfc0ca4aad3",
        "id": "zOhyJ6io3PXa"
      },
      "execution_count": null,
      "outputs": [
        {
          "output_type": "execute_result",
          "data": {
            "text/plain": [
              "1408    288\n",
              "1409    288\n",
              "1410    288\n",
              "1411    288\n",
              "1412    288\n",
              "Name: Номер сотрудника, dtype: int64"
            ]
          },
          "metadata": {},
          "execution_count": 73
        }
      ]
    },
    {
      "cell_type": "markdown",
      "source": [
        "##### 3. Идентификатор сессии звонка"
      ],
      "metadata": {
        "id": "5JTCUk-63PXb"
      }
    },
    {
      "cell_type": "code",
      "source": [
        "Paveletskaya_city_calls_df['Идентификатор сессии звонка'].head()"
      ],
      "metadata": {
        "colab": {
          "base_uri": "https://localhost:8080/"
        },
        "outputId": "0374d44d-b8ea-4382-94ba-45519faa5ce0",
        "id": "z8-nOwad3PXc"
      },
      "execution_count": null,
      "outputs": [
        {
          "output_type": "execute_result",
          "data": {
            "text/plain": [
              "0    3219964480\n",
              "1    3220199190\n",
              "2    3237457931\n",
              "3    3222616640\n",
              "4    3230778649\n",
              "Name: Идентификатор сессии звонка, dtype: object"
            ]
          },
          "metadata": {},
          "execution_count": 74
        }
      ]
    },
    {
      "cell_type": "code",
      "source": [
        "# Приводим тип данных столбца 'Идентификатор сессии звонка'\n",
        "Paveletskaya_city_calls_df = Paveletskaya_city_calls_df.astype({'Идентификатор сессии звонка': int})"
      ],
      "metadata": {
        "id": "RuSGw8v83PXd"
      },
      "execution_count": null,
      "outputs": []
    },
    {
      "cell_type": "code",
      "source": [
        "Paveletskaya_city_calls_df['Идентификатор сессии звонка'].tail()"
      ],
      "metadata": {
        "colab": {
          "base_uri": "https://localhost:8080/"
        },
        "outputId": "877afd72-706b-416e-81cd-bd461a682988",
        "id": "z2h38_ZO3PXd"
      },
      "execution_count": null,
      "outputs": [
        {
          "output_type": "execute_result",
          "data": {
            "text/plain": [
              "1408    3233375546\n",
              "1409    3230415104\n",
              "1410    3240292806\n",
              "1411    3238346979\n",
              "1412    3230568859\n",
              "Name: Идентификатор сессии звонка, dtype: int64"
            ]
          },
          "metadata": {},
          "execution_count": 76
        }
      ]
    },
    {
      "cell_type": "code",
      "source": [
        "# Смотрим количество уникальных значений столбца 'Идентификатор сессии звонка'\n",
        "Paveletskaya_city_calls_df['Идентификатор сессии звонка'].nunique()"
      ],
      "metadata": {
        "colab": {
          "base_uri": "https://localhost:8080/"
        },
        "outputId": "14eafb9c-dbd9-4761-e38a-651f411503e5",
        "id": "JX4HFN2S3PXe"
      },
      "execution_count": null,
      "outputs": [
        {
          "output_type": "execute_result",
          "data": {
            "text/plain": [
              "1413"
            ]
          },
          "metadata": {},
          "execution_count": 77
        }
      ]
    },
    {
      "cell_type": "markdown",
      "source": [
        "##### 4. Файл записи звонка"
      ],
      "metadata": {
        "id": "CSIAnH7j3PXf"
      }
    },
    {
      "cell_type": "code",
      "source": [
        "Paveletskaya_city_calls_df['Файл записи звонка'].head()"
      ],
      "metadata": {
        "colab": {
          "base_uri": "https://localhost:8080/"
        },
        "outputId": "072b7aab-bf54-49de-a776-23e19bf844e1",
        "id": "XswKZlLt3PXg"
      },
      "execution_count": null,
      "outputs": [
        {
          "output_type": "execute_result",
          "data": {
            "text/plain": [
              "0     2023-09-18_11-48-26.391636_from_74932482450_to_00288_session_3219964480_talk.mp3\n",
              "1     2023-09-18_12-54-18.603506_from_79160620083_to_00288_session_3220199190_talk.mp3\n",
              "2    2023-09-20_09-56-40.872148_from_905424768475_to_00288_session_3237457931_talk.mp3\n",
              "3     2023-09-19_13-53-47.892984_from_79037861965_to_00288_session_3222616640_talk.mp3\n",
              "4     2023-09-18_12-31-27.901544_from_79099465930_to_00288_session_3230778649_talk.mp3\n",
              "Name: Файл записи звонка, dtype: object"
            ]
          },
          "metadata": {},
          "execution_count": 78
        }
      ]
    },
    {
      "cell_type": "code",
      "source": [
        "# Добавляем к файлам относительные пути\n",
        "Paveletskaya_city_calls_df['Файл записи звонка'] = Paveletskaya_city_calls_df['Файл записи звонка'].apply(lambda x: 'Новые записи звонков/Записи Павелецкая сити/' + x)"
      ],
      "metadata": {
        "id": "29XioGcT3PXg"
      },
      "execution_count": null,
      "outputs": []
    },
    {
      "cell_type": "code",
      "source": [
        "Paveletskaya_city_calls_df['Файл записи звонка'].tail()"
      ],
      "metadata": {
        "colab": {
          "base_uri": "https://localhost:8080/"
        },
        "outputId": "47efc0b6-ad97-45fa-852c-f3b9ffcd359e",
        "id": "varBv8dS3PXh"
      },
      "execution_count": null,
      "outputs": [
        {
          "output_type": "execute_result",
          "data": {
            "text/plain": [
              "1408    Новые записи звонков/Записи Павелецкая сити/2023-09-18_14-28-39.076451_from_79646445150_to_00288_session_3233375546_talk.mp3\n",
              "1409    Новые записи звонков/Записи Павелецкая сити/2023-09-18_11-08-55.388293_from_79037846520_to_00288_session_3230415104_talk.mp3\n",
              "1410    Новые записи звонков/Записи Павелецкая сити/2023-09-21_10-36-24.096708_from_79160206095_to_00288_session_3240292806_talk.mp3\n",
              "1411    Новые записи звонков/Записи Павелецкая сити/2023-09-21_11-59-49.268642_from_74954871149_to_00288_session_3238346979_talk.mp3\n",
              "1412    Новые записи звонков/Записи Павелецкая сити/2023-09-18_12-14-11.254019_from_79067410826_to_00288_session_3230568859_talk.mp3\n",
              "Name: Файл записи звонка, dtype: object"
            ]
          },
          "metadata": {},
          "execution_count": 80
        }
      ]
    },
    {
      "cell_type": "markdown",
      "source": [
        "#### Типы данных"
      ],
      "metadata": {
        "id": "NX4KOgSG3PXi"
      }
    },
    {
      "cell_type": "code",
      "source": [
        "# Смотрим типы данных\n",
        "Paveletskaya_city_calls_df.dtypes"
      ],
      "metadata": {
        "colab": {
          "base_uri": "https://localhost:8080/"
        },
        "outputId": "ba287a37-cd03-4faf-d637-4c97015757b1",
        "id": "d2_Evtg63PXi"
      },
      "execution_count": null,
      "outputs": [
        {
          "output_type": "execute_result",
          "data": {
            "text/plain": [
              "Дата и время                   datetime64[ns]\n",
              "Номер абонента                          int64\n",
              "Номер сотрудника                        int64\n",
              "Идентификатор сессии звонка             int64\n",
              "Файл записи звонка                     object\n",
              "dtype: object"
            ]
          },
          "metadata": {},
          "execution_count": 81
        }
      ]
    },
    {
      "cell_type": "code",
      "source": [
        "print(Paveletskaya_city_calls_df.count())"
      ],
      "metadata": {
        "colab": {
          "base_uri": "https://localhost:8080/"
        },
        "outputId": "2b491141-80d2-4107-de25-2c971f50ff6f",
        "id": "nLBDM5Kh3PXj"
      },
      "execution_count": null,
      "outputs": [
        {
          "output_type": "stream",
          "name": "stdout",
          "text": [
            "Дата и время                   1413\n",
            "Номер абонента                 1413\n",
            "Номер сотрудника               1413\n",
            "Идентификатор сессии звонка    1413\n",
            "Файл записи звонка             1413\n",
            "dtype: int64\n"
          ]
        }
      ]
    },
    {
      "cell_type": "markdown",
      "source": [
        "#### Сохранение датафрейма"
      ],
      "metadata": {
        "id": "Rztw8wT03PXj"
      }
    },
    {
      "cell_type": "code",
      "source": [
        "# Сохраняем Paveletskaya_city_calls_df в файл\n",
        "with open(df_path + 'Paveletskaya_city_new_calls_df.pkl', 'wb') as f:\n",
        "  pkl.dump(Paveletskaya_city_calls_df, f)"
      ],
      "metadata": {
        "id": "lzoJPg8m3PXj"
      },
      "execution_count": null,
      "outputs": []
    }
  ]
}