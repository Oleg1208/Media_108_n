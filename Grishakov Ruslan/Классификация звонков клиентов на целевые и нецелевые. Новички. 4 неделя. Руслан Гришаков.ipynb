{
  "nbformat": 4,
  "nbformat_minor": 0,
  "metadata": {
    "colab": {
      "provenance": [],
      "collapsed_sections": [
        "CIgT9kE4KHqe",
        "pTohUadq_HUC",
        "GeEu96leTaL6",
        "KXdYsYQmr1Aq",
        "4BipOv18sV2n",
        "1PeeinuNtAEe",
        "pdrl0p3jhcuo",
        "rVDYF0C9YQcB",
        "shwe_q3BV8Vr",
        "lhHFprWlnjdn",
        "qrKiYExNn5tb",
        "cBqNpmwbM0ZS",
        "gN9okl5opTWt",
        "ATZYNaug7M93",
        "Z2ezSA6zoKI8",
        "LtjShwXwNmC8",
        "1e6GB0rLqJTw",
        "Om7ZyZEoPqO5",
        "nX7J_BguoaYK",
        "7Qw3xxMONnle",
        "SJlSHmFOutug",
        "oT_mxTVFQD7g",
        "genunoVVxofc",
        "SoWyPrg_x0Uq",
        "riF1P9wU1oCZ",
        "diEKzwb02qiT",
        "DAdgi6ovH-xZ",
        "kAJBS9kNJ8DG",
        "7vkaRh0JK6Jg",
        "cQjJ-GAXhQex",
        "zFcYgFJgh8pO",
        "vLyOjCBskrXQ",
        "GLvQ_2VHld63",
        "qSi1QuOhmhSO",
        "KjPwd_jqigNm"
      ]
    },
    "kernelspec": {
      "name": "python3",
      "display_name": "Python 3"
    },
    "language_info": {
      "name": "python"
    }
  },
  "cells": [
    {
      "cell_type": "markdown",
      "source": [
        "# [Техническое задание](https://docs.google.com/document/d/1ZIu6daXZRuDR796AHjKCku643hlM3xgYxW9E84DBJFc/edit?usp=sharing)"
      ],
      "metadata": {
        "id": "CIgT9kE4KHqe"
      }
    },
    {
      "cell_type": "markdown",
      "source": [
        "**Проект:** Классификация аудиозвонков на целевые и нецелевые."
      ],
      "metadata": {
        "id": "FaaxUmqWKHqt"
      }
    },
    {
      "cell_type": "markdown",
      "source": [
        "**Цель проекта:** Разработать нейронную сеть, способную классифицировать аудиозвонки на целевые и нецелевые на основе предоставленной базы данных и csv-таблицы с описаниями и метками классов."
      ],
      "metadata": {
        "id": "GQSHmPOcKHq0"
      }
    },
    {
      "cell_type": "markdown",
      "source": [
        "**Введение:**\n",
        "\n",
        "Входной набор данных представляет из себя два набора файлов:\n",
        "\n",
        "> a)\t[Первый набор файлов](https://drive.google.com/drive/folders/1cQWMpQkscZJbbOTxiJNy0o3nuaeIiB1P?usp=sharing) - это выгрузки в формате `CSV` с информацией по звонкам, а так же с проставленным статусом `“целевой/нецелевой”` в отдельном столбце (обратите внимание, что по проекту `“Павелецкая сити”` две выгрузки - эти наборы данных отличаются и относятся к разным наборам клиентов внутри одного и того же проекта).\n",
        "\n",
        "> b)\t[Второй набор файлов](https://drive.google.com/drive/folders/1K3jGCH60uzFcsI3aj89VIXOOFEXvZxD6?usp=sharing) - аудиозаписи звонков. Они хранятся в корневом каталоге в одноимённых папках. К примеру, в папке `“Записи звонков_павелецкая сити”` лежат записи звонков по проекту `“Павелецкая Сити”`."
      ],
      "metadata": {
        "id": "-UhJ6TikKHq1"
      }
    },
    {
      "cell_type": "markdown",
      "source": [
        "**Требования:**\n",
        "\n",
        "1.   Нейронная сеть должна быть спроектирована и обучена для точной классификации аудиозвонков на два класса: целевые и нецелевые (с точностью `90+%`).\n",
        "2.   Необходимо обеспечить интеграцию модели через `API`.\n",
        "3.   Модель должна быть оптимизирована для обработки большого объёма данных.\n",
        "4.   Код должен быть написан с соблюдением стандартов кодирования, и должна быть составлена подробная техническая документация.\n",
        "5.   Код должен включать в себя систему журналирования для фиксации ошибок.\n",
        "6.   Код должен принимать на вход регулярное выражение, по которому будет осуществляться проверка столбца `“теги”` в выгрузках `CSV` для определения статуса звонка `“целевой/нецелевой”`:\n",
        "\n",
        ">> a)\tпо проектам `“Примавера”` и `“Павелецкая сити”` наличие в столбце с тегами подстроки `“Целевой_М108“` будет равняться тому, что данный звонок целевой (пример регулярного выражения: `.*Целевой_М108.*`);\n",
        "\n",
        ">> b)\tпо проекту `“Хедлайнер”` - наличие в столбце с тегами подстроки `“первичный целевой“` будет равняться тому, что данный звонок целевой.\n",
        "\n",
        "7.   После реализации необходимо иметь возможность получения поддержки по предоставленному решению в течение `2 месяцев`."
      ],
      "metadata": {
        "id": "13vIGhs0KHq4"
      }
    },
    {
      "cell_type": "markdown",
      "source": [
        "Список рекомендуемых параметров для звуковой записи (данный список носит информационный характер и не является обязательным):\n",
        "\n",
        "*   Эмоция (базовые 11: радость; печаль; гнев; отвращение; удивление; страдание (горе); волнение (интерес); презрение; смущение; стыд; вина).\n",
        "*   Пол.\n",
        "*   Возраст.\n",
        "*   Семантический анализ диалога (по конкретным ключевым словам и/или по тематикам диалогов).\n",
        "*   Характеристики, присутствующие в `CSV`/`XLSX` таблицах."
      ],
      "metadata": {
        "id": "seG9MxfuKHq6"
      }
    },
    {
      "cell_type": "markdown",
      "source": [
        "# Критерии классификации"
      ],
      "metadata": {
        "id": "pTohUadq_HUC"
      }
    },
    {
      "cell_type": "markdown",
      "source": [
        "Критерии `уникально-целевого` обращения:\n",
        "1. Длительность звонка должна быть не менее `75 секунд`;\n",
        "2. Телефонный номер абонента должен быть `уникальным`, т. е. его не должно быть в `CRM` заказчика. Либо, по нему не должно быть активности за последние `90 дней`. Исключение составляют `топовые площадки`, работающие по своим критериям (`ЦИАН`, `Яндекс.Недвижимость`, `Авито`, и т. д.);\n",
        "3. Клиент должен знать минимальную информацию об объекте (понимать, куда он звонит): название `ЖК`, расположение, ценовую политику;\n",
        "4. Номер абонента должен быть доступен в течение `15 дней` после совершённого звонка (при этом со стороны заказчика должно быть обеспечено `2 попытки` исходящего звонка в течение указанного срока);\n",
        "5. Клиент должен быть `«адекватным»`. Не общаться на повышенных тонах, не употреблять ненормативную лексику и т. д.;\n",
        "6. Клиент не должен быть повторным. Например, клиент `уже` купил квартиру и через `90 дней` решил купить машиноместо;\n",
        "7. Заявка. В заявке должен быть указан номер телефона, а абонент при контакте с менеджером должен соответствовать всем критериям `уникально-целевого` обращения, перечисленным выше;\n",
        "8. Озвученный общий бюджет покупки не должен быть `ниже 90%` от стоимости квартиры или коммерческого помещения, соответствующих площади/комнатности на момент обращения;\n",
        "9. В случае, если клиент является уникальным, интересуется покупкой недвижимости, не является представителем партнёров или исполнителей и изъявил желание посетить офис продаж. При этом не обязательна фиксация уровня знания клиента об объекте в диалоге. При этом источник не должен относиться к каналам `«лидогенерация»` или `«тематические площадки»`;\n",
        "10. Основной целью звонка клиента не должна являться покупка/аренда исключительно нежилого помещения, если это не являлось целью проводимой рекламной кампании.\n",
        "\n",
        "Критерии НЕ `уникально-целевого` (вторичного) обращения:\n",
        "1. Клиент позвонил повторно менее чем через `3 месяца` (`90 дней`) с момента последнего обращения;\n",
        "2. Клиент, либо члены его семьи, уже купил (купили) `квартиру`/`машиноместо`/`кладовое помещение`, и хочет (хотят) совершить ещё одну покупку. В данном случае клиент относится к показателю `LTV` (показатель прибыли, которую компания получает от одного клиента за всё время работы с ним)."
      ],
      "metadata": {
        "id": "F1Im0SOi_S8W"
      }
    },
    {
      "cell_type": "markdown",
      "source": [
        "# [Датафреймы](https://drive.google.com/drive/folders/111abiHt33Q-SV48pBPhEgDCZDI5KshnF?usp=sharing)"
      ],
      "metadata": {
        "id": "GeEu96leTaL6"
      }
    },
    {
      "cell_type": "markdown",
      "source": [
        "## Headliner"
      ],
      "metadata": {
        "id": "KXdYsYQmr1Aq"
      }
    },
    {
      "cell_type": "markdown",
      "source": [
        "*   [`Headliner_df.pkl` Информация о звонках `Headliner`](https://drive.google.com/file/d/13mUHwvx79O4P-AucRdjBYkN5ha8LnCSp/view?usp=sharing)\n",
        "*   [`Headliner_new_df.pkl` Информация о новых звонках `Headliner`](https://drive.google.com/file/d/1-Q1BxLbot7svY5hiqOquHRFvSOcwtpKS/view?usp=sharing)"
      ],
      "metadata": {
        "id": "d5AY3J4YBxrC"
      }
    },
    {
      "cell_type": "markdown",
      "source": [
        "*   [`Headliner_calls_df.pkl` Файлы записей звонков `Headliner`](https://drive.google.com/file/d/13pmGEYacsEHjYsIsYgf6fg4MUHAw509y/view?usp=sharing)\n",
        "*   [`Headliner_new_calls_df.pkl` Файлы записей новых звонков `Headliner`](https://drive.google.com/file/d/1-Ke1q42th_NV0og0e01_-mvJ8HL8JzfS/view?usp=sharing)"
      ],
      "metadata": {
        "id": "to-Y1bSQr-4P"
      }
    },
    {
      "cell_type": "markdown",
      "source": [
        "*   [`Headliner_all_df.pkl` Информация о всех звонках `Headliner`](https://drive.google.com/file/d/1857LwaVtJ364yFMpXemILSuVu84YEPPw/view?usp=sharing)\n",
        "*   [`Headliner_work_df.pkl` Рабочий датафрейм с информацией о всех звонках `Headliner`](https://drive.google.com/file/d/1-HOWuSAngv9dXYiMlyRXX0kmVVAAT4sV/view?usp=sharing)\n",
        "*   [`Headliner_targets_df.pkl` Целевые звонки `Headliner`](https://drive.google.com/file/d/1-J1gcgb2mrNDx3R_3l12kq0htS8PTkSv/view?usp=sharing)\n",
        "*   [`Headliner_not_targets_df.pkl` Нецелевые звонки `Headliner`](https://drive.google.com/file/d/1dGf3UrVeQg0VfFhBL_lZfm-gaczPYBnL/view?usp=sharing)\n",
        "*   [`Headliner_moot_df.pkl` Спорные звонки `Headliner`](https://drive.google.com/file/d/1-7vtN8vJNWgWfY8JE8bqoRXkUpvRE_og/view?usp=sharing)"
      ],
      "metadata": {
        "id": "15htzuzHJkr1"
      }
    },
    {
      "cell_type": "markdown",
      "source": [
        "## Primavera"
      ],
      "metadata": {
        "id": "4BipOv18sV2n"
      }
    },
    {
      "cell_type": "markdown",
      "source": [
        "*   [`Primavera_df.pkl` Информация о звонках `Primavera`](https://drive.google.com/file/d/1-3csPnjIJXviKJzvbpCfOm29nBgl8L4Q/view?usp=sharing)\n",
        "*   [`Primavera_new_df.pkl` Информация о новых звонках `Primavera`](https://drive.google.com/file/d/1-QmWkabU2_cyrXPeVaiHSt2e6sLuiCtp/view?usp=sharing)"
      ],
      "metadata": {
        "id": "b8tnpm8LB43M"
      }
    },
    {
      "cell_type": "markdown",
      "source": [
        "*   [`Primavera_calls_df.pkl` Файлы записей звонков `Primavera`](https://drive.google.com/file/d/1-CLRfPyaGSc61OopNuFRlWTG-CBCaM1F/view?usp=sharing)\n",
        "*   [`Primavera_new_calls_df.pkl` Файлы записей новых звонков `Primavera`](https://drive.google.com/file/d/1-Lxa0KifMiByareL94rdEzEpvvMj4D1T/view?usp=sharing)"
      ],
      "metadata": {
        "id": "ODp0MWUysgH-"
      }
    },
    {
      "cell_type": "markdown",
      "source": [
        "*   [`Primavera_all_df.pkl` Информация о всех звонках `Primavera`](https://drive.google.com/file/d/1-2-RlxkKHj5e6RkvbrN7_vs1h5aVXJFk/view?usp=sharing)\n",
        "*   [`Primavera_work_df.pkl` Рабочий датафрейм с информацией о всех звонках `Primavera`](https://drive.google.com/file/d/1-INI9JsU9jsOkPDiGMKhftt18KXgF6-K/view?usp=sharing)\n",
        "*   [`Primavera_targets_df.pkl` Целевые звонки `Primavera`](https://drive.google.com/file/d/1-JVtM9fOr6XoM7MVxkoVsYfwdZ6GQ--i/view?usp=sharing)\n",
        "*   [`Primavera_not_targets_df.pkl` Нецелевые звонки `Primavera`](https://drive.google.com/file/d/1-KwG8M-0wEn-5C4ta-B8_xYGCXDOhpnH/view?usp=sharing)"
      ],
      "metadata": {
        "id": "7JWVpnvgKgXS"
      }
    },
    {
      "cell_type": "markdown",
      "source": [
        "## Paveletskaya_city"
      ],
      "metadata": {
        "id": "1PeeinuNtAEe"
      }
    },
    {
      "cell_type": "markdown",
      "source": [
        "*   [`Paveletskaya_city_df.pkl` Информация о звонках `Paveletskaya_city`](https://drive.google.com/file/d/1-99dLkSvU3wdwjkGJpwpYUXQjxx8dwEu/view?usp=sharing)\n",
        "*   [`Paveletskaya_df.pkl` Информация о звонках `Paveletskaya_city`](https://drive.google.com/file/d/1-D6LlCFXQBMHceujvnq9H8rlx2jAnzmT/view?usp=sharing)\n",
        "*   [`Paveletskaya_city_new_df.pkl` Информация о новых звонках `Paveletskaya_city`](https://drive.google.com/file/d/1-Rtw9a1no3mKatUjc_FNv_bgUBdNrs_d/view?usp=sharing)"
      ],
      "metadata": {
        "id": "6IsB_F4xCAdL"
      }
    },
    {
      "cell_type": "markdown",
      "source": [
        "*   [`Paveletskaya_city_calls_df.pkl` Файлы записей звонков `Paveletskaya_city`](https://drive.google.com/file/d/1-JevsfOpxzLNZmSs34qrswhGzhPwf69S/view?usp=sharing)\n",
        "*   [`Paveletskaya_city_new_calls_df.pkl` Файлы записей новых звонков `Paveletskaya_city`](https://drive.google.com/file/d/1-ODEeFLv15DN5bfLlwyrTx8D3yxydhP9/view?usp=sharing)"
      ],
      "metadata": {
        "id": "N2krmwIptKI9"
      }
    },
    {
      "cell_type": "markdown",
      "source": [
        "*   [`Paveletskaya_city_all_df.pkl` Информация о всех звонках `Paveletskaya_city`](https://drive.google.com/file/d/1-Cy78DqRZ3sbIHkg25wzVWPL-lST5oQa/view?usp=sharing)\n",
        "*   [`Paveletskaya_city_work_df.pkl` Рабочий датафрейм с информацией о всех звонках `Paveletskaya_city`](https://drive.google.com/file/d/1-J1BoALFH4-HRdVXjnkyr-fExmtQpUc7/view?usp=sharing)\n",
        "*   [`Paveletskaya_city_targets_df.pkl` Целевые звонки `Paveletskaya_city`](https://drive.google.com/file/d/1-MrjnBHDj65CEjJxLfPnp-hq07V_wtZK/view?usp=sharing)\n",
        "*   [`Paveletskaya_city_not_targets_df.pkl` Нецелевые звонки `Paveletskaya_city`](https://drive.google.com/file/d/1-WCCyYaorHkBYoh5ugNsCkD7cb1PKH6D/view?usp=sharing)"
      ],
      "metadata": {
        "id": "XUeydaKCLkch"
      }
    },
    {
      "cell_type": "markdown",
      "source": [
        "## Сводные датафреймы"
      ],
      "metadata": {
        "id": "pdrl0p3jhcuo"
      }
    },
    {
      "cell_type": "markdown",
      "source": [
        "*   [`total_df.pkl` Сводный датафрейм с информацией о всех звонках](https://drive.google.com/file/d/15ijhw62sp2JNH6pryqZtM5akQHUnsTzi/view?usp=sharing)\n",
        "*   [`total_work_df.pkl` Сводный рабочий датафрейм с информацией о всех звонках](https://drive.google.com/file/d/1-056tLrjP5yRQW8yRtwutvXs3zmPulW7/view?usp=sharing)"
      ],
      "metadata": {
        "id": "388pbSo-pynK"
      }
    },
    {
      "cell_type": "markdown",
      "source": [
        "# 4 неделя"
      ],
      "metadata": {
        "id": "rVDYF0C9YQcB"
      }
    },
    {
      "cell_type": "code",
      "source": [
        "!rm -r sample_data"
      ],
      "metadata": {
        "id": "9KuUYa49Vo8A"
      },
      "execution_count": 1,
      "outputs": []
    },
    {
      "cell_type": "code",
      "source": [
        "# Подключаем google-диск\n",
        "from google.colab import drive\n",
        "drive.mount('/content/drive')\n",
        "my_drv_path = '/content/drive/MyDrive/'"
      ],
      "metadata": {
        "colab": {
          "base_uri": "https://localhost:8080/"
        },
        "id": "IOx_s0fIVwbK",
        "outputId": "70f4fa31-8f7b-4344-cb6e-cf42dfb1a2ee"
      },
      "execution_count": 2,
      "outputs": [
        {
          "output_type": "stream",
          "name": "stdout",
          "text": [
            "Mounted at /content/drive\n"
          ]
        }
      ]
    },
    {
      "cell_type": "markdown",
      "source": [
        "## Библиотеки и переменные"
      ],
      "metadata": {
        "id": "shwe_q3BV8Vr"
      }
    },
    {
      "cell_type": "code",
      "source": [
        "import os            # для работы с операционной системой\n",
        "import pickle as pkl # для сохранения и загрузки переменных\n",
        "import pandas as pd  # для работы с таблицами\n",
        "import numpy  as np  # для работы с массивами\n",
        "import re            # для работы с регулярными выражениями\n",
        "\n",
        "# Параметры отображения датафреймов\n",
        "pd.options.display.max_rows     = 99\n",
        "pd.options.display.max_columns  = 99\n",
        "pd.options.display.max_colwidth = 999\n",
        "\n",
        "work_dir_path              = my_drv_path           + 'media108.ru/Новички/'                # путь к рабочей папке\n",
        "df_path                    = work_dir_path         + 'Датафреймы/'                         # путь к папке для датафреймов\n",
        "table_path                 = work_dir_path         + 'Таблицы/'                            # путь к папке для таблиц\n",
        "model_path                 = work_dir_path         + 'Модели/'                             # путь к папке для моделей нейронных сетей\n",
        "all_dataset_path           = work_dir_path         + 'Датасет/'                            # путь к папке всего датасета в целом\n",
        "dataset_path               = all_dataset_path      + 'Записи звонков/'                     # путь к записям звонков\n",
        "dataset_info_path          = dataset_path          + 'Информация о звонках/'               # путь к информации о звонках\n",
        "dataset_new_path           = all_dataset_path      + 'Новые записи звонков/'               # путь к новым записям звонков\n",
        "dataset_new_info_path      = dataset_new_path      + 'Информация о звонках/'               # путь к информации о новых звонках\n",
        "Headliner_path             = dataset_path          + 'Записи звонков_хедлайнер'            # путь к записям звонков проекта Headliner\n",
        "Headliner_info             = dataset_info_path     + 'Headliner.csv'                       # путь к информации о звонках проекта Headliner\n",
        "Headliner_new_path         = dataset_new_path      + 'Записи Headliner'                    # путь к записям новых звонков проекта Headliner\n",
        "Headliner_new_info         = dataset_new_info_path + 'Headliner.xlsx'                      # путь к информации о новых звонках проекта Headliner\n",
        "Primavera_path             = dataset_path          + 'Записи звонков_primavera'            # путь к записям звонков проекта Primavera\n",
        "Primavera_info             = dataset_info_path     + 'Primavera .csv'                      # путь к информации о звонках проекта Primavera\n",
        "Primavera_new_path         = dataset_new_path      + 'Записи Primavera'                    # путь к записям новых звонков проекта Primavera\n",
        "Primavera_new_info         = dataset_new_info_path + 'Примавера.xlsx'                      # путь к информации о новых звонках проекта Primavera\n",
        "Paveletskaya_city_path     = dataset_path          + 'Записи звонков_павелецкая сити'      # путь к записям звонков проекта Paveletskaya_city\n",
        "Paveletskaya_city_info     = dataset_info_path     + 'Павелецкая_ЖК_«Павелецкая_сити».csv' # путь к информации о звонках проекта Paveletskaya_city\n",
        "Paveletskaya_info          = dataset_info_path     + 'Павелецкая (pavcity.turbo.site).csv' # путь к информации о звонках проекта Paveletskaya_city\n",
        "Paveletskaya_city_new_path = dataset_new_path      + 'Записи Павелецкая сити'              # путь к записям новых звонков проекта Paveletskaya_city\n",
        "Paveletskaya_city_new_info = dataset_new_info_path + 'Павелецкая сити.xlsx'                # путь к информации о новых звонках проекта Paveletskaya_city"
      ],
      "metadata": {
        "id": "afuxbj6ibJz2"
      },
      "execution_count": 3,
      "outputs": []
    },
    {
      "cell_type": "markdown",
      "source": [
        "## Анализ и предобработка датафреймов"
      ],
      "metadata": {
        "id": "lhHFprWlnjdn"
      }
    },
    {
      "cell_type": "markdown",
      "source": [
        "### Headliner"
      ],
      "metadata": {
        "id": "qrKiYExNn5tb"
      }
    },
    {
      "cell_type": "markdown",
      "source": [
        "#### Загрузка датафреймов"
      ],
      "metadata": {
        "id": "cBqNpmwbM0ZS"
      }
    },
    {
      "cell_type": "code",
      "source": [
        "# Загружаем Headliner_df из pkl\n",
        "with open(df_path + 'Headliner_df.pkl', 'rb') as f:\n",
        "  Headliner_df = pkl.load(f)\n",
        "\n",
        "# Загружаем Headliner_new_df из pkl\n",
        "with open(df_path + 'Headliner_new_df.pkl', 'rb') as f:\n",
        "  Headliner_new_df = pkl.load(f)"
      ],
      "metadata": {
        "id": "IC92LBFyNE1M"
      },
      "execution_count": null,
      "outputs": []
    },
    {
      "cell_type": "code",
      "source": [
        "# Загружаем Headliner_calls_df из pkl\n",
        "with open(df_path + 'Headliner_calls_df.pkl', 'rb') as f:\n",
        "  Headliner_calls_df = pkl.load(f)\n",
        "\n",
        "# Загружаем Headliner_new_calls_df из pkl\n",
        "with open(df_path + 'Headliner_new_calls_df.pkl', 'rb') as f:\n",
        "  Headliner_new_calls_df = pkl.load(f)"
      ],
      "metadata": {
        "id": "kqxWrLiRUy3S"
      },
      "execution_count": null,
      "outputs": []
    },
    {
      "cell_type": "markdown",
      "source": [
        "#### Сравнение датафреймов"
      ],
      "metadata": {
        "id": "gN9okl5opTWt"
      }
    },
    {
      "cell_type": "code",
      "source": [
        "# Смотрим несовпадающие столбцы Headliner_new_df vs Headliner_df\n",
        "for column in Headliner_new_df.columns.tolist():\n",
        "  if column not in Headliner_df.columns.tolist():\n",
        "    print(f\"Headliner_new_df['{column}'], тип данных: {Headliner_new_df[column].dtypes}\")"
      ],
      "metadata": {
        "id": "a-HrQAxDpYv4"
      },
      "execution_count": null,
      "outputs": []
    },
    {
      "cell_type": "code",
      "source": [
        "# Смотрим несовпадающие столбцы Headliner_df vs Headliner_new_df\n",
        "for column in Headliner_df.columns.tolist():\n",
        "  if column not in Headliner_new_df.columns.tolist():\n",
        "    print(f'Headliner_df[{column}], тип данных: {Headliner_df[column].dtypes}')"
      ],
      "metadata": {
        "id": "H5EFSHUNp01v"
      },
      "execution_count": null,
      "outputs": []
    },
    {
      "cell_type": "markdown",
      "source": [
        "#### Сохранение датафреймов"
      ],
      "metadata": {
        "id": "ATZYNaug7M93"
      }
    },
    {
      "cell_type": "code",
      "source": [
        "# Сортируем по столбцу 'Идентификатор сессии звонка'\n",
        "Headliner_df = Headliner_df.sort_values('Идентификатор сессии звонка')\n",
        "Headliner_new_df = Headliner_new_df.sort_values('Идентификатор сессии звонка')\n",
        "Headliner_df.index = range(Headliner_df.shape[0])\n",
        "Headliner_new_df.index = range(Headliner_new_df.shape[0])"
      ],
      "metadata": {
        "id": "HL21k-6_v5kv"
      },
      "execution_count": null,
      "outputs": []
    },
    {
      "cell_type": "code",
      "source": [
        "# Сохраняем Headliner_df в pkl\n",
        "with open(df_path + 'Headliner_df.pkl', 'wb') as f:\n",
        "  pkl.dump(Headliner_df, f)\n",
        "\n",
        "# Сохраняем Headliner_new_df в pkl\n",
        "with open(df_path + 'Headliner_new_df.pkl', 'wb') as f:\n",
        "  pkl.dump(Headliner_new_df, f)"
      ],
      "metadata": {
        "id": "fHUy6o-s7TR4"
      },
      "execution_count": null,
      "outputs": []
    },
    {
      "cell_type": "markdown",
      "source": [
        "### Primavera"
      ],
      "metadata": {
        "id": "Z2ezSA6zoKI8"
      }
    },
    {
      "cell_type": "markdown",
      "source": [
        "#### Загрузка датафреймов"
      ],
      "metadata": {
        "id": "LtjShwXwNmC8"
      }
    },
    {
      "cell_type": "code",
      "source": [
        "# Загружаем Primavera_df из pkl\n",
        "with open(df_path + 'Primavera_df.pkl', 'rb') as f:\n",
        "  Primavera_df = pkl.load(f)\n",
        "\n",
        "# Загружаем Primavera_new_df из pkl\n",
        "with open(df_path + 'Primavera_new_df.pkl', 'rb') as f:\n",
        "  Primavera_new_df = pkl.load(f)"
      ],
      "metadata": {
        "id": "VMVrLpcPNmC9"
      },
      "execution_count": null,
      "outputs": []
    },
    {
      "cell_type": "code",
      "source": [
        "# Загружаем Primavera_calls_df из pkl\n",
        "with open(df_path + 'Primavera_calls_df.pkl', 'rb') as f:\n",
        "  Primavera_calls_df = pkl.load(f)\n",
        "\n",
        "# Загружаем Primavera_new_calls_df из pkl\n",
        "with open(df_path + 'Primavera_new_calls_df.pkl', 'rb') as f:\n",
        "  Primavera_new_calls_df = pkl.load(f)"
      ],
      "metadata": {
        "id": "EWq9Zu_fVeX-"
      },
      "execution_count": null,
      "outputs": []
    },
    {
      "cell_type": "markdown",
      "source": [
        "#### Сравнение датафреймов"
      ],
      "metadata": {
        "id": "1e6GB0rLqJTw"
      }
    },
    {
      "cell_type": "code",
      "source": [
        "# Смотрим несовпадающие столбцы Primavera_new_df vs Primavera_df\n",
        "for column in Primavera_new_df.columns.tolist():\n",
        "  if column not in Primavera_df.columns.tolist():\n",
        "    print(f\"Primavera_new_df['{column}'], тип данных: {Primavera_new_df[column].dtypes}\")"
      ],
      "metadata": {
        "id": "Bx3pI-rwqTiw"
      },
      "execution_count": null,
      "outputs": []
    },
    {
      "cell_type": "code",
      "source": [
        "# Смотрим несовпадающие столбцы Primavera_df vs Primavera_new_df\n",
        "for column in Primavera_df.columns.tolist():\n",
        "  if column not in Primavera_new_df.columns.tolist():\n",
        "    print(f\"Primavera_df['{column}'], тип данных: {Primavera_df[column].dtypes}\")"
      ],
      "metadata": {
        "colab": {
          "base_uri": "https://localhost:8080/"
        },
        "id": "Siwn8tBCqWo5",
        "outputId": "ced2f882-b262-471a-ec2b-0587a3d68c02"
      },
      "execution_count": null,
      "outputs": [
        {
          "output_type": "stream",
          "name": "stdout",
          "text": [
            "Primavera_df['Длительность ожидания ответа'], тип данных: float64\n",
            "Primavera_df['Причина завершения'], тип данных: object\n",
            "Primavera_df['Виртуальный номер'], тип данных: object\n"
          ]
        }
      ]
    },
    {
      "cell_type": "code",
      "source": [
        "# Добавляем столбец 'Длительность ожидания ответа' в Primavera_new_df\n",
        "Primavera_new_df['Длительность ожидания ответа'] = pd.NA"
      ],
      "metadata": {
        "id": "P9sTx_RgqmS6"
      },
      "execution_count": null,
      "outputs": []
    },
    {
      "cell_type": "code",
      "source": [
        "# Добавляем столбец 'Причина завершения' в Primavera_new_df\n",
        "Primavera_new_df['Причина завершения'] = pd.NA"
      ],
      "metadata": {
        "id": "SiCJafjIqulJ"
      },
      "execution_count": null,
      "outputs": []
    },
    {
      "cell_type": "code",
      "source": [
        "# Добавляем столбец 'Виртуальный номер' в Primavera_new_df\n",
        "Primavera_new_df['Виртуальный номер'] = pd.NA"
      ],
      "metadata": {
        "id": "LoeMebIZrYPX"
      },
      "execution_count": null,
      "outputs": []
    },
    {
      "cell_type": "code",
      "source": [
        "# Упорядочиваем столбцы в Primavera_new_df как в Primavera_df\n",
        "Primavera_new_df = Primavera_new_df[Primavera_df.columns]"
      ],
      "metadata": {
        "id": "bin1gM9-sG1N"
      },
      "execution_count": null,
      "outputs": []
    },
    {
      "cell_type": "code",
      "source": [
        "# Смотрим несовпадающие столбцы Primavera_df vs Primavera_new_df\n",
        "for column in Primavera_df.columns.tolist():\n",
        "  if column not in Primavera_new_df.columns.tolist():\n",
        "    print(f\"Primavera_df['{column}'], тип данных: {Primavera_df[column].dtypes}\")"
      ],
      "metadata": {
        "id": "m6gKk6ifud2K"
      },
      "execution_count": null,
      "outputs": []
    },
    {
      "cell_type": "markdown",
      "source": [
        "#### Сохранение датафреймов"
      ],
      "metadata": {
        "id": "Om7ZyZEoPqO5"
      }
    },
    {
      "cell_type": "code",
      "source": [
        "# Сортируем по столбцу 'Идентификатор сессии звонка'\n",
        "Primavera_df = Primavera_df.sort_values('Идентификатор сессии звонка')\n",
        "Primavera_new_df = Primavera_new_df.sort_values('Идентификатор сессии звонка')\n",
        "Primavera_df.index = range(Primavera_df.shape[0])\n",
        "Primavera_new_df.index = range(Primavera_new_df.shape[0])"
      ],
      "metadata": {
        "id": "81IvpPAG7qh-"
      },
      "execution_count": null,
      "outputs": []
    },
    {
      "cell_type": "code",
      "source": [
        "# Сохраняем Primavera_df в pkl\n",
        "with open(df_path + 'Primavera_df.pkl', 'wb') as f:\n",
        "  pkl.dump(Primavera_df, f)\n",
        "\n",
        "# Сохраняем Primavera_new_df в pkl\n",
        "with open(df_path + 'Primavera_new_df.pkl', 'wb') as f:\n",
        "  pkl.dump(Primavera_new_df, f)"
      ],
      "metadata": {
        "id": "4xJurcMZPqO6"
      },
      "execution_count": null,
      "outputs": []
    },
    {
      "cell_type": "markdown",
      "source": [
        "### Paveletskaya_city"
      ],
      "metadata": {
        "id": "nX7J_BguoaYK"
      }
    },
    {
      "cell_type": "markdown",
      "source": [
        "#### Загрузка датафреймов"
      ],
      "metadata": {
        "id": "7Qw3xxMONnle"
      }
    },
    {
      "cell_type": "code",
      "source": [
        "# Загружаем Paveletskaya_df из pkl\n",
        "with open(df_path + 'Paveletskaya_df.pkl', 'rb') as f:\n",
        "  Paveletskaya_df = pkl.load(f)\n",
        "\n",
        "# Загружаем Paveletskaya_city_df из pkl\n",
        "with open(df_path + 'Paveletskaya_city_df.pkl', 'rb') as f:\n",
        "  Paveletskaya_city_df = pkl.load(f)\n",
        "\n",
        "# Загружаем Paveletskaya_city_new_df из pkl\n",
        "with open(df_path + 'Paveletskaya_city_new_df.pkl', 'rb') as f:\n",
        "  Paveletskaya_city_new_df = pkl.load(f)"
      ],
      "metadata": {
        "id": "JVvR9z0kNnlg"
      },
      "execution_count": null,
      "outputs": []
    },
    {
      "cell_type": "code",
      "source": [
        "# Загружаем Paveletskaya_city_calls_df из pkl\n",
        "with open(df_path + 'Paveletskaya_city_calls_df.pkl', 'rb') as f:\n",
        "  Paveletskaya_city_calls_df = pkl.load(f)\n",
        "\n",
        "# Загружаем Paveletskaya_city_new_calls_df из pkl\n",
        "with open(df_path + 'Paveletskaya_city_new_calls_df.pkl', 'rb') as f:\n",
        "  Paveletskaya_city_new_calls_df = pkl.load(f)"
      ],
      "metadata": {
        "id": "qt3Eoiv_WH_W"
      },
      "execution_count": null,
      "outputs": []
    },
    {
      "cell_type": "markdown",
      "source": [
        "#### Сравнение датафреймов"
      ],
      "metadata": {
        "id": "SJlSHmFOutug"
      }
    },
    {
      "cell_type": "code",
      "source": [
        "# Смотрим несовпадающие столбцы Paveletskaya_df vs Paveletskaya_city_df\n",
        "for column in Paveletskaya_df.columns.tolist():\n",
        "  if column not in Paveletskaya_city_df.columns.tolist():\n",
        "    print(f\"Paveletskaya_df['{column}'], тип данных: {Paveletskaya_df[column].dtypes}\")"
      ],
      "metadata": {
        "id": "4FHAu_T5vpS3"
      },
      "execution_count": null,
      "outputs": []
    },
    {
      "cell_type": "code",
      "source": [
        "# Смотрим несовпадающие столбцы Paveletskaya_city_df vs Paveletskaya_df\n",
        "for column in Paveletskaya_city_df.columns.tolist():\n",
        "  if column not in Paveletskaya_df.columns.tolist():\n",
        "    print(f\"Paveletskaya_city_df['{column}'], тип данных: {Paveletskaya_city_df[column].dtypes}\")"
      ],
      "metadata": {
        "id": "tP2szVd2wFq-"
      },
      "execution_count": null,
      "outputs": []
    },
    {
      "cell_type": "code",
      "source": [
        "# Смотрим несовпадающие столбцы Paveletskaya_city_new_df vs Paveletskaya_city_df\n",
        "for column in Paveletskaya_city_new_df.columns.tolist():\n",
        "  if column not in Paveletskaya_city_df.columns.tolist():\n",
        "    print(f\"Paveletskaya_city_new_df['{column}'], тип данных: {Paveletskaya_city_new_df[column].dtypes}\")"
      ],
      "metadata": {
        "id": "NbyyjJ4uuvrM"
      },
      "execution_count": null,
      "outputs": []
    },
    {
      "cell_type": "code",
      "source": [
        "# Смотрим несовпадающие столбцы Paveletskaya_city_df vs Paveletskaya_city_new_df\n",
        "for column in Paveletskaya_city_df.columns.tolist():\n",
        "  if column not in Paveletskaya_city_new_df.columns.tolist():\n",
        "    print(f\"Paveletskaya_city_df['{column}'], тип данных: {Paveletskaya_city_df[column].dtypes}\")"
      ],
      "metadata": {
        "id": "qu8b0SrPwnQi"
      },
      "execution_count": null,
      "outputs": []
    },
    {
      "cell_type": "markdown",
      "source": [
        "#### Сохранение датафреймов"
      ],
      "metadata": {
        "id": "oT_mxTVFQD7g"
      }
    },
    {
      "cell_type": "code",
      "source": [
        "# Сортируем по столбцу 'Идентификатор сессии звонка'\n",
        "Paveletskaya_df = Paveletskaya_df.sort_values('Идентификатор сессии звонка')\n",
        "Paveletskaya_city_df = Paveletskaya_city_df.sort_values('Идентификатор сессии звонка')\n",
        "Paveletskaya_city_new_df = Paveletskaya_city_new_df.sort_values('Идентификатор сессии звонка')\n",
        "Paveletskaya_df.index = range(Paveletskaya_df.shape[0])\n",
        "Paveletskaya_city_df.index = range(Paveletskaya_city_df.shape[0])\n",
        "Paveletskaya_city_new_df.index = range(Paveletskaya_city_new_df.shape[0])"
      ],
      "metadata": {
        "id": "BNxtxHdiuokg"
      },
      "execution_count": null,
      "outputs": []
    },
    {
      "cell_type": "code",
      "source": [
        "# Сохраняем Paveletskaya_df в pkl\n",
        "with open(df_path + 'Paveletskaya_df.pkl', 'wb') as f:\n",
        "  pkl.dump(Paveletskaya_df, f)\n",
        "\n",
        "# Сохраняем Paveletskaya_city_df в pkl\n",
        "with open(df_path + 'Paveletskaya_city_df.pkl', 'wb') as f:\n",
        "  pkl.dump(Paveletskaya_city_df, f)\n",
        "\n",
        "# Сохраняем Paveletskaya_city_new_df в pkl\n",
        "with open(df_path + 'Paveletskaya_city_new_df.pkl', 'wb') as f:\n",
        "  pkl.dump(Paveletskaya_city_new_df, f)"
      ],
      "metadata": {
        "id": "v1C5aSzdQD7h"
      },
      "execution_count": null,
      "outputs": []
    },
    {
      "cell_type": "markdown",
      "source": [
        "## Соединение датафреймов проектов"
      ],
      "metadata": {
        "id": "genunoVVxofc"
      }
    },
    {
      "cell_type": "markdown",
      "source": [
        "### Сравнение датафреймов"
      ],
      "metadata": {
        "id": "SoWyPrg_x0Uq"
      }
    },
    {
      "cell_type": "code",
      "source": [
        "print(Headliner_df.shape)\n",
        "print(Headliner_new_df.shape)\n",
        "print(Primavera_df.shape)\n",
        "print(Primavera_new_df.shape)\n",
        "print(Paveletskaya_df.shape)\n",
        "print(Paveletskaya_city_df.shape)\n",
        "print(Paveletskaya_city_new_df.shape)"
      ],
      "metadata": {
        "colab": {
          "base_uri": "https://localhost:8080/"
        },
        "id": "WuWk9wNWyPsI",
        "outputId": "967eadfa-4fcf-4ac9-84e8-77ac5d9bc383"
      },
      "execution_count": null,
      "outputs": [
        {
          "output_type": "stream",
          "name": "stdout",
          "text": [
            "(4759, 75)\n",
            "(1542, 75)\n",
            "(3972, 77)\n",
            "(1523, 77)\n",
            "(1211, 77)\n",
            "(9327, 77)\n",
            "(1518, 77)\n"
          ]
        }
      ]
    },
    {
      "cell_type": "code",
      "source": [
        "# Смотрим несовпадающие столбцы Headliner_df vs Primavera_df\n",
        "for column in Headliner_df.columns.tolist():\n",
        "  if column not in Primavera_df.columns.tolist():\n",
        "    print(f\"Headliner_df['{column}'], тип данных: {Headliner_df[column].dtypes}\")"
      ],
      "metadata": {
        "id": "qSiIn5twx8w7"
      },
      "execution_count": null,
      "outputs": []
    },
    {
      "cell_type": "code",
      "source": [
        "# Смотрим несовпадающие столбцы Headliner_new_df vs Primavera_df\n",
        "for column in Headliner_new_df.columns.tolist():\n",
        "  if column not in Primavera_df.columns.tolist():\n",
        "    print(f\"Headliner_new_df['{column}'], тип данных: {Headliner_new_df[column].dtypes}\")"
      ],
      "metadata": {
        "id": "wWdyN8Kd0JB6"
      },
      "execution_count": null,
      "outputs": []
    },
    {
      "cell_type": "code",
      "source": [
        "# Смотрим несовпадающие столбцы Primavera_df vs Headliner_df\n",
        "for column in Primavera_df.columns.tolist():\n",
        "  if column not in Headliner_df.columns.tolist():\n",
        "    print(f\"Primavera_df['{column}'], тип данных: {Primavera_df[column].dtypes}\")"
      ],
      "metadata": {
        "colab": {
          "base_uri": "https://localhost:8080/"
        },
        "id": "mCTiU09AyBvM",
        "outputId": "55dc4d84-1388-47ea-81dc-4f8e64c210b9"
      },
      "execution_count": null,
      "outputs": [
        {
          "output_type": "stream",
          "name": "stdout",
          "text": [
            "Primavera_df['Идентификатор звонка во внешней системе'], тип данных: object\n",
            "Primavera_df['Длительность обработки'], тип данных: object\n"
          ]
        }
      ]
    },
    {
      "cell_type": "code",
      "source": [
        "# Смотрим несовпадающие столбцы Primavera_df vs Headliner_new_df\n",
        "for column in Primavera_df.columns.tolist():\n",
        "  if column not in Headliner_new_df.columns.tolist():\n",
        "    print(f\"Primavera_df['{column}'], тип данных: {Primavera_df[column].dtypes}\")"
      ],
      "metadata": {
        "colab": {
          "base_uri": "https://localhost:8080/"
        },
        "id": "Y2Amf8Ch0Va5",
        "outputId": "da51f9e7-0a9b-4507-b29f-6097373e1d27"
      },
      "execution_count": null,
      "outputs": [
        {
          "output_type": "stream",
          "name": "stdout",
          "text": [
            "Primavera_df['Идентификатор звонка во внешней системе'], тип данных: object\n",
            "Primavera_df['Длительность обработки'], тип данных: object\n"
          ]
        }
      ]
    },
    {
      "cell_type": "code",
      "source": [
        "# Добавляем столбец 'Идентификатор звонка во внешней системе' в Headliner_df\n",
        "Headliner_df['Идентификатор звонка во внешней системе'] = pd.NA"
      ],
      "metadata": {
        "id": "ke8hpV6Q00gL"
      },
      "execution_count": null,
      "outputs": []
    },
    {
      "cell_type": "code",
      "source": [
        "# Добавляем столбец 'Идентификатор звонка во внешней системе' в Headliner_df\n",
        "Headliner_df['Длительность обработки'] = pd.NA"
      ],
      "metadata": {
        "id": "XHY7VW9J1Cj4"
      },
      "execution_count": null,
      "outputs": []
    },
    {
      "cell_type": "code",
      "source": [
        "# Добавляем столбец 'Идентификатор звонка во внешней системе' в Headliner_new_df\n",
        "Headliner_new_df['Идентификатор звонка во внешней системе'] = pd.NA"
      ],
      "metadata": {
        "id": "gg_wQOP11KYh"
      },
      "execution_count": null,
      "outputs": []
    },
    {
      "cell_type": "code",
      "source": [
        "# Добавляем столбец 'Длительность обработки' в Headliner_new_df\n",
        "Headliner_new_df['Длительность обработки'] = pd.NA"
      ],
      "metadata": {
        "id": "M2JHX-tQ1RD-"
      },
      "execution_count": null,
      "outputs": []
    },
    {
      "cell_type": "code",
      "source": [
        "print(Headliner_df.shape)\n",
        "print(Headliner_new_df.shape)\n",
        "print(Primavera_df.shape)\n",
        "print(Primavera_new_df.shape)\n",
        "print(Paveletskaya_df.shape)\n",
        "print(Paveletskaya_city_df.shape)\n",
        "print(Paveletskaya_city_new_df.shape)"
      ],
      "metadata": {
        "colab": {
          "base_uri": "https://localhost:8080/"
        },
        "id": "37u3gIca1fCO",
        "outputId": "a6c89ff7-8f1a-4292-d810-9357c28a718b"
      },
      "execution_count": null,
      "outputs": [
        {
          "output_type": "stream",
          "name": "stdout",
          "text": [
            "(4759, 77)\n",
            "(1542, 77)\n",
            "(3972, 77)\n",
            "(1523, 77)\n",
            "(1211, 77)\n",
            "(9327, 77)\n",
            "(1518, 77)\n"
          ]
        }
      ]
    },
    {
      "cell_type": "markdown",
      "source": [
        "### Упорядочивание столбцов"
      ],
      "metadata": {
        "id": "riF1P9wU1oCZ"
      }
    },
    {
      "cell_type": "code",
      "source": [
        "# Упорядочиваем столбцы в Headliner_df как в Primavera_df\n",
        "Headliner_df = Headliner_df[Primavera_df.columns]"
      ],
      "metadata": {
        "id": "RUt10Lvq14b1"
      },
      "execution_count": null,
      "outputs": []
    },
    {
      "cell_type": "code",
      "source": [
        "# Упорядочиваем столбцы в Headliner_new_df как в Primavera_df\n",
        "Headliner_new_df = Headliner_new_df[Primavera_df.columns]"
      ],
      "metadata": {
        "id": "d3HY9Lyg1t-t"
      },
      "execution_count": null,
      "outputs": []
    },
    {
      "cell_type": "code",
      "source": [
        "# Упорядочиваем столбцы в Paveletskaya_df как в Primavera_df\n",
        "Paveletskaya_df = Paveletskaya_df[Primavera_df.columns]"
      ],
      "metadata": {
        "id": "zxazPRok2h8e"
      },
      "execution_count": null,
      "outputs": []
    },
    {
      "cell_type": "code",
      "source": [
        "# Упорядочиваем столбцы в Paveletskaya_city_df как в Primavera_df\n",
        "Paveletskaya_city_df = Paveletskaya_city_df[Primavera_df.columns]"
      ],
      "metadata": {
        "id": "KHdoTRTT2PDO"
      },
      "execution_count": null,
      "outputs": []
    },
    {
      "cell_type": "code",
      "source": [
        "# Упорядочиваем столбцы в Paveletskaya_city_new_df как в Primavera_df\n",
        "Paveletskaya_city_new_df = Paveletskaya_city_new_df[Primavera_df.columns]"
      ],
      "metadata": {
        "id": "fZRmU1Da2ZYO"
      },
      "execution_count": null,
      "outputs": []
    },
    {
      "cell_type": "markdown",
      "source": [
        "### Сохранение датафреймов проектов"
      ],
      "metadata": {
        "id": "diEKzwb02qiT"
      }
    },
    {
      "cell_type": "code",
      "source": [
        "# Сохраняем Headliner_df в pkl\n",
        "with open(df_path + 'Headliner_df.pkl', 'wb') as f:\n",
        "  pkl.dump(Headliner_df, f)\n",
        "\n",
        "# Сохраняем Headliner_new_df в pkl\n",
        "with open(df_path + 'Headliner_new_df.pkl', 'wb') as f:\n",
        "  pkl.dump(Headliner_new_df, f)\n",
        "\n",
        "# Сохраняем Paveletskaya_df в pkl\n",
        "with open(df_path + 'Paveletskaya_df.pkl', 'wb') as f:\n",
        "  pkl.dump(Paveletskaya_df, f)\n",
        "\n",
        "# Сохраняем Paveletskaya_city_df в pkl\n",
        "with open(df_path + 'Paveletskaya_city_df.pkl', 'wb') as f:\n",
        "  pkl.dump(Paveletskaya_city_df, f)\n",
        "\n",
        "# Сохраняем Paveletskaya_city_new_df в pkl\n",
        "with open(df_path + 'Paveletskaya_city_new_df.pkl', 'wb') as f:\n",
        "  pkl.dump(Paveletskaya_city_new_df, f)"
      ],
      "metadata": {
        "id": "BPK1Us8Z2yFr"
      },
      "execution_count": null,
      "outputs": []
    },
    {
      "cell_type": "markdown",
      "source": [
        "### Соединение датафреймов проекта `Headliner`"
      ],
      "metadata": {
        "id": "DAdgi6ovH-xZ"
      }
    },
    {
      "cell_type": "code",
      "source": [
        "print(Headliner_df.shape)\n",
        "print(Headliner_new_df.shape)"
      ],
      "metadata": {
        "colab": {
          "base_uri": "https://localhost:8080/"
        },
        "id": "owqOaUuTILHh",
        "outputId": "107c2f7a-4a83-4311-f7b6-cb81c5dadae5"
      },
      "execution_count": null,
      "outputs": [
        {
          "output_type": "stream",
          "name": "stdout",
          "text": [
            "(4759, 77)\n",
            "(1542, 77)\n"
          ]
        }
      ]
    },
    {
      "cell_type": "code",
      "source": [
        "# Соединяем датафреймы\n",
        "Headliner_all_df = pd.concat([Headliner_df, Headliner_new_df])\n",
        "Headliner_all_df.index = range(Headliner_all_df.shape[0])\n",
        "Headliner_all_df.shape"
      ],
      "metadata": {
        "colab": {
          "base_uri": "https://localhost:8080/"
        },
        "id": "_5PD36opIRPC",
        "outputId": "63dfb3d6-14ae-4a7b-9fe6-d524322f16ee"
      },
      "execution_count": null,
      "outputs": [
        {
          "output_type": "execute_result",
          "data": {
            "text/plain": [
              "(6301, 77)"
            ]
          },
          "metadata": {},
          "execution_count": 52
        }
      ]
    },
    {
      "cell_type": "code",
      "source": [
        "# Сохраняем Headliner_all_df в pkl\n",
        "with open(df_path + 'Headliner_all_df.pkl', 'wb') as f:\n",
        "  pkl.dump(Headliner_all_df, f)"
      ],
      "metadata": {
        "id": "Cz3GaxVvJCDY"
      },
      "execution_count": null,
      "outputs": []
    },
    {
      "cell_type": "code",
      "source": [
        "# Рабочий датафрейм\n",
        "Headliner_work_df = Headliner_all_df[Headliner_all_df['Файл записи звонка'].notna()]\n",
        "Headliner_work_df = Headliner_work_df[Headliner_work_df['Класс'] != 'Неопределено']\n",
        "Headliner_work_df.index = range(Headliner_work_df.shape[0])\n",
        "Headliner_work_df.shape"
      ],
      "metadata": {
        "colab": {
          "base_uri": "https://localhost:8080/"
        },
        "id": "Cxa_1AIzMdth",
        "outputId": "b3b4d427-b893-4b2f-d54a-607e87e7f344"
      },
      "execution_count": null,
      "outputs": [
        {
          "output_type": "execute_result",
          "data": {
            "text/plain": [
              "(3264, 77)"
            ]
          },
          "metadata": {},
          "execution_count": 67
        }
      ]
    },
    {
      "cell_type": "code",
      "source": [
        "# Сохраняем Headliner_work_df в pkl\n",
        "with open(df_path + 'Headliner_work_df.pkl', 'wb') as f:\n",
        "  pkl.dump(Headliner_work_df, f)"
      ],
      "metadata": {
        "id": "50qKN0lvOuVa"
      },
      "execution_count": null,
      "outputs": []
    },
    {
      "cell_type": "code",
      "source": [
        "# Целевые звонки\n",
        "Headliner_targets_df = Headliner_work_df[Headliner_work_df['Класс'] == 'Целевой']\n",
        "Headliner_targets_df.index = range(Headliner_targets_df.shape[0])\n",
        "Headliner_targets_df.shape"
      ],
      "metadata": {
        "colab": {
          "base_uri": "https://localhost:8080/"
        },
        "id": "HjunREAJUjb6",
        "outputId": "0cb57353-c193-4b6d-edb6-9f2d23188aef"
      },
      "execution_count": null,
      "outputs": [
        {
          "output_type": "execute_result",
          "data": {
            "text/plain": [
              "(549, 77)"
            ]
          },
          "metadata": {},
          "execution_count": 71
        }
      ]
    },
    {
      "cell_type": "code",
      "source": [
        "# Сохраняем Headliner_targets_df в pkl\n",
        "with open(df_path + 'Headliner_targets_df.pkl', 'wb') as f:\n",
        "  pkl.dump(Headliner_targets_df, f)"
      ],
      "metadata": {
        "id": "K9jaXjt-VgBX"
      },
      "execution_count": null,
      "outputs": []
    },
    {
      "cell_type": "code",
      "source": [
        "# Нецелевые звонки\n",
        "Headliner_not_targets_df = Headliner_work_df[Headliner_work_df['Класс'] == 'Нецелевой']\n",
        "Headliner_not_targets_df.index = range(Headliner_not_targets_df.shape[0])\n",
        "Headliner_not_targets_df.shape"
      ],
      "metadata": {
        "colab": {
          "base_uri": "https://localhost:8080/"
        },
        "id": "XYIaZmcDWdN7",
        "outputId": "5d265c47-6bfe-4a89-8e7b-1a0ba51ee835"
      },
      "execution_count": null,
      "outputs": [
        {
          "output_type": "execute_result",
          "data": {
            "text/plain": [
              "(1082, 77)"
            ]
          },
          "metadata": {},
          "execution_count": 7
        }
      ]
    },
    {
      "cell_type": "code",
      "source": [
        "# Сохраняем Headliner_not_targets_df в pkl\n",
        "with open(df_path + 'Headliner_not_targets_df.pkl', 'wb') as f:\n",
        "  pkl.dump(Headliner_not_targets_df, f)"
      ],
      "metadata": {
        "id": "vVeD3SbxX1AX"
      },
      "execution_count": null,
      "outputs": []
    },
    {
      "cell_type": "code",
      "source": [
        "# Спорные звонки\n",
        "Headliner_moot_df = Headliner_work_df[Headliner_work_df['Класс'] == 'Спорный']\n",
        "Headliner_moot_df.index = range(Headliner_moot_df.shape[0])\n",
        "Headliner_moot_df.shape"
      ],
      "metadata": {
        "colab": {
          "base_uri": "https://localhost:8080/"
        },
        "id": "vs2AwXhlauGn",
        "outputId": "1397b684-a06e-4992-cdb6-d9c4cf1bb844"
      },
      "execution_count": null,
      "outputs": [
        {
          "output_type": "execute_result",
          "data": {
            "text/plain": [
              "(1633, 77)"
            ]
          },
          "metadata": {},
          "execution_count": 10
        }
      ]
    },
    {
      "cell_type": "code",
      "source": [
        "# Сохраняем Headliner_moot_df в pkl\n",
        "with open(df_path + 'Headliner_moot_df.pkl', 'wb') as f:\n",
        "  pkl.dump(Headliner_moot_df, f)"
      ],
      "metadata": {
        "id": "8xCnIkkEbArl"
      },
      "execution_count": null,
      "outputs": []
    },
    {
      "cell_type": "markdown",
      "source": [
        "### Соединение датафреймов проекта `Primavera`"
      ],
      "metadata": {
        "id": "kAJBS9kNJ8DG"
      }
    },
    {
      "cell_type": "code",
      "source": [
        "print(Primavera_df.shape)\n",
        "print(Primavera_new_df.shape)"
      ],
      "metadata": {
        "colab": {
          "base_uri": "https://localhost:8080/"
        },
        "outputId": "3a3f21e0-f687-4ccb-aed3-df3f5672596a",
        "id": "bJ3vE3f2J8DV"
      },
      "execution_count": null,
      "outputs": [
        {
          "output_type": "stream",
          "name": "stdout",
          "text": [
            "(3972, 77)\n",
            "(1523, 77)\n"
          ]
        }
      ]
    },
    {
      "cell_type": "code",
      "source": [
        "# Соединяем датафреймы\n",
        "Primavera_all_df = pd.concat([Primavera_df, Primavera_new_df])\n",
        "Primavera_all_df.index = range(Primavera_all_df.shape[0])\n",
        "Primavera_all_df.shape"
      ],
      "metadata": {
        "colab": {
          "base_uri": "https://localhost:8080/"
        },
        "outputId": "229dee8d-a366-4dec-c048-5cc385c82a2b",
        "id": "1fjaZEp-J8DV"
      },
      "execution_count": null,
      "outputs": [
        {
          "output_type": "execute_result",
          "data": {
            "text/plain": [
              "(5495, 77)"
            ]
          },
          "metadata": {},
          "execution_count": 55
        }
      ]
    },
    {
      "cell_type": "code",
      "source": [
        "# Сохраняем Primavera_all_df в pkl\n",
        "with open(df_path + 'Primavera_all_df.pkl', 'wb') as f:\n",
        "  pkl.dump(Primavera_all_df, f)"
      ],
      "metadata": {
        "id": "gNfHp77mJ8DV"
      },
      "execution_count": null,
      "outputs": []
    },
    {
      "cell_type": "code",
      "source": [
        "# Рабочий датафрейм\n",
        "Primavera_work_df = Primavera_all_df[Primavera_all_df['Файл записи звонка'].notna()]\n",
        "Primavera_work_df = Primavera_work_df[Primavera_work_df['Класс'] != 'Неопределено']\n",
        "Primavera_work_df.index = range(Primavera_work_df.shape[0])\n",
        "Primavera_work_df.shape"
      ],
      "metadata": {
        "colab": {
          "base_uri": "https://localhost:8080/"
        },
        "id": "ZvVSdY2OPhQ1",
        "outputId": "ad42c23e-79fd-4d19-f0d0-dd4085d99ad2"
      },
      "execution_count": null,
      "outputs": [
        {
          "output_type": "execute_result",
          "data": {
            "text/plain": [
              "(2272, 77)"
            ]
          },
          "metadata": {},
          "execution_count": 65
        }
      ]
    },
    {
      "cell_type": "code",
      "source": [
        "# Сохраняем Primavera_work_df в pkl\n",
        "with open(df_path + 'Primavera_work_df.pkl', 'wb') as f:\n",
        "  pkl.dump(Primavera_work_df, f)"
      ],
      "metadata": {
        "id": "MKooGPcVPwXt"
      },
      "execution_count": null,
      "outputs": []
    },
    {
      "cell_type": "code",
      "source": [
        "# Целевые звонки\n",
        "Primavera_targets_df = Primavera_work_df[Primavera_work_df['Класс'] == 'Целевой']\n",
        "Primavera_targets_df.index = range(Primavera_targets_df.shape[0])\n",
        "Primavera_targets_df.shape"
      ],
      "metadata": {
        "colab": {
          "base_uri": "https://localhost:8080/"
        },
        "id": "AtBacvyoca9j",
        "outputId": "48e35615-1c41-4a0e-95cf-e296ad7823ea"
      },
      "execution_count": null,
      "outputs": [
        {
          "output_type": "execute_result",
          "data": {
            "text/plain": [
              "(969, 77)"
            ]
          },
          "metadata": {},
          "execution_count": 13
        }
      ]
    },
    {
      "cell_type": "code",
      "source": [
        "# Сохраняем Primavera_targets_df в pkl\n",
        "with open(df_path + 'Primavera_targets_df.pkl', 'wb') as f:\n",
        "  pkl.dump(Primavera_targets_df, f)"
      ],
      "metadata": {
        "id": "EUvAS-1pcfvd"
      },
      "execution_count": null,
      "outputs": []
    },
    {
      "cell_type": "code",
      "source": [
        "# Нецелевые звонки\n",
        "Primavera_not_targets_df = Primavera_work_df[Primavera_work_df['Класс'] == 'Нецелевой']\n",
        "Primavera_not_targets_df.index = range(Primavera_not_targets_df.shape[0])\n",
        "Primavera_not_targets_df.shape"
      ],
      "metadata": {
        "colab": {
          "base_uri": "https://localhost:8080/"
        },
        "id": "NaA0z1TJchC9",
        "outputId": "057d5262-58c5-4241-ed6b-de86cae959c8"
      },
      "execution_count": null,
      "outputs": [
        {
          "output_type": "execute_result",
          "data": {
            "text/plain": [
              "(1303, 77)"
            ]
          },
          "metadata": {},
          "execution_count": 15
        }
      ]
    },
    {
      "cell_type": "code",
      "source": [
        "# Сохраняем Primavera_not_targets_df в pkl\n",
        "with open(df_path + 'Primavera_not_targets_df.pkl', 'wb') as f:\n",
        "  pkl.dump(Primavera_not_targets_df, f)"
      ],
      "metadata": {
        "id": "31XkMZamcq7H"
      },
      "execution_count": null,
      "outputs": []
    },
    {
      "cell_type": "markdown",
      "source": [
        "### Соединение датафреймов проекта `Paveletskaya_city`"
      ],
      "metadata": {
        "id": "7vkaRh0JK6Jg"
      }
    },
    {
      "cell_type": "code",
      "source": [
        "print(Paveletskaya_df.shape)\n",
        "print(Paveletskaya_city_df.shape)\n",
        "print(Paveletskaya_city_new_df.shape)"
      ],
      "metadata": {
        "colab": {
          "base_uri": "https://localhost:8080/"
        },
        "outputId": "2643d497-adf3-4213-80a7-371021a47b76",
        "id": "27vTzbo5K6Jw"
      },
      "execution_count": null,
      "outputs": [
        {
          "output_type": "stream",
          "name": "stdout",
          "text": [
            "(1211, 77)\n",
            "(9327, 77)\n",
            "(1518, 77)\n"
          ]
        }
      ]
    },
    {
      "cell_type": "code",
      "source": [
        "# Соединяем датафреймы\n",
        "Paveletskaya_city_all_df = pd.concat([Paveletskaya_df, Paveletskaya_city_df, Paveletskaya_city_new_df])\n",
        "Paveletskaya_city_all_df.index = range(Paveletskaya_city_all_df.shape[0])\n",
        "Paveletskaya_city_all_df.shape"
      ],
      "metadata": {
        "colab": {
          "base_uri": "https://localhost:8080/"
        },
        "outputId": "5ff24bb6-7cb3-49f8-a478-61264fcba0df",
        "id": "lIP9w09yK6Jx"
      },
      "execution_count": null,
      "outputs": [
        {
          "output_type": "execute_result",
          "data": {
            "text/plain": [
              "(12056, 77)"
            ]
          },
          "metadata": {},
          "execution_count": 58
        }
      ]
    },
    {
      "cell_type": "code",
      "source": [
        "# Сохраняем Paveletskaya_city_all_df в pkl\n",
        "with open(df_path + 'Paveletskaya_city_all_df.pkl', 'wb') as f:\n",
        "  pkl.dump(Paveletskaya_city_all_df, f)"
      ],
      "metadata": {
        "id": "ytos1Ij6K6Jy"
      },
      "execution_count": null,
      "outputs": []
    },
    {
      "cell_type": "code",
      "source": [
        "# Рабочий датафрейм\n",
        "Paveletskaya_city_work_df = Paveletskaya_city_all_df[Paveletskaya_city_all_df['Файл записи звонка'].notna()]\n",
        "Paveletskaya_city_work_df = Paveletskaya_city_work_df[Paveletskaya_city_work_df['Класс'] != 'Неопределено']\n",
        "Paveletskaya_city_work_df.index = range(Paveletskaya_city_work_df.shape[0])\n",
        "Paveletskaya_city_work_df.shape"
      ],
      "metadata": {
        "colab": {
          "base_uri": "https://localhost:8080/"
        },
        "id": "NKlskJw_TUu9",
        "outputId": "d98cb0c9-1696-40f4-d9a3-b628833e3aaf"
      },
      "execution_count": null,
      "outputs": [
        {
          "output_type": "execute_result",
          "data": {
            "text/plain": [
              "(1388, 77)"
            ]
          },
          "metadata": {},
          "execution_count": 69
        }
      ]
    },
    {
      "cell_type": "code",
      "source": [
        "# Сохраняем Paveletskaya_city_work_df в pkl\n",
        "with open(df_path + 'Paveletskaya_city_work_df.pkl', 'wb') as f:\n",
        "  pkl.dump(Paveletskaya_city_work_df, f)"
      ],
      "metadata": {
        "id": "hv-N6ppGTaRy"
      },
      "execution_count": null,
      "outputs": []
    },
    {
      "cell_type": "code",
      "source": [
        "# Целевые звонки\n",
        "Paveletskaya_city_targets_df = Paveletskaya_city_work_df[Paveletskaya_city_work_df['Класс'] == 'Целевой']\n",
        "Paveletskaya_city_targets_df.index = range(Paveletskaya_city_targets_df.shape[0])\n",
        "Paveletskaya_city_targets_df.shape"
      ],
      "metadata": {
        "colab": {
          "base_uri": "https://localhost:8080/"
        },
        "id": "hql2vBQ1e7Hz",
        "outputId": "d5d89355-1b32-4204-f2dc-334390fd827d"
      },
      "execution_count": null,
      "outputs": [
        {
          "output_type": "execute_result",
          "data": {
            "text/plain": [
              "(786, 77)"
            ]
          },
          "metadata": {},
          "execution_count": 18
        }
      ]
    },
    {
      "cell_type": "code",
      "source": [
        "# Сохраняем Paveletskaya_city_targets_df в pkl\n",
        "with open(df_path + 'Paveletskaya_city_targets_df.pkl', 'wb') as f:\n",
        "  pkl.dump(Paveletskaya_city_targets_df, f)"
      ],
      "metadata": {
        "id": "tOBwEMD9e_na"
      },
      "execution_count": null,
      "outputs": []
    },
    {
      "cell_type": "code",
      "source": [
        "# Нецелевые звонки\n",
        "Paveletskaya_city_not_targets_df = Paveletskaya_city_work_df[Paveletskaya_city_work_df['Класс'] == 'Нецелевой']\n",
        "Paveletskaya_city_not_targets_df.index = range(Paveletskaya_city_not_targets_df.shape[0])\n",
        "Paveletskaya_city_not_targets_df.shape"
      ],
      "metadata": {
        "colab": {
          "base_uri": "https://localhost:8080/"
        },
        "id": "iTynehtCfEuK",
        "outputId": "9d15c6e5-a72f-4bb0-9aee-3821de3cfb07"
      },
      "execution_count": null,
      "outputs": [
        {
          "output_type": "execute_result",
          "data": {
            "text/plain": [
              "(602, 77)"
            ]
          },
          "metadata": {},
          "execution_count": 20
        }
      ]
    },
    {
      "cell_type": "code",
      "source": [
        "# Сохраняем Paveletskaya_city_not_targets_df в pkl\n",
        "with open(df_path + 'Paveletskaya_city_not_targets_df.pkl', 'wb') as f:\n",
        "  pkl.dump(Paveletskaya_city_not_targets_df, f)"
      ],
      "metadata": {
        "id": "hWj0bZoMfKaG"
      },
      "execution_count": null,
      "outputs": []
    },
    {
      "cell_type": "markdown",
      "source": [
        "## Сводные датафреймы"
      ],
      "metadata": {
        "id": "cQjJ-GAXhQex"
      }
    },
    {
      "cell_type": "markdown",
      "source": [
        "### Загрузка датафреймов"
      ],
      "metadata": {
        "id": "zFcYgFJgh8pO"
      }
    },
    {
      "cell_type": "code",
      "source": [
        "# Загружаем Headliner_all_df из pkl\n",
        "with open(df_path + 'Headliner_all_df.pkl', 'rb') as f:\n",
        "  Headliner_all_df = pkl.load(f)\n",
        "\n",
        "# Загружаем Primavera_all_df из pkl\n",
        "with open(df_path + 'Primavera_all_df.pkl', 'rb') as f:\n",
        "  Primavera_all_df = pkl.load(f)\n",
        "\n",
        "# Загружаем Paveletskaya_city_all_df из pkl\n",
        "with open(df_path + 'Paveletskaya_city_all_df.pkl', 'rb') as f:\n",
        "  Paveletskaya_city_all_df = pkl.load(f)"
      ],
      "metadata": {
        "id": "TUS5R3sWhWxP"
      },
      "execution_count": null,
      "outputs": []
    },
    {
      "cell_type": "code",
      "source": [
        "# Загружаем Headliner_work_df из pkl\n",
        "with open(df_path + 'Headliner_work_df.pkl', 'rb') as f:\n",
        "  Headliner_work_df = pkl.load(f)\n",
        "\n",
        "# Загружаем Primavera_work_df из pkl\n",
        "with open(df_path + 'Primavera_work_df.pkl', 'rb') as f:\n",
        "  Primavera_work_df = pkl.load(f)\n",
        "\n",
        "# Загружаем Paveletskaya_city_work_df из pkl\n",
        "with open(df_path + 'Paveletskaya_city_work_df.pkl', 'rb') as f:\n",
        "  Paveletskaya_city_work_df = pkl.load(f)"
      ],
      "metadata": {
        "id": "HWy0pFVEi091"
      },
      "execution_count": null,
      "outputs": []
    },
    {
      "cell_type": "code",
      "source": [
        "# Загружаем Headliner_targets_df из pkl\n",
        "with open(df_path + 'Headliner_targets_df.pkl', 'rb') as f:\n",
        "  Headliner_targets_df = pkl.load(f)\n",
        "\n",
        "# Загружаем Primavera_targets_df из pkl\n",
        "with open(df_path + 'Primavera_targets_df.pkl', 'rb') as f:\n",
        "  Primavera_targets_df = pkl.load(f)\n",
        "\n",
        "# Загружаем Paveletskaya_city_targets_df из pkl\n",
        "with open(df_path + 'Paveletskaya_city_targets_df.pkl', 'rb') as f:\n",
        "  Paveletskaya_city_targets_df = pkl.load(f)"
      ],
      "metadata": {
        "id": "iH3Zkr44jUSa"
      },
      "execution_count": null,
      "outputs": []
    },
    {
      "cell_type": "code",
      "source": [
        "# Загружаем Headliner_not_targets_df из pkl\n",
        "with open(df_path + 'Headliner_not_targets_df.pkl', 'rb') as f:\n",
        "  Headliner_not_targets_df = pkl.load(f)\n",
        "\n",
        "# Загружаем Primavera_not_targets_df из pkl\n",
        "with open(df_path + 'Primavera_not_targets_df.pkl', 'rb') as f:\n",
        "  Primavera_not_targets_df = pkl.load(f)\n",
        "\n",
        "# Загружаем Paveletskaya_city_not_targets_df из pkl\n",
        "with open(df_path + 'Paveletskaya_city_not_targets_df.pkl', 'rb') as f:\n",
        "  Paveletskaya_city_not_targets_df = pkl.load(f)"
      ],
      "metadata": {
        "id": "LPaktc3Cj7uK"
      },
      "execution_count": null,
      "outputs": []
    },
    {
      "cell_type": "code",
      "source": [
        "# Загружаем Headliner_moot_df из pkl\n",
        "with open(df_path + 'Headliner_moot_df.pkl', 'rb') as f:\n",
        "  Headliner_moot_df = pkl.load(f)"
      ],
      "metadata": {
        "id": "RYQYn2-VkZC4"
      },
      "execution_count": null,
      "outputs": []
    },
    {
      "cell_type": "markdown",
      "source": [
        "### Соединение датафреймов"
      ],
      "metadata": {
        "id": "vLyOjCBskrXQ"
      }
    },
    {
      "cell_type": "markdown",
      "source": [
        "#### `total_df`"
      ],
      "metadata": {
        "id": "GLvQ_2VHld63"
      }
    },
    {
      "cell_type": "code",
      "source": [
        "# Соединяем датафреймы\n",
        "total_df = pd.concat([Headliner_all_df, Primavera_all_df, Paveletskaya_city_all_df])\n",
        "total_df.index = range(total_df.shape[0])\n",
        "total_df.shape"
      ],
      "metadata": {
        "colab": {
          "base_uri": "https://localhost:8080/"
        },
        "id": "WWEf_LJ4kt7b",
        "outputId": "4ca8fb26-2dcd-4e3b-9592-9e6c4ae2e57b"
      },
      "execution_count": null,
      "outputs": [
        {
          "output_type": "execute_result",
          "data": {
            "text/plain": [
              "(23852, 77)"
            ]
          },
          "metadata": {},
          "execution_count": 7
        }
      ]
    },
    {
      "cell_type": "code",
      "source": [
        "# Сохраняем total_df в pkl\n",
        "with open(df_path + 'total_df.pkl', 'wb') as f:\n",
        "  pkl.dump(total_df, f)"
      ],
      "metadata": {
        "id": "tQRR-zqlmSJO"
      },
      "execution_count": null,
      "outputs": []
    },
    {
      "cell_type": "markdown",
      "source": [
        "#### `total_work_df`"
      ],
      "metadata": {
        "id": "qSi1QuOhmhSO"
      }
    },
    {
      "cell_type": "code",
      "source": [
        "# Соединяем датафреймы\n",
        "total_work_df = pd.concat([Headliner_work_df, Primavera_work_df, Paveletskaya_city_work_df])\n",
        "total_work_df.index = range(total_work_df.shape[0])\n",
        "total_work_df.shape"
      ],
      "metadata": {
        "colab": {
          "base_uri": "https://localhost:8080/"
        },
        "id": "cc5fatnymhSe",
        "outputId": "5303ead4-05c0-420b-80f2-03fcf2049ffe"
      },
      "execution_count": null,
      "outputs": [
        {
          "output_type": "execute_result",
          "data": {
            "text/plain": [
              "(6924, 77)"
            ]
          },
          "metadata": {},
          "execution_count": 9
        }
      ]
    },
    {
      "cell_type": "code",
      "source": [
        "# Сохраняем total_work_df в pkl\n",
        "with open(df_path + 'total_work_df.pkl', 'wb') as f:\n",
        "  pkl.dump(total_work_df, f)"
      ],
      "metadata": {
        "id": "ED1ThZTumhSe"
      },
      "execution_count": null,
      "outputs": []
    },
    {
      "cell_type": "markdown",
      "source": [
        "### Анализ сводных датафреймов"
      ],
      "metadata": {
        "id": "KjPwd_jqigNm"
      }
    },
    {
      "cell_type": "code",
      "source": [
        "# Загружаем total_df из pkl\n",
        "with open(df_path + 'total_df.pkl', 'rb') as f:\n",
        "  total_df = pkl.load(f)\n",
        "\n",
        "# Загружаем total_work_df из pkl\n",
        "with open(df_path + 'total_work_df.pkl', 'rb') as f:\n",
        "  total_work_df = pkl.load(f)"
      ],
      "metadata": {
        "id": "JCdkdIvYjlFH"
      },
      "execution_count": 4,
      "outputs": []
    },
    {
      "cell_type": "code",
      "source": [
        "# Размеры\n",
        "print(total_df.shape)\n",
        "print(total_work_df.shape)"
      ],
      "metadata": {
        "colab": {
          "base_uri": "https://localhost:8080/"
        },
        "id": "X9S0mq1wkbUe",
        "outputId": "fa16ae1d-f187-4bf9-fd1b-7fa31b50fc0c"
      },
      "execution_count": 5,
      "outputs": [
        {
          "output_type": "stream",
          "name": "stdout",
          "text": [
            "(23852, 77)\n",
            "(6924, 77)\n"
          ]
        }
      ]
    },
    {
      "cell_type": "code",
      "source": [
        "# @title График Data.count\n",
        "Data = total_df # @param {type:\"raw\"}\n",
        "import matplotlib.pyplot as plt\n",
        "import seaborn as sns\n",
        "sns.set_style('darkgrid')\n",
        "\n",
        "plt.figure(figsize=(14,3))\n",
        "counts = Data.count()\n",
        "ax = counts.plot.bar()\n",
        "ax.set_xlabel('Столбцы', c='r')\n",
        "ax.set_ylabel('Количество записей', c='b')\n",
        "ax.set_title('Количество непустых записей по столбцам', c='gray')\n",
        "\n",
        "plt.show()"
      ],
      "metadata": {
        "colab": {
          "base_uri": "https://localhost:8080/",
          "height": 647
        },
        "cellView": "form",
        "id": "82g76MC6TKZc",
        "outputId": "2d938280-b570-4892-eff5-5602ff8c8e0e"
      },
      "execution_count": 6,
      "outputs": [
        {
          "output_type": "display_data",
          "data": {
            "text/plain": [
              "<Figure size 1400x300 with 1 Axes>"
            ],
            "image/png": "[encoded data removed]"
          },
          "metadata": {}
        }
      ]
    },
    {
      "cell_type": "code",
      "source": [
        "# @title График Data.count\n",
        "Data = total_work_df # @param {type:\"raw\"}\n",
        "import matplotlib.pyplot as plt\n",
        "import seaborn as sns\n",
        "sns.set_style('darkgrid')\n",
        "\n",
        "plt.figure(figsize=(14,3))\n",
        "counts = Data.count()\n",
        "ax = counts.plot.bar()\n",
        "ax.set_xlabel('Столбцы', c='r')\n",
        "ax.set_ylabel('Количество записей', c='b')\n",
        "ax.set_title('Количество непустых записей по столбцам', c='gray')\n",
        "\n",
        "plt.show()"
      ],
      "metadata": {
        "colab": {
          "base_uri": "https://localhost:8080/",
          "height": 647
        },
        "cellView": "form",
        "outputId": "58545dd1-65d6-40e7-af11-49c64e7b9e07",
        "id": "wuqcTKW3lwJX"
      },
      "execution_count": 8,
      "outputs": [
        {
          "output_type": "display_data",
          "data": {
            "text/plain": [
              "<Figure size 1400x300 with 1 Axes>"
            ],
            "image/png": "[encoded data removed]"
          },
          "metadata": {}
        }
      ]
    },
    {
      "cell_type": "code",
      "source": [
        "# Описательные статистики длительности разговора total_df\n",
        "pd.concat([total_df['Длительность разговора'][total_df['Класс'] == 'Целевой'].describe(),\n",
        "           total_df['Длительность разговора'][total_df['Класс'] != 'Целевой'].describe()],\n",
        "          axis=1,\n",
        "          keys=['Целевые звонки', 'Нецелевые звонки'])"
      ],
      "metadata": {
        "colab": {
          "base_uri": "https://localhost:8080/",
          "height": 300
        },
        "id": "Rb_F5xWzqNjE",
        "outputId": "3de15c39-5a31-49b9-d8c0-3ab3ba5dcff5"
      },
      "execution_count": 23,
      "outputs": [
        {
          "output_type": "execute_result",
          "data": {
            "text/plain": [
              "       Целевые звонки  Нецелевые звонки\n",
              "count     2941.000000      20445.000000\n",
              "mean       365.689561         44.009244\n",
              "std        294.071888        129.901125\n",
              "min          0.000000          0.000000\n",
              "25%        154.000000          0.000000\n",
              "50%        310.000000          0.000000\n",
              "75%        498.000000         22.000000\n",
              "max       2937.000000       3591.000000"
            ],
            "text/html": [
              "\n",
              "  <div id=\"df-3b545531-d10e-45f8-a6ba-b985d49ab5c2\" class=\"colab-df-container\">\n",
              "    <div>\n",
              "<style scoped>\n",
              "    .dataframe tbody tr th:only-of-type {\n",
              "        vertical-align: middle;\n",
              "    }\n",
              "\n",
              "    .dataframe tbody tr th {\n",
              "        vertical-align: top;\n",
              "    }\n",
              "\n",
              "    .dataframe thead th {\n",
              "        text-align: right;\n",
              "    }\n",
              "</style>\n",
              "<table border=\"1\" class=\"dataframe\">\n",
              "  <thead>\n",
              "    <tr style=\"text-align: right;\">\n",
              "      <th></th>\n",
              "      <th>Целевые звонки</th>\n",
              "      <th>Нецелевые звонки</th>\n",
              "    </tr>\n",
              "  </thead>\n",
              "  <tbody>\n",
              "    <tr>\n",
              "      <th>count</th>\n",
              "      <td>2941.000000</td>\n",
              "      <td>20445.000000</td>\n",
              "    </tr>\n",
              "    <tr>\n",
              "      <th>mean</th>\n",
              "      <td>365.689561</td>\n",
              "      <td>44.009244</td>\n",
              "    </tr>\n",
              "    <tr>\n",
              "      <th>std</th>\n",
              "      <td>294.071888</td>\n",
              "      <td>129.901125</td>\n",
              "    </tr>\n",
              "    <tr>\n",
              "      <th>min</th>\n",
              "      <td>0.000000</td>\n",
              "      <td>0.000000</td>\n",
              "    </tr>\n",
              "    <tr>\n",
              "      <th>25%</th>\n",
              "      <td>154.000000</td>\n",
              "      <td>0.000000</td>\n",
              "    </tr>\n",
              "    <tr>\n",
              "      <th>50%</th>\n",
              "      <td>310.000000</td>\n",
              "      <td>0.000000</td>\n",
              "    </tr>\n",
              "    <tr>\n",
              "      <th>75%</th>\n",
              "      <td>498.000000</td>\n",
              "      <td>22.000000</td>\n",
              "    </tr>\n",
              "    <tr>\n",
              "      <th>max</th>\n",
              "      <td>2937.000000</td>\n",
              "      <td>3591.000000</td>\n",
              "    </tr>\n",
              "  </tbody>\n",
              "</table>\n",
              "</div>\n",
              "    <div class=\"colab-df-buttons\">\n",
              "\n",
              "  <div class=\"colab-df-container\">\n",
              "    <button class=\"colab-df-convert\" onclick=\"convertToInteractive('df-3b545531-d10e-45f8-a6ba-b985d49ab5c2')\"\n",
              "            title=\"Convert this dataframe to an interactive table.\"\n",
              "            style=\"display:none;\">\n",
              "\n",
              "  <svg xmlns=\"http://www.w3.org/2000/svg\" height=\"24px\" viewBox=\"0 -960 960 960\">\n",
              "    <path d=\"M120-120v-720h720v720H120Zm60-500h600v-160H180v160Zm220 220h160v-160H400v160Zm0 220h160v-160H400v160ZM180-400h160v-160H180v160Zm440 0h160v-160H620v160ZM180-180h160v-160H180v160Zm440 0h160v-160H620v160Z\"/>\n",
              "  </svg>\n",
              "    </button>\n",
              "\n",
              "  <style>\n",
              "    .colab-df-container {\n",
              "      display:flex;\n",
              "      gap: 12px;\n",
              "    }\n",
              "\n",
              "    .colab-df-convert {\n",
              "      background-color: #E8F0FE;\n",
              "      border: none;\n",
              "      border-radius: 50%;\n",
              "      cursor: pointer;\n",
              "      display: none;\n",
              "      fill: #1967D2;\n",
              "      height: 32px;\n",
              "      padding: 0 0 0 0;\n",
              "      width: 32px;\n",
              "    }\n",
              "\n",
              "    .colab-df-convert:hover {\n",
              "      background-color: #E2EBFA;\n",
              "      box-shadow: 0px 1px 2px rgba(60, 64, 67, 0.3), 0px 1px 3px 1px rgba(60, 64, 67, 0.15);\n",
              "      fill: #174EA6;\n",
              "    }\n",
              "\n",
              "    .colab-df-buttons div {\n",
              "      margin-bottom: 4px;\n",
              "    }\n",
              "\n",
              "    [theme=dark] .colab-df-convert {\n",
              "      background-color: #3B4455;\n",
              "      fill: #D2E3FC;\n",
              "    }\n",
              "\n",
              "    [theme=dark] .colab-df-convert:hover {\n",
              "      background-color: #434B5C;\n",
              "      box-shadow: 0px 1px 3px 1px rgba(0, 0, 0, 0.15);\n",
              "      filter: drop-shadow(0px 1px 2px rgba(0, 0, 0, 0.3));\n",
              "      fill: #FFFFFF;\n",
              "    }\n",
              "  </style>\n",
              "\n",
              "    <script>\n",
              "      const buttonEl =\n",
              "        document.querySelector('#df-3b545531-d10e-45f8-a6ba-b985d49ab5c2 button.colab-df-convert');\n",
              "      buttonEl.style.display =\n",
              "        google.colab.kernel.accessAllowed ? 'block' : 'none';\n",
              "\n",
              "      async function convertToInteractive(key) {\n",
              "        const element = document.querySelector('#df-3b545531-d10e-45f8-a6ba-b985d49ab5c2');\n",
              "        const dataTable =\n",
              "          await google.colab.kernel.invokeFunction('convertToInteractive',\n",
              "                                                    [key], {});\n",
              "        if (!dataTable) return;\n",
              "\n",
              "        const docLinkHtml = 'Like what you see? Visit the ' +\n",
              "          '<a target=\"_blank\" href=https://colab.research.google.com/notebooks/data_table.ipynb>data table notebook</a>'\n",
              "          + ' to learn more about interactive tables.';\n",
              "        element.innerHTML = '';\n",
              "        dataTable['output_type'] = 'display_data';\n",
              "        await google.colab.output.renderOutput(dataTable, element);\n",
              "        const docLink = document.createElement('div');\n",
              "        docLink.innerHTML = docLinkHtml;\n",
              "        element.appendChild(docLink);\n",
              "      }\n",
              "    </script>\n",
              "  </div>\n",
              "\n",
              "\n",
              "<div id=\"df-50640ce4-bc06-405d-af82-4b0f27cb7b92\">\n",
              "  <button class=\"colab-df-quickchart\" onclick=\"quickchart('df-50640ce4-bc06-405d-af82-4b0f27cb7b92')\"\n",
              "            title=\"Suggest charts\"\n",
              "            style=\"display:none;\">\n",
              "\n",
              "<svg xmlns=\"http://www.w3.org/2000/svg\" height=\"24px\"viewBox=\"0 0 24 24\"\n",
              "     width=\"24px\">\n",
              "    <g>\n",
              "        <path d=\"M19 3H5c-1.1 0-2 .9-2 2v14c0 1.1.9 2 2 2h14c1.1 0 2-.9 2-2V5c0-1.1-.9-2-2-2zM9 17H7v-7h2v7zm4 0h-2V7h2v10zm4 0h-2v-4h2v4z\"/>\n",
              "    </g>\n",
              "</svg>\n",
              "  </button>\n",
              "\n",
              "<style>\n",
              "  .colab-df-quickchart {\n",
              "      --bg-color: #E8F0FE;\n",
              "      --fill-color: #1967D2;\n",
              "      --hover-bg-color: #E2EBFA;\n",
              "      --hover-fill-color: #174EA6;\n",
              "      --disabled-fill-color: #AAA;\n",
              "      --disabled-bg-color: #DDD;\n",
              "  }\n",
              "\n",
              "  [theme=dark] .colab-df-quickchart {\n",
              "      --bg-color: #3B4455;\n",
              "      --fill-color: #D2E3FC;\n",
              "      --hover-bg-color: #434B5C;\n",
              "      --hover-fill-color: #FFFFFF;\n",
              "      --disabled-bg-color: #3B4455;\n",
              "      --disabled-fill-color: #666;\n",
              "  }\n",
              "\n",
              "  .colab-df-quickchart {\n",
              "    background-color: var(--bg-color);\n",
              "    border: none;\n",
              "    border-radius: 50%;\n",
              "    cursor: pointer;\n",
              "    display: none;\n",
              "    fill: var(--fill-color);\n",
              "    height: 32px;\n",
              "    padding: 0;\n",
              "    width: 32px;\n",
              "  }\n",
              "\n",
              "  .colab-df-quickchart:hover {\n",
              "    background-color: var(--hover-bg-color);\n",
              "    box-shadow: 0 1px 2px rgba(60, 64, 67, 0.3), 0 1px 3px 1px rgba(60, 64, 67, 0.15);\n",
              "    fill: var(--button-hover-fill-color);\n",
              "  }\n",
              "\n",
              "  .colab-df-quickchart-complete:disabled,\n",
              "  .colab-df-quickchart-complete:disabled:hover {\n",
              "    background-color: var(--disabled-bg-color);\n",
              "    fill: var(--disabled-fill-color);\n",
              "    box-shadow: none;\n",
              "  }\n",
              "\n",
              "  .colab-df-spinner {\n",
              "    border: 2px solid var(--fill-color);\n",
              "    border-color: transparent;\n",
              "    border-bottom-color: var(--fill-color);\n",
              "    animation:\n",
              "      spin 1s steps(1) infinite;\n",
              "  }\n",
              "\n",
              "  @keyframes spin {\n",
              "    0% {\n",
              "      border-color: transparent;\n",
              "      border-bottom-color: var(--fill-color);\n",
              "      border-left-color: var(--fill-color);\n",
              "    }\n",
              "    20% {\n",
              "      border-color: transparent;\n",
              "      border-left-color: var(--fill-color);\n",
              "      border-top-color: var(--fill-color);\n",
              "    }\n",
              "    30% {\n",
              "      border-color: transparent;\n",
              "      border-left-color: var(--fill-color);\n",
              "      border-top-color: var(--fill-color);\n",
              "      border-right-color: var(--fill-color);\n",
              "    }\n",
              "    40% {\n",
              "      border-color: transparent;\n",
              "      border-right-color: var(--fill-color);\n",
              "      border-top-color: var(--fill-color);\n",
              "    }\n",
              "    60% {\n",
              "      border-color: transparent;\n",
              "      border-right-color: var(--fill-color);\n",
              "    }\n",
              "    80% {\n",
              "      border-color: transparent;\n",
              "      border-right-color: var(--fill-color);\n",
              "      border-bottom-color: var(--fill-color);\n",
              "    }\n",
              "    90% {\n",
              "      border-color: transparent;\n",
              "      border-bottom-color: var(--fill-color);\n",
              "    }\n",
              "  }\n",
              "</style>\n",
              "\n",
              "  <script>\n",
              "    async function quickchart(key) {\n",
              "      const quickchartButtonEl =\n",
              "        document.querySelector('#' + key + ' button');\n",
              "      quickchartButtonEl.disabled = true;  // To prevent multiple clicks.\n",
              "      quickchartButtonEl.classList.add('colab-df-spinner');\n",
              "      try {\n",
              "        const charts = await google.colab.kernel.invokeFunction(\n",
              "            'suggestCharts', [key], {});\n",
              "      } catch (error) {\n",
              "        console.error('Error during call to suggestCharts:', error);\n",
              "      }\n",
              "      quickchartButtonEl.classList.remove('colab-df-spinner');\n",
              "      quickchartButtonEl.classList.add('colab-df-quickchart-complete');\n",
              "    }\n",
              "    (() => {\n",
              "      let quickchartButtonEl =\n",
              "        document.querySelector('#df-50640ce4-bc06-405d-af82-4b0f27cb7b92 button');\n",
              "      quickchartButtonEl.style.display =\n",
              "        google.colab.kernel.accessAllowed ? 'block' : 'none';\n",
              "    })();\n",
              "  </script>\n",
              "</div>\n",
              "    </div>\n",
              "  </div>\n"
            ]
          },
          "metadata": {},
          "execution_count": 23
        }
      ]
    },
    {
      "cell_type": "code",
      "source": [
        "# Описательные статистики длительности разговора total_work_df\n",
        "pd.concat([total_work_df['Длительность разговора'][total_work_df['Класс'] == 'Целевой'].describe(),\n",
        "           total_work_df['Длительность разговора'][total_work_df['Класс'] != 'Целевой'].describe()],\n",
        "          axis=1,\n",
        "          keys=['Целевые звонки', 'Нецелевые звонки'])"
      ],
      "metadata": {
        "colab": {
          "base_uri": "https://localhost:8080/",
          "height": 300
        },
        "id": "xyxiXqVjnmFP",
        "outputId": "846191cc-ae94-4f2f-818f-687be41a0669"
      },
      "execution_count": 24,
      "outputs": [
        {
          "output_type": "execute_result",
          "data": {
            "text/plain": [
              "       Целевые звонки  Нецелевые звонки\n",
              "count     2304.000000       4620.000000\n",
              "mean       373.498698         84.407576\n",
              "std        284.829923        157.380757\n",
              "min          0.000000          0.000000\n",
              "25%        169.000000         10.000000\n",
              "50%        315.000000         33.000000\n",
              "75%        497.000000         90.000000\n",
              "max       2937.000000       3591.000000"
            ],
            "text/html": [
              "\n",
              "  <div id=\"df-8acf5cf3-d0af-480f-9268-26ef0f8f76a7\" class=\"colab-df-container\">\n",
              "    <div>\n",
              "<style scoped>\n",
              "    .dataframe tbody tr th:only-of-type {\n",
              "        vertical-align: middle;\n",
              "    }\n",
              "\n",
              "    .dataframe tbody tr th {\n",
              "        vertical-align: top;\n",
              "    }\n",
              "\n",
              "    .dataframe thead th {\n",
              "        text-align: right;\n",
              "    }\n",
              "</style>\n",
              "<table border=\"1\" class=\"dataframe\">\n",
              "  <thead>\n",
              "    <tr style=\"text-align: right;\">\n",
              "      <th></th>\n",
              "      <th>Целевые звонки</th>\n",
              "      <th>Нецелевые звонки</th>\n",
              "    </tr>\n",
              "  </thead>\n",
              "  <tbody>\n",
              "    <tr>\n",
              "      <th>count</th>\n",
              "      <td>2304.000000</td>\n",
              "      <td>4620.000000</td>\n",
              "    </tr>\n",
              "    <tr>\n",
              "      <th>mean</th>\n",
              "      <td>373.498698</td>\n",
              "      <td>84.407576</td>\n",
              "    </tr>\n",
              "    <tr>\n",
              "      <th>std</th>\n",
              "      <td>284.829923</td>\n",
              "      <td>157.380757</td>\n",
              "    </tr>\n",
              "    <tr>\n",
              "      <th>min</th>\n",
              "      <td>0.000000</td>\n",
              "      <td>0.000000</td>\n",
              "    </tr>\n",
              "    <tr>\n",
              "      <th>25%</th>\n",
              "      <td>169.000000</td>\n",
              "      <td>10.000000</td>\n",
              "    </tr>\n",
              "    <tr>\n",
              "      <th>50%</th>\n",
              "      <td>315.000000</td>\n",
              "      <td>33.000000</td>\n",
              "    </tr>\n",
              "    <tr>\n",
              "      <th>75%</th>\n",
              "      <td>497.000000</td>\n",
              "      <td>90.000000</td>\n",
              "    </tr>\n",
              "    <tr>\n",
              "      <th>max</th>\n",
              "      <td>2937.000000</td>\n",
              "      <td>3591.000000</td>\n",
              "    </tr>\n",
              "  </tbody>\n",
              "</table>\n",
              "</div>\n",
              "    <div class=\"colab-df-buttons\">\n",
              "\n",
              "  <div class=\"colab-df-container\">\n",
              "    <button class=\"colab-df-convert\" onclick=\"convertToInteractive('df-8acf5cf3-d0af-480f-9268-26ef0f8f76a7')\"\n",
              "            title=\"Convert this dataframe to an interactive table.\"\n",
              "            style=\"display:none;\">\n",
              "\n",
              "  <svg xmlns=\"http://www.w3.org/2000/svg\" height=\"24px\" viewBox=\"0 -960 960 960\">\n",
              "    <path d=\"M120-120v-720h720v720H120Zm60-500h600v-160H180v160Zm220 220h160v-160H400v160Zm0 220h160v-160H400v160ZM180-400h160v-160H180v160Zm440 0h160v-160H620v160ZM180-180h160v-160H180v160Zm440 0h160v-160H620v160Z\"/>\n",
              "  </svg>\n",
              "    </button>\n",
              "\n",
              "  <style>\n",
              "    .colab-df-container {\n",
              "      display:flex;\n",
              "      gap: 12px;\n",
              "    }\n",
              "\n",
              "    .colab-df-convert {\n",
              "      background-color: #E8F0FE;\n",
              "      border: none;\n",
              "      border-radius: 50%;\n",
              "      cursor: pointer;\n",
              "      display: none;\n",
              "      fill: #1967D2;\n",
              "      height: 32px;\n",
              "      padding: 0 0 0 0;\n",
              "      width: 32px;\n",
              "    }\n",
              "\n",
              "    .colab-df-convert:hover {\n",
              "      background-color: #E2EBFA;\n",
              "      box-shadow: 0px 1px 2px rgba(60, 64, 67, 0.3), 0px 1px 3px 1px rgba(60, 64, 67, 0.15);\n",
              "      fill: #174EA6;\n",
              "    }\n",
              "\n",
              "    .colab-df-buttons div {\n",
              "      margin-bottom: 4px;\n",
              "    }\n",
              "\n",
              "    [theme=dark] .colab-df-convert {\n",
              "      background-color: #3B4455;\n",
              "      fill: #D2E3FC;\n",
              "    }\n",
              "\n",
              "    [theme=dark] .colab-df-convert:hover {\n",
              "      background-color: #434B5C;\n",
              "      box-shadow: 0px 1px 3px 1px rgba(0, 0, 0, 0.15);\n",
              "      filter: drop-shadow(0px 1px 2px rgba(0, 0, 0, 0.3));\n",
              "      fill: #FFFFFF;\n",
              "    }\n",
              "  </style>\n",
              "\n",
              "    <script>\n",
              "      const buttonEl =\n",
              "        document.querySelector('#df-8acf5cf3-d0af-480f-9268-26ef0f8f76a7 button.colab-df-convert');\n",
              "      buttonEl.style.display =\n",
              "        google.colab.kernel.accessAllowed ? 'block' : 'none';\n",
              "\n",
              "      async function convertToInteractive(key) {\n",
              "        const element = document.querySelector('#df-8acf5cf3-d0af-480f-9268-26ef0f8f76a7');\n",
              "        const dataTable =\n",
              "          await google.colab.kernel.invokeFunction('convertToInteractive',\n",
              "                                                    [key], {});\n",
              "        if (!dataTable) return;\n",
              "\n",
              "        const docLinkHtml = 'Like what you see? Visit the ' +\n",
              "          '<a target=\"_blank\" href=https://colab.research.google.com/notebooks/data_table.ipynb>data table notebook</a>'\n",
              "          + ' to learn more about interactive tables.';\n",
              "        element.innerHTML = '';\n",
              "        dataTable['output_type'] = 'display_data';\n",
              "        await google.colab.output.renderOutput(dataTable, element);\n",
              "        const docLink = document.createElement('div');\n",
              "        docLink.innerHTML = docLinkHtml;\n",
              "        element.appendChild(docLink);\n",
              "      }\n",
              "    </script>\n",
              "  </div>\n",
              "\n",
              "\n",
              "<div id=\"df-c4f0ac5f-9140-4a52-9fc6-6bbded1b59d0\">\n",
              "  <button class=\"colab-df-quickchart\" onclick=\"quickchart('df-c4f0ac5f-9140-4a52-9fc6-6bbded1b59d0')\"\n",
              "            title=\"Suggest charts\"\n",
              "            style=\"display:none;\">\n",
              "\n",
              "<svg xmlns=\"http://www.w3.org/2000/svg\" height=\"24px\"viewBox=\"0 0 24 24\"\n",
              "     width=\"24px\">\n",
              "    <g>\n",
              "        <path d=\"M19 3H5c-1.1 0-2 .9-2 2v14c0 1.1.9 2 2 2h14c1.1 0 2-.9 2-2V5c0-1.1-.9-2-2-2zM9 17H7v-7h2v7zm4 0h-2V7h2v10zm4 0h-2v-4h2v4z\"/>\n",
              "    </g>\n",
              "</svg>\n",
              "  </button>\n",
              "\n",
              "<style>\n",
              "  .colab-df-quickchart {\n",
              "      --bg-color: #E8F0FE;\n",
              "      --fill-color: #1967D2;\n",
              "      --hover-bg-color: #E2EBFA;\n",
              "      --hover-fill-color: #174EA6;\n",
              "      --disabled-fill-color: #AAA;\n",
              "      --disabled-bg-color: #DDD;\n",
              "  }\n",
              "\n",
              "  [theme=dark] .colab-df-quickchart {\n",
              "      --bg-color: #3B4455;\n",
              "      --fill-color: #D2E3FC;\n",
              "      --hover-bg-color: #434B5C;\n",
              "      --hover-fill-color: #FFFFFF;\n",
              "      --disabled-bg-color: #3B4455;\n",
              "      --disabled-fill-color: #666;\n",
              "  }\n",
              "\n",
              "  .colab-df-quickchart {\n",
              "    background-color: var(--bg-color);\n",
              "    border: none;\n",
              "    border-radius: 50%;\n",
              "    cursor: pointer;\n",
              "    display: none;\n",
              "    fill: var(--fill-color);\n",
              "    height: 32px;\n",
              "    padding: 0;\n",
              "    width: 32px;\n",
              "  }\n",
              "\n",
              "  .colab-df-quickchart:hover {\n",
              "    background-color: var(--hover-bg-color);\n",
              "    box-shadow: 0 1px 2px rgba(60, 64, 67, 0.3), 0 1px 3px 1px rgba(60, 64, 67, 0.15);\n",
              "    fill: var(--button-hover-fill-color);\n",
              "  }\n",
              "\n",
              "  .colab-df-quickchart-complete:disabled,\n",
              "  .colab-df-quickchart-complete:disabled:hover {\n",
              "    background-color: var(--disabled-bg-color);\n",
              "    fill: var(--disabled-fill-color);\n",
              "    box-shadow: none;\n",
              "  }\n",
              "\n",
              "  .colab-df-spinner {\n",
              "    border: 2px solid var(--fill-color);\n",
              "    border-color: transparent;\n",
              "    border-bottom-color: var(--fill-color);\n",
              "    animation:\n",
              "      spin 1s steps(1) infinite;\n",
              "  }\n",
              "\n",
              "  @keyframes spin {\n",
              "    0% {\n",
              "      border-color: transparent;\n",
              "      border-bottom-color: var(--fill-color);\n",
              "      border-left-color: var(--fill-color);\n",
              "    }\n",
              "    20% {\n",
              "      border-color: transparent;\n",
              "      border-left-color: var(--fill-color);\n",
              "      border-top-color: var(--fill-color);\n",
              "    }\n",
              "    30% {\n",
              "      border-color: transparent;\n",
              "      border-left-color: var(--fill-color);\n",
              "      border-top-color: var(--fill-color);\n",
              "      border-right-color: var(--fill-color);\n",
              "    }\n",
              "    40% {\n",
              "      border-color: transparent;\n",
              "      border-right-color: var(--fill-color);\n",
              "      border-top-color: var(--fill-color);\n",
              "    }\n",
              "    60% {\n",
              "      border-color: transparent;\n",
              "      border-right-color: var(--fill-color);\n",
              "    }\n",
              "    80% {\n",
              "      border-color: transparent;\n",
              "      border-right-color: var(--fill-color);\n",
              "      border-bottom-color: var(--fill-color);\n",
              "    }\n",
              "    90% {\n",
              "      border-color: transparent;\n",
              "      border-bottom-color: var(--fill-color);\n",
              "    }\n",
              "  }\n",
              "</style>\n",
              "\n",
              "  <script>\n",
              "    async function quickchart(key) {\n",
              "      const quickchartButtonEl =\n",
              "        document.querySelector('#' + key + ' button');\n",
              "      quickchartButtonEl.disabled = true;  // To prevent multiple clicks.\n",
              "      quickchartButtonEl.classList.add('colab-df-spinner');\n",
              "      try {\n",
              "        const charts = await google.colab.kernel.invokeFunction(\n",
              "            'suggestCharts', [key], {});\n",
              "      } catch (error) {\n",
              "        console.error('Error during call to suggestCharts:', error);\n",
              "      }\n",
              "      quickchartButtonEl.classList.remove('colab-df-spinner');\n",
              "      quickchartButtonEl.classList.add('colab-df-quickchart-complete');\n",
              "    }\n",
              "    (() => {\n",
              "      let quickchartButtonEl =\n",
              "        document.querySelector('#df-c4f0ac5f-9140-4a52-9fc6-6bbded1b59d0 button');\n",
              "      quickchartButtonEl.style.display =\n",
              "        google.colab.kernel.accessAllowed ? 'block' : 'none';\n",
              "    })();\n",
              "  </script>\n",
              "</div>\n",
              "    </div>\n",
              "  </div>\n"
            ]
          },
          "metadata": {},
          "execution_count": 24
        }
      ]
    }
  ]
}