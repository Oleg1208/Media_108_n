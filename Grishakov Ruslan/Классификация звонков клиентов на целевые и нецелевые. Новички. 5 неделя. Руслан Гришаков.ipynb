{
  "nbformat": 4,
  "nbformat_minor": 0,
  "metadata": {
    "colab": {
      "provenance": [],
      "collapsed_sections": [
        "CIgT9kE4KHqe",
        "pTohUadq_HUC",
        "GeEu96leTaL6",
        "KXdYsYQmr1Aq",
        "4BipOv18sV2n",
        "1PeeinuNtAEe",
        "pdrl0p3jhcuo",
        "rVDYF0C9YQcB",
        "shwe_q3BV8Vr",
        "n8PGtZ3R9BrV",
        "naoh39F90_sR",
        "nLZlWqBHXTRT",
        "0sO_EMpSCInU",
        "Qc_5op8jCInW",
        "zfUr1BD9CInp",
        "7cmY0IvwCInp",
        "T-LYA8WTCInt",
        "ddqXX4HKCInw",
        "-ihLQnTWCIn_",
        "W_VNetFVCIoC",
        "AudXiLZpXdsW",
        "tEF2twPbCIoF",
        "hGgjtDmiCIoH",
        "LtXQd2ARM1i8",
        "Fig-fZc_M1i9",
        "v476C60iM1jQ",
        "IBU4Y16dM1jR",
        "mzICK7d_M1jW",
        "U2f7FXCWM1jm",
        "ifNPnBQLM1jn",
        "yDYudgY1M1jq",
        "Auq8yDWoM1j3",
        "NfeIJjkbM1j5",
        "1Wd58dfmM1j8",
        "JboxdOogWyCm",
        "-j_6C6u_WyCw",
        "toOVilZNWyDP",
        "YM7ud-1-WyDQ",
        "ny0uIDu2WyDV",
        "Ioe-vA_vWyDl",
        "oEXIMjsiWyDn",
        "62lmUyqgWyDq",
        "wi6JeCQCWyD4",
        "RORpMyb1WyD6",
        "E_hV7RCpWyD9",
        "bSHed3Lj_fNP",
        "g6GOaeHz_fNT",
        "a2FQcImK_fNU",
        "YxO3OITr_fNY",
        "RhFWIhVt_fNZ",
        "ynUPgS9C_fNd",
        "22CNjBqW_fNh",
        "x8pG4qMv_fNj",
        "VxH9YlSn_fNl",
        "0l_MCr--_fNm",
        "LtyqiQVu_fNq",
        "1-iCfh8B_fNs",
        "HdEXJOrA_fNt",
        "4t1Rjort_fNt",
        "hLNeUGJP_fNw",
        "amdDYotl_fNw",
        "eoyFUbF2_fNx",
        "YtugtaER_fN1",
        "-qSxi82c_fN5",
        "bBDBp3WI_fN7",
        "VSQf9ahK_fN8",
        "HjxpufJr_fN_",
        "p2JQjPMW_fOA",
        "pbkUTkhS_fOB",
        "ib86EPkT_fOC",
        "qKCyGQMJ_fOE",
        "h7fBLPS__fOE",
        "EHXqn5bZ_fOH",
        "f254rDv9_fOK",
        "SsbqHOvg_fOM",
        "5_Lx3UOq_fOQ",
        "xxbl4flH_fOS",
        "X3U4HIuS_fOU",
        "ZtfmAoBP_fOV"
      ],
      "gpuType": "T4"
    },
    "kernelspec": {
      "name": "python3",
      "display_name": "Python 3"
    },
    "language_info": {
      "name": "python"
    },
    "accelerator": "GPU"
  },
  "cells": [
    {
      "cell_type": "markdown",
      "source": [
        "# [Техническое задание](https://docs.google.com/document/d/1ZIu6daXZRuDR796AHjKCku643hlM3xgYxW9E84DBJFc/edit?usp=sharing)"
      ],
      "metadata": {
        "id": "CIgT9kE4KHqe"
      }
    },
    {
      "cell_type": "markdown",
      "source": [
        "**Проект:** Классификация аудиозвонков на целевые и нецелевые."
      ],
      "metadata": {
        "id": "FaaxUmqWKHqt"
      }
    },
    {
      "cell_type": "markdown",
      "source": [
        "**Цель проекта:** Разработать нейронную сеть, способную классифицировать аудиозвонки на целевые и нецелевые на основе предоставленной базы данных и csv-таблицы с описаниями и метками классов."
      ],
      "metadata": {
        "id": "GQSHmPOcKHq0"
      }
    },
    {
      "cell_type": "markdown",
      "source": [
        "**Введение:**\n",
        "\n",
        "Входной набор данных представляет из себя два набора файлов:\n",
        "\n",
        "> a)\t[Первый набор файлов](https://drive.google.com/drive/folders/1cQWMpQkscZJbbOTxiJNy0o3nuaeIiB1P?usp=sharing) - это выгрузки в формате `CSV` с информацией по звонкам, а так же с проставленным статусом `“целевой/нецелевой”` в отдельном столбце (обратите внимание, что по проекту `“Павелецкая сити”` две выгрузки - эти наборы данных отличаются и относятся к разным наборам клиентов внутри одного и того же проекта).\n",
        "\n",
        "> b)\t[Второй набор файлов](https://drive.google.com/drive/folders/1K3jGCH60uzFcsI3aj89VIXOOFEXvZxD6?usp=sharing) - аудиозаписи звонков. Они хранятся в корневом каталоге в одноимённых папках. К примеру, в папке `“Записи звонков_павелецкая сити”` лежат записи звонков по проекту `“Павелецкая Сити”`."
      ],
      "metadata": {
        "id": "-UhJ6TikKHq1"
      }
    },
    {
      "cell_type": "markdown",
      "source": [
        "**Требования:**\n",
        "\n",
        "1.   Нейронная сеть должна быть спроектирована и обучена для точной классификации аудиозвонков на два класса: целевые и нецелевые (с точностью `90+%`).\n",
        "2.   Необходимо обеспечить интеграцию модели через `API`.\n",
        "3.   Модель должна быть оптимизирована для обработки большого объёма данных.\n",
        "4.   Код должен быть написан с соблюдением стандартов кодирования, и должна быть составлена подробная техническая документация.\n",
        "5.   Код должен включать в себя систему журналирования для фиксации ошибок.\n",
        "6.   Код должен принимать на вход регулярное выражение, по которому будет осуществляться проверка столбца `“теги”` в выгрузках `CSV` для определения статуса звонка `“целевой/нецелевой”`:\n",
        "\n",
        ">> a)\tпо проектам `“Примавера”` и `“Павелецкая сити”` наличие в столбце с тегами подстроки `“Целевой_М108“` будет равняться тому, что данный звонок целевой (пример регулярного выражения: `.*Целевой_М108.*`);\n",
        "\n",
        ">> b)\tпо проекту `“Хедлайнер”` - наличие в столбце с тегами подстроки `“первичный целевой“` будет равняться тому, что данный звонок целевой.\n",
        "\n",
        "7.   После реализации необходимо иметь возможность получения поддержки по предоставленному решению в течение `2 месяцев`."
      ],
      "metadata": {
        "id": "13vIGhs0KHq4"
      }
    },
    {
      "cell_type": "markdown",
      "source": [
        "Список рекомендуемых параметров для звуковой записи (данный список носит информационный характер и не является обязательным):\n",
        "\n",
        "*   Эмоция (базовые 11: радость; печаль; гнев; отвращение; удивление; страдание (горе); волнение (интерес); презрение; смущение; стыд; вина).\n",
        "*   Пол.\n",
        "*   Возраст.\n",
        "*   Семантический анализ диалога (по конкретным ключевым словам и/или по тематикам диалогов).\n",
        "*   Характеристики, присутствующие в `CSV`/`XLSX` таблицах."
      ],
      "metadata": {
        "id": "seG9MxfuKHq6"
      }
    },
    {
      "cell_type": "markdown",
      "source": [
        "# Критерии классификации"
      ],
      "metadata": {
        "id": "pTohUadq_HUC"
      }
    },
    {
      "cell_type": "markdown",
      "source": [
        "Критерии `уникально-целевого` обращения:\n",
        "1. Длительность звонка должна быть не менее `75 секунд`;\n",
        "2. Телефонный номер абонента должен быть `уникальным`, т. е. его не должно быть в `CRM` заказчика. Либо, по нему не должно быть активности за последние `90 дней`. Исключение составляют `топовые площадки`, работающие по своим критериям (`ЦИАН`, `Яндекс.Недвижимость`, `Авито`, и т. д.);\n",
        "3. Клиент должен знать минимальную информацию об объекте (понимать, куда он звонит): название `ЖК`, расположение, ценовую политику;\n",
        "4. Номер абонента должен быть доступен в течение `15 дней` после совершённого звонка (при этом со стороны заказчика должно быть обеспечено `2 попытки` исходящего звонка в течение указанного срока);\n",
        "5. Клиент должен быть `«адекватным»`. Не общаться на повышенных тонах, не употреблять ненормативную лексику и т. д.;\n",
        "6. Клиент не должен быть повторным. Например, клиент `уже` купил квартиру и через `90 дней` решил купить машиноместо;\n",
        "7. Заявка. В заявке должен быть указан номер телефона, а абонент при контакте с менеджером должен соответствовать всем критериям `уникально-целевого` обращения, перечисленным выше;\n",
        "8. Озвученный общий бюджет покупки не должен быть `ниже 90%` от стоимости квартиры или коммерческого помещения, соответствующих площади/комнатности на момент обращения;\n",
        "9. В случае, если клиент является уникальным, интересуется покупкой недвижимости, не является представителем партнёров или исполнителей и изъявил желание посетить офис продаж. При этом не обязательна фиксация уровня знания клиента об объекте в диалоге. При этом источник не должен относиться к каналам `«лидогенерация»` или `«тематические площадки»`;\n",
        "10. Основной целью звонка клиента не должна являться покупка/аренда исключительно нежилого помещения, если это не являлось целью проводимой рекламной кампании.\n",
        "\n",
        "Критерии НЕ `уникально-целевого` (вторичного) обращения:\n",
        "1. Клиент позвонил повторно менее чем через `3 месяца` (`90 дней`) с момента последнего обращения;\n",
        "2. Клиент, либо члены его семьи, уже купил (купили) `квартиру`/`машиноместо`/`кладовое помещение`, и хочет (хотят) совершить ещё одну покупку. В данном случае клиент относится к показателю `LTV` (показатель прибыли, которую компания получает от одного клиента за всё время работы с ним)."
      ],
      "metadata": {
        "id": "F1Im0SOi_S8W"
      }
    },
    {
      "cell_type": "markdown",
      "source": [
        "# [Датафреймы](https://drive.google.com/drive/folders/111abiHt33Q-SV48pBPhEgDCZDI5KshnF?usp=sharing)"
      ],
      "metadata": {
        "id": "GeEu96leTaL6"
      }
    },
    {
      "cell_type": "markdown",
      "source": [
        "## Headliner"
      ],
      "metadata": {
        "id": "KXdYsYQmr1Aq"
      }
    },
    {
      "cell_type": "markdown",
      "source": [
        "*   [`Headliner_df.pkl` Информация о звонках `Headliner`](https://drive.google.com/file/d/13mUHwvx79O4P-AucRdjBYkN5ha8LnCSp/view?usp=sharing)\n",
        "*   [`Headliner_new_df.pkl` Информация о новых звонках `Headliner`](https://drive.google.com/file/d/1-Q1BxLbot7svY5hiqOquHRFvSOcwtpKS/view?usp=sharing)"
      ],
      "metadata": {
        "id": "d5AY3J4YBxrC"
      }
    },
    {
      "cell_type": "markdown",
      "source": [
        "*   [`Headliner_calls_df.pkl` Файлы записей звонков `Headliner`](https://drive.google.com/file/d/13pmGEYacsEHjYsIsYgf6fg4MUHAw509y/view?usp=sharing)\n",
        "*   [`Headliner_new_calls_df.pkl` Файлы записей новых звонков `Headliner`](https://drive.google.com/file/d/1-Ke1q42th_NV0og0e01_-mvJ8HL8JzfS/view?usp=sharing)"
      ],
      "metadata": {
        "id": "to-Y1bSQr-4P"
      }
    },
    {
      "cell_type": "markdown",
      "source": [
        "*   [`Headliner_all_df.pkl` Информация о всех звонках `Headliner`](https://drive.google.com/file/d/1857LwaVtJ364yFMpXemILSuVu84YEPPw/view?usp=sharing)\n",
        "*   [`Headliner_work_df.pkl` Рабочий датафрейм с информацией о всех звонках `Headliner`](https://drive.google.com/file/d/1-HOWuSAngv9dXYiMlyRXX0kmVVAAT4sV/view?usp=sharing)\n",
        "*   [`Headliner_targets_df.pkl` Целевые звонки `Headliner`](https://drive.google.com/file/d/1-J1gcgb2mrNDx3R_3l12kq0htS8PTkSv/view?usp=sharing)\n",
        "*   [`Headliner_not_targets_df.pkl` Нецелевые звонки `Headliner`](https://drive.google.com/file/d/1dGf3UrVeQg0VfFhBL_lZfm-gaczPYBnL/view?usp=sharing)\n",
        "*   [`Headliner_moot_df.pkl` Спорные звонки `Headliner`](https://drive.google.com/file/d/1-7vtN8vJNWgWfY8JE8bqoRXkUpvRE_og/view?usp=sharing)"
      ],
      "metadata": {
        "id": "15htzuzHJkr1"
      }
    },
    {
      "cell_type": "markdown",
      "source": [
        "## Primavera"
      ],
      "metadata": {
        "id": "4BipOv18sV2n"
      }
    },
    {
      "cell_type": "markdown",
      "source": [
        "*   [`Primavera_df.pkl` Информация о звонках `Primavera`](https://drive.google.com/file/d/1-3csPnjIJXviKJzvbpCfOm29nBgl8L4Q/view?usp=sharing)\n",
        "*   [`Primavera_new_df.pkl` Информация о новых звонках `Primavera`](https://drive.google.com/file/d/1-QmWkabU2_cyrXPeVaiHSt2e6sLuiCtp/view?usp=sharing)"
      ],
      "metadata": {
        "id": "b8tnpm8LB43M"
      }
    },
    {
      "cell_type": "markdown",
      "source": [
        "*   [`Primavera_calls_df.pkl` Файлы записей звонков `Primavera`](https://drive.google.com/file/d/1-CLRfPyaGSc61OopNuFRlWTG-CBCaM1F/view?usp=sharing)\n",
        "*   [`Primavera_new_calls_df.pkl` Файлы записей новых звонков `Primavera`](https://drive.google.com/file/d/1-Lxa0KifMiByareL94rdEzEpvvMj4D1T/view?usp=sharing)"
      ],
      "metadata": {
        "id": "ODp0MWUysgH-"
      }
    },
    {
      "cell_type": "markdown",
      "source": [
        "*   [`Primavera_all_df.pkl` Информация о всех звонках `Primavera`](https://drive.google.com/file/d/1-2-RlxkKHj5e6RkvbrN7_vs1h5aVXJFk/view?usp=sharing)\n",
        "*   [`Primavera_work_df.pkl` Рабочий датафрейм с информацией о всех звонках `Primavera`](https://drive.google.com/file/d/1-INI9JsU9jsOkPDiGMKhftt18KXgF6-K/view?usp=sharing)\n",
        "*   [`Primavera_targets_df.pkl` Целевые звонки `Primavera`](https://drive.google.com/file/d/1-JVtM9fOr6XoM7MVxkoVsYfwdZ6GQ--i/view?usp=sharing)\n",
        "*   [`Primavera_not_targets_df.pkl` Нецелевые звонки `Primavera`](https://drive.google.com/file/d/1-KwG8M-0wEn-5C4ta-B8_xYGCXDOhpnH/view?usp=sharing)"
      ],
      "metadata": {
        "id": "7JWVpnvgKgXS"
      }
    },
    {
      "cell_type": "markdown",
      "source": [
        "## Paveletskaya_city"
      ],
      "metadata": {
        "id": "1PeeinuNtAEe"
      }
    },
    {
      "cell_type": "markdown",
      "source": [
        "*   [`Paveletskaya_city_df.pkl` Информация о звонках `Paveletskaya_city`](https://drive.google.com/file/d/1-99dLkSvU3wdwjkGJpwpYUXQjxx8dwEu/view?usp=sharing)\n",
        "*   [`Paveletskaya_df.pkl` Информация о звонках `Paveletskaya_city`](https://drive.google.com/file/d/1-D6LlCFXQBMHceujvnq9H8rlx2jAnzmT/view?usp=sharing)\n",
        "*   [`Paveletskaya_city_new_df.pkl` Информация о новых звонках `Paveletskaya_city`](https://drive.google.com/file/d/1-Rtw9a1no3mKatUjc_FNv_bgUBdNrs_d/view?usp=sharing)"
      ],
      "metadata": {
        "id": "6IsB_F4xCAdL"
      }
    },
    {
      "cell_type": "markdown",
      "source": [
        "*   [`Paveletskaya_city_calls_df.pkl` Файлы записей звонков `Paveletskaya_city`](https://drive.google.com/file/d/1-JevsfOpxzLNZmSs34qrswhGzhPwf69S/view?usp=sharing)\n",
        "*   [`Paveletskaya_city_new_calls_df.pkl` Файлы записей новых звонков `Paveletskaya_city`](https://drive.google.com/file/d/1-ODEeFLv15DN5bfLlwyrTx8D3yxydhP9/view?usp=sharing)"
      ],
      "metadata": {
        "id": "N2krmwIptKI9"
      }
    },
    {
      "cell_type": "markdown",
      "source": [
        "*   [`Paveletskaya_city_all_df.pkl` Информация о всех звонках `Paveletskaya_city`](https://drive.google.com/file/d/1-Cy78DqRZ3sbIHkg25wzVWPL-lST5oQa/view?usp=sharing)\n",
        "*   [`Paveletskaya_city_work_df.pkl` Рабочий датафрейм с информацией о всех звонках `Paveletskaya_city`](https://drive.google.com/file/d/1-J1BoALFH4-HRdVXjnkyr-fExmtQpUc7/view?usp=sharing)\n",
        "*   [`Paveletskaya_city_targets_df.pkl` Целевые звонки `Paveletskaya_city`](https://drive.google.com/file/d/1-MrjnBHDj65CEjJxLfPnp-hq07V_wtZK/view?usp=sharing)\n",
        "*   [`Paveletskaya_city_not_targets_df.pkl` Нецелевые звонки `Paveletskaya_city`](https://drive.google.com/file/d/1-WCCyYaorHkBYoh5ugNsCkD7cb1PKH6D/view?usp=sharing)"
      ],
      "metadata": {
        "id": "XUeydaKCLkch"
      }
    },
    {
      "cell_type": "markdown",
      "source": [
        "## Сводные датафреймы"
      ],
      "metadata": {
        "id": "pdrl0p3jhcuo"
      }
    },
    {
      "cell_type": "markdown",
      "source": [
        "*   [`total_df.pkl` Сводный датафрейм с информацией о всех звонках](https://drive.google.com/file/d/15ijhw62sp2JNH6pryqZtM5akQHUnsTzi/view?usp=sharing)\n",
        "*   [`total_work_df.pkl` Сводный рабочий датафрейм с информацией о всех звонках](https://drive.google.com/file/d/1-056tLrjP5yRQW8yRtwutvXs3zmPulW7/view?usp=sharing)"
      ],
      "metadata": {
        "id": "388pbSo-pynK"
      }
    },
    {
      "cell_type": "markdown",
      "source": [
        "# 5 неделя"
      ],
      "metadata": {
        "id": "rVDYF0C9YQcB"
      }
    },
    {
      "cell_type": "code",
      "source": [
        "!rm -r sample_data"
      ],
      "metadata": {
        "id": "9KuUYa49Vo8A"
      },
      "execution_count": 1,
      "outputs": []
    },
    {
      "cell_type": "code",
      "source": [
        "# Подключаем google-диск\n",
        "from google.colab import drive\n",
        "drive.mount('/content/drive')\n",
        "my_drv_path = '/content/drive/MyDrive/'"
      ],
      "metadata": {
        "colab": {
          "base_uri": "https://localhost:8080/"
        },
        "id": "IOx_s0fIVwbK",
        "outputId": "188d1a02-17da-405a-f038-d33d3f6e7712"
      },
      "execution_count": 2,
      "outputs": [
        {
          "output_type": "stream",
          "name": "stdout",
          "text": [
            "Mounted at /content/drive\n"
          ]
        }
      ]
    },
    {
      "cell_type": "markdown",
      "source": [
        "## Библиотеки и переменные"
      ],
      "metadata": {
        "id": "shwe_q3BV8Vr"
      }
    },
    {
      "cell_type": "code",
      "source": [
        "# Установка cohere openai tiktoken\n",
        "!pip -q install cohere openai tiktoken"
      ],
      "metadata": {
        "id": "qyqz872j0Pk4",
        "colab": {
          "base_uri": "https://localhost:8080/"
        },
        "outputId": "fa50ded1-2847-4180-fcbf-4e2c668608a8"
      },
      "execution_count": 3,
      "outputs": [
        {
          "output_type": "stream",
          "name": "stdout",
          "text": [
            "\u001b[?25l     \u001b[90m━━━━━━━━━━━━━━━━━━━━━━━━━━━━━━━━━━━━━━━━\u001b[0m \u001b[32m0.0/48.9 kB\u001b[0m \u001b[31m?\u001b[0m eta \u001b[36m-:--:--\u001b[0m\r\u001b[2K     \u001b[90m━━━━━━━━━━━━━━━━━━━━━━━━━━━━━━━━━━━━━━━━\u001b[0m \u001b[32m48.9/48.9 kB\u001b[0m \u001b[31m1.5 MB/s\u001b[0m eta \u001b[36m0:00:00\u001b[0m\n",
            "\u001b[2K     \u001b[90m━━━━━━━━━━━━━━━━━━━━━━━━━━━━━━━━━━━━━━━━\u001b[0m \u001b[32m220.5/220.5 kB\u001b[0m \u001b[31m7.6 MB/s\u001b[0m eta \u001b[36m0:00:00\u001b[0m\n",
            "\u001b[2K     \u001b[90m━━━━━━━━━━━━━━━━━━━━━━━━━━━━━━━━━━━━━━━━\u001b[0m \u001b[32m2.0/2.0 MB\u001b[0m \u001b[31m89.5 MB/s\u001b[0m eta \u001b[36m0:00:00\u001b[0m\n",
            "\u001b[2K     \u001b[90m━━━━━━━━━━━━━━━━━━━━━━━━━━━━━━━━━━━━━━━━\u001b[0m \u001b[32m2.7/2.7 MB\u001b[0m \u001b[31m91.0 MB/s\u001b[0m eta \u001b[36m0:00:00\u001b[0m\n",
            "\u001b[2K     \u001b[90m━━━━━━━━━━━━━━━━━━━━━━━━━━━━━━━━━━━━━━━━\u001b[0m \u001b[32m75.0/75.0 kB\u001b[0m \u001b[31m10.3 MB/s\u001b[0m eta \u001b[36m0:00:00\u001b[0m\n",
            "\u001b[2K     \u001b[90m━━━━━━━━━━━━━━━━━━━━━━━━━━━━━━━━━━━━━━━━\u001b[0m \u001b[32m76.9/76.9 kB\u001b[0m \u001b[31m11.2 MB/s\u001b[0m eta \u001b[36m0:00:00\u001b[0m\n",
            "\u001b[2K     \u001b[90m━━━━━━━━━━━━━━━━━━━━━━━━━━━━━━━━━━━━━━━━\u001b[0m \u001b[32m58.3/58.3 kB\u001b[0m \u001b[31m8.0 MB/s\u001b[0m eta \u001b[36m0:00:00\u001b[0m\n",
            "\u001b[?25h"
          ]
        }
      ]
    },
    {
      "cell_type": "code",
      "source": [
        "# Установка openai-whisper\n",
        "!pip install git+https://github.com/openai/whisper.git"
      ],
      "metadata": {
        "id": "ROz-A4Dk0UMK",
        "colab": {
          "base_uri": "https://localhost:8080/"
        },
        "outputId": "589d0586-c4f8-4a4e-d2b9-d73d253f3071"
      },
      "execution_count": 4,
      "outputs": [
        {
          "output_type": "stream",
          "name": "stdout",
          "text": [
            "Collecting git+https://github.com/openai/whisper.git\n",
            "  Cloning https://github.com/openai/whisper.git to /tmp/pip-req-build-is3n2zdv\n",
            "  Running command git clone --filter=blob:none --quiet https://github.com/openai/whisper.git /tmp/pip-req-build-is3n2zdv\n",
            "  Resolved https://github.com/openai/whisper.git to commit e58f28804528831904c3b6f2c0e473f346223433\n",
            "  Installing build dependencies ... \u001b[?25l\u001b[?25hdone\n",
            "  Getting requirements to build wheel ... \u001b[?25l\u001b[?25hdone\n",
            "  Preparing metadata (pyproject.toml) ... \u001b[?25l\u001b[?25hdone\n",
            "Requirement already satisfied: triton<3,>=2.0.0 in /usr/local/lib/python3.10/dist-packages (from openai-whisper==20231117) (2.1.0)\n",
            "Requirement already satisfied: numba in /usr/local/lib/python3.10/dist-packages (from openai-whisper==20231117) (0.58.1)\n",
            "Requirement already satisfied: numpy in /usr/local/lib/python3.10/dist-packages (from openai-whisper==20231117) (1.23.5)\n",
            "Requirement already satisfied: torch in /usr/local/lib/python3.10/dist-packages (from openai-whisper==20231117) (2.1.0+cu118)\n",
            "Requirement already satisfied: tqdm in /usr/local/lib/python3.10/dist-packages (from openai-whisper==20231117) (4.66.1)\n",
            "Requirement already satisfied: more-itertools in /usr/local/lib/python3.10/dist-packages (from openai-whisper==20231117) (10.1.0)\n",
            "Requirement already satisfied: tiktoken in /usr/local/lib/python3.10/dist-packages (from openai-whisper==20231117) (0.5.1)\n",
            "Requirement already satisfied: filelock in /usr/local/lib/python3.10/dist-packages (from triton<3,>=2.0.0->openai-whisper==20231117) (3.13.1)\n",
            "Requirement already satisfied: llvmlite<0.42,>=0.41.0dev0 in /usr/local/lib/python3.10/dist-packages (from numba->openai-whisper==20231117) (0.41.1)\n",
            "Requirement already satisfied: regex>=2022.1.18 in /usr/local/lib/python3.10/dist-packages (from tiktoken->openai-whisper==20231117) (2023.6.3)\n",
            "Requirement already satisfied: requests>=2.26.0 in /usr/local/lib/python3.10/dist-packages (from tiktoken->openai-whisper==20231117) (2.31.0)\n",
            "Requirement already satisfied: typing-extensions in /usr/local/lib/python3.10/dist-packages (from torch->openai-whisper==20231117) (4.5.0)\n",
            "Requirement already satisfied: sympy in /usr/local/lib/python3.10/dist-packages (from torch->openai-whisper==20231117) (1.12)\n",
            "Requirement already satisfied: networkx in /usr/local/lib/python3.10/dist-packages (from torch->openai-whisper==20231117) (3.2.1)\n",
            "Requirement already satisfied: jinja2 in /usr/local/lib/python3.10/dist-packages (from torch->openai-whisper==20231117) (3.1.2)\n",
            "Requirement already satisfied: fsspec in /usr/local/lib/python3.10/dist-packages (from torch->openai-whisper==20231117) (2023.6.0)\n",
            "Requirement already satisfied: charset-normalizer<4,>=2 in /usr/local/lib/python3.10/dist-packages (from requests>=2.26.0->tiktoken->openai-whisper==20231117) (3.3.2)\n",
            "Requirement already satisfied: idna<4,>=2.5 in /usr/local/lib/python3.10/dist-packages (from requests>=2.26.0->tiktoken->openai-whisper==20231117) (3.4)\n",
            "Requirement already satisfied: urllib3<3,>=1.21.1 in /usr/local/lib/python3.10/dist-packages (from requests>=2.26.0->tiktoken->openai-whisper==20231117) (2.0.7)\n",
            "Requirement already satisfied: certifi>=2017.4.17 in /usr/local/lib/python3.10/dist-packages (from requests>=2.26.0->tiktoken->openai-whisper==20231117) (2023.7.22)\n",
            "Requirement already satisfied: MarkupSafe>=2.0 in /usr/local/lib/python3.10/dist-packages (from jinja2->torch->openai-whisper==20231117) (2.1.3)\n",
            "Requirement already satisfied: mpmath>=0.19 in /usr/local/lib/python3.10/dist-packages (from sympy->torch->openai-whisper==20231117) (1.3.0)\n",
            "Building wheels for collected packages: openai-whisper\n",
            "  Building wheel for openai-whisper (pyproject.toml) ... \u001b[?25l\u001b[?25hdone\n",
            "  Created wheel for openai-whisper: filename=openai_whisper-20231117-py3-none-any.whl size=801358 sha256=c0fb647ed4280460b0c9aa6e89005b7ad18e0541b6ae01913319cb826ff71c48\n",
            "  Stored in directory: /tmp/pip-ephem-wheel-cache-lygunbue/wheels/8b/6c/d0/622666868c179f156cf595c8b6f06f88bc5d80c4b31dccaa03\n",
            "Successfully built openai-whisper\n",
            "Installing collected packages: openai-whisper\n",
            "Successfully installed openai-whisper-20231117\n"
          ]
        }
      ]
    },
    {
      "cell_type": "code",
      "source": [
        "import os            # для работы с операционной системой\n",
        "import pickle as pkl # для сохранения и загрузки переменных\n",
        "import pandas as pd  # для работы с таблицами\n",
        "import numpy  as np  # для работы с массивами\n",
        "import re            # для работы с регулярными выражениями\n",
        "import whisper       # для транскрибации\n",
        "\n",
        "# Параметры отображения датафреймов\n",
        "pd.options.display.max_rows     = 99\n",
        "pd.options.display.max_columns  = 99\n",
        "pd.options.display.max_colwidth = 999\n",
        "\n",
        "work_dir_path              = my_drv_path           + 'media108.ru/Новички/'                # путь к рабочей папке\n",
        "df_path                    = work_dir_path         + 'Датафреймы/'                         # путь к папке для датафреймов\n",
        "table_path                 = work_dir_path         + 'Таблицы/'                            # путь к папке для таблиц\n",
        "model_path                 = work_dir_path         + 'Модели/'                             # путь к папке для моделей нейронных сетей\n",
        "all_dataset_path           = work_dir_path         + 'Датасет/'                            # путь к папке всего датасета в целом\n",
        "dataset_path               = all_dataset_path      + 'Записи звонков/'                     # путь к записям звонков\n",
        "dataset_info_path          = dataset_path          + 'Информация о звонках/'               # путь к информации о звонках\n",
        "dataset_new_path           = all_dataset_path      + 'Новые записи звонков/'               # путь к новым записям звонков\n",
        "dataset_new_info_path      = dataset_new_path      + 'Информация о звонках/'               # путь к информации о новых звонках\n",
        "Headliner_path             = dataset_path          + 'Записи звонков_хедлайнер'            # путь к записям звонков проекта Headliner\n",
        "Headliner_info             = dataset_info_path     + 'Headliner.csv'                       # путь к информации о звонках проекта Headliner\n",
        "Headliner_new_path         = dataset_new_path      + 'Записи Headliner'                    # путь к записям новых звонков проекта Headliner\n",
        "Headliner_new_info         = dataset_new_info_path + 'Headliner.xlsx'                      # путь к информации о новых звонках проекта Headliner\n",
        "Primavera_path             = dataset_path          + 'Записи звонков_primavera'            # путь к записям звонков проекта Primavera\n",
        "Primavera_info             = dataset_info_path     + 'Primavera .csv'                      # путь к информации о звонках проекта Primavera\n",
        "Primavera_new_path         = dataset_new_path      + 'Записи Primavera'                    # путь к записям новых звонков проекта Primavera\n",
        "Primavera_new_info         = dataset_new_info_path + 'Примавера.xlsx'                      # путь к информации о новых звонках проекта Primavera\n",
        "Paveletskaya_city_path     = dataset_path          + 'Записи звонков_павелецкая сити'      # путь к записям звонков проекта Paveletskaya_city\n",
        "Paveletskaya_city_info     = dataset_info_path     + 'Павелецкая_ЖК_«Павелецкая_сити».csv' # путь к информации о звонках проекта Paveletskaya_city\n",
        "Paveletskaya_info          = dataset_info_path     + 'Павелецкая (pavcity.turbo.site).csv' # путь к информации о звонках проекта Paveletskaya_city\n",
        "Paveletskaya_city_new_path = dataset_new_path      + 'Записи Павелецкая сити'              # путь к записям новых звонков проекта Paveletskaya_city\n",
        "Paveletskaya_city_new_info = dataset_new_info_path + 'Павелецкая сити.xlsx'                # путь к информации о новых звонках проекта Paveletskaya_city\n",
        "\n",
        "transcription_path         = my_drv_path + 'media108.ru/Датасет/Whisper-транскрибация записей звонков/'       # путь к папке транскрибации записей звонков\n",
        "transcription_new_path     = my_drv_path + 'media108.ru/Датасет/Whisper-транскрибация новых записей звонков/' # путь к папке транскрибации новых записей звонков"
      ],
      "metadata": {
        "id": "afuxbj6ibJz2"
      },
      "execution_count": 5,
      "outputs": []
    },
    {
      "cell_type": "markdown",
      "source": [
        "## Функции"
      ],
      "metadata": {
        "id": "n8PGtZ3R9BrV"
      }
    },
    {
      "cell_type": "code",
      "source": [
        "# Функция для создания датафрейма из списка файлов транскрибации звонков\n",
        "def transcriptions_list_to_df(transcriptions_list):\n",
        "\n",
        "  datetime_list    = [] # список для 'Дата и время'\n",
        "  from_number_list = [] # список для 'Номер абонента'\n",
        "  to_number_list   = [] # список для 'Номер сотрудника'\n",
        "  session_list     = [] # список для 'Идентификатор сессии звонка'\n",
        "\n",
        "  # Проходим по списку записей звонков\n",
        "  for transcription in transcriptions_list:\n",
        "\n",
        "    transcription_item_list = transcription.split('_')\n",
        "    time_item_list = transcription_item_list[1].split('.')\n",
        "    time_item_list = time_item_list[0].split('-')\n",
        "\n",
        "    # Заполняем списки для столбцов\n",
        "    datetime_list.append(transcription_item_list[0] + ' ' + time_item_list[0] + ':' + time_item_list[1] + ':' + time_item_list[2])\n",
        "    from_number_list.append(transcription_item_list[3])\n",
        "    to_number_list.append(transcription_item_list[5])\n",
        "    session_list.append(transcription_item_list[7])\n",
        "\n",
        "  # Собираем созданные списки в словарь\n",
        "  transcriptions_dict = dict.fromkeys(['Дата и время', 'Номер абонента', 'Номер сотрудника', 'Идентификатор сессии звонка', 'Файл whisper-транскрибации записи звонка'], [])\n",
        "  transcriptions_dict['Дата и время']                             = datetime_list\n",
        "  transcriptions_dict['Номер абонента']                           = from_number_list\n",
        "  transcriptions_dict['Номер сотрудника']                         = to_number_list\n",
        "  transcriptions_dict['Идентификатор сессии звонка']              = session_list\n",
        "  transcriptions_dict['Файл whisper-транскрибации записи звонка'] = transcriptions_list\n",
        "\n",
        "  # Возвращаем датафрейм\n",
        "  return pd.DataFrame(transcriptions_dict)"
      ],
      "metadata": {
        "id": "IAY_eU_J9TyN"
      },
      "execution_count": 6,
      "outputs": []
    },
    {
      "cell_type": "markdown",
      "source": [
        "## Транскрибация"
      ],
      "metadata": {
        "id": "naoh39F90_sR"
      }
    },
    {
      "cell_type": "code",
      "source": [
        "# Путь для файлов с текстами транскрибации\n",
        "os.makedirs('transcription_files', exist_ok=True)\n",
        "transcription_files_path = 'transcription_files/'"
      ],
      "metadata": {
        "id": "IHJE0kYdhbKp"
      },
      "execution_count": 7,
      "outputs": []
    },
    {
      "cell_type": "code",
      "source": [
        "# Загружаем total_work_df из pkl\n",
        "with open(df_path + 'total_work_df.pkl', 'rb') as f:\n",
        "  total_work_df = pkl.load(f)"
      ],
      "metadata": {
        "id": "xi6cuj2Q24Sm"
      },
      "execution_count": 8,
      "outputs": []
    },
    {
      "cell_type": "code",
      "source": [
        "# Транскрибируем записи звонков и сохраняем тексты звонков в файлы\n",
        "whisper_model = whisper.load_model('large')\n",
        "for file_name in total_work_df['Файл записи звонка'].head().values:\n",
        "  with open(transcription_files_path + os.path.basename(file_name).rstrip('.mp3') + '_whisper_large.txt','w') as f:\n",
        "    f.write(whisper_model.transcribe(all_dataset_path + file_name, language='ru')['text'])"
      ],
      "metadata": {
        "id": "QDRwALsU1EWl",
        "colab": {
          "base_uri": "https://localhost:8080/"
        },
        "outputId": "c72f2209-5892-4840-95c3-dee5d0d1e796"
      },
      "execution_count": 9,
      "outputs": [
        {
          "output_type": "stream",
          "name": "stderr",
          "text": [
            "100%|█████████████████████████████████████| 2.88G/2.88G [00:35<00:00, 86.0MiB/s]\n"
          ]
        }
      ]
    },
    {
      "cell_type": "code",
      "source": [
        "# Файлы с текстами транскрибации\n",
        "os.listdir(transcription_files_path)"
      ],
      "metadata": {
        "colab": {
          "base_uri": "https://localhost:8080/"
        },
        "id": "_Yxd2jp6jnCf",
        "outputId": "ea93f64c-250b-471a-b848-4279418bfcc7"
      },
      "execution_count": 10,
      "outputs": [
        {
          "output_type": "execute_result",
          "data": {
            "text/plain": [
              "['2023-05-08_16-14-10.247769_from_74955199580_to_74997552563_session_2918538922_talk_whisper_large.txt',\n",
              " '2023-05-09_11-53-48.291185_from_79910665524_to_74997552563_session_2919161802_talk_whisper_large.txt',\n",
              " '2023-05-09_17-51-30.193682_from_79670165153_to_0188880_session_2919520238_talk_whisper_large.txt',\n",
              " '2023-05-09_18-34-04.371381_from_79274431546_to_74997552563_session_2919550530_talk_whisper_large.txt',\n",
              " '2023-05-09_20-19-21.050197_from_79274432048_to_74997552563_session_2919615074_talk_whisper_large.txt']"
            ]
          },
          "metadata": {},
          "execution_count": 10
        }
      ]
    },
    {
      "cell_type": "code",
      "source": [
        "# Тексты транскрибации\n",
        "for file_name in os.listdir(transcription_files_path):\n",
        "  print(f\"Содержимое файла {file_name}:\")\n",
        "  with open(transcription_files_path + file_name, 'r') as f:\n",
        "    lines = f.readlines()\n",
        "  print(lines)\n",
        "  print()"
      ],
      "metadata": {
        "colab": {
          "base_uri": "https://localhost:8080/"
        },
        "id": "PcmrW8RUkdV-",
        "outputId": "b97ed942-a618-4acb-e922-605291428e39"
      },
      "execution_count": 14,
      "outputs": [
        {
          "output_type": "stream",
          "name": "stdout",
          "text": [
            "Содержимое файла 2023-05-08_16-14-10.247769_from_74955199580_to_74997552563_session_2918538922_talk_whisper_large.txt:\n",
            "[' Светлана, здравствуйте. Здравствуйте. Скажите, пожалуйста, фотоаппарат КНН А-603. Ой, это расшипаетесь. Нет-нет, вы позвонили в другую компанию, перезвоните.']\n",
            "\n",
            "Содержимое файла 2023-05-09_11-53-48.291185_from_79910665524_to_74997552563_session_2919161802_talk_whisper_large.txt:\n",
            "[' А, Вика, звонок по объявлению. Разговор может быть записан. Вам интересно? Позвольте, я продолжу, а потом, если что, зададите вопросы, хорошо?']\n",
            "\n",
            "Содержимое файла 2023-05-09_17-51-30.193682_from_79670165153_to_0188880_session_2919520238_talk_whisper_large.txt:\n",
            "[' Здравствуйте! Вы позвонили в группу компании «Картрос». Благодарим вас за звонок. Пожалуйста, дождитесь ответа оператора. Добрый вечер. Группа компании «Картрос». Меня зовут Любовь. Любовь, добрый день. Виктория рассматривает жилой комплекс «Хедлайнер». Рассматривает трехкомнатную квартиру. Бюджет 40 миллионов. Спасибо. Здравствуйте. Я хотела узнать по поводу вашего проекта. Есть ли квартиры готовые по планировкам, по ремонту, без ремонта, с ремонтом? Что есть вообще? Вы знакомы с нашим проектом? Нет, не совсем. А локацию хотя бы знаете, где мы находимся? Локацию, да. Локацию смотрела уже. Проект «Хедлайнер» находится в станции метро «Шелепиха». Школы рядом есть. Муниципальная, романовская школа в 300 метрах. Детский сад, также романовский. Также на территории комплекса есть два частных детских сада. Сейчас он в стадии ремонтных работ. Проект «Три очереди». Готовые квартиры во второй очереди есть. Сдача была в декабре 2022 года. Прям очень громко мне в трубку ребенок кричит. Ага. И есть третья очередь, которая сдается в второй квартал 2024 года. Квартира без отделки. Без отделки там, да? Да, если мы говорим без отделки, то есть свободная планировка, стяжка, штукатурка. Угу, все, я поняла. То есть, а свайдбоксов всегда нет в квартирах? Нет, предчистовой отделки нет. Без отделки квартиры. Угу, угу. Так, хорошо. Так, так, так. Какой бюджет приобретения у вас? И какой способ это? Ипотека, рассрочка? Это, скорее всего, будет ипотека. Угу. Вот, по бюджету это до 40. 35-37, то есть, вот в этом диапазоне. Ну, вы можете попробовать тогда приобрести у нас трехкомнатные форматы «Евро». Это две спальни, кухня-гостиная. Порядка 67 миллиметров есть. Да, да, да. И это будет, по-моему, в таком бюджете, если мы говорим с вами, до 40. И есть варианты точечные, до 40, но это прям единичные квартиры. Просто они будут на низких этажах, не с видовыми характеристиками, а скорее во внутренний двор. Там, возможно, порядка 85 метров, там уже будет большая площадь, но все те же две спальни и кухня-гостиная. Угу, все, я поняла. Так, то есть, а если рассмотреть побольше, то не будет? То есть, а если рассмотреть побольше планировку, побольше квадратуру, то там уже какой будет ценник? Ну, есть в третьей очереди вариант за 36,5 миллионов, но я образно 36 точно не помню, если ты 700, 36, 700. То есть, есть вариант просто на невидовом этаже с дачи второй квартал 25 года. Там можно посмотреть три спальни и кухня-гостиная. Да, да, да. И кухня-гостиная. Ой, 25, то есть, 24 года, то есть, следующего. Ага, все. Второй квартал, да, вы сказали? Да, второй квартал, да, второй квартал 24 года. Это сдача финальная уже в третьей очереди, последней. То есть, у нас всего три очереди. И сейчас третья достраивается уже. Угу, угу. Так, так, так, по готовым вы что сказали еще раз напомните. Ну, в готовом мы с вами в такой бюджет не войдем, наверное. Ну, войдем только три спальни и кухня-гостиная, да. Ага, а три спальни, а если три спальни мы рассмотрим хорошо, то по стоимости что получится? Ну, от 40 все-таки, я думаю, надо рассчитывать, от 40-45. Ага, угу. И какая там будет примерная площадь? Ну, можно посмотреть до 90 метров. Ага, так, хорошо, я поняла. Приходите к нам в офис, познакомитесь с проектом, посмотрите макет и можете посмотреть уже планировки, либо на сайте все также изучить. Угу, хорошо, ладно, я так и сделаю. Хорошо, спасибо большое. Сейчас до свидания, доктор. До свидания.']\n",
            "\n",
            "Содержимое файла 2023-05-09_18-34-04.371381_from_79274431546_to_74997552563_session_2919550530_talk_whisper_large.txt:\n",
            "[' Субтитры создавал DimaTorzok']\n",
            "\n",
            "Содержимое файла 2023-05-09_20-19-21.050197_from_79274432048_to_74997552563_session_2919615074_talk_whisper_large.txt:\n",
            "[' Живой комплекс «Федлайнер» Наталья, здравствуйте.']\n",
            "\n"
          ]
        }
      ]
    },
    {
      "cell_type": "markdown",
      "source": [
        "## Файлы транскрибации записей звонков"
      ],
      "metadata": {
        "id": "nLZlWqBHXTRT"
      }
    },
    {
      "cell_type": "code",
      "source": [
        "os.listdir(transcription_path)"
      ],
      "metadata": {
        "colab": {
          "base_uri": "https://localhost:8080/"
        },
        "id": "oFTxv4vIqwOw",
        "outputId": "01c0297d-f9df-45d7-9906-97b1e57c9b0b"
      },
      "execution_count": 15,
      "outputs": [
        {
          "output_type": "execute_result",
          "data": {
            "text/plain": [
              "['Расшифровки_Записи звонков_хедлайнер',\n",
              " 'Расшифровки_Записи звонков_primavera',\n",
              " 'Расшифровки_Записи звонков_павелецкая сити']"
            ]
          },
          "metadata": {},
          "execution_count": 15
        }
      ]
    },
    {
      "cell_type": "code",
      "source": [
        "print(f\"        Headliner: {len(os.listdir(transcription_path + 'Расшифровки_Записи звонков_хедлайнер')):4d} записей\")\n",
        "print(f\"        Primavera: {len(os.listdir(transcription_path + 'Расшифровки_Записи звонков_primavera')):4d} записей\")\n",
        "print(f\"Paveletskaya_city: {len(os.listdir(transcription_path + 'Расшифровки_Записи звонков_павелецкая сити')):4d} записей\")"
      ],
      "metadata": {
        "colab": {
          "base_uri": "https://localhost:8080/"
        },
        "id": "Y_QXr78jsFcH",
        "outputId": "90df6b5a-a330-4c40-a30d-c6d8b3561da8"
      },
      "execution_count": 16,
      "outputs": [
        {
          "output_type": "stream",
          "name": "stdout",
          "text": [
            "        Headliner: 2055 записей\n",
            "        Primavera: 1983 записей\n",
            "Paveletskaya_city: 1000 записей\n"
          ]
        }
      ]
    },
    {
      "cell_type": "markdown",
      "source": [
        "### Headliner"
      ],
      "metadata": {
        "id": "0sO_EMpSCInU"
      }
    },
    {
      "cell_type": "markdown",
      "source": [
        "#### Создание датафрейма"
      ],
      "metadata": {
        "id": "Qc_5op8jCInW"
      }
    },
    {
      "cell_type": "code",
      "source": [
        "# Создаём датафрейм из списка файлов транскрибации звонков Headliner\n",
        "Headliner_transcriptions_df = transcriptions_list_to_df(os.listdir(transcription_path + 'Расшифровки_Записи звонков_хедлайнер'))\n",
        "Headliner_transcriptions_df.shape"
      ],
      "metadata": {
        "colab": {
          "base_uri": "https://localhost:8080/"
        },
        "id": "iUTNwyPyDDXS",
        "outputId": "8b4dee84-a756-48c0-f382-5f7c00e3b77c"
      },
      "execution_count": 17,
      "outputs": [
        {
          "output_type": "execute_result",
          "data": {
            "text/plain": [
              "(2055, 5)"
            ]
          },
          "metadata": {},
          "execution_count": 17
        }
      ]
    },
    {
      "cell_type": "code",
      "source": [
        "Headliner_transcriptions_df.head()"
      ],
      "metadata": {
        "colab": {
          "base_uri": "https://localhost:8080/",
          "height": 310
        },
        "outputId": "15469ef8-9ffd-46b3-ca7a-16cb26e25b56",
        "id": "jOWMm1K7CIna"
      },
      "execution_count": 18,
      "outputs": [
        {
          "output_type": "execute_result",
          "data": {
            "text/plain": [
              "          Дата и время Номер абонента Номер сотрудника  \\\n",
              "0  2023-06-13 16:34:55    79253130521          0188880   \n",
              "1  2023-06-13 16:38:19    79854420972          0188880   \n",
              "2  2023-06-13 16:38:32    79010377117      74959339902   \n",
              "3  2023-06-13 16:41:01    79067578107          0188880   \n",
              "4  2023-06-13 16:41:49    79067578107          0188880   \n",
              "\n",
              "  Идентификатор сессии звонка  \\\n",
              "0                  3020550704   \n",
              "1                  3001367639   \n",
              "2                  2983982802   \n",
              "3                  3002111697   \n",
              "4                  3002112889   \n",
              "\n",
              "                                                               Файл whisper-транскрибации записи звонка  \n",
              "0      2023-06-13_16-34-55.323535_from_79253130521_to_0188880_session_3020550704_talk_whisper_large.txt  \n",
              "1      2023-06-13_16-38-19.167809_from_79854420972_to_0188880_session_3001367639_talk_whisper_large.txt  \n",
              "2  2023-06-13_16-38-32.031681_from_79010377117_to_74959339902_session_2983982802_talk_whisper_large.txt  \n",
              "3      2023-06-13_16-41-01.418697_from_79067578107_to_0188880_session_3002111697_talk_whisper_large.txt  \n",
              "4      2023-06-13_16-41-49.321187_from_79067578107_to_0188880_session_3002112889_talk_whisper_large.txt  "
            ],
            "text/html": [
              "\n",
              "  <div id=\"df-ae6beb2c-849d-4ddf-8ec5-5af025d77a35\" class=\"colab-df-container\">\n",
              "    <div>\n",
              "<style scoped>\n",
              "    .dataframe tbody tr th:only-of-type {\n",
              "        vertical-align: middle;\n",
              "    }\n",
              "\n",
              "    .dataframe tbody tr th {\n",
              "        vertical-align: top;\n",
              "    }\n",
              "\n",
              "    .dataframe thead th {\n",
              "        text-align: right;\n",
              "    }\n",
              "</style>\n",
              "<table border=\"1\" class=\"dataframe\">\n",
              "  <thead>\n",
              "    <tr style=\"text-align: right;\">\n",
              "      <th></th>\n",
              "      <th>Дата и время</th>\n",
              "      <th>Номер абонента</th>\n",
              "      <th>Номер сотрудника</th>\n",
              "      <th>Идентификатор сессии звонка</th>\n",
              "      <th>Файл whisper-транскрибации записи звонка</th>\n",
              "    </tr>\n",
              "  </thead>\n",
              "  <tbody>\n",
              "    <tr>\n",
              "      <th>0</th>\n",
              "      <td>2023-06-13 16:34:55</td>\n",
              "      <td>79253130521</td>\n",
              "      <td>0188880</td>\n",
              "      <td>3020550704</td>\n",
              "      <td>2023-06-13_16-34-55.323535_from_79253130521_to_0188880_session_3020550704_talk_whisper_large.txt</td>\n",
              "    </tr>\n",
              "    <tr>\n",
              "      <th>1</th>\n",
              "      <td>2023-06-13 16:38:19</td>\n",
              "      <td>79854420972</td>\n",
              "      <td>0188880</td>\n",
              "      <td>3001367639</td>\n",
              "      <td>2023-06-13_16-38-19.167809_from_79854420972_to_0188880_session_3001367639_talk_whisper_large.txt</td>\n",
              "    </tr>\n",
              "    <tr>\n",
              "      <th>2</th>\n",
              "      <td>2023-06-13 16:38:32</td>\n",
              "      <td>79010377117</td>\n",
              "      <td>74959339902</td>\n",
              "      <td>2983982802</td>\n",
              "      <td>2023-06-13_16-38-32.031681_from_79010377117_to_74959339902_session_2983982802_talk_whisper_large.txt</td>\n",
              "    </tr>\n",
              "    <tr>\n",
              "      <th>3</th>\n",
              "      <td>2023-06-13 16:41:01</td>\n",
              "      <td>79067578107</td>\n",
              "      <td>0188880</td>\n",
              "      <td>3002111697</td>\n",
              "      <td>2023-06-13_16-41-01.418697_from_79067578107_to_0188880_session_3002111697_talk_whisper_large.txt</td>\n",
              "    </tr>\n",
              "    <tr>\n",
              "      <th>4</th>\n",
              "      <td>2023-06-13 16:41:49</td>\n",
              "      <td>79067578107</td>\n",
              "      <td>0188880</td>\n",
              "      <td>3002112889</td>\n",
              "      <td>2023-06-13_16-41-49.321187_from_79067578107_to_0188880_session_3002112889_talk_whisper_large.txt</td>\n",
              "    </tr>\n",
              "  </tbody>\n",
              "</table>\n",
              "</div>\n",
              "    <div class=\"colab-df-buttons\">\n",
              "\n",
              "  <div class=\"colab-df-container\">\n",
              "    <button class=\"colab-df-convert\" onclick=\"convertToInteractive('df-ae6beb2c-849d-4ddf-8ec5-5af025d77a35')\"\n",
              "            title=\"Convert this dataframe to an interactive table.\"\n",
              "            style=\"display:none;\">\n",
              "\n",
              "  <svg xmlns=\"http://www.w3.org/2000/svg\" height=\"24px\" viewBox=\"0 -960 960 960\">\n",
              "    <path d=\"M120-120v-720h720v720H120Zm60-500h600v-160H180v160Zm220 220h160v-160H400v160Zm0 220h160v-160H400v160ZM180-400h160v-160H180v160Zm440 0h160v-160H620v160ZM180-180h160v-160H180v160Zm440 0h160v-160H620v160Z\"/>\n",
              "  </svg>\n",
              "    </button>\n",
              "\n",
              "  <style>\n",
              "    .colab-df-container {\n",
              "      display:flex;\n",
              "      gap: 12px;\n",
              "    }\n",
              "\n",
              "    .colab-df-convert {\n",
              "      background-color: #E8F0FE;\n",
              "      border: none;\n",
              "      border-radius: 50%;\n",
              "      cursor: pointer;\n",
              "      display: none;\n",
              "      fill: #1967D2;\n",
              "      height: 32px;\n",
              "      padding: 0 0 0 0;\n",
              "      width: 32px;\n",
              "    }\n",
              "\n",
              "    .colab-df-convert:hover {\n",
              "      background-color: #E2EBFA;\n",
              "      box-shadow: 0px 1px 2px rgba(60, 64, 67, 0.3), 0px 1px 3px 1px rgba(60, 64, 67, 0.15);\n",
              "      fill: #174EA6;\n",
              "    }\n",
              "\n",
              "    .colab-df-buttons div {\n",
              "      margin-bottom: 4px;\n",
              "    }\n",
              "\n",
              "    [theme=dark] .colab-df-convert {\n",
              "      background-color: #3B4455;\n",
              "      fill: #D2E3FC;\n",
              "    }\n",
              "\n",
              "    [theme=dark] .colab-df-convert:hover {\n",
              "      background-color: #434B5C;\n",
              "      box-shadow: 0px 1px 3px 1px rgba(0, 0, 0, 0.15);\n",
              "      filter: drop-shadow(0px 1px 2px rgba(0, 0, 0, 0.3));\n",
              "      fill: #FFFFFF;\n",
              "    }\n",
              "  </style>\n",
              "\n",
              "    <script>\n",
              "      const buttonEl =\n",
              "        document.querySelector('#df-ae6beb2c-849d-4ddf-8ec5-5af025d77a35 button.colab-df-convert');\n",
              "      buttonEl.style.display =\n",
              "        google.colab.kernel.accessAllowed ? 'block' : 'none';\n",
              "\n",
              "      async function convertToInteractive(key) {\n",
              "        const element = document.querySelector('#df-ae6beb2c-849d-4ddf-8ec5-5af025d77a35');\n",
              "        const dataTable =\n",
              "          await google.colab.kernel.invokeFunction('convertToInteractive',\n",
              "                                                    [key], {});\n",
              "        if (!dataTable) return;\n",
              "\n",
              "        const docLinkHtml = 'Like what you see? Visit the ' +\n",
              "          '<a target=\"_blank\" href=https://colab.research.google.com/notebooks/data_table.ipynb>data table notebook</a>'\n",
              "          + ' to learn more about interactive tables.';\n",
              "        element.innerHTML = '';\n",
              "        dataTable['output_type'] = 'display_data';\n",
              "        await google.colab.output.renderOutput(dataTable, element);\n",
              "        const docLink = document.createElement('div');\n",
              "        docLink.innerHTML = docLinkHtml;\n",
              "        element.appendChild(docLink);\n",
              "      }\n",
              "    </script>\n",
              "  </div>\n",
              "\n",
              "\n",
              "<div id=\"df-8920ab5d-0037-4f9a-9d9c-08eb54a98e00\">\n",
              "  <button class=\"colab-df-quickchart\" onclick=\"quickchart('df-8920ab5d-0037-4f9a-9d9c-08eb54a98e00')\"\n",
              "            title=\"Suggest charts\"\n",
              "            style=\"display:none;\">\n",
              "\n",
              "<svg xmlns=\"http://www.w3.org/2000/svg\" height=\"24px\"viewBox=\"0 0 24 24\"\n",
              "     width=\"24px\">\n",
              "    <g>\n",
              "        <path d=\"M19 3H5c-1.1 0-2 .9-2 2v14c0 1.1.9 2 2 2h14c1.1 0 2-.9 2-2V5c0-1.1-.9-2-2-2zM9 17H7v-7h2v7zm4 0h-2V7h2v10zm4 0h-2v-4h2v4z\"/>\n",
              "    </g>\n",
              "</svg>\n",
              "  </button>\n",
              "\n",
              "<style>\n",
              "  .colab-df-quickchart {\n",
              "      --bg-color: #E8F0FE;\n",
              "      --fill-color: #1967D2;\n",
              "      --hover-bg-color: #E2EBFA;\n",
              "      --hover-fill-color: #174EA6;\n",
              "      --disabled-fill-color: #AAA;\n",
              "      --disabled-bg-color: #DDD;\n",
              "  }\n",
              "\n",
              "  [theme=dark] .colab-df-quickchart {\n",
              "      --bg-color: #3B4455;\n",
              "      --fill-color: #D2E3FC;\n",
              "      --hover-bg-color: #434B5C;\n",
              "      --hover-fill-color: #FFFFFF;\n",
              "      --disabled-bg-color: #3B4455;\n",
              "      --disabled-fill-color: #666;\n",
              "  }\n",
              "\n",
              "  .colab-df-quickchart {\n",
              "    background-color: var(--bg-color);\n",
              "    border: none;\n",
              "    border-radius: 50%;\n",
              "    cursor: pointer;\n",
              "    display: none;\n",
              "    fill: var(--fill-color);\n",
              "    height: 32px;\n",
              "    padding: 0;\n",
              "    width: 32px;\n",
              "  }\n",
              "\n",
              "  .colab-df-quickchart:hover {\n",
              "    background-color: var(--hover-bg-color);\n",
              "    box-shadow: 0 1px 2px rgba(60, 64, 67, 0.3), 0 1px 3px 1px rgba(60, 64, 67, 0.15);\n",
              "    fill: var(--button-hover-fill-color);\n",
              "  }\n",
              "\n",
              "  .colab-df-quickchart-complete:disabled,\n",
              "  .colab-df-quickchart-complete:disabled:hover {\n",
              "    background-color: var(--disabled-bg-color);\n",
              "    fill: var(--disabled-fill-color);\n",
              "    box-shadow: none;\n",
              "  }\n",
              "\n",
              "  .colab-df-spinner {\n",
              "    border: 2px solid var(--fill-color);\n",
              "    border-color: transparent;\n",
              "    border-bottom-color: var(--fill-color);\n",
              "    animation:\n",
              "      spin 1s steps(1) infinite;\n",
              "  }\n",
              "\n",
              "  @keyframes spin {\n",
              "    0% {\n",
              "      border-color: transparent;\n",
              "      border-bottom-color: var(--fill-color);\n",
              "      border-left-color: var(--fill-color);\n",
              "    }\n",
              "    20% {\n",
              "      border-color: transparent;\n",
              "      border-left-color: var(--fill-color);\n",
              "      border-top-color: var(--fill-color);\n",
              "    }\n",
              "    30% {\n",
              "      border-color: transparent;\n",
              "      border-left-color: var(--fill-color);\n",
              "      border-top-color: var(--fill-color);\n",
              "      border-right-color: var(--fill-color);\n",
              "    }\n",
              "    40% {\n",
              "      border-color: transparent;\n",
              "      border-right-color: var(--fill-color);\n",
              "      border-top-color: var(--fill-color);\n",
              "    }\n",
              "    60% {\n",
              "      border-color: transparent;\n",
              "      border-right-color: var(--fill-color);\n",
              "    }\n",
              "    80% {\n",
              "      border-color: transparent;\n",
              "      border-right-color: var(--fill-color);\n",
              "      border-bottom-color: var(--fill-color);\n",
              "    }\n",
              "    90% {\n",
              "      border-color: transparent;\n",
              "      border-bottom-color: var(--fill-color);\n",
              "    }\n",
              "  }\n",
              "</style>\n",
              "\n",
              "  <script>\n",
              "    async function quickchart(key) {\n",
              "      const quickchartButtonEl =\n",
              "        document.querySelector('#' + key + ' button');\n",
              "      quickchartButtonEl.disabled = true;  // To prevent multiple clicks.\n",
              "      quickchartButtonEl.classList.add('colab-df-spinner');\n",
              "      try {\n",
              "        const charts = await google.colab.kernel.invokeFunction(\n",
              "            'suggestCharts', [key], {});\n",
              "      } catch (error) {\n",
              "        console.error('Error during call to suggestCharts:', error);\n",
              "      }\n",
              "      quickchartButtonEl.classList.remove('colab-df-spinner');\n",
              "      quickchartButtonEl.classList.add('colab-df-quickchart-complete');\n",
              "    }\n",
              "    (() => {\n",
              "      let quickchartButtonEl =\n",
              "        document.querySelector('#df-8920ab5d-0037-4f9a-9d9c-08eb54a98e00 button');\n",
              "      quickchartButtonEl.style.display =\n",
              "        google.colab.kernel.accessAllowed ? 'block' : 'none';\n",
              "    })();\n",
              "  </script>\n",
              "</div>\n",
              "    </div>\n",
              "  </div>\n"
            ]
          },
          "metadata": {},
          "execution_count": 18
        }
      ]
    },
    {
      "cell_type": "code",
      "source": [
        "# Проверяем количество строк\n",
        "print(len(os.listdir(transcription_path + 'Расшифровки_Записи звонков_хедлайнер')))\n",
        "print(Headliner_transcriptions_df.shape[0])"
      ],
      "metadata": {
        "colab": {
          "base_uri": "https://localhost:8080/"
        },
        "outputId": "ecf017c8-970c-48d0-c87f-b2a73d6ee576",
        "id": "DhitwfXDCInc"
      },
      "execution_count": 20,
      "outputs": [
        {
          "output_type": "stream",
          "name": "stdout",
          "text": [
            "2055\n",
            "2055\n"
          ]
        }
      ]
    },
    {
      "cell_type": "code",
      "source": [
        "print(Headliner_transcriptions_df.count())"
      ],
      "metadata": {
        "colab": {
          "base_uri": "https://localhost:8080/"
        },
        "outputId": "493c41ca-741a-4b59-f395-084792b899f4",
        "id": "LtiNGG6iCIno"
      },
      "execution_count": 21,
      "outputs": [
        {
          "output_type": "stream",
          "name": "stdout",
          "text": [
            "Дата и время                                2055\n",
            "Номер абонента                              2055\n",
            "Номер сотрудника                            2055\n",
            "Идентификатор сессии звонка                 2055\n",
            "Файл whisper-транскрибации записи звонка    2055\n",
            "dtype: int64\n"
          ]
        }
      ]
    },
    {
      "cell_type": "markdown",
      "source": [
        "#### Предобработка"
      ],
      "metadata": {
        "id": "zfUr1BD9CInp"
      }
    },
    {
      "cell_type": "markdown",
      "source": [
        "##### 0. Дата и время"
      ],
      "metadata": {
        "id": "7cmY0IvwCInp"
      }
    },
    {
      "cell_type": "code",
      "source": [
        "Headliner_transcriptions_df['Дата и время'].head()"
      ],
      "metadata": {
        "colab": {
          "base_uri": "https://localhost:8080/"
        },
        "outputId": "6ca17dcc-9adf-4409-eb1f-5681b6bc841e",
        "id": "sR7fR5cMCInq"
      },
      "execution_count": null,
      "outputs": [
        {
          "output_type": "execute_result",
          "data": {
            "text/plain": [
              "0    2023-09-01 11:18:46\n",
              "1    2023-09-01 12:07:24\n",
              "2    2023-09-01 12:10:00\n",
              "3    2023-09-01 12:20:37\n",
              "4    2023-09-01 12:53:13\n",
              "Name: Дата и время, dtype: object"
            ]
          },
          "metadata": {},
          "execution_count": 90
        }
      ]
    },
    {
      "cell_type": "code",
      "source": [
        "# Приводим тип данных столбца 'Дата и время'\n",
        "Headliner_transcriptions_df['Дата и время'] = pd.to_datetime(Headliner_transcriptions_df['Дата и время'])"
      ],
      "metadata": {
        "id": "RdIwkgk2CInr"
      },
      "execution_count": null,
      "outputs": []
    },
    {
      "cell_type": "code",
      "source": [
        "Headliner_transcriptions_df['Дата и время'].tail()"
      ],
      "metadata": {
        "colab": {
          "base_uri": "https://localhost:8080/"
        },
        "outputId": "b9180393-55e8-4f99-c2f5-9bf3bbf86a66",
        "id": "NiqheaUsCInr"
      },
      "execution_count": null,
      "outputs": [
        {
          "output_type": "execute_result",
          "data": {
            "text/plain": [
              "1221   2023-08-31 16:55:42\n",
              "1222   2023-08-31 17:01:20\n",
              "1223   2023-08-31 17:08:06\n",
              "1224   2023-09-01 09:30:00\n",
              "1225   2023-09-01 10:09:28\n",
              "Name: Дата и время, dtype: datetime64[ns]"
            ]
          },
          "metadata": {},
          "execution_count": 92
        }
      ]
    },
    {
      "cell_type": "markdown",
      "source": [
        "##### 1. Номер абонента"
      ],
      "metadata": {
        "id": "T-LYA8WTCInt"
      }
    },
    {
      "cell_type": "code",
      "source": [
        "Headliner_transcriptions_df['Номер абонента'].head()"
      ],
      "metadata": {
        "colab": {
          "base_uri": "https://localhost:8080/"
        },
        "outputId": "1c57ba02-7c17-4a5d-8261-46d69630b17d",
        "id": "GURZ9IdWCInv"
      },
      "execution_count": null,
      "outputs": [
        {
          "output_type": "execute_result",
          "data": {
            "text/plain": [
              "0    79133420036\n",
              "1    79687467064\n",
              "2    79687467064\n",
              "3    79851620909\n",
              "4    74959891229\n",
              "Name: Номер абонента, dtype: object"
            ]
          },
          "metadata": {},
          "execution_count": 93
        }
      ]
    },
    {
      "cell_type": "code",
      "source": [
        "# Приводим тип данных столбца 'Номер абонента'\n",
        "Headliner_transcriptions_df = Headliner_transcriptions_df.astype({'Номер абонента': int})"
      ],
      "metadata": {
        "id": "Swh4o-jDCInv"
      },
      "execution_count": null,
      "outputs": []
    },
    {
      "cell_type": "code",
      "source": [
        "Headliner_transcriptions_df['Номер абонента'].tail()"
      ],
      "metadata": {
        "colab": {
          "base_uri": "https://localhost:8080/"
        },
        "outputId": "5d040896-8ace-4fc8-86e2-7220575015f3",
        "id": "imv64LTWCInw"
      },
      "execution_count": null,
      "outputs": [
        {
          "output_type": "execute_result",
          "data": {
            "text/plain": [
              "1221    79851400618\n",
              "1222    79851400618\n",
              "1223    79647068969\n",
              "1224    79503046153\n",
              "1225    79687467064\n",
              "Name: Номер абонента, dtype: int64"
            ]
          },
          "metadata": {},
          "execution_count": 95
        }
      ]
    },
    {
      "cell_type": "markdown",
      "source": [
        "##### 2. Номер сотрудника"
      ],
      "metadata": {
        "id": "ddqXX4HKCInw"
      }
    },
    {
      "cell_type": "code",
      "source": [
        "Headliner_transcriptions_df['Номер сотрудника'].head()"
      ],
      "metadata": {
        "colab": {
          "base_uri": "https://localhost:8080/"
        },
        "outputId": "fe85721a-c4fc-471d-9b3a-6cb13e0ce1ee",
        "id": "O4Z9QknuCInx"
      },
      "execution_count": null,
      "outputs": [
        {
          "output_type": "execute_result",
          "data": {
            "text/plain": [
              "0        0188880\n",
              "1    74959339929\n",
              "2    74959339929\n",
              "3    74959339929\n",
              "4    74959339929\n",
              "Name: Номер сотрудника, dtype: object"
            ]
          },
          "metadata": {},
          "execution_count": 96
        }
      ]
    },
    {
      "cell_type": "code",
      "source": [
        "# Приводим тип данных столбца 'Номер сотрудника'\n",
        "Headliner_transcriptions_df = Headliner_transcriptions_df.astype({'Номер сотрудника': int})"
      ],
      "metadata": {
        "id": "a6R2aNZ8CIny"
      },
      "execution_count": null,
      "outputs": []
    },
    {
      "cell_type": "code",
      "source": [
        "Headliner_transcriptions_df['Номер сотрудника'].tail()"
      ],
      "metadata": {
        "colab": {
          "base_uri": "https://localhost:8080/"
        },
        "outputId": "75550839-74c7-491a-ca32-e86ae5eddf73",
        "id": "UNkuo5mBCIn-"
      },
      "execution_count": null,
      "outputs": [
        {
          "output_type": "execute_result",
          "data": {
            "text/plain": [
              "1221         188880\n",
              "1222    74959339929\n",
              "1223    74957898990\n",
              "1224         188880\n",
              "1225    74959339929\n",
              "Name: Номер сотрудника, dtype: int64"
            ]
          },
          "metadata": {},
          "execution_count": 98
        }
      ]
    },
    {
      "cell_type": "markdown",
      "source": [
        "##### 3. Идентификатор сессии звонка"
      ],
      "metadata": {
        "id": "-ihLQnTWCIn_"
      }
    },
    {
      "cell_type": "code",
      "source": [
        "Headliner_transcriptions_df['Идентификатор сессии звонка'].head()"
      ],
      "metadata": {
        "colab": {
          "base_uri": "https://localhost:8080/"
        },
        "outputId": "85d5ed59-0add-4eed-f03a-f714f2cedc20",
        "id": "7BWccZe2CIn_"
      },
      "execution_count": null,
      "outputs": [
        {
          "output_type": "execute_result",
          "data": {
            "text/plain": [
              "0    3188273510\n",
              "1    3188426705\n",
              "2    3201544602\n",
              "3    3188461175\n",
              "4    3191589263\n",
              "Name: Идентификатор сессии звонка, dtype: object"
            ]
          },
          "metadata": {},
          "execution_count": 99
        }
      ]
    },
    {
      "cell_type": "code",
      "source": [
        "# Приводим тип данных столбца 'Идентификатор сессии звонка'\n",
        "Headliner_transcriptions_df = Headliner_transcriptions_df.astype({'Идентификатор сессии звонка': int})"
      ],
      "metadata": {
        "id": "NFRyQbZUCIoA"
      },
      "execution_count": null,
      "outputs": []
    },
    {
      "cell_type": "code",
      "source": [
        "Headliner_transcriptions_df['Идентификатор сессии звонка'].tail()"
      ],
      "metadata": {
        "colab": {
          "base_uri": "https://localhost:8080/"
        },
        "outputId": "4c990bbf-80cc-4fbd-f3ca-2dbb9cd6528c",
        "id": "SZuPnVaJCIoB"
      },
      "execution_count": null,
      "outputs": [
        {
          "output_type": "execute_result",
          "data": {
            "text/plain": [
              "1221    3190201298\n",
              "1222    3194695301\n",
              "1223    3187322885\n",
              "1224    3201040552\n",
              "1225    3191076973\n",
              "Name: Идентификатор сессии звонка, dtype: int64"
            ]
          },
          "metadata": {},
          "execution_count": 101
        }
      ]
    },
    {
      "cell_type": "code",
      "source": [
        "# Смотрим количество уникальных значений столбца 'Идентификатор сессии звонка'\n",
        "Headliner_transcriptions_df['Идентификатор сессии звонка'].nunique()"
      ],
      "metadata": {
        "colab": {
          "base_uri": "https://localhost:8080/"
        },
        "outputId": "5cf381b2-806b-406f-a17e-0bcf86f9501c",
        "id": "ozb3c--DCIoC"
      },
      "execution_count": null,
      "outputs": [
        {
          "output_type": "execute_result",
          "data": {
            "text/plain": [
              "1226"
            ]
          },
          "metadata": {},
          "execution_count": 102
        }
      ]
    },
    {
      "cell_type": "markdown",
      "source": [
        "##### 4. Файл whisper-транскрибации записи звонка"
      ],
      "metadata": {
        "id": "W_VNetFVCIoC"
      }
    },
    {
      "cell_type": "code",
      "source": [
        "Headliner_transcriptions_df['Файл whisper-транскрибации записи звонка'].head()"
      ],
      "metadata": {
        "colab": {
          "base_uri": "https://localhost:8080/"
        },
        "outputId": "a188ec2a-9a71-41bd-b353-6c789fccfe47",
        "id": "7gCYjKOHCIoE"
      },
      "execution_count": null,
      "outputs": [
        {
          "output_type": "execute_result",
          "data": {
            "text/plain": [
              "0        2023-09-01_11-18-46.243226_from_79133420036_to_0188880_session_3188273510_talk.txt\n",
              "1    2023-09-01_12-07-24.419439_from_79687467064_to_74959339929_session_3188426705_talk.txt\n",
              "2    2023-09-01_12-10-00.806885_from_79687467064_to_74959339929_session_3201544602_talk.txt\n",
              "3    2023-09-01_12-20-37.789876_from_79851620909_to_74959339929_session_3188461175_talk.txt\n",
              "4    2023-09-01_12-53-13.411858_from_74959891229_to_74959339929_session_3191589263_talk.txt\n",
              "Name: Файл whisper-транскрибации записи звонка, dtype: object"
            ]
          },
          "metadata": {},
          "execution_count": 103
        }
      ]
    },
    {
      "cell_type": "code",
      "source": [
        "# Добавляем к файлам относительные пути\n",
        "Headliner_transcriptions_df['Файл whisper-транскрибации записи звонка'] = Headliner_transcriptions_df['Файл whisper-транскрибации записи звонка'].apply(lambda x: 'Whisper-транскрибация новых записей звонков/Расшифровки_Записи Headliner/' + x)"
      ],
      "metadata": {
        "id": "7p5GW4SsCIoF"
      },
      "execution_count": null,
      "outputs": []
    },
    {
      "cell_type": "code",
      "source": [
        "Headliner_transcriptions_df['Файл whisper-транскрибации записи звонка'].tail()"
      ],
      "metadata": {
        "colab": {
          "base_uri": "https://localhost:8080/"
        },
        "outputId": "78c4d4c6-ad63-4e15-bd48-32a374cb96e1",
        "id": "UCj52_YsCIoF"
      },
      "execution_count": null,
      "outputs": [
        {
          "output_type": "execute_result",
          "data": {
            "text/plain": [
              "1221        Whisper-транскрибация новых записей звонков/Расшифровки_Записи Headliner/2023-08-31_16-55-42.330776_from_79851400618_to_0188880_session_3190201298_talk.txt\n",
              "1222    Whisper-транскрибация новых записей звонков/Расшифровки_Записи Headliner/2023-08-31_17-01-20.800209_from_79851400618_to_74959339929_session_3194695301_talk.txt\n",
              "1223    Whisper-транскрибация новых записей звонков/Расшифровки_Записи Headliner/2023-08-31_17-08-06.533474_from_79647068969_to_74957898990_session_3187322885_talk.txt\n",
              "1224        Whisper-транскрибация новых записей звонков/Расшифровки_Записи Headliner/2023-09-01_09-30-00.917489_from_79503046153_to_0188880_session_3201040552_talk.txt\n",
              "1225    Whisper-транскрибация новых записей звонков/Расшифровки_Записи Headliner/2023-09-01_10-09-28.491302_from_79687467064_to_74959339929_session_3191076973_talk.txt\n",
              "Name: Файл whisper-транскрибации записи звонка, dtype: object"
            ]
          },
          "metadata": {},
          "execution_count": 105
        }
      ]
    },
    {
      "cell_type": "markdown",
      "source": [
        "##### 5. Текст whisper-транскрибации записи звонка"
      ],
      "metadata": {
        "id": "AudXiLZpXdsW"
      }
    },
    {
      "cell_type": "code",
      "source": [
        "# Добавляем столбец 'Текст whisper-транскрибации записи звонка'\n",
        "Headliner_transcriptions_df['Текст whisper-транскрибации записи звонка'] = 'нет текста транскрибации звонка'\n",
        "Headliner_transcriptions_df.head()"
      ],
      "metadata": {
        "colab": {
          "base_uri": "https://localhost:8080/",
          "height": 414
        },
        "id": "8bHMPW39Xk0V",
        "outputId": "4ad41959-f8bf-4562-ed85-5ee4d7c73e6b"
      },
      "execution_count": null,
      "outputs": [
        {
          "output_type": "execute_result",
          "data": {
            "text/plain": [
              "         Дата и время  Номер абонента  Номер сотрудника  \\\n",
              "0 2023-09-01 11:18:46     79133420036            188880   \n",
              "1 2023-09-01 12:07:24     79687467064       74959339929   \n",
              "2 2023-09-01 12:10:00     79687467064       74959339929   \n",
              "3 2023-09-01 12:20:37     79851620909       74959339929   \n",
              "4 2023-09-01 12:53:13     74959891229       74959339929   \n",
              "\n",
              "   Идентификатор сессии звонка  \\\n",
              "0                   3188273510   \n",
              "1                   3188426705   \n",
              "2                   3201544602   \n",
              "3                   3188461175   \n",
              "4                   3191589263   \n",
              "\n",
              "                                                                                                                          Файл whisper-транскрибации записи звонка  \\\n",
              "0      Whisper-транскрибация новых записей звонков/Расшифровки_Записи Headliner/2023-09-01_11-18-46.243226_from_79133420036_to_0188880_session_3188273510_talk.txt   \n",
              "1  Whisper-транскрибация новых записей звонков/Расшифровки_Записи Headliner/2023-09-01_12-07-24.419439_from_79687467064_to_74959339929_session_3188426705_talk.txt   \n",
              "2  Whisper-транскрибация новых записей звонков/Расшифровки_Записи Headliner/2023-09-01_12-10-00.806885_from_79687467064_to_74959339929_session_3201544602_talk.txt   \n",
              "3  Whisper-транскрибация новых записей звонков/Расшифровки_Записи Headliner/2023-09-01_12-20-37.789876_from_79851620909_to_74959339929_session_3188461175_talk.txt   \n",
              "4  Whisper-транскрибация новых записей звонков/Расшифровки_Записи Headliner/2023-09-01_12-53-13.411858_from_74959891229_to_74959339929_session_3191589263_talk.txt   \n",
              "\n",
              "  Текст whisper-транскрибации записи звонка  \n",
              "0           нет текста транскрибации звонка  \n",
              "1           нет текста транскрибации звонка  \n",
              "2           нет текста транскрибации звонка  \n",
              "3           нет текста транскрибации звонка  \n",
              "4           нет текста транскрибации звонка  "
            ],
            "text/html": [
              "\n",
              "  <div id=\"df-0243a4d7-da08-44ad-9b7a-fe9482a8de57\" class=\"colab-df-container\">\n",
              "    <div>\n",
              "<style scoped>\n",
              "    .dataframe tbody tr th:only-of-type {\n",
              "        vertical-align: middle;\n",
              "    }\n",
              "\n",
              "    .dataframe tbody tr th {\n",
              "        vertical-align: top;\n",
              "    }\n",
              "\n",
              "    .dataframe thead th {\n",
              "        text-align: right;\n",
              "    }\n",
              "</style>\n",
              "<table border=\"1\" class=\"dataframe\">\n",
              "  <thead>\n",
              "    <tr style=\"text-align: right;\">\n",
              "      <th></th>\n",
              "      <th>Дата и время</th>\n",
              "      <th>Номер абонента</th>\n",
              "      <th>Номер сотрудника</th>\n",
              "      <th>Идентификатор сессии звонка</th>\n",
              "      <th>Файл whisper-транскрибации записи звонка</th>\n",
              "      <th>Текст whisper-транскрибации записи звонка</th>\n",
              "    </tr>\n",
              "  </thead>\n",
              "  <tbody>\n",
              "    <tr>\n",
              "      <th>0</th>\n",
              "      <td>2023-09-01 11:18:46</td>\n",
              "      <td>79133420036</td>\n",
              "      <td>188880</td>\n",
              "      <td>3188273510</td>\n",
              "      <td>Whisper-транскрибация новых записей звонков/Расшифровки_Записи Headliner/2023-09-01_11-18-46.243226_from_79133420036_to_0188880_session_3188273510_talk.txt</td>\n",
              "      <td>нет текста транскрибации звонка</td>\n",
              "    </tr>\n",
              "    <tr>\n",
              "      <th>1</th>\n",
              "      <td>2023-09-01 12:07:24</td>\n",
              "      <td>79687467064</td>\n",
              "      <td>74959339929</td>\n",
              "      <td>3188426705</td>\n",
              "      <td>Whisper-транскрибация новых записей звонков/Расшифровки_Записи Headliner/2023-09-01_12-07-24.419439_from_79687467064_to_74959339929_session_3188426705_talk.txt</td>\n",
              "      <td>нет текста транскрибации звонка</td>\n",
              "    </tr>\n",
              "    <tr>\n",
              "      <th>2</th>\n",
              "      <td>2023-09-01 12:10:00</td>\n",
              "      <td>79687467064</td>\n",
              "      <td>74959339929</td>\n",
              "      <td>3201544602</td>\n",
              "      <td>Whisper-транскрибация новых записей звонков/Расшифровки_Записи Headliner/2023-09-01_12-10-00.806885_from_79687467064_to_74959339929_session_3201544602_talk.txt</td>\n",
              "      <td>нет текста транскрибации звонка</td>\n",
              "    </tr>\n",
              "    <tr>\n",
              "      <th>3</th>\n",
              "      <td>2023-09-01 12:20:37</td>\n",
              "      <td>79851620909</td>\n",
              "      <td>74959339929</td>\n",
              "      <td>3188461175</td>\n",
              "      <td>Whisper-транскрибация новых записей звонков/Расшифровки_Записи Headliner/2023-09-01_12-20-37.789876_from_79851620909_to_74959339929_session_3188461175_talk.txt</td>\n",
              "      <td>нет текста транскрибации звонка</td>\n",
              "    </tr>\n",
              "    <tr>\n",
              "      <th>4</th>\n",
              "      <td>2023-09-01 12:53:13</td>\n",
              "      <td>74959891229</td>\n",
              "      <td>74959339929</td>\n",
              "      <td>3191589263</td>\n",
              "      <td>Whisper-транскрибация новых записей звонков/Расшифровки_Записи Headliner/2023-09-01_12-53-13.411858_from_74959891229_to_74959339929_session_3191589263_talk.txt</td>\n",
              "      <td>нет текста транскрибации звонка</td>\n",
              "    </tr>\n",
              "  </tbody>\n",
              "</table>\n",
              "</div>\n",
              "    <div class=\"colab-df-buttons\">\n",
              "\n",
              "  <div class=\"colab-df-container\">\n",
              "    <button class=\"colab-df-convert\" onclick=\"convertToInteractive('df-0243a4d7-da08-44ad-9b7a-fe9482a8de57')\"\n",
              "            title=\"Convert this dataframe to an interactive table.\"\n",
              "            style=\"display:none;\">\n",
              "\n",
              "  <svg xmlns=\"http://www.w3.org/2000/svg\" height=\"24px\" viewBox=\"0 -960 960 960\">\n",
              "    <path d=\"M120-120v-720h720v720H120Zm60-500h600v-160H180v160Zm220 220h160v-160H400v160Zm0 220h160v-160H400v160ZM180-400h160v-160H180v160Zm440 0h160v-160H620v160ZM180-180h160v-160H180v160Zm440 0h160v-160H620v160Z\"/>\n",
              "  </svg>\n",
              "    </button>\n",
              "\n",
              "  <style>\n",
              "    .colab-df-container {\n",
              "      display:flex;\n",
              "      gap: 12px;\n",
              "    }\n",
              "\n",
              "    .colab-df-convert {\n",
              "      background-color: #E8F0FE;\n",
              "      border: none;\n",
              "      border-radius: 50%;\n",
              "      cursor: pointer;\n",
              "      display: none;\n",
              "      fill: #1967D2;\n",
              "      height: 32px;\n",
              "      padding: 0 0 0 0;\n",
              "      width: 32px;\n",
              "    }\n",
              "\n",
              "    .colab-df-convert:hover {\n",
              "      background-color: #E2EBFA;\n",
              "      box-shadow: 0px 1px 2px rgba(60, 64, 67, 0.3), 0px 1px 3px 1px rgba(60, 64, 67, 0.15);\n",
              "      fill: #174EA6;\n",
              "    }\n",
              "\n",
              "    .colab-df-buttons div {\n",
              "      margin-bottom: 4px;\n",
              "    }\n",
              "\n",
              "    [theme=dark] .colab-df-convert {\n",
              "      background-color: #3B4455;\n",
              "      fill: #D2E3FC;\n",
              "    }\n",
              "\n",
              "    [theme=dark] .colab-df-convert:hover {\n",
              "      background-color: #434B5C;\n",
              "      box-shadow: 0px 1px 3px 1px rgba(0, 0, 0, 0.15);\n",
              "      filter: drop-shadow(0px 1px 2px rgba(0, 0, 0, 0.3));\n",
              "      fill: #FFFFFF;\n",
              "    }\n",
              "  </style>\n",
              "\n",
              "    <script>\n",
              "      const buttonEl =\n",
              "        document.querySelector('#df-0243a4d7-da08-44ad-9b7a-fe9482a8de57 button.colab-df-convert');\n",
              "      buttonEl.style.display =\n",
              "        google.colab.kernel.accessAllowed ? 'block' : 'none';\n",
              "\n",
              "      async function convertToInteractive(key) {\n",
              "        const element = document.querySelector('#df-0243a4d7-da08-44ad-9b7a-fe9482a8de57');\n",
              "        const dataTable =\n",
              "          await google.colab.kernel.invokeFunction('convertToInteractive',\n",
              "                                                    [key], {});\n",
              "        if (!dataTable) return;\n",
              "\n",
              "        const docLinkHtml = 'Like what you see? Visit the ' +\n",
              "          '<a target=\"_blank\" href=https://colab.research.google.com/notebooks/data_table.ipynb>data table notebook</a>'\n",
              "          + ' to learn more about interactive tables.';\n",
              "        element.innerHTML = '';\n",
              "        dataTable['output_type'] = 'display_data';\n",
              "        await google.colab.output.renderOutput(dataTable, element);\n",
              "        const docLink = document.createElement('div');\n",
              "        docLink.innerHTML = docLinkHtml;\n",
              "        element.appendChild(docLink);\n",
              "      }\n",
              "    </script>\n",
              "  </div>\n",
              "\n",
              "\n",
              "<div id=\"df-90c792e3-6da0-40e8-a165-641a899e5082\">\n",
              "  <button class=\"colab-df-quickchart\" onclick=\"quickchart('df-90c792e3-6da0-40e8-a165-641a899e5082')\"\n",
              "            title=\"Suggest charts.\"\n",
              "            style=\"display:none;\">\n",
              "\n",
              "<svg xmlns=\"http://www.w3.org/2000/svg\" height=\"24px\"viewBox=\"0 0 24 24\"\n",
              "     width=\"24px\">\n",
              "    <g>\n",
              "        <path d=\"M19 3H5c-1.1 0-2 .9-2 2v14c0 1.1.9 2 2 2h14c1.1 0 2-.9 2-2V5c0-1.1-.9-2-2-2zM9 17H7v-7h2v7zm4 0h-2V7h2v10zm4 0h-2v-4h2v4z\"/>\n",
              "    </g>\n",
              "</svg>\n",
              "  </button>\n",
              "\n",
              "<style>\n",
              "  .colab-df-quickchart {\n",
              "      --bg-color: #E8F0FE;\n",
              "      --fill-color: #1967D2;\n",
              "      --hover-bg-color: #E2EBFA;\n",
              "      --hover-fill-color: #174EA6;\n",
              "      --disabled-fill-color: #AAA;\n",
              "      --disabled-bg-color: #DDD;\n",
              "  }\n",
              "\n",
              "  [theme=dark] .colab-df-quickchart {\n",
              "      --bg-color: #3B4455;\n",
              "      --fill-color: #D2E3FC;\n",
              "      --hover-bg-color: #434B5C;\n",
              "      --hover-fill-color: #FFFFFF;\n",
              "      --disabled-bg-color: #3B4455;\n",
              "      --disabled-fill-color: #666;\n",
              "  }\n",
              "\n",
              "  .colab-df-quickchart {\n",
              "    background-color: var(--bg-color);\n",
              "    border: none;\n",
              "    border-radius: 50%;\n",
              "    cursor: pointer;\n",
              "    display: none;\n",
              "    fill: var(--fill-color);\n",
              "    height: 32px;\n",
              "    padding: 0;\n",
              "    width: 32px;\n",
              "  }\n",
              "\n",
              "  .colab-df-quickchart:hover {\n",
              "    background-color: var(--hover-bg-color);\n",
              "    box-shadow: 0 1px 2px rgba(60, 64, 67, 0.3), 0 1px 3px 1px rgba(60, 64, 67, 0.15);\n",
              "    fill: var(--button-hover-fill-color);\n",
              "  }\n",
              "\n",
              "  .colab-df-quickchart-complete:disabled,\n",
              "  .colab-df-quickchart-complete:disabled:hover {\n",
              "    background-color: var(--disabled-bg-color);\n",
              "    fill: var(--disabled-fill-color);\n",
              "    box-shadow: none;\n",
              "  }\n",
              "\n",
              "  .colab-df-spinner {\n",
              "    border: 2px solid var(--fill-color);\n",
              "    border-color: transparent;\n",
              "    border-bottom-color: var(--fill-color);\n",
              "    animation:\n",
              "      spin 1s steps(1) infinite;\n",
              "  }\n",
              "\n",
              "  @keyframes spin {\n",
              "    0% {\n",
              "      border-color: transparent;\n",
              "      border-bottom-color: var(--fill-color);\n",
              "      border-left-color: var(--fill-color);\n",
              "    }\n",
              "    20% {\n",
              "      border-color: transparent;\n",
              "      border-left-color: var(--fill-color);\n",
              "      border-top-color: var(--fill-color);\n",
              "    }\n",
              "    30% {\n",
              "      border-color: transparent;\n",
              "      border-left-color: var(--fill-color);\n",
              "      border-top-color: var(--fill-color);\n",
              "      border-right-color: var(--fill-color);\n",
              "    }\n",
              "    40% {\n",
              "      border-color: transparent;\n",
              "      border-right-color: var(--fill-color);\n",
              "      border-top-color: var(--fill-color);\n",
              "    }\n",
              "    60% {\n",
              "      border-color: transparent;\n",
              "      border-right-color: var(--fill-color);\n",
              "    }\n",
              "    80% {\n",
              "      border-color: transparent;\n",
              "      border-right-color: var(--fill-color);\n",
              "      border-bottom-color: var(--fill-color);\n",
              "    }\n",
              "    90% {\n",
              "      border-color: transparent;\n",
              "      border-bottom-color: var(--fill-color);\n",
              "    }\n",
              "  }\n",
              "</style>\n",
              "\n",
              "  <script>\n",
              "    async function quickchart(key) {\n",
              "      const quickchartButtonEl =\n",
              "        document.querySelector('#' + key + ' button');\n",
              "      quickchartButtonEl.disabled = true;  // To prevent multiple clicks.\n",
              "      quickchartButtonEl.classList.add('colab-df-spinner');\n",
              "      try {\n",
              "        const charts = await google.colab.kernel.invokeFunction(\n",
              "            'suggestCharts', [key], {});\n",
              "      } catch (error) {\n",
              "        console.error('Error during call to suggestCharts:', error);\n",
              "      }\n",
              "      quickchartButtonEl.classList.remove('colab-df-spinner');\n",
              "      quickchartButtonEl.classList.add('colab-df-quickchart-complete');\n",
              "    }\n",
              "    (() => {\n",
              "      let quickchartButtonEl =\n",
              "        document.querySelector('#df-90c792e3-6da0-40e8-a165-641a899e5082 button');\n",
              "      quickchartButtonEl.style.display =\n",
              "        google.colab.kernel.accessAllowed ? 'block' : 'none';\n",
              "    })();\n",
              "  </script>\n",
              "</div>\n",
              "    </div>\n",
              "  </div>\n"
            ]
          },
          "metadata": {},
          "execution_count": 106
        }
      ]
    },
    {
      "cell_type": "code",
      "source": [
        "for row in range(Headliner_transcriptions_df.shape[0]):\n",
        "  with open(all_dataset_path + Headliner_transcriptions_df.loc[row, ['Файл whisper-транскрибации записи звонка']].values[0], 'rb') as f:\n",
        "    contents = f.read()\n",
        "  Headliner_transcriptions_df.loc[row, ['Текст whisper-транскрибации записи звонка']] = contents.decode('utf-16').strip()"
      ],
      "metadata": {
        "id": "Nq-GT5t-YY05"
      },
      "execution_count": null,
      "outputs": []
    },
    {
      "cell_type": "code",
      "source": [
        "Headliner_transcriptions_df['Текст whisper-транскрибации записи звонка'].head()"
      ],
      "metadata": {
        "colab": {
          "base_uri": "https://localhost:8080/"
        },
        "id": "Q4C17PaHbMlr",
        "outputId": "9b8ddc08-9136-4bcc-f5b6-b14e4c0314db"
      },
      "execution_count": null,
      "outputs": [
        {
          "output_type": "execute_result",
          "data": {
            "text/plain": [
              "0    Здравствуйте, вы позвонили в группу компании «Картро». Благодарим вас за звонок. Пожалуйста, дождитесь ответа оператора. Группа компании «Картро» Статьяна, здравствуйте. Статьяна, здравствуйте. Меня зовут Анжела. Хотела вас уточнить по ЖК «Хоббелайнер». Интересует третья очередь или еще какая-то четвертая, а, вторая очередь. Третья очередь. Квартиры 30 и 40 квадратов. Хорошо, я вас поденю с менеджером. Минуту оставайтесь на линии. Спасибо. Жилой комплекс «Хоббелайнер». Меня зовут Виталия. Здравствуйте. Виталия, здравствуйте. Меня зовут Анжела. По поводу квартиры «Хоббелайнер». Вторая, третья очередь. Интересует квартиры 30 и 40 квадратов. Во второй очереди 30 квадратных метров по проекту не было. Площадь от 40 квадратных метров начиналась. Сейчас минимальный бюджет в построенной второй очереди начинается от 22 миллионов за 43 квадратных метра. Есть варианты с площадью 30 квадратных метров со сроком выдачи в ключе 2024 год. По бюджету начинается от 17,5 миллионов. Это со всеми макс...\n",
              "1                                                                                                                                                                                                                                                                             Добрый день, слушаю вас. Как Вы зваетесь? Как Вы сказали, извините. Михаил. Михаил, мне нужно, знаете что, ООО «Элиткомплекс» по какому адресу находится? Шминцский проезд, 39, курс 2. Оттуда приехали, говорят, что нет такого. Охрана никого не пускает. Первый этаж, куда им идти? За минуту. 39, курс 2, первый этаж, помещение 18, кабинет 2-10. Это находится примерно рядом с вкусвиллом. Там дальше вкусвилл будет. Так, подождите, подождите, вот этот адрес, курс 2, первый этаж, помещение 18, кабинет 2-10. Кабинет 2-10, да? Да. Так, это и вот вкусвилл. Да, от вкусвилла, там буквально получается, если смотреть на вкусвилл, с правой стороны будет вход. С правой стороны вход от вкусвилл, да? Да, да, да. Угу, все, спасибо вам большое.\n",
              "2    Алло, Михаил, это снова я. Скажите, пожалуйста, вот там никто, ну охрану туда не пускают. Может кто-то спуститься? Как этого устроить? Кто-нибудь может туда подойти, потому что их там не запускают? Я пока не могу подсказать. Блин, ну что делать? Они ехали. Если вы не в правильном помещении... Не, не, не, они в правильном. Нас все нашли, говорит, лозунг кусил, все нашли, в помещении стоят, там ждут, и кого ждут неизвестно. И там ехали, там еще... Там есть секретарь, который может принять документы. Вы это объясните охраннику, что ему нужно секретарь, чтобы он принял документы, и все. Может быть просто секретарь переехал в другое место. Вот. Нужен секретарь, который примет документы, и все. Вот и все. Блин, а отлично, мы будем искать того секретаря. Там точно должен быть кто-то, может быть, правда? Может быть просто секретарь, который принимает документы, он на обед отошел, поэтому охрана не пускает вас. Нужно это охране объяснить, они смогут подсказать. Потому что охранник думает, ...\n",
              "3    ЗВОНОК ТЕЛЕФОНА ЗВОНОК ТЕЛЕФОНА Добрый день, группа «Картас». Михаил слушает вас. Здравствуйте. Михаил, нужно акт прямой передачи сделать. Включайте. Подскажите, какой проект, фамилия, собственник? Фамилия Белов, Щелково-Богородск. Да. Белов Андреанович. Я просто у вас здесь стою, охрана не пускает, говорит. Никуда не знает. А, я понял, Щелково-Богородск. Вам же объясняли, что необходимо заявление написать письменное. Да, а вот куда войти нужно? Только после рассмотрения данного заявления вам смогут сделать дубликат акта. Просто так это не делается. Нет, я вас понял. Я просто вот у вас в Москве стою, куда мне нужно идти? Кому вызвать, чтобы я написал заявление? Держите к тому адресу. Шмидтовский проезд, 39, корпус 2, этаж 1, помещение 18, кабинет 210. Ну, я вот здесь стою, охрана меня не пускает. Можно объяснить? Что такое отдел продаж? Отделы продаж, наверное, надо стоять или где? С одной стороны, у вас там технические документы делают. Куда нужно с этим актом бежать? Вам заявлен...\n",
              "4                                                                                                                                                                                                                                                                                                                                                                                                                                                                                                                                                                                                                                                                                                                                                                                                                                                                                                                                                                                                                             *** Music ***\n",
              "Name: Текст whisper-транскрибации записи звонка, dtype: object"
            ]
          },
          "metadata": {},
          "execution_count": 109
        }
      ]
    },
    {
      "cell_type": "markdown",
      "source": [
        "#### Типы данных"
      ],
      "metadata": {
        "id": "tEF2twPbCIoF"
      }
    },
    {
      "cell_type": "code",
      "source": [
        "# Смотрим типы данных\n",
        "Headliner_transcriptions_df.dtypes"
      ],
      "metadata": {
        "colab": {
          "base_uri": "https://localhost:8080/"
        },
        "outputId": "9f7c1ddc-d0eb-4122-ed75-b421da0f194a",
        "id": "Dn4JEO_jCIoF"
      },
      "execution_count": null,
      "outputs": [
        {
          "output_type": "execute_result",
          "data": {
            "text/plain": [
              "Дата и время                                 datetime64[ns]\n",
              "Номер абонента                                        int64\n",
              "Номер сотрудника                                      int64\n",
              "Идентификатор сессии звонка                           int64\n",
              "Файл whisper-транскрибации записи звонка             object\n",
              "Текст whisper-транскрибации записи звонка            object\n",
              "dtype: object"
            ]
          },
          "metadata": {},
          "execution_count": 110
        }
      ]
    },
    {
      "cell_type": "code",
      "source": [
        "print(Headliner_transcriptions_df.count())"
      ],
      "metadata": {
        "colab": {
          "base_uri": "https://localhost:8080/"
        },
        "outputId": "682d0214-2c01-47a5-c30a-eaf0e948c9fe",
        "id": "NK9q4S1gCIoG"
      },
      "execution_count": null,
      "outputs": [
        {
          "output_type": "stream",
          "name": "stdout",
          "text": [
            "Дата и время                                 1226\n",
            "Номер абонента                               1226\n",
            "Номер сотрудника                             1226\n",
            "Идентификатор сессии звонка                  1226\n",
            "Файл whisper-транскрибации записи звонка     1226\n",
            "Текст whisper-транскрибации записи звонка    1226\n",
            "dtype: int64\n"
          ]
        }
      ]
    },
    {
      "cell_type": "markdown",
      "source": [
        "#### Сохранение датафрейма"
      ],
      "metadata": {
        "id": "hGgjtDmiCIoH"
      }
    },
    {
      "cell_type": "code",
      "source": [
        "# Сохраняем Headliner_transcriptions_df в файл\n",
        "with open(df_path + 'Headliner_transcriptions_df.pkl', 'wb') as f:\n",
        "  pkl.dump(Headliner_transcriptions_df, f)"
      ],
      "metadata": {
        "id": "YTCWcpGMCIoT"
      },
      "execution_count": null,
      "outputs": []
    },
    {
      "cell_type": "markdown",
      "source": [
        "### Primavera"
      ],
      "metadata": {
        "id": "LtXQd2ARM1i8"
      }
    },
    {
      "cell_type": "markdown",
      "source": [
        "#### Создание датафрейма"
      ],
      "metadata": {
        "id": "Fig-fZc_M1i9"
      }
    },
    {
      "cell_type": "code",
      "source": [
        "# Создаём датафрейм из списка файлов транскрибации звонков Primavera\n",
        "Primavera_transcriptions_df = transcriptions_list_to_df(os.listdir(transcription_path + 'Расшифровки_Записи звонков_primavera'))\n",
        "Primavera_transcriptions_df.shape"
      ],
      "metadata": {
        "colab": {
          "base_uri": "https://localhost:8080/"
        },
        "outputId": "f902fe37-1dbc-40f6-95ad-2dd41a660925",
        "id": "9ECH2wNOM1i_"
      },
      "execution_count": 22,
      "outputs": [
        {
          "output_type": "execute_result",
          "data": {
            "text/plain": [
              "(1983, 5)"
            ]
          },
          "metadata": {},
          "execution_count": 22
        }
      ]
    },
    {
      "cell_type": "code",
      "source": [
        "Primavera_transcriptions_df.head()"
      ],
      "metadata": {
        "colab": {
          "base_uri": "https://localhost:8080/",
          "height": 310
        },
        "outputId": "491122c0-7a91-49b6-81b6-ec07ecdbc68d",
        "id": "Dc0ceRzqM1jA"
      },
      "execution_count": 23,
      "outputs": [
        {
          "output_type": "execute_result",
          "data": {
            "text/plain": [
              "          Дата и время Номер абонента Номер сотрудника  \\\n",
              "0  2023-05-30 17:50:53    79264254292          0197875   \n",
              "1  2023-05-30 18:03:54    79258608972          0111642   \n",
              "2  2023-05-30 18:20:56    79255210338          0197879   \n",
              "3  2023-05-30 19:19:50    79165220654          0111652   \n",
              "4  2023-05-31 11:35:31    79051447861          0197875   \n",
              "\n",
              "  Идентификатор сессии звонка  \\\n",
              "0                  2974454505   \n",
              "1                  2959172642   \n",
              "2                  2989586940   \n",
              "3                  2959295102   \n",
              "4                  2974889895   \n",
              "\n",
              "                                                           Файл whisper-транскрибации записи звонка  \n",
              "0  2023-05-30_17-50-53.271117_from_79264254292_to_0197875_session_2974454505_talk_whisper_large.txt  \n",
              "1  2023-05-30_18-03-54.199516_from_79258608972_to_0111642_session_2959172642_talk_whisper_large.txt  \n",
              "2  2023-05-30_18-20-56.881493_from_79255210338_to_0197879_session_2989586940_talk_whisper_large.txt  \n",
              "3  2023-05-30_19-19-50.688195_from_79165220654_to_0111652_session_2959295102_talk_whisper_large.txt  \n",
              "4  2023-05-31_11-35-31.261521_from_79051447861_to_0197875_session_2974889895_talk_whisper_large.txt  "
            ],
            "text/html": [
              "\n",
              "  <div id=\"df-4203cec4-8a60-4a88-9d52-14ac55658bd6\" class=\"colab-df-container\">\n",
              "    <div>\n",
              "<style scoped>\n",
              "    .dataframe tbody tr th:only-of-type {\n",
              "        vertical-align: middle;\n",
              "    }\n",
              "\n",
              "    .dataframe tbody tr th {\n",
              "        vertical-align: top;\n",
              "    }\n",
              "\n",
              "    .dataframe thead th {\n",
              "        text-align: right;\n",
              "    }\n",
              "</style>\n",
              "<table border=\"1\" class=\"dataframe\">\n",
              "  <thead>\n",
              "    <tr style=\"text-align: right;\">\n",
              "      <th></th>\n",
              "      <th>Дата и время</th>\n",
              "      <th>Номер абонента</th>\n",
              "      <th>Номер сотрудника</th>\n",
              "      <th>Идентификатор сессии звонка</th>\n",
              "      <th>Файл whisper-транскрибации записи звонка</th>\n",
              "    </tr>\n",
              "  </thead>\n",
              "  <tbody>\n",
              "    <tr>\n",
              "      <th>0</th>\n",
              "      <td>2023-05-30 17:50:53</td>\n",
              "      <td>79264254292</td>\n",
              "      <td>0197875</td>\n",
              "      <td>2974454505</td>\n",
              "      <td>2023-05-30_17-50-53.271117_from_79264254292_to_0197875_session_2974454505_talk_whisper_large.txt</td>\n",
              "    </tr>\n",
              "    <tr>\n",
              "      <th>1</th>\n",
              "      <td>2023-05-30 18:03:54</td>\n",
              "      <td>79258608972</td>\n",
              "      <td>0111642</td>\n",
              "      <td>2959172642</td>\n",
              "      <td>2023-05-30_18-03-54.199516_from_79258608972_to_0111642_session_2959172642_talk_whisper_large.txt</td>\n",
              "    </tr>\n",
              "    <tr>\n",
              "      <th>2</th>\n",
              "      <td>2023-05-30 18:20:56</td>\n",
              "      <td>79255210338</td>\n",
              "      <td>0197879</td>\n",
              "      <td>2989586940</td>\n",
              "      <td>2023-05-30_18-20-56.881493_from_79255210338_to_0197879_session_2989586940_talk_whisper_large.txt</td>\n",
              "    </tr>\n",
              "    <tr>\n",
              "      <th>3</th>\n",
              "      <td>2023-05-30 19:19:50</td>\n",
              "      <td>79165220654</td>\n",
              "      <td>0111652</td>\n",
              "      <td>2959295102</td>\n",
              "      <td>2023-05-30_19-19-50.688195_from_79165220654_to_0111652_session_2959295102_talk_whisper_large.txt</td>\n",
              "    </tr>\n",
              "    <tr>\n",
              "      <th>4</th>\n",
              "      <td>2023-05-31 11:35:31</td>\n",
              "      <td>79051447861</td>\n",
              "      <td>0197875</td>\n",
              "      <td>2974889895</td>\n",
              "      <td>2023-05-31_11-35-31.261521_from_79051447861_to_0197875_session_2974889895_talk_whisper_large.txt</td>\n",
              "    </tr>\n",
              "  </tbody>\n",
              "</table>\n",
              "</div>\n",
              "    <div class=\"colab-df-buttons\">\n",
              "\n",
              "  <div class=\"colab-df-container\">\n",
              "    <button class=\"colab-df-convert\" onclick=\"convertToInteractive('df-4203cec4-8a60-4a88-9d52-14ac55658bd6')\"\n",
              "            title=\"Convert this dataframe to an interactive table.\"\n",
              "            style=\"display:none;\">\n",
              "\n",
              "  <svg xmlns=\"http://www.w3.org/2000/svg\" height=\"24px\" viewBox=\"0 -960 960 960\">\n",
              "    <path d=\"M120-120v-720h720v720H120Zm60-500h600v-160H180v160Zm220 220h160v-160H400v160Zm0 220h160v-160H400v160ZM180-400h160v-160H180v160Zm440 0h160v-160H620v160ZM180-180h160v-160H180v160Zm440 0h160v-160H620v160Z\"/>\n",
              "  </svg>\n",
              "    </button>\n",
              "\n",
              "  <style>\n",
              "    .colab-df-container {\n",
              "      display:flex;\n",
              "      gap: 12px;\n",
              "    }\n",
              "\n",
              "    .colab-df-convert {\n",
              "      background-color: #E8F0FE;\n",
              "      border: none;\n",
              "      border-radius: 50%;\n",
              "      cursor: pointer;\n",
              "      display: none;\n",
              "      fill: #1967D2;\n",
              "      height: 32px;\n",
              "      padding: 0 0 0 0;\n",
              "      width: 32px;\n",
              "    }\n",
              "\n",
              "    .colab-df-convert:hover {\n",
              "      background-color: #E2EBFA;\n",
              "      box-shadow: 0px 1px 2px rgba(60, 64, 67, 0.3), 0px 1px 3px 1px rgba(60, 64, 67, 0.15);\n",
              "      fill: #174EA6;\n",
              "    }\n",
              "\n",
              "    .colab-df-buttons div {\n",
              "      margin-bottom: 4px;\n",
              "    }\n",
              "\n",
              "    [theme=dark] .colab-df-convert {\n",
              "      background-color: #3B4455;\n",
              "      fill: #D2E3FC;\n",
              "    }\n",
              "\n",
              "    [theme=dark] .colab-df-convert:hover {\n",
              "      background-color: #434B5C;\n",
              "      box-shadow: 0px 1px 3px 1px rgba(0, 0, 0, 0.15);\n",
              "      filter: drop-shadow(0px 1px 2px rgba(0, 0, 0, 0.3));\n",
              "      fill: #FFFFFF;\n",
              "    }\n",
              "  </style>\n",
              "\n",
              "    <script>\n",
              "      const buttonEl =\n",
              "        document.querySelector('#df-4203cec4-8a60-4a88-9d52-14ac55658bd6 button.colab-df-convert');\n",
              "      buttonEl.style.display =\n",
              "        google.colab.kernel.accessAllowed ? 'block' : 'none';\n",
              "\n",
              "      async function convertToInteractive(key) {\n",
              "        const element = document.querySelector('#df-4203cec4-8a60-4a88-9d52-14ac55658bd6');\n",
              "        const dataTable =\n",
              "          await google.colab.kernel.invokeFunction('convertToInteractive',\n",
              "                                                    [key], {});\n",
              "        if (!dataTable) return;\n",
              "\n",
              "        const docLinkHtml = 'Like what you see? Visit the ' +\n",
              "          '<a target=\"_blank\" href=https://colab.research.google.com/notebooks/data_table.ipynb>data table notebook</a>'\n",
              "          + ' to learn more about interactive tables.';\n",
              "        element.innerHTML = '';\n",
              "        dataTable['output_type'] = 'display_data';\n",
              "        await google.colab.output.renderOutput(dataTable, element);\n",
              "        const docLink = document.createElement('div');\n",
              "        docLink.innerHTML = docLinkHtml;\n",
              "        element.appendChild(docLink);\n",
              "      }\n",
              "    </script>\n",
              "  </div>\n",
              "\n",
              "\n",
              "<div id=\"df-2932592a-2973-4889-94b4-4b1d1e3f2465\">\n",
              "  <button class=\"colab-df-quickchart\" onclick=\"quickchart('df-2932592a-2973-4889-94b4-4b1d1e3f2465')\"\n",
              "            title=\"Suggest charts\"\n",
              "            style=\"display:none;\">\n",
              "\n",
              "<svg xmlns=\"http://www.w3.org/2000/svg\" height=\"24px\"viewBox=\"0 0 24 24\"\n",
              "     width=\"24px\">\n",
              "    <g>\n",
              "        <path d=\"M19 3H5c-1.1 0-2 .9-2 2v14c0 1.1.9 2 2 2h14c1.1 0 2-.9 2-2V5c0-1.1-.9-2-2-2zM9 17H7v-7h2v7zm4 0h-2V7h2v10zm4 0h-2v-4h2v4z\"/>\n",
              "    </g>\n",
              "</svg>\n",
              "  </button>\n",
              "\n",
              "<style>\n",
              "  .colab-df-quickchart {\n",
              "      --bg-color: #E8F0FE;\n",
              "      --fill-color: #1967D2;\n",
              "      --hover-bg-color: #E2EBFA;\n",
              "      --hover-fill-color: #174EA6;\n",
              "      --disabled-fill-color: #AAA;\n",
              "      --disabled-bg-color: #DDD;\n",
              "  }\n",
              "\n",
              "  [theme=dark] .colab-df-quickchart {\n",
              "      --bg-color: #3B4455;\n",
              "      --fill-color: #D2E3FC;\n",
              "      --hover-bg-color: #434B5C;\n",
              "      --hover-fill-color: #FFFFFF;\n",
              "      --disabled-bg-color: #3B4455;\n",
              "      --disabled-fill-color: #666;\n",
              "  }\n",
              "\n",
              "  .colab-df-quickchart {\n",
              "    background-color: var(--bg-color);\n",
              "    border: none;\n",
              "    border-radius: 50%;\n",
              "    cursor: pointer;\n",
              "    display: none;\n",
              "    fill: var(--fill-color);\n",
              "    height: 32px;\n",
              "    padding: 0;\n",
              "    width: 32px;\n",
              "  }\n",
              "\n",
              "  .colab-df-quickchart:hover {\n",
              "    background-color: var(--hover-bg-color);\n",
              "    box-shadow: 0 1px 2px rgba(60, 64, 67, 0.3), 0 1px 3px 1px rgba(60, 64, 67, 0.15);\n",
              "    fill: var(--button-hover-fill-color);\n",
              "  }\n",
              "\n",
              "  .colab-df-quickchart-complete:disabled,\n",
              "  .colab-df-quickchart-complete:disabled:hover {\n",
              "    background-color: var(--disabled-bg-color);\n",
              "    fill: var(--disabled-fill-color);\n",
              "    box-shadow: none;\n",
              "  }\n",
              "\n",
              "  .colab-df-spinner {\n",
              "    border: 2px solid var(--fill-color);\n",
              "    border-color: transparent;\n",
              "    border-bottom-color: var(--fill-color);\n",
              "    animation:\n",
              "      spin 1s steps(1) infinite;\n",
              "  }\n",
              "\n",
              "  @keyframes spin {\n",
              "    0% {\n",
              "      border-color: transparent;\n",
              "      border-bottom-color: var(--fill-color);\n",
              "      border-left-color: var(--fill-color);\n",
              "    }\n",
              "    20% {\n",
              "      border-color: transparent;\n",
              "      border-left-color: var(--fill-color);\n",
              "      border-top-color: var(--fill-color);\n",
              "    }\n",
              "    30% {\n",
              "      border-color: transparent;\n",
              "      border-left-color: var(--fill-color);\n",
              "      border-top-color: var(--fill-color);\n",
              "      border-right-color: var(--fill-color);\n",
              "    }\n",
              "    40% {\n",
              "      border-color: transparent;\n",
              "      border-right-color: var(--fill-color);\n",
              "      border-top-color: var(--fill-color);\n",
              "    }\n",
              "    60% {\n",
              "      border-color: transparent;\n",
              "      border-right-color: var(--fill-color);\n",
              "    }\n",
              "    80% {\n",
              "      border-color: transparent;\n",
              "      border-right-color: var(--fill-color);\n",
              "      border-bottom-color: var(--fill-color);\n",
              "    }\n",
              "    90% {\n",
              "      border-color: transparent;\n",
              "      border-bottom-color: var(--fill-color);\n",
              "    }\n",
              "  }\n",
              "</style>\n",
              "\n",
              "  <script>\n",
              "    async function quickchart(key) {\n",
              "      const quickchartButtonEl =\n",
              "        document.querySelector('#' + key + ' button');\n",
              "      quickchartButtonEl.disabled = true;  // To prevent multiple clicks.\n",
              "      quickchartButtonEl.classList.add('colab-df-spinner');\n",
              "      try {\n",
              "        const charts = await google.colab.kernel.invokeFunction(\n",
              "            'suggestCharts', [key], {});\n",
              "      } catch (error) {\n",
              "        console.error('Error during call to suggestCharts:', error);\n",
              "      }\n",
              "      quickchartButtonEl.classList.remove('colab-df-spinner');\n",
              "      quickchartButtonEl.classList.add('colab-df-quickchart-complete');\n",
              "    }\n",
              "    (() => {\n",
              "      let quickchartButtonEl =\n",
              "        document.querySelector('#df-2932592a-2973-4889-94b4-4b1d1e3f2465 button');\n",
              "      quickchartButtonEl.style.display =\n",
              "        google.colab.kernel.accessAllowed ? 'block' : 'none';\n",
              "    })();\n",
              "  </script>\n",
              "</div>\n",
              "    </div>\n",
              "  </div>\n"
            ]
          },
          "metadata": {},
          "execution_count": 23
        }
      ]
    },
    {
      "cell_type": "code",
      "source": [
        "# Проверяем количество строк\n",
        "print(len(os.listdir(transcription_path + 'Расшифровки_Записи звонков_primavera')))\n",
        "print(Primavera_transcriptions_df.shape[0])"
      ],
      "metadata": {
        "colab": {
          "base_uri": "https://localhost:8080/"
        },
        "outputId": "d799e4fb-ae5d-4588-b629-a4a5db1eb4de",
        "id": "NMwed2VJM1jN"
      },
      "execution_count": 24,
      "outputs": [
        {
          "output_type": "stream",
          "name": "stdout",
          "text": [
            "1983\n",
            "1983\n"
          ]
        }
      ]
    },
    {
      "cell_type": "code",
      "source": [
        "print(Primavera_transcriptions_df.count())"
      ],
      "metadata": {
        "colab": {
          "base_uri": "https://localhost:8080/"
        },
        "outputId": "12536731-a0ee-4062-a981-77ab2f063917",
        "id": "RIi2sABwM1jO"
      },
      "execution_count": 25,
      "outputs": [
        {
          "output_type": "stream",
          "name": "stdout",
          "text": [
            "Дата и время                                1983\n",
            "Номер абонента                              1983\n",
            "Номер сотрудника                            1983\n",
            "Идентификатор сессии звонка                 1983\n",
            "Файл whisper-транскрибации записи звонка    1983\n",
            "dtype: int64\n"
          ]
        }
      ]
    },
    {
      "cell_type": "markdown",
      "source": [
        "#### Предобработка"
      ],
      "metadata": {
        "id": "v476C60iM1jQ"
      }
    },
    {
      "cell_type": "markdown",
      "source": [
        "##### 0. Дата и время"
      ],
      "metadata": {
        "id": "IBU4Y16dM1jR"
      }
    },
    {
      "cell_type": "code",
      "source": [
        "Primavera_transcriptions_df['Дата и время'].head()"
      ],
      "metadata": {
        "colab": {
          "base_uri": "https://localhost:8080/"
        },
        "outputId": "ca6d6178-9c75-427f-cc07-4f635eda140b",
        "id": "uq5Je10AM1jS"
      },
      "execution_count": null,
      "outputs": [
        {
          "output_type": "execute_result",
          "data": {
            "text/plain": [
              "0    2023-09-01 09:00:40\n",
              "1    2023-09-01 09:25:57\n",
              "2    2023-09-01 11:16:28\n",
              "3    2023-09-01 11:42:21\n",
              "4    2023-09-01 12:05:26\n",
              "Name: Дата и время, dtype: object"
            ]
          },
          "metadata": {},
          "execution_count": 117
        }
      ]
    },
    {
      "cell_type": "code",
      "source": [
        "# Приводим тип данных столбца 'Дата и время'\n",
        "Primavera_transcriptions_df['Дата и время'] = pd.to_datetime(Primavera_transcriptions_df['Дата и время'])"
      ],
      "metadata": {
        "id": "_1Nj2YkOM1jT"
      },
      "execution_count": null,
      "outputs": []
    },
    {
      "cell_type": "code",
      "source": [
        "Primavera_transcriptions_df['Дата и время'].tail()"
      ],
      "metadata": {
        "colab": {
          "base_uri": "https://localhost:8080/"
        },
        "outputId": "5c1c34a7-aaa4-416f-e5d0-f925d3564f0c",
        "id": "iqTzZ8SbM1jU"
      },
      "execution_count": null,
      "outputs": [
        {
          "output_type": "execute_result",
          "data": {
            "text/plain": [
              "762   2023-10-04 17:28:47\n",
              "763   2023-10-04 17:34:08\n",
              "764   2023-10-04 18:13:46\n",
              "765   2023-10-04 19:40:25\n",
              "766   2023-10-04 19:47:06\n",
              "Name: Дата и время, dtype: datetime64[ns]"
            ]
          },
          "metadata": {},
          "execution_count": 119
        }
      ]
    },
    {
      "cell_type": "markdown",
      "source": [
        "##### 1. Номер абонента"
      ],
      "metadata": {
        "id": "mzICK7d_M1jW"
      }
    },
    {
      "cell_type": "code",
      "source": [
        "Primavera_transcriptions_df['Номер абонента'].head()"
      ],
      "metadata": {
        "colab": {
          "base_uri": "https://localhost:8080/"
        },
        "outputId": "9998054c-1f89-4694-bd7e-bea71abbc6ea",
        "id": "XwLbFKIKM1jk"
      },
      "execution_count": null,
      "outputs": [
        {
          "output_type": "execute_result",
          "data": {
            "text/plain": [
              "0    74950210291\n",
              "1    79264683596\n",
              "2    79161163889\n",
              "3    79377999852\n",
              "4    79199944228\n",
              "Name: Номер абонента, dtype: object"
            ]
          },
          "metadata": {},
          "execution_count": 120
        }
      ]
    },
    {
      "cell_type": "code",
      "source": [
        "# Приводим тип данных столбца 'Номер абонента'\n",
        "Primavera_transcriptions_df = Primavera_transcriptions_df.astype({'Номер абонента': int})"
      ],
      "metadata": {
        "id": "XviUJt8iM1jk"
      },
      "execution_count": null,
      "outputs": []
    },
    {
      "cell_type": "code",
      "source": [
        "Primavera_transcriptions_df['Номер абонента'].tail()"
      ],
      "metadata": {
        "colab": {
          "base_uri": "https://localhost:8080/"
        },
        "outputId": "ea153ddf-b355-4d5f-d128-231757294756",
        "id": "l5auNqNYM1jk"
      },
      "execution_count": null,
      "outputs": [
        {
          "output_type": "execute_result",
          "data": {
            "text/plain": [
              "762    79263997574\n",
              "763    74950851200\n",
              "764    79263997574\n",
              "765    74950210291\n",
              "766    79624005760\n",
              "Name: Номер абонента, dtype: int64"
            ]
          },
          "metadata": {},
          "execution_count": 122
        }
      ]
    },
    {
      "cell_type": "markdown",
      "source": [
        "##### 2. Номер сотрудника"
      ],
      "metadata": {
        "id": "U2f7FXCWM1jm"
      }
    },
    {
      "cell_type": "code",
      "source": [
        "Primavera_transcriptions_df['Номер сотрудника'].head()"
      ],
      "metadata": {
        "colab": {
          "base_uri": "https://localhost:8080/"
        },
        "outputId": "dfc66b01-0a5e-4914-dec1-04d808b09f1d",
        "id": "pfxrIDzhM1jm"
      },
      "execution_count": null,
      "outputs": [
        {
          "output_type": "execute_result",
          "data": {
            "text/plain": [
              "0    0253211\n",
              "1    0111639\n",
              "2    0111652\n",
              "3    0253201\n",
              "4    0111652\n",
              "Name: Номер сотрудника, dtype: object"
            ]
          },
          "metadata": {},
          "execution_count": 123
        }
      ]
    },
    {
      "cell_type": "code",
      "source": [
        "# Приводим тип данных столбца 'Номер сотрудника'\n",
        "Primavera_transcriptions_df = Primavera_transcriptions_df.astype({'Номер сотрудника': int})"
      ],
      "metadata": {
        "id": "1QzUQSOkM1jm"
      },
      "execution_count": null,
      "outputs": []
    },
    {
      "cell_type": "code",
      "source": [
        "Primavera_transcriptions_df['Номер сотрудника'].tail()"
      ],
      "metadata": {
        "colab": {
          "base_uri": "https://localhost:8080/"
        },
        "outputId": "b5db75d9-4299-40c7-c971-58061f51d2f8",
        "id": "odkYa4AFM1jn"
      },
      "execution_count": null,
      "outputs": [
        {
          "output_type": "execute_result",
          "data": {
            "text/plain": [
              "762    111652\n",
              "763    173695\n",
              "764    111642\n",
              "765    253206\n",
              "766    111652\n",
              "Name: Номер сотрудника, dtype: int64"
            ]
          },
          "metadata": {},
          "execution_count": 125
        }
      ]
    },
    {
      "cell_type": "markdown",
      "source": [
        "##### 3. Идентификатор сессии звонка"
      ],
      "metadata": {
        "id": "ifNPnBQLM1jn"
      }
    },
    {
      "cell_type": "code",
      "source": [
        "Primavera_transcriptions_df['Идентификатор сессии звонка'].head()"
      ],
      "metadata": {
        "colab": {
          "base_uri": "https://localhost:8080/"
        },
        "outputId": "3495e576-08ce-442d-a6b7-ef94cc6d9ce1",
        "id": "Y9OHC_eXM1jo"
      },
      "execution_count": null,
      "outputs": [
        {
          "output_type": "execute_result",
          "data": {
            "text/plain": [
              "0    3200997782\n",
              "1    3187995780\n",
              "2    3195799881\n",
              "3    3188347120\n",
              "4    3188422720\n",
              "Name: Идентификатор сессии звонка, dtype: object"
            ]
          },
          "metadata": {},
          "execution_count": 126
        }
      ]
    },
    {
      "cell_type": "code",
      "source": [
        "# Приводим тип данных столбца 'Идентификатор сессии звонка'\n",
        "Primavera_transcriptions_df = Primavera_transcriptions_df.astype({'Идентификатор сессии звонка': int})"
      ],
      "metadata": {
        "id": "UqaCbuX1M1jo"
      },
      "execution_count": null,
      "outputs": []
    },
    {
      "cell_type": "code",
      "source": [
        "Primavera_transcriptions_df['Идентификатор сессии звонка'].tail()"
      ],
      "metadata": {
        "colab": {
          "base_uri": "https://localhost:8080/"
        },
        "outputId": "ec0f74ad-6bd9-4c61-eb88-cd21be07db36",
        "id": "GQUK4UG4M1jp"
      },
      "execution_count": null,
      "outputs": [
        {
          "output_type": "execute_result",
          "data": {
            "text/plain": [
              "762    3272470671\n",
              "763    3276535412\n",
              "764    3269705084\n",
              "765    3276780397\n",
              "766    3264304568\n",
              "Name: Идентификатор сессии звонка, dtype: int64"
            ]
          },
          "metadata": {},
          "execution_count": 128
        }
      ]
    },
    {
      "cell_type": "code",
      "source": [
        "# Смотрим количество уникальных значений столбца 'Идентификатор сессии звонка'\n",
        "Primavera_transcriptions_df['Идентификатор сессии звонка'].nunique()"
      ],
      "metadata": {
        "colab": {
          "base_uri": "https://localhost:8080/"
        },
        "outputId": "5d133a9d-36cb-4be0-d2b9-d0e424960fbf",
        "id": "1dyC2P3jM1jq"
      },
      "execution_count": null,
      "outputs": [
        {
          "output_type": "execute_result",
          "data": {
            "text/plain": [
              "767"
            ]
          },
          "metadata": {},
          "execution_count": 129
        }
      ]
    },
    {
      "cell_type": "markdown",
      "source": [
        "##### 4. Файл whisper-транскрибации записи звонка"
      ],
      "metadata": {
        "id": "yDYudgY1M1jq"
      }
    },
    {
      "cell_type": "code",
      "source": [
        "Primavera_transcriptions_df['Файл whisper-транскрибации записи звонка'].head()"
      ],
      "metadata": {
        "colab": {
          "base_uri": "https://localhost:8080/"
        },
        "outputId": "cfb875ab-a711-402b-93f6-a3e5e2a40bf8",
        "id": "GhnulaHNM1jr"
      },
      "execution_count": null,
      "outputs": [
        {
          "output_type": "execute_result",
          "data": {
            "text/plain": [
              "0    2023-09-01_09-00-40.052431_from_74950210291_to_0253211_session_3200997782_talk_whisper_large.txt\n",
              "1    2023-09-01_09-25-57.450908_from_79264683596_to_0111639_session_3187995780_talk_whisper_large.txt\n",
              "2    2023-09-01_11-16-28.505654_from_79161163889_to_0111652_session_3195799881_talk_whisper_large.txt\n",
              "3    2023-09-01_11-42-21.432552_from_79377999852_to_0253201_session_3188347120_talk_whisper_large.txt\n",
              "4    2023-09-01_12-05-26.624031_from_79199944228_to_0111652_session_3188422720_talk_whisper_large.txt\n",
              "Name: Файл whisper-транскрибации записи звонка, dtype: object"
            ]
          },
          "metadata": {},
          "execution_count": 130
        }
      ]
    },
    {
      "cell_type": "code",
      "source": [
        "# Добавляем к файлам относительные пути\n",
        "Primavera_transcriptions_df['Файл whisper-транскрибации записи звонка'] = Primavera_transcriptions_df['Файл whisper-транскрибации записи звонка'].apply(lambda x: 'Whisper-транскрибация новых записей звонков/Расшифровки_Записи Primavera/' + x)"
      ],
      "metadata": {
        "id": "QkZ48KqRM1jr"
      },
      "execution_count": null,
      "outputs": []
    },
    {
      "cell_type": "code",
      "source": [
        "Primavera_transcriptions_df['Файл whisper-транскрибации записи звонка'].tail()"
      ],
      "metadata": {
        "colab": {
          "base_uri": "https://localhost:8080/"
        },
        "outputId": "dd3450c6-262c-491e-ae6b-8588132c18e2",
        "id": "4dKrC-XCM1jr"
      },
      "execution_count": null,
      "outputs": [
        {
          "output_type": "execute_result",
          "data": {
            "text/plain": [
              "762    Whisper-транскрибация новых записей звонков/Расшифровки_Записи Primavera/2023-10-04_17-28-47.993474_from_79263997574_to_0111652_session_3272470671_talk_whisper_large.txt\n",
              "763    Whisper-транскрибация новых записей звонков/Расшифровки_Записи Primavera/2023-10-04_17-34-08.412006_from_74950851200_to_0173695_session_3276535412_talk_whisper_large.txt\n",
              "764    Whisper-транскрибация новых записей звонков/Расшифровки_Записи Primavera/2023-10-04_18-13-46.905203_from_79263997574_to_0111642_session_3269705084_talk_whisper_large.txt\n",
              "765    Whisper-транскрибация новых записей звонков/Расшифровки_Записи Primavera/2023-10-04_19-40-25.037187_from_74950210291_to_0253206_session_3276780397_talk_whisper_large.txt\n",
              "766    Whisper-транскрибация новых записей звонков/Расшифровки_Записи Primavera/2023-10-04_19-47-06.171534_from_79624005760_to_0111652_session_3264304568_talk_whisper_large.txt\n",
              "Name: Файл whisper-транскрибации записи звонка, dtype: object"
            ]
          },
          "metadata": {},
          "execution_count": 132
        }
      ]
    },
    {
      "cell_type": "markdown",
      "source": [
        "##### 5. Текст whisper-транскрибации записи звонка"
      ],
      "metadata": {
        "id": "Auq8yDWoM1j3"
      }
    },
    {
      "cell_type": "code",
      "source": [
        "# Добавляем столбец 'Текст whisper-транскрибации записи звонка'\n",
        "Primavera_transcriptions_df['Текст whisper-транскрибации записи звонка'] = 'нет текста транскрибации звонка'\n",
        "Primavera_transcriptions_df.head()"
      ],
      "metadata": {
        "colab": {
          "base_uri": "https://localhost:8080/",
          "height": 452
        },
        "outputId": "b4ca4dc4-192e-4b37-a76b-643d186e2e95",
        "id": "yEqifjhUM1j4"
      },
      "execution_count": null,
      "outputs": [
        {
          "output_type": "execute_result",
          "data": {
            "text/plain": [
              "         Дата и время  Номер абонента  Номер сотрудника  \\\n",
              "0 2023-09-01 09:00:40     74950210291            253211   \n",
              "1 2023-09-01 09:25:57     79264683596            111639   \n",
              "2 2023-09-01 11:16:28     79161163889            111652   \n",
              "3 2023-09-01 11:42:21     79377999852            253201   \n",
              "4 2023-09-01 12:05:26     79199944228            111652   \n",
              "\n",
              "   Идентификатор сессии звонка  \\\n",
              "0                   3200997782   \n",
              "1                   3187995780   \n",
              "2                   3195799881   \n",
              "3                   3188347120   \n",
              "4                   3188422720   \n",
              "\n",
              "                                                                                                                                    Файл whisper-транскрибации записи звонка  \\\n",
              "0  Whisper-транскрибация новых записей звонков/Расшифровки_Записи Primavera/2023-09-01_09-00-40.052431_from_74950210291_to_0253211_session_3200997782_talk_whisper_large.txt   \n",
              "1  Whisper-транскрибация новых записей звонков/Расшифровки_Записи Primavera/2023-09-01_09-25-57.450908_from_79264683596_to_0111639_session_3187995780_talk_whisper_large.txt   \n",
              "2  Whisper-транскрибация новых записей звонков/Расшифровки_Записи Primavera/2023-09-01_11-16-28.505654_from_79161163889_to_0111652_session_3195799881_talk_whisper_large.txt   \n",
              "3  Whisper-транскрибация новых записей звонков/Расшифровки_Записи Primavera/2023-09-01_11-42-21.432552_from_79377999852_to_0253201_session_3188347120_talk_whisper_large.txt   \n",
              "4  Whisper-транскрибация новых записей звонков/Расшифровки_Записи Primavera/2023-09-01_12-05-26.624031_from_79199944228_to_0111652_session_3188422720_talk_whisper_large.txt   \n",
              "\n",
              "  Текст whisper-транскрибации записи звонка  \n",
              "0           нет текста транскрибации звонка  \n",
              "1           нет текста транскрибации звонка  \n",
              "2           нет текста транскрибации звонка  \n",
              "3           нет текста транскрибации звонка  \n",
              "4           нет текста транскрибации звонка  "
            ],
            "text/html": [
              "\n",
              "  <div id=\"df-a339ac6f-8f48-4b34-b47a-989210761dc5\" class=\"colab-df-container\">\n",
              "    <div>\n",
              "<style scoped>\n",
              "    .dataframe tbody tr th:only-of-type {\n",
              "        vertical-align: middle;\n",
              "    }\n",
              "\n",
              "    .dataframe tbody tr th {\n",
              "        vertical-align: top;\n",
              "    }\n",
              "\n",
              "    .dataframe thead th {\n",
              "        text-align: right;\n",
              "    }\n",
              "</style>\n",
              "<table border=\"1\" class=\"dataframe\">\n",
              "  <thead>\n",
              "    <tr style=\"text-align: right;\">\n",
              "      <th></th>\n",
              "      <th>Дата и время</th>\n",
              "      <th>Номер абонента</th>\n",
              "      <th>Номер сотрудника</th>\n",
              "      <th>Идентификатор сессии звонка</th>\n",
              "      <th>Файл whisper-транскрибации записи звонка</th>\n",
              "      <th>Текст whisper-транскрибации записи звонка</th>\n",
              "    </tr>\n",
              "  </thead>\n",
              "  <tbody>\n",
              "    <tr>\n",
              "      <th>0</th>\n",
              "      <td>2023-09-01 09:00:40</td>\n",
              "      <td>74950210291</td>\n",
              "      <td>253211</td>\n",
              "      <td>3200997782</td>\n",
              "      <td>Whisper-транскрибация новых записей звонков/Расшифровки_Записи Primavera/2023-09-01_09-00-40.052431_from_74950210291_to_0253211_session_3200997782_talk_whisper_large.txt</td>\n",
              "      <td>нет текста транскрибации звонка</td>\n",
              "    </tr>\n",
              "    <tr>\n",
              "      <th>1</th>\n",
              "      <td>2023-09-01 09:25:57</td>\n",
              "      <td>79264683596</td>\n",
              "      <td>111639</td>\n",
              "      <td>3187995780</td>\n",
              "      <td>Whisper-транскрибация новых записей звонков/Расшифровки_Записи Primavera/2023-09-01_09-25-57.450908_from_79264683596_to_0111639_session_3187995780_talk_whisper_large.txt</td>\n",
              "      <td>нет текста транскрибации звонка</td>\n",
              "    </tr>\n",
              "    <tr>\n",
              "      <th>2</th>\n",
              "      <td>2023-09-01 11:16:28</td>\n",
              "      <td>79161163889</td>\n",
              "      <td>111652</td>\n",
              "      <td>3195799881</td>\n",
              "      <td>Whisper-транскрибация новых записей звонков/Расшифровки_Записи Primavera/2023-09-01_11-16-28.505654_from_79161163889_to_0111652_session_3195799881_talk_whisper_large.txt</td>\n",
              "      <td>нет текста транскрибации звонка</td>\n",
              "    </tr>\n",
              "    <tr>\n",
              "      <th>3</th>\n",
              "      <td>2023-09-01 11:42:21</td>\n",
              "      <td>79377999852</td>\n",
              "      <td>253201</td>\n",
              "      <td>3188347120</td>\n",
              "      <td>Whisper-транскрибация новых записей звонков/Расшифровки_Записи Primavera/2023-09-01_11-42-21.432552_from_79377999852_to_0253201_session_3188347120_talk_whisper_large.txt</td>\n",
              "      <td>нет текста транскрибации звонка</td>\n",
              "    </tr>\n",
              "    <tr>\n",
              "      <th>4</th>\n",
              "      <td>2023-09-01 12:05:26</td>\n",
              "      <td>79199944228</td>\n",
              "      <td>111652</td>\n",
              "      <td>3188422720</td>\n",
              "      <td>Whisper-транскрибация новых записей звонков/Расшифровки_Записи Primavera/2023-09-01_12-05-26.624031_from_79199944228_to_0111652_session_3188422720_talk_whisper_large.txt</td>\n",
              "      <td>нет текста транскрибации звонка</td>\n",
              "    </tr>\n",
              "  </tbody>\n",
              "</table>\n",
              "</div>\n",
              "    <div class=\"colab-df-buttons\">\n",
              "\n",
              "  <div class=\"colab-df-container\">\n",
              "    <button class=\"colab-df-convert\" onclick=\"convertToInteractive('df-a339ac6f-8f48-4b34-b47a-989210761dc5')\"\n",
              "            title=\"Convert this dataframe to an interactive table.\"\n",
              "            style=\"display:none;\">\n",
              "\n",
              "  <svg xmlns=\"http://www.w3.org/2000/svg\" height=\"24px\" viewBox=\"0 -960 960 960\">\n",
              "    <path d=\"M120-120v-720h720v720H120Zm60-500h600v-160H180v160Zm220 220h160v-160H400v160Zm0 220h160v-160H400v160ZM180-400h160v-160H180v160Zm440 0h160v-160H620v160ZM180-180h160v-160H180v160Zm440 0h160v-160H620v160Z\"/>\n",
              "  </svg>\n",
              "    </button>\n",
              "\n",
              "  <style>\n",
              "    .colab-df-container {\n",
              "      display:flex;\n",
              "      gap: 12px;\n",
              "    }\n",
              "\n",
              "    .colab-df-convert {\n",
              "      background-color: #E8F0FE;\n",
              "      border: none;\n",
              "      border-radius: 50%;\n",
              "      cursor: pointer;\n",
              "      display: none;\n",
              "      fill: #1967D2;\n",
              "      height: 32px;\n",
              "      padding: 0 0 0 0;\n",
              "      width: 32px;\n",
              "    }\n",
              "\n",
              "    .colab-df-convert:hover {\n",
              "      background-color: #E2EBFA;\n",
              "      box-shadow: 0px 1px 2px rgba(60, 64, 67, 0.3), 0px 1px 3px 1px rgba(60, 64, 67, 0.15);\n",
              "      fill: #174EA6;\n",
              "    }\n",
              "\n",
              "    .colab-df-buttons div {\n",
              "      margin-bottom: 4px;\n",
              "    }\n",
              "\n",
              "    [theme=dark] .colab-df-convert {\n",
              "      background-color: #3B4455;\n",
              "      fill: #D2E3FC;\n",
              "    }\n",
              "\n",
              "    [theme=dark] .colab-df-convert:hover {\n",
              "      background-color: #434B5C;\n",
              "      box-shadow: 0px 1px 3px 1px rgba(0, 0, 0, 0.15);\n",
              "      filter: drop-shadow(0px 1px 2px rgba(0, 0, 0, 0.3));\n",
              "      fill: #FFFFFF;\n",
              "    }\n",
              "  </style>\n",
              "\n",
              "    <script>\n",
              "      const buttonEl =\n",
              "        document.querySelector('#df-a339ac6f-8f48-4b34-b47a-989210761dc5 button.colab-df-convert');\n",
              "      buttonEl.style.display =\n",
              "        google.colab.kernel.accessAllowed ? 'block' : 'none';\n",
              "\n",
              "      async function convertToInteractive(key) {\n",
              "        const element = document.querySelector('#df-a339ac6f-8f48-4b34-b47a-989210761dc5');\n",
              "        const dataTable =\n",
              "          await google.colab.kernel.invokeFunction('convertToInteractive',\n",
              "                                                    [key], {});\n",
              "        if (!dataTable) return;\n",
              "\n",
              "        const docLinkHtml = 'Like what you see? Visit the ' +\n",
              "          '<a target=\"_blank\" href=https://colab.research.google.com/notebooks/data_table.ipynb>data table notebook</a>'\n",
              "          + ' to learn more about interactive tables.';\n",
              "        element.innerHTML = '';\n",
              "        dataTable['output_type'] = 'display_data';\n",
              "        await google.colab.output.renderOutput(dataTable, element);\n",
              "        const docLink = document.createElement('div');\n",
              "        docLink.innerHTML = docLinkHtml;\n",
              "        element.appendChild(docLink);\n",
              "      }\n",
              "    </script>\n",
              "  </div>\n",
              "\n",
              "\n",
              "<div id=\"df-cc44ebe6-2346-424b-9d90-419d3cfb6906\">\n",
              "  <button class=\"colab-df-quickchart\" onclick=\"quickchart('df-cc44ebe6-2346-424b-9d90-419d3cfb6906')\"\n",
              "            title=\"Suggest charts.\"\n",
              "            style=\"display:none;\">\n",
              "\n",
              "<svg xmlns=\"http://www.w3.org/2000/svg\" height=\"24px\"viewBox=\"0 0 24 24\"\n",
              "     width=\"24px\">\n",
              "    <g>\n",
              "        <path d=\"M19 3H5c-1.1 0-2 .9-2 2v14c0 1.1.9 2 2 2h14c1.1 0 2-.9 2-2V5c0-1.1-.9-2-2-2zM9 17H7v-7h2v7zm4 0h-2V7h2v10zm4 0h-2v-4h2v4z\"/>\n",
              "    </g>\n",
              "</svg>\n",
              "  </button>\n",
              "\n",
              "<style>\n",
              "  .colab-df-quickchart {\n",
              "      --bg-color: #E8F0FE;\n",
              "      --fill-color: #1967D2;\n",
              "      --hover-bg-color: #E2EBFA;\n",
              "      --hover-fill-color: #174EA6;\n",
              "      --disabled-fill-color: #AAA;\n",
              "      --disabled-bg-color: #DDD;\n",
              "  }\n",
              "\n",
              "  [theme=dark] .colab-df-quickchart {\n",
              "      --bg-color: #3B4455;\n",
              "      --fill-color: #D2E3FC;\n",
              "      --hover-bg-color: #434B5C;\n",
              "      --hover-fill-color: #FFFFFF;\n",
              "      --disabled-bg-color: #3B4455;\n",
              "      --disabled-fill-color: #666;\n",
              "  }\n",
              "\n",
              "  .colab-df-quickchart {\n",
              "    background-color: var(--bg-color);\n",
              "    border: none;\n",
              "    border-radius: 50%;\n",
              "    cursor: pointer;\n",
              "    display: none;\n",
              "    fill: var(--fill-color);\n",
              "    height: 32px;\n",
              "    padding: 0;\n",
              "    width: 32px;\n",
              "  }\n",
              "\n",
              "  .colab-df-quickchart:hover {\n",
              "    background-color: var(--hover-bg-color);\n",
              "    box-shadow: 0 1px 2px rgba(60, 64, 67, 0.3), 0 1px 3px 1px rgba(60, 64, 67, 0.15);\n",
              "    fill: var(--button-hover-fill-color);\n",
              "  }\n",
              "\n",
              "  .colab-df-quickchart-complete:disabled,\n",
              "  .colab-df-quickchart-complete:disabled:hover {\n",
              "    background-color: var(--disabled-bg-color);\n",
              "    fill: var(--disabled-fill-color);\n",
              "    box-shadow: none;\n",
              "  }\n",
              "\n",
              "  .colab-df-spinner {\n",
              "    border: 2px solid var(--fill-color);\n",
              "    border-color: transparent;\n",
              "    border-bottom-color: var(--fill-color);\n",
              "    animation:\n",
              "      spin 1s steps(1) infinite;\n",
              "  }\n",
              "\n",
              "  @keyframes spin {\n",
              "    0% {\n",
              "      border-color: transparent;\n",
              "      border-bottom-color: var(--fill-color);\n",
              "      border-left-color: var(--fill-color);\n",
              "    }\n",
              "    20% {\n",
              "      border-color: transparent;\n",
              "      border-left-color: var(--fill-color);\n",
              "      border-top-color: var(--fill-color);\n",
              "    }\n",
              "    30% {\n",
              "      border-color: transparent;\n",
              "      border-left-color: var(--fill-color);\n",
              "      border-top-color: var(--fill-color);\n",
              "      border-right-color: var(--fill-color);\n",
              "    }\n",
              "    40% {\n",
              "      border-color: transparent;\n",
              "      border-right-color: var(--fill-color);\n",
              "      border-top-color: var(--fill-color);\n",
              "    }\n",
              "    60% {\n",
              "      border-color: transparent;\n",
              "      border-right-color: var(--fill-color);\n",
              "    }\n",
              "    80% {\n",
              "      border-color: transparent;\n",
              "      border-right-color: var(--fill-color);\n",
              "      border-bottom-color: var(--fill-color);\n",
              "    }\n",
              "    90% {\n",
              "      border-color: transparent;\n",
              "      border-bottom-color: var(--fill-color);\n",
              "    }\n",
              "  }\n",
              "</style>\n",
              "\n",
              "  <script>\n",
              "    async function quickchart(key) {\n",
              "      const quickchartButtonEl =\n",
              "        document.querySelector('#' + key + ' button');\n",
              "      quickchartButtonEl.disabled = true;  // To prevent multiple clicks.\n",
              "      quickchartButtonEl.classList.add('colab-df-spinner');\n",
              "      try {\n",
              "        const charts = await google.colab.kernel.invokeFunction(\n",
              "            'suggestCharts', [key], {});\n",
              "      } catch (error) {\n",
              "        console.error('Error during call to suggestCharts:', error);\n",
              "      }\n",
              "      quickchartButtonEl.classList.remove('colab-df-spinner');\n",
              "      quickchartButtonEl.classList.add('colab-df-quickchart-complete');\n",
              "    }\n",
              "    (() => {\n",
              "      let quickchartButtonEl =\n",
              "        document.querySelector('#df-cc44ebe6-2346-424b-9d90-419d3cfb6906 button');\n",
              "      quickchartButtonEl.style.display =\n",
              "        google.colab.kernel.accessAllowed ? 'block' : 'none';\n",
              "    })();\n",
              "  </script>\n",
              "</div>\n",
              "    </div>\n",
              "  </div>\n"
            ]
          },
          "metadata": {},
          "execution_count": 133
        }
      ]
    },
    {
      "cell_type": "code",
      "source": [
        "for row in range(Primavera_transcriptions_df.shape[0]):\n",
        "  with open(all_dataset_path + Primavera_transcriptions_df.loc[row, ['Файл whisper-транскрибации записи звонка']].values[0], 'rb') as f:\n",
        "    contents = f.read()\n",
        "  Primavera_transcriptions_df.loc[row, ['Текст whisper-транскрибации записи звонка']] = contents.decode('utf-16').strip()"
      ],
      "metadata": {
        "id": "iewQSr2sM1j5"
      },
      "execution_count": null,
      "outputs": []
    },
    {
      "cell_type": "code",
      "source": [
        "Primavera_transcriptions_df['Текст whisper-транскрибации записи звонка'].head()"
      ],
      "metadata": {
        "colab": {
          "base_uri": "https://localhost:8080/"
        },
        "outputId": "45341cdf-e1be-4494-ca54-d138b49c3e91",
        "id": "MvSw7zoVM1j5"
      },
      "execution_count": null,
      "outputs": [
        {
          "output_type": "execute_result",
          "data": {
            "text/plain": [
              "0                                                                                                                                                                                                                                                                                                                                                                                                                                                                                                                                                                                                                                                                                                                                                                            Добрый день, оператор Яна, клубный город на реке Примавера. Как я могу к вам обращаться? Добрый день, Александр. Можете через 2 часа набрать? Да, покупка квартиры, да, интересует, Александр? Да, да, да. Все, хорошо, передам информацию. Ожидайте. Спасибо.\n",
              "1    Клубный город на реке Примавера. Здравствуйте, Светлана. Да, здрасте. Есть квартиры? Да, да. Как обращаться к вам? Вячеслав. Вячеслав, вас менеджер проконсультирует минуту. Обращаем ваше внимание, что в целях контроля качества услуг разговор может быть записан. Обращаем ваше внимание. Примавера. Клубный город на реке. Меня Владимир зовут. Здравствуйте, Вячеслав. Всем могу быть полезен? Да, здрасте. Предъявление на вас, что квартиры до 20 миллионов, ну, как хотелось бы, до 15. Ну, либо однушка, либо двушка. Просите на двушку, наверное. Вячеслав, скажите, до 13 миллионов, вы сказали? Нет, до 17-ти. А, так. У нас просто двухкомнатные, где отдельная спальня и кухня. Они начинаются от 27 миллионов. Есть форматы Евро, двухкомнатные, где отдельная спальня и кухня-гостиная. Они начинаются от 19 миллионов 300 тысяч. Вам такие форматы подходят? Это самые дальние по сдаче, корпус. Да, совершенно верно. У нас сейчас в продаже две очереди, Россиния и Вивальди. Россия, ключи до декабря 2024 год...\n",
              "2    Здравствуйте, это Татьяна. Здравствуйте, это Евгения. Город на реке, однокомнатный 25-й год, 19 370 000 рублей. Соединяем? Да. Ага. А для продаж соединяю с менеджером. Добрый день. Я хотела узнать, по ряду рассрочки какой у вас... Обращаем ваше внимание, что в целях контроля качества услуг разговор может быть записан. Прямовары, Клубная зона. Алло. Владимир зовут. Здравствуйте, Евгения. Чем могу быть полезен? Здравствуйте. Хотела поподробнее расспросить по отсрочке, рассрочке, то есть при покупке квартиры, такие условия. Евгения, а вас какой корпус интересует? Очередь. У нас есть две очереди. Первая на России называется, там ключи до декабря 24-го года пораньше завернуты. А вторая очередь называется в Вивальде, там срок получения ключей до декабря 25-го года, на год позднее. Вы готовы подождать? Ага. Подождать я готова, да. Ну какие у вас там условия? А что, разные условия для 24-го года? Да, конечно. А вы расскажите про то и про другое. В первую очередь у нас есть хорошая рассроч...\n",
              "3                                           Кубный город на реке Примавера. Здравствуйте, Екатерина. Да, здравствуй, Екатерина. Скажите, пожалуйста, а где у вас офис находится? По поводу консультации приключена специалистка. Как вас представить можно? Михаил зовут. Соглени вас. Клубный город на реке Примавера. Меня зовут Екатерина. Михаил, здравствуйте. Чем могу быть вам? Правильно? Здравствуйте. А где у вас офис находится в Прадаже? Он находится по адресу Волоколамской шоссе, 71, корпус 1. Чуть в отдалении от объекта. Вы сейчас где-то недалеко? Да, мы где-то возле прям объекта. А, вам нужно пойти в другую сторону, либо там... В сторону Волоколамского шоссе. Да, абсолютно верно. Вы сейчас пешком или на автомобиле? Да, пешком. Я вам могу сбросить точку в Яндекс.Картах, в навигаторе, вы поймете где. И я вас буду застеливать. Есть номер живой, да? Можете сюда оставить. Сейчас, секунду, давайте я посмотрю определился ли. Так, 937, 799, да? Да, да. Все, сейчас отправлю вас. Все, спасибо, ждем.\n",
              "4                                                                                                                                                                                                                                                                                                                                                                                                                                                                                                                                                                                                                                                                                                                                                                                                                                                                     Кловный город на реке Примавера. Здравствуйте, Анастасия. Девушка, здравствуйте. А у вас есть такой врач? Сейчас скажу. А ваш врач, это жилой комплекс. Ой, извините.\n",
              "Name: Текст whisper-транскрибации записи звонка, dtype: object"
            ]
          },
          "metadata": {},
          "execution_count": 135
        }
      ]
    },
    {
      "cell_type": "markdown",
      "source": [
        "#### Типы данных"
      ],
      "metadata": {
        "id": "NfeIJjkbM1j5"
      }
    },
    {
      "cell_type": "code",
      "source": [
        "# Смотрим типы данных\n",
        "Primavera_transcriptions_df.dtypes"
      ],
      "metadata": {
        "colab": {
          "base_uri": "https://localhost:8080/"
        },
        "outputId": "6e9dfb78-e8af-4232-c0b6-eba74dcf75ec",
        "id": "CeyE1asAM1j6"
      },
      "execution_count": null,
      "outputs": [
        {
          "output_type": "execute_result",
          "data": {
            "text/plain": [
              "Дата и время                                 datetime64[ns]\n",
              "Номер абонента                                        int64\n",
              "Номер сотрудника                                      int64\n",
              "Идентификатор сессии звонка                           int64\n",
              "Файл whisper-транскрибации записи звонка             object\n",
              "Текст whisper-транскрибации записи звонка            object\n",
              "dtype: object"
            ]
          },
          "metadata": {},
          "execution_count": 136
        }
      ]
    },
    {
      "cell_type": "code",
      "source": [
        "print(Primavera_transcriptions_df.count())"
      ],
      "metadata": {
        "colab": {
          "base_uri": "https://localhost:8080/"
        },
        "outputId": "12aa8584-be96-4486-fab1-384c9d4658e2",
        "id": "a5UWtGxTM1j7"
      },
      "execution_count": null,
      "outputs": [
        {
          "output_type": "stream",
          "name": "stdout",
          "text": [
            "Дата и время                                 767\n",
            "Номер абонента                               767\n",
            "Номер сотрудника                             767\n",
            "Идентификатор сессии звонка                  767\n",
            "Файл whisper-транскрибации записи звонка     767\n",
            "Текст whisper-транскрибации записи звонка    767\n",
            "dtype: int64\n"
          ]
        }
      ]
    },
    {
      "cell_type": "markdown",
      "source": [
        "#### Сохранение датафрейма"
      ],
      "metadata": {
        "id": "1Wd58dfmM1j8"
      }
    },
    {
      "cell_type": "code",
      "source": [
        "# Сохраняем Primavera_transcriptions_df в файл\n",
        "with open(df_path + 'Primavera_transcriptions_df.pkl', 'wb') as f:\n",
        "  pkl.dump(Primavera_transcriptions_df, f)"
      ],
      "metadata": {
        "id": "LqavJDi8M1j8"
      },
      "execution_count": null,
      "outputs": []
    },
    {
      "cell_type": "markdown",
      "source": [
        "### Paveletskaya_city"
      ],
      "metadata": {
        "id": "JboxdOogWyCm"
      }
    },
    {
      "cell_type": "markdown",
      "source": [
        "#### Создание датафрейма"
      ],
      "metadata": {
        "id": "-j_6C6u_WyCw"
      }
    },
    {
      "cell_type": "code",
      "source": [
        "# Создаём датафрейм из списка файлов транскрибации звонков Paveletskaya_city\n",
        "Paveletskaya_city_transcriptions_df = transcriptions_list_to_df(os.listdir(transcription_path + 'Расшифровки_Записи звонков_павелецкая сити'))\n",
        "Paveletskaya_city_transcriptions_df.shape"
      ],
      "metadata": {
        "colab": {
          "base_uri": "https://localhost:8080/"
        },
        "outputId": "1dc5bf57-2c0d-49d7-de33-f9e6cf0d187b",
        "id": "QDXyj5hDWyCy"
      },
      "execution_count": 26,
      "outputs": [
        {
          "output_type": "execute_result",
          "data": {
            "text/plain": [
              "(1000, 5)"
            ]
          },
          "metadata": {},
          "execution_count": 26
        }
      ]
    },
    {
      "cell_type": "code",
      "source": [
        "Paveletskaya_city_transcriptions_df.head()"
      ],
      "metadata": {
        "colab": {
          "base_uri": "https://localhost:8080/",
          "height": 310
        },
        "outputId": "8c338809-58d5-471c-c82b-ba03aa78aee6",
        "id": "-BLy_Wp2WyC1"
      },
      "execution_count": 27,
      "outputs": [
        {
          "output_type": "execute_result",
          "data": {
            "text/plain": [
              "          Дата и время Номер абонента Номер сотрудника  \\\n",
              "0  2023-06-17 12:54:28    79803286601      74950216267   \n",
              "1  2023-06-17 13:44:17    79066743768      74950216267   \n",
              "2  2023-06-17 14:08:51    74993205445      74955141111   \n",
              "3  2023-06-17 14:21:31    79259041087      74950216267   \n",
              "4  2023-06-17 16:16:05    79680303488      74950216267   \n",
              "\n",
              "  Идентификатор сессии звонка  \\\n",
              "0                  3029638181   \n",
              "1                  3029352265   \n",
              "2                  3029390475   \n",
              "3                  3029730813   \n",
              "4                  3029596520   \n",
              "\n",
              "                                                               Файл whisper-транскрибации записи звонка  \n",
              "0  2023-06-17_12-54-28.210462_from_79803286601_to_74950216267_session_3029638181_talk_whisper_large.txt  \n",
              "1  2023-06-17_13-44-17.539114_from_79066743768_to_74950216267_session_3029352265_talk_whisper_large.txt  \n",
              "2  2023-06-17_14-08-51.827169_from_74993205445_to_74955141111_session_3029390475_talk_whisper_large.txt  \n",
              "3  2023-06-17_14-21-31.493157_from_79259041087_to_74950216267_session_3029730813_talk_whisper_large.txt  \n",
              "4  2023-06-17_16-16-05.571252_from_79680303488_to_74950216267_session_3029596520_talk_whisper_large.txt  "
            ],
            "text/html": [
              "\n",
              "  <div id=\"df-7c5bff72-2e1f-4f45-929a-31af0a05f4ba\" class=\"colab-df-container\">\n",
              "    <div>\n",
              "<style scoped>\n",
              "    .dataframe tbody tr th:only-of-type {\n",
              "        vertical-align: middle;\n",
              "    }\n",
              "\n",
              "    .dataframe tbody tr th {\n",
              "        vertical-align: top;\n",
              "    }\n",
              "\n",
              "    .dataframe thead th {\n",
              "        text-align: right;\n",
              "    }\n",
              "</style>\n",
              "<table border=\"1\" class=\"dataframe\">\n",
              "  <thead>\n",
              "    <tr style=\"text-align: right;\">\n",
              "      <th></th>\n",
              "      <th>Дата и время</th>\n",
              "      <th>Номер абонента</th>\n",
              "      <th>Номер сотрудника</th>\n",
              "      <th>Идентификатор сессии звонка</th>\n",
              "      <th>Файл whisper-транскрибации записи звонка</th>\n",
              "    </tr>\n",
              "  </thead>\n",
              "  <tbody>\n",
              "    <tr>\n",
              "      <th>0</th>\n",
              "      <td>2023-06-17 12:54:28</td>\n",
              "      <td>79803286601</td>\n",
              "      <td>74950216267</td>\n",
              "      <td>3029638181</td>\n",
              "      <td>2023-06-17_12-54-28.210462_from_79803286601_to_74950216267_session_3029638181_talk_whisper_large.txt</td>\n",
              "    </tr>\n",
              "    <tr>\n",
              "      <th>1</th>\n",
              "      <td>2023-06-17 13:44:17</td>\n",
              "      <td>79066743768</td>\n",
              "      <td>74950216267</td>\n",
              "      <td>3029352265</td>\n",
              "      <td>2023-06-17_13-44-17.539114_from_79066743768_to_74950216267_session_3029352265_talk_whisper_large.txt</td>\n",
              "    </tr>\n",
              "    <tr>\n",
              "      <th>2</th>\n",
              "      <td>2023-06-17 14:08:51</td>\n",
              "      <td>74993205445</td>\n",
              "      <td>74955141111</td>\n",
              "      <td>3029390475</td>\n",
              "      <td>2023-06-17_14-08-51.827169_from_74993205445_to_74955141111_session_3029390475_talk_whisper_large.txt</td>\n",
              "    </tr>\n",
              "    <tr>\n",
              "      <th>3</th>\n",
              "      <td>2023-06-17 14:21:31</td>\n",
              "      <td>79259041087</td>\n",
              "      <td>74950216267</td>\n",
              "      <td>3029730813</td>\n",
              "      <td>2023-06-17_14-21-31.493157_from_79259041087_to_74950216267_session_3029730813_talk_whisper_large.txt</td>\n",
              "    </tr>\n",
              "    <tr>\n",
              "      <th>4</th>\n",
              "      <td>2023-06-17 16:16:05</td>\n",
              "      <td>79680303488</td>\n",
              "      <td>74950216267</td>\n",
              "      <td>3029596520</td>\n",
              "      <td>2023-06-17_16-16-05.571252_from_79680303488_to_74950216267_session_3029596520_talk_whisper_large.txt</td>\n",
              "    </tr>\n",
              "  </tbody>\n",
              "</table>\n",
              "</div>\n",
              "    <div class=\"colab-df-buttons\">\n",
              "\n",
              "  <div class=\"colab-df-container\">\n",
              "    <button class=\"colab-df-convert\" onclick=\"convertToInteractive('df-7c5bff72-2e1f-4f45-929a-31af0a05f4ba')\"\n",
              "            title=\"Convert this dataframe to an interactive table.\"\n",
              "            style=\"display:none;\">\n",
              "\n",
              "  <svg xmlns=\"http://www.w3.org/2000/svg\" height=\"24px\" viewBox=\"0 -960 960 960\">\n",
              "    <path d=\"M120-120v-720h720v720H120Zm60-500h600v-160H180v160Zm220 220h160v-160H400v160Zm0 220h160v-160H400v160ZM180-400h160v-160H180v160Zm440 0h160v-160H620v160ZM180-180h160v-160H180v160Zm440 0h160v-160H620v160Z\"/>\n",
              "  </svg>\n",
              "    </button>\n",
              "\n",
              "  <style>\n",
              "    .colab-df-container {\n",
              "      display:flex;\n",
              "      gap: 12px;\n",
              "    }\n",
              "\n",
              "    .colab-df-convert {\n",
              "      background-color: #E8F0FE;\n",
              "      border: none;\n",
              "      border-radius: 50%;\n",
              "      cursor: pointer;\n",
              "      display: none;\n",
              "      fill: #1967D2;\n",
              "      height: 32px;\n",
              "      padding: 0 0 0 0;\n",
              "      width: 32px;\n",
              "    }\n",
              "\n",
              "    .colab-df-convert:hover {\n",
              "      background-color: #E2EBFA;\n",
              "      box-shadow: 0px 1px 2px rgba(60, 64, 67, 0.3), 0px 1px 3px 1px rgba(60, 64, 67, 0.15);\n",
              "      fill: #174EA6;\n",
              "    }\n",
              "\n",
              "    .colab-df-buttons div {\n",
              "      margin-bottom: 4px;\n",
              "    }\n",
              "\n",
              "    [theme=dark] .colab-df-convert {\n",
              "      background-color: #3B4455;\n",
              "      fill: #D2E3FC;\n",
              "    }\n",
              "\n",
              "    [theme=dark] .colab-df-convert:hover {\n",
              "      background-color: #434B5C;\n",
              "      box-shadow: 0px 1px 3px 1px rgba(0, 0, 0, 0.15);\n",
              "      filter: drop-shadow(0px 1px 2px rgba(0, 0, 0, 0.3));\n",
              "      fill: #FFFFFF;\n",
              "    }\n",
              "  </style>\n",
              "\n",
              "    <script>\n",
              "      const buttonEl =\n",
              "        document.querySelector('#df-7c5bff72-2e1f-4f45-929a-31af0a05f4ba button.colab-df-convert');\n",
              "      buttonEl.style.display =\n",
              "        google.colab.kernel.accessAllowed ? 'block' : 'none';\n",
              "\n",
              "      async function convertToInteractive(key) {\n",
              "        const element = document.querySelector('#df-7c5bff72-2e1f-4f45-929a-31af0a05f4ba');\n",
              "        const dataTable =\n",
              "          await google.colab.kernel.invokeFunction('convertToInteractive',\n",
              "                                                    [key], {});\n",
              "        if (!dataTable) return;\n",
              "\n",
              "        const docLinkHtml = 'Like what you see? Visit the ' +\n",
              "          '<a target=\"_blank\" href=https://colab.research.google.com/notebooks/data_table.ipynb>data table notebook</a>'\n",
              "          + ' to learn more about interactive tables.';\n",
              "        element.innerHTML = '';\n",
              "        dataTable['output_type'] = 'display_data';\n",
              "        await google.colab.output.renderOutput(dataTable, element);\n",
              "        const docLink = document.createElement('div');\n",
              "        docLink.innerHTML = docLinkHtml;\n",
              "        element.appendChild(docLink);\n",
              "      }\n",
              "    </script>\n",
              "  </div>\n",
              "\n",
              "\n",
              "<div id=\"df-bb8e33c0-6222-4963-aede-7806cd6b13a6\">\n",
              "  <button class=\"colab-df-quickchart\" onclick=\"quickchart('df-bb8e33c0-6222-4963-aede-7806cd6b13a6')\"\n",
              "            title=\"Suggest charts\"\n",
              "            style=\"display:none;\">\n",
              "\n",
              "<svg xmlns=\"http://www.w3.org/2000/svg\" height=\"24px\"viewBox=\"0 0 24 24\"\n",
              "     width=\"24px\">\n",
              "    <g>\n",
              "        <path d=\"M19 3H5c-1.1 0-2 .9-2 2v14c0 1.1.9 2 2 2h14c1.1 0 2-.9 2-2V5c0-1.1-.9-2-2-2zM9 17H7v-7h2v7zm4 0h-2V7h2v10zm4 0h-2v-4h2v4z\"/>\n",
              "    </g>\n",
              "</svg>\n",
              "  </button>\n",
              "\n",
              "<style>\n",
              "  .colab-df-quickchart {\n",
              "      --bg-color: #E8F0FE;\n",
              "      --fill-color: #1967D2;\n",
              "      --hover-bg-color: #E2EBFA;\n",
              "      --hover-fill-color: #174EA6;\n",
              "      --disabled-fill-color: #AAA;\n",
              "      --disabled-bg-color: #DDD;\n",
              "  }\n",
              "\n",
              "  [theme=dark] .colab-df-quickchart {\n",
              "      --bg-color: #3B4455;\n",
              "      --fill-color: #D2E3FC;\n",
              "      --hover-bg-color: #434B5C;\n",
              "      --hover-fill-color: #FFFFFF;\n",
              "      --disabled-bg-color: #3B4455;\n",
              "      --disabled-fill-color: #666;\n",
              "  }\n",
              "\n",
              "  .colab-df-quickchart {\n",
              "    background-color: var(--bg-color);\n",
              "    border: none;\n",
              "    border-radius: 50%;\n",
              "    cursor: pointer;\n",
              "    display: none;\n",
              "    fill: var(--fill-color);\n",
              "    height: 32px;\n",
              "    padding: 0;\n",
              "    width: 32px;\n",
              "  }\n",
              "\n",
              "  .colab-df-quickchart:hover {\n",
              "    background-color: var(--hover-bg-color);\n",
              "    box-shadow: 0 1px 2px rgba(60, 64, 67, 0.3), 0 1px 3px 1px rgba(60, 64, 67, 0.15);\n",
              "    fill: var(--button-hover-fill-color);\n",
              "  }\n",
              "\n",
              "  .colab-df-quickchart-complete:disabled,\n",
              "  .colab-df-quickchart-complete:disabled:hover {\n",
              "    background-color: var(--disabled-bg-color);\n",
              "    fill: var(--disabled-fill-color);\n",
              "    box-shadow: none;\n",
              "  }\n",
              "\n",
              "  .colab-df-spinner {\n",
              "    border: 2px solid var(--fill-color);\n",
              "    border-color: transparent;\n",
              "    border-bottom-color: var(--fill-color);\n",
              "    animation:\n",
              "      spin 1s steps(1) infinite;\n",
              "  }\n",
              "\n",
              "  @keyframes spin {\n",
              "    0% {\n",
              "      border-color: transparent;\n",
              "      border-bottom-color: var(--fill-color);\n",
              "      border-left-color: var(--fill-color);\n",
              "    }\n",
              "    20% {\n",
              "      border-color: transparent;\n",
              "      border-left-color: var(--fill-color);\n",
              "      border-top-color: var(--fill-color);\n",
              "    }\n",
              "    30% {\n",
              "      border-color: transparent;\n",
              "      border-left-color: var(--fill-color);\n",
              "      border-top-color: var(--fill-color);\n",
              "      border-right-color: var(--fill-color);\n",
              "    }\n",
              "    40% {\n",
              "      border-color: transparent;\n",
              "      border-right-color: var(--fill-color);\n",
              "      border-top-color: var(--fill-color);\n",
              "    }\n",
              "    60% {\n",
              "      border-color: transparent;\n",
              "      border-right-color: var(--fill-color);\n",
              "    }\n",
              "    80% {\n",
              "      border-color: transparent;\n",
              "      border-right-color: var(--fill-color);\n",
              "      border-bottom-color: var(--fill-color);\n",
              "    }\n",
              "    90% {\n",
              "      border-color: transparent;\n",
              "      border-bottom-color: var(--fill-color);\n",
              "    }\n",
              "  }\n",
              "</style>\n",
              "\n",
              "  <script>\n",
              "    async function quickchart(key) {\n",
              "      const quickchartButtonEl =\n",
              "        document.querySelector('#' + key + ' button');\n",
              "      quickchartButtonEl.disabled = true;  // To prevent multiple clicks.\n",
              "      quickchartButtonEl.classList.add('colab-df-spinner');\n",
              "      try {\n",
              "        const charts = await google.colab.kernel.invokeFunction(\n",
              "            'suggestCharts', [key], {});\n",
              "      } catch (error) {\n",
              "        console.error('Error during call to suggestCharts:', error);\n",
              "      }\n",
              "      quickchartButtonEl.classList.remove('colab-df-spinner');\n",
              "      quickchartButtonEl.classList.add('colab-df-quickchart-complete');\n",
              "    }\n",
              "    (() => {\n",
              "      let quickchartButtonEl =\n",
              "        document.querySelector('#df-bb8e33c0-6222-4963-aede-7806cd6b13a6 button');\n",
              "      quickchartButtonEl.style.display =\n",
              "        google.colab.kernel.accessAllowed ? 'block' : 'none';\n",
              "    })();\n",
              "  </script>\n",
              "</div>\n",
              "    </div>\n",
              "  </div>\n"
            ]
          },
          "metadata": {},
          "execution_count": 27
        }
      ]
    },
    {
      "cell_type": "code",
      "source": [
        "# Проверяем количество строк\n",
        "print(len(os.listdir(transcription_path + 'Расшифровки_Записи звонков_павелецкая сити')))\n",
        "print(Paveletskaya_city_transcriptions_df.shape[0])"
      ],
      "metadata": {
        "colab": {
          "base_uri": "https://localhost:8080/"
        },
        "outputId": "bab23c7a-ca1f-483c-f6ce-1acb2f0262aa",
        "id": "3LVezE6wWyDM"
      },
      "execution_count": 28,
      "outputs": [
        {
          "output_type": "stream",
          "name": "stdout",
          "text": [
            "1000\n",
            "1000\n"
          ]
        }
      ]
    },
    {
      "cell_type": "code",
      "source": [
        "print(Paveletskaya_city_transcriptions_df.count())"
      ],
      "metadata": {
        "colab": {
          "base_uri": "https://localhost:8080/"
        },
        "outputId": "67c8820c-fe79-43c3-98dd-37f68cd9cf76",
        "id": "wzOU0fAlWyDO"
      },
      "execution_count": 29,
      "outputs": [
        {
          "output_type": "stream",
          "name": "stdout",
          "text": [
            "Дата и время                                1000\n",
            "Номер абонента                              1000\n",
            "Номер сотрудника                            1000\n",
            "Идентификатор сессии звонка                 1000\n",
            "Файл whisper-транскрибации записи звонка    1000\n",
            "dtype: int64\n"
          ]
        }
      ]
    },
    {
      "cell_type": "markdown",
      "source": [
        "#### Предобработка"
      ],
      "metadata": {
        "id": "toOVilZNWyDP"
      }
    },
    {
      "cell_type": "markdown",
      "source": [
        "##### 0. Дата и время"
      ],
      "metadata": {
        "id": "YM7ud-1-WyDQ"
      }
    },
    {
      "cell_type": "code",
      "source": [
        "Paveletskaya_city_transcriptions_df['Дата и время'].head()"
      ],
      "metadata": {
        "colab": {
          "base_uri": "https://localhost:8080/"
        },
        "outputId": "1c03a62c-3946-490d-92a3-627bdd3a89fc",
        "id": "Pd1R8R7DWyDR"
      },
      "execution_count": null,
      "outputs": [
        {
          "output_type": "execute_result",
          "data": {
            "text/plain": [
              "0    2023-08-31 20:02:47\n",
              "1    2023-09-01 08:51:34\n",
              "2    2023-09-01 10:53:19\n",
              "3    2023-09-01 11:24:52\n",
              "4    2023-09-01 11:33:04\n",
              "Name: Дата и время, dtype: object"
            ]
          },
          "metadata": {},
          "execution_count": 170
        }
      ]
    },
    {
      "cell_type": "code",
      "source": [
        "# Приводим тип данных столбца 'Дата и время'\n",
        "Paveletskaya_city_transcriptions_df['Дата и время'] = pd.to_datetime(Paveletskaya_city_transcriptions_df['Дата и время'])"
      ],
      "metadata": {
        "id": "b8BUkyp0WyDR"
      },
      "execution_count": null,
      "outputs": []
    },
    {
      "cell_type": "code",
      "source": [
        "Paveletskaya_city_transcriptions_df['Дата и время'].tail()"
      ],
      "metadata": {
        "colab": {
          "base_uri": "https://localhost:8080/"
        },
        "outputId": "7399f38f-8c78-4eea-80ae-d77aef61abf9",
        "id": "Z7VgQ8xfWyDS"
      },
      "execution_count": null,
      "outputs": [
        {
          "output_type": "execute_result",
          "data": {
            "text/plain": [
              "1408   2023-08-31 16:07:51\n",
              "1409   2023-08-31 16:20:15\n",
              "1410   2023-08-31 17:01:46\n",
              "1411   2023-08-31 17:12:58\n",
              "1412   2023-08-31 18:33:45\n",
              "Name: Дата и время, dtype: datetime64[ns]"
            ]
          },
          "metadata": {},
          "execution_count": 172
        }
      ]
    },
    {
      "cell_type": "markdown",
      "source": [
        "##### 1. Номер абонента"
      ],
      "metadata": {
        "id": "ny0uIDu2WyDV"
      }
    },
    {
      "cell_type": "code",
      "source": [
        "Paveletskaya_city_transcriptions_df['Номер абонента'].head()"
      ],
      "metadata": {
        "colab": {
          "base_uri": "https://localhost:8080/"
        },
        "outputId": "a70e01b8-ca2f-41cc-df03-407c28ea18ee",
        "id": "UoeqZzisWyDi"
      },
      "execution_count": null,
      "outputs": [
        {
          "output_type": "execute_result",
          "data": {
            "text/plain": [
              "0    79169468891\n",
              "1    79139426842\n",
              "2    79257720080\n",
              "3    37378077136\n",
              "4    79858891114\n",
              "Name: Номер абонента, dtype: object"
            ]
          },
          "metadata": {},
          "execution_count": 173
        }
      ]
    },
    {
      "cell_type": "code",
      "source": [
        "Paveletskaya_city_transcriptions_df['Номер абонента'][Paveletskaya_city_transcriptions_df['Номер абонента'] == ''].count()"
      ],
      "metadata": {
        "colab": {
          "base_uri": "https://localhost:8080/"
        },
        "id": "QPzIH5ENYyvI",
        "outputId": "efd2d78c-3857-41a9-a012-5970a8700fd1"
      },
      "execution_count": null,
      "outputs": [
        {
          "output_type": "execute_result",
          "data": {
            "text/plain": [
              "1"
            ]
          },
          "metadata": {},
          "execution_count": 174
        }
      ]
    },
    {
      "cell_type": "code",
      "source": [
        "# Меняем '' на '0' в столбце 'Номер абонента'\n",
        "Paveletskaya_city_transcriptions_df['Номер абонента'] = Paveletskaya_city_transcriptions_df['Номер абонента'].apply(lambda x: '0' if x == '' else x)"
      ],
      "metadata": {
        "id": "qjIfs7zZY0cX"
      },
      "execution_count": null,
      "outputs": []
    },
    {
      "cell_type": "code",
      "source": [
        "# Приводим тип данных столбца 'Номер абонента'\n",
        "Paveletskaya_city_transcriptions_df = Paveletskaya_city_transcriptions_df.astype({'Номер абонента': int})"
      ],
      "metadata": {
        "id": "4qm7oG3_WyDj"
      },
      "execution_count": null,
      "outputs": []
    },
    {
      "cell_type": "code",
      "source": [
        "Paveletskaya_city_transcriptions_df['Номер абонента'].tail()"
      ],
      "metadata": {
        "colab": {
          "base_uri": "https://localhost:8080/"
        },
        "outputId": "15c12ce1-b892-481d-a28d-ae036382ae7d",
        "id": "zj9n0ea-WyDk"
      },
      "execution_count": null,
      "outputs": [
        {
          "output_type": "execute_result",
          "data": {
            "text/plain": [
              "1408    79271791618\n",
              "1409    79331112978\n",
              "1410    79153796174\n",
              "1411    79061800540\n",
              "1412    79271414018\n",
              "Name: Номер абонента, dtype: int64"
            ]
          },
          "metadata": {},
          "execution_count": 177
        }
      ]
    },
    {
      "cell_type": "markdown",
      "source": [
        "##### 2. Номер сотрудника"
      ],
      "metadata": {
        "id": "Ioe-vA_vWyDl"
      }
    },
    {
      "cell_type": "code",
      "source": [
        "Paveletskaya_city_transcriptions_df['Номер сотрудника'].head()"
      ],
      "metadata": {
        "colab": {
          "base_uri": "https://localhost:8080/"
        },
        "outputId": "b0ae15b5-18d1-4b43-c12f-a9b31da50299",
        "id": "QQpnRGIdWyDl"
      },
      "execution_count": null,
      "outputs": [
        {
          "output_type": "execute_result",
          "data": {
            "text/plain": [
              "0    00288\n",
              "1    00288\n",
              "2    00288\n",
              "3    00288\n",
              "4    00288\n",
              "Name: Номер сотрудника, dtype: object"
            ]
          },
          "metadata": {},
          "execution_count": 178
        }
      ]
    },
    {
      "cell_type": "code",
      "source": [
        "# Приводим тип данных столбца 'Номер сотрудника'\n",
        "Paveletskaya_city_transcriptions_df = Paveletskaya_city_transcriptions_df.astype({'Номер сотрудника': int})"
      ],
      "metadata": {
        "id": "e2FnZ89MWyDm"
      },
      "execution_count": null,
      "outputs": []
    },
    {
      "cell_type": "code",
      "source": [
        "Paveletskaya_city_transcriptions_df['Номер сотрудника'].tail()"
      ],
      "metadata": {
        "colab": {
          "base_uri": "https://localhost:8080/"
        },
        "outputId": "64c4135a-0ed3-4346-fdcf-06899614b1f4",
        "id": "oub05ogNWyDn"
      },
      "execution_count": null,
      "outputs": [
        {
          "output_type": "execute_result",
          "data": {
            "text/plain": [
              "1408    288\n",
              "1409    288\n",
              "1410    288\n",
              "1411    288\n",
              "1412    288\n",
              "Name: Номер сотрудника, dtype: int64"
            ]
          },
          "metadata": {},
          "execution_count": 180
        }
      ]
    },
    {
      "cell_type": "markdown",
      "source": [
        "##### 3. Идентификатор сессии звонка"
      ],
      "metadata": {
        "id": "oEXIMjsiWyDn"
      }
    },
    {
      "cell_type": "code",
      "source": [
        "Paveletskaya_city_transcriptions_df['Идентификатор сессии звонка'].head()"
      ],
      "metadata": {
        "colab": {
          "base_uri": "https://localhost:8080/"
        },
        "outputId": "7082b3f4-e322-453d-bb69-af64dfbfc226",
        "id": "lkebhdhWWyDn"
      },
      "execution_count": null,
      "outputs": [
        {
          "output_type": "execute_result",
          "data": {
            "text/plain": [
              "0    3195065861\n",
              "1    3195409751\n",
              "2    3188206290\n",
              "3    3188292205\n",
              "4    3195853356\n",
              "Name: Идентификатор сессии звонка, dtype: object"
            ]
          },
          "metadata": {},
          "execution_count": 181
        }
      ]
    },
    {
      "cell_type": "code",
      "source": [
        "# Приводим тип данных столбца 'Идентификатор сессии звонка'\n",
        "Paveletskaya_city_transcriptions_df = Paveletskaya_city_transcriptions_df.astype({'Идентификатор сессии звонка': int})"
      ],
      "metadata": {
        "id": "5yphPC6jWyDo"
      },
      "execution_count": null,
      "outputs": []
    },
    {
      "cell_type": "code",
      "source": [
        "Paveletskaya_city_transcriptions_df['Идентификатор сессии звонка'].tail()"
      ],
      "metadata": {
        "colab": {
          "base_uri": "https://localhost:8080/"
        },
        "outputId": "bdb95ed2-6746-4b43-ac3c-d2833fb3c850",
        "id": "6I87ZMaQWyDp"
      },
      "execution_count": null,
      "outputs": [
        {
          "output_type": "execute_result",
          "data": {
            "text/plain": [
              "1408    3194514836\n",
              "1409    3200112337\n",
              "1410    3200245332\n",
              "1411    3190248338\n",
              "1412    3193454629\n",
              "Name: Идентификатор сессии звонка, dtype: int64"
            ]
          },
          "metadata": {},
          "execution_count": 183
        }
      ]
    },
    {
      "cell_type": "code",
      "source": [
        "# Смотрим количество уникальных значений столбца 'Идентификатор сессии звонка'\n",
        "Paveletskaya_city_transcriptions_df['Идентификатор сессии звонка'].nunique()"
      ],
      "metadata": {
        "colab": {
          "base_uri": "https://localhost:8080/"
        },
        "outputId": "add8be86-15ec-4e06-f74d-9dfbf76369f5",
        "id": "VyCzs-ZoWyDq"
      },
      "execution_count": null,
      "outputs": [
        {
          "output_type": "execute_result",
          "data": {
            "text/plain": [
              "1413"
            ]
          },
          "metadata": {},
          "execution_count": 184
        }
      ]
    },
    {
      "cell_type": "markdown",
      "source": [
        "##### 4. Файл whisper-транскрибации записи звонка"
      ],
      "metadata": {
        "id": "62lmUyqgWyDq"
      }
    },
    {
      "cell_type": "code",
      "source": [
        "Paveletskaya_city_transcriptions_df['Файл whisper-транскрибации записи звонка'].head()"
      ],
      "metadata": {
        "colab": {
          "base_uri": "https://localhost:8080/"
        },
        "outputId": "24a31149-b2f9-42ea-a797-7fd888312985",
        "id": "WW2NGuDvWyDr"
      },
      "execution_count": null,
      "outputs": [
        {
          "output_type": "execute_result",
          "data": {
            "text/plain": [
              "0    2023-08-31_20-02-47.458103_from_79169468891_to_00288_session_3195065861_talk.txt\n",
              "1    2023-09-01_08-51-34.418574_from_79139426842_to_00288_session_3195409751_talk.txt\n",
              "2    2023-09-01_10-53-19.201214_from_79257720080_to_00288_session_3188206290_talk.txt\n",
              "3    2023-09-01_11-24-52.929663_from_37378077136_to_00288_session_3188292205_talk.txt\n",
              "4    2023-09-01_11-33-04.092834_from_79858891114_to_00288_session_3195853356_talk.txt\n",
              "Name: Файл whisper-транскрибации записи звонка, dtype: object"
            ]
          },
          "metadata": {},
          "execution_count": 185
        }
      ]
    },
    {
      "cell_type": "code",
      "source": [
        "# Добавляем к файлам относительные пути\n",
        "Paveletskaya_city_transcriptions_df['Файл whisper-транскрибации записи звонка'] = Paveletskaya_city_transcriptions_df['Файл whisper-транскрибации записи звонка'].apply(lambda x: 'Whisper-транскрибация новых записей звонков/Расшифровки_Записи Павелецкая сити/' + x)"
      ],
      "metadata": {
        "id": "4ej6w-NBWyD3"
      },
      "execution_count": null,
      "outputs": []
    },
    {
      "cell_type": "code",
      "source": [
        "Paveletskaya_city_transcriptions_df['Файл whisper-транскрибации записи звонка'].tail()"
      ],
      "metadata": {
        "colab": {
          "base_uri": "https://localhost:8080/"
        },
        "outputId": "803d5418-1292-455a-fdd6-8dd0e2d14c15",
        "id": "Tzcbu_-hWyD4"
      },
      "execution_count": null,
      "outputs": [
        {
          "output_type": "execute_result",
          "data": {
            "text/plain": [
              "1408    Whisper-транскрибация новых записей звонков/Расшифровки_Записи Павелецкая сити/2023-08-31_16-07-51.657929_from_79271791618_to_00288_session_3194514836_talk.txt\n",
              "1409    Whisper-транскрибация новых записей звонков/Расшифровки_Записи Павелецкая сити/2023-08-31_16-20-15.235129_from_79331112978_to_00288_session_3200112337_talk.txt\n",
              "1410    Whisper-транскрибация новых записей звонков/Расшифровки_Записи Павелецкая сити/2023-08-31_17-01-46.633530_from_79153796174_to_00288_session_3200245332_talk.txt\n",
              "1411    Whisper-транскрибация новых записей звонков/Расшифровки_Записи Павелецкая сити/2023-08-31_17-12-58.751450_from_79061800540_to_00288_session_3190248338_talk.txt\n",
              "1412    Whisper-транскрибация новых записей звонков/Расшифровки_Записи Павелецкая сити/2023-08-31_18-33-45.980557_from_79271414018_to_00288_session_3193454629_talk.txt\n",
              "Name: Файл whisper-транскрибации записи звонка, dtype: object"
            ]
          },
          "metadata": {},
          "execution_count": 187
        }
      ]
    },
    {
      "cell_type": "markdown",
      "source": [
        "##### 5. Текст whisper-транскрибации записи звонка"
      ],
      "metadata": {
        "id": "wi6JeCQCWyD4"
      }
    },
    {
      "cell_type": "code",
      "source": [
        "# Добавляем столбец 'Текст whisper-транскрибации записи звонка'\n",
        "Paveletskaya_city_transcriptions_df['Текст whisper-транскрибации записи звонка'] = 'нет текста транскрибации звонка'\n",
        "Paveletskaya_city_transcriptions_df.head()"
      ],
      "metadata": {
        "colab": {
          "base_uri": "https://localhost:8080/",
          "height": 414
        },
        "outputId": "ef454197-559c-4485-9a61-54931f255f19",
        "id": "SRWVr-7NWyD5"
      },
      "execution_count": null,
      "outputs": [
        {
          "output_type": "execute_result",
          "data": {
            "text/plain": [
              "         Дата и время  Номер абонента  Номер сотрудника  \\\n",
              "0 2023-08-31 20:02:47     79169468891               288   \n",
              "1 2023-09-01 08:51:34     79139426842               288   \n",
              "2 2023-09-01 10:53:19     79257720080               288   \n",
              "3 2023-09-01 11:24:52     37378077136               288   \n",
              "4 2023-09-01 11:33:04     79858891114               288   \n",
              "\n",
              "   Идентификатор сессии звонка  \\\n",
              "0                   3195065861   \n",
              "1                   3195409751   \n",
              "2                   3188206290   \n",
              "3                   3188292205   \n",
              "4                   3195853356   \n",
              "\n",
              "                                                                                                                          Файл whisper-транскрибации записи звонка  \\\n",
              "0  Whisper-транскрибация новых записей звонков/Расшифровки_Записи Павелецкая сити/2023-08-31_20-02-47.458103_from_79169468891_to_00288_session_3195065861_talk.txt   \n",
              "1  Whisper-транскрибация новых записей звонков/Расшифровки_Записи Павелецкая сити/2023-09-01_08-51-34.418574_from_79139426842_to_00288_session_3195409751_talk.txt   \n",
              "2  Whisper-транскрибация новых записей звонков/Расшифровки_Записи Павелецкая сити/2023-09-01_10-53-19.201214_from_79257720080_to_00288_session_3188206290_talk.txt   \n",
              "3  Whisper-транскрибация новых записей звонков/Расшифровки_Записи Павелецкая сити/2023-09-01_11-24-52.929663_from_37378077136_to_00288_session_3188292205_talk.txt   \n",
              "4  Whisper-транскрибация новых записей звонков/Расшифровки_Записи Павелецкая сити/2023-09-01_11-33-04.092834_from_79858891114_to_00288_session_3195853356_talk.txt   \n",
              "\n",
              "  Текст whisper-транскрибации записи звонка  \n",
              "0           нет текста транскрибации звонка  \n",
              "1           нет текста транскрибации звонка  \n",
              "2           нет текста транскрибации звонка  \n",
              "3           нет текста транскрибации звонка  \n",
              "4           нет текста транскрибации звонка  "
            ],
            "text/html": [
              "\n",
              "  <div id=\"df-6b157067-c73e-4438-88e5-76e21d05e24b\" class=\"colab-df-container\">\n",
              "    <div>\n",
              "<style scoped>\n",
              "    .dataframe tbody tr th:only-of-type {\n",
              "        vertical-align: middle;\n",
              "    }\n",
              "\n",
              "    .dataframe tbody tr th {\n",
              "        vertical-align: top;\n",
              "    }\n",
              "\n",
              "    .dataframe thead th {\n",
              "        text-align: right;\n",
              "    }\n",
              "</style>\n",
              "<table border=\"1\" class=\"dataframe\">\n",
              "  <thead>\n",
              "    <tr style=\"text-align: right;\">\n",
              "      <th></th>\n",
              "      <th>Дата и время</th>\n",
              "      <th>Номер абонента</th>\n",
              "      <th>Номер сотрудника</th>\n",
              "      <th>Идентификатор сессии звонка</th>\n",
              "      <th>Файл whisper-транскрибации записи звонка</th>\n",
              "      <th>Текст whisper-транскрибации записи звонка</th>\n",
              "    </tr>\n",
              "  </thead>\n",
              "  <tbody>\n",
              "    <tr>\n",
              "      <th>0</th>\n",
              "      <td>2023-08-31 20:02:47</td>\n",
              "      <td>79169468891</td>\n",
              "      <td>288</td>\n",
              "      <td>3195065861</td>\n",
              "      <td>Whisper-транскрибация новых записей звонков/Расшифровки_Записи Павелецкая сити/2023-08-31_20-02-47.458103_from_79169468891_to_00288_session_3195065861_talk.txt</td>\n",
              "      <td>нет текста транскрибации звонка</td>\n",
              "    </tr>\n",
              "    <tr>\n",
              "      <th>1</th>\n",
              "      <td>2023-09-01 08:51:34</td>\n",
              "      <td>79139426842</td>\n",
              "      <td>288</td>\n",
              "      <td>3195409751</td>\n",
              "      <td>Whisper-транскрибация новых записей звонков/Расшифровки_Записи Павелецкая сити/2023-09-01_08-51-34.418574_from_79139426842_to_00288_session_3195409751_talk.txt</td>\n",
              "      <td>нет текста транскрибации звонка</td>\n",
              "    </tr>\n",
              "    <tr>\n",
              "      <th>2</th>\n",
              "      <td>2023-09-01 10:53:19</td>\n",
              "      <td>79257720080</td>\n",
              "      <td>288</td>\n",
              "      <td>3188206290</td>\n",
              "      <td>Whisper-транскрибация новых записей звонков/Расшифровки_Записи Павелецкая сити/2023-09-01_10-53-19.201214_from_79257720080_to_00288_session_3188206290_talk.txt</td>\n",
              "      <td>нет текста транскрибации звонка</td>\n",
              "    </tr>\n",
              "    <tr>\n",
              "      <th>3</th>\n",
              "      <td>2023-09-01 11:24:52</td>\n",
              "      <td>37378077136</td>\n",
              "      <td>288</td>\n",
              "      <td>3188292205</td>\n",
              "      <td>Whisper-транскрибация новых записей звонков/Расшифровки_Записи Павелецкая сити/2023-09-01_11-24-52.929663_from_37378077136_to_00288_session_3188292205_talk.txt</td>\n",
              "      <td>нет текста транскрибации звонка</td>\n",
              "    </tr>\n",
              "    <tr>\n",
              "      <th>4</th>\n",
              "      <td>2023-09-01 11:33:04</td>\n",
              "      <td>79858891114</td>\n",
              "      <td>288</td>\n",
              "      <td>3195853356</td>\n",
              "      <td>Whisper-транскрибация новых записей звонков/Расшифровки_Записи Павелецкая сити/2023-09-01_11-33-04.092834_from_79858891114_to_00288_session_3195853356_talk.txt</td>\n",
              "      <td>нет текста транскрибации звонка</td>\n",
              "    </tr>\n",
              "  </tbody>\n",
              "</table>\n",
              "</div>\n",
              "    <div class=\"colab-df-buttons\">\n",
              "\n",
              "  <div class=\"colab-df-container\">\n",
              "    <button class=\"colab-df-convert\" onclick=\"convertToInteractive('df-6b157067-c73e-4438-88e5-76e21d05e24b')\"\n",
              "            title=\"Convert this dataframe to an interactive table.\"\n",
              "            style=\"display:none;\">\n",
              "\n",
              "  <svg xmlns=\"http://www.w3.org/2000/svg\" height=\"24px\" viewBox=\"0 -960 960 960\">\n",
              "    <path d=\"M120-120v-720h720v720H120Zm60-500h600v-160H180v160Zm220 220h160v-160H400v160Zm0 220h160v-160H400v160ZM180-400h160v-160H180v160Zm440 0h160v-160H620v160ZM180-180h160v-160H180v160Zm440 0h160v-160H620v160Z\"/>\n",
              "  </svg>\n",
              "    </button>\n",
              "\n",
              "  <style>\n",
              "    .colab-df-container {\n",
              "      display:flex;\n",
              "      gap: 12px;\n",
              "    }\n",
              "\n",
              "    .colab-df-convert {\n",
              "      background-color: #E8F0FE;\n",
              "      border: none;\n",
              "      border-radius: 50%;\n",
              "      cursor: pointer;\n",
              "      display: none;\n",
              "      fill: #1967D2;\n",
              "      height: 32px;\n",
              "      padding: 0 0 0 0;\n",
              "      width: 32px;\n",
              "    }\n",
              "\n",
              "    .colab-df-convert:hover {\n",
              "      background-color: #E2EBFA;\n",
              "      box-shadow: 0px 1px 2px rgba(60, 64, 67, 0.3), 0px 1px 3px 1px rgba(60, 64, 67, 0.15);\n",
              "      fill: #174EA6;\n",
              "    }\n",
              "\n",
              "    .colab-df-buttons div {\n",
              "      margin-bottom: 4px;\n",
              "    }\n",
              "\n",
              "    [theme=dark] .colab-df-convert {\n",
              "      background-color: #3B4455;\n",
              "      fill: #D2E3FC;\n",
              "    }\n",
              "\n",
              "    [theme=dark] .colab-df-convert:hover {\n",
              "      background-color: #434B5C;\n",
              "      box-shadow: 0px 1px 3px 1px rgba(0, 0, 0, 0.15);\n",
              "      filter: drop-shadow(0px 1px 2px rgba(0, 0, 0, 0.3));\n",
              "      fill: #FFFFFF;\n",
              "    }\n",
              "  </style>\n",
              "\n",
              "    <script>\n",
              "      const buttonEl =\n",
              "        document.querySelector('#df-6b157067-c73e-4438-88e5-76e21d05e24b button.colab-df-convert');\n",
              "      buttonEl.style.display =\n",
              "        google.colab.kernel.accessAllowed ? 'block' : 'none';\n",
              "\n",
              "      async function convertToInteractive(key) {\n",
              "        const element = document.querySelector('#df-6b157067-c73e-4438-88e5-76e21d05e24b');\n",
              "        const dataTable =\n",
              "          await google.colab.kernel.invokeFunction('convertToInteractive',\n",
              "                                                    [key], {});\n",
              "        if (!dataTable) return;\n",
              "\n",
              "        const docLinkHtml = 'Like what you see? Visit the ' +\n",
              "          '<a target=\"_blank\" href=https://colab.research.google.com/notebooks/data_table.ipynb>data table notebook</a>'\n",
              "          + ' to learn more about interactive tables.';\n",
              "        element.innerHTML = '';\n",
              "        dataTable['output_type'] = 'display_data';\n",
              "        await google.colab.output.renderOutput(dataTable, element);\n",
              "        const docLink = document.createElement('div');\n",
              "        docLink.innerHTML = docLinkHtml;\n",
              "        element.appendChild(docLink);\n",
              "      }\n",
              "    </script>\n",
              "  </div>\n",
              "\n",
              "\n",
              "<div id=\"df-451d3138-1737-498c-8032-52b9e2bf276f\">\n",
              "  <button class=\"colab-df-quickchart\" onclick=\"quickchart('df-451d3138-1737-498c-8032-52b9e2bf276f')\"\n",
              "            title=\"Suggest charts.\"\n",
              "            style=\"display:none;\">\n",
              "\n",
              "<svg xmlns=\"http://www.w3.org/2000/svg\" height=\"24px\"viewBox=\"0 0 24 24\"\n",
              "     width=\"24px\">\n",
              "    <g>\n",
              "        <path d=\"M19 3H5c-1.1 0-2 .9-2 2v14c0 1.1.9 2 2 2h14c1.1 0 2-.9 2-2V5c0-1.1-.9-2-2-2zM9 17H7v-7h2v7zm4 0h-2V7h2v10zm4 0h-2v-4h2v4z\"/>\n",
              "    </g>\n",
              "</svg>\n",
              "  </button>\n",
              "\n",
              "<style>\n",
              "  .colab-df-quickchart {\n",
              "      --bg-color: #E8F0FE;\n",
              "      --fill-color: #1967D2;\n",
              "      --hover-bg-color: #E2EBFA;\n",
              "      --hover-fill-color: #174EA6;\n",
              "      --disabled-fill-color: #AAA;\n",
              "      --disabled-bg-color: #DDD;\n",
              "  }\n",
              "\n",
              "  [theme=dark] .colab-df-quickchart {\n",
              "      --bg-color: #3B4455;\n",
              "      --fill-color: #D2E3FC;\n",
              "      --hover-bg-color: #434B5C;\n",
              "      --hover-fill-color: #FFFFFF;\n",
              "      --disabled-bg-color: #3B4455;\n",
              "      --disabled-fill-color: #666;\n",
              "  }\n",
              "\n",
              "  .colab-df-quickchart {\n",
              "    background-color: var(--bg-color);\n",
              "    border: none;\n",
              "    border-radius: 50%;\n",
              "    cursor: pointer;\n",
              "    display: none;\n",
              "    fill: var(--fill-color);\n",
              "    height: 32px;\n",
              "    padding: 0;\n",
              "    width: 32px;\n",
              "  }\n",
              "\n",
              "  .colab-df-quickchart:hover {\n",
              "    background-color: var(--hover-bg-color);\n",
              "    box-shadow: 0 1px 2px rgba(60, 64, 67, 0.3), 0 1px 3px 1px rgba(60, 64, 67, 0.15);\n",
              "    fill: var(--button-hover-fill-color);\n",
              "  }\n",
              "\n",
              "  .colab-df-quickchart-complete:disabled,\n",
              "  .colab-df-quickchart-complete:disabled:hover {\n",
              "    background-color: var(--disabled-bg-color);\n",
              "    fill: var(--disabled-fill-color);\n",
              "    box-shadow: none;\n",
              "  }\n",
              "\n",
              "  .colab-df-spinner {\n",
              "    border: 2px solid var(--fill-color);\n",
              "    border-color: transparent;\n",
              "    border-bottom-color: var(--fill-color);\n",
              "    animation:\n",
              "      spin 1s steps(1) infinite;\n",
              "  }\n",
              "\n",
              "  @keyframes spin {\n",
              "    0% {\n",
              "      border-color: transparent;\n",
              "      border-bottom-color: var(--fill-color);\n",
              "      border-left-color: var(--fill-color);\n",
              "    }\n",
              "    20% {\n",
              "      border-color: transparent;\n",
              "      border-left-color: var(--fill-color);\n",
              "      border-top-color: var(--fill-color);\n",
              "    }\n",
              "    30% {\n",
              "      border-color: transparent;\n",
              "      border-left-color: var(--fill-color);\n",
              "      border-top-color: var(--fill-color);\n",
              "      border-right-color: var(--fill-color);\n",
              "    }\n",
              "    40% {\n",
              "      border-color: transparent;\n",
              "      border-right-color: var(--fill-color);\n",
              "      border-top-color: var(--fill-color);\n",
              "    }\n",
              "    60% {\n",
              "      border-color: transparent;\n",
              "      border-right-color: var(--fill-color);\n",
              "    }\n",
              "    80% {\n",
              "      border-color: transparent;\n",
              "      border-right-color: var(--fill-color);\n",
              "      border-bottom-color: var(--fill-color);\n",
              "    }\n",
              "    90% {\n",
              "      border-color: transparent;\n",
              "      border-bottom-color: var(--fill-color);\n",
              "    }\n",
              "  }\n",
              "</style>\n",
              "\n",
              "  <script>\n",
              "    async function quickchart(key) {\n",
              "      const quickchartButtonEl =\n",
              "        document.querySelector('#' + key + ' button');\n",
              "      quickchartButtonEl.disabled = true;  // To prevent multiple clicks.\n",
              "      quickchartButtonEl.classList.add('colab-df-spinner');\n",
              "      try {\n",
              "        const charts = await google.colab.kernel.invokeFunction(\n",
              "            'suggestCharts', [key], {});\n",
              "      } catch (error) {\n",
              "        console.error('Error during call to suggestCharts:', error);\n",
              "      }\n",
              "      quickchartButtonEl.classList.remove('colab-df-spinner');\n",
              "      quickchartButtonEl.classList.add('colab-df-quickchart-complete');\n",
              "    }\n",
              "    (() => {\n",
              "      let quickchartButtonEl =\n",
              "        document.querySelector('#df-451d3138-1737-498c-8032-52b9e2bf276f button');\n",
              "      quickchartButtonEl.style.display =\n",
              "        google.colab.kernel.accessAllowed ? 'block' : 'none';\n",
              "    })();\n",
              "  </script>\n",
              "</div>\n",
              "    </div>\n",
              "  </div>\n"
            ]
          },
          "metadata": {},
          "execution_count": 188
        }
      ]
    },
    {
      "cell_type": "code",
      "source": [
        "for row in range(Paveletskaya_city_transcriptions_df.shape[0]):\n",
        "  with open(all_dataset_path + Paveletskaya_city_transcriptions_df.loc[row, ['Файл whisper-транскрибации записи звонка']].values[0], 'rb') as f:\n",
        "    contents = f.read()\n",
        "  Paveletskaya_city_transcriptions_df.loc[row, ['Текст whisper-транскрибации записи звонка']] = contents.decode('utf-16').strip()"
      ],
      "metadata": {
        "id": "OMaqTerPWyD5"
      },
      "execution_count": null,
      "outputs": []
    },
    {
      "cell_type": "code",
      "source": [
        "Paveletskaya_city_transcriptions_df['Текст whisper-транскрибации записи звонка'].head()"
      ],
      "metadata": {
        "colab": {
          "base_uri": "https://localhost:8080/"
        },
        "outputId": "e6649382-22cd-4fac-997d-e509f7a51c0c",
        "id": "kjxtCcOBWyD6"
      },
      "execution_count": null,
      "outputs": [
        {
          "output_type": "execute_result",
          "data": {
            "text/plain": [
              "0                                                                                                                                                                                                                                                                                                                                                                                                                                                                                                                                                                                                                                               Здравствуйте, вы позвонили в компанию Эмергрупп. Пожалуйста дождитесь ответа нашего специалиста. Обращаем ваше внимание, что в целях улучшения качества обслуживания клиентов все разговоры записываются. Продолжая разговор, вы соглашаетесь на обработку ваших персональных данных. Вам звонок с Яндекс.Недвижимости. Для соединения с покупателем нажмите... Начинаем звонок покупателю.\n",
              "1                                                                                                                                                                                                                                                                                                                                                                                                                                                                                                                                                                                                                                                        Здравствуйте, вы позвонили в компанию Эммергрупп. Мы работаем ежедневно с 9 до 21 часа по московскому времени. Сейчас мы не можем ответить на ваш звонок. Пожалуйста, оставьте свои контактные данные, и мы вам перезвоним. Сообщите, пожалуйста, контактный номер телефона с указанием кода города и ваше имя. Начинайте говорить после звукового сигнала. 8-913-942-6842, Алина.\n",
              "2    Здравствуйте! Вы позвонили в компанию Эмергрупп. Пожалуйста, дождитесь ответа нашего специалиста. Обращаем ваше внимание, что в целях улучшения качества обслуживания клиентов все разговоры записываются. Продолжая разговор, вы соглашаетесь на обработку ваших персональных данных. В компании Эмергрупп, меня зовут Ирина. Здравствуйте! Ирина, здравствуйте! Меня вот интересует ЖК по билетской сети. Покупка жировой недвижимости в данном комплексе? Переуступка. Можно ли у вас оформить переуступку по этому объекту? То есть, вы продаете, я правильно поняла вас? Да, да, да. Помните, с каким менеджером контактировали на объекте? Она уже не работает. Нет, именно агентство. Первое агентство, БЭСТ, Метриум. Не знаю. Не помните? Можно фамилию, имя, число, подговоры? Я посмотрю, с кем вы работали, с каким агентством. Ботя Рова, Людмила. Минуту. Людмила Борисовна? Да, да. У вас компания БЭСТ. БЭСТ, я вас сейчас соединю, минуту. По окончании разговора, пожалуйста, оцените качество отслуживания. Людм...\n",
              "3                                                                Здравствуйте! Вы позвонили в компанию Эмэр Групп. Пожалуйста дождитесь ответа нашего специалиста. Обращаем ваше внимание, что в целях улучшения качества обслуживания клиентов все разговоры записываются. Продолжая разговор, вы соглашаетесь на обработку ваших персональных данных. Компания Наркология. Меня зовут Арина. Здравствуйте! Девушка, здравствуйте! Скажите, пожалуйста, я звоню вам с Молдавии. Это у вас наркологический центр, да? Нет, это строительная компания. Вы позвонили. А почему в этот номер пишется, как больница-наркологист? Я вам не смогу подсказать. Возможно, уже номер не принадлежит. А какой номер вы набирали? Подскажите, пожалуйста. Плюс семьсот сорок девять, пятьсот два, сто семьдесят семь, двадцать пять. Нет, что-то вообще соединение. Вы в Москву позвонили. В Москву? Я в Черпухов. Нет, нет, нет, нет, у нас вообще таких номеров нет. Какое-то соединение некорректное пошло. Ага, спасибо, до свидания. До свидания.\n",
              "4                                                                                                                                                                                                                                                                                                                                                                                                                                                                                                                                                                                                                                                                                                                                                    Здравствуйте! Вы позвонили в компанию ЭМР-Групп. Пожалуйста, дождитесь ответа нашего специалиста. Обращаем ваше внимание, что в целях улучшения качества обслуживания клиентов все разговоры записываются. Продолжая разговор, вы соглашаетесь на обработку ваших персональных данных.\n",
              "Name: Текст whisper-транскрибации записи звонка, dtype: object"
            ]
          },
          "metadata": {},
          "execution_count": 190
        }
      ]
    },
    {
      "cell_type": "markdown",
      "source": [
        "#### Типы данных"
      ],
      "metadata": {
        "id": "RORpMyb1WyD6"
      }
    },
    {
      "cell_type": "code",
      "source": [
        "# Смотрим типы данных\n",
        "Paveletskaya_city_transcriptions_df.dtypes"
      ],
      "metadata": {
        "colab": {
          "base_uri": "https://localhost:8080/"
        },
        "outputId": "10828f89-efd5-4669-c096-56db6d541d93",
        "id": "JYKfL-zgWyD7"
      },
      "execution_count": null,
      "outputs": [
        {
          "output_type": "execute_result",
          "data": {
            "text/plain": [
              "Дата и время                                 datetime64[ns]\n",
              "Номер абонента                                        int64\n",
              "Номер сотрудника                                      int64\n",
              "Идентификатор сессии звонка                           int64\n",
              "Файл whisper-транскрибации записи звонка             object\n",
              "Текст whisper-транскрибации записи звонка            object\n",
              "dtype: object"
            ]
          },
          "metadata": {},
          "execution_count": 191
        }
      ]
    },
    {
      "cell_type": "code",
      "source": [
        "print(Paveletskaya_city_transcriptions_df.count())"
      ],
      "metadata": {
        "colab": {
          "base_uri": "https://localhost:8080/"
        },
        "outputId": "18891ac2-aaa6-434a-d8c7-82f6356fc624",
        "id": "qVhW-uYuWyD8"
      },
      "execution_count": null,
      "outputs": [
        {
          "output_type": "stream",
          "name": "stdout",
          "text": [
            "Дата и время                                 1413\n",
            "Номер абонента                               1413\n",
            "Номер сотрудника                             1413\n",
            "Идентификатор сессии звонка                  1413\n",
            "Файл whisper-транскрибации записи звонка     1413\n",
            "Текст whisper-транскрибации записи звонка    1413\n",
            "dtype: int64\n"
          ]
        }
      ]
    },
    {
      "cell_type": "markdown",
      "source": [
        "#### Сохранение датафрейма"
      ],
      "metadata": {
        "id": "E_hV7RCpWyD9"
      }
    },
    {
      "cell_type": "code",
      "source": [
        "# Сохраняем Paveletskaya_city_transcriptions_df в файл\n",
        "with open(df_path + 'Paveletskaya_city_transcriptions_df.pkl', 'wb') as f:\n",
        "  pkl.dump(Paveletskaya_city_transcriptions_df, f)"
      ],
      "metadata": {
        "id": "wZWpxIQmWyD9"
      },
      "execution_count": null,
      "outputs": []
    },
    {
      "cell_type": "markdown",
      "source": [
        "## Файлы транскрибации новых записей звонков"
      ],
      "metadata": {
        "id": "bSHed3Lj_fNP"
      }
    },
    {
      "cell_type": "code",
      "source": [
        "os.listdir(transcription_new_path)"
      ],
      "metadata": {
        "colab": {
          "base_uri": "https://localhost:8080/"
        },
        "outputId": "bffc4999-46c8-49f1-8b5a-16c3081e6797",
        "id": "YVWvEGiQ_fNQ"
      },
      "execution_count": 30,
      "outputs": [
        {
          "output_type": "execute_result",
          "data": {
            "text/plain": [
              "['Расшифровки_Записи Headliner',\n",
              " 'Расшифровки_Записи Primavera',\n",
              " 'Расшифровки_Записи Павелецкая сити']"
            ]
          },
          "metadata": {},
          "execution_count": 30
        }
      ]
    },
    {
      "cell_type": "code",
      "source": [
        "print(f\"        Headliner: {len(os.listdir(transcription_new_path + 'Расшифровки_Записи Headliner')):4d} записей\")\n",
        "print(f\"        Primavera: {len(os.listdir(transcription_new_path + 'Расшифровки_Записи Primavera')):4d} записей\")\n",
        "print(f\"Paveletskaya_city: {len(os.listdir(transcription_new_path + 'Расшифровки_Записи Павелецкая сити')):4d} записей\")"
      ],
      "metadata": {
        "colab": {
          "base_uri": "https://localhost:8080/"
        },
        "outputId": "b8bf5ba7-c93d-4b73-85fc-890af0100826",
        "id": "mvMyzQ8a_fNS"
      },
      "execution_count": 31,
      "outputs": [
        {
          "output_type": "stream",
          "name": "stdout",
          "text": [
            "        Headliner: 1226 записей\n",
            "        Primavera:  767 записей\n",
            "Paveletskaya_city: 1413 записей\n"
          ]
        }
      ]
    },
    {
      "cell_type": "markdown",
      "source": [
        "### Headliner"
      ],
      "metadata": {
        "id": "g6GOaeHz_fNT"
      }
    },
    {
      "cell_type": "markdown",
      "source": [
        "#### Создание датафрейма"
      ],
      "metadata": {
        "id": "a2FQcImK_fNU"
      }
    },
    {
      "cell_type": "code",
      "source": [
        "# Создаём датафрейм из списка файлов транскрибации звонков Headliner\n",
        "Headliner_transcriptions_df = transcriptions_list_to_df(os.listdir(transcription_new_path + 'Расшифровки_Записи Headliner'))\n",
        "Headliner_transcriptions_df.shape"
      ],
      "metadata": {
        "colab": {
          "base_uri": "https://localhost:8080/"
        },
        "outputId": "831f01ea-b9e9-4b0d-cdb4-e5eb08c816d5",
        "id": "AJTHC9Zy_fNW"
      },
      "execution_count": 32,
      "outputs": [
        {
          "output_type": "execute_result",
          "data": {
            "text/plain": [
              "(1226, 5)"
            ]
          },
          "metadata": {},
          "execution_count": 32
        }
      ]
    },
    {
      "cell_type": "code",
      "source": [
        "Headliner_transcriptions_df.head()"
      ],
      "metadata": {
        "colab": {
          "base_uri": "https://localhost:8080/",
          "height": 310
        },
        "outputId": "f6a06e42-2103-471e-9798-ce9c23164f9b",
        "id": "yR6ysq6T_fNW"
      },
      "execution_count": 33,
      "outputs": [
        {
          "output_type": "execute_result",
          "data": {
            "text/plain": [
              "          Дата и время Номер абонента Номер сотрудника  \\\n",
              "0  2023-09-01 11:18:46    79133420036          0188880   \n",
              "1  2023-09-01 12:07:24    79687467064      74959339929   \n",
              "2  2023-09-01 12:10:00    79687467064      74959339929   \n",
              "3  2023-09-01 12:20:37    79851620909      74959339929   \n",
              "4  2023-09-01 12:53:13    74959891229      74959339929   \n",
              "\n",
              "  Идентификатор сессии звонка  \\\n",
              "0                  3188273510   \n",
              "1                  3188426705   \n",
              "2                  3201544602   \n",
              "3                  3188461175   \n",
              "4                  3191589263   \n",
              "\n",
              "                                                 Файл whisper-транскрибации записи звонка  \n",
              "0      2023-09-01_11-18-46.243226_from_79133420036_to_0188880_session_3188273510_talk.txt  \n",
              "1  2023-09-01_12-07-24.419439_from_79687467064_to_74959339929_session_3188426705_talk.txt  \n",
              "2  2023-09-01_12-10-00.806885_from_79687467064_to_74959339929_session_3201544602_talk.txt  \n",
              "3  2023-09-01_12-20-37.789876_from_79851620909_to_74959339929_session_3188461175_talk.txt  \n",
              "4  2023-09-01_12-53-13.411858_from_74959891229_to_74959339929_session_3191589263_talk.txt  "
            ],
            "text/html": [
              "\n",
              "  <div id=\"df-d38e0f6b-43b9-4691-bf44-67dbbcd6de0a\" class=\"colab-df-container\">\n",
              "    <div>\n",
              "<style scoped>\n",
              "    .dataframe tbody tr th:only-of-type {\n",
              "        vertical-align: middle;\n",
              "    }\n",
              "\n",
              "    .dataframe tbody tr th {\n",
              "        vertical-align: top;\n",
              "    }\n",
              "\n",
              "    .dataframe thead th {\n",
              "        text-align: right;\n",
              "    }\n",
              "</style>\n",
              "<table border=\"1\" class=\"dataframe\">\n",
              "  <thead>\n",
              "    <tr style=\"text-align: right;\">\n",
              "      <th></th>\n",
              "      <th>Дата и время</th>\n",
              "      <th>Номер абонента</th>\n",
              "      <th>Номер сотрудника</th>\n",
              "      <th>Идентификатор сессии звонка</th>\n",
              "      <th>Файл whisper-транскрибации записи звонка</th>\n",
              "    </tr>\n",
              "  </thead>\n",
              "  <tbody>\n",
              "    <tr>\n",
              "      <th>0</th>\n",
              "      <td>2023-09-01 11:18:46</td>\n",
              "      <td>79133420036</td>\n",
              "      <td>0188880</td>\n",
              "      <td>3188273510</td>\n",
              "      <td>2023-09-01_11-18-46.243226_from_79133420036_to_0188880_session_3188273510_talk.txt</td>\n",
              "    </tr>\n",
              "    <tr>\n",
              "      <th>1</th>\n",
              "      <td>2023-09-01 12:07:24</td>\n",
              "      <td>79687467064</td>\n",
              "      <td>74959339929</td>\n",
              "      <td>3188426705</td>\n",
              "      <td>2023-09-01_12-07-24.419439_from_79687467064_to_74959339929_session_3188426705_talk.txt</td>\n",
              "    </tr>\n",
              "    <tr>\n",
              "      <th>2</th>\n",
              "      <td>2023-09-01 12:10:00</td>\n",
              "      <td>79687467064</td>\n",
              "      <td>74959339929</td>\n",
              "      <td>3201544602</td>\n",
              "      <td>2023-09-01_12-10-00.806885_from_79687467064_to_74959339929_session_3201544602_talk.txt</td>\n",
              "    </tr>\n",
              "    <tr>\n",
              "      <th>3</th>\n",
              "      <td>2023-09-01 12:20:37</td>\n",
              "      <td>79851620909</td>\n",
              "      <td>74959339929</td>\n",
              "      <td>3188461175</td>\n",
              "      <td>2023-09-01_12-20-37.789876_from_79851620909_to_74959339929_session_3188461175_talk.txt</td>\n",
              "    </tr>\n",
              "    <tr>\n",
              "      <th>4</th>\n",
              "      <td>2023-09-01 12:53:13</td>\n",
              "      <td>74959891229</td>\n",
              "      <td>74959339929</td>\n",
              "      <td>3191589263</td>\n",
              "      <td>2023-09-01_12-53-13.411858_from_74959891229_to_74959339929_session_3191589263_talk.txt</td>\n",
              "    </tr>\n",
              "  </tbody>\n",
              "</table>\n",
              "</div>\n",
              "    <div class=\"colab-df-buttons\">\n",
              "\n",
              "  <div class=\"colab-df-container\">\n",
              "    <button class=\"colab-df-convert\" onclick=\"convertToInteractive('df-d38e0f6b-43b9-4691-bf44-67dbbcd6de0a')\"\n",
              "            title=\"Convert this dataframe to an interactive table.\"\n",
              "            style=\"display:none;\">\n",
              "\n",
              "  <svg xmlns=\"http://www.w3.org/2000/svg\" height=\"24px\" viewBox=\"0 -960 960 960\">\n",
              "    <path d=\"M120-120v-720h720v720H120Zm60-500h600v-160H180v160Zm220 220h160v-160H400v160Zm0 220h160v-160H400v160ZM180-400h160v-160H180v160Zm440 0h160v-160H620v160ZM180-180h160v-160H180v160Zm440 0h160v-160H620v160Z\"/>\n",
              "  </svg>\n",
              "    </button>\n",
              "\n",
              "  <style>\n",
              "    .colab-df-container {\n",
              "      display:flex;\n",
              "      gap: 12px;\n",
              "    }\n",
              "\n",
              "    .colab-df-convert {\n",
              "      background-color: #E8F0FE;\n",
              "      border: none;\n",
              "      border-radius: 50%;\n",
              "      cursor: pointer;\n",
              "      display: none;\n",
              "      fill: #1967D2;\n",
              "      height: 32px;\n",
              "      padding: 0 0 0 0;\n",
              "      width: 32px;\n",
              "    }\n",
              "\n",
              "    .colab-df-convert:hover {\n",
              "      background-color: #E2EBFA;\n",
              "      box-shadow: 0px 1px 2px rgba(60, 64, 67, 0.3), 0px 1px 3px 1px rgba(60, 64, 67, 0.15);\n",
              "      fill: #174EA6;\n",
              "    }\n",
              "\n",
              "    .colab-df-buttons div {\n",
              "      margin-bottom: 4px;\n",
              "    }\n",
              "\n",
              "    [theme=dark] .colab-df-convert {\n",
              "      background-color: #3B4455;\n",
              "      fill: #D2E3FC;\n",
              "    }\n",
              "\n",
              "    [theme=dark] .colab-df-convert:hover {\n",
              "      background-color: #434B5C;\n",
              "      box-shadow: 0px 1px 3px 1px rgba(0, 0, 0, 0.15);\n",
              "      filter: drop-shadow(0px 1px 2px rgba(0, 0, 0, 0.3));\n",
              "      fill: #FFFFFF;\n",
              "    }\n",
              "  </style>\n",
              "\n",
              "    <script>\n",
              "      const buttonEl =\n",
              "        document.querySelector('#df-d38e0f6b-43b9-4691-bf44-67dbbcd6de0a button.colab-df-convert');\n",
              "      buttonEl.style.display =\n",
              "        google.colab.kernel.accessAllowed ? 'block' : 'none';\n",
              "\n",
              "      async function convertToInteractive(key) {\n",
              "        const element = document.querySelector('#df-d38e0f6b-43b9-4691-bf44-67dbbcd6de0a');\n",
              "        const dataTable =\n",
              "          await google.colab.kernel.invokeFunction('convertToInteractive',\n",
              "                                                    [key], {});\n",
              "        if (!dataTable) return;\n",
              "\n",
              "        const docLinkHtml = 'Like what you see? Visit the ' +\n",
              "          '<a target=\"_blank\" href=https://colab.research.google.com/notebooks/data_table.ipynb>data table notebook</a>'\n",
              "          + ' to learn more about interactive tables.';\n",
              "        element.innerHTML = '';\n",
              "        dataTable['output_type'] = 'display_data';\n",
              "        await google.colab.output.renderOutput(dataTable, element);\n",
              "        const docLink = document.createElement('div');\n",
              "        docLink.innerHTML = docLinkHtml;\n",
              "        element.appendChild(docLink);\n",
              "      }\n",
              "    </script>\n",
              "  </div>\n",
              "\n",
              "\n",
              "<div id=\"df-fa720bbe-46cd-4d59-85c5-10d4a2825b67\">\n",
              "  <button class=\"colab-df-quickchart\" onclick=\"quickchart('df-fa720bbe-46cd-4d59-85c5-10d4a2825b67')\"\n",
              "            title=\"Suggest charts\"\n",
              "            style=\"display:none;\">\n",
              "\n",
              "<svg xmlns=\"http://www.w3.org/2000/svg\" height=\"24px\"viewBox=\"0 0 24 24\"\n",
              "     width=\"24px\">\n",
              "    <g>\n",
              "        <path d=\"M19 3H5c-1.1 0-2 .9-2 2v14c0 1.1.9 2 2 2h14c1.1 0 2-.9 2-2V5c0-1.1-.9-2-2-2zM9 17H7v-7h2v7zm4 0h-2V7h2v10zm4 0h-2v-4h2v4z\"/>\n",
              "    </g>\n",
              "</svg>\n",
              "  </button>\n",
              "\n",
              "<style>\n",
              "  .colab-df-quickchart {\n",
              "      --bg-color: #E8F0FE;\n",
              "      --fill-color: #1967D2;\n",
              "      --hover-bg-color: #E2EBFA;\n",
              "      --hover-fill-color: #174EA6;\n",
              "      --disabled-fill-color: #AAA;\n",
              "      --disabled-bg-color: #DDD;\n",
              "  }\n",
              "\n",
              "  [theme=dark] .colab-df-quickchart {\n",
              "      --bg-color: #3B4455;\n",
              "      --fill-color: #D2E3FC;\n",
              "      --hover-bg-color: #434B5C;\n",
              "      --hover-fill-color: #FFFFFF;\n",
              "      --disabled-bg-color: #3B4455;\n",
              "      --disabled-fill-color: #666;\n",
              "  }\n",
              "\n",
              "  .colab-df-quickchart {\n",
              "    background-color: var(--bg-color);\n",
              "    border: none;\n",
              "    border-radius: 50%;\n",
              "    cursor: pointer;\n",
              "    display: none;\n",
              "    fill: var(--fill-color);\n",
              "    height: 32px;\n",
              "    padding: 0;\n",
              "    width: 32px;\n",
              "  }\n",
              "\n",
              "  .colab-df-quickchart:hover {\n",
              "    background-color: var(--hover-bg-color);\n",
              "    box-shadow: 0 1px 2px rgba(60, 64, 67, 0.3), 0 1px 3px 1px rgba(60, 64, 67, 0.15);\n",
              "    fill: var(--button-hover-fill-color);\n",
              "  }\n",
              "\n",
              "  .colab-df-quickchart-complete:disabled,\n",
              "  .colab-df-quickchart-complete:disabled:hover {\n",
              "    background-color: var(--disabled-bg-color);\n",
              "    fill: var(--disabled-fill-color);\n",
              "    box-shadow: none;\n",
              "  }\n",
              "\n",
              "  .colab-df-spinner {\n",
              "    border: 2px solid var(--fill-color);\n",
              "    border-color: transparent;\n",
              "    border-bottom-color: var(--fill-color);\n",
              "    animation:\n",
              "      spin 1s steps(1) infinite;\n",
              "  }\n",
              "\n",
              "  @keyframes spin {\n",
              "    0% {\n",
              "      border-color: transparent;\n",
              "      border-bottom-color: var(--fill-color);\n",
              "      border-left-color: var(--fill-color);\n",
              "    }\n",
              "    20% {\n",
              "      border-color: transparent;\n",
              "      border-left-color: var(--fill-color);\n",
              "      border-top-color: var(--fill-color);\n",
              "    }\n",
              "    30% {\n",
              "      border-color: transparent;\n",
              "      border-left-color: var(--fill-color);\n",
              "      border-top-color: var(--fill-color);\n",
              "      border-right-color: var(--fill-color);\n",
              "    }\n",
              "    40% {\n",
              "      border-color: transparent;\n",
              "      border-right-color: var(--fill-color);\n",
              "      border-top-color: var(--fill-color);\n",
              "    }\n",
              "    60% {\n",
              "      border-color: transparent;\n",
              "      border-right-color: var(--fill-color);\n",
              "    }\n",
              "    80% {\n",
              "      border-color: transparent;\n",
              "      border-right-color: var(--fill-color);\n",
              "      border-bottom-color: var(--fill-color);\n",
              "    }\n",
              "    90% {\n",
              "      border-color: transparent;\n",
              "      border-bottom-color: var(--fill-color);\n",
              "    }\n",
              "  }\n",
              "</style>\n",
              "\n",
              "  <script>\n",
              "    async function quickchart(key) {\n",
              "      const quickchartButtonEl =\n",
              "        document.querySelector('#' + key + ' button');\n",
              "      quickchartButtonEl.disabled = true;  // To prevent multiple clicks.\n",
              "      quickchartButtonEl.classList.add('colab-df-spinner');\n",
              "      try {\n",
              "        const charts = await google.colab.kernel.invokeFunction(\n",
              "            'suggestCharts', [key], {});\n",
              "      } catch (error) {\n",
              "        console.error('Error during call to suggestCharts:', error);\n",
              "      }\n",
              "      quickchartButtonEl.classList.remove('colab-df-spinner');\n",
              "      quickchartButtonEl.classList.add('colab-df-quickchart-complete');\n",
              "    }\n",
              "    (() => {\n",
              "      let quickchartButtonEl =\n",
              "        document.querySelector('#df-fa720bbe-46cd-4d59-85c5-10d4a2825b67 button');\n",
              "      quickchartButtonEl.style.display =\n",
              "        google.colab.kernel.accessAllowed ? 'block' : 'none';\n",
              "    })();\n",
              "  </script>\n",
              "</div>\n",
              "    </div>\n",
              "  </div>\n"
            ]
          },
          "metadata": {},
          "execution_count": 33
        }
      ]
    },
    {
      "cell_type": "code",
      "source": [
        "# Проверяем количество строк\n",
        "print(len(os.listdir(transcription_new_path + 'Расшифровки_Записи Headliner')))\n",
        "print(Headliner_transcriptions_df.shape[0])"
      ],
      "metadata": {
        "colab": {
          "base_uri": "https://localhost:8080/"
        },
        "outputId": "45a5eeee-5618-47d7-c6a1-4aca7952a598",
        "id": "_uMS8oSD_fNX"
      },
      "execution_count": 34,
      "outputs": [
        {
          "output_type": "stream",
          "name": "stdout",
          "text": [
            "1226\n",
            "1226\n"
          ]
        }
      ]
    },
    {
      "cell_type": "code",
      "source": [
        "print(Headliner_transcriptions_df.count())"
      ],
      "metadata": {
        "colab": {
          "base_uri": "https://localhost:8080/"
        },
        "outputId": "dbc4b180-e29c-4a9b-b682-8f138859b23e",
        "id": "qyvKW8iZ_fNY"
      },
      "execution_count": 35,
      "outputs": [
        {
          "output_type": "stream",
          "name": "stdout",
          "text": [
            "Дата и время                                1226\n",
            "Номер абонента                              1226\n",
            "Номер сотрудника                            1226\n",
            "Идентификатор сессии звонка                 1226\n",
            "Файл whisper-транскрибации записи звонка    1226\n",
            "dtype: int64\n"
          ]
        }
      ]
    },
    {
      "cell_type": "markdown",
      "source": [
        "#### Предобработка"
      ],
      "metadata": {
        "id": "YxO3OITr_fNY"
      }
    },
    {
      "cell_type": "markdown",
      "source": [
        "##### 0. Дата и время"
      ],
      "metadata": {
        "id": "RhFWIhVt_fNZ"
      }
    },
    {
      "cell_type": "code",
      "source": [
        "Headliner_transcriptions_df['Дата и время'].head()"
      ],
      "metadata": {
        "colab": {
          "base_uri": "https://localhost:8080/"
        },
        "outputId": "6ca17dcc-9adf-4409-eb1f-5681b6bc841e",
        "id": "ax6shkUO_fNb"
      },
      "execution_count": null,
      "outputs": [
        {
          "output_type": "execute_result",
          "data": {
            "text/plain": [
              "0    2023-09-01 11:18:46\n",
              "1    2023-09-01 12:07:24\n",
              "2    2023-09-01 12:10:00\n",
              "3    2023-09-01 12:20:37\n",
              "4    2023-09-01 12:53:13\n",
              "Name: Дата и время, dtype: object"
            ]
          },
          "metadata": {},
          "execution_count": 90
        }
      ]
    },
    {
      "cell_type": "code",
      "source": [
        "# Приводим тип данных столбца 'Дата и время'\n",
        "Headliner_transcriptions_df['Дата и время'] = pd.to_datetime(Headliner_transcriptions_df['Дата и время'])"
      ],
      "metadata": {
        "id": "Zhu7Wyut_fNb"
      },
      "execution_count": null,
      "outputs": []
    },
    {
      "cell_type": "code",
      "source": [
        "Headliner_transcriptions_df['Дата и время'].tail()"
      ],
      "metadata": {
        "colab": {
          "base_uri": "https://localhost:8080/"
        },
        "outputId": "b9180393-55e8-4f99-c2f5-9bf3bbf86a66",
        "id": "a-DFuC3N_fNc"
      },
      "execution_count": null,
      "outputs": [
        {
          "output_type": "execute_result",
          "data": {
            "text/plain": [
              "1221   2023-08-31 16:55:42\n",
              "1222   2023-08-31 17:01:20\n",
              "1223   2023-08-31 17:08:06\n",
              "1224   2023-09-01 09:30:00\n",
              "1225   2023-09-01 10:09:28\n",
              "Name: Дата и время, dtype: datetime64[ns]"
            ]
          },
          "metadata": {},
          "execution_count": 92
        }
      ]
    },
    {
      "cell_type": "markdown",
      "source": [
        "##### 1. Номер абонента"
      ],
      "metadata": {
        "id": "ynUPgS9C_fNd"
      }
    },
    {
      "cell_type": "code",
      "source": [
        "Headliner_transcriptions_df['Номер абонента'].head()"
      ],
      "metadata": {
        "colab": {
          "base_uri": "https://localhost:8080/"
        },
        "outputId": "1c57ba02-7c17-4a5d-8261-46d69630b17d",
        "id": "chO_5dhC_fNd"
      },
      "execution_count": null,
      "outputs": [
        {
          "output_type": "execute_result",
          "data": {
            "text/plain": [
              "0    79133420036\n",
              "1    79687467064\n",
              "2    79687467064\n",
              "3    79851620909\n",
              "4    74959891229\n",
              "Name: Номер абонента, dtype: object"
            ]
          },
          "metadata": {},
          "execution_count": 93
        }
      ]
    },
    {
      "cell_type": "code",
      "source": [
        "# Приводим тип данных столбца 'Номер абонента'\n",
        "Headliner_transcriptions_df = Headliner_transcriptions_df.astype({'Номер абонента': int})"
      ],
      "metadata": {
        "id": "AqIIHin-_fNf"
      },
      "execution_count": null,
      "outputs": []
    },
    {
      "cell_type": "code",
      "source": [
        "Headliner_transcriptions_df['Номер абонента'].tail()"
      ],
      "metadata": {
        "colab": {
          "base_uri": "https://localhost:8080/"
        },
        "outputId": "5d040896-8ace-4fc8-86e2-7220575015f3",
        "id": "XwfpRIsM_fNg"
      },
      "execution_count": null,
      "outputs": [
        {
          "output_type": "execute_result",
          "data": {
            "text/plain": [
              "1221    79851400618\n",
              "1222    79851400618\n",
              "1223    79647068969\n",
              "1224    79503046153\n",
              "1225    79687467064\n",
              "Name: Номер абонента, dtype: int64"
            ]
          },
          "metadata": {},
          "execution_count": 95
        }
      ]
    },
    {
      "cell_type": "markdown",
      "source": [
        "##### 2. Номер сотрудника"
      ],
      "metadata": {
        "id": "22CNjBqW_fNh"
      }
    },
    {
      "cell_type": "code",
      "source": [
        "Headliner_transcriptions_df['Номер сотрудника'].head()"
      ],
      "metadata": {
        "colab": {
          "base_uri": "https://localhost:8080/"
        },
        "outputId": "fe85721a-c4fc-471d-9b3a-6cb13e0ce1ee",
        "id": "F-9PIjN5_fNi"
      },
      "execution_count": null,
      "outputs": [
        {
          "output_type": "execute_result",
          "data": {
            "text/plain": [
              "0        0188880\n",
              "1    74959339929\n",
              "2    74959339929\n",
              "3    74959339929\n",
              "4    74959339929\n",
              "Name: Номер сотрудника, dtype: object"
            ]
          },
          "metadata": {},
          "execution_count": 96
        }
      ]
    },
    {
      "cell_type": "code",
      "source": [
        "# Приводим тип данных столбца 'Номер сотрудника'\n",
        "Headliner_transcriptions_df = Headliner_transcriptions_df.astype({'Номер сотрудника': int})"
      ],
      "metadata": {
        "id": "Bpv0EzAa_fNi"
      },
      "execution_count": null,
      "outputs": []
    },
    {
      "cell_type": "code",
      "source": [
        "Headliner_transcriptions_df['Номер сотрудника'].tail()"
      ],
      "metadata": {
        "colab": {
          "base_uri": "https://localhost:8080/"
        },
        "outputId": "75550839-74c7-491a-ca32-e86ae5eddf73",
        "id": "ahCAafQP_fNj"
      },
      "execution_count": null,
      "outputs": [
        {
          "output_type": "execute_result",
          "data": {
            "text/plain": [
              "1221         188880\n",
              "1222    74959339929\n",
              "1223    74957898990\n",
              "1224         188880\n",
              "1225    74959339929\n",
              "Name: Номер сотрудника, dtype: int64"
            ]
          },
          "metadata": {},
          "execution_count": 98
        }
      ]
    },
    {
      "cell_type": "markdown",
      "source": [
        "##### 3. Идентификатор сессии звонка"
      ],
      "metadata": {
        "id": "x8pG4qMv_fNj"
      }
    },
    {
      "cell_type": "code",
      "source": [
        "Headliner_transcriptions_df['Идентификатор сессии звонка'].head()"
      ],
      "metadata": {
        "colab": {
          "base_uri": "https://localhost:8080/"
        },
        "outputId": "85d5ed59-0add-4eed-f03a-f714f2cedc20",
        "id": "P4jWfo8y_fNk"
      },
      "execution_count": null,
      "outputs": [
        {
          "output_type": "execute_result",
          "data": {
            "text/plain": [
              "0    3188273510\n",
              "1    3188426705\n",
              "2    3201544602\n",
              "3    3188461175\n",
              "4    3191589263\n",
              "Name: Идентификатор сессии звонка, dtype: object"
            ]
          },
          "metadata": {},
          "execution_count": 99
        }
      ]
    },
    {
      "cell_type": "code",
      "source": [
        "# Приводим тип данных столбца 'Идентификатор сессии звонка'\n",
        "Headliner_transcriptions_df = Headliner_transcriptions_df.astype({'Идентификатор сессии звонка': int})"
      ],
      "metadata": {
        "id": "3fqC6xgb_fNk"
      },
      "execution_count": null,
      "outputs": []
    },
    {
      "cell_type": "code",
      "source": [
        "Headliner_transcriptions_df['Идентификатор сессии звонка'].tail()"
      ],
      "metadata": {
        "colab": {
          "base_uri": "https://localhost:8080/"
        },
        "outputId": "4c990bbf-80cc-4fbd-f3ca-2dbb9cd6528c",
        "id": "Pt7UE8zu_fNl"
      },
      "execution_count": null,
      "outputs": [
        {
          "output_type": "execute_result",
          "data": {
            "text/plain": [
              "1221    3190201298\n",
              "1222    3194695301\n",
              "1223    3187322885\n",
              "1224    3201040552\n",
              "1225    3191076973\n",
              "Name: Идентификатор сессии звонка, dtype: int64"
            ]
          },
          "metadata": {},
          "execution_count": 101
        }
      ]
    },
    {
      "cell_type": "code",
      "source": [
        "# Смотрим количество уникальных значений столбца 'Идентификатор сессии звонка'\n",
        "Headliner_transcriptions_df['Идентификатор сессии звонка'].nunique()"
      ],
      "metadata": {
        "colab": {
          "base_uri": "https://localhost:8080/"
        },
        "outputId": "5cf381b2-806b-406f-a17e-0bcf86f9501c",
        "id": "eVqhqvVB_fNl"
      },
      "execution_count": null,
      "outputs": [
        {
          "output_type": "execute_result",
          "data": {
            "text/plain": [
              "1226"
            ]
          },
          "metadata": {},
          "execution_count": 102
        }
      ]
    },
    {
      "cell_type": "markdown",
      "source": [
        "##### 4. Файл whisper-транскрибации записи звонка"
      ],
      "metadata": {
        "id": "VxH9YlSn_fNl"
      }
    },
    {
      "cell_type": "code",
      "source": [
        "Headliner_transcriptions_df['Файл whisper-транскрибации записи звонка'].head()"
      ],
      "metadata": {
        "colab": {
          "base_uri": "https://localhost:8080/"
        },
        "outputId": "a188ec2a-9a71-41bd-b353-6c789fccfe47",
        "id": "tI0sj7k1_fNl"
      },
      "execution_count": null,
      "outputs": [
        {
          "output_type": "execute_result",
          "data": {
            "text/plain": [
              "0        2023-09-01_11-18-46.243226_from_79133420036_to_0188880_session_3188273510_talk.txt\n",
              "1    2023-09-01_12-07-24.419439_from_79687467064_to_74959339929_session_3188426705_talk.txt\n",
              "2    2023-09-01_12-10-00.806885_from_79687467064_to_74959339929_session_3201544602_talk.txt\n",
              "3    2023-09-01_12-20-37.789876_from_79851620909_to_74959339929_session_3188461175_talk.txt\n",
              "4    2023-09-01_12-53-13.411858_from_74959891229_to_74959339929_session_3191589263_talk.txt\n",
              "Name: Файл whisper-транскрибации записи звонка, dtype: object"
            ]
          },
          "metadata": {},
          "execution_count": 103
        }
      ]
    },
    {
      "cell_type": "code",
      "source": [
        "# Добавляем к файлам относительные пути\n",
        "Headliner_transcriptions_df['Файл whisper-транскрибации записи звонка'] = Headliner_transcriptions_df['Файл whisper-транскрибации записи звонка'].apply(lambda x: 'Whisper-транскрибация новых записей звонков/Расшифровки_Записи Headliner/' + x)"
      ],
      "metadata": {
        "id": "PdxNtfWh_fNm"
      },
      "execution_count": null,
      "outputs": []
    },
    {
      "cell_type": "code",
      "source": [
        "Headliner_transcriptions_df['Файл whisper-транскрибации записи звонка'].tail()"
      ],
      "metadata": {
        "colab": {
          "base_uri": "https://localhost:8080/"
        },
        "outputId": "78c4d4c6-ad63-4e15-bd48-32a374cb96e1",
        "id": "DOhh4Nba_fNm"
      },
      "execution_count": null,
      "outputs": [
        {
          "output_type": "execute_result",
          "data": {
            "text/plain": [
              "1221        Whisper-транскрибация новых записей звонков/Расшифровки_Записи Headliner/2023-08-31_16-55-42.330776_from_79851400618_to_0188880_session_3190201298_talk.txt\n",
              "1222    Whisper-транскрибация новых записей звонков/Расшифровки_Записи Headliner/2023-08-31_17-01-20.800209_from_79851400618_to_74959339929_session_3194695301_talk.txt\n",
              "1223    Whisper-транскрибация новых записей звонков/Расшифровки_Записи Headliner/2023-08-31_17-08-06.533474_from_79647068969_to_74957898990_session_3187322885_talk.txt\n",
              "1224        Whisper-транскрибация новых записей звонков/Расшифровки_Записи Headliner/2023-09-01_09-30-00.917489_from_79503046153_to_0188880_session_3201040552_talk.txt\n",
              "1225    Whisper-транскрибация новых записей звонков/Расшифровки_Записи Headliner/2023-09-01_10-09-28.491302_from_79687467064_to_74959339929_session_3191076973_talk.txt\n",
              "Name: Файл whisper-транскрибации записи звонка, dtype: object"
            ]
          },
          "metadata": {},
          "execution_count": 105
        }
      ]
    },
    {
      "cell_type": "markdown",
      "source": [
        "##### 5. Текст whisper-транскрибации записи звонка"
      ],
      "metadata": {
        "id": "0l_MCr--_fNm"
      }
    },
    {
      "cell_type": "code",
      "source": [
        "# Добавляем столбец 'Текст whisper-транскрибации записи звонка'\n",
        "Headliner_transcriptions_df['Текст whisper-транскрибации записи звонка'] = 'нет текста транскрибации звонка'\n",
        "Headliner_transcriptions_df.head()"
      ],
      "metadata": {
        "colab": {
          "base_uri": "https://localhost:8080/",
          "height": 414
        },
        "outputId": "4ad41959-f8bf-4562-ed85-5ee4d7c73e6b",
        "id": "15MIZw8S_fNn"
      },
      "execution_count": null,
      "outputs": [
        {
          "output_type": "execute_result",
          "data": {
            "text/plain": [
              "         Дата и время  Номер абонента  Номер сотрудника  \\\n",
              "0 2023-09-01 11:18:46     79133420036            188880   \n",
              "1 2023-09-01 12:07:24     79687467064       74959339929   \n",
              "2 2023-09-01 12:10:00     79687467064       74959339929   \n",
              "3 2023-09-01 12:20:37     79851620909       74959339929   \n",
              "4 2023-09-01 12:53:13     74959891229       74959339929   \n",
              "\n",
              "   Идентификатор сессии звонка  \\\n",
              "0                   3188273510   \n",
              "1                   3188426705   \n",
              "2                   3201544602   \n",
              "3                   3188461175   \n",
              "4                   3191589263   \n",
              "\n",
              "                                                                                                                          Файл whisper-транскрибации записи звонка  \\\n",
              "0      Whisper-транскрибация новых записей звонков/Расшифровки_Записи Headliner/2023-09-01_11-18-46.243226_from_79133420036_to_0188880_session_3188273510_talk.txt   \n",
              "1  Whisper-транскрибация новых записей звонков/Расшифровки_Записи Headliner/2023-09-01_12-07-24.419439_from_79687467064_to_74959339929_session_3188426705_talk.txt   \n",
              "2  Whisper-транскрибация новых записей звонков/Расшифровки_Записи Headliner/2023-09-01_12-10-00.806885_from_79687467064_to_74959339929_session_3201544602_talk.txt   \n",
              "3  Whisper-транскрибация новых записей звонков/Расшифровки_Записи Headliner/2023-09-01_12-20-37.789876_from_79851620909_to_74959339929_session_3188461175_talk.txt   \n",
              "4  Whisper-транскрибация новых записей звонков/Расшифровки_Записи Headliner/2023-09-01_12-53-13.411858_from_74959891229_to_74959339929_session_3191589263_talk.txt   \n",
              "\n",
              "  Текст whisper-транскрибации записи звонка  \n",
              "0           нет текста транскрибации звонка  \n",
              "1           нет текста транскрибации звонка  \n",
              "2           нет текста транскрибации звонка  \n",
              "3           нет текста транскрибации звонка  \n",
              "4           нет текста транскрибации звонка  "
            ],
            "text/html": [
              "\n",
              "  <div id=\"df-0243a4d7-da08-44ad-9b7a-fe9482a8de57\" class=\"colab-df-container\">\n",
              "    <div>\n",
              "<style scoped>\n",
              "    .dataframe tbody tr th:only-of-type {\n",
              "        vertical-align: middle;\n",
              "    }\n",
              "\n",
              "    .dataframe tbody tr th {\n",
              "        vertical-align: top;\n",
              "    }\n",
              "\n",
              "    .dataframe thead th {\n",
              "        text-align: right;\n",
              "    }\n",
              "</style>\n",
              "<table border=\"1\" class=\"dataframe\">\n",
              "  <thead>\n",
              "    <tr style=\"text-align: right;\">\n",
              "      <th></th>\n",
              "      <th>Дата и время</th>\n",
              "      <th>Номер абонента</th>\n",
              "      <th>Номер сотрудника</th>\n",
              "      <th>Идентификатор сессии звонка</th>\n",
              "      <th>Файл whisper-транскрибации записи звонка</th>\n",
              "      <th>Текст whisper-транскрибации записи звонка</th>\n",
              "    </tr>\n",
              "  </thead>\n",
              "  <tbody>\n",
              "    <tr>\n",
              "      <th>0</th>\n",
              "      <td>2023-09-01 11:18:46</td>\n",
              "      <td>79133420036</td>\n",
              "      <td>188880</td>\n",
              "      <td>3188273510</td>\n",
              "      <td>Whisper-транскрибация новых записей звонков/Расшифровки_Записи Headliner/2023-09-01_11-18-46.243226_from_79133420036_to_0188880_session_3188273510_talk.txt</td>\n",
              "      <td>нет текста транскрибации звонка</td>\n",
              "    </tr>\n",
              "    <tr>\n",
              "      <th>1</th>\n",
              "      <td>2023-09-01 12:07:24</td>\n",
              "      <td>79687467064</td>\n",
              "      <td>74959339929</td>\n",
              "      <td>3188426705</td>\n",
              "      <td>Whisper-транскрибация новых записей звонков/Расшифровки_Записи Headliner/2023-09-01_12-07-24.419439_from_79687467064_to_74959339929_session_3188426705_talk.txt</td>\n",
              "      <td>нет текста транскрибации звонка</td>\n",
              "    </tr>\n",
              "    <tr>\n",
              "      <th>2</th>\n",
              "      <td>2023-09-01 12:10:00</td>\n",
              "      <td>79687467064</td>\n",
              "      <td>74959339929</td>\n",
              "      <td>3201544602</td>\n",
              "      <td>Whisper-транскрибация новых записей звонков/Расшифровки_Записи Headliner/2023-09-01_12-10-00.806885_from_79687467064_to_74959339929_session_3201544602_talk.txt</td>\n",
              "      <td>нет текста транскрибации звонка</td>\n",
              "    </tr>\n",
              "    <tr>\n",
              "      <th>3</th>\n",
              "      <td>2023-09-01 12:20:37</td>\n",
              "      <td>79851620909</td>\n",
              "      <td>74959339929</td>\n",
              "      <td>3188461175</td>\n",
              "      <td>Whisper-транскрибация новых записей звонков/Расшифровки_Записи Headliner/2023-09-01_12-20-37.789876_from_79851620909_to_74959339929_session_3188461175_talk.txt</td>\n",
              "      <td>нет текста транскрибации звонка</td>\n",
              "    </tr>\n",
              "    <tr>\n",
              "      <th>4</th>\n",
              "      <td>2023-09-01 12:53:13</td>\n",
              "      <td>74959891229</td>\n",
              "      <td>74959339929</td>\n",
              "      <td>3191589263</td>\n",
              "      <td>Whisper-транскрибация новых записей звонков/Расшифровки_Записи Headliner/2023-09-01_12-53-13.411858_from_74959891229_to_74959339929_session_3191589263_talk.txt</td>\n",
              "      <td>нет текста транскрибации звонка</td>\n",
              "    </tr>\n",
              "  </tbody>\n",
              "</table>\n",
              "</div>\n",
              "    <div class=\"colab-df-buttons\">\n",
              "\n",
              "  <div class=\"colab-df-container\">\n",
              "    <button class=\"colab-df-convert\" onclick=\"convertToInteractive('df-0243a4d7-da08-44ad-9b7a-fe9482a8de57')\"\n",
              "            title=\"Convert this dataframe to an interactive table.\"\n",
              "            style=\"display:none;\">\n",
              "\n",
              "  <svg xmlns=\"http://www.w3.org/2000/svg\" height=\"24px\" viewBox=\"0 -960 960 960\">\n",
              "    <path d=\"M120-120v-720h720v720H120Zm60-500h600v-160H180v160Zm220 220h160v-160H400v160Zm0 220h160v-160H400v160ZM180-400h160v-160H180v160Zm440 0h160v-160H620v160ZM180-180h160v-160H180v160Zm440 0h160v-160H620v160Z\"/>\n",
              "  </svg>\n",
              "    </button>\n",
              "\n",
              "  <style>\n",
              "    .colab-df-container {\n",
              "      display:flex;\n",
              "      gap: 12px;\n",
              "    }\n",
              "\n",
              "    .colab-df-convert {\n",
              "      background-color: #E8F0FE;\n",
              "      border: none;\n",
              "      border-radius: 50%;\n",
              "      cursor: pointer;\n",
              "      display: none;\n",
              "      fill: #1967D2;\n",
              "      height: 32px;\n",
              "      padding: 0 0 0 0;\n",
              "      width: 32px;\n",
              "    }\n",
              "\n",
              "    .colab-df-convert:hover {\n",
              "      background-color: #E2EBFA;\n",
              "      box-shadow: 0px 1px 2px rgba(60, 64, 67, 0.3), 0px 1px 3px 1px rgba(60, 64, 67, 0.15);\n",
              "      fill: #174EA6;\n",
              "    }\n",
              "\n",
              "    .colab-df-buttons div {\n",
              "      margin-bottom: 4px;\n",
              "    }\n",
              "\n",
              "    [theme=dark] .colab-df-convert {\n",
              "      background-color: #3B4455;\n",
              "      fill: #D2E3FC;\n",
              "    }\n",
              "\n",
              "    [theme=dark] .colab-df-convert:hover {\n",
              "      background-color: #434B5C;\n",
              "      box-shadow: 0px 1px 3px 1px rgba(0, 0, 0, 0.15);\n",
              "      filter: drop-shadow(0px 1px 2px rgba(0, 0, 0, 0.3));\n",
              "      fill: #FFFFFF;\n",
              "    }\n",
              "  </style>\n",
              "\n",
              "    <script>\n",
              "      const buttonEl =\n",
              "        document.querySelector('#df-0243a4d7-da08-44ad-9b7a-fe9482a8de57 button.colab-df-convert');\n",
              "      buttonEl.style.display =\n",
              "        google.colab.kernel.accessAllowed ? 'block' : 'none';\n",
              "\n",
              "      async function convertToInteractive(key) {\n",
              "        const element = document.querySelector('#df-0243a4d7-da08-44ad-9b7a-fe9482a8de57');\n",
              "        const dataTable =\n",
              "          await google.colab.kernel.invokeFunction('convertToInteractive',\n",
              "                                                    [key], {});\n",
              "        if (!dataTable) return;\n",
              "\n",
              "        const docLinkHtml = 'Like what you see? Visit the ' +\n",
              "          '<a target=\"_blank\" href=https://colab.research.google.com/notebooks/data_table.ipynb>data table notebook</a>'\n",
              "          + ' to learn more about interactive tables.';\n",
              "        element.innerHTML = '';\n",
              "        dataTable['output_type'] = 'display_data';\n",
              "        await google.colab.output.renderOutput(dataTable, element);\n",
              "        const docLink = document.createElement('div');\n",
              "        docLink.innerHTML = docLinkHtml;\n",
              "        element.appendChild(docLink);\n",
              "      }\n",
              "    </script>\n",
              "  </div>\n",
              "\n",
              "\n",
              "<div id=\"df-90c792e3-6da0-40e8-a165-641a899e5082\">\n",
              "  <button class=\"colab-df-quickchart\" onclick=\"quickchart('df-90c792e3-6da0-40e8-a165-641a899e5082')\"\n",
              "            title=\"Suggest charts.\"\n",
              "            style=\"display:none;\">\n",
              "\n",
              "<svg xmlns=\"http://www.w3.org/2000/svg\" height=\"24px\"viewBox=\"0 0 24 24\"\n",
              "     width=\"24px\">\n",
              "    <g>\n",
              "        <path d=\"M19 3H5c-1.1 0-2 .9-2 2v14c0 1.1.9 2 2 2h14c1.1 0 2-.9 2-2V5c0-1.1-.9-2-2-2zM9 17H7v-7h2v7zm4 0h-2V7h2v10zm4 0h-2v-4h2v4z\"/>\n",
              "    </g>\n",
              "</svg>\n",
              "  </button>\n",
              "\n",
              "<style>\n",
              "  .colab-df-quickchart {\n",
              "      --bg-color: #E8F0FE;\n",
              "      --fill-color: #1967D2;\n",
              "      --hover-bg-color: #E2EBFA;\n",
              "      --hover-fill-color: #174EA6;\n",
              "      --disabled-fill-color: #AAA;\n",
              "      --disabled-bg-color: #DDD;\n",
              "  }\n",
              "\n",
              "  [theme=dark] .colab-df-quickchart {\n",
              "      --bg-color: #3B4455;\n",
              "      --fill-color: #D2E3FC;\n",
              "      --hover-bg-color: #434B5C;\n",
              "      --hover-fill-color: #FFFFFF;\n",
              "      --disabled-bg-color: #3B4455;\n",
              "      --disabled-fill-color: #666;\n",
              "  }\n",
              "\n",
              "  .colab-df-quickchart {\n",
              "    background-color: var(--bg-color);\n",
              "    border: none;\n",
              "    border-radius: 50%;\n",
              "    cursor: pointer;\n",
              "    display: none;\n",
              "    fill: var(--fill-color);\n",
              "    height: 32px;\n",
              "    padding: 0;\n",
              "    width: 32px;\n",
              "  }\n",
              "\n",
              "  .colab-df-quickchart:hover {\n",
              "    background-color: var(--hover-bg-color);\n",
              "    box-shadow: 0 1px 2px rgba(60, 64, 67, 0.3), 0 1px 3px 1px rgba(60, 64, 67, 0.15);\n",
              "    fill: var(--button-hover-fill-color);\n",
              "  }\n",
              "\n",
              "  .colab-df-quickchart-complete:disabled,\n",
              "  .colab-df-quickchart-complete:disabled:hover {\n",
              "    background-color: var(--disabled-bg-color);\n",
              "    fill: var(--disabled-fill-color);\n",
              "    box-shadow: none;\n",
              "  }\n",
              "\n",
              "  .colab-df-spinner {\n",
              "    border: 2px solid var(--fill-color);\n",
              "    border-color: transparent;\n",
              "    border-bottom-color: var(--fill-color);\n",
              "    animation:\n",
              "      spin 1s steps(1) infinite;\n",
              "  }\n",
              "\n",
              "  @keyframes spin {\n",
              "    0% {\n",
              "      border-color: transparent;\n",
              "      border-bottom-color: var(--fill-color);\n",
              "      border-left-color: var(--fill-color);\n",
              "    }\n",
              "    20% {\n",
              "      border-color: transparent;\n",
              "      border-left-color: var(--fill-color);\n",
              "      border-top-color: var(--fill-color);\n",
              "    }\n",
              "    30% {\n",
              "      border-color: transparent;\n",
              "      border-left-color: var(--fill-color);\n",
              "      border-top-color: var(--fill-color);\n",
              "      border-right-color: var(--fill-color);\n",
              "    }\n",
              "    40% {\n",
              "      border-color: transparent;\n",
              "      border-right-color: var(--fill-color);\n",
              "      border-top-color: var(--fill-color);\n",
              "    }\n",
              "    60% {\n",
              "      border-color: transparent;\n",
              "      border-right-color: var(--fill-color);\n",
              "    }\n",
              "    80% {\n",
              "      border-color: transparent;\n",
              "      border-right-color: var(--fill-color);\n",
              "      border-bottom-color: var(--fill-color);\n",
              "    }\n",
              "    90% {\n",
              "      border-color: transparent;\n",
              "      border-bottom-color: var(--fill-color);\n",
              "    }\n",
              "  }\n",
              "</style>\n",
              "\n",
              "  <script>\n",
              "    async function quickchart(key) {\n",
              "      const quickchartButtonEl =\n",
              "        document.querySelector('#' + key + ' button');\n",
              "      quickchartButtonEl.disabled = true;  // To prevent multiple clicks.\n",
              "      quickchartButtonEl.classList.add('colab-df-spinner');\n",
              "      try {\n",
              "        const charts = await google.colab.kernel.invokeFunction(\n",
              "            'suggestCharts', [key], {});\n",
              "      } catch (error) {\n",
              "        console.error('Error during call to suggestCharts:', error);\n",
              "      }\n",
              "      quickchartButtonEl.classList.remove('colab-df-spinner');\n",
              "      quickchartButtonEl.classList.add('colab-df-quickchart-complete');\n",
              "    }\n",
              "    (() => {\n",
              "      let quickchartButtonEl =\n",
              "        document.querySelector('#df-90c792e3-6da0-40e8-a165-641a899e5082 button');\n",
              "      quickchartButtonEl.style.display =\n",
              "        google.colab.kernel.accessAllowed ? 'block' : 'none';\n",
              "    })();\n",
              "  </script>\n",
              "</div>\n",
              "    </div>\n",
              "  </div>\n"
            ]
          },
          "metadata": {},
          "execution_count": 106
        }
      ]
    },
    {
      "cell_type": "code",
      "source": [
        "for row in range(Headliner_transcriptions_df.shape[0]):\n",
        "  with open(all_dataset_path + Headliner_transcriptions_df.loc[row, ['Файл whisper-транскрибации записи звонка']].values[0], 'rb') as f:\n",
        "    contents = f.read()\n",
        "  Headliner_transcriptions_df.loc[row, ['Текст whisper-транскрибации записи звонка']] = contents.decode('utf-16').strip()"
      ],
      "metadata": {
        "id": "S5PcNUo__fNn"
      },
      "execution_count": null,
      "outputs": []
    },
    {
      "cell_type": "code",
      "source": [
        "Headliner_transcriptions_df['Текст whisper-транскрибации записи звонка'].head()"
      ],
      "metadata": {
        "colab": {
          "base_uri": "https://localhost:8080/"
        },
        "outputId": "9b8ddc08-9136-4bcc-f5b6-b14e4c0314db",
        "id": "LMMEyB71_fNq"
      },
      "execution_count": null,
      "outputs": [
        {
          "output_type": "execute_result",
          "data": {
            "text/plain": [
              "0    Здравствуйте, вы позвонили в группу компании «Картро». Благодарим вас за звонок. Пожалуйста, дождитесь ответа оператора. Группа компании «Картро» Статьяна, здравствуйте. Статьяна, здравствуйте. Меня зовут Анжела. Хотела вас уточнить по ЖК «Хоббелайнер». Интересует третья очередь или еще какая-то четвертая, а, вторая очередь. Третья очередь. Квартиры 30 и 40 квадратов. Хорошо, я вас поденю с менеджером. Минуту оставайтесь на линии. Спасибо. Жилой комплекс «Хоббелайнер». Меня зовут Виталия. Здравствуйте. Виталия, здравствуйте. Меня зовут Анжела. По поводу квартиры «Хоббелайнер». Вторая, третья очередь. Интересует квартиры 30 и 40 квадратов. Во второй очереди 30 квадратных метров по проекту не было. Площадь от 40 квадратных метров начиналась. Сейчас минимальный бюджет в построенной второй очереди начинается от 22 миллионов за 43 квадратных метра. Есть варианты с площадью 30 квадратных метров со сроком выдачи в ключе 2024 год. По бюджету начинается от 17,5 миллионов. Это со всеми макс...\n",
              "1                                                                                                                                                                                                                                                                             Добрый день, слушаю вас. Как Вы зваетесь? Как Вы сказали, извините. Михаил. Михаил, мне нужно, знаете что, ООО «Элиткомплекс» по какому адресу находится? Шминцский проезд, 39, курс 2. Оттуда приехали, говорят, что нет такого. Охрана никого не пускает. Первый этаж, куда им идти? За минуту. 39, курс 2, первый этаж, помещение 18, кабинет 2-10. Это находится примерно рядом с вкусвиллом. Там дальше вкусвилл будет. Так, подождите, подождите, вот этот адрес, курс 2, первый этаж, помещение 18, кабинет 2-10. Кабинет 2-10, да? Да. Так, это и вот вкусвилл. Да, от вкусвилла, там буквально получается, если смотреть на вкусвилл, с правой стороны будет вход. С правой стороны вход от вкусвилл, да? Да, да, да. Угу, все, спасибо вам большое.\n",
              "2    Алло, Михаил, это снова я. Скажите, пожалуйста, вот там никто, ну охрану туда не пускают. Может кто-то спуститься? Как этого устроить? Кто-нибудь может туда подойти, потому что их там не запускают? Я пока не могу подсказать. Блин, ну что делать? Они ехали. Если вы не в правильном помещении... Не, не, не, они в правильном. Нас все нашли, говорит, лозунг кусил, все нашли, в помещении стоят, там ждут, и кого ждут неизвестно. И там ехали, там еще... Там есть секретарь, который может принять документы. Вы это объясните охраннику, что ему нужно секретарь, чтобы он принял документы, и все. Может быть просто секретарь переехал в другое место. Вот. Нужен секретарь, который примет документы, и все. Вот и все. Блин, а отлично, мы будем искать того секретаря. Там точно должен быть кто-то, может быть, правда? Может быть просто секретарь, который принимает документы, он на обед отошел, поэтому охрана не пускает вас. Нужно это охране объяснить, они смогут подсказать. Потому что охранник думает, ...\n",
              "3    ЗВОНОК ТЕЛЕФОНА ЗВОНОК ТЕЛЕФОНА Добрый день, группа «Картас». Михаил слушает вас. Здравствуйте. Михаил, нужно акт прямой передачи сделать. Включайте. Подскажите, какой проект, фамилия, собственник? Фамилия Белов, Щелково-Богородск. Да. Белов Андреанович. Я просто у вас здесь стою, охрана не пускает, говорит. Никуда не знает. А, я понял, Щелково-Богородск. Вам же объясняли, что необходимо заявление написать письменное. Да, а вот куда войти нужно? Только после рассмотрения данного заявления вам смогут сделать дубликат акта. Просто так это не делается. Нет, я вас понял. Я просто вот у вас в Москве стою, куда мне нужно идти? Кому вызвать, чтобы я написал заявление? Держите к тому адресу. Шмидтовский проезд, 39, корпус 2, этаж 1, помещение 18, кабинет 210. Ну, я вот здесь стою, охрана меня не пускает. Можно объяснить? Что такое отдел продаж? Отделы продаж, наверное, надо стоять или где? С одной стороны, у вас там технические документы делают. Куда нужно с этим актом бежать? Вам заявлен...\n",
              "4                                                                                                                                                                                                                                                                                                                                                                                                                                                                                                                                                                                                                                                                                                                                                                                                                                                                                                                                                                                                                             *** Music ***\n",
              "Name: Текст whisper-транскрибации записи звонка, dtype: object"
            ]
          },
          "metadata": {},
          "execution_count": 109
        }
      ]
    },
    {
      "cell_type": "markdown",
      "source": [
        "#### Типы данных"
      ],
      "metadata": {
        "id": "LtyqiQVu_fNq"
      }
    },
    {
      "cell_type": "code",
      "source": [
        "# Смотрим типы данных\n",
        "Headliner_transcriptions_df.dtypes"
      ],
      "metadata": {
        "colab": {
          "base_uri": "https://localhost:8080/"
        },
        "outputId": "9f7c1ddc-d0eb-4122-ed75-b421da0f194a",
        "id": "fOLOMAjz_fNr"
      },
      "execution_count": null,
      "outputs": [
        {
          "output_type": "execute_result",
          "data": {
            "text/plain": [
              "Дата и время                                 datetime64[ns]\n",
              "Номер абонента                                        int64\n",
              "Номер сотрудника                                      int64\n",
              "Идентификатор сессии звонка                           int64\n",
              "Файл whisper-транскрибации записи звонка             object\n",
              "Текст whisper-транскрибации записи звонка            object\n",
              "dtype: object"
            ]
          },
          "metadata": {},
          "execution_count": 110
        }
      ]
    },
    {
      "cell_type": "code",
      "source": [
        "print(Headliner_transcriptions_df.count())"
      ],
      "metadata": {
        "colab": {
          "base_uri": "https://localhost:8080/"
        },
        "outputId": "682d0214-2c01-47a5-c30a-eaf0e948c9fe",
        "id": "GSR-z1ey_fNs"
      },
      "execution_count": null,
      "outputs": [
        {
          "output_type": "stream",
          "name": "stdout",
          "text": [
            "Дата и время                                 1226\n",
            "Номер абонента                               1226\n",
            "Номер сотрудника                             1226\n",
            "Идентификатор сессии звонка                  1226\n",
            "Файл whisper-транскрибации записи звонка     1226\n",
            "Текст whisper-транскрибации записи звонка    1226\n",
            "dtype: int64\n"
          ]
        }
      ]
    },
    {
      "cell_type": "markdown",
      "source": [
        "#### Сохранение датафрейма"
      ],
      "metadata": {
        "id": "1-iCfh8B_fNs"
      }
    },
    {
      "cell_type": "code",
      "source": [
        "# Сохраняем Headliner_transcriptions_df в файл\n",
        "with open(df_path + 'Headliner_new_transcriptions_df.pkl', 'wb') as f:\n",
        "  pkl.dump(Headliner_transcriptions_df, f)"
      ],
      "metadata": {
        "id": "A0TY2dhN_fNs"
      },
      "execution_count": null,
      "outputs": []
    },
    {
      "cell_type": "markdown",
      "source": [
        "### Primavera"
      ],
      "metadata": {
        "id": "HdEXJOrA_fNt"
      }
    },
    {
      "cell_type": "markdown",
      "source": [
        "#### Создание датафрейма"
      ],
      "metadata": {
        "id": "4t1Rjort_fNt"
      }
    },
    {
      "cell_type": "code",
      "source": [
        "# Создаём датафрейм из списка файлов транскрибации звонков Primavera\n",
        "Primavera_transcriptions_df = transcriptions_list_to_df(os.listdir(transcription_new_path + 'Расшифровки_Записи Primavera'))\n",
        "Primavera_transcriptions_df.shape"
      ],
      "metadata": {
        "colab": {
          "base_uri": "https://localhost:8080/"
        },
        "outputId": "8e687bad-2fae-43aa-a6a2-9aec3863af27",
        "id": "xwC6_ikW_fNt"
      },
      "execution_count": 36,
      "outputs": [
        {
          "output_type": "execute_result",
          "data": {
            "text/plain": [
              "(767, 5)"
            ]
          },
          "metadata": {},
          "execution_count": 36
        }
      ]
    },
    {
      "cell_type": "code",
      "source": [
        "Primavera_transcriptions_df.head()"
      ],
      "metadata": {
        "colab": {
          "base_uri": "https://localhost:8080/",
          "height": 310
        },
        "outputId": "d982a8ca-fe80-4f82-e9a1-286fd12293c5",
        "id": "xry1k4Wp_fNu"
      },
      "execution_count": 37,
      "outputs": [
        {
          "output_type": "execute_result",
          "data": {
            "text/plain": [
              "          Дата и время Номер абонента Номер сотрудника  \\\n",
              "0  2023-09-01 09:00:40    74950210291          0253211   \n",
              "1  2023-09-01 09:25:57    79264683596          0111639   \n",
              "2  2023-09-01 11:16:28    79161163889          0111652   \n",
              "3  2023-09-01 11:42:21    79377999852          0253201   \n",
              "4  2023-09-01 12:05:26    79199944228          0111652   \n",
              "\n",
              "  Идентификатор сессии звонка  \\\n",
              "0                  3200997782   \n",
              "1                  3187995780   \n",
              "2                  3195799881   \n",
              "3                  3188347120   \n",
              "4                  3188422720   \n",
              "\n",
              "                                                           Файл whisper-транскрибации записи звонка  \n",
              "0  2023-09-01_09-00-40.052431_from_74950210291_to_0253211_session_3200997782_talk_whisper_large.txt  \n",
              "1  2023-09-01_09-25-57.450908_from_79264683596_to_0111639_session_3187995780_talk_whisper_large.txt  \n",
              "2  2023-09-01_11-16-28.505654_from_79161163889_to_0111652_session_3195799881_talk_whisper_large.txt  \n",
              "3  2023-09-01_11-42-21.432552_from_79377999852_to_0253201_session_3188347120_talk_whisper_large.txt  \n",
              "4  2023-09-01_12-05-26.624031_from_79199944228_to_0111652_session_3188422720_talk_whisper_large.txt  "
            ],
            "text/html": [
              "\n",
              "  <div id=\"df-221acf87-cdc4-4ce2-b46b-2eae41dd1c70\" class=\"colab-df-container\">\n",
              "    <div>\n",
              "<style scoped>\n",
              "    .dataframe tbody tr th:only-of-type {\n",
              "        vertical-align: middle;\n",
              "    }\n",
              "\n",
              "    .dataframe tbody tr th {\n",
              "        vertical-align: top;\n",
              "    }\n",
              "\n",
              "    .dataframe thead th {\n",
              "        text-align: right;\n",
              "    }\n",
              "</style>\n",
              "<table border=\"1\" class=\"dataframe\">\n",
              "  <thead>\n",
              "    <tr style=\"text-align: right;\">\n",
              "      <th></th>\n",
              "      <th>Дата и время</th>\n",
              "      <th>Номер абонента</th>\n",
              "      <th>Номер сотрудника</th>\n",
              "      <th>Идентификатор сессии звонка</th>\n",
              "      <th>Файл whisper-транскрибации записи звонка</th>\n",
              "    </tr>\n",
              "  </thead>\n",
              "  <tbody>\n",
              "    <tr>\n",
              "      <th>0</th>\n",
              "      <td>2023-09-01 09:00:40</td>\n",
              "      <td>74950210291</td>\n",
              "      <td>0253211</td>\n",
              "      <td>3200997782</td>\n",
              "      <td>2023-09-01_09-00-40.052431_from_74950210291_to_0253211_session_3200997782_talk_whisper_large.txt</td>\n",
              "    </tr>\n",
              "    <tr>\n",
              "      <th>1</th>\n",
              "      <td>2023-09-01 09:25:57</td>\n",
              "      <td>79264683596</td>\n",
              "      <td>0111639</td>\n",
              "      <td>3187995780</td>\n",
              "      <td>2023-09-01_09-25-57.450908_from_79264683596_to_0111639_session_3187995780_talk_whisper_large.txt</td>\n",
              "    </tr>\n",
              "    <tr>\n",
              "      <th>2</th>\n",
              "      <td>2023-09-01 11:16:28</td>\n",
              "      <td>79161163889</td>\n",
              "      <td>0111652</td>\n",
              "      <td>3195799881</td>\n",
              "      <td>2023-09-01_11-16-28.505654_from_79161163889_to_0111652_session_3195799881_talk_whisper_large.txt</td>\n",
              "    </tr>\n",
              "    <tr>\n",
              "      <th>3</th>\n",
              "      <td>2023-09-01 11:42:21</td>\n",
              "      <td>79377999852</td>\n",
              "      <td>0253201</td>\n",
              "      <td>3188347120</td>\n",
              "      <td>2023-09-01_11-42-21.432552_from_79377999852_to_0253201_session_3188347120_talk_whisper_large.txt</td>\n",
              "    </tr>\n",
              "    <tr>\n",
              "      <th>4</th>\n",
              "      <td>2023-09-01 12:05:26</td>\n",
              "      <td>79199944228</td>\n",
              "      <td>0111652</td>\n",
              "      <td>3188422720</td>\n",
              "      <td>2023-09-01_12-05-26.624031_from_79199944228_to_0111652_session_3188422720_talk_whisper_large.txt</td>\n",
              "    </tr>\n",
              "  </tbody>\n",
              "</table>\n",
              "</div>\n",
              "    <div class=\"colab-df-buttons\">\n",
              "\n",
              "  <div class=\"colab-df-container\">\n",
              "    <button class=\"colab-df-convert\" onclick=\"convertToInteractive('df-221acf87-cdc4-4ce2-b46b-2eae41dd1c70')\"\n",
              "            title=\"Convert this dataframe to an interactive table.\"\n",
              "            style=\"display:none;\">\n",
              "\n",
              "  <svg xmlns=\"http://www.w3.org/2000/svg\" height=\"24px\" viewBox=\"0 -960 960 960\">\n",
              "    <path d=\"M120-120v-720h720v720H120Zm60-500h600v-160H180v160Zm220 220h160v-160H400v160Zm0 220h160v-160H400v160ZM180-400h160v-160H180v160Zm440 0h160v-160H620v160ZM180-180h160v-160H180v160Zm440 0h160v-160H620v160Z\"/>\n",
              "  </svg>\n",
              "    </button>\n",
              "\n",
              "  <style>\n",
              "    .colab-df-container {\n",
              "      display:flex;\n",
              "      gap: 12px;\n",
              "    }\n",
              "\n",
              "    .colab-df-convert {\n",
              "      background-color: #E8F0FE;\n",
              "      border: none;\n",
              "      border-radius: 50%;\n",
              "      cursor: pointer;\n",
              "      display: none;\n",
              "      fill: #1967D2;\n",
              "      height: 32px;\n",
              "      padding: 0 0 0 0;\n",
              "      width: 32px;\n",
              "    }\n",
              "\n",
              "    .colab-df-convert:hover {\n",
              "      background-color: #E2EBFA;\n",
              "      box-shadow: 0px 1px 2px rgba(60, 64, 67, 0.3), 0px 1px 3px 1px rgba(60, 64, 67, 0.15);\n",
              "      fill: #174EA6;\n",
              "    }\n",
              "\n",
              "    .colab-df-buttons div {\n",
              "      margin-bottom: 4px;\n",
              "    }\n",
              "\n",
              "    [theme=dark] .colab-df-convert {\n",
              "      background-color: #3B4455;\n",
              "      fill: #D2E3FC;\n",
              "    }\n",
              "\n",
              "    [theme=dark] .colab-df-convert:hover {\n",
              "      background-color: #434B5C;\n",
              "      box-shadow: 0px 1px 3px 1px rgba(0, 0, 0, 0.15);\n",
              "      filter: drop-shadow(0px 1px 2px rgba(0, 0, 0, 0.3));\n",
              "      fill: #FFFFFF;\n",
              "    }\n",
              "  </style>\n",
              "\n",
              "    <script>\n",
              "      const buttonEl =\n",
              "        document.querySelector('#df-221acf87-cdc4-4ce2-b46b-2eae41dd1c70 button.colab-df-convert');\n",
              "      buttonEl.style.display =\n",
              "        google.colab.kernel.accessAllowed ? 'block' : 'none';\n",
              "\n",
              "      async function convertToInteractive(key) {\n",
              "        const element = document.querySelector('#df-221acf87-cdc4-4ce2-b46b-2eae41dd1c70');\n",
              "        const dataTable =\n",
              "          await google.colab.kernel.invokeFunction('convertToInteractive',\n",
              "                                                    [key], {});\n",
              "        if (!dataTable) return;\n",
              "\n",
              "        const docLinkHtml = 'Like what you see? Visit the ' +\n",
              "          '<a target=\"_blank\" href=https://colab.research.google.com/notebooks/data_table.ipynb>data table notebook</a>'\n",
              "          + ' to learn more about interactive tables.';\n",
              "        element.innerHTML = '';\n",
              "        dataTable['output_type'] = 'display_data';\n",
              "        await google.colab.output.renderOutput(dataTable, element);\n",
              "        const docLink = document.createElement('div');\n",
              "        docLink.innerHTML = docLinkHtml;\n",
              "        element.appendChild(docLink);\n",
              "      }\n",
              "    </script>\n",
              "  </div>\n",
              "\n",
              "\n",
              "<div id=\"df-9e1a5986-8a7c-4588-9ece-98bfad9d1359\">\n",
              "  <button class=\"colab-df-quickchart\" onclick=\"quickchart('df-9e1a5986-8a7c-4588-9ece-98bfad9d1359')\"\n",
              "            title=\"Suggest charts\"\n",
              "            style=\"display:none;\">\n",
              "\n",
              "<svg xmlns=\"http://www.w3.org/2000/svg\" height=\"24px\"viewBox=\"0 0 24 24\"\n",
              "     width=\"24px\">\n",
              "    <g>\n",
              "        <path d=\"M19 3H5c-1.1 0-2 .9-2 2v14c0 1.1.9 2 2 2h14c1.1 0 2-.9 2-2V5c0-1.1-.9-2-2-2zM9 17H7v-7h2v7zm4 0h-2V7h2v10zm4 0h-2v-4h2v4z\"/>\n",
              "    </g>\n",
              "</svg>\n",
              "  </button>\n",
              "\n",
              "<style>\n",
              "  .colab-df-quickchart {\n",
              "      --bg-color: #E8F0FE;\n",
              "      --fill-color: #1967D2;\n",
              "      --hover-bg-color: #E2EBFA;\n",
              "      --hover-fill-color: #174EA6;\n",
              "      --disabled-fill-color: #AAA;\n",
              "      --disabled-bg-color: #DDD;\n",
              "  }\n",
              "\n",
              "  [theme=dark] .colab-df-quickchart {\n",
              "      --bg-color: #3B4455;\n",
              "      --fill-color: #D2E3FC;\n",
              "      --hover-bg-color: #434B5C;\n",
              "      --hover-fill-color: #FFFFFF;\n",
              "      --disabled-bg-color: #3B4455;\n",
              "      --disabled-fill-color: #666;\n",
              "  }\n",
              "\n",
              "  .colab-df-quickchart {\n",
              "    background-color: var(--bg-color);\n",
              "    border: none;\n",
              "    border-radius: 50%;\n",
              "    cursor: pointer;\n",
              "    display: none;\n",
              "    fill: var(--fill-color);\n",
              "    height: 32px;\n",
              "    padding: 0;\n",
              "    width: 32px;\n",
              "  }\n",
              "\n",
              "  .colab-df-quickchart:hover {\n",
              "    background-color: var(--hover-bg-color);\n",
              "    box-shadow: 0 1px 2px rgba(60, 64, 67, 0.3), 0 1px 3px 1px rgba(60, 64, 67, 0.15);\n",
              "    fill: var(--button-hover-fill-color);\n",
              "  }\n",
              "\n",
              "  .colab-df-quickchart-complete:disabled,\n",
              "  .colab-df-quickchart-complete:disabled:hover {\n",
              "    background-color: var(--disabled-bg-color);\n",
              "    fill: var(--disabled-fill-color);\n",
              "    box-shadow: none;\n",
              "  }\n",
              "\n",
              "  .colab-df-spinner {\n",
              "    border: 2px solid var(--fill-color);\n",
              "    border-color: transparent;\n",
              "    border-bottom-color: var(--fill-color);\n",
              "    animation:\n",
              "      spin 1s steps(1) infinite;\n",
              "  }\n",
              "\n",
              "  @keyframes spin {\n",
              "    0% {\n",
              "      border-color: transparent;\n",
              "      border-bottom-color: var(--fill-color);\n",
              "      border-left-color: var(--fill-color);\n",
              "    }\n",
              "    20% {\n",
              "      border-color: transparent;\n",
              "      border-left-color: var(--fill-color);\n",
              "      border-top-color: var(--fill-color);\n",
              "    }\n",
              "    30% {\n",
              "      border-color: transparent;\n",
              "      border-left-color: var(--fill-color);\n",
              "      border-top-color: var(--fill-color);\n",
              "      border-right-color: var(--fill-color);\n",
              "    }\n",
              "    40% {\n",
              "      border-color: transparent;\n",
              "      border-right-color: var(--fill-color);\n",
              "      border-top-color: var(--fill-color);\n",
              "    }\n",
              "    60% {\n",
              "      border-color: transparent;\n",
              "      border-right-color: var(--fill-color);\n",
              "    }\n",
              "    80% {\n",
              "      border-color: transparent;\n",
              "      border-right-color: var(--fill-color);\n",
              "      border-bottom-color: var(--fill-color);\n",
              "    }\n",
              "    90% {\n",
              "      border-color: transparent;\n",
              "      border-bottom-color: var(--fill-color);\n",
              "    }\n",
              "  }\n",
              "</style>\n",
              "\n",
              "  <script>\n",
              "    async function quickchart(key) {\n",
              "      const quickchartButtonEl =\n",
              "        document.querySelector('#' + key + ' button');\n",
              "      quickchartButtonEl.disabled = true;  // To prevent multiple clicks.\n",
              "      quickchartButtonEl.classList.add('colab-df-spinner');\n",
              "      try {\n",
              "        const charts = await google.colab.kernel.invokeFunction(\n",
              "            'suggestCharts', [key], {});\n",
              "      } catch (error) {\n",
              "        console.error('Error during call to suggestCharts:', error);\n",
              "      }\n",
              "      quickchartButtonEl.classList.remove('colab-df-spinner');\n",
              "      quickchartButtonEl.classList.add('colab-df-quickchart-complete');\n",
              "    }\n",
              "    (() => {\n",
              "      let quickchartButtonEl =\n",
              "        document.querySelector('#df-9e1a5986-8a7c-4588-9ece-98bfad9d1359 button');\n",
              "      quickchartButtonEl.style.display =\n",
              "        google.colab.kernel.accessAllowed ? 'block' : 'none';\n",
              "    })();\n",
              "  </script>\n",
              "</div>\n",
              "    </div>\n",
              "  </div>\n"
            ]
          },
          "metadata": {},
          "execution_count": 37
        }
      ]
    },
    {
      "cell_type": "code",
      "source": [
        "# Проверяем количество строк\n",
        "print(len(os.listdir(transcription_new_path + 'Расшифровки_Записи Primavera')))\n",
        "print(Primavera_transcriptions_df.shape[0])"
      ],
      "metadata": {
        "colab": {
          "base_uri": "https://localhost:8080/"
        },
        "outputId": "8bcc9ebf-0228-4557-f9be-aaeea4a6aa45",
        "id": "N4xPAJxM_fNu"
      },
      "execution_count": 38,
      "outputs": [
        {
          "output_type": "stream",
          "name": "stdout",
          "text": [
            "767\n",
            "767\n"
          ]
        }
      ]
    },
    {
      "cell_type": "code",
      "source": [
        "print(Primavera_transcriptions_df.count())"
      ],
      "metadata": {
        "colab": {
          "base_uri": "https://localhost:8080/"
        },
        "outputId": "b2de9576-9f19-41af-83cf-e59999be1f88",
        "id": "RKNMvzM9_fNv"
      },
      "execution_count": 39,
      "outputs": [
        {
          "output_type": "stream",
          "name": "stdout",
          "text": [
            "Дата и время                                767\n",
            "Номер абонента                              767\n",
            "Номер сотрудника                            767\n",
            "Идентификатор сессии звонка                 767\n",
            "Файл whisper-транскрибации записи звонка    767\n",
            "dtype: int64\n"
          ]
        }
      ]
    },
    {
      "cell_type": "markdown",
      "source": [
        "#### Предобработка"
      ],
      "metadata": {
        "id": "hLNeUGJP_fNw"
      }
    },
    {
      "cell_type": "markdown",
      "source": [
        "##### 0. Дата и время"
      ],
      "metadata": {
        "id": "amdDYotl_fNw"
      }
    },
    {
      "cell_type": "code",
      "source": [
        "Primavera_transcriptions_df['Дата и время'].head()"
      ],
      "metadata": {
        "colab": {
          "base_uri": "https://localhost:8080/"
        },
        "outputId": "ca6d6178-9c75-427f-cc07-4f635eda140b",
        "id": "ZeZYqdyN_fNw"
      },
      "execution_count": null,
      "outputs": [
        {
          "output_type": "execute_result",
          "data": {
            "text/plain": [
              "0    2023-09-01 09:00:40\n",
              "1    2023-09-01 09:25:57\n",
              "2    2023-09-01 11:16:28\n",
              "3    2023-09-01 11:42:21\n",
              "4    2023-09-01 12:05:26\n",
              "Name: Дата и время, dtype: object"
            ]
          },
          "metadata": {},
          "execution_count": 117
        }
      ]
    },
    {
      "cell_type": "code",
      "source": [
        "# Приводим тип данных столбца 'Дата и время'\n",
        "Primavera_transcriptions_df['Дата и время'] = pd.to_datetime(Primavera_transcriptions_df['Дата и время'])"
      ],
      "metadata": {
        "id": "lfOU5Imw_fNx"
      },
      "execution_count": null,
      "outputs": []
    },
    {
      "cell_type": "code",
      "source": [
        "Primavera_transcriptions_df['Дата и время'].tail()"
      ],
      "metadata": {
        "colab": {
          "base_uri": "https://localhost:8080/"
        },
        "outputId": "5c1c34a7-aaa4-416f-e5d0-f925d3564f0c",
        "id": "_kcIgz0q_fNx"
      },
      "execution_count": null,
      "outputs": [
        {
          "output_type": "execute_result",
          "data": {
            "text/plain": [
              "762   2023-10-04 17:28:47\n",
              "763   2023-10-04 17:34:08\n",
              "764   2023-10-04 18:13:46\n",
              "765   2023-10-04 19:40:25\n",
              "766   2023-10-04 19:47:06\n",
              "Name: Дата и время, dtype: datetime64[ns]"
            ]
          },
          "metadata": {},
          "execution_count": 119
        }
      ]
    },
    {
      "cell_type": "markdown",
      "source": [
        "##### 1. Номер абонента"
      ],
      "metadata": {
        "id": "eoyFUbF2_fNx"
      }
    },
    {
      "cell_type": "code",
      "source": [
        "Primavera_transcriptions_df['Номер абонента'].head()"
      ],
      "metadata": {
        "colab": {
          "base_uri": "https://localhost:8080/"
        },
        "outputId": "9998054c-1f89-4694-bd7e-bea71abbc6ea",
        "id": "jrz9EPQU_fNy"
      },
      "execution_count": null,
      "outputs": [
        {
          "output_type": "execute_result",
          "data": {
            "text/plain": [
              "0    74950210291\n",
              "1    79264683596\n",
              "2    79161163889\n",
              "3    79377999852\n",
              "4    79199944228\n",
              "Name: Номер абонента, dtype: object"
            ]
          },
          "metadata": {},
          "execution_count": 120
        }
      ]
    },
    {
      "cell_type": "code",
      "source": [
        "# Приводим тип данных столбца 'Номер абонента'\n",
        "Primavera_transcriptions_df = Primavera_transcriptions_df.astype({'Номер абонента': int})"
      ],
      "metadata": {
        "id": "DDuS0BvQ_fNy"
      },
      "execution_count": null,
      "outputs": []
    },
    {
      "cell_type": "code",
      "source": [
        "Primavera_transcriptions_df['Номер абонента'].tail()"
      ],
      "metadata": {
        "colab": {
          "base_uri": "https://localhost:8080/"
        },
        "outputId": "ea153ddf-b355-4d5f-d128-231757294756",
        "id": "RU8ztq2v_fNy"
      },
      "execution_count": null,
      "outputs": [
        {
          "output_type": "execute_result",
          "data": {
            "text/plain": [
              "762    79263997574\n",
              "763    74950851200\n",
              "764    79263997574\n",
              "765    74950210291\n",
              "766    79624005760\n",
              "Name: Номер абонента, dtype: int64"
            ]
          },
          "metadata": {},
          "execution_count": 122
        }
      ]
    },
    {
      "cell_type": "markdown",
      "source": [
        "##### 2. Номер сотрудника"
      ],
      "metadata": {
        "id": "YtugtaER_fN1"
      }
    },
    {
      "cell_type": "code",
      "source": [
        "Primavera_transcriptions_df['Номер сотрудника'].head()"
      ],
      "metadata": {
        "colab": {
          "base_uri": "https://localhost:8080/"
        },
        "outputId": "dfc66b01-0a5e-4914-dec1-04d808b09f1d",
        "id": "bM-AEsdD_fN1"
      },
      "execution_count": null,
      "outputs": [
        {
          "output_type": "execute_result",
          "data": {
            "text/plain": [
              "0    0253211\n",
              "1    0111639\n",
              "2    0111652\n",
              "3    0253201\n",
              "4    0111652\n",
              "Name: Номер сотрудника, dtype: object"
            ]
          },
          "metadata": {},
          "execution_count": 123
        }
      ]
    },
    {
      "cell_type": "code",
      "source": [
        "# Приводим тип данных столбца 'Номер сотрудника'\n",
        "Primavera_transcriptions_df = Primavera_transcriptions_df.astype({'Номер сотрудника': int})"
      ],
      "metadata": {
        "id": "BXaVjIWr_fN4"
      },
      "execution_count": null,
      "outputs": []
    },
    {
      "cell_type": "code",
      "source": [
        "Primavera_transcriptions_df['Номер сотрудника'].tail()"
      ],
      "metadata": {
        "colab": {
          "base_uri": "https://localhost:8080/"
        },
        "outputId": "b5db75d9-4299-40c7-c971-58061f51d2f8",
        "id": "PpFEWXcH_fN4"
      },
      "execution_count": null,
      "outputs": [
        {
          "output_type": "execute_result",
          "data": {
            "text/plain": [
              "762    111652\n",
              "763    173695\n",
              "764    111642\n",
              "765    253206\n",
              "766    111652\n",
              "Name: Номер сотрудника, dtype: int64"
            ]
          },
          "metadata": {},
          "execution_count": 125
        }
      ]
    },
    {
      "cell_type": "markdown",
      "source": [
        "##### 3. Идентификатор сессии звонка"
      ],
      "metadata": {
        "id": "-qSxi82c_fN5"
      }
    },
    {
      "cell_type": "code",
      "source": [
        "Primavera_transcriptions_df['Идентификатор сессии звонка'].head()"
      ],
      "metadata": {
        "colab": {
          "base_uri": "https://localhost:8080/"
        },
        "outputId": "3495e576-08ce-442d-a6b7-ef94cc6d9ce1",
        "id": "a3rpWMcl_fN5"
      },
      "execution_count": null,
      "outputs": [
        {
          "output_type": "execute_result",
          "data": {
            "text/plain": [
              "0    3200997782\n",
              "1    3187995780\n",
              "2    3195799881\n",
              "3    3188347120\n",
              "4    3188422720\n",
              "Name: Идентификатор сессии звонка, dtype: object"
            ]
          },
          "metadata": {},
          "execution_count": 126
        }
      ]
    },
    {
      "cell_type": "code",
      "source": [
        "# Приводим тип данных столбца 'Идентификатор сессии звонка'\n",
        "Primavera_transcriptions_df = Primavera_transcriptions_df.astype({'Идентификатор сессии звонка': int})"
      ],
      "metadata": {
        "id": "T1OFjfUZ_fN5"
      },
      "execution_count": null,
      "outputs": []
    },
    {
      "cell_type": "code",
      "source": [
        "Primavera_transcriptions_df['Идентификатор сессии звонка'].tail()"
      ],
      "metadata": {
        "colab": {
          "base_uri": "https://localhost:8080/"
        },
        "outputId": "ec0f74ad-6bd9-4c61-eb88-cd21be07db36",
        "id": "BhoABVt1_fN6"
      },
      "execution_count": null,
      "outputs": [
        {
          "output_type": "execute_result",
          "data": {
            "text/plain": [
              "762    3272470671\n",
              "763    3276535412\n",
              "764    3269705084\n",
              "765    3276780397\n",
              "766    3264304568\n",
              "Name: Идентификатор сессии звонка, dtype: int64"
            ]
          },
          "metadata": {},
          "execution_count": 128
        }
      ]
    },
    {
      "cell_type": "code",
      "source": [
        "# Смотрим количество уникальных значений столбца 'Идентификатор сессии звонка'\n",
        "Primavera_transcriptions_df['Идентификатор сессии звонка'].nunique()"
      ],
      "metadata": {
        "colab": {
          "base_uri": "https://localhost:8080/"
        },
        "outputId": "5d133a9d-36cb-4be0-d2b9-d0e424960fbf",
        "id": "natlkhSg_fN6"
      },
      "execution_count": null,
      "outputs": [
        {
          "output_type": "execute_result",
          "data": {
            "text/plain": [
              "767"
            ]
          },
          "metadata": {},
          "execution_count": 129
        }
      ]
    },
    {
      "cell_type": "markdown",
      "source": [
        "##### 4. Файл whisper-транскрибации записи звонка"
      ],
      "metadata": {
        "id": "bBDBp3WI_fN7"
      }
    },
    {
      "cell_type": "code",
      "source": [
        "Primavera_transcriptions_df['Файл whisper-транскрибации записи звонка'].head()"
      ],
      "metadata": {
        "colab": {
          "base_uri": "https://localhost:8080/"
        },
        "outputId": "cfb875ab-a711-402b-93f6-a3e5e2a40bf8",
        "id": "Yn_Z3Nn-_fN7"
      },
      "execution_count": null,
      "outputs": [
        {
          "output_type": "execute_result",
          "data": {
            "text/plain": [
              "0    2023-09-01_09-00-40.052431_from_74950210291_to_0253211_session_3200997782_talk_whisper_large.txt\n",
              "1    2023-09-01_09-25-57.450908_from_79264683596_to_0111639_session_3187995780_talk_whisper_large.txt\n",
              "2    2023-09-01_11-16-28.505654_from_79161163889_to_0111652_session_3195799881_talk_whisper_large.txt\n",
              "3    2023-09-01_11-42-21.432552_from_79377999852_to_0253201_session_3188347120_talk_whisper_large.txt\n",
              "4    2023-09-01_12-05-26.624031_from_79199944228_to_0111652_session_3188422720_talk_whisper_large.txt\n",
              "Name: Файл whisper-транскрибации записи звонка, dtype: object"
            ]
          },
          "metadata": {},
          "execution_count": 130
        }
      ]
    },
    {
      "cell_type": "code",
      "source": [
        "# Добавляем к файлам относительные пути\n",
        "Primavera_transcriptions_df['Файл whisper-транскрибации записи звонка'] = Primavera_transcriptions_df['Файл whisper-транскрибации записи звонка'].apply(lambda x: 'Whisper-транскрибация новых записей звонков/Расшифровки_Записи Primavera/' + x)"
      ],
      "metadata": {
        "id": "fHllxoOe_fN7"
      },
      "execution_count": null,
      "outputs": []
    },
    {
      "cell_type": "code",
      "source": [
        "Primavera_transcriptions_df['Файл whisper-транскрибации записи звонка'].tail()"
      ],
      "metadata": {
        "colab": {
          "base_uri": "https://localhost:8080/"
        },
        "outputId": "dd3450c6-262c-491e-ae6b-8588132c18e2",
        "id": "ZQup3qnm_fN8"
      },
      "execution_count": null,
      "outputs": [
        {
          "output_type": "execute_result",
          "data": {
            "text/plain": [
              "762    Whisper-транскрибация новых записей звонков/Расшифровки_Записи Primavera/2023-10-04_17-28-47.993474_from_79263997574_to_0111652_session_3272470671_talk_whisper_large.txt\n",
              "763    Whisper-транскрибация новых записей звонков/Расшифровки_Записи Primavera/2023-10-04_17-34-08.412006_from_74950851200_to_0173695_session_3276535412_talk_whisper_large.txt\n",
              "764    Whisper-транскрибация новых записей звонков/Расшифровки_Записи Primavera/2023-10-04_18-13-46.905203_from_79263997574_to_0111642_session_3269705084_talk_whisper_large.txt\n",
              "765    Whisper-транскрибация новых записей звонков/Расшифровки_Записи Primavera/2023-10-04_19-40-25.037187_from_74950210291_to_0253206_session_3276780397_talk_whisper_large.txt\n",
              "766    Whisper-транскрибация новых записей звонков/Расшифровки_Записи Primavera/2023-10-04_19-47-06.171534_from_79624005760_to_0111652_session_3264304568_talk_whisper_large.txt\n",
              "Name: Файл whisper-транскрибации записи звонка, dtype: object"
            ]
          },
          "metadata": {},
          "execution_count": 132
        }
      ]
    },
    {
      "cell_type": "markdown",
      "source": [
        "##### 5. Текст whisper-транскрибации записи звонка"
      ],
      "metadata": {
        "id": "VSQf9ahK_fN8"
      }
    },
    {
      "cell_type": "code",
      "source": [
        "# Добавляем столбец 'Текст whisper-транскрибации записи звонка'\n",
        "Primavera_transcriptions_df['Текст whisper-транскрибации записи звонка'] = 'нет текста транскрибации звонка'\n",
        "Primavera_transcriptions_df.head()"
      ],
      "metadata": {
        "colab": {
          "base_uri": "https://localhost:8080/",
          "height": 452
        },
        "outputId": "b4ca4dc4-192e-4b37-a76b-643d186e2e95",
        "id": "PVIk90G8_fN9"
      },
      "execution_count": null,
      "outputs": [
        {
          "output_type": "execute_result",
          "data": {
            "text/plain": [
              "         Дата и время  Номер абонента  Номер сотрудника  \\\n",
              "0 2023-09-01 09:00:40     74950210291            253211   \n",
              "1 2023-09-01 09:25:57     79264683596            111639   \n",
              "2 2023-09-01 11:16:28     79161163889            111652   \n",
              "3 2023-09-01 11:42:21     79377999852            253201   \n",
              "4 2023-09-01 12:05:26     79199944228            111652   \n",
              "\n",
              "   Идентификатор сессии звонка  \\\n",
              "0                   3200997782   \n",
              "1                   3187995780   \n",
              "2                   3195799881   \n",
              "3                   3188347120   \n",
              "4                   3188422720   \n",
              "\n",
              "                                                                                                                                    Файл whisper-транскрибации записи звонка  \\\n",
              "0  Whisper-транскрибация новых записей звонков/Расшифровки_Записи Primavera/2023-09-01_09-00-40.052431_from_74950210291_to_0253211_session_3200997782_talk_whisper_large.txt   \n",
              "1  Whisper-транскрибация новых записей звонков/Расшифровки_Записи Primavera/2023-09-01_09-25-57.450908_from_79264683596_to_0111639_session_3187995780_talk_whisper_large.txt   \n",
              "2  Whisper-транскрибация новых записей звонков/Расшифровки_Записи Primavera/2023-09-01_11-16-28.505654_from_79161163889_to_0111652_session_3195799881_talk_whisper_large.txt   \n",
              "3  Whisper-транскрибация новых записей звонков/Расшифровки_Записи Primavera/2023-09-01_11-42-21.432552_from_79377999852_to_0253201_session_3188347120_talk_whisper_large.txt   \n",
              "4  Whisper-транскрибация новых записей звонков/Расшифровки_Записи Primavera/2023-09-01_12-05-26.624031_from_79199944228_to_0111652_session_3188422720_talk_whisper_large.txt   \n",
              "\n",
              "  Текст whisper-транскрибации записи звонка  \n",
              "0           нет текста транскрибации звонка  \n",
              "1           нет текста транскрибации звонка  \n",
              "2           нет текста транскрибации звонка  \n",
              "3           нет текста транскрибации звонка  \n",
              "4           нет текста транскрибации звонка  "
            ],
            "text/html": [
              "\n",
              "  <div id=\"df-a339ac6f-8f48-4b34-b47a-989210761dc5\" class=\"colab-df-container\">\n",
              "    <div>\n",
              "<style scoped>\n",
              "    .dataframe tbody tr th:only-of-type {\n",
              "        vertical-align: middle;\n",
              "    }\n",
              "\n",
              "    .dataframe tbody tr th {\n",
              "        vertical-align: top;\n",
              "    }\n",
              "\n",
              "    .dataframe thead th {\n",
              "        text-align: right;\n",
              "    }\n",
              "</style>\n",
              "<table border=\"1\" class=\"dataframe\">\n",
              "  <thead>\n",
              "    <tr style=\"text-align: right;\">\n",
              "      <th></th>\n",
              "      <th>Дата и время</th>\n",
              "      <th>Номер абонента</th>\n",
              "      <th>Номер сотрудника</th>\n",
              "      <th>Идентификатор сессии звонка</th>\n",
              "      <th>Файл whisper-транскрибации записи звонка</th>\n",
              "      <th>Текст whisper-транскрибации записи звонка</th>\n",
              "    </tr>\n",
              "  </thead>\n",
              "  <tbody>\n",
              "    <tr>\n",
              "      <th>0</th>\n",
              "      <td>2023-09-01 09:00:40</td>\n",
              "      <td>74950210291</td>\n",
              "      <td>253211</td>\n",
              "      <td>3200997782</td>\n",
              "      <td>Whisper-транскрибация новых записей звонков/Расшифровки_Записи Primavera/2023-09-01_09-00-40.052431_from_74950210291_to_0253211_session_3200997782_talk_whisper_large.txt</td>\n",
              "      <td>нет текста транскрибации звонка</td>\n",
              "    </tr>\n",
              "    <tr>\n",
              "      <th>1</th>\n",
              "      <td>2023-09-01 09:25:57</td>\n",
              "      <td>79264683596</td>\n",
              "      <td>111639</td>\n",
              "      <td>3187995780</td>\n",
              "      <td>Whisper-транскрибация новых записей звонков/Расшифровки_Записи Primavera/2023-09-01_09-25-57.450908_from_79264683596_to_0111639_session_3187995780_talk_whisper_large.txt</td>\n",
              "      <td>нет текста транскрибации звонка</td>\n",
              "    </tr>\n",
              "    <tr>\n",
              "      <th>2</th>\n",
              "      <td>2023-09-01 11:16:28</td>\n",
              "      <td>79161163889</td>\n",
              "      <td>111652</td>\n",
              "      <td>3195799881</td>\n",
              "      <td>Whisper-транскрибация новых записей звонков/Расшифровки_Записи Primavera/2023-09-01_11-16-28.505654_from_79161163889_to_0111652_session_3195799881_talk_whisper_large.txt</td>\n",
              "      <td>нет текста транскрибации звонка</td>\n",
              "    </tr>\n",
              "    <tr>\n",
              "      <th>3</th>\n",
              "      <td>2023-09-01 11:42:21</td>\n",
              "      <td>79377999852</td>\n",
              "      <td>253201</td>\n",
              "      <td>3188347120</td>\n",
              "      <td>Whisper-транскрибация новых записей звонков/Расшифровки_Записи Primavera/2023-09-01_11-42-21.432552_from_79377999852_to_0253201_session_3188347120_talk_whisper_large.txt</td>\n",
              "      <td>нет текста транскрибации звонка</td>\n",
              "    </tr>\n",
              "    <tr>\n",
              "      <th>4</th>\n",
              "      <td>2023-09-01 12:05:26</td>\n",
              "      <td>79199944228</td>\n",
              "      <td>111652</td>\n",
              "      <td>3188422720</td>\n",
              "      <td>Whisper-транскрибация новых записей звонков/Расшифровки_Записи Primavera/2023-09-01_12-05-26.624031_from_79199944228_to_0111652_session_3188422720_talk_whisper_large.txt</td>\n",
              "      <td>нет текста транскрибации звонка</td>\n",
              "    </tr>\n",
              "  </tbody>\n",
              "</table>\n",
              "</div>\n",
              "    <div class=\"colab-df-buttons\">\n",
              "\n",
              "  <div class=\"colab-df-container\">\n",
              "    <button class=\"colab-df-convert\" onclick=\"convertToInteractive('df-a339ac6f-8f48-4b34-b47a-989210761dc5')\"\n",
              "            title=\"Convert this dataframe to an interactive table.\"\n",
              "            style=\"display:none;\">\n",
              "\n",
              "  <svg xmlns=\"http://www.w3.org/2000/svg\" height=\"24px\" viewBox=\"0 -960 960 960\">\n",
              "    <path d=\"M120-120v-720h720v720H120Zm60-500h600v-160H180v160Zm220 220h160v-160H400v160Zm0 220h160v-160H400v160ZM180-400h160v-160H180v160Zm440 0h160v-160H620v160ZM180-180h160v-160H180v160Zm440 0h160v-160H620v160Z\"/>\n",
              "  </svg>\n",
              "    </button>\n",
              "\n",
              "  <style>\n",
              "    .colab-df-container {\n",
              "      display:flex;\n",
              "      gap: 12px;\n",
              "    }\n",
              "\n",
              "    .colab-df-convert {\n",
              "      background-color: #E8F0FE;\n",
              "      border: none;\n",
              "      border-radius: 50%;\n",
              "      cursor: pointer;\n",
              "      display: none;\n",
              "      fill: #1967D2;\n",
              "      height: 32px;\n",
              "      padding: 0 0 0 0;\n",
              "      width: 32px;\n",
              "    }\n",
              "\n",
              "    .colab-df-convert:hover {\n",
              "      background-color: #E2EBFA;\n",
              "      box-shadow: 0px 1px 2px rgba(60, 64, 67, 0.3), 0px 1px 3px 1px rgba(60, 64, 67, 0.15);\n",
              "      fill: #174EA6;\n",
              "    }\n",
              "\n",
              "    .colab-df-buttons div {\n",
              "      margin-bottom: 4px;\n",
              "    }\n",
              "\n",
              "    [theme=dark] .colab-df-convert {\n",
              "      background-color: #3B4455;\n",
              "      fill: #D2E3FC;\n",
              "    }\n",
              "\n",
              "    [theme=dark] .colab-df-convert:hover {\n",
              "      background-color: #434B5C;\n",
              "      box-shadow: 0px 1px 3px 1px rgba(0, 0, 0, 0.15);\n",
              "      filter: drop-shadow(0px 1px 2px rgba(0, 0, 0, 0.3));\n",
              "      fill: #FFFFFF;\n",
              "    }\n",
              "  </style>\n",
              "\n",
              "    <script>\n",
              "      const buttonEl =\n",
              "        document.querySelector('#df-a339ac6f-8f48-4b34-b47a-989210761dc5 button.colab-df-convert');\n",
              "      buttonEl.style.display =\n",
              "        google.colab.kernel.accessAllowed ? 'block' : 'none';\n",
              "\n",
              "      async function convertToInteractive(key) {\n",
              "        const element = document.querySelector('#df-a339ac6f-8f48-4b34-b47a-989210761dc5');\n",
              "        const dataTable =\n",
              "          await google.colab.kernel.invokeFunction('convertToInteractive',\n",
              "                                                    [key], {});\n",
              "        if (!dataTable) return;\n",
              "\n",
              "        const docLinkHtml = 'Like what you see? Visit the ' +\n",
              "          '<a target=\"_blank\" href=https://colab.research.google.com/notebooks/data_table.ipynb>data table notebook</a>'\n",
              "          + ' to learn more about interactive tables.';\n",
              "        element.innerHTML = '';\n",
              "        dataTable['output_type'] = 'display_data';\n",
              "        await google.colab.output.renderOutput(dataTable, element);\n",
              "        const docLink = document.createElement('div');\n",
              "        docLink.innerHTML = docLinkHtml;\n",
              "        element.appendChild(docLink);\n",
              "      }\n",
              "    </script>\n",
              "  </div>\n",
              "\n",
              "\n",
              "<div id=\"df-cc44ebe6-2346-424b-9d90-419d3cfb6906\">\n",
              "  <button class=\"colab-df-quickchart\" onclick=\"quickchart('df-cc44ebe6-2346-424b-9d90-419d3cfb6906')\"\n",
              "            title=\"Suggest charts.\"\n",
              "            style=\"display:none;\">\n",
              "\n",
              "<svg xmlns=\"http://www.w3.org/2000/svg\" height=\"24px\"viewBox=\"0 0 24 24\"\n",
              "     width=\"24px\">\n",
              "    <g>\n",
              "        <path d=\"M19 3H5c-1.1 0-2 .9-2 2v14c0 1.1.9 2 2 2h14c1.1 0 2-.9 2-2V5c0-1.1-.9-2-2-2zM9 17H7v-7h2v7zm4 0h-2V7h2v10zm4 0h-2v-4h2v4z\"/>\n",
              "    </g>\n",
              "</svg>\n",
              "  </button>\n",
              "\n",
              "<style>\n",
              "  .colab-df-quickchart {\n",
              "      --bg-color: #E8F0FE;\n",
              "      --fill-color: #1967D2;\n",
              "      --hover-bg-color: #E2EBFA;\n",
              "      --hover-fill-color: #174EA6;\n",
              "      --disabled-fill-color: #AAA;\n",
              "      --disabled-bg-color: #DDD;\n",
              "  }\n",
              "\n",
              "  [theme=dark] .colab-df-quickchart {\n",
              "      --bg-color: #3B4455;\n",
              "      --fill-color: #D2E3FC;\n",
              "      --hover-bg-color: #434B5C;\n",
              "      --hover-fill-color: #FFFFFF;\n",
              "      --disabled-bg-color: #3B4455;\n",
              "      --disabled-fill-color: #666;\n",
              "  }\n",
              "\n",
              "  .colab-df-quickchart {\n",
              "    background-color: var(--bg-color);\n",
              "    border: none;\n",
              "    border-radius: 50%;\n",
              "    cursor: pointer;\n",
              "    display: none;\n",
              "    fill: var(--fill-color);\n",
              "    height: 32px;\n",
              "    padding: 0;\n",
              "    width: 32px;\n",
              "  }\n",
              "\n",
              "  .colab-df-quickchart:hover {\n",
              "    background-color: var(--hover-bg-color);\n",
              "    box-shadow: 0 1px 2px rgba(60, 64, 67, 0.3), 0 1px 3px 1px rgba(60, 64, 67, 0.15);\n",
              "    fill: var(--button-hover-fill-color);\n",
              "  }\n",
              "\n",
              "  .colab-df-quickchart-complete:disabled,\n",
              "  .colab-df-quickchart-complete:disabled:hover {\n",
              "    background-color: var(--disabled-bg-color);\n",
              "    fill: var(--disabled-fill-color);\n",
              "    box-shadow: none;\n",
              "  }\n",
              "\n",
              "  .colab-df-spinner {\n",
              "    border: 2px solid var(--fill-color);\n",
              "    border-color: transparent;\n",
              "    border-bottom-color: var(--fill-color);\n",
              "    animation:\n",
              "      spin 1s steps(1) infinite;\n",
              "  }\n",
              "\n",
              "  @keyframes spin {\n",
              "    0% {\n",
              "      border-color: transparent;\n",
              "      border-bottom-color: var(--fill-color);\n",
              "      border-left-color: var(--fill-color);\n",
              "    }\n",
              "    20% {\n",
              "      border-color: transparent;\n",
              "      border-left-color: var(--fill-color);\n",
              "      border-top-color: var(--fill-color);\n",
              "    }\n",
              "    30% {\n",
              "      border-color: transparent;\n",
              "      border-left-color: var(--fill-color);\n",
              "      border-top-color: var(--fill-color);\n",
              "      border-right-color: var(--fill-color);\n",
              "    }\n",
              "    40% {\n",
              "      border-color: transparent;\n",
              "      border-right-color: var(--fill-color);\n",
              "      border-top-color: var(--fill-color);\n",
              "    }\n",
              "    60% {\n",
              "      border-color: transparent;\n",
              "      border-right-color: var(--fill-color);\n",
              "    }\n",
              "    80% {\n",
              "      border-color: transparent;\n",
              "      border-right-color: var(--fill-color);\n",
              "      border-bottom-color: var(--fill-color);\n",
              "    }\n",
              "    90% {\n",
              "      border-color: transparent;\n",
              "      border-bottom-color: var(--fill-color);\n",
              "    }\n",
              "  }\n",
              "</style>\n",
              "\n",
              "  <script>\n",
              "    async function quickchart(key) {\n",
              "      const quickchartButtonEl =\n",
              "        document.querySelector('#' + key + ' button');\n",
              "      quickchartButtonEl.disabled = true;  // To prevent multiple clicks.\n",
              "      quickchartButtonEl.classList.add('colab-df-spinner');\n",
              "      try {\n",
              "        const charts = await google.colab.kernel.invokeFunction(\n",
              "            'suggestCharts', [key], {});\n",
              "      } catch (error) {\n",
              "        console.error('Error during call to suggestCharts:', error);\n",
              "      }\n",
              "      quickchartButtonEl.classList.remove('colab-df-spinner');\n",
              "      quickchartButtonEl.classList.add('colab-df-quickchart-complete');\n",
              "    }\n",
              "    (() => {\n",
              "      let quickchartButtonEl =\n",
              "        document.querySelector('#df-cc44ebe6-2346-424b-9d90-419d3cfb6906 button');\n",
              "      quickchartButtonEl.style.display =\n",
              "        google.colab.kernel.accessAllowed ? 'block' : 'none';\n",
              "    })();\n",
              "  </script>\n",
              "</div>\n",
              "    </div>\n",
              "  </div>\n"
            ]
          },
          "metadata": {},
          "execution_count": 133
        }
      ]
    },
    {
      "cell_type": "code",
      "source": [
        "for row in range(Primavera_transcriptions_df.shape[0]):\n",
        "  with open(all_dataset_path + Primavera_transcriptions_df.loc[row, ['Файл whisper-транскрибации записи звонка']].values[0], 'rb') as f:\n",
        "    contents = f.read()\n",
        "  Primavera_transcriptions_df.loc[row, ['Текст whisper-транскрибации записи звонка']] = contents.decode('utf-16').strip()"
      ],
      "metadata": {
        "id": "l6OgFAgT_fN9"
      },
      "execution_count": null,
      "outputs": []
    },
    {
      "cell_type": "code",
      "source": [
        "Primavera_transcriptions_df['Текст whisper-транскрибации записи звонка'].head()"
      ],
      "metadata": {
        "colab": {
          "base_uri": "https://localhost:8080/"
        },
        "outputId": "45341cdf-e1be-4494-ca54-d138b49c3e91",
        "id": "imv7iJGa_fN-"
      },
      "execution_count": null,
      "outputs": [
        {
          "output_type": "execute_result",
          "data": {
            "text/plain": [
              "0                                                                                                                                                                                                                                                                                                                                                                                                                                                                                                                                                                                                                                                                                                                                                                            Добрый день, оператор Яна, клубный город на реке Примавера. Как я могу к вам обращаться? Добрый день, Александр. Можете через 2 часа набрать? Да, покупка квартиры, да, интересует, Александр? Да, да, да. Все, хорошо, передам информацию. Ожидайте. Спасибо.\n",
              "1    Клубный город на реке Примавера. Здравствуйте, Светлана. Да, здрасте. Есть квартиры? Да, да. Как обращаться к вам? Вячеслав. Вячеслав, вас менеджер проконсультирует минуту. Обращаем ваше внимание, что в целях контроля качества услуг разговор может быть записан. Обращаем ваше внимание. Примавера. Клубный город на реке. Меня Владимир зовут. Здравствуйте, Вячеслав. Всем могу быть полезен? Да, здрасте. Предъявление на вас, что квартиры до 20 миллионов, ну, как хотелось бы, до 15. Ну, либо однушка, либо двушка. Просите на двушку, наверное. Вячеслав, скажите, до 13 миллионов, вы сказали? Нет, до 17-ти. А, так. У нас просто двухкомнатные, где отдельная спальня и кухня. Они начинаются от 27 миллионов. Есть форматы Евро, двухкомнатные, где отдельная спальня и кухня-гостиная. Они начинаются от 19 миллионов 300 тысяч. Вам такие форматы подходят? Это самые дальние по сдаче, корпус. Да, совершенно верно. У нас сейчас в продаже две очереди, Россиния и Вивальди. Россия, ключи до декабря 2024 год...\n",
              "2    Здравствуйте, это Татьяна. Здравствуйте, это Евгения. Город на реке, однокомнатный 25-й год, 19 370 000 рублей. Соединяем? Да. Ага. А для продаж соединяю с менеджером. Добрый день. Я хотела узнать, по ряду рассрочки какой у вас... Обращаем ваше внимание, что в целях контроля качества услуг разговор может быть записан. Прямовары, Клубная зона. Алло. Владимир зовут. Здравствуйте, Евгения. Чем могу быть полезен? Здравствуйте. Хотела поподробнее расспросить по отсрочке, рассрочке, то есть при покупке квартиры, такие условия. Евгения, а вас какой корпус интересует? Очередь. У нас есть две очереди. Первая на России называется, там ключи до декабря 24-го года пораньше завернуты. А вторая очередь называется в Вивальде, там срок получения ключей до декабря 25-го года, на год позднее. Вы готовы подождать? Ага. Подождать я готова, да. Ну какие у вас там условия? А что, разные условия для 24-го года? Да, конечно. А вы расскажите про то и про другое. В первую очередь у нас есть хорошая рассроч...\n",
              "3                                           Кубный город на реке Примавера. Здравствуйте, Екатерина. Да, здравствуй, Екатерина. Скажите, пожалуйста, а где у вас офис находится? По поводу консультации приключена специалистка. Как вас представить можно? Михаил зовут. Соглени вас. Клубный город на реке Примавера. Меня зовут Екатерина. Михаил, здравствуйте. Чем могу быть вам? Правильно? Здравствуйте. А где у вас офис находится в Прадаже? Он находится по адресу Волоколамской шоссе, 71, корпус 1. Чуть в отдалении от объекта. Вы сейчас где-то недалеко? Да, мы где-то возле прям объекта. А, вам нужно пойти в другую сторону, либо там... В сторону Волоколамского шоссе. Да, абсолютно верно. Вы сейчас пешком или на автомобиле? Да, пешком. Я вам могу сбросить точку в Яндекс.Картах, в навигаторе, вы поймете где. И я вас буду застеливать. Есть номер живой, да? Можете сюда оставить. Сейчас, секунду, давайте я посмотрю определился ли. Так, 937, 799, да? Да, да. Все, сейчас отправлю вас. Все, спасибо, ждем.\n",
              "4                                                                                                                                                                                                                                                                                                                                                                                                                                                                                                                                                                                                                                                                                                                                                                                                                                                                     Кловный город на реке Примавера. Здравствуйте, Анастасия. Девушка, здравствуйте. А у вас есть такой врач? Сейчас скажу. А ваш врач, это жилой комплекс. Ой, извините.\n",
              "Name: Текст whisper-транскрибации записи звонка, dtype: object"
            ]
          },
          "metadata": {},
          "execution_count": 135
        }
      ]
    },
    {
      "cell_type": "markdown",
      "source": [
        "#### Типы данных"
      ],
      "metadata": {
        "id": "HjxpufJr_fN_"
      }
    },
    {
      "cell_type": "code",
      "source": [
        "# Смотрим типы данных\n",
        "Primavera_transcriptions_df.dtypes"
      ],
      "metadata": {
        "colab": {
          "base_uri": "https://localhost:8080/"
        },
        "outputId": "6e9dfb78-e8af-4232-c0b6-eba74dcf75ec",
        "id": "yHIafgtu_fOA"
      },
      "execution_count": null,
      "outputs": [
        {
          "output_type": "execute_result",
          "data": {
            "text/plain": [
              "Дата и время                                 datetime64[ns]\n",
              "Номер абонента                                        int64\n",
              "Номер сотрудника                                      int64\n",
              "Идентификатор сессии звонка                           int64\n",
              "Файл whisper-транскрибации записи звонка             object\n",
              "Текст whisper-транскрибации записи звонка            object\n",
              "dtype: object"
            ]
          },
          "metadata": {},
          "execution_count": 136
        }
      ]
    },
    {
      "cell_type": "code",
      "source": [
        "print(Primavera_transcriptions_df.count())"
      ],
      "metadata": {
        "colab": {
          "base_uri": "https://localhost:8080/"
        },
        "outputId": "12aa8584-be96-4486-fab1-384c9d4658e2",
        "id": "m83Ylqxv_fOA"
      },
      "execution_count": null,
      "outputs": [
        {
          "output_type": "stream",
          "name": "stdout",
          "text": [
            "Дата и время                                 767\n",
            "Номер абонента                               767\n",
            "Номер сотрудника                             767\n",
            "Идентификатор сессии звонка                  767\n",
            "Файл whisper-транскрибации записи звонка     767\n",
            "Текст whisper-транскрибации записи звонка    767\n",
            "dtype: int64\n"
          ]
        }
      ]
    },
    {
      "cell_type": "markdown",
      "source": [
        "#### Сохранение датафрейма"
      ],
      "metadata": {
        "id": "p2JQjPMW_fOA"
      }
    },
    {
      "cell_type": "code",
      "source": [
        "# Сохраняем Primavera_transcriptions_df в файл\n",
        "with open(df_path + 'Primavera_new_transcriptions_df.pkl', 'wb') as f:\n",
        "  pkl.dump(Primavera_transcriptions_df, f)"
      ],
      "metadata": {
        "id": "yiGdaTsK_fOB"
      },
      "execution_count": null,
      "outputs": []
    },
    {
      "cell_type": "markdown",
      "source": [
        "### Paveletskaya_city"
      ],
      "metadata": {
        "id": "pbkUTkhS_fOB"
      }
    },
    {
      "cell_type": "markdown",
      "source": [
        "#### Создание датафрейма"
      ],
      "metadata": {
        "id": "ib86EPkT_fOC"
      }
    },
    {
      "cell_type": "code",
      "source": [
        "# Создаём датафрейм из списка файлов транскрибации звонков Paveletskaya_city\n",
        "Paveletskaya_city_transcriptions_df = transcriptions_list_to_df(os.listdir(transcription_new_path + 'Расшифровки_Записи Павелецкая сити'))\n",
        "Paveletskaya_city_transcriptions_df.shape"
      ],
      "metadata": {
        "colab": {
          "base_uri": "https://localhost:8080/"
        },
        "outputId": "7928ca82-fa92-4d56-f95a-cc142a0d8c3f",
        "id": "p_1dDFUQ_fOC"
      },
      "execution_count": 40,
      "outputs": [
        {
          "output_type": "execute_result",
          "data": {
            "text/plain": [
              "(1413, 5)"
            ]
          },
          "metadata": {},
          "execution_count": 40
        }
      ]
    },
    {
      "cell_type": "code",
      "source": [
        "Paveletskaya_city_transcriptions_df.head()"
      ],
      "metadata": {
        "colab": {
          "base_uri": "https://localhost:8080/",
          "height": 310
        },
        "outputId": "98f22b4b-ac53-414e-aa40-7b36e5693e37",
        "id": "vuVE8GBI_fOC"
      },
      "execution_count": 41,
      "outputs": [
        {
          "output_type": "execute_result",
          "data": {
            "text/plain": [
              "          Дата и время Номер абонента Номер сотрудника  \\\n",
              "0  2023-08-31 20:02:47    79169468891            00288   \n",
              "1  2023-09-01 08:51:34    79139426842            00288   \n",
              "2  2023-09-01 10:53:19    79257720080            00288   \n",
              "3  2023-09-01 11:24:52    37378077136            00288   \n",
              "4  2023-09-01 11:33:04    79858891114            00288   \n",
              "\n",
              "  Идентификатор сессии звонка  \\\n",
              "0                  3195065861   \n",
              "1                  3195409751   \n",
              "2                  3188206290   \n",
              "3                  3188292205   \n",
              "4                  3195853356   \n",
              "\n",
              "                                           Файл whisper-транскрибации записи звонка  \n",
              "0  2023-08-31_20-02-47.458103_from_79169468891_to_00288_session_3195065861_talk.txt  \n",
              "1  2023-09-01_08-51-34.418574_from_79139426842_to_00288_session_3195409751_talk.txt  \n",
              "2  2023-09-01_10-53-19.201214_from_79257720080_to_00288_session_3188206290_talk.txt  \n",
              "3  2023-09-01_11-24-52.929663_from_37378077136_to_00288_session_3188292205_talk.txt  \n",
              "4  2023-09-01_11-33-04.092834_from_79858891114_to_00288_session_3195853356_talk.txt  "
            ],
            "text/html": [
              "\n",
              "  <div id=\"df-1396e63f-c24a-4a45-841e-f2fe44ac84f1\" class=\"colab-df-container\">\n",
              "    <div>\n",
              "<style scoped>\n",
              "    .dataframe tbody tr th:only-of-type {\n",
              "        vertical-align: middle;\n",
              "    }\n",
              "\n",
              "    .dataframe tbody tr th {\n",
              "        vertical-align: top;\n",
              "    }\n",
              "\n",
              "    .dataframe thead th {\n",
              "        text-align: right;\n",
              "    }\n",
              "</style>\n",
              "<table border=\"1\" class=\"dataframe\">\n",
              "  <thead>\n",
              "    <tr style=\"text-align: right;\">\n",
              "      <th></th>\n",
              "      <th>Дата и время</th>\n",
              "      <th>Номер абонента</th>\n",
              "      <th>Номер сотрудника</th>\n",
              "      <th>Идентификатор сессии звонка</th>\n",
              "      <th>Файл whisper-транскрибации записи звонка</th>\n",
              "    </tr>\n",
              "  </thead>\n",
              "  <tbody>\n",
              "    <tr>\n",
              "      <th>0</th>\n",
              "      <td>2023-08-31 20:02:47</td>\n",
              "      <td>79169468891</td>\n",
              "      <td>00288</td>\n",
              "      <td>3195065861</td>\n",
              "      <td>2023-08-31_20-02-47.458103_from_79169468891_to_00288_session_3195065861_talk.txt</td>\n",
              "    </tr>\n",
              "    <tr>\n",
              "      <th>1</th>\n",
              "      <td>2023-09-01 08:51:34</td>\n",
              "      <td>79139426842</td>\n",
              "      <td>00288</td>\n",
              "      <td>3195409751</td>\n",
              "      <td>2023-09-01_08-51-34.418574_from_79139426842_to_00288_session_3195409751_talk.txt</td>\n",
              "    </tr>\n",
              "    <tr>\n",
              "      <th>2</th>\n",
              "      <td>2023-09-01 10:53:19</td>\n",
              "      <td>79257720080</td>\n",
              "      <td>00288</td>\n",
              "      <td>3188206290</td>\n",
              "      <td>2023-09-01_10-53-19.201214_from_79257720080_to_00288_session_3188206290_talk.txt</td>\n",
              "    </tr>\n",
              "    <tr>\n",
              "      <th>3</th>\n",
              "      <td>2023-09-01 11:24:52</td>\n",
              "      <td>37378077136</td>\n",
              "      <td>00288</td>\n",
              "      <td>3188292205</td>\n",
              "      <td>2023-09-01_11-24-52.929663_from_37378077136_to_00288_session_3188292205_talk.txt</td>\n",
              "    </tr>\n",
              "    <tr>\n",
              "      <th>4</th>\n",
              "      <td>2023-09-01 11:33:04</td>\n",
              "      <td>79858891114</td>\n",
              "      <td>00288</td>\n",
              "      <td>3195853356</td>\n",
              "      <td>2023-09-01_11-33-04.092834_from_79858891114_to_00288_session_3195853356_talk.txt</td>\n",
              "    </tr>\n",
              "  </tbody>\n",
              "</table>\n",
              "</div>\n",
              "    <div class=\"colab-df-buttons\">\n",
              "\n",
              "  <div class=\"colab-df-container\">\n",
              "    <button class=\"colab-df-convert\" onclick=\"convertToInteractive('df-1396e63f-c24a-4a45-841e-f2fe44ac84f1')\"\n",
              "            title=\"Convert this dataframe to an interactive table.\"\n",
              "            style=\"display:none;\">\n",
              "\n",
              "  <svg xmlns=\"http://www.w3.org/2000/svg\" height=\"24px\" viewBox=\"0 -960 960 960\">\n",
              "    <path d=\"M120-120v-720h720v720H120Zm60-500h600v-160H180v160Zm220 220h160v-160H400v160Zm0 220h160v-160H400v160ZM180-400h160v-160H180v160Zm440 0h160v-160H620v160ZM180-180h160v-160H180v160Zm440 0h160v-160H620v160Z\"/>\n",
              "  </svg>\n",
              "    </button>\n",
              "\n",
              "  <style>\n",
              "    .colab-df-container {\n",
              "      display:flex;\n",
              "      gap: 12px;\n",
              "    }\n",
              "\n",
              "    .colab-df-convert {\n",
              "      background-color: #E8F0FE;\n",
              "      border: none;\n",
              "      border-radius: 50%;\n",
              "      cursor: pointer;\n",
              "      display: none;\n",
              "      fill: #1967D2;\n",
              "      height: 32px;\n",
              "      padding: 0 0 0 0;\n",
              "      width: 32px;\n",
              "    }\n",
              "\n",
              "    .colab-df-convert:hover {\n",
              "      background-color: #E2EBFA;\n",
              "      box-shadow: 0px 1px 2px rgba(60, 64, 67, 0.3), 0px 1px 3px 1px rgba(60, 64, 67, 0.15);\n",
              "      fill: #174EA6;\n",
              "    }\n",
              "\n",
              "    .colab-df-buttons div {\n",
              "      margin-bottom: 4px;\n",
              "    }\n",
              "\n",
              "    [theme=dark] .colab-df-convert {\n",
              "      background-color: #3B4455;\n",
              "      fill: #D2E3FC;\n",
              "    }\n",
              "\n",
              "    [theme=dark] .colab-df-convert:hover {\n",
              "      background-color: #434B5C;\n",
              "      box-shadow: 0px 1px 3px 1px rgba(0, 0, 0, 0.15);\n",
              "      filter: drop-shadow(0px 1px 2px rgba(0, 0, 0, 0.3));\n",
              "      fill: #FFFFFF;\n",
              "    }\n",
              "  </style>\n",
              "\n",
              "    <script>\n",
              "      const buttonEl =\n",
              "        document.querySelector('#df-1396e63f-c24a-4a45-841e-f2fe44ac84f1 button.colab-df-convert');\n",
              "      buttonEl.style.display =\n",
              "        google.colab.kernel.accessAllowed ? 'block' : 'none';\n",
              "\n",
              "      async function convertToInteractive(key) {\n",
              "        const element = document.querySelector('#df-1396e63f-c24a-4a45-841e-f2fe44ac84f1');\n",
              "        const dataTable =\n",
              "          await google.colab.kernel.invokeFunction('convertToInteractive',\n",
              "                                                    [key], {});\n",
              "        if (!dataTable) return;\n",
              "\n",
              "        const docLinkHtml = 'Like what you see? Visit the ' +\n",
              "          '<a target=\"_blank\" href=https://colab.research.google.com/notebooks/data_table.ipynb>data table notebook</a>'\n",
              "          + ' to learn more about interactive tables.';\n",
              "        element.innerHTML = '';\n",
              "        dataTable['output_type'] = 'display_data';\n",
              "        await google.colab.output.renderOutput(dataTable, element);\n",
              "        const docLink = document.createElement('div');\n",
              "        docLink.innerHTML = docLinkHtml;\n",
              "        element.appendChild(docLink);\n",
              "      }\n",
              "    </script>\n",
              "  </div>\n",
              "\n",
              "\n",
              "<div id=\"df-df0f04b4-6035-4ad3-bcd9-d1dff1a54d41\">\n",
              "  <button class=\"colab-df-quickchart\" onclick=\"quickchart('df-df0f04b4-6035-4ad3-bcd9-d1dff1a54d41')\"\n",
              "            title=\"Suggest charts\"\n",
              "            style=\"display:none;\">\n",
              "\n",
              "<svg xmlns=\"http://www.w3.org/2000/svg\" height=\"24px\"viewBox=\"0 0 24 24\"\n",
              "     width=\"24px\">\n",
              "    <g>\n",
              "        <path d=\"M19 3H5c-1.1 0-2 .9-2 2v14c0 1.1.9 2 2 2h14c1.1 0 2-.9 2-2V5c0-1.1-.9-2-2-2zM9 17H7v-7h2v7zm4 0h-2V7h2v10zm4 0h-2v-4h2v4z\"/>\n",
              "    </g>\n",
              "</svg>\n",
              "  </button>\n",
              "\n",
              "<style>\n",
              "  .colab-df-quickchart {\n",
              "      --bg-color: #E8F0FE;\n",
              "      --fill-color: #1967D2;\n",
              "      --hover-bg-color: #E2EBFA;\n",
              "      --hover-fill-color: #174EA6;\n",
              "      --disabled-fill-color: #AAA;\n",
              "      --disabled-bg-color: #DDD;\n",
              "  }\n",
              "\n",
              "  [theme=dark] .colab-df-quickchart {\n",
              "      --bg-color: #3B4455;\n",
              "      --fill-color: #D2E3FC;\n",
              "      --hover-bg-color: #434B5C;\n",
              "      --hover-fill-color: #FFFFFF;\n",
              "      --disabled-bg-color: #3B4455;\n",
              "      --disabled-fill-color: #666;\n",
              "  }\n",
              "\n",
              "  .colab-df-quickchart {\n",
              "    background-color: var(--bg-color);\n",
              "    border: none;\n",
              "    border-radius: 50%;\n",
              "    cursor: pointer;\n",
              "    display: none;\n",
              "    fill: var(--fill-color);\n",
              "    height: 32px;\n",
              "    padding: 0;\n",
              "    width: 32px;\n",
              "  }\n",
              "\n",
              "  .colab-df-quickchart:hover {\n",
              "    background-color: var(--hover-bg-color);\n",
              "    box-shadow: 0 1px 2px rgba(60, 64, 67, 0.3), 0 1px 3px 1px rgba(60, 64, 67, 0.15);\n",
              "    fill: var(--button-hover-fill-color);\n",
              "  }\n",
              "\n",
              "  .colab-df-quickchart-complete:disabled,\n",
              "  .colab-df-quickchart-complete:disabled:hover {\n",
              "    background-color: var(--disabled-bg-color);\n",
              "    fill: var(--disabled-fill-color);\n",
              "    box-shadow: none;\n",
              "  }\n",
              "\n",
              "  .colab-df-spinner {\n",
              "    border: 2px solid var(--fill-color);\n",
              "    border-color: transparent;\n",
              "    border-bottom-color: var(--fill-color);\n",
              "    animation:\n",
              "      spin 1s steps(1) infinite;\n",
              "  }\n",
              "\n",
              "  @keyframes spin {\n",
              "    0% {\n",
              "      border-color: transparent;\n",
              "      border-bottom-color: var(--fill-color);\n",
              "      border-left-color: var(--fill-color);\n",
              "    }\n",
              "    20% {\n",
              "      border-color: transparent;\n",
              "      border-left-color: var(--fill-color);\n",
              "      border-top-color: var(--fill-color);\n",
              "    }\n",
              "    30% {\n",
              "      border-color: transparent;\n",
              "      border-left-color: var(--fill-color);\n",
              "      border-top-color: var(--fill-color);\n",
              "      border-right-color: var(--fill-color);\n",
              "    }\n",
              "    40% {\n",
              "      border-color: transparent;\n",
              "      border-right-color: var(--fill-color);\n",
              "      border-top-color: var(--fill-color);\n",
              "    }\n",
              "    60% {\n",
              "      border-color: transparent;\n",
              "      border-right-color: var(--fill-color);\n",
              "    }\n",
              "    80% {\n",
              "      border-color: transparent;\n",
              "      border-right-color: var(--fill-color);\n",
              "      border-bottom-color: var(--fill-color);\n",
              "    }\n",
              "    90% {\n",
              "      border-color: transparent;\n",
              "      border-bottom-color: var(--fill-color);\n",
              "    }\n",
              "  }\n",
              "</style>\n",
              "\n",
              "  <script>\n",
              "    async function quickchart(key) {\n",
              "      const quickchartButtonEl =\n",
              "        document.querySelector('#' + key + ' button');\n",
              "      quickchartButtonEl.disabled = true;  // To prevent multiple clicks.\n",
              "      quickchartButtonEl.classList.add('colab-df-spinner');\n",
              "      try {\n",
              "        const charts = await google.colab.kernel.invokeFunction(\n",
              "            'suggestCharts', [key], {});\n",
              "      } catch (error) {\n",
              "        console.error('Error during call to suggestCharts:', error);\n",
              "      }\n",
              "      quickchartButtonEl.classList.remove('colab-df-spinner');\n",
              "      quickchartButtonEl.classList.add('colab-df-quickchart-complete');\n",
              "    }\n",
              "    (() => {\n",
              "      let quickchartButtonEl =\n",
              "        document.querySelector('#df-df0f04b4-6035-4ad3-bcd9-d1dff1a54d41 button');\n",
              "      quickchartButtonEl.style.display =\n",
              "        google.colab.kernel.accessAllowed ? 'block' : 'none';\n",
              "    })();\n",
              "  </script>\n",
              "</div>\n",
              "    </div>\n",
              "  </div>\n"
            ]
          },
          "metadata": {},
          "execution_count": 41
        }
      ]
    },
    {
      "cell_type": "code",
      "source": [
        "# Проверяем количество строк\n",
        "print(len(os.listdir(transcription_new_path + 'Расшифровки_Записи Павелецкая сити')))\n",
        "print(Paveletskaya_city_transcriptions_df.shape[0])"
      ],
      "metadata": {
        "colab": {
          "base_uri": "https://localhost:8080/"
        },
        "outputId": "6bbfb29f-a9b3-4675-e929-4214d22a9d2f",
        "id": "XBTNM9wy_fOD"
      },
      "execution_count": 42,
      "outputs": [
        {
          "output_type": "stream",
          "name": "stdout",
          "text": [
            "1413\n",
            "1413\n"
          ]
        }
      ]
    },
    {
      "cell_type": "code",
      "source": [
        "print(Paveletskaya_city_transcriptions_df.count())"
      ],
      "metadata": {
        "colab": {
          "base_uri": "https://localhost:8080/"
        },
        "outputId": "0cdae17f-0bbc-4c6c-c399-334aa0ec10cb",
        "id": "mS8664kA_fOD"
      },
      "execution_count": 43,
      "outputs": [
        {
          "output_type": "stream",
          "name": "stdout",
          "text": [
            "Дата и время                                1413\n",
            "Номер абонента                              1413\n",
            "Номер сотрудника                            1413\n",
            "Идентификатор сессии звонка                 1413\n",
            "Файл whisper-транскрибации записи звонка    1413\n",
            "dtype: int64\n"
          ]
        }
      ]
    },
    {
      "cell_type": "markdown",
      "source": [
        "#### Предобработка"
      ],
      "metadata": {
        "id": "qKCyGQMJ_fOE"
      }
    },
    {
      "cell_type": "markdown",
      "source": [
        "##### 0. Дата и время"
      ],
      "metadata": {
        "id": "h7fBLPS__fOE"
      }
    },
    {
      "cell_type": "code",
      "source": [
        "Paveletskaya_city_transcriptions_df['Дата и время'].head()"
      ],
      "metadata": {
        "colab": {
          "base_uri": "https://localhost:8080/"
        },
        "outputId": "1c03a62c-3946-490d-92a3-627bdd3a89fc",
        "id": "2ZbxLwne_fOF"
      },
      "execution_count": null,
      "outputs": [
        {
          "output_type": "execute_result",
          "data": {
            "text/plain": [
              "0    2023-08-31 20:02:47\n",
              "1    2023-09-01 08:51:34\n",
              "2    2023-09-01 10:53:19\n",
              "3    2023-09-01 11:24:52\n",
              "4    2023-09-01 11:33:04\n",
              "Name: Дата и время, dtype: object"
            ]
          },
          "metadata": {},
          "execution_count": 170
        }
      ]
    },
    {
      "cell_type": "code",
      "source": [
        "# Приводим тип данных столбца 'Дата и время'\n",
        "Paveletskaya_city_transcriptions_df['Дата и время'] = pd.to_datetime(Paveletskaya_city_transcriptions_df['Дата и время'])"
      ],
      "metadata": {
        "id": "P2pJK9hP_fOF"
      },
      "execution_count": null,
      "outputs": []
    },
    {
      "cell_type": "code",
      "source": [
        "Paveletskaya_city_transcriptions_df['Дата и время'].tail()"
      ],
      "metadata": {
        "colab": {
          "base_uri": "https://localhost:8080/"
        },
        "outputId": "7399f38f-8c78-4eea-80ae-d77aef61abf9",
        "id": "6CIWc-mm_fOF"
      },
      "execution_count": null,
      "outputs": [
        {
          "output_type": "execute_result",
          "data": {
            "text/plain": [
              "1408   2023-08-31 16:07:51\n",
              "1409   2023-08-31 16:20:15\n",
              "1410   2023-08-31 17:01:46\n",
              "1411   2023-08-31 17:12:58\n",
              "1412   2023-08-31 18:33:45\n",
              "Name: Дата и время, dtype: datetime64[ns]"
            ]
          },
          "metadata": {},
          "execution_count": 172
        }
      ]
    },
    {
      "cell_type": "markdown",
      "source": [
        "##### 1. Номер абонента"
      ],
      "metadata": {
        "id": "EHXqn5bZ_fOH"
      }
    },
    {
      "cell_type": "code",
      "source": [
        "Paveletskaya_city_transcriptions_df['Номер абонента'].head()"
      ],
      "metadata": {
        "colab": {
          "base_uri": "https://localhost:8080/"
        },
        "outputId": "a70e01b8-ca2f-41cc-df03-407c28ea18ee",
        "id": "5W8-DRtt_fOI"
      },
      "execution_count": null,
      "outputs": [
        {
          "output_type": "execute_result",
          "data": {
            "text/plain": [
              "0    79169468891\n",
              "1    79139426842\n",
              "2    79257720080\n",
              "3    37378077136\n",
              "4    79858891114\n",
              "Name: Номер абонента, dtype: object"
            ]
          },
          "metadata": {},
          "execution_count": 173
        }
      ]
    },
    {
      "cell_type": "code",
      "source": [
        "Paveletskaya_city_transcriptions_df['Номер абонента'][Paveletskaya_city_transcriptions_df['Номер абонента'] == ''].count()"
      ],
      "metadata": {
        "colab": {
          "base_uri": "https://localhost:8080/"
        },
        "outputId": "efd2d78c-3857-41a9-a012-5970a8700fd1",
        "id": "myOr4U79_fOI"
      },
      "execution_count": null,
      "outputs": [
        {
          "output_type": "execute_result",
          "data": {
            "text/plain": [
              "1"
            ]
          },
          "metadata": {},
          "execution_count": 174
        }
      ]
    },
    {
      "cell_type": "code",
      "source": [
        "# Меняем '' на '0' в столбце 'Номер абонента'\n",
        "Paveletskaya_city_transcriptions_df['Номер абонента'] = Paveletskaya_city_transcriptions_df['Номер абонента'].apply(lambda x: '0' if x == '' else x)"
      ],
      "metadata": {
        "id": "VDR7NP_I_fOJ"
      },
      "execution_count": null,
      "outputs": []
    },
    {
      "cell_type": "code",
      "source": [
        "# Приводим тип данных столбца 'Номер абонента'\n",
        "Paveletskaya_city_transcriptions_df = Paveletskaya_city_transcriptions_df.astype({'Номер абонента': int})"
      ],
      "metadata": {
        "id": "aS5-vBb3_fOK"
      },
      "execution_count": null,
      "outputs": []
    },
    {
      "cell_type": "code",
      "source": [
        "Paveletskaya_city_transcriptions_df['Номер абонента'].tail()"
      ],
      "metadata": {
        "colab": {
          "base_uri": "https://localhost:8080/"
        },
        "outputId": "15c12ce1-b892-481d-a28d-ae036382ae7d",
        "id": "v06Hi1dB_fOK"
      },
      "execution_count": null,
      "outputs": [
        {
          "output_type": "execute_result",
          "data": {
            "text/plain": [
              "1408    79271791618\n",
              "1409    79331112978\n",
              "1410    79153796174\n",
              "1411    79061800540\n",
              "1412    79271414018\n",
              "Name: Номер абонента, dtype: int64"
            ]
          },
          "metadata": {},
          "execution_count": 177
        }
      ]
    },
    {
      "cell_type": "markdown",
      "source": [
        "##### 2. Номер сотрудника"
      ],
      "metadata": {
        "id": "f254rDv9_fOK"
      }
    },
    {
      "cell_type": "code",
      "source": [
        "Paveletskaya_city_transcriptions_df['Номер сотрудника'].head()"
      ],
      "metadata": {
        "colab": {
          "base_uri": "https://localhost:8080/"
        },
        "outputId": "b0ae15b5-18d1-4b43-c12f-a9b31da50299",
        "id": "cTcfMq1f_fOL"
      },
      "execution_count": null,
      "outputs": [
        {
          "output_type": "execute_result",
          "data": {
            "text/plain": [
              "0    00288\n",
              "1    00288\n",
              "2    00288\n",
              "3    00288\n",
              "4    00288\n",
              "Name: Номер сотрудника, dtype: object"
            ]
          },
          "metadata": {},
          "execution_count": 178
        }
      ]
    },
    {
      "cell_type": "code",
      "source": [
        "# Приводим тип данных столбца 'Номер сотрудника'\n",
        "Paveletskaya_city_transcriptions_df = Paveletskaya_city_transcriptions_df.astype({'Номер сотрудника': int})"
      ],
      "metadata": {
        "id": "QxLBS0BB_fOL"
      },
      "execution_count": null,
      "outputs": []
    },
    {
      "cell_type": "code",
      "source": [
        "Paveletskaya_city_transcriptions_df['Номер сотрудника'].tail()"
      ],
      "metadata": {
        "colab": {
          "base_uri": "https://localhost:8080/"
        },
        "outputId": "64c4135a-0ed3-4346-fdcf-06899614b1f4",
        "id": "hnkFtWZT_fOM"
      },
      "execution_count": null,
      "outputs": [
        {
          "output_type": "execute_result",
          "data": {
            "text/plain": [
              "1408    288\n",
              "1409    288\n",
              "1410    288\n",
              "1411    288\n",
              "1412    288\n",
              "Name: Номер сотрудника, dtype: int64"
            ]
          },
          "metadata": {},
          "execution_count": 180
        }
      ]
    },
    {
      "cell_type": "markdown",
      "source": [
        "##### 3. Идентификатор сессии звонка"
      ],
      "metadata": {
        "id": "SsbqHOvg_fOM"
      }
    },
    {
      "cell_type": "code",
      "source": [
        "Paveletskaya_city_transcriptions_df['Идентификатор сессии звонка'].head()"
      ],
      "metadata": {
        "colab": {
          "base_uri": "https://localhost:8080/"
        },
        "outputId": "7082b3f4-e322-453d-bb69-af64dfbfc226",
        "id": "b0XlrWHt_fOM"
      },
      "execution_count": null,
      "outputs": [
        {
          "output_type": "execute_result",
          "data": {
            "text/plain": [
              "0    3195065861\n",
              "1    3195409751\n",
              "2    3188206290\n",
              "3    3188292205\n",
              "4    3195853356\n",
              "Name: Идентификатор сессии звонка, dtype: object"
            ]
          },
          "metadata": {},
          "execution_count": 181
        }
      ]
    },
    {
      "cell_type": "code",
      "source": [
        "# Приводим тип данных столбца 'Идентификатор сессии звонка'\n",
        "Paveletskaya_city_transcriptions_df = Paveletskaya_city_transcriptions_df.astype({'Идентификатор сессии звонка': int})"
      ],
      "metadata": {
        "id": "oMwXgSMS_fOP"
      },
      "execution_count": null,
      "outputs": []
    },
    {
      "cell_type": "code",
      "source": [
        "Paveletskaya_city_transcriptions_df['Идентификатор сессии звонка'].tail()"
      ],
      "metadata": {
        "colab": {
          "base_uri": "https://localhost:8080/"
        },
        "outputId": "bdb95ed2-6746-4b43-ac3c-d2833fb3c850",
        "id": "4mwptL2w_fOQ"
      },
      "execution_count": null,
      "outputs": [
        {
          "output_type": "execute_result",
          "data": {
            "text/plain": [
              "1408    3194514836\n",
              "1409    3200112337\n",
              "1410    3200245332\n",
              "1411    3190248338\n",
              "1412    3193454629\n",
              "Name: Идентификатор сессии звонка, dtype: int64"
            ]
          },
          "metadata": {},
          "execution_count": 183
        }
      ]
    },
    {
      "cell_type": "code",
      "source": [
        "# Смотрим количество уникальных значений столбца 'Идентификатор сессии звонка'\n",
        "Paveletskaya_city_transcriptions_df['Идентификатор сессии звонка'].nunique()"
      ],
      "metadata": {
        "colab": {
          "base_uri": "https://localhost:8080/"
        },
        "outputId": "add8be86-15ec-4e06-f74d-9dfbf76369f5",
        "id": "k1ftHQdc_fOQ"
      },
      "execution_count": null,
      "outputs": [
        {
          "output_type": "execute_result",
          "data": {
            "text/plain": [
              "1413"
            ]
          },
          "metadata": {},
          "execution_count": 184
        }
      ]
    },
    {
      "cell_type": "markdown",
      "source": [
        "##### 4. Файл whisper-транскрибации записи звонка"
      ],
      "metadata": {
        "id": "5_Lx3UOq_fOQ"
      }
    },
    {
      "cell_type": "code",
      "source": [
        "Paveletskaya_city_transcriptions_df['Файл whisper-транскрибации записи звонка'].head()"
      ],
      "metadata": {
        "colab": {
          "base_uri": "https://localhost:8080/"
        },
        "outputId": "24a31149-b2f9-42ea-a797-7fd888312985",
        "id": "HZS-wcQK_fOR"
      },
      "execution_count": null,
      "outputs": [
        {
          "output_type": "execute_result",
          "data": {
            "text/plain": [
              "0    2023-08-31_20-02-47.458103_from_79169468891_to_00288_session_3195065861_talk.txt\n",
              "1    2023-09-01_08-51-34.418574_from_79139426842_to_00288_session_3195409751_talk.txt\n",
              "2    2023-09-01_10-53-19.201214_from_79257720080_to_00288_session_3188206290_talk.txt\n",
              "3    2023-09-01_11-24-52.929663_from_37378077136_to_00288_session_3188292205_talk.txt\n",
              "4    2023-09-01_11-33-04.092834_from_79858891114_to_00288_session_3195853356_talk.txt\n",
              "Name: Файл whisper-транскрибации записи звонка, dtype: object"
            ]
          },
          "metadata": {},
          "execution_count": 185
        }
      ]
    },
    {
      "cell_type": "code",
      "source": [
        "# Добавляем к файлам относительные пути\n",
        "Paveletskaya_city_transcriptions_df['Файл whisper-транскрибации записи звонка'] = Paveletskaya_city_transcriptions_df['Файл whisper-транскрибации записи звонка'].apply(lambda x: 'Whisper-транскрибация новых записей звонков/Расшифровки_Записи Павелецкая сити/' + x)"
      ],
      "metadata": {
        "id": "huWH58hT_fOR"
      },
      "execution_count": null,
      "outputs": []
    },
    {
      "cell_type": "code",
      "source": [
        "Paveletskaya_city_transcriptions_df['Файл whisper-транскрибации записи звонка'].tail()"
      ],
      "metadata": {
        "colab": {
          "base_uri": "https://localhost:8080/"
        },
        "outputId": "803d5418-1292-455a-fdd6-8dd0e2d14c15",
        "id": "Ydhg3FJ8_fOR"
      },
      "execution_count": null,
      "outputs": [
        {
          "output_type": "execute_result",
          "data": {
            "text/plain": [
              "1408    Whisper-транскрибация новых записей звонков/Расшифровки_Записи Павелецкая сити/2023-08-31_16-07-51.657929_from_79271791618_to_00288_session_3194514836_talk.txt\n",
              "1409    Whisper-транскрибация новых записей звонков/Расшифровки_Записи Павелецкая сити/2023-08-31_16-20-15.235129_from_79331112978_to_00288_session_3200112337_talk.txt\n",
              "1410    Whisper-транскрибация новых записей звонков/Расшифровки_Записи Павелецкая сити/2023-08-31_17-01-46.633530_from_79153796174_to_00288_session_3200245332_talk.txt\n",
              "1411    Whisper-транскрибация новых записей звонков/Расшифровки_Записи Павелецкая сити/2023-08-31_17-12-58.751450_from_79061800540_to_00288_session_3190248338_talk.txt\n",
              "1412    Whisper-транскрибация новых записей звонков/Расшифровки_Записи Павелецкая сити/2023-08-31_18-33-45.980557_from_79271414018_to_00288_session_3193454629_talk.txt\n",
              "Name: Файл whisper-транскрибации записи звонка, dtype: object"
            ]
          },
          "metadata": {},
          "execution_count": 187
        }
      ]
    },
    {
      "cell_type": "markdown",
      "source": [
        "##### 5. Текст whisper-транскрибации записи звонка"
      ],
      "metadata": {
        "id": "xxbl4flH_fOS"
      }
    },
    {
      "cell_type": "code",
      "source": [
        "# Добавляем столбец 'Текст whisper-транскрибации записи звонка'\n",
        "Paveletskaya_city_transcriptions_df['Текст whisper-транскрибации записи звонка'] = 'нет текста транскрибации звонка'\n",
        "Paveletskaya_city_transcriptions_df.head()"
      ],
      "metadata": {
        "colab": {
          "base_uri": "https://localhost:8080/",
          "height": 414
        },
        "outputId": "ef454197-559c-4485-9a61-54931f255f19",
        "id": "fyDQLKtQ_fOT"
      },
      "execution_count": null,
      "outputs": [
        {
          "output_type": "execute_result",
          "data": {
            "text/plain": [
              "         Дата и время  Номер абонента  Номер сотрудника  \\\n",
              "0 2023-08-31 20:02:47     79169468891               288   \n",
              "1 2023-09-01 08:51:34     79139426842               288   \n",
              "2 2023-09-01 10:53:19     79257720080               288   \n",
              "3 2023-09-01 11:24:52     37378077136               288   \n",
              "4 2023-09-01 11:33:04     79858891114               288   \n",
              "\n",
              "   Идентификатор сессии звонка  \\\n",
              "0                   3195065861   \n",
              "1                   3195409751   \n",
              "2                   3188206290   \n",
              "3                   3188292205   \n",
              "4                   3195853356   \n",
              "\n",
              "                                                                                                                          Файл whisper-транскрибации записи звонка  \\\n",
              "0  Whisper-транскрибация новых записей звонков/Расшифровки_Записи Павелецкая сити/2023-08-31_20-02-47.458103_from_79169468891_to_00288_session_3195065861_talk.txt   \n",
              "1  Whisper-транскрибация новых записей звонков/Расшифровки_Записи Павелецкая сити/2023-09-01_08-51-34.418574_from_79139426842_to_00288_session_3195409751_talk.txt   \n",
              "2  Whisper-транскрибация новых записей звонков/Расшифровки_Записи Павелецкая сити/2023-09-01_10-53-19.201214_from_79257720080_to_00288_session_3188206290_talk.txt   \n",
              "3  Whisper-транскрибация новых записей звонков/Расшифровки_Записи Павелецкая сити/2023-09-01_11-24-52.929663_from_37378077136_to_00288_session_3188292205_talk.txt   \n",
              "4  Whisper-транскрибация новых записей звонков/Расшифровки_Записи Павелецкая сити/2023-09-01_11-33-04.092834_from_79858891114_to_00288_session_3195853356_talk.txt   \n",
              "\n",
              "  Текст whisper-транскрибации записи звонка  \n",
              "0           нет текста транскрибации звонка  \n",
              "1           нет текста транскрибации звонка  \n",
              "2           нет текста транскрибации звонка  \n",
              "3           нет текста транскрибации звонка  \n",
              "4           нет текста транскрибации звонка  "
            ],
            "text/html": [
              "\n",
              "  <div id=\"df-6b157067-c73e-4438-88e5-76e21d05e24b\" class=\"colab-df-container\">\n",
              "    <div>\n",
              "<style scoped>\n",
              "    .dataframe tbody tr th:only-of-type {\n",
              "        vertical-align: middle;\n",
              "    }\n",
              "\n",
              "    .dataframe tbody tr th {\n",
              "        vertical-align: top;\n",
              "    }\n",
              "\n",
              "    .dataframe thead th {\n",
              "        text-align: right;\n",
              "    }\n",
              "</style>\n",
              "<table border=\"1\" class=\"dataframe\">\n",
              "  <thead>\n",
              "    <tr style=\"text-align: right;\">\n",
              "      <th></th>\n",
              "      <th>Дата и время</th>\n",
              "      <th>Номер абонента</th>\n",
              "      <th>Номер сотрудника</th>\n",
              "      <th>Идентификатор сессии звонка</th>\n",
              "      <th>Файл whisper-транскрибации записи звонка</th>\n",
              "      <th>Текст whisper-транскрибации записи звонка</th>\n",
              "    </tr>\n",
              "  </thead>\n",
              "  <tbody>\n",
              "    <tr>\n",
              "      <th>0</th>\n",
              "      <td>2023-08-31 20:02:47</td>\n",
              "      <td>79169468891</td>\n",
              "      <td>288</td>\n",
              "      <td>3195065861</td>\n",
              "      <td>Whisper-транскрибация новых записей звонков/Расшифровки_Записи Павелецкая сити/2023-08-31_20-02-47.458103_from_79169468891_to_00288_session_3195065861_talk.txt</td>\n",
              "      <td>нет текста транскрибации звонка</td>\n",
              "    </tr>\n",
              "    <tr>\n",
              "      <th>1</th>\n",
              "      <td>2023-09-01 08:51:34</td>\n",
              "      <td>79139426842</td>\n",
              "      <td>288</td>\n",
              "      <td>3195409751</td>\n",
              "      <td>Whisper-транскрибация новых записей звонков/Расшифровки_Записи Павелецкая сити/2023-09-01_08-51-34.418574_from_79139426842_to_00288_session_3195409751_talk.txt</td>\n",
              "      <td>нет текста транскрибации звонка</td>\n",
              "    </tr>\n",
              "    <tr>\n",
              "      <th>2</th>\n",
              "      <td>2023-09-01 10:53:19</td>\n",
              "      <td>79257720080</td>\n",
              "      <td>288</td>\n",
              "      <td>3188206290</td>\n",
              "      <td>Whisper-транскрибация новых записей звонков/Расшифровки_Записи Павелецкая сити/2023-09-01_10-53-19.201214_from_79257720080_to_00288_session_3188206290_talk.txt</td>\n",
              "      <td>нет текста транскрибации звонка</td>\n",
              "    </tr>\n",
              "    <tr>\n",
              "      <th>3</th>\n",
              "      <td>2023-09-01 11:24:52</td>\n",
              "      <td>37378077136</td>\n",
              "      <td>288</td>\n",
              "      <td>3188292205</td>\n",
              "      <td>Whisper-транскрибация новых записей звонков/Расшифровки_Записи Павелецкая сити/2023-09-01_11-24-52.929663_from_37378077136_to_00288_session_3188292205_talk.txt</td>\n",
              "      <td>нет текста транскрибации звонка</td>\n",
              "    </tr>\n",
              "    <tr>\n",
              "      <th>4</th>\n",
              "      <td>2023-09-01 11:33:04</td>\n",
              "      <td>79858891114</td>\n",
              "      <td>288</td>\n",
              "      <td>3195853356</td>\n",
              "      <td>Whisper-транскрибация новых записей звонков/Расшифровки_Записи Павелецкая сити/2023-09-01_11-33-04.092834_from_79858891114_to_00288_session_3195853356_talk.txt</td>\n",
              "      <td>нет текста транскрибации звонка</td>\n",
              "    </tr>\n",
              "  </tbody>\n",
              "</table>\n",
              "</div>\n",
              "    <div class=\"colab-df-buttons\">\n",
              "\n",
              "  <div class=\"colab-df-container\">\n",
              "    <button class=\"colab-df-convert\" onclick=\"convertToInteractive('df-6b157067-c73e-4438-88e5-76e21d05e24b')\"\n",
              "            title=\"Convert this dataframe to an interactive table.\"\n",
              "            style=\"display:none;\">\n",
              "\n",
              "  <svg xmlns=\"http://www.w3.org/2000/svg\" height=\"24px\" viewBox=\"0 -960 960 960\">\n",
              "    <path d=\"M120-120v-720h720v720H120Zm60-500h600v-160H180v160Zm220 220h160v-160H400v160Zm0 220h160v-160H400v160ZM180-400h160v-160H180v160Zm440 0h160v-160H620v160ZM180-180h160v-160H180v160Zm440 0h160v-160H620v160Z\"/>\n",
              "  </svg>\n",
              "    </button>\n",
              "\n",
              "  <style>\n",
              "    .colab-df-container {\n",
              "      display:flex;\n",
              "      gap: 12px;\n",
              "    }\n",
              "\n",
              "    .colab-df-convert {\n",
              "      background-color: #E8F0FE;\n",
              "      border: none;\n",
              "      border-radius: 50%;\n",
              "      cursor: pointer;\n",
              "      display: none;\n",
              "      fill: #1967D2;\n",
              "      height: 32px;\n",
              "      padding: 0 0 0 0;\n",
              "      width: 32px;\n",
              "    }\n",
              "\n",
              "    .colab-df-convert:hover {\n",
              "      background-color: #E2EBFA;\n",
              "      box-shadow: 0px 1px 2px rgba(60, 64, 67, 0.3), 0px 1px 3px 1px rgba(60, 64, 67, 0.15);\n",
              "      fill: #174EA6;\n",
              "    }\n",
              "\n",
              "    .colab-df-buttons div {\n",
              "      margin-bottom: 4px;\n",
              "    }\n",
              "\n",
              "    [theme=dark] .colab-df-convert {\n",
              "      background-color: #3B4455;\n",
              "      fill: #D2E3FC;\n",
              "    }\n",
              "\n",
              "    [theme=dark] .colab-df-convert:hover {\n",
              "      background-color: #434B5C;\n",
              "      box-shadow: 0px 1px 3px 1px rgba(0, 0, 0, 0.15);\n",
              "      filter: drop-shadow(0px 1px 2px rgba(0, 0, 0, 0.3));\n",
              "      fill: #FFFFFF;\n",
              "    }\n",
              "  </style>\n",
              "\n",
              "    <script>\n",
              "      const buttonEl =\n",
              "        document.querySelector('#df-6b157067-c73e-4438-88e5-76e21d05e24b button.colab-df-convert');\n",
              "      buttonEl.style.display =\n",
              "        google.colab.kernel.accessAllowed ? 'block' : 'none';\n",
              "\n",
              "      async function convertToInteractive(key) {\n",
              "        const element = document.querySelector('#df-6b157067-c73e-4438-88e5-76e21d05e24b');\n",
              "        const dataTable =\n",
              "          await google.colab.kernel.invokeFunction('convertToInteractive',\n",
              "                                                    [key], {});\n",
              "        if (!dataTable) return;\n",
              "\n",
              "        const docLinkHtml = 'Like what you see? Visit the ' +\n",
              "          '<a target=\"_blank\" href=https://colab.research.google.com/notebooks/data_table.ipynb>data table notebook</a>'\n",
              "          + ' to learn more about interactive tables.';\n",
              "        element.innerHTML = '';\n",
              "        dataTable['output_type'] = 'display_data';\n",
              "        await google.colab.output.renderOutput(dataTable, element);\n",
              "        const docLink = document.createElement('div');\n",
              "        docLink.innerHTML = docLinkHtml;\n",
              "        element.appendChild(docLink);\n",
              "      }\n",
              "    </script>\n",
              "  </div>\n",
              "\n",
              "\n",
              "<div id=\"df-451d3138-1737-498c-8032-52b9e2bf276f\">\n",
              "  <button class=\"colab-df-quickchart\" onclick=\"quickchart('df-451d3138-1737-498c-8032-52b9e2bf276f')\"\n",
              "            title=\"Suggest charts.\"\n",
              "            style=\"display:none;\">\n",
              "\n",
              "<svg xmlns=\"http://www.w3.org/2000/svg\" height=\"24px\"viewBox=\"0 0 24 24\"\n",
              "     width=\"24px\">\n",
              "    <g>\n",
              "        <path d=\"M19 3H5c-1.1 0-2 .9-2 2v14c0 1.1.9 2 2 2h14c1.1 0 2-.9 2-2V5c0-1.1-.9-2-2-2zM9 17H7v-7h2v7zm4 0h-2V7h2v10zm4 0h-2v-4h2v4z\"/>\n",
              "    </g>\n",
              "</svg>\n",
              "  </button>\n",
              "\n",
              "<style>\n",
              "  .colab-df-quickchart {\n",
              "      --bg-color: #E8F0FE;\n",
              "      --fill-color: #1967D2;\n",
              "      --hover-bg-color: #E2EBFA;\n",
              "      --hover-fill-color: #174EA6;\n",
              "      --disabled-fill-color: #AAA;\n",
              "      --disabled-bg-color: #DDD;\n",
              "  }\n",
              "\n",
              "  [theme=dark] .colab-df-quickchart {\n",
              "      --bg-color: #3B4455;\n",
              "      --fill-color: #D2E3FC;\n",
              "      --hover-bg-color: #434B5C;\n",
              "      --hover-fill-color: #FFFFFF;\n",
              "      --disabled-bg-color: #3B4455;\n",
              "      --disabled-fill-color: #666;\n",
              "  }\n",
              "\n",
              "  .colab-df-quickchart {\n",
              "    background-color: var(--bg-color);\n",
              "    border: none;\n",
              "    border-radius: 50%;\n",
              "    cursor: pointer;\n",
              "    display: none;\n",
              "    fill: var(--fill-color);\n",
              "    height: 32px;\n",
              "    padding: 0;\n",
              "    width: 32px;\n",
              "  }\n",
              "\n",
              "  .colab-df-quickchart:hover {\n",
              "    background-color: var(--hover-bg-color);\n",
              "    box-shadow: 0 1px 2px rgba(60, 64, 67, 0.3), 0 1px 3px 1px rgba(60, 64, 67, 0.15);\n",
              "    fill: var(--button-hover-fill-color);\n",
              "  }\n",
              "\n",
              "  .colab-df-quickchart-complete:disabled,\n",
              "  .colab-df-quickchart-complete:disabled:hover {\n",
              "    background-color: var(--disabled-bg-color);\n",
              "    fill: var(--disabled-fill-color);\n",
              "    box-shadow: none;\n",
              "  }\n",
              "\n",
              "  .colab-df-spinner {\n",
              "    border: 2px solid var(--fill-color);\n",
              "    border-color: transparent;\n",
              "    border-bottom-color: var(--fill-color);\n",
              "    animation:\n",
              "      spin 1s steps(1) infinite;\n",
              "  }\n",
              "\n",
              "  @keyframes spin {\n",
              "    0% {\n",
              "      border-color: transparent;\n",
              "      border-bottom-color: var(--fill-color);\n",
              "      border-left-color: var(--fill-color);\n",
              "    }\n",
              "    20% {\n",
              "      border-color: transparent;\n",
              "      border-left-color: var(--fill-color);\n",
              "      border-top-color: var(--fill-color);\n",
              "    }\n",
              "    30% {\n",
              "      border-color: transparent;\n",
              "      border-left-color: var(--fill-color);\n",
              "      border-top-color: var(--fill-color);\n",
              "      border-right-color: var(--fill-color);\n",
              "    }\n",
              "    40% {\n",
              "      border-color: transparent;\n",
              "      border-right-color: var(--fill-color);\n",
              "      border-top-color: var(--fill-color);\n",
              "    }\n",
              "    60% {\n",
              "      border-color: transparent;\n",
              "      border-right-color: var(--fill-color);\n",
              "    }\n",
              "    80% {\n",
              "      border-color: transparent;\n",
              "      border-right-color: var(--fill-color);\n",
              "      border-bottom-color: var(--fill-color);\n",
              "    }\n",
              "    90% {\n",
              "      border-color: transparent;\n",
              "      border-bottom-color: var(--fill-color);\n",
              "    }\n",
              "  }\n",
              "</style>\n",
              "\n",
              "  <script>\n",
              "    async function quickchart(key) {\n",
              "      const quickchartButtonEl =\n",
              "        document.querySelector('#' + key + ' button');\n",
              "      quickchartButtonEl.disabled = true;  // To prevent multiple clicks.\n",
              "      quickchartButtonEl.classList.add('colab-df-spinner');\n",
              "      try {\n",
              "        const charts = await google.colab.kernel.invokeFunction(\n",
              "            'suggestCharts', [key], {});\n",
              "      } catch (error) {\n",
              "        console.error('Error during call to suggestCharts:', error);\n",
              "      }\n",
              "      quickchartButtonEl.classList.remove('colab-df-spinner');\n",
              "      quickchartButtonEl.classList.add('colab-df-quickchart-complete');\n",
              "    }\n",
              "    (() => {\n",
              "      let quickchartButtonEl =\n",
              "        document.querySelector('#df-451d3138-1737-498c-8032-52b9e2bf276f button');\n",
              "      quickchartButtonEl.style.display =\n",
              "        google.colab.kernel.accessAllowed ? 'block' : 'none';\n",
              "    })();\n",
              "  </script>\n",
              "</div>\n",
              "    </div>\n",
              "  </div>\n"
            ]
          },
          "metadata": {},
          "execution_count": 188
        }
      ]
    },
    {
      "cell_type": "code",
      "source": [
        "for row in range(Paveletskaya_city_transcriptions_df.shape[0]):\n",
        "  with open(all_dataset_path + Paveletskaya_city_transcriptions_df.loc[row, ['Файл whisper-транскрибации записи звонка']].values[0], 'rb') as f:\n",
        "    contents = f.read()\n",
        "  Paveletskaya_city_transcriptions_df.loc[row, ['Текст whisper-транскрибации записи звонка']] = contents.decode('utf-16').strip()"
      ],
      "metadata": {
        "id": "rg2JInbn_fOT"
      },
      "execution_count": null,
      "outputs": []
    },
    {
      "cell_type": "code",
      "source": [
        "Paveletskaya_city_transcriptions_df['Текст whisper-транскрибации записи звонка'].head()"
      ],
      "metadata": {
        "colab": {
          "base_uri": "https://localhost:8080/"
        },
        "outputId": "e6649382-22cd-4fac-997d-e509f7a51c0c",
        "id": "KbV2zrRr_fOT"
      },
      "execution_count": null,
      "outputs": [
        {
          "output_type": "execute_result",
          "data": {
            "text/plain": [
              "0                                                                                                                                                                                                                                                                                                                                                                                                                                                                                                                                                                                                                                               Здравствуйте, вы позвонили в компанию Эмергрупп. Пожалуйста дождитесь ответа нашего специалиста. Обращаем ваше внимание, что в целях улучшения качества обслуживания клиентов все разговоры записываются. Продолжая разговор, вы соглашаетесь на обработку ваших персональных данных. Вам звонок с Яндекс.Недвижимости. Для соединения с покупателем нажмите... Начинаем звонок покупателю.\n",
              "1                                                                                                                                                                                                                                                                                                                                                                                                                                                                                                                                                                                                                                                        Здравствуйте, вы позвонили в компанию Эммергрупп. Мы работаем ежедневно с 9 до 21 часа по московскому времени. Сейчас мы не можем ответить на ваш звонок. Пожалуйста, оставьте свои контактные данные, и мы вам перезвоним. Сообщите, пожалуйста, контактный номер телефона с указанием кода города и ваше имя. Начинайте говорить после звукового сигнала. 8-913-942-6842, Алина.\n",
              "2    Здравствуйте! Вы позвонили в компанию Эмергрупп. Пожалуйста, дождитесь ответа нашего специалиста. Обращаем ваше внимание, что в целях улучшения качества обслуживания клиентов все разговоры записываются. Продолжая разговор, вы соглашаетесь на обработку ваших персональных данных. В компании Эмергрупп, меня зовут Ирина. Здравствуйте! Ирина, здравствуйте! Меня вот интересует ЖК по билетской сети. Покупка жировой недвижимости в данном комплексе? Переуступка. Можно ли у вас оформить переуступку по этому объекту? То есть, вы продаете, я правильно поняла вас? Да, да, да. Помните, с каким менеджером контактировали на объекте? Она уже не работает. Нет, именно агентство. Первое агентство, БЭСТ, Метриум. Не знаю. Не помните? Можно фамилию, имя, число, подговоры? Я посмотрю, с кем вы работали, с каким агентством. Ботя Рова, Людмила. Минуту. Людмила Борисовна? Да, да. У вас компания БЭСТ. БЭСТ, я вас сейчас соединю, минуту. По окончании разговора, пожалуйста, оцените качество отслуживания. Людм...\n",
              "3                                                                Здравствуйте! Вы позвонили в компанию Эмэр Групп. Пожалуйста дождитесь ответа нашего специалиста. Обращаем ваше внимание, что в целях улучшения качества обслуживания клиентов все разговоры записываются. Продолжая разговор, вы соглашаетесь на обработку ваших персональных данных. Компания Наркология. Меня зовут Арина. Здравствуйте! Девушка, здравствуйте! Скажите, пожалуйста, я звоню вам с Молдавии. Это у вас наркологический центр, да? Нет, это строительная компания. Вы позвонили. А почему в этот номер пишется, как больница-наркологист? Я вам не смогу подсказать. Возможно, уже номер не принадлежит. А какой номер вы набирали? Подскажите, пожалуйста. Плюс семьсот сорок девять, пятьсот два, сто семьдесят семь, двадцать пять. Нет, что-то вообще соединение. Вы в Москву позвонили. В Москву? Я в Черпухов. Нет, нет, нет, нет, у нас вообще таких номеров нет. Какое-то соединение некорректное пошло. Ага, спасибо, до свидания. До свидания.\n",
              "4                                                                                                                                                                                                                                                                                                                                                                                                                                                                                                                                                                                                                                                                                                                                                    Здравствуйте! Вы позвонили в компанию ЭМР-Групп. Пожалуйста, дождитесь ответа нашего специалиста. Обращаем ваше внимание, что в целях улучшения качества обслуживания клиентов все разговоры записываются. Продолжая разговор, вы соглашаетесь на обработку ваших персональных данных.\n",
              "Name: Текст whisper-транскрибации записи звонка, dtype: object"
            ]
          },
          "metadata": {},
          "execution_count": 190
        }
      ]
    },
    {
      "cell_type": "markdown",
      "source": [
        "#### Типы данных"
      ],
      "metadata": {
        "id": "X3U4HIuS_fOU"
      }
    },
    {
      "cell_type": "code",
      "source": [
        "# Смотрим типы данных\n",
        "Paveletskaya_city_transcriptions_df.dtypes"
      ],
      "metadata": {
        "colab": {
          "base_uri": "https://localhost:8080/"
        },
        "outputId": "10828f89-efd5-4669-c096-56db6d541d93",
        "id": "cbMbm_UW_fOU"
      },
      "execution_count": null,
      "outputs": [
        {
          "output_type": "execute_result",
          "data": {
            "text/plain": [
              "Дата и время                                 datetime64[ns]\n",
              "Номер абонента                                        int64\n",
              "Номер сотрудника                                      int64\n",
              "Идентификатор сессии звонка                           int64\n",
              "Файл whisper-транскрибации записи звонка             object\n",
              "Текст whisper-транскрибации записи звонка            object\n",
              "dtype: object"
            ]
          },
          "metadata": {},
          "execution_count": 191
        }
      ]
    },
    {
      "cell_type": "code",
      "source": [
        "print(Paveletskaya_city_transcriptions_df.count())"
      ],
      "metadata": {
        "colab": {
          "base_uri": "https://localhost:8080/"
        },
        "outputId": "18891ac2-aaa6-434a-d8c7-82f6356fc624",
        "id": "inP2EULa_fOV"
      },
      "execution_count": null,
      "outputs": [
        {
          "output_type": "stream",
          "name": "stdout",
          "text": [
            "Дата и время                                 1413\n",
            "Номер абонента                               1413\n",
            "Номер сотрудника                             1413\n",
            "Идентификатор сессии звонка                  1413\n",
            "Файл whisper-транскрибации записи звонка     1413\n",
            "Текст whisper-транскрибации записи звонка    1413\n",
            "dtype: int64\n"
          ]
        }
      ]
    },
    {
      "cell_type": "markdown",
      "source": [
        "#### Сохранение датафрейма"
      ],
      "metadata": {
        "id": "ZtfmAoBP_fOV"
      }
    },
    {
      "cell_type": "code",
      "source": [
        "# Сохраняем Paveletskaya_city_transcriptions_df в файл\n",
        "with open(df_path + 'Paveletskaya_city_new_transcriptions_df.pkl', 'wb') as f:\n",
        "  pkl.dump(Paveletskaya_city_transcriptions_df, f)"
      ],
      "metadata": {
        "id": "YFsZYyRr_fOV"
      },
      "execution_count": null,
      "outputs": []
    },
    {
      "cell_type": "markdown",
      "source": [
        "## Добавление текстов транскрибации в датафреймы"
      ],
      "metadata": {
        "id": "XXcNF0p1ALIZ"
      }
    }
  ]
}