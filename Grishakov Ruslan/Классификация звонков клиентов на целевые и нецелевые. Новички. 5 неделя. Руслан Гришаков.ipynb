{
  "nbformat": 4,
  "nbformat_minor": 0,
  "metadata": {
    "colab": {
      "provenance": [],
      "collapsed_sections": [
        "CIgT9kE4KHqe",
        "pTohUadq_HUC",
        "GeEu96leTaL6",
        "KXdYsYQmr1Aq",
        "4BipOv18sV2n",
        "1PeeinuNtAEe",
        "pdrl0p3jhcuo",
        "rVDYF0C9YQcB",
        "shwe_q3BV8Vr",
        "n8PGtZ3R9BrV",
        "naoh39F90_sR",
        "nLZlWqBHXTRT",
        "0sO_EMpSCInU",
        "Qc_5op8jCInW",
        "zfUr1BD9CInp",
        "7cmY0IvwCInp",
        "T-LYA8WTCInt",
        "ddqXX4HKCInw",
        "-ihLQnTWCIn_",
        "W_VNetFVCIoC",
        "AudXiLZpXdsW",
        "tEF2twPbCIoF",
        "hGgjtDmiCIoH",
        "LtXQd2ARM1i8",
        "Fig-fZc_M1i9",
        "v476C60iM1jQ",
        "IBU4Y16dM1jR",
        "mzICK7d_M1jW",
        "U2f7FXCWM1jm",
        "ifNPnBQLM1jn",
        "yDYudgY1M1jq",
        "Auq8yDWoM1j3",
        "NfeIJjkbM1j5",
        "1Wd58dfmM1j8",
        "JboxdOogWyCm",
        "-j_6C6u_WyCw",
        "toOVilZNWyDP",
        "YM7ud-1-WyDQ",
        "ny0uIDu2WyDV",
        "Ioe-vA_vWyDl",
        "oEXIMjsiWyDn",
        "62lmUyqgWyDq",
        "wi6JeCQCWyD4",
        "RORpMyb1WyD6",
        "E_hV7RCpWyD9",
        "bSHed3Lj_fNP",
        "g6GOaeHz_fNT",
        "a2FQcImK_fNU",
        "YxO3OITr_fNY",
        "RhFWIhVt_fNZ",
        "ynUPgS9C_fNd",
        "22CNjBqW_fNh",
        "x8pG4qMv_fNj",
        "VxH9YlSn_fNl",
        "0l_MCr--_fNm",
        "LtyqiQVu_fNq",
        "1-iCfh8B_fNs",
        "HdEXJOrA_fNt",
        "4t1Rjort_fNt",
        "hLNeUGJP_fNw",
        "amdDYotl_fNw",
        "eoyFUbF2_fNx",
        "YtugtaER_fN1",
        "-qSxi82c_fN5",
        "bBDBp3WI_fN7",
        "VSQf9ahK_fN8",
        "HjxpufJr_fN_",
        "p2JQjPMW_fOA",
        "pbkUTkhS_fOB",
        "ib86EPkT_fOC",
        "qKCyGQMJ_fOE",
        "h7fBLPS__fOE",
        "EHXqn5bZ_fOH",
        "f254rDv9_fOK",
        "SsbqHOvg_fOM",
        "5_Lx3UOq_fOQ",
        "xxbl4flH_fOS",
        "X3U4HIuS_fOU",
        "ZtfmAoBP_fOV",
        "XXcNF0p1ALIZ",
        "0mjUlSVSEL6G",
        "lD3DA8WvVQzs",
        "KaDciCduYIoO",
        "DAdgi6ovH-xZ",
        "kAJBS9kNJ8DG",
        "7vkaRh0JK6Jg",
        "vLyOjCBskrXQ",
        "GLvQ_2VHld63",
        "qSi1QuOhmhSO"
      ]
    },
    "kernelspec": {
      "name": "python3",
      "display_name": "Python 3"
    },
    "language_info": {
      "name": "python"
    }
  },
  "cells": [
    {
      "cell_type": "markdown",
      "source": [
        "# [Техническое задание](https://docs.google.com/document/d/1ZIu6daXZRuDR796AHjKCku643hlM3xgYxW9E84DBJFc/edit?usp=sharing)"
      ],
      "metadata": {
        "id": "CIgT9kE4KHqe"
      }
    },
    {
      "cell_type": "markdown",
      "source": [
        "**Проект:** Классификация аудиозвонков на целевые и нецелевые."
      ],
      "metadata": {
        "id": "FaaxUmqWKHqt"
      }
    },
    {
      "cell_type": "markdown",
      "source": [
        "**Цель проекта:** Разработать нейронную сеть, способную классифицировать аудиозвонки на целевые и нецелевые на основе предоставленной базы данных и csv-таблицы с описаниями и метками классов."
      ],
      "metadata": {
        "id": "GQSHmPOcKHq0"
      }
    },
    {
      "cell_type": "markdown",
      "source": [
        "**Введение:**\n",
        "\n",
        "Входной набор данных представляет из себя два набора файлов:\n",
        "\n",
        "> a)\t[Первый набор файлов](https://drive.google.com/drive/folders/1cQWMpQkscZJbbOTxiJNy0o3nuaeIiB1P?usp=sharing) - это выгрузки в формате `CSV` с информацией по звонкам, а так же с проставленным статусом `“целевой/нецелевой”` в отдельном столбце (обратите внимание, что по проекту `“Павелецкая сити”` две выгрузки - эти наборы данных отличаются и относятся к разным наборам клиентов внутри одного и того же проекта).\n",
        "\n",
        "> b)\t[Второй набор файлов](https://drive.google.com/drive/folders/1K3jGCH60uzFcsI3aj89VIXOOFEXvZxD6?usp=sharing) - аудиозаписи звонков. Они хранятся в корневом каталоге в одноимённых папках. К примеру, в папке `“Записи звонков_павелецкая сити”` лежат записи звонков по проекту `“Павелецкая Сити”`."
      ],
      "metadata": {
        "id": "-UhJ6TikKHq1"
      }
    },
    {
      "cell_type": "markdown",
      "source": [
        "**Требования:**\n",
        "\n",
        "1.   Нейронная сеть должна быть спроектирована и обучена для точной классификации аудиозвонков на два класса: целевые и нецелевые (с точностью `90+%`).\n",
        "2.   Необходимо обеспечить интеграцию модели через `API`.\n",
        "3.   Модель должна быть оптимизирована для обработки большого объёма данных.\n",
        "4.   Код должен быть написан с соблюдением стандартов кодирования, и должна быть составлена подробная техническая документация.\n",
        "5.   Код должен включать в себя систему журналирования для фиксации ошибок.\n",
        "6.   Код должен принимать на вход регулярное выражение, по которому будет осуществляться проверка столбца `“теги”` в выгрузках `CSV` для определения статуса звонка `“целевой/нецелевой”`:\n",
        "\n",
        ">> a)\tпо проектам `“Примавера”` и `“Павелецкая сити”` наличие в столбце с тегами подстроки `“Целевой_М108“` будет равняться тому, что данный звонок целевой (пример регулярного выражения: `.*Целевой_М108.*`);\n",
        "\n",
        ">> b)\tпо проекту `“Хедлайнер”` - наличие в столбце с тегами подстроки `“первичный целевой“` будет равняться тому, что данный звонок целевой.\n",
        "\n",
        "7.   После реализации необходимо иметь возможность получения поддержки по предоставленному решению в течение `2 месяцев`."
      ],
      "metadata": {
        "id": "13vIGhs0KHq4"
      }
    },
    {
      "cell_type": "markdown",
      "source": [
        "Список рекомендуемых параметров для звуковой записи (данный список носит информационный характер и не является обязательным):\n",
        "\n",
        "*   Эмоция (базовые 11: радость; печаль; гнев; отвращение; удивление; страдание (горе); волнение (интерес); презрение; смущение; стыд; вина).\n",
        "*   Пол.\n",
        "*   Возраст.\n",
        "*   Семантический анализ диалога (по конкретным ключевым словам и/или по тематикам диалогов).\n",
        "*   Характеристики, присутствующие в `CSV`/`XLSX` таблицах."
      ],
      "metadata": {
        "id": "seG9MxfuKHq6"
      }
    },
    {
      "cell_type": "markdown",
      "source": [
        "# Критерии классификации"
      ],
      "metadata": {
        "id": "pTohUadq_HUC"
      }
    },
    {
      "cell_type": "markdown",
      "source": [
        "Критерии `уникально-целевого` обращения:\n",
        "1. Длительность звонка должна быть не менее `75 секунд`;\n",
        "2. Телефонный номер абонента должен быть `уникальным`, т. е. его не должно быть в `CRM` заказчика. Либо, по нему не должно быть активности за последние `90 дней`. Исключение составляют `топовые площадки`, работающие по своим критериям (`ЦИАН`, `Яндекс.Недвижимость`, `Авито`, и т. д.);\n",
        "3. Клиент должен знать минимальную информацию об объекте (понимать, куда он звонит): название `ЖК`, расположение, ценовую политику;\n",
        "4. Номер абонента должен быть доступен в течение `15 дней` после совершённого звонка (при этом со стороны заказчика должно быть обеспечено `2 попытки` исходящего звонка в течение указанного срока);\n",
        "5. Клиент должен быть `«адекватным»`. Не общаться на повышенных тонах, не употреблять ненормативную лексику и т. д.;\n",
        "6. Клиент не должен быть повторным. Например, клиент `уже` купил квартиру и через `90 дней` решил купить машиноместо;\n",
        "7. Заявка. В заявке должен быть указан номер телефона, а абонент при контакте с менеджером должен соответствовать всем критериям `уникально-целевого` обращения, перечисленным выше;\n",
        "8. Озвученный общий бюджет покупки не должен быть `ниже 90%` от стоимости квартиры или коммерческого помещения, соответствующих площади/комнатности на момент обращения;\n",
        "9. В случае, если клиент является уникальным, интересуется покупкой недвижимости, не является представителем партнёров или исполнителей и изъявил желание посетить офис продаж. При этом не обязательна фиксация уровня знания клиента об объекте в диалоге. При этом источник не должен относиться к каналам `«лидогенерация»` или `«тематические площадки»`;\n",
        "10. Основной целью звонка клиента не должна являться покупка/аренда исключительно нежилого помещения, если это не являлось целью проводимой рекламной кампании.\n",
        "\n",
        "Критерии НЕ `уникально-целевого` (вторичного) обращения:\n",
        "1. Клиент позвонил повторно менее чем через `3 месяца` (`90 дней`) с момента последнего обращения;\n",
        "2. Клиент, либо члены его семьи, уже купил (купили) `квартиру`/`машиноместо`/`кладовое помещение`, и хочет (хотят) совершить ещё одну покупку. В данном случае клиент относится к показателю `LTV` (показатель прибыли, которую компания получает от одного клиента за всё время работы с ним)."
      ],
      "metadata": {
        "id": "F1Im0SOi_S8W"
      }
    },
    {
      "cell_type": "markdown",
      "source": [
        "# [Датафреймы](https://drive.google.com/drive/folders/111abiHt33Q-SV48pBPhEgDCZDI5KshnF?usp=sharing)"
      ],
      "metadata": {
        "id": "GeEu96leTaL6"
      }
    },
    {
      "cell_type": "markdown",
      "source": [
        "## Headliner"
      ],
      "metadata": {
        "id": "KXdYsYQmr1Aq"
      }
    },
    {
      "cell_type": "markdown",
      "source": [
        "*   [`Headliner_df.pkl` Информация о звонках `Headliner`](https://drive.google.com/file/d/13mUHwvx79O4P-AucRdjBYkN5ha8LnCSp/view?usp=sharing)\n",
        "*   [`Headliner_new_df.pkl` Информация о новых звонках `Headliner`](https://drive.google.com/file/d/1-Q1BxLbot7svY5hiqOquHRFvSOcwtpKS/view?usp=sharing)"
      ],
      "metadata": {
        "id": "d5AY3J4YBxrC"
      }
    },
    {
      "cell_type": "markdown",
      "source": [
        "*   [`Headliner_calls_df.pkl` Файлы записей звонков `Headliner`](https://drive.google.com/file/d/13pmGEYacsEHjYsIsYgf6fg4MUHAw509y/view?usp=sharing)\n",
        "*   [`Headliner_new_calls_df.pkl` Файлы записей новых звонков `Headliner`](https://drive.google.com/file/d/1-Ke1q42th_NV0og0e01_-mvJ8HL8JzfS/view?usp=sharing)\n",
        "*   [`Headliner_transcriptions_df` Файлы транскрибации записей звонков `Headliner`](https://drive.google.com/file/d/1ThU49xWSv3T-HK61jRykOR3UDvOVeO4i/view?usp=sharing)\n",
        "*   [`Headliner_new_transcriptions_df.pkl` Файлы транскрибации новых записей звонков `Headliner`](https://drive.google.com/file/d/1-BSmmymyVo8VYyvDXsO1ybXldOJ5eUaH/view?usp=sharing)"
      ],
      "metadata": {
        "id": "to-Y1bSQr-4P"
      }
    },
    {
      "cell_type": "markdown",
      "source": [
        "*   [`Headliner_all_df.pkl` Информация о всех звонках `Headliner`](https://drive.google.com/file/d/1857LwaVtJ364yFMpXemILSuVu84YEPPw/view?usp=sharing)\n",
        "*   [`Headliner_work_df.pkl` Рабочий датафрейм с информацией о всех звонках `Headliner`](https://drive.google.com/file/d/1-HOWuSAngv9dXYiMlyRXX0kmVVAAT4sV/view?usp=sharing)\n",
        "*   [`Headliner_targets_df.pkl` Целевые звонки `Headliner`](https://drive.google.com/file/d/1-J1gcgb2mrNDx3R_3l12kq0htS8PTkSv/view?usp=sharing)\n",
        "*   [`Headliner_not_targets_df.pkl` Нецелевые звонки `Headliner`](https://drive.google.com/file/d/1dGf3UrVeQg0VfFhBL_lZfm-gaczPYBnL/view?usp=sharing)\n",
        "*   [`Headliner_moot_df.pkl` Спорные звонки `Headliner`](https://drive.google.com/file/d/1-7vtN8vJNWgWfY8JE8bqoRXkUpvRE_og/view?usp=sharing)"
      ],
      "metadata": {
        "id": "15htzuzHJkr1"
      }
    },
    {
      "cell_type": "markdown",
      "source": [
        "## Primavera"
      ],
      "metadata": {
        "id": "4BipOv18sV2n"
      }
    },
    {
      "cell_type": "markdown",
      "source": [
        "*   [`Primavera_df.pkl` Информация о звонках `Primavera`](https://drive.google.com/file/d/1-3csPnjIJXviKJzvbpCfOm29nBgl8L4Q/view?usp=sharing)\n",
        "*   [`Primavera_new_df.pkl` Информация о новых звонках `Primavera`](https://drive.google.com/file/d/1-QmWkabU2_cyrXPeVaiHSt2e6sLuiCtp/view?usp=sharing)"
      ],
      "metadata": {
        "id": "b8tnpm8LB43M"
      }
    },
    {
      "cell_type": "markdown",
      "source": [
        "*   [`Primavera_calls_df.pkl` Файлы записей звонков `Primavera`](https://drive.google.com/file/d/1-CLRfPyaGSc61OopNuFRlWTG-CBCaM1F/view?usp=sharing)\n",
        "*   [`Primavera_new_calls_df.pkl` Файлы записей новых звонков `Primavera`](https://drive.google.com/file/d/1-Lxa0KifMiByareL94rdEzEpvvMj4D1T/view?usp=sharing)\n",
        "*   [`Primavera_transcriptions_df` Файлы транскрибации записей звонков `Primavera`](https://drive.google.com/file/d/1-21AcHmdkRhKmL0uwWOJ0jHyY8sj1tME/view?usp=sharing)\n",
        "*   [`Primavera_new_transcriptions_df.pkl` Файлы транскрибации новых записей звонков `Primavera`](https://drive.google.com/file/d/1-BtSBVH2JXol5JDA0GKV4NOIz5WUnUd5/view?usp=sharing)"
      ],
      "metadata": {
        "id": "ODp0MWUysgH-"
      }
    },
    {
      "cell_type": "markdown",
      "source": [
        "*   [`Primavera_all_df.pkl` Информация о всех звонках `Primavera`](https://drive.google.com/file/d/1-2-RlxkKHj5e6RkvbrN7_vs1h5aVXJFk/view?usp=sharing)\n",
        "*   [`Primavera_work_df.pkl` Рабочий датафрейм с информацией о всех звонках `Primavera`](https://drive.google.com/file/d/1-INI9JsU9jsOkPDiGMKhftt18KXgF6-K/view?usp=sharing)\n",
        "*   [`Primavera_targets_df.pkl` Целевые звонки `Primavera`](https://drive.google.com/file/d/1-JVtM9fOr6XoM7MVxkoVsYfwdZ6GQ--i/view?usp=sharing)\n",
        "*   [`Primavera_not_targets_df.pkl` Нецелевые звонки `Primavera`](https://drive.google.com/file/d/1-KwG8M-0wEn-5C4ta-B8_xYGCXDOhpnH/view?usp=sharing)"
      ],
      "metadata": {
        "id": "7JWVpnvgKgXS"
      }
    },
    {
      "cell_type": "markdown",
      "source": [
        "## Paveletskaya_city"
      ],
      "metadata": {
        "id": "1PeeinuNtAEe"
      }
    },
    {
      "cell_type": "markdown",
      "source": [
        "*   [`Paveletskaya_city_df.pkl` Информация о звонках `Paveletskaya_city`](https://drive.google.com/file/d/1-99dLkSvU3wdwjkGJpwpYUXQjxx8dwEu/view?usp=sharing)\n",
        "*   [`Paveletskaya_df.pkl` Информация о звонках `Paveletskaya_city`](https://drive.google.com/file/d/1-D6LlCFXQBMHceujvnq9H8rlx2jAnzmT/view?usp=sharing)\n",
        "*   [`Paveletskaya_city_new_df.pkl` Информация о новых звонках `Paveletskaya_city`](https://drive.google.com/file/d/1-Rtw9a1no3mKatUjc_FNv_bgUBdNrs_d/view?usp=sharing)"
      ],
      "metadata": {
        "id": "6IsB_F4xCAdL"
      }
    },
    {
      "cell_type": "markdown",
      "source": [
        "*   [`Paveletskaya_city_calls_df.pkl` Файлы записей звонков `Paveletskaya_city`](https://drive.google.com/file/d/1-JevsfOpxzLNZmSs34qrswhGzhPwf69S/view?usp=sharing)\n",
        "*   [`Paveletskaya_city_new_calls_df.pkl` Файлы записей новых звонков `Paveletskaya_city`](https://drive.google.com/file/d/1-ODEeFLv15DN5bfLlwyrTx8D3yxydhP9/view?usp=sharing)\n",
        "*   [`Paveletskaya_city_transcriptions_df` Файлы транскрибации записей звонков `Paveletskaya_city`](https://drive.google.com/file/d/1-2kqmIGIraP70ekXB6LBqNjwaTnoxyk5/view?usp=sharing)\n",
        "*   [`Paveletskaya_city_new_transcriptions_df.pkl` Файлы транскрибации новых записей звонков `Paveletskaya_city`](https://drive.google.com/file/d/1-EfA8ZCpGNQk__puhiv1FuxoZC0rXxpj/view?usp=sharing)"
      ],
      "metadata": {
        "id": "N2krmwIptKI9"
      }
    },
    {
      "cell_type": "markdown",
      "source": [
        "*   [`Paveletskaya_city_all_df.pkl` Информация о всех звонках `Paveletskaya_city`](https://drive.google.com/file/d/1-Cy78DqRZ3sbIHkg25wzVWPL-lST5oQa/view?usp=sharing)\n",
        "*   [`Paveletskaya_city_work_df.pkl` Рабочий датафрейм с информацией о всех звонках `Paveletskaya_city`](https://drive.google.com/file/d/1-J1BoALFH4-HRdVXjnkyr-fExmtQpUc7/view?usp=sharing)\n",
        "*   [`Paveletskaya_city_targets_df.pkl` Целевые звонки `Paveletskaya_city`](https://drive.google.com/file/d/1-MrjnBHDj65CEjJxLfPnp-hq07V_wtZK/view?usp=sharing)\n",
        "*   [`Paveletskaya_city_not_targets_df.pkl` Нецелевые звонки `Paveletskaya_city`](https://drive.google.com/file/d/1-WCCyYaorHkBYoh5ugNsCkD7cb1PKH6D/view?usp=sharing)"
      ],
      "metadata": {
        "id": "XUeydaKCLkch"
      }
    },
    {
      "cell_type": "markdown",
      "source": [
        "## Сводные датафреймы"
      ],
      "metadata": {
        "id": "pdrl0p3jhcuo"
      }
    },
    {
      "cell_type": "markdown",
      "source": [
        "*   [`total_df.pkl` Сводный датафрейм с информацией о всех звонках](https://drive.google.com/file/d/15ijhw62sp2JNH6pryqZtM5akQHUnsTzi/view?usp=sharing)\n",
        "*   [`total_work_df.pkl` Сводный рабочий датафрейм с информацией о всех звонках](https://drive.google.com/file/d/1-056tLrjP5yRQW8yRtwutvXs3zmPulW7/view?usp=sharing)"
      ],
      "metadata": {
        "id": "388pbSo-pynK"
      }
    },
    {
      "cell_type": "markdown",
      "source": [
        "# 5 неделя"
      ],
      "metadata": {
        "id": "rVDYF0C9YQcB"
      }
    },
    {
      "cell_type": "code",
      "source": [
        "!rm -r sample_data"
      ],
      "metadata": {
        "id": "9KuUYa49Vo8A"
      },
      "execution_count": null,
      "outputs": []
    },
    {
      "cell_type": "code",
      "source": [
        "# Подключаем google-диск\n",
        "from google.colab import drive\n",
        "drive.mount('/content/drive')\n",
        "my_drv_path = '/content/drive/MyDrive/'"
      ],
      "metadata": {
        "colab": {
          "base_uri": "https://localhost:8080/"
        },
        "id": "IOx_s0fIVwbK",
        "outputId": "3350cde8-58c1-4628-c169-6a9c2ea02ae9"
      },
      "execution_count": null,
      "outputs": [
        {
          "output_type": "stream",
          "name": "stdout",
          "text": [
            "Mounted at /content/drive\n"
          ]
        }
      ]
    },
    {
      "cell_type": "markdown",
      "source": [
        "## Библиотеки и переменные"
      ],
      "metadata": {
        "id": "shwe_q3BV8Vr"
      }
    },
    {
      "cell_type": "code",
      "source": [
        "# Установка cohere openai tiktoken\n",
        "!pip -q install cohere openai tiktoken"
      ],
      "metadata": {
        "id": "qyqz872j0Pk4",
        "colab": {
          "base_uri": "https://localhost:8080/"
        },
        "outputId": "081b2ed2-0753-4977-c732-11f121024ee5"
      },
      "execution_count": null,
      "outputs": [
        {
          "output_type": "stream",
          "name": "stdout",
          "text": [
            "\u001b[2K     \u001b[90m━━━━━━━━━━━━━━━━━━━━━━━━━━━━━━━━━━━━━━━━\u001b[0m \u001b[32m48.9/48.9 kB\u001b[0m \u001b[31m1.4 MB/s\u001b[0m eta \u001b[36m0:00:00\u001b[0m\n",
            "\u001b[2K     \u001b[90m━━━━━━━━━━━━━━━━━━━━━━━━━━━━━━━━━━━━━━━━\u001b[0m \u001b[32m220.9/220.9 kB\u001b[0m \u001b[31m7.4 MB/s\u001b[0m eta \u001b[36m0:00:00\u001b[0m\n",
            "\u001b[2K     \u001b[90m━━━━━━━━━━━━━━━━━━━━━━━━━━━━━━━━━━━━━━━━\u001b[0m \u001b[32m2.0/2.0 MB\u001b[0m \u001b[31m40.2 MB/s\u001b[0m eta \u001b[36m0:00:00\u001b[0m\n",
            "\u001b[2K     \u001b[90m━━━━━━━━━━━━━━━━━━━━━━━━━━━━━━━━━━━━━━━━\u001b[0m \u001b[32m3.1/3.1 MB\u001b[0m \u001b[31m81.6 MB/s\u001b[0m eta \u001b[36m0:00:00\u001b[0m\n",
            "\u001b[2K     \u001b[90m━━━━━━━━━━━━━━━━━━━━━━━━━━━━━━━━━━━━━━━━\u001b[0m \u001b[32m75.0/75.0 kB\u001b[0m \u001b[31m7.4 MB/s\u001b[0m eta \u001b[36m0:00:00\u001b[0m\n",
            "\u001b[2K     \u001b[90m━━━━━━━━━━━━━━━━━━━━━━━━━━━━━━━━━━━━━━━━\u001b[0m \u001b[32m76.9/76.9 kB\u001b[0m \u001b[31m7.6 MB/s\u001b[0m eta \u001b[36m0:00:00\u001b[0m\n",
            "\u001b[2K     \u001b[90m━━━━━━━━━━━━━━━━━━━━━━━━━━━━━━━━━━━━━━━━\u001b[0m \u001b[32m58.3/58.3 kB\u001b[0m \u001b[31m6.4 MB/s\u001b[0m eta \u001b[36m0:00:00\u001b[0m\n",
            "\u001b[?25h"
          ]
        }
      ]
    },
    {
      "cell_type": "code",
      "source": [
        "# Установка openai-whisper\n",
        "!pip install git+https://github.com/openai/whisper.git"
      ],
      "metadata": {
        "id": "ROz-A4Dk0UMK",
        "colab": {
          "base_uri": "https://localhost:8080/"
        },
        "outputId": "56351caf-fb96-4128-8cfd-2fe2e010603b"
      },
      "execution_count": null,
      "outputs": [
        {
          "output_type": "stream",
          "name": "stdout",
          "text": [
            "Collecting git+https://github.com/openai/whisper.git\n",
            "  Cloning https://github.com/openai/whisper.git to /tmp/pip-req-build-shdd2fb9\n",
            "  Running command git clone --filter=blob:none --quiet https://github.com/openai/whisper.git /tmp/pip-req-build-shdd2fb9\n",
            "  Resolved https://github.com/openai/whisper.git to commit e58f28804528831904c3b6f2c0e473f346223433\n",
            "  Installing build dependencies ... \u001b[?25l\u001b[?25hdone\n",
            "  Getting requirements to build wheel ... \u001b[?25l\u001b[?25hdone\n",
            "  Preparing metadata (pyproject.toml) ... \u001b[?25l\u001b[?25hdone\n",
            "Requirement already satisfied: triton<3,>=2.0.0 in /usr/local/lib/python3.10/dist-packages (from openai-whisper==20231117) (2.1.0)\n",
            "Requirement already satisfied: numba in /usr/local/lib/python3.10/dist-packages (from openai-whisper==20231117) (0.58.1)\n",
            "Requirement already satisfied: numpy in /usr/local/lib/python3.10/dist-packages (from openai-whisper==20231117) (1.23.5)\n",
            "Requirement already satisfied: torch in /usr/local/lib/python3.10/dist-packages (from openai-whisper==20231117) (2.1.0+cu118)\n",
            "Requirement already satisfied: tqdm in /usr/local/lib/python3.10/dist-packages (from openai-whisper==20231117) (4.66.1)\n",
            "Requirement already satisfied: more-itertools in /usr/local/lib/python3.10/dist-packages (from openai-whisper==20231117) (10.1.0)\n",
            "Requirement already satisfied: tiktoken in /usr/local/lib/python3.10/dist-packages (from openai-whisper==20231117) (0.5.1)\n",
            "Requirement already satisfied: filelock in /usr/local/lib/python3.10/dist-packages (from triton<3,>=2.0.0->openai-whisper==20231117) (3.13.1)\n",
            "Requirement already satisfied: llvmlite<0.42,>=0.41.0dev0 in /usr/local/lib/python3.10/dist-packages (from numba->openai-whisper==20231117) (0.41.1)\n",
            "Requirement already satisfied: regex>=2022.1.18 in /usr/local/lib/python3.10/dist-packages (from tiktoken->openai-whisper==20231117) (2023.6.3)\n",
            "Requirement already satisfied: requests>=2.26.0 in /usr/local/lib/python3.10/dist-packages (from tiktoken->openai-whisper==20231117) (2.31.0)\n",
            "Requirement already satisfied: typing-extensions in /usr/local/lib/python3.10/dist-packages (from torch->openai-whisper==20231117) (4.5.0)\n",
            "Requirement already satisfied: sympy in /usr/local/lib/python3.10/dist-packages (from torch->openai-whisper==20231117) (1.12)\n",
            "Requirement already satisfied: networkx in /usr/local/lib/python3.10/dist-packages (from torch->openai-whisper==20231117) (3.2.1)\n",
            "Requirement already satisfied: jinja2 in /usr/local/lib/python3.10/dist-packages (from torch->openai-whisper==20231117) (3.1.2)\n",
            "Requirement already satisfied: fsspec in /usr/local/lib/python3.10/dist-packages (from torch->openai-whisper==20231117) (2023.6.0)\n",
            "Requirement already satisfied: charset-normalizer<4,>=2 in /usr/local/lib/python3.10/dist-packages (from requests>=2.26.0->tiktoken->openai-whisper==20231117) (3.3.2)\n",
            "Requirement already satisfied: idna<4,>=2.5 in /usr/local/lib/python3.10/dist-packages (from requests>=2.26.0->tiktoken->openai-whisper==20231117) (3.4)\n",
            "Requirement already satisfied: urllib3<3,>=1.21.1 in /usr/local/lib/python3.10/dist-packages (from requests>=2.26.0->tiktoken->openai-whisper==20231117) (2.0.7)\n",
            "Requirement already satisfied: certifi>=2017.4.17 in /usr/local/lib/python3.10/dist-packages (from requests>=2.26.0->tiktoken->openai-whisper==20231117) (2023.7.22)\n",
            "Requirement already satisfied: MarkupSafe>=2.0 in /usr/local/lib/python3.10/dist-packages (from jinja2->torch->openai-whisper==20231117) (2.1.3)\n",
            "Requirement already satisfied: mpmath>=0.19 in /usr/local/lib/python3.10/dist-packages (from sympy->torch->openai-whisper==20231117) (1.3.0)\n",
            "Building wheels for collected packages: openai-whisper\n",
            "  Building wheel for openai-whisper (pyproject.toml) ... \u001b[?25l\u001b[?25hdone\n",
            "  Created wheel for openai-whisper: filename=openai_whisper-20231117-py3-none-any.whl size=801356 sha256=81e195f08c471a4993de70060763891893e06d6ba0554d0411603286f0f35547\n",
            "  Stored in directory: /tmp/pip-ephem-wheel-cache-5_16h1tp/wheels/8b/6c/d0/622666868c179f156cf595c8b6f06f88bc5d80c4b31dccaa03\n",
            "Successfully built openai-whisper\n",
            "Installing collected packages: openai-whisper\n",
            "Successfully installed openai-whisper-20231117\n"
          ]
        }
      ]
    },
    {
      "cell_type": "code",
      "source": [
        "import os            # для работы с операционной системой\n",
        "import pickle as pkl # для сохранения и загрузки переменных\n",
        "import pandas as pd  # для работы с таблицами\n",
        "import numpy  as np  # для работы с массивами\n",
        "import re            # для работы с регулярными выражениями\n",
        "import whisper       # для транскрибации\n",
        "\n",
        "# Параметры отображения датафреймов\n",
        "pd.options.display.max_rows     = 99\n",
        "pd.options.display.max_columns  = 99\n",
        "pd.options.display.max_colwidth = 999\n",
        "\n",
        "work_dir_path              = my_drv_path           + 'media108.ru/Новички/'                # путь к рабочей папке\n",
        "df_path                    = work_dir_path         + 'Датафреймы/'                         # путь к папке для датафреймов\n",
        "table_path                 = work_dir_path         + 'Таблицы/'                            # путь к папке для таблиц\n",
        "model_path                 = work_dir_path         + 'Модели/'                             # путь к папке для моделей нейронных сетей\n",
        "all_dataset_path           = work_dir_path         + 'Датасет/'                            # путь к папке всего датасета в целом\n",
        "dataset_path               = all_dataset_path      + 'Записи звонков/'                     # путь к записям звонков\n",
        "dataset_info_path          = dataset_path          + 'Информация о звонках/'               # путь к информации о звонках\n",
        "dataset_new_path           = all_dataset_path      + 'Новые записи звонков/'               # путь к новым записям звонков\n",
        "dataset_new_info_path      = dataset_new_path      + 'Информация о звонках/'               # путь к информации о новых звонках\n",
        "Headliner_path             = dataset_path          + 'Записи звонков_хедлайнер'            # путь к записям звонков проекта Headliner\n",
        "Headliner_info             = dataset_info_path     + 'Headliner.csv'                       # путь к информации о звонках проекта Headliner\n",
        "Headliner_new_path         = dataset_new_path      + 'Записи Headliner'                    # путь к записям новых звонков проекта Headliner\n",
        "Headliner_new_info         = dataset_new_info_path + 'Headliner.xlsx'                      # путь к информации о новых звонках проекта Headliner\n",
        "Primavera_path             = dataset_path          + 'Записи звонков_primavera'            # путь к записям звонков проекта Primavera\n",
        "Primavera_info             = dataset_info_path     + 'Primavera .csv'                      # путь к информации о звонках проекта Primavera\n",
        "Primavera_new_path         = dataset_new_path      + 'Записи Primavera'                    # путь к записям новых звонков проекта Primavera\n",
        "Primavera_new_info         = dataset_new_info_path + 'Примавера.xlsx'                      # путь к информации о новых звонках проекта Primavera\n",
        "Paveletskaya_city_path     = dataset_path          + 'Записи звонков_павелецкая сити'      # путь к записям звонков проекта Paveletskaya_city\n",
        "Paveletskaya_city_info     = dataset_info_path     + 'Павелецкая_ЖК_«Павелецкая_сити».csv' # путь к информации о звонках проекта Paveletskaya_city\n",
        "Paveletskaya_info          = dataset_info_path     + 'Павелецкая (pavcity.turbo.site).csv' # путь к информации о звонках проекта Paveletskaya_city\n",
        "Paveletskaya_city_new_path = dataset_new_path      + 'Записи Павелецкая сити'              # путь к записям новых звонков проекта Paveletskaya_city\n",
        "Paveletskaya_city_new_info = dataset_new_info_path + 'Павелецкая сити.xlsx'                # путь к информации о новых звонках проекта Paveletskaya_city"
      ],
      "metadata": {
        "id": "afuxbj6ibJz2"
      },
      "execution_count": null,
      "outputs": []
    },
    {
      "cell_type": "markdown",
      "source": [
        "## Функции"
      ],
      "metadata": {
        "id": "n8PGtZ3R9BrV"
      }
    },
    {
      "cell_type": "code",
      "source": [
        "# Функция для создания датафрейма из списка файлов транскрибации звонков\n",
        "def transcriptions_list_to_df(transcriptions_list):\n",
        "\n",
        "  datetime_list    = [] # список для 'Дата и время'\n",
        "  from_number_list = [] # список для 'Номер абонента'\n",
        "  to_number_list   = [] # список для 'Номер сотрудника'\n",
        "  session_list     = [] # список для 'Идентификатор сессии звонка'\n",
        "\n",
        "  # Проходим по списку записей звонков\n",
        "  for transcription in transcriptions_list:\n",
        "\n",
        "    transcription_item_list = transcription.split('_')\n",
        "    time_item_list = transcription_item_list[1].split('.')\n",
        "    time_item_list = time_item_list[0].split('-')\n",
        "\n",
        "    # Заполняем списки для столбцов\n",
        "    datetime_list.append(transcription_item_list[0] + ' ' + time_item_list[0] + ':' + time_item_list[1] + ':' + time_item_list[2])\n",
        "    from_number_list.append(transcription_item_list[3])\n",
        "    to_number_list.append(transcription_item_list[5])\n",
        "    session_list.append(transcription_item_list[7])\n",
        "\n",
        "  # Собираем созданные списки в словарь\n",
        "  transcriptions_dict = dict.fromkeys(['Дата и время', 'Номер абонента', 'Номер сотрудника', 'Идентификатор сессии звонка', 'Файл whisper-транскрибации записи звонка'], [])\n",
        "  transcriptions_dict['Дата и время']                             = datetime_list\n",
        "  transcriptions_dict['Номер абонента']                           = from_number_list\n",
        "  transcriptions_dict['Номер сотрудника']                         = to_number_list\n",
        "  transcriptions_dict['Идентификатор сессии звонка']              = session_list\n",
        "  transcriptions_dict['Файл whisper-транскрибации записи звонка'] = transcriptions_list\n",
        "\n",
        "  # Возвращаем датафрейм\n",
        "  return pd.DataFrame(transcriptions_dict)"
      ],
      "metadata": {
        "id": "IAY_eU_J9TyN"
      },
      "execution_count": null,
      "outputs": []
    },
    {
      "cell_type": "markdown",
      "source": [
        "## Транскрибация"
      ],
      "metadata": {
        "id": "naoh39F90_sR"
      }
    },
    {
      "cell_type": "code",
      "source": [
        "# Путь для файлов с текстами транскрибации\n",
        "os.makedirs('transcription_files', exist_ok=True)\n",
        "transcription_files_path = 'transcription_files/'"
      ],
      "metadata": {
        "id": "IHJE0kYdhbKp"
      },
      "execution_count": null,
      "outputs": []
    },
    {
      "cell_type": "code",
      "source": [
        "# Загружаем total_work_df из pkl\n",
        "with open(df_path + 'total_work_df.pkl', 'rb') as f:\n",
        "  total_work_df = pkl.load(f)"
      ],
      "metadata": {
        "id": "xi6cuj2Q24Sm"
      },
      "execution_count": null,
      "outputs": []
    },
    {
      "cell_type": "code",
      "source": [
        "# Транскрибируем записи звонков и сохраняем тексты звонков в файлы\n",
        "whisper_model = whisper.load_model('large')\n",
        "for file_name in total_work_df['Файл записи звонка'].head().values:\n",
        "  with open(transcription_files_path + os.path.basename(file_name).rstrip('.mp3') + '_whisper_large.txt','w') as f:\n",
        "    f.write(whisper_model.transcribe(all_dataset_path + file_name, language='ru')['text'])"
      ],
      "metadata": {
        "id": "QDRwALsU1EWl",
        "colab": {
          "base_uri": "https://localhost:8080/"
        },
        "outputId": "c72f2209-5892-4840-95c3-dee5d0d1e796"
      },
      "execution_count": null,
      "outputs": [
        {
          "output_type": "stream",
          "name": "stderr",
          "text": [
            "100%|█████████████████████████████████████| 2.88G/2.88G [00:35<00:00, 86.0MiB/s]\n"
          ]
        }
      ]
    },
    {
      "cell_type": "code",
      "source": [
        "# Файлы с текстами транскрибации\n",
        "os.listdir(transcription_files_path)"
      ],
      "metadata": {
        "colab": {
          "base_uri": "https://localhost:8080/"
        },
        "id": "_Yxd2jp6jnCf",
        "outputId": "ea93f64c-250b-471a-b848-4279418bfcc7"
      },
      "execution_count": null,
      "outputs": [
        {
          "output_type": "execute_result",
          "data": {
            "text/plain": [
              "['2023-05-08_16-14-10.247769_from_74955199580_to_74997552563_session_2918538922_talk_whisper_large.txt',\n",
              " '2023-05-09_11-53-48.291185_from_79910665524_to_74997552563_session_2919161802_talk_whisper_large.txt',\n",
              " '2023-05-09_17-51-30.193682_from_79670165153_to_0188880_session_2919520238_talk_whisper_large.txt',\n",
              " '2023-05-09_18-34-04.371381_from_79274431546_to_74997552563_session_2919550530_talk_whisper_large.txt',\n",
              " '2023-05-09_20-19-21.050197_from_79274432048_to_74997552563_session_2919615074_talk_whisper_large.txt']"
            ]
          },
          "metadata": {},
          "execution_count": 10
        }
      ]
    },
    {
      "cell_type": "code",
      "source": [
        "# Тексты транскрибации\n",
        "for file_name in os.listdir(transcription_files_path):\n",
        "  print(f\"Содержимое файла {file_name}:\")\n",
        "  with open(transcription_files_path + file_name, 'r') as f:\n",
        "    lines = f.readlines()\n",
        "  print(lines)\n",
        "  print()"
      ],
      "metadata": {
        "colab": {
          "base_uri": "https://localhost:8080/"
        },
        "id": "PcmrW8RUkdV-",
        "outputId": "b97ed942-a618-4acb-e922-605291428e39"
      },
      "execution_count": null,
      "outputs": [
        {
          "output_type": "stream",
          "name": "stdout",
          "text": [
            "Содержимое файла 2023-05-08_16-14-10.247769_from_74955199580_to_74997552563_session_2918538922_talk_whisper_large.txt:\n",
            "[' Светлана, здравствуйте. Здравствуйте. Скажите, пожалуйста, фотоаппарат КНН А-603. Ой, это расшипаетесь. Нет-нет, вы позвонили в другую компанию, перезвоните.']\n",
            "\n",
            "Содержимое файла 2023-05-09_11-53-48.291185_from_79910665524_to_74997552563_session_2919161802_talk_whisper_large.txt:\n",
            "[' А, Вика, звонок по объявлению. Разговор может быть записан. Вам интересно? Позвольте, я продолжу, а потом, если что, зададите вопросы, хорошо?']\n",
            "\n",
            "Содержимое файла 2023-05-09_17-51-30.193682_from_79670165153_to_0188880_session_2919520238_talk_whisper_large.txt:\n",
            "[' Здравствуйте! Вы позвонили в группу компании «Картрос». Благодарим вас за звонок. Пожалуйста, дождитесь ответа оператора. Добрый вечер. Группа компании «Картрос». Меня зовут Любовь. Любовь, добрый день. Виктория рассматривает жилой комплекс «Хедлайнер». Рассматривает трехкомнатную квартиру. Бюджет 40 миллионов. Спасибо. Здравствуйте. Я хотела узнать по поводу вашего проекта. Есть ли квартиры готовые по планировкам, по ремонту, без ремонта, с ремонтом? Что есть вообще? Вы знакомы с нашим проектом? Нет, не совсем. А локацию хотя бы знаете, где мы находимся? Локацию, да. Локацию смотрела уже. Проект «Хедлайнер» находится в станции метро «Шелепиха». Школы рядом есть. Муниципальная, романовская школа в 300 метрах. Детский сад, также романовский. Также на территории комплекса есть два частных детских сада. Сейчас он в стадии ремонтных работ. Проект «Три очереди». Готовые квартиры во второй очереди есть. Сдача была в декабре 2022 года. Прям очень громко мне в трубку ребенок кричит. Ага. И есть третья очередь, которая сдается в второй квартал 2024 года. Квартира без отделки. Без отделки там, да? Да, если мы говорим без отделки, то есть свободная планировка, стяжка, штукатурка. Угу, все, я поняла. То есть, а свайдбоксов всегда нет в квартирах? Нет, предчистовой отделки нет. Без отделки квартиры. Угу, угу. Так, хорошо. Так, так, так. Какой бюджет приобретения у вас? И какой способ это? Ипотека, рассрочка? Это, скорее всего, будет ипотека. Угу. Вот, по бюджету это до 40. 35-37, то есть, вот в этом диапазоне. Ну, вы можете попробовать тогда приобрести у нас трехкомнатные форматы «Евро». Это две спальни, кухня-гостиная. Порядка 67 миллиметров есть. Да, да, да. И это будет, по-моему, в таком бюджете, если мы говорим с вами, до 40. И есть варианты точечные, до 40, но это прям единичные квартиры. Просто они будут на низких этажах, не с видовыми характеристиками, а скорее во внутренний двор. Там, возможно, порядка 85 метров, там уже будет большая площадь, но все те же две спальни и кухня-гостиная. Угу, все, я поняла. Так, то есть, а если рассмотреть побольше, то не будет? То есть, а если рассмотреть побольше планировку, побольше квадратуру, то там уже какой будет ценник? Ну, есть в третьей очереди вариант за 36,5 миллионов, но я образно 36 точно не помню, если ты 700, 36, 700. То есть, есть вариант просто на невидовом этаже с дачи второй квартал 25 года. Там можно посмотреть три спальни и кухня-гостиная. Да, да, да. И кухня-гостиная. Ой, 25, то есть, 24 года, то есть, следующего. Ага, все. Второй квартал, да, вы сказали? Да, второй квартал, да, второй квартал 24 года. Это сдача финальная уже в третьей очереди, последней. То есть, у нас всего три очереди. И сейчас третья достраивается уже. Угу, угу. Так, так, так, по готовым вы что сказали еще раз напомните. Ну, в готовом мы с вами в такой бюджет не войдем, наверное. Ну, войдем только три спальни и кухня-гостиная, да. Ага, а три спальни, а если три спальни мы рассмотрим хорошо, то по стоимости что получится? Ну, от 40 все-таки, я думаю, надо рассчитывать, от 40-45. Ага, угу. И какая там будет примерная площадь? Ну, можно посмотреть до 90 метров. Ага, так, хорошо, я поняла. Приходите к нам в офис, познакомитесь с проектом, посмотрите макет и можете посмотреть уже планировки, либо на сайте все также изучить. Угу, хорошо, ладно, я так и сделаю. Хорошо, спасибо большое. Сейчас до свидания, доктор. До свидания.']\n",
            "\n",
            "Содержимое файла 2023-05-09_18-34-04.371381_from_79274431546_to_74997552563_session_2919550530_talk_whisper_large.txt:\n",
            "[' Субтитры создавал DimaTorzok']\n",
            "\n",
            "Содержимое файла 2023-05-09_20-19-21.050197_from_79274432048_to_74997552563_session_2919615074_talk_whisper_large.txt:\n",
            "[' Живой комплекс «Федлайнер» Наталья, здравствуйте.']\n",
            "\n"
          ]
        }
      ]
    },
    {
      "cell_type": "markdown",
      "source": [
        "## Файлы транскрибации записей звонков"
      ],
      "metadata": {
        "id": "nLZlWqBHXTRT"
      }
    },
    {
      "cell_type": "code",
      "source": [
        "os.listdir(my_drv_path + 'media108.ru/Датасет/Whisper-транскрибация записей звонков')"
      ],
      "metadata": {
        "colab": {
          "base_uri": "https://localhost:8080/"
        },
        "id": "oFTxv4vIqwOw",
        "outputId": "0410abbf-40c8-4e1c-8f85-3e8f14c632db"
      },
      "execution_count": null,
      "outputs": [
        {
          "output_type": "execute_result",
          "data": {
            "text/plain": [
              "['Расшифровки_Записи звонков_хедлайнер',\n",
              " 'Расшифровки_Записи звонков_primavera',\n",
              " 'Расшифровки_Записи звонков_павелецкая сити']"
            ]
          },
          "metadata": {},
          "execution_count": 36
        }
      ]
    },
    {
      "cell_type": "code",
      "source": [
        "print(f\"        Headliner: {len(os.listdir(my_drv_path + 'media108.ru/Датасет/Whisper-транскрибация записей звонков/Расшифровки_Записи звонков_хедлайнер')):4d} записей\")\n",
        "print(f\"        Primavera: {len(os.listdir(my_drv_path + 'media108.ru/Датасет/Whisper-транскрибация записей звонков/Расшифровки_Записи звонков_primavera')):4d} записей\")\n",
        "print(f\"Paveletskaya_city: {len(os.listdir(my_drv_path + 'media108.ru/Датасет/Whisper-транскрибация записей звонков/Расшифровки_Записи звонков_павелецкая сити')):4d} записей\")"
      ],
      "metadata": {
        "colab": {
          "base_uri": "https://localhost:8080/"
        },
        "id": "Y_QXr78jsFcH",
        "outputId": "dd2201cb-d78c-445c-d406-6459870733d1"
      },
      "execution_count": null,
      "outputs": [
        {
          "output_type": "stream",
          "name": "stdout",
          "text": [
            "        Headliner: 2055 записей\n",
            "        Primavera: 1983 записей\n",
            "Paveletskaya_city: 1000 записей\n"
          ]
        }
      ]
    },
    {
      "cell_type": "markdown",
      "source": [
        "### Headliner"
      ],
      "metadata": {
        "id": "0sO_EMpSCInU"
      }
    },
    {
      "cell_type": "markdown",
      "source": [
        "#### Создание датафрейма"
      ],
      "metadata": {
        "id": "Qc_5op8jCInW"
      }
    },
    {
      "cell_type": "code",
      "source": [
        "# Создаём датафрейм из списка файлов транскрибации звонков Headliner\n",
        "Headliner_transcriptions_df = transcriptions_list_to_df(os.listdir(my_drv_path + 'media108.ru/Датасет/Whisper-транскрибация записей звонков/Расшифровки_Записи звонков_хедлайнер'))\n",
        "Headliner_transcriptions_df.shape"
      ],
      "metadata": {
        "colab": {
          "base_uri": "https://localhost:8080/"
        },
        "id": "iUTNwyPyDDXS",
        "outputId": "945ed37b-021e-480a-9c1a-e5ff7cdd8d64"
      },
      "execution_count": null,
      "outputs": [
        {
          "output_type": "execute_result",
          "data": {
            "text/plain": [
              "(2055, 5)"
            ]
          },
          "metadata": {},
          "execution_count": 38
        }
      ]
    },
    {
      "cell_type": "code",
      "source": [
        "Headliner_transcriptions_df.head()"
      ],
      "metadata": {
        "colab": {
          "base_uri": "https://localhost:8080/",
          "height": 206
        },
        "outputId": "00095270-490c-4150-927d-ffeb9fb6e428",
        "id": "jOWMm1K7CIna"
      },
      "execution_count": null,
      "outputs": [
        {
          "output_type": "execute_result",
          "data": {
            "text/plain": [
              "          Дата и время Номер абонента Номер сотрудника  \\\n",
              "0  2023-06-13 16:34:55    79253130521          0188880   \n",
              "1  2023-06-13 16:38:19    79854420972          0188880   \n",
              "2  2023-06-13 16:38:32    79010377117      74959339902   \n",
              "3  2023-06-13 16:41:01    79067578107          0188880   \n",
              "4  2023-06-13 16:41:49    79067578107          0188880   \n",
              "\n",
              "  Идентификатор сессии звонка  \\\n",
              "0                  3020550704   \n",
              "1                  3001367639   \n",
              "2                  2983982802   \n",
              "3                  3002111697   \n",
              "4                  3002112889   \n",
              "\n",
              "                                                               Файл whisper-транскрибации записи звонка  \n",
              "0      2023-06-13_16-34-55.323535_from_79253130521_to_0188880_session_3020550704_talk_whisper_large.txt  \n",
              "1      2023-06-13_16-38-19.167809_from_79854420972_to_0188880_session_3001367639_talk_whisper_large.txt  \n",
              "2  2023-06-13_16-38-32.031681_from_79010377117_to_74959339902_session_2983982802_talk_whisper_large.txt  \n",
              "3      2023-06-13_16-41-01.418697_from_79067578107_to_0188880_session_3002111697_talk_whisper_large.txt  \n",
              "4      2023-06-13_16-41-49.321187_from_79067578107_to_0188880_session_3002112889_talk_whisper_large.txt  "
            ],
            "text/html": [
              "\n",
              "  <div id=\"df-0c755d57-deff-47f8-a160-d1bd7791c4f1\" class=\"colab-df-container\">\n",
              "    <div>\n",
              "<style scoped>\n",
              "    .dataframe tbody tr th:only-of-type {\n",
              "        vertical-align: middle;\n",
              "    }\n",
              "\n",
              "    .dataframe tbody tr th {\n",
              "        vertical-align: top;\n",
              "    }\n",
              "\n",
              "    .dataframe thead th {\n",
              "        text-align: right;\n",
              "    }\n",
              "</style>\n",
              "<table border=\"1\" class=\"dataframe\">\n",
              "  <thead>\n",
              "    <tr style=\"text-align: right;\">\n",
              "      <th></th>\n",
              "      <th>Дата и время</th>\n",
              "      <th>Номер абонента</th>\n",
              "      <th>Номер сотрудника</th>\n",
              "      <th>Идентификатор сессии звонка</th>\n",
              "      <th>Файл whisper-транскрибации записи звонка</th>\n",
              "    </tr>\n",
              "  </thead>\n",
              "  <tbody>\n",
              "    <tr>\n",
              "      <th>0</th>\n",
              "      <td>2023-06-13 16:34:55</td>\n",
              "      <td>79253130521</td>\n",
              "      <td>0188880</td>\n",
              "      <td>3020550704</td>\n",
              "      <td>2023-06-13_16-34-55.323535_from_79253130521_to_0188880_session_3020550704_talk_whisper_large.txt</td>\n",
              "    </tr>\n",
              "    <tr>\n",
              "      <th>1</th>\n",
              "      <td>2023-06-13 16:38:19</td>\n",
              "      <td>79854420972</td>\n",
              "      <td>0188880</td>\n",
              "      <td>3001367639</td>\n",
              "      <td>2023-06-13_16-38-19.167809_from_79854420972_to_0188880_session_3001367639_talk_whisper_large.txt</td>\n",
              "    </tr>\n",
              "    <tr>\n",
              "      <th>2</th>\n",
              "      <td>2023-06-13 16:38:32</td>\n",
              "      <td>79010377117</td>\n",
              "      <td>74959339902</td>\n",
              "      <td>2983982802</td>\n",
              "      <td>2023-06-13_16-38-32.031681_from_79010377117_to_74959339902_session_2983982802_talk_whisper_large.txt</td>\n",
              "    </tr>\n",
              "    <tr>\n",
              "      <th>3</th>\n",
              "      <td>2023-06-13 16:41:01</td>\n",
              "      <td>79067578107</td>\n",
              "      <td>0188880</td>\n",
              "      <td>3002111697</td>\n",
              "      <td>2023-06-13_16-41-01.418697_from_79067578107_to_0188880_session_3002111697_talk_whisper_large.txt</td>\n",
              "    </tr>\n",
              "    <tr>\n",
              "      <th>4</th>\n",
              "      <td>2023-06-13 16:41:49</td>\n",
              "      <td>79067578107</td>\n",
              "      <td>0188880</td>\n",
              "      <td>3002112889</td>\n",
              "      <td>2023-06-13_16-41-49.321187_from_79067578107_to_0188880_session_3002112889_talk_whisper_large.txt</td>\n",
              "    </tr>\n",
              "  </tbody>\n",
              "</table>\n",
              "</div>\n",
              "    <div class=\"colab-df-buttons\">\n",
              "\n",
              "  <div class=\"colab-df-container\">\n",
              "    <button class=\"colab-df-convert\" onclick=\"convertToInteractive('df-0c755d57-deff-47f8-a160-d1bd7791c4f1')\"\n",
              "            title=\"Convert this dataframe to an interactive table.\"\n",
              "            style=\"display:none;\">\n",
              "\n",
              "  <svg xmlns=\"http://www.w3.org/2000/svg\" height=\"24px\" viewBox=\"0 -960 960 960\">\n",
              "    <path d=\"M120-120v-720h720v720H120Zm60-500h600v-160H180v160Zm220 220h160v-160H400v160Zm0 220h160v-160H400v160ZM180-400h160v-160H180v160Zm440 0h160v-160H620v160ZM180-180h160v-160H180v160Zm440 0h160v-160H620v160Z\"/>\n",
              "  </svg>\n",
              "    </button>\n",
              "\n",
              "  <style>\n",
              "    .colab-df-container {\n",
              "      display:flex;\n",
              "      gap: 12px;\n",
              "    }\n",
              "\n",
              "    .colab-df-convert {\n",
              "      background-color: #E8F0FE;\n",
              "      border: none;\n",
              "      border-radius: 50%;\n",
              "      cursor: pointer;\n",
              "      display: none;\n",
              "      fill: #1967D2;\n",
              "      height: 32px;\n",
              "      padding: 0 0 0 0;\n",
              "      width: 32px;\n",
              "    }\n",
              "\n",
              "    .colab-df-convert:hover {\n",
              "      background-color: #E2EBFA;\n",
              "      box-shadow: 0px 1px 2px rgba(60, 64, 67, 0.3), 0px 1px 3px 1px rgba(60, 64, 67, 0.15);\n",
              "      fill: #174EA6;\n",
              "    }\n",
              "\n",
              "    .colab-df-buttons div {\n",
              "      margin-bottom: 4px;\n",
              "    }\n",
              "\n",
              "    [theme=dark] .colab-df-convert {\n",
              "      background-color: #3B4455;\n",
              "      fill: #D2E3FC;\n",
              "    }\n",
              "\n",
              "    [theme=dark] .colab-df-convert:hover {\n",
              "      background-color: #434B5C;\n",
              "      box-shadow: 0px 1px 3px 1px rgba(0, 0, 0, 0.15);\n",
              "      filter: drop-shadow(0px 1px 2px rgba(0, 0, 0, 0.3));\n",
              "      fill: #FFFFFF;\n",
              "    }\n",
              "  </style>\n",
              "\n",
              "    <script>\n",
              "      const buttonEl =\n",
              "        document.querySelector('#df-0c755d57-deff-47f8-a160-d1bd7791c4f1 button.colab-df-convert');\n",
              "      buttonEl.style.display =\n",
              "        google.colab.kernel.accessAllowed ? 'block' : 'none';\n",
              "\n",
              "      async function convertToInteractive(key) {\n",
              "        const element = document.querySelector('#df-0c755d57-deff-47f8-a160-d1bd7791c4f1');\n",
              "        const dataTable =\n",
              "          await google.colab.kernel.invokeFunction('convertToInteractive',\n",
              "                                                    [key], {});\n",
              "        if (!dataTable) return;\n",
              "\n",
              "        const docLinkHtml = 'Like what you see? Visit the ' +\n",
              "          '<a target=\"_blank\" href=https://colab.research.google.com/notebooks/data_table.ipynb>data table notebook</a>'\n",
              "          + ' to learn more about interactive tables.';\n",
              "        element.innerHTML = '';\n",
              "        dataTable['output_type'] = 'display_data';\n",
              "        await google.colab.output.renderOutput(dataTable, element);\n",
              "        const docLink = document.createElement('div');\n",
              "        docLink.innerHTML = docLinkHtml;\n",
              "        element.appendChild(docLink);\n",
              "      }\n",
              "    </script>\n",
              "  </div>\n",
              "\n",
              "\n",
              "<div id=\"df-481b61f7-f2c1-492a-b93b-26a2da76cc2a\">\n",
              "  <button class=\"colab-df-quickchart\" onclick=\"quickchart('df-481b61f7-f2c1-492a-b93b-26a2da76cc2a')\"\n",
              "            title=\"Suggest charts\"\n",
              "            style=\"display:none;\">\n",
              "\n",
              "<svg xmlns=\"http://www.w3.org/2000/svg\" height=\"24px\"viewBox=\"0 0 24 24\"\n",
              "     width=\"24px\">\n",
              "    <g>\n",
              "        <path d=\"M19 3H5c-1.1 0-2 .9-2 2v14c0 1.1.9 2 2 2h14c1.1 0 2-.9 2-2V5c0-1.1-.9-2-2-2zM9 17H7v-7h2v7zm4 0h-2V7h2v10zm4 0h-2v-4h2v4z\"/>\n",
              "    </g>\n",
              "</svg>\n",
              "  </button>\n",
              "\n",
              "<style>\n",
              "  .colab-df-quickchart {\n",
              "      --bg-color: #E8F0FE;\n",
              "      --fill-color: #1967D2;\n",
              "      --hover-bg-color: #E2EBFA;\n",
              "      --hover-fill-color: #174EA6;\n",
              "      --disabled-fill-color: #AAA;\n",
              "      --disabled-bg-color: #DDD;\n",
              "  }\n",
              "\n",
              "  [theme=dark] .colab-df-quickchart {\n",
              "      --bg-color: #3B4455;\n",
              "      --fill-color: #D2E3FC;\n",
              "      --hover-bg-color: #434B5C;\n",
              "      --hover-fill-color: #FFFFFF;\n",
              "      --disabled-bg-color: #3B4455;\n",
              "      --disabled-fill-color: #666;\n",
              "  }\n",
              "\n",
              "  .colab-df-quickchart {\n",
              "    background-color: var(--bg-color);\n",
              "    border: none;\n",
              "    border-radius: 50%;\n",
              "    cursor: pointer;\n",
              "    display: none;\n",
              "    fill: var(--fill-color);\n",
              "    height: 32px;\n",
              "    padding: 0;\n",
              "    width: 32px;\n",
              "  }\n",
              "\n",
              "  .colab-df-quickchart:hover {\n",
              "    background-color: var(--hover-bg-color);\n",
              "    box-shadow: 0 1px 2px rgba(60, 64, 67, 0.3), 0 1px 3px 1px rgba(60, 64, 67, 0.15);\n",
              "    fill: var(--button-hover-fill-color);\n",
              "  }\n",
              "\n",
              "  .colab-df-quickchart-complete:disabled,\n",
              "  .colab-df-quickchart-complete:disabled:hover {\n",
              "    background-color: var(--disabled-bg-color);\n",
              "    fill: var(--disabled-fill-color);\n",
              "    box-shadow: none;\n",
              "  }\n",
              "\n",
              "  .colab-df-spinner {\n",
              "    border: 2px solid var(--fill-color);\n",
              "    border-color: transparent;\n",
              "    border-bottom-color: var(--fill-color);\n",
              "    animation:\n",
              "      spin 1s steps(1) infinite;\n",
              "  }\n",
              "\n",
              "  @keyframes spin {\n",
              "    0% {\n",
              "      border-color: transparent;\n",
              "      border-bottom-color: var(--fill-color);\n",
              "      border-left-color: var(--fill-color);\n",
              "    }\n",
              "    20% {\n",
              "      border-color: transparent;\n",
              "      border-left-color: var(--fill-color);\n",
              "      border-top-color: var(--fill-color);\n",
              "    }\n",
              "    30% {\n",
              "      border-color: transparent;\n",
              "      border-left-color: var(--fill-color);\n",
              "      border-top-color: var(--fill-color);\n",
              "      border-right-color: var(--fill-color);\n",
              "    }\n",
              "    40% {\n",
              "      border-color: transparent;\n",
              "      border-right-color: var(--fill-color);\n",
              "      border-top-color: var(--fill-color);\n",
              "    }\n",
              "    60% {\n",
              "      border-color: transparent;\n",
              "      border-right-color: var(--fill-color);\n",
              "    }\n",
              "    80% {\n",
              "      border-color: transparent;\n",
              "      border-right-color: var(--fill-color);\n",
              "      border-bottom-color: var(--fill-color);\n",
              "    }\n",
              "    90% {\n",
              "      border-color: transparent;\n",
              "      border-bottom-color: var(--fill-color);\n",
              "    }\n",
              "  }\n",
              "</style>\n",
              "\n",
              "  <script>\n",
              "    async function quickchart(key) {\n",
              "      const quickchartButtonEl =\n",
              "        document.querySelector('#' + key + ' button');\n",
              "      quickchartButtonEl.disabled = true;  // To prevent multiple clicks.\n",
              "      quickchartButtonEl.classList.add('colab-df-spinner');\n",
              "      try {\n",
              "        const charts = await google.colab.kernel.invokeFunction(\n",
              "            'suggestCharts', [key], {});\n",
              "      } catch (error) {\n",
              "        console.error('Error during call to suggestCharts:', error);\n",
              "      }\n",
              "      quickchartButtonEl.classList.remove('colab-df-spinner');\n",
              "      quickchartButtonEl.classList.add('colab-df-quickchart-complete');\n",
              "    }\n",
              "    (() => {\n",
              "      let quickchartButtonEl =\n",
              "        document.querySelector('#df-481b61f7-f2c1-492a-b93b-26a2da76cc2a button');\n",
              "      quickchartButtonEl.style.display =\n",
              "        google.colab.kernel.accessAllowed ? 'block' : 'none';\n",
              "    })();\n",
              "  </script>\n",
              "</div>\n",
              "    </div>\n",
              "  </div>\n"
            ]
          },
          "metadata": {},
          "execution_count": 39
        }
      ]
    },
    {
      "cell_type": "code",
      "source": [
        "# Проверяем количество строк\n",
        "print(len(os.listdir(my_drv_path + 'media108.ru/Датасет/Whisper-транскрибация записей звонков/Расшифровки_Записи звонков_хедлайнер')))\n",
        "print(Headliner_transcriptions_df.shape[0])"
      ],
      "metadata": {
        "colab": {
          "base_uri": "https://localhost:8080/"
        },
        "outputId": "a0b8d733-d7ee-47cf-9db7-202c46a08f86",
        "id": "DhitwfXDCInc"
      },
      "execution_count": null,
      "outputs": [
        {
          "output_type": "stream",
          "name": "stdout",
          "text": [
            "2055\n",
            "2055\n"
          ]
        }
      ]
    },
    {
      "cell_type": "code",
      "source": [
        "print(Headliner_transcriptions_df.count())"
      ],
      "metadata": {
        "colab": {
          "base_uri": "https://localhost:8080/"
        },
        "outputId": "5636d484-7567-4cfa-d812-7b3652274df5",
        "id": "LtiNGG6iCIno"
      },
      "execution_count": null,
      "outputs": [
        {
          "output_type": "stream",
          "name": "stdout",
          "text": [
            "Дата и время                                2055\n",
            "Номер абонента                              2055\n",
            "Номер сотрудника                            2055\n",
            "Идентификатор сессии звонка                 2055\n",
            "Файл whisper-транскрибации записи звонка    2055\n",
            "dtype: int64\n"
          ]
        }
      ]
    },
    {
      "cell_type": "code",
      "source": [
        "# Количество уникальных значений столбца 'Идентификатор сессии звонка'\n",
        "Headliner_transcriptions_df['Идентификатор сессии звонка'].nunique()"
      ],
      "metadata": {
        "colab": {
          "base_uri": "https://localhost:8080/"
        },
        "id": "wuHvyMiLludB",
        "outputId": "9ad70392-b644-41cd-9e2b-77af7e37783a"
      },
      "execution_count": null,
      "outputs": [
        {
          "output_type": "execute_result",
          "data": {
            "text/plain": [
              "2045"
            ]
          },
          "metadata": {},
          "execution_count": 42
        }
      ]
    },
    {
      "cell_type": "code",
      "source": [
        "# Количество дубликатов в столбце 'Идентификатор сессии звонка'\n",
        "print(Headliner_transcriptions_df[Headliner_transcriptions_df['Идентификатор сессии звонка'].duplicated(keep='last')].shape[0])\n",
        "print(Headliner_transcriptions_df[Headliner_transcriptions_df['Идентификатор сессии звонка'].duplicated()].shape[0])"
      ],
      "metadata": {
        "colab": {
          "base_uri": "https://localhost:8080/"
        },
        "id": "SrI2WVWxl8wf",
        "outputId": "bc0589ce-2926-402d-eb8a-41de9de517ec"
      },
      "execution_count": null,
      "outputs": [
        {
          "output_type": "stream",
          "name": "stdout",
          "text": [
            "10\n",
            "10\n"
          ]
        }
      ]
    },
    {
      "cell_type": "code",
      "source": [
        "# Удаляем дубликаты\n",
        "Headliner_transcriptions_df = Headliner_transcriptions_df.drop_duplicates(subset=['Идентификатор сессии звонка'])\n",
        "Headliner_transcriptions_df.shape"
      ],
      "metadata": {
        "colab": {
          "base_uri": "https://localhost:8080/"
        },
        "id": "5ZhbWJQdmLZO",
        "outputId": "55b6e23f-33c1-4340-d7ef-a4a3f6b98368"
      },
      "execution_count": null,
      "outputs": [
        {
          "output_type": "execute_result",
          "data": {
            "text/plain": [
              "(2045, 5)"
            ]
          },
          "metadata": {},
          "execution_count": 44
        }
      ]
    },
    {
      "cell_type": "markdown",
      "source": [
        "#### Предобработка"
      ],
      "metadata": {
        "id": "zfUr1BD9CInp"
      }
    },
    {
      "cell_type": "markdown",
      "source": [
        "##### 0. Дата и время"
      ],
      "metadata": {
        "id": "7cmY0IvwCInp"
      }
    },
    {
      "cell_type": "code",
      "source": [
        "Headliner_transcriptions_df['Дата и время'].head()"
      ],
      "metadata": {
        "colab": {
          "base_uri": "https://localhost:8080/"
        },
        "outputId": "8a57fcba-77af-4012-e148-df2ee7806e2c",
        "id": "sR7fR5cMCInq"
      },
      "execution_count": null,
      "outputs": [
        {
          "output_type": "execute_result",
          "data": {
            "text/plain": [
              "0    2023-06-13 16:34:55\n",
              "1    2023-06-13 16:38:19\n",
              "2    2023-06-13 16:38:32\n",
              "3    2023-06-13 16:41:01\n",
              "4    2023-06-13 16:41:49\n",
              "Name: Дата и время, dtype: object"
            ]
          },
          "metadata": {},
          "execution_count": 45
        }
      ]
    },
    {
      "cell_type": "code",
      "source": [
        "# Приводим тип данных столбца 'Дата и время'\n",
        "Headliner_transcriptions_df['Дата и время'] = pd.to_datetime(Headliner_transcriptions_df['Дата и время'])"
      ],
      "metadata": {
        "id": "RdIwkgk2CInr"
      },
      "execution_count": null,
      "outputs": []
    },
    {
      "cell_type": "code",
      "source": [
        "Headliner_transcriptions_df['Дата и время'].tail()"
      ],
      "metadata": {
        "colab": {
          "base_uri": "https://localhost:8080/"
        },
        "outputId": "edb189da-a2fa-48e0-8788-d4541c1e34cb",
        "id": "NiqheaUsCInr"
      },
      "execution_count": null,
      "outputs": [
        {
          "output_type": "execute_result",
          "data": {
            "text/plain": [
              "2050   2023-05-10 16:20:53\n",
              "2051   2023-05-10 16:37:24\n",
              "2052   2023-05-10 16:38:14\n",
              "2053   2023-05-10 17:01:06\n",
              "2054   2023-05-10 17:09:20\n",
              "Name: Дата и время, dtype: datetime64[ns]"
            ]
          },
          "metadata": {},
          "execution_count": 47
        }
      ]
    },
    {
      "cell_type": "markdown",
      "source": [
        "##### 1. Номер абонента"
      ],
      "metadata": {
        "id": "T-LYA8WTCInt"
      }
    },
    {
      "cell_type": "code",
      "source": [
        "Headliner_transcriptions_df['Номер абонента'].head()"
      ],
      "metadata": {
        "colab": {
          "base_uri": "https://localhost:8080/"
        },
        "outputId": "35dcf3c7-d510-4f55-9368-2a9dc9a1326f",
        "id": "GURZ9IdWCInv"
      },
      "execution_count": null,
      "outputs": [
        {
          "output_type": "execute_result",
          "data": {
            "text/plain": [
              "0    79253130521\n",
              "1    79854420972\n",
              "2    79010377117\n",
              "3    79067578107\n",
              "4    79067578107\n",
              "Name: Номер абонента, dtype: object"
            ]
          },
          "metadata": {},
          "execution_count": 48
        }
      ]
    },
    {
      "cell_type": "code",
      "source": [
        "# Приводим тип данных столбца 'Номер абонента'\n",
        "Headliner_transcriptions_df = Headliner_transcriptions_df.astype({'Номер абонента': int})"
      ],
      "metadata": {
        "id": "Swh4o-jDCInv"
      },
      "execution_count": null,
      "outputs": []
    },
    {
      "cell_type": "code",
      "source": [
        "Headliner_transcriptions_df['Номер абонента'].tail()"
      ],
      "metadata": {
        "colab": {
          "base_uri": "https://localhost:8080/"
        },
        "outputId": "fb0dbe55-27e5-496b-ceda-b6630cc78d40",
        "id": "imv64LTWCInw"
      },
      "execution_count": null,
      "outputs": [
        {
          "output_type": "execute_result",
          "data": {
            "text/plain": [
              "2050    79255171260\n",
              "2051    79858802739\n",
              "2052    79858802739\n",
              "2053    79851934089\n",
              "2054    79967109300\n",
              "Name: Номер абонента, dtype: int64"
            ]
          },
          "metadata": {},
          "execution_count": 50
        }
      ]
    },
    {
      "cell_type": "markdown",
      "source": [
        "##### 2. Номер сотрудника"
      ],
      "metadata": {
        "id": "ddqXX4HKCInw"
      }
    },
    {
      "cell_type": "code",
      "source": [
        "Headliner_transcriptions_df['Номер сотрудника'].head()"
      ],
      "metadata": {
        "colab": {
          "base_uri": "https://localhost:8080/"
        },
        "outputId": "b76e1afc-2119-4092-9577-a93ae5b5b019",
        "id": "O4Z9QknuCInx"
      },
      "execution_count": null,
      "outputs": [
        {
          "output_type": "execute_result",
          "data": {
            "text/plain": [
              "0        0188880\n",
              "1        0188880\n",
              "2    74959339902\n",
              "3        0188880\n",
              "4        0188880\n",
              "Name: Номер сотрудника, dtype: object"
            ]
          },
          "metadata": {},
          "execution_count": 51
        }
      ]
    },
    {
      "cell_type": "code",
      "source": [
        "# Приводим тип данных столбца 'Номер сотрудника'\n",
        "Headliner_transcriptions_df = Headliner_transcriptions_df.astype({'Номер сотрудника': int})"
      ],
      "metadata": {
        "id": "a6R2aNZ8CIny"
      },
      "execution_count": null,
      "outputs": []
    },
    {
      "cell_type": "code",
      "source": [
        "Headliner_transcriptions_df['Номер сотрудника'].tail()"
      ],
      "metadata": {
        "colab": {
          "base_uri": "https://localhost:8080/"
        },
        "outputId": "a2122cd3-dd89-4e39-c309-5ce6eedca1b3",
        "id": "UNkuo5mBCIn-"
      },
      "execution_count": null,
      "outputs": [
        {
          "output_type": "execute_result",
          "data": {
            "text/plain": [
              "2050    79191089861\n",
              "2051    79191089861\n",
              "2052         188880\n",
              "2053         188880\n",
              "2054    74957898990\n",
              "Name: Номер сотрудника, dtype: int64"
            ]
          },
          "metadata": {},
          "execution_count": 53
        }
      ]
    },
    {
      "cell_type": "markdown",
      "source": [
        "##### 3. Идентификатор сессии звонка"
      ],
      "metadata": {
        "id": "-ihLQnTWCIn_"
      }
    },
    {
      "cell_type": "code",
      "source": [
        "Headliner_transcriptions_df['Идентификатор сессии звонка'].head()"
      ],
      "metadata": {
        "colab": {
          "base_uri": "https://localhost:8080/"
        },
        "outputId": "708af87a-781f-440a-e894-fd0c3b97c7a9",
        "id": "7BWccZe2CIn_"
      },
      "execution_count": null,
      "outputs": [
        {
          "output_type": "execute_result",
          "data": {
            "text/plain": [
              "0    3020550704\n",
              "1    3001367639\n",
              "2    2983982802\n",
              "3    3002111697\n",
              "4    3002112889\n",
              "Name: Идентификатор сессии звонка, dtype: object"
            ]
          },
          "metadata": {},
          "execution_count": 54
        }
      ]
    },
    {
      "cell_type": "code",
      "source": [
        "# Приводим тип данных столбца 'Идентификатор сессии звонка'\n",
        "Headliner_transcriptions_df = Headliner_transcriptions_df.astype({'Идентификатор сессии звонка': int})"
      ],
      "metadata": {
        "id": "NFRyQbZUCIoA"
      },
      "execution_count": null,
      "outputs": []
    },
    {
      "cell_type": "code",
      "source": [
        "Headliner_transcriptions_df['Идентификатор сессии звонка'].tail()"
      ],
      "metadata": {
        "colab": {
          "base_uri": "https://localhost:8080/"
        },
        "outputId": "b2edd3ca-0459-485f-9c77-d1f277eaa102",
        "id": "SZuPnVaJCIoB"
      },
      "execution_count": null,
      "outputs": [
        {
          "output_type": "execute_result",
          "data": {
            "text/plain": [
              "2050    2941971856\n",
              "2051    2942032676\n",
              "2052    2932306781\n",
              "2053    2942121396\n",
              "2054    2931817291\n",
              "Name: Идентификатор сессии звонка, dtype: int64"
            ]
          },
          "metadata": {},
          "execution_count": 56
        }
      ]
    },
    {
      "cell_type": "markdown",
      "source": [
        "##### 4. Файл whisper-транскрибации записи звонка"
      ],
      "metadata": {
        "id": "W_VNetFVCIoC"
      }
    },
    {
      "cell_type": "code",
      "source": [
        "Headliner_transcriptions_df['Файл whisper-транскрибации записи звонка'].head()"
      ],
      "metadata": {
        "colab": {
          "base_uri": "https://localhost:8080/"
        },
        "outputId": "38bf3a61-1d44-4281-e6d2-1a30ee17e0ac",
        "id": "7gCYjKOHCIoE"
      },
      "execution_count": null,
      "outputs": [
        {
          "output_type": "execute_result",
          "data": {
            "text/plain": [
              "0        2023-06-13_16-34-55.323535_from_79253130521_to_0188880_session_3020550704_talk_whisper_large.txt\n",
              "1        2023-06-13_16-38-19.167809_from_79854420972_to_0188880_session_3001367639_talk_whisper_large.txt\n",
              "2    2023-06-13_16-38-32.031681_from_79010377117_to_74959339902_session_2983982802_talk_whisper_large.txt\n",
              "3        2023-06-13_16-41-01.418697_from_79067578107_to_0188880_session_3002111697_talk_whisper_large.txt\n",
              "4        2023-06-13_16-41-49.321187_from_79067578107_to_0188880_session_3002112889_talk_whisper_large.txt\n",
              "Name: Файл whisper-транскрибации записи звонка, dtype: object"
            ]
          },
          "metadata": {},
          "execution_count": 57
        }
      ]
    },
    {
      "cell_type": "code",
      "source": [
        "# Добавляем к файлам относительные пути\n",
        "Headliner_transcriptions_df['Файл whisper-транскрибации записи звонка'] = Headliner_transcriptions_df['Файл whisper-транскрибации записи звонка'].apply(lambda x: 'Whisper-транскрибация записей звонков/Расшифровки_Записи звонков_хедлайнер/' + x)"
      ],
      "metadata": {
        "id": "7p5GW4SsCIoF"
      },
      "execution_count": null,
      "outputs": []
    },
    {
      "cell_type": "code",
      "source": [
        "Headliner_transcriptions_df['Файл whisper-транскрибации записи звонка'].tail()"
      ],
      "metadata": {
        "colab": {
          "base_uri": "https://localhost:8080/"
        },
        "outputId": "c1a961d8-50a0-4d66-f6b2-c4f24359f44d",
        "id": "UCj52_YsCIoF"
      },
      "execution_count": null,
      "outputs": [
        {
          "output_type": "execute_result",
          "data": {
            "text/plain": [
              "2050    Whisper-транскрибация записей звонков/Расшифровки_Записи звонков_хедлайнер/2023-05-10_16-20-53.098963_from_79255171260_to_79191089861_session_2941971856_talk_whisper_large.txt\n",
              "2051    Whisper-транскрибация записей звонков/Расшифровки_Записи звонков_хедлайнер/2023-05-10_16-37-24.862983_from_79858802739_to_79191089861_session_2942032676_talk_whisper_large.txt\n",
              "2052        Whisper-транскрибация записей звонков/Расшифровки_Записи звонков_хедлайнер/2023-05-10_16-38-14.627043_from_79858802739_to_0188880_session_2932306781_talk_whisper_large.txt\n",
              "2053        Whisper-транскрибация записей звонков/Расшифровки_Записи звонков_хедлайнер/2023-05-10_17-01-06.149864_from_79851934089_to_0188880_session_2942121396_talk_whisper_large.txt\n",
              "2054    Whisper-транскрибация записей звонков/Расшифровки_Записи звонков_хедлайнер/2023-05-10_17-09-20.138948_from_79967109300_to_74957898990_session_2931817291_talk_whisper_large.txt\n",
              "Name: Файл whisper-транскрибации записи звонка, dtype: object"
            ]
          },
          "metadata": {},
          "execution_count": 59
        }
      ]
    },
    {
      "cell_type": "markdown",
      "source": [
        "##### 5. Текст whisper-транскрибации записи звонка"
      ],
      "metadata": {
        "id": "AudXiLZpXdsW"
      }
    },
    {
      "cell_type": "code",
      "source": [
        "# Добавляем столбец 'Текст whisper-транскрибации записи звонка'\n",
        "Headliner_transcriptions_df['Текст whisper-транскрибации записи звонка'] = 'нет текста транскрибации звонка'\n",
        "Headliner_transcriptions_df.head()"
      ],
      "metadata": {
        "colab": {
          "base_uri": "https://localhost:8080/",
          "height": 310
        },
        "id": "8bHMPW39Xk0V",
        "outputId": "52a68f84-6352-4568-a6e0-6d93de3a5034"
      },
      "execution_count": null,
      "outputs": [
        {
          "output_type": "execute_result",
          "data": {
            "text/plain": [
              "         Дата и время  Номер абонента  Номер сотрудника  \\\n",
              "0 2023-06-13 16:34:55     79253130521            188880   \n",
              "1 2023-06-13 16:38:19     79854420972            188880   \n",
              "2 2023-06-13 16:38:32     79010377117       74959339902   \n",
              "3 2023-06-13 16:41:01     79067578107            188880   \n",
              "4 2023-06-13 16:41:49     79067578107            188880   \n",
              "\n",
              "   Идентификатор сессии звонка  \\\n",
              "0                   3020550704   \n",
              "1                   3001367639   \n",
              "2                   2983982802   \n",
              "3                   3002111697   \n",
              "4                   3002112889   \n",
              "\n",
              "                                                                                                                                           Файл whisper-транскрибации записи звонка  \\\n",
              "0      Whisper-транскрибация записей звонков/Расшифровки_Записи звонков_хедлайнер/2023-06-13_16-34-55.323535_from_79253130521_to_0188880_session_3020550704_talk_whisper_large.txt   \n",
              "1      Whisper-транскрибация записей звонков/Расшифровки_Записи звонков_хедлайнер/2023-06-13_16-38-19.167809_from_79854420972_to_0188880_session_3001367639_talk_whisper_large.txt   \n",
              "2  Whisper-транскрибация записей звонков/Расшифровки_Записи звонков_хедлайнер/2023-06-13_16-38-32.031681_from_79010377117_to_74959339902_session_2983982802_talk_whisper_large.txt   \n",
              "3      Whisper-транскрибация записей звонков/Расшифровки_Записи звонков_хедлайнер/2023-06-13_16-41-01.418697_from_79067578107_to_0188880_session_3002111697_talk_whisper_large.txt   \n",
              "4      Whisper-транскрибация записей звонков/Расшифровки_Записи звонков_хедлайнер/2023-06-13_16-41-49.321187_from_79067578107_to_0188880_session_3002112889_talk_whisper_large.txt   \n",
              "\n",
              "  Текст whisper-транскрибации записи звонка  \n",
              "0           нет текста транскрибации звонка  \n",
              "1           нет текста транскрибации звонка  \n",
              "2           нет текста транскрибации звонка  \n",
              "3           нет текста транскрибации звонка  \n",
              "4           нет текста транскрибации звонка  "
            ],
            "text/html": [
              "\n",
              "  <div id=\"df-eb45f878-7e1d-4de0-a63e-0dfb891dd7b4\" class=\"colab-df-container\">\n",
              "    <div>\n",
              "<style scoped>\n",
              "    .dataframe tbody tr th:only-of-type {\n",
              "        vertical-align: middle;\n",
              "    }\n",
              "\n",
              "    .dataframe tbody tr th {\n",
              "        vertical-align: top;\n",
              "    }\n",
              "\n",
              "    .dataframe thead th {\n",
              "        text-align: right;\n",
              "    }\n",
              "</style>\n",
              "<table border=\"1\" class=\"dataframe\">\n",
              "  <thead>\n",
              "    <tr style=\"text-align: right;\">\n",
              "      <th></th>\n",
              "      <th>Дата и время</th>\n",
              "      <th>Номер абонента</th>\n",
              "      <th>Номер сотрудника</th>\n",
              "      <th>Идентификатор сессии звонка</th>\n",
              "      <th>Файл whisper-транскрибации записи звонка</th>\n",
              "      <th>Текст whisper-транскрибации записи звонка</th>\n",
              "    </tr>\n",
              "  </thead>\n",
              "  <tbody>\n",
              "    <tr>\n",
              "      <th>0</th>\n",
              "      <td>2023-06-13 16:34:55</td>\n",
              "      <td>79253130521</td>\n",
              "      <td>188880</td>\n",
              "      <td>3020550704</td>\n",
              "      <td>Whisper-транскрибация записей звонков/Расшифровки_Записи звонков_хедлайнер/2023-06-13_16-34-55.323535_from_79253130521_to_0188880_session_3020550704_talk_whisper_large.txt</td>\n",
              "      <td>нет текста транскрибации звонка</td>\n",
              "    </tr>\n",
              "    <tr>\n",
              "      <th>1</th>\n",
              "      <td>2023-06-13 16:38:19</td>\n",
              "      <td>79854420972</td>\n",
              "      <td>188880</td>\n",
              "      <td>3001367639</td>\n",
              "      <td>Whisper-транскрибация записей звонков/Расшифровки_Записи звонков_хедлайнер/2023-06-13_16-38-19.167809_from_79854420972_to_0188880_session_3001367639_talk_whisper_large.txt</td>\n",
              "      <td>нет текста транскрибации звонка</td>\n",
              "    </tr>\n",
              "    <tr>\n",
              "      <th>2</th>\n",
              "      <td>2023-06-13 16:38:32</td>\n",
              "      <td>79010377117</td>\n",
              "      <td>74959339902</td>\n",
              "      <td>2983982802</td>\n",
              "      <td>Whisper-транскрибация записей звонков/Расшифровки_Записи звонков_хедлайнер/2023-06-13_16-38-32.031681_from_79010377117_to_74959339902_session_2983982802_talk_whisper_large.txt</td>\n",
              "      <td>нет текста транскрибации звонка</td>\n",
              "    </tr>\n",
              "    <tr>\n",
              "      <th>3</th>\n",
              "      <td>2023-06-13 16:41:01</td>\n",
              "      <td>79067578107</td>\n",
              "      <td>188880</td>\n",
              "      <td>3002111697</td>\n",
              "      <td>Whisper-транскрибация записей звонков/Расшифровки_Записи звонков_хедлайнер/2023-06-13_16-41-01.418697_from_79067578107_to_0188880_session_3002111697_talk_whisper_large.txt</td>\n",
              "      <td>нет текста транскрибации звонка</td>\n",
              "    </tr>\n",
              "    <tr>\n",
              "      <th>4</th>\n",
              "      <td>2023-06-13 16:41:49</td>\n",
              "      <td>79067578107</td>\n",
              "      <td>188880</td>\n",
              "      <td>3002112889</td>\n",
              "      <td>Whisper-транскрибация записей звонков/Расшифровки_Записи звонков_хедлайнер/2023-06-13_16-41-49.321187_from_79067578107_to_0188880_session_3002112889_talk_whisper_large.txt</td>\n",
              "      <td>нет текста транскрибации звонка</td>\n",
              "    </tr>\n",
              "  </tbody>\n",
              "</table>\n",
              "</div>\n",
              "    <div class=\"colab-df-buttons\">\n",
              "\n",
              "  <div class=\"colab-df-container\">\n",
              "    <button class=\"colab-df-convert\" onclick=\"convertToInteractive('df-eb45f878-7e1d-4de0-a63e-0dfb891dd7b4')\"\n",
              "            title=\"Convert this dataframe to an interactive table.\"\n",
              "            style=\"display:none;\">\n",
              "\n",
              "  <svg xmlns=\"http://www.w3.org/2000/svg\" height=\"24px\" viewBox=\"0 -960 960 960\">\n",
              "    <path d=\"M120-120v-720h720v720H120Zm60-500h600v-160H180v160Zm220 220h160v-160H400v160Zm0 220h160v-160H400v160ZM180-400h160v-160H180v160Zm440 0h160v-160H620v160ZM180-180h160v-160H180v160Zm440 0h160v-160H620v160Z\"/>\n",
              "  </svg>\n",
              "    </button>\n",
              "\n",
              "  <style>\n",
              "    .colab-df-container {\n",
              "      display:flex;\n",
              "      gap: 12px;\n",
              "    }\n",
              "\n",
              "    .colab-df-convert {\n",
              "      background-color: #E8F0FE;\n",
              "      border: none;\n",
              "      border-radius: 50%;\n",
              "      cursor: pointer;\n",
              "      display: none;\n",
              "      fill: #1967D2;\n",
              "      height: 32px;\n",
              "      padding: 0 0 0 0;\n",
              "      width: 32px;\n",
              "    }\n",
              "\n",
              "    .colab-df-convert:hover {\n",
              "      background-color: #E2EBFA;\n",
              "      box-shadow: 0px 1px 2px rgba(60, 64, 67, 0.3), 0px 1px 3px 1px rgba(60, 64, 67, 0.15);\n",
              "      fill: #174EA6;\n",
              "    }\n",
              "\n",
              "    .colab-df-buttons div {\n",
              "      margin-bottom: 4px;\n",
              "    }\n",
              "\n",
              "    [theme=dark] .colab-df-convert {\n",
              "      background-color: #3B4455;\n",
              "      fill: #D2E3FC;\n",
              "    }\n",
              "\n",
              "    [theme=dark] .colab-df-convert:hover {\n",
              "      background-color: #434B5C;\n",
              "      box-shadow: 0px 1px 3px 1px rgba(0, 0, 0, 0.15);\n",
              "      filter: drop-shadow(0px 1px 2px rgba(0, 0, 0, 0.3));\n",
              "      fill: #FFFFFF;\n",
              "    }\n",
              "  </style>\n",
              "\n",
              "    <script>\n",
              "      const buttonEl =\n",
              "        document.querySelector('#df-eb45f878-7e1d-4de0-a63e-0dfb891dd7b4 button.colab-df-convert');\n",
              "      buttonEl.style.display =\n",
              "        google.colab.kernel.accessAllowed ? 'block' : 'none';\n",
              "\n",
              "      async function convertToInteractive(key) {\n",
              "        const element = document.querySelector('#df-eb45f878-7e1d-4de0-a63e-0dfb891dd7b4');\n",
              "        const dataTable =\n",
              "          await google.colab.kernel.invokeFunction('convertToInteractive',\n",
              "                                                    [key], {});\n",
              "        if (!dataTable) return;\n",
              "\n",
              "        const docLinkHtml = 'Like what you see? Visit the ' +\n",
              "          '<a target=\"_blank\" href=https://colab.research.google.com/notebooks/data_table.ipynb>data table notebook</a>'\n",
              "          + ' to learn more about interactive tables.';\n",
              "        element.innerHTML = '';\n",
              "        dataTable['output_type'] = 'display_data';\n",
              "        await google.colab.output.renderOutput(dataTable, element);\n",
              "        const docLink = document.createElement('div');\n",
              "        docLink.innerHTML = docLinkHtml;\n",
              "        element.appendChild(docLink);\n",
              "      }\n",
              "    </script>\n",
              "  </div>\n",
              "\n",
              "\n",
              "<div id=\"df-26645295-0e61-4185-b87d-ce9655bf787a\">\n",
              "  <button class=\"colab-df-quickchart\" onclick=\"quickchart('df-26645295-0e61-4185-b87d-ce9655bf787a')\"\n",
              "            title=\"Suggest charts\"\n",
              "            style=\"display:none;\">\n",
              "\n",
              "<svg xmlns=\"http://www.w3.org/2000/svg\" height=\"24px\"viewBox=\"0 0 24 24\"\n",
              "     width=\"24px\">\n",
              "    <g>\n",
              "        <path d=\"M19 3H5c-1.1 0-2 .9-2 2v14c0 1.1.9 2 2 2h14c1.1 0 2-.9 2-2V5c0-1.1-.9-2-2-2zM9 17H7v-7h2v7zm4 0h-2V7h2v10zm4 0h-2v-4h2v4z\"/>\n",
              "    </g>\n",
              "</svg>\n",
              "  </button>\n",
              "\n",
              "<style>\n",
              "  .colab-df-quickchart {\n",
              "      --bg-color: #E8F0FE;\n",
              "      --fill-color: #1967D2;\n",
              "      --hover-bg-color: #E2EBFA;\n",
              "      --hover-fill-color: #174EA6;\n",
              "      --disabled-fill-color: #AAA;\n",
              "      --disabled-bg-color: #DDD;\n",
              "  }\n",
              "\n",
              "  [theme=dark] .colab-df-quickchart {\n",
              "      --bg-color: #3B4455;\n",
              "      --fill-color: #D2E3FC;\n",
              "      --hover-bg-color: #434B5C;\n",
              "      --hover-fill-color: #FFFFFF;\n",
              "      --disabled-bg-color: #3B4455;\n",
              "      --disabled-fill-color: #666;\n",
              "  }\n",
              "\n",
              "  .colab-df-quickchart {\n",
              "    background-color: var(--bg-color);\n",
              "    border: none;\n",
              "    border-radius: 50%;\n",
              "    cursor: pointer;\n",
              "    display: none;\n",
              "    fill: var(--fill-color);\n",
              "    height: 32px;\n",
              "    padding: 0;\n",
              "    width: 32px;\n",
              "  }\n",
              "\n",
              "  .colab-df-quickchart:hover {\n",
              "    background-color: var(--hover-bg-color);\n",
              "    box-shadow: 0 1px 2px rgba(60, 64, 67, 0.3), 0 1px 3px 1px rgba(60, 64, 67, 0.15);\n",
              "    fill: var(--button-hover-fill-color);\n",
              "  }\n",
              "\n",
              "  .colab-df-quickchart-complete:disabled,\n",
              "  .colab-df-quickchart-complete:disabled:hover {\n",
              "    background-color: var(--disabled-bg-color);\n",
              "    fill: var(--disabled-fill-color);\n",
              "    box-shadow: none;\n",
              "  }\n",
              "\n",
              "  .colab-df-spinner {\n",
              "    border: 2px solid var(--fill-color);\n",
              "    border-color: transparent;\n",
              "    border-bottom-color: var(--fill-color);\n",
              "    animation:\n",
              "      spin 1s steps(1) infinite;\n",
              "  }\n",
              "\n",
              "  @keyframes spin {\n",
              "    0% {\n",
              "      border-color: transparent;\n",
              "      border-bottom-color: var(--fill-color);\n",
              "      border-left-color: var(--fill-color);\n",
              "    }\n",
              "    20% {\n",
              "      border-color: transparent;\n",
              "      border-left-color: var(--fill-color);\n",
              "      border-top-color: var(--fill-color);\n",
              "    }\n",
              "    30% {\n",
              "      border-color: transparent;\n",
              "      border-left-color: var(--fill-color);\n",
              "      border-top-color: var(--fill-color);\n",
              "      border-right-color: var(--fill-color);\n",
              "    }\n",
              "    40% {\n",
              "      border-color: transparent;\n",
              "      border-right-color: var(--fill-color);\n",
              "      border-top-color: var(--fill-color);\n",
              "    }\n",
              "    60% {\n",
              "      border-color: transparent;\n",
              "      border-right-color: var(--fill-color);\n",
              "    }\n",
              "    80% {\n",
              "      border-color: transparent;\n",
              "      border-right-color: var(--fill-color);\n",
              "      border-bottom-color: var(--fill-color);\n",
              "    }\n",
              "    90% {\n",
              "      border-color: transparent;\n",
              "      border-bottom-color: var(--fill-color);\n",
              "    }\n",
              "  }\n",
              "</style>\n",
              "\n",
              "  <script>\n",
              "    async function quickchart(key) {\n",
              "      const quickchartButtonEl =\n",
              "        document.querySelector('#' + key + ' button');\n",
              "      quickchartButtonEl.disabled = true;  // To prevent multiple clicks.\n",
              "      quickchartButtonEl.classList.add('colab-df-spinner');\n",
              "      try {\n",
              "        const charts = await google.colab.kernel.invokeFunction(\n",
              "            'suggestCharts', [key], {});\n",
              "      } catch (error) {\n",
              "        console.error('Error during call to suggestCharts:', error);\n",
              "      }\n",
              "      quickchartButtonEl.classList.remove('colab-df-spinner');\n",
              "      quickchartButtonEl.classList.add('colab-df-quickchart-complete');\n",
              "    }\n",
              "    (() => {\n",
              "      let quickchartButtonEl =\n",
              "        document.querySelector('#df-26645295-0e61-4185-b87d-ce9655bf787a button');\n",
              "      quickchartButtonEl.style.display =\n",
              "        google.colab.kernel.accessAllowed ? 'block' : 'none';\n",
              "    })();\n",
              "  </script>\n",
              "</div>\n",
              "    </div>\n",
              "  </div>\n"
            ]
          },
          "metadata": {},
          "execution_count": 60
        }
      ]
    },
    {
      "cell_type": "code",
      "source": [
        "for row in Headliner_transcriptions_df.index:\n",
        "  with open(my_drv_path + 'media108.ru/Датасет/' + Headliner_transcriptions_df.loc[row, ['Файл whisper-транскрибации записи звонка']].values[0], 'rb') as f:\n",
        "    contents = f.read()\n",
        "  Headliner_transcriptions_df.loc[row, ['Текст whisper-транскрибации записи звонка']] = contents.decode('utf-16').strip()"
      ],
      "metadata": {
        "id": "Nq-GT5t-YY05"
      },
      "execution_count": null,
      "outputs": []
    },
    {
      "cell_type": "code",
      "source": [
        "Headliner_transcriptions_df['Текст whisper-транскрибации записи звонка'].head()"
      ],
      "metadata": {
        "colab": {
          "base_uri": "https://localhost:8080/"
        },
        "id": "Q4C17PaHbMlr",
        "outputId": "da1c1396-749c-4f73-e679-81bd6ad2978e"
      },
      "execution_count": null,
      "outputs": [
        {
          "output_type": "execute_result",
          "data": {
            "text/plain": [
              "0                                                                                                                                                              Здравствуйте, вы позвонили в группу компании Корт Роуз. Благодарим вас за звонок. Пожалуйста дождитесь ответа оператора. Группа компании Корт Роуз, меня зовут Елена, здравствуйте. Елена, добрый день. Меня зовут Кирилл, мы соединились с вами. Мы ищем коммерческую недвижимость. И недвижимость, соответственно, в... Прошу прощения.\n",
              "1                                                                                                                                                                                                                                                                                                                                      Здравствуйте, вы позвонили в группу компании «Картрос». Благодарим вас за звонок. Пожалуйста, дождитесь ответа оператора. Вы получили ответ. Продолжение следует.\n",
              "2                                                                                                                                                                                                                                                                                                                                                                              Здравствуйте, вы позвонили в группу компании «Контрол». Благодарим вас за звонок. Пожалуйста, дождитесь ответа оператора.\n",
              "3                                                                                                                                                                                                                                                                                                                                                                              Здравствуйте, вы позвонили в группу компании «Картроф». Благодарим вас за звонок. Пожалуйста, дождитесь ответа оператора.\n",
              "4    Здравствуйте, вы позвонили в группу компании «Картрофт». Благодарим вас за звонок. Пожалуйста, дождитесь ответа оператора. Жилой комплекс «Хедлайнер», меня зовут Елена, здравствуйте. Елена, добрый день, следите, пожалуйста, за парадоксом. Как вас зовут? Антон. Антон, оставайтесь, пожалуйста, на линии, соединяю вас. Алло, Антон, здравствуйте, меня зовут Влада, менеджер проекта «Хедлайнер». Чем могу помочь вам? Ладно, добрый день, ты молодец, спасибо большое. Ага, хорошо, спасибо.\n",
              "Name: Текст whisper-транскрибации записи звонка, dtype: object"
            ]
          },
          "metadata": {},
          "execution_count": 62
        }
      ]
    },
    {
      "cell_type": "markdown",
      "source": [
        "#### Типы данных"
      ],
      "metadata": {
        "id": "tEF2twPbCIoF"
      }
    },
    {
      "cell_type": "code",
      "source": [
        "# Смотрим типы данных\n",
        "Headliner_transcriptions_df.dtypes"
      ],
      "metadata": {
        "colab": {
          "base_uri": "https://localhost:8080/"
        },
        "outputId": "7ec533c3-ecea-4c01-86d5-f2b5cfe364ba",
        "id": "Dn4JEO_jCIoF"
      },
      "execution_count": null,
      "outputs": [
        {
          "output_type": "execute_result",
          "data": {
            "text/plain": [
              "Дата и время                                 datetime64[ns]\n",
              "Номер абонента                                        int64\n",
              "Номер сотрудника                                      int64\n",
              "Идентификатор сессии звонка                           int64\n",
              "Файл whisper-транскрибации записи звонка             object\n",
              "Текст whisper-транскрибации записи звонка            object\n",
              "dtype: object"
            ]
          },
          "metadata": {},
          "execution_count": 63
        }
      ]
    },
    {
      "cell_type": "code",
      "source": [
        "print(Headliner_transcriptions_df.count())"
      ],
      "metadata": {
        "colab": {
          "base_uri": "https://localhost:8080/"
        },
        "outputId": "16914c6a-92cc-4d91-a108-199b6c809e5e",
        "id": "NK9q4S1gCIoG"
      },
      "execution_count": null,
      "outputs": [
        {
          "output_type": "stream",
          "name": "stdout",
          "text": [
            "Дата и время                                 2045\n",
            "Номер абонента                               2045\n",
            "Номер сотрудника                             2045\n",
            "Идентификатор сессии звонка                  2045\n",
            "Файл whisper-транскрибации записи звонка     2045\n",
            "Текст whisper-транскрибации записи звонка    2045\n",
            "dtype: int64\n"
          ]
        }
      ]
    },
    {
      "cell_type": "markdown",
      "source": [
        "#### Сохранение датафрейма"
      ],
      "metadata": {
        "id": "hGgjtDmiCIoH"
      }
    },
    {
      "cell_type": "code",
      "source": [
        "# Сохраняем Headliner_transcriptions_df в файл\n",
        "with open(df_path + 'Headliner_transcriptions_df.pkl', 'wb') as f:\n",
        "  pkl.dump(Headliner_transcriptions_df, f)"
      ],
      "metadata": {
        "id": "YTCWcpGMCIoT"
      },
      "execution_count": null,
      "outputs": []
    },
    {
      "cell_type": "markdown",
      "source": [
        "### Primavera"
      ],
      "metadata": {
        "id": "LtXQd2ARM1i8"
      }
    },
    {
      "cell_type": "markdown",
      "source": [
        "#### Создание датафрейма"
      ],
      "metadata": {
        "id": "Fig-fZc_M1i9"
      }
    },
    {
      "cell_type": "code",
      "source": [
        "# Создаём датафрейм из списка файлов транскрибации звонков Primavera\n",
        "Primavera_transcriptions_df = transcriptions_list_to_df(os.listdir(my_drv_path + 'media108.ru/Датасет/Whisper-транскрибация записей звонков/Расшифровки_Записи звонков_primavera'))\n",
        "Primavera_transcriptions_df.shape"
      ],
      "metadata": {
        "colab": {
          "base_uri": "https://localhost:8080/"
        },
        "outputId": "fa73f3f0-2b0f-40ad-cbd9-acb62c6c96e6",
        "id": "9ECH2wNOM1i_"
      },
      "execution_count": null,
      "outputs": [
        {
          "output_type": "execute_result",
          "data": {
            "text/plain": [
              "(1983, 5)"
            ]
          },
          "metadata": {},
          "execution_count": 66
        }
      ]
    },
    {
      "cell_type": "code",
      "source": [
        "Primavera_transcriptions_df.head()"
      ],
      "metadata": {
        "colab": {
          "base_uri": "https://localhost:8080/",
          "height": 206
        },
        "outputId": "be91f847-3fd7-4be7-88a7-e86b79037626",
        "id": "Dc0ceRzqM1jA"
      },
      "execution_count": null,
      "outputs": [
        {
          "output_type": "execute_result",
          "data": {
            "text/plain": [
              "          Дата и время Номер абонента Номер сотрудника  \\\n",
              "0  2023-05-30 17:50:53    79264254292          0197875   \n",
              "1  2023-05-30 18:03:54    79258608972          0111642   \n",
              "2  2023-05-30 18:20:56    79255210338          0197879   \n",
              "3  2023-05-30 19:19:50    79165220654          0111652   \n",
              "4  2023-05-31 11:35:31    79051447861          0197875   \n",
              "\n",
              "  Идентификатор сессии звонка  \\\n",
              "0                  2974454505   \n",
              "1                  2959172642   \n",
              "2                  2989586940   \n",
              "3                  2959295102   \n",
              "4                  2974889895   \n",
              "\n",
              "                                                           Файл whisper-транскрибации записи звонка  \n",
              "0  2023-05-30_17-50-53.271117_from_79264254292_to_0197875_session_2974454505_talk_whisper_large.txt  \n",
              "1  2023-05-30_18-03-54.199516_from_79258608972_to_0111642_session_2959172642_talk_whisper_large.txt  \n",
              "2  2023-05-30_18-20-56.881493_from_79255210338_to_0197879_session_2989586940_talk_whisper_large.txt  \n",
              "3  2023-05-30_19-19-50.688195_from_79165220654_to_0111652_session_2959295102_talk_whisper_large.txt  \n",
              "4  2023-05-31_11-35-31.261521_from_79051447861_to_0197875_session_2974889895_talk_whisper_large.txt  "
            ],
            "text/html": [
              "\n",
              "  <div id=\"df-ab6628e5-747b-4c8e-b74c-497acb10b31f\" class=\"colab-df-container\">\n",
              "    <div>\n",
              "<style scoped>\n",
              "    .dataframe tbody tr th:only-of-type {\n",
              "        vertical-align: middle;\n",
              "    }\n",
              "\n",
              "    .dataframe tbody tr th {\n",
              "        vertical-align: top;\n",
              "    }\n",
              "\n",
              "    .dataframe thead th {\n",
              "        text-align: right;\n",
              "    }\n",
              "</style>\n",
              "<table border=\"1\" class=\"dataframe\">\n",
              "  <thead>\n",
              "    <tr style=\"text-align: right;\">\n",
              "      <th></th>\n",
              "      <th>Дата и время</th>\n",
              "      <th>Номер абонента</th>\n",
              "      <th>Номер сотрудника</th>\n",
              "      <th>Идентификатор сессии звонка</th>\n",
              "      <th>Файл whisper-транскрибации записи звонка</th>\n",
              "    </tr>\n",
              "  </thead>\n",
              "  <tbody>\n",
              "    <tr>\n",
              "      <th>0</th>\n",
              "      <td>2023-05-30 17:50:53</td>\n",
              "      <td>79264254292</td>\n",
              "      <td>0197875</td>\n",
              "      <td>2974454505</td>\n",
              "      <td>2023-05-30_17-50-53.271117_from_79264254292_to_0197875_session_2974454505_talk_whisper_large.txt</td>\n",
              "    </tr>\n",
              "    <tr>\n",
              "      <th>1</th>\n",
              "      <td>2023-05-30 18:03:54</td>\n",
              "      <td>79258608972</td>\n",
              "      <td>0111642</td>\n",
              "      <td>2959172642</td>\n",
              "      <td>2023-05-30_18-03-54.199516_from_79258608972_to_0111642_session_2959172642_talk_whisper_large.txt</td>\n",
              "    </tr>\n",
              "    <tr>\n",
              "      <th>2</th>\n",
              "      <td>2023-05-30 18:20:56</td>\n",
              "      <td>79255210338</td>\n",
              "      <td>0197879</td>\n",
              "      <td>2989586940</td>\n",
              "      <td>2023-05-30_18-20-56.881493_from_79255210338_to_0197879_session_2989586940_talk_whisper_large.txt</td>\n",
              "    </tr>\n",
              "    <tr>\n",
              "      <th>3</th>\n",
              "      <td>2023-05-30 19:19:50</td>\n",
              "      <td>79165220654</td>\n",
              "      <td>0111652</td>\n",
              "      <td>2959295102</td>\n",
              "      <td>2023-05-30_19-19-50.688195_from_79165220654_to_0111652_session_2959295102_talk_whisper_large.txt</td>\n",
              "    </tr>\n",
              "    <tr>\n",
              "      <th>4</th>\n",
              "      <td>2023-05-31 11:35:31</td>\n",
              "      <td>79051447861</td>\n",
              "      <td>0197875</td>\n",
              "      <td>2974889895</td>\n",
              "      <td>2023-05-31_11-35-31.261521_from_79051447861_to_0197875_session_2974889895_talk_whisper_large.txt</td>\n",
              "    </tr>\n",
              "  </tbody>\n",
              "</table>\n",
              "</div>\n",
              "    <div class=\"colab-df-buttons\">\n",
              "\n",
              "  <div class=\"colab-df-container\">\n",
              "    <button class=\"colab-df-convert\" onclick=\"convertToInteractive('df-ab6628e5-747b-4c8e-b74c-497acb10b31f')\"\n",
              "            title=\"Convert this dataframe to an interactive table.\"\n",
              "            style=\"display:none;\">\n",
              "\n",
              "  <svg xmlns=\"http://www.w3.org/2000/svg\" height=\"24px\" viewBox=\"0 -960 960 960\">\n",
              "    <path d=\"M120-120v-720h720v720H120Zm60-500h600v-160H180v160Zm220 220h160v-160H400v160Zm0 220h160v-160H400v160ZM180-400h160v-160H180v160Zm440 0h160v-160H620v160ZM180-180h160v-160H180v160Zm440 0h160v-160H620v160Z\"/>\n",
              "  </svg>\n",
              "    </button>\n",
              "\n",
              "  <style>\n",
              "    .colab-df-container {\n",
              "      display:flex;\n",
              "      gap: 12px;\n",
              "    }\n",
              "\n",
              "    .colab-df-convert {\n",
              "      background-color: #E8F0FE;\n",
              "      border: none;\n",
              "      border-radius: 50%;\n",
              "      cursor: pointer;\n",
              "      display: none;\n",
              "      fill: #1967D2;\n",
              "      height: 32px;\n",
              "      padding: 0 0 0 0;\n",
              "      width: 32px;\n",
              "    }\n",
              "\n",
              "    .colab-df-convert:hover {\n",
              "      background-color: #E2EBFA;\n",
              "      box-shadow: 0px 1px 2px rgba(60, 64, 67, 0.3), 0px 1px 3px 1px rgba(60, 64, 67, 0.15);\n",
              "      fill: #174EA6;\n",
              "    }\n",
              "\n",
              "    .colab-df-buttons div {\n",
              "      margin-bottom: 4px;\n",
              "    }\n",
              "\n",
              "    [theme=dark] .colab-df-convert {\n",
              "      background-color: #3B4455;\n",
              "      fill: #D2E3FC;\n",
              "    }\n",
              "\n",
              "    [theme=dark] .colab-df-convert:hover {\n",
              "      background-color: #434B5C;\n",
              "      box-shadow: 0px 1px 3px 1px rgba(0, 0, 0, 0.15);\n",
              "      filter: drop-shadow(0px 1px 2px rgba(0, 0, 0, 0.3));\n",
              "      fill: #FFFFFF;\n",
              "    }\n",
              "  </style>\n",
              "\n",
              "    <script>\n",
              "      const buttonEl =\n",
              "        document.querySelector('#df-ab6628e5-747b-4c8e-b74c-497acb10b31f button.colab-df-convert');\n",
              "      buttonEl.style.display =\n",
              "        google.colab.kernel.accessAllowed ? 'block' : 'none';\n",
              "\n",
              "      async function convertToInteractive(key) {\n",
              "        const element = document.querySelector('#df-ab6628e5-747b-4c8e-b74c-497acb10b31f');\n",
              "        const dataTable =\n",
              "          await google.colab.kernel.invokeFunction('convertToInteractive',\n",
              "                                                    [key], {});\n",
              "        if (!dataTable) return;\n",
              "\n",
              "        const docLinkHtml = 'Like what you see? Visit the ' +\n",
              "          '<a target=\"_blank\" href=https://colab.research.google.com/notebooks/data_table.ipynb>data table notebook</a>'\n",
              "          + ' to learn more about interactive tables.';\n",
              "        element.innerHTML = '';\n",
              "        dataTable['output_type'] = 'display_data';\n",
              "        await google.colab.output.renderOutput(dataTable, element);\n",
              "        const docLink = document.createElement('div');\n",
              "        docLink.innerHTML = docLinkHtml;\n",
              "        element.appendChild(docLink);\n",
              "      }\n",
              "    </script>\n",
              "  </div>\n",
              "\n",
              "\n",
              "<div id=\"df-57de720a-b62c-4471-815f-2207ae962fc2\">\n",
              "  <button class=\"colab-df-quickchart\" onclick=\"quickchart('df-57de720a-b62c-4471-815f-2207ae962fc2')\"\n",
              "            title=\"Suggest charts\"\n",
              "            style=\"display:none;\">\n",
              "\n",
              "<svg xmlns=\"http://www.w3.org/2000/svg\" height=\"24px\"viewBox=\"0 0 24 24\"\n",
              "     width=\"24px\">\n",
              "    <g>\n",
              "        <path d=\"M19 3H5c-1.1 0-2 .9-2 2v14c0 1.1.9 2 2 2h14c1.1 0 2-.9 2-2V5c0-1.1-.9-2-2-2zM9 17H7v-7h2v7zm4 0h-2V7h2v10zm4 0h-2v-4h2v4z\"/>\n",
              "    </g>\n",
              "</svg>\n",
              "  </button>\n",
              "\n",
              "<style>\n",
              "  .colab-df-quickchart {\n",
              "      --bg-color: #E8F0FE;\n",
              "      --fill-color: #1967D2;\n",
              "      --hover-bg-color: #E2EBFA;\n",
              "      --hover-fill-color: #174EA6;\n",
              "      --disabled-fill-color: #AAA;\n",
              "      --disabled-bg-color: #DDD;\n",
              "  }\n",
              "\n",
              "  [theme=dark] .colab-df-quickchart {\n",
              "      --bg-color: #3B4455;\n",
              "      --fill-color: #D2E3FC;\n",
              "      --hover-bg-color: #434B5C;\n",
              "      --hover-fill-color: #FFFFFF;\n",
              "      --disabled-bg-color: #3B4455;\n",
              "      --disabled-fill-color: #666;\n",
              "  }\n",
              "\n",
              "  .colab-df-quickchart {\n",
              "    background-color: var(--bg-color);\n",
              "    border: none;\n",
              "    border-radius: 50%;\n",
              "    cursor: pointer;\n",
              "    display: none;\n",
              "    fill: var(--fill-color);\n",
              "    height: 32px;\n",
              "    padding: 0;\n",
              "    width: 32px;\n",
              "  }\n",
              "\n",
              "  .colab-df-quickchart:hover {\n",
              "    background-color: var(--hover-bg-color);\n",
              "    box-shadow: 0 1px 2px rgba(60, 64, 67, 0.3), 0 1px 3px 1px rgba(60, 64, 67, 0.15);\n",
              "    fill: var(--button-hover-fill-color);\n",
              "  }\n",
              "\n",
              "  .colab-df-quickchart-complete:disabled,\n",
              "  .colab-df-quickchart-complete:disabled:hover {\n",
              "    background-color: var(--disabled-bg-color);\n",
              "    fill: var(--disabled-fill-color);\n",
              "    box-shadow: none;\n",
              "  }\n",
              "\n",
              "  .colab-df-spinner {\n",
              "    border: 2px solid var(--fill-color);\n",
              "    border-color: transparent;\n",
              "    border-bottom-color: var(--fill-color);\n",
              "    animation:\n",
              "      spin 1s steps(1) infinite;\n",
              "  }\n",
              "\n",
              "  @keyframes spin {\n",
              "    0% {\n",
              "      border-color: transparent;\n",
              "      border-bottom-color: var(--fill-color);\n",
              "      border-left-color: var(--fill-color);\n",
              "    }\n",
              "    20% {\n",
              "      border-color: transparent;\n",
              "      border-left-color: var(--fill-color);\n",
              "      border-top-color: var(--fill-color);\n",
              "    }\n",
              "    30% {\n",
              "      border-color: transparent;\n",
              "      border-left-color: var(--fill-color);\n",
              "      border-top-color: var(--fill-color);\n",
              "      border-right-color: var(--fill-color);\n",
              "    }\n",
              "    40% {\n",
              "      border-color: transparent;\n",
              "      border-right-color: var(--fill-color);\n",
              "      border-top-color: var(--fill-color);\n",
              "    }\n",
              "    60% {\n",
              "      border-color: transparent;\n",
              "      border-right-color: var(--fill-color);\n",
              "    }\n",
              "    80% {\n",
              "      border-color: transparent;\n",
              "      border-right-color: var(--fill-color);\n",
              "      border-bottom-color: var(--fill-color);\n",
              "    }\n",
              "    90% {\n",
              "      border-color: transparent;\n",
              "      border-bottom-color: var(--fill-color);\n",
              "    }\n",
              "  }\n",
              "</style>\n",
              "\n",
              "  <script>\n",
              "    async function quickchart(key) {\n",
              "      const quickchartButtonEl =\n",
              "        document.querySelector('#' + key + ' button');\n",
              "      quickchartButtonEl.disabled = true;  // To prevent multiple clicks.\n",
              "      quickchartButtonEl.classList.add('colab-df-spinner');\n",
              "      try {\n",
              "        const charts = await google.colab.kernel.invokeFunction(\n",
              "            'suggestCharts', [key], {});\n",
              "      } catch (error) {\n",
              "        console.error('Error during call to suggestCharts:', error);\n",
              "      }\n",
              "      quickchartButtonEl.classList.remove('colab-df-spinner');\n",
              "      quickchartButtonEl.classList.add('colab-df-quickchart-complete');\n",
              "    }\n",
              "    (() => {\n",
              "      let quickchartButtonEl =\n",
              "        document.querySelector('#df-57de720a-b62c-4471-815f-2207ae962fc2 button');\n",
              "      quickchartButtonEl.style.display =\n",
              "        google.colab.kernel.accessAllowed ? 'block' : 'none';\n",
              "    })();\n",
              "  </script>\n",
              "</div>\n",
              "    </div>\n",
              "  </div>\n"
            ]
          },
          "metadata": {},
          "execution_count": 67
        }
      ]
    },
    {
      "cell_type": "code",
      "source": [
        "# Проверяем количество строк\n",
        "print(len(os.listdir(my_drv_path + 'media108.ru/Датасет/Whisper-транскрибация записей звонков/Расшифровки_Записи звонков_primavera')))\n",
        "print(Primavera_transcriptions_df.shape[0])"
      ],
      "metadata": {
        "colab": {
          "base_uri": "https://localhost:8080/"
        },
        "outputId": "05063e7c-38cb-4089-d777-42eef572b5a2",
        "id": "NMwed2VJM1jN"
      },
      "execution_count": null,
      "outputs": [
        {
          "output_type": "stream",
          "name": "stdout",
          "text": [
            "1983\n",
            "1983\n"
          ]
        }
      ]
    },
    {
      "cell_type": "code",
      "source": [
        "print(Primavera_transcriptions_df.count())"
      ],
      "metadata": {
        "colab": {
          "base_uri": "https://localhost:8080/"
        },
        "outputId": "ae70092f-3269-4d29-bfc8-184db3058f11",
        "id": "RIi2sABwM1jO"
      },
      "execution_count": null,
      "outputs": [
        {
          "output_type": "stream",
          "name": "stdout",
          "text": [
            "Дата и время                                1983\n",
            "Номер абонента                              1983\n",
            "Номер сотрудника                            1983\n",
            "Идентификатор сессии звонка                 1983\n",
            "Файл whisper-транскрибации записи звонка    1983\n",
            "dtype: int64\n"
          ]
        }
      ]
    },
    {
      "cell_type": "markdown",
      "source": [
        "#### Предобработка"
      ],
      "metadata": {
        "id": "v476C60iM1jQ"
      }
    },
    {
      "cell_type": "markdown",
      "source": [
        "##### 0. Дата и время"
      ],
      "metadata": {
        "id": "IBU4Y16dM1jR"
      }
    },
    {
      "cell_type": "code",
      "source": [
        "Primavera_transcriptions_df['Дата и время'].head()"
      ],
      "metadata": {
        "colab": {
          "base_uri": "https://localhost:8080/"
        },
        "outputId": "4b49340f-f9c8-4e8d-92a6-dbe1fe9ac76b",
        "id": "uq5Je10AM1jS"
      },
      "execution_count": null,
      "outputs": [
        {
          "output_type": "execute_result",
          "data": {
            "text/plain": [
              "0    2023-05-30 17:50:53\n",
              "1    2023-05-30 18:03:54\n",
              "2    2023-05-30 18:20:56\n",
              "3    2023-05-30 19:19:50\n",
              "4    2023-05-31 11:35:31\n",
              "Name: Дата и время, dtype: object"
            ]
          },
          "metadata": {},
          "execution_count": 70
        }
      ]
    },
    {
      "cell_type": "code",
      "source": [
        "# Приводим тип данных столбца 'Дата и время'\n",
        "Primavera_transcriptions_df['Дата и время'] = pd.to_datetime(Primavera_transcriptions_df['Дата и время'])"
      ],
      "metadata": {
        "id": "_1Nj2YkOM1jT"
      },
      "execution_count": null,
      "outputs": []
    },
    {
      "cell_type": "code",
      "source": [
        "Primavera_transcriptions_df['Дата и время'].tail()"
      ],
      "metadata": {
        "colab": {
          "base_uri": "https://localhost:8080/"
        },
        "outputId": "6e8bdb0a-b7fe-4cbf-b932-dbad5b755c3b",
        "id": "iqTzZ8SbM1jU"
      },
      "execution_count": null,
      "outputs": [
        {
          "output_type": "execute_result",
          "data": {
            "text/plain": [
              "1978   2023-05-30 14:14:18\n",
              "1979   2023-05-30 14:32:23\n",
              "1980   2023-05-30 14:33:49\n",
              "1981   2023-05-30 17:15:46\n",
              "1982   2023-05-30 17:45:51\n",
              "Name: Дата и время, dtype: datetime64[ns]"
            ]
          },
          "metadata": {},
          "execution_count": 72
        }
      ]
    },
    {
      "cell_type": "markdown",
      "source": [
        "##### 1. Номер абонента"
      ],
      "metadata": {
        "id": "mzICK7d_M1jW"
      }
    },
    {
      "cell_type": "code",
      "source": [
        "Primavera_transcriptions_df['Номер абонента'].head()"
      ],
      "metadata": {
        "colab": {
          "base_uri": "https://localhost:8080/"
        },
        "outputId": "4f48dc01-f026-4ff0-a841-8b2cc1a5bd13",
        "id": "XwLbFKIKM1jk"
      },
      "execution_count": null,
      "outputs": [
        {
          "output_type": "execute_result",
          "data": {
            "text/plain": [
              "0    79264254292\n",
              "1    79258608972\n",
              "2    79255210338\n",
              "3    79165220654\n",
              "4    79051447861\n",
              "Name: Номер абонента, dtype: object"
            ]
          },
          "metadata": {},
          "execution_count": 73
        }
      ]
    },
    {
      "cell_type": "code",
      "source": [
        "# Приводим тип данных столбца 'Номер абонента'\n",
        "Primavera_transcriptions_df = Primavera_transcriptions_df.astype({'Номер абонента': int})"
      ],
      "metadata": {
        "id": "XviUJt8iM1jk"
      },
      "execution_count": null,
      "outputs": []
    },
    {
      "cell_type": "code",
      "source": [
        "Primavera_transcriptions_df['Номер абонента'].tail()"
      ],
      "metadata": {
        "colab": {
          "base_uri": "https://localhost:8080/"
        },
        "outputId": "4972e1ab-e7e0-40ff-9cd1-d1368615cabd",
        "id": "l5auNqNYM1jk"
      },
      "execution_count": null,
      "outputs": [
        {
          "output_type": "execute_result",
          "data": {
            "text/plain": [
              "1978    74950851200\n",
              "1979    74954713016\n",
              "1980    74954713016\n",
              "1981    79189032555\n",
              "1982    79645790101\n",
              "Name: Номер абонента, dtype: int64"
            ]
          },
          "metadata": {},
          "execution_count": 75
        }
      ]
    },
    {
      "cell_type": "markdown",
      "source": [
        "##### 2. Номер сотрудника"
      ],
      "metadata": {
        "id": "U2f7FXCWM1jm"
      }
    },
    {
      "cell_type": "code",
      "source": [
        "Primavera_transcriptions_df['Номер сотрудника'].head()"
      ],
      "metadata": {
        "colab": {
          "base_uri": "https://localhost:8080/"
        },
        "outputId": "e33f433e-2a63-43d3-e536-0bcc83f0c28c",
        "id": "pfxrIDzhM1jm"
      },
      "execution_count": null,
      "outputs": [
        {
          "output_type": "execute_result",
          "data": {
            "text/plain": [
              "0    0197875\n",
              "1    0111642\n",
              "2    0197879\n",
              "3    0111652\n",
              "4    0197875\n",
              "Name: Номер сотрудника, dtype: object"
            ]
          },
          "metadata": {},
          "execution_count": 76
        }
      ]
    },
    {
      "cell_type": "code",
      "source": [
        "# Приводим тип данных столбца 'Номер сотрудника'\n",
        "Primavera_transcriptions_df = Primavera_transcriptions_df.astype({'Номер сотрудника': int})"
      ],
      "metadata": {
        "id": "1QzUQSOkM1jm"
      },
      "execution_count": null,
      "outputs": []
    },
    {
      "cell_type": "code",
      "source": [
        "Primavera_transcriptions_df['Номер сотрудника'].tail()"
      ],
      "metadata": {
        "colab": {
          "base_uri": "https://localhost:8080/"
        },
        "outputId": "8de66f15-1a04-4ec7-df79-89d7ed40d133",
        "id": "odkYa4AFM1jn"
      },
      "execution_count": null,
      "outputs": [
        {
          "output_type": "execute_result",
          "data": {
            "text/plain": [
              "1978    197872\n",
              "1979    111639\n",
              "1980    111639\n",
              "1981    111639\n",
              "1982    150113\n",
              "Name: Номер сотрудника, dtype: int64"
            ]
          },
          "metadata": {},
          "execution_count": 78
        }
      ]
    },
    {
      "cell_type": "markdown",
      "source": [
        "##### 3. Идентификатор сессии звонка"
      ],
      "metadata": {
        "id": "ifNPnBQLM1jn"
      }
    },
    {
      "cell_type": "code",
      "source": [
        "Primavera_transcriptions_df['Идентификатор сессии звонка'].head()"
      ],
      "metadata": {
        "colab": {
          "base_uri": "https://localhost:8080/"
        },
        "outputId": "ea06903e-d1ad-45f5-a399-0358fe408363",
        "id": "Y9OHC_eXM1jo"
      },
      "execution_count": null,
      "outputs": [
        {
          "output_type": "execute_result",
          "data": {
            "text/plain": [
              "0    2974454505\n",
              "1    2959172642\n",
              "2    2989586940\n",
              "3    2959295102\n",
              "4    2974889895\n",
              "Name: Идентификатор сессии звонка, dtype: object"
            ]
          },
          "metadata": {},
          "execution_count": 79
        }
      ]
    },
    {
      "cell_type": "code",
      "source": [
        "# Приводим тип данных столбца 'Идентификатор сессии звонка'\n",
        "Primavera_transcriptions_df = Primavera_transcriptions_df.astype({'Идентификатор сессии звонка': int})"
      ],
      "metadata": {
        "id": "UqaCbuX1M1jo"
      },
      "execution_count": null,
      "outputs": []
    },
    {
      "cell_type": "code",
      "source": [
        "Primavera_transcriptions_df['Идентификатор сессии звонка'].tail()"
      ],
      "metadata": {
        "colab": {
          "base_uri": "https://localhost:8080/"
        },
        "outputId": "bb7cb551-8c52-43db-f628-efb9848222af",
        "id": "GQUK4UG4M1jp"
      },
      "execution_count": null,
      "outputs": [
        {
          "output_type": "execute_result",
          "data": {
            "text/plain": [
              "1978    2988675980\n",
              "1979    2958528898\n",
              "1980    2973759909\n",
              "1981    2959053018\n",
              "1982    2989493316\n",
              "Name: Идентификатор сессии звонка, dtype: int64"
            ]
          },
          "metadata": {},
          "execution_count": 81
        }
      ]
    },
    {
      "cell_type": "markdown",
      "source": [
        "##### 4. Файл whisper-транскрибации записи звонка"
      ],
      "metadata": {
        "id": "yDYudgY1M1jq"
      }
    },
    {
      "cell_type": "code",
      "source": [
        "Primavera_transcriptions_df['Файл whisper-транскрибации записи звонка'].head()"
      ],
      "metadata": {
        "colab": {
          "base_uri": "https://localhost:8080/"
        },
        "outputId": "7cb0aed8-de0c-4ba9-b02a-6885bb4fff5d",
        "id": "GhnulaHNM1jr"
      },
      "execution_count": null,
      "outputs": [
        {
          "output_type": "execute_result",
          "data": {
            "text/plain": [
              "0    2023-05-30_17-50-53.271117_from_79264254292_to_0197875_session_2974454505_talk_whisper_large.txt\n",
              "1    2023-05-30_18-03-54.199516_from_79258608972_to_0111642_session_2959172642_talk_whisper_large.txt\n",
              "2    2023-05-30_18-20-56.881493_from_79255210338_to_0197879_session_2989586940_talk_whisper_large.txt\n",
              "3    2023-05-30_19-19-50.688195_from_79165220654_to_0111652_session_2959295102_talk_whisper_large.txt\n",
              "4    2023-05-31_11-35-31.261521_from_79051447861_to_0197875_session_2974889895_talk_whisper_large.txt\n",
              "Name: Файл whisper-транскрибации записи звонка, dtype: object"
            ]
          },
          "metadata": {},
          "execution_count": 83
        }
      ]
    },
    {
      "cell_type": "code",
      "source": [
        "# Добавляем к файлам относительные пути\n",
        "Primavera_transcriptions_df['Файл whisper-транскрибации записи звонка'] = Primavera_transcriptions_df['Файл whisper-транскрибации записи звонка'].apply(lambda x: 'Whisper-транскрибация записей звонков/Расшифровки_Записи звонков_primavera/' + x)"
      ],
      "metadata": {
        "id": "QkZ48KqRM1jr"
      },
      "execution_count": null,
      "outputs": []
    },
    {
      "cell_type": "code",
      "source": [
        "Primavera_transcriptions_df['Файл whisper-транскрибации записи звонка'].tail()"
      ],
      "metadata": {
        "colab": {
          "base_uri": "https://localhost:8080/"
        },
        "outputId": "84a8e8e9-a198-4fbf-9f33-6185ea77e338",
        "id": "4dKrC-XCM1jr"
      },
      "execution_count": null,
      "outputs": [
        {
          "output_type": "execute_result",
          "data": {
            "text/plain": [
              "1978    Whisper-транскрибация записей звонков/Расшифровки_Записи звонков_primavera/2023-05-30_14-14-18.111661_from_74950851200_to_0197872_session_2988675980_talk_whisper_large.txt\n",
              "1979    Whisper-транскрибация записей звонков/Расшифровки_Записи звонков_primavera/2023-05-30_14-32-23.124482_from_74954713016_to_0111639_session_2958528898_talk_whisper_large.txt\n",
              "1980    Whisper-транскрибация записей звонков/Расшифровки_Записи звонков_primavera/2023-05-30_14-33-49.433773_from_74954713016_to_0111639_session_2973759909_talk_whisper_large.txt\n",
              "1981    Whisper-транскрибация записей звонков/Расшифровки_Записи звонков_primavera/2023-05-30_17-15-46.023203_from_79189032555_to_0111639_session_2959053018_talk_whisper_large.txt\n",
              "1982    Whisper-транскрибация записей звонков/Расшифровки_Записи звонков_primavera/2023-05-30_17-45-51.739040_from_79645790101_to_0150113_session_2989493316_talk_whisper_large.txt\n",
              "Name: Файл whisper-транскрибации записи звонка, dtype: object"
            ]
          },
          "metadata": {},
          "execution_count": 85
        }
      ]
    },
    {
      "cell_type": "markdown",
      "source": [
        "##### 5. Текст whisper-транскрибации записи звонка"
      ],
      "metadata": {
        "id": "Auq8yDWoM1j3"
      }
    },
    {
      "cell_type": "code",
      "source": [
        "# Добавляем столбец 'Текст whisper-транскрибации записи звонка'\n",
        "Primavera_transcriptions_df['Текст whisper-транскрибации записи звонка'] = 'нет текста транскрибации звонка'\n",
        "Primavera_transcriptions_df.head()"
      ],
      "metadata": {
        "colab": {
          "base_uri": "https://localhost:8080/",
          "height": 310
        },
        "outputId": "fb218785-e87e-41d1-a9f3-21b2b5fa7a9b",
        "id": "yEqifjhUM1j4"
      },
      "execution_count": null,
      "outputs": [
        {
          "output_type": "execute_result",
          "data": {
            "text/plain": [
              "         Дата и время  Номер абонента  Номер сотрудника  \\\n",
              "0 2023-05-30 17:50:53     79264254292            197875   \n",
              "1 2023-05-30 18:03:54     79258608972            111642   \n",
              "2 2023-05-30 18:20:56     79255210338            197879   \n",
              "3 2023-05-30 19:19:50     79165220654            111652   \n",
              "4 2023-05-31 11:35:31     79051447861            197875   \n",
              "\n",
              "   Идентификатор сессии звонка  \\\n",
              "0                   2974454505   \n",
              "1                   2959172642   \n",
              "2                   2989586940   \n",
              "3                   2959295102   \n",
              "4                   2974889895   \n",
              "\n",
              "                                                                                                                                      Файл whisper-транскрибации записи звонка  \\\n",
              "0  Whisper-транскрибация записей звонков/Расшифровки_Записи звонков_primavera/2023-05-30_17-50-53.271117_from_79264254292_to_0197875_session_2974454505_talk_whisper_large.txt   \n",
              "1  Whisper-транскрибация записей звонков/Расшифровки_Записи звонков_primavera/2023-05-30_18-03-54.199516_from_79258608972_to_0111642_session_2959172642_talk_whisper_large.txt   \n",
              "2  Whisper-транскрибация записей звонков/Расшифровки_Записи звонков_primavera/2023-05-30_18-20-56.881493_from_79255210338_to_0197879_session_2989586940_talk_whisper_large.txt   \n",
              "3  Whisper-транскрибация записей звонков/Расшифровки_Записи звонков_primavera/2023-05-30_19-19-50.688195_from_79165220654_to_0111652_session_2959295102_talk_whisper_large.txt   \n",
              "4  Whisper-транскрибация записей звонков/Расшифровки_Записи звонков_primavera/2023-05-31_11-35-31.261521_from_79051447861_to_0197875_session_2974889895_talk_whisper_large.txt   \n",
              "\n",
              "  Текст whisper-транскрибации записи звонка  \n",
              "0           нет текста транскрибации звонка  \n",
              "1           нет текста транскрибации звонка  \n",
              "2           нет текста транскрибации звонка  \n",
              "3           нет текста транскрибации звонка  \n",
              "4           нет текста транскрибации звонка  "
            ],
            "text/html": [
              "\n",
              "  <div id=\"df-61a3d4c5-0f6a-43e1-ba80-21f9e3192877\" class=\"colab-df-container\">\n",
              "    <div>\n",
              "<style scoped>\n",
              "    .dataframe tbody tr th:only-of-type {\n",
              "        vertical-align: middle;\n",
              "    }\n",
              "\n",
              "    .dataframe tbody tr th {\n",
              "        vertical-align: top;\n",
              "    }\n",
              "\n",
              "    .dataframe thead th {\n",
              "        text-align: right;\n",
              "    }\n",
              "</style>\n",
              "<table border=\"1\" class=\"dataframe\">\n",
              "  <thead>\n",
              "    <tr style=\"text-align: right;\">\n",
              "      <th></th>\n",
              "      <th>Дата и время</th>\n",
              "      <th>Номер абонента</th>\n",
              "      <th>Номер сотрудника</th>\n",
              "      <th>Идентификатор сессии звонка</th>\n",
              "      <th>Файл whisper-транскрибации записи звонка</th>\n",
              "      <th>Текст whisper-транскрибации записи звонка</th>\n",
              "    </tr>\n",
              "  </thead>\n",
              "  <tbody>\n",
              "    <tr>\n",
              "      <th>0</th>\n",
              "      <td>2023-05-30 17:50:53</td>\n",
              "      <td>79264254292</td>\n",
              "      <td>197875</td>\n",
              "      <td>2974454505</td>\n",
              "      <td>Whisper-транскрибация записей звонков/Расшифровки_Записи звонков_primavera/2023-05-30_17-50-53.271117_from_79264254292_to_0197875_session_2974454505_talk_whisper_large.txt</td>\n",
              "      <td>нет текста транскрибации звонка</td>\n",
              "    </tr>\n",
              "    <tr>\n",
              "      <th>1</th>\n",
              "      <td>2023-05-30 18:03:54</td>\n",
              "      <td>79258608972</td>\n",
              "      <td>111642</td>\n",
              "      <td>2959172642</td>\n",
              "      <td>Whisper-транскрибация записей звонков/Расшифровки_Записи звонков_primavera/2023-05-30_18-03-54.199516_from_79258608972_to_0111642_session_2959172642_talk_whisper_large.txt</td>\n",
              "      <td>нет текста транскрибации звонка</td>\n",
              "    </tr>\n",
              "    <tr>\n",
              "      <th>2</th>\n",
              "      <td>2023-05-30 18:20:56</td>\n",
              "      <td>79255210338</td>\n",
              "      <td>197879</td>\n",
              "      <td>2989586940</td>\n",
              "      <td>Whisper-транскрибация записей звонков/Расшифровки_Записи звонков_primavera/2023-05-30_18-20-56.881493_from_79255210338_to_0197879_session_2989586940_talk_whisper_large.txt</td>\n",
              "      <td>нет текста транскрибации звонка</td>\n",
              "    </tr>\n",
              "    <tr>\n",
              "      <th>3</th>\n",
              "      <td>2023-05-30 19:19:50</td>\n",
              "      <td>79165220654</td>\n",
              "      <td>111652</td>\n",
              "      <td>2959295102</td>\n",
              "      <td>Whisper-транскрибация записей звонков/Расшифровки_Записи звонков_primavera/2023-05-30_19-19-50.688195_from_79165220654_to_0111652_session_2959295102_talk_whisper_large.txt</td>\n",
              "      <td>нет текста транскрибации звонка</td>\n",
              "    </tr>\n",
              "    <tr>\n",
              "      <th>4</th>\n",
              "      <td>2023-05-31 11:35:31</td>\n",
              "      <td>79051447861</td>\n",
              "      <td>197875</td>\n",
              "      <td>2974889895</td>\n",
              "      <td>Whisper-транскрибация записей звонков/Расшифровки_Записи звонков_primavera/2023-05-31_11-35-31.261521_from_79051447861_to_0197875_session_2974889895_talk_whisper_large.txt</td>\n",
              "      <td>нет текста транскрибации звонка</td>\n",
              "    </tr>\n",
              "  </tbody>\n",
              "</table>\n",
              "</div>\n",
              "    <div class=\"colab-df-buttons\">\n",
              "\n",
              "  <div class=\"colab-df-container\">\n",
              "    <button class=\"colab-df-convert\" onclick=\"convertToInteractive('df-61a3d4c5-0f6a-43e1-ba80-21f9e3192877')\"\n",
              "            title=\"Convert this dataframe to an interactive table.\"\n",
              "            style=\"display:none;\">\n",
              "\n",
              "  <svg xmlns=\"http://www.w3.org/2000/svg\" height=\"24px\" viewBox=\"0 -960 960 960\">\n",
              "    <path d=\"M120-120v-720h720v720H120Zm60-500h600v-160H180v160Zm220 220h160v-160H400v160Zm0 220h160v-160H400v160ZM180-400h160v-160H180v160Zm440 0h160v-160H620v160ZM180-180h160v-160H180v160Zm440 0h160v-160H620v160Z\"/>\n",
              "  </svg>\n",
              "    </button>\n",
              "\n",
              "  <style>\n",
              "    .colab-df-container {\n",
              "      display:flex;\n",
              "      gap: 12px;\n",
              "    }\n",
              "\n",
              "    .colab-df-convert {\n",
              "      background-color: #E8F0FE;\n",
              "      border: none;\n",
              "      border-radius: 50%;\n",
              "      cursor: pointer;\n",
              "      display: none;\n",
              "      fill: #1967D2;\n",
              "      height: 32px;\n",
              "      padding: 0 0 0 0;\n",
              "      width: 32px;\n",
              "    }\n",
              "\n",
              "    .colab-df-convert:hover {\n",
              "      background-color: #E2EBFA;\n",
              "      box-shadow: 0px 1px 2px rgba(60, 64, 67, 0.3), 0px 1px 3px 1px rgba(60, 64, 67, 0.15);\n",
              "      fill: #174EA6;\n",
              "    }\n",
              "\n",
              "    .colab-df-buttons div {\n",
              "      margin-bottom: 4px;\n",
              "    }\n",
              "\n",
              "    [theme=dark] .colab-df-convert {\n",
              "      background-color: #3B4455;\n",
              "      fill: #D2E3FC;\n",
              "    }\n",
              "\n",
              "    [theme=dark] .colab-df-convert:hover {\n",
              "      background-color: #434B5C;\n",
              "      box-shadow: 0px 1px 3px 1px rgba(0, 0, 0, 0.15);\n",
              "      filter: drop-shadow(0px 1px 2px rgba(0, 0, 0, 0.3));\n",
              "      fill: #FFFFFF;\n",
              "    }\n",
              "  </style>\n",
              "\n",
              "    <script>\n",
              "      const buttonEl =\n",
              "        document.querySelector('#df-61a3d4c5-0f6a-43e1-ba80-21f9e3192877 button.colab-df-convert');\n",
              "      buttonEl.style.display =\n",
              "        google.colab.kernel.accessAllowed ? 'block' : 'none';\n",
              "\n",
              "      async function convertToInteractive(key) {\n",
              "        const element = document.querySelector('#df-61a3d4c5-0f6a-43e1-ba80-21f9e3192877');\n",
              "        const dataTable =\n",
              "          await google.colab.kernel.invokeFunction('convertToInteractive',\n",
              "                                                    [key], {});\n",
              "        if (!dataTable) return;\n",
              "\n",
              "        const docLinkHtml = 'Like what you see? Visit the ' +\n",
              "          '<a target=\"_blank\" href=https://colab.research.google.com/notebooks/data_table.ipynb>data table notebook</a>'\n",
              "          + ' to learn more about interactive tables.';\n",
              "        element.innerHTML = '';\n",
              "        dataTable['output_type'] = 'display_data';\n",
              "        await google.colab.output.renderOutput(dataTable, element);\n",
              "        const docLink = document.createElement('div');\n",
              "        docLink.innerHTML = docLinkHtml;\n",
              "        element.appendChild(docLink);\n",
              "      }\n",
              "    </script>\n",
              "  </div>\n",
              "\n",
              "\n",
              "<div id=\"df-b909b370-136c-4d5a-8085-5af76f8f2a78\">\n",
              "  <button class=\"colab-df-quickchart\" onclick=\"quickchart('df-b909b370-136c-4d5a-8085-5af76f8f2a78')\"\n",
              "            title=\"Suggest charts\"\n",
              "            style=\"display:none;\">\n",
              "\n",
              "<svg xmlns=\"http://www.w3.org/2000/svg\" height=\"24px\"viewBox=\"0 0 24 24\"\n",
              "     width=\"24px\">\n",
              "    <g>\n",
              "        <path d=\"M19 3H5c-1.1 0-2 .9-2 2v14c0 1.1.9 2 2 2h14c1.1 0 2-.9 2-2V5c0-1.1-.9-2-2-2zM9 17H7v-7h2v7zm4 0h-2V7h2v10zm4 0h-2v-4h2v4z\"/>\n",
              "    </g>\n",
              "</svg>\n",
              "  </button>\n",
              "\n",
              "<style>\n",
              "  .colab-df-quickchart {\n",
              "      --bg-color: #E8F0FE;\n",
              "      --fill-color: #1967D2;\n",
              "      --hover-bg-color: #E2EBFA;\n",
              "      --hover-fill-color: #174EA6;\n",
              "      --disabled-fill-color: #AAA;\n",
              "      --disabled-bg-color: #DDD;\n",
              "  }\n",
              "\n",
              "  [theme=dark] .colab-df-quickchart {\n",
              "      --bg-color: #3B4455;\n",
              "      --fill-color: #D2E3FC;\n",
              "      --hover-bg-color: #434B5C;\n",
              "      --hover-fill-color: #FFFFFF;\n",
              "      --disabled-bg-color: #3B4455;\n",
              "      --disabled-fill-color: #666;\n",
              "  }\n",
              "\n",
              "  .colab-df-quickchart {\n",
              "    background-color: var(--bg-color);\n",
              "    border: none;\n",
              "    border-radius: 50%;\n",
              "    cursor: pointer;\n",
              "    display: none;\n",
              "    fill: var(--fill-color);\n",
              "    height: 32px;\n",
              "    padding: 0;\n",
              "    width: 32px;\n",
              "  }\n",
              "\n",
              "  .colab-df-quickchart:hover {\n",
              "    background-color: var(--hover-bg-color);\n",
              "    box-shadow: 0 1px 2px rgba(60, 64, 67, 0.3), 0 1px 3px 1px rgba(60, 64, 67, 0.15);\n",
              "    fill: var(--button-hover-fill-color);\n",
              "  }\n",
              "\n",
              "  .colab-df-quickchart-complete:disabled,\n",
              "  .colab-df-quickchart-complete:disabled:hover {\n",
              "    background-color: var(--disabled-bg-color);\n",
              "    fill: var(--disabled-fill-color);\n",
              "    box-shadow: none;\n",
              "  }\n",
              "\n",
              "  .colab-df-spinner {\n",
              "    border: 2px solid var(--fill-color);\n",
              "    border-color: transparent;\n",
              "    border-bottom-color: var(--fill-color);\n",
              "    animation:\n",
              "      spin 1s steps(1) infinite;\n",
              "  }\n",
              "\n",
              "  @keyframes spin {\n",
              "    0% {\n",
              "      border-color: transparent;\n",
              "      border-bottom-color: var(--fill-color);\n",
              "      border-left-color: var(--fill-color);\n",
              "    }\n",
              "    20% {\n",
              "      border-color: transparent;\n",
              "      border-left-color: var(--fill-color);\n",
              "      border-top-color: var(--fill-color);\n",
              "    }\n",
              "    30% {\n",
              "      border-color: transparent;\n",
              "      border-left-color: var(--fill-color);\n",
              "      border-top-color: var(--fill-color);\n",
              "      border-right-color: var(--fill-color);\n",
              "    }\n",
              "    40% {\n",
              "      border-color: transparent;\n",
              "      border-right-color: var(--fill-color);\n",
              "      border-top-color: var(--fill-color);\n",
              "    }\n",
              "    60% {\n",
              "      border-color: transparent;\n",
              "      border-right-color: var(--fill-color);\n",
              "    }\n",
              "    80% {\n",
              "      border-color: transparent;\n",
              "      border-right-color: var(--fill-color);\n",
              "      border-bottom-color: var(--fill-color);\n",
              "    }\n",
              "    90% {\n",
              "      border-color: transparent;\n",
              "      border-bottom-color: var(--fill-color);\n",
              "    }\n",
              "  }\n",
              "</style>\n",
              "\n",
              "  <script>\n",
              "    async function quickchart(key) {\n",
              "      const quickchartButtonEl =\n",
              "        document.querySelector('#' + key + ' button');\n",
              "      quickchartButtonEl.disabled = true;  // To prevent multiple clicks.\n",
              "      quickchartButtonEl.classList.add('colab-df-spinner');\n",
              "      try {\n",
              "        const charts = await google.colab.kernel.invokeFunction(\n",
              "            'suggestCharts', [key], {});\n",
              "      } catch (error) {\n",
              "        console.error('Error during call to suggestCharts:', error);\n",
              "      }\n",
              "      quickchartButtonEl.classList.remove('colab-df-spinner');\n",
              "      quickchartButtonEl.classList.add('colab-df-quickchart-complete');\n",
              "    }\n",
              "    (() => {\n",
              "      let quickchartButtonEl =\n",
              "        document.querySelector('#df-b909b370-136c-4d5a-8085-5af76f8f2a78 button');\n",
              "      quickchartButtonEl.style.display =\n",
              "        google.colab.kernel.accessAllowed ? 'block' : 'none';\n",
              "    })();\n",
              "  </script>\n",
              "</div>\n",
              "    </div>\n",
              "  </div>\n"
            ]
          },
          "metadata": {},
          "execution_count": 86
        }
      ]
    },
    {
      "cell_type": "code",
      "source": [
        "for row in Primavera_transcriptions_df.index:\n",
        "  with open(my_drv_path + 'media108.ru/Датасет/' + Primavera_transcriptions_df.loc[row, ['Файл whisper-транскрибации записи звонка']].values[0], 'rb') as f:\n",
        "    contents = f.read()\n",
        "  Primavera_transcriptions_df.loc[row, ['Текст whisper-транскрибации записи звонка']] = contents.decode('utf-16').strip()"
      ],
      "metadata": {
        "id": "iewQSr2sM1j5"
      },
      "execution_count": null,
      "outputs": []
    },
    {
      "cell_type": "code",
      "source": [
        "Primavera_transcriptions_df['Текст whisper-транскрибации записи звонка'].head()"
      ],
      "metadata": {
        "colab": {
          "base_uri": "https://localhost:8080/"
        },
        "outputId": "df19927e-e720-4dff-d6e1-f981556f93a1",
        "id": "MvSw7zoVM1j5"
      },
      "execution_count": null,
      "outputs": [
        {
          "output_type": "execute_result",
          "data": {
            "text/plain": [
              "0    Добрый день. Клубногородная река Примавера. Татьяна, слушаю вас. Татьяна, здравствуйте. Здравствуйте. Мне показали, что есть какие-то варианты на 2025 год. Как могу вам обращаться? Извините. Да, Максим. Максим, я соединю вас напрямую с социальной продажей и всей информацией. Оставайтесь, пожалуйста, на линии. Максим, здравствуйте. Меня зовут Кристина. Клубный город на реке Примавера. Что вам подсказать? В Испании до 2 квартал 2025 года и самые бюджетные варианты, какие у вас есть по метрам и по цене. Ваш критерий только стоимость. Вид не важен, этаж не важен, ничего такого не важно. Если мы там проходим по бюджету, то там все-таки будет выиграться. Может, подскажете, какой бюджет? Я вам уже... В районе 20. В районе 20. Две спальни отдельно нужны вам, да? Могу вам предложить варианты квартир в 6-м корпусе. Корпус недавно у нас вышел в продажу. Там есть квартиры угловые, 54 квадратных метра. Изначально мы их предполагаем как евро двухкомнатные, но при этом там спокойно можно сделать...\n",
              "1    Клубный город на реке Примавыра. Наталья, здравствуйте. Алло, Наталья, добрый день. Меня зовут Михаил. Хотел уточнить пару вопросов по ипотеке. А то я не могу найти на сайте информацию. Михаил, вы впервые обращаетесь к нам, правильно? Ага. Соединю вас с мэнжем. Оставайтесь, пожалуйста, на линии. Ага. Спасибо. Обращаем ваше внимание, что в целях контроля качества услуг разговор может быть записан. Примавыра. Клубный город на реке. Меня зовут Владимир. Здравствуйте, Михаил. Алло. Да, добрый день, Владимир. Я хотел по ипотеке уточнить пару вопросов. Вот. Если да, возможно. Я хотел уточнить. Вот тут есть информация по семейной ипотеке, по господдержке, а по айти сайте. Работаете под крылья? Да, конечно. Мы работаем с сайта ипотеки и семейной тоже. А у вас какие-то определенные вопросы по ипотеке? Просто у нас есть специалист, кто занимается ипотекой. Да нет, у меня общие. Да нет, нет, у меня так общие вопросы просто. Да. Ага. Хотел узнать, работаете ли сайт ипотекой. Какая ставка по а...\n",
              "2    Клубногород на реке Примавера. Надеюсь, это привечер. Здравствуйте. Скажите, пожалуйста, вот я у вас на Тате нахожусь и не могу понять стадию строительства у меня интересующих корпусов. Да, сегодня у вас офисом продаж. У них более подробная информация. Спасибо большое. Как могу к вам обращаться? Татьяна. Вас благодарю, Татьяна. Минуту, пожалуйста. Здравствуйте. Меня зовут Кристина. Клубногород на реке Примавера. Что вам подсказать? Здравствуйте. Я вот у вас на Тате не могу найти стадию строительства интересующих меня корпусов. Вот меня заинтересовал третий корпус. Строение третье, шестое и седьмое. Смотрите, я вас ориентирую. Вообще на сайте можно еще посмотреть ход строительства. У нас там каждый месяц делается облет стройплощадки и фотография. По сроку сдачи, это у нас вторая очередь, называется вивальди, 7 корпусов переменной этажности создаются одновременно во втором квартале 2025 года. По срокам вам подходит? Второй квартал, получается, лето 2025 года. Ну да, по срокам подход...\n",
              "3    Клубный город на реке Пимавэра. Меня зовут Наталья. Здравствуйте. Здравствуйте. А где вы территориально находитесь? Алло. Это Волоколамское шоссе. Метро «Спартак». А офис где продашь? Волоколамское шоссе, дом 71, корпус 1. А, ну там же, там же и находитесь, да? Да, да, да. Поняла. Квартиру подобрать? Я вас... Видела предложение на дом Клик за 22 миллиона квартира. Я вас соединю с менеджером отдела продажи. У вас сориентируется по наличию и стоимости. Подскажите, как вас представить к маркеру? Елена. Елена, минуту, пожалуйста. Обращаем ваше внимание, что в целях контроля качества услуг разговор может быть записан. Прямо в Эркудный город, на реке. Меня зовут Владимир. Здравствуйте, Елена. Чем могу быть полезен? Владимир, что нашла на дом Клик? Хорошее предложение. За 22 миллиона 322 тысячи 160. Ой, Елена, расскажите, а это что за квартира? Значит, это квартира «Однокомнатная», площадь 41. А там есть это видео? Вы, как понимаю, на дом Клик смотрите, а не на остальном сайте? Да. Так, ...\n",
              "4                                                                                                                                                                                                                                                                                                                                                                                                                                                                                                                                                                                                                                                                                                                                                                                                                                                                                            Меня звали Руслана, я хотела спросить по поводу интернет-услуг. Буквально пару минут. Подскажите, а у вас домашний интернет, в какой компании?\n",
              "Name: Текст whisper-транскрибации записи звонка, dtype: object"
            ]
          },
          "metadata": {},
          "execution_count": 89
        }
      ]
    },
    {
      "cell_type": "markdown",
      "source": [
        "#### Типы данных"
      ],
      "metadata": {
        "id": "NfeIJjkbM1j5"
      }
    },
    {
      "cell_type": "code",
      "source": [
        "# Смотрим типы данных\n",
        "Primavera_transcriptions_df.dtypes"
      ],
      "metadata": {
        "colab": {
          "base_uri": "https://localhost:8080/"
        },
        "outputId": "d33a439f-3b51-4f06-df87-fa5b1a6b69c7",
        "id": "CeyE1asAM1j6"
      },
      "execution_count": null,
      "outputs": [
        {
          "output_type": "execute_result",
          "data": {
            "text/plain": [
              "Дата и время                                 datetime64[ns]\n",
              "Номер абонента                                        int64\n",
              "Номер сотрудника                                      int64\n",
              "Идентификатор сессии звонка                           int64\n",
              "Файл whisper-транскрибации записи звонка             object\n",
              "Текст whisper-транскрибации записи звонка            object\n",
              "dtype: object"
            ]
          },
          "metadata": {},
          "execution_count": 90
        }
      ]
    },
    {
      "cell_type": "code",
      "source": [
        "print(Primavera_transcriptions_df.count())"
      ],
      "metadata": {
        "colab": {
          "base_uri": "https://localhost:8080/"
        },
        "outputId": "ee87f7a8-87ec-47e7-d656-62d95e8928e0",
        "id": "a5UWtGxTM1j7"
      },
      "execution_count": null,
      "outputs": [
        {
          "output_type": "stream",
          "name": "stdout",
          "text": [
            "Дата и время                                 1983\n",
            "Номер абонента                               1983\n",
            "Номер сотрудника                             1983\n",
            "Идентификатор сессии звонка                  1983\n",
            "Файл whisper-транскрибации записи звонка     1983\n",
            "Текст whisper-транскрибации записи звонка    1983\n",
            "dtype: int64\n"
          ]
        }
      ]
    },
    {
      "cell_type": "markdown",
      "source": [
        "#### Сохранение датафрейма"
      ],
      "metadata": {
        "id": "1Wd58dfmM1j8"
      }
    },
    {
      "cell_type": "code",
      "source": [
        "# Сохраняем Primavera_transcriptions_df в файл\n",
        "with open(df_path + 'Primavera_transcriptions_df.pkl', 'wb') as f:\n",
        "  pkl.dump(Primavera_transcriptions_df, f)"
      ],
      "metadata": {
        "id": "LqavJDi8M1j8"
      },
      "execution_count": null,
      "outputs": []
    },
    {
      "cell_type": "markdown",
      "source": [
        "### Paveletskaya_city"
      ],
      "metadata": {
        "id": "JboxdOogWyCm"
      }
    },
    {
      "cell_type": "markdown",
      "source": [
        "#### Создание датафрейма"
      ],
      "metadata": {
        "id": "-j_6C6u_WyCw"
      }
    },
    {
      "cell_type": "code",
      "source": [
        "# Создаём датафрейм из списка файлов транскрибации звонков Paveletskaya_city\n",
        "Paveletskaya_city_transcriptions_df = transcriptions_list_to_df(os.listdir(my_drv_path + 'media108.ru/Датасет/Whisper-транскрибация записей звонков/Расшифровки_Записи звонков_павелецкая сити'))\n",
        "Paveletskaya_city_transcriptions_df.shape"
      ],
      "metadata": {
        "colab": {
          "base_uri": "https://localhost:8080/"
        },
        "outputId": "ec337828-b136-4e7a-99d5-2fd427832b86",
        "id": "QDXyj5hDWyCy"
      },
      "execution_count": null,
      "outputs": [
        {
          "output_type": "execute_result",
          "data": {
            "text/plain": [
              "(1000, 5)"
            ]
          },
          "metadata": {},
          "execution_count": 93
        }
      ]
    },
    {
      "cell_type": "code",
      "source": [
        "Paveletskaya_city_transcriptions_df.head()"
      ],
      "metadata": {
        "colab": {
          "base_uri": "https://localhost:8080/",
          "height": 206
        },
        "outputId": "f226294e-4c8e-4eff-eb3e-e278619cf345",
        "id": "-BLy_Wp2WyC1"
      },
      "execution_count": null,
      "outputs": [
        {
          "output_type": "execute_result",
          "data": {
            "text/plain": [
              "          Дата и время Номер абонента Номер сотрудника  \\\n",
              "0  2023-06-17 12:54:28    79803286601      74950216267   \n",
              "1  2023-06-17 13:44:17    79066743768      74950216267   \n",
              "2  2023-06-17 14:08:51    74993205445      74955141111   \n",
              "3  2023-06-17 14:21:31    79259041087      74950216267   \n",
              "4  2023-06-17 16:16:05    79680303488      74950216267   \n",
              "\n",
              "  Идентификатор сессии звонка  \\\n",
              "0                  3029638181   \n",
              "1                  3029352265   \n",
              "2                  3029390475   \n",
              "3                  3029730813   \n",
              "4                  3029596520   \n",
              "\n",
              "                                                               Файл whisper-транскрибации записи звонка  \n",
              "0  2023-06-17_12-54-28.210462_from_79803286601_to_74950216267_session_3029638181_talk_whisper_large.txt  \n",
              "1  2023-06-17_13-44-17.539114_from_79066743768_to_74950216267_session_3029352265_talk_whisper_large.txt  \n",
              "2  2023-06-17_14-08-51.827169_from_74993205445_to_74955141111_session_3029390475_talk_whisper_large.txt  \n",
              "3  2023-06-17_14-21-31.493157_from_79259041087_to_74950216267_session_3029730813_talk_whisper_large.txt  \n",
              "4  2023-06-17_16-16-05.571252_from_79680303488_to_74950216267_session_3029596520_talk_whisper_large.txt  "
            ],
            "text/html": [
              "\n",
              "  <div id=\"df-de073bef-9fcb-4ea4-9d7b-3633cb73c40c\" class=\"colab-df-container\">\n",
              "    <div>\n",
              "<style scoped>\n",
              "    .dataframe tbody tr th:only-of-type {\n",
              "        vertical-align: middle;\n",
              "    }\n",
              "\n",
              "    .dataframe tbody tr th {\n",
              "        vertical-align: top;\n",
              "    }\n",
              "\n",
              "    .dataframe thead th {\n",
              "        text-align: right;\n",
              "    }\n",
              "</style>\n",
              "<table border=\"1\" class=\"dataframe\">\n",
              "  <thead>\n",
              "    <tr style=\"text-align: right;\">\n",
              "      <th></th>\n",
              "      <th>Дата и время</th>\n",
              "      <th>Номер абонента</th>\n",
              "      <th>Номер сотрудника</th>\n",
              "      <th>Идентификатор сессии звонка</th>\n",
              "      <th>Файл whisper-транскрибации записи звонка</th>\n",
              "    </tr>\n",
              "  </thead>\n",
              "  <tbody>\n",
              "    <tr>\n",
              "      <th>0</th>\n",
              "      <td>2023-06-17 12:54:28</td>\n",
              "      <td>79803286601</td>\n",
              "      <td>74950216267</td>\n",
              "      <td>3029638181</td>\n",
              "      <td>2023-06-17_12-54-28.210462_from_79803286601_to_74950216267_session_3029638181_talk_whisper_large.txt</td>\n",
              "    </tr>\n",
              "    <tr>\n",
              "      <th>1</th>\n",
              "      <td>2023-06-17 13:44:17</td>\n",
              "      <td>79066743768</td>\n",
              "      <td>74950216267</td>\n",
              "      <td>3029352265</td>\n",
              "      <td>2023-06-17_13-44-17.539114_from_79066743768_to_74950216267_session_3029352265_talk_whisper_large.txt</td>\n",
              "    </tr>\n",
              "    <tr>\n",
              "      <th>2</th>\n",
              "      <td>2023-06-17 14:08:51</td>\n",
              "      <td>74993205445</td>\n",
              "      <td>74955141111</td>\n",
              "      <td>3029390475</td>\n",
              "      <td>2023-06-17_14-08-51.827169_from_74993205445_to_74955141111_session_3029390475_talk_whisper_large.txt</td>\n",
              "    </tr>\n",
              "    <tr>\n",
              "      <th>3</th>\n",
              "      <td>2023-06-17 14:21:31</td>\n",
              "      <td>79259041087</td>\n",
              "      <td>74950216267</td>\n",
              "      <td>3029730813</td>\n",
              "      <td>2023-06-17_14-21-31.493157_from_79259041087_to_74950216267_session_3029730813_talk_whisper_large.txt</td>\n",
              "    </tr>\n",
              "    <tr>\n",
              "      <th>4</th>\n",
              "      <td>2023-06-17 16:16:05</td>\n",
              "      <td>79680303488</td>\n",
              "      <td>74950216267</td>\n",
              "      <td>3029596520</td>\n",
              "      <td>2023-06-17_16-16-05.571252_from_79680303488_to_74950216267_session_3029596520_talk_whisper_large.txt</td>\n",
              "    </tr>\n",
              "  </tbody>\n",
              "</table>\n",
              "</div>\n",
              "    <div class=\"colab-df-buttons\">\n",
              "\n",
              "  <div class=\"colab-df-container\">\n",
              "    <button class=\"colab-df-convert\" onclick=\"convertToInteractive('df-de073bef-9fcb-4ea4-9d7b-3633cb73c40c')\"\n",
              "            title=\"Convert this dataframe to an interactive table.\"\n",
              "            style=\"display:none;\">\n",
              "\n",
              "  <svg xmlns=\"http://www.w3.org/2000/svg\" height=\"24px\" viewBox=\"0 -960 960 960\">\n",
              "    <path d=\"M120-120v-720h720v720H120Zm60-500h600v-160H180v160Zm220 220h160v-160H400v160Zm0 220h160v-160H400v160ZM180-400h160v-160H180v160Zm440 0h160v-160H620v160ZM180-180h160v-160H180v160Zm440 0h160v-160H620v160Z\"/>\n",
              "  </svg>\n",
              "    </button>\n",
              "\n",
              "  <style>\n",
              "    .colab-df-container {\n",
              "      display:flex;\n",
              "      gap: 12px;\n",
              "    }\n",
              "\n",
              "    .colab-df-convert {\n",
              "      background-color: #E8F0FE;\n",
              "      border: none;\n",
              "      border-radius: 50%;\n",
              "      cursor: pointer;\n",
              "      display: none;\n",
              "      fill: #1967D2;\n",
              "      height: 32px;\n",
              "      padding: 0 0 0 0;\n",
              "      width: 32px;\n",
              "    }\n",
              "\n",
              "    .colab-df-convert:hover {\n",
              "      background-color: #E2EBFA;\n",
              "      box-shadow: 0px 1px 2px rgba(60, 64, 67, 0.3), 0px 1px 3px 1px rgba(60, 64, 67, 0.15);\n",
              "      fill: #174EA6;\n",
              "    }\n",
              "\n",
              "    .colab-df-buttons div {\n",
              "      margin-bottom: 4px;\n",
              "    }\n",
              "\n",
              "    [theme=dark] .colab-df-convert {\n",
              "      background-color: #3B4455;\n",
              "      fill: #D2E3FC;\n",
              "    }\n",
              "\n",
              "    [theme=dark] .colab-df-convert:hover {\n",
              "      background-color: #434B5C;\n",
              "      box-shadow: 0px 1px 3px 1px rgba(0, 0, 0, 0.15);\n",
              "      filter: drop-shadow(0px 1px 2px rgba(0, 0, 0, 0.3));\n",
              "      fill: #FFFFFF;\n",
              "    }\n",
              "  </style>\n",
              "\n",
              "    <script>\n",
              "      const buttonEl =\n",
              "        document.querySelector('#df-de073bef-9fcb-4ea4-9d7b-3633cb73c40c button.colab-df-convert');\n",
              "      buttonEl.style.display =\n",
              "        google.colab.kernel.accessAllowed ? 'block' : 'none';\n",
              "\n",
              "      async function convertToInteractive(key) {\n",
              "        const element = document.querySelector('#df-de073bef-9fcb-4ea4-9d7b-3633cb73c40c');\n",
              "        const dataTable =\n",
              "          await google.colab.kernel.invokeFunction('convertToInteractive',\n",
              "                                                    [key], {});\n",
              "        if (!dataTable) return;\n",
              "\n",
              "        const docLinkHtml = 'Like what you see? Visit the ' +\n",
              "          '<a target=\"_blank\" href=https://colab.research.google.com/notebooks/data_table.ipynb>data table notebook</a>'\n",
              "          + ' to learn more about interactive tables.';\n",
              "        element.innerHTML = '';\n",
              "        dataTable['output_type'] = 'display_data';\n",
              "        await google.colab.output.renderOutput(dataTable, element);\n",
              "        const docLink = document.createElement('div');\n",
              "        docLink.innerHTML = docLinkHtml;\n",
              "        element.appendChild(docLink);\n",
              "      }\n",
              "    </script>\n",
              "  </div>\n",
              "\n",
              "\n",
              "<div id=\"df-661cbb2f-fea6-4e02-8b47-ca64a5319642\">\n",
              "  <button class=\"colab-df-quickchart\" onclick=\"quickchart('df-661cbb2f-fea6-4e02-8b47-ca64a5319642')\"\n",
              "            title=\"Suggest charts\"\n",
              "            style=\"display:none;\">\n",
              "\n",
              "<svg xmlns=\"http://www.w3.org/2000/svg\" height=\"24px\"viewBox=\"0 0 24 24\"\n",
              "     width=\"24px\">\n",
              "    <g>\n",
              "        <path d=\"M19 3H5c-1.1 0-2 .9-2 2v14c0 1.1.9 2 2 2h14c1.1 0 2-.9 2-2V5c0-1.1-.9-2-2-2zM9 17H7v-7h2v7zm4 0h-2V7h2v10zm4 0h-2v-4h2v4z\"/>\n",
              "    </g>\n",
              "</svg>\n",
              "  </button>\n",
              "\n",
              "<style>\n",
              "  .colab-df-quickchart {\n",
              "      --bg-color: #E8F0FE;\n",
              "      --fill-color: #1967D2;\n",
              "      --hover-bg-color: #E2EBFA;\n",
              "      --hover-fill-color: #174EA6;\n",
              "      --disabled-fill-color: #AAA;\n",
              "      --disabled-bg-color: #DDD;\n",
              "  }\n",
              "\n",
              "  [theme=dark] .colab-df-quickchart {\n",
              "      --bg-color: #3B4455;\n",
              "      --fill-color: #D2E3FC;\n",
              "      --hover-bg-color: #434B5C;\n",
              "      --hover-fill-color: #FFFFFF;\n",
              "      --disabled-bg-color: #3B4455;\n",
              "      --disabled-fill-color: #666;\n",
              "  }\n",
              "\n",
              "  .colab-df-quickchart {\n",
              "    background-color: var(--bg-color);\n",
              "    border: none;\n",
              "    border-radius: 50%;\n",
              "    cursor: pointer;\n",
              "    display: none;\n",
              "    fill: var(--fill-color);\n",
              "    height: 32px;\n",
              "    padding: 0;\n",
              "    width: 32px;\n",
              "  }\n",
              "\n",
              "  .colab-df-quickchart:hover {\n",
              "    background-color: var(--hover-bg-color);\n",
              "    box-shadow: 0 1px 2px rgba(60, 64, 67, 0.3), 0 1px 3px 1px rgba(60, 64, 67, 0.15);\n",
              "    fill: var(--button-hover-fill-color);\n",
              "  }\n",
              "\n",
              "  .colab-df-quickchart-complete:disabled,\n",
              "  .colab-df-quickchart-complete:disabled:hover {\n",
              "    background-color: var(--disabled-bg-color);\n",
              "    fill: var(--disabled-fill-color);\n",
              "    box-shadow: none;\n",
              "  }\n",
              "\n",
              "  .colab-df-spinner {\n",
              "    border: 2px solid var(--fill-color);\n",
              "    border-color: transparent;\n",
              "    border-bottom-color: var(--fill-color);\n",
              "    animation:\n",
              "      spin 1s steps(1) infinite;\n",
              "  }\n",
              "\n",
              "  @keyframes spin {\n",
              "    0% {\n",
              "      border-color: transparent;\n",
              "      border-bottom-color: var(--fill-color);\n",
              "      border-left-color: var(--fill-color);\n",
              "    }\n",
              "    20% {\n",
              "      border-color: transparent;\n",
              "      border-left-color: var(--fill-color);\n",
              "      border-top-color: var(--fill-color);\n",
              "    }\n",
              "    30% {\n",
              "      border-color: transparent;\n",
              "      border-left-color: var(--fill-color);\n",
              "      border-top-color: var(--fill-color);\n",
              "      border-right-color: var(--fill-color);\n",
              "    }\n",
              "    40% {\n",
              "      border-color: transparent;\n",
              "      border-right-color: var(--fill-color);\n",
              "      border-top-color: var(--fill-color);\n",
              "    }\n",
              "    60% {\n",
              "      border-color: transparent;\n",
              "      border-right-color: var(--fill-color);\n",
              "    }\n",
              "    80% {\n",
              "      border-color: transparent;\n",
              "      border-right-color: var(--fill-color);\n",
              "      border-bottom-color: var(--fill-color);\n",
              "    }\n",
              "    90% {\n",
              "      border-color: transparent;\n",
              "      border-bottom-color: var(--fill-color);\n",
              "    }\n",
              "  }\n",
              "</style>\n",
              "\n",
              "  <script>\n",
              "    async function quickchart(key) {\n",
              "      const quickchartButtonEl =\n",
              "        document.querySelector('#' + key + ' button');\n",
              "      quickchartButtonEl.disabled = true;  // To prevent multiple clicks.\n",
              "      quickchartButtonEl.classList.add('colab-df-spinner');\n",
              "      try {\n",
              "        const charts = await google.colab.kernel.invokeFunction(\n",
              "            'suggestCharts', [key], {});\n",
              "      } catch (error) {\n",
              "        console.error('Error during call to suggestCharts:', error);\n",
              "      }\n",
              "      quickchartButtonEl.classList.remove('colab-df-spinner');\n",
              "      quickchartButtonEl.classList.add('colab-df-quickchart-complete');\n",
              "    }\n",
              "    (() => {\n",
              "      let quickchartButtonEl =\n",
              "        document.querySelector('#df-661cbb2f-fea6-4e02-8b47-ca64a5319642 button');\n",
              "      quickchartButtonEl.style.display =\n",
              "        google.colab.kernel.accessAllowed ? 'block' : 'none';\n",
              "    })();\n",
              "  </script>\n",
              "</div>\n",
              "    </div>\n",
              "  </div>\n"
            ]
          },
          "metadata": {},
          "execution_count": 94
        }
      ]
    },
    {
      "cell_type": "code",
      "source": [
        "# Проверяем количество строк\n",
        "print(len(os.listdir(my_drv_path + 'media108.ru/Датасет/Whisper-транскрибация записей звонков/Расшифровки_Записи звонков_павелецкая сити')))\n",
        "print(Paveletskaya_city_transcriptions_df.shape[0])"
      ],
      "metadata": {
        "colab": {
          "base_uri": "https://localhost:8080/"
        },
        "outputId": "d25487ab-dbe3-42b8-a9c1-2f1a8f4f166f",
        "id": "3LVezE6wWyDM"
      },
      "execution_count": null,
      "outputs": [
        {
          "output_type": "stream",
          "name": "stdout",
          "text": [
            "1000\n",
            "1000\n"
          ]
        }
      ]
    },
    {
      "cell_type": "code",
      "source": [
        "print(Paveletskaya_city_transcriptions_df.count())"
      ],
      "metadata": {
        "colab": {
          "base_uri": "https://localhost:8080/"
        },
        "outputId": "730f9612-c02b-40ee-9e46-8f1b780df7e4",
        "id": "wzOU0fAlWyDO"
      },
      "execution_count": null,
      "outputs": [
        {
          "output_type": "stream",
          "name": "stdout",
          "text": [
            "Дата и время                                1000\n",
            "Номер абонента                              1000\n",
            "Номер сотрудника                            1000\n",
            "Идентификатор сессии звонка                 1000\n",
            "Файл whisper-транскрибации записи звонка    1000\n",
            "dtype: int64\n"
          ]
        }
      ]
    },
    {
      "cell_type": "markdown",
      "source": [
        "#### Предобработка"
      ],
      "metadata": {
        "id": "toOVilZNWyDP"
      }
    },
    {
      "cell_type": "markdown",
      "source": [
        "##### 0. Дата и время"
      ],
      "metadata": {
        "id": "YM7ud-1-WyDQ"
      }
    },
    {
      "cell_type": "code",
      "source": [
        "Paveletskaya_city_transcriptions_df['Дата и время'].head()"
      ],
      "metadata": {
        "colab": {
          "base_uri": "https://localhost:8080/"
        },
        "outputId": "b0cced82-8e19-49a1-bf6d-957838868091",
        "id": "Pd1R8R7DWyDR"
      },
      "execution_count": null,
      "outputs": [
        {
          "output_type": "execute_result",
          "data": {
            "text/plain": [
              "0    2023-06-17 12:54:28\n",
              "1    2023-06-17 13:44:17\n",
              "2    2023-06-17 14:08:51\n",
              "3    2023-06-17 14:21:31\n",
              "4    2023-06-17 16:16:05\n",
              "Name: Дата и время, dtype: object"
            ]
          },
          "metadata": {},
          "execution_count": 97
        }
      ]
    },
    {
      "cell_type": "code",
      "source": [
        "# Приводим тип данных столбца 'Дата и время'\n",
        "Paveletskaya_city_transcriptions_df['Дата и время'] = pd.to_datetime(Paveletskaya_city_transcriptions_df['Дата и время'])"
      ],
      "metadata": {
        "id": "b8BUkyp0WyDR"
      },
      "execution_count": null,
      "outputs": []
    },
    {
      "cell_type": "code",
      "source": [
        "Paveletskaya_city_transcriptions_df['Дата и время'].tail()"
      ],
      "metadata": {
        "colab": {
          "base_uri": "https://localhost:8080/"
        },
        "outputId": "f48bd85f-6205-4866-9fbd-47bfba944517",
        "id": "Z7VgQ8xfWyDS"
      },
      "execution_count": null,
      "outputs": [
        {
          "output_type": "execute_result",
          "data": {
            "text/plain": [
              "995   2023-07-20 11:33:48\n",
              "996   2023-07-20 11:36:59\n",
              "997   2023-07-20 11:37:11\n",
              "998   2023-07-20 11:37:36\n",
              "999   2023-07-20 11:43:09\n",
              "Name: Дата и время, dtype: datetime64[ns]"
            ]
          },
          "metadata": {},
          "execution_count": 99
        }
      ]
    },
    {
      "cell_type": "markdown",
      "source": [
        "##### 1. Номер абонента"
      ],
      "metadata": {
        "id": "ny0uIDu2WyDV"
      }
    },
    {
      "cell_type": "code",
      "source": [
        "Paveletskaya_city_transcriptions_df['Номер абонента'].head()"
      ],
      "metadata": {
        "colab": {
          "base_uri": "https://localhost:8080/"
        },
        "outputId": "615f5544-057d-480c-8132-4cc90e7ebf0d",
        "id": "UoeqZzisWyDi"
      },
      "execution_count": null,
      "outputs": [
        {
          "output_type": "execute_result",
          "data": {
            "text/plain": [
              "0    79803286601\n",
              "1    79066743768\n",
              "2    74993205445\n",
              "3    79259041087\n",
              "4    79680303488\n",
              "Name: Номер абонента, dtype: object"
            ]
          },
          "metadata": {},
          "execution_count": 100
        }
      ]
    },
    {
      "cell_type": "code",
      "source": [
        "# Приводим тип данных столбца 'Номер абонента'\n",
        "Paveletskaya_city_transcriptions_df = Paveletskaya_city_transcriptions_df.astype({'Номер абонента': int})"
      ],
      "metadata": {
        "id": "4qm7oG3_WyDj"
      },
      "execution_count": null,
      "outputs": []
    },
    {
      "cell_type": "code",
      "source": [
        "Paveletskaya_city_transcriptions_df['Номер абонента'].tail()"
      ],
      "metadata": {
        "colab": {
          "base_uri": "https://localhost:8080/"
        },
        "outputId": "e9740fbb-185a-440b-d6bd-1799347f1369",
        "id": "zj9n0ea-WyDk"
      },
      "execution_count": null,
      "outputs": [
        {
          "output_type": "execute_result",
          "data": {
            "text/plain": [
              "995    79168455509\n",
              "996    79169021186\n",
              "997    79099624838\n",
              "998    79112808417\n",
              "999    79166458242\n",
              "Name: Номер абонента, dtype: int64"
            ]
          },
          "metadata": {},
          "execution_count": 102
        }
      ]
    },
    {
      "cell_type": "markdown",
      "source": [
        "##### 2. Номер сотрудника"
      ],
      "metadata": {
        "id": "Ioe-vA_vWyDl"
      }
    },
    {
      "cell_type": "code",
      "source": [
        "Paveletskaya_city_transcriptions_df['Номер сотрудника'].head()"
      ],
      "metadata": {
        "colab": {
          "base_uri": "https://localhost:8080/"
        },
        "outputId": "f6eadec8-69fa-465d-dd3f-172cd035929e",
        "id": "QQpnRGIdWyDl"
      },
      "execution_count": null,
      "outputs": [
        {
          "output_type": "execute_result",
          "data": {
            "text/plain": [
              "0    74950216267\n",
              "1    74950216267\n",
              "2    74955141111\n",
              "3    74950216267\n",
              "4    74950216267\n",
              "Name: Номер сотрудника, dtype: object"
            ]
          },
          "metadata": {},
          "execution_count": 103
        }
      ]
    },
    {
      "cell_type": "code",
      "source": [
        "# Приводим тип данных столбца 'Номер сотрудника'\n",
        "Paveletskaya_city_transcriptions_df = Paveletskaya_city_transcriptions_df.astype({'Номер сотрудника': int})"
      ],
      "metadata": {
        "id": "e2FnZ89MWyDm"
      },
      "execution_count": null,
      "outputs": []
    },
    {
      "cell_type": "code",
      "source": [
        "Paveletskaya_city_transcriptions_df['Номер сотрудника'].tail()"
      ],
      "metadata": {
        "colab": {
          "base_uri": "https://localhost:8080/"
        },
        "outputId": "3666ad3c-7a09-423f-ba7d-e89acae50453",
        "id": "oub05ogNWyDn"
      },
      "execution_count": null,
      "outputs": [
        {
          "output_type": "execute_result",
          "data": {
            "text/plain": [
              "995    74955141111\n",
              "996    74950216267\n",
              "997    74950216267\n",
              "998    74955141111\n",
              "999    74950216267\n",
              "Name: Номер сотрудника, dtype: int64"
            ]
          },
          "metadata": {},
          "execution_count": 105
        }
      ]
    },
    {
      "cell_type": "markdown",
      "source": [
        "##### 3. Идентификатор сессии звонка"
      ],
      "metadata": {
        "id": "oEXIMjsiWyDn"
      }
    },
    {
      "cell_type": "code",
      "source": [
        "Paveletskaya_city_transcriptions_df['Идентификатор сессии звонка'].head()"
      ],
      "metadata": {
        "colab": {
          "base_uri": "https://localhost:8080/"
        },
        "outputId": "191756fe-b382-4103-beaf-192b09319290",
        "id": "lkebhdhWWyDn"
      },
      "execution_count": null,
      "outputs": [
        {
          "output_type": "execute_result",
          "data": {
            "text/plain": [
              "0    3029638181\n",
              "1    3029352265\n",
              "2    3029390475\n",
              "3    3029730813\n",
              "4    3029596520\n",
              "Name: Идентификатор сессии звонка, dtype: object"
            ]
          },
          "metadata": {},
          "execution_count": 106
        }
      ]
    },
    {
      "cell_type": "code",
      "source": [
        "# Приводим тип данных столбца 'Идентификатор сессии звонка'\n",
        "Paveletskaya_city_transcriptions_df = Paveletskaya_city_transcriptions_df.astype({'Идентификатор сессии звонка': int})"
      ],
      "metadata": {
        "id": "5yphPC6jWyDo"
      },
      "execution_count": null,
      "outputs": []
    },
    {
      "cell_type": "code",
      "source": [
        "Paveletskaya_city_transcriptions_df['Идентификатор сессии звонка'].tail()"
      ],
      "metadata": {
        "colab": {
          "base_uri": "https://localhost:8080/"
        },
        "outputId": "366b9f32-b3ca-463f-8954-312caee3fb40",
        "id": "6I87ZMaQWyDp"
      },
      "execution_count": null,
      "outputs": [
        {
          "output_type": "execute_result",
          "data": {
            "text/plain": [
              "995    3099626809\n",
              "996    3100336231\n",
              "997    3105745185\n",
              "998    3100336696\n",
              "999    3099686224\n",
              "Name: Идентификатор сессии звонка, dtype: int64"
            ]
          },
          "metadata": {},
          "execution_count": 108
        }
      ]
    },
    {
      "cell_type": "markdown",
      "source": [
        "##### 4. Файл whisper-транскрибации записи звонка"
      ],
      "metadata": {
        "id": "62lmUyqgWyDq"
      }
    },
    {
      "cell_type": "code",
      "source": [
        "Paveletskaya_city_transcriptions_df['Файл whisper-транскрибации записи звонка'].head()"
      ],
      "metadata": {
        "colab": {
          "base_uri": "https://localhost:8080/"
        },
        "outputId": "a5058885-d2de-4f2d-837d-b158374b21c8",
        "id": "WW2NGuDvWyDr"
      },
      "execution_count": null,
      "outputs": [
        {
          "output_type": "execute_result",
          "data": {
            "text/plain": [
              "0    2023-06-17_12-54-28.210462_from_79803286601_to_74950216267_session_3029638181_talk_whisper_large.txt\n",
              "1    2023-06-17_13-44-17.539114_from_79066743768_to_74950216267_session_3029352265_talk_whisper_large.txt\n",
              "2    2023-06-17_14-08-51.827169_from_74993205445_to_74955141111_session_3029390475_talk_whisper_large.txt\n",
              "3    2023-06-17_14-21-31.493157_from_79259041087_to_74950216267_session_3029730813_talk_whisper_large.txt\n",
              "4    2023-06-17_16-16-05.571252_from_79680303488_to_74950216267_session_3029596520_talk_whisper_large.txt\n",
              "Name: Файл whisper-транскрибации записи звонка, dtype: object"
            ]
          },
          "metadata": {},
          "execution_count": 110
        }
      ]
    },
    {
      "cell_type": "code",
      "source": [
        "# Добавляем к файлам относительные пути\n",
        "Paveletskaya_city_transcriptions_df['Файл whisper-транскрибации записи звонка'] = Paveletskaya_city_transcriptions_df['Файл whisper-транскрибации записи звонка'].apply(lambda x: 'Whisper-транскрибация записей звонков/Расшифровки_Записи звонков_павелецкая сити/' + x)"
      ],
      "metadata": {
        "id": "4ej6w-NBWyD3"
      },
      "execution_count": null,
      "outputs": []
    },
    {
      "cell_type": "code",
      "source": [
        "Paveletskaya_city_transcriptions_df['Файл whisper-транскрибации записи звонка'].tail()"
      ],
      "metadata": {
        "colab": {
          "base_uri": "https://localhost:8080/"
        },
        "outputId": "2a7889fb-b80e-494e-ac45-94726a3f39f8",
        "id": "Tzcbu_-hWyD4"
      },
      "execution_count": null,
      "outputs": [
        {
          "output_type": "execute_result",
          "data": {
            "text/plain": [
              "995    Whisper-транскрибация записей звонков/Расшифровки_Записи звонков_павелецкая сити/2023-07-20_11-33-48.269480_from_79168455509_to_74955141111_session_3099626809_talk_whisper_large.txt\n",
              "996    Whisper-транскрибация записей звонков/Расшифровки_Записи звонков_павелецкая сити/2023-07-20_11-36-59.633997_from_79169021186_to_74950216267_session_3100336231_talk_whisper_large.txt\n",
              "997    Whisper-транскрибация записей звонков/Расшифровки_Записи звонков_павелецкая сити/2023-07-20_11-37-11.094292_from_79099624838_to_74950216267_session_3105745185_talk_whisper_large.txt\n",
              "998    Whisper-транскрибация записей звонков/Расшифровки_Записи звонков_павелецкая сити/2023-07-20_11-37-36.619972_from_79112808417_to_74955141111_session_3100336696_talk_whisper_large.txt\n",
              "999    Whisper-транскрибация записей звонков/Расшифровки_Записи звонков_павелецкая сити/2023-07-20_11-43-09.262964_from_79166458242_to_74950216267_session_3099686224_talk_whisper_large.txt\n",
              "Name: Файл whisper-транскрибации записи звонка, dtype: object"
            ]
          },
          "metadata": {},
          "execution_count": 112
        }
      ]
    },
    {
      "cell_type": "markdown",
      "source": [
        "##### 5. Текст whisper-транскрибации записи звонка"
      ],
      "metadata": {
        "id": "wi6JeCQCWyD4"
      }
    },
    {
      "cell_type": "code",
      "source": [
        "# Добавляем столбец 'Текст whisper-транскрибации записи звонка'\n",
        "Paveletskaya_city_transcriptions_df['Текст whisper-транскрибации записи звонка'] = 'нет текста транскрибации звонка'\n",
        "Paveletskaya_city_transcriptions_df.head()"
      ],
      "metadata": {
        "colab": {
          "base_uri": "https://localhost:8080/",
          "height": 328
        },
        "outputId": "0ee59501-798f-4705-c3d5-dd37a7f4896d",
        "id": "SRWVr-7NWyD5"
      },
      "execution_count": null,
      "outputs": [
        {
          "output_type": "execute_result",
          "data": {
            "text/plain": [
              "         Дата и время  Номер абонента  Номер сотрудника  \\\n",
              "0 2023-06-17 12:54:28     79803286601       74950216267   \n",
              "1 2023-06-17 13:44:17     79066743768       74950216267   \n",
              "2 2023-06-17 14:08:51     74993205445       74955141111   \n",
              "3 2023-06-17 14:21:31     79259041087       74950216267   \n",
              "4 2023-06-17 16:16:05     79680303488       74950216267   \n",
              "\n",
              "   Идентификатор сессии звонка  \\\n",
              "0                   3029638181   \n",
              "1                   3029352265   \n",
              "2                   3029390475   \n",
              "3                   3029730813   \n",
              "4                   3029596520   \n",
              "\n",
              "                                                                                                                                                Файл whisper-транскрибации записи звонка  \\\n",
              "0  Whisper-транскрибация записей звонков/Расшифровки_Записи звонков_павелецкая сити/2023-06-17_12-54-28.210462_from_79803286601_to_74950216267_session_3029638181_talk_whisper_large.txt   \n",
              "1  Whisper-транскрибация записей звонков/Расшифровки_Записи звонков_павелецкая сити/2023-06-17_13-44-17.539114_from_79066743768_to_74950216267_session_3029352265_talk_whisper_large.txt   \n",
              "2  Whisper-транскрибация записей звонков/Расшифровки_Записи звонков_павелецкая сити/2023-06-17_14-08-51.827169_from_74993205445_to_74955141111_session_3029390475_talk_whisper_large.txt   \n",
              "3  Whisper-транскрибация записей звонков/Расшифровки_Записи звонков_павелецкая сити/2023-06-17_14-21-31.493157_from_79259041087_to_74950216267_session_3029730813_talk_whisper_large.txt   \n",
              "4  Whisper-транскрибация записей звонков/Расшифровки_Записи звонков_павелецкая сити/2023-06-17_16-16-05.571252_from_79680303488_to_74950216267_session_3029596520_talk_whisper_large.txt   \n",
              "\n",
              "  Текст whisper-транскрибации записи звонка  \n",
              "0           нет текста транскрибации звонка  \n",
              "1           нет текста транскрибации звонка  \n",
              "2           нет текста транскрибации звонка  \n",
              "3           нет текста транскрибации звонка  \n",
              "4           нет текста транскрибации звонка  "
            ],
            "text/html": [
              "\n",
              "  <div id=\"df-84ed357a-9566-4fc3-a197-dbfaa3b1bc4e\" class=\"colab-df-container\">\n",
              "    <div>\n",
              "<style scoped>\n",
              "    .dataframe tbody tr th:only-of-type {\n",
              "        vertical-align: middle;\n",
              "    }\n",
              "\n",
              "    .dataframe tbody tr th {\n",
              "        vertical-align: top;\n",
              "    }\n",
              "\n",
              "    .dataframe thead th {\n",
              "        text-align: right;\n",
              "    }\n",
              "</style>\n",
              "<table border=\"1\" class=\"dataframe\">\n",
              "  <thead>\n",
              "    <tr style=\"text-align: right;\">\n",
              "      <th></th>\n",
              "      <th>Дата и время</th>\n",
              "      <th>Номер абонента</th>\n",
              "      <th>Номер сотрудника</th>\n",
              "      <th>Идентификатор сессии звонка</th>\n",
              "      <th>Файл whisper-транскрибации записи звонка</th>\n",
              "      <th>Текст whisper-транскрибации записи звонка</th>\n",
              "    </tr>\n",
              "  </thead>\n",
              "  <tbody>\n",
              "    <tr>\n",
              "      <th>0</th>\n",
              "      <td>2023-06-17 12:54:28</td>\n",
              "      <td>79803286601</td>\n",
              "      <td>74950216267</td>\n",
              "      <td>3029638181</td>\n",
              "      <td>Whisper-транскрибация записей звонков/Расшифровки_Записи звонков_павелецкая сити/2023-06-17_12-54-28.210462_from_79803286601_to_74950216267_session_3029638181_talk_whisper_large.txt</td>\n",
              "      <td>нет текста транскрибации звонка</td>\n",
              "    </tr>\n",
              "    <tr>\n",
              "      <th>1</th>\n",
              "      <td>2023-06-17 13:44:17</td>\n",
              "      <td>79066743768</td>\n",
              "      <td>74950216267</td>\n",
              "      <td>3029352265</td>\n",
              "      <td>Whisper-транскрибация записей звонков/Расшифровки_Записи звонков_павелецкая сити/2023-06-17_13-44-17.539114_from_79066743768_to_74950216267_session_3029352265_talk_whisper_large.txt</td>\n",
              "      <td>нет текста транскрибации звонка</td>\n",
              "    </tr>\n",
              "    <tr>\n",
              "      <th>2</th>\n",
              "      <td>2023-06-17 14:08:51</td>\n",
              "      <td>74993205445</td>\n",
              "      <td>74955141111</td>\n",
              "      <td>3029390475</td>\n",
              "      <td>Whisper-транскрибация записей звонков/Расшифровки_Записи звонков_павелецкая сити/2023-06-17_14-08-51.827169_from_74993205445_to_74955141111_session_3029390475_talk_whisper_large.txt</td>\n",
              "      <td>нет текста транскрибации звонка</td>\n",
              "    </tr>\n",
              "    <tr>\n",
              "      <th>3</th>\n",
              "      <td>2023-06-17 14:21:31</td>\n",
              "      <td>79259041087</td>\n",
              "      <td>74950216267</td>\n",
              "      <td>3029730813</td>\n",
              "      <td>Whisper-транскрибация записей звонков/Расшифровки_Записи звонков_павелецкая сити/2023-06-17_14-21-31.493157_from_79259041087_to_74950216267_session_3029730813_talk_whisper_large.txt</td>\n",
              "      <td>нет текста транскрибации звонка</td>\n",
              "    </tr>\n",
              "    <tr>\n",
              "      <th>4</th>\n",
              "      <td>2023-06-17 16:16:05</td>\n",
              "      <td>79680303488</td>\n",
              "      <td>74950216267</td>\n",
              "      <td>3029596520</td>\n",
              "      <td>Whisper-транскрибация записей звонков/Расшифровки_Записи звонков_павелецкая сити/2023-06-17_16-16-05.571252_from_79680303488_to_74950216267_session_3029596520_talk_whisper_large.txt</td>\n",
              "      <td>нет текста транскрибации звонка</td>\n",
              "    </tr>\n",
              "  </tbody>\n",
              "</table>\n",
              "</div>\n",
              "    <div class=\"colab-df-buttons\">\n",
              "\n",
              "  <div class=\"colab-df-container\">\n",
              "    <button class=\"colab-df-convert\" onclick=\"convertToInteractive('df-84ed357a-9566-4fc3-a197-dbfaa3b1bc4e')\"\n",
              "            title=\"Convert this dataframe to an interactive table.\"\n",
              "            style=\"display:none;\">\n",
              "\n",
              "  <svg xmlns=\"http://www.w3.org/2000/svg\" height=\"24px\" viewBox=\"0 -960 960 960\">\n",
              "    <path d=\"M120-120v-720h720v720H120Zm60-500h600v-160H180v160Zm220 220h160v-160H400v160Zm0 220h160v-160H400v160ZM180-400h160v-160H180v160Zm440 0h160v-160H620v160ZM180-180h160v-160H180v160Zm440 0h160v-160H620v160Z\"/>\n",
              "  </svg>\n",
              "    </button>\n",
              "\n",
              "  <style>\n",
              "    .colab-df-container {\n",
              "      display:flex;\n",
              "      gap: 12px;\n",
              "    }\n",
              "\n",
              "    .colab-df-convert {\n",
              "      background-color: #E8F0FE;\n",
              "      border: none;\n",
              "      border-radius: 50%;\n",
              "      cursor: pointer;\n",
              "      display: none;\n",
              "      fill: #1967D2;\n",
              "      height: 32px;\n",
              "      padding: 0 0 0 0;\n",
              "      width: 32px;\n",
              "    }\n",
              "\n",
              "    .colab-df-convert:hover {\n",
              "      background-color: #E2EBFA;\n",
              "      box-shadow: 0px 1px 2px rgba(60, 64, 67, 0.3), 0px 1px 3px 1px rgba(60, 64, 67, 0.15);\n",
              "      fill: #174EA6;\n",
              "    }\n",
              "\n",
              "    .colab-df-buttons div {\n",
              "      margin-bottom: 4px;\n",
              "    }\n",
              "\n",
              "    [theme=dark] .colab-df-convert {\n",
              "      background-color: #3B4455;\n",
              "      fill: #D2E3FC;\n",
              "    }\n",
              "\n",
              "    [theme=dark] .colab-df-convert:hover {\n",
              "      background-color: #434B5C;\n",
              "      box-shadow: 0px 1px 3px 1px rgba(0, 0, 0, 0.15);\n",
              "      filter: drop-shadow(0px 1px 2px rgba(0, 0, 0, 0.3));\n",
              "      fill: #FFFFFF;\n",
              "    }\n",
              "  </style>\n",
              "\n",
              "    <script>\n",
              "      const buttonEl =\n",
              "        document.querySelector('#df-84ed357a-9566-4fc3-a197-dbfaa3b1bc4e button.colab-df-convert');\n",
              "      buttonEl.style.display =\n",
              "        google.colab.kernel.accessAllowed ? 'block' : 'none';\n",
              "\n",
              "      async function convertToInteractive(key) {\n",
              "        const element = document.querySelector('#df-84ed357a-9566-4fc3-a197-dbfaa3b1bc4e');\n",
              "        const dataTable =\n",
              "          await google.colab.kernel.invokeFunction('convertToInteractive',\n",
              "                                                    [key], {});\n",
              "        if (!dataTable) return;\n",
              "\n",
              "        const docLinkHtml = 'Like what you see? Visit the ' +\n",
              "          '<a target=\"_blank\" href=https://colab.research.google.com/notebooks/data_table.ipynb>data table notebook</a>'\n",
              "          + ' to learn more about interactive tables.';\n",
              "        element.innerHTML = '';\n",
              "        dataTable['output_type'] = 'display_data';\n",
              "        await google.colab.output.renderOutput(dataTable, element);\n",
              "        const docLink = document.createElement('div');\n",
              "        docLink.innerHTML = docLinkHtml;\n",
              "        element.appendChild(docLink);\n",
              "      }\n",
              "    </script>\n",
              "  </div>\n",
              "\n",
              "\n",
              "<div id=\"df-f3a4d451-90de-47a7-a74a-de775b89d239\">\n",
              "  <button class=\"colab-df-quickchart\" onclick=\"quickchart('df-f3a4d451-90de-47a7-a74a-de775b89d239')\"\n",
              "            title=\"Suggest charts\"\n",
              "            style=\"display:none;\">\n",
              "\n",
              "<svg xmlns=\"http://www.w3.org/2000/svg\" height=\"24px\"viewBox=\"0 0 24 24\"\n",
              "     width=\"24px\">\n",
              "    <g>\n",
              "        <path d=\"M19 3H5c-1.1 0-2 .9-2 2v14c0 1.1.9 2 2 2h14c1.1 0 2-.9 2-2V5c0-1.1-.9-2-2-2zM9 17H7v-7h2v7zm4 0h-2V7h2v10zm4 0h-2v-4h2v4z\"/>\n",
              "    </g>\n",
              "</svg>\n",
              "  </button>\n",
              "\n",
              "<style>\n",
              "  .colab-df-quickchart {\n",
              "      --bg-color: #E8F0FE;\n",
              "      --fill-color: #1967D2;\n",
              "      --hover-bg-color: #E2EBFA;\n",
              "      --hover-fill-color: #174EA6;\n",
              "      --disabled-fill-color: #AAA;\n",
              "      --disabled-bg-color: #DDD;\n",
              "  }\n",
              "\n",
              "  [theme=dark] .colab-df-quickchart {\n",
              "      --bg-color: #3B4455;\n",
              "      --fill-color: #D2E3FC;\n",
              "      --hover-bg-color: #434B5C;\n",
              "      --hover-fill-color: #FFFFFF;\n",
              "      --disabled-bg-color: #3B4455;\n",
              "      --disabled-fill-color: #666;\n",
              "  }\n",
              "\n",
              "  .colab-df-quickchart {\n",
              "    background-color: var(--bg-color);\n",
              "    border: none;\n",
              "    border-radius: 50%;\n",
              "    cursor: pointer;\n",
              "    display: none;\n",
              "    fill: var(--fill-color);\n",
              "    height: 32px;\n",
              "    padding: 0;\n",
              "    width: 32px;\n",
              "  }\n",
              "\n",
              "  .colab-df-quickchart:hover {\n",
              "    background-color: var(--hover-bg-color);\n",
              "    box-shadow: 0 1px 2px rgba(60, 64, 67, 0.3), 0 1px 3px 1px rgba(60, 64, 67, 0.15);\n",
              "    fill: var(--button-hover-fill-color);\n",
              "  }\n",
              "\n",
              "  .colab-df-quickchart-complete:disabled,\n",
              "  .colab-df-quickchart-complete:disabled:hover {\n",
              "    background-color: var(--disabled-bg-color);\n",
              "    fill: var(--disabled-fill-color);\n",
              "    box-shadow: none;\n",
              "  }\n",
              "\n",
              "  .colab-df-spinner {\n",
              "    border: 2px solid var(--fill-color);\n",
              "    border-color: transparent;\n",
              "    border-bottom-color: var(--fill-color);\n",
              "    animation:\n",
              "      spin 1s steps(1) infinite;\n",
              "  }\n",
              "\n",
              "  @keyframes spin {\n",
              "    0% {\n",
              "      border-color: transparent;\n",
              "      border-bottom-color: var(--fill-color);\n",
              "      border-left-color: var(--fill-color);\n",
              "    }\n",
              "    20% {\n",
              "      border-color: transparent;\n",
              "      border-left-color: var(--fill-color);\n",
              "      border-top-color: var(--fill-color);\n",
              "    }\n",
              "    30% {\n",
              "      border-color: transparent;\n",
              "      border-left-color: var(--fill-color);\n",
              "      border-top-color: var(--fill-color);\n",
              "      border-right-color: var(--fill-color);\n",
              "    }\n",
              "    40% {\n",
              "      border-color: transparent;\n",
              "      border-right-color: var(--fill-color);\n",
              "      border-top-color: var(--fill-color);\n",
              "    }\n",
              "    60% {\n",
              "      border-color: transparent;\n",
              "      border-right-color: var(--fill-color);\n",
              "    }\n",
              "    80% {\n",
              "      border-color: transparent;\n",
              "      border-right-color: var(--fill-color);\n",
              "      border-bottom-color: var(--fill-color);\n",
              "    }\n",
              "    90% {\n",
              "      border-color: transparent;\n",
              "      border-bottom-color: var(--fill-color);\n",
              "    }\n",
              "  }\n",
              "</style>\n",
              "\n",
              "  <script>\n",
              "    async function quickchart(key) {\n",
              "      const quickchartButtonEl =\n",
              "        document.querySelector('#' + key + ' button');\n",
              "      quickchartButtonEl.disabled = true;  // To prevent multiple clicks.\n",
              "      quickchartButtonEl.classList.add('colab-df-spinner');\n",
              "      try {\n",
              "        const charts = await google.colab.kernel.invokeFunction(\n",
              "            'suggestCharts', [key], {});\n",
              "      } catch (error) {\n",
              "        console.error('Error during call to suggestCharts:', error);\n",
              "      }\n",
              "      quickchartButtonEl.classList.remove('colab-df-spinner');\n",
              "      quickchartButtonEl.classList.add('colab-df-quickchart-complete');\n",
              "    }\n",
              "    (() => {\n",
              "      let quickchartButtonEl =\n",
              "        document.querySelector('#df-f3a4d451-90de-47a7-a74a-de775b89d239 button');\n",
              "      quickchartButtonEl.style.display =\n",
              "        google.colab.kernel.accessAllowed ? 'block' : 'none';\n",
              "    })();\n",
              "  </script>\n",
              "</div>\n",
              "    </div>\n",
              "  </div>\n"
            ]
          },
          "metadata": {},
          "execution_count": 113
        }
      ]
    },
    {
      "cell_type": "code",
      "source": [
        "for row in Paveletskaya_city_transcriptions_df.index:\n",
        "  with open(my_drv_path + 'media108.ru/Датасет/' + Paveletskaya_city_transcriptions_df.loc[row, ['Файл whisper-транскрибации записи звонка']].values[0], 'rb') as f:\n",
        "    contents = f.read()\n",
        "  Paveletskaya_city_transcriptions_df.loc[row, ['Текст whisper-транскрибации записи звонка']] = contents.decode('utf-16').strip()"
      ],
      "metadata": {
        "id": "OMaqTerPWyD5"
      },
      "execution_count": null,
      "outputs": []
    },
    {
      "cell_type": "code",
      "source": [
        "Paveletskaya_city_transcriptions_df['Текст whisper-транскрибации записи звонка'].head()"
      ],
      "metadata": {
        "colab": {
          "base_uri": "https://localhost:8080/"
        },
        "outputId": "6101dce4-fb0b-4dc1-8d6a-8f8640bad345",
        "id": "kjxtCcOBWyD6"
      },
      "execution_count": null,
      "outputs": [
        {
          "output_type": "execute_result",
          "data": {
            "text/plain": [
              "0    Здравствуйте! Вы позвонили в компанию Эмергрупп. Пожалуйста, дождитесь ответа нашего специалиста. Обращаем ваше внимание, что в целях улучшения качества обслуживания клиентов все разговоры записываются. Продолжая разговор, вы соглашаетесь на обработку ваших персональных данных. Компания Эмергрупп. Меня зовут Ольга. Здравствуйте. Добрый. Портал «Где этот дом?». Клиент Николай. ЖК «Павелецкая Сити». Смотрит двухкомнатные. Бюджет 30 миллионов. Возможно, больше. Алло. Добрый день. Николай, здравствуйте. Мне сказали, что у вас не присутствует проект «Павелецкая Сити». Все верно? Да. Хорошо. Я вас перейду на менеджера. Оставайтесь у нас на линии. По окончании разговора, пожалуйста, оцените качество обслуживания. Николай, добрый день. Меня зовут Дмитрий. Жилой комплекс «Павелецкая Сити». Чем могу быть полезен? Квартира квадратов порядка 60. 60 квадратных метров. О нашем комплексе уже что-то знаете, слышали? Пока нет. Пока не знаете. Локацию представляете нашу? Да, я знаю. Николай, кварти...\n",
              "1    Здравствуйте! Вы позвонили в компанию ЭМР-Групп. Пожалуйста, дождитесь ответа нашего специалиста. Обращаем ваше внимание, что в целях улучшения качества обслуживания клиентов все разговоры записываются. Продолжая разговор, вы соглашаетесь на обработку ваших персональных данных. Компания ЭМР-Групп, меня зовут Ольга, здравствуйте. Здравствуйте, Ольга, звонок от Румбери на линии Дмитрий, интересует Павелецкая сеть, 2-й квартал 23, встреча с тобой 3 евро, интересует около 60 квадратов, наличный расчет в бюджете около 30 плюс-минус. Да. Спасибо. Дмитрий? Да-да. Здравствуйте, мне сказали, что вас не стоит поискать Павелецкая сеть, это все верно? Да. Единственное, что я хотел сказать, знаете, что мы сможем с вами переговорить на эту тему, просто я буквально сейчас через несколько минут должен буду положить трубку. Если во вторник с утра, с первого дня, вы меня наберете по этому вопросу, можно будет так сделать? Так, во вторник, да? Да, и мне предварительно, если можно, скинуть локацию, н...\n",
              "2    Здравствуйте! Вы позвонили в компанию Эмергрупп. Пожалуйста, дождитесь ответа нашего специалиста. Обращаем ваше внимание, что в целях улучшения качества обслуживания клиентов все разговоры записываются. Продолжая разговор, вы соглашаетесь на обработку ваших персональных данных. Компания Эмергрупп, меня зовут Ирина. Здравствуйте! Здравствуйте! Скажите, пожалуйста, я вот был в вашей компании или нет? Я рассматриваю в этой вот локации. Некоторые компании посещал, но что-то вот не знаю. Был я у вас или нет? А у нас-то где? Вот на Павелевской, вот там вот у вас какой-то комплекс. Это с отделом продаж нужно. Если я не ошибаюсь по голосу, Сергей Владимирович. А, да-да-да, с вами разговаривал, да? Мы с вами разговаривали, но я так и не смогла дозвониться до отдела продаж. Я попробую еще раз. Останьтесь, пожалуйста, на линии. По окончании разговора, пожалуйста, оцените качество обслуживания. Нам очень важно ваше мнение о качестве обслуживания, поэтому предлагаем вам ответить на несколько к...\n",
              "3    Здравствуйте! Вы позвонили в компанию MR Group. Пожалуйста, дождитесь ответа нашего специалиста. Обращаем ваше внимание, что в целях улучшения качества обслуживания клиентов все разговоры записываются. Продолжая разговор, вы соглашаетесь на обработку ваших персональных данных. Компания MR Group, меня зовут Ольга, здравствуйте. Здравствуйте. Здравствуйте. Вас интересует покупка квартиры ЖК Провилецкая, Сейси? Ну, скорее, что да, в Плеснице, в Сейси. Хорошо, тогда перейду вас на менеджера. Скажите, как вас зовут? Женя. По окончании разговора, пожалуйста, оцените качество обслуживания. Добрый день, я Дмитрий, Провилецкая Сити. Слушаю вас. Да, здравствуйте. Хотел бы узнать, евро трешки есть у вас в Сахаре? Евро трешки? Да. Да, квартира с двумя спальнями у нас представлена от 58 метров до 66. Угу. Что такое? Что еще раз? Вопрос следующий. Какие-то корпуса есть, данные, которые мы можем видеть, посмотреть, что здесь оказывается? У нас сейчас в первую очередь она введена в эксплуатацию, ...\n",
              "4    Здравствуйте! Вы позвонили в компанию MR Group. Пожалуйста, дождитесь ответа нашего специалиста. Обращаем ваше внимание, что в целях улучшения качества обслуживания клиентов все разговоры записываются. Продолжая разговор, вы соглашаетесь на обработку ваших персональных данных. Компания MR Group, меня зовут Ирина. Здравствуйте! Алло, здравствуйте! А с кем бы вы общались по поводу повелевки сети? Вас интересует покупка жилой недвижимости? Да, интересует однокомнатная квартира. Хорошо, я соединю вас с менеджером объекта. Как можно обращаться к вам? Евгению. Благодарю вас. Спасибо. По окончании разговора, пожалуйста, оцените качество обслуживания. Евгения, здравствуйте! Меня зовут Марина, менеджер отдела продаж повелевской сети. Чем могу быть полезна для вас, Евгения? Да, здравствуйте! Меня вот интересует однокомнатная квартира, ну, с полноценной спальней отдельной и, соответственно, гостиная с кухней. Какие, в общем-то, варианты есть интересные? С большим удовольствием с вами общаюсь...\n",
              "Name: Текст whisper-транскрибации записи звонка, dtype: object"
            ]
          },
          "metadata": {},
          "execution_count": 116
        }
      ]
    },
    {
      "cell_type": "markdown",
      "source": [
        "#### Типы данных"
      ],
      "metadata": {
        "id": "RORpMyb1WyD6"
      }
    },
    {
      "cell_type": "code",
      "source": [
        "# Смотрим типы данных\n",
        "Paveletskaya_city_transcriptions_df.dtypes"
      ],
      "metadata": {
        "colab": {
          "base_uri": "https://localhost:8080/"
        },
        "outputId": "f496addb-393e-4342-a2b9-931b5a9b2ff7",
        "id": "JYKfL-zgWyD7"
      },
      "execution_count": null,
      "outputs": [
        {
          "output_type": "execute_result",
          "data": {
            "text/plain": [
              "Дата и время                                 datetime64[ns]\n",
              "Номер абонента                                        int64\n",
              "Номер сотрудника                                      int64\n",
              "Идентификатор сессии звонка                           int64\n",
              "Файл whisper-транскрибации записи звонка             object\n",
              "Текст whisper-транскрибации записи звонка            object\n",
              "dtype: object"
            ]
          },
          "metadata": {},
          "execution_count": 117
        }
      ]
    },
    {
      "cell_type": "code",
      "source": [
        "print(Paveletskaya_city_transcriptions_df.count())"
      ],
      "metadata": {
        "colab": {
          "base_uri": "https://localhost:8080/"
        },
        "outputId": "97f3d9fc-c251-425f-803d-e28ab2c3d9ec",
        "id": "qVhW-uYuWyD8"
      },
      "execution_count": null,
      "outputs": [
        {
          "output_type": "stream",
          "name": "stdout",
          "text": [
            "Дата и время                                 1000\n",
            "Номер абонента                               1000\n",
            "Номер сотрудника                             1000\n",
            "Идентификатор сессии звонка                  1000\n",
            "Файл whisper-транскрибации записи звонка     1000\n",
            "Текст whisper-транскрибации записи звонка    1000\n",
            "dtype: int64\n"
          ]
        }
      ]
    },
    {
      "cell_type": "markdown",
      "source": [
        "#### Сохранение датафрейма"
      ],
      "metadata": {
        "id": "E_hV7RCpWyD9"
      }
    },
    {
      "cell_type": "code",
      "source": [
        "# Сохраняем Paveletskaya_city_transcriptions_df в файл\n",
        "with open(df_path + 'Paveletskaya_city_transcriptions_df.pkl', 'wb') as f:\n",
        "  pkl.dump(Paveletskaya_city_transcriptions_df, f)"
      ],
      "metadata": {
        "id": "wZWpxIQmWyD9"
      },
      "execution_count": null,
      "outputs": []
    },
    {
      "cell_type": "markdown",
      "source": [
        "## Файлы транскрибации новых записей звонков"
      ],
      "metadata": {
        "id": "bSHed3Lj_fNP"
      }
    },
    {
      "cell_type": "code",
      "source": [
        "os.listdir(my_drv_path + 'media108.ru/Датасет/Whisper-транскрибация новых записей звонков')"
      ],
      "metadata": {
        "colab": {
          "base_uri": "https://localhost:8080/"
        },
        "outputId": "7131cfab-edfc-4cf4-8b86-9576da901059",
        "id": "YVWvEGiQ_fNQ"
      },
      "execution_count": null,
      "outputs": [
        {
          "output_type": "execute_result",
          "data": {
            "text/plain": [
              "['Расшифровки_Записи Headliner',\n",
              " 'Расшифровки_Записи Primavera',\n",
              " 'Расшифровки_Записи Павелецкая сити']"
            ]
          },
          "metadata": {},
          "execution_count": 120
        }
      ]
    },
    {
      "cell_type": "code",
      "source": [
        "print(f\"        Headliner: {len(os.listdir(my_drv_path + 'media108.ru/Датасет/Whisper-транскрибация новых записей звонков/Расшифровки_Записи Headliner')):4d} записей\")\n",
        "print(f\"        Primavera: {len(os.listdir(my_drv_path + 'media108.ru/Датасет/Whisper-транскрибация новых записей звонков/Расшифровки_Записи Primavera')):4d} записей\")\n",
        "print(f\"Paveletskaya_city: {len(os.listdir(my_drv_path + 'media108.ru/Датасет/Whisper-транскрибация новых записей звонков/Расшифровки_Записи Павелецкая сити')):4d} записей\")"
      ],
      "metadata": {
        "colab": {
          "base_uri": "https://localhost:8080/"
        },
        "outputId": "c141cef9-e3e5-44ed-e0de-ae939f4b006b",
        "id": "mvMyzQ8a_fNS"
      },
      "execution_count": null,
      "outputs": [
        {
          "output_type": "stream",
          "name": "stdout",
          "text": [
            "        Headliner: 1226 записей\n",
            "        Primavera:  767 записей\n",
            "Paveletskaya_city: 1413 записей\n"
          ]
        }
      ]
    },
    {
      "cell_type": "markdown",
      "source": [
        "### Headliner"
      ],
      "metadata": {
        "id": "g6GOaeHz_fNT"
      }
    },
    {
      "cell_type": "markdown",
      "source": [
        "#### Создание датафрейма"
      ],
      "metadata": {
        "id": "a2FQcImK_fNU"
      }
    },
    {
      "cell_type": "code",
      "source": [
        "# Создаём датафрейм из списка файлов транскрибации звонков Headliner\n",
        "Headliner_transcriptions_df = transcriptions_list_to_df(os.listdir(my_drv_path + 'media108.ru/Датасет/Whisper-транскрибация новых записей звонков/Расшифровки_Записи Headliner'))\n",
        "Headliner_transcriptions_df.shape"
      ],
      "metadata": {
        "colab": {
          "base_uri": "https://localhost:8080/"
        },
        "outputId": "c2825b81-82c6-462e-9a47-e983918451ff",
        "id": "AJTHC9Zy_fNW"
      },
      "execution_count": null,
      "outputs": [
        {
          "output_type": "execute_result",
          "data": {
            "text/plain": [
              "(1226, 5)"
            ]
          },
          "metadata": {},
          "execution_count": 122
        }
      ]
    },
    {
      "cell_type": "code",
      "source": [
        "Headliner_transcriptions_df.head()"
      ],
      "metadata": {
        "colab": {
          "base_uri": "https://localhost:8080/",
          "height": 206
        },
        "outputId": "711ae4e0-2266-4549-df72-822046e59e21",
        "id": "yR6ysq6T_fNW"
      },
      "execution_count": null,
      "outputs": [
        {
          "output_type": "execute_result",
          "data": {
            "text/plain": [
              "          Дата и время Номер абонента Номер сотрудника  \\\n",
              "0  2023-09-01 11:18:46    79133420036          0188880   \n",
              "1  2023-09-01 12:07:24    79687467064      74959339929   \n",
              "2  2023-09-01 12:10:00    79687467064      74959339929   \n",
              "3  2023-09-01 12:20:37    79851620909      74959339929   \n",
              "4  2023-09-01 12:53:13    74959891229      74959339929   \n",
              "\n",
              "  Идентификатор сессии звонка  \\\n",
              "0                  3188273510   \n",
              "1                  3188426705   \n",
              "2                  3201544602   \n",
              "3                  3188461175   \n",
              "4                  3191589263   \n",
              "\n",
              "                                                 Файл whisper-транскрибации записи звонка  \n",
              "0      2023-09-01_11-18-46.243226_from_79133420036_to_0188880_session_3188273510_talk.txt  \n",
              "1  2023-09-01_12-07-24.419439_from_79687467064_to_74959339929_session_3188426705_talk.txt  \n",
              "2  2023-09-01_12-10-00.806885_from_79687467064_to_74959339929_session_3201544602_talk.txt  \n",
              "3  2023-09-01_12-20-37.789876_from_79851620909_to_74959339929_session_3188461175_talk.txt  \n",
              "4  2023-09-01_12-53-13.411858_from_74959891229_to_74959339929_session_3191589263_talk.txt  "
            ],
            "text/html": [
              "\n",
              "  <div id=\"df-80780d6c-be2b-4e25-92a5-2fc1ba50f051\" class=\"colab-df-container\">\n",
              "    <div>\n",
              "<style scoped>\n",
              "    .dataframe tbody tr th:only-of-type {\n",
              "        vertical-align: middle;\n",
              "    }\n",
              "\n",
              "    .dataframe tbody tr th {\n",
              "        vertical-align: top;\n",
              "    }\n",
              "\n",
              "    .dataframe thead th {\n",
              "        text-align: right;\n",
              "    }\n",
              "</style>\n",
              "<table border=\"1\" class=\"dataframe\">\n",
              "  <thead>\n",
              "    <tr style=\"text-align: right;\">\n",
              "      <th></th>\n",
              "      <th>Дата и время</th>\n",
              "      <th>Номер абонента</th>\n",
              "      <th>Номер сотрудника</th>\n",
              "      <th>Идентификатор сессии звонка</th>\n",
              "      <th>Файл whisper-транскрибации записи звонка</th>\n",
              "    </tr>\n",
              "  </thead>\n",
              "  <tbody>\n",
              "    <tr>\n",
              "      <th>0</th>\n",
              "      <td>2023-09-01 11:18:46</td>\n",
              "      <td>79133420036</td>\n",
              "      <td>0188880</td>\n",
              "      <td>3188273510</td>\n",
              "      <td>2023-09-01_11-18-46.243226_from_79133420036_to_0188880_session_3188273510_talk.txt</td>\n",
              "    </tr>\n",
              "    <tr>\n",
              "      <th>1</th>\n",
              "      <td>2023-09-01 12:07:24</td>\n",
              "      <td>79687467064</td>\n",
              "      <td>74959339929</td>\n",
              "      <td>3188426705</td>\n",
              "      <td>2023-09-01_12-07-24.419439_from_79687467064_to_74959339929_session_3188426705_talk.txt</td>\n",
              "    </tr>\n",
              "    <tr>\n",
              "      <th>2</th>\n",
              "      <td>2023-09-01 12:10:00</td>\n",
              "      <td>79687467064</td>\n",
              "      <td>74959339929</td>\n",
              "      <td>3201544602</td>\n",
              "      <td>2023-09-01_12-10-00.806885_from_79687467064_to_74959339929_session_3201544602_talk.txt</td>\n",
              "    </tr>\n",
              "    <tr>\n",
              "      <th>3</th>\n",
              "      <td>2023-09-01 12:20:37</td>\n",
              "      <td>79851620909</td>\n",
              "      <td>74959339929</td>\n",
              "      <td>3188461175</td>\n",
              "      <td>2023-09-01_12-20-37.789876_from_79851620909_to_74959339929_session_3188461175_talk.txt</td>\n",
              "    </tr>\n",
              "    <tr>\n",
              "      <th>4</th>\n",
              "      <td>2023-09-01 12:53:13</td>\n",
              "      <td>74959891229</td>\n",
              "      <td>74959339929</td>\n",
              "      <td>3191589263</td>\n",
              "      <td>2023-09-01_12-53-13.411858_from_74959891229_to_74959339929_session_3191589263_talk.txt</td>\n",
              "    </tr>\n",
              "  </tbody>\n",
              "</table>\n",
              "</div>\n",
              "    <div class=\"colab-df-buttons\">\n",
              "\n",
              "  <div class=\"colab-df-container\">\n",
              "    <button class=\"colab-df-convert\" onclick=\"convertToInteractive('df-80780d6c-be2b-4e25-92a5-2fc1ba50f051')\"\n",
              "            title=\"Convert this dataframe to an interactive table.\"\n",
              "            style=\"display:none;\">\n",
              "\n",
              "  <svg xmlns=\"http://www.w3.org/2000/svg\" height=\"24px\" viewBox=\"0 -960 960 960\">\n",
              "    <path d=\"M120-120v-720h720v720H120Zm60-500h600v-160H180v160Zm220 220h160v-160H400v160Zm0 220h160v-160H400v160ZM180-400h160v-160H180v160Zm440 0h160v-160H620v160ZM180-180h160v-160H180v160Zm440 0h160v-160H620v160Z\"/>\n",
              "  </svg>\n",
              "    </button>\n",
              "\n",
              "  <style>\n",
              "    .colab-df-container {\n",
              "      display:flex;\n",
              "      gap: 12px;\n",
              "    }\n",
              "\n",
              "    .colab-df-convert {\n",
              "      background-color: #E8F0FE;\n",
              "      border: none;\n",
              "      border-radius: 50%;\n",
              "      cursor: pointer;\n",
              "      display: none;\n",
              "      fill: #1967D2;\n",
              "      height: 32px;\n",
              "      padding: 0 0 0 0;\n",
              "      width: 32px;\n",
              "    }\n",
              "\n",
              "    .colab-df-convert:hover {\n",
              "      background-color: #E2EBFA;\n",
              "      box-shadow: 0px 1px 2px rgba(60, 64, 67, 0.3), 0px 1px 3px 1px rgba(60, 64, 67, 0.15);\n",
              "      fill: #174EA6;\n",
              "    }\n",
              "\n",
              "    .colab-df-buttons div {\n",
              "      margin-bottom: 4px;\n",
              "    }\n",
              "\n",
              "    [theme=dark] .colab-df-convert {\n",
              "      background-color: #3B4455;\n",
              "      fill: #D2E3FC;\n",
              "    }\n",
              "\n",
              "    [theme=dark] .colab-df-convert:hover {\n",
              "      background-color: #434B5C;\n",
              "      box-shadow: 0px 1px 3px 1px rgba(0, 0, 0, 0.15);\n",
              "      filter: drop-shadow(0px 1px 2px rgba(0, 0, 0, 0.3));\n",
              "      fill: #FFFFFF;\n",
              "    }\n",
              "  </style>\n",
              "\n",
              "    <script>\n",
              "      const buttonEl =\n",
              "        document.querySelector('#df-80780d6c-be2b-4e25-92a5-2fc1ba50f051 button.colab-df-convert');\n",
              "      buttonEl.style.display =\n",
              "        google.colab.kernel.accessAllowed ? 'block' : 'none';\n",
              "\n",
              "      async function convertToInteractive(key) {\n",
              "        const element = document.querySelector('#df-80780d6c-be2b-4e25-92a5-2fc1ba50f051');\n",
              "        const dataTable =\n",
              "          await google.colab.kernel.invokeFunction('convertToInteractive',\n",
              "                                                    [key], {});\n",
              "        if (!dataTable) return;\n",
              "\n",
              "        const docLinkHtml = 'Like what you see? Visit the ' +\n",
              "          '<a target=\"_blank\" href=https://colab.research.google.com/notebooks/data_table.ipynb>data table notebook</a>'\n",
              "          + ' to learn more about interactive tables.';\n",
              "        element.innerHTML = '';\n",
              "        dataTable['output_type'] = 'display_data';\n",
              "        await google.colab.output.renderOutput(dataTable, element);\n",
              "        const docLink = document.createElement('div');\n",
              "        docLink.innerHTML = docLinkHtml;\n",
              "        element.appendChild(docLink);\n",
              "      }\n",
              "    </script>\n",
              "  </div>\n",
              "\n",
              "\n",
              "<div id=\"df-6c26c4ac-46ed-44e7-a6d4-2984587146ab\">\n",
              "  <button class=\"colab-df-quickchart\" onclick=\"quickchart('df-6c26c4ac-46ed-44e7-a6d4-2984587146ab')\"\n",
              "            title=\"Suggest charts\"\n",
              "            style=\"display:none;\">\n",
              "\n",
              "<svg xmlns=\"http://www.w3.org/2000/svg\" height=\"24px\"viewBox=\"0 0 24 24\"\n",
              "     width=\"24px\">\n",
              "    <g>\n",
              "        <path d=\"M19 3H5c-1.1 0-2 .9-2 2v14c0 1.1.9 2 2 2h14c1.1 0 2-.9 2-2V5c0-1.1-.9-2-2-2zM9 17H7v-7h2v7zm4 0h-2V7h2v10zm4 0h-2v-4h2v4z\"/>\n",
              "    </g>\n",
              "</svg>\n",
              "  </button>\n",
              "\n",
              "<style>\n",
              "  .colab-df-quickchart {\n",
              "      --bg-color: #E8F0FE;\n",
              "      --fill-color: #1967D2;\n",
              "      --hover-bg-color: #E2EBFA;\n",
              "      --hover-fill-color: #174EA6;\n",
              "      --disabled-fill-color: #AAA;\n",
              "      --disabled-bg-color: #DDD;\n",
              "  }\n",
              "\n",
              "  [theme=dark] .colab-df-quickchart {\n",
              "      --bg-color: #3B4455;\n",
              "      --fill-color: #D2E3FC;\n",
              "      --hover-bg-color: #434B5C;\n",
              "      --hover-fill-color: #FFFFFF;\n",
              "      --disabled-bg-color: #3B4455;\n",
              "      --disabled-fill-color: #666;\n",
              "  }\n",
              "\n",
              "  .colab-df-quickchart {\n",
              "    background-color: var(--bg-color);\n",
              "    border: none;\n",
              "    border-radius: 50%;\n",
              "    cursor: pointer;\n",
              "    display: none;\n",
              "    fill: var(--fill-color);\n",
              "    height: 32px;\n",
              "    padding: 0;\n",
              "    width: 32px;\n",
              "  }\n",
              "\n",
              "  .colab-df-quickchart:hover {\n",
              "    background-color: var(--hover-bg-color);\n",
              "    box-shadow: 0 1px 2px rgba(60, 64, 67, 0.3), 0 1px 3px 1px rgba(60, 64, 67, 0.15);\n",
              "    fill: var(--button-hover-fill-color);\n",
              "  }\n",
              "\n",
              "  .colab-df-quickchart-complete:disabled,\n",
              "  .colab-df-quickchart-complete:disabled:hover {\n",
              "    background-color: var(--disabled-bg-color);\n",
              "    fill: var(--disabled-fill-color);\n",
              "    box-shadow: none;\n",
              "  }\n",
              "\n",
              "  .colab-df-spinner {\n",
              "    border: 2px solid var(--fill-color);\n",
              "    border-color: transparent;\n",
              "    border-bottom-color: var(--fill-color);\n",
              "    animation:\n",
              "      spin 1s steps(1) infinite;\n",
              "  }\n",
              "\n",
              "  @keyframes spin {\n",
              "    0% {\n",
              "      border-color: transparent;\n",
              "      border-bottom-color: var(--fill-color);\n",
              "      border-left-color: var(--fill-color);\n",
              "    }\n",
              "    20% {\n",
              "      border-color: transparent;\n",
              "      border-left-color: var(--fill-color);\n",
              "      border-top-color: var(--fill-color);\n",
              "    }\n",
              "    30% {\n",
              "      border-color: transparent;\n",
              "      border-left-color: var(--fill-color);\n",
              "      border-top-color: var(--fill-color);\n",
              "      border-right-color: var(--fill-color);\n",
              "    }\n",
              "    40% {\n",
              "      border-color: transparent;\n",
              "      border-right-color: var(--fill-color);\n",
              "      border-top-color: var(--fill-color);\n",
              "    }\n",
              "    60% {\n",
              "      border-color: transparent;\n",
              "      border-right-color: var(--fill-color);\n",
              "    }\n",
              "    80% {\n",
              "      border-color: transparent;\n",
              "      border-right-color: var(--fill-color);\n",
              "      border-bottom-color: var(--fill-color);\n",
              "    }\n",
              "    90% {\n",
              "      border-color: transparent;\n",
              "      border-bottom-color: var(--fill-color);\n",
              "    }\n",
              "  }\n",
              "</style>\n",
              "\n",
              "  <script>\n",
              "    async function quickchart(key) {\n",
              "      const quickchartButtonEl =\n",
              "        document.querySelector('#' + key + ' button');\n",
              "      quickchartButtonEl.disabled = true;  // To prevent multiple clicks.\n",
              "      quickchartButtonEl.classList.add('colab-df-spinner');\n",
              "      try {\n",
              "        const charts = await google.colab.kernel.invokeFunction(\n",
              "            'suggestCharts', [key], {});\n",
              "      } catch (error) {\n",
              "        console.error('Error during call to suggestCharts:', error);\n",
              "      }\n",
              "      quickchartButtonEl.classList.remove('colab-df-spinner');\n",
              "      quickchartButtonEl.classList.add('colab-df-quickchart-complete');\n",
              "    }\n",
              "    (() => {\n",
              "      let quickchartButtonEl =\n",
              "        document.querySelector('#df-6c26c4ac-46ed-44e7-a6d4-2984587146ab button');\n",
              "      quickchartButtonEl.style.display =\n",
              "        google.colab.kernel.accessAllowed ? 'block' : 'none';\n",
              "    })();\n",
              "  </script>\n",
              "</div>\n",
              "    </div>\n",
              "  </div>\n"
            ]
          },
          "metadata": {},
          "execution_count": 123
        }
      ]
    },
    {
      "cell_type": "code",
      "source": [
        "# Проверяем количество строк\n",
        "print(len(os.listdir(my_drv_path + 'media108.ru/Датасет/Whisper-транскрибация новых записей звонков/Расшифровки_Записи Headliner')))\n",
        "print(Headliner_transcriptions_df.shape[0])"
      ],
      "metadata": {
        "colab": {
          "base_uri": "https://localhost:8080/"
        },
        "outputId": "5b2f59ab-e2c0-480a-bbeb-4bb04cd7288c",
        "id": "_uMS8oSD_fNX"
      },
      "execution_count": null,
      "outputs": [
        {
          "output_type": "stream",
          "name": "stdout",
          "text": [
            "1226\n",
            "1226\n"
          ]
        }
      ]
    },
    {
      "cell_type": "code",
      "source": [
        "print(Headliner_transcriptions_df.count())"
      ],
      "metadata": {
        "colab": {
          "base_uri": "https://localhost:8080/"
        },
        "outputId": "2e873989-3371-4e8a-d115-5ec0d611b049",
        "id": "qyvKW8iZ_fNY"
      },
      "execution_count": null,
      "outputs": [
        {
          "output_type": "stream",
          "name": "stdout",
          "text": [
            "Дата и время                                1226\n",
            "Номер абонента                              1226\n",
            "Номер сотрудника                            1226\n",
            "Идентификатор сессии звонка                 1226\n",
            "Файл whisper-транскрибации записи звонка    1226\n",
            "dtype: int64\n"
          ]
        }
      ]
    },
    {
      "cell_type": "markdown",
      "source": [
        "#### Предобработка"
      ],
      "metadata": {
        "id": "YxO3OITr_fNY"
      }
    },
    {
      "cell_type": "markdown",
      "source": [
        "##### 0. Дата и время"
      ],
      "metadata": {
        "id": "RhFWIhVt_fNZ"
      }
    },
    {
      "cell_type": "code",
      "source": [
        "Headliner_transcriptions_df['Дата и время'].head()"
      ],
      "metadata": {
        "colab": {
          "base_uri": "https://localhost:8080/"
        },
        "outputId": "f98aff0e-4f2b-4363-c052-f2477c3e6c76",
        "id": "ax6shkUO_fNb"
      },
      "execution_count": null,
      "outputs": [
        {
          "output_type": "execute_result",
          "data": {
            "text/plain": [
              "0    2023-09-01 11:18:46\n",
              "1    2023-09-01 12:07:24\n",
              "2    2023-09-01 12:10:00\n",
              "3    2023-09-01 12:20:37\n",
              "4    2023-09-01 12:53:13\n",
              "Name: Дата и время, dtype: object"
            ]
          },
          "metadata": {},
          "execution_count": 126
        }
      ]
    },
    {
      "cell_type": "code",
      "source": [
        "# Приводим тип данных столбца 'Дата и время'\n",
        "Headliner_transcriptions_df['Дата и время'] = pd.to_datetime(Headliner_transcriptions_df['Дата и время'])"
      ],
      "metadata": {
        "id": "Zhu7Wyut_fNb"
      },
      "execution_count": null,
      "outputs": []
    },
    {
      "cell_type": "code",
      "source": [
        "Headliner_transcriptions_df['Дата и время'].tail()"
      ],
      "metadata": {
        "colab": {
          "base_uri": "https://localhost:8080/"
        },
        "outputId": "74e8083d-c4f5-40b8-eef9-59a5c5fd3e0e",
        "id": "a-DFuC3N_fNc"
      },
      "execution_count": null,
      "outputs": [
        {
          "output_type": "execute_result",
          "data": {
            "text/plain": [
              "1221   2023-08-31 16:55:42\n",
              "1222   2023-08-31 17:01:20\n",
              "1223   2023-08-31 17:08:06\n",
              "1224   2023-09-01 09:30:00\n",
              "1225   2023-09-01 10:09:28\n",
              "Name: Дата и время, dtype: datetime64[ns]"
            ]
          },
          "metadata": {},
          "execution_count": 128
        }
      ]
    },
    {
      "cell_type": "markdown",
      "source": [
        "##### 1. Номер абонента"
      ],
      "metadata": {
        "id": "ynUPgS9C_fNd"
      }
    },
    {
      "cell_type": "code",
      "source": [
        "Headliner_transcriptions_df['Номер абонента'].head()"
      ],
      "metadata": {
        "colab": {
          "base_uri": "https://localhost:8080/"
        },
        "outputId": "4580a18a-76c7-4c55-e7f4-c56b0461b009",
        "id": "chO_5dhC_fNd"
      },
      "execution_count": null,
      "outputs": [
        {
          "output_type": "execute_result",
          "data": {
            "text/plain": [
              "0    79133420036\n",
              "1    79687467064\n",
              "2    79687467064\n",
              "3    79851620909\n",
              "4    74959891229\n",
              "Name: Номер абонента, dtype: object"
            ]
          },
          "metadata": {},
          "execution_count": 129
        }
      ]
    },
    {
      "cell_type": "code",
      "source": [
        "# Приводим тип данных столбца 'Номер абонента'\n",
        "Headliner_transcriptions_df = Headliner_transcriptions_df.astype({'Номер абонента': int})"
      ],
      "metadata": {
        "id": "AqIIHin-_fNf"
      },
      "execution_count": null,
      "outputs": []
    },
    {
      "cell_type": "code",
      "source": [
        "Headliner_transcriptions_df['Номер абонента'].tail()"
      ],
      "metadata": {
        "colab": {
          "base_uri": "https://localhost:8080/"
        },
        "outputId": "6b38d412-c0f7-48f1-fbe5-70056e5cdc46",
        "id": "XwfpRIsM_fNg"
      },
      "execution_count": null,
      "outputs": [
        {
          "output_type": "execute_result",
          "data": {
            "text/plain": [
              "1221    79851400618\n",
              "1222    79851400618\n",
              "1223    79647068969\n",
              "1224    79503046153\n",
              "1225    79687467064\n",
              "Name: Номер абонента, dtype: int64"
            ]
          },
          "metadata": {},
          "execution_count": 131
        }
      ]
    },
    {
      "cell_type": "markdown",
      "source": [
        "##### 2. Номер сотрудника"
      ],
      "metadata": {
        "id": "22CNjBqW_fNh"
      }
    },
    {
      "cell_type": "code",
      "source": [
        "Headliner_transcriptions_df['Номер сотрудника'].head()"
      ],
      "metadata": {
        "colab": {
          "base_uri": "https://localhost:8080/"
        },
        "outputId": "b7746d8f-6a81-4e5a-e3c4-dc5380c7cd16",
        "id": "F-9PIjN5_fNi"
      },
      "execution_count": null,
      "outputs": [
        {
          "output_type": "execute_result",
          "data": {
            "text/plain": [
              "0        0188880\n",
              "1    74959339929\n",
              "2    74959339929\n",
              "3    74959339929\n",
              "4    74959339929\n",
              "Name: Номер сотрудника, dtype: object"
            ]
          },
          "metadata": {},
          "execution_count": 132
        }
      ]
    },
    {
      "cell_type": "code",
      "source": [
        "# Приводим тип данных столбца 'Номер сотрудника'\n",
        "Headliner_transcriptions_df = Headliner_transcriptions_df.astype({'Номер сотрудника': int})"
      ],
      "metadata": {
        "id": "Bpv0EzAa_fNi"
      },
      "execution_count": null,
      "outputs": []
    },
    {
      "cell_type": "code",
      "source": [
        "Headliner_transcriptions_df['Номер сотрудника'].tail()"
      ],
      "metadata": {
        "colab": {
          "base_uri": "https://localhost:8080/"
        },
        "outputId": "e0a57fb7-728a-4c49-f481-25dbb2980be1",
        "id": "ahCAafQP_fNj"
      },
      "execution_count": null,
      "outputs": [
        {
          "output_type": "execute_result",
          "data": {
            "text/plain": [
              "1221         188880\n",
              "1222    74959339929\n",
              "1223    74957898990\n",
              "1224         188880\n",
              "1225    74959339929\n",
              "Name: Номер сотрудника, dtype: int64"
            ]
          },
          "metadata": {},
          "execution_count": 134
        }
      ]
    },
    {
      "cell_type": "markdown",
      "source": [
        "##### 3. Идентификатор сессии звонка"
      ],
      "metadata": {
        "id": "x8pG4qMv_fNj"
      }
    },
    {
      "cell_type": "code",
      "source": [
        "Headliner_transcriptions_df['Идентификатор сессии звонка'].head()"
      ],
      "metadata": {
        "colab": {
          "base_uri": "https://localhost:8080/"
        },
        "outputId": "389abfd1-78fc-4207-8f95-1ca968d8f895",
        "id": "P4jWfo8y_fNk"
      },
      "execution_count": null,
      "outputs": [
        {
          "output_type": "execute_result",
          "data": {
            "text/plain": [
              "0    3188273510\n",
              "1    3188426705\n",
              "2    3201544602\n",
              "3    3188461175\n",
              "4    3191589263\n",
              "Name: Идентификатор сессии звонка, dtype: object"
            ]
          },
          "metadata": {},
          "execution_count": 135
        }
      ]
    },
    {
      "cell_type": "code",
      "source": [
        "# Приводим тип данных столбца 'Идентификатор сессии звонка'\n",
        "Headliner_transcriptions_df = Headliner_transcriptions_df.astype({'Идентификатор сессии звонка': int})"
      ],
      "metadata": {
        "id": "3fqC6xgb_fNk"
      },
      "execution_count": null,
      "outputs": []
    },
    {
      "cell_type": "code",
      "source": [
        "Headliner_transcriptions_df['Идентификатор сессии звонка'].tail()"
      ],
      "metadata": {
        "colab": {
          "base_uri": "https://localhost:8080/"
        },
        "outputId": "4f352485-b747-45d5-9eca-58fbcb7de01a",
        "id": "Pt7UE8zu_fNl"
      },
      "execution_count": null,
      "outputs": [
        {
          "output_type": "execute_result",
          "data": {
            "text/plain": [
              "1221    3190201298\n",
              "1222    3194695301\n",
              "1223    3187322885\n",
              "1224    3201040552\n",
              "1225    3191076973\n",
              "Name: Идентификатор сессии звонка, dtype: int64"
            ]
          },
          "metadata": {},
          "execution_count": 137
        }
      ]
    },
    {
      "cell_type": "markdown",
      "source": [
        "##### 4. Файл whisper-транскрибации записи звонка"
      ],
      "metadata": {
        "id": "VxH9YlSn_fNl"
      }
    },
    {
      "cell_type": "code",
      "source": [
        "Headliner_transcriptions_df['Файл whisper-транскрибации записи звонка'].head()"
      ],
      "metadata": {
        "colab": {
          "base_uri": "https://localhost:8080/"
        },
        "outputId": "bdd5c53a-321c-43bf-d339-0d53459d16f0",
        "id": "tI0sj7k1_fNl"
      },
      "execution_count": null,
      "outputs": [
        {
          "output_type": "execute_result",
          "data": {
            "text/plain": [
              "0        2023-09-01_11-18-46.243226_from_79133420036_to_0188880_session_3188273510_talk.txt\n",
              "1    2023-09-01_12-07-24.419439_from_79687467064_to_74959339929_session_3188426705_talk.txt\n",
              "2    2023-09-01_12-10-00.806885_from_79687467064_to_74959339929_session_3201544602_talk.txt\n",
              "3    2023-09-01_12-20-37.789876_from_79851620909_to_74959339929_session_3188461175_talk.txt\n",
              "4    2023-09-01_12-53-13.411858_from_74959891229_to_74959339929_session_3191589263_talk.txt\n",
              "Name: Файл whisper-транскрибации записи звонка, dtype: object"
            ]
          },
          "metadata": {},
          "execution_count": 139
        }
      ]
    },
    {
      "cell_type": "code",
      "source": [
        "# Добавляем к файлам относительные пути\n",
        "Headliner_transcriptions_df['Файл whisper-транскрибации записи звонка'] = Headliner_transcriptions_df['Файл whisper-транскрибации записи звонка'].apply(lambda x: 'Whisper-транскрибация новых записей звонков/Расшифровки_Записи Headliner/' + x)"
      ],
      "metadata": {
        "id": "PdxNtfWh_fNm"
      },
      "execution_count": null,
      "outputs": []
    },
    {
      "cell_type": "code",
      "source": [
        "Headliner_transcriptions_df['Файл whisper-транскрибации записи звонка'].tail()"
      ],
      "metadata": {
        "colab": {
          "base_uri": "https://localhost:8080/"
        },
        "outputId": "5a74b449-1c7a-49b5-923f-96c004049848",
        "id": "DOhh4Nba_fNm"
      },
      "execution_count": null,
      "outputs": [
        {
          "output_type": "execute_result",
          "data": {
            "text/plain": [
              "1221        Whisper-транскрибация новых записей звонков/Расшифровки_Записи Headliner/2023-08-31_16-55-42.330776_from_79851400618_to_0188880_session_3190201298_talk.txt\n",
              "1222    Whisper-транскрибация новых записей звонков/Расшифровки_Записи Headliner/2023-08-31_17-01-20.800209_from_79851400618_to_74959339929_session_3194695301_talk.txt\n",
              "1223    Whisper-транскрибация новых записей звонков/Расшифровки_Записи Headliner/2023-08-31_17-08-06.533474_from_79647068969_to_74957898990_session_3187322885_talk.txt\n",
              "1224        Whisper-транскрибация новых записей звонков/Расшифровки_Записи Headliner/2023-09-01_09-30-00.917489_from_79503046153_to_0188880_session_3201040552_talk.txt\n",
              "1225    Whisper-транскрибация новых записей звонков/Расшифровки_Записи Headliner/2023-09-01_10-09-28.491302_from_79687467064_to_74959339929_session_3191076973_talk.txt\n",
              "Name: Файл whisper-транскрибации записи звонка, dtype: object"
            ]
          },
          "metadata": {},
          "execution_count": 141
        }
      ]
    },
    {
      "cell_type": "markdown",
      "source": [
        "##### 5. Текст whisper-транскрибации записи звонка"
      ],
      "metadata": {
        "id": "0l_MCr--_fNm"
      }
    },
    {
      "cell_type": "code",
      "source": [
        "# Добавляем столбец 'Текст whisper-транскрибации записи звонка'\n",
        "Headliner_transcriptions_df['Текст whisper-транскрибации записи звонка'] = 'нет текста транскрибации звонка'\n",
        "Headliner_transcriptions_df.head()"
      ],
      "metadata": {
        "colab": {
          "base_uri": "https://localhost:8080/",
          "height": 310
        },
        "outputId": "157dacc3-c9c6-495c-9ef2-00b4e2448630",
        "id": "15MIZw8S_fNn"
      },
      "execution_count": null,
      "outputs": [
        {
          "output_type": "execute_result",
          "data": {
            "text/plain": [
              "         Дата и время  Номер абонента  Номер сотрудника  \\\n",
              "0 2023-09-01 11:18:46     79133420036            188880   \n",
              "1 2023-09-01 12:07:24     79687467064       74959339929   \n",
              "2 2023-09-01 12:10:00     79687467064       74959339929   \n",
              "3 2023-09-01 12:20:37     79851620909       74959339929   \n",
              "4 2023-09-01 12:53:13     74959891229       74959339929   \n",
              "\n",
              "   Идентификатор сессии звонка  \\\n",
              "0                   3188273510   \n",
              "1                   3188426705   \n",
              "2                   3201544602   \n",
              "3                   3188461175   \n",
              "4                   3191589263   \n",
              "\n",
              "                                                                                                                          Файл whisper-транскрибации записи звонка  \\\n",
              "0      Whisper-транскрибация новых записей звонков/Расшифровки_Записи Headliner/2023-09-01_11-18-46.243226_from_79133420036_to_0188880_session_3188273510_talk.txt   \n",
              "1  Whisper-транскрибация новых записей звонков/Расшифровки_Записи Headliner/2023-09-01_12-07-24.419439_from_79687467064_to_74959339929_session_3188426705_talk.txt   \n",
              "2  Whisper-транскрибация новых записей звонков/Расшифровки_Записи Headliner/2023-09-01_12-10-00.806885_from_79687467064_to_74959339929_session_3201544602_talk.txt   \n",
              "3  Whisper-транскрибация новых записей звонков/Расшифровки_Записи Headliner/2023-09-01_12-20-37.789876_from_79851620909_to_74959339929_session_3188461175_talk.txt   \n",
              "4  Whisper-транскрибация новых записей звонков/Расшифровки_Записи Headliner/2023-09-01_12-53-13.411858_from_74959891229_to_74959339929_session_3191589263_talk.txt   \n",
              "\n",
              "  Текст whisper-транскрибации записи звонка  \n",
              "0           нет текста транскрибации звонка  \n",
              "1           нет текста транскрибации звонка  \n",
              "2           нет текста транскрибации звонка  \n",
              "3           нет текста транскрибации звонка  \n",
              "4           нет текста транскрибации звонка  "
            ],
            "text/html": [
              "\n",
              "  <div id=\"df-0fa228bf-ed9e-4205-98ba-1f6485f682e4\" class=\"colab-df-container\">\n",
              "    <div>\n",
              "<style scoped>\n",
              "    .dataframe tbody tr th:only-of-type {\n",
              "        vertical-align: middle;\n",
              "    }\n",
              "\n",
              "    .dataframe tbody tr th {\n",
              "        vertical-align: top;\n",
              "    }\n",
              "\n",
              "    .dataframe thead th {\n",
              "        text-align: right;\n",
              "    }\n",
              "</style>\n",
              "<table border=\"1\" class=\"dataframe\">\n",
              "  <thead>\n",
              "    <tr style=\"text-align: right;\">\n",
              "      <th></th>\n",
              "      <th>Дата и время</th>\n",
              "      <th>Номер абонента</th>\n",
              "      <th>Номер сотрудника</th>\n",
              "      <th>Идентификатор сессии звонка</th>\n",
              "      <th>Файл whisper-транскрибации записи звонка</th>\n",
              "      <th>Текст whisper-транскрибации записи звонка</th>\n",
              "    </tr>\n",
              "  </thead>\n",
              "  <tbody>\n",
              "    <tr>\n",
              "      <th>0</th>\n",
              "      <td>2023-09-01 11:18:46</td>\n",
              "      <td>79133420036</td>\n",
              "      <td>188880</td>\n",
              "      <td>3188273510</td>\n",
              "      <td>Whisper-транскрибация новых записей звонков/Расшифровки_Записи Headliner/2023-09-01_11-18-46.243226_from_79133420036_to_0188880_session_3188273510_talk.txt</td>\n",
              "      <td>нет текста транскрибации звонка</td>\n",
              "    </tr>\n",
              "    <tr>\n",
              "      <th>1</th>\n",
              "      <td>2023-09-01 12:07:24</td>\n",
              "      <td>79687467064</td>\n",
              "      <td>74959339929</td>\n",
              "      <td>3188426705</td>\n",
              "      <td>Whisper-транскрибация новых записей звонков/Расшифровки_Записи Headliner/2023-09-01_12-07-24.419439_from_79687467064_to_74959339929_session_3188426705_talk.txt</td>\n",
              "      <td>нет текста транскрибации звонка</td>\n",
              "    </tr>\n",
              "    <tr>\n",
              "      <th>2</th>\n",
              "      <td>2023-09-01 12:10:00</td>\n",
              "      <td>79687467064</td>\n",
              "      <td>74959339929</td>\n",
              "      <td>3201544602</td>\n",
              "      <td>Whisper-транскрибация новых записей звонков/Расшифровки_Записи Headliner/2023-09-01_12-10-00.806885_from_79687467064_to_74959339929_session_3201544602_talk.txt</td>\n",
              "      <td>нет текста транскрибации звонка</td>\n",
              "    </tr>\n",
              "    <tr>\n",
              "      <th>3</th>\n",
              "      <td>2023-09-01 12:20:37</td>\n",
              "      <td>79851620909</td>\n",
              "      <td>74959339929</td>\n",
              "      <td>3188461175</td>\n",
              "      <td>Whisper-транскрибация новых записей звонков/Расшифровки_Записи Headliner/2023-09-01_12-20-37.789876_from_79851620909_to_74959339929_session_3188461175_talk.txt</td>\n",
              "      <td>нет текста транскрибации звонка</td>\n",
              "    </tr>\n",
              "    <tr>\n",
              "      <th>4</th>\n",
              "      <td>2023-09-01 12:53:13</td>\n",
              "      <td>74959891229</td>\n",
              "      <td>74959339929</td>\n",
              "      <td>3191589263</td>\n",
              "      <td>Whisper-транскрибация новых записей звонков/Расшифровки_Записи Headliner/2023-09-01_12-53-13.411858_from_74959891229_to_74959339929_session_3191589263_talk.txt</td>\n",
              "      <td>нет текста транскрибации звонка</td>\n",
              "    </tr>\n",
              "  </tbody>\n",
              "</table>\n",
              "</div>\n",
              "    <div class=\"colab-df-buttons\">\n",
              "\n",
              "  <div class=\"colab-df-container\">\n",
              "    <button class=\"colab-df-convert\" onclick=\"convertToInteractive('df-0fa228bf-ed9e-4205-98ba-1f6485f682e4')\"\n",
              "            title=\"Convert this dataframe to an interactive table.\"\n",
              "            style=\"display:none;\">\n",
              "\n",
              "  <svg xmlns=\"http://www.w3.org/2000/svg\" height=\"24px\" viewBox=\"0 -960 960 960\">\n",
              "    <path d=\"M120-120v-720h720v720H120Zm60-500h600v-160H180v160Zm220 220h160v-160H400v160Zm0 220h160v-160H400v160ZM180-400h160v-160H180v160Zm440 0h160v-160H620v160ZM180-180h160v-160H180v160Zm440 0h160v-160H620v160Z\"/>\n",
              "  </svg>\n",
              "    </button>\n",
              "\n",
              "  <style>\n",
              "    .colab-df-container {\n",
              "      display:flex;\n",
              "      gap: 12px;\n",
              "    }\n",
              "\n",
              "    .colab-df-convert {\n",
              "      background-color: #E8F0FE;\n",
              "      border: none;\n",
              "      border-radius: 50%;\n",
              "      cursor: pointer;\n",
              "      display: none;\n",
              "      fill: #1967D2;\n",
              "      height: 32px;\n",
              "      padding: 0 0 0 0;\n",
              "      width: 32px;\n",
              "    }\n",
              "\n",
              "    .colab-df-convert:hover {\n",
              "      background-color: #E2EBFA;\n",
              "      box-shadow: 0px 1px 2px rgba(60, 64, 67, 0.3), 0px 1px 3px 1px rgba(60, 64, 67, 0.15);\n",
              "      fill: #174EA6;\n",
              "    }\n",
              "\n",
              "    .colab-df-buttons div {\n",
              "      margin-bottom: 4px;\n",
              "    }\n",
              "\n",
              "    [theme=dark] .colab-df-convert {\n",
              "      background-color: #3B4455;\n",
              "      fill: #D2E3FC;\n",
              "    }\n",
              "\n",
              "    [theme=dark] .colab-df-convert:hover {\n",
              "      background-color: #434B5C;\n",
              "      box-shadow: 0px 1px 3px 1px rgba(0, 0, 0, 0.15);\n",
              "      filter: drop-shadow(0px 1px 2px rgba(0, 0, 0, 0.3));\n",
              "      fill: #FFFFFF;\n",
              "    }\n",
              "  </style>\n",
              "\n",
              "    <script>\n",
              "      const buttonEl =\n",
              "        document.querySelector('#df-0fa228bf-ed9e-4205-98ba-1f6485f682e4 button.colab-df-convert');\n",
              "      buttonEl.style.display =\n",
              "        google.colab.kernel.accessAllowed ? 'block' : 'none';\n",
              "\n",
              "      async function convertToInteractive(key) {\n",
              "        const element = document.querySelector('#df-0fa228bf-ed9e-4205-98ba-1f6485f682e4');\n",
              "        const dataTable =\n",
              "          await google.colab.kernel.invokeFunction('convertToInteractive',\n",
              "                                                    [key], {});\n",
              "        if (!dataTable) return;\n",
              "\n",
              "        const docLinkHtml = 'Like what you see? Visit the ' +\n",
              "          '<a target=\"_blank\" href=https://colab.research.google.com/notebooks/data_table.ipynb>data table notebook</a>'\n",
              "          + ' to learn more about interactive tables.';\n",
              "        element.innerHTML = '';\n",
              "        dataTable['output_type'] = 'display_data';\n",
              "        await google.colab.output.renderOutput(dataTable, element);\n",
              "        const docLink = document.createElement('div');\n",
              "        docLink.innerHTML = docLinkHtml;\n",
              "        element.appendChild(docLink);\n",
              "      }\n",
              "    </script>\n",
              "  </div>\n",
              "\n",
              "\n",
              "<div id=\"df-d19d386a-3f34-4e50-b103-c812e9fcea83\">\n",
              "  <button class=\"colab-df-quickchart\" onclick=\"quickchart('df-d19d386a-3f34-4e50-b103-c812e9fcea83')\"\n",
              "            title=\"Suggest charts\"\n",
              "            style=\"display:none;\">\n",
              "\n",
              "<svg xmlns=\"http://www.w3.org/2000/svg\" height=\"24px\"viewBox=\"0 0 24 24\"\n",
              "     width=\"24px\">\n",
              "    <g>\n",
              "        <path d=\"M19 3H5c-1.1 0-2 .9-2 2v14c0 1.1.9 2 2 2h14c1.1 0 2-.9 2-2V5c0-1.1-.9-2-2-2zM9 17H7v-7h2v7zm4 0h-2V7h2v10zm4 0h-2v-4h2v4z\"/>\n",
              "    </g>\n",
              "</svg>\n",
              "  </button>\n",
              "\n",
              "<style>\n",
              "  .colab-df-quickchart {\n",
              "      --bg-color: #E8F0FE;\n",
              "      --fill-color: #1967D2;\n",
              "      --hover-bg-color: #E2EBFA;\n",
              "      --hover-fill-color: #174EA6;\n",
              "      --disabled-fill-color: #AAA;\n",
              "      --disabled-bg-color: #DDD;\n",
              "  }\n",
              "\n",
              "  [theme=dark] .colab-df-quickchart {\n",
              "      --bg-color: #3B4455;\n",
              "      --fill-color: #D2E3FC;\n",
              "      --hover-bg-color: #434B5C;\n",
              "      --hover-fill-color: #FFFFFF;\n",
              "      --disabled-bg-color: #3B4455;\n",
              "      --disabled-fill-color: #666;\n",
              "  }\n",
              "\n",
              "  .colab-df-quickchart {\n",
              "    background-color: var(--bg-color);\n",
              "    border: none;\n",
              "    border-radius: 50%;\n",
              "    cursor: pointer;\n",
              "    display: none;\n",
              "    fill: var(--fill-color);\n",
              "    height: 32px;\n",
              "    padding: 0;\n",
              "    width: 32px;\n",
              "  }\n",
              "\n",
              "  .colab-df-quickchart:hover {\n",
              "    background-color: var(--hover-bg-color);\n",
              "    box-shadow: 0 1px 2px rgba(60, 64, 67, 0.3), 0 1px 3px 1px rgba(60, 64, 67, 0.15);\n",
              "    fill: var(--button-hover-fill-color);\n",
              "  }\n",
              "\n",
              "  .colab-df-quickchart-complete:disabled,\n",
              "  .colab-df-quickchart-complete:disabled:hover {\n",
              "    background-color: var(--disabled-bg-color);\n",
              "    fill: var(--disabled-fill-color);\n",
              "    box-shadow: none;\n",
              "  }\n",
              "\n",
              "  .colab-df-spinner {\n",
              "    border: 2px solid var(--fill-color);\n",
              "    border-color: transparent;\n",
              "    border-bottom-color: var(--fill-color);\n",
              "    animation:\n",
              "      spin 1s steps(1) infinite;\n",
              "  }\n",
              "\n",
              "  @keyframes spin {\n",
              "    0% {\n",
              "      border-color: transparent;\n",
              "      border-bottom-color: var(--fill-color);\n",
              "      border-left-color: var(--fill-color);\n",
              "    }\n",
              "    20% {\n",
              "      border-color: transparent;\n",
              "      border-left-color: var(--fill-color);\n",
              "      border-top-color: var(--fill-color);\n",
              "    }\n",
              "    30% {\n",
              "      border-color: transparent;\n",
              "      border-left-color: var(--fill-color);\n",
              "      border-top-color: var(--fill-color);\n",
              "      border-right-color: var(--fill-color);\n",
              "    }\n",
              "    40% {\n",
              "      border-color: transparent;\n",
              "      border-right-color: var(--fill-color);\n",
              "      border-top-color: var(--fill-color);\n",
              "    }\n",
              "    60% {\n",
              "      border-color: transparent;\n",
              "      border-right-color: var(--fill-color);\n",
              "    }\n",
              "    80% {\n",
              "      border-color: transparent;\n",
              "      border-right-color: var(--fill-color);\n",
              "      border-bottom-color: var(--fill-color);\n",
              "    }\n",
              "    90% {\n",
              "      border-color: transparent;\n",
              "      border-bottom-color: var(--fill-color);\n",
              "    }\n",
              "  }\n",
              "</style>\n",
              "\n",
              "  <script>\n",
              "    async function quickchart(key) {\n",
              "      const quickchartButtonEl =\n",
              "        document.querySelector('#' + key + ' button');\n",
              "      quickchartButtonEl.disabled = true;  // To prevent multiple clicks.\n",
              "      quickchartButtonEl.classList.add('colab-df-spinner');\n",
              "      try {\n",
              "        const charts = await google.colab.kernel.invokeFunction(\n",
              "            'suggestCharts', [key], {});\n",
              "      } catch (error) {\n",
              "        console.error('Error during call to suggestCharts:', error);\n",
              "      }\n",
              "      quickchartButtonEl.classList.remove('colab-df-spinner');\n",
              "      quickchartButtonEl.classList.add('colab-df-quickchart-complete');\n",
              "    }\n",
              "    (() => {\n",
              "      let quickchartButtonEl =\n",
              "        document.querySelector('#df-d19d386a-3f34-4e50-b103-c812e9fcea83 button');\n",
              "      quickchartButtonEl.style.display =\n",
              "        google.colab.kernel.accessAllowed ? 'block' : 'none';\n",
              "    })();\n",
              "  </script>\n",
              "</div>\n",
              "    </div>\n",
              "  </div>\n"
            ]
          },
          "metadata": {},
          "execution_count": 142
        }
      ]
    },
    {
      "cell_type": "code",
      "source": [
        "for row in Headliner_transcriptions_df.index:\n",
        "  with open(my_drv_path + 'media108.ru/Датасет/' + Headliner_transcriptions_df.loc[row, ['Файл whisper-транскрибации записи звонка']].values[0], 'rb') as f:\n",
        "    contents = f.read()\n",
        "  Headliner_transcriptions_df.loc[row, ['Текст whisper-транскрибации записи звонка']] = contents.decode('utf-16').strip()"
      ],
      "metadata": {
        "id": "S5PcNUo__fNn"
      },
      "execution_count": null,
      "outputs": []
    },
    {
      "cell_type": "code",
      "source": [
        "Headliner_transcriptions_df['Текст whisper-транскрибации записи звонка'].head()"
      ],
      "metadata": {
        "colab": {
          "base_uri": "https://localhost:8080/"
        },
        "outputId": "362f4996-a0b5-4457-dc57-a247c88258ce",
        "id": "LMMEyB71_fNq"
      },
      "execution_count": null,
      "outputs": [
        {
          "output_type": "execute_result",
          "data": {
            "text/plain": [
              "0    Здравствуйте, вы позвонили в группу компании «Картро». Благодарим вас за звонок. Пожалуйста, дождитесь ответа оператора. Группа компании «Картро» Статьяна, здравствуйте. Статьяна, здравствуйте. Меня зовут Анжела. Хотела вас уточнить по ЖК «Хоббелайнер». Интересует третья очередь или еще какая-то четвертая, а, вторая очередь. Третья очередь. Квартиры 30 и 40 квадратов. Хорошо, я вас поденю с менеджером. Минуту оставайтесь на линии. Спасибо. Жилой комплекс «Хоббелайнер». Меня зовут Виталия. Здравствуйте. Виталия, здравствуйте. Меня зовут Анжела. По поводу квартиры «Хоббелайнер». Вторая, третья очередь. Интересует квартиры 30 и 40 квадратов. Во второй очереди 30 квадратных метров по проекту не было. Площадь от 40 квадратных метров начиналась. Сейчас минимальный бюджет в построенной второй очереди начинается от 22 миллионов за 43 квадратных метра. Есть варианты с площадью 30 квадратных метров со сроком выдачи в ключе 2024 год. По бюджету начинается от 17,5 миллионов. Это со всеми макс...\n",
              "1                                                                                                                                                                                                                                                                             Добрый день, слушаю вас. Как Вы зваетесь? Как Вы сказали, извините. Михаил. Михаил, мне нужно, знаете что, ООО «Элиткомплекс» по какому адресу находится? Шминцский проезд, 39, курс 2. Оттуда приехали, говорят, что нет такого. Охрана никого не пускает. Первый этаж, куда им идти? За минуту. 39, курс 2, первый этаж, помещение 18, кабинет 2-10. Это находится примерно рядом с вкусвиллом. Там дальше вкусвилл будет. Так, подождите, подождите, вот этот адрес, курс 2, первый этаж, помещение 18, кабинет 2-10. Кабинет 2-10, да? Да. Так, это и вот вкусвилл. Да, от вкусвилла, там буквально получается, если смотреть на вкусвилл, с правой стороны будет вход. С правой стороны вход от вкусвилл, да? Да, да, да. Угу, все, спасибо вам большое.\n",
              "2    Алло, Михаил, это снова я. Скажите, пожалуйста, вот там никто, ну охрану туда не пускают. Может кто-то спуститься? Как этого устроить? Кто-нибудь может туда подойти, потому что их там не запускают? Я пока не могу подсказать. Блин, ну что делать? Они ехали. Если вы не в правильном помещении... Не, не, не, они в правильном. Нас все нашли, говорит, лозунг кусил, все нашли, в помещении стоят, там ждут, и кого ждут неизвестно. И там ехали, там еще... Там есть секретарь, который может принять документы. Вы это объясните охраннику, что ему нужно секретарь, чтобы он принял документы, и все. Может быть просто секретарь переехал в другое место. Вот. Нужен секретарь, который примет документы, и все. Вот и все. Блин, а отлично, мы будем искать того секретаря. Там точно должен быть кто-то, может быть, правда? Может быть просто секретарь, который принимает документы, он на обед отошел, поэтому охрана не пускает вас. Нужно это охране объяснить, они смогут подсказать. Потому что охранник думает, ...\n",
              "3    ЗВОНОК ТЕЛЕФОНА ЗВОНОК ТЕЛЕФОНА Добрый день, группа «Картас». Михаил слушает вас. Здравствуйте. Михаил, нужно акт прямой передачи сделать. Включайте. Подскажите, какой проект, фамилия, собственник? Фамилия Белов, Щелково-Богородск. Да. Белов Андреанович. Я просто у вас здесь стою, охрана не пускает, говорит. Никуда не знает. А, я понял, Щелково-Богородск. Вам же объясняли, что необходимо заявление написать письменное. Да, а вот куда войти нужно? Только после рассмотрения данного заявления вам смогут сделать дубликат акта. Просто так это не делается. Нет, я вас понял. Я просто вот у вас в Москве стою, куда мне нужно идти? Кому вызвать, чтобы я написал заявление? Держите к тому адресу. Шмидтовский проезд, 39, корпус 2, этаж 1, помещение 18, кабинет 210. Ну, я вот здесь стою, охрана меня не пускает. Можно объяснить? Что такое отдел продаж? Отделы продаж, наверное, надо стоять или где? С одной стороны, у вас там технические документы делают. Куда нужно с этим актом бежать? Вам заявлен...\n",
              "4                                                                                                                                                                                                                                                                                                                                                                                                                                                                                                                                                                                                                                                                                                                                                                                                                                                                                                                                                                                                                             *** Music ***\n",
              "Name: Текст whisper-транскрибации записи звонка, dtype: object"
            ]
          },
          "metadata": {},
          "execution_count": 144
        }
      ]
    },
    {
      "cell_type": "markdown",
      "source": [
        "#### Типы данных"
      ],
      "metadata": {
        "id": "LtyqiQVu_fNq"
      }
    },
    {
      "cell_type": "code",
      "source": [
        "# Смотрим типы данных\n",
        "Headliner_transcriptions_df.dtypes"
      ],
      "metadata": {
        "colab": {
          "base_uri": "https://localhost:8080/"
        },
        "outputId": "8a8f1375-2a22-4662-9c2a-3d482ba9d279",
        "id": "fOLOMAjz_fNr"
      },
      "execution_count": null,
      "outputs": [
        {
          "output_type": "execute_result",
          "data": {
            "text/plain": [
              "Дата и время                                 datetime64[ns]\n",
              "Номер абонента                                        int64\n",
              "Номер сотрудника                                      int64\n",
              "Идентификатор сессии звонка                           int64\n",
              "Файл whisper-транскрибации записи звонка             object\n",
              "Текст whisper-транскрибации записи звонка            object\n",
              "dtype: object"
            ]
          },
          "metadata": {},
          "execution_count": 145
        }
      ]
    },
    {
      "cell_type": "code",
      "source": [
        "print(Headliner_transcriptions_df.count())"
      ],
      "metadata": {
        "colab": {
          "base_uri": "https://localhost:8080/"
        },
        "outputId": "098fcc4f-58ff-4d8b-dfb4-74c7b70e0d72",
        "id": "GSR-z1ey_fNs"
      },
      "execution_count": null,
      "outputs": [
        {
          "output_type": "stream",
          "name": "stdout",
          "text": [
            "Дата и время                                 1226\n",
            "Номер абонента                               1226\n",
            "Номер сотрудника                             1226\n",
            "Идентификатор сессии звонка                  1226\n",
            "Файл whisper-транскрибации записи звонка     1226\n",
            "Текст whisper-транскрибации записи звонка    1226\n",
            "dtype: int64\n"
          ]
        }
      ]
    },
    {
      "cell_type": "markdown",
      "source": [
        "#### Сохранение датафрейма"
      ],
      "metadata": {
        "id": "1-iCfh8B_fNs"
      }
    },
    {
      "cell_type": "code",
      "source": [
        "# Сохраняем Headliner_transcriptions_df в файл\n",
        "with open(df_path + 'Headliner_new_transcriptions_df.pkl', 'wb') as f:\n",
        "  pkl.dump(Headliner_transcriptions_df, f)"
      ],
      "metadata": {
        "id": "A0TY2dhN_fNs"
      },
      "execution_count": null,
      "outputs": []
    },
    {
      "cell_type": "markdown",
      "source": [
        "### Primavera"
      ],
      "metadata": {
        "id": "HdEXJOrA_fNt"
      }
    },
    {
      "cell_type": "markdown",
      "source": [
        "#### Создание датафрейма"
      ],
      "metadata": {
        "id": "4t1Rjort_fNt"
      }
    },
    {
      "cell_type": "code",
      "source": [
        "# Создаём датафрейм из списка файлов транскрибации звонков Primavera\n",
        "Primavera_transcriptions_df = transcriptions_list_to_df(os.listdir(my_drv_path + 'media108.ru/Датасет/Whisper-транскрибация новых записей звонков/Расшифровки_Записи Primavera'))\n",
        "Primavera_transcriptions_df.shape"
      ],
      "metadata": {
        "colab": {
          "base_uri": "https://localhost:8080/"
        },
        "outputId": "5b7ac4db-61d3-4eb8-f9a3-fe748252b32d",
        "id": "xwC6_ikW_fNt"
      },
      "execution_count": null,
      "outputs": [
        {
          "output_type": "execute_result",
          "data": {
            "text/plain": [
              "(767, 5)"
            ]
          },
          "metadata": {},
          "execution_count": 148
        }
      ]
    },
    {
      "cell_type": "code",
      "source": [
        "Primavera_transcriptions_df.head()"
      ],
      "metadata": {
        "colab": {
          "base_uri": "https://localhost:8080/",
          "height": 206
        },
        "outputId": "2d0803d7-c2dc-4def-ae45-895527cd4999",
        "id": "xry1k4Wp_fNu"
      },
      "execution_count": null,
      "outputs": [
        {
          "output_type": "execute_result",
          "data": {
            "text/plain": [
              "          Дата и время Номер абонента Номер сотрудника  \\\n",
              "0  2023-09-01 09:00:40    74950210291          0253211   \n",
              "1  2023-09-01 09:25:57    79264683596          0111639   \n",
              "2  2023-09-01 11:16:28    79161163889          0111652   \n",
              "3  2023-09-01 11:42:21    79377999852          0253201   \n",
              "4  2023-09-01 12:05:26    79199944228          0111652   \n",
              "\n",
              "  Идентификатор сессии звонка  \\\n",
              "0                  3200997782   \n",
              "1                  3187995780   \n",
              "2                  3195799881   \n",
              "3                  3188347120   \n",
              "4                  3188422720   \n",
              "\n",
              "                                                           Файл whisper-транскрибации записи звонка  \n",
              "0  2023-09-01_09-00-40.052431_from_74950210291_to_0253211_session_3200997782_talk_whisper_large.txt  \n",
              "1  2023-09-01_09-25-57.450908_from_79264683596_to_0111639_session_3187995780_talk_whisper_large.txt  \n",
              "2  2023-09-01_11-16-28.505654_from_79161163889_to_0111652_session_3195799881_talk_whisper_large.txt  \n",
              "3  2023-09-01_11-42-21.432552_from_79377999852_to_0253201_session_3188347120_talk_whisper_large.txt  \n",
              "4  2023-09-01_12-05-26.624031_from_79199944228_to_0111652_session_3188422720_talk_whisper_large.txt  "
            ],
            "text/html": [
              "\n",
              "  <div id=\"df-3a7f0dc7-9466-435c-a4ca-7167fd6543df\" class=\"colab-df-container\">\n",
              "    <div>\n",
              "<style scoped>\n",
              "    .dataframe tbody tr th:only-of-type {\n",
              "        vertical-align: middle;\n",
              "    }\n",
              "\n",
              "    .dataframe tbody tr th {\n",
              "        vertical-align: top;\n",
              "    }\n",
              "\n",
              "    .dataframe thead th {\n",
              "        text-align: right;\n",
              "    }\n",
              "</style>\n",
              "<table border=\"1\" class=\"dataframe\">\n",
              "  <thead>\n",
              "    <tr style=\"text-align: right;\">\n",
              "      <th></th>\n",
              "      <th>Дата и время</th>\n",
              "      <th>Номер абонента</th>\n",
              "      <th>Номер сотрудника</th>\n",
              "      <th>Идентификатор сессии звонка</th>\n",
              "      <th>Файл whisper-транскрибации записи звонка</th>\n",
              "    </tr>\n",
              "  </thead>\n",
              "  <tbody>\n",
              "    <tr>\n",
              "      <th>0</th>\n",
              "      <td>2023-09-01 09:00:40</td>\n",
              "      <td>74950210291</td>\n",
              "      <td>0253211</td>\n",
              "      <td>3200997782</td>\n",
              "      <td>2023-09-01_09-00-40.052431_from_74950210291_to_0253211_session_3200997782_talk_whisper_large.txt</td>\n",
              "    </tr>\n",
              "    <tr>\n",
              "      <th>1</th>\n",
              "      <td>2023-09-01 09:25:57</td>\n",
              "      <td>79264683596</td>\n",
              "      <td>0111639</td>\n",
              "      <td>3187995780</td>\n",
              "      <td>2023-09-01_09-25-57.450908_from_79264683596_to_0111639_session_3187995780_talk_whisper_large.txt</td>\n",
              "    </tr>\n",
              "    <tr>\n",
              "      <th>2</th>\n",
              "      <td>2023-09-01 11:16:28</td>\n",
              "      <td>79161163889</td>\n",
              "      <td>0111652</td>\n",
              "      <td>3195799881</td>\n",
              "      <td>2023-09-01_11-16-28.505654_from_79161163889_to_0111652_session_3195799881_talk_whisper_large.txt</td>\n",
              "    </tr>\n",
              "    <tr>\n",
              "      <th>3</th>\n",
              "      <td>2023-09-01 11:42:21</td>\n",
              "      <td>79377999852</td>\n",
              "      <td>0253201</td>\n",
              "      <td>3188347120</td>\n",
              "      <td>2023-09-01_11-42-21.432552_from_79377999852_to_0253201_session_3188347120_talk_whisper_large.txt</td>\n",
              "    </tr>\n",
              "    <tr>\n",
              "      <th>4</th>\n",
              "      <td>2023-09-01 12:05:26</td>\n",
              "      <td>79199944228</td>\n",
              "      <td>0111652</td>\n",
              "      <td>3188422720</td>\n",
              "      <td>2023-09-01_12-05-26.624031_from_79199944228_to_0111652_session_3188422720_talk_whisper_large.txt</td>\n",
              "    </tr>\n",
              "  </tbody>\n",
              "</table>\n",
              "</div>\n",
              "    <div class=\"colab-df-buttons\">\n",
              "\n",
              "  <div class=\"colab-df-container\">\n",
              "    <button class=\"colab-df-convert\" onclick=\"convertToInteractive('df-3a7f0dc7-9466-435c-a4ca-7167fd6543df')\"\n",
              "            title=\"Convert this dataframe to an interactive table.\"\n",
              "            style=\"display:none;\">\n",
              "\n",
              "  <svg xmlns=\"http://www.w3.org/2000/svg\" height=\"24px\" viewBox=\"0 -960 960 960\">\n",
              "    <path d=\"M120-120v-720h720v720H120Zm60-500h600v-160H180v160Zm220 220h160v-160H400v160Zm0 220h160v-160H400v160ZM180-400h160v-160H180v160Zm440 0h160v-160H620v160ZM180-180h160v-160H180v160Zm440 0h160v-160H620v160Z\"/>\n",
              "  </svg>\n",
              "    </button>\n",
              "\n",
              "  <style>\n",
              "    .colab-df-container {\n",
              "      display:flex;\n",
              "      gap: 12px;\n",
              "    }\n",
              "\n",
              "    .colab-df-convert {\n",
              "      background-color: #E8F0FE;\n",
              "      border: none;\n",
              "      border-radius: 50%;\n",
              "      cursor: pointer;\n",
              "      display: none;\n",
              "      fill: #1967D2;\n",
              "      height: 32px;\n",
              "      padding: 0 0 0 0;\n",
              "      width: 32px;\n",
              "    }\n",
              "\n",
              "    .colab-df-convert:hover {\n",
              "      background-color: #E2EBFA;\n",
              "      box-shadow: 0px 1px 2px rgba(60, 64, 67, 0.3), 0px 1px 3px 1px rgba(60, 64, 67, 0.15);\n",
              "      fill: #174EA6;\n",
              "    }\n",
              "\n",
              "    .colab-df-buttons div {\n",
              "      margin-bottom: 4px;\n",
              "    }\n",
              "\n",
              "    [theme=dark] .colab-df-convert {\n",
              "      background-color: #3B4455;\n",
              "      fill: #D2E3FC;\n",
              "    }\n",
              "\n",
              "    [theme=dark] .colab-df-convert:hover {\n",
              "      background-color: #434B5C;\n",
              "      box-shadow: 0px 1px 3px 1px rgba(0, 0, 0, 0.15);\n",
              "      filter: drop-shadow(0px 1px 2px rgba(0, 0, 0, 0.3));\n",
              "      fill: #FFFFFF;\n",
              "    }\n",
              "  </style>\n",
              "\n",
              "    <script>\n",
              "      const buttonEl =\n",
              "        document.querySelector('#df-3a7f0dc7-9466-435c-a4ca-7167fd6543df button.colab-df-convert');\n",
              "      buttonEl.style.display =\n",
              "        google.colab.kernel.accessAllowed ? 'block' : 'none';\n",
              "\n",
              "      async function convertToInteractive(key) {\n",
              "        const element = document.querySelector('#df-3a7f0dc7-9466-435c-a4ca-7167fd6543df');\n",
              "        const dataTable =\n",
              "          await google.colab.kernel.invokeFunction('convertToInteractive',\n",
              "                                                    [key], {});\n",
              "        if (!dataTable) return;\n",
              "\n",
              "        const docLinkHtml = 'Like what you see? Visit the ' +\n",
              "          '<a target=\"_blank\" href=https://colab.research.google.com/notebooks/data_table.ipynb>data table notebook</a>'\n",
              "          + ' to learn more about interactive tables.';\n",
              "        element.innerHTML = '';\n",
              "        dataTable['output_type'] = 'display_data';\n",
              "        await google.colab.output.renderOutput(dataTable, element);\n",
              "        const docLink = document.createElement('div');\n",
              "        docLink.innerHTML = docLinkHtml;\n",
              "        element.appendChild(docLink);\n",
              "      }\n",
              "    </script>\n",
              "  </div>\n",
              "\n",
              "\n",
              "<div id=\"df-2b16cd66-30cc-4bc7-96df-bebed3df4ce6\">\n",
              "  <button class=\"colab-df-quickchart\" onclick=\"quickchart('df-2b16cd66-30cc-4bc7-96df-bebed3df4ce6')\"\n",
              "            title=\"Suggest charts\"\n",
              "            style=\"display:none;\">\n",
              "\n",
              "<svg xmlns=\"http://www.w3.org/2000/svg\" height=\"24px\"viewBox=\"0 0 24 24\"\n",
              "     width=\"24px\">\n",
              "    <g>\n",
              "        <path d=\"M19 3H5c-1.1 0-2 .9-2 2v14c0 1.1.9 2 2 2h14c1.1 0 2-.9 2-2V5c0-1.1-.9-2-2-2zM9 17H7v-7h2v7zm4 0h-2V7h2v10zm4 0h-2v-4h2v4z\"/>\n",
              "    </g>\n",
              "</svg>\n",
              "  </button>\n",
              "\n",
              "<style>\n",
              "  .colab-df-quickchart {\n",
              "      --bg-color: #E8F0FE;\n",
              "      --fill-color: #1967D2;\n",
              "      --hover-bg-color: #E2EBFA;\n",
              "      --hover-fill-color: #174EA6;\n",
              "      --disabled-fill-color: #AAA;\n",
              "      --disabled-bg-color: #DDD;\n",
              "  }\n",
              "\n",
              "  [theme=dark] .colab-df-quickchart {\n",
              "      --bg-color: #3B4455;\n",
              "      --fill-color: #D2E3FC;\n",
              "      --hover-bg-color: #434B5C;\n",
              "      --hover-fill-color: #FFFFFF;\n",
              "      --disabled-bg-color: #3B4455;\n",
              "      --disabled-fill-color: #666;\n",
              "  }\n",
              "\n",
              "  .colab-df-quickchart {\n",
              "    background-color: var(--bg-color);\n",
              "    border: none;\n",
              "    border-radius: 50%;\n",
              "    cursor: pointer;\n",
              "    display: none;\n",
              "    fill: var(--fill-color);\n",
              "    height: 32px;\n",
              "    padding: 0;\n",
              "    width: 32px;\n",
              "  }\n",
              "\n",
              "  .colab-df-quickchart:hover {\n",
              "    background-color: var(--hover-bg-color);\n",
              "    box-shadow: 0 1px 2px rgba(60, 64, 67, 0.3), 0 1px 3px 1px rgba(60, 64, 67, 0.15);\n",
              "    fill: var(--button-hover-fill-color);\n",
              "  }\n",
              "\n",
              "  .colab-df-quickchart-complete:disabled,\n",
              "  .colab-df-quickchart-complete:disabled:hover {\n",
              "    background-color: var(--disabled-bg-color);\n",
              "    fill: var(--disabled-fill-color);\n",
              "    box-shadow: none;\n",
              "  }\n",
              "\n",
              "  .colab-df-spinner {\n",
              "    border: 2px solid var(--fill-color);\n",
              "    border-color: transparent;\n",
              "    border-bottom-color: var(--fill-color);\n",
              "    animation:\n",
              "      spin 1s steps(1) infinite;\n",
              "  }\n",
              "\n",
              "  @keyframes spin {\n",
              "    0% {\n",
              "      border-color: transparent;\n",
              "      border-bottom-color: var(--fill-color);\n",
              "      border-left-color: var(--fill-color);\n",
              "    }\n",
              "    20% {\n",
              "      border-color: transparent;\n",
              "      border-left-color: var(--fill-color);\n",
              "      border-top-color: var(--fill-color);\n",
              "    }\n",
              "    30% {\n",
              "      border-color: transparent;\n",
              "      border-left-color: var(--fill-color);\n",
              "      border-top-color: var(--fill-color);\n",
              "      border-right-color: var(--fill-color);\n",
              "    }\n",
              "    40% {\n",
              "      border-color: transparent;\n",
              "      border-right-color: var(--fill-color);\n",
              "      border-top-color: var(--fill-color);\n",
              "    }\n",
              "    60% {\n",
              "      border-color: transparent;\n",
              "      border-right-color: var(--fill-color);\n",
              "    }\n",
              "    80% {\n",
              "      border-color: transparent;\n",
              "      border-right-color: var(--fill-color);\n",
              "      border-bottom-color: var(--fill-color);\n",
              "    }\n",
              "    90% {\n",
              "      border-color: transparent;\n",
              "      border-bottom-color: var(--fill-color);\n",
              "    }\n",
              "  }\n",
              "</style>\n",
              "\n",
              "  <script>\n",
              "    async function quickchart(key) {\n",
              "      const quickchartButtonEl =\n",
              "        document.querySelector('#' + key + ' button');\n",
              "      quickchartButtonEl.disabled = true;  // To prevent multiple clicks.\n",
              "      quickchartButtonEl.classList.add('colab-df-spinner');\n",
              "      try {\n",
              "        const charts = await google.colab.kernel.invokeFunction(\n",
              "            'suggestCharts', [key], {});\n",
              "      } catch (error) {\n",
              "        console.error('Error during call to suggestCharts:', error);\n",
              "      }\n",
              "      quickchartButtonEl.classList.remove('colab-df-spinner');\n",
              "      quickchartButtonEl.classList.add('colab-df-quickchart-complete');\n",
              "    }\n",
              "    (() => {\n",
              "      let quickchartButtonEl =\n",
              "        document.querySelector('#df-2b16cd66-30cc-4bc7-96df-bebed3df4ce6 button');\n",
              "      quickchartButtonEl.style.display =\n",
              "        google.colab.kernel.accessAllowed ? 'block' : 'none';\n",
              "    })();\n",
              "  </script>\n",
              "</div>\n",
              "    </div>\n",
              "  </div>\n"
            ]
          },
          "metadata": {},
          "execution_count": 149
        }
      ]
    },
    {
      "cell_type": "code",
      "source": [
        "# Проверяем количество строк\n",
        "print(len(os.listdir(my_drv_path + 'media108.ru/Датасет/Whisper-транскрибация новых записей звонков/Расшифровки_Записи Primavera')))\n",
        "print(Primavera_transcriptions_df.shape[0])"
      ],
      "metadata": {
        "colab": {
          "base_uri": "https://localhost:8080/"
        },
        "outputId": "7c8520ff-161a-48c8-b08e-2cf6213c3da8",
        "id": "N4xPAJxM_fNu"
      },
      "execution_count": null,
      "outputs": [
        {
          "output_type": "stream",
          "name": "stdout",
          "text": [
            "767\n",
            "767\n"
          ]
        }
      ]
    },
    {
      "cell_type": "code",
      "source": [
        "print(Primavera_transcriptions_df.count())"
      ],
      "metadata": {
        "colab": {
          "base_uri": "https://localhost:8080/"
        },
        "outputId": "a5970287-3df7-42d6-f3e3-5c55291b151e",
        "id": "RKNMvzM9_fNv"
      },
      "execution_count": null,
      "outputs": [
        {
          "output_type": "stream",
          "name": "stdout",
          "text": [
            "Дата и время                                767\n",
            "Номер абонента                              767\n",
            "Номер сотрудника                            767\n",
            "Идентификатор сессии звонка                 767\n",
            "Файл whisper-транскрибации записи звонка    767\n",
            "dtype: int64\n"
          ]
        }
      ]
    },
    {
      "cell_type": "markdown",
      "source": [
        "#### Предобработка"
      ],
      "metadata": {
        "id": "hLNeUGJP_fNw"
      }
    },
    {
      "cell_type": "markdown",
      "source": [
        "##### 0. Дата и время"
      ],
      "metadata": {
        "id": "amdDYotl_fNw"
      }
    },
    {
      "cell_type": "code",
      "source": [
        "Primavera_transcriptions_df['Дата и время'].head()"
      ],
      "metadata": {
        "colab": {
          "base_uri": "https://localhost:8080/"
        },
        "outputId": "feca3c45-9860-4c72-cde7-14c23a21a8c0",
        "id": "ZeZYqdyN_fNw"
      },
      "execution_count": null,
      "outputs": [
        {
          "output_type": "execute_result",
          "data": {
            "text/plain": [
              "0    2023-09-01 09:00:40\n",
              "1    2023-09-01 09:25:57\n",
              "2    2023-09-01 11:16:28\n",
              "3    2023-09-01 11:42:21\n",
              "4    2023-09-01 12:05:26\n",
              "Name: Дата и время, dtype: object"
            ]
          },
          "metadata": {},
          "execution_count": 152
        }
      ]
    },
    {
      "cell_type": "code",
      "source": [
        "# Приводим тип данных столбца 'Дата и время'\n",
        "Primavera_transcriptions_df['Дата и время'] = pd.to_datetime(Primavera_transcriptions_df['Дата и время'])"
      ],
      "metadata": {
        "id": "lfOU5Imw_fNx"
      },
      "execution_count": null,
      "outputs": []
    },
    {
      "cell_type": "code",
      "source": [
        "Primavera_transcriptions_df['Дата и время'].tail()"
      ],
      "metadata": {
        "colab": {
          "base_uri": "https://localhost:8080/"
        },
        "outputId": "f4a06faf-5702-4386-b000-b9013338b41d",
        "id": "_kcIgz0q_fNx"
      },
      "execution_count": null,
      "outputs": [
        {
          "output_type": "execute_result",
          "data": {
            "text/plain": [
              "762   2023-10-04 17:28:47\n",
              "763   2023-10-04 17:34:08\n",
              "764   2023-10-04 18:13:46\n",
              "765   2023-10-04 19:40:25\n",
              "766   2023-10-04 19:47:06\n",
              "Name: Дата и время, dtype: datetime64[ns]"
            ]
          },
          "metadata": {},
          "execution_count": 154
        }
      ]
    },
    {
      "cell_type": "markdown",
      "source": [
        "##### 1. Номер абонента"
      ],
      "metadata": {
        "id": "eoyFUbF2_fNx"
      }
    },
    {
      "cell_type": "code",
      "source": [
        "Primavera_transcriptions_df['Номер абонента'].head()"
      ],
      "metadata": {
        "colab": {
          "base_uri": "https://localhost:8080/"
        },
        "outputId": "97911276-5b7c-4491-f48f-0190c03907b3",
        "id": "jrz9EPQU_fNy"
      },
      "execution_count": null,
      "outputs": [
        {
          "output_type": "execute_result",
          "data": {
            "text/plain": [
              "0    74950210291\n",
              "1    79264683596\n",
              "2    79161163889\n",
              "3    79377999852\n",
              "4    79199944228\n",
              "Name: Номер абонента, dtype: object"
            ]
          },
          "metadata": {},
          "execution_count": 155
        }
      ]
    },
    {
      "cell_type": "code",
      "source": [
        "# Приводим тип данных столбца 'Номер абонента'\n",
        "Primavera_transcriptions_df = Primavera_transcriptions_df.astype({'Номер абонента': int})"
      ],
      "metadata": {
        "id": "DDuS0BvQ_fNy"
      },
      "execution_count": null,
      "outputs": []
    },
    {
      "cell_type": "code",
      "source": [
        "Primavera_transcriptions_df['Номер абонента'].tail()"
      ],
      "metadata": {
        "colab": {
          "base_uri": "https://localhost:8080/"
        },
        "outputId": "db63c4da-c7b5-44b8-b82a-c24f12bc8f73",
        "id": "RU8ztq2v_fNy"
      },
      "execution_count": null,
      "outputs": [
        {
          "output_type": "execute_result",
          "data": {
            "text/plain": [
              "762    79263997574\n",
              "763    74950851200\n",
              "764    79263997574\n",
              "765    74950210291\n",
              "766    79624005760\n",
              "Name: Номер абонента, dtype: int64"
            ]
          },
          "metadata": {},
          "execution_count": 157
        }
      ]
    },
    {
      "cell_type": "markdown",
      "source": [
        "##### 2. Номер сотрудника"
      ],
      "metadata": {
        "id": "YtugtaER_fN1"
      }
    },
    {
      "cell_type": "code",
      "source": [
        "Primavera_transcriptions_df['Номер сотрудника'].head()"
      ],
      "metadata": {
        "colab": {
          "base_uri": "https://localhost:8080/"
        },
        "outputId": "77aae893-9f12-4a4f-a0cd-842e6191e445",
        "id": "bM-AEsdD_fN1"
      },
      "execution_count": null,
      "outputs": [
        {
          "output_type": "execute_result",
          "data": {
            "text/plain": [
              "0    0253211\n",
              "1    0111639\n",
              "2    0111652\n",
              "3    0253201\n",
              "4    0111652\n",
              "Name: Номер сотрудника, dtype: object"
            ]
          },
          "metadata": {},
          "execution_count": 158
        }
      ]
    },
    {
      "cell_type": "code",
      "source": [
        "# Приводим тип данных столбца 'Номер сотрудника'\n",
        "Primavera_transcriptions_df = Primavera_transcriptions_df.astype({'Номер сотрудника': int})"
      ],
      "metadata": {
        "id": "BXaVjIWr_fN4"
      },
      "execution_count": null,
      "outputs": []
    },
    {
      "cell_type": "code",
      "source": [
        "Primavera_transcriptions_df['Номер сотрудника'].tail()"
      ],
      "metadata": {
        "colab": {
          "base_uri": "https://localhost:8080/"
        },
        "outputId": "ceeba04c-fc39-47fb-8041-c63cee0306e2",
        "id": "PpFEWXcH_fN4"
      },
      "execution_count": null,
      "outputs": [
        {
          "output_type": "execute_result",
          "data": {
            "text/plain": [
              "762    111652\n",
              "763    173695\n",
              "764    111642\n",
              "765    253206\n",
              "766    111652\n",
              "Name: Номер сотрудника, dtype: int64"
            ]
          },
          "metadata": {},
          "execution_count": 160
        }
      ]
    },
    {
      "cell_type": "markdown",
      "source": [
        "##### 3. Идентификатор сессии звонка"
      ],
      "metadata": {
        "id": "-qSxi82c_fN5"
      }
    },
    {
      "cell_type": "code",
      "source": [
        "Primavera_transcriptions_df['Идентификатор сессии звонка'].head()"
      ],
      "metadata": {
        "colab": {
          "base_uri": "https://localhost:8080/"
        },
        "outputId": "3419f9fb-9fa6-4e32-d073-1d527bb8f6e3",
        "id": "a3rpWMcl_fN5"
      },
      "execution_count": null,
      "outputs": [
        {
          "output_type": "execute_result",
          "data": {
            "text/plain": [
              "0    3200997782\n",
              "1    3187995780\n",
              "2    3195799881\n",
              "3    3188347120\n",
              "4    3188422720\n",
              "Name: Идентификатор сессии звонка, dtype: object"
            ]
          },
          "metadata": {},
          "execution_count": 161
        }
      ]
    },
    {
      "cell_type": "code",
      "source": [
        "# Приводим тип данных столбца 'Идентификатор сессии звонка'\n",
        "Primavera_transcriptions_df = Primavera_transcriptions_df.astype({'Идентификатор сессии звонка': int})"
      ],
      "metadata": {
        "id": "T1OFjfUZ_fN5"
      },
      "execution_count": null,
      "outputs": []
    },
    {
      "cell_type": "code",
      "source": [
        "Primavera_transcriptions_df['Идентификатор сессии звонка'].tail()"
      ],
      "metadata": {
        "colab": {
          "base_uri": "https://localhost:8080/"
        },
        "outputId": "f5017ced-cd71-4af7-8355-817b07b080e9",
        "id": "BhoABVt1_fN6"
      },
      "execution_count": null,
      "outputs": [
        {
          "output_type": "execute_result",
          "data": {
            "text/plain": [
              "762    3272470671\n",
              "763    3276535412\n",
              "764    3269705084\n",
              "765    3276780397\n",
              "766    3264304568\n",
              "Name: Идентификатор сессии звонка, dtype: int64"
            ]
          },
          "metadata": {},
          "execution_count": 163
        }
      ]
    },
    {
      "cell_type": "markdown",
      "source": [
        "##### 4. Файл whisper-транскрибации записи звонка"
      ],
      "metadata": {
        "id": "bBDBp3WI_fN7"
      }
    },
    {
      "cell_type": "code",
      "source": [
        "Primavera_transcriptions_df['Файл whisper-транскрибации записи звонка'].head()"
      ],
      "metadata": {
        "colab": {
          "base_uri": "https://localhost:8080/"
        },
        "outputId": "8ebe53ef-e078-42b7-f5e3-f32f14d17073",
        "id": "Yn_Z3Nn-_fN7"
      },
      "execution_count": null,
      "outputs": [
        {
          "output_type": "execute_result",
          "data": {
            "text/plain": [
              "0    2023-09-01_09-00-40.052431_from_74950210291_to_0253211_session_3200997782_talk_whisper_large.txt\n",
              "1    2023-09-01_09-25-57.450908_from_79264683596_to_0111639_session_3187995780_talk_whisper_large.txt\n",
              "2    2023-09-01_11-16-28.505654_from_79161163889_to_0111652_session_3195799881_talk_whisper_large.txt\n",
              "3    2023-09-01_11-42-21.432552_from_79377999852_to_0253201_session_3188347120_talk_whisper_large.txt\n",
              "4    2023-09-01_12-05-26.624031_from_79199944228_to_0111652_session_3188422720_talk_whisper_large.txt\n",
              "Name: Файл whisper-транскрибации записи звонка, dtype: object"
            ]
          },
          "metadata": {},
          "execution_count": 165
        }
      ]
    },
    {
      "cell_type": "code",
      "source": [
        "# Добавляем к файлам относительные пути\n",
        "Primavera_transcriptions_df['Файл whisper-транскрибации записи звонка'] = Primavera_transcriptions_df['Файл whisper-транскрибации записи звонка'].apply(lambda x: 'Whisper-транскрибация новых записей звонков/Расшифровки_Записи Primavera/' + x)"
      ],
      "metadata": {
        "id": "fHllxoOe_fN7"
      },
      "execution_count": null,
      "outputs": []
    },
    {
      "cell_type": "code",
      "source": [
        "Primavera_transcriptions_df['Файл whisper-транскрибации записи звонка'].tail()"
      ],
      "metadata": {
        "colab": {
          "base_uri": "https://localhost:8080/"
        },
        "outputId": "0438fb30-410e-43cd-eeca-e0daa4e8c5e7",
        "id": "ZQup3qnm_fN8"
      },
      "execution_count": null,
      "outputs": [
        {
          "output_type": "execute_result",
          "data": {
            "text/plain": [
              "762    Whisper-транскрибация новых записей звонков/Расшифровки_Записи Primavera/2023-10-04_17-28-47.993474_from_79263997574_to_0111652_session_3272470671_talk_whisper_large.txt\n",
              "763    Whisper-транскрибация новых записей звонков/Расшифровки_Записи Primavera/2023-10-04_17-34-08.412006_from_74950851200_to_0173695_session_3276535412_talk_whisper_large.txt\n",
              "764    Whisper-транскрибация новых записей звонков/Расшифровки_Записи Primavera/2023-10-04_18-13-46.905203_from_79263997574_to_0111642_session_3269705084_talk_whisper_large.txt\n",
              "765    Whisper-транскрибация новых записей звонков/Расшифровки_Записи Primavera/2023-10-04_19-40-25.037187_from_74950210291_to_0253206_session_3276780397_talk_whisper_large.txt\n",
              "766    Whisper-транскрибация новых записей звонков/Расшифровки_Записи Primavera/2023-10-04_19-47-06.171534_from_79624005760_to_0111652_session_3264304568_talk_whisper_large.txt\n",
              "Name: Файл whisper-транскрибации записи звонка, dtype: object"
            ]
          },
          "metadata": {},
          "execution_count": 167
        }
      ]
    },
    {
      "cell_type": "markdown",
      "source": [
        "##### 5. Текст whisper-транскрибации записи звонка"
      ],
      "metadata": {
        "id": "VSQf9ahK_fN8"
      }
    },
    {
      "cell_type": "code",
      "source": [
        "# Добавляем столбец 'Текст whisper-транскрибации записи звонка'\n",
        "Primavera_transcriptions_df['Текст whisper-транскрибации записи звонка'] = 'нет текста транскрибации звонка'\n",
        "Primavera_transcriptions_df.head()"
      ],
      "metadata": {
        "colab": {
          "base_uri": "https://localhost:8080/",
          "height": 310
        },
        "outputId": "3da8ba28-bf27-4cdf-9dde-acdd9dc8b5f5",
        "id": "PVIk90G8_fN9"
      },
      "execution_count": null,
      "outputs": [
        {
          "output_type": "execute_result",
          "data": {
            "text/plain": [
              "         Дата и время  Номер абонента  Номер сотрудника  \\\n",
              "0 2023-09-01 09:00:40     74950210291            253211   \n",
              "1 2023-09-01 09:25:57     79264683596            111639   \n",
              "2 2023-09-01 11:16:28     79161163889            111652   \n",
              "3 2023-09-01 11:42:21     79377999852            253201   \n",
              "4 2023-09-01 12:05:26     79199944228            111652   \n",
              "\n",
              "   Идентификатор сессии звонка  \\\n",
              "0                   3200997782   \n",
              "1                   3187995780   \n",
              "2                   3195799881   \n",
              "3                   3188347120   \n",
              "4                   3188422720   \n",
              "\n",
              "                                                                                                                                    Файл whisper-транскрибации записи звонка  \\\n",
              "0  Whisper-транскрибация новых записей звонков/Расшифровки_Записи Primavera/2023-09-01_09-00-40.052431_from_74950210291_to_0253211_session_3200997782_talk_whisper_large.txt   \n",
              "1  Whisper-транскрибация новых записей звонков/Расшифровки_Записи Primavera/2023-09-01_09-25-57.450908_from_79264683596_to_0111639_session_3187995780_talk_whisper_large.txt   \n",
              "2  Whisper-транскрибация новых записей звонков/Расшифровки_Записи Primavera/2023-09-01_11-16-28.505654_from_79161163889_to_0111652_session_3195799881_talk_whisper_large.txt   \n",
              "3  Whisper-транскрибация новых записей звонков/Расшифровки_Записи Primavera/2023-09-01_11-42-21.432552_from_79377999852_to_0253201_session_3188347120_talk_whisper_large.txt   \n",
              "4  Whisper-транскрибация новых записей звонков/Расшифровки_Записи Primavera/2023-09-01_12-05-26.624031_from_79199944228_to_0111652_session_3188422720_talk_whisper_large.txt   \n",
              "\n",
              "  Текст whisper-транскрибации записи звонка  \n",
              "0           нет текста транскрибации звонка  \n",
              "1           нет текста транскрибации звонка  \n",
              "2           нет текста транскрибации звонка  \n",
              "3           нет текста транскрибации звонка  \n",
              "4           нет текста транскрибации звонка  "
            ],
            "text/html": [
              "\n",
              "  <div id=\"df-54aae992-a06b-4945-9a77-1d272c9c691c\" class=\"colab-df-container\">\n",
              "    <div>\n",
              "<style scoped>\n",
              "    .dataframe tbody tr th:only-of-type {\n",
              "        vertical-align: middle;\n",
              "    }\n",
              "\n",
              "    .dataframe tbody tr th {\n",
              "        vertical-align: top;\n",
              "    }\n",
              "\n",
              "    .dataframe thead th {\n",
              "        text-align: right;\n",
              "    }\n",
              "</style>\n",
              "<table border=\"1\" class=\"dataframe\">\n",
              "  <thead>\n",
              "    <tr style=\"text-align: right;\">\n",
              "      <th></th>\n",
              "      <th>Дата и время</th>\n",
              "      <th>Номер абонента</th>\n",
              "      <th>Номер сотрудника</th>\n",
              "      <th>Идентификатор сессии звонка</th>\n",
              "      <th>Файл whisper-транскрибации записи звонка</th>\n",
              "      <th>Текст whisper-транскрибации записи звонка</th>\n",
              "    </tr>\n",
              "  </thead>\n",
              "  <tbody>\n",
              "    <tr>\n",
              "      <th>0</th>\n",
              "      <td>2023-09-01 09:00:40</td>\n",
              "      <td>74950210291</td>\n",
              "      <td>253211</td>\n",
              "      <td>3200997782</td>\n",
              "      <td>Whisper-транскрибация новых записей звонков/Расшифровки_Записи Primavera/2023-09-01_09-00-40.052431_from_74950210291_to_0253211_session_3200997782_talk_whisper_large.txt</td>\n",
              "      <td>нет текста транскрибации звонка</td>\n",
              "    </tr>\n",
              "    <tr>\n",
              "      <th>1</th>\n",
              "      <td>2023-09-01 09:25:57</td>\n",
              "      <td>79264683596</td>\n",
              "      <td>111639</td>\n",
              "      <td>3187995780</td>\n",
              "      <td>Whisper-транскрибация новых записей звонков/Расшифровки_Записи Primavera/2023-09-01_09-25-57.450908_from_79264683596_to_0111639_session_3187995780_talk_whisper_large.txt</td>\n",
              "      <td>нет текста транскрибации звонка</td>\n",
              "    </tr>\n",
              "    <tr>\n",
              "      <th>2</th>\n",
              "      <td>2023-09-01 11:16:28</td>\n",
              "      <td>79161163889</td>\n",
              "      <td>111652</td>\n",
              "      <td>3195799881</td>\n",
              "      <td>Whisper-транскрибация новых записей звонков/Расшифровки_Записи Primavera/2023-09-01_11-16-28.505654_from_79161163889_to_0111652_session_3195799881_talk_whisper_large.txt</td>\n",
              "      <td>нет текста транскрибации звонка</td>\n",
              "    </tr>\n",
              "    <tr>\n",
              "      <th>3</th>\n",
              "      <td>2023-09-01 11:42:21</td>\n",
              "      <td>79377999852</td>\n",
              "      <td>253201</td>\n",
              "      <td>3188347120</td>\n",
              "      <td>Whisper-транскрибация новых записей звонков/Расшифровки_Записи Primavera/2023-09-01_11-42-21.432552_from_79377999852_to_0253201_session_3188347120_talk_whisper_large.txt</td>\n",
              "      <td>нет текста транскрибации звонка</td>\n",
              "    </tr>\n",
              "    <tr>\n",
              "      <th>4</th>\n",
              "      <td>2023-09-01 12:05:26</td>\n",
              "      <td>79199944228</td>\n",
              "      <td>111652</td>\n",
              "      <td>3188422720</td>\n",
              "      <td>Whisper-транскрибация новых записей звонков/Расшифровки_Записи Primavera/2023-09-01_12-05-26.624031_from_79199944228_to_0111652_session_3188422720_talk_whisper_large.txt</td>\n",
              "      <td>нет текста транскрибации звонка</td>\n",
              "    </tr>\n",
              "  </tbody>\n",
              "</table>\n",
              "</div>\n",
              "    <div class=\"colab-df-buttons\">\n",
              "\n",
              "  <div class=\"colab-df-container\">\n",
              "    <button class=\"colab-df-convert\" onclick=\"convertToInteractive('df-54aae992-a06b-4945-9a77-1d272c9c691c')\"\n",
              "            title=\"Convert this dataframe to an interactive table.\"\n",
              "            style=\"display:none;\">\n",
              "\n",
              "  <svg xmlns=\"http://www.w3.org/2000/svg\" height=\"24px\" viewBox=\"0 -960 960 960\">\n",
              "    <path d=\"M120-120v-720h720v720H120Zm60-500h600v-160H180v160Zm220 220h160v-160H400v160Zm0 220h160v-160H400v160ZM180-400h160v-160H180v160Zm440 0h160v-160H620v160ZM180-180h160v-160H180v160Zm440 0h160v-160H620v160Z\"/>\n",
              "  </svg>\n",
              "    </button>\n",
              "\n",
              "  <style>\n",
              "    .colab-df-container {\n",
              "      display:flex;\n",
              "      gap: 12px;\n",
              "    }\n",
              "\n",
              "    .colab-df-convert {\n",
              "      background-color: #E8F0FE;\n",
              "      border: none;\n",
              "      border-radius: 50%;\n",
              "      cursor: pointer;\n",
              "      display: none;\n",
              "      fill: #1967D2;\n",
              "      height: 32px;\n",
              "      padding: 0 0 0 0;\n",
              "      width: 32px;\n",
              "    }\n",
              "\n",
              "    .colab-df-convert:hover {\n",
              "      background-color: #E2EBFA;\n",
              "      box-shadow: 0px 1px 2px rgba(60, 64, 67, 0.3), 0px 1px 3px 1px rgba(60, 64, 67, 0.15);\n",
              "      fill: #174EA6;\n",
              "    }\n",
              "\n",
              "    .colab-df-buttons div {\n",
              "      margin-bottom: 4px;\n",
              "    }\n",
              "\n",
              "    [theme=dark] .colab-df-convert {\n",
              "      background-color: #3B4455;\n",
              "      fill: #D2E3FC;\n",
              "    }\n",
              "\n",
              "    [theme=dark] .colab-df-convert:hover {\n",
              "      background-color: #434B5C;\n",
              "      box-shadow: 0px 1px 3px 1px rgba(0, 0, 0, 0.15);\n",
              "      filter: drop-shadow(0px 1px 2px rgba(0, 0, 0, 0.3));\n",
              "      fill: #FFFFFF;\n",
              "    }\n",
              "  </style>\n",
              "\n",
              "    <script>\n",
              "      const buttonEl =\n",
              "        document.querySelector('#df-54aae992-a06b-4945-9a77-1d272c9c691c button.colab-df-convert');\n",
              "      buttonEl.style.display =\n",
              "        google.colab.kernel.accessAllowed ? 'block' : 'none';\n",
              "\n",
              "      async function convertToInteractive(key) {\n",
              "        const element = document.querySelector('#df-54aae992-a06b-4945-9a77-1d272c9c691c');\n",
              "        const dataTable =\n",
              "          await google.colab.kernel.invokeFunction('convertToInteractive',\n",
              "                                                    [key], {});\n",
              "        if (!dataTable) return;\n",
              "\n",
              "        const docLinkHtml = 'Like what you see? Visit the ' +\n",
              "          '<a target=\"_blank\" href=https://colab.research.google.com/notebooks/data_table.ipynb>data table notebook</a>'\n",
              "          + ' to learn more about interactive tables.';\n",
              "        element.innerHTML = '';\n",
              "        dataTable['output_type'] = 'display_data';\n",
              "        await google.colab.output.renderOutput(dataTable, element);\n",
              "        const docLink = document.createElement('div');\n",
              "        docLink.innerHTML = docLinkHtml;\n",
              "        element.appendChild(docLink);\n",
              "      }\n",
              "    </script>\n",
              "  </div>\n",
              "\n",
              "\n",
              "<div id=\"df-021d6b98-190a-4a2c-bc5a-d48141e97373\">\n",
              "  <button class=\"colab-df-quickchart\" onclick=\"quickchart('df-021d6b98-190a-4a2c-bc5a-d48141e97373')\"\n",
              "            title=\"Suggest charts\"\n",
              "            style=\"display:none;\">\n",
              "\n",
              "<svg xmlns=\"http://www.w3.org/2000/svg\" height=\"24px\"viewBox=\"0 0 24 24\"\n",
              "     width=\"24px\">\n",
              "    <g>\n",
              "        <path d=\"M19 3H5c-1.1 0-2 .9-2 2v14c0 1.1.9 2 2 2h14c1.1 0 2-.9 2-2V5c0-1.1-.9-2-2-2zM9 17H7v-7h2v7zm4 0h-2V7h2v10zm4 0h-2v-4h2v4z\"/>\n",
              "    </g>\n",
              "</svg>\n",
              "  </button>\n",
              "\n",
              "<style>\n",
              "  .colab-df-quickchart {\n",
              "      --bg-color: #E8F0FE;\n",
              "      --fill-color: #1967D2;\n",
              "      --hover-bg-color: #E2EBFA;\n",
              "      --hover-fill-color: #174EA6;\n",
              "      --disabled-fill-color: #AAA;\n",
              "      --disabled-bg-color: #DDD;\n",
              "  }\n",
              "\n",
              "  [theme=dark] .colab-df-quickchart {\n",
              "      --bg-color: #3B4455;\n",
              "      --fill-color: #D2E3FC;\n",
              "      --hover-bg-color: #434B5C;\n",
              "      --hover-fill-color: #FFFFFF;\n",
              "      --disabled-bg-color: #3B4455;\n",
              "      --disabled-fill-color: #666;\n",
              "  }\n",
              "\n",
              "  .colab-df-quickchart {\n",
              "    background-color: var(--bg-color);\n",
              "    border: none;\n",
              "    border-radius: 50%;\n",
              "    cursor: pointer;\n",
              "    display: none;\n",
              "    fill: var(--fill-color);\n",
              "    height: 32px;\n",
              "    padding: 0;\n",
              "    width: 32px;\n",
              "  }\n",
              "\n",
              "  .colab-df-quickchart:hover {\n",
              "    background-color: var(--hover-bg-color);\n",
              "    box-shadow: 0 1px 2px rgba(60, 64, 67, 0.3), 0 1px 3px 1px rgba(60, 64, 67, 0.15);\n",
              "    fill: var(--button-hover-fill-color);\n",
              "  }\n",
              "\n",
              "  .colab-df-quickchart-complete:disabled,\n",
              "  .colab-df-quickchart-complete:disabled:hover {\n",
              "    background-color: var(--disabled-bg-color);\n",
              "    fill: var(--disabled-fill-color);\n",
              "    box-shadow: none;\n",
              "  }\n",
              "\n",
              "  .colab-df-spinner {\n",
              "    border: 2px solid var(--fill-color);\n",
              "    border-color: transparent;\n",
              "    border-bottom-color: var(--fill-color);\n",
              "    animation:\n",
              "      spin 1s steps(1) infinite;\n",
              "  }\n",
              "\n",
              "  @keyframes spin {\n",
              "    0% {\n",
              "      border-color: transparent;\n",
              "      border-bottom-color: var(--fill-color);\n",
              "      border-left-color: var(--fill-color);\n",
              "    }\n",
              "    20% {\n",
              "      border-color: transparent;\n",
              "      border-left-color: var(--fill-color);\n",
              "      border-top-color: var(--fill-color);\n",
              "    }\n",
              "    30% {\n",
              "      border-color: transparent;\n",
              "      border-left-color: var(--fill-color);\n",
              "      border-top-color: var(--fill-color);\n",
              "      border-right-color: var(--fill-color);\n",
              "    }\n",
              "    40% {\n",
              "      border-color: transparent;\n",
              "      border-right-color: var(--fill-color);\n",
              "      border-top-color: var(--fill-color);\n",
              "    }\n",
              "    60% {\n",
              "      border-color: transparent;\n",
              "      border-right-color: var(--fill-color);\n",
              "    }\n",
              "    80% {\n",
              "      border-color: transparent;\n",
              "      border-right-color: var(--fill-color);\n",
              "      border-bottom-color: var(--fill-color);\n",
              "    }\n",
              "    90% {\n",
              "      border-color: transparent;\n",
              "      border-bottom-color: var(--fill-color);\n",
              "    }\n",
              "  }\n",
              "</style>\n",
              "\n",
              "  <script>\n",
              "    async function quickchart(key) {\n",
              "      const quickchartButtonEl =\n",
              "        document.querySelector('#' + key + ' button');\n",
              "      quickchartButtonEl.disabled = true;  // To prevent multiple clicks.\n",
              "      quickchartButtonEl.classList.add('colab-df-spinner');\n",
              "      try {\n",
              "        const charts = await google.colab.kernel.invokeFunction(\n",
              "            'suggestCharts', [key], {});\n",
              "      } catch (error) {\n",
              "        console.error('Error during call to suggestCharts:', error);\n",
              "      }\n",
              "      quickchartButtonEl.classList.remove('colab-df-spinner');\n",
              "      quickchartButtonEl.classList.add('colab-df-quickchart-complete');\n",
              "    }\n",
              "    (() => {\n",
              "      let quickchartButtonEl =\n",
              "        document.querySelector('#df-021d6b98-190a-4a2c-bc5a-d48141e97373 button');\n",
              "      quickchartButtonEl.style.display =\n",
              "        google.colab.kernel.accessAllowed ? 'block' : 'none';\n",
              "    })();\n",
              "  </script>\n",
              "</div>\n",
              "    </div>\n",
              "  </div>\n"
            ]
          },
          "metadata": {},
          "execution_count": 168
        }
      ]
    },
    {
      "cell_type": "code",
      "source": [
        "for row in Primavera_transcriptions_df.index:\n",
        "  with open(my_drv_path + 'media108.ru/Датасет/' + Primavera_transcriptions_df.loc[row, ['Файл whisper-транскрибации записи звонка']].values[0], 'rb') as f:\n",
        "    contents = f.read()\n",
        "  Primavera_transcriptions_df.loc[row, ['Текст whisper-транскрибации записи звонка']] = contents.decode('utf-16').strip()"
      ],
      "metadata": {
        "id": "l6OgFAgT_fN9"
      },
      "execution_count": null,
      "outputs": []
    },
    {
      "cell_type": "code",
      "source": [
        "Primavera_transcriptions_df['Текст whisper-транскрибации записи звонка'].head()"
      ],
      "metadata": {
        "colab": {
          "base_uri": "https://localhost:8080/"
        },
        "outputId": "c0149831-88b4-4201-f552-a8e57164f2f1",
        "id": "imv7iJGa_fN-"
      },
      "execution_count": null,
      "outputs": [
        {
          "output_type": "execute_result",
          "data": {
            "text/plain": [
              "0                                                                                                                                                                                                                                                                                                                                                                                                                                                                                                                                                                                                                                                                                                                                                                            Добрый день, оператор Яна, клубный город на реке Примавера. Как я могу к вам обращаться? Добрый день, Александр. Можете через 2 часа набрать? Да, покупка квартиры, да, интересует, Александр? Да, да, да. Все, хорошо, передам информацию. Ожидайте. Спасибо.\n",
              "1    Клубный город на реке Примавера. Здравствуйте, Светлана. Да, здрасте. Есть квартиры? Да, да. Как обращаться к вам? Вячеслав. Вячеслав, вас менеджер проконсультирует минуту. Обращаем ваше внимание, что в целях контроля качества услуг разговор может быть записан. Обращаем ваше внимание. Примавера. Клубный город на реке. Меня Владимир зовут. Здравствуйте, Вячеслав. Всем могу быть полезен? Да, здрасте. Предъявление на вас, что квартиры до 20 миллионов, ну, как хотелось бы, до 15. Ну, либо однушка, либо двушка. Просите на двушку, наверное. Вячеслав, скажите, до 13 миллионов, вы сказали? Нет, до 17-ти. А, так. У нас просто двухкомнатные, где отдельная спальня и кухня. Они начинаются от 27 миллионов. Есть форматы Евро, двухкомнатные, где отдельная спальня и кухня-гостиная. Они начинаются от 19 миллионов 300 тысяч. Вам такие форматы подходят? Это самые дальние по сдаче, корпус. Да, совершенно верно. У нас сейчас в продаже две очереди, Россиния и Вивальди. Россия, ключи до декабря 2024 год...\n",
              "2    Здравствуйте, это Татьяна. Здравствуйте, это Евгения. Город на реке, однокомнатный 25-й год, 19 370 000 рублей. Соединяем? Да. Ага. А для продаж соединяю с менеджером. Добрый день. Я хотела узнать, по ряду рассрочки какой у вас... Обращаем ваше внимание, что в целях контроля качества услуг разговор может быть записан. Прямовары, Клубная зона. Алло. Владимир зовут. Здравствуйте, Евгения. Чем могу быть полезен? Здравствуйте. Хотела поподробнее расспросить по отсрочке, рассрочке, то есть при покупке квартиры, такие условия. Евгения, а вас какой корпус интересует? Очередь. У нас есть две очереди. Первая на России называется, там ключи до декабря 24-го года пораньше завернуты. А вторая очередь называется в Вивальде, там срок получения ключей до декабря 25-го года, на год позднее. Вы готовы подождать? Ага. Подождать я готова, да. Ну какие у вас там условия? А что, разные условия для 24-го года? Да, конечно. А вы расскажите про то и про другое. В первую очередь у нас есть хорошая рассроч...\n",
              "3                                           Кубный город на реке Примавера. Здравствуйте, Екатерина. Да, здравствуй, Екатерина. Скажите, пожалуйста, а где у вас офис находится? По поводу консультации приключена специалистка. Как вас представить можно? Михаил зовут. Соглени вас. Клубный город на реке Примавера. Меня зовут Екатерина. Михаил, здравствуйте. Чем могу быть вам? Правильно? Здравствуйте. А где у вас офис находится в Прадаже? Он находится по адресу Волоколамской шоссе, 71, корпус 1. Чуть в отдалении от объекта. Вы сейчас где-то недалеко? Да, мы где-то возле прям объекта. А, вам нужно пойти в другую сторону, либо там... В сторону Волоколамского шоссе. Да, абсолютно верно. Вы сейчас пешком или на автомобиле? Да, пешком. Я вам могу сбросить точку в Яндекс.Картах, в навигаторе, вы поймете где. И я вас буду застеливать. Есть номер живой, да? Можете сюда оставить. Сейчас, секунду, давайте я посмотрю определился ли. Так, 937, 799, да? Да, да. Все, сейчас отправлю вас. Все, спасибо, ждем.\n",
              "4                                                                                                                                                                                                                                                                                                                                                                                                                                                                                                                                                                                                                                                                                                                                                                                                                                                                     Кловный город на реке Примавера. Здравствуйте, Анастасия. Девушка, здравствуйте. А у вас есть такой врач? Сейчас скажу. А ваш врач, это жилой комплекс. Ой, извините.\n",
              "Name: Текст whisper-транскрибации записи звонка, dtype: object"
            ]
          },
          "metadata": {},
          "execution_count": 171
        }
      ]
    },
    {
      "cell_type": "markdown",
      "source": [
        "#### Типы данных"
      ],
      "metadata": {
        "id": "HjxpufJr_fN_"
      }
    },
    {
      "cell_type": "code",
      "source": [
        "# Смотрим типы данных\n",
        "Primavera_transcriptions_df.dtypes"
      ],
      "metadata": {
        "colab": {
          "base_uri": "https://localhost:8080/"
        },
        "outputId": "92da74f4-646f-43cc-8103-3239b0d21205",
        "id": "yHIafgtu_fOA"
      },
      "execution_count": null,
      "outputs": [
        {
          "output_type": "execute_result",
          "data": {
            "text/plain": [
              "Дата и время                                 datetime64[ns]\n",
              "Номер абонента                                        int64\n",
              "Номер сотрудника                                      int64\n",
              "Идентификатор сессии звонка                           int64\n",
              "Файл whisper-транскрибации записи звонка             object\n",
              "Текст whisper-транскрибации записи звонка            object\n",
              "dtype: object"
            ]
          },
          "metadata": {},
          "execution_count": 172
        }
      ]
    },
    {
      "cell_type": "code",
      "source": [
        "print(Primavera_transcriptions_df.count())"
      ],
      "metadata": {
        "colab": {
          "base_uri": "https://localhost:8080/"
        },
        "outputId": "fa036584-5f72-4ba4-8037-0daea7d0153f",
        "id": "m83Ylqxv_fOA"
      },
      "execution_count": null,
      "outputs": [
        {
          "output_type": "stream",
          "name": "stdout",
          "text": [
            "Дата и время                                 767\n",
            "Номер абонента                               767\n",
            "Номер сотрудника                             767\n",
            "Идентификатор сессии звонка                  767\n",
            "Файл whisper-транскрибации записи звонка     767\n",
            "Текст whisper-транскрибации записи звонка    767\n",
            "dtype: int64\n"
          ]
        }
      ]
    },
    {
      "cell_type": "markdown",
      "source": [
        "#### Сохранение датафрейма"
      ],
      "metadata": {
        "id": "p2JQjPMW_fOA"
      }
    },
    {
      "cell_type": "code",
      "source": [
        "# Сохраняем Primavera_transcriptions_df в файл\n",
        "with open(df_path + 'Primavera_new_transcriptions_df.pkl', 'wb') as f:\n",
        "  pkl.dump(Primavera_transcriptions_df, f)"
      ],
      "metadata": {
        "id": "yiGdaTsK_fOB"
      },
      "execution_count": null,
      "outputs": []
    },
    {
      "cell_type": "markdown",
      "source": [
        "### Paveletskaya_city"
      ],
      "metadata": {
        "id": "pbkUTkhS_fOB"
      }
    },
    {
      "cell_type": "markdown",
      "source": [
        "#### Создание датафрейма"
      ],
      "metadata": {
        "id": "ib86EPkT_fOC"
      }
    },
    {
      "cell_type": "code",
      "source": [
        "# Создаём датафрейм из списка файлов транскрибации звонков Paveletskaya_city\n",
        "Paveletskaya_city_transcriptions_df = transcriptions_list_to_df(os.listdir(my_drv_path + 'media108.ru/Датасет/Whisper-транскрибация новых записей звонков/Расшифровки_Записи Павелецкая сити'))\n",
        "Paveletskaya_city_transcriptions_df.shape"
      ],
      "metadata": {
        "colab": {
          "base_uri": "https://localhost:8080/"
        },
        "outputId": "d5b0c2ed-661b-4181-c197-3cc4ed83288c",
        "id": "p_1dDFUQ_fOC"
      },
      "execution_count": null,
      "outputs": [
        {
          "output_type": "execute_result",
          "data": {
            "text/plain": [
              "(1413, 5)"
            ]
          },
          "metadata": {},
          "execution_count": 175
        }
      ]
    },
    {
      "cell_type": "code",
      "source": [
        "Paveletskaya_city_transcriptions_df.head()"
      ],
      "metadata": {
        "colab": {
          "base_uri": "https://localhost:8080/",
          "height": 206
        },
        "outputId": "bcf73e5b-41a8-4631-9105-71ef49b90fd9",
        "id": "vuVE8GBI_fOC"
      },
      "execution_count": null,
      "outputs": [
        {
          "output_type": "execute_result",
          "data": {
            "text/plain": [
              "          Дата и время Номер абонента Номер сотрудника  \\\n",
              "0  2023-08-31 20:02:47    79169468891            00288   \n",
              "1  2023-09-01 08:51:34    79139426842            00288   \n",
              "2  2023-09-01 10:53:19    79257720080            00288   \n",
              "3  2023-09-01 11:24:52    37378077136            00288   \n",
              "4  2023-09-01 11:33:04    79858891114            00288   \n",
              "\n",
              "  Идентификатор сессии звонка  \\\n",
              "0                  3195065861   \n",
              "1                  3195409751   \n",
              "2                  3188206290   \n",
              "3                  3188292205   \n",
              "4                  3195853356   \n",
              "\n",
              "                                           Файл whisper-транскрибации записи звонка  \n",
              "0  2023-08-31_20-02-47.458103_from_79169468891_to_00288_session_3195065861_talk.txt  \n",
              "1  2023-09-01_08-51-34.418574_from_79139426842_to_00288_session_3195409751_talk.txt  \n",
              "2  2023-09-01_10-53-19.201214_from_79257720080_to_00288_session_3188206290_talk.txt  \n",
              "3  2023-09-01_11-24-52.929663_from_37378077136_to_00288_session_3188292205_talk.txt  \n",
              "4  2023-09-01_11-33-04.092834_from_79858891114_to_00288_session_3195853356_talk.txt  "
            ],
            "text/html": [
              "\n",
              "  <div id=\"df-f8875451-4445-4d76-bb3e-cce399b6159d\" class=\"colab-df-container\">\n",
              "    <div>\n",
              "<style scoped>\n",
              "    .dataframe tbody tr th:only-of-type {\n",
              "        vertical-align: middle;\n",
              "    }\n",
              "\n",
              "    .dataframe tbody tr th {\n",
              "        vertical-align: top;\n",
              "    }\n",
              "\n",
              "    .dataframe thead th {\n",
              "        text-align: right;\n",
              "    }\n",
              "</style>\n",
              "<table border=\"1\" class=\"dataframe\">\n",
              "  <thead>\n",
              "    <tr style=\"text-align: right;\">\n",
              "      <th></th>\n",
              "      <th>Дата и время</th>\n",
              "      <th>Номер абонента</th>\n",
              "      <th>Номер сотрудника</th>\n",
              "      <th>Идентификатор сессии звонка</th>\n",
              "      <th>Файл whisper-транскрибации записи звонка</th>\n",
              "    </tr>\n",
              "  </thead>\n",
              "  <tbody>\n",
              "    <tr>\n",
              "      <th>0</th>\n",
              "      <td>2023-08-31 20:02:47</td>\n",
              "      <td>79169468891</td>\n",
              "      <td>00288</td>\n",
              "      <td>3195065861</td>\n",
              "      <td>2023-08-31_20-02-47.458103_from_79169468891_to_00288_session_3195065861_talk.txt</td>\n",
              "    </tr>\n",
              "    <tr>\n",
              "      <th>1</th>\n",
              "      <td>2023-09-01 08:51:34</td>\n",
              "      <td>79139426842</td>\n",
              "      <td>00288</td>\n",
              "      <td>3195409751</td>\n",
              "      <td>2023-09-01_08-51-34.418574_from_79139426842_to_00288_session_3195409751_talk.txt</td>\n",
              "    </tr>\n",
              "    <tr>\n",
              "      <th>2</th>\n",
              "      <td>2023-09-01 10:53:19</td>\n",
              "      <td>79257720080</td>\n",
              "      <td>00288</td>\n",
              "      <td>3188206290</td>\n",
              "      <td>2023-09-01_10-53-19.201214_from_79257720080_to_00288_session_3188206290_talk.txt</td>\n",
              "    </tr>\n",
              "    <tr>\n",
              "      <th>3</th>\n",
              "      <td>2023-09-01 11:24:52</td>\n",
              "      <td>37378077136</td>\n",
              "      <td>00288</td>\n",
              "      <td>3188292205</td>\n",
              "      <td>2023-09-01_11-24-52.929663_from_37378077136_to_00288_session_3188292205_talk.txt</td>\n",
              "    </tr>\n",
              "    <tr>\n",
              "      <th>4</th>\n",
              "      <td>2023-09-01 11:33:04</td>\n",
              "      <td>79858891114</td>\n",
              "      <td>00288</td>\n",
              "      <td>3195853356</td>\n",
              "      <td>2023-09-01_11-33-04.092834_from_79858891114_to_00288_session_3195853356_talk.txt</td>\n",
              "    </tr>\n",
              "  </tbody>\n",
              "</table>\n",
              "</div>\n",
              "    <div class=\"colab-df-buttons\">\n",
              "\n",
              "  <div class=\"colab-df-container\">\n",
              "    <button class=\"colab-df-convert\" onclick=\"convertToInteractive('df-f8875451-4445-4d76-bb3e-cce399b6159d')\"\n",
              "            title=\"Convert this dataframe to an interactive table.\"\n",
              "            style=\"display:none;\">\n",
              "\n",
              "  <svg xmlns=\"http://www.w3.org/2000/svg\" height=\"24px\" viewBox=\"0 -960 960 960\">\n",
              "    <path d=\"M120-120v-720h720v720H120Zm60-500h600v-160H180v160Zm220 220h160v-160H400v160Zm0 220h160v-160H400v160ZM180-400h160v-160H180v160Zm440 0h160v-160H620v160ZM180-180h160v-160H180v160Zm440 0h160v-160H620v160Z\"/>\n",
              "  </svg>\n",
              "    </button>\n",
              "\n",
              "  <style>\n",
              "    .colab-df-container {\n",
              "      display:flex;\n",
              "      gap: 12px;\n",
              "    }\n",
              "\n",
              "    .colab-df-convert {\n",
              "      background-color: #E8F0FE;\n",
              "      border: none;\n",
              "      border-radius: 50%;\n",
              "      cursor: pointer;\n",
              "      display: none;\n",
              "      fill: #1967D2;\n",
              "      height: 32px;\n",
              "      padding: 0 0 0 0;\n",
              "      width: 32px;\n",
              "    }\n",
              "\n",
              "    .colab-df-convert:hover {\n",
              "      background-color: #E2EBFA;\n",
              "      box-shadow: 0px 1px 2px rgba(60, 64, 67, 0.3), 0px 1px 3px 1px rgba(60, 64, 67, 0.15);\n",
              "      fill: #174EA6;\n",
              "    }\n",
              "\n",
              "    .colab-df-buttons div {\n",
              "      margin-bottom: 4px;\n",
              "    }\n",
              "\n",
              "    [theme=dark] .colab-df-convert {\n",
              "      background-color: #3B4455;\n",
              "      fill: #D2E3FC;\n",
              "    }\n",
              "\n",
              "    [theme=dark] .colab-df-convert:hover {\n",
              "      background-color: #434B5C;\n",
              "      box-shadow: 0px 1px 3px 1px rgba(0, 0, 0, 0.15);\n",
              "      filter: drop-shadow(0px 1px 2px rgba(0, 0, 0, 0.3));\n",
              "      fill: #FFFFFF;\n",
              "    }\n",
              "  </style>\n",
              "\n",
              "    <script>\n",
              "      const buttonEl =\n",
              "        document.querySelector('#df-f8875451-4445-4d76-bb3e-cce399b6159d button.colab-df-convert');\n",
              "      buttonEl.style.display =\n",
              "        google.colab.kernel.accessAllowed ? 'block' : 'none';\n",
              "\n",
              "      async function convertToInteractive(key) {\n",
              "        const element = document.querySelector('#df-f8875451-4445-4d76-bb3e-cce399b6159d');\n",
              "        const dataTable =\n",
              "          await google.colab.kernel.invokeFunction('convertToInteractive',\n",
              "                                                    [key], {});\n",
              "        if (!dataTable) return;\n",
              "\n",
              "        const docLinkHtml = 'Like what you see? Visit the ' +\n",
              "          '<a target=\"_blank\" href=https://colab.research.google.com/notebooks/data_table.ipynb>data table notebook</a>'\n",
              "          + ' to learn more about interactive tables.';\n",
              "        element.innerHTML = '';\n",
              "        dataTable['output_type'] = 'display_data';\n",
              "        await google.colab.output.renderOutput(dataTable, element);\n",
              "        const docLink = document.createElement('div');\n",
              "        docLink.innerHTML = docLinkHtml;\n",
              "        element.appendChild(docLink);\n",
              "      }\n",
              "    </script>\n",
              "  </div>\n",
              "\n",
              "\n",
              "<div id=\"df-9768bb1b-26d6-4787-8ddd-44a6e5ee9a62\">\n",
              "  <button class=\"colab-df-quickchart\" onclick=\"quickchart('df-9768bb1b-26d6-4787-8ddd-44a6e5ee9a62')\"\n",
              "            title=\"Suggest charts\"\n",
              "            style=\"display:none;\">\n",
              "\n",
              "<svg xmlns=\"http://www.w3.org/2000/svg\" height=\"24px\"viewBox=\"0 0 24 24\"\n",
              "     width=\"24px\">\n",
              "    <g>\n",
              "        <path d=\"M19 3H5c-1.1 0-2 .9-2 2v14c0 1.1.9 2 2 2h14c1.1 0 2-.9 2-2V5c0-1.1-.9-2-2-2zM9 17H7v-7h2v7zm4 0h-2V7h2v10zm4 0h-2v-4h2v4z\"/>\n",
              "    </g>\n",
              "</svg>\n",
              "  </button>\n",
              "\n",
              "<style>\n",
              "  .colab-df-quickchart {\n",
              "      --bg-color: #E8F0FE;\n",
              "      --fill-color: #1967D2;\n",
              "      --hover-bg-color: #E2EBFA;\n",
              "      --hover-fill-color: #174EA6;\n",
              "      --disabled-fill-color: #AAA;\n",
              "      --disabled-bg-color: #DDD;\n",
              "  }\n",
              "\n",
              "  [theme=dark] .colab-df-quickchart {\n",
              "      --bg-color: #3B4455;\n",
              "      --fill-color: #D2E3FC;\n",
              "      --hover-bg-color: #434B5C;\n",
              "      --hover-fill-color: #FFFFFF;\n",
              "      --disabled-bg-color: #3B4455;\n",
              "      --disabled-fill-color: #666;\n",
              "  }\n",
              "\n",
              "  .colab-df-quickchart {\n",
              "    background-color: var(--bg-color);\n",
              "    border: none;\n",
              "    border-radius: 50%;\n",
              "    cursor: pointer;\n",
              "    display: none;\n",
              "    fill: var(--fill-color);\n",
              "    height: 32px;\n",
              "    padding: 0;\n",
              "    width: 32px;\n",
              "  }\n",
              "\n",
              "  .colab-df-quickchart:hover {\n",
              "    background-color: var(--hover-bg-color);\n",
              "    box-shadow: 0 1px 2px rgba(60, 64, 67, 0.3), 0 1px 3px 1px rgba(60, 64, 67, 0.15);\n",
              "    fill: var(--button-hover-fill-color);\n",
              "  }\n",
              "\n",
              "  .colab-df-quickchart-complete:disabled,\n",
              "  .colab-df-quickchart-complete:disabled:hover {\n",
              "    background-color: var(--disabled-bg-color);\n",
              "    fill: var(--disabled-fill-color);\n",
              "    box-shadow: none;\n",
              "  }\n",
              "\n",
              "  .colab-df-spinner {\n",
              "    border: 2px solid var(--fill-color);\n",
              "    border-color: transparent;\n",
              "    border-bottom-color: var(--fill-color);\n",
              "    animation:\n",
              "      spin 1s steps(1) infinite;\n",
              "  }\n",
              "\n",
              "  @keyframes spin {\n",
              "    0% {\n",
              "      border-color: transparent;\n",
              "      border-bottom-color: var(--fill-color);\n",
              "      border-left-color: var(--fill-color);\n",
              "    }\n",
              "    20% {\n",
              "      border-color: transparent;\n",
              "      border-left-color: var(--fill-color);\n",
              "      border-top-color: var(--fill-color);\n",
              "    }\n",
              "    30% {\n",
              "      border-color: transparent;\n",
              "      border-left-color: var(--fill-color);\n",
              "      border-top-color: var(--fill-color);\n",
              "      border-right-color: var(--fill-color);\n",
              "    }\n",
              "    40% {\n",
              "      border-color: transparent;\n",
              "      border-right-color: var(--fill-color);\n",
              "      border-top-color: var(--fill-color);\n",
              "    }\n",
              "    60% {\n",
              "      border-color: transparent;\n",
              "      border-right-color: var(--fill-color);\n",
              "    }\n",
              "    80% {\n",
              "      border-color: transparent;\n",
              "      border-right-color: var(--fill-color);\n",
              "      border-bottom-color: var(--fill-color);\n",
              "    }\n",
              "    90% {\n",
              "      border-color: transparent;\n",
              "      border-bottom-color: var(--fill-color);\n",
              "    }\n",
              "  }\n",
              "</style>\n",
              "\n",
              "  <script>\n",
              "    async function quickchart(key) {\n",
              "      const quickchartButtonEl =\n",
              "        document.querySelector('#' + key + ' button');\n",
              "      quickchartButtonEl.disabled = true;  // To prevent multiple clicks.\n",
              "      quickchartButtonEl.classList.add('colab-df-spinner');\n",
              "      try {\n",
              "        const charts = await google.colab.kernel.invokeFunction(\n",
              "            'suggestCharts', [key], {});\n",
              "      } catch (error) {\n",
              "        console.error('Error during call to suggestCharts:', error);\n",
              "      }\n",
              "      quickchartButtonEl.classList.remove('colab-df-spinner');\n",
              "      quickchartButtonEl.classList.add('colab-df-quickchart-complete');\n",
              "    }\n",
              "    (() => {\n",
              "      let quickchartButtonEl =\n",
              "        document.querySelector('#df-9768bb1b-26d6-4787-8ddd-44a6e5ee9a62 button');\n",
              "      quickchartButtonEl.style.display =\n",
              "        google.colab.kernel.accessAllowed ? 'block' : 'none';\n",
              "    })();\n",
              "  </script>\n",
              "</div>\n",
              "    </div>\n",
              "  </div>\n"
            ]
          },
          "metadata": {},
          "execution_count": 176
        }
      ]
    },
    {
      "cell_type": "code",
      "source": [
        "# Проверяем количество строк\n",
        "print(len(os.listdir(my_drv_path + 'media108.ru/Датасет/Whisper-транскрибация новых записей звонков/Расшифровки_Записи Павелецкая сити')))\n",
        "print(Paveletskaya_city_transcriptions_df.shape[0])"
      ],
      "metadata": {
        "colab": {
          "base_uri": "https://localhost:8080/"
        },
        "outputId": "9c1c0678-b1ad-44c7-dedd-bd2c2ccf3781",
        "id": "XBTNM9wy_fOD"
      },
      "execution_count": null,
      "outputs": [
        {
          "output_type": "stream",
          "name": "stdout",
          "text": [
            "1413\n",
            "1413\n"
          ]
        }
      ]
    },
    {
      "cell_type": "code",
      "source": [
        "print(Paveletskaya_city_transcriptions_df.count())"
      ],
      "metadata": {
        "colab": {
          "base_uri": "https://localhost:8080/"
        },
        "outputId": "0e3e8618-34de-4a9b-e408-504e94002707",
        "id": "mS8664kA_fOD"
      },
      "execution_count": null,
      "outputs": [
        {
          "output_type": "stream",
          "name": "stdout",
          "text": [
            "Дата и время                                1413\n",
            "Номер абонента                              1413\n",
            "Номер сотрудника                            1413\n",
            "Идентификатор сессии звонка                 1413\n",
            "Файл whisper-транскрибации записи звонка    1413\n",
            "dtype: int64\n"
          ]
        }
      ]
    },
    {
      "cell_type": "markdown",
      "source": [
        "#### Предобработка"
      ],
      "metadata": {
        "id": "qKCyGQMJ_fOE"
      }
    },
    {
      "cell_type": "markdown",
      "source": [
        "##### 0. Дата и время"
      ],
      "metadata": {
        "id": "h7fBLPS__fOE"
      }
    },
    {
      "cell_type": "code",
      "source": [
        "Paveletskaya_city_transcriptions_df['Дата и время'].head()"
      ],
      "metadata": {
        "colab": {
          "base_uri": "https://localhost:8080/"
        },
        "outputId": "ed4ffdd8-deb4-4dd1-c02d-22668ad40951",
        "id": "2ZbxLwne_fOF"
      },
      "execution_count": null,
      "outputs": [
        {
          "output_type": "execute_result",
          "data": {
            "text/plain": [
              "0    2023-08-31 20:02:47\n",
              "1    2023-09-01 08:51:34\n",
              "2    2023-09-01 10:53:19\n",
              "3    2023-09-01 11:24:52\n",
              "4    2023-09-01 11:33:04\n",
              "Name: Дата и время, dtype: object"
            ]
          },
          "metadata": {},
          "execution_count": 179
        }
      ]
    },
    {
      "cell_type": "code",
      "source": [
        "# Приводим тип данных столбца 'Дата и время'\n",
        "Paveletskaya_city_transcriptions_df['Дата и время'] = pd.to_datetime(Paveletskaya_city_transcriptions_df['Дата и время'])"
      ],
      "metadata": {
        "id": "P2pJK9hP_fOF"
      },
      "execution_count": null,
      "outputs": []
    },
    {
      "cell_type": "code",
      "source": [
        "Paveletskaya_city_transcriptions_df['Дата и время'].tail()"
      ],
      "metadata": {
        "colab": {
          "base_uri": "https://localhost:8080/"
        },
        "outputId": "d2201f7a-b4bc-453c-e3c1-fd3524ae24bf",
        "id": "6CIWc-mm_fOF"
      },
      "execution_count": null,
      "outputs": [
        {
          "output_type": "execute_result",
          "data": {
            "text/plain": [
              "1408   2023-08-31 16:07:51\n",
              "1409   2023-08-31 16:20:15\n",
              "1410   2023-08-31 17:01:46\n",
              "1411   2023-08-31 17:12:58\n",
              "1412   2023-08-31 18:33:45\n",
              "Name: Дата и время, dtype: datetime64[ns]"
            ]
          },
          "metadata": {},
          "execution_count": 181
        }
      ]
    },
    {
      "cell_type": "markdown",
      "source": [
        "##### 1. Номер абонента"
      ],
      "metadata": {
        "id": "EHXqn5bZ_fOH"
      }
    },
    {
      "cell_type": "code",
      "source": [
        "Paveletskaya_city_transcriptions_df['Номер абонента'].head()"
      ],
      "metadata": {
        "colab": {
          "base_uri": "https://localhost:8080/"
        },
        "outputId": "8f3e2f1f-a9ee-4f1a-cc67-2735fafd9946",
        "id": "5W8-DRtt_fOI"
      },
      "execution_count": null,
      "outputs": [
        {
          "output_type": "execute_result",
          "data": {
            "text/plain": [
              "0    79169468891\n",
              "1    79139426842\n",
              "2    79257720080\n",
              "3    37378077136\n",
              "4    79858891114\n",
              "Name: Номер абонента, dtype: object"
            ]
          },
          "metadata": {},
          "execution_count": 182
        }
      ]
    },
    {
      "cell_type": "code",
      "source": [
        "Paveletskaya_city_transcriptions_df['Номер абонента'][Paveletskaya_city_transcriptions_df['Номер абонента'] == ''].count()"
      ],
      "metadata": {
        "colab": {
          "base_uri": "https://localhost:8080/"
        },
        "outputId": "0cae4abf-907b-4044-8e8a-5b2fe45fd158",
        "id": "myOr4U79_fOI"
      },
      "execution_count": null,
      "outputs": [
        {
          "output_type": "execute_result",
          "data": {
            "text/plain": [
              "1"
            ]
          },
          "metadata": {},
          "execution_count": 184
        }
      ]
    },
    {
      "cell_type": "code",
      "source": [
        "# Меняем '' на '0' в столбце 'Номер абонента'\n",
        "Paveletskaya_city_transcriptions_df['Номер абонента'] = Paveletskaya_city_transcriptions_df['Номер абонента'].apply(lambda x: '0' if x == '' else x)"
      ],
      "metadata": {
        "id": "VDR7NP_I_fOJ"
      },
      "execution_count": null,
      "outputs": []
    },
    {
      "cell_type": "code",
      "source": [
        "# Приводим тип данных столбца 'Номер абонента'\n",
        "Paveletskaya_city_transcriptions_df = Paveletskaya_city_transcriptions_df.astype({'Номер абонента': int})"
      ],
      "metadata": {
        "id": "aS5-vBb3_fOK"
      },
      "execution_count": null,
      "outputs": []
    },
    {
      "cell_type": "code",
      "source": [
        "Paveletskaya_city_transcriptions_df['Номер абонента'].tail()"
      ],
      "metadata": {
        "colab": {
          "base_uri": "https://localhost:8080/"
        },
        "outputId": "1f007520-7d89-4767-c976-da50b0e6dab8",
        "id": "v06Hi1dB_fOK"
      },
      "execution_count": null,
      "outputs": [
        {
          "output_type": "execute_result",
          "data": {
            "text/plain": [
              "1408    79271791618\n",
              "1409    79331112978\n",
              "1410    79153796174\n",
              "1411    79061800540\n",
              "1412    79271414018\n",
              "Name: Номер абонента, dtype: int64"
            ]
          },
          "metadata": {},
          "execution_count": 187
        }
      ]
    },
    {
      "cell_type": "markdown",
      "source": [
        "##### 2. Номер сотрудника"
      ],
      "metadata": {
        "id": "f254rDv9_fOK"
      }
    },
    {
      "cell_type": "code",
      "source": [
        "Paveletskaya_city_transcriptions_df['Номер сотрудника'].head()"
      ],
      "metadata": {
        "colab": {
          "base_uri": "https://localhost:8080/"
        },
        "outputId": "5769a78d-4f7f-48b6-ac50-bc7d90346a6f",
        "id": "cTcfMq1f_fOL"
      },
      "execution_count": null,
      "outputs": [
        {
          "output_type": "execute_result",
          "data": {
            "text/plain": [
              "0    00288\n",
              "1    00288\n",
              "2    00288\n",
              "3    00288\n",
              "4    00288\n",
              "Name: Номер сотрудника, dtype: object"
            ]
          },
          "metadata": {},
          "execution_count": 188
        }
      ]
    },
    {
      "cell_type": "code",
      "source": [
        "# Приводим тип данных столбца 'Номер сотрудника'\n",
        "Paveletskaya_city_transcriptions_df = Paveletskaya_city_transcriptions_df.astype({'Номер сотрудника': int})"
      ],
      "metadata": {
        "id": "QxLBS0BB_fOL"
      },
      "execution_count": null,
      "outputs": []
    },
    {
      "cell_type": "code",
      "source": [
        "Paveletskaya_city_transcriptions_df['Номер сотрудника'].tail()"
      ],
      "metadata": {
        "colab": {
          "base_uri": "https://localhost:8080/"
        },
        "outputId": "66975b87-ccf5-4dc1-ad3a-28130aa56c7a",
        "id": "hnkFtWZT_fOM"
      },
      "execution_count": null,
      "outputs": [
        {
          "output_type": "execute_result",
          "data": {
            "text/plain": [
              "1408    288\n",
              "1409    288\n",
              "1410    288\n",
              "1411    288\n",
              "1412    288\n",
              "Name: Номер сотрудника, dtype: int64"
            ]
          },
          "metadata": {},
          "execution_count": 190
        }
      ]
    },
    {
      "cell_type": "markdown",
      "source": [
        "##### 3. Идентификатор сессии звонка"
      ],
      "metadata": {
        "id": "SsbqHOvg_fOM"
      }
    },
    {
      "cell_type": "code",
      "source": [
        "Paveletskaya_city_transcriptions_df['Идентификатор сессии звонка'].head()"
      ],
      "metadata": {
        "colab": {
          "base_uri": "https://localhost:8080/"
        },
        "outputId": "6b95e301-6c4b-4249-f4fd-3fd6d25328f8",
        "id": "b0XlrWHt_fOM"
      },
      "execution_count": null,
      "outputs": [
        {
          "output_type": "execute_result",
          "data": {
            "text/plain": [
              "0    3195065861\n",
              "1    3195409751\n",
              "2    3188206290\n",
              "3    3188292205\n",
              "4    3195853356\n",
              "Name: Идентификатор сессии звонка, dtype: object"
            ]
          },
          "metadata": {},
          "execution_count": 191
        }
      ]
    },
    {
      "cell_type": "code",
      "source": [
        "# Приводим тип данных столбца 'Идентификатор сессии звонка'\n",
        "Paveletskaya_city_transcriptions_df = Paveletskaya_city_transcriptions_df.astype({'Идентификатор сессии звонка': int})"
      ],
      "metadata": {
        "id": "oMwXgSMS_fOP"
      },
      "execution_count": null,
      "outputs": []
    },
    {
      "cell_type": "code",
      "source": [
        "Paveletskaya_city_transcriptions_df['Идентификатор сессии звонка'].tail()"
      ],
      "metadata": {
        "colab": {
          "base_uri": "https://localhost:8080/"
        },
        "outputId": "85542ab2-343b-4558-af21-d6b4ea25a026",
        "id": "4mwptL2w_fOQ"
      },
      "execution_count": null,
      "outputs": [
        {
          "output_type": "execute_result",
          "data": {
            "text/plain": [
              "1408    3194514836\n",
              "1409    3200112337\n",
              "1410    3200245332\n",
              "1411    3190248338\n",
              "1412    3193454629\n",
              "Name: Идентификатор сессии звонка, dtype: int64"
            ]
          },
          "metadata": {},
          "execution_count": 193
        }
      ]
    },
    {
      "cell_type": "markdown",
      "source": [
        "##### 4. Файл whisper-транскрибации записи звонка"
      ],
      "metadata": {
        "id": "5_Lx3UOq_fOQ"
      }
    },
    {
      "cell_type": "code",
      "source": [
        "Paveletskaya_city_transcriptions_df['Файл whisper-транскрибации записи звонка'].head()"
      ],
      "metadata": {
        "colab": {
          "base_uri": "https://localhost:8080/"
        },
        "outputId": "85b9f1c1-d434-4c77-fed1-bb046d374379",
        "id": "HZS-wcQK_fOR"
      },
      "execution_count": null,
      "outputs": [
        {
          "output_type": "execute_result",
          "data": {
            "text/plain": [
              "0    2023-08-31_20-02-47.458103_from_79169468891_to_00288_session_3195065861_talk.txt\n",
              "1    2023-09-01_08-51-34.418574_from_79139426842_to_00288_session_3195409751_talk.txt\n",
              "2    2023-09-01_10-53-19.201214_from_79257720080_to_00288_session_3188206290_talk.txt\n",
              "3    2023-09-01_11-24-52.929663_from_37378077136_to_00288_session_3188292205_talk.txt\n",
              "4    2023-09-01_11-33-04.092834_from_79858891114_to_00288_session_3195853356_talk.txt\n",
              "Name: Файл whisper-транскрибации записи звонка, dtype: object"
            ]
          },
          "metadata": {},
          "execution_count": 195
        }
      ]
    },
    {
      "cell_type": "code",
      "source": [
        "# Добавляем к файлам относительные пути\n",
        "Paveletskaya_city_transcriptions_df['Файл whisper-транскрибации записи звонка'] = Paveletskaya_city_transcriptions_df['Файл whisper-транскрибации записи звонка'].apply(lambda x: 'Whisper-транскрибация новых записей звонков/Расшифровки_Записи Павелецкая сити/' + x)"
      ],
      "metadata": {
        "id": "huWH58hT_fOR"
      },
      "execution_count": null,
      "outputs": []
    },
    {
      "cell_type": "code",
      "source": [
        "Paveletskaya_city_transcriptions_df['Файл whisper-транскрибации записи звонка'].tail()"
      ],
      "metadata": {
        "colab": {
          "base_uri": "https://localhost:8080/"
        },
        "outputId": "4da9547a-303b-448b-aac0-aac370372ab7",
        "id": "Ydhg3FJ8_fOR"
      },
      "execution_count": null,
      "outputs": [
        {
          "output_type": "execute_result",
          "data": {
            "text/plain": [
              "1408    Whisper-транскрибация новых записей звонков/Расшифровки_Записи Павелецкая сити/2023-08-31_16-07-51.657929_from_79271791618_to_00288_session_3194514836_talk.txt\n",
              "1409    Whisper-транскрибация новых записей звонков/Расшифровки_Записи Павелецкая сити/2023-08-31_16-20-15.235129_from_79331112978_to_00288_session_3200112337_talk.txt\n",
              "1410    Whisper-транскрибация новых записей звонков/Расшифровки_Записи Павелецкая сити/2023-08-31_17-01-46.633530_from_79153796174_to_00288_session_3200245332_talk.txt\n",
              "1411    Whisper-транскрибация новых записей звонков/Расшифровки_Записи Павелецкая сити/2023-08-31_17-12-58.751450_from_79061800540_to_00288_session_3190248338_talk.txt\n",
              "1412    Whisper-транскрибация новых записей звонков/Расшифровки_Записи Павелецкая сити/2023-08-31_18-33-45.980557_from_79271414018_to_00288_session_3193454629_talk.txt\n",
              "Name: Файл whisper-транскрибации записи звонка, dtype: object"
            ]
          },
          "metadata": {},
          "execution_count": 197
        }
      ]
    },
    {
      "cell_type": "markdown",
      "source": [
        "##### 5. Текст whisper-транскрибации записи звонка"
      ],
      "metadata": {
        "id": "xxbl4flH_fOS"
      }
    },
    {
      "cell_type": "code",
      "source": [
        "# Добавляем столбец 'Текст whisper-транскрибации записи звонка'\n",
        "Paveletskaya_city_transcriptions_df['Текст whisper-транскрибации записи звонка'] = 'нет текста транскрибации звонка'\n",
        "Paveletskaya_city_transcriptions_df.head()"
      ],
      "metadata": {
        "colab": {
          "base_uri": "https://localhost:8080/",
          "height": 310
        },
        "outputId": "6d6d89b8-b3b4-42c8-9811-42b8fefe744d",
        "id": "fyDQLKtQ_fOT"
      },
      "execution_count": null,
      "outputs": [
        {
          "output_type": "execute_result",
          "data": {
            "text/plain": [
              "         Дата и время  Номер абонента  Номер сотрудника  \\\n",
              "0 2023-08-31 20:02:47     79169468891               288   \n",
              "1 2023-09-01 08:51:34     79139426842               288   \n",
              "2 2023-09-01 10:53:19     79257720080               288   \n",
              "3 2023-09-01 11:24:52     37378077136               288   \n",
              "4 2023-09-01 11:33:04     79858891114               288   \n",
              "\n",
              "   Идентификатор сессии звонка  \\\n",
              "0                   3195065861   \n",
              "1                   3195409751   \n",
              "2                   3188206290   \n",
              "3                   3188292205   \n",
              "4                   3195853356   \n",
              "\n",
              "                                                                                                                          Файл whisper-транскрибации записи звонка  \\\n",
              "0  Whisper-транскрибация новых записей звонков/Расшифровки_Записи Павелецкая сити/2023-08-31_20-02-47.458103_from_79169468891_to_00288_session_3195065861_talk.txt   \n",
              "1  Whisper-транскрибация новых записей звонков/Расшифровки_Записи Павелецкая сити/2023-09-01_08-51-34.418574_from_79139426842_to_00288_session_3195409751_talk.txt   \n",
              "2  Whisper-транскрибация новых записей звонков/Расшифровки_Записи Павелецкая сити/2023-09-01_10-53-19.201214_from_79257720080_to_00288_session_3188206290_talk.txt   \n",
              "3  Whisper-транскрибация новых записей звонков/Расшифровки_Записи Павелецкая сити/2023-09-01_11-24-52.929663_from_37378077136_to_00288_session_3188292205_talk.txt   \n",
              "4  Whisper-транскрибация новых записей звонков/Расшифровки_Записи Павелецкая сити/2023-09-01_11-33-04.092834_from_79858891114_to_00288_session_3195853356_talk.txt   \n",
              "\n",
              "  Текст whisper-транскрибации записи звонка  \n",
              "0           нет текста транскрибации звонка  \n",
              "1           нет текста транскрибации звонка  \n",
              "2           нет текста транскрибации звонка  \n",
              "3           нет текста транскрибации звонка  \n",
              "4           нет текста транскрибации звонка  "
            ],
            "text/html": [
              "\n",
              "  <div id=\"df-8c747225-30a6-4639-913f-63393b52f93d\" class=\"colab-df-container\">\n",
              "    <div>\n",
              "<style scoped>\n",
              "    .dataframe tbody tr th:only-of-type {\n",
              "        vertical-align: middle;\n",
              "    }\n",
              "\n",
              "    .dataframe tbody tr th {\n",
              "        vertical-align: top;\n",
              "    }\n",
              "\n",
              "    .dataframe thead th {\n",
              "        text-align: right;\n",
              "    }\n",
              "</style>\n",
              "<table border=\"1\" class=\"dataframe\">\n",
              "  <thead>\n",
              "    <tr style=\"text-align: right;\">\n",
              "      <th></th>\n",
              "      <th>Дата и время</th>\n",
              "      <th>Номер абонента</th>\n",
              "      <th>Номер сотрудника</th>\n",
              "      <th>Идентификатор сессии звонка</th>\n",
              "      <th>Файл whisper-транскрибации записи звонка</th>\n",
              "      <th>Текст whisper-транскрибации записи звонка</th>\n",
              "    </tr>\n",
              "  </thead>\n",
              "  <tbody>\n",
              "    <tr>\n",
              "      <th>0</th>\n",
              "      <td>2023-08-31 20:02:47</td>\n",
              "      <td>79169468891</td>\n",
              "      <td>288</td>\n",
              "      <td>3195065861</td>\n",
              "      <td>Whisper-транскрибация новых записей звонков/Расшифровки_Записи Павелецкая сити/2023-08-31_20-02-47.458103_from_79169468891_to_00288_session_3195065861_talk.txt</td>\n",
              "      <td>нет текста транскрибации звонка</td>\n",
              "    </tr>\n",
              "    <tr>\n",
              "      <th>1</th>\n",
              "      <td>2023-09-01 08:51:34</td>\n",
              "      <td>79139426842</td>\n",
              "      <td>288</td>\n",
              "      <td>3195409751</td>\n",
              "      <td>Whisper-транскрибация новых записей звонков/Расшифровки_Записи Павелецкая сити/2023-09-01_08-51-34.418574_from_79139426842_to_00288_session_3195409751_talk.txt</td>\n",
              "      <td>нет текста транскрибации звонка</td>\n",
              "    </tr>\n",
              "    <tr>\n",
              "      <th>2</th>\n",
              "      <td>2023-09-01 10:53:19</td>\n",
              "      <td>79257720080</td>\n",
              "      <td>288</td>\n",
              "      <td>3188206290</td>\n",
              "      <td>Whisper-транскрибация новых записей звонков/Расшифровки_Записи Павелецкая сити/2023-09-01_10-53-19.201214_from_79257720080_to_00288_session_3188206290_talk.txt</td>\n",
              "      <td>нет текста транскрибации звонка</td>\n",
              "    </tr>\n",
              "    <tr>\n",
              "      <th>3</th>\n",
              "      <td>2023-09-01 11:24:52</td>\n",
              "      <td>37378077136</td>\n",
              "      <td>288</td>\n",
              "      <td>3188292205</td>\n",
              "      <td>Whisper-транскрибация новых записей звонков/Расшифровки_Записи Павелецкая сити/2023-09-01_11-24-52.929663_from_37378077136_to_00288_session_3188292205_talk.txt</td>\n",
              "      <td>нет текста транскрибации звонка</td>\n",
              "    </tr>\n",
              "    <tr>\n",
              "      <th>4</th>\n",
              "      <td>2023-09-01 11:33:04</td>\n",
              "      <td>79858891114</td>\n",
              "      <td>288</td>\n",
              "      <td>3195853356</td>\n",
              "      <td>Whisper-транскрибация новых записей звонков/Расшифровки_Записи Павелецкая сити/2023-09-01_11-33-04.092834_from_79858891114_to_00288_session_3195853356_talk.txt</td>\n",
              "      <td>нет текста транскрибации звонка</td>\n",
              "    </tr>\n",
              "  </tbody>\n",
              "</table>\n",
              "</div>\n",
              "    <div class=\"colab-df-buttons\">\n",
              "\n",
              "  <div class=\"colab-df-container\">\n",
              "    <button class=\"colab-df-convert\" onclick=\"convertToInteractive('df-8c747225-30a6-4639-913f-63393b52f93d')\"\n",
              "            title=\"Convert this dataframe to an interactive table.\"\n",
              "            style=\"display:none;\">\n",
              "\n",
              "  <svg xmlns=\"http://www.w3.org/2000/svg\" height=\"24px\" viewBox=\"0 -960 960 960\">\n",
              "    <path d=\"M120-120v-720h720v720H120Zm60-500h600v-160H180v160Zm220 220h160v-160H400v160Zm0 220h160v-160H400v160ZM180-400h160v-160H180v160Zm440 0h160v-160H620v160ZM180-180h160v-160H180v160Zm440 0h160v-160H620v160Z\"/>\n",
              "  </svg>\n",
              "    </button>\n",
              "\n",
              "  <style>\n",
              "    .colab-df-container {\n",
              "      display:flex;\n",
              "      gap: 12px;\n",
              "    }\n",
              "\n",
              "    .colab-df-convert {\n",
              "      background-color: #E8F0FE;\n",
              "      border: none;\n",
              "      border-radius: 50%;\n",
              "      cursor: pointer;\n",
              "      display: none;\n",
              "      fill: #1967D2;\n",
              "      height: 32px;\n",
              "      padding: 0 0 0 0;\n",
              "      width: 32px;\n",
              "    }\n",
              "\n",
              "    .colab-df-convert:hover {\n",
              "      background-color: #E2EBFA;\n",
              "      box-shadow: 0px 1px 2px rgba(60, 64, 67, 0.3), 0px 1px 3px 1px rgba(60, 64, 67, 0.15);\n",
              "      fill: #174EA6;\n",
              "    }\n",
              "\n",
              "    .colab-df-buttons div {\n",
              "      margin-bottom: 4px;\n",
              "    }\n",
              "\n",
              "    [theme=dark] .colab-df-convert {\n",
              "      background-color: #3B4455;\n",
              "      fill: #D2E3FC;\n",
              "    }\n",
              "\n",
              "    [theme=dark] .colab-df-convert:hover {\n",
              "      background-color: #434B5C;\n",
              "      box-shadow: 0px 1px 3px 1px rgba(0, 0, 0, 0.15);\n",
              "      filter: drop-shadow(0px 1px 2px rgba(0, 0, 0, 0.3));\n",
              "      fill: #FFFFFF;\n",
              "    }\n",
              "  </style>\n",
              "\n",
              "    <script>\n",
              "      const buttonEl =\n",
              "        document.querySelector('#df-8c747225-30a6-4639-913f-63393b52f93d button.colab-df-convert');\n",
              "      buttonEl.style.display =\n",
              "        google.colab.kernel.accessAllowed ? 'block' : 'none';\n",
              "\n",
              "      async function convertToInteractive(key) {\n",
              "        const element = document.querySelector('#df-8c747225-30a6-4639-913f-63393b52f93d');\n",
              "        const dataTable =\n",
              "          await google.colab.kernel.invokeFunction('convertToInteractive',\n",
              "                                                    [key], {});\n",
              "        if (!dataTable) return;\n",
              "\n",
              "        const docLinkHtml = 'Like what you see? Visit the ' +\n",
              "          '<a target=\"_blank\" href=https://colab.research.google.com/notebooks/data_table.ipynb>data table notebook</a>'\n",
              "          + ' to learn more about interactive tables.';\n",
              "        element.innerHTML = '';\n",
              "        dataTable['output_type'] = 'display_data';\n",
              "        await google.colab.output.renderOutput(dataTable, element);\n",
              "        const docLink = document.createElement('div');\n",
              "        docLink.innerHTML = docLinkHtml;\n",
              "        element.appendChild(docLink);\n",
              "      }\n",
              "    </script>\n",
              "  </div>\n",
              "\n",
              "\n",
              "<div id=\"df-0b00ad27-04fd-42ae-96ea-45c6c8709240\">\n",
              "  <button class=\"colab-df-quickchart\" onclick=\"quickchart('df-0b00ad27-04fd-42ae-96ea-45c6c8709240')\"\n",
              "            title=\"Suggest charts\"\n",
              "            style=\"display:none;\">\n",
              "\n",
              "<svg xmlns=\"http://www.w3.org/2000/svg\" height=\"24px\"viewBox=\"0 0 24 24\"\n",
              "     width=\"24px\">\n",
              "    <g>\n",
              "        <path d=\"M19 3H5c-1.1 0-2 .9-2 2v14c0 1.1.9 2 2 2h14c1.1 0 2-.9 2-2V5c0-1.1-.9-2-2-2zM9 17H7v-7h2v7zm4 0h-2V7h2v10zm4 0h-2v-4h2v4z\"/>\n",
              "    </g>\n",
              "</svg>\n",
              "  </button>\n",
              "\n",
              "<style>\n",
              "  .colab-df-quickchart {\n",
              "      --bg-color: #E8F0FE;\n",
              "      --fill-color: #1967D2;\n",
              "      --hover-bg-color: #E2EBFA;\n",
              "      --hover-fill-color: #174EA6;\n",
              "      --disabled-fill-color: #AAA;\n",
              "      --disabled-bg-color: #DDD;\n",
              "  }\n",
              "\n",
              "  [theme=dark] .colab-df-quickchart {\n",
              "      --bg-color: #3B4455;\n",
              "      --fill-color: #D2E3FC;\n",
              "      --hover-bg-color: #434B5C;\n",
              "      --hover-fill-color: #FFFFFF;\n",
              "      --disabled-bg-color: #3B4455;\n",
              "      --disabled-fill-color: #666;\n",
              "  }\n",
              "\n",
              "  .colab-df-quickchart {\n",
              "    background-color: var(--bg-color);\n",
              "    border: none;\n",
              "    border-radius: 50%;\n",
              "    cursor: pointer;\n",
              "    display: none;\n",
              "    fill: var(--fill-color);\n",
              "    height: 32px;\n",
              "    padding: 0;\n",
              "    width: 32px;\n",
              "  }\n",
              "\n",
              "  .colab-df-quickchart:hover {\n",
              "    background-color: var(--hover-bg-color);\n",
              "    box-shadow: 0 1px 2px rgba(60, 64, 67, 0.3), 0 1px 3px 1px rgba(60, 64, 67, 0.15);\n",
              "    fill: var(--button-hover-fill-color);\n",
              "  }\n",
              "\n",
              "  .colab-df-quickchart-complete:disabled,\n",
              "  .colab-df-quickchart-complete:disabled:hover {\n",
              "    background-color: var(--disabled-bg-color);\n",
              "    fill: var(--disabled-fill-color);\n",
              "    box-shadow: none;\n",
              "  }\n",
              "\n",
              "  .colab-df-spinner {\n",
              "    border: 2px solid var(--fill-color);\n",
              "    border-color: transparent;\n",
              "    border-bottom-color: var(--fill-color);\n",
              "    animation:\n",
              "      spin 1s steps(1) infinite;\n",
              "  }\n",
              "\n",
              "  @keyframes spin {\n",
              "    0% {\n",
              "      border-color: transparent;\n",
              "      border-bottom-color: var(--fill-color);\n",
              "      border-left-color: var(--fill-color);\n",
              "    }\n",
              "    20% {\n",
              "      border-color: transparent;\n",
              "      border-left-color: var(--fill-color);\n",
              "      border-top-color: var(--fill-color);\n",
              "    }\n",
              "    30% {\n",
              "      border-color: transparent;\n",
              "      border-left-color: var(--fill-color);\n",
              "      border-top-color: var(--fill-color);\n",
              "      border-right-color: var(--fill-color);\n",
              "    }\n",
              "    40% {\n",
              "      border-color: transparent;\n",
              "      border-right-color: var(--fill-color);\n",
              "      border-top-color: var(--fill-color);\n",
              "    }\n",
              "    60% {\n",
              "      border-color: transparent;\n",
              "      border-right-color: var(--fill-color);\n",
              "    }\n",
              "    80% {\n",
              "      border-color: transparent;\n",
              "      border-right-color: var(--fill-color);\n",
              "      border-bottom-color: var(--fill-color);\n",
              "    }\n",
              "    90% {\n",
              "      border-color: transparent;\n",
              "      border-bottom-color: var(--fill-color);\n",
              "    }\n",
              "  }\n",
              "</style>\n",
              "\n",
              "  <script>\n",
              "    async function quickchart(key) {\n",
              "      const quickchartButtonEl =\n",
              "        document.querySelector('#' + key + ' button');\n",
              "      quickchartButtonEl.disabled = true;  // To prevent multiple clicks.\n",
              "      quickchartButtonEl.classList.add('colab-df-spinner');\n",
              "      try {\n",
              "        const charts = await google.colab.kernel.invokeFunction(\n",
              "            'suggestCharts', [key], {});\n",
              "      } catch (error) {\n",
              "        console.error('Error during call to suggestCharts:', error);\n",
              "      }\n",
              "      quickchartButtonEl.classList.remove('colab-df-spinner');\n",
              "      quickchartButtonEl.classList.add('colab-df-quickchart-complete');\n",
              "    }\n",
              "    (() => {\n",
              "      let quickchartButtonEl =\n",
              "        document.querySelector('#df-0b00ad27-04fd-42ae-96ea-45c6c8709240 button');\n",
              "      quickchartButtonEl.style.display =\n",
              "        google.colab.kernel.accessAllowed ? 'block' : 'none';\n",
              "    })();\n",
              "  </script>\n",
              "</div>\n",
              "    </div>\n",
              "  </div>\n"
            ]
          },
          "metadata": {},
          "execution_count": 198
        }
      ]
    },
    {
      "cell_type": "code",
      "source": [
        "for row in Paveletskaya_city_transcriptions_df.index:\n",
        "  with open(my_drv_path + 'media108.ru/Датасет/' + Paveletskaya_city_transcriptions_df.loc[row, ['Файл whisper-транскрибации записи звонка']].values[0], 'rb') as f:\n",
        "    contents = f.read()\n",
        "  Paveletskaya_city_transcriptions_df.loc[row, ['Текст whisper-транскрибации записи звонка']] = contents.decode('utf-16').strip()"
      ],
      "metadata": {
        "id": "rg2JInbn_fOT"
      },
      "execution_count": null,
      "outputs": []
    },
    {
      "cell_type": "code",
      "source": [
        "Paveletskaya_city_transcriptions_df['Текст whisper-транскрибации записи звонка'].head()"
      ],
      "metadata": {
        "colab": {
          "base_uri": "https://localhost:8080/"
        },
        "outputId": "1c19eabd-e561-453c-984c-acaa17b908dd",
        "id": "KbV2zrRr_fOT"
      },
      "execution_count": null,
      "outputs": [
        {
          "output_type": "execute_result",
          "data": {
            "text/plain": [
              "0                                                                                                                                                                                                                                                                                                                                                                                                                                                                                                                                                                                                                                               Здравствуйте, вы позвонили в компанию Эмергрупп. Пожалуйста дождитесь ответа нашего специалиста. Обращаем ваше внимание, что в целях улучшения качества обслуживания клиентов все разговоры записываются. Продолжая разговор, вы соглашаетесь на обработку ваших персональных данных. Вам звонок с Яндекс.Недвижимости. Для соединения с покупателем нажмите... Начинаем звонок покупателю.\n",
              "1                                                                                                                                                                                                                                                                                                                                                                                                                                                                                                                                                                                                                                                        Здравствуйте, вы позвонили в компанию Эммергрупп. Мы работаем ежедневно с 9 до 21 часа по московскому времени. Сейчас мы не можем ответить на ваш звонок. Пожалуйста, оставьте свои контактные данные, и мы вам перезвоним. Сообщите, пожалуйста, контактный номер телефона с указанием кода города и ваше имя. Начинайте говорить после звукового сигнала. 8-913-942-6842, Алина.\n",
              "2    Здравствуйте! Вы позвонили в компанию Эмергрупп. Пожалуйста, дождитесь ответа нашего специалиста. Обращаем ваше внимание, что в целях улучшения качества обслуживания клиентов все разговоры записываются. Продолжая разговор, вы соглашаетесь на обработку ваших персональных данных. В компании Эмергрупп, меня зовут Ирина. Здравствуйте! Ирина, здравствуйте! Меня вот интересует ЖК по билетской сети. Покупка жировой недвижимости в данном комплексе? Переуступка. Можно ли у вас оформить переуступку по этому объекту? То есть, вы продаете, я правильно поняла вас? Да, да, да. Помните, с каким менеджером контактировали на объекте? Она уже не работает. Нет, именно агентство. Первое агентство, БЭСТ, Метриум. Не знаю. Не помните? Можно фамилию, имя, число, подговоры? Я посмотрю, с кем вы работали, с каким агентством. Ботя Рова, Людмила. Минуту. Людмила Борисовна? Да, да. У вас компания БЭСТ. БЭСТ, я вас сейчас соединю, минуту. По окончании разговора, пожалуйста, оцените качество отслуживания. Людм...\n",
              "3                                                                Здравствуйте! Вы позвонили в компанию Эмэр Групп. Пожалуйста дождитесь ответа нашего специалиста. Обращаем ваше внимание, что в целях улучшения качества обслуживания клиентов все разговоры записываются. Продолжая разговор, вы соглашаетесь на обработку ваших персональных данных. Компания Наркология. Меня зовут Арина. Здравствуйте! Девушка, здравствуйте! Скажите, пожалуйста, я звоню вам с Молдавии. Это у вас наркологический центр, да? Нет, это строительная компания. Вы позвонили. А почему в этот номер пишется, как больница-наркологист? Я вам не смогу подсказать. Возможно, уже номер не принадлежит. А какой номер вы набирали? Подскажите, пожалуйста. Плюс семьсот сорок девять, пятьсот два, сто семьдесят семь, двадцать пять. Нет, что-то вообще соединение. Вы в Москву позвонили. В Москву? Я в Черпухов. Нет, нет, нет, нет, у нас вообще таких номеров нет. Какое-то соединение некорректное пошло. Ага, спасибо, до свидания. До свидания.\n",
              "4                                                                                                                                                                                                                                                                                                                                                                                                                                                                                                                                                                                                                                                                                                                                                    Здравствуйте! Вы позвонили в компанию ЭМР-Групп. Пожалуйста, дождитесь ответа нашего специалиста. Обращаем ваше внимание, что в целях улучшения качества обслуживания клиентов все разговоры записываются. Продолжая разговор, вы соглашаетесь на обработку ваших персональных данных.\n",
              "Name: Текст whisper-транскрибации записи звонка, dtype: object"
            ]
          },
          "metadata": {},
          "execution_count": 200
        }
      ]
    },
    {
      "cell_type": "markdown",
      "source": [
        "#### Типы данных"
      ],
      "metadata": {
        "id": "X3U4HIuS_fOU"
      }
    },
    {
      "cell_type": "code",
      "source": [
        "# Смотрим типы данных\n",
        "Paveletskaya_city_transcriptions_df.dtypes"
      ],
      "metadata": {
        "colab": {
          "base_uri": "https://localhost:8080/"
        },
        "outputId": "e7073506-8324-4b15-e63f-2a92761ea187",
        "id": "cbMbm_UW_fOU"
      },
      "execution_count": null,
      "outputs": [
        {
          "output_type": "execute_result",
          "data": {
            "text/plain": [
              "Дата и время                                 datetime64[ns]\n",
              "Номер абонента                                        int64\n",
              "Номер сотрудника                                      int64\n",
              "Идентификатор сессии звонка                           int64\n",
              "Файл whisper-транскрибации записи звонка             object\n",
              "Текст whisper-транскрибации записи звонка            object\n",
              "dtype: object"
            ]
          },
          "metadata": {},
          "execution_count": 201
        }
      ]
    },
    {
      "cell_type": "code",
      "source": [
        "print(Paveletskaya_city_transcriptions_df.count())"
      ],
      "metadata": {
        "colab": {
          "base_uri": "https://localhost:8080/"
        },
        "outputId": "6f9d7283-689c-46b3-cf17-a8ea103eba8c",
        "id": "inP2EULa_fOV"
      },
      "execution_count": null,
      "outputs": [
        {
          "output_type": "stream",
          "name": "stdout",
          "text": [
            "Дата и время                                 1413\n",
            "Номер абонента                               1413\n",
            "Номер сотрудника                             1413\n",
            "Идентификатор сессии звонка                  1413\n",
            "Файл whisper-транскрибации записи звонка     1413\n",
            "Текст whisper-транскрибации записи звонка    1413\n",
            "dtype: int64\n"
          ]
        }
      ]
    },
    {
      "cell_type": "markdown",
      "source": [
        "#### Сохранение датафрейма"
      ],
      "metadata": {
        "id": "ZtfmAoBP_fOV"
      }
    },
    {
      "cell_type": "code",
      "source": [
        "# Сохраняем Paveletskaya_city_transcriptions_df в файл\n",
        "with open(df_path + 'Paveletskaya_city_new_transcriptions_df.pkl', 'wb') as f:\n",
        "  pkl.dump(Paveletskaya_city_transcriptions_df, f)"
      ],
      "metadata": {
        "id": "YFsZYyRr_fOV"
      },
      "execution_count": null,
      "outputs": []
    },
    {
      "cell_type": "markdown",
      "source": [
        "## Добавление текстов транскрибации в датафреймы с информацией о звонках"
      ],
      "metadata": {
        "id": "XXcNF0p1ALIZ"
      }
    },
    {
      "cell_type": "markdown",
      "source": [
        "### Headliner"
      ],
      "metadata": {
        "id": "0mjUlSVSEL6G"
      }
    },
    {
      "cell_type": "code",
      "source": [
        "# Загружаем Headliner_df из pkl\n",
        "with open(df_path + 'Headliner_df.pkl', 'rb') as f:\n",
        "  Headliner_df = pkl.load(f)\n",
        "\n",
        "# Загружаем Headliner_new_df из pkl\n",
        "with open(df_path + 'Headliner_new_df.pkl', 'rb') as f:\n",
        "  Headliner_new_df = pkl.load(f)"
      ],
      "metadata": {
        "id": "IC92LBFyNE1M"
      },
      "execution_count": null,
      "outputs": []
    },
    {
      "cell_type": "code",
      "source": [
        "# Загружаем Headliner_transcriptions_df из pkl\n",
        "with open(df_path + 'Headliner_transcriptions_df.pkl', 'rb') as f:\n",
        "  Headliner_transcriptions_df = pkl.load(f)\n",
        "\n",
        "# Загружаем Headliner_new_transcriptions_df из pkl\n",
        "with open(df_path + 'Headliner_new_transcriptions_df.pkl', 'rb') as f:\n",
        "  Headliner_new_transcriptions_df = pkl.load(f)"
      ],
      "metadata": {
        "id": "gQCrmSa-H9jA"
      },
      "execution_count": null,
      "outputs": []
    },
    {
      "cell_type": "code",
      "source": [
        "print(Headliner_df.shape)\n",
        "print(Headliner_new_df.shape)"
      ],
      "metadata": {
        "colab": {
          "base_uri": "https://localhost:8080/"
        },
        "id": "lHhQBVOqJTf-",
        "outputId": "49f9a3e8-9339-4967-bd88-22472374fdb0"
      },
      "execution_count": null,
      "outputs": [
        {
          "output_type": "stream",
          "name": "stdout",
          "text": [
            "(4759, 77)\n",
            "(1542, 77)\n"
          ]
        }
      ]
    },
    {
      "cell_type": "code",
      "source": [
        "# Добавляем столбец 'Текст whisper-транскрибации записи звонка' в Headliner_df\n",
        "Headliner_df = Headliner_df.merge(Headliner_transcriptions_df[['Идентификатор сессии звонка','Текст whisper-транскрибации записи звонка']], how='outer', on=['Идентификатор сессии звонка'])\n",
        "Headliner_df.shape"
      ],
      "metadata": {
        "colab": {
          "base_uri": "https://localhost:8080/"
        },
        "id": "yj_abEfqOGSF",
        "outputId": "f329aa7f-e7ff-4961-d53e-ad1d24a30cd6"
      },
      "execution_count": null,
      "outputs": [
        {
          "output_type": "execute_result",
          "data": {
            "text/plain": [
              "(4759, 78)"
            ]
          },
          "metadata": {},
          "execution_count": 9
        }
      ]
    },
    {
      "cell_type": "code",
      "source": [
        "Headliner_df['Текст whisper-транскрибации записи звонка'][~Headliner_df['Текст whisper-транскрибации записи звонка'].isnull()].head()"
      ],
      "metadata": {
        "colab": {
          "base_uri": "https://localhost:8080/"
        },
        "id": "4d6CYNlYPH8F",
        "outputId": "8bef639b-a570-4a2e-a508-285a5ea70ace"
      },
      "execution_count": null,
      "outputs": [
        {
          "output_type": "execute_result",
          "data": {
            "text/plain": [
              "130                                                                                                                                                                                                                                                                                                                                                                                                                                                                                                                                                                                                                                                                                                                                                                                                                                           Ахрилань, Нержавой комплекс, здравствуйте, Светлана. Здравствуйте, скажите, пожалуйста, автопараты КМН А-603. Ой, это вы ошибаетесь, нет-нет, вы позвонили в другую компанию, перезвоните. Угу.\n",
              "142                                                                                                                                                                                                                                                                                                                                                                                                                                                                                                                                                                                                                                                                                                                                                                                                                                                                                                     Звонок по объявлению. Разговор может быть записан. Вам интересно? Позвольте, я продолжу, а потом, если что, зададите вопросы. Хорошо?\n",
              "149    Здравствуйте! Вы позвонили в группу компании «Картроф». Благодарим вас за звонок. Пожалуйста, дождитесь ответа оператора. Добрый вечер, группа компании «Картроф». Меня зовут Любовь. Любовь, добрый день. Виктория рассматривает жилой комплекс «Хедлайнер». Рассматривает трехкомнатную квартиру. Бюджет 40 миллионов. Да, спасибо. Добрый вечер, жилой комплекс «Хедлайнер» соединяется с делом продаж. Здравствуйте! Виктория, добрый день. Меня зовут Алена, менеджер проекта «Хедлайнер». Что могу быть вам полезно? Здравствуйте! Я хотела узнать по поводу вашего проекта. Есть ли квартиры готовые по планировкам, по ремонту, без ремонта, с ремонтом? Что есть вообще? Вы знакомы с нашим проектом? Нет, не совсем так, чуть-чуть совсем. А тогда, ну, а локацию хотя бы знаете, где мы находимся? Локацию, да. Да-да, локацию смотрела уже. Ага. Проект «Хедлайнер» находится у станции метро «Шелепиха». Школы рядом есть, муниципальная, романовская школа в 300 метрах, детский сад, также романовский. Также на тер...\n",
              "151                                                                                                                                                                                                                                                                                                                                                                                                                                                                                                                                                                                                                                                                                                                                                                                                                                                                                                                                                                                                                                     Beep.\n",
              "152                                                                                                                                                                                                                                                                                                                                                                                                                                                                                                                                                                                                                                                                                                                                                                                                                                                                                                                                                                                        📷 Живой комплекс. Хедлайнер Наталья. Здравствуйте!\n",
              "Name: Текст whisper-транскрибации записи звонка, dtype: object"
            ]
          },
          "metadata": {},
          "execution_count": 10
        }
      ]
    },
    {
      "cell_type": "code",
      "source": [
        "Headliner_df['Текст whisper-транскрибации записи звонка'].count()"
      ],
      "metadata": {
        "colab": {
          "base_uri": "https://localhost:8080/"
        },
        "id": "v9JXpABtPKqk",
        "outputId": "a5ce6948-9ed8-4403-a5b9-24ba39632631"
      },
      "execution_count": null,
      "outputs": [
        {
          "output_type": "execute_result",
          "data": {
            "text/plain": [
              "2045"
            ]
          },
          "metadata": {},
          "execution_count": 11
        }
      ]
    },
    {
      "cell_type": "code",
      "source": [
        "# Добавляем столбец 'Текст whisper-транскрибации записи звонка' в Headliner_new_df\n",
        "Headliner_new_df = Headliner_new_df.merge(Headliner_new_transcriptions_df[['Идентификатор сессии звонка','Текст whisper-транскрибации записи звонка']], how='outer', on=['Идентификатор сессии звонка'])\n",
        "Headliner_new_df.shape"
      ],
      "metadata": {
        "colab": {
          "base_uri": "https://localhost:8080/"
        },
        "id": "05A7U0EYNXZf",
        "outputId": "44c3387c-8f12-42f6-a32f-5c868bc3e4f0"
      },
      "execution_count": null,
      "outputs": [
        {
          "output_type": "execute_result",
          "data": {
            "text/plain": [
              "(1542, 78)"
            ]
          },
          "metadata": {},
          "execution_count": 12
        }
      ]
    },
    {
      "cell_type": "code",
      "source": [
        "Headliner_new_df['Текст whisper-транскрибации записи звонка'][~Headliner_new_df['Текст whisper-транскрибации записи звонка'].isnull()].head()"
      ],
      "metadata": {
        "colab": {
          "base_uri": "https://localhost:8080/"
        },
        "id": "rDp0qasXORV1",
        "outputId": "30cec329-42be-4ce0-c6be-7a8b9170758f"
      },
      "execution_count": null,
      "outputs": [
        {
          "output_type": "execute_result",
          "data": {
            "text/plain": [
              "0                                                                                                                                                                                                                                                                                                                                                                                                                                                                                                                                                                                                                                                                                                                                                                                                                                                                                                                                                                              Здравствуйте. К сожалению, наш офис не работает в это время.\n",
              "1                                                                                                                                                                                                                                                                                                                                                                                                                                                                                                                                                                                                                                                                                                                                                                                                                                                                                                                                                                Если у тебя есть предложение, напишите одно, и дамон смогальная чтобы flat\n",
              "3                                                                                                                                                                                                                                                                                                                                                                                                                                                                                                                                                                                                                                                                                                                                                                                                                                                                                                                                                                    電話が切れる音電話が切れる音電話が切れる音電話が切れる音電話が切れる音電話が切れる音電話が切れる音電話が切れる音電話が切れる音電話が切れる音\n",
              "4    Здравствуйте, зовут меня Сезанна, я представляю жилой портал Шадлайнер. Как могу к вам обращаться? Здравствуйте, меня зовут Ольга. Ольга, очень приятно. С нашим проектом знакомы, возможно вопросы какие-то у вас есть? Да, нам нужен... нам нужен... Трейдинг. Трейдинг? Мы сразу смотрели квартиру. Да, мы сразу выбрали квартиру и мы хотим заключить договор, и что-то у нас никак не получается. Никто нам не перезванивает, никто с нами не связывается. Поняла. А вы не помните менеджера, с которым вы разговаривали? Виталия. Виталия. Хорошо, я сейчас тогда вот этот номер ей передам, и она надеется, что с вами свяжется. Вы с ней подбирали квартиру, я правильно понимаю? Правильно, да. Мы хотим, чтобы... Да, про Елена и по поводу... Я знаю, знаю, знаю. Да, вы не подскажете ваш номер телефона? 985... Да, 800... Угу. 91... 61. 800 это 8 и 2 нуля. Я догадалась, Ольга. Все, сейчас Виталий все передам. Да, она с вами свяжется в ближайшее время. Мы пытаемся с вами по-вотсапу просто. Нам нужно, чтобы ...\n",
              "5    Здравствуйте, вы позвонили в группу компании «Картрофт». Благодарим вас за звонок. Пожалуйста дождитесь ответа оператора. Жилой комплекс «Хедлайнер», меня зовут Елена, здравствуйте. Здравствуйте, примите клиента по жилому комплексу «Хедлайнер». Зовут Ольга Владимировна, 900, 1 комнатная квартира, 15400. Письмо маленькому, пожалуйста. Да, спасибо. Спасибо. Ольга Владимировна, добрый день, меня зовут Алена, чем могу вам помочь? Связались с вами, чтобы посмотреть квартал, какой-то, не запомнила, но там рядом, неплохо что ли... Жилой комплекс «Хедлайнер» мы называем. А, да, «Хедлайнер», ну это его... По чём-то он самый дешёвый, если есть данные, и вообще в идеале-то, конечно, 3 евро, вот как кухня застильная и 2 комнаты. Хорошо. Стартовый, наверное, самый минимальный вход в проект – это студия 30 метров в бюджете от 17 миллионов 600, 1 комнатная квартира от 21 миллиона, готовая квартира от 22 миллионов, 1 комнатная и евро 3-комнатная в формате, который вы спрашиваете. Если мы говорим ...\n",
              "Name: Текст whisper-транскрибации записи звонка, dtype: object"
            ]
          },
          "metadata": {},
          "execution_count": 13
        }
      ]
    },
    {
      "cell_type": "code",
      "source": [
        "Headliner_new_df['Текст whisper-транскрибации записи звонка'].count()"
      ],
      "metadata": {
        "colab": {
          "base_uri": "https://localhost:8080/"
        },
        "id": "StEKqB80OsFF",
        "outputId": "3b1b0a3b-5f16-493d-c5ef-d06dfea2c989"
      },
      "execution_count": null,
      "outputs": [
        {
          "output_type": "execute_result",
          "data": {
            "text/plain": [
              "1226"
            ]
          },
          "metadata": {},
          "execution_count": 14
        }
      ]
    },
    {
      "cell_type": "code",
      "source": [
        "print(Headliner_df.shape)\n",
        "print(Headliner_new_df.shape)"
      ],
      "metadata": {
        "colab": {
          "base_uri": "https://localhost:8080/"
        },
        "id": "Dpa_u0SaU12S",
        "outputId": "a5f87315-e1e9-4cb0-eec9-b19c69cc5612"
      },
      "execution_count": null,
      "outputs": [
        {
          "output_type": "stream",
          "name": "stdout",
          "text": [
            "(4759, 78)\n",
            "(1542, 78)\n"
          ]
        }
      ]
    },
    {
      "cell_type": "code",
      "source": [
        "# Сохраняем Headliner_df в pkl\n",
        "with open(df_path + 'Headliner_df.pkl', 'wb') as f:\n",
        "  pkl.dump(Headliner_df, f)\n",
        "\n",
        "# Сохраняем Headliner_new_df в pkl\n",
        "with open(df_path + 'Headliner_new_df.pkl', 'wb') as f:\n",
        "  pkl.dump(Headliner_new_df, f)"
      ],
      "metadata": {
        "id": "Oeka6__rPasT"
      },
      "execution_count": null,
      "outputs": []
    },
    {
      "cell_type": "markdown",
      "source": [
        "### Primavera"
      ],
      "metadata": {
        "id": "lD3DA8WvVQzs"
      }
    },
    {
      "cell_type": "code",
      "source": [
        "# Загружаем Primavera_df из pkl\n",
        "with open(df_path + 'Primavera_df.pkl', 'rb') as f:\n",
        "  Primavera_df = pkl.load(f)\n",
        "\n",
        "# Загружаем Primavera_new_df из pkl\n",
        "with open(df_path + 'Primavera_new_df.pkl', 'rb') as f:\n",
        "  Primavera_new_df = pkl.load(f)"
      ],
      "metadata": {
        "id": "ZKxZkucMVQz-"
      },
      "execution_count": null,
      "outputs": []
    },
    {
      "cell_type": "code",
      "source": [
        "# Загружаем Primavera_transcriptions_df из pkl\n",
        "with open(df_path + 'Primavera_transcriptions_df.pkl', 'rb') as f:\n",
        "  Primavera_transcriptions_df = pkl.load(f)\n",
        "\n",
        "# Загружаем Primavera_new_transcriptions_df из pkl\n",
        "with open(df_path + 'Primavera_new_transcriptions_df.pkl', 'rb') as f:\n",
        "  Primavera_new_transcriptions_df = pkl.load(f)"
      ],
      "metadata": {
        "id": "3BlDyIfwVQz_"
      },
      "execution_count": null,
      "outputs": []
    },
    {
      "cell_type": "code",
      "source": [
        "print(Primavera_df.shape)\n",
        "print(Primavera_new_df.shape)"
      ],
      "metadata": {
        "colab": {
          "base_uri": "https://localhost:8080/"
        },
        "outputId": "422b333e-102a-4112-bd77-5db8ad7b9cc4",
        "id": "CHIfYBVFVQz_"
      },
      "execution_count": null,
      "outputs": [
        {
          "output_type": "stream",
          "name": "stdout",
          "text": [
            "(3972, 77)\n",
            "(1523, 77)\n"
          ]
        }
      ]
    },
    {
      "cell_type": "code",
      "source": [
        "# Добавляем столбец 'Текст whisper-транскрибации записи звонка' в Primavera_df\n",
        "Primavera_df = Primavera_df.merge(Primavera_transcriptions_df[['Идентификатор сессии звонка','Текст whisper-транскрибации записи звонка']], how='outer', on=['Идентификатор сессии звонка'])\n",
        "Primavera_df.shape"
      ],
      "metadata": {
        "colab": {
          "base_uri": "https://localhost:8080/"
        },
        "outputId": "114c9d94-623d-4522-b3b2-dc029ffe7131",
        "id": "R5u1sKc-VQ0A"
      },
      "execution_count": null,
      "outputs": [
        {
          "output_type": "execute_result",
          "data": {
            "text/plain": [
              "(3972, 78)"
            ]
          },
          "metadata": {},
          "execution_count": 20
        }
      ]
    },
    {
      "cell_type": "code",
      "source": [
        "Primavera_df['Текст whisper-транскрибации записи звонка'][~Primavera_df['Текст whisper-транскрибации записи звонка'].isnull()].head()"
      ],
      "metadata": {
        "colab": {
          "base_uri": "https://localhost:8080/"
        },
        "outputId": "bf3fdcc0-9185-4378-f785-17ac5092c971",
        "id": "h4bqCIh3VQ0B"
      },
      "execution_count": null,
      "outputs": [
        {
          "output_type": "execute_result",
          "data": {
            "text/plain": [
              "0                                                                                                                                                                                                                                                                                                                                                                                                                                                                                                                                                                                                                                                                                                                                                                                                                                       Надежда, доброе утро. Доброе утро. Расскажите, пожалуйста, Сергея Васильевича можно услышать? Простите, вы позвонили в единый контакт-центр. Ой, извините, что-то не... извините. Всё, доброе утро.\n",
              "1                                                                                                                                                                                                                                                                                                                                                                                                                                                                                                                                                                                                                                                                                                                                                                        Доброе утро! Клубный город на реке Примавера. Лидия, слушаю вас. Добрый день! На линии клиент Андрей. Интересуется приобретением трехкомнатной квартиры в жилом комплексе Примавера. Бюджет у клиента 37 миллионов. Советеляю? Да, спасибо. Продолжение следует...\n",
              "2    Добрый день, главный город на реке Примавера, Ольга, слушаю вас. Добрый день, на линии клиент Андрей, интересуется приобретением трехкомнатной квартиры в жилом комплексе Примавера. Бюджет до 37 миллионов, соединяю. Да, спасибо. Андрей, соединяю вас с собственной продажей, минуту, пожалуйста. Пожалуйста. Здравствуйте. Здравствуйте. Андрей, здравствуйте, меня зовут Кристина, главный город на реке Примавера, что вам подсказать? Кристина, здравствуйте, подскажите мне, пожалуйста, нужна трехкомнатная, в бюджете 39 миллионов, какую площадь можно подобрать? У вас 39 миллионов наличными, или вы с пользованием ипотеки такой бюджет рассматриваете? В банке лежит. Понятно. Андрей, смотрите, у нас есть интересное предложение, квартира в первой очереди, это очень красиво называется, всего два дома на 264 квартиры, прекрасные видовые характеристики на реку, так как у нас первая линия от реки. Квартира есть в 85 квадратных метров, можно посмотреть от второго этажа, первый этаж очень высокий, у на...\n",
              "3                                                                                                                                                                                                                                                                                                                                                                                                                                                                                                                                                                                                                               Добрый день, клубный город на рейте Примавера, Ольга слушает вас. Добрый день, на линии клиент, зовут Вероника, интересуется приобретение двухкомнатной квартиры в жилом комплексе Примавера. Смотрели вариант с ней за 24 700 по цене. Могу соединить? Да, спасибо, соедините. Перевожу. Добрый день, меня зовут Кристина, могу ли я вам перезвонить? Здравствуйте, Кристина, да, можете. Спасибо большое.\n",
              "4    Клубный город на реке Примавыра. Наталья, добрый день. Добрый день. Меня зовут Екатерина. Я хотела бы уточнить у вас о стоимости квартир. У вас указана акция какая-то весенняя. Вот я хотела бы подробно уточнить, что за акция. Екатерина, вы смотрите на сайте, правильное предложение? Да. Да, да. Да, оставайтесь, пожалуйста, на линии. Соединяю вас с менеджером. В качестве услуг разговор может быть записан. Обращаем ваше внимание, что в целях контроля качества услуг разговор может быть записан. Клубный город на реке Примавыра. Меня зовут Антон. Екатерина, добрый день. Чем я могу быть полезен? Добрый день. Подскажите, пожалуйста, меня интересует стоимость трехкомнатной квартиры. Хотелось бы первую линию строения. 1, по-моему, 1, 2. Это в Вивальди. Вот какая цена со скидкой может быть? Что-то уже присмотрели за себя? Какие-то интересные варианты? Ну да. По площади. Я смотрела. Площадь 92, по-моему, квадрата. Сейчас это посмотрю, открою. 92 квадратных метра. Это у нас корпус 13-4-1. Квар...\n",
              "Name: Текст whisper-транскрибации записи звонка, dtype: object"
            ]
          },
          "metadata": {},
          "execution_count": 21
        }
      ]
    },
    {
      "cell_type": "code",
      "source": [
        "Primavera_df['Текст whisper-транскрибации записи звонка'].count()"
      ],
      "metadata": {
        "colab": {
          "base_uri": "https://localhost:8080/"
        },
        "outputId": "536edc56-b9dc-4e4e-b0d4-af335afe31cb",
        "id": "SbHW6bpoVQ0B"
      },
      "execution_count": null,
      "outputs": [
        {
          "output_type": "execute_result",
          "data": {
            "text/plain": [
              "1983"
            ]
          },
          "metadata": {},
          "execution_count": 22
        }
      ]
    },
    {
      "cell_type": "code",
      "source": [
        "# Добавляем столбец 'Текст whisper-транскрибации записи звонка' в Primavera_new_df\n",
        "Primavera_new_df = Primavera_new_df.merge(Primavera_new_transcriptions_df[['Идентификатор сессии звонка','Текст whisper-транскрибации записи звонка']], how='outer', on=['Идентификатор сессии звонка'])\n",
        "Primavera_new_df.shape"
      ],
      "metadata": {
        "colab": {
          "base_uri": "https://localhost:8080/"
        },
        "outputId": "f275bb95-6b17-49d8-9928-d079f8796480",
        "id": "d7mSz6XpVQ0C"
      },
      "execution_count": null,
      "outputs": [
        {
          "output_type": "execute_result",
          "data": {
            "text/plain": [
              "(1523, 78)"
            ]
          },
          "metadata": {},
          "execution_count": 23
        }
      ]
    },
    {
      "cell_type": "code",
      "source": [
        "Primavera_new_df['Текст whisper-транскрибации записи звонка'][~Primavera_new_df['Текст whisper-транскрибации записи звонка'].isnull()].head()"
      ],
      "metadata": {
        "colab": {
          "base_uri": "https://localhost:8080/"
        },
        "outputId": "b52c38ea-6b2c-42c6-f71e-a0a0a968ef1a",
        "id": "bwU0aIOnVQ0C"
      },
      "execution_count": null,
      "outputs": [
        {
          "output_type": "execute_result",
          "data": {
            "text/plain": [
              "0    Клубный город на реке Примавера. Здравствуйте, Светлана. Да, здрасте. Есть квартиры? Да, да. Как обращаться к вам? Вячеслав. Вячеслав, вас менеджер проконсультирует минуту. Обращаем ваше внимание, что в целях контроля качества услуг разговор может быть записан. Обращаем ваше внимание. Примавера. Клубный город на реке. Меня Владимир зовут. Здравствуйте, Вячеслав. Всем могу быть полезен? Да, здрасте. Предъявление на вас, что квартиры до 20 миллионов, ну, как хотелось бы, до 15. Ну, либо однушка, либо двушка. Просите на двушку, наверное. Вячеслав, скажите, до 13 миллионов, вы сказали? Нет, до 17-ти. А, так. У нас просто двухкомнатные, где отдельная спальня и кухня. Они начинаются от 27 миллионов. Есть форматы Евро, двухкомнатные, где отдельная спальня и кухня-гостиная. Они начинаются от 19 миллионов 300 тысяч. Вам такие форматы подходят? Это самые дальние по сдаче, корпус. Да, совершенно верно. У нас сейчас в продаже две очереди, Россиния и Вивальди. Россия, ключи до декабря 2024 год...\n",
              "1                                           Кубный город на реке Примавера. Здравствуйте, Екатерина. Да, здравствуй, Екатерина. Скажите, пожалуйста, а где у вас офис находится? По поводу консультации приключена специалистка. Как вас представить можно? Михаил зовут. Соглени вас. Клубный город на реке Примавера. Меня зовут Екатерина. Михаил, здравствуйте. Чем могу быть вам? Правильно? Здравствуйте. А где у вас офис находится в Прадаже? Он находится по адресу Волоколамской шоссе, 71, корпус 1. Чуть в отдалении от объекта. Вы сейчас где-то недалеко? Да, мы где-то возле прям объекта. А, вам нужно пойти в другую сторону, либо там... В сторону Волоколамского шоссе. Да, абсолютно верно. Вы сейчас пешком или на автомобиле? Да, пешком. Я вам могу сбросить точку в Яндекс.Картах, в навигаторе, вы поймете где. И я вас буду застеливать. Есть номер живой, да? Можете сюда оставить. Сейчас, секунду, давайте я посмотрю определился ли. Так, 937, 799, да? Да, да. Все, сейчас отправлю вас. Все, спасибо, ждем.\n",
              "2                                                                                                                                                                                                                                                                                                                                                                                                                                                                                                                                                                                                                                                                                                                                                                                                                                                                     Кловный город на реке Примавера. Здравствуйте, Анастасия. Девушка, здравствуйте. А у вас есть такой врач? Сейчас скажу. А ваш врач, это жилой комплекс. Ой, извините.\n",
              "4                                                                                                                                                             Добрый день, оператор Яна, Кубный город на реке Примавера. Как я могу к вам обращаться? Какой у вас вопрос? Здравствуйте, меня зовут Майя, я брокер. Хотела узнать по поводу сотрудничества и по поводу рассрочки. Майя, я могу передать контакт специалисту и он вам перезвонит. Я же правильно понимаю, именно специалист это офис продажных, или это агентство на коэксе? Нет, это именно... Вас интересует комиссия, правильно я понимаю, Майя? Или что вас интересует? Вы брокер. Нет, меня интересует и комиссия в том числе и расстрочка какая-то здесь. Я могу передать контакт специалисту и он вам перезвонит. Хорошо, спасибо, Яна. Скажите, пожалуйста, номер телефона, с которым вы сейчас звоните? Да, да. И компания как у вас называется? У нас компания называется Savoir. Savoir? Да. Я передам информацию, ожидайте, пожалуйста, звонка. Спасибо. Спасибо.\n",
              "5    Клубный город на реке Примавера. Здравствуйте, Анастасия. Добрый день. Скажите, пожалуйста, у вас раньше можно было по субботам как-то там зайти в корпуса строящиеся, какой-то там период, посмотреть вид из квартир. Еще есть такая опция? Ну, давайте я вас соединю с менеджером. Как вам можно обращаться? Андрей. Минуту, Андрей. Обращаем ваше внимание, что в целях контроля качества услуг разговор может быть записан. Примавера. Клубный город на реке. Меня Владимир зовут. Здравствуйте, Андрей. Здравствуйте. Хотел бы уточнить, у вас раньше по субботам, по пятницу по субботам, в какое-то там определенное окошко можно было заходить в корпуса, смотреть вид, ну, там, из конкретных квартир. Это еще есть такая опция? Очень такая информация у вас удлиненная. Вы с кем-то ранее общались, да, уже? С кем-то общался в июне, наверное, или там, в начале июня. Я вам даже больше скажу, у нас теперь это ежедневно, ежедневно с 12.30 до 16.00 мы надеваем каски, жилеты, расписываем все по технике безопаснос...\n",
              "Name: Текст whisper-транскрибации записи звонка, dtype: object"
            ]
          },
          "metadata": {},
          "execution_count": 24
        }
      ]
    },
    {
      "cell_type": "code",
      "source": [
        "Primavera_new_df['Текст whisper-транскрибации записи звонка'].count()"
      ],
      "metadata": {
        "colab": {
          "base_uri": "https://localhost:8080/"
        },
        "outputId": "1e1aaf58-fe19-41e2-8460-38052f006338",
        "id": "YxfKfzCwVQ0D"
      },
      "execution_count": null,
      "outputs": [
        {
          "output_type": "execute_result",
          "data": {
            "text/plain": [
              "767"
            ]
          },
          "metadata": {},
          "execution_count": 25
        }
      ]
    },
    {
      "cell_type": "code",
      "source": [
        "print(Primavera_df.shape)\n",
        "print(Primavera_new_df.shape)"
      ],
      "metadata": {
        "colab": {
          "base_uri": "https://localhost:8080/"
        },
        "outputId": "0a53f190-d6d6-4b29-da82-e5cb0183ded0",
        "id": "rMbN3YevVQ0D"
      },
      "execution_count": null,
      "outputs": [
        {
          "output_type": "stream",
          "name": "stdout",
          "text": [
            "(3972, 78)\n",
            "(1523, 78)\n"
          ]
        }
      ]
    },
    {
      "cell_type": "code",
      "source": [
        "# Сохраняем Primavera_df в pkl\n",
        "with open(df_path + 'Primavera_df.pkl', 'wb') as f:\n",
        "  pkl.dump(Primavera_df, f)\n",
        "\n",
        "# Сохраняем Primavera_new_df в pkl\n",
        "with open(df_path + 'Primavera_new_df.pkl', 'wb') as f:\n",
        "  pkl.dump(Primavera_new_df, f)"
      ],
      "metadata": {
        "id": "mnssirhLVQ0E"
      },
      "execution_count": null,
      "outputs": []
    },
    {
      "cell_type": "markdown",
      "source": [
        "### Paveletskaya_city"
      ],
      "metadata": {
        "id": "KaDciCduYIoO"
      }
    },
    {
      "cell_type": "code",
      "source": [
        "# Загружаем Paveletskaya_df из pkl\n",
        "with open(df_path + 'Paveletskaya_df.pkl', 'rb') as f:\n",
        "  Paveletskaya_df = pkl.load(f)\n",
        "\n",
        "# Загружаем Paveletskaya_city_df из pkl\n",
        "with open(df_path + 'Paveletskaya_city_df.pkl', 'rb') as f:\n",
        "  Paveletskaya_city_df = pkl.load(f)\n",
        "\n",
        "# Загружаем Paveletskaya_city_new_df из pkl\n",
        "with open(df_path + 'Paveletskaya_city_new_df.pkl', 'rb') as f:\n",
        "  Paveletskaya_city_new_df = pkl.load(f)"
      ],
      "metadata": {
        "id": "Wr8jTKXtYIoh"
      },
      "execution_count": null,
      "outputs": []
    },
    {
      "cell_type": "code",
      "source": [
        "# Загружаем Paveletskaya_city_transcriptions_df из pkl\n",
        "with open(df_path + 'Paveletskaya_city_transcriptions_df.pkl', 'rb') as f:\n",
        "  Paveletskaya_city_transcriptions_df = pkl.load(f)\n",
        "\n",
        "# Загружаем Paveletskaya_city_new_transcriptions_df из pkl\n",
        "with open(df_path + 'Paveletskaya_city_new_transcriptions_df.pkl', 'rb') as f:\n",
        "  Paveletskaya_city_new_transcriptions_df = pkl.load(f)"
      ],
      "metadata": {
        "id": "bsUyqohmYIoh"
      },
      "execution_count": null,
      "outputs": []
    },
    {
      "cell_type": "code",
      "source": [
        "print(Paveletskaya_df.shape)\n",
        "print(Paveletskaya_city_df.shape)\n",
        "print(Paveletskaya_city_new_df.shape)"
      ],
      "metadata": {
        "colab": {
          "base_uri": "https://localhost:8080/"
        },
        "outputId": "33891808-5d5e-4da6-a7f9-4a0d59a164d1",
        "id": "JsHvWwT0YIoi"
      },
      "execution_count": null,
      "outputs": [
        {
          "output_type": "stream",
          "name": "stdout",
          "text": [
            "(1211, 77)\n",
            "(9327, 77)\n",
            "(1518, 77)\n"
          ]
        }
      ]
    },
    {
      "cell_type": "code",
      "source": [
        "# Добавляем столбец 'Текст whisper-транскрибации записи звонка' в Paveletskaya_df\n",
        "Paveletskaya_df = Paveletskaya_df.merge(Paveletskaya_city_transcriptions_df[['Идентификатор сессии звонка','Текст whisper-транскрибации записи звонка']], how='outer', on=['Идентификатор сессии звонка'])\n",
        "Paveletskaya_df.shape"
      ],
      "metadata": {
        "colab": {
          "base_uri": "https://localhost:8080/"
        },
        "id": "JDfHOMzpamL5",
        "outputId": "1daed1c8-2f67-4534-b148-9b224a9d6e46"
      },
      "execution_count": null,
      "outputs": [
        {
          "output_type": "execute_result",
          "data": {
            "text/plain": [
              "(2203, 78)"
            ]
          },
          "metadata": {},
          "execution_count": 31
        }
      ]
    },
    {
      "cell_type": "code",
      "source": [
        "Paveletskaya_df['Текст whisper-транскрибации записи звонка'][~Paveletskaya_df['Текст whisper-транскрибации записи звонка'].isnull()].head()"
      ],
      "metadata": {
        "colab": {
          "base_uri": "https://localhost:8080/"
        },
        "id": "opO9hegkaoyZ",
        "outputId": "8d5b1e77-ef22-4d58-abff-0b2d088fe756"
      },
      "execution_count": null,
      "outputs": [
        {
          "output_type": "execute_result",
          "data": {
            "text/plain": [
              "1199                                                                                                                                                                    Здравствуйте, вы позвонили в компанию Эмэргрупп. Пожалуйста, дождитесь ответа нашего специалиста. Обращаем ваше внимание, что в целях улучшения качества обслуживания клиентов все разговоры записываются. Продолжая разговор, вы соглашаетесь на обработку ваших персональных данных. Компания Эмэргрупп. Светлана, здравствуйте. Алло. Алло.\n",
              "1200                                                                                                                                                                                                                                                                                                                                                                                                                                                                                                     Здравствуйте.\n",
              "1201    Здравствуйте! Вы позвонили в компанию Эмэр Групп. Пожалуйста, дождитесь ответа нашего специалиста. Обращаем Ваше внимание, что в целях улучшения качества обслуживания клиентов все разговоры записываются. Продолжая разговор, Вы соглашаетесь на обработку Ваших персональных данных. Компания Эмэр Групп. Елена, здравствуйте! Елена, добрый день! А справку у Вас можно для прав? Для прав, взамен прав получить? Мы компания застройщиков. Странно. В рекламе Ваш телефон был. Ошибка какая-то. Извините.\n",
              "1202                                                                                                                                                                                                                            Здравствуйте! Вы позвонили в компанию ЭМР-Групп. Пожалуйста, дождитесь ответа нашего специалиста. Обращаем ваше внимание, что в целях улучшения качества обслуживания клиентов все разговоры записываются. Продолжая разговор, вы соглашаетесь на обработку ваших персональных данных.\n",
              "1204                                                                                                                                                                                                                                                                                                                                                                                                                                                                                                     Здравствуйте!\n",
              "Name: Текст whisper-транскрибации записи звонка, dtype: object"
            ]
          },
          "metadata": {},
          "execution_count": 32
        }
      ]
    },
    {
      "cell_type": "code",
      "source": [
        "Paveletskaya_df['Текст whisper-транскрибации записи звонка'].count()"
      ],
      "metadata": {
        "colab": {
          "base_uri": "https://localhost:8080/"
        },
        "id": "oCSBLRFbarPX",
        "outputId": "483eb84b-316d-42ce-b3ca-a08993e8c014"
      },
      "execution_count": null,
      "outputs": [
        {
          "output_type": "execute_result",
          "data": {
            "text/plain": [
              "1000"
            ]
          },
          "metadata": {},
          "execution_count": 33
        }
      ]
    },
    {
      "cell_type": "code",
      "source": [
        "# Оставляем исходное количество записей\n",
        "Paveletskaya_df = Paveletskaya_df[Paveletskaya_df['Дата и время'].notna()]"
      ],
      "metadata": {
        "id": "9lkNNUSCbwin"
      },
      "execution_count": null,
      "outputs": []
    },
    {
      "cell_type": "code",
      "source": [
        "Paveletskaya_df['Текст whisper-транскрибации записи звонка'].count()"
      ],
      "metadata": {
        "colab": {
          "base_uri": "https://localhost:8080/"
        },
        "id": "d_ebq6excsiW",
        "outputId": "d47f382c-3f43-4b49-e858-73e60a20a52a"
      },
      "execution_count": null,
      "outputs": [
        {
          "output_type": "execute_result",
          "data": {
            "text/plain": [
              "8"
            ]
          },
          "metadata": {},
          "execution_count": 38
        }
      ]
    },
    {
      "cell_type": "code",
      "source": [
        "# Добавляем столбец 'Текст whisper-транскрибации записи звонка' в Paveletskaya_city_df\n",
        "Paveletskaya_city_df = Paveletskaya_city_df.merge(Paveletskaya_city_transcriptions_df[['Идентификатор сессии звонка','Текст whisper-транскрибации записи звонка']], how='outer', on=['Идентификатор сессии звонка'])\n",
        "Paveletskaya_city_df.shape"
      ],
      "metadata": {
        "colab": {
          "base_uri": "https://localhost:8080/"
        },
        "outputId": "52e30c91-3fce-4338-9476-9642ff8eade0",
        "id": "-31ZbhXjYIoi"
      },
      "execution_count": null,
      "outputs": [
        {
          "output_type": "execute_result",
          "data": {
            "text/plain": [
              "(9335, 78)"
            ]
          },
          "metadata": {},
          "execution_count": 35
        }
      ]
    },
    {
      "cell_type": "code",
      "source": [
        "Paveletskaya_city_df['Текст whisper-транскрибации записи звонка'][~Paveletskaya_city_df['Текст whisper-транскрибации записи звонка'].isnull()].head()"
      ],
      "metadata": {
        "colab": {
          "base_uri": "https://localhost:8080/"
        },
        "outputId": "8f0b2b96-333c-4e51-adcc-afc04d3b0877",
        "id": "u3azle6JYIoj"
      },
      "execution_count": null,
      "outputs": [
        {
          "output_type": "execute_result",
          "data": {
            "text/plain": [
              "7871    Здравствуйте! Вы позвонили в компанию ЭМР-Групп. Пожалуйста, дождитесь ответа нашего специалиста. Обращаем ваше внимание, что в целях улучшения качества обслуживания клиентов все разговоры записываются. Продолжая разговор, вы соглашаетесь на обработку ваших персональных данных. Компания ЭМР-Групп, меня зовут Ольга, здравствуйте. Здравствуйте, Ольга, звонок от Румбери на линии Дмитрий, интересует Павелецкая сеть, 2-й квартал 23, встреча с тобой 3 евро, интересует около 60 квадратов, наличный расчет в бюджете около 30 плюс-минус. Да. Спасибо. Дмитрий? Да-да. Здравствуйте, мне сказали, что вас не стоит поискать Павелецкая сеть, это все верно? Да. Единственное, что я хотел сказать, знаете, что мы сможем с вами переговорить на эту тему, просто я буквально сейчас через несколько минут должен буду положить трубку. Если во вторник с утра, с первого дня, вы меня наберете по этому вопросу, можно будет так сделать? Так, во вторник, да? Да, и мне предварительно, если можно, скинуть локацию, н...\n",
              "7872    Здравствуйте! Вы позвонили в компанию Эмергрупп. Пожалуйста, дождитесь ответа нашего специалиста. Обращаем ваше внимание, что в целях улучшения качества обслуживания клиентов все разговоры записываются. Продолжая разговор, вы соглашаетесь на обработку ваших персональных данных. Компания Эмергрупп, меня зовут Ирина. Здравствуйте! Здравствуйте! Скажите, пожалуйста, я вот был в вашей компании или нет? Я рассматриваю в этой вот локации. Некоторые компании посещал, но что-то вот не знаю. Был я у вас или нет? А у нас-то где? Вот на Павелевской, вот там вот у вас какой-то комплекс. Это с отделом продаж нужно. Если я не ошибаюсь по голосу, Сергей Владимирович. А, да-да-да, с вами разговаривал, да? Мы с вами разговаривали, но я так и не смогла дозвониться до отдела продаж. Я попробую еще раз. Останьтесь, пожалуйста, на линии. По окончании разговора, пожалуйста, оцените качество обслуживания. Нам очень важно ваше мнение о качестве обслуживания, поэтому предлагаем вам ответить на несколько к...\n",
              "7876    Здравствуйте! Вы позвонили в компанию MR Group. Пожалуйста, дождитесь ответа нашего специалиста. Обращаем ваше внимание, что в целях улучшения качества обслуживания клиентов все разговоры записываются. Продолжая разговор, вы соглашаетесь на обработку ваших персональных данных. Компания MR Group, меня зовут Ирина. Здравствуйте! Алло, здравствуйте! А с кем бы вы общались по поводу повелевки сети? Вас интересует покупка жилой недвижимости? Да, интересует однокомнатная квартира. Хорошо, я соединю вас с менеджером объекта. Как можно обращаться к вам? Евгению. Благодарю вас. Спасибо. По окончании разговора, пожалуйста, оцените качество обслуживания. Евгения, здравствуйте! Меня зовут Марина, менеджер отдела продаж повелевской сети. Чем могу быть полезна для вас, Евгения? Да, здравствуйте! Меня вот интересует однокомнатная квартира, ну, с полноценной спальней отдельной и, соответственно, гостиная с кухней. Какие, в общем-то, варианты есть интересные? С большим удовольствием с вами общаюсь...\n",
              "7877    Здравствуйте! Вы позвонили в компанию Эмергрупп. Пожалуйста, дождитесь ответа нашего специалиста. Обращаем ваше внимание, что в целях улучшения качества обслуживания клиентов все разговоры записываются. Продолжая разговор, вы соглашаетесь на обработку ваших персональных данных. Компания Эмергрупп. Меня зовут Ольга. Здравствуйте. Добрый. Портал «Где этот дом?». Клиент Николай. ЖК «Павелецкая Сити». Смотрит двухкомнатные. Бюджет 30 миллионов. Возможно, больше. Алло. Добрый день. Николай, здравствуйте. Мне сказали, что у вас не присутствует проект «Павелецкая Сити». Все верно? Да. Хорошо. Я вас перейду на менеджера. Оставайтесь у нас на линии. По окончании разговора, пожалуйста, оцените качество обслуживания. Николай, добрый день. Меня зовут Дмитрий. Жилой комплекс «Павелецкая Сити». Чем могу быть полезен? Квартира квадратов порядка 60. 60 квадратных метров. О нашем комплексе уже что-то знаете, слышали? Пока нет. Пока не знаете. Локацию представляете нашу? Да, я знаю. Николай, кварти...\n",
              "7878    Здравствуйте! Вы позвонили в компанию MR Group. Пожалуйста, дождитесь ответа нашего специалиста. Обращаем ваше внимание, что в целях улучшения качества обслуживания клиентов все разговоры записываются. Продолжая разговор, вы соглашаетесь на обработку ваших персональных данных. Компания MR Group, меня зовут Ольга, здравствуйте. Здравствуйте. Здравствуйте. Вас интересует покупка квартиры ЖК Провилецкая, Сейси? Ну, скорее, что да, в Плеснице, в Сейси. Хорошо, тогда перейду вас на менеджера. Скажите, как вас зовут? Женя. По окончании разговора, пожалуйста, оцените качество обслуживания. Добрый день, я Дмитрий, Провилецкая Сити. Слушаю вас. Да, здравствуйте. Хотел бы узнать, евро трешки есть у вас в Сахаре? Евро трешки? Да. Да, квартира с двумя спальнями у нас представлена от 58 метров до 66. Угу. Что такое? Что еще раз? Вопрос следующий. Какие-то корпуса есть, данные, которые мы можем видеть, посмотреть, что здесь оказывается? У нас сейчас в первую очередь она введена в эксплуатацию, ...\n",
              "Name: Текст whisper-транскрибации записи звонка, dtype: object"
            ]
          },
          "metadata": {},
          "execution_count": 36
        }
      ]
    },
    {
      "cell_type": "code",
      "source": [
        "Paveletskaya_city_df['Текст whisper-транскрибации записи звонка'].count()"
      ],
      "metadata": {
        "colab": {
          "base_uri": "https://localhost:8080/"
        },
        "outputId": "3ebe078e-668c-43f0-f5da-11ed2fcf9625",
        "id": "VNOx3mhLYIoj"
      },
      "execution_count": null,
      "outputs": [
        {
          "output_type": "execute_result",
          "data": {
            "text/plain": [
              "1000"
            ]
          },
          "metadata": {},
          "execution_count": 37
        }
      ]
    },
    {
      "cell_type": "code",
      "source": [
        "# Оставляем исходное количество записей\n",
        "Paveletskaya_city_df = Paveletskaya_city_df[Paveletskaya_city_df['Дата и время'].notna()]"
      ],
      "metadata": {
        "id": "dSsDpjHSc4y1"
      },
      "execution_count": null,
      "outputs": []
    },
    {
      "cell_type": "code",
      "source": [
        "Paveletskaya_city_df['Текст whisper-транскрибации записи звонка'].count()"
      ],
      "metadata": {
        "colab": {
          "base_uri": "https://localhost:8080/"
        },
        "id": "xZibC8x_c8Bl",
        "outputId": "369a7a39-883e-4e70-d02b-6fdc3099035e"
      },
      "execution_count": null,
      "outputs": [
        {
          "output_type": "execute_result",
          "data": {
            "text/plain": [
              "992"
            ]
          },
          "metadata": {},
          "execution_count": 40
        }
      ]
    },
    {
      "cell_type": "code",
      "source": [
        "# Добавляем столбец 'Текст whisper-транскрибации записи звонка' в Paveletskaya_city_new_df\n",
        "Paveletskaya_city_new_df = Paveletskaya_city_new_df.merge(Paveletskaya_city_new_transcriptions_df[['Идентификатор сессии звонка','Текст whisper-транскрибации записи звонка']], how='outer', on=['Идентификатор сессии звонка'])\n",
        "Paveletskaya_city_new_df.shape"
      ],
      "metadata": {
        "colab": {
          "base_uri": "https://localhost:8080/"
        },
        "outputId": "f6cfb109-3159-4c89-aa6b-ff6680bc7e05",
        "id": "vBk-KjRqYIok"
      },
      "execution_count": null,
      "outputs": [
        {
          "output_type": "execute_result",
          "data": {
            "text/plain": [
              "(1518, 78)"
            ]
          },
          "metadata": {},
          "execution_count": 41
        }
      ]
    },
    {
      "cell_type": "code",
      "source": [
        "Paveletskaya_city_new_df['Текст whisper-транскрибации записи звонка'][~Paveletskaya_city_new_df['Текст whisper-транскрибации записи звонка'].isnull()].head()"
      ],
      "metadata": {
        "colab": {
          "base_uri": "https://localhost:8080/"
        },
        "outputId": "5b0a5991-660d-4072-90d6-b78eb74a06cf",
        "id": "AU9FHhS5YIok"
      },
      "execution_count": null,
      "outputs": [
        {
          "output_type": "execute_result",
          "data": {
            "text/plain": [
              "0                                                                                                                                                                                                                                                                                                                                                                                                                                                                                                                                                                                                                                                                                                                                                                                                                                                                                                                                                                                                                 Субтитры делал DimaTorzok\n",
              "1    Здравствуйте! Вы позвонили в компанию Эмаргрупп. Пожалуйста, дождитесь ответа нашего специалиста. Обращаем ваше внимание, что в целях улучшения качества отслуживания клиентов все разговоры записываются. Продолжая разговор, вы соглашаетесь на обработку ваших персональных данных. Компания Эмаргрупп. Светлана, здравствуйте. Здравствуйте! Звонок в портал лотереалов. Клиент на линии интересуется студиями. Имя Виктор, ЖК Павелецкая Сити. Да, переключайте. Виктор, здравствуйте. Меня зовут Светлана, компания Эмаргрупп. Вы подбираете жилую недвижимость и рассматриваете наш жилой комплекс в Павелецкой Сити. Все верно? Город Москва. Да, да, конечно. Виктор, я вас переключу на офис продажи. Оставайтесь на линии. По окончании разговора, пожалуйста, оцените качество отслуживания. Спасибо. Виктор, добрый день. Я жилая комплекс Павелецкой Сити. А вы, как всегда, охотничьи студии. Все верно? Здравствуйте. Вас так плохо слышно. Прививайтесь. К сожалению, у нас электронная телефония. Скажите, так лу...\n",
              "2                                                                                                                                                                                                                                                                                                                                                                                                                                                                                                                                                                                                                                                                                                                                                                                                                                                                                                                                                                                                                     Здравствуйте! Вы тут?\n",
              "3                                                                                                                                                                                                                                                                                                                                                                                                                                                                                                                                                                                                                                                                                                                                                                                                                                                                                                       Здравствуйте, вы позвонили в компанию Эммер Групп. Пожалуйста дождитесь ответа нашего специалиста. Обращаем ваше внимание, что в...\n",
              "4    Здравствуйте! Вы позвонили в компанию MR Group. Пожалуйста, дождитесь ответа нашего специалиста. Обращаем ваше внимание, что в целях улучшения качества обслуживания клиентов все разговоры записываются. Продолжая разговор, вы соглашаетесь на обработку ваших персональных данных. Компания MR Group. Татьяна, здравствуйте! Здравствуйте, Татьяна! Подскажите, пожалуйста, Павелевская сеть есть готова к корпусу? Есть. Покупка жилой недвижимости на этом объекте. Да. Двухкомнатная квартира. Переключу вас на мандарин для консультации. Как могу предоставить вам помощь? Ольга. Ольга, переключаю. Спасибо. По окончании разговора, пожалуйста, оцените качество обслуживания. Ольга, добрый день. Меня зовут Дмитрий. Добрый день. Я из Павелевской сети. Чем могу быть вам полезен? Подскажите, у вас готовые корпуса есть с ремонтом? Или у вас ремонта в квартирах нет? Только представайте. У нас есть. У нас есть. Подскажите, у вас готовые корпуса есть с ремонтом? Или у вас ремонта в квартирах нет? Только пре...\n",
              "Name: Текст whisper-транскрибации записи звонка, dtype: object"
            ]
          },
          "metadata": {},
          "execution_count": 42
        }
      ]
    },
    {
      "cell_type": "code",
      "source": [
        "Paveletskaya_city_new_df['Текст whisper-транскрибации записи звонка'].count()"
      ],
      "metadata": {
        "colab": {
          "base_uri": "https://localhost:8080/"
        },
        "outputId": "2bc95fde-754d-4312-9508-ffbb30d3e334",
        "id": "8nFrd4DOYIol"
      },
      "execution_count": null,
      "outputs": [
        {
          "output_type": "execute_result",
          "data": {
            "text/plain": [
              "1413"
            ]
          },
          "metadata": {},
          "execution_count": 43
        }
      ]
    },
    {
      "cell_type": "code",
      "source": [
        "print(Paveletskaya_df.shape)\n",
        "print(Paveletskaya_city_df.shape)\n",
        "print(Paveletskaya_city_new_df.shape)"
      ],
      "metadata": {
        "colab": {
          "base_uri": "https://localhost:8080/"
        },
        "outputId": "29236b27-6d42-46da-f55c-d149b32d751b",
        "id": "nnL9ZWhUYIol"
      },
      "execution_count": null,
      "outputs": [
        {
          "output_type": "stream",
          "name": "stdout",
          "text": [
            "(1211, 78)\n",
            "(9327, 78)\n",
            "(1518, 78)\n"
          ]
        }
      ]
    },
    {
      "cell_type": "code",
      "source": [
        "# Сохраняем Paveletskaya_df в pkl\n",
        "with open(df_path + 'Paveletskaya_df.pkl', 'wb') as f:\n",
        "  pkl.dump(Paveletskaya_df, f)\n",
        "\n",
        "# Сохраняем Paveletskaya_city_df в pkl\n",
        "with open(df_path + 'Paveletskaya_city_df.pkl', 'wb') as f:\n",
        "  pkl.dump(Paveletskaya_city_df, f)\n",
        "\n",
        "# Сохраняем Paveletskaya_city_new_df в pkl\n",
        "with open(df_path + 'Paveletskaya_city_new_df.pkl', 'wb') as f:\n",
        "  pkl.dump(Paveletskaya_city_new_df, f)"
      ],
      "metadata": {
        "id": "jcYYBF-AYIom"
      },
      "execution_count": null,
      "outputs": []
    },
    {
      "cell_type": "markdown",
      "source": [
        "### Соединение датафреймов проекта `Headliner`"
      ],
      "metadata": {
        "id": "DAdgi6ovH-xZ"
      }
    },
    {
      "cell_type": "code",
      "source": [
        "print(Headliner_df.shape)\n",
        "print(Headliner_new_df.shape)"
      ],
      "metadata": {
        "colab": {
          "base_uri": "https://localhost:8080/"
        },
        "id": "owqOaUuTILHh",
        "outputId": "6db735bd-acdf-4cf0-a16a-6b0a6ee74964"
      },
      "execution_count": null,
      "outputs": [
        {
          "output_type": "stream",
          "name": "stdout",
          "text": [
            "(4759, 78)\n",
            "(1542, 78)\n"
          ]
        }
      ]
    },
    {
      "cell_type": "code",
      "source": [
        "# Соединяем датафреймы\n",
        "Headliner_all_df = pd.concat([Headliner_df, Headliner_new_df])\n",
        "Headliner_all_df.index = range(Headliner_all_df.shape[0])\n",
        "Headliner_all_df.shape"
      ],
      "metadata": {
        "colab": {
          "base_uri": "https://localhost:8080/"
        },
        "id": "_5PD36opIRPC",
        "outputId": "5971f291-a628-4dd6-c664-5f4c84e225e2"
      },
      "execution_count": null,
      "outputs": [
        {
          "output_type": "execute_result",
          "data": {
            "text/plain": [
              "(6301, 78)"
            ]
          },
          "metadata": {},
          "execution_count": 47
        }
      ]
    },
    {
      "cell_type": "code",
      "source": [
        "# Сохраняем Headliner_all_df в pkl\n",
        "with open(df_path + 'Headliner_all_df.pkl', 'wb') as f:\n",
        "  pkl.dump(Headliner_all_df, f)"
      ],
      "metadata": {
        "id": "Cz3GaxVvJCDY"
      },
      "execution_count": null,
      "outputs": []
    },
    {
      "cell_type": "code",
      "source": [
        "# Рабочий датафрейм\n",
        "Headliner_work_df = Headliner_all_df[Headliner_all_df['Файл записи звонка'].notna()]\n",
        "Headliner_work_df = Headliner_work_df[Headliner_work_df['Класс'] != 'Неопределено']\n",
        "Headliner_work_df.index = range(Headliner_work_df.shape[0])\n",
        "Headliner_work_df.shape"
      ],
      "metadata": {
        "colab": {
          "base_uri": "https://localhost:8080/"
        },
        "id": "Cxa_1AIzMdth",
        "outputId": "6bf9bfab-f5af-4f2f-9409-99f556c99649"
      },
      "execution_count": null,
      "outputs": [
        {
          "output_type": "execute_result",
          "data": {
            "text/plain": [
              "(3264, 78)"
            ]
          },
          "metadata": {},
          "execution_count": 49
        }
      ]
    },
    {
      "cell_type": "code",
      "source": [
        "# Сохраняем Headliner_work_df в pkl\n",
        "with open(df_path + 'Headliner_work_df.pkl', 'wb') as f:\n",
        "  pkl.dump(Headliner_work_df, f)"
      ],
      "metadata": {
        "id": "50qKN0lvOuVa"
      },
      "execution_count": null,
      "outputs": []
    },
    {
      "cell_type": "code",
      "source": [
        "# Целевые звонки\n",
        "Headliner_targets_df = Headliner_work_df[Headliner_work_df['Класс'] == 'Целевой']\n",
        "Headliner_targets_df.index = range(Headliner_targets_df.shape[0])\n",
        "Headliner_targets_df.shape"
      ],
      "metadata": {
        "colab": {
          "base_uri": "https://localhost:8080/"
        },
        "id": "HjunREAJUjb6",
        "outputId": "d3b3de87-a2d0-4c8d-e620-8874a215e8b8"
      },
      "execution_count": null,
      "outputs": [
        {
          "output_type": "execute_result",
          "data": {
            "text/plain": [
              "(549, 78)"
            ]
          },
          "metadata": {},
          "execution_count": 51
        }
      ]
    },
    {
      "cell_type": "code",
      "source": [
        "# Сохраняем Headliner_targets_df в pkl\n",
        "with open(df_path + 'Headliner_targets_df.pkl', 'wb') as f:\n",
        "  pkl.dump(Headliner_targets_df, f)"
      ],
      "metadata": {
        "id": "K9jaXjt-VgBX"
      },
      "execution_count": null,
      "outputs": []
    },
    {
      "cell_type": "code",
      "source": [
        "# Нецелевые звонки\n",
        "Headliner_not_targets_df = Headliner_work_df[Headliner_work_df['Класс'] == 'Нецелевой']\n",
        "Headliner_not_targets_df.index = range(Headliner_not_targets_df.shape[0])\n",
        "Headliner_not_targets_df.shape"
      ],
      "metadata": {
        "colab": {
          "base_uri": "https://localhost:8080/"
        },
        "id": "XYIaZmcDWdN7",
        "outputId": "99bd28e3-9968-4a91-d84b-4d91153e044f"
      },
      "execution_count": null,
      "outputs": [
        {
          "output_type": "execute_result",
          "data": {
            "text/plain": [
              "(1082, 78)"
            ]
          },
          "metadata": {},
          "execution_count": 53
        }
      ]
    },
    {
      "cell_type": "code",
      "source": [
        "# Сохраняем Headliner_not_targets_df в pkl\n",
        "with open(df_path + 'Headliner_not_targets_df.pkl', 'wb') as f:\n",
        "  pkl.dump(Headliner_not_targets_df, f)"
      ],
      "metadata": {
        "id": "vVeD3SbxX1AX"
      },
      "execution_count": null,
      "outputs": []
    },
    {
      "cell_type": "code",
      "source": [
        "# Спорные звонки\n",
        "Headliner_moot_df = Headliner_work_df[Headliner_work_df['Класс'] == 'Спорный']\n",
        "Headliner_moot_df.index = range(Headliner_moot_df.shape[0])\n",
        "Headliner_moot_df.shape"
      ],
      "metadata": {
        "colab": {
          "base_uri": "https://localhost:8080/"
        },
        "id": "vs2AwXhlauGn",
        "outputId": "cfde4271-af59-465b-b6e2-cfc89db6ce62"
      },
      "execution_count": null,
      "outputs": [
        {
          "output_type": "execute_result",
          "data": {
            "text/plain": [
              "(1633, 78)"
            ]
          },
          "metadata": {},
          "execution_count": 55
        }
      ]
    },
    {
      "cell_type": "code",
      "source": [
        "# Сохраняем Headliner_moot_df в pkl\n",
        "with open(df_path + 'Headliner_moot_df.pkl', 'wb') as f:\n",
        "  pkl.dump(Headliner_moot_df, f)"
      ],
      "metadata": {
        "id": "8xCnIkkEbArl"
      },
      "execution_count": null,
      "outputs": []
    },
    {
      "cell_type": "markdown",
      "source": [
        "### Соединение датафреймов проекта `Primavera`"
      ],
      "metadata": {
        "id": "kAJBS9kNJ8DG"
      }
    },
    {
      "cell_type": "code",
      "source": [
        "print(Primavera_df.shape)\n",
        "print(Primavera_new_df.shape)"
      ],
      "metadata": {
        "colab": {
          "base_uri": "https://localhost:8080/"
        },
        "outputId": "ff92ce0d-81b6-446c-e454-f82813e5cd3f",
        "id": "bJ3vE3f2J8DV"
      },
      "execution_count": null,
      "outputs": [
        {
          "output_type": "stream",
          "name": "stdout",
          "text": [
            "(3972, 78)\n",
            "(1523, 78)\n"
          ]
        }
      ]
    },
    {
      "cell_type": "code",
      "source": [
        "# Соединяем датафреймы\n",
        "Primavera_all_df = pd.concat([Primavera_df, Primavera_new_df])\n",
        "Primavera_all_df.index = range(Primavera_all_df.shape[0])\n",
        "Primavera_all_df.shape"
      ],
      "metadata": {
        "colab": {
          "base_uri": "https://localhost:8080/"
        },
        "outputId": "43334acf-dbd5-4ed8-c331-27663263d5e8",
        "id": "1fjaZEp-J8DV"
      },
      "execution_count": null,
      "outputs": [
        {
          "output_type": "execute_result",
          "data": {
            "text/plain": [
              "(5495, 78)"
            ]
          },
          "metadata": {},
          "execution_count": 58
        }
      ]
    },
    {
      "cell_type": "code",
      "source": [
        "# Сохраняем Primavera_all_df в pkl\n",
        "with open(df_path + 'Primavera_all_df.pkl', 'wb') as f:\n",
        "  pkl.dump(Primavera_all_df, f)"
      ],
      "metadata": {
        "id": "gNfHp77mJ8DV"
      },
      "execution_count": null,
      "outputs": []
    },
    {
      "cell_type": "code",
      "source": [
        "# Рабочий датафрейм\n",
        "Primavera_work_df = Primavera_all_df[Primavera_all_df['Файл записи звонка'].notna()]\n",
        "Primavera_work_df = Primavera_work_df[Primavera_work_df['Класс'] != 'Неопределено']\n",
        "Primavera_work_df.index = range(Primavera_work_df.shape[0])\n",
        "Primavera_work_df.shape"
      ],
      "metadata": {
        "colab": {
          "base_uri": "https://localhost:8080/"
        },
        "id": "ZvVSdY2OPhQ1",
        "outputId": "9f58ed08-21c4-438e-cd21-1d64b03d41be"
      },
      "execution_count": null,
      "outputs": [
        {
          "output_type": "execute_result",
          "data": {
            "text/plain": [
              "(2272, 78)"
            ]
          },
          "metadata": {},
          "execution_count": 60
        }
      ]
    },
    {
      "cell_type": "code",
      "source": [
        "# Сохраняем Primavera_work_df в pkl\n",
        "with open(df_path + 'Primavera_work_df.pkl', 'wb') as f:\n",
        "  pkl.dump(Primavera_work_df, f)"
      ],
      "metadata": {
        "id": "MKooGPcVPwXt"
      },
      "execution_count": null,
      "outputs": []
    },
    {
      "cell_type": "code",
      "source": [
        "# Целевые звонки\n",
        "Primavera_targets_df = Primavera_work_df[Primavera_work_df['Класс'] == 'Целевой']\n",
        "Primavera_targets_df.index = range(Primavera_targets_df.shape[0])\n",
        "Primavera_targets_df.shape"
      ],
      "metadata": {
        "colab": {
          "base_uri": "https://localhost:8080/"
        },
        "id": "AtBacvyoca9j",
        "outputId": "473099fb-268a-4455-97c8-3a91856f5c20"
      },
      "execution_count": null,
      "outputs": [
        {
          "output_type": "execute_result",
          "data": {
            "text/plain": [
              "(969, 78)"
            ]
          },
          "metadata": {},
          "execution_count": 62
        }
      ]
    },
    {
      "cell_type": "code",
      "source": [
        "# Сохраняем Primavera_targets_df в pkl\n",
        "with open(df_path + 'Primavera_targets_df.pkl', 'wb') as f:\n",
        "  pkl.dump(Primavera_targets_df, f)"
      ],
      "metadata": {
        "id": "EUvAS-1pcfvd"
      },
      "execution_count": null,
      "outputs": []
    },
    {
      "cell_type": "code",
      "source": [
        "# Нецелевые звонки\n",
        "Primavera_not_targets_df = Primavera_work_df[Primavera_work_df['Класс'] == 'Нецелевой']\n",
        "Primavera_not_targets_df.index = range(Primavera_not_targets_df.shape[0])\n",
        "Primavera_not_targets_df.shape"
      ],
      "metadata": {
        "colab": {
          "base_uri": "https://localhost:8080/"
        },
        "id": "NaA0z1TJchC9",
        "outputId": "1fe7269b-c95e-4656-f639-4054d5bab3de"
      },
      "execution_count": null,
      "outputs": [
        {
          "output_type": "execute_result",
          "data": {
            "text/plain": [
              "(1303, 78)"
            ]
          },
          "metadata": {},
          "execution_count": 64
        }
      ]
    },
    {
      "cell_type": "code",
      "source": [
        "# Сохраняем Primavera_not_targets_df в pkl\n",
        "with open(df_path + 'Primavera_not_targets_df.pkl', 'wb') as f:\n",
        "  pkl.dump(Primavera_not_targets_df, f)"
      ],
      "metadata": {
        "id": "31XkMZamcq7H"
      },
      "execution_count": null,
      "outputs": []
    },
    {
      "cell_type": "markdown",
      "source": [
        "### Соединение датафреймов проекта `Paveletskaya_city`"
      ],
      "metadata": {
        "id": "7vkaRh0JK6Jg"
      }
    },
    {
      "cell_type": "code",
      "source": [
        "print(Paveletskaya_df.shape)\n",
        "print(Paveletskaya_city_df.shape)\n",
        "print(Paveletskaya_city_new_df.shape)"
      ],
      "metadata": {
        "colab": {
          "base_uri": "https://localhost:8080/"
        },
        "outputId": "a32523ae-c346-4e88-b610-6522922830c2",
        "id": "27vTzbo5K6Jw"
      },
      "execution_count": null,
      "outputs": [
        {
          "output_type": "stream",
          "name": "stdout",
          "text": [
            "(1211, 78)\n",
            "(9327, 78)\n",
            "(1518, 78)\n"
          ]
        }
      ]
    },
    {
      "cell_type": "code",
      "source": [
        "# Соединяем датафреймы\n",
        "Paveletskaya_city_all_df = pd.concat([Paveletskaya_df, Paveletskaya_city_df, Paveletskaya_city_new_df])\n",
        "Paveletskaya_city_all_df.index = range(Paveletskaya_city_all_df.shape[0])\n",
        "Paveletskaya_city_all_df.shape"
      ],
      "metadata": {
        "colab": {
          "base_uri": "https://localhost:8080/"
        },
        "outputId": "26f27968-24e6-4b63-b50a-aef376115d61",
        "id": "lIP9w09yK6Jx"
      },
      "execution_count": null,
      "outputs": [
        {
          "output_type": "execute_result",
          "data": {
            "text/plain": [
              "(12056, 78)"
            ]
          },
          "metadata": {},
          "execution_count": 67
        }
      ]
    },
    {
      "cell_type": "code",
      "source": [
        "# Сохраняем Paveletskaya_city_all_df в pkl\n",
        "with open(df_path + 'Paveletskaya_city_all_df.pkl', 'wb') as f:\n",
        "  pkl.dump(Paveletskaya_city_all_df, f)"
      ],
      "metadata": {
        "id": "ytos1Ij6K6Jy"
      },
      "execution_count": null,
      "outputs": []
    },
    {
      "cell_type": "code",
      "source": [
        "# Рабочий датафрейм\n",
        "Paveletskaya_city_work_df = Paveletskaya_city_all_df[Paveletskaya_city_all_df['Файл записи звонка'].notna()]\n",
        "Paveletskaya_city_work_df = Paveletskaya_city_work_df[Paveletskaya_city_work_df['Класс'] != 'Неопределено']\n",
        "Paveletskaya_city_work_df.index = range(Paveletskaya_city_work_df.shape[0])\n",
        "Paveletskaya_city_work_df.shape"
      ],
      "metadata": {
        "colab": {
          "base_uri": "https://localhost:8080/"
        },
        "id": "NKlskJw_TUu9",
        "outputId": "d8fa3fed-c962-4cb7-960b-aeaa7cd07177"
      },
      "execution_count": null,
      "outputs": [
        {
          "output_type": "execute_result",
          "data": {
            "text/plain": [
              "(1388, 78)"
            ]
          },
          "metadata": {},
          "execution_count": 69
        }
      ]
    },
    {
      "cell_type": "code",
      "source": [
        "# Сохраняем Paveletskaya_city_work_df в pkl\n",
        "with open(df_path + 'Paveletskaya_city_work_df.pkl', 'wb') as f:\n",
        "  pkl.dump(Paveletskaya_city_work_df, f)"
      ],
      "metadata": {
        "id": "hv-N6ppGTaRy"
      },
      "execution_count": null,
      "outputs": []
    },
    {
      "cell_type": "code",
      "source": [
        "# Целевые звонки\n",
        "Paveletskaya_city_targets_df = Paveletskaya_city_work_df[Paveletskaya_city_work_df['Класс'] == 'Целевой']\n",
        "Paveletskaya_city_targets_df.index = range(Paveletskaya_city_targets_df.shape[0])\n",
        "Paveletskaya_city_targets_df.shape"
      ],
      "metadata": {
        "colab": {
          "base_uri": "https://localhost:8080/"
        },
        "id": "hql2vBQ1e7Hz",
        "outputId": "c80d10c4-8b0d-413f-a8c4-bff3ed80a0e4"
      },
      "execution_count": null,
      "outputs": [
        {
          "output_type": "execute_result",
          "data": {
            "text/plain": [
              "(786, 78)"
            ]
          },
          "metadata": {},
          "execution_count": 71
        }
      ]
    },
    {
      "cell_type": "code",
      "source": [
        "# Сохраняем Paveletskaya_city_targets_df в pkl\n",
        "with open(df_path + 'Paveletskaya_city_targets_df.pkl', 'wb') as f:\n",
        "  pkl.dump(Paveletskaya_city_targets_df, f)"
      ],
      "metadata": {
        "id": "tOBwEMD9e_na"
      },
      "execution_count": null,
      "outputs": []
    },
    {
      "cell_type": "code",
      "source": [
        "# Нецелевые звонки\n",
        "Paveletskaya_city_not_targets_df = Paveletskaya_city_work_df[Paveletskaya_city_work_df['Класс'] == 'Нецелевой']\n",
        "Paveletskaya_city_not_targets_df.index = range(Paveletskaya_city_not_targets_df.shape[0])\n",
        "Paveletskaya_city_not_targets_df.shape"
      ],
      "metadata": {
        "colab": {
          "base_uri": "https://localhost:8080/"
        },
        "id": "iTynehtCfEuK",
        "outputId": "493d97a6-4b61-4704-ab80-f4431c9c2ad3"
      },
      "execution_count": null,
      "outputs": [
        {
          "output_type": "execute_result",
          "data": {
            "text/plain": [
              "(602, 78)"
            ]
          },
          "metadata": {},
          "execution_count": 73
        }
      ]
    },
    {
      "cell_type": "code",
      "source": [
        "# Сохраняем Paveletskaya_city_not_targets_df в pkl\n",
        "with open(df_path + 'Paveletskaya_city_not_targets_df.pkl', 'wb') as f:\n",
        "  pkl.dump(Paveletskaya_city_not_targets_df, f)"
      ],
      "metadata": {
        "id": "hWj0bZoMfKaG"
      },
      "execution_count": null,
      "outputs": []
    },
    {
      "cell_type": "markdown",
      "source": [
        "### Сводные датафреймы"
      ],
      "metadata": {
        "id": "vLyOjCBskrXQ"
      }
    },
    {
      "cell_type": "markdown",
      "source": [
        "#### `total_df`"
      ],
      "metadata": {
        "id": "GLvQ_2VHld63"
      }
    },
    {
      "cell_type": "code",
      "source": [
        "# Соединяем датафреймы\n",
        "total_df = pd.concat([Headliner_all_df, Primavera_all_df, Paveletskaya_city_all_df])\n",
        "total_df.index = range(total_df.shape[0])\n",
        "total_df.shape"
      ],
      "metadata": {
        "colab": {
          "base_uri": "https://localhost:8080/"
        },
        "id": "WWEf_LJ4kt7b",
        "outputId": "7f54a681-7cb0-4c95-f2dc-b86602278b46"
      },
      "execution_count": null,
      "outputs": [
        {
          "output_type": "execute_result",
          "data": {
            "text/plain": [
              "(23852, 78)"
            ]
          },
          "metadata": {},
          "execution_count": 75
        }
      ]
    },
    {
      "cell_type": "code",
      "source": [
        "# Сохраняем total_df в pkl\n",
        "with open(df_path + 'total_df.pkl', 'wb') as f:\n",
        "  pkl.dump(total_df, f)"
      ],
      "metadata": {
        "id": "tQRR-zqlmSJO"
      },
      "execution_count": null,
      "outputs": []
    },
    {
      "cell_type": "markdown",
      "source": [
        "#### `total_work_df`"
      ],
      "metadata": {
        "id": "qSi1QuOhmhSO"
      }
    },
    {
      "cell_type": "code",
      "source": [
        "# Соединяем датафреймы\n",
        "total_work_df = pd.concat([Headliner_work_df, Primavera_work_df, Paveletskaya_city_work_df])\n",
        "total_work_df.index = range(total_work_df.shape[0])\n",
        "total_work_df.shape"
      ],
      "metadata": {
        "colab": {
          "base_uri": "https://localhost:8080/"
        },
        "id": "cc5fatnymhSe",
        "outputId": "10451e25-2151-43f8-e64f-386f44b9a49a"
      },
      "execution_count": null,
      "outputs": [
        {
          "output_type": "execute_result",
          "data": {
            "text/plain": [
              "(6924, 78)"
            ]
          },
          "metadata": {},
          "execution_count": 77
        }
      ]
    },
    {
      "cell_type": "code",
      "source": [
        "# Сохраняем total_work_df в pkl\n",
        "with open(df_path + 'total_work_df.pkl', 'wb') as f:\n",
        "  pkl.dump(total_work_df, f)"
      ],
      "metadata": {
        "id": "ED1ThZTumhSe"
      },
      "execution_count": null,
      "outputs": []
    }
  ]
}