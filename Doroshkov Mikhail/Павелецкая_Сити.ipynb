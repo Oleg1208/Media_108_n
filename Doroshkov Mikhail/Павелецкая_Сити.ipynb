{
  "nbformat": 4,
  "nbformat_minor": 0,
  "metadata": {
    "colab": {
      "provenance": []
    },
    "kernelspec": {
      "name": "python3",
      "display_name": "Python 3"
    },
    "language_info": {
      "name": "python"
    }
  },
  "cells": [
    {
      "cell_type": "code",
      "source": [
        "from gdown.download_folder import download\n",
        "import pandas as pd\n",
        "import gdown\n",
        "gdown. download('https://drive.google.com/drive/folders/1cQWMpQkscZJbbOTxiJNy0o3nuaeIiB1P')"
      ],
      "metadata": {
        "colab": {
          "base_uri": "https://localhost:8080/",
          "height": 105
        },
        "id": "4fJizw9Xpyzr",
        "outputId": "baf6d7dd-fa1f-44f9-d1d2-b8c775ba5989"
      },
      "execution_count": 2,
      "outputs": [
        {
          "output_type": "stream",
          "name": "stderr",
          "text": [
            "Downloading...\n",
            "From: https://drive.google.com/drive/folders/1cQWMpQkscZJbbOTxiJNy0o3nuaeIiB1P\n",
            "To: /content/1cQWMpQkscZJbbOTxiJNy0o3nuaeIiB1P\n",
            "276kB [00:00, 1.24MB/s]\n"
          ]
        },
        {
          "output_type": "execute_result",
          "data": {
            "text/plain": [
              "'1cQWMpQkscZJbbOTxiJNy0o3nuaeIiB1P'"
            ],
            "application/vnd.google.colaboratory.intrinsic+json": {
              "type": "string"
            }
          },
          "metadata": {},
          "execution_count": 2
        }
      ]
    }
  ]
}