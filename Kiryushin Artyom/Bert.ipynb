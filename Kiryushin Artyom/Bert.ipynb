{
  "nbformat": 4,
  "nbformat_minor": 0,
  "metadata": {
    "colab": {
      "provenance": [],
      "gpuType": "T4"
    },
    "kernelspec": {
      "name": "python3",
      "display_name": "Python 3"
    },
    "language_info": {
      "name": "python"
    },
    "accelerator": "GPU",
    "widgets": {
      "application/vnd.jupyter.widget-state+json": {
        "651b4283f5694948954626c07ac4cef9": {
          "model_module": "@jupyter-widgets/controls",
          "model_name": "HBoxModel",
          "model_module_version": "1.5.0",
          "state": {
            "_dom_classes": [],
            "_model_module": "@jupyter-widgets/controls",
            "_model_module_version": "1.5.0",
            "_model_name": "HBoxModel",
            "_view_count": null,
            "_view_module": "@jupyter-widgets/controls",
            "_view_module_version": "1.5.0",
            "_view_name": "HBoxView",
            "box_style": "",
            "children": [
              "IPY_MODEL_aed46a156fa241298a478f1c8866b286",
              "IPY_MODEL_d42bcf4b1f794744983ec3e605c4fa27",
              "IPY_MODEL_ca4fab9344964515b5f0d83e5d05701a"
            ],
            "layout": "IPY_MODEL_3f021830c03b4efda4842da891f8a2ad"
          }
        },
        "aed46a156fa241298a478f1c8866b286": {
          "model_module": "@jupyter-widgets/controls",
          "model_name": "HTMLModel",
          "model_module_version": "1.5.0",
          "state": {
            "_dom_classes": [],
            "_model_module": "@jupyter-widgets/controls",
            "_model_module_version": "1.5.0",
            "_model_name": "HTMLModel",
            "_view_count": null,
            "_view_module": "@jupyter-widgets/controls",
            "_view_module_version": "1.5.0",
            "_view_name": "HTMLView",
            "description": "",
            "description_tooltip": null,
            "layout": "IPY_MODEL_76f25bf45b564ef18df5b5f5e5a223d7",
            "placeholder": "​",
            "style": "IPY_MODEL_15b07408468741ca96558a392f0a9a86",
            "value": "config.json: 100%"
          }
        },
        "d42bcf4b1f794744983ec3e605c4fa27": {
          "model_module": "@jupyter-widgets/controls",
          "model_name": "FloatProgressModel",
          "model_module_version": "1.5.0",
          "state": {
            "_dom_classes": [],
            "_model_module": "@jupyter-widgets/controls",
            "_model_module_version": "1.5.0",
            "_model_name": "FloatProgressModel",
            "_view_count": null,
            "_view_module": "@jupyter-widgets/controls",
            "_view_module_version": "1.5.0",
            "_view_name": "ProgressView",
            "bar_style": "success",
            "description": "",
            "description_tooltip": null,
            "layout": "IPY_MODEL_5525fbdc7e07441fada598654e6c56db",
            "max": 642,
            "min": 0,
            "orientation": "horizontal",
            "style": "IPY_MODEL_2b5635dcd1914cd6a56bb1edf591c669",
            "value": 642
          }
        },
        "ca4fab9344964515b5f0d83e5d05701a": {
          "model_module": "@jupyter-widgets/controls",
          "model_name": "HTMLModel",
          "model_module_version": "1.5.0",
          "state": {
            "_dom_classes": [],
            "_model_module": "@jupyter-widgets/controls",
            "_model_module_version": "1.5.0",
            "_model_name": "HTMLModel",
            "_view_count": null,
            "_view_module": "@jupyter-widgets/controls",
            "_view_module_version": "1.5.0",
            "_view_name": "HTMLView",
            "description": "",
            "description_tooltip": null,
            "layout": "IPY_MODEL_610252d84c54473b970dbde30b9e7626",
            "placeholder": "​",
            "style": "IPY_MODEL_5cef1aa47772404fbf3cc0c42ccbde5b",
            "value": " 642/642 [00:00&lt;00:00, 12.3kB/s]"
          }
        },
        "3f021830c03b4efda4842da891f8a2ad": {
          "model_module": "@jupyter-widgets/base",
          "model_name": "LayoutModel",
          "model_module_version": "1.2.0",
          "state": {
            "_model_module": "@jupyter-widgets/base",
            "_model_module_version": "1.2.0",
            "_model_name": "LayoutModel",
            "_view_count": null,
            "_view_module": "@jupyter-widgets/base",
            "_view_module_version": "1.2.0",
            "_view_name": "LayoutView",
            "align_content": null,
            "align_items": null,
            "align_self": null,
            "border": null,
            "bottom": null,
            "display": null,
            "flex": null,
            "flex_flow": null,
            "grid_area": null,
            "grid_auto_columns": null,
            "grid_auto_flow": null,
            "grid_auto_rows": null,
            "grid_column": null,
            "grid_gap": null,
            "grid_row": null,
            "grid_template_areas": null,
            "grid_template_columns": null,
            "grid_template_rows": null,
            "height": null,
            "justify_content": null,
            "justify_items": null,
            "left": null,
            "margin": null,
            "max_height": null,
            "max_width": null,
            "min_height": null,
            "min_width": null,
            "object_fit": null,
            "object_position": null,
            "order": null,
            "overflow": null,
            "overflow_x": null,
            "overflow_y": null,
            "padding": null,
            "right": null,
            "top": null,
            "visibility": null,
            "width": null
          }
        },
        "76f25bf45b564ef18df5b5f5e5a223d7": {
          "model_module": "@jupyter-widgets/base",
          "model_name": "LayoutModel",
          "model_module_version": "1.2.0",
          "state": {
            "_model_module": "@jupyter-widgets/base",
            "_model_module_version": "1.2.0",
            "_model_name": "LayoutModel",
            "_view_count": null,
            "_view_module": "@jupyter-widgets/base",
            "_view_module_version": "1.2.0",
            "_view_name": "LayoutView",
            "align_content": null,
            "align_items": null,
            "align_self": null,
            "border": null,
            "bottom": null,
            "display": null,
            "flex": null,
            "flex_flow": null,
            "grid_area": null,
            "grid_auto_columns": null,
            "grid_auto_flow": null,
            "grid_auto_rows": null,
            "grid_column": null,
            "grid_gap": null,
            "grid_row": null,
            "grid_template_areas": null,
            "grid_template_columns": null,
            "grid_template_rows": null,
            "height": null,
            "justify_content": null,
            "justify_items": null,
            "left": null,
            "margin": null,
            "max_height": null,
            "max_width": null,
            "min_height": null,
            "min_width": null,
            "object_fit": null,
            "object_position": null,
            "order": null,
            "overflow": null,
            "overflow_x": null,
            "overflow_y": null,
            "padding": null,
            "right": null,
            "top": null,
            "visibility": null,
            "width": null
          }
        },
        "15b07408468741ca96558a392f0a9a86": {
          "model_module": "@jupyter-widgets/controls",
          "model_name": "DescriptionStyleModel",
          "model_module_version": "1.5.0",
          "state": {
            "_model_module": "@jupyter-widgets/controls",
            "_model_module_version": "1.5.0",
            "_model_name": "DescriptionStyleModel",
            "_view_count": null,
            "_view_module": "@jupyter-widgets/base",
            "_view_module_version": "1.2.0",
            "_view_name": "StyleView",
            "description_width": ""
          }
        },
        "5525fbdc7e07441fada598654e6c56db": {
          "model_module": "@jupyter-widgets/base",
          "model_name": "LayoutModel",
          "model_module_version": "1.2.0",
          "state": {
            "_model_module": "@jupyter-widgets/base",
            "_model_module_version": "1.2.0",
            "_model_name": "LayoutModel",
            "_view_count": null,
            "_view_module": "@jupyter-widgets/base",
            "_view_module_version": "1.2.0",
            "_view_name": "LayoutView",
            "align_content": null,
            "align_items": null,
            "align_self": null,
            "border": null,
            "bottom": null,
            "display": null,
            "flex": null,
            "flex_flow": null,
            "grid_area": null,
            "grid_auto_columns": null,
            "grid_auto_flow": null,
            "grid_auto_rows": null,
            "grid_column": null,
            "grid_gap": null,
            "grid_row": null,
            "grid_template_areas": null,
            "grid_template_columns": null,
            "grid_template_rows": null,
            "height": null,
            "justify_content": null,
            "justify_items": null,
            "left": null,
            "margin": null,
            "max_height": null,
            "max_width": null,
            "min_height": null,
            "min_width": null,
            "object_fit": null,
            "object_position": null,
            "order": null,
            "overflow": null,
            "overflow_x": null,
            "overflow_y": null,
            "padding": null,
            "right": null,
            "top": null,
            "visibility": null,
            "width": null
          }
        },
        "2b5635dcd1914cd6a56bb1edf591c669": {
          "model_module": "@jupyter-widgets/controls",
          "model_name": "ProgressStyleModel",
          "model_module_version": "1.5.0",
          "state": {
            "_model_module": "@jupyter-widgets/controls",
            "_model_module_version": "1.5.0",
            "_model_name": "ProgressStyleModel",
            "_view_count": null,
            "_view_module": "@jupyter-widgets/base",
            "_view_module_version": "1.2.0",
            "_view_name": "StyleView",
            "bar_color": null,
            "description_width": ""
          }
        },
        "610252d84c54473b970dbde30b9e7626": {
          "model_module": "@jupyter-widgets/base",
          "model_name": "LayoutModel",
          "model_module_version": "1.2.0",
          "state": {
            "_model_module": "@jupyter-widgets/base",
            "_model_module_version": "1.2.0",
            "_model_name": "LayoutModel",
            "_view_count": null,
            "_view_module": "@jupyter-widgets/base",
            "_view_module_version": "1.2.0",
            "_view_name": "LayoutView",
            "align_content": null,
            "align_items": null,
            "align_self": null,
            "border": null,
            "bottom": null,
            "display": null,
            "flex": null,
            "flex_flow": null,
            "grid_area": null,
            "grid_auto_columns": null,
            "grid_auto_flow": null,
            "grid_auto_rows": null,
            "grid_column": null,
            "grid_gap": null,
            "grid_row": null,
            "grid_template_areas": null,
            "grid_template_columns": null,
            "grid_template_rows": null,
            "height": null,
            "justify_content": null,
            "justify_items": null,
            "left": null,
            "margin": null,
            "max_height": null,
            "max_width": null,
            "min_height": null,
            "min_width": null,
            "object_fit": null,
            "object_position": null,
            "order": null,
            "overflow": null,
            "overflow_x": null,
            "overflow_y": null,
            "padding": null,
            "right": null,
            "top": null,
            "visibility": null,
            "width": null
          }
        },
        "5cef1aa47772404fbf3cc0c42ccbde5b": {
          "model_module": "@jupyter-widgets/controls",
          "model_name": "DescriptionStyleModel",
          "model_module_version": "1.5.0",
          "state": {
            "_model_module": "@jupyter-widgets/controls",
            "_model_module_version": "1.5.0",
            "_model_name": "DescriptionStyleModel",
            "_view_count": null,
            "_view_module": "@jupyter-widgets/base",
            "_view_module_version": "1.2.0",
            "_view_name": "StyleView",
            "description_width": ""
          }
        },
        "800877cc761e4d5f86e8d977a7e961a9": {
          "model_module": "@jupyter-widgets/controls",
          "model_name": "HBoxModel",
          "model_module_version": "1.5.0",
          "state": {
            "_dom_classes": [],
            "_model_module": "@jupyter-widgets/controls",
            "_model_module_version": "1.5.0",
            "_model_name": "HBoxModel",
            "_view_count": null,
            "_view_module": "@jupyter-widgets/controls",
            "_view_module_version": "1.5.0",
            "_view_name": "HBoxView",
            "box_style": "",
            "children": [
              "IPY_MODEL_0987036a8b2d4c7e8af05933efffd1d9",
              "IPY_MODEL_ee2096e26dd14f3fbfa1bda93325af80",
              "IPY_MODEL_da68042f25db4cee9a9a46276012235e"
            ],
            "layout": "IPY_MODEL_273cd2f79cfe446b8572f5a1a6d279d5"
          }
        },
        "0987036a8b2d4c7e8af05933efffd1d9": {
          "model_module": "@jupyter-widgets/controls",
          "model_name": "HTMLModel",
          "model_module_version": "1.5.0",
          "state": {
            "_dom_classes": [],
            "_model_module": "@jupyter-widgets/controls",
            "_model_module_version": "1.5.0",
            "_model_name": "HTMLModel",
            "_view_count": null,
            "_view_module": "@jupyter-widgets/controls",
            "_view_module_version": "1.5.0",
            "_view_name": "HTMLView",
            "description": "",
            "description_tooltip": null,
            "layout": "IPY_MODEL_de1b09fedef04f578d3791c9decaab7d",
            "placeholder": "​",
            "style": "IPY_MODEL_221083ecc4484d43a962dbdc253ccfb9",
            "value": "pytorch_model.bin: 100%"
          }
        },
        "ee2096e26dd14f3fbfa1bda93325af80": {
          "model_module": "@jupyter-widgets/controls",
          "model_name": "FloatProgressModel",
          "model_module_version": "1.5.0",
          "state": {
            "_dom_classes": [],
            "_model_module": "@jupyter-widgets/controls",
            "_model_module_version": "1.5.0",
            "_model_name": "FloatProgressModel",
            "_view_count": null,
            "_view_module": "@jupyter-widgets/controls",
            "_view_module_version": "1.5.0",
            "_view_name": "ProgressView",
            "bar_style": "success",
            "description": "",
            "description_tooltip": null,
            "layout": "IPY_MODEL_d76884eae1604cd28f4831d2fd380199",
            "max": 711456784,
            "min": 0,
            "orientation": "horizontal",
            "style": "IPY_MODEL_086d338077344d6a943dac434b804118",
            "value": 711456784
          }
        },
        "da68042f25db4cee9a9a46276012235e": {
          "model_module": "@jupyter-widgets/controls",
          "model_name": "HTMLModel",
          "model_module_version": "1.5.0",
          "state": {
            "_dom_classes": [],
            "_model_module": "@jupyter-widgets/controls",
            "_model_module_version": "1.5.0",
            "_model_name": "HTMLModel",
            "_view_count": null,
            "_view_module": "@jupyter-widgets/controls",
            "_view_module_version": "1.5.0",
            "_view_name": "HTMLView",
            "description": "",
            "description_tooltip": null,
            "layout": "IPY_MODEL_58a5e9b723c14769835bfe9e2b46938b",
            "placeholder": "​",
            "style": "IPY_MODEL_d6cdee8ccf484cf9823ee7d28edc7e06",
            "value": " 711M/711M [00:02&lt;00:00, 301MB/s]"
          }
        },
        "273cd2f79cfe446b8572f5a1a6d279d5": {
          "model_module": "@jupyter-widgets/base",
          "model_name": "LayoutModel",
          "model_module_version": "1.2.0",
          "state": {
            "_model_module": "@jupyter-widgets/base",
            "_model_module_version": "1.2.0",
            "_model_name": "LayoutModel",
            "_view_count": null,
            "_view_module": "@jupyter-widgets/base",
            "_view_module_version": "1.2.0",
            "_view_name": "LayoutView",
            "align_content": null,
            "align_items": null,
            "align_self": null,
            "border": null,
            "bottom": null,
            "display": null,
            "flex": null,
            "flex_flow": null,
            "grid_area": null,
            "grid_auto_columns": null,
            "grid_auto_flow": null,
            "grid_auto_rows": null,
            "grid_column": null,
            "grid_gap": null,
            "grid_row": null,
            "grid_template_areas": null,
            "grid_template_columns": null,
            "grid_template_rows": null,
            "height": null,
            "justify_content": null,
            "justify_items": null,
            "left": null,
            "margin": null,
            "max_height": null,
            "max_width": null,
            "min_height": null,
            "min_width": null,
            "object_fit": null,
            "object_position": null,
            "order": null,
            "overflow": null,
            "overflow_x": null,
            "overflow_y": null,
            "padding": null,
            "right": null,
            "top": null,
            "visibility": null,
            "width": null
          }
        },
        "de1b09fedef04f578d3791c9decaab7d": {
          "model_module": "@jupyter-widgets/base",
          "model_name": "LayoutModel",
          "model_module_version": "1.2.0",
          "state": {
            "_model_module": "@jupyter-widgets/base",
            "_model_module_version": "1.2.0",
            "_model_name": "LayoutModel",
            "_view_count": null,
            "_view_module": "@jupyter-widgets/base",
            "_view_module_version": "1.2.0",
            "_view_name": "LayoutView",
            "align_content": null,
            "align_items": null,
            "align_self": null,
            "border": null,
            "bottom": null,
            "display": null,
            "flex": null,
            "flex_flow": null,
            "grid_area": null,
            "grid_auto_columns": null,
            "grid_auto_flow": null,
            "grid_auto_rows": null,
            "grid_column": null,
            "grid_gap": null,
            "grid_row": null,
            "grid_template_areas": null,
            "grid_template_columns": null,
            "grid_template_rows": null,
            "height": null,
            "justify_content": null,
            "justify_items": null,
            "left": null,
            "margin": null,
            "max_height": null,
            "max_width": null,
            "min_height": null,
            "min_width": null,
            "object_fit": null,
            "object_position": null,
            "order": null,
            "overflow": null,
            "overflow_x": null,
            "overflow_y": null,
            "padding": null,
            "right": null,
            "top": null,
            "visibility": null,
            "width": null
          }
        },
        "221083ecc4484d43a962dbdc253ccfb9": {
          "model_module": "@jupyter-widgets/controls",
          "model_name": "DescriptionStyleModel",
          "model_module_version": "1.5.0",
          "state": {
            "_model_module": "@jupyter-widgets/controls",
            "_model_module_version": "1.5.0",
            "_model_name": "DescriptionStyleModel",
            "_view_count": null,
            "_view_module": "@jupyter-widgets/base",
            "_view_module_version": "1.2.0",
            "_view_name": "StyleView",
            "description_width": ""
          }
        },
        "d76884eae1604cd28f4831d2fd380199": {
          "model_module": "@jupyter-widgets/base",
          "model_name": "LayoutModel",
          "model_module_version": "1.2.0",
          "state": {
            "_model_module": "@jupyter-widgets/base",
            "_model_module_version": "1.2.0",
            "_model_name": "LayoutModel",
            "_view_count": null,
            "_view_module": "@jupyter-widgets/base",
            "_view_module_version": "1.2.0",
            "_view_name": "LayoutView",
            "align_content": null,
            "align_items": null,
            "align_self": null,
            "border": null,
            "bottom": null,
            "display": null,
            "flex": null,
            "flex_flow": null,
            "grid_area": null,
            "grid_auto_columns": null,
            "grid_auto_flow": null,
            "grid_auto_rows": null,
            "grid_column": null,
            "grid_gap": null,
            "grid_row": null,
            "grid_template_areas": null,
            "grid_template_columns": null,
            "grid_template_rows": null,
            "height": null,
            "justify_content": null,
            "justify_items": null,
            "left": null,
            "margin": null,
            "max_height": null,
            "max_width": null,
            "min_height": null,
            "min_width": null,
            "object_fit": null,
            "object_position": null,
            "order": null,
            "overflow": null,
            "overflow_x": null,
            "overflow_y": null,
            "padding": null,
            "right": null,
            "top": null,
            "visibility": null,
            "width": null
          }
        },
        "086d338077344d6a943dac434b804118": {
          "model_module": "@jupyter-widgets/controls",
          "model_name": "ProgressStyleModel",
          "model_module_version": "1.5.0",
          "state": {
            "_model_module": "@jupyter-widgets/controls",
            "_model_module_version": "1.5.0",
            "_model_name": "ProgressStyleModel",
            "_view_count": null,
            "_view_module": "@jupyter-widgets/base",
            "_view_module_version": "1.2.0",
            "_view_name": "StyleView",
            "bar_color": null,
            "description_width": ""
          }
        },
        "58a5e9b723c14769835bfe9e2b46938b": {
          "model_module": "@jupyter-widgets/base",
          "model_name": "LayoutModel",
          "model_module_version": "1.2.0",
          "state": {
            "_model_module": "@jupyter-widgets/base",
            "_model_module_version": "1.2.0",
            "_model_name": "LayoutModel",
            "_view_count": null,
            "_view_module": "@jupyter-widgets/base",
            "_view_module_version": "1.2.0",
            "_view_name": "LayoutView",
            "align_content": null,
            "align_items": null,
            "align_self": null,
            "border": null,
            "bottom": null,
            "display": null,
            "flex": null,
            "flex_flow": null,
            "grid_area": null,
            "grid_auto_columns": null,
            "grid_auto_flow": null,
            "grid_auto_rows": null,
            "grid_column": null,
            "grid_gap": null,
            "grid_row": null,
            "grid_template_areas": null,
            "grid_template_columns": null,
            "grid_template_rows": null,
            "height": null,
            "justify_content": null,
            "justify_items": null,
            "left": null,
            "margin": null,
            "max_height": null,
            "max_width": null,
            "min_height": null,
            "min_width": null,
            "object_fit": null,
            "object_position": null,
            "order": null,
            "overflow": null,
            "overflow_x": null,
            "overflow_y": null,
            "padding": null,
            "right": null,
            "top": null,
            "visibility": null,
            "width": null
          }
        },
        "d6cdee8ccf484cf9823ee7d28edc7e06": {
          "model_module": "@jupyter-widgets/controls",
          "model_name": "DescriptionStyleModel",
          "model_module_version": "1.5.0",
          "state": {
            "_model_module": "@jupyter-widgets/controls",
            "_model_module_version": "1.5.0",
            "_model_name": "DescriptionStyleModel",
            "_view_count": null,
            "_view_module": "@jupyter-widgets/base",
            "_view_module_version": "1.2.0",
            "_view_name": "StyleView",
            "description_width": ""
          }
        }
      }
    }
  },
  "cells": [
    {
      "cell_type": "code",
      "source": [
        "from google.colab import files, drive\n",
        "import gdown\n",
        "\n",
        "import json\n",
        "import numpy\n",
        "\n",
        "drive.mount('/content/drive')"
      ],
      "metadata": {
        "colab": {
          "base_uri": "https://localhost:8080/"
        },
        "id": "Bmh7P-wPF3t0",
        "outputId": "4950fe0e-31f8-42bd-ae96-08078eae9320"
      },
      "execution_count": 1,
      "outputs": [
        {
          "output_type": "stream",
          "name": "stdout",
          "text": [
            "Mounted at /content/drive\n"
          ]
        }
      ]
    },
    {
      "cell_type": "code",
      "source": [
        "!rm -r sample_data"
      ],
      "metadata": {
        "id": "SfoqaWEWGT1N"
      },
      "execution_count": 2,
      "outputs": []
    },
    {
      "cell_type": "code",
      "source": [
        "# Аудиозапись, которую нужно Транскрибировать и определить ее Класс\n",
        "audio = '/content/drive/MyDrive/Media_108/Запись 3098496016.mp3'"
      ],
      "metadata": {
        "id": "y3eR4oguFway"
      },
      "execution_count": 3,
      "outputs": []
    },
    {
      "cell_type": "markdown",
      "metadata": {
        "id": "87zma4ObHUW4"
      },
      "source": [
        "# Импорт и инициализация для Whisper-транскрибации"
      ]
    },
    {
      "cell_type": "code",
      "execution_count": null,
      "metadata": {
        "colab": {
          "base_uri": "https://localhost:8080/"
        },
        "id": "TalRbB5MLMGk",
        "outputId": "19b599ce-3692-4577-b3b1-66b455d15df2"
      },
      "outputs": [
        {
          "output_type": "stream",
          "name": "stdout",
          "text": [
            "\u001b[2K     \u001b[90m━━━━━━━━━━━━━━━━━━━━━━━━━━━━━━━━━━━━━━━━\u001b[0m \u001b[32m48.9/48.9 kB\u001b[0m \u001b[31m833.8 kB/s\u001b[0m eta \u001b[36m0:00:00\u001b[0m\n",
            "\u001b[2K     \u001b[90m━━━━━━━━━━━━━━━━━━━━━━━━━━━━━━━━━━━━━━━━\u001b[0m \u001b[32m221.5/221.5 kB\u001b[0m \u001b[31m3.6 MB/s\u001b[0m eta \u001b[36m0:00:00\u001b[0m\n",
            "\u001b[2K     \u001b[90m━━━━━━━━━━━━━━━━━━━━━━━━━━━━━━━━━━━━━━━━\u001b[0m \u001b[32m2.0/2.0 MB\u001b[0m \u001b[31m14.6 MB/s\u001b[0m eta \u001b[36m0:00:00\u001b[0m\n",
            "\u001b[2K     \u001b[90m━━━━━━━━━━━━━━━━━━━━━━━━━━━━━━━━━━━━━━━━\u001b[0m \u001b[32m3.1/3.1 MB\u001b[0m \u001b[31m51.5 MB/s\u001b[0m eta \u001b[36m0:00:00\u001b[0m\n",
            "\u001b[2K     \u001b[90m━━━━━━━━━━━━━━━━━━━━━━━━━━━━━━━━━━━━━━━━\u001b[0m \u001b[32m75.0/75.0 kB\u001b[0m \u001b[31m8.1 MB/s\u001b[0m eta \u001b[36m0:00:00\u001b[0m\n",
            "\u001b[2K     \u001b[90m━━━━━━━━━━━━━━━━━━━━━━━━━━━━━━━━━━━━━━━━\u001b[0m \u001b[32m76.9/76.9 kB\u001b[0m \u001b[31m8.5 MB/s\u001b[0m eta \u001b[36m0:00:00\u001b[0m\n",
            "\u001b[2K     \u001b[90m━━━━━━━━━━━━━━━━━━━━━━━━━━━━━━━━━━━━━━━━\u001b[0m \u001b[32m58.3/58.3 kB\u001b[0m \u001b[31m5.7 MB/s\u001b[0m eta \u001b[36m0:00:00\u001b[0m\n",
            "\u001b[?25hCollecting git+https://github.com/openai/whisper.git\n",
            "  Cloning https://github.com/openai/whisper.git to /tmp/pip-req-build-xwjg460q\n",
            "  Running command git clone --filter=blob:none --quiet https://github.com/openai/whisper.git /tmp/pip-req-build-xwjg460q\n",
            "  Resolved https://github.com/openai/whisper.git to commit e58f28804528831904c3b6f2c0e473f346223433\n",
            "  Installing build dependencies ... \u001b[?25l\u001b[?25hdone\n",
            "  Getting requirements to build wheel ... \u001b[?25l\u001b[?25hdone\n",
            "  Preparing metadata (pyproject.toml) ... \u001b[?25l\u001b[?25hdone\n",
            "Requirement already satisfied: triton<3,>=2.0.0 in /usr/local/lib/python3.10/dist-packages (from openai-whisper==20231117) (2.1.0)\n",
            "Requirement already satisfied: numba in /usr/local/lib/python3.10/dist-packages (from openai-whisper==20231117) (0.58.1)\n",
            "Requirement already satisfied: numpy in /usr/local/lib/python3.10/dist-packages (from openai-whisper==20231117) (1.23.5)\n",
            "Requirement already satisfied: torch in /usr/local/lib/python3.10/dist-packages (from openai-whisper==20231117) (2.1.0+cu118)\n",
            "Requirement already satisfied: tqdm in /usr/local/lib/python3.10/dist-packages (from openai-whisper==20231117) (4.66.1)\n",
            "Requirement already satisfied: more-itertools in /usr/local/lib/python3.10/dist-packages (from openai-whisper==20231117) (10.1.0)\n",
            "Requirement already satisfied: tiktoken in /usr/local/lib/python3.10/dist-packages (from openai-whisper==20231117) (0.5.2)\n",
            "Requirement already satisfied: filelock in /usr/local/lib/python3.10/dist-packages (from triton<3,>=2.0.0->openai-whisper==20231117) (3.13.1)\n",
            "Requirement already satisfied: llvmlite<0.42,>=0.41.0dev0 in /usr/local/lib/python3.10/dist-packages (from numba->openai-whisper==20231117) (0.41.1)\n",
            "Requirement already satisfied: regex>=2022.1.18 in /usr/local/lib/python3.10/dist-packages (from tiktoken->openai-whisper==20231117) (2023.6.3)\n",
            "Requirement already satisfied: requests>=2.26.0 in /usr/local/lib/python3.10/dist-packages (from tiktoken->openai-whisper==20231117) (2.31.0)\n",
            "Requirement already satisfied: typing-extensions in /usr/local/lib/python3.10/dist-packages (from torch->openai-whisper==20231117) (4.5.0)\n",
            "Requirement already satisfied: sympy in /usr/local/lib/python3.10/dist-packages (from torch->openai-whisper==20231117) (1.12)\n",
            "Requirement already satisfied: networkx in /usr/local/lib/python3.10/dist-packages (from torch->openai-whisper==20231117) (3.2.1)\n",
            "Requirement already satisfied: jinja2 in /usr/local/lib/python3.10/dist-packages (from torch->openai-whisper==20231117) (3.1.2)\n",
            "Requirement already satisfied: fsspec in /usr/local/lib/python3.10/dist-packages (from torch->openai-whisper==20231117) (2023.6.0)\n",
            "Requirement already satisfied: charset-normalizer<4,>=2 in /usr/local/lib/python3.10/dist-packages (from requests>=2.26.0->tiktoken->openai-whisper==20231117) (3.3.2)\n",
            "Requirement already satisfied: idna<4,>=2.5 in /usr/local/lib/python3.10/dist-packages (from requests>=2.26.0->tiktoken->openai-whisper==20231117) (3.6)\n",
            "Requirement already satisfied: urllib3<3,>=1.21.1 in /usr/local/lib/python3.10/dist-packages (from requests>=2.26.0->tiktoken->openai-whisper==20231117) (2.0.7)\n",
            "Requirement already satisfied: certifi>=2017.4.17 in /usr/local/lib/python3.10/dist-packages (from requests>=2.26.0->tiktoken->openai-whisper==20231117) (2023.11.17)\n",
            "Requirement already satisfied: MarkupSafe>=2.0 in /usr/local/lib/python3.10/dist-packages (from jinja2->torch->openai-whisper==20231117) (2.1.3)\n",
            "Requirement already satisfied: mpmath>=0.19 in /usr/local/lib/python3.10/dist-packages (from sympy->torch->openai-whisper==20231117) (1.3.0)\n",
            "Building wheels for collected packages: openai-whisper\n",
            "  Building wheel for openai-whisper (pyproject.toml) ... \u001b[?25l\u001b[?25hdone\n",
            "  Created wheel for openai-whisper: filename=openai_whisper-20231117-py3-none-any.whl size=801356 sha256=7866eaa37ed25eb660f40998423a778306b7b48fd4c3d51a679af905e0933d78\n",
            "  Stored in directory: /tmp/pip-ephem-wheel-cache-c4fvts7c/wheels/8b/6c/d0/622666868c179f156cf595c8b6f06f88bc5d80c4b31dccaa03\n",
            "Successfully built openai-whisper\n",
            "Installing collected packages: openai-whisper\n",
            "Successfully installed openai-whisper-20231117\n"
          ]
        }
      ],
      "source": [
        "# Установка cohere openai tiktoken\n",
        "!pip -q install cohere openai tiktoken\n",
        "# Установка openai-whisper\n",
        "!pip install git+https://github.com/openai/whisper.git"
      ]
    },
    {
      "cell_type": "code",
      "execution_count": null,
      "metadata": {
        "id": "Pq1iXePdHQvG"
      },
      "outputs": [],
      "source": [
        "import whisper"
      ]
    },
    {
      "cell_type": "code",
      "execution_count": null,
      "metadata": {
        "colab": {
          "base_uri": "https://localhost:8080/"
        },
        "id": "mqzLic_CHch6",
        "outputId": "dd7f4e43-978c-49b7-8a87-8849c7fc9c30"
      },
      "outputs": [
        {
          "output_type": "stream",
          "name": "stderr",
          "text": [
            "100%|██████████████████████████████████████| 1.42G/1.42G [00:10<00:00, 148MiB/s]\n"
          ]
        }
      ],
      "source": [
        "# Загрузка модели whisper medium\n",
        "whisper_model = whisper.load_model('medium')"
      ]
    },
    {
      "cell_type": "code",
      "execution_count": null,
      "metadata": {
        "id": "XiMprxSaM-68",
        "colab": {
          "base_uri": "https://localhost:8080/"
        },
        "outputId": "3853fd9d-4d4e-440f-f253-f96e3e8b49e3"
      },
      "outputs": [
        {
          "output_type": "stream",
          "name": "stderr",
          "text": [
            "100%|████████████████████████████████████████| 139M/139M [00:01<00:00, 124MiB/s]\n"
          ]
        }
      ],
      "source": [
        "# Возможное решение этого предупреждения\n",
        "# /usr/local/lib/python3.10/dist-packages/whisper/transcribe.py:115: UserWarning: FP16 is not supported on CPU; using FP32 instead\n",
        "#  warnings.warn(\"FP16 is not supported on CPU; using FP32 instead\")\n",
        "\n",
        "import torch\n",
        "device = torch.device(\"cuda:0\" if torch.cuda.is_available() else \"cpu\")\n",
        "model = whisper.load_model(\"base\", device = \"cpu\" )"
      ]
    },
    {
      "cell_type": "markdown",
      "source": [
        "# Whisper-транскрибация"
      ],
      "metadata": {
        "id": "G1-DcCeZXY5f"
      }
    },
    {
      "cell_type": "code",
      "execution_count": null,
      "metadata": {
        "colab": {
          "base_uri": "https://localhost:8080/"
        },
        "id": "40B4LAIYIyfo",
        "outputId": "fcadc226-680b-4532-a290-6470a8fd1dfe"
      },
      "outputs": [
        {
          "output_type": "stream",
          "name": "stderr",
          "text": [
            "/usr/local/lib/python3.10/dist-packages/whisper/transcribe.py:115: UserWarning: FP16 is not supported on CPU; using FP32 instead\n",
            "  warnings.warn(\"FP16 is not supported on CPU; using FP32 instead\")\n"
          ]
        }
      ],
      "source": [
        "text_whisper = whisper_model.transcribe(audio, language='ru')['text']"
      ]
    },
    {
      "cell_type": "code",
      "execution_count": null,
      "metadata": {
        "id": "ji2RpayfVFur",
        "colab": {
          "base_uri": "https://localhost:8080/"
        },
        "outputId": "de0c1821-afe8-4916-ff06-54cde9b3a22d"
      },
      "outputs": [
        {
          "output_type": "stream",
          "name": "stdout",
          "text": [
            " Здравствуйте, вы позвонили в группу компании Cortros. Благодарим вас за звонок. Пожалуйста, дождитесь ответа оператора. Группа компании Cortros. Меня зовут Елена. Здравствуйте. Здравствуйте. Скажите, пожалуйста, дома, которые у вас в готовом виде сейчас есть, в каком районе расположен? Ну или адрес назовите, я сам оторентирую. Смотрите, у нас три объекта. Первый – это жилой комплекс Headliner. Он расположен в Пресненском районе. Шмитовский проект 39, прямо рядом с метро Шелепиха. Второй жилой комплекс – это I-Lav, это улица Бочкова 11, Останкинский район, метро Алексеевская. И третий – это 11-стовский район, жилой комплекс Равновесия, под Москве. Ага, понятно. А вот тогда про первое скажите, вот там в квартире двухкомплексное, какого метража и цена? Есть ли квартира с отделкой и цена? По данному вопросу вас ориентирует менеджер отдела продаж, поскольку у нас сейчас проходят еще акции с киски, это лучше с ними обсудить. Я вас сейчас соединю и вам предоставлю информацию. Как вас зовут? Надежда. Надежда. Оставайтесь, пожалуйста, на линии. Спасибо. Алло, Надежда, здравствуйте, меня зовут Влада, менеджер отдела продаж. Какой у вас вопрос? Выскажите, пожалуйста, двухкомплексное в районе метро Шелепиха дома. Это напротив «Нитрона» в противоположной стороне, да? Такие? Да-да-да, высотное здание. Высотное дома. А есть где-нибудь до 10 этажа выбор? Да, у нас корпуса переменной этажностью, есть корпуса по 12 этажей, максимальная этажность. Нет-нет, выбор квартир до 10 этажа, до 10-го. Есть, конечно, да. А квартиры с отделкой или без отделки? Все квартиры у нас идут в черновом исполнении, это свободная планировка без внутренних перегородок. По срокам сдачи тоже хочу сориентировать. У нас три очереди строительства, две очереди уже построенные с ключами, третья очередь с сдачей во втором квартале, 2024 год. С ключами? Это один и тот же корпус? Разные подъезды, суда получается? Это разные корпуса, разные очереди строительства. Понятно, но с ключами есть, с ключами давно уже. А сколько метров еще раз рассматривается? Ну, двухкомнатная квартира, какой метраж? 66 и выше площадь. И стоимость одного метра? По-разному сейчас скажу, примерно. Где-то в районе 400-450 тысяч, в зависимости от планировки, от отажности. А лоджия есть в квартирах? Лоджия у нас только в больших квартирах, по 95 метров. 40-95, это получается по 40 миллионов, да? Да, да, да, где-то 40-50. Хочу вас по готовым квартирам сориентировать. Стоимость, например, есть квартира 73 метра, очень хорошая планировка, распашная в кухне гостиной 23 метра, две комнаты. Стоимость у нее 30 миллионов 671 тысячи на 18 этаже. Ну, это очень высокий этаж 18-й. А помидии есть? На 10-м этаже 82 метра, 36 миллионов. Но это все без отделки. Это все без отделки, да. Это еще когда все отделку будут делать, еще, наверное, гостевой будет грязь, грязь, грязь. Ну, не будем скрывать, куда деться. Вот, кстати, есть еще… 30-м этаж, хотела вам с керастой предложить уже квартиру. На 14-м этаже, как вам, без керасты, правда, но 80 метров за 31 миллион… 31 900. Но тоже никаких не балконов, ничего нет. Да, она без балконов, без лоджий, к сожалению. Уже так, фиг строят без балконов, уже никто не стал фиг покупать. Ну, теперь еще будет. Просто подразобрали наш комплекс, он давно реализуется, и квартиры с балконами, и с лоджиями очень быстро ушли. У нас не в каждой квартире балкон. Вот, большие остались, большие. Вот по 100 метров мы с вами подберем что-нибудь с лоджией. Но с лоджией водобавить одну квартиру нельзя, да? Вы не видите ни одной квартиры, чтобы была с балконов, с лоджией? Ну, вот за 40 миллионов порядка 100 метров только такие варианты. Либо на 30-м этаже. Ну нет, на 30-м этаже на балкон выходить не надо, голова закручивает и в обморок упадет. Согласна с вами. Не все же привыкли к верховой идее. Да, да, да. Ну, не знаю, вот эта квартира мне очень нравится 80 метров, она без лоджии, но зато готовая и 31 миллион стоит. Готовая в таком плане? В смысле, что ключи есть? Нет, нет, готовая это то, что в готовом подстроенном доме. Не имеется в виду, что там отделка есть. Но окна у нас увеличенные, широкоформатные, 2 метра. А фонит, телефон почему-то вы сказали в готовом виде, а следующий я не рассылала. А про отделку? Готовая, без отделки. А, понятно. Ну хорошо, мне смс пришла, я все информацию получила, будем думать. Пока, спасибо. Я меня сейчас просто подобрала, нашла 92 метра на 11 этаже, 36500, плюс у нас сейчас Чёрная Пятница на днях будет 21 числа, то есть скидка еще будет больше. То есть 35-34 миллиона 92 метров с лоджией, лоджия в кухне-гостиной. А на 10-ом, ой, на 11-ом вы сказали? На 11-ом. А квартира у него окна на 3-ом этаже. А у вас на 17%? Сейчас я посчитаю, сколько здесь будет с учетом титки. Ну если она 36, то 31 примерно. Тут очень такая хитрая система расчетов, поэтому не буду вас как-то... Ну как бы хитрая не было, а математически она наукаточная. Не-не-не, тут просто на сайте стоимость указана с учетом скидки 13%, а во время Чёрной Пятницы будет скидка 18%. Понимаете, да? Да-да-да. 34400. Ну всё равно 2 миллиона. Ну да, это же... Скидки не каждый день предоставляются. 34 миллиона с лоджией, на 3 стороны у окна выходят. Один у каждой. И за квадратный метр здесь 374 тысячи выходят. А вот бронировать на сколько можно? В зависимости от формы оплаты... Во-первых скажу, что у нас есть устная броня на 2 дня, но она не гарантирует фиксацию стоимости квартиры. То есть вы квартиру за собой зафиксируете, если будет подорожание, то оно будет. Но скажу вам, что оно нас планируется с 1 августа. Помимо вот этой устной брони на 2 дня, есть платная броня. Если у вас ипотека, то на 14 дней. Стоимость бронирования 25%. Нет, в ипотеке нет, в инде наличная. Тогда все достаточно быстро должно произойти. Броня на 5 дней. Стоимость 0,5% от стоимости квартиры. Это естественно бронь входит в стоимость. То есть у вас цена будет за вытеском стоимости бронирования. На 5 дней ставите бронь, подписываете договор долевого участия. И далее, с причем не там, 5 рабочих дней вы производите оплату. А ключи уже у этой квартиры есть? У этой квартиры ключи будут через год. А, ну, к сожалению, это совсем не так. А вы только готовы к ключи? Ну да, только готовы. Только готовы? Веселось же. Но она уже готова. На севере, конечно, не хочется. От метро Алексеевска там далеко, но надо посмотреть, просто съездить, окружение. У метро Алексеевска у нас другой проект, ILAF называют. Я понимаю, я это все поняла. Просто говорю, здесь как бы приоритетно. Сейчас я еще посмотрю одну минуточку готовую, потому что я как-то делала акцент больше на низкую стоимость. И посмотрела в первую очередь такие варианты. Вот готовая 104 метра, она 41 500 стоит. Ну, со скидкой будет там 39 миллионов 104 метра, Соджий. Ага, это готовая. А этаж? Это 9 этаж. И вот там тоже 12 этажей максимум. Ну, это хоть 59. Главное, этаж 9 и все. Не выше 10, а просто не очень униканно. Я хочу сказать, что варианты квартиры есть. Как видите, нужно по выбирать. Если вам расположение прям подходит, транспортная доступность устраивает, лучше, чтобы вы приехали и мы вживую выбрали квартиру. А у вас там офис находится, где-то рядом? Да, рядом с метро Шелепиха. Ну и плюс вы в готовую смотрите, вы сразу сходите в квартиру, посмотрите ее вживую. Ну, я не понимаю. Если вы не раздеврете время, я сейчас координаты сброшу. И я буду рада вас видеть вживую. Да, хорошо. Сейчас одну минуточку все направлю. А может тогда я прощаюсь. Да, я жду на связи. До свидания.\n"
          ]
        }
      ],
      "source": [
        "print(text_whisper)"
      ]
    },
    {
      "cell_type": "markdown",
      "source": [
        "# Импорт и инициализация для Bert-предсказания"
      ],
      "metadata": {
        "id": "igEXYw-8JAOg"
      }
    },
    {
      "cell_type": "code",
      "source": [
        "import os            # для работы с операционной системой\n",
        "import pandas as pd  # для работы с таблицами\n",
        "import numpy  as np  # для работы с массивами\n",
        "import torch"
      ],
      "metadata": {
        "id": "AhdcZlDPGnDz"
      },
      "execution_count": 5,
      "outputs": []
    },
    {
      "cell_type": "code",
      "source": [
        "# Установка transformers\n",
        "!pip -q install transformers"
      ],
      "metadata": {
        "id": "M_42oszBG4CI"
      },
      "execution_count": 6,
      "outputs": []
    },
    {
      "cell_type": "code",
      "source": [
        "# Импортируем предобученную модель\n",
        "from transformers import AutoModel\n",
        "bert = AutoModel.from_pretrained('DeepPavlov/rubert-base-cased-sentence')"
      ],
      "metadata": {
        "colab": {
          "base_uri": "https://localhost:8080/",
          "height": 81,
          "referenced_widgets": [
            "651b4283f5694948954626c07ac4cef9",
            "aed46a156fa241298a478f1c8866b286",
            "d42bcf4b1f794744983ec3e605c4fa27",
            "ca4fab9344964515b5f0d83e5d05701a",
            "3f021830c03b4efda4842da891f8a2ad",
            "76f25bf45b564ef18df5b5f5e5a223d7",
            "15b07408468741ca96558a392f0a9a86",
            "5525fbdc7e07441fada598654e6c56db",
            "2b5635dcd1914cd6a56bb1edf591c669",
            "610252d84c54473b970dbde30b9e7626",
            "5cef1aa47772404fbf3cc0c42ccbde5b",
            "800877cc761e4d5f86e8d977a7e961a9",
            "0987036a8b2d4c7e8af05933efffd1d9",
            "ee2096e26dd14f3fbfa1bda93325af80",
            "da68042f25db4cee9a9a46276012235e",
            "273cd2f79cfe446b8572f5a1a6d279d5",
            "de1b09fedef04f578d3791c9decaab7d",
            "221083ecc4484d43a962dbdc253ccfb9",
            "d76884eae1604cd28f4831d2fd380199",
            "086d338077344d6a943dac434b804118",
            "58a5e9b723c14769835bfe9e2b46938b",
            "d6cdee8ccf484cf9823ee7d28edc7e06"
          ]
        },
        "id": "s6WQOYfUHHHD",
        "outputId": "c425ac5b-6873-4dbd-c029-92bd463b8acc"
      },
      "execution_count": 7,
      "outputs": [
        {
          "output_type": "display_data",
          "data": {
            "text/plain": [
              "config.json:   0%|          | 0.00/642 [00:00<?, ?B/s]"
            ],
            "application/vnd.jupyter.widget-view+json": {
              "version_major": 2,
              "version_minor": 0,
              "model_id": "651b4283f5694948954626c07ac4cef9"
            }
          },
          "metadata": {}
        },
        {
          "output_type": "display_data",
          "data": {
            "text/plain": [
              "pytorch_model.bin:   0%|          | 0.00/711M [00:00<?, ?B/s]"
            ],
            "application/vnd.jupyter.widget-view+json": {
              "version_major": 2,
              "version_minor": 0,
              "model_id": "800877cc761e4d5f86e8d977a7e961a9"
            }
          },
          "metadata": {}
        }
      ]
    },
    {
      "cell_type": "code",
      "source": [
        "# Сам BERT обучать не будем, добавим к его выходу свои слои, которые и будем обучать\n",
        "for param in bert.parameters():\n",
        "  param.requires_grad = False\n",
        "\n",
        "import torch.nn as nn\n",
        "class BERT_Arch(nn.Module):\n",
        "  def __init__(self, bert):\n",
        "    super(BERT_Arch, self).__init__()\n",
        "    self.bert = bert\n",
        "    self.dropout = nn.Dropout(0.1)\n",
        "    self.relu = nn.ReLU()\n",
        "    self.fc1 = nn.Linear(768,512)\n",
        "    self.fc2 = nn.Linear(512,2)\n",
        "    self.softmax = nn.LogSoftmax(dim = 1)\n",
        "  def forward(self, sent_id, mask):\n",
        "    _, cls_hs = self.bert(sent_id, attention_mask = mask, return_dict = False)\n",
        "    x = self.fc1(cls_hs)\n",
        "    x = self.relu(x)\n",
        "    x = self.dropout(x)\n",
        "    x = self.fc2(x)\n",
        "    x = self.softmax(x)\n",
        "    return x"
      ],
      "metadata": {
        "id": "tuuJSvaBksjl"
      },
      "execution_count": 8,
      "outputs": []
    },
    {
      "cell_type": "code",
      "source": [
        "# Архитектура\n",
        "bert.cuda()"
      ],
      "metadata": {
        "colab": {
          "base_uri": "https://localhost:8080/"
        },
        "id": "g3XTbXwaHEs7",
        "outputId": "0473312d-717b-4c3f-96d1-022379152a9e"
      },
      "execution_count": 9,
      "outputs": [
        {
          "output_type": "execute_result",
          "data": {
            "text/plain": [
              "BertModel(\n",
              "  (embeddings): BertEmbeddings(\n",
              "    (word_embeddings): Embedding(119547, 768, padding_idx=0)\n",
              "    (position_embeddings): Embedding(512, 768)\n",
              "    (token_type_embeddings): Embedding(2, 768)\n",
              "    (LayerNorm): LayerNorm((768,), eps=1e-12, elementwise_affine=True)\n",
              "    (dropout): Dropout(p=0.1, inplace=False)\n",
              "  )\n",
              "  (encoder): BertEncoder(\n",
              "    (layer): ModuleList(\n",
              "      (0-11): 12 x BertLayer(\n",
              "        (attention): BertAttention(\n",
              "          (self): BertSelfAttention(\n",
              "            (query): Linear(in_features=768, out_features=768, bias=True)\n",
              "            (key): Linear(in_features=768, out_features=768, bias=True)\n",
              "            (value): Linear(in_features=768, out_features=768, bias=True)\n",
              "            (dropout): Dropout(p=0.1, inplace=False)\n",
              "          )\n",
              "          (output): BertSelfOutput(\n",
              "            (dense): Linear(in_features=768, out_features=768, bias=True)\n",
              "            (LayerNorm): LayerNorm((768,), eps=1e-12, elementwise_affine=True)\n",
              "            (dropout): Dropout(p=0.1, inplace=False)\n",
              "          )\n",
              "        )\n",
              "        (intermediate): BertIntermediate(\n",
              "          (dense): Linear(in_features=768, out_features=3072, bias=True)\n",
              "          (intermediate_act_fn): GELUActivation()\n",
              "        )\n",
              "        (output): BertOutput(\n",
              "          (dense): Linear(in_features=3072, out_features=768, bias=True)\n",
              "          (LayerNorm): LayerNorm((768,), eps=1e-12, elementwise_affine=True)\n",
              "          (dropout): Dropout(p=0.1, inplace=False)\n",
              "        )\n",
              "      )\n",
              "    )\n",
              "  )\n",
              "  (pooler): BertPooler(\n",
              "    (dense): Linear(in_features=768, out_features=768, bias=True)\n",
              "    (activation): Tanh()\n",
              "  )\n",
              ")"
            ]
          },
          "metadata": {},
          "execution_count": 9
        }
      ]
    },
    {
      "cell_type": "code",
      "source": [
        "# Объявляем модель и загружаем её в GPU\n",
        "device = torch.device('cuda')\n",
        "model  = BERT_Arch(bert)\n",
        "model  = model.to(device)"
      ],
      "metadata": {
        "id": "pfKoXCzWGzn5"
      },
      "execution_count": 10,
      "outputs": []
    },
    {
      "cell_type": "code",
      "source": [
        "# Загрузим лучшие веса для модели\n",
        "model.load_state_dict(torch.load('/content/drive/MyDrive/Media_108/Bert_веса/bert_weights.pt'))"
      ],
      "metadata": {
        "colab": {
          "base_uri": "https://localhost:8080/"
        },
        "id": "SWRhqnzh0qgZ",
        "outputId": "d278f002-f804-427f-fcec-6c43013b393d"
      },
      "execution_count": 11,
      "outputs": [
        {
          "output_type": "execute_result",
          "data": {
            "text/plain": [
              "<All keys matched successfully>"
            ]
          },
          "metadata": {},
          "execution_count": 11
        }
      ]
    },
    {
      "cell_type": "code",
      "source": [
        "from transformers import AutoTokenizer\n",
        "\n",
        "tokenizer = AutoTokenizer.from_pretrained('DeepPavlov/rubert-base-cased-sentence')"
      ],
      "metadata": {
        "id": "grUBG-QZB0GO"
      },
      "execution_count": 14,
      "outputs": []
    },
    {
      "cell_type": "markdown",
      "source": [
        "# Bert-предсказание"
      ],
      "metadata": {
        "id": "kZjbWz9CAb_f"
      }
    },
    {
      "cell_type": "code",
      "source": [
        "# Токенизируем текст\n",
        "tokens = tokenizer.tokenize(text_whisper)\n",
        "\n",
        "# Преобразуем токены в числовые идентификаторы\n",
        "ids = tokenizer.convert_tokens_to_ids(tokens)\n",
        "\n",
        "# Добавляем паддинг до максимальной длины последовательности\n",
        "max_seq_len = 512\n",
        "ids = ids[:max_seq_len - 2]  # учитываем [CLS] и [SEP]\n",
        "ids = [tokenizer.cls_token_id] + ids + [tokenizer.sep_token_id]\n",
        "mask = [1] * len(ids)\n",
        "padding = [tokenizer.pad_token_id] * (max_seq_len - len(ids))\n",
        "ids += padding\n",
        "mask += padding\n",
        "\n",
        "# Преобразуем числовые идентификаторы в тензор PyTorch\n",
        "test_seq = torch.tensor(ids).unsqueeze(0)\n",
        "test_mask = torch.tensor(mask).unsqueeze(0)\n",
        "\n",
        "# Передаем тензор через модель, чтобы получить предсказание\n",
        "with torch.no_grad():\n",
        "    preds = model(test_seq.to(device), test_mask.to(device))\n",
        "\n",
        "# Преобразуем выход модели в вероятности классов\n",
        "probs = torch.softmax(preds, dim=1)"
      ],
      "metadata": {
        "id": "gSN_Iy11AcWf"
      },
      "execution_count": 15,
      "outputs": []
    },
    {
      "cell_type": "code",
      "source": [
        "# Извлекаем вероятность класса text_whisper\n",
        "text_whisper_prob = probs[0, 1].item()\n",
        "\n",
        "# Сохраняем вероятность в переменную confidence\n",
        "confidence = text_whisper_prob\n",
        "\n",
        "# Тк здесь вероятностная принадлежность классу (у нас их 2), то есть вероятность (0, 0.5) - это НЕЦЕЛЕВОЙ, а [0.5, 1] - ЦЕЛЕВОЙ\n",
        "\n",
        "if confidence >= 0.5:\n",
        "    print(f'Звонок, путь до которого {audio}, является ЦЕЛЕВЫМ, вероятность - {confidence}')\n",
        "else:\n",
        "    print(f'Звонок, путь до которого {audio}, является НЕЦЕЛЕВЫМ, вероятность - {1 - confidence}')"
      ],
      "metadata": {
        "colab": {
          "base_uri": "https://localhost:8080/"
        },
        "id": "9RxjjfNJCQxe",
        "outputId": "f827fdcf-6009-45b1-cc2b-be3a021393e5"
      },
      "execution_count": 18,
      "outputs": [
        {
          "output_type": "stream",
          "name": "stdout",
          "text": [
            "Звонок, путь до которого /content/drive/MyDrive/Media_108/Запись 3098496016.mp3, является ЦЕЛЕВЫМ, вероятность - 0.898822009563446\n"
          ]
        }
      ]
    }
  ]
}