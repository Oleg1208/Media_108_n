{
  "nbformat": 4,
  "nbformat_minor": 0,
  "metadata": {
    "colab": {
      "provenance": [],
      "gpuType": "T4"
    },
    "kernelspec": {
      "name": "python3",
      "display_name": "Python 3"
    },
    "language_info": {
      "name": "python"
    },
    "accelerator": "GPU"
  },
  "cells": [
    {
      "cell_type": "code",
      "execution_count": null,
      "metadata": {
        "colab": {
          "base_uri": "https://localhost:8080/"
        },
        "id": "nYkoZoxVE0Qz",
        "outputId": "767c7681-ade8-4166-f9a1-035568fe2a6c"
      },
      "outputs": [
        {
          "output_type": "stream",
          "name": "stdout",
          "text": [
            "Collecting openai-whisper\n",
            "  Downloading openai-whisper-20231117.tar.gz (798 kB)\n",
            "\u001b[2K     \u001b[90m━━━━━━━━━━━━━━━━━━━━━━━━━━━━━━━━━━━━━━━━\u001b[0m \u001b[32m798.6/798.6 kB\u001b[0m \u001b[31m7.9 MB/s\u001b[0m eta \u001b[36m0:00:00\u001b[0m\n",
            "\u001b[?25h  Installing build dependencies ... \u001b[?25l\u001b[?25hdone\n",
            "  Getting requirements to build wheel ... \u001b[?25l\u001b[?25hdone\n",
            "  Preparing metadata (pyproject.toml) ... \u001b[?25l\u001b[?25hdone\n",
            "Requirement already satisfied: triton<3,>=2.0.0 in /usr/local/lib/python3.10/dist-packages (from openai-whisper) (2.1.0)\n",
            "Requirement already satisfied: numba in /usr/local/lib/python3.10/dist-packages (from openai-whisper) (0.58.1)\n",
            "Requirement already satisfied: numpy in /usr/local/lib/python3.10/dist-packages (from openai-whisper) (1.23.5)\n",
            "Requirement already satisfied: torch in /usr/local/lib/python3.10/dist-packages (from openai-whisper) (2.1.0+cu118)\n",
            "Requirement already satisfied: tqdm in /usr/local/lib/python3.10/dist-packages (from openai-whisper) (4.66.1)\n",
            "Requirement already satisfied: more-itertools in /usr/local/lib/python3.10/dist-packages (from openai-whisper) (10.1.0)\n",
            "Collecting tiktoken (from openai-whisper)\n",
            "  Downloading tiktoken-0.5.1-cp310-cp310-manylinux_2_17_x86_64.manylinux2014_x86_64.whl (2.0 MB)\n",
            "\u001b[2K     \u001b[90m━━━━━━━━━━━━━━━━━━━━━━━━━━━━━━━━━━━━━━━━\u001b[0m \u001b[32m2.0/2.0 MB\u001b[0m \u001b[31m17.3 MB/s\u001b[0m eta \u001b[36m0:00:00\u001b[0m\n",
            "\u001b[?25hRequirement already satisfied: filelock in /usr/local/lib/python3.10/dist-packages (from triton<3,>=2.0.0->openai-whisper) (3.13.1)\n",
            "Requirement already satisfied: llvmlite<0.42,>=0.41.0dev0 in /usr/local/lib/python3.10/dist-packages (from numba->openai-whisper) (0.41.1)\n",
            "Requirement already satisfied: regex>=2022.1.18 in /usr/local/lib/python3.10/dist-packages (from tiktoken->openai-whisper) (2023.6.3)\n",
            "Requirement already satisfied: requests>=2.26.0 in /usr/local/lib/python3.10/dist-packages (from tiktoken->openai-whisper) (2.31.0)\n",
            "Requirement already satisfied: typing-extensions in /usr/local/lib/python3.10/dist-packages (from torch->openai-whisper) (4.5.0)\n",
            "Requirement already satisfied: sympy in /usr/local/lib/python3.10/dist-packages (from torch->openai-whisper) (1.12)\n",
            "Requirement already satisfied: networkx in /usr/local/lib/python3.10/dist-packages (from torch->openai-whisper) (3.2.1)\n",
            "Requirement already satisfied: jinja2 in /usr/local/lib/python3.10/dist-packages (from torch->openai-whisper) (3.1.2)\n",
            "Requirement already satisfied: fsspec in /usr/local/lib/python3.10/dist-packages (from torch->openai-whisper) (2023.6.0)\n",
            "Requirement already satisfied: charset-normalizer<4,>=2 in /usr/local/lib/python3.10/dist-packages (from requests>=2.26.0->tiktoken->openai-whisper) (3.3.2)\n",
            "Requirement already satisfied: idna<4,>=2.5 in /usr/local/lib/python3.10/dist-packages (from requests>=2.26.0->tiktoken->openai-whisper) (3.4)\n",
            "Requirement already satisfied: urllib3<3,>=1.21.1 in /usr/local/lib/python3.10/dist-packages (from requests>=2.26.0->tiktoken->openai-whisper) (2.0.7)\n",
            "Requirement already satisfied: certifi>=2017.4.17 in /usr/local/lib/python3.10/dist-packages (from requests>=2.26.0->tiktoken->openai-whisper) (2023.7.22)\n",
            "Requirement already satisfied: MarkupSafe>=2.0 in /usr/local/lib/python3.10/dist-packages (from jinja2->torch->openai-whisper) (2.1.3)\n",
            "Requirement already satisfied: mpmath>=0.19 in /usr/local/lib/python3.10/dist-packages (from sympy->torch->openai-whisper) (1.3.0)\n",
            "Building wheels for collected packages: openai-whisper\n",
            "  Building wheel for openai-whisper (pyproject.toml) ... \u001b[?25l\u001b[?25hdone\n",
            "  Created wheel for openai-whisper: filename=openai_whisper-20231117-py3-none-any.whl size=801356 sha256=2ceb0832c3ed77f54fab1f280d61e9459ec5fe119a5889dde025d770d62090cb\n",
            "  Stored in directory: /root/.cache/pip/wheels/d0/85/e1/9361b4cbea7dd4b7f6702fa4c3afc94877952eeb2b62f45f56\n",
            "Successfully built openai-whisper\n",
            "Installing collected packages: tiktoken, openai-whisper\n",
            "\u001b[31mERROR: pip's dependency resolver does not currently take into account all the packages that are installed. This behaviour is the source of the following dependency conflicts.\n",
            "llmx 0.0.15a0 requires cohere, which is not installed.\n",
            "llmx 0.0.15a0 requires openai, which is not installed.\u001b[0m\u001b[31m\n",
            "\u001b[0mSuccessfully installed openai-whisper-20231117 tiktoken-0.5.1\n"
          ]
        }
      ],
      "source": [
        "!pip install openai-whisper"
      ]
    },
    {
      "cell_type": "code",
      "source": [
        "import whisper\n",
        "\n",
        "def speech_recognition(model='medium'):\n",
        "  speech_model = whisper.load_model(model)\n",
        "  result = speech_model.transcribe('zvonok.mp3')\n",
        "\n",
        "  with open(f'transcription_{model}.txt', 'w') as file:\n",
        "    file.write(result['text'])\n",
        "\n",
        "\n",
        "  print(\"Транскрибация успешно сохранена.\")\n",
        "\n",
        "speech_recognition()"
      ],
      "metadata": {
        "id": "8-5mwxiuFv7q",
        "colab": {
          "base_uri": "https://localhost:8080/"
        },
        "outputId": "e1601953-e10e-4942-f5a3-a04076c5c596"
      },
      "execution_count": null,
      "outputs": [
        {
          "output_type": "stream",
          "name": "stderr",
          "text": [
            "100%|█████████████████████████████████████| 1.42G/1.42G [00:32<00:00, 47.7MiB/s]\n"
          ]
        },
        {
          "output_type": "stream",
          "name": "stdout",
          "text": [
            "Транскрибация успешно сохранена.\n"
          ]
        }
      ]
    },
    {
      "cell_type": "code",
      "source": [
        "file_path = 'transcription_medium.txt'\n",
        "with open(file_path, 'r') as file:\n",
        "    content = file.read()\n",
        "    print(content)"
      ],
      "metadata": {
        "colab": {
          "base_uri": "https://localhost:8080/"
        },
        "id": "TyPbQw_kBulA",
        "outputId": "d930ad00-edc3-4374-bb94-2e4be9f08c60"
      },
      "execution_count": null,
      "outputs": [
        {
          "output_type": "stream",
          "name": "stdout",
          "text": [
            " Клубный город на реке Примовера. Надеюсь, это доброе утро. Доброе утро. Да, я бы хотела узнать по поводу квартиры. Да, сегодня у вас есть посада. Будьте добры, как могу пообщаться? Ирина. Ирина, вас благодарю. С офисом продаж соединяем ноты, пожалуйста. Ну, спасибо. Ирина, доброе утро. Клубный город на реке Примовера. Доброе утро. Да. Я бы хотела узнать по поводу приобретения квартиры. Какие... Нет ли примерно квартиры? Какой этаж вообще в доме? Ну, сколько этажей в доме? Все подробней. Да, Ирина, подпишись. Да, я бы хотела узнать по поводу квартиры. Какие... Нет ли примерно квартиры? Какой этаж вообще в доме? Ну, сколько этажей в доме? Все подробней. Да, Ирина, подскажите, пожалуйста, что вы себе подбираете? Нам нужна комнатная квартира. Духкомнатная квартира. А на какой этаж? Где-то там 53-60 где-нибудь аккуратных метров. Какой бюджет рассматриваете? Ну, примерно там 20 миллионов. Угу, замечательно. Нашим проектам знакомы? Нет, я бы хотела узнать по подробней. Так, замечательно. Давайте я вам немножко вкратце расскажу, а потом уже тогда по вариантам предложу вам. Располагаемся мы на севере-западе Москвы, это район Покровская-Стрешева, рядом, в спешей доступности станции метро Спартак. Локация знакома? Есть внимание? Да, знакома. Проект у нас премиум класса. Строительство ведется на первой береговой линии реки, то есть прямо на набережной, состоит из двух отчетов идей строительства, ну, на данный момент непосредственно. Первая очередь это квартал России, он будет сдавать в середине 2024 года. Вторая очередь это квартал Вевальде, будет сдавать в 2025 году. Здесь есть какие-то предпочтения, именно по срокам сдачи раньше, позже? Да нет, в принципе, нет, пока не особо торопимся, просто... Такой изюмик нашего будет проекта. Перед корпусами и до кромки воды у нас будет собственный такой большой экопарк, почти 17-ки так, то есть благоустроенная зеленая набережная с различными детскими площадками, спортивными площадками, прогулочными зонами, там, зонные цветы. Йогой можно заниматься, то есть такая прям огромная территория, 17 гектаров площади и протяженностью 3,5 километра. Открытый панорамный вид на реку, ну, то есть будет прям замечательно. Если брать непосредственно по корпусам, по очередям, повторюсь, то с первого очередя нас дается в 2024 году, вторая будет сдавать в 2025 году. Больше предложений как раз-таки вот во второй очереди, там и количество корпусов больше, и вариантом по планировок. Если, например, мы будем отталкиваться от ваших предпочтений в двухкомнатные квартиры, могу вам предложить, например, вариант 60 квадратных метров, это классическая двухкомнатная квартира, по стоимости, если брать там по прайсу 25 миллионов, она будет 25, там 400, это если будет по прайсу. У вас какая форма оплаты? Нарешная. Замечательно. У нас еще действуют дисконты, то есть базовая скидка на данные, можно запросить 5%, но это не только этот вариант, есть еще предложения, можно рассмотреть, есть возможности, может быть, мы подъехали бы в офис, посмотрели здесь непосредственно в макет. Да, мы сможем к вам подъехать, ведь это после 15 мая. После 15 мая, в Немоскве, да, находитесь? Или просто расписаны все? Мы в Владимире, мы в Владимире живем, да, и за это пока у мужа с работы, там все занято, загружено, и за это по 15 минут можно приехать. Замечательно. Так, тогда давайте так поступим. Я вам направлю презентацию по нашему проекту, варианты, которые я вам сейчас на данный момент предложила, ну а там уже, конечно, лучше встретиться непосредственно уже здесь, в офисе продаж, мы находимся рядом со стройкой, можно будет пройти, может быть, даже в тот день, когда мы сможем с вами там на стройку именно пройти, уже встретимся с вами. А можно пару вопросов задать? Да, конечно. А подскажите, пожалуйста, сколько этажей в доме будет? Вот, который мы на весь 20-го года рассматриваем. Смотрите, если рассматривать тот корпус, в котором вы находитесь, да, смотрите, у нас 7 корпусов, 2 идут в 22-х этажных и 5 идут в переменные этажности, по этажности идут 5, 7, 9, 10, 19 этажей. Я вам предложила, да, можно посмотреть и по этажности разной, и по высоте корпусов, там, где я вам предложила, там есть 19-этажная секция и где 5 этажной секция. И подскажите, какая будет высота петалков? Более 3 метров, там идет, где 308, где 325, в зависимости, по корпусам идут. Ну, по этажности, да. Вы в любом случае, в 3 метра будете выходить. Отлично. После ремонтных работ. И еще хотела узнать вопрос по поводу парковочных. Там будет надземная или подземная парковка? Если подземные, в аренду, наверное, вы будете брать место парковочное или покупать? Нет, смотрите, у нас с этим вопрос решен не сразу же, у нас подземная парковка. Идет один к одному в кофе, сколько квартир, только из парковочных мест, поэтому мест достаточно. Находится это все под территорией, то есть под землей, на минус первом этаже. Вы можете парковочные места как приобрести? Как приобрести? Ну, в аренду, знаете, как сам застройщик вызывать не будет, у нас они стоят на реализации. Аренда это, наверное, уже если кто-то приобретет или не будет пользоваться, может, возьмут лишнее, и окажется, что не надо. Ну, это как практика, так всегда показывает, что аренда она есть, но она от жильцов, от собственников. А так, да, приобрести, возможно, будет все, что уже идет вокруг территории. У нас территория закрыта, она огорожена, она идет для резидентов, и парковка будет только для резидентов. Если не приобретать парковку, то только вокруг комплекса, как стихия, как говорится, это как везде. Будь, конечно, когда что-то в проекте такое. А что еще вообще рассматривать? Смотрели какие-то живые комплексы, чем сравнивать? Вы просто живете в Владимире? Пока еще ничего. А, нас как знали? Да, просто в интернете. Рассматривали какие-то предложения, вот это мы знали. Так, хорошо. Просто, как я вам такое сказать, вы прямо, у вас хороший выбор, Пал, на самом деле. Если даже брать по каким-то определенным плюсам, как у нас направление идет, например, все смотрят на локацию, на транспортную доступность, как сам корпус, комплекс, из чего состоит. Мы здесь, у нас транспортная доступность, и как на машине там пешу, легко можно до центра добраться. Знаешь, или мете его близко, это тоже очень такой акцент. Это хороший показатель данной. Да, находимся на первой береговой линии, у нас открытые виды, то есть никаких домов, никуда у вас ничего операции не будет. Будете наблюдать только на закаты, на входы. Это хорошо тоже большой плюс. Да. У вас какие-то еще есть вопросы по проекту? Нет, в принципе, нет. А вы пользуетесь до Асапо? Да. Удобно? Да, один номер дальше есть. Удобно, да, если вам направлю информацию туда? Да, удобно будет, да, спасибо. Ирина, если у вас будут какие-то вопросы, что-то вдруг забыли спросить, вы прям можете мне там либо написать. В целом, я всегда на связи, я вам могу там и перезвонить, уже ответить. Угу, страшно. Да, спасибо большое. Поздравляю вас. Хороших вам выходных и праздников. Поздравляю вас. Спасибо огромное. И вам тоже. Всего доброго. Спасибо большое. Всего доброго. До свидания. До свидания.\n"
          ]
        }
      ]
    }
  ]
}