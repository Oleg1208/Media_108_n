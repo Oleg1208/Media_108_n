{
  "nbformat": 4,
  "nbformat_minor": 0,
  "metadata": {
    "colab": {
      "provenance": []
    },
    "kernelspec": {
      "name": "python3",
      "display_name": "Python 3"
    },
    "language_info": {
      "name": "python"
    }
  },
  "cells": [
    {
      "cell_type": "code",
      "execution_count": 1,
      "metadata": {
        "id": "A9IIVrdAxWYZ"
      },
      "outputs": [],
      "source": [
        "import pandas as pd\n",
        "import time\n",
        "from tensorflow.keras.utils import to_categorical\n",
        "import numpy as np\n",
        "import random\n",
        "import zipfile\n",
        "import os\n",
        "import shutil\n",
        "from google.colab import files\n",
        "import librosa                            # Параметризация аудио\n",
        "import librosa.display                    # Визуализация аудио\n",
        "import matplotlib.pyplot as plt           # Отрисовка графиков\n",
        "import IPython.display as ipd             # Проигрывание аудио в colab\n",
        "from sklearn.preprocessing import LabelEncoder, StandardScaler\n",
        "from sklearn.model_selection import train_test_split\n",
        "import pickle\n",
        "from tensorflow.keras.models import Sequential, Model, load_model\n",
        "from tensorflow.keras.layers import concatenate, Input, Dense, Dropout, BatchNormalization, Flatten, Conv1D, Conv2D, LSTM\n",
        "from tensorflow.keras.optimizers import Adam, RMSprop\n",
        "from sklearn.preprocessing import LabelEncoder, StandardScaler\n",
        "\n",
        "# Нормирование сигнала\n",
        "from sklearn.preprocessing import minmax_scale, scale\n",
        "\n",
        "%matplotlib inline"
      ]
    },
    {
      "cell_type": "code",
      "source": [
        "def handle_outliers_in_csv(collection, base_path):\n",
        "    csv_path = os.path.join(base_path, f\"{collection}.csv\")\n",
        "\n",
        "    expected_fields = {\n",
        "        'Headliner': 72,\n",
        "        'Primavera': 74,\n",
        "        'Paveletskaya': 74\n",
        "    }.get(collection, 74)  # default to 74 fields\n",
        "\n",
        "    with open(csv_path, 'r') as data:\n",
        "        corrected_data = []\n",
        "        corrections_made = False\n",
        "        modified_lines = 0\n",
        "        for n, string in enumerate(data):\n",
        "            list_string = string.split(';')\n",
        "            if len(list_string) > expected_fields:\n",
        "                corrections_made = True\n",
        "                modified_lines += 1\n",
        "                print(f\"Линия {n + 1}: Найдено {len(list_string)} колонок. Ожидалось {expected_fields}.\")\n",
        "                list_string = list_string[:expected_fields]\n",
        "                corrected_data.append(';'.join(list_string))\n",
        "            else:\n",
        "                corrected_data.append(string.rstrip())\n",
        "\n",
        "    if corrections_made:\n",
        "        corrected_csv_path = os.path.join(base_path, f\"{collection}_without_outlier.csv\")\n",
        "        with open(corrected_csv_path, 'w') as new_data:\n",
        "            new_data.write('\\n'.join(corrected_data))\n",
        "        print(f\"Общее количество линий модифицировано для {collection}: {modified_lines}\")"
      ],
      "metadata": {
        "id": "ZqClUDS8jdMw"
      },
      "execution_count": 2,
      "outputs": []
    },
    {
      "cell_type": "code",
      "source": [
        "handle_outliers_in_csv(\"Headliner\", \"/content/drive/MyDrive/Phone_calls/V2\")"
      ],
      "metadata": {
        "colab": {
          "base_uri": "https://localhost:8080/"
        },
        "id": "tzNKAKBLkFZY",
        "outputId": "495fdaee-9214-4660-efd2-6f4ae6e8a927"
      },
      "execution_count": 3,
      "outputs": [
        {
          "output_type": "stream",
          "name": "stdout",
          "text": [
            "Линия 83: Найдено 76 колонок. Ожидалось 72.\n",
            "Линия 432: Найдено 76 колонок. Ожидалось 72.\n",
            "Линия 618: Найдено 76 колонок. Ожидалось 72.\n",
            "Линия 1766: Найдено 76 колонок. Ожидалось 72.\n",
            "Линия 1779: Найдено 76 колонок. Ожидалось 72.\n",
            "Линия 2106: Найдено 76 колонок. Ожидалось 72.\n",
            "Линия 4601: Найдено 76 колонок. Ожидалось 72.\n",
            "Общее количество линий модифицировано для Headliner: 7\n"
          ]
        }
      ]
    },
    {
      "cell_type": "code",
      "source": [
        "handle_outliers_in_csv(\"Primavera\", \"/content/drive/MyDrive/Phone_calls/V2\")"
      ],
      "metadata": {
        "id": "OkH0ziEXn4q-"
      },
      "execution_count": null,
      "outputs": []
    },
    {
      "cell_type": "code",
      "source": [
        "handle_outliers_in_csv(\"Paveletskaya\", \"/content/drive/MyDrive/Phone_calls/V2\")"
      ],
      "metadata": {
        "colab": {
          "base_uri": "https://localhost:8080/"
        },
        "id": "7Y4roinToBxc",
        "outputId": "f529e796-f276-403e-bbf0-9b070723f289"
      },
      "execution_count": 5,
      "outputs": [
        {
          "output_type": "stream",
          "name": "stdout",
          "text": [
            "Линия 14: Найдено 76 колонок. Ожидалось 74.\n",
            "Линия 17: Найдено 82 колонок. Ожидалось 74.\n",
            "Линия 156: Найдено 76 колонок. Ожидалось 74.\n",
            "Линия 428: Найдено 78 колонок. Ожидалось 74.\n",
            "Линия 669: Найдено 76 колонок. Ожидалось 74.\n",
            "Линия 735: Найдено 78 колонок. Ожидалось 74.\n",
            "Линия 3399: Найдено 76 колонок. Ожидалось 74.\n",
            "Линия 5177: Найдено 78 колонок. Ожидалось 74.\n",
            "Линия 5179: Найдено 78 колонок. Ожидалось 74.\n",
            "Общее количество линий модифицировано для Paveletskaya: 9\n"
          ]
        }
      ]
    },
    {
      "cell_type": "code",
      "source": [
        "def process_collection_with_patterns(collection, patterns, base_path):\n",
        "\n",
        "    for pattern in patterns:\n",
        "\n",
        "        csv_path = os.path.join(base_path, f\"{collection}_without_outlier.csv\")\n",
        "        zip_path = os.path.join(base_path, f\"{collection}.zip\")\n",
        "        extract_folder = os.path.join(base_path, f\"filtered_files_{pattern}_{collection}\")\n",
        "        dest_dir = os.path.join(base_path, 'data', pattern_to_folder(pattern))\n",
        "\n",
        "        if not os.path.exists(extract_folder):\n",
        "            os.makedirs(extract_folder)\n",
        "        if not os.path.exists(dest_dir):\n",
        "            os.makedirs(dest_dir)\n",
        "\n",
        "        df = pd.read_csv(csv_path, delimiter=';', on_bad_lines='warn')\n",
        "        filtered_df = df[df[\"Теги\"].str.contains(pattern, na=False, regex=True)]\n",
        "        result_df = filtered_df[[\"Теги\", \"Идентификатор сессии звонка\"]]\n",
        "        result_csv_path = os.path.join(base_path, f\"Filtered_tags_{pattern}_{collection}.csv\")\n",
        "        result_df.to_csv(result_csv_path, index=False)\n",
        "\n",
        "        identifiers = filtered_df['Идентификатор сессии звонка'].tolist()\n",
        "\n",
        "        with zipfile.ZipFile(zip_path, 'r') as zip_ref:\n",
        "            matched_files = 0\n",
        "            missing_identifiers = []\n",
        "            for identifier in identifiers:\n",
        "                matched = False\n",
        "                for file in zip_ref.namelist():\n",
        "                    if str(identifier) in file:\n",
        "                        zip_ref.extract(file, extract_folder)\n",
        "                        os.rename(os.path.join(extract_folder, file), os.path.join(extract_folder, f\"{identifier}.mp3\"))\n",
        "                        matched = True\n",
        "                        matched_files += 1\n",
        "                        break\n",
        "                if not matched:\n",
        "                    missing_identifiers.append(identifier)\n",
        "\n",
        "            print(f\"Коллекция: {collection}, Pattern: {pattern}\")\n",
        "            print(f\"Общее количество совпадений: {matched_files}\")\n",
        "            print(f\"Ненайдено аудио записей: общее: {len(missing_identifiers)} и список: {missing_identifiers}\")\n",
        "\n",
        "        copy_mp3_files(extract_folder, dest_dir)\n",
        "        total_files = len([f for f in os.listdir(dest_dir) if os.path.isfile(os.path.join(dest_dir, f))])\n",
        "        print(f\"Общее количество файлов в {dest_dir}: {total_files}\")\n",
        "\n",
        "def copy_mp3_files(src_dir, dest_dir):\n",
        "    for filename in os.listdir(src_dir):\n",
        "        if filename.endswith('.mp3'):\n",
        "            shutil.copy(os.path.join(src_dir, filename), dest_dir)\n",
        "\n",
        "def pattern_to_folder(pattern):\n",
        "    mapping = {\n",
        "        'Нецелевой контакт': 'nontargets',\n",
        "        'Первичный целевой': 'targets',\n",
        "        'Вторичный целевой': 'secondarytargets',\n",
        "        'Нецелевой звонок': 'nontargets',\n",
        "        'Целевой_М108': 'targets',\n",
        "        'Повтор_М108': 'secondarytargets',\n",
        "        'Нецелевой контакт_М108': 'nontargets'\n",
        "    }\n",
        "    return mapping.get(pattern, 'unknown')"
      ],
      "metadata": {
        "id": "huEsySj6xgo8"
      },
      "execution_count": 64,
      "outputs": []
    },
    {
      "cell_type": "code",
      "source": [
        "process_collection_with_patterns('Headliner', ['Нецелевой звонок', 'Первичный целевой', 'Вторичный целевой'], '/content/drive/MyDrive/Phone_calls/V2')"
      ],
      "metadata": {
        "id": "unMMDE_Ag3Bm"
      },
      "execution_count": null,
      "outputs": []
    },
    {
      "cell_type": "code",
      "source": [
        "process_collection_with_patterns('Primavera', ['Целевой_М108', 'Повтор_М108', 'Нецелевой контакт_М108'], '/content/drive/MyDrive/Phone_calls/V2')"
      ],
      "metadata": {
        "id": "tr2wy7VWo05k"
      },
      "execution_count": null,
      "outputs": []
    },
    {
      "cell_type": "code",
      "source": [
        "process_collection_with_patterns('Paveletskaya', ['Целевой_М108', 'Повтор_М108', 'Нецелевой контакт'], '/content/drive/MyDrive/Phone_calls/V2')"
      ],
      "metadata": {
        "id": "mJMbFb5_p3zF"
      },
      "execution_count": null,
      "outputs": []
    },
    {
      "cell_type": "code",
      "source": [
        "classes = ['nontargets', 'secondarytargets', 'targets']\n",
        "for eachclass in classes:\n",
        "  total_files = len([f for f in os.listdir(f'/content/drive/MyDrive/Phone_calls/V2/data/{eachclass}') if os.path.isfile(os.path.join(f'/content/drive/MyDrive/Phone_calls/V2/data/{eachclass}', f))])\n",
        "  print(f\"Общее количество файлов в классе {eachclass}: {total_files}\")"
      ],
      "metadata": {
        "colab": {
          "base_uri": "https://localhost:8080/"
        },
        "id": "AYLLebPArQyk",
        "outputId": "5a3ded23-957f-49ca-e955-ad6011883085"
      },
      "execution_count": 10,
      "outputs": [
        {
          "output_type": "stream",
          "name": "stdout",
          "text": [
            "Общее количество файлов в классе nontargets: 919\n",
            "Общее количество файлов в классе secondarytargets: 630\n",
            "Общее количество файлов в классе targets: 1307\n"
          ]
        }
      ]
    },
    {
      "cell_type": "code",
      "source": [
        "# Функция загрузки аудио и вывода текстовой информации\n",
        "# о сигнале, а также проигрывателя аудио\n",
        "\n",
        "def load_audio(audio_path,       # путь к файлу с аудио\n",
        "               show_text=True,   # показывать ли текстовую сводку по аудио\n",
        "               show_player=True  # выводить ли проигрыватель в ячейку\n",
        "               ):\n",
        "    # Загрузка аудиофайла, на выходе:\n",
        "    # x  - массив данных временного ряда аудио\n",
        "    # sr - частота дискретизации временного ряда\n",
        "    x, sr = librosa.load(audio_path)\n",
        "\n",
        "    if show_text:\n",
        "        # Вывод текстовых данных о сигнале\n",
        "        print(f'Типы данных x и sr: {type(x)}, {type(sr)}')\n",
        "        print(f'Форма данных x: {x.shape}, sr = {sr}')\n",
        "        print('Продолжительность сигнала:', round(x.shape[0]/sr), 'с.\\n')\n",
        "\n",
        "    if show_player:\n",
        "        # Вывод проигрывателя в ячейку colab\n",
        "        ipd.display(ipd.Audio(audio_path))\n",
        "\n",
        "    # Возврат загруженных данных для дальнейшего использования\n",
        "    return x, sr"
      ],
      "metadata": {
        "id": "du7ueVzvroBw"
      },
      "execution_count": 11,
      "outputs": []
    },
    {
      "cell_type": "code",
      "source": [
        "directory_path = '/content/drive/MyDrive/Phone_calls/V2/data/targets'\n",
        "counter = 0\n",
        "for filename in os.listdir(directory_path):\n",
        "    if filename.endswith('.mp3'):\n",
        "        file_path = os.path.join(directory_path, filename)\n",
        "        x, sr = load_audio(file_path, show_text=False, show_player=False)\n",
        "        duration = len(x) / sr\n",
        "        if duration < 75:\n",
        "            os.remove(file_path)\n",
        "            # print(f\"Deleted {filename} due to short duration.\")\n",
        "            counter += 1\n",
        "print(f'Файлов удалено: {counter}')"
      ],
      "metadata": {
        "colab": {
          "base_uri": "https://localhost:8080/"
        },
        "id": "2w7DQyPHrj4N",
        "outputId": "891a4661-0a98-4dc2-d1a6-372237616c5c"
      },
      "execution_count": 12,
      "outputs": [
        {
          "output_type": "stream",
          "name": "stdout",
          "text": [
            "Файлов удалено: 103\n"
          ]
        }
      ]
    },
    {
      "cell_type": "code",
      "source": [
        "classes = ['nontargets', 'secondarytargets', 'targets']\n",
        "for eachclass in classes:\n",
        "  total_files = len([f for f in os.listdir(f'/content/drive/MyDrive/Phone_calls/V2/data/{eachclass}') if os.path.isfile(os.path.join(f'/content/drive/MyDrive/Phone_calls/V2/data/{eachclass}', f))])\n",
        "  print(f\"Общее количество файлов в классе {eachclass}: {total_files}\")"
      ],
      "metadata": {
        "colab": {
          "base_uri": "https://localhost:8080/"
        },
        "id": "heMY-X1Frslj",
        "outputId": "d21c8aa0-15a5-455c-c18b-f5ac91968496"
      },
      "execution_count": 32,
      "outputs": [
        {
          "output_type": "stream",
          "name": "stdout",
          "text": [
            "Общее количество файлов в классе nontargets: 919\n",
            "Общее количество файлов в классе secondarytargets: 630\n",
            "Общее количество файлов в классе targets: 1204\n"
          ]
        }
      ]
    },
    {
      "cell_type": "code",
      "source": [
        "def copy_random_files(base_path, class_name, target_count):\n",
        "    class_folder = os.path.join(base_path, 'data', class_name)\n",
        "    new_folder = os.path.join(base_path, 'subset_data', f\"{class_name}\")\n",
        "\n",
        "    if not os.path.exists(new_folder):\n",
        "        os.makedirs(new_folder)\n",
        "\n",
        "    file_list = [f for f in os.listdir(class_folder) if os.path.isfile(os.path.join(class_folder, f))]\n",
        "\n",
        "    selected_files = random.sample(file_list, target_count)\n",
        "\n",
        "    for filename in selected_files:\n",
        "        source = os.path.join(class_folder, filename)\n",
        "        destination = os.path.join(new_folder, filename)\n",
        "        shutil.copy2(source, destination)\n",
        "\n",
        "    print(f\"Скопировано {target_count} рандомных файлов из {class_folder} в {new_folder}.\")\n",
        "    print(f\"Общее количество файлов в {new_folder}: {len(os.listdir(new_folder))}\")"
      ],
      "metadata": {
        "id": "N0rDgaPfbSX3"
      },
      "execution_count": 33,
      "outputs": []
    },
    {
      "cell_type": "code",
      "source": [
        "base_path = '/content/drive/MyDrive/Phone_calls/V2'\n",
        "target_count = 630\n",
        "\n",
        "copy_random_files(base_path, 'nontargets', target_count)\n",
        "copy_random_files(base_path, 'targets', target_count)\n",
        "copy_random_files(base_path, 'secondarytargets', target_count)"
      ],
      "metadata": {
        "colab": {
          "base_uri": "https://localhost:8080/"
        },
        "id": "jRCQ-eqCbkmw",
        "outputId": "adc25f64-b727-4e83-82bb-4a381e0a0662"
      },
      "execution_count": 34,
      "outputs": [
        {
          "output_type": "stream",
          "name": "stdout",
          "text": [
            "Скопировано 630 рандомных файлов из /content/drive/MyDrive/Phone_calls/V2/data/nontargets в /content/drive/MyDrive/Phone_calls/V2/subset_data/nontargets.\n",
            "Общее количество файлов в /content/drive/MyDrive/Phone_calls/V2/subset_data/nontargets: 630\n",
            "Скопировано 630 рандомных файлов из /content/drive/MyDrive/Phone_calls/V2/data/targets в /content/drive/MyDrive/Phone_calls/V2/subset_data/targets.\n",
            "Общее количество файлов в /content/drive/MyDrive/Phone_calls/V2/subset_data/targets: 630\n",
            "Скопировано 630 рандомных файлов из /content/drive/MyDrive/Phone_calls/V2/data/secondarytargets в /content/drive/MyDrive/Phone_calls/V2/subset_data/secondarytargets.\n",
            "Общее количество файлов в /content/drive/MyDrive/Phone_calls/V2/subset_data/secondarytargets: 630\n"
          ]
        }
      ]
    },
    {
      "cell_type": "code",
      "source": [
        "nontargets_data = os.listdir('/content/drive/MyDrive/Phone_calls/V2/subset_data/nontargets')\n",
        "secondtargets_data = os.listdir('/content/drive/MyDrive/Phone_calls/V2/subset_data/secondarytargets')\n",
        "targets_data = os.listdir('/content/drive/MyDrive/Phone_calls/V2/subset_data/targets')\n",
        "print(f'nontargets length: {len(nontargets_data)}')\n",
        "print(f'secondtargets length: {len(secondtargets_data)}')\n",
        "print(f'targets length: {len(targets_data)}')"
      ],
      "metadata": {
        "colab": {
          "base_uri": "https://localhost:8080/"
        },
        "id": "0j6tltA2y9uM",
        "outputId": "74459be9-c77e-41d5-efb6-1ec1160aed9c"
      },
      "execution_count": 35,
      "outputs": [
        {
          "output_type": "stream",
          "name": "stdout",
          "text": [
            "nontargets length: 630\n",
            "secondtargets length: 630\n",
            "targets length: 630\n"
          ]
        }
      ]
    },
    {
      "cell_type": "code",
      "source": [
        "FILE_DIR = '/content/drive/MyDrive/Phone_calls/V2/subset_data'\n",
        "CLASS_LIST = os.listdir(FILE_DIR)\n",
        "CLASS_LIST.sort()\n",
        "CLASS_COUNT = len(CLASS_LIST)\n",
        "CLASS_FILES = 630                         # Общее количество файлов в каждом классе\n",
        "FILE_INDEX_TRAIN_SPLIT = 565               # Количество файлов каждого класса на основной набор\n",
        "VALIDATION_SPLIT = 0.1                    # Доля проверочной выборки в основном наборе\n",
        "DURATION_SEC = 200                         # Анализируемая длительность аудиосигнала\n",
        "N_FFT = 4096                              # Размер окна преобразования Фурье для расчета спектра\n",
        "HOP_LENGTH = 512                          # Объем данных для расчета одного набора признаков"
      ],
      "metadata": {
        "id": "W5ZRXumvzX0W"
      },
      "execution_count": 46,
      "outputs": []
    },
    {
      "cell_type": "code",
      "source": [
        "print(CLASS_LIST)"
      ],
      "metadata": {
        "colab": {
          "base_uri": "https://localhost:8080/"
        },
        "id": "29Y86XdfzcFL",
        "outputId": "5feec026-adb9-4288-e5ff-50ffe4146b3c"
      },
      "execution_count": 37,
      "outputs": [
        {
          "output_type": "stream",
          "name": "stdout",
          "text": [
            "['nontargets', 'secondarytargets', 'targets']\n"
          ]
        }
      ]
    },
    {
      "cell_type": "code",
      "source": [
        "# Функция параметризации аудио\n",
        "\n",
        "def get_features(y,                     # волновое представление сигнала\n",
        "                 sr,                    # частота дискретизации сигнала y\n",
        "                 n_fft=N_FFT,           # размер скользящего окна БПФ\n",
        "                 hop_length=HOP_LENGTH  # шаг скользящего окна БПФ\n",
        "                 ):\n",
        "    # Вычисление различных параметров (признаков) аудио\n",
        "\n",
        "    # Среднеквадратическая амплитуда\n",
        "    rmse = librosa.feature.rms(y=y, hop_length=hop_length)\n",
        "    # Спектральный центроид\n",
        "    spec_cent = librosa.feature.spectral_centroid(y=y, sr=sr, n_fft=n_fft, hop_length=hop_length)\n",
        "    # Ширина полосы частот\n",
        "    spec_bw = librosa.feature.spectral_bandwidth(y=y, sr=sr, n_fft=n_fft, hop_length=hop_length)\n",
        "    # Спектральный спад частоты\n",
        "    rolloff = librosa.feature.spectral_rolloff(y=y, sr=sr, n_fft=n_fft, hop_length=hop_length)\n",
        "    # Пересечения нуля\n",
        "    zcr = librosa.feature.zero_crossing_rate(y, hop_length=hop_length)\n",
        "    # Мел-кепстральные коэффициенты\n",
        "    mfcc = librosa.feature.mfcc(y=y, sr=sr, n_fft=n_fft, hop_length=hop_length)\n",
        "    # Хромаграмма\n",
        "    chroma_stft = librosa.feature.chroma_stft(y=y, sr=sr, n_fft=n_fft, hop_length=hop_length)\n",
        "\n",
        "    # Сборка параметров в общий список:\n",
        "    # На один файл один усредненный вектор признаков\n",
        "    features = {'rmse': rmse.mean(axis=1, keepdims=True),\n",
        "                'spct': spec_cent.mean(axis=1, keepdims=True),\n",
        "                'spbw': spec_bw.mean(axis=1, keepdims=True),\n",
        "                'roff': rolloff.mean(axis=1, keepdims=True),\n",
        "                'zcr' : zcr.mean(axis=1, keepdims=True),\n",
        "                'mfcc': mfcc.mean(axis=1, keepdims=True),\n",
        "                'stft': chroma_stft.mean(axis=1, keepdims=True)}\n",
        "\n",
        "    return features"
      ],
      "metadata": {
        "id": "tr7Arl331zUj"
      },
      "execution_count": 38,
      "outputs": []
    },
    {
      "cell_type": "code",
      "source": [
        "# Функция объединения признаков в набор векторов\n",
        "\n",
        "def stack_features(feat  # словарь признаков, отдельные векторы по ключу каждого признака\n",
        "                   ):\n",
        "    features = None\n",
        "    for v in feat.values():\n",
        "        features = np.vstack((features, v)) if features is not None else v\n",
        "\n",
        "    return features.T"
      ],
      "metadata": {
        "id": "66tSApEP11ac"
      },
      "execution_count": 39,
      "outputs": []
    },
    {
      "cell_type": "code",
      "source": [
        "# Проверка параметризации одного произведения\n",
        "y, sr = librosa.load(f'{FILE_DIR}/targets/2906114070.mp3', mono=True, duration=DURATION_SEC)\n",
        "features = get_features(y, sr)"
      ],
      "metadata": {
        "id": "rYYjDWT514-8"
      },
      "execution_count": 40,
      "outputs": []
    },
    {
      "cell_type": "code",
      "source": [
        "print({k: v.shape for k, v in features.items()})"
      ],
      "metadata": {
        "colab": {
          "base_uri": "https://localhost:8080/"
        },
        "id": "-Dqrws9A18r8",
        "outputId": "5e960614-2e5c-46ae-ba56-2c505a4b588e"
      },
      "execution_count": 41,
      "outputs": [
        {
          "output_type": "stream",
          "name": "stdout",
          "text": [
            "{'rmse': (1, 1), 'spct': (1, 1), 'spbw': (1, 1), 'roff': (1, 1), 'zcr': (1, 1), 'mfcc': (20, 1), 'stft': (12, 1)}\n"
          ]
        }
      ]
    },
    {
      "cell_type": "code",
      "source": [
        "# Проверка формирования набора признаков\n",
        "feature_set = stack_features(features)\n",
        "feature_set.shape"
      ],
      "metadata": {
        "colab": {
          "base_uri": "https://localhost:8080/"
        },
        "id": "wnudR3RB1_nX",
        "outputId": "bd76e3ec-05c7-4244-e554-1b7441d2f39d"
      },
      "execution_count": 42,
      "outputs": [
        {
          "output_type": "execute_result",
          "data": {
            "text/plain": [
              "(1, 37)"
            ]
          },
          "metadata": {},
          "execution_count": 42
        }
      ]
    },
    {
      "cell_type": "code",
      "source": [
        "# Функция формирования набора признаков и метки класса для аудиофайла\n",
        "\n",
        "def get_feature_list_from_file(class_index,  # индекс класса файла song_name\n",
        "                               song_name,    # имя аудиофайла\n",
        "                               duration_sec  # длительность аудио в секундах\n",
        "                               ):\n",
        "    # Загрузка в y первых duration_sec секунд аудиосигнала\n",
        "    y, sr = librosa.load(song_name, mono=True, duration=duration_sec)\n",
        "\n",
        "    # Извлечение параметров из аудиосигнала\n",
        "    features = get_features(y, sr)\n",
        "    feature_set = stack_features(features)\n",
        "\n",
        "    # Перевод номера класса в one hot encoding\n",
        "    y_label = to_categorical(class_index, CLASS_COUNT)\n",
        "\n",
        "    return feature_set, y_label"
      ],
      "metadata": {
        "id": "weWhfkV52BxC"
      },
      "execution_count": 43,
      "outputs": []
    },
    {
      "cell_type": "code",
      "source": [
        "# Функция формирования подвыборки признаков и меток класса для одного файла\n",
        "\n",
        "def process_file(class_index,  # индекс класса аудиофайла\n",
        "                 file_index,   # индекс (порядковый номер) аудиофайла в папке класса\n",
        "                 duration_sec  # длительность аудио в секундах\n",
        "                 ):\n",
        "    x_list = []\n",
        "    y_list = []\n",
        "    class_name = CLASS_LIST[class_index]\n",
        "\n",
        "    if class_name == \"nontargets\":\n",
        "        file_name = nontargets_data[file_index]\n",
        "    elif class_name == \"secondarytargets\":\n",
        "        file_name = secondtargets_data[file_index]\n",
        "    elif class_name == \"targets\":\n",
        "        file_name = targets_data[file_index]\n",
        "    else:\n",
        "        raise ValueError(f\"Unknown class name: {class_name}\")\n",
        "    # Извлечение имени произведения\n",
        "    song_name = f'{FILE_DIR}/{class_name}/{file_name}'\n",
        "\n",
        "    # Выборка признаков и метки класса для произведения\n",
        "    feature_set, y_label = get_feature_list_from_file(class_index,\n",
        "                                                        song_name,\n",
        "                                                        duration_sec)\n",
        "\n",
        "    # Добавление данных в наборы\n",
        "    for j in range(feature_set.shape[0]):\n",
        "        x_list.append(feature_set[j])\n",
        "        y_list.append(y_label)\n",
        "\n",
        "    # Возврат имени файла и numpy-массивов призанков и меток класса\n",
        "    return song_name, \\\n",
        "           np.array(x_list).astype('float32'), \\\n",
        "           np.array(y_list).astype('float32')"
      ],
      "metadata": {
        "id": "PwXb6WQw2ESK"
      },
      "execution_count": 48,
      "outputs": []
    },
    {
      "cell_type": "code",
      "source": [
        "# Функция формирования набора данных из файлов всех классов по диапазону номеров файлов\n",
        "\n",
        "def extract_data(file_index_start,          # начальный индекс аудиофайла\n",
        "                 file_index_end,            # конечный индекс аудиофайла (не достигая)\n",
        "                 duration_sec=DURATION_SEC  # длительность аудио в секундах\n",
        "                 ):\n",
        "\n",
        "    # Списки для последовательностей входных данных и меток класса\n",
        "    x_data = None\n",
        "    y_data = None\n",
        "\n",
        "    # Фиксация времени старта формирования выборки\n",
        "    curr_time = time.time()\n",
        "\n",
        "    # Для всех классов:\n",
        "    for class_index in range(len(CLASS_LIST)):\n",
        "        # Для всех файлов текущего класса из заданного диапазона номеров:\n",
        "        for file_index in range(file_index_start, file_index_end):\n",
        "            # Обработка одного файла и добавление данных к общим массивам\n",
        "            _, file_x_data, file_y_data = process_file(class_index, file_index, duration_sec)\n",
        "            x_data = file_x_data if x_data is None else np.vstack([x_data, file_x_data])\n",
        "            y_data = file_y_data if y_data is None else np.vstack([y_data, file_y_data])\n",
        "            # print(f'Жанр {CLASS_LIST[class_index]} - файл {file_index} готов -> {round(time.time() - curr_time)} c')\n",
        "\n",
        "        # Вывод информации о готовности обработки датасета\n",
        "        print(f'Жанр {CLASS_LIST[class_index]} готов -> {round(time.time() - curr_time)} c')\n",
        "        curr_time = time.time()\n",
        "\n",
        "    # Возврат массивов набора данных\n",
        "    return x_data, y_data"
      ],
      "metadata": {
        "id": "31ScvcH42Gcb"
      },
      "execution_count": 45,
      "outputs": []
    },
    {
      "cell_type": "code",
      "source": [
        "x_train_data, y_train_data = extract_data(0, FILE_INDEX_TRAIN_SPLIT)"
      ],
      "metadata": {
        "colab": {
          "base_uri": "https://localhost:8080/"
        },
        "id": "AaZZaZfz2JU7",
        "outputId": "d16bc26d-9164-4879-bb6f-835f7a62d032"
      },
      "execution_count": 49,
      "outputs": [
        {
          "output_type": "stream",
          "name": "stdout",
          "text": [
            "Жанр nontargets готов -> 642 c\n",
            "Жанр secondarytargets готов -> 2302 c\n",
            "Жанр targets готов -> 3673 c\n"
          ]
        }
      ]
    },
    {
      "cell_type": "code",
      "source": [
        "import pickle\n",
        "# Сохранение/восстановление датасета аудио\n",
        "# Данные привязаны к порядку следования меток классов!\n",
        "# Порядок классов фиксирован сортировкой списка меток классов\n",
        "with open('/content/drive/MyDrive/Phone_calls/V2/model_data/audio_data_mean.pickle', 'wb') as f:\n",
        "    pickle.dump((x_train_data, y_train_data), f)"
      ],
      "metadata": {
        "id": "U4Yhf8VOWbi5"
      },
      "execution_count": 52,
      "outputs": []
    },
    {
      "cell_type": "code",
      "source": [
        "with open('/content/drive/MyDrive/Phone_calls/V2/model_data/audio_data_mean.pickle', 'rb') as f:\n",
        "    x_train_data, y_train_data = pickle.load(f)"
      ],
      "metadata": {
        "id": "cOu_GwFjW-WI"
      },
      "execution_count": 53,
      "outputs": []
    },
    {
      "cell_type": "code",
      "source": [
        "print(np.argmax(y_train_data[560:1166], axis=1))"
      ],
      "metadata": {
        "colab": {
          "base_uri": "https://localhost:8080/"
        },
        "id": "Hwpo_scnXDsx",
        "outputId": "9e4bac3f-c8a9-43dc-ff30-93a16227cfcb"
      },
      "execution_count": 54,
      "outputs": [
        {
          "output_type": "stream",
          "name": "stdout",
          "text": [
            "[0 0 0 0 0 1 1 1 1 1 1 1 1 1 1 1 1 1 1 1 1 1 1 1 1 1 1 1 1 1 1 1 1 1 1 1 1\n",
            " 1 1 1 1 1 1 1 1 1 1 1 1 1 1 1 1 1 1 1 1 1 1 1 1 1 1 1 1 1 1 1 1 1 1 1 1 1\n",
            " 1 1 1 1 1 1 1 1 1 1 1 1 1 1 1 1 1 1 1 1 1 1 1 1 1 1 1 1 1 1 1 1 1 1 1 1 1\n",
            " 1 1 1 1 1 1 1 1 1 1 1 1 1 1 1 1 1 1 1 1 1 1 1 1 1 1 1 1 1 1 1 1 1 1 1 1 1\n",
            " 1 1 1 1 1 1 1 1 1 1 1 1 1 1 1 1 1 1 1 1 1 1 1 1 1 1 1 1 1 1 1 1 1 1 1 1 1\n",
            " 1 1 1 1 1 1 1 1 1 1 1 1 1 1 1 1 1 1 1 1 1 1 1 1 1 1 1 1 1 1 1 1 1 1 1 1 1\n",
            " 1 1 1 1 1 1 1 1 1 1 1 1 1 1 1 1 1 1 1 1 1 1 1 1 1 1 1 1 1 1 1 1 1 1 1 1 1\n",
            " 1 1 1 1 1 1 1 1 1 1 1 1 1 1 1 1 1 1 1 1 1 1 1 1 1 1 1 1 1 1 1 1 1 1 1 1 1\n",
            " 1 1 1 1 1 1 1 1 1 1 1 1 1 1 1 1 1 1 1 1 1 1 1 1 1 1 1 1 1 1 1 1 1 1 1 1 1\n",
            " 1 1 1 1 1 1 1 1 1 1 1 1 1 1 1 1 1 1 1 1 1 1 1 1 1 1 1 1 1 1 1 1 1 1 1 1 1\n",
            " 1 1 1 1 1 1 1 1 1 1 1 1 1 1 1 1 1 1 1 1 1 1 1 1 1 1 1 1 1 1 1 1 1 1 1 1 1\n",
            " 1 1 1 1 1 1 1 1 1 1 1 1 1 1 1 1 1 1 1 1 1 1 1 1 1 1 1 1 1 1 1 1 1 1 1 1 1\n",
            " 1 1 1 1 1 1 1 1 1 1 1 1 1 1 1 1 1 1 1 1 1 1 1 1 1 1 1 1 1 1 1 1 1 1 1 1 1\n",
            " 1 1 1 1 1 1 1 1 1 1 1 1 1 1 1 1 1 1 1 1 1 1 1 1 1 1 1 1 1 1 1 1 1 1 1 1 1\n",
            " 1 1 1 1 1 1 1 1 1 1 1 1 1 1 1 1 1 1 1 1 1 1 1 1 1 1 1 1 1 1 1 1 1 1 1 1 1\n",
            " 1 1 1 1 1 1 1 1 1 1 1 1 1 1 1 2 2 2 2 2 2 2 2 2 2 2 2 2 2 2 2 2 2 2 2 2 2\n",
            " 2 2 2 2 2 2 2 2 2 2 2 2 2 2]\n"
          ]
        }
      ]
    },
    {
      "cell_type": "code",
      "source": [
        "# Вывод формы данных обучающего набора\n",
        "print(x_train_data.shape, x_train_data.dtype)\n",
        "print(y_train_data.shape, y_train_data.dtype)"
      ],
      "metadata": {
        "colab": {
          "base_uri": "https://localhost:8080/"
        },
        "id": "tWiStRQoXGdt",
        "outputId": "49ed460c-9d75-4038-96db-1f41a7099501"
      },
      "execution_count": 55,
      "outputs": [
        {
          "output_type": "stream",
          "name": "stdout",
          "text": [
            "(1695, 37) float32\n",
            "(1695, 3) float32\n"
          ]
        }
      ]
    },
    {
      "cell_type": "code",
      "source": [
        "# Нормирование признаков в соответствии со стандартным нормальным распределением\n",
        "x_scaler = StandardScaler()\n",
        "x_train_data_scaled = x_scaler.fit_transform(x_train_data)"
      ],
      "metadata": {
        "id": "dSomKZenXJkM"
      },
      "execution_count": 56,
      "outputs": []
    },
    {
      "cell_type": "code",
      "source": [
        "# Разделение набора данных на обучающую и проверочную выборки\n",
        "# Параметр stratify указывает метки классов, по которым происходит балансировка разделения\n",
        "x_train, x_val, y_train, y_val = train_test_split(x_train_data_scaled,\n",
        "                                                  y_train_data,\n",
        "                                                  stratify=y_train_data,\n",
        "                                                  test_size=VALIDATION_SPLIT)"
      ],
      "metadata": {
        "id": "dYsonsTAXMJq"
      },
      "execution_count": 57,
      "outputs": []
    },
    {
      "cell_type": "code",
      "source": [
        "# Проверка нормирования\n",
        "print(x_train[0])"
      ],
      "metadata": {
        "colab": {
          "base_uri": "https://localhost:8080/"
        },
        "id": "3xkzpwozXOXw",
        "outputId": "c81bee41-220c-4b26-afd3-3ff58b5682b6"
      },
      "execution_count": 58,
      "outputs": [
        {
          "output_type": "stream",
          "name": "stdout",
          "text": [
            "[-8.0107582e-01  2.2164457e-01 -5.9256079e-03  2.0580964e-01\n",
            "  7.0900291e-02  1.1191319e-03 -4.3521941e-01  9.6331723e-02\n",
            "  1.3540144e-01  2.4845549e-01 -3.2656219e-02 -1.2218077e+00\n",
            " -1.8886469e-01  6.7105478e-01 -5.3534007e-01 -5.1117611e-01\n",
            "  1.0173414e-02 -5.7571745e-01  3.7308463e-01  6.2786281e-01\n",
            " -1.2761772e+00 -1.2474687e+00  5.4949719e-01 -8.5104120e-01\n",
            " -1.5963324e+00 -1.6201641e-01  1.3393575e-01 -1.1609055e-01\n",
            " -2.3702140e-01 -3.7720200e-01 -4.3613598e-01 -1.5213500e-01\n",
            " -5.0001949e-02  8.6536385e-02  9.4480537e-02 -1.1450902e-01\n",
            " -1.2998492e-01]\n"
          ]
        }
      ]
    },
    {
      "cell_type": "code",
      "source": [
        "# Проверка формы и типа данных обучающей и проверочной выборок\n",
        "print(x_train.shape, x_train.dtype)\n",
        "print(y_train.shape, y_train.dtype)\n",
        "print()\n",
        "print(x_val.shape, x_val.dtype)\n",
        "print(y_val.shape, y_val.dtype)"
      ],
      "metadata": {
        "colab": {
          "base_uri": "https://localhost:8080/"
        },
        "id": "z3kr_3x6XQlR",
        "outputId": "7e941f51-30a2-4326-fe53-d9f17f6fa57f"
      },
      "execution_count": 59,
      "outputs": [
        {
          "output_type": "stream",
          "name": "stdout",
          "text": [
            "(1525, 37) float32\n",
            "(1525, 3) float32\n",
            "\n",
            "(170, 37) float32\n",
            "(170, 3) float32\n"
          ]
        }
      ]
    },
    {
      "cell_type": "code",
      "source": [
        "# Проверка сбалансированности выборок по классам\n",
        "plt.hist(np.argmax(y_train, axis=1), CLASS_COUNT)\n",
        "plt.hist(np.argmax(y_val, axis=1), CLASS_COUNT)\n",
        "plt.show()"
      ],
      "metadata": {
        "colab": {
          "base_uri": "https://localhost:8080/",
          "height": 430
        },
        "id": "DAEqjuNuXUug",
        "outputId": "6e3d1df9-55b2-4b5a-b5ff-041895b15451"
      },
      "execution_count": 60,
      "outputs": [
        {
          "output_type": "display_data",
          "data": {
            "text/plain": [
              "<Figure size 640x480 with 1 Axes>"
            ],
            "image/png": "[encoded data removed]"
          },
          "metadata": {}
        }
      ]
    },
    {
      "cell_type": "code",
      "source": [
        "# Функция сборки и обучения классификатора на полносвязных слоях\n",
        "\n",
        "def create_train_classifier(in_shape,      # форма входных данных модели\n",
        "                            epochs=200,    # количество эпох обучения\n",
        "                            batch_size=20  # размер батча\n",
        "                            ):\n",
        "    model = Sequential()\n",
        "    model.add(Dense(256, activation='relu', input_shape=in_shape))\n",
        "    model.add(Dropout(0.3))\n",
        "    model.add(BatchNormalization())\n",
        "    model.add(Dense(128, activation='relu'))\n",
        "    model.add(Dropout(0.3))\n",
        "    model.add(BatchNormalization())\n",
        "    model.add(Dense(64, activation='relu'))\n",
        "    model.add(Dropout(0.3))\n",
        "    model.add(BatchNormalization())\n",
        "    model.add(Dense(CLASS_COUNT, activation='softmax'))\n",
        "\n",
        "    # Компиляция модели\n",
        "    model.compile(optimizer=Adam(lr=1e-4),\n",
        "                loss='categorical_crossentropy',\n",
        "                metrics=['accuracy'])\n",
        "\n",
        "    model.summary()\n",
        "\n",
        "    # Обучение модели\n",
        "    history = model.fit(x_train,\n",
        "                        y_train,\n",
        "                        epochs=epochs,\n",
        "                        batch_size=batch_size,\n",
        "                        validation_data=(x_val, y_val))\n",
        "\n",
        "    # Вывод графика точности распознавания на обучающей и проверочной выборках\n",
        "    plt.figure(figsize=(12, 5))\n",
        "    plt.plot(history.history['accuracy'], label='Точность на обучающем наборе')\n",
        "    plt.plot(history.history['val_accuracy'], label='Точность на проверочном наборе')\n",
        "    plt.xticks(range(0, epochs, 10))\n",
        "    plt.xlabel('Эпоха')\n",
        "    plt.ylabel('Точность')\n",
        "    plt.legend()\n",
        "    plt.show()\n",
        "\n",
        "    return model"
      ],
      "metadata": {
        "id": "u3hbrFzFXX8y"
      },
      "execution_count": 61,
      "outputs": []
    },
    {
      "cell_type": "code",
      "source": [
        "model = create_train_classifier(x_train.shape[1:])"
      ],
      "metadata": {
        "colab": {
          "base_uri": "https://localhost:8080/",
          "height": 1000
        },
        "id": "X000AAwuXaJp",
        "outputId": "b7cb2171-b99d-4595-b704-3a4ae48fd966"
      },
      "execution_count": 62,
      "outputs": [
        {
          "output_type": "stream",
          "name": "stderr",
          "text": [
            "WARNING:absl:`lr` is deprecated in Keras optimizer, please use `learning_rate` or use the legacy optimizer, e.g.,tf.keras.optimizers.legacy.Adam.\n"
          ]
        },
        {
          "output_type": "stream",
          "name": "stdout",
          "text": [
            "Model: \"sequential\"\n",
            "_________________________________________________________________\n",
            " Layer (type)                Output Shape              Param #   \n",
            "=================================================================\n",
            " dense (Dense)               (None, 256)               9728      \n",
            "                                                                 \n",
            " dropout (Dropout)           (None, 256)               0         \n",
            "                                                                 \n",
            " batch_normalization (Batch  (None, 256)               1024      \n",
            " Normalization)                                                  \n",
            "                                                                 \n",
            " dense_1 (Dense)             (None, 128)               32896     \n",
            "                                                                 \n",
            " dropout_1 (Dropout)         (None, 128)               0         \n",
            "                                                                 \n",
            " batch_normalization_1 (Bat  (None, 128)               512       \n",
            " chNormalization)                                                \n",
            "                                                                 \n",
            " dense_2 (Dense)             (None, 64)                8256      \n",
            "                                                                 \n",
            " dropout_2 (Dropout)         (None, 64)                0         \n",
            "                                                                 \n",
            " batch_normalization_2 (Bat  (None, 64)                256       \n",
            " chNormalization)                                                \n",
            "                                                                 \n",
            " dense_3 (Dense)             (None, 3)                 195       \n",
            "                                                                 \n",
            "=================================================================\n",
            "Total params: 52867 (206.51 KB)\n",
            "Trainable params: 51971 (203.01 KB)\n",
            "Non-trainable params: 896 (3.50 KB)\n",
            "_________________________________________________________________\n",
            "Epoch 1/200\n",
            "77/77 [==============================] - 10s 23ms/step - loss: 1.1800 - accuracy: 0.4649 - val_loss: 0.8310 - val_accuracy: 0.5765\n",
            "Epoch 2/200\n",
            "77/77 [==============================] - 1s 15ms/step - loss: 1.0229 - accuracy: 0.5180 - val_loss: 0.8005 - val_accuracy: 0.5765\n",
            "Epoch 3/200\n",
            "77/77 [==============================] - 2s 24ms/step - loss: 0.9863 - accuracy: 0.5462 - val_loss: 0.7720 - val_accuracy: 0.5824\n",
            "Epoch 4/200\n",
            "77/77 [==============================] - 2s 20ms/step - loss: 0.9222 - accuracy: 0.5705 - val_loss: 0.7600 - val_accuracy: 0.6176\n",
            "Epoch 5/200\n",
            "77/77 [==============================] - 2s 22ms/step - loss: 0.8703 - accuracy: 0.5934 - val_loss: 0.7570 - val_accuracy: 0.5941\n",
            "Epoch 6/200\n",
            "77/77 [==============================] - 1s 18ms/step - loss: 0.8506 - accuracy: 0.6079 - val_loss: 0.7443 - val_accuracy: 0.6235\n",
            "Epoch 7/200\n",
            "77/77 [==============================] - 1s 18ms/step - loss: 0.8301 - accuracy: 0.6184 - val_loss: 0.7315 - val_accuracy: 0.6176\n",
            "Epoch 8/200\n",
            "77/77 [==============================] - 1s 12ms/step - loss: 0.8014 - accuracy: 0.6256 - val_loss: 0.7163 - val_accuracy: 0.6471\n",
            "Epoch 9/200\n",
            "77/77 [==============================] - 1s 9ms/step - loss: 0.7934 - accuracy: 0.6334 - val_loss: 0.7068 - val_accuracy: 0.6588\n",
            "Epoch 10/200\n",
            "77/77 [==============================] - 1s 9ms/step - loss: 0.8003 - accuracy: 0.6328 - val_loss: 0.6917 - val_accuracy: 0.6647\n",
            "Epoch 11/200\n",
            "77/77 [==============================] - 1s 10ms/step - loss: 0.7958 - accuracy: 0.6420 - val_loss: 0.6958 - val_accuracy: 0.6882\n",
            "Epoch 12/200\n",
            "77/77 [==============================] - 1s 8ms/step - loss: 0.7820 - accuracy: 0.6413 - val_loss: 0.6973 - val_accuracy: 0.6647\n",
            "Epoch 13/200\n",
            "77/77 [==============================] - 0s 6ms/step - loss: 0.7495 - accuracy: 0.6590 - val_loss: 0.7085 - val_accuracy: 0.6471\n",
            "Epoch 14/200\n",
            "77/77 [==============================] - 1s 7ms/step - loss: 0.7368 - accuracy: 0.6721 - val_loss: 0.6937 - val_accuracy: 0.6706\n",
            "Epoch 15/200\n",
            "77/77 [==============================] - 0s 6ms/step - loss: 0.7133 - accuracy: 0.6761 - val_loss: 0.6934 - val_accuracy: 0.6882\n",
            "Epoch 16/200\n",
            "77/77 [==============================] - 0s 6ms/step - loss: 0.7328 - accuracy: 0.6800 - val_loss: 0.7036 - val_accuracy: 0.6529\n",
            "Epoch 17/200\n",
            "77/77 [==============================] - 0s 6ms/step - loss: 0.7034 - accuracy: 0.6852 - val_loss: 0.7041 - val_accuracy: 0.6588\n",
            "Epoch 18/200\n",
            "77/77 [==============================] - 0s 6ms/step - loss: 0.7517 - accuracy: 0.6557 - val_loss: 0.6825 - val_accuracy: 0.6824\n",
            "Epoch 19/200\n",
            "77/77 [==============================] - 0s 6ms/step - loss: 0.7267 - accuracy: 0.6695 - val_loss: 0.6890 - val_accuracy: 0.6294\n",
            "Epoch 20/200\n",
            "77/77 [==============================] - 1s 7ms/step - loss: 0.7265 - accuracy: 0.6748 - val_loss: 0.6793 - val_accuracy: 0.6647\n",
            "Epoch 21/200\n",
            "77/77 [==============================] - 0s 6ms/step - loss: 0.7306 - accuracy: 0.6636 - val_loss: 0.6840 - val_accuracy: 0.6471\n",
            "Epoch 22/200\n",
            "77/77 [==============================] - 0s 6ms/step - loss: 0.6928 - accuracy: 0.6820 - val_loss: 0.6656 - val_accuracy: 0.6765\n",
            "Epoch 23/200\n",
            "77/77 [==============================] - 1s 7ms/step - loss: 0.7366 - accuracy: 0.6754 - val_loss: 0.6829 - val_accuracy: 0.6647\n",
            "Epoch 24/200\n",
            "77/77 [==============================] - 1s 8ms/step - loss: 0.7061 - accuracy: 0.6800 - val_loss: 0.6690 - val_accuracy: 0.6647\n",
            "Epoch 25/200\n",
            "77/77 [==============================] - 0s 6ms/step - loss: 0.6907 - accuracy: 0.6997 - val_loss: 0.6721 - val_accuracy: 0.6529\n",
            "Epoch 26/200\n",
            "77/77 [==============================] - 1s 9ms/step - loss: 0.6793 - accuracy: 0.6951 - val_loss: 0.6795 - val_accuracy: 0.6471\n",
            "Epoch 27/200\n",
            "77/77 [==============================] - 1s 9ms/step - loss: 0.6649 - accuracy: 0.7049 - val_loss: 0.6579 - val_accuracy: 0.6765\n",
            "Epoch 28/200\n",
            "77/77 [==============================] - 1s 9ms/step - loss: 0.6688 - accuracy: 0.6997 - val_loss: 0.6616 - val_accuracy: 0.6706\n",
            "Epoch 29/200\n",
            "77/77 [==============================] - 1s 9ms/step - loss: 0.6811 - accuracy: 0.7075 - val_loss: 0.6654 - val_accuracy: 0.6706\n",
            "Epoch 30/200\n",
            "77/77 [==============================] - 1s 10ms/step - loss: 0.6629 - accuracy: 0.7174 - val_loss: 0.6725 - val_accuracy: 0.6765\n",
            "Epoch 31/200\n",
            "77/77 [==============================] - 2s 20ms/step - loss: 0.6450 - accuracy: 0.7298 - val_loss: 0.6830 - val_accuracy: 0.6471\n",
            "Epoch 32/200\n",
            "77/77 [==============================] - 1s 9ms/step - loss: 0.6537 - accuracy: 0.7148 - val_loss: 0.6727 - val_accuracy: 0.6706\n",
            "Epoch 33/200\n",
            "77/77 [==============================] - 0s 6ms/step - loss: 0.6618 - accuracy: 0.7213 - val_loss: 0.6778 - val_accuracy: 0.6765\n",
            "Epoch 34/200\n",
            "77/77 [==============================] - 1s 7ms/step - loss: 0.6574 - accuracy: 0.7141 - val_loss: 0.6762 - val_accuracy: 0.6471\n",
            "Epoch 35/200\n",
            "77/77 [==============================] - 1s 6ms/step - loss: 0.6429 - accuracy: 0.7161 - val_loss: 0.6734 - val_accuracy: 0.6471\n",
            "Epoch 36/200\n",
            "77/77 [==============================] - 0s 6ms/step - loss: 0.6425 - accuracy: 0.7089 - val_loss: 0.7021 - val_accuracy: 0.6471\n",
            "Epoch 37/200\n",
            "77/77 [==============================] - 1s 7ms/step - loss: 0.6504 - accuracy: 0.7108 - val_loss: 0.6876 - val_accuracy: 0.6471\n",
            "Epoch 38/200\n",
            "77/77 [==============================] - 1s 6ms/step - loss: 0.6248 - accuracy: 0.7259 - val_loss: 0.6971 - val_accuracy: 0.6529\n",
            "Epoch 39/200\n",
            "77/77 [==============================] - 1s 7ms/step - loss: 0.6133 - accuracy: 0.7390 - val_loss: 0.6847 - val_accuracy: 0.6471\n",
            "Epoch 40/200\n",
            "77/77 [==============================] - 1s 7ms/step - loss: 0.6561 - accuracy: 0.7141 - val_loss: 0.7069 - val_accuracy: 0.6412\n",
            "Epoch 41/200\n",
            "77/77 [==============================] - 1s 6ms/step - loss: 0.6532 - accuracy: 0.7167 - val_loss: 0.7040 - val_accuracy: 0.6529\n",
            "Epoch 42/200\n",
            "77/77 [==============================] - 0s 6ms/step - loss: 0.6412 - accuracy: 0.7226 - val_loss: 0.7042 - val_accuracy: 0.6471\n",
            "Epoch 43/200\n",
            "77/77 [==============================] - 1s 7ms/step - loss: 0.6408 - accuracy: 0.7239 - val_loss: 0.7032 - val_accuracy: 0.6412\n",
            "Epoch 44/200\n",
            "77/77 [==============================] - 1s 7ms/step - loss: 0.6046 - accuracy: 0.7390 - val_loss: 0.7195 - val_accuracy: 0.6471\n",
            "Epoch 45/200\n",
            "77/77 [==============================] - 1s 11ms/step - loss: 0.6261 - accuracy: 0.7325 - val_loss: 0.7100 - val_accuracy: 0.6235\n",
            "Epoch 46/200\n",
            "77/77 [==============================] - 1s 8ms/step - loss: 0.6260 - accuracy: 0.7430 - val_loss: 0.7190 - val_accuracy: 0.6353\n",
            "Epoch 47/200\n",
            "77/77 [==============================] - 1s 11ms/step - loss: 0.5801 - accuracy: 0.7449 - val_loss: 0.7232 - val_accuracy: 0.6412\n",
            "Epoch 48/200\n",
            "77/77 [==============================] - 1s 11ms/step - loss: 0.6174 - accuracy: 0.7469 - val_loss: 0.7569 - val_accuracy: 0.6294\n",
            "Epoch 49/200\n",
            "77/77 [==============================] - 2s 21ms/step - loss: 0.6210 - accuracy: 0.7357 - val_loss: 0.7165 - val_accuracy: 0.6529\n",
            "Epoch 50/200\n",
            "77/77 [==============================] - 1s 10ms/step - loss: 0.5991 - accuracy: 0.7403 - val_loss: 0.7345 - val_accuracy: 0.6471\n",
            "Epoch 51/200\n",
            "77/77 [==============================] - 1s 10ms/step - loss: 0.6100 - accuracy: 0.7390 - val_loss: 0.7251 - val_accuracy: 0.6529\n",
            "Epoch 52/200\n",
            "77/77 [==============================] - 1s 10ms/step - loss: 0.6071 - accuracy: 0.7416 - val_loss: 0.6911 - val_accuracy: 0.6706\n",
            "Epoch 53/200\n",
            "77/77 [==============================] - 1s 9ms/step - loss: 0.5890 - accuracy: 0.7495 - val_loss: 0.7016 - val_accuracy: 0.6765\n",
            "Epoch 54/200\n",
            "77/77 [==============================] - 1s 10ms/step - loss: 0.5846 - accuracy: 0.7443 - val_loss: 0.7144 - val_accuracy: 0.6412\n",
            "Epoch 55/200\n",
            "77/77 [==============================] - 0s 6ms/step - loss: 0.5854 - accuracy: 0.7495 - val_loss: 0.7322 - val_accuracy: 0.6588\n",
            "Epoch 56/200\n",
            "77/77 [==============================] - 0s 6ms/step - loss: 0.5957 - accuracy: 0.7390 - val_loss: 0.7053 - val_accuracy: 0.6471\n",
            "Epoch 57/200\n",
            "77/77 [==============================] - 0s 6ms/step - loss: 0.5756 - accuracy: 0.7593 - val_loss: 0.7129 - val_accuracy: 0.6529\n",
            "Epoch 58/200\n",
            "77/77 [==============================] - 0s 6ms/step - loss: 0.5686 - accuracy: 0.7574 - val_loss: 0.7323 - val_accuracy: 0.6588\n",
            "Epoch 59/200\n",
            "77/77 [==============================] - 1s 7ms/step - loss: 0.5719 - accuracy: 0.7672 - val_loss: 0.7243 - val_accuracy: 0.6412\n",
            "Epoch 60/200\n",
            "77/77 [==============================] - 1s 7ms/step - loss: 0.5927 - accuracy: 0.7443 - val_loss: 0.7330 - val_accuracy: 0.6118\n",
            "Epoch 61/200\n",
            "77/77 [==============================] - 0s 4ms/step - loss: 0.5662 - accuracy: 0.7633 - val_loss: 0.7394 - val_accuracy: 0.6412\n",
            "Epoch 62/200\n",
            "77/77 [==============================] - 0s 4ms/step - loss: 0.5633 - accuracy: 0.7646 - val_loss: 0.7283 - val_accuracy: 0.6706\n",
            "Epoch 63/200\n",
            "77/77 [==============================] - 0s 4ms/step - loss: 0.5637 - accuracy: 0.7574 - val_loss: 0.7193 - val_accuracy: 0.6706\n",
            "Epoch 64/200\n",
            "77/77 [==============================] - 1s 7ms/step - loss: 0.5629 - accuracy: 0.7685 - val_loss: 0.7157 - val_accuracy: 0.6529\n",
            "Epoch 65/200\n",
            "77/77 [==============================] - 1s 7ms/step - loss: 0.5537 - accuracy: 0.7607 - val_loss: 0.7264 - val_accuracy: 0.6412\n",
            "Epoch 66/200\n",
            "77/77 [==============================] - 0s 4ms/step - loss: 0.5581 - accuracy: 0.7613 - val_loss: 0.7186 - val_accuracy: 0.6353\n",
            "Epoch 67/200\n",
            "77/77 [==============================] - 0s 4ms/step - loss: 0.5509 - accuracy: 0.7567 - val_loss: 0.7259 - val_accuracy: 0.6412\n",
            "Epoch 68/200\n",
            "77/77 [==============================] - 0s 5ms/step - loss: 0.5280 - accuracy: 0.7757 - val_loss: 0.7357 - val_accuracy: 0.6529\n",
            "Epoch 69/200\n",
            "77/77 [==============================] - 0s 6ms/step - loss: 0.5159 - accuracy: 0.7757 - val_loss: 0.7386 - val_accuracy: 0.6529\n",
            "Epoch 70/200\n",
            "77/77 [==============================] - 0s 6ms/step - loss: 0.5530 - accuracy: 0.7613 - val_loss: 0.7581 - val_accuracy: 0.6353\n",
            "Epoch 71/200\n",
            "77/77 [==============================] - 0s 4ms/step - loss: 0.5437 - accuracy: 0.7666 - val_loss: 0.7554 - val_accuracy: 0.6412\n",
            "Epoch 72/200\n",
            "77/77 [==============================] - 0s 4ms/step - loss: 0.5537 - accuracy: 0.7757 - val_loss: 0.7480 - val_accuracy: 0.6294\n",
            "Epoch 73/200\n",
            "77/77 [==============================] - 0s 5ms/step - loss: 0.5381 - accuracy: 0.7777 - val_loss: 0.7364 - val_accuracy: 0.6588\n",
            "Epoch 74/200\n",
            "77/77 [==============================] - 1s 6ms/step - loss: 0.5531 - accuracy: 0.7567 - val_loss: 0.7816 - val_accuracy: 0.6353\n",
            "Epoch 75/200\n",
            "77/77 [==============================] - 1s 7ms/step - loss: 0.5311 - accuracy: 0.7738 - val_loss: 0.7226 - val_accuracy: 0.6353\n",
            "Epoch 76/200\n",
            "77/77 [==============================] - 0s 6ms/step - loss: 0.5047 - accuracy: 0.7954 - val_loss: 0.7577 - val_accuracy: 0.6294\n",
            "Epoch 77/200\n",
            "77/77 [==============================] - 1s 8ms/step - loss: 0.5128 - accuracy: 0.7862 - val_loss: 0.7693 - val_accuracy: 0.6529\n",
            "Epoch 78/200\n",
            "77/77 [==============================] - 1s 9ms/step - loss: 0.5180 - accuracy: 0.7889 - val_loss: 0.7625 - val_accuracy: 0.6471\n",
            "Epoch 79/200\n",
            "77/77 [==============================] - 1s 9ms/step - loss: 0.5097 - accuracy: 0.7738 - val_loss: 0.7334 - val_accuracy: 0.6235\n",
            "Epoch 80/200\n",
            "77/77 [==============================] - 1s 10ms/step - loss: 0.5231 - accuracy: 0.7810 - val_loss: 0.7429 - val_accuracy: 0.6294\n",
            "Epoch 81/200\n",
            "77/77 [==============================] - 1s 9ms/step - loss: 0.5349 - accuracy: 0.7770 - val_loss: 0.7136 - val_accuracy: 0.6588\n",
            "Epoch 82/200\n",
            "77/77 [==============================] - 1s 10ms/step - loss: 0.5286 - accuracy: 0.7843 - val_loss: 0.7468 - val_accuracy: 0.6235\n",
            "Epoch 83/200\n",
            "77/77 [==============================] - 1s 10ms/step - loss: 0.5166 - accuracy: 0.7869 - val_loss: 0.7312 - val_accuracy: 0.6412\n",
            "Epoch 84/200\n",
            "77/77 [==============================] - 1s 8ms/step - loss: 0.5169 - accuracy: 0.7836 - val_loss: 0.7397 - val_accuracy: 0.6294\n",
            "Epoch 85/200\n",
            "77/77 [==============================] - 0s 5ms/step - loss: 0.4986 - accuracy: 0.7954 - val_loss: 0.7488 - val_accuracy: 0.6471\n",
            "Epoch 86/200\n",
            "77/77 [==============================] - 0s 5ms/step - loss: 0.5011 - accuracy: 0.7974 - val_loss: 0.7587 - val_accuracy: 0.6412\n",
            "Epoch 87/200\n",
            "77/77 [==============================] - 0s 5ms/step - loss: 0.4920 - accuracy: 0.7915 - val_loss: 0.7646 - val_accuracy: 0.6235\n",
            "Epoch 88/200\n",
            "77/77 [==============================] - 1s 7ms/step - loss: 0.4981 - accuracy: 0.7830 - val_loss: 0.7760 - val_accuracy: 0.6294\n",
            "Epoch 89/200\n",
            "77/77 [==============================] - 1s 7ms/step - loss: 0.5129 - accuracy: 0.7856 - val_loss: 0.7465 - val_accuracy: 0.6588\n",
            "Epoch 90/200\n",
            "77/77 [==============================] - 1s 7ms/step - loss: 0.5030 - accuracy: 0.7856 - val_loss: 0.7313 - val_accuracy: 0.6471\n",
            "Epoch 91/200\n",
            "77/77 [==============================] - 0s 6ms/step - loss: 0.5075 - accuracy: 0.7849 - val_loss: 0.7394 - val_accuracy: 0.6118\n",
            "Epoch 92/200\n",
            "77/77 [==============================] - 0s 6ms/step - loss: 0.5008 - accuracy: 0.7948 - val_loss: 0.7465 - val_accuracy: 0.6412\n",
            "Epoch 93/200\n",
            "77/77 [==============================] - 0s 6ms/step - loss: 0.4983 - accuracy: 0.8020 - val_loss: 0.7496 - val_accuracy: 0.6471\n",
            "Epoch 94/200\n",
            "77/77 [==============================] - 0s 4ms/step - loss: 0.5022 - accuracy: 0.7993 - val_loss: 0.7424 - val_accuracy: 0.6471\n",
            "Epoch 95/200\n",
            "77/77 [==============================] - 0s 4ms/step - loss: 0.5159 - accuracy: 0.7882 - val_loss: 0.7604 - val_accuracy: 0.6176\n",
            "Epoch 96/200\n",
            "77/77 [==============================] - 0s 4ms/step - loss: 0.4728 - accuracy: 0.8052 - val_loss: 0.7998 - val_accuracy: 0.6176\n",
            "Epoch 97/200\n",
            "77/77 [==============================] - 1s 7ms/step - loss: 0.5278 - accuracy: 0.7875 - val_loss: 0.7700 - val_accuracy: 0.6412\n",
            "Epoch 98/200\n",
            "77/77 [==============================] - 0s 6ms/step - loss: 0.5187 - accuracy: 0.7843 - val_loss: 0.7247 - val_accuracy: 0.6529\n",
            "Epoch 99/200\n",
            "77/77 [==============================] - 0s 6ms/step - loss: 0.5207 - accuracy: 0.7816 - val_loss: 0.7671 - val_accuracy: 0.6353\n",
            "Epoch 100/200\n",
            "77/77 [==============================] - 1s 7ms/step - loss: 0.5111 - accuracy: 0.7875 - val_loss: 0.7492 - val_accuracy: 0.6471\n",
            "Epoch 101/200\n",
            "77/77 [==============================] - 0s 6ms/step - loss: 0.4838 - accuracy: 0.7980 - val_loss: 0.7666 - val_accuracy: 0.6471\n",
            "Epoch 102/200\n",
            "77/77 [==============================] - 1s 7ms/step - loss: 0.4625 - accuracy: 0.7954 - val_loss: 0.7546 - val_accuracy: 0.6412\n",
            "Epoch 103/200\n",
            "77/77 [==============================] - 0s 6ms/step - loss: 0.4750 - accuracy: 0.8052 - val_loss: 0.8131 - val_accuracy: 0.6353\n",
            "Epoch 104/200\n",
            "77/77 [==============================] - 0s 6ms/step - loss: 0.4510 - accuracy: 0.8118 - val_loss: 0.7678 - val_accuracy: 0.6471\n",
            "Epoch 105/200\n",
            "77/77 [==============================] - 1s 6ms/step - loss: 0.5034 - accuracy: 0.7908 - val_loss: 0.7831 - val_accuracy: 0.6529\n",
            "Epoch 106/200\n",
            "77/77 [==============================] - 1s 9ms/step - loss: 0.4686 - accuracy: 0.8072 - val_loss: 0.7618 - val_accuracy: 0.6529\n",
            "Epoch 107/200\n",
            "77/77 [==============================] - 1s 10ms/step - loss: 0.4721 - accuracy: 0.8059 - val_loss: 0.7757 - val_accuracy: 0.6294\n",
            "Epoch 108/200\n",
            "77/77 [==============================] - 1s 10ms/step - loss: 0.4554 - accuracy: 0.8105 - val_loss: 0.7790 - val_accuracy: 0.6353\n",
            "Epoch 109/200\n",
            "77/77 [==============================] - 1s 9ms/step - loss: 0.4713 - accuracy: 0.8098 - val_loss: 0.8111 - val_accuracy: 0.6353\n",
            "Epoch 110/200\n",
            "77/77 [==============================] - 1s 9ms/step - loss: 0.4866 - accuracy: 0.7954 - val_loss: 0.7723 - val_accuracy: 0.6471\n",
            "Epoch 111/200\n",
            "77/77 [==============================] - 1s 9ms/step - loss: 0.4707 - accuracy: 0.8079 - val_loss: 0.8258 - val_accuracy: 0.6118\n",
            "Epoch 112/200\n",
            "77/77 [==============================] - 1s 9ms/step - loss: 0.4832 - accuracy: 0.8013 - val_loss: 0.7920 - val_accuracy: 0.6529\n",
            "Epoch 113/200\n",
            "77/77 [==============================] - 1s 7ms/step - loss: 0.4920 - accuracy: 0.8039 - val_loss: 0.7666 - val_accuracy: 0.6294\n",
            "Epoch 114/200\n",
            "77/77 [==============================] - 0s 6ms/step - loss: 0.5100 - accuracy: 0.7961 - val_loss: 0.7727 - val_accuracy: 0.6353\n",
            "Epoch 115/200\n",
            "77/77 [==============================] - 1s 7ms/step - loss: 0.4896 - accuracy: 0.8013 - val_loss: 0.7813 - val_accuracy: 0.6353\n",
            "Epoch 116/200\n",
            "77/77 [==============================] - 0s 5ms/step - loss: 0.4799 - accuracy: 0.8039 - val_loss: 0.7637 - val_accuracy: 0.6647\n",
            "Epoch 117/200\n",
            "77/77 [==============================] - 0s 4ms/step - loss: 0.4353 - accuracy: 0.8203 - val_loss: 0.7821 - val_accuracy: 0.6353\n",
            "Epoch 118/200\n",
            "77/77 [==============================] - 0s 4ms/step - loss: 0.4992 - accuracy: 0.7902 - val_loss: 0.7715 - val_accuracy: 0.6412\n",
            "Epoch 119/200\n",
            "77/77 [==============================] - 1s 7ms/step - loss: 0.4781 - accuracy: 0.8026 - val_loss: 0.8192 - val_accuracy: 0.6235\n",
            "Epoch 120/200\n",
            "77/77 [==============================] - 1s 7ms/step - loss: 0.4685 - accuracy: 0.7954 - val_loss: 0.7907 - val_accuracy: 0.6353\n",
            "Epoch 121/200\n",
            "77/77 [==============================] - 0s 4ms/step - loss: 0.4684 - accuracy: 0.8033 - val_loss: 0.7663 - val_accuracy: 0.6529\n",
            "Epoch 122/200\n",
            "77/77 [==============================] - 0s 5ms/step - loss: 0.4741 - accuracy: 0.8066 - val_loss: 0.8167 - val_accuracy: 0.6235\n",
            "Epoch 123/200\n",
            "77/77 [==============================] - 0s 5ms/step - loss: 0.4485 - accuracy: 0.8131 - val_loss: 0.8091 - val_accuracy: 0.6412\n",
            "Epoch 124/200\n",
            "77/77 [==============================] - 1s 7ms/step - loss: 0.4951 - accuracy: 0.7967 - val_loss: 0.8126 - val_accuracy: 0.6353\n",
            "Epoch 125/200\n",
            "77/77 [==============================] - 1s 6ms/step - loss: 0.4585 - accuracy: 0.8184 - val_loss: 0.7950 - val_accuracy: 0.6588\n",
            "Epoch 126/200\n",
            "77/77 [==============================] - 1s 7ms/step - loss: 0.4644 - accuracy: 0.8013 - val_loss: 0.7920 - val_accuracy: 0.6471\n",
            "Epoch 127/200\n",
            "77/77 [==============================] - 0s 6ms/step - loss: 0.4528 - accuracy: 0.8151 - val_loss: 0.7726 - val_accuracy: 0.6529\n",
            "Epoch 128/200\n",
            "77/77 [==============================] - 0s 4ms/step - loss: 0.4879 - accuracy: 0.7974 - val_loss: 0.7585 - val_accuracy: 0.6529\n",
            "Epoch 129/200\n",
            "77/77 [==============================] - 0s 4ms/step - loss: 0.4632 - accuracy: 0.8144 - val_loss: 0.7634 - val_accuracy: 0.6588\n",
            "Epoch 130/200\n",
            "77/77 [==============================] - 0s 6ms/step - loss: 0.4622 - accuracy: 0.8164 - val_loss: 0.7899 - val_accuracy: 0.6529\n",
            "Epoch 131/200\n",
            "77/77 [==============================] - 1s 9ms/step - loss: 0.4489 - accuracy: 0.8151 - val_loss: 0.8115 - val_accuracy: 0.6353\n",
            "Epoch 132/200\n",
            "77/77 [==============================] - 0s 5ms/step - loss: 0.4477 - accuracy: 0.8105 - val_loss: 0.8158 - val_accuracy: 0.6353\n",
            "Epoch 133/200\n",
            "77/77 [==============================] - 0s 4ms/step - loss: 0.4406 - accuracy: 0.8144 - val_loss: 0.7926 - val_accuracy: 0.6647\n",
            "Epoch 134/200\n",
            "77/77 [==============================] - 0s 4ms/step - loss: 0.4650 - accuracy: 0.8020 - val_loss: 0.8014 - val_accuracy: 0.6294\n",
            "Epoch 135/200\n",
            "77/77 [==============================] - 1s 9ms/step - loss: 0.4513 - accuracy: 0.8223 - val_loss: 0.8197 - val_accuracy: 0.6353\n",
            "Epoch 136/200\n",
            "77/77 [==============================] - 1s 9ms/step - loss: 0.4245 - accuracy: 0.8341 - val_loss: 0.8250 - val_accuracy: 0.6588\n",
            "Epoch 137/200\n",
            "77/77 [==============================] - 1s 9ms/step - loss: 0.4506 - accuracy: 0.8269 - val_loss: 0.8306 - val_accuracy: 0.6353\n",
            "Epoch 138/200\n",
            "77/77 [==============================] - 1s 9ms/step - loss: 0.4497 - accuracy: 0.8197 - val_loss: 0.8204 - val_accuracy: 0.6000\n",
            "Epoch 139/200\n",
            "77/77 [==============================] - 1s 10ms/step - loss: 0.4416 - accuracy: 0.8243 - val_loss: 0.7901 - val_accuracy: 0.6529\n",
            "Epoch 140/200\n",
            "77/77 [==============================] - 1s 9ms/step - loss: 0.4565 - accuracy: 0.8039 - val_loss: 0.7948 - val_accuracy: 0.6294\n",
            "Epoch 141/200\n",
            "77/77 [==============================] - 1s 10ms/step - loss: 0.4157 - accuracy: 0.8348 - val_loss: 0.8118 - val_accuracy: 0.6529\n",
            "Epoch 142/200\n",
            "77/77 [==============================] - 1s 7ms/step - loss: 0.4215 - accuracy: 0.8243 - val_loss: 0.8170 - val_accuracy: 0.6176\n",
            "Epoch 143/200\n",
            "77/77 [==============================] - 0s 6ms/step - loss: 0.4106 - accuracy: 0.8230 - val_loss: 0.8422 - val_accuracy: 0.6235\n",
            "Epoch 144/200\n",
            "77/77 [==============================] - 1s 7ms/step - loss: 0.4356 - accuracy: 0.8348 - val_loss: 0.8451 - val_accuracy: 0.6235\n",
            "Epoch 145/200\n",
            "77/77 [==============================] - 1s 7ms/step - loss: 0.4114 - accuracy: 0.8334 - val_loss: 0.8548 - val_accuracy: 0.6118\n",
            "Epoch 146/200\n",
            "77/77 [==============================] - 1s 7ms/step - loss: 0.4321 - accuracy: 0.8203 - val_loss: 0.8523 - val_accuracy: 0.6000\n",
            "Epoch 147/200\n",
            "77/77 [==============================] - 1s 7ms/step - loss: 0.4541 - accuracy: 0.8144 - val_loss: 0.8831 - val_accuracy: 0.6000\n",
            "Epoch 148/200\n",
            "77/77 [==============================] - 0s 4ms/step - loss: 0.4394 - accuracy: 0.8236 - val_loss: 0.8631 - val_accuracy: 0.6059\n",
            "Epoch 149/200\n",
            "77/77 [==============================] - 0s 5ms/step - loss: 0.4632 - accuracy: 0.8092 - val_loss: 0.8070 - val_accuracy: 0.6353\n",
            "Epoch 150/200\n",
            "77/77 [==============================] - 0s 6ms/step - loss: 0.4233 - accuracy: 0.8354 - val_loss: 0.8168 - val_accuracy: 0.6353\n",
            "Epoch 151/200\n",
            "77/77 [==============================] - 0s 6ms/step - loss: 0.4514 - accuracy: 0.8072 - val_loss: 0.8022 - val_accuracy: 0.6353\n",
            "Epoch 152/200\n",
            "77/77 [==============================] - 0s 6ms/step - loss: 0.4285 - accuracy: 0.8328 - val_loss: 0.8181 - val_accuracy: 0.6294\n",
            "Epoch 153/200\n",
            "77/77 [==============================] - 0s 4ms/step - loss: 0.4316 - accuracy: 0.8256 - val_loss: 0.8730 - val_accuracy: 0.6059\n",
            "Epoch 154/200\n",
            "77/77 [==============================] - 0s 4ms/step - loss: 0.4483 - accuracy: 0.8262 - val_loss: 0.8594 - val_accuracy: 0.6235\n",
            "Epoch 155/200\n",
            "77/77 [==============================] - 0s 6ms/step - loss: 0.4318 - accuracy: 0.8256 - val_loss: 0.8458 - val_accuracy: 0.6118\n",
            "Epoch 156/200\n",
            "77/77 [==============================] - 0s 6ms/step - loss: 0.4315 - accuracy: 0.8256 - val_loss: 0.8612 - val_accuracy: 0.6176\n",
            "Epoch 157/200\n",
            "77/77 [==============================] - 1s 7ms/step - loss: 0.4286 - accuracy: 0.8210 - val_loss: 0.8783 - val_accuracy: 0.6176\n",
            "Epoch 158/200\n",
            "77/77 [==============================] - 0s 6ms/step - loss: 0.3999 - accuracy: 0.8459 - val_loss: 0.8576 - val_accuracy: 0.6176\n",
            "Epoch 159/200\n",
            "77/77 [==============================] - 1s 7ms/step - loss: 0.4217 - accuracy: 0.8439 - val_loss: 0.8529 - val_accuracy: 0.6647\n",
            "Epoch 160/200\n",
            "77/77 [==============================] - 1s 7ms/step - loss: 0.4168 - accuracy: 0.8308 - val_loss: 0.8907 - val_accuracy: 0.6294\n",
            "Epoch 161/200\n",
            "77/77 [==============================] - 0s 6ms/step - loss: 0.4442 - accuracy: 0.8164 - val_loss: 0.8255 - val_accuracy: 0.6294\n",
            "Epoch 162/200\n",
            "77/77 [==============================] - 1s 7ms/step - loss: 0.4193 - accuracy: 0.8354 - val_loss: 0.8275 - val_accuracy: 0.6235\n",
            "Epoch 163/200\n",
            "77/77 [==============================] - 1s 9ms/step - loss: 0.4504 - accuracy: 0.8125 - val_loss: 0.7871 - val_accuracy: 0.6353\n",
            "Epoch 164/200\n",
            "77/77 [==============================] - 1s 11ms/step - loss: 0.4182 - accuracy: 0.8289 - val_loss: 0.8116 - val_accuracy: 0.6412\n",
            "Epoch 165/200\n",
            "77/77 [==============================] - 1s 9ms/step - loss: 0.4103 - accuracy: 0.8472 - val_loss: 0.7747 - val_accuracy: 0.6471\n",
            "Epoch 166/200\n",
            "77/77 [==============================] - 1s 9ms/step - loss: 0.4095 - accuracy: 0.8295 - val_loss: 0.7803 - val_accuracy: 0.6588\n",
            "Epoch 167/200\n",
            "77/77 [==============================] - 2s 22ms/step - loss: 0.4006 - accuracy: 0.8269 - val_loss: 0.8237 - val_accuracy: 0.6471\n",
            "Epoch 168/200\n",
            "77/77 [==============================] - 1s 11ms/step - loss: 0.4403 - accuracy: 0.8170 - val_loss: 0.8535 - val_accuracy: 0.6294\n",
            "Epoch 169/200\n",
            "77/77 [==============================] - 1s 6ms/step - loss: 0.4074 - accuracy: 0.8413 - val_loss: 0.8711 - val_accuracy: 0.6059\n",
            "Epoch 170/200\n",
            "77/77 [==============================] - 0s 6ms/step - loss: 0.3960 - accuracy: 0.8321 - val_loss: 0.8824 - val_accuracy: 0.6294\n",
            "Epoch 171/200\n",
            "77/77 [==============================] - 1s 7ms/step - loss: 0.4064 - accuracy: 0.8348 - val_loss: 0.8546 - val_accuracy: 0.6294\n",
            "Epoch 172/200\n",
            "77/77 [==============================] - 0s 6ms/step - loss: 0.4072 - accuracy: 0.8302 - val_loss: 0.8938 - val_accuracy: 0.6471\n",
            "Epoch 173/200\n",
            "77/77 [==============================] - 1s 6ms/step - loss: 0.4267 - accuracy: 0.8334 - val_loss: 0.8545 - val_accuracy: 0.6471\n",
            "Epoch 174/200\n",
            "77/77 [==============================] - 1s 7ms/step - loss: 0.4422 - accuracy: 0.8210 - val_loss: 0.8545 - val_accuracy: 0.6353\n",
            "Epoch 175/200\n",
            "77/77 [==============================] - 1s 7ms/step - loss: 0.4538 - accuracy: 0.8138 - val_loss: 0.8405 - val_accuracy: 0.6353\n",
            "Epoch 176/200\n",
            "77/77 [==============================] - 0s 6ms/step - loss: 0.4261 - accuracy: 0.8144 - val_loss: 0.8171 - val_accuracy: 0.6412\n",
            "Epoch 177/200\n",
            "77/77 [==============================] - 1s 7ms/step - loss: 0.4011 - accuracy: 0.8387 - val_loss: 0.8094 - val_accuracy: 0.6471\n",
            "Epoch 178/200\n",
            "77/77 [==============================] - 0s 6ms/step - loss: 0.4376 - accuracy: 0.8190 - val_loss: 0.7995 - val_accuracy: 0.6353\n",
            "Epoch 179/200\n",
            "77/77 [==============================] - 0s 6ms/step - loss: 0.4190 - accuracy: 0.8334 - val_loss: 0.8024 - val_accuracy: 0.6529\n",
            "Epoch 180/200\n",
            "77/77 [==============================] - 1s 7ms/step - loss: 0.4094 - accuracy: 0.8439 - val_loss: 0.8361 - val_accuracy: 0.6294\n",
            "Epoch 181/200\n",
            "77/77 [==============================] - 1s 7ms/step - loss: 0.4223 - accuracy: 0.8315 - val_loss: 0.8275 - val_accuracy: 0.6412\n",
            "Epoch 182/200\n",
            "77/77 [==============================] - 1s 7ms/step - loss: 0.3919 - accuracy: 0.8439 - val_loss: 0.8466 - val_accuracy: 0.6412\n",
            "Epoch 183/200\n",
            "77/77 [==============================] - 1s 8ms/step - loss: 0.3972 - accuracy: 0.8452 - val_loss: 0.7903 - val_accuracy: 0.6529\n",
            "Epoch 184/200\n",
            "77/77 [==============================] - 1s 6ms/step - loss: 0.3919 - accuracy: 0.8472 - val_loss: 0.8379 - val_accuracy: 0.6529\n",
            "Epoch 185/200\n",
            "77/77 [==============================] - 1s 7ms/step - loss: 0.4003 - accuracy: 0.8387 - val_loss: 0.8556 - val_accuracy: 0.6118\n",
            "Epoch 186/200\n",
            "77/77 [==============================] - 0s 6ms/step - loss: 0.4011 - accuracy: 0.8302 - val_loss: 0.8671 - val_accuracy: 0.6118\n",
            "Epoch 187/200\n",
            "77/77 [==============================] - 1s 7ms/step - loss: 0.4520 - accuracy: 0.8315 - val_loss: 0.8678 - val_accuracy: 0.6294\n",
            "Epoch 188/200\n",
            "77/77 [==============================] - 1s 9ms/step - loss: 0.4083 - accuracy: 0.8262 - val_loss: 0.8530 - val_accuracy: 0.6059\n",
            "Epoch 189/200\n",
            "77/77 [==============================] - 1s 9ms/step - loss: 0.4190 - accuracy: 0.8249 - val_loss: 0.9179 - val_accuracy: 0.6118\n",
            "Epoch 190/200\n",
            "77/77 [==============================] - 1s 9ms/step - loss: 0.3944 - accuracy: 0.8380 - val_loss: 0.9100 - val_accuracy: 0.6294\n",
            "Epoch 191/200\n",
            "77/77 [==============================] - 1s 9ms/step - loss: 0.4318 - accuracy: 0.8341 - val_loss: 0.8461 - val_accuracy: 0.6529\n",
            "Epoch 192/200\n",
            "77/77 [==============================] - 1s 10ms/step - loss: 0.3729 - accuracy: 0.8433 - val_loss: 0.8633 - val_accuracy: 0.6235\n",
            "Epoch 193/200\n",
            "77/77 [==============================] - 1s 10ms/step - loss: 0.3933 - accuracy: 0.8367 - val_loss: 0.8705 - val_accuracy: 0.6471\n",
            "Epoch 194/200\n",
            "77/77 [==============================] - 1s 9ms/step - loss: 0.4235 - accuracy: 0.8308 - val_loss: 0.8628 - val_accuracy: 0.6412\n",
            "Epoch 195/200\n",
            "77/77 [==============================] - 1s 7ms/step - loss: 0.3887 - accuracy: 0.8505 - val_loss: 0.8555 - val_accuracy: 0.6176\n",
            "Epoch 196/200\n",
            "77/77 [==============================] - 1s 7ms/step - loss: 0.3819 - accuracy: 0.8400 - val_loss: 0.8615 - val_accuracy: 0.6353\n",
            "Epoch 197/200\n",
            "77/77 [==============================] - 0s 6ms/step - loss: 0.3928 - accuracy: 0.8446 - val_loss: 0.8921 - val_accuracy: 0.6647\n",
            "Epoch 198/200\n",
            "77/77 [==============================] - 0s 4ms/step - loss: 0.3896 - accuracy: 0.8446 - val_loss: 0.8385 - val_accuracy: 0.6294\n",
            "Epoch 199/200\n",
            "77/77 [==============================] - 0s 4ms/step - loss: 0.4124 - accuracy: 0.8354 - val_loss: 0.8877 - val_accuracy: 0.6471\n",
            "Epoch 200/200\n",
            "77/77 [==============================] - 0s 5ms/step - loss: 0.3878 - accuracy: 0.8492 - val_loss: 0.8934 - val_accuracy: 0.6529\n"
          ]
        },
        {
          "output_type": "display_data",
          "data": {
            "text/plain": [
              "<Figure size 1200x500 with 1 Axes>"
            ],
            "image/png": "[encoded data removed]"
          },
          "metadata": {}
        }
      ]
    },
    {
      "cell_type": "code",
      "source": [
        "# Сохранение/восстановление модели и выборок\n",
        "\n",
        "model.save('/content/drive/MyDrive/Phone_calls/V2/model_data/model_audio_mean.h5')\n",
        "with open('/content/drive/MyDrive/Phone_calls/V2/model_data/audio_train_val_mean.pickle', 'wb') as f:\n",
        "    pickle.dump((x_train, y_train, x_val, y_val, x_scaler), f)"
      ],
      "metadata": {
        "colab": {
          "base_uri": "https://localhost:8080/"
        },
        "id": "yQ3c3IDDXlV5",
        "outputId": "7f6ee228-ed96-41eb-9b71-8fe5266fcf0c"
      },
      "execution_count": 63,
      "outputs": [
        {
          "output_type": "stream",
          "name": "stderr",
          "text": [
            "/usr/local/lib/python3.10/dist-packages/keras/src/engine/training.py:3079: UserWarning: You are saving your model as an HDF5 file via `model.save()`. This file format is considered legacy. We recommend using instead the native Keras format, e.g. `model.save('my_model.keras')`.\n",
            "  saving_api.save_model(\n"
          ]
        }
      ]
    }
  ]
}