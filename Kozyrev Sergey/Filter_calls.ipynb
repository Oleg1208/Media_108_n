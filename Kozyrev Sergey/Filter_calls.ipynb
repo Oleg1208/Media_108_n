{
  "nbformat": 4,
  "nbformat_minor": 0,
  "metadata": {
    "colab": {
      "provenance": []
    },
    "kernelspec": {
      "name": "python3",
      "display_name": "Python 3"
    },
    "language_info": {
      "name": "python"
    }
  },
  "cells": [
    {
      "cell_type": "code",
      "execution_count": 3,
      "metadata": {
        "id": "d8HawoVRO9ZC"
      },
      "outputs": [],
      "source": [
        "import pandas as pd\n",
        "import zipfile\n",
        "import os\n",
        "import shutil\n",
        "from google.colab import files"
      ]
    },
    {
      "cell_type": "code",
      "source": [
        "folder_path = '/content/Filtered_tags.csv'\n",
        "\n",
        "# Remove the folder and its contents\n",
        "shutil.rmtree(folder_path)"
      ],
      "metadata": {
        "id": "SifUnm_1Zes4",
        "colab": {
          "base_uri": "https://localhost:8080/",
          "height": 364
        },
        "outputId": "02152573-8156-4ec8-89a7-c80a3d0b8b79"
      },
      "execution_count": 33,
      "outputs": [
        {
          "output_type": "error",
          "ename": "NotADirectoryError",
          "evalue": "ignored",
          "traceback": [
            "\u001b[0;31m---------------------------------------------------------------------------\u001b[0m",
            "\u001b[0;31mNotADirectoryError\u001b[0m                        Traceback (most recent call last)",
            "\u001b[0;32m<ipython-input-33-29ca42d4b0f9>\u001b[0m in \u001b[0;36m<cell line: 4>\u001b[0;34m()\u001b[0m\n\u001b[1;32m      2\u001b[0m \u001b[0;34m\u001b[0m\u001b[0m\n\u001b[1;32m      3\u001b[0m \u001b[0;31m# Remove the folder and its contents\u001b[0m\u001b[0;34m\u001b[0m\u001b[0;34m\u001b[0m\u001b[0m\n\u001b[0;32m----> 4\u001b[0;31m \u001b[0mshutil\u001b[0m\u001b[0;34m.\u001b[0m\u001b[0mrmtree\u001b[0m\u001b[0;34m(\u001b[0m\u001b[0mfolder_path\u001b[0m\u001b[0;34m)\u001b[0m\u001b[0;34m\u001b[0m\u001b[0;34m\u001b[0m\u001b[0m\n\u001b[0m",
            "\u001b[0;32m/usr/lib/python3.10/shutil.py\u001b[0m in \u001b[0;36mrmtree\u001b[0;34m(path, ignore_errors, onerror)\u001b[0m\n\u001b[1;32m    723\u001b[0m         \u001b[0;32mtry\u001b[0m\u001b[0;34m:\u001b[0m\u001b[0;34m\u001b[0m\u001b[0;34m\u001b[0m\u001b[0m\n\u001b[1;32m    724\u001b[0m             \u001b[0;32mif\u001b[0m \u001b[0mos\u001b[0m\u001b[0;34m.\u001b[0m\u001b[0mpath\u001b[0m\u001b[0;34m.\u001b[0m\u001b[0msamestat\u001b[0m\u001b[0;34m(\u001b[0m\u001b[0morig_st\u001b[0m\u001b[0;34m,\u001b[0m \u001b[0mos\u001b[0m\u001b[0;34m.\u001b[0m\u001b[0mfstat\u001b[0m\u001b[0;34m(\u001b[0m\u001b[0mfd\u001b[0m\u001b[0;34m)\u001b[0m\u001b[0;34m)\u001b[0m\u001b[0;34m:\u001b[0m\u001b[0;34m\u001b[0m\u001b[0;34m\u001b[0m\u001b[0m\n\u001b[0;32m--> 725\u001b[0;31m                 \u001b[0m_rmtree_safe_fd\u001b[0m\u001b[0;34m(\u001b[0m\u001b[0mfd\u001b[0m\u001b[0;34m,\u001b[0m \u001b[0mpath\u001b[0m\u001b[0;34m,\u001b[0m \u001b[0monerror\u001b[0m\u001b[0;34m)\u001b[0m\u001b[0;34m\u001b[0m\u001b[0;34m\u001b[0m\u001b[0m\n\u001b[0m\u001b[1;32m    726\u001b[0m                 \u001b[0;32mtry\u001b[0m\u001b[0;34m:\u001b[0m\u001b[0;34m\u001b[0m\u001b[0;34m\u001b[0m\u001b[0m\n\u001b[1;32m    727\u001b[0m                     \u001b[0mos\u001b[0m\u001b[0;34m.\u001b[0m\u001b[0mclose\u001b[0m\u001b[0;34m(\u001b[0m\u001b[0mfd\u001b[0m\u001b[0;34m)\u001b[0m\u001b[0;34m\u001b[0m\u001b[0;34m\u001b[0m\u001b[0m\n",
            "\u001b[0;32m/usr/lib/python3.10/shutil.py\u001b[0m in \u001b[0;36m_rmtree_safe_fd\u001b[0;34m(topfd, path, onerror)\u001b[0m\n\u001b[1;32m    631\u001b[0m     \u001b[0;32mexcept\u001b[0m \u001b[0mOSError\u001b[0m \u001b[0;32mas\u001b[0m \u001b[0merr\u001b[0m\u001b[0;34m:\u001b[0m\u001b[0;34m\u001b[0m\u001b[0;34m\u001b[0m\u001b[0m\n\u001b[1;32m    632\u001b[0m         \u001b[0merr\u001b[0m\u001b[0;34m.\u001b[0m\u001b[0mfilename\u001b[0m \u001b[0;34m=\u001b[0m \u001b[0mpath\u001b[0m\u001b[0;34m\u001b[0m\u001b[0;34m\u001b[0m\u001b[0m\n\u001b[0;32m--> 633\u001b[0;31m         \u001b[0monerror\u001b[0m\u001b[0;34m(\u001b[0m\u001b[0mos\u001b[0m\u001b[0;34m.\u001b[0m\u001b[0mscandir\u001b[0m\u001b[0;34m,\u001b[0m \u001b[0mpath\u001b[0m\u001b[0;34m,\u001b[0m \u001b[0msys\u001b[0m\u001b[0;34m.\u001b[0m\u001b[0mexc_info\u001b[0m\u001b[0;34m(\u001b[0m\u001b[0;34m)\u001b[0m\u001b[0;34m)\u001b[0m\u001b[0;34m\u001b[0m\u001b[0;34m\u001b[0m\u001b[0m\n\u001b[0m\u001b[1;32m    634\u001b[0m         \u001b[0;32mreturn\u001b[0m\u001b[0;34m\u001b[0m\u001b[0;34m\u001b[0m\u001b[0m\n\u001b[1;32m    635\u001b[0m     \u001b[0;32mfor\u001b[0m \u001b[0mentry\u001b[0m \u001b[0;32min\u001b[0m \u001b[0mentries\u001b[0m\u001b[0;34m:\u001b[0m\u001b[0;34m\u001b[0m\u001b[0;34m\u001b[0m\u001b[0m\n",
            "\u001b[0;32m/usr/lib/python3.10/shutil.py\u001b[0m in \u001b[0;36m_rmtree_safe_fd\u001b[0;34m(topfd, path, onerror)\u001b[0m\n\u001b[1;32m    627\u001b[0m \u001b[0;32mdef\u001b[0m \u001b[0m_rmtree_safe_fd\u001b[0m\u001b[0;34m(\u001b[0m\u001b[0mtopfd\u001b[0m\u001b[0;34m,\u001b[0m \u001b[0mpath\u001b[0m\u001b[0;34m,\u001b[0m \u001b[0monerror\u001b[0m\u001b[0;34m)\u001b[0m\u001b[0;34m:\u001b[0m\u001b[0;34m\u001b[0m\u001b[0;34m\u001b[0m\u001b[0m\n\u001b[1;32m    628\u001b[0m     \u001b[0;32mtry\u001b[0m\u001b[0;34m:\u001b[0m\u001b[0;34m\u001b[0m\u001b[0;34m\u001b[0m\u001b[0m\n\u001b[0;32m--> 629\u001b[0;31m         \u001b[0;32mwith\u001b[0m \u001b[0mos\u001b[0m\u001b[0;34m.\u001b[0m\u001b[0mscandir\u001b[0m\u001b[0;34m(\u001b[0m\u001b[0mtopfd\u001b[0m\u001b[0;34m)\u001b[0m \u001b[0;32mas\u001b[0m \u001b[0mscandir_it\u001b[0m\u001b[0;34m:\u001b[0m\u001b[0;34m\u001b[0m\u001b[0;34m\u001b[0m\u001b[0m\n\u001b[0m\u001b[1;32m    630\u001b[0m             \u001b[0mentries\u001b[0m \u001b[0;34m=\u001b[0m \u001b[0mlist\u001b[0m\u001b[0;34m(\u001b[0m\u001b[0mscandir_it\u001b[0m\u001b[0;34m)\u001b[0m\u001b[0;34m\u001b[0m\u001b[0;34m\u001b[0m\u001b[0m\n\u001b[1;32m    631\u001b[0m     \u001b[0;32mexcept\u001b[0m \u001b[0mOSError\u001b[0m \u001b[0;32mas\u001b[0m \u001b[0merr\u001b[0m\u001b[0;34m:\u001b[0m\u001b[0;34m\u001b[0m\u001b[0;34m\u001b[0m\u001b[0m\n",
            "\u001b[0;31mNotADirectoryError\u001b[0m: [Errno 20] Not a directory: '/content/Filtered_tags.csv'"
          ]
        }
      ]
    },
    {
      "cell_type": "code",
      "source": [
        "df = pd.read_csv('Headliner.csv', delimiter=';', on_bad_lines='warn')\n",
        "# print(df.columns)\n",
        "pattern = r\"Первичный целевой\"\n",
        "filtered_df = df[df[\"Теги\"].str.contains(pattern, na=False, regex=True)]\n",
        "result_df = filtered_df[[\"Теги\", \"Идентификатор сессии звонка\"]]\n",
        "# print(result_df)\n",
        "result_df.to_csv('Filtered_tags.csv', index=False)"
      ],
      "metadata": {
        "colab": {
          "base_uri": "https://localhost:8080/"
        },
        "id": "U-dIsBVCYmfv",
        "outputId": "e36a97bc-1c08-4910-cd70-f1f4696628aa"
      },
      "execution_count": 4,
      "outputs": [
        {
          "output_type": "stream",
          "name": "stderr",
          "text": [
            "Skipping line 83: expected 72 fields, saw 76\n",
            "Skipping line 432: expected 72 fields, saw 76\n",
            "Skipping line 618: expected 72 fields, saw 76\n",
            "Skipping line 1766: expected 72 fields, saw 76\n",
            "Skipping line 1779: expected 72 fields, saw 76\n",
            "Skipping line 2106: expected 72 fields, saw 76\n",
            "Skipping line 4601: expected 72 fields, saw 76\n",
            "\n"
          ]
        }
      ]
    },
    {
      "cell_type": "code",
      "source": [
        "df = pd.read_csv('Filtered_tags.csv')\n",
        "identifiers = df['Идентификатор сессии звонка'].tolist()"
      ],
      "metadata": {
        "id": "tZ4nMUMnRHmP"
      },
      "execution_count": 5,
      "outputs": []
    },
    {
      "cell_type": "code",
      "source": [
        "zip_path = '/content/Headliner_calls.zip'\n",
        "# Directory where you want to extract matching files\n",
        "extract_dir = '/content/filtered_files'\n",
        "\n",
        "with zipfile.ZipFile(zip_path, 'r') as zip_ref:\n",
        "    matched_files = 0\n",
        "    missing_identifiers = []\n",
        "\n",
        "    # Iterate over identifiers in the CSV\n",
        "    for identifier in identifiers:\n",
        "        matched = False\n",
        "\n",
        "        # Check each file in the zip archive\n",
        "        for file in zip_ref.namelist():\n",
        "            if str(identifier) in file:\n",
        "                zip_ref.extract(file, extract_dir)\n",
        "\n",
        "                # Rename the file to identifier value (assuming it's in mp3 format)\n",
        "                os.rename(os.path.join(extract_dir, file), os.path.join(extract_dir, f\"{identifier}.mp3\"))\n",
        "                matched = True\n",
        "                matched_files += 1\n",
        "                break\n",
        "\n",
        "        if not matched:\n",
        "            missing_identifiers.append(identifier)\n",
        "\n",
        "    print(f\"Total Matched Files: {matched_files}\")\n",
        "    print(f\"Missing Identifiers: total: {len(missing_identifiers)} and the list: {missing_identifiers}\")"
      ],
      "metadata": {
        "colab": {
          "base_uri": "https://localhost:8080/"
        },
        "id": "KmsbYAbeWglS",
        "outputId": "639accae-012b-4c76-9338-2ed87affe69c"
      },
      "execution_count": 9,
      "outputs": [
        {
          "output_type": "stream",
          "name": "stdout",
          "text": [
            "Total Matched Files: 356\n",
            "Missing Identifiers: total: 148 and the list: [3128534127, 3123899209, 3122656508, 3127117827, 3124295855, 3124981257, 3124410142, 3119270483, 3120056589, 3119011293, 3119507279, 3122504792, 3122027642, 3116128503, 3116325324, 3117007811, 3120035447, 3119852637, 3115808289, 3114980033, 3118744457, 3118031867, 3114011624, 3114436336, 3117580207, 3117965460, 3113515214, 3114045371, 3117615245, 3117489335, 3117235160, 3117057270, 3117018920, 3116124102, 3116849275, 3116834270, 3115962350, 3110527658, 3115749850, 3110933921, 3109581348, 3109713886, 3112412047, 3112202027, 3112127367, 3111669152, 3108154094, 3111378522, 3112935000, 3105968758, 3109623882, 3105780268, 3109522677, 3106611851, 3108599932, 3105943736, 3104681344, 3107859572, 3104740261, 3109290985, 3106873937, 3106537572, 3103345731, 3103617597, 3100933461, 3103319767, 3100825671, 3102769217, 3098589499, 3098314653, 3098268928, 3099143396, 3086965285, 3060217531, 3040915946, 3041229062, 3041213582, 3040522012, 3038202044, 3037777609, 3036172435, 3037555591, 3036101240, 3035757305, 3036429037, 3035667873, 3035710737, 3034892631, 3034760909, 3033262903, 3033122377, 3032239428, 3032179414, 3031513712, 3031167653, 3031098438, 3031233497, 3030193175, 3029938844, 3029541209, 3029143375, 2977052001, 2966816232, 2932433554, 2917594382, 2937070836, 2926887215, 2916452042, 2935799768, 2926767697, 2916341434, 2925730427, 2915911198, 2925650275, 2925647999, 2925037919, 2924981067, 2924914539, 2924762951, 2925305221, 2933760444, 2933542180, 2914625954, 2932027080, 2923441417, 2913003510, 2931234504, 2930936440, 2922431153, 2912149282, 2921162939, 2921027501, 2910931186, 2920048183, 2910702698, 2920499337, 2928572940, 2919752151, 2919872301, 2927482800, 2927186744, 2925389268, 2925221404, 2917501601, 2907749402, 2906872102, 2906619590, 2906054630]\n"
          ]
        }
      ]
    },
    {
      "cell_type": "code",
      "source": [
        "# Zip the filtered_files directory\n",
        "shutil.make_archive(\"/content/filtered_files\", 'zip', \"/content/filtered_files\")\n",
        "\n",
        "# Download the zipped file\n",
        "files.download(\"/content/filtered_files.zip\")"
      ],
      "metadata": {
        "colab": {
          "base_uri": "https://localhost:8080/",
          "height": 17
        },
        "id": "8pibPoN5UF1X",
        "outputId": "17d9d5f0-2858-4d8b-d6ed-49c967f36d50"
      },
      "execution_count": null,
      "outputs": [
        {
          "output_type": "display_data",
          "data": {
            "text/plain": [
              "<IPython.core.display.Javascript object>"
            ],
            "application/javascript": [
              "\n",
              "    async function download(id, filename, size) {\n",
              "      if (!google.colab.kernel.accessAllowed) {\n",
              "        return;\n",
              "      }\n",
              "      const div = document.createElement('div');\n",
              "      const label = document.createElement('label');\n",
              "      label.textContent = `Downloading \"${filename}\": `;\n",
              "      div.appendChild(label);\n",
              "      const progress = document.createElement('progress');\n",
              "      progress.max = size;\n",
              "      div.appendChild(progress);\n",
              "      document.body.appendChild(div);\n",
              "\n",
              "      const buffers = [];\n",
              "      let downloaded = 0;\n",
              "\n",
              "      const channel = await google.colab.kernel.comms.open(id);\n",
              "      // Send a message to notify the kernel that we're ready.\n",
              "      channel.send({})\n",
              "\n",
              "      for await (const message of channel.messages) {\n",
              "        // Send a message to notify the kernel that we're ready.\n",
              "        channel.send({})\n",
              "        if (message.buffers) {\n",
              "          for (const buffer of message.buffers) {\n",
              "            buffers.push(buffer);\n",
              "            downloaded += buffer.byteLength;\n",
              "            progress.value = downloaded;\n",
              "          }\n",
              "        }\n",
              "      }\n",
              "      const blob = new Blob(buffers, {type: 'application/binary'});\n",
              "      const a = document.createElement('a');\n",
              "      a.href = window.URL.createObjectURL(blob);\n",
              "      a.download = filename;\n",
              "      div.appendChild(a);\n",
              "      a.click();\n",
              "      div.remove();\n",
              "    }\n",
              "  "
            ]
          },
          "metadata": {}
        },
        {
          "output_type": "display_data",
          "data": {
            "text/plain": [
              "<IPython.core.display.Javascript object>"
            ],
            "application/javascript": [
              "download(\"download_0915f7da-f909-4443-a76d-fbc2345c5c20\", \"filtered_files.zip\", 228559581)"
            ]
          },
          "metadata": {}
        }
      ]
    }
  ]
}